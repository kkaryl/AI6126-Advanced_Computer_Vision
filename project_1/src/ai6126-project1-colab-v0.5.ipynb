{
 "cells": [
  {
   "cell_type": "markdown",
   "metadata": {
    "id": "UVAZt6s-Fu41"
   },
   "source": [
    "# AI6126 ACV Project 1\n"
   ]
  },
  {
   "cell_type": "code",
   "execution_count": 40,
   "metadata": {
    "executionInfo": {
     "elapsed": 1038,
     "status": "ok",
     "timestamp": 1601175331072,
     "user": {
      "displayName": "Jia Hui Ong",
      "photoUrl": "https://lh3.googleusercontent.com/a-/AOh14GiKvHQmYQfzydylrU8HXZxYxJP3L6kGAQ94P-sS=s64",
      "userId": "05957301376516334331"
     },
     "user_tz": -480
    },
    "id": "jzjCg15BeR43"
   },
   "outputs": [
    {
     "name": "stdout",
     "output_type": "stream",
     "text": [
      "ai6126-project1-colab-v0.4\n"
     ]
    }
   ],
   "source": [
    "nb_ver = 0.4\n",
    "title = f'ai6126-project1-colab-v{nb_ver}'\n",
    "print(title)\n",
    "comments = \"\"\n",
    "print(comments)"
   ]
  },
  {
   "cell_type": "markdown",
   "metadata": {},
   "source": [
    "## Versioning & References"
   ]
  },
  {
   "cell_type": "markdown",
   "metadata": {
    "id": "4c2s81g4d5PE"
   },
   "source": [
    "### Changelogs\n",
    "+ V0.1 - Setup codes to download and unzip celeba to gDrive\n",
    "+ V0.2 - Added training loop \n",
    "+ V0.3 - Added seeding + save/ load checkpoint\n",
    "+ V0.4 - Added time taken + save output"
   ]
  },
  {
   "cell_type": "markdown",
   "metadata": {},
   "source": [
    "### References\n",
    "+ [PyTorch Transfer Learning](https://pytorch.org/tutorials/beginner/transfer_learning_tutorial.html)\n",
    "+ [TWD fast.ai](https://towardsdatascience.com/real-time-multi-facial-attribute-detection-using-transfer-learning-and-haar-cascades-with-fastai-47ff59e36df0)"
   ]
  },
  {
   "cell_type": "markdown",
   "metadata": {
    "id": "UmjjrIheF0u5"
   },
   "source": [
    "## Setup/ Configuration"
   ]
  },
  {
   "cell_type": "markdown",
   "metadata": {},
   "source": [
    "### Colab"
   ]
  },
  {
   "cell_type": "code",
   "execution_count": 2,
   "metadata": {
    "colab": {
     "base_uri": "https://localhost:8080/",
     "height": 282
    },
    "executionInfo": {
     "elapsed": 4455,
     "status": "error",
     "timestamp": 1601175336681,
     "user": {
      "displayName": "Jia Hui Ong",
      "photoUrl": "https://lh3.googleusercontent.com/a-/AOh14GiKvHQmYQfzydylrU8HXZxYxJP3L6kGAQ94P-sS=s64",
      "userId": "05957301376516334331"
     },
     "user_tz": -480
    },
    "id": "7mTWwwivDNy3",
    "outputId": "9f87be63-e615-42bf-b306-8a2ec7e2458d"
   },
   "outputs": [],
   "source": [
    "# you can choose to mount your Google Drive (optional)\n",
    "import sys, os\n",
    "if 'google.colab' in sys.modules:\n",
    "    from google.colab import drive\n",
    "    drive.mount('/content/drive')\n",
    "    file_name = f'ai6126-project1-colab-v{nb_ver}.ipynb'\n",
    "    print(file_name)\n",
    "    import subprocess\n",
    "    path_to_file = subprocess.check_output('find . -type f -name ' + str(file_name), shell=True).decode(\"utf-8\")\n",
    "    print(path_to_file)\n",
    "    path_to_file = path_to_file.replace(file_name,\"\").replace('\\n',\"\")\n",
    "    os.chdir(path_to_file)\n",
    "    !pwd"
   ]
  },
  {
   "cell_type": "code",
   "execution_count": 3,
   "metadata": {
    "colab": {
     "base_uri": "https://localhost:8080/",
     "height": 170
    },
    "executionInfo": {
     "elapsed": 4089,
     "status": "ok",
     "timestamp": 1601174827944,
     "user": {
      "displayName": "Jia Hui Ong",
      "photoUrl": "https://lh3.googleusercontent.com/a-/AOh14GiKvHQmYQfzydylrU8HXZxYxJP3L6kGAQ94P-sS=s64",
      "userId": "05957301376516334331"
     },
     "user_tz": -480
    },
    "id": "x6grHtmwDexI",
    "outputId": "60e6ef2d-3b03-486f-e7cc-a87eaa29da82"
   },
   "outputs": [
    {
     "name": "stdout",
     "output_type": "stream",
     "text": [
      "nvcc: NVIDIA (R) Cuda compiler driver\n",
      "Copyright (c) 2005-2019 NVIDIA Corporation\n",
      "Built on Wed_Oct_23_19:32:27_Pacific_Daylight_Time_2019\n",
      "Cuda compilation tools, release 10.2, V10.2.89\n"
     ]
    },
    {
     "name": "stderr",
     "output_type": "stream",
     "text": [
      "'gcc' is not recognized as an internal or external command,\n",
      "operable program or batch file.\n"
     ]
    }
   ],
   "source": [
    "# check nvcc version\n",
    "!nvcc -V\n",
    "# check GCC version\n",
    "!gcc --version"
   ]
  },
  {
   "cell_type": "markdown",
   "metadata": {},
   "source": [
    "### Download Dataset"
   ]
  },
  {
   "cell_type": "code",
   "execution_count": 4,
   "metadata": {},
   "outputs": [
    {
     "name": "stdout",
     "output_type": "stream",
     "text": [
      "download celeba dataset: False\n"
     ]
    }
   ],
   "source": [
    "import os, glob\n",
    "local_download_path = '../data/celeba/img_align_celeba'\n",
    "download_dataset = True\n",
    "if os.path.exists(local_download_path):\n",
    "    images = glob.glob(local_download_path + '/*.jpg')\n",
    "    if len(images) == 202599:\n",
    "        download_dataset = False\n",
    "print(f\"download celeba dataset: {download_dataset}\")\n",
    "\n",
    "if download_dataset:\n",
    "    # create dataset root and enter it\n",
    "    !mkdir -p data/celeba\n",
    "    %cd data/celeba\n",
    "\n",
    "    # we have prepared a backup of `img_align_celeba.zip` of Celeb-A dataset in the Dropbox\n",
    "    # download it directly, or manually download the original file from Google Drive above\n",
    "    !wget https://www.dropbox.com/s/8kzo40fqx7nodat/img_align_celeba.zip\n",
    "\n",
    "    # unzip the downloaded file\n",
    "    !unzip -qq img_align_celeba.zip\n",
    "    !rm -f img_align_celeba.zip\n",
    "\n",
    "    # change the directory back to the root\n",
    "    %cd ../..\n",
    "    !ls"
   ]
  },
  {
   "cell_type": "markdown",
   "metadata": {},
   "source": [
    "## Implementation"
   ]
  },
  {
   "cell_type": "markdown",
   "metadata": {},
   "source": [
    "### Imports"
   ]
  },
  {
   "cell_type": "code",
   "execution_count": 1,
   "metadata": {
    "id": "tEkTpN_qDN5u"
   },
   "outputs": [],
   "source": [
    "import os\n",
    "import time\n",
    "import random\n",
    "import numpy as np\n",
    "import copy\n",
    "from datetime import datetime\n",
    "from distutils.dir_util import copy_tree #for recursive filecopying\n",
    "\n",
    "import torch\n",
    "import torch.nn as nn\n",
    "import torch.optim as optim\n",
    "from torch.optim import lr_scheduler\n",
    "import torchvision\n",
    "from torchvision import datasets, models, transforms\n",
    "from torch.utils.tensorboard import SummaryWriter\n",
    "\n",
    "from tqdm import tqdm\n",
    "import matplotlib.pyplot as plt\n",
    "\n",
    "import config\n",
    "from celeba_dataset import CelebaDataset\n",
    "import models\n",
    "from utils import Logger, AverageMeter, Bar, savefig, adjust_learning_rate, accuracy, reset_gpu_cache, print_attribute_acc, create_dir_ifne"
   ]
  },
  {
   "cell_type": "code",
   "execution_count": 6,
   "metadata": {
    "id": "DCjPfxzUDN3Y"
   },
   "outputs": [
    {
     "name": "stdout",
     "output_type": "stream",
     "text": [
      "1.6.0 True\n",
      "cuda:0\n",
      "disable_tqdm: False\n"
     ]
    }
   ],
   "source": [
    "# set the backend of matplotlib to the 'inline' backend\n",
    "%matplotlib inline\n",
    "\n",
    "# check PyTorch version and cuda status\n",
    "print(torch.__version__, torch.cuda.is_available())\n",
    "\n",
    "# define device\n",
    "device = torch.device(\"cuda:\"+config.gpu_id if torch.cuda.is_available() else \"cpu\")\n",
    "print(device)\n",
    "\n",
    "if 'ipykernel' in sys.modules:\n",
    "    config.disable_tqdm = False\n",
    "print(f\"disable_tqdm: {config.disable_tqdm}\")"
   ]
  },
  {
   "cell_type": "markdown",
   "metadata": {},
   "source": [
    "### Seeding"
   ]
  },
  {
   "cell_type": "code",
   "execution_count": 7,
   "metadata": {
    "colab": {
     "base_uri": "https://localhost:8080/",
     "height": 68
    },
    "executionInfo": {
     "elapsed": 4483,
     "status": "ok",
     "timestamp": 1601174828368,
     "user": {
      "displayName": "Jia Hui Ong",
      "photoUrl": "https://lh3.googleusercontent.com/a-/AOh14GiKvHQmYQfzydylrU8HXZxYxJP3L6kGAQ94P-sS=s64",
      "userId": "05957301376516334331"
     },
     "user_tz": -480
    },
    "id": "9Te1EuMyDN7-",
    "outputId": "e1a9321b-0c11-476e-dea5-57b3fa33f732"
   },
   "outputs": [],
   "source": [
    "# set random seed for reproducibility\n",
    "def seed_everything(seed=None):\n",
    "    if seed is None:\n",
    "        seed = random.randint(1, 10000) # create random seed\n",
    "        print(f'random seed used: {seed}')\n",
    "    os.environ['PYTHONHASHSEED'] = str(seed)\n",
    "    random.seed(seed)\n",
    "    np.random.seed(seed)\n",
    "    if 'torch' in sys.modules:\n",
    "        torch.manual_seed(seed)\n",
    "        torch.cuda.manual_seed_all(seed)\n",
    "        torch.backends.cudnn.deterministic = True\n",
    "        torch.backends.cudnn.benchmark = True\n",
    "    \n",
    "seed_everything(seed=config.manual_seed)"
   ]
  },
  {
   "cell_type": "markdown",
   "metadata": {
    "colab": {
     "base_uri": "https://localhost:8080/",
     "height": 34
    },
    "executionInfo": {
     "elapsed": 7867,
     "status": "ok",
     "timestamp": 1601174831763,
     "user": {
      "displayName": "Jia Hui Ong",
      "photoUrl": "https://lh3.googleusercontent.com/a-/AOh14GiKvHQmYQfzydylrU8HXZxYxJP3L6kGAQ94P-sS=s64",
      "userId": "05957301376516334331"
     },
     "user_tz": -480
    },
    "id": "UeTJbZQ5b_ea",
    "outputId": "de5f0be8-65fe-4648-e719-ff92f2642235",
    "pycharm": {
     "is_executing": true
    }
   },
   "source": [
    "### Data Transform"
   ]
  },
  {
   "cell_type": "code",
   "execution_count": 8,
   "metadata": {},
   "outputs": [
    {
     "name": "stdout",
     "output_type": "stream",
     "text": [
      "\n"
     ]
    }
   ],
   "source": [
    "# attribute_names = ['5_o_Clock_Shadow', 'Arched_Eyebrows', 'Attractive', 'Bags_Under_Eyes', 'Bald', \n",
    "#                    'Bangs', 'Big_Lips', 'Big_Nose', 'Black_Hair', 'Blond_Hair', 'Blurry', 'Brown_Hair', \n",
    "#                    'Bushy_Eyebrows', 'Chubby', 'Double_Chin', 'Eyeglasses', 'Goatee', 'Gray_Hair',\n",
    "#                    'Heavy_Makeup', 'High_Cheekbones', 'Male', 'Mouth_Slightly_Open', 'Mustache', \n",
    "#                    'Narrow_Eyes', 'No_Beard', 'Oval_Face', 'Pale_Skin', 'Pointy_Nose', 'Receding_Hairline',\n",
    "#                    'Rosy_Cheeks', 'Sideburns', 'Smiling', 'Straight_Hair', 'Wavy_Hair', 'Wearing_Earrings', \n",
    "#                    'Wearing_Hat', 'Wearing_Lipstick', 'Wearing_Necklace', 'Wearing_Necktie', 'Young']\n",
    "# print(attribute_names)"
   ]
  },
  {
   "cell_type": "code",
   "execution_count": 9,
   "metadata": {
    "pycharm": {
     "is_executing": true
    }
   },
   "outputs": [],
   "source": [
    "# Data augmentation and normalization for training\n",
    "# Just normalization for validation and testing\n",
    "\n",
    "def load_dataloaders(print_info=True):\n",
    "    normalize = transforms.Normalize(mean=[0.485, 0.456, 0.406],\n",
    "                                     std=[0.229, 0.224, 0.225])\n",
    "    if config.evaluate:\n",
    "        phases = ['test']\n",
    "    else:\n",
    "        phases = ['train', 'val']\n",
    "\n",
    "    attribute_names = ['5_o_Clock_Shadow', 'Arched_Eyebrows', 'Attractive', 'Bags_Under_Eyes', 'Bald', \n",
    "                       'Bangs', 'Big_Lips', 'Big_Nose', 'Black_Hair', 'Blond_Hair', 'Blurry', 'Brown_Hair', \n",
    "                       'Bushy_Eyebrows', 'Chubby', 'Double_Chin', 'Eyeglasses', 'Goatee', 'Gray_Hair',\n",
    "                       'Heavy_Makeup', 'High_Cheekbones', 'Male', 'Mouth_Slightly_Open', 'Mustache', \n",
    "                       'Narrow_Eyes', 'No_Beard', 'Oval_Face', 'Pale_Skin', 'Pointy_Nose', 'Receding_Hairline',\n",
    "                       'Rosy_Cheeks', 'Sideburns', 'Smiling', 'Straight_Hair', 'Wavy_Hair', 'Wearing_Earrings', \n",
    "                       'Wearing_Hat', 'Wearing_Lipstick', 'Wearing_Necklace', 'Wearing_Necktie', 'Young']\n",
    "    \n",
    "    attributes_list = {\n",
    "        'train': config.TRAIN_ATTRIBUTE_LIST,\n",
    "        'val': config.VAL_ATTRIBUTE_LIST,\n",
    "        'test': config.TEST_ATTRIBUTE_LIST\n",
    "    }\n",
    "\n",
    "    batch_sizes = {\n",
    "        'train': config.train_batch,\n",
    "        'val': config.test_batch,\n",
    "        'test': config.test_batch\n",
    "    }\n",
    "\n",
    "    data_transforms = {\n",
    "        'train': transforms.Compose([\n",
    "            transforms.RandomHorizontalFlip(p=0.5),\n",
    "            transforms.ToTensor(),\n",
    "            normalize\n",
    "        ]),\n",
    "        'val': transforms.Compose([\n",
    "            transforms.ToTensor(),\n",
    "            normalize\n",
    "        ]),\n",
    "        'test': transforms.Compose([\n",
    "            transforms.ToTensor(),\n",
    "            normalize\n",
    "        ])\n",
    "    }\n",
    "\n",
    "    image_datasets = {x: CelebaDataset(config.IMG_DIR, attributes_list[x], \n",
    "                                       data_transforms[x]) \n",
    "                      for x in phases}\n",
    "    dataloaders = {x: torch.utils.data.DataLoader(image_datasets[x], \n",
    "                                                  batch_size=batch_sizes[x],\n",
    "                                                  pin_memory=True, shuffle=(x == 'train'), \n",
    "                                                  num_workers=config.dl_workers) \n",
    "                   for x in phases}\n",
    "    if print_info:\n",
    "        dataset_sizes = {x: len(image_datasets[x]) for x in phases}\n",
    "        print(f\"Dataset sizes: {dataset_sizes}\")\n",
    "        \n",
    "    if config.evaluate:\n",
    "        class_names = image_datasets['test'].targets\n",
    "    else:\n",
    "        class_names = image_datasets['train'].targets\n",
    "    print(f\"Class Labels: {len(class_names[0])}\")\n",
    "    assert len(attribute_names) == len(class_names[0])\n",
    "    return dataloaders, attribute_names"
   ]
  },
  {
   "cell_type": "markdown",
   "metadata": {
    "id": "qtfDq7Z2F6Nh",
    "pycharm": {
     "is_executing": true
    }
   },
   "source": [
    "### Model Architecture Initialization"
   ]
  },
  {
   "cell_type": "code",
   "execution_count": 10,
   "metadata": {
    "pycharm": {
     "is_executing": true
    }
   },
   "outputs": [
    {
     "name": "stdout",
     "output_type": "stream",
     "text": [
      "Available Models: ['FaceAttrResNet']\n"
     ]
    }
   ],
   "source": [
    "model_names = sorted(name for name in models.__dict__\n",
    "                     if callable(models.__dict__[name])) # and name.islower() and not name.startswith(\"__\"))\n",
    "print(f\"Available Models: {model_names}\")"
   ]
  },
  {
   "cell_type": "code",
   "execution_count": 11,
   "metadata": {},
   "outputs": [],
   "source": [
    "def create_model(device):\n",
    "    print(\"=> creating model '{}'\".format(config.arch))\n",
    "    if config.arch.startswith('FaceAttrResNet'):\n",
    "        model = models.__dict__[config.arch](resnet_layers = config.pt_layers)\n",
    "    model = model.to(device)\n",
    "    return model\n",
    "#print(model)"
   ]
  },
  {
   "cell_type": "markdown",
   "metadata": {},
   "source": [
    "### Criterion & Optimizer"
   ]
  },
  {
   "cell_type": "code",
   "execution_count": 12,
   "metadata": {
    "pycharm": {
     "is_executing": true
    }
   },
   "outputs": [],
   "source": [
    "# criterion = nn.CrossEntropyLoss().to(device)\n",
    "\n",
    "# optimizer = torch.optim.SGD(model.parameters(), config.lr,\n",
    "#                             momentum=config.momentum,\n",
    "#                             weight_decay=config.weight_decay)"
   ]
  },
  {
   "cell_type": "markdown",
   "metadata": {},
   "source": [
    "### Resume Checkpoint if any"
   ]
  },
  {
   "cell_type": "code",
   "execution_count": 13,
   "metadata": {},
   "outputs": [],
   "source": [
    "def resume_checkpoint(model, optimizer, ckp_logger_fname, ckp_resume=None):\n",
    "    if not os.path.isdir(config.CHECKPOINT_DIR):\n",
    "        try: \n",
    "            os.makedirs(config.CHECKPOINT_DIR)\n",
    "        except OSError:\n",
    "            raise\n",
    "            \n",
    "    start_epoch = 0\n",
    "    best_prec1 = 0\n",
    "    if ckp_resume and os.path.isfile(ckp_resume): \n",
    "        print(f\"=> resuming model: {ckp_resume}\")\n",
    "        optimizer, start_epoch, best_prec1 = model.load_ckp(optimizer, ckp_resume)\n",
    "        # print(f\"=> loading checkpoint '{config.resume}'\")\n",
    "        # checkpoint = torch.load(config.resume)\n",
    "        # start_epoch = checkpoint['epoch']\n",
    "        # best_prec1 = checkpoint['best_prec1']\n",
    "        # model.load_state_dict(checkpoint['state_dict'])\n",
    "        # optimizer.load_state_dict(checkpoint['optimizer'])\n",
    "        # print(f\"=> loaded checkpoint '{config.resume}' (epoch {start_epoch})\")\n",
    "        config.checkpoint = os.path.dirname(ckp_resume)\n",
    "        logger = Logger(ckp_logger_fname, title=model.name, resume=True)\n",
    "    else:\n",
    "        logger = Logger(ckp_logger_fname, title=model.name)\n",
    "        logger.set_names(['Learning Rate', 'Train Loss', 'Valid Loss', 'Train Acc.', 'Valid Acc.'])\n",
    "        \n",
    "        \n",
    "    return best_prec1, start_epoch, logger"
   ]
  },
  {
   "cell_type": "markdown",
   "metadata": {},
   "source": [
    "## Train & Validate Function"
   ]
  },
  {
   "cell_type": "code",
   "execution_count": 14,
   "metadata": {},
   "outputs": [],
   "source": [
    "def train(train_loader, model, criterion, optimizer):\n",
    "    bar = Bar('Processing', max=len(train_loader))\n",
    "\n",
    "    batch_time = AverageMeter()\n",
    "    data_time = AverageMeter()\n",
    "    losses = [AverageMeter() for _ in range(40)]\n",
    "    top1 = [AverageMeter() for _ in range(40)]\n",
    "\n",
    "    # switch to train mode\n",
    "    model.train()\n",
    "\n",
    "    end = time.time()\n",
    "    for i, (X, y) in enumerate(tqdm(train_loader, disable=config.disable_tqdm)):\n",
    "        # measure data loading time\n",
    "        data_time.update(time.time() - end)\n",
    "\n",
    "        # Overlapping transfer if pinned memory\n",
    "        X = X.to(device, non_blocking=True)\n",
    "        y = y.to(device, non_blocking=True)\n",
    "    \n",
    "        # compute output\n",
    "        output = model(X)\n",
    "        # measure accuracy and record loss\n",
    "        loss = []\n",
    "        prec1 = []\n",
    "        for j in range(len(output)):\n",
    "            loss.append(criterion(output[j], y[:, j]))\n",
    "            prec1.append(accuracy(output[j], y[:, j], topk=(1,)))\n",
    "\n",
    "            losses[j].update(loss[j].detach().item(), X.size(0))\n",
    "            top1[j].update(prec1[j][0].item(), X.size(0))\n",
    "            \n",
    "        losses_avg = [losses[k].avg for k in range(len(losses))]\n",
    "        top1_avg = [top1[k].avg for k in range(len(top1))]\n",
    "        loss_avg = sum(losses_avg) / len(losses_avg)\n",
    "        prec1_avg = sum(top1_avg) / len(top1_avg)\n",
    "\n",
    "        # compute gradient and do SGD step\n",
    "        optimizer.zero_grad()\n",
    "        loss_sum = sum(loss)\n",
    "        loss_sum.backward()\n",
    "        optimizer.step()\n",
    "\n",
    "        # measure elapsed time\n",
    "        batch_time.update(time.time() - end)\n",
    "        end = time.time()\n",
    "\n",
    "        # plot progress\n",
    "        print_line = '({batch}/{size}) Data: {data:.3f}s | Batch: {bt:.3f}s | Total: {total:} | ETA: {eta:} | Loss: {loss:.4f} | top1: {top1: .4f}'.format(\n",
    "                        batch=i + 1,\n",
    "                        size=len(train_loader),\n",
    "                        data=data_time.avg,\n",
    "                        bt=batch_time.avg,\n",
    "                        total=bar.elapsed_td,\n",
    "                        eta=bar.eta_td,\n",
    "                        loss=loss_avg,\n",
    "                        top1=prec1_avg,\n",
    "                        )\n",
    "        if not config.disable_tqdm and (i+1)% 100 == 0:\n",
    "            print(print_line)\n",
    "        bar.suffix  = print_line\n",
    "        bar.next()\n",
    "    bar.finish()\n",
    "    return (loss_avg, prec1_avg)"
   ]
  },
  {
   "cell_type": "code",
   "execution_count": 15,
   "metadata": {},
   "outputs": [],
   "source": [
    "def validate(val_loader, model, criterion):\n",
    "    bar = Bar('Processing', max=len(val_loader))\n",
    "\n",
    "    batch_time = AverageMeter()\n",
    "    data_time = AverageMeter()\n",
    "    losses = [AverageMeter() for _ in range(40)]\n",
    "    top1 = [AverageMeter() for _ in range(40)]\n",
    "\n",
    "    # switch to evaluate mode\n",
    "    model.eval()\n",
    "\n",
    "    with torch.no_grad():\n",
    "        end = time.time()\n",
    "        for i, (X, y) in enumerate(tqdm(val_loader, disable=config.disable_tqdm)):\n",
    "            # measure data loading time\n",
    "            data_time.update(time.time() - end)\n",
    "\n",
    "            # Overlapping transfer if pinned memory\n",
    "            X = X.to(device, non_blocking=True)\n",
    "            y = y.to(device, non_blocking=True)\n",
    "\n",
    "            # compute output\n",
    "            output = model(X)\n",
    "            # measure accuracy and record loss\n",
    "            loss = []\n",
    "            prec1 = []\n",
    "            for j in range(len(output)):\n",
    "                loss.append(criterion(output[j], y[:, j]))\n",
    "                prec1.append(accuracy(output[j], y[:, j], topk=(1,)))\n",
    "\n",
    "                losses[j].update(loss[j].detach().item(), X.size(0))\n",
    "                top1[j].update(prec1[j][0].item(), X.size(0))\n",
    "            losses_avg = [losses[k].avg for k in range(len(losses))]\n",
    "            top1_avg = [top1[k].avg for k in range(len(top1))]\n",
    "            loss_avg = sum(losses_avg) / len(losses_avg)\n",
    "            prec1_avg = sum(top1_avg) / len(top1_avg)\n",
    "\n",
    "            # measure elapsed time\n",
    "            batch_time.update(time.time() - end)\n",
    "            end = time.time()\n",
    "\n",
    "        # plot progress\n",
    "        print_line = '({batch}/{size}) Data: {data:.3f}s | Batch: {bt:.3f}s | Total: {total:} | ETA: {eta:} | Loss: {loss:.4f} | top1: {top1: .4f}'.format(\n",
    "                        batch=i + 1,\n",
    "                        size=len(val_loader),\n",
    "                        data=data_time.avg,\n",
    "                        bt=batch_time.avg,\n",
    "                        total=bar.elapsed_td,\n",
    "                        eta=bar.eta_td,\n",
    "                        loss=loss_avg,\n",
    "                        top1=prec1_avg,\n",
    "                        )\n",
    "        if not config.disable_tqdm and (i+1)% 100 == 0:\n",
    "            print(print_line)\n",
    "        bar.suffix  = print_line\n",
    "        bar.next()  \n",
    "    bar.finish()\n",
    "    return (loss_avg, prec1_avg, top1)"
   ]
  },
  {
   "cell_type": "markdown",
   "metadata": {},
   "source": [
    "## Main Function"
   ]
  },
  {
   "cell_type": "code",
   "execution_count": 16,
   "metadata": {},
   "outputs": [],
   "source": [
    "def trainer(dataloaders, model, criterion, optimizer, logger, start_epoch, best_prec1, run_name):\n",
    "    # visualization\n",
    "    writer = SummaryWriter(os.path.join(config.tensorboard_dir, run_name))\n",
    "\n",
    "    for epoch in range(start_epoch, config.epochs):\n",
    "        lr = adjust_learning_rate(optimizer, config.lr_decay, epoch, gamma=config.gamma, step=config.step,\n",
    "                                 total_epochs=config.epochs, turning_point=config.turning_point,\n",
    "                                 schedule=config.schedule)\n",
    "\n",
    "        print('\\nEpoch: [%d | %d] LR: %f' % (epoch + 1, config.epochs, lr))\n",
    "\n",
    "        # train for one epoch\n",
    "        train_loss, train_acc = train(dataloaders['train'], model, criterion, optimizer)\n",
    "\n",
    "        # evaluate on validation set\n",
    "        val_loss, prec1, _ = validate(dataloaders['val'], model, criterion)\n",
    "\n",
    "        # append logger file\n",
    "        logger.append([lr, train_loss, val_loss, train_acc, prec1])\n",
    "\n",
    "        # tensorboardX\n",
    "        writer.add_scalar('learning rate', lr, epoch + 1)\n",
    "        writer.add_scalars('loss', {'train loss': train_loss, 'validation loss': val_loss}, epoch + 1)\n",
    "        writer.add_scalars('accuracy', {'train accuracy': train_acc, 'validation accuracy': prec1}, epoch + 1)\n",
    "        #for name, param in model.named_parameters():\n",
    "        #    writer.add_histogram(name, param.clone().cpu().data.numpy(), epoch + 1)\n",
    "\n",
    "        is_best = prec1 > best_prec1\n",
    "        best_prec1 = max(prec1, best_prec1)\n",
    "\n",
    "        model.save_ckp({\n",
    "            'epoch': epoch + 1,\n",
    "            'arch': model.name,\n",
    "            'state_dict': model.state_dict(),\n",
    "            'best_prec1': best_prec1,\n",
    "            'optimizer' : optimizer.state_dict()\n",
    "        }, is_best, config.checkpoint_fname,config.bestmodel_fname)\n",
    "\n",
    "    logger.close()\n",
    "    logger.plot()\n",
    "    savefig(config.train_plotfig)\n",
    "    writer.close()\n",
    "\n",
    "    print('Best accuracy:')\n",
    "    print(best_prec1)"
   ]
  },
  {
   "cell_type": "code",
   "execution_count": 36,
   "metadata": {},
   "outputs": [],
   "source": [
    "def get_run_name_time(model, criterion, optimizer, comments):\n",
    "    if str(criterion) == 'CrossEntropyLoss()':\n",
    "        p_criterion = 'CE'\n",
    "\n",
    "    p_optimizer = f'{str(optimizer).split(\"(\")[0].strip()}_'\n",
    "    p_scheduler = f'{config.lr_decay}_lr{config.lr}_wd{config.weight_decay}'\n",
    "    if config.lr_decay == 'step':\n",
    "        p_scheduler += f'_g{config.gamma}_sp{config.step}'\n",
    "    elif config.lr_decay == 'linear2exp':\n",
    "        p_scheduler += f'_g{config.gamma}_tp{config.turning_point}'\n",
    "    elif config.lr_decay == 'schedule':\n",
    "        p_scheduler += f'_g{config.gamma}_sch{config.schedule}'\n",
    "\n",
    "    run_name = f'{model.name}_{config.manual_seed}_s{start_epoch}e{config.epochs}_' \\\n",
    "                + f'tb{config.train_batch}_vb{config.test_batch}_' \\\n",
    "                + f'{p_criterion}_{p_optimizer}_' \\\n",
    "                + f'{comments} \\\n",
    "                + f'{p_scheduler}'\n",
    "    \n",
    "    run_time = datetime.now().strftime(\"%Y%m%d_%H%M%S\")\n",
    "    print(run_name, run_time)\n",
    "    return run_name, run_time"
   ]
  },
  {
   "cell_type": "code",
   "execution_count": 18,
   "metadata": {
    "collapsed": true,
    "id": "PWCHnDeVD4WT",
    "jupyter": {
     "outputs_hidden": true
    },
    "pycharm": {
     "is_executing": true
    }
   },
   "outputs": [
    {
     "name": "stdout",
     "output_type": "stream",
     "text": [
      "=> creating model 'FaceAttrResNet'\n"
     ]
    },
    {
     "name": "stderr",
     "output_type": "stream",
     "text": [
      "  0%|                                                                                         | 0/1272 [00:00<?, ?it/s]"
     ]
    },
    {
     "name": "stdout",
     "output_type": "stream",
     "text": [
      "Dataset sizes: {'train': 162770, 'val': 19867}\n",
      "Class Labels: 40\n",
      "FaceAttrResNet18_42_s0e60_tb128_vb128_CE_SGD__step_lr0.1_wd0.0001_g0.1_sp30\n",
      "\n",
      "Epoch: [1 | 60] LR: 0.100000\n"
     ]
    },
    {
     "name": "stderr",
     "output_type": "stream",
     "text": [
      "  8%|██████▏                                                                        | 100/1272 [00:35<04:52,  4.00it/s]"
     ]
    },
    {
     "name": "stdout",
     "output_type": "stream",
     "text": [
      "(100/1272) Data: 0.072s | Batch: 0.354s | Total: 0:00:35 | ETA: 0:04:54 | Loss: 0.6895 | top1:  79.3785\n"
     ]
    },
    {
     "name": "stderr",
     "output_type": "stream",
     "text": [
      " 16%|████████████▍                                                                  | 200/1272 [01:01<04:30,  3.96it/s]"
     ]
    },
    {
     "name": "stdout",
     "output_type": "stream",
     "text": [
      "(200/1272) Data: 0.036s | Batch: 0.306s | Total: 0:01:01 | ETA: 0:04:35 | Loss: 0.6516 | top1:  79.7167\n"
     ]
    },
    {
     "name": "stderr",
     "output_type": "stream",
     "text": [
      " 24%|██████████████████▋                                                            | 300/1272 [01:26<04:10,  3.88it/s]"
     ]
    },
    {
     "name": "stdout",
     "output_type": "stream",
     "text": [
      "(300/1272) Data: 0.024s | Batch: 0.289s | Total: 0:01:26 | ETA: 0:04:10 | Loss: 0.6153 | top1:  79.9493\n"
     ]
    },
    {
     "name": "stderr",
     "output_type": "stream",
     "text": [
      " 31%|████████████████████████▊                                                      | 400/1272 [01:52<03:49,  3.79it/s]"
     ]
    },
    {
     "name": "stdout",
     "output_type": "stream",
     "text": [
      "(400/1272) Data: 0.018s | Batch: 0.281s | Total: 0:01:52 | ETA: 0:03:47 | Loss: 0.5932 | top1:  80.0231\n"
     ]
    },
    {
     "name": "stderr",
     "output_type": "stream",
     "text": [
      " 39%|███████████████████████████████                                                | 500/1272 [02:18<03:27,  3.72it/s]"
     ]
    },
    {
     "name": "stdout",
     "output_type": "stream",
     "text": [
      "(500/1272) Data: 0.015s | Batch: 0.278s | Total: 0:02:18 | ETA: 0:03:28 | Loss: 0.5702 | top1:  80.1089\n"
     ]
    },
    {
     "name": "stderr",
     "output_type": "stream",
     "text": [
      " 47%|█████████████████████████████████████▎                                         | 600/1272 [02:45<02:58,  3.77it/s]"
     ]
    },
    {
     "name": "stdout",
     "output_type": "stream",
     "text": [
      "(600/1272) Data: 0.013s | Batch: 0.276s | Total: 0:02:45 | ETA: 0:03:00 | Loss: 0.5532 | top1:  80.2375\n"
     ]
    },
    {
     "name": "stderr",
     "output_type": "stream",
     "text": [
      " 55%|███████████████████████████████████████████▍                                   | 700/1272 [03:13<02:30,  3.81it/s]"
     ]
    },
    {
     "name": "stdout",
     "output_type": "stream",
     "text": [
      "(700/1272) Data: 0.011s | Batch: 0.276s | Total: 0:03:13 | ETA: 0:02:36 | Loss: 0.5368 | top1:  80.4077\n"
     ]
    },
    {
     "name": "stderr",
     "output_type": "stream",
     "text": [
      " 63%|█████████████████████████████████████████████████▋                             | 800/1272 [03:40<02:05,  3.76it/s]"
     ]
    },
    {
     "name": "stdout",
     "output_type": "stream",
     "text": [
      "(800/1272) Data: 0.010s | Batch: 0.275s | Total: 0:03:40 | ETA: 0:02:08 | Loss: 0.5233 | top1:  80.5882\n"
     ]
    },
    {
     "name": "stderr",
     "output_type": "stream",
     "text": [
      " 71%|███████████████████████████████████████████████████████▉                       | 900/1272 [04:07<01:38,  3.77it/s]"
     ]
    },
    {
     "name": "stdout",
     "output_type": "stream",
     "text": [
      "(900/1272) Data: 0.009s | Batch: 0.275s | Total: 0:04:07 | ETA: 0:01:40 | Loss: 0.5111 | top1:  80.7796\n"
     ]
    },
    {
     "name": "stderr",
     "output_type": "stream",
     "text": [
      " 79%|█████████████████████████████████████████████████████████████▎                | 1000/1272 [04:34<01:14,  3.65it/s]"
     ]
    },
    {
     "name": "stdout",
     "output_type": "stream",
     "text": [
      "(1000/1272) Data: 0.008s | Batch: 0.275s | Total: 0:04:34 | ETA: 0:01:16 | Loss: 0.4992 | top1:  81.0129\n"
     ]
    },
    {
     "name": "stderr",
     "output_type": "stream",
     "text": [
      " 86%|███████████████████████████████████████████████████████████████████▍          | 1100/1272 [05:01<00:46,  3.67it/s]"
     ]
    },
    {
     "name": "stdout",
     "output_type": "stream",
     "text": [
      "(1100/1272) Data: 0.007s | Batch: 0.274s | Total: 0:05:01 | ETA: 0:00:48 | Loss: 0.4876 | top1:  81.2590\n"
     ]
    },
    {
     "name": "stderr",
     "output_type": "stream",
     "text": [
      " 94%|█████████████████████████████████████████████████████████████████████████▌    | 1200/1272 [05:29<00:20,  3.51it/s]"
     ]
    },
    {
     "name": "stdout",
     "output_type": "stream",
     "text": [
      "(1200/1272) Data: 0.007s | Batch: 0.274s | Total: 0:05:29 | ETA: 0:00:21 | Loss: 0.4770 | top1:  81.5133\n"
     ]
    },
    {
     "name": "stderr",
     "output_type": "stream",
     "text": [
      "100%|██████████████████████████████████████████████████████████████████████████████| 1272/1272 [05:50<00:00,  3.63it/s]\n",
      "100%|████████████████████████████████████████████████████████████████████████████████| 156/156 [00:22<00:00,  7.01it/s]\n"
     ]
    },
    {
     "name": "stdout",
     "output_type": "stream",
     "text": [
      "=> saving checkpoint 'checkpoints\\checkpoint.pth.tar'\n"
     ]
    },
    {
     "name": "stderr",
     "output_type": "stream",
     "text": [
      "  0%|                                                                                         | 0/1272 [00:00<?, ?it/s]"
     ]
    },
    {
     "name": "stdout",
     "output_type": "stream",
     "text": [
      "=> saving best model 'checkpoints\\model_best.pth.tar'\n",
      "\n",
      "Epoch: [2 | 60] LR: 0.100000\n"
     ]
    },
    {
     "name": "stderr",
     "output_type": "stream",
     "text": [
      "  8%|██████▏                                                                        | 100/1272 [00:33<05:11,  3.76it/s]"
     ]
    },
    {
     "name": "stdout",
     "output_type": "stream",
     "text": [
      "(100/1272) Data: 0.074s | Batch: 0.333s | Total: 0:00:33 | ETA: 0:05:14 | Loss: 0.3446 | top1:  85.0574\n"
     ]
    },
    {
     "name": "stderr",
     "output_type": "stream",
     "text": [
      " 16%|████████████▍                                                                  | 200/1272 [01:00<04:54,  3.65it/s]"
     ]
    },
    {
     "name": "stdout",
     "output_type": "stream",
     "text": [
      "(200/1272) Data: 0.037s | Batch: 0.301s | Total: 0:01:00 | ETA: 0:04:49 | Loss: 0.3361 | top1:  85.5020\n"
     ]
    },
    {
     "name": "stderr",
     "output_type": "stream",
     "text": [
      " 24%|██████████████████▋                                                            | 300/1272 [01:27<04:20,  3.73it/s]"
     ]
    },
    {
     "name": "stdout",
     "output_type": "stream",
     "text": [
      "(300/1272) Data: 0.025s | Batch: 0.291s | Total: 0:01:27 | ETA: 0:04:22 | Loss: 0.3278 | top1:  85.8213\n"
     ]
    },
    {
     "name": "stderr",
     "output_type": "stream",
     "text": [
      " 31%|████████████████████████▊                                                      | 400/1272 [01:54<03:53,  3.73it/s]"
     ]
    },
    {
     "name": "stdout",
     "output_type": "stream",
     "text": [
      "(400/1272) Data: 0.019s | Batch: 0.286s | Total: 0:01:54 | ETA: 0:03:51 | Loss: 0.3223 | top1:  86.0471\n"
     ]
    },
    {
     "name": "stderr",
     "output_type": "stream",
     "text": [
      " 39%|███████████████████████████████                                                | 500/1272 [02:21<03:22,  3.81it/s]"
     ]
    },
    {
     "name": "stdout",
     "output_type": "stream",
     "text": [
      "(500/1272) Data: 0.015s | Batch: 0.283s | Total: 0:02:21 | ETA: 0:03:27 | Loss: 0.3178 | top1:  86.2169\n"
     ]
    },
    {
     "name": "stderr",
     "output_type": "stream",
     "text": [
      " 47%|█████████████████████████████████████▎                                         | 600/1272 [02:48<03:01,  3.71it/s]"
     ]
    },
    {
     "name": "stdout",
     "output_type": "stream",
     "text": [
      "(600/1272) Data: 0.013s | Batch: 0.281s | Total: 0:02:48 | ETA: 0:03:03 | Loss: 0.3134 | top1:  86.3908\n"
     ]
    },
    {
     "name": "stderr",
     "output_type": "stream",
     "text": [
      " 55%|███████████████████████████████████████████▍                                   | 700/1272 [03:15<02:38,  3.60it/s]"
     ]
    },
    {
     "name": "stdout",
     "output_type": "stream",
     "text": [
      "(700/1272) Data: 0.011s | Batch: 0.280s | Total: 0:03:15 | ETA: 0:02:34 | Loss: 0.3093 | top1:  86.5568\n"
     ]
    },
    {
     "name": "stderr",
     "output_type": "stream",
     "text": [
      " 63%|█████████████████████████████████████████████████▋                             | 800/1272 [03:42<02:06,  3.74it/s]"
     ]
    },
    {
     "name": "stdout",
     "output_type": "stream",
     "text": [
      "(800/1272) Data: 0.010s | Batch: 0.279s | Total: 0:03:42 | ETA: 0:02:08 | Loss: 0.3059 | top1:  86.6863\n"
     ]
    },
    {
     "name": "stderr",
     "output_type": "stream",
     "text": [
      " 71%|███████████████████████████████████████████████████████▉                       | 900/1272 [04:09<01:38,  3.78it/s]"
     ]
    },
    {
     "name": "stdout",
     "output_type": "stream",
     "text": [
      "(900/1272) Data: 0.009s | Batch: 0.278s | Total: 0:04:09 | ETA: 0:01:41 | Loss: 0.3026 | top1:  86.8161\n"
     ]
    },
    {
     "name": "stderr",
     "output_type": "stream",
     "text": [
      " 79%|█████████████████████████████████████████████████████████████▎                | 1000/1272 [04:37<01:13,  3.71it/s]"
     ]
    },
    {
     "name": "stdout",
     "output_type": "stream",
     "text": [
      "(1000/1272) Data: 0.008s | Batch: 0.277s | Total: 0:04:37 | ETA: 0:01:16 | Loss: 0.2995 | top1:  86.9405\n"
     ]
    },
    {
     "name": "stderr",
     "output_type": "stream",
     "text": [
      " 86%|███████████████████████████████████████████████████████████████████▍          | 1100/1272 [05:04<00:46,  3.69it/s]"
     ]
    },
    {
     "name": "stdout",
     "output_type": "stream",
     "text": [
      "(1100/1272) Data: 0.007s | Batch: 0.277s | Total: 0:05:04 | ETA: 0:00:47 | Loss: 0.2964 | top1:  87.0684\n"
     ]
    },
    {
     "name": "stderr",
     "output_type": "stream",
     "text": [
      " 94%|█████████████████████████████████████████████████████████████████████████▌    | 1200/1272 [05:31<00:19,  3.70it/s]"
     ]
    },
    {
     "name": "stdout",
     "output_type": "stream",
     "text": [
      "(1200/1272) Data: 0.007s | Batch: 0.276s | Total: 0:05:31 | ETA: 0:00:20 | Loss: 0.2939 | top1:  87.1670\n"
     ]
    },
    {
     "name": "stderr",
     "output_type": "stream",
     "text": [
      "100%|██████████████████████████████████████████████████████████████████████████████| 1272/1272 [05:51<00:00,  3.62it/s]\n",
      "100%|████████████████████████████████████████████████████████████████████████████████| 156/156 [00:22<00:00,  7.06it/s]\n"
     ]
    },
    {
     "name": "stdout",
     "output_type": "stream",
     "text": [
      "=> saving checkpoint 'checkpoints\\checkpoint.pth.tar'\n"
     ]
    },
    {
     "name": "stderr",
     "output_type": "stream",
     "text": [
      "  0%|                                                                                         | 0/1272 [00:00<?, ?it/s]"
     ]
    },
    {
     "name": "stdout",
     "output_type": "stream",
     "text": [
      "=> saving best model 'checkpoints\\model_best.pth.tar'\n",
      "\n",
      "Epoch: [3 | 60] LR: 0.100000\n"
     ]
    },
    {
     "name": "stderr",
     "output_type": "stream",
     "text": [
      "  8%|██████▏                                                                        | 100/1272 [00:33<05:13,  3.74it/s]"
     ]
    },
    {
     "name": "stdout",
     "output_type": "stream",
     "text": [
      "(100/1272) Data: 0.073s | Batch: 0.332s | Total: 0:00:33 | ETA: 0:05:14 | Loss: 0.2585 | top1:  88.6285\n"
     ]
    },
    {
     "name": "stderr",
     "output_type": "stream",
     "text": [
      " 16%|████████████▍                                                                  | 200/1272 [01:00<04:52,  3.67it/s]"
     ]
    },
    {
     "name": "stdout",
     "output_type": "stream",
     "text": [
      "(200/1272) Data: 0.037s | Batch: 0.302s | Total: 0:01:00 | ETA: 0:04:56 | Loss: 0.2628 | top1:  88.4375\n"
     ]
    },
    {
     "name": "stderr",
     "output_type": "stream",
     "text": [
      " 24%|██████████████████▋                                                            | 300/1272 [01:27<04:22,  3.71it/s]"
     ]
    },
    {
     "name": "stdout",
     "output_type": "stream",
     "text": [
      "(300/1272) Data: 0.025s | Batch: 0.291s | Total: 0:01:27 | ETA: 0:04:22 | Loss: 0.2606 | top1:  88.5249\n"
     ]
    },
    {
     "name": "stderr",
     "output_type": "stream",
     "text": [
      " 31%|████████████████████████▊                                                      | 400/1272 [01:54<04:06,  3.54it/s]"
     ]
    },
    {
     "name": "stdout",
     "output_type": "stream",
     "text": [
      "(400/1272) Data: 0.019s | Batch: 0.286s | Total: 0:01:54 | ETA: 0:03:58 | Loss: 0.2584 | top1:  88.6081\n"
     ]
    },
    {
     "name": "stderr",
     "output_type": "stream",
     "text": [
      " 39%|███████████████████████████████                                                | 500/1272 [02:21<03:27,  3.72it/s]"
     ]
    },
    {
     "name": "stdout",
     "output_type": "stream",
     "text": [
      "(500/1272) Data: 0.015s | Batch: 0.283s | Total: 0:02:21 | ETA: 0:03:28 | Loss: 0.2568 | top1:  88.6761\n"
     ]
    },
    {
     "name": "stderr",
     "output_type": "stream",
     "text": [
      " 47%|█████████████████████████████████████▎                                         | 600/1272 [02:48<02:56,  3.81it/s]"
     ]
    },
    {
     "name": "stdout",
     "output_type": "stream",
     "text": [
      "(600/1272) Data: 0.013s | Batch: 0.281s | Total: 0:02:48 | ETA: 0:02:59 | Loss: 0.2549 | top1:  88.7621\n"
     ]
    },
    {
     "name": "stderr",
     "output_type": "stream",
     "text": [
      " 55%|███████████████████████████████████████████▍                                   | 700/1272 [03:15<02:32,  3.74it/s]"
     ]
    },
    {
     "name": "stdout",
     "output_type": "stream",
     "text": [
      "(700/1272) Data: 0.011s | Batch: 0.279s | Total: 0:03:15 | ETA: 0:02:33 | Loss: 0.2532 | top1:  88.8283\n"
     ]
    },
    {
     "name": "stderr",
     "output_type": "stream",
     "text": [
      " 63%|█████████████████████████████████████████████████▋                             | 800/1272 [03:42<02:09,  3.65it/s]"
     ]
    },
    {
     "name": "stdout",
     "output_type": "stream",
     "text": [
      "(800/1272) Data: 0.010s | Batch: 0.278s | Total: 0:03:42 | ETA: 0:02:09 | Loss: 0.2519 | top1:  88.8783\n"
     ]
    },
    {
     "name": "stderr",
     "output_type": "stream",
     "text": [
      " 71%|███████████████████████████████████████████████████████▉                       | 900/1272 [04:09<01:41,  3.65it/s]"
     ]
    },
    {
     "name": "stdout",
     "output_type": "stream",
     "text": [
      "(900/1272) Data: 0.009s | Batch: 0.277s | Total: 0:04:09 | ETA: 0:01:40 | Loss: 0.2505 | top1:  88.9388\n"
     ]
    },
    {
     "name": "stderr",
     "output_type": "stream",
     "text": [
      " 79%|█████████████████████████████████████████████████████████████▎                | 1000/1272 [04:36<01:12,  3.73it/s]"
     ]
    },
    {
     "name": "stdout",
     "output_type": "stream",
     "text": [
      "(1000/1272) Data: 0.008s | Batch: 0.277s | Total: 0:04:36 | ETA: 0:01:15 | Loss: 0.2491 | top1:  88.9972\n"
     ]
    },
    {
     "name": "stderr",
     "output_type": "stream",
     "text": [
      " 86%|███████████████████████████████████████████████████████████████████▍          | 1100/1272 [05:03<00:46,  3.66it/s]"
     ]
    },
    {
     "name": "stdout",
     "output_type": "stream",
     "text": [
      "(1100/1272) Data: 0.007s | Batch: 0.276s | Total: 0:05:03 | ETA: 0:00:47 | Loss: 0.2479 | top1:  89.0444\n"
     ]
    },
    {
     "name": "stderr",
     "output_type": "stream",
     "text": [
      " 94%|█████████████████████████████████████████████████████████████████████████▌    | 1200/1272 [05:30<00:19,  3.66it/s]"
     ]
    },
    {
     "name": "stdout",
     "output_type": "stream",
     "text": [
      "(1200/1272) Data: 0.007s | Batch: 0.276s | Total: 0:05:30 | ETA: 0:00:20 | Loss: 0.2468 | top1:  89.0886\n"
     ]
    },
    {
     "name": "stderr",
     "output_type": "stream",
     "text": [
      "100%|██████████████████████████████████████████████████████████████████████████████| 1272/1272 [05:51<00:00,  3.62it/s]\n",
      "100%|████████████████████████████████████████████████████████████████████████████████| 156/156 [00:21<00:00,  7.12it/s]\n"
     ]
    },
    {
     "name": "stdout",
     "output_type": "stream",
     "text": [
      "=> saving checkpoint 'checkpoints\\checkpoint.pth.tar'\n"
     ]
    },
    {
     "name": "stderr",
     "output_type": "stream",
     "text": [
      "  0%|                                                                                         | 0/1272 [00:00<?, ?it/s]"
     ]
    },
    {
     "name": "stdout",
     "output_type": "stream",
     "text": [
      "=> saving best model 'checkpoints\\model_best.pth.tar'\n",
      "\n",
      "Epoch: [4 | 60] LR: 0.100000\n"
     ]
    },
    {
     "name": "stderr",
     "output_type": "stream",
     "text": [
      "  8%|██████▏                                                                        | 100/1272 [00:33<05:17,  3.70it/s]"
     ]
    },
    {
     "name": "stdout",
     "output_type": "stream",
     "text": [
      "(100/1272) Data: 0.072s | Batch: 0.333s | Total: 0:00:33 | ETA: 0:05:15 | Loss: 0.2331 | top1:  89.6322\n"
     ]
    },
    {
     "name": "stderr",
     "output_type": "stream",
     "text": [
      " 16%|████████████▍                                                                  | 200/1272 [01:00<04:45,  3.75it/s]"
     ]
    },
    {
     "name": "stdout",
     "output_type": "stream",
     "text": [
      "(200/1272) Data: 0.036s | Batch: 0.301s | Total: 0:01:00 | ETA: 0:04:49 | Loss: 0.2312 | top1:  89.7237\n"
     ]
    },
    {
     "name": "stderr",
     "output_type": "stream",
     "text": [
      " 24%|██████████████████▋                                                            | 300/1272 [01:26<04:23,  3.69it/s]"
     ]
    },
    {
     "name": "stdout",
     "output_type": "stream",
     "text": [
      "(300/1272) Data: 0.025s | Batch: 0.290s | Total: 0:01:26 | ETA: 0:04:21 | Loss: 0.2298 | top1:  89.7958\n"
     ]
    },
    {
     "name": "stderr",
     "output_type": "stream",
     "text": [
      " 31%|████████████████████████▊                                                      | 400/1272 [01:53<03:47,  3.83it/s]"
     ]
    },
    {
     "name": "stdout",
     "output_type": "stream",
     "text": [
      "(400/1272) Data: 0.019s | Batch: 0.284s | Total: 0:01:53 | ETA: 0:03:56 | Loss: 0.2291 | top1:  89.8364\n"
     ]
    },
    {
     "name": "stderr",
     "output_type": "stream",
     "text": [
      " 39%|███████████████████████████████                                                | 500/1272 [02:20<03:26,  3.74it/s]"
     ]
    },
    {
     "name": "stdout",
     "output_type": "stream",
     "text": [
      "(500/1272) Data: 0.015s | Batch: 0.281s | Total: 0:02:20 | ETA: 0:03:28 | Loss: 0.2282 | top1:  89.8717\n"
     ]
    },
    {
     "name": "stderr",
     "output_type": "stream",
     "text": [
      " 47%|█████████████████████████████████████▎                                         | 600/1272 [02:47<03:05,  3.61it/s]"
     ]
    },
    {
     "name": "stdout",
     "output_type": "stream",
     "text": [
      "(600/1272) Data: 0.013s | Batch: 0.279s | Total: 0:02:47 | ETA: 0:03:00 | Loss: 0.2277 | top1:  89.9022\n"
     ]
    },
    {
     "name": "stderr",
     "output_type": "stream",
     "text": [
      " 55%|███████████████████████████████████████████▍                                   | 700/1272 [03:13<02:34,  3.71it/s]"
     ]
    },
    {
     "name": "stdout",
     "output_type": "stream",
     "text": [
      "(700/1272) Data: 0.011s | Batch: 0.277s | Total: 0:03:13 | ETA: 0:02:35 | Loss: 0.2274 | top1:  89.9191\n"
     ]
    },
    {
     "name": "stderr",
     "output_type": "stream",
     "text": [
      " 63%|█████████████████████████████████████████████████▋                             | 800/1272 [03:40<02:04,  3.79it/s]"
     ]
    },
    {
     "name": "stdout",
     "output_type": "stream",
     "text": [
      "(800/1272) Data: 0.010s | Batch: 0.276s | Total: 0:03:40 | ETA: 0:02:07 | Loss: 0.2271 | top1:  89.9395\n"
     ]
    },
    {
     "name": "stderr",
     "output_type": "stream",
     "text": [
      " 71%|███████████████████████████████████████████████████████▉                       | 900/1272 [04:07<01:38,  3.78it/s]"
     ]
    },
    {
     "name": "stdout",
     "output_type": "stream",
     "text": [
      "(900/1272) Data: 0.009s | Batch: 0.275s | Total: 0:04:07 | ETA: 0:01:39 | Loss: 0.2265 | top1:  89.9640\n"
     ]
    },
    {
     "name": "stderr",
     "output_type": "stream",
     "text": [
      " 79%|█████████████████████████████████████████████████████████████▎                | 1000/1272 [04:34<01:11,  3.78it/s]"
     ]
    },
    {
     "name": "stdout",
     "output_type": "stream",
     "text": [
      "(1000/1272) Data: 0.008s | Batch: 0.274s | Total: 0:04:34 | ETA: 0:01:14 | Loss: 0.2259 | top1:  89.9918\n"
     ]
    },
    {
     "name": "stderr",
     "output_type": "stream",
     "text": [
      " 86%|███████████████████████████████████████████████████████████████████▍          | 1100/1272 [05:00<00:45,  3.76it/s]"
     ]
    },
    {
     "name": "stdout",
     "output_type": "stream",
     "text": [
      "(1100/1272) Data: 0.007s | Batch: 0.273s | Total: 0:05:00 | ETA: 0:00:46 | Loss: 0.2254 | top1:  90.0138\n"
     ]
    },
    {
     "name": "stderr",
     "output_type": "stream",
     "text": [
      " 94%|█████████████████████████████████████████████████████████████████████████▌    | 1200/1272 [05:27<00:19,  3.68it/s]"
     ]
    },
    {
     "name": "stdout",
     "output_type": "stream",
     "text": [
      "(1200/1272) Data: 0.007s | Batch: 0.273s | Total: 0:05:27 | ETA: 0:00:20 | Loss: 0.2249 | top1:  90.0373\n"
     ]
    },
    {
     "name": "stderr",
     "output_type": "stream",
     "text": [
      "100%|██████████████████████████████████████████████████████████████████████████████| 1272/1272 [05:47<00:00,  3.66it/s]\n",
      "100%|████████████████████████████████████████████████████████████████████████████████| 156/156 [00:20<00:00,  7.44it/s]\n"
     ]
    },
    {
     "name": "stdout",
     "output_type": "stream",
     "text": [
      "=> saving checkpoint 'checkpoints\\checkpoint.pth.tar'\n"
     ]
    },
    {
     "name": "stderr",
     "output_type": "stream",
     "text": [
      "  0%|                                                                                         | 0/1272 [00:00<?, ?it/s]"
     ]
    },
    {
     "name": "stdout",
     "output_type": "stream",
     "text": [
      "\n",
      "Epoch: [5 | 60] LR: 0.100000\n"
     ]
    },
    {
     "name": "stderr",
     "output_type": "stream",
     "text": [
      "  8%|██████▏                                                                        | 100/1272 [00:32<05:06,  3.83it/s]"
     ]
    },
    {
     "name": "stdout",
     "output_type": "stream",
     "text": [
      "(100/1272) Data: 0.069s | Batch: 0.326s | Total: 0:00:32 | ETA: 0:05:06 | Loss: 0.2171 | top1:  90.4109\n"
     ]
    },
    {
     "name": "stderr",
     "output_type": "stream",
     "text": [
      " 16%|████████████▍                                                                  | 200/1272 [00:58<04:40,  3.82it/s]"
     ]
    },
    {
     "name": "stdout",
     "output_type": "stream",
     "text": [
      "(200/1272) Data: 0.035s | Batch: 0.295s | Total: 0:00:58 | ETA: 0:04:46 | Loss: 0.2177 | top1:  90.3692\n"
     ]
    },
    {
     "name": "stderr",
     "output_type": "stream",
     "text": [
      " 24%|██████████████████▋                                                            | 300/1272 [01:25<04:18,  3.75it/s]"
     ]
    },
    {
     "name": "stdout",
     "output_type": "stream",
     "text": [
      "(300/1272) Data: 0.023s | Batch: 0.285s | Total: 0:01:25 | ETA: 0:04:21 | Loss: 0.2170 | top1:  90.3891\n"
     ]
    },
    {
     "name": "stderr",
     "output_type": "stream",
     "text": [
      " 31%|████████████████████████▊                                                      | 400/1272 [01:52<03:56,  3.69it/s]"
     ]
    },
    {
     "name": "stdout",
     "output_type": "stream",
     "text": [
      "(400/1272) Data: 0.018s | Batch: 0.280s | Total: 0:01:52 | ETA: 0:03:50 | Loss: 0.2167 | top1:  90.4063\n"
     ]
    },
    {
     "name": "stderr",
     "output_type": "stream",
     "text": [
      " 39%|███████████████████████████████                                                | 500/1272 [02:18<03:21,  3.83it/s]"
     ]
    },
    {
     "name": "stdout",
     "output_type": "stream",
     "text": [
      "(500/1272) Data: 0.014s | Batch: 0.278s | Total: 0:02:18 | ETA: 0:03:23 | Loss: 0.2163 | top1:  90.4301\n"
     ]
    },
    {
     "name": "stderr",
     "output_type": "stream",
     "text": [
      " 47%|█████████████████████████████████████▎                                         | 600/1272 [02:45<02:52,  3.89it/s]"
     ]
    },
    {
     "name": "stdout",
     "output_type": "stream",
     "text": [
      "(600/1272) Data: 0.012s | Batch: 0.276s | Total: 0:02:45 | ETA: 0:02:56 | Loss: 0.2157 | top1:  90.4507\n"
     ]
    },
    {
     "name": "stderr",
     "output_type": "stream",
     "text": [
      " 55%|███████████████████████████████████████████▍                                   | 700/1272 [03:12<02:28,  3.85it/s]"
     ]
    },
    {
     "name": "stdout",
     "output_type": "stream",
     "text": [
      "(700/1272) Data: 0.010s | Batch: 0.274s | Total: 0:03:12 | ETA: 0:02:31 | Loss: 0.2152 | top1:  90.4708\n"
     ]
    },
    {
     "name": "stderr",
     "output_type": "stream",
     "text": [
      " 63%|█████████████████████████████████████████████████▋                             | 800/1272 [03:38<02:05,  3.76it/s]"
     ]
    },
    {
     "name": "stdout",
     "output_type": "stream",
     "text": [
      "(800/1272) Data: 0.009s | Batch: 0.274s | Total: 0:03:38 | ETA: 0:02:07 | Loss: 0.2149 | top1:  90.4831\n"
     ]
    },
    {
     "name": "stderr",
     "output_type": "stream",
     "text": [
      " 71%|███████████████████████████████████████████████████████▉                       | 900/1272 [04:05<01:36,  3.84it/s]"
     ]
    },
    {
     "name": "stdout",
     "output_type": "stream",
     "text": [
      "(900/1272) Data: 0.008s | Batch: 0.273s | Total: 0:04:05 | ETA: 0:01:39 | Loss: 0.2146 | top1:  90.4976\n"
     ]
    },
    {
     "name": "stderr",
     "output_type": "stream",
     "text": [
      " 79%|█████████████████████████████████████████████████████████████▎                | 1000/1272 [04:32<01:12,  3.77it/s]"
     ]
    },
    {
     "name": "stdout",
     "output_type": "stream",
     "text": [
      "(1000/1272) Data: 0.008s | Batch: 0.272s | Total: 0:04:32 | ETA: 0:01:12 | Loss: 0.2143 | top1:  90.5112\n"
     ]
    },
    {
     "name": "stderr",
     "output_type": "stream",
     "text": [
      " 86%|███████████████████████████████████████████████████████████████████▍          | 1100/1272 [04:58<00:47,  3.65it/s]"
     ]
    },
    {
     "name": "stdout",
     "output_type": "stream",
     "text": [
      "(1100/1272) Data: 0.007s | Batch: 0.272s | Total: 0:04:58 | ETA: 0:00:46 | Loss: 0.2141 | top1:  90.5214\n"
     ]
    },
    {
     "name": "stderr",
     "output_type": "stream",
     "text": [
      " 94%|█████████████████████████████████████████████████████████████████████████▌    | 1200/1272 [05:25<00:19,  3.73it/s]"
     ]
    },
    {
     "name": "stdout",
     "output_type": "stream",
     "text": [
      "(1200/1272) Data: 0.006s | Batch: 0.271s | Total: 0:05:25 | ETA: 0:00:20 | Loss: 0.2139 | top1:  90.5328\n"
     ]
    },
    {
     "name": "stderr",
     "output_type": "stream",
     "text": [
      "100%|██████████████████████████████████████████████████████████████████████████████| 1272/1272 [05:45<00:00,  3.68it/s]\n",
      "100%|████████████████████████████████████████████████████████████████████████████████| 156/156 [00:20<00:00,  7.43it/s]\n"
     ]
    },
    {
     "name": "stdout",
     "output_type": "stream",
     "text": [
      "=> saving checkpoint 'checkpoints\\checkpoint.pth.tar'\n"
     ]
    },
    {
     "name": "stderr",
     "output_type": "stream",
     "text": [
      "  0%|                                                                                         | 0/1272 [00:00<?, ?it/s]"
     ]
    },
    {
     "name": "stdout",
     "output_type": "stream",
     "text": [
      "=> saving best model 'checkpoints\\model_best.pth.tar'\n",
      "\n",
      "Epoch: [6 | 60] LR: 0.100000\n"
     ]
    },
    {
     "name": "stderr",
     "output_type": "stream",
     "text": [
      "  8%|██████▏                                                                        | 100/1272 [00:32<05:14,  3.73it/s]"
     ]
    },
    {
     "name": "stdout",
     "output_type": "stream",
     "text": [
      "(100/1272) Data: 0.066s | Batch: 0.325s | Total: 0:00:32 | ETA: 0:05:08 | Loss: 0.2075 | top1:  90.8555\n"
     ]
    },
    {
     "name": "stderr",
     "output_type": "stream",
     "text": [
      " 16%|████████████▍                                                                  | 200/1272 [00:59<04:46,  3.74it/s]"
     ]
    },
    {
     "name": "stdout",
     "output_type": "stream",
     "text": [
      "(200/1272) Data: 0.033s | Batch: 0.295s | Total: 0:00:59 | ETA: 0:04:44 | Loss: 0.2081 | top1:  90.8183\n"
     ]
    },
    {
     "name": "stderr",
     "output_type": "stream",
     "text": [
      " 24%|██████████████████▋                                                            | 300/1272 [01:25<04:23,  3.69it/s]"
     ]
    },
    {
     "name": "stdout",
     "output_type": "stream",
     "text": [
      "(300/1272) Data: 0.023s | Batch: 0.286s | Total: 0:01:25 | ETA: 0:04:19 | Loss: 0.2080 | top1:  90.8072\n"
     ]
    },
    {
     "name": "stderr",
     "output_type": "stream",
     "text": [
      " 31%|████████████████████████▊                                                      | 400/1272 [01:52<03:51,  3.76it/s]"
     ]
    },
    {
     "name": "stdout",
     "output_type": "stream",
     "text": [
      "(400/1272) Data: 0.017s | Batch: 0.281s | Total: 0:01:52 | ETA: 0:03:55 | Loss: 0.2079 | top1:  90.8056\n"
     ]
    },
    {
     "name": "stderr",
     "output_type": "stream",
     "text": [
      " 39%|███████████████████████████████                                                | 500/1272 [02:19<03:24,  3.78it/s]"
     ]
    },
    {
     "name": "stdout",
     "output_type": "stream",
     "text": [
      "(500/1272) Data: 0.014s | Batch: 0.279s | Total: 0:02:19 | ETA: 0:03:23 | Loss: 0.2078 | top1:  90.8071\n"
     ]
    },
    {
     "name": "stderr",
     "output_type": "stream",
     "text": [
      " 47%|█████████████████████████████████████▎                                         | 600/1272 [02:45<02:59,  3.74it/s]"
     ]
    },
    {
     "name": "stdout",
     "output_type": "stream",
     "text": [
      "(600/1272) Data: 0.012s | Batch: 0.277s | Total: 0:02:45 | ETA: 0:03:01 | Loss: 0.2077 | top1:  90.8191\n"
     ]
    },
    {
     "name": "stderr",
     "output_type": "stream",
     "text": [
      " 55%|███████████████████████████████████████████▍                                   | 700/1272 [03:12<02:33,  3.74it/s]"
     ]
    },
    {
     "name": "stdout",
     "output_type": "stream",
     "text": [
      "(700/1272) Data: 0.010s | Batch: 0.275s | Total: 0:03:12 | ETA: 0:02:33 | Loss: 0.2075 | top1:  90.8245\n"
     ]
    },
    {
     "name": "stderr",
     "output_type": "stream",
     "text": [
      " 63%|█████████████████████████████████████████████████▋                             | 800/1272 [03:39<02:04,  3.79it/s]"
     ]
    },
    {
     "name": "stdout",
     "output_type": "stream",
     "text": [
      "(800/1272) Data: 0.009s | Batch: 0.274s | Total: 0:03:39 | ETA: 0:02:07 | Loss: 0.2073 | top1:  90.8337\n"
     ]
    },
    {
     "name": "stderr",
     "output_type": "stream",
     "text": [
      " 71%|███████████████████████████████████████████████████████▉                       | 900/1272 [04:06<01:39,  3.75it/s]"
     ]
    },
    {
     "name": "stdout",
     "output_type": "stream",
     "text": [
      "(900/1272) Data: 0.008s | Batch: 0.274s | Total: 0:04:06 | ETA: 0:01:41 | Loss: 0.2072 | top1:  90.8350\n"
     ]
    },
    {
     "name": "stderr",
     "output_type": "stream",
     "text": [
      " 79%|█████████████████████████████████████████████████████████████▎                | 1000/1272 [04:33<01:12,  3.73it/s]"
     ]
    },
    {
     "name": "stdout",
     "output_type": "stream",
     "text": [
      "(1000/1272) Data: 0.007s | Batch: 0.273s | Total: 0:04:33 | ETA: 0:01:14 | Loss: 0.2069 | top1:  90.8488\n"
     ]
    },
    {
     "name": "stderr",
     "output_type": "stream",
     "text": [
      " 86%|███████████████████████████████████████████████████████████████████▍          | 1100/1272 [04:59<00:44,  3.87it/s]"
     ]
    },
    {
     "name": "stdout",
     "output_type": "stream",
     "text": [
      "(1100/1272) Data: 0.007s | Batch: 0.273s | Total: 0:04:59 | ETA: 0:00:46 | Loss: 0.2067 | top1:  90.8560\n"
     ]
    },
    {
     "name": "stderr",
     "output_type": "stream",
     "text": [
      " 94%|█████████████████████████████████████████████████████████████████████████▌    | 1200/1272 [05:26<00:19,  3.66it/s]"
     ]
    },
    {
     "name": "stdout",
     "output_type": "stream",
     "text": [
      "(1200/1272) Data: 0.006s | Batch: 0.272s | Total: 0:05:26 | ETA: 0:00:20 | Loss: 0.2066 | top1:  90.8592\n"
     ]
    },
    {
     "name": "stderr",
     "output_type": "stream",
     "text": [
      "100%|██████████████████████████████████████████████████████████████████████████████| 1272/1272 [05:46<00:00,  3.67it/s]\n",
      "100%|████████████████████████████████████████████████████████████████████████████████| 156/156 [00:20<00:00,  7.47it/s]\n"
     ]
    },
    {
     "name": "stdout",
     "output_type": "stream",
     "text": [
      "=> saving checkpoint 'checkpoints\\checkpoint.pth.tar'\n"
     ]
    },
    {
     "name": "stderr",
     "output_type": "stream",
     "text": [
      "  0%|                                                                                         | 0/1272 [00:00<?, ?it/s]"
     ]
    },
    {
     "name": "stdout",
     "output_type": "stream",
     "text": [
      "\n",
      "Epoch: [7 | 60] LR: 0.100000\n"
     ]
    },
    {
     "name": "stderr",
     "output_type": "stream",
     "text": [
      "  8%|██████▏                                                                        | 100/1272 [00:32<05:11,  3.76it/s]"
     ]
    },
    {
     "name": "stdout",
     "output_type": "stream",
     "text": [
      "(100/1272) Data: 0.070s | Batch: 0.327s | Total: 0:00:32 | ETA: 0:05:07 | Loss: 0.2020 | top1:  91.0221\n"
     ]
    },
    {
     "name": "stderr",
     "output_type": "stream",
     "text": [
      " 16%|████████████▍                                                                  | 200/1272 [00:59<04:46,  3.75it/s]"
     ]
    },
    {
     "name": "stdout",
     "output_type": "stream",
     "text": [
      "(200/1272) Data: 0.035s | Batch: 0.296s | Total: 0:00:59 | ETA: 0:04:50 | Loss: 0.2016 | top1:  91.0798\n"
     ]
    },
    {
     "name": "stderr",
     "output_type": "stream",
     "text": [
      " 24%|██████████████████▋                                                            | 300/1272 [01:25<04:21,  3.72it/s]"
     ]
    },
    {
     "name": "stdout",
     "output_type": "stream",
     "text": [
      "(300/1272) Data: 0.024s | Batch: 0.286s | Total: 0:01:25 | ETA: 0:04:20 | Loss: 0.2016 | top1:  91.0827\n"
     ]
    },
    {
     "name": "stderr",
     "output_type": "stream",
     "text": [
      " 31%|████████████████████████▊                                                      | 400/1272 [01:52<03:57,  3.66it/s]"
     ]
    },
    {
     "name": "stdout",
     "output_type": "stream",
     "text": [
      "(400/1272) Data: 0.018s | Batch: 0.282s | Total: 0:01:52 | ETA: 0:04:00 | Loss: 0.2016 | top1:  91.0838\n"
     ]
    },
    {
     "name": "stderr",
     "output_type": "stream",
     "text": [
      " 39%|███████████████████████████████                                                | 500/1272 [02:19<03:29,  3.68it/s]"
     ]
    },
    {
     "name": "stdout",
     "output_type": "stream",
     "text": [
      "(500/1272) Data: 0.015s | Batch: 0.279s | Total: 0:02:19 | ETA: 0:03:28 | Loss: 0.2017 | top1:  91.0803\n"
     ]
    },
    {
     "name": "stderr",
     "output_type": "stream",
     "text": [
      " 47%|█████████████████████████████████████▎                                         | 600/1272 [02:46<03:04,  3.64it/s]"
     ]
    },
    {
     "name": "stdout",
     "output_type": "stream",
     "text": [
      "(600/1272) Data: 0.012s | Batch: 0.277s | Total: 0:02:46 | ETA: 0:03:01 | Loss: 0.2015 | top1:  91.0888\n"
     ]
    },
    {
     "name": "stderr",
     "output_type": "stream",
     "text": [
      " 55%|███████████████████████████████████████████▍                                   | 700/1272 [03:13<02:36,  3.66it/s]"
     ]
    },
    {
     "name": "stdout",
     "output_type": "stream",
     "text": [
      "(700/1272) Data: 0.011s | Batch: 0.276s | Total: 0:03:13 | ETA: 0:02:35 | Loss: 0.2015 | top1:  91.0861\n"
     ]
    },
    {
     "name": "stderr",
     "output_type": "stream",
     "text": [
      " 63%|█████████████████████████████████████████████████▋                             | 800/1272 [03:39<02:06,  3.73it/s]"
     ]
    },
    {
     "name": "stdout",
     "output_type": "stream",
     "text": [
      "(800/1272) Data: 0.009s | Batch: 0.275s | Total: 0:03:39 | ETA: 0:02:09 | Loss: 0.2015 | top1:  91.0825\n"
     ]
    },
    {
     "name": "stderr",
     "output_type": "stream",
     "text": [
      " 71%|███████████████████████████████████████████████████████▉                       | 900/1272 [04:06<01:39,  3.74it/s]"
     ]
    },
    {
     "name": "stdout",
     "output_type": "stream",
     "text": [
      "(900/1272) Data: 0.008s | Batch: 0.274s | Total: 0:04:06 | ETA: 0:01:40 | Loss: 0.2015 | top1:  91.0913\n"
     ]
    },
    {
     "name": "stderr",
     "output_type": "stream",
     "text": [
      " 79%|█████████████████████████████████████████████████████████████▎                | 1000/1272 [04:33<01:12,  3.74it/s]"
     ]
    },
    {
     "name": "stdout",
     "output_type": "stream",
     "text": [
      "(1000/1272) Data: 0.008s | Batch: 0.273s | Total: 0:04:33 | ETA: 0:01:13 | Loss: 0.2014 | top1:  91.0882\n"
     ]
    },
    {
     "name": "stderr",
     "output_type": "stream",
     "text": [
      " 86%|███████████████████████████████████████████████████████████████████▍          | 1100/1272 [05:00<00:44,  3.83it/s]"
     ]
    },
    {
     "name": "stdout",
     "output_type": "stream",
     "text": [
      "(1100/1272) Data: 0.007s | Batch: 0.273s | Total: 0:05:00 | ETA: 0:00:47 | Loss: 0.2014 | top1:  91.0885\n"
     ]
    },
    {
     "name": "stderr",
     "output_type": "stream",
     "text": [
      " 94%|█████████████████████████████████████████████████████████████████████████▌    | 1200/1272 [05:26<00:19,  3.68it/s]"
     ]
    },
    {
     "name": "stdout",
     "output_type": "stream",
     "text": [
      "(1200/1272) Data: 0.007s | Batch: 0.272s | Total: 0:05:26 | ETA: 0:00:20 | Loss: 0.2014 | top1:  91.0930\n"
     ]
    },
    {
     "name": "stderr",
     "output_type": "stream",
     "text": [
      "100%|██████████████████████████████████████████████████████████████████████████████| 1272/1272 [05:47<00:00,  3.67it/s]\n",
      "100%|████████████████████████████████████████████████████████████████████████████████| 156/156 [00:20<00:00,  7.47it/s]\n"
     ]
    },
    {
     "name": "stdout",
     "output_type": "stream",
     "text": [
      "=> saving checkpoint 'checkpoints\\checkpoint.pth.tar'\n"
     ]
    },
    {
     "name": "stderr",
     "output_type": "stream",
     "text": [
      "  0%|                                                                                         | 0/1272 [00:00<?, ?it/s]"
     ]
    },
    {
     "name": "stdout",
     "output_type": "stream",
     "text": [
      "=> saving best model 'checkpoints\\model_best.pth.tar'\n",
      "\n",
      "Epoch: [8 | 60] LR: 0.100000\n"
     ]
    },
    {
     "name": "stderr",
     "output_type": "stream",
     "text": [
      "  8%|██████▏                                                                        | 100/1272 [00:32<05:15,  3.71it/s]"
     ]
    },
    {
     "name": "stdout",
     "output_type": "stream",
     "text": [
      "(100/1272) Data: 0.070s | Batch: 0.327s | Total: 0:00:32 | ETA: 0:05:10 | Loss: 0.1976 | top1:  91.2400\n"
     ]
    },
    {
     "name": "stderr",
     "output_type": "stream",
     "text": [
      " 16%|████████████▍                                                                  | 200/1272 [00:59<04:46,  3.74it/s]"
     ]
    },
    {
     "name": "stdout",
     "output_type": "stream",
     "text": [
      "(200/1272) Data: 0.035s | Batch: 0.296s | Total: 0:00:59 | ETA: 0:04:48 | Loss: 0.1982 | top1:  91.2266\n"
     ]
    },
    {
     "name": "stderr",
     "output_type": "stream",
     "text": [
      " 24%|██████████████████▋                                                            | 300/1272 [01:25<04:09,  3.89it/s]"
     ]
    },
    {
     "name": "stdout",
     "output_type": "stream",
     "text": [
      "(300/1272) Data: 0.024s | Batch: 0.286s | Total: 0:01:25 | ETA: 0:04:15 | Loss: 0.1980 | top1:  91.2310\n"
     ]
    },
    {
     "name": "stderr",
     "output_type": "stream",
     "text": [
      " 31%|████████████████████████▊                                                      | 400/1272 [01:52<03:52,  3.75it/s]"
     ]
    },
    {
     "name": "stdout",
     "output_type": "stream",
     "text": [
      "(400/1272) Data: 0.018s | Batch: 0.281s | Total: 0:01:52 | ETA: 0:03:52 | Loss: 0.1980 | top1:  91.2214\n"
     ]
    },
    {
     "name": "stderr",
     "output_type": "stream",
     "text": [
      " 39%|███████████████████████████████                                                | 500/1272 [02:19<03:25,  3.76it/s]"
     ]
    },
    {
     "name": "stdout",
     "output_type": "stream",
     "text": [
      "(500/1272) Data: 0.015s | Batch: 0.278s | Total: 0:02:19 | ETA: 0:03:26 | Loss: 0.1980 | top1:  91.2260\n"
     ]
    },
    {
     "name": "stderr",
     "output_type": "stream",
     "text": [
      " 47%|█████████████████████████████████████▎                                         | 600/1272 [02:45<03:01,  3.71it/s]"
     ]
    },
    {
     "name": "stdout",
     "output_type": "stream",
     "text": [
      "(600/1272) Data: 0.012s | Batch: 0.276s | Total: 0:02:45 | ETA: 0:03:03 | Loss: 0.1981 | top1:  91.2270\n"
     ]
    },
    {
     "name": "stderr",
     "output_type": "stream",
     "text": [
      " 55%|███████████████████████████████████████████▍                                   | 700/1272 [03:12<02:31,  3.79it/s]"
     ]
    },
    {
     "name": "stdout",
     "output_type": "stream",
     "text": [
      "(700/1272) Data: 0.011s | Batch: 0.275s | Total: 0:03:12 | ETA: 0:02:31 | Loss: 0.1978 | top1:  91.2413\n"
     ]
    },
    {
     "name": "stderr",
     "output_type": "stream",
     "text": [
      " 63%|█████████████████████████████████████████████████▋                             | 800/1272 [03:39<02:04,  3.80it/s]"
     ]
    },
    {
     "name": "stdout",
     "output_type": "stream",
     "text": [
      "(800/1272) Data: 0.009s | Batch: 0.274s | Total: 0:03:39 | ETA: 0:02:06 | Loss: 0.1978 | top1:  91.2455\n"
     ]
    },
    {
     "name": "stderr",
     "output_type": "stream",
     "text": [
      " 71%|███████████████████████████████████████████████████████▉                       | 900/1272 [04:05<01:37,  3.82it/s]"
     ]
    },
    {
     "name": "stdout",
     "output_type": "stream",
     "text": [
      "(900/1272) Data: 0.008s | Batch: 0.273s | Total: 0:04:05 | ETA: 0:01:39 | Loss: 0.1976 | top1:  91.2503\n"
     ]
    },
    {
     "name": "stderr",
     "output_type": "stream",
     "text": [
      " 79%|█████████████████████████████████████████████████████████████▎                | 1000/1272 [04:32<01:12,  3.74it/s]"
     ]
    },
    {
     "name": "stdout",
     "output_type": "stream",
     "text": [
      "(1000/1272) Data: 0.008s | Batch: 0.273s | Total: 0:04:32 | ETA: 0:01:14 | Loss: 0.1977 | top1:  91.2438\n"
     ]
    },
    {
     "name": "stderr",
     "output_type": "stream",
     "text": [
      " 86%|███████████████████████████████████████████████████████████████████▍          | 1100/1272 [04:59<00:45,  3.79it/s]"
     ]
    },
    {
     "name": "stdout",
     "output_type": "stream",
     "text": [
      "(1100/1272) Data: 0.007s | Batch: 0.272s | Total: 0:04:59 | ETA: 0:00:46 | Loss: 0.1977 | top1:  91.2469\n"
     ]
    },
    {
     "name": "stderr",
     "output_type": "stream",
     "text": [
      " 94%|█████████████████████████████████████████████████████████████████████████▌    | 1200/1272 [05:26<00:19,  3.71it/s]"
     ]
    },
    {
     "name": "stdout",
     "output_type": "stream",
     "text": [
      "(1200/1272) Data: 0.006s | Batch: 0.272s | Total: 0:05:26 | ETA: 0:00:20 | Loss: 0.1977 | top1:  91.2466\n"
     ]
    },
    {
     "name": "stderr",
     "output_type": "stream",
     "text": [
      "100%|██████████████████████████████████████████████████████████████████████████████| 1272/1272 [05:46<00:00,  3.68it/s]\n",
      "100%|████████████████████████████████████████████████████████████████████████████████| 156/156 [00:21<00:00,  7.38it/s]\n"
     ]
    },
    {
     "name": "stdout",
     "output_type": "stream",
     "text": [
      "=> saving checkpoint 'checkpoints\\checkpoint.pth.tar'\n"
     ]
    },
    {
     "name": "stderr",
     "output_type": "stream",
     "text": [
      "  0%|                                                                                         | 0/1272 [00:00<?, ?it/s]"
     ]
    },
    {
     "name": "stdout",
     "output_type": "stream",
     "text": [
      "\n",
      "Epoch: [9 | 60] LR: 0.100000\n"
     ]
    },
    {
     "name": "stderr",
     "output_type": "stream",
     "text": [
      "  8%|██████▏                                                                        | 100/1272 [00:32<05:11,  3.76it/s]"
     ]
    },
    {
     "name": "stdout",
     "output_type": "stream",
     "text": [
      "(100/1272) Data: 0.072s | Batch: 0.329s | Total: 0:00:32 | ETA: 0:05:12 | Loss: 0.1936 | top1:  91.4453\n"
     ]
    },
    {
     "name": "stderr",
     "output_type": "stream",
     "text": [
      " 16%|████████████▍                                                                  | 200/1272 [00:59<04:42,  3.79it/s]"
     ]
    },
    {
     "name": "stdout",
     "output_type": "stream",
     "text": [
      "(200/1272) Data: 0.036s | Batch: 0.297s | Total: 0:00:59 | ETA: 0:04:43 | Loss: 0.1932 | top1:  91.4592\n"
     ]
    },
    {
     "name": "stderr",
     "output_type": "stream",
     "text": [
      " 24%|██████████████████▋                                                            | 300/1272 [01:26<04:22,  3.70it/s]"
     ]
    },
    {
     "name": "stdout",
     "output_type": "stream",
     "text": [
      "(300/1272) Data: 0.024s | Batch: 0.287s | Total: 0:01:26 | ETA: 0:04:23 | Loss: 0.1937 | top1:  91.4358\n"
     ]
    },
    {
     "name": "stderr",
     "output_type": "stream",
     "text": [
      " 31%|████████████████████████▊                                                      | 400/1272 [01:52<03:54,  3.72it/s]"
     ]
    },
    {
     "name": "stdout",
     "output_type": "stream",
     "text": [
      "(400/1272) Data: 0.019s | Batch: 0.282s | Total: 0:01:52 | ETA: 0:03:56 | Loss: 0.1943 | top1:  91.4231\n"
     ]
    },
    {
     "name": "stderr",
     "output_type": "stream",
     "text": [
      " 39%|███████████████████████████████                                                | 500/1272 [02:19<03:29,  3.69it/s]"
     ]
    },
    {
     "name": "stdout",
     "output_type": "stream",
     "text": [
      "(500/1272) Data: 0.015s | Batch: 0.279s | Total: 0:02:19 | ETA: 0:03:29 | Loss: 0.1943 | top1:  91.4113\n"
     ]
    },
    {
     "name": "stderr",
     "output_type": "stream",
     "text": [
      " 47%|█████████████████████████████████████▎                                         | 600/1272 [02:46<02:59,  3.73it/s]"
     ]
    },
    {
     "name": "stdout",
     "output_type": "stream",
     "text": [
      "(600/1272) Data: 0.013s | Batch: 0.277s | Total: 0:02:46 | ETA: 0:02:58 | Loss: 0.1945 | top1:  91.4020\n"
     ]
    },
    {
     "name": "stderr",
     "output_type": "stream",
     "text": [
      " 55%|███████████████████████████████████████████▍                                   | 700/1272 [03:13<02:31,  3.77it/s]"
     ]
    },
    {
     "name": "stdout",
     "output_type": "stream",
     "text": [
      "(700/1272) Data: 0.011s | Batch: 0.276s | Total: 0:03:13 | ETA: 0:02:34 | Loss: 0.1946 | top1:  91.3943\n"
     ]
    },
    {
     "name": "stderr",
     "output_type": "stream",
     "text": [
      " 63%|█████████████████████████████████████████████████▋                             | 800/1272 [03:39<02:04,  3.79it/s]"
     ]
    },
    {
     "name": "stdout",
     "output_type": "stream",
     "text": [
      "(800/1272) Data: 0.010s | Batch: 0.275s | Total: 0:03:39 | ETA: 0:02:07 | Loss: 0.1945 | top1:  91.3987\n"
     ]
    },
    {
     "name": "stderr",
     "output_type": "stream",
     "text": [
      " 71%|███████████████████████████████████████████████████████▉                       | 900/1272 [04:06<01:37,  3.81it/s]"
     ]
    },
    {
     "name": "stdout",
     "output_type": "stream",
     "text": [
      "(900/1272) Data: 0.009s | Batch: 0.274s | Total: 0:04:06 | ETA: 0:01:40 | Loss: 0.1946 | top1:  91.3938\n"
     ]
    },
    {
     "name": "stderr",
     "output_type": "stream",
     "text": [
      " 79%|█████████████████████████████████████████████████████████████▎                | 1000/1272 [04:33<01:12,  3.73it/s]"
     ]
    },
    {
     "name": "stdout",
     "output_type": "stream",
     "text": [
      "(1000/1272) Data: 0.008s | Batch: 0.273s | Total: 0:04:33 | ETA: 0:01:13 | Loss: 0.1947 | top1:  91.3865\n"
     ]
    },
    {
     "name": "stderr",
     "output_type": "stream",
     "text": [
      " 86%|███████████████████████████████████████████████████████████████████▍          | 1100/1272 [05:00<00:46,  3.68it/s]"
     ]
    },
    {
     "name": "stdout",
     "output_type": "stream",
     "text": [
      "(1100/1272) Data: 0.007s | Batch: 0.273s | Total: 0:05:00 | ETA: 0:00:48 | Loss: 0.1947 | top1:  91.3860\n"
     ]
    },
    {
     "name": "stderr",
     "output_type": "stream",
     "text": [
      " 94%|█████████████████████████████████████████████████████████████████████████▌    | 1200/1272 [05:26<00:19,  3.79it/s]"
     ]
    },
    {
     "name": "stdout",
     "output_type": "stream",
     "text": [
      "(1200/1272) Data: 0.007s | Batch: 0.272s | Total: 0:05:26 | ETA: 0:00:20 | Loss: 0.1947 | top1:  91.3839\n"
     ]
    },
    {
     "name": "stderr",
     "output_type": "stream",
     "text": [
      "100%|██████████████████████████████████████████████████████████████████████████████| 1272/1272 [05:46<00:00,  3.67it/s]\n",
      "100%|████████████████████████████████████████████████████████████████████████████████| 156/156 [00:20<00:00,  7.46it/s]\n"
     ]
    },
    {
     "name": "stdout",
     "output_type": "stream",
     "text": [
      "=> saving checkpoint 'checkpoints\\checkpoint.pth.tar'\n"
     ]
    },
    {
     "name": "stderr",
     "output_type": "stream",
     "text": [
      "  0%|                                                                                         | 0/1272 [00:00<?, ?it/s]"
     ]
    },
    {
     "name": "stdout",
     "output_type": "stream",
     "text": [
      "\n",
      "Epoch: [10 | 60] LR: 0.100000\n"
     ]
    },
    {
     "name": "stderr",
     "output_type": "stream",
     "text": [
      "  8%|██████▏                                                                        | 100/1272 [00:32<05:12,  3.75it/s]"
     ]
    },
    {
     "name": "stdout",
     "output_type": "stream",
     "text": [
      "(100/1272) Data: 0.071s | Batch: 0.329s | Total: 0:00:32 | ETA: 0:05:16 | Loss: 0.1908 | top1:  91.5477\n"
     ]
    },
    {
     "name": "stderr",
     "output_type": "stream",
     "text": [
      " 16%|████████████▍                                                                  | 200/1272 [00:59<04:49,  3.70it/s]"
     ]
    },
    {
     "name": "stdout",
     "output_type": "stream",
     "text": [
      "(200/1272) Data: 0.036s | Batch: 0.298s | Total: 0:00:59 | ETA: 0:04:46 | Loss: 0.1915 | top1:  91.5205\n"
     ]
    },
    {
     "name": "stderr",
     "output_type": "stream",
     "text": [
      " 24%|██████████████████▋                                                            | 300/1272 [01:26<04:20,  3.73it/s]"
     ]
    },
    {
     "name": "stdout",
     "output_type": "stream",
     "text": [
      "(300/1272) Data: 0.024s | Batch: 0.287s | Total: 0:01:26 | ETA: 0:04:16 | Loss: 0.1920 | top1:  91.4933\n"
     ]
    },
    {
     "name": "stderr",
     "output_type": "stream",
     "text": [
      " 31%|████████████████████████▊                                                      | 400/1272 [01:52<03:50,  3.78it/s]"
     ]
    },
    {
     "name": "stdout",
     "output_type": "stream",
     "text": [
      "(400/1272) Data: 0.018s | Batch: 0.282s | Total: 0:01:52 | ETA: 0:03:57 | Loss: 0.1921 | top1:  91.4950\n"
     ]
    },
    {
     "name": "stderr",
     "output_type": "stream",
     "text": [
      " 39%|███████████████████████████████                                                | 500/1272 [02:19<03:29,  3.69it/s]"
     ]
    },
    {
     "name": "stdout",
     "output_type": "stream",
     "text": [
      "(500/1272) Data: 0.015s | Batch: 0.280s | Total: 0:02:19 | ETA: 0:03:27 | Loss: 0.1924 | top1:  91.4845\n"
     ]
    },
    {
     "name": "stderr",
     "output_type": "stream",
     "text": [
      " 47%|█████████████████████████████████████▎                                         | 600/1272 [02:46<02:59,  3.75it/s]"
     ]
    },
    {
     "name": "stdout",
     "output_type": "stream",
     "text": [
      "(600/1272) Data: 0.013s | Batch: 0.278s | Total: 0:02:46 | ETA: 0:02:57 | Loss: 0.1926 | top1:  91.4735\n"
     ]
    },
    {
     "name": "stderr",
     "output_type": "stream",
     "text": [
      " 55%|███████████████████████████████████████████▍                                   | 700/1272 [03:13<02:36,  3.67it/s]"
     ]
    },
    {
     "name": "stdout",
     "output_type": "stream",
     "text": [
      "(700/1272) Data: 0.011s | Batch: 0.277s | Total: 0:03:13 | ETA: 0:02:37 | Loss: 0.1925 | top1:  91.4836\n"
     ]
    },
    {
     "name": "stderr",
     "output_type": "stream",
     "text": [
      " 63%|█████████████████████████████████████████████████▋                             | 800/1272 [03:40<02:07,  3.70it/s]"
     ]
    },
    {
     "name": "stdout",
     "output_type": "stream",
     "text": [
      "(800/1272) Data: 0.010s | Batch: 0.276s | Total: 0:03:40 | ETA: 0:02:09 | Loss: 0.1923 | top1:  91.5007\n"
     ]
    },
    {
     "name": "stderr",
     "output_type": "stream",
     "text": [
      " 71%|███████████████████████████████████████████████████████▉                       | 900/1272 [04:07<01:39,  3.74it/s]"
     ]
    },
    {
     "name": "stdout",
     "output_type": "stream",
     "text": [
      "(900/1272) Data: 0.009s | Batch: 0.275s | Total: 0:04:07 | ETA: 0:01:41 | Loss: 0.1924 | top1:  91.4921\n"
     ]
    },
    {
     "name": "stderr",
     "output_type": "stream",
     "text": [
      " 79%|█████████████████████████████████████████████████████████████▎                | 1000/1272 [04:34<01:10,  3.86it/s]"
     ]
    },
    {
     "name": "stdout",
     "output_type": "stream",
     "text": [
      "(1000/1272) Data: 0.008s | Batch: 0.274s | Total: 0:04:34 | ETA: 0:01:12 | Loss: 0.1923 | top1:  91.4948\n"
     ]
    },
    {
     "name": "stderr",
     "output_type": "stream",
     "text": [
      " 86%|███████████████████████████████████████████████████████████████████▍          | 1100/1272 [05:00<00:45,  3.77it/s]"
     ]
    },
    {
     "name": "stdout",
     "output_type": "stream",
     "text": [
      "(1100/1272) Data: 0.007s | Batch: 0.274s | Total: 0:05:00 | ETA: 0:00:47 | Loss: 0.1924 | top1:  91.4944\n"
     ]
    },
    {
     "name": "stderr",
     "output_type": "stream",
     "text": [
      " 94%|█████████████████████████████████████████████████████████████████████████▌    | 1200/1272 [05:27<00:18,  3.81it/s]"
     ]
    },
    {
     "name": "stdout",
     "output_type": "stream",
     "text": [
      "(1200/1272) Data: 0.007s | Batch: 0.273s | Total: 0:05:27 | ETA: 0:00:20 | Loss: 0.1924 | top1:  91.4927\n"
     ]
    },
    {
     "name": "stderr",
     "output_type": "stream",
     "text": [
      "100%|██████████████████████████████████████████████████████████████████████████████| 1272/1272 [05:47<00:00,  3.66it/s]\n",
      "100%|████████████████████████████████████████████████████████████████████████████████| 156/156 [00:20<00:00,  7.47it/s]\n"
     ]
    },
    {
     "name": "stdout",
     "output_type": "stream",
     "text": [
      "=> saving checkpoint 'checkpoints\\checkpoint.pth.tar'\n"
     ]
    },
    {
     "name": "stderr",
     "output_type": "stream",
     "text": [
      "  0%|                                                                                         | 0/1272 [00:00<?, ?it/s]"
     ]
    },
    {
     "name": "stdout",
     "output_type": "stream",
     "text": [
      "=> saving best model 'checkpoints\\model_best.pth.tar'\n",
      "\n",
      "Epoch: [11 | 60] LR: 0.100000\n"
     ]
    },
    {
     "name": "stderr",
     "output_type": "stream",
     "text": [
      "  8%|██████▏                                                                        | 100/1272 [00:32<05:09,  3.79it/s]"
     ]
    },
    {
     "name": "stdout",
     "output_type": "stream",
     "text": [
      "(100/1272) Data: 0.072s | Batch: 0.328s | Total: 0:00:32 | ETA: 0:05:10 | Loss: 0.1882 | top1:  91.6678\n"
     ]
    },
    {
     "name": "stderr",
     "output_type": "stream",
     "text": [
      " 16%|████████████▍                                                                  | 200/1272 [00:59<04:42,  3.80it/s]"
     ]
    },
    {
     "name": "stdout",
     "output_type": "stream",
     "text": [
      "(200/1272) Data: 0.036s | Batch: 0.298s | Total: 0:00:59 | ETA: 0:04:46 | Loss: 0.1894 | top1:  91.6218\n"
     ]
    },
    {
     "name": "stderr",
     "output_type": "stream",
     "text": [
      " 24%|██████████████████▋                                                            | 300/1272 [01:26<04:16,  3.79it/s]"
     ]
    },
    {
     "name": "stdout",
     "output_type": "stream",
     "text": [
      "(300/1272) Data: 0.025s | Batch: 0.288s | Total: 0:01:26 | ETA: 0:04:21 | Loss: 0.1896 | top1:  91.6085\n"
     ]
    },
    {
     "name": "stderr",
     "output_type": "stream",
     "text": [
      " 31%|████████████████████████▊                                                      | 400/1272 [01:52<03:52,  3.75it/s]"
     ]
    },
    {
     "name": "stdout",
     "output_type": "stream",
     "text": [
      "(400/1272) Data: 0.019s | Batch: 0.282s | Total: 0:01:52 | ETA: 0:03:55 | Loss: 0.1894 | top1:  91.6272\n"
     ]
    },
    {
     "name": "stderr",
     "output_type": "stream",
     "text": [
      " 39%|███████████████████████████████                                                | 500/1272 [02:19<03:32,  3.63it/s]"
     ]
    },
    {
     "name": "stdout",
     "output_type": "stream",
     "text": [
      "(500/1272) Data: 0.015s | Batch: 0.279s | Total: 0:02:19 | ETA: 0:03:28 | Loss: 0.1896 | top1:  91.6217\n"
     ]
    },
    {
     "name": "stderr",
     "output_type": "stream",
     "text": [
      " 47%|█████████████████████████████████████▎                                         | 600/1272 [02:46<02:59,  3.75it/s]"
     ]
    },
    {
     "name": "stdout",
     "output_type": "stream",
     "text": [
      "(600/1272) Data: 0.013s | Batch: 0.277s | Total: 0:02:46 | ETA: 0:03:01 | Loss: 0.1900 | top1:  91.6026\n"
     ]
    },
    {
     "name": "stderr",
     "output_type": "stream",
     "text": [
      " 55%|███████████████████████████████████████████▍                                   | 700/1272 [03:13<02:29,  3.84it/s]"
     ]
    },
    {
     "name": "stdout",
     "output_type": "stream",
     "text": [
      "(700/1272) Data: 0.011s | Batch: 0.276s | Total: 0:03:13 | ETA: 0:02:33 | Loss: 0.1903 | top1:  91.5886\n"
     ]
    },
    {
     "name": "stderr",
     "output_type": "stream",
     "text": [
      " 63%|█████████████████████████████████████████████████▋                             | 800/1272 [03:39<02:04,  3.79it/s]"
     ]
    },
    {
     "name": "stdout",
     "output_type": "stream",
     "text": [
      "(800/1272) Data: 0.010s | Batch: 0.275s | Total: 0:03:39 | ETA: 0:02:05 | Loss: 0.1901 | top1:  91.5946\n"
     ]
    },
    {
     "name": "stderr",
     "output_type": "stream",
     "text": [
      " 71%|███████████████████████████████████████████████████████▉                       | 900/1272 [04:06<01:40,  3.72it/s]"
     ]
    },
    {
     "name": "stdout",
     "output_type": "stream",
     "text": [
      "(900/1272) Data: 0.009s | Batch: 0.274s | Total: 0:04:06 | ETA: 0:01:40 | Loss: 0.1902 | top1:  91.5869\n"
     ]
    },
    {
     "name": "stderr",
     "output_type": "stream",
     "text": [
      " 79%|█████████████████████████████████████████████████████████████▎                | 1000/1272 [04:33<01:13,  3.71it/s]"
     ]
    },
    {
     "name": "stdout",
     "output_type": "stream",
     "text": [
      "(1000/1272) Data: 0.008s | Batch: 0.273s | Total: 0:04:33 | ETA: 0:01:13 | Loss: 0.1903 | top1:  91.5839\n"
     ]
    },
    {
     "name": "stderr",
     "output_type": "stream",
     "text": [
      " 86%|███████████████████████████████████████████████████████████████████▍          | 1100/1272 [05:00<00:45,  3.78it/s]"
     ]
    },
    {
     "name": "stdout",
     "output_type": "stream",
     "text": [
      "(1100/1272) Data: 0.007s | Batch: 0.273s | Total: 0:05:00 | ETA: 0:00:46 | Loss: 0.1904 | top1:  91.5808\n"
     ]
    },
    {
     "name": "stderr",
     "output_type": "stream",
     "text": [
      " 94%|█████████████████████████████████████████████████████████████████████████▌    | 1200/1272 [05:26<00:19,  3.75it/s]"
     ]
    },
    {
     "name": "stdout",
     "output_type": "stream",
     "text": [
      "(1200/1272) Data: 0.007s | Batch: 0.272s | Total: 0:05:26 | ETA: 0:00:20 | Loss: 0.1905 | top1:  91.5767\n"
     ]
    },
    {
     "name": "stderr",
     "output_type": "stream",
     "text": [
      "100%|██████████████████████████████████████████████████████████████████████████████| 1272/1272 [05:46<00:00,  3.67it/s]\n",
      "100%|████████████████████████████████████████████████████████████████████████████████| 156/156 [00:20<00:00,  7.52it/s]\n"
     ]
    },
    {
     "name": "stdout",
     "output_type": "stream",
     "text": [
      "=> saving checkpoint 'checkpoints\\checkpoint.pth.tar'\n"
     ]
    },
    {
     "name": "stderr",
     "output_type": "stream",
     "text": [
      "  0%|                                                                                         | 0/1272 [00:00<?, ?it/s]"
     ]
    },
    {
     "name": "stdout",
     "output_type": "stream",
     "text": [
      "=> saving best model 'checkpoints\\model_best.pth.tar'\n",
      "\n",
      "Epoch: [12 | 60] LR: 0.100000\n"
     ]
    },
    {
     "name": "stderr",
     "output_type": "stream",
     "text": [
      "  8%|██████▏                                                                        | 100/1272 [00:32<05:07,  3.81it/s]"
     ]
    },
    {
     "name": "stdout",
     "output_type": "stream",
     "text": [
      "(100/1272) Data: 0.066s | Batch: 0.325s | Total: 0:00:32 | ETA: 0:05:11 | Loss: 0.1869 | top1:  91.6973\n"
     ]
    },
    {
     "name": "stderr",
     "output_type": "stream",
     "text": [
      " 16%|████████████▍                                                                  | 200/1272 [00:59<04:42,  3.79it/s]"
     ]
    },
    {
     "name": "stdout",
     "output_type": "stream",
     "text": [
      "(200/1272) Data: 0.033s | Batch: 0.295s | Total: 0:00:59 | ETA: 0:04:45 | Loss: 0.1870 | top1:  91.7082\n"
     ]
    },
    {
     "name": "stderr",
     "output_type": "stream",
     "text": [
      " 24%|██████████████████▋                                                            | 300/1272 [01:25<04:23,  3.69it/s]"
     ]
    },
    {
     "name": "stdout",
     "output_type": "stream",
     "text": [
      "(300/1272) Data: 0.023s | Batch: 0.286s | Total: 0:01:25 | ETA: 0:04:21 | Loss: 0.1876 | top1:  91.6836\n"
     ]
    },
    {
     "name": "stderr",
     "output_type": "stream",
     "text": [
      " 31%|████████████████████████▊                                                      | 400/1272 [01:52<03:54,  3.71it/s]"
     ]
    },
    {
     "name": "stdout",
     "output_type": "stream",
     "text": [
      "(400/1272) Data: 0.017s | Batch: 0.281s | Total: 0:01:52 | ETA: 0:03:52 | Loss: 0.1877 | top1:  91.6854\n"
     ]
    },
    {
     "name": "stderr",
     "output_type": "stream",
     "text": [
      " 39%|███████████████████████████████                                                | 500/1272 [02:19<03:27,  3.73it/s]"
     ]
    },
    {
     "name": "stdout",
     "output_type": "stream",
     "text": [
      "(500/1272) Data: 0.014s | Batch: 0.279s | Total: 0:02:19 | ETA: 0:03:29 | Loss: 0.1878 | top1:  91.6887\n"
     ]
    },
    {
     "name": "stderr",
     "output_type": "stream",
     "text": [
      " 47%|█████████████████████████████████████▎                                         | 600/1272 [02:46<03:04,  3.65it/s]"
     ]
    },
    {
     "name": "stdout",
     "output_type": "stream",
     "text": [
      "(600/1272) Data: 0.012s | Batch: 0.277s | Total: 0:02:46 | ETA: 0:03:03 | Loss: 0.1881 | top1:  91.6719\n"
     ]
    },
    {
     "name": "stderr",
     "output_type": "stream",
     "text": [
      " 55%|███████████████████████████████████████████▍                                   | 700/1272 [03:13<02:35,  3.68it/s]"
     ]
    },
    {
     "name": "stdout",
     "output_type": "stream",
     "text": [
      "(700/1272) Data: 0.010s | Batch: 0.276s | Total: 0:03:13 | ETA: 0:02:35 | Loss: 0.1881 | top1:  91.6799\n"
     ]
    },
    {
     "name": "stderr",
     "output_type": "stream",
     "text": [
      " 63%|█████████████████████████████████████████████████▋                             | 800/1272 [03:39<02:05,  3.76it/s]"
     ]
    },
    {
     "name": "stdout",
     "output_type": "stream",
     "text": [
      "(800/1272) Data: 0.009s | Batch: 0.275s | Total: 0:03:39 | ETA: 0:02:05 | Loss: 0.1883 | top1:  91.6755\n"
     ]
    },
    {
     "name": "stderr",
     "output_type": "stream",
     "text": [
      " 71%|███████████████████████████████████████████████████████▉                       | 900/1272 [04:06<01:40,  3.72it/s]"
     ]
    },
    {
     "name": "stdout",
     "output_type": "stream",
     "text": [
      "(900/1272) Data: 0.008s | Batch: 0.274s | Total: 0:04:06 | ETA: 0:01:41 | Loss: 0.1883 | top1:  91.6712\n"
     ]
    },
    {
     "name": "stderr",
     "output_type": "stream",
     "text": [
      " 79%|█████████████████████████████████████████████████████████████▎                | 1000/1272 [04:33<01:12,  3.77it/s]"
     ]
    },
    {
     "name": "stdout",
     "output_type": "stream",
     "text": [
      "(1000/1272) Data: 0.007s | Batch: 0.273s | Total: 0:04:33 | ETA: 0:01:13 | Loss: 0.1885 | top1:  91.6650\n"
     ]
    },
    {
     "name": "stderr",
     "output_type": "stream",
     "text": [
      " 86%|███████████████████████████████████████████████████████████████████▍          | 1100/1272 [05:00<00:46,  3.67it/s]"
     ]
    },
    {
     "name": "stdout",
     "output_type": "stream",
     "text": [
      "(1100/1272) Data: 0.007s | Batch: 0.273s | Total: 0:05:00 | ETA: 0:00:48 | Loss: 0.1886 | top1:  91.6627\n"
     ]
    },
    {
     "name": "stderr",
     "output_type": "stream",
     "text": [
      " 94%|█████████████████████████████████████████████████████████████████████████▌    | 1200/1272 [05:26<00:19,  3.77it/s]"
     ]
    },
    {
     "name": "stdout",
     "output_type": "stream",
     "text": [
      "(1200/1272) Data: 0.006s | Batch: 0.272s | Total: 0:05:26 | ETA: 0:00:20 | Loss: 0.1887 | top1:  91.6580\n"
     ]
    },
    {
     "name": "stderr",
     "output_type": "stream",
     "text": [
      "100%|██████████████████████████████████████████████████████████████████████████████| 1272/1272 [05:46<00:00,  3.67it/s]\n",
      "100%|████████████████████████████████████████████████████████████████████████████████| 156/156 [00:20<00:00,  7.50it/s]\n"
     ]
    },
    {
     "name": "stdout",
     "output_type": "stream",
     "text": [
      "=> saving checkpoint 'checkpoints\\checkpoint.pth.tar'\n"
     ]
    },
    {
     "name": "stderr",
     "output_type": "stream",
     "text": [
      "  0%|                                                                                         | 0/1272 [00:00<?, ?it/s]"
     ]
    },
    {
     "name": "stdout",
     "output_type": "stream",
     "text": [
      "\n",
      "Epoch: [13 | 60] LR: 0.100000\n"
     ]
    },
    {
     "name": "stderr",
     "output_type": "stream",
     "text": [
      "  8%|██████▏                                                                        | 100/1272 [00:32<05:10,  3.77it/s]"
     ]
    },
    {
     "name": "stdout",
     "output_type": "stream",
     "text": [
      "(100/1272) Data: 0.068s | Batch: 0.325s | Total: 0:00:32 | ETA: 0:05:11 | Loss: 0.1852 | top1:  91.8137\n"
     ]
    },
    {
     "name": "stderr",
     "output_type": "stream",
     "text": [
      " 16%|████████████▍                                                                  | 200/1272 [00:59<04:52,  3.66it/s]"
     ]
    },
    {
     "name": "stdout",
     "output_type": "stream",
     "text": [
      "(200/1272) Data: 0.034s | Batch: 0.296s | Total: 0:00:59 | ETA: 0:04:50 | Loss: 0.1856 | top1:  91.7783\n"
     ]
    },
    {
     "name": "stderr",
     "output_type": "stream",
     "text": [
      " 24%|██████████████████▋                                                            | 300/1272 [01:25<04:17,  3.77it/s]"
     ]
    },
    {
     "name": "stdout",
     "output_type": "stream",
     "text": [
      "(300/1272) Data: 0.023s | Batch: 0.287s | Total: 0:01:25 | ETA: 0:04:18 | Loss: 0.1858 | top1:  91.7658\n"
     ]
    },
    {
     "name": "stderr",
     "output_type": "stream",
     "text": [
      " 31%|████████████████████████▊                                                      | 400/1272 [01:52<03:49,  3.80it/s]"
     ]
    },
    {
     "name": "stdout",
     "output_type": "stream",
     "text": [
      "(400/1272) Data: 0.018s | Batch: 0.282s | Total: 0:01:52 | ETA: 0:03:52 | Loss: 0.1858 | top1:  91.7739\n"
     ]
    },
    {
     "name": "stderr",
     "output_type": "stream",
     "text": [
      " 39%|███████████████████████████████                                                | 500/1272 [02:19<03:31,  3.65it/s]"
     ]
    },
    {
     "name": "stdout",
     "output_type": "stream",
     "text": [
      "(500/1272) Data: 0.014s | Batch: 0.279s | Total: 0:02:19 | ETA: 0:03:26 | Loss: 0.1863 | top1:  91.7500\n"
     ]
    },
    {
     "name": "stderr",
     "output_type": "stream",
     "text": [
      " 47%|█████████████████████████████████████▎                                         | 600/1272 [02:46<03:00,  3.71it/s]"
     ]
    },
    {
     "name": "stdout",
     "output_type": "stream",
     "text": [
      "(600/1272) Data: 0.012s | Batch: 0.277s | Total: 0:02:46 | ETA: 0:03:00 | Loss: 0.1866 | top1:  91.7338\n"
     ]
    },
    {
     "name": "stderr",
     "output_type": "stream",
     "text": [
      " 55%|███████████████████████████████████████████▍                                   | 700/1272 [03:13<02:34,  3.70it/s]"
     ]
    },
    {
     "name": "stdout",
     "output_type": "stream",
     "text": [
      "(700/1272) Data: 0.010s | Batch: 0.276s | Total: 0:03:13 | ETA: 0:02:33 | Loss: 0.1868 | top1:  91.7296\n"
     ]
    },
    {
     "name": "stderr",
     "output_type": "stream",
     "text": [
      " 63%|█████████████████████████████████████████████████▋                             | 800/1272 [03:39<02:09,  3.65it/s]"
     ]
    },
    {
     "name": "stdout",
     "output_type": "stream",
     "text": [
      "(800/1272) Data: 0.009s | Batch: 0.275s | Total: 0:03:39 | ETA: 0:02:11 | Loss: 0.1868 | top1:  91.7260\n"
     ]
    },
    {
     "name": "stderr",
     "output_type": "stream",
     "text": [
      " 71%|███████████████████████████████████████████████████████▉                       | 900/1272 [04:06<01:41,  3.67it/s]"
     ]
    },
    {
     "name": "stdout",
     "output_type": "stream",
     "text": [
      "(900/1272) Data: 0.008s | Batch: 0.274s | Total: 0:04:06 | ETA: 0:01:41 | Loss: 0.1870 | top1:  91.7181\n"
     ]
    },
    {
     "name": "stderr",
     "output_type": "stream",
     "text": [
      " 79%|█████████████████████████████████████████████████████████████▎                | 1000/1272 [04:33<01:13,  3.71it/s]"
     ]
    },
    {
     "name": "stdout",
     "output_type": "stream",
     "text": [
      "(1000/1272) Data: 0.007s | Batch: 0.274s | Total: 0:04:33 | ETA: 0:01:14 | Loss: 0.1871 | top1:  91.7143\n"
     ]
    },
    {
     "name": "stderr",
     "output_type": "stream",
     "text": [
      " 86%|███████████████████████████████████████████████████████████████████▍          | 1100/1272 [05:00<00:46,  3.72it/s]"
     ]
    },
    {
     "name": "stdout",
     "output_type": "stream",
     "text": [
      "(1100/1272) Data: 0.007s | Batch: 0.273s | Total: 0:05:00 | ETA: 0:00:47 | Loss: 0.1873 | top1:  91.7041\n"
     ]
    },
    {
     "name": "stderr",
     "output_type": "stream",
     "text": [
      " 94%|█████████████████████████████████████████████████████████████████████████▌    | 1200/1272 [05:26<00:19,  3.66it/s]"
     ]
    },
    {
     "name": "stdout",
     "output_type": "stream",
     "text": [
      "(1200/1272) Data: 0.006s | Batch: 0.272s | Total: 0:05:26 | ETA: 0:00:20 | Loss: 0.1873 | top1:  91.7009\n"
     ]
    },
    {
     "name": "stderr",
     "output_type": "stream",
     "text": [
      "100%|██████████████████████████████████████████████████████████████████████████████| 1272/1272 [05:46<00:00,  3.67it/s]\n",
      "100%|████████████████████████████████████████████████████████████████████████████████| 156/156 [00:20<00:00,  7.48it/s]\n"
     ]
    },
    {
     "name": "stdout",
     "output_type": "stream",
     "text": [
      "=> saving checkpoint 'checkpoints\\checkpoint.pth.tar'\n"
     ]
    },
    {
     "name": "stderr",
     "output_type": "stream",
     "text": [
      "  0%|                                                                                         | 0/1272 [00:00<?, ?it/s]"
     ]
    },
    {
     "name": "stdout",
     "output_type": "stream",
     "text": [
      "\n",
      "Epoch: [14 | 60] LR: 0.100000\n"
     ]
    },
    {
     "name": "stderr",
     "output_type": "stream",
     "text": [
      "  8%|██████▏                                                                        | 100/1272 [00:32<05:04,  3.85it/s]"
     ]
    },
    {
     "name": "stdout",
     "output_type": "stream",
     "text": [
      "(100/1272) Data: 0.070s | Batch: 0.327s | Total: 0:00:32 | ETA: 0:05:12 | Loss: 0.1846 | top1:  91.7764\n"
     ]
    },
    {
     "name": "stderr",
     "output_type": "stream",
     "text": [
      " 16%|████████████▍                                                                  | 200/1272 [00:59<04:50,  3.69it/s]"
     ]
    },
    {
     "name": "stdout",
     "output_type": "stream",
     "text": [
      "(200/1272) Data: 0.036s | Batch: 0.297s | Total: 0:00:59 | ETA: 0:04:47 | Loss: 0.1847 | top1:  91.7928\n"
     ]
    },
    {
     "name": "stderr",
     "output_type": "stream",
     "text": [
      " 24%|██████████████████▋                                                            | 300/1272 [01:26<04:24,  3.68it/s]"
     ]
    },
    {
     "name": "stdout",
     "output_type": "stream",
     "text": [
      "(300/1272) Data: 0.024s | Batch: 0.287s | Total: 0:01:26 | ETA: 0:04:25 | Loss: 0.1848 | top1:  91.7958\n"
     ]
    },
    {
     "name": "stderr",
     "output_type": "stream",
     "text": [
      " 31%|████████████████████████▊                                                      | 400/1272 [01:52<03:58,  3.65it/s]"
     ]
    },
    {
     "name": "stdout",
     "output_type": "stream",
     "text": [
      "(400/1272) Data: 0.018s | Batch: 0.282s | Total: 0:01:52 | ETA: 0:03:53 | Loss: 0.1849 | top1:  91.7957\n"
     ]
    },
    {
     "name": "stderr",
     "output_type": "stream",
     "text": [
      " 39%|███████████████████████████████                                                | 500/1272 [02:19<03:24,  3.77it/s]"
     ]
    },
    {
     "name": "stdout",
     "output_type": "stream",
     "text": [
      "(500/1272) Data: 0.015s | Batch: 0.279s | Total: 0:02:19 | ETA: 0:03:28 | Loss: 0.1851 | top1:  91.7926\n"
     ]
    },
    {
     "name": "stderr",
     "output_type": "stream",
     "text": [
      " 47%|█████████████████████████████████████▎                                         | 600/1272 [02:46<03:05,  3.63it/s]"
     ]
    },
    {
     "name": "stdout",
     "output_type": "stream",
     "text": [
      "(600/1272) Data: 0.012s | Batch: 0.277s | Total: 0:02:46 | ETA: 0:02:59 | Loss: 0.1854 | top1:  91.7826\n"
     ]
    },
    {
     "name": "stderr",
     "output_type": "stream",
     "text": [
      " 55%|███████████████████████████████████████████▍                                   | 700/1272 [03:12<02:33,  3.72it/s]"
     ]
    },
    {
     "name": "stdout",
     "output_type": "stream",
     "text": [
      "(700/1272) Data: 0.011s | Batch: 0.276s | Total: 0:03:12 | ETA: 0:02:34 | Loss: 0.1855 | top1:  91.7757\n"
     ]
    },
    {
     "name": "stderr",
     "output_type": "stream",
     "text": [
      " 63%|█████████████████████████████████████████████████▋                             | 800/1272 [03:39<02:03,  3.81it/s]"
     ]
    },
    {
     "name": "stdout",
     "output_type": "stream",
     "text": [
      "(800/1272) Data: 0.009s | Batch: 0.275s | Total: 0:03:39 | ETA: 0:02:06 | Loss: 0.1856 | top1:  91.7686\n"
     ]
    },
    {
     "name": "stderr",
     "output_type": "stream",
     "text": [
      " 71%|███████████████████████████████████████████████████████▉                       | 900/1272 [04:06<01:36,  3.86it/s]"
     ]
    },
    {
     "name": "stdout",
     "output_type": "stream",
     "text": [
      "(900/1272) Data: 0.008s | Batch: 0.274s | Total: 0:04:06 | ETA: 0:01:38 | Loss: 0.1858 | top1:  91.7624\n"
     ]
    },
    {
     "name": "stderr",
     "output_type": "stream",
     "text": [
      " 79%|█████████████████████████████████████████████████████████████▎                | 1000/1272 [04:33<01:14,  3.67it/s]"
     ]
    },
    {
     "name": "stdout",
     "output_type": "stream",
     "text": [
      "(1000/1272) Data: 0.008s | Batch: 0.273s | Total: 0:04:33 | ETA: 0:01:14 | Loss: 0.1859 | top1:  91.7602\n"
     ]
    },
    {
     "name": "stderr",
     "output_type": "stream",
     "text": [
      " 86%|███████████████████████████████████████████████████████████████████▍          | 1100/1272 [04:59<00:46,  3.73it/s]"
     ]
    },
    {
     "name": "stdout",
     "output_type": "stream",
     "text": [
      "(1100/1272) Data: 0.007s | Batch: 0.273s | Total: 0:04:59 | ETA: 0:00:46 | Loss: 0.1859 | top1:  91.7570\n"
     ]
    },
    {
     "name": "stderr",
     "output_type": "stream",
     "text": [
      " 94%|█████████████████████████████████████████████████████████████████████████▌    | 1200/1272 [05:26<00:18,  3.81it/s]"
     ]
    },
    {
     "name": "stdout",
     "output_type": "stream",
     "text": [
      "(1200/1272) Data: 0.007s | Batch: 0.272s | Total: 0:05:26 | ETA: 0:00:20 | Loss: 0.1860 | top1:  91.7536\n"
     ]
    },
    {
     "name": "stderr",
     "output_type": "stream",
     "text": [
      "100%|██████████████████████████████████████████████████████████████████████████████| 1272/1272 [05:46<00:00,  3.67it/s]\n",
      "100%|████████████████████████████████████████████████████████████████████████████████| 156/156 [00:20<00:00,  7.54it/s]\n"
     ]
    },
    {
     "name": "stdout",
     "output_type": "stream",
     "text": [
      "=> saving checkpoint 'checkpoints\\checkpoint.pth.tar'\n"
     ]
    },
    {
     "name": "stderr",
     "output_type": "stream",
     "text": [
      "  0%|                                                                                         | 0/1272 [00:00<?, ?it/s]"
     ]
    },
    {
     "name": "stdout",
     "output_type": "stream",
     "text": [
      "=> saving best model 'checkpoints\\model_best.pth.tar'\n",
      "\n",
      "Epoch: [15 | 60] LR: 0.100000\n"
     ]
    },
    {
     "name": "stderr",
     "output_type": "stream",
     "text": [
      "  8%|██████▏                                                                        | 100/1272 [00:32<05:16,  3.71it/s]"
     ]
    },
    {
     "name": "stdout",
     "output_type": "stream",
     "text": [
      "(100/1272) Data: 0.071s | Batch: 0.329s | Total: 0:00:32 | ETA: 0:05:13 | Loss: 0.1831 | top1:  91.8672\n"
     ]
    },
    {
     "name": "stderr",
     "output_type": "stream",
     "text": [
      " 16%|████████████▍                                                                  | 200/1272 [00:59<04:48,  3.71it/s]"
     ]
    },
    {
     "name": "stdout",
     "output_type": "stream",
     "text": [
      "(200/1272) Data: 0.036s | Batch: 0.298s | Total: 0:00:59 | ETA: 0:04:39 | Loss: 0.1829 | top1:  91.8921\n"
     ]
    },
    {
     "name": "stderr",
     "output_type": "stream",
     "text": [
      " 24%|██████████████████▋                                                            | 300/1272 [01:26<04:13,  3.84it/s]"
     ]
    },
    {
     "name": "stdout",
     "output_type": "stream",
     "text": [
      "(300/1272) Data: 0.024s | Batch: 0.287s | Total: 0:01:26 | ETA: 0:04:17 | Loss: 0.1830 | top1:  91.8733\n"
     ]
    },
    {
     "name": "stderr",
     "output_type": "stream",
     "text": [
      " 31%|████████████████████████▊                                                      | 400/1272 [01:53<03:55,  3.70it/s]"
     ]
    },
    {
     "name": "stdout",
     "output_type": "stream",
     "text": [
      "(400/1272) Data: 0.018s | Batch: 0.283s | Total: 0:01:53 | ETA: 0:03:57 | Loss: 0.1837 | top1:  91.8539\n"
     ]
    },
    {
     "name": "stderr",
     "output_type": "stream",
     "text": [
      " 39%|███████████████████████████████                                                | 500/1272 [02:19<03:23,  3.80it/s]"
     ]
    },
    {
     "name": "stdout",
     "output_type": "stream",
     "text": [
      "(500/1272) Data: 0.015s | Batch: 0.280s | Total: 0:02:19 | ETA: 0:03:30 | Loss: 0.1836 | top1:  91.8625\n"
     ]
    },
    {
     "name": "stderr",
     "output_type": "stream",
     "text": [
      " 47%|█████████████████████████████████████▎                                         | 600/1272 [02:46<02:59,  3.73it/s]"
     ]
    },
    {
     "name": "stdout",
     "output_type": "stream",
     "text": [
      "(600/1272) Data: 0.012s | Batch: 0.278s | Total: 0:02:46 | ETA: 0:03:02 | Loss: 0.1837 | top1:  91.8571\n"
     ]
    },
    {
     "name": "stderr",
     "output_type": "stream",
     "text": [
      " 55%|███████████████████████████████████████████▍                                   | 700/1272 [03:13<02:35,  3.68it/s]"
     ]
    },
    {
     "name": "stdout",
     "output_type": "stream",
     "text": [
      "(700/1272) Data: 0.011s | Batch: 0.276s | Total: 0:03:13 | ETA: 0:02:34 | Loss: 0.1840 | top1:  91.8482\n"
     ]
    },
    {
     "name": "stderr",
     "output_type": "stream",
     "text": [
      " 63%|█████████████████████████████████████████████████▋                             | 800/1272 [03:40<02:05,  3.77it/s]"
     ]
    },
    {
     "name": "stdout",
     "output_type": "stream",
     "text": [
      "(800/1272) Data: 0.009s | Batch: 0.275s | Total: 0:03:40 | ETA: 0:02:07 | Loss: 0.1843 | top1:  91.8356\n"
     ]
    },
    {
     "name": "stderr",
     "output_type": "stream",
     "text": [
      " 71%|███████████████████████████████████████████████████████▉                       | 900/1272 [04:07<01:41,  3.66it/s]"
     ]
    },
    {
     "name": "stdout",
     "output_type": "stream",
     "text": [
      "(900/1272) Data: 0.009s | Batch: 0.275s | Total: 0:04:07 | ETA: 0:01:41 | Loss: 0.1844 | top1:  91.8325\n"
     ]
    },
    {
     "name": "stderr",
     "output_type": "stream",
     "text": [
      " 79%|█████████████████████████████████████████████████████████████▎                | 1000/1272 [04:33<01:12,  3.76it/s]"
     ]
    },
    {
     "name": "stdout",
     "output_type": "stream",
     "text": [
      "(1000/1272) Data: 0.008s | Batch: 0.274s | Total: 0:04:33 | ETA: 0:01:13 | Loss: 0.1846 | top1:  91.8285\n"
     ]
    },
    {
     "name": "stderr",
     "output_type": "stream",
     "text": [
      " 86%|███████████████████████████████████████████████████████████████████▍          | 1100/1272 [05:00<00:44,  3.83it/s]"
     ]
    },
    {
     "name": "stdout",
     "output_type": "stream",
     "text": [
      "(1100/1272) Data: 0.007s | Batch: 0.273s | Total: 0:05:00 | ETA: 0:00:46 | Loss: 0.1847 | top1:  91.8242\n"
     ]
    },
    {
     "name": "stderr",
     "output_type": "stream",
     "text": [
      " 94%|█████████████████████████████████████████████████████████████████████████▌    | 1200/1272 [05:27<00:19,  3.69it/s]"
     ]
    },
    {
     "name": "stdout",
     "output_type": "stream",
     "text": [
      "(1200/1272) Data: 0.007s | Batch: 0.273s | Total: 0:05:27 | ETA: 0:00:20 | Loss: 0.1848 | top1:  91.8180\n"
     ]
    },
    {
     "name": "stderr",
     "output_type": "stream",
     "text": [
      "100%|██████████████████████████████████████████████████████████████████████████████| 1272/1272 [05:47<00:00,  3.66it/s]\n",
      "100%|████████████████████████████████████████████████████████████████████████████████| 156/156 [00:20<00:00,  7.54it/s]\n"
     ]
    },
    {
     "name": "stdout",
     "output_type": "stream",
     "text": [
      "=> saving checkpoint 'checkpoints\\checkpoint.pth.tar'\n"
     ]
    },
    {
     "name": "stderr",
     "output_type": "stream",
     "text": [
      "  0%|                                                                                         | 0/1272 [00:00<?, ?it/s]"
     ]
    },
    {
     "name": "stdout",
     "output_type": "stream",
     "text": [
      "\n",
      "Epoch: [16 | 60] LR: 0.100000\n"
     ]
    },
    {
     "name": "stderr",
     "output_type": "stream",
     "text": [
      "  8%|██████▏                                                                        | 100/1272 [00:32<05:14,  3.73it/s]"
     ]
    },
    {
     "name": "stdout",
     "output_type": "stream",
     "text": [
      "(100/1272) Data: 0.071s | Batch: 0.327s | Total: 0:00:32 | ETA: 0:05:08 | Loss: 0.1810 | top1:  92.0244\n"
     ]
    },
    {
     "name": "stderr",
     "output_type": "stream",
     "text": [
      " 16%|████████████▍                                                                  | 200/1272 [00:59<04:49,  3.71it/s]"
     ]
    },
    {
     "name": "stdout",
     "output_type": "stream",
     "text": [
      "(200/1272) Data: 0.036s | Batch: 0.297s | Total: 0:00:59 | ETA: 0:04:48 | Loss: 0.1813 | top1:  91.9916\n"
     ]
    },
    {
     "name": "stderr",
     "output_type": "stream",
     "text": [
      " 24%|██████████████████▋                                                            | 300/1272 [01:26<04:18,  3.77it/s]"
     ]
    },
    {
     "name": "stdout",
     "output_type": "stream",
     "text": [
      "(300/1272) Data: 0.024s | Batch: 0.287s | Total: 0:01:26 | ETA: 0:04:20 | Loss: 0.1817 | top1:  91.9866\n"
     ]
    },
    {
     "name": "stderr",
     "output_type": "stream",
     "text": [
      " 31%|████████████████████████▊                                                      | 400/1272 [01:52<03:49,  3.80it/s]"
     ]
    },
    {
     "name": "stdout",
     "output_type": "stream",
     "text": [
      "(400/1272) Data: 0.018s | Batch: 0.282s | Total: 0:01:52 | ETA: 0:03:57 | Loss: 0.1818 | top1:  91.9824\n"
     ]
    },
    {
     "name": "stderr",
     "output_type": "stream",
     "text": [
      " 39%|███████████████████████████████                                                | 500/1272 [02:19<03:25,  3.75it/s]"
     ]
    },
    {
     "name": "stdout",
     "output_type": "stream",
     "text": [
      "(500/1272) Data: 0.015s | Batch: 0.280s | Total: 0:02:19 | ETA: 0:03:29 | Loss: 0.1824 | top1:  91.9513\n"
     ]
    },
    {
     "name": "stderr",
     "output_type": "stream",
     "text": [
      " 47%|█████████████████████████████████████▎                                         | 600/1272 [02:46<02:57,  3.79it/s]"
     ]
    },
    {
     "name": "stdout",
     "output_type": "stream",
     "text": [
      "(600/1272) Data: 0.013s | Batch: 0.278s | Total: 0:02:46 | ETA: 0:03:00 | Loss: 0.1825 | top1:  91.9449\n"
     ]
    },
    {
     "name": "stderr",
     "output_type": "stream",
     "text": [
      " 55%|███████████████████████████████████████████▍                                   | 700/1272 [03:13<02:32,  3.75it/s]"
     ]
    },
    {
     "name": "stdout",
     "output_type": "stream",
     "text": [
      "(700/1272) Data: 0.011s | Batch: 0.276s | Total: 0:03:13 | ETA: 0:02:36 | Loss: 0.1826 | top1:  91.9342\n"
     ]
    },
    {
     "name": "stderr",
     "output_type": "stream",
     "text": [
      " 63%|█████████████████████████████████████████████████▋                             | 800/1272 [03:40<02:08,  3.67it/s]"
     ]
    },
    {
     "name": "stdout",
     "output_type": "stream",
     "text": [
      "(800/1272) Data: 0.010s | Batch: 0.275s | Total: 0:03:40 | ETA: 0:02:08 | Loss: 0.1828 | top1:  91.9258\n"
     ]
    },
    {
     "name": "stderr",
     "output_type": "stream",
     "text": [
      " 71%|███████████████████████████████████████████████████████▉                       | 900/1272 [04:07<01:41,  3.65it/s]"
     ]
    },
    {
     "name": "stdout",
     "output_type": "stream",
     "text": [
      "(900/1272) Data: 0.009s | Batch: 0.275s | Total: 0:04:07 | ETA: 0:01:41 | Loss: 0.1829 | top1:  91.9199\n"
     ]
    },
    {
     "name": "stderr",
     "output_type": "stream",
     "text": [
      " 79%|█████████████████████████████████████████████████████████████▎                | 1000/1272 [04:33<01:14,  3.67it/s]"
     ]
    },
    {
     "name": "stdout",
     "output_type": "stream",
     "text": [
      "(1000/1272) Data: 0.008s | Batch: 0.274s | Total: 0:04:33 | ETA: 0:01:15 | Loss: 0.1830 | top1:  91.9121\n"
     ]
    },
    {
     "name": "stderr",
     "output_type": "stream",
     "text": [
      " 86%|███████████████████████████████████████████████████████████████████▍          | 1100/1272 [05:00<00:46,  3.68it/s]"
     ]
    },
    {
     "name": "stdout",
     "output_type": "stream",
     "text": [
      "(1100/1272) Data: 0.007s | Batch: 0.273s | Total: 0:05:00 | ETA: 0:00:47 | Loss: 0.1831 | top1:  91.9049\n"
     ]
    },
    {
     "name": "stderr",
     "output_type": "stream",
     "text": [
      " 94%|█████████████████████████████████████████████████████████████████████████▌    | 1200/1272 [05:27<00:18,  3.82it/s]"
     ]
    },
    {
     "name": "stdout",
     "output_type": "stream",
     "text": [
      "(1200/1272) Data: 0.007s | Batch: 0.273s | Total: 0:05:27 | ETA: 0:00:20 | Loss: 0.1833 | top1:  91.8986\n"
     ]
    },
    {
     "name": "stderr",
     "output_type": "stream",
     "text": [
      "100%|██████████████████████████████████████████████████████████████████████████████| 1272/1272 [05:47<00:00,  3.66it/s]\n",
      "100%|████████████████████████████████████████████████████████████████████████████████| 156/156 [00:20<00:00,  7.54it/s]\n"
     ]
    },
    {
     "name": "stdout",
     "output_type": "stream",
     "text": [
      "=> saving checkpoint 'checkpoints\\checkpoint.pth.tar'\n"
     ]
    },
    {
     "name": "stderr",
     "output_type": "stream",
     "text": [
      "  0%|                                                                                         | 0/1272 [00:00<?, ?it/s]"
     ]
    },
    {
     "name": "stdout",
     "output_type": "stream",
     "text": [
      "\n",
      "Epoch: [17 | 60] LR: 0.100000\n"
     ]
    },
    {
     "name": "stderr",
     "output_type": "stream",
     "text": [
      "  8%|██████▏                                                                        | 100/1272 [00:32<05:06,  3.82it/s]"
     ]
    },
    {
     "name": "stdout",
     "output_type": "stream",
     "text": [
      "(100/1272) Data: 0.071s | Batch: 0.329s | Total: 0:00:32 | ETA: 0:05:08 | Loss: 0.1809 | top1:  92.0355\n"
     ]
    },
    {
     "name": "stderr",
     "output_type": "stream",
     "text": [
      " 16%|████████████▍                                                                  | 200/1272 [00:59<04:46,  3.74it/s]"
     ]
    },
    {
     "name": "stdout",
     "output_type": "stream",
     "text": [
      "(200/1272) Data: 0.036s | Batch: 0.297s | Total: 0:00:59 | ETA: 0:04:47 | Loss: 0.1807 | top1:  92.0305\n"
     ]
    },
    {
     "name": "stderr",
     "output_type": "stream",
     "text": [
      " 24%|██████████████████▋                                                            | 300/1272 [01:26<04:21,  3.71it/s]"
     ]
    },
    {
     "name": "stdout",
     "output_type": "stream",
     "text": [
      "(300/1272) Data: 0.024s | Batch: 0.287s | Total: 0:01:26 | ETA: 0:04:26 | Loss: 0.1807 | top1:  92.0204\n"
     ]
    },
    {
     "name": "stderr",
     "output_type": "stream",
     "text": [
      " 31%|████████████████████████▊                                                      | 400/1272 [01:52<03:50,  3.78it/s]"
     ]
    },
    {
     "name": "stdout",
     "output_type": "stream",
     "text": [
      "(400/1272) Data: 0.018s | Batch: 0.282s | Total: 0:01:52 | ETA: 0:03:50 | Loss: 0.1810 | top1:  91.9972\n"
     ]
    },
    {
     "name": "stderr",
     "output_type": "stream",
     "text": [
      " 39%|███████████████████████████████                                                | 500/1272 [02:19<03:22,  3.82it/s]"
     ]
    },
    {
     "name": "stdout",
     "output_type": "stream",
     "text": [
      "(500/1272) Data: 0.015s | Batch: 0.279s | Total: 0:02:19 | ETA: 0:03:27 | Loss: 0.1811 | top1:  91.9868\n"
     ]
    },
    {
     "name": "stderr",
     "output_type": "stream",
     "text": [
      " 47%|█████████████████████████████████████▎                                         | 600/1272 [02:46<02:59,  3.74it/s]"
     ]
    },
    {
     "name": "stdout",
     "output_type": "stream",
     "text": [
      "(600/1272) Data: 0.012s | Batch: 0.277s | Total: 0:02:46 | ETA: 0:02:57 | Loss: 0.1815 | top1:  91.9717\n"
     ]
    },
    {
     "name": "stderr",
     "output_type": "stream",
     "text": [
      " 55%|███████████████████████████████████████████▍                                   | 700/1272 [03:13<02:33,  3.71it/s]"
     ]
    },
    {
     "name": "stdout",
     "output_type": "stream",
     "text": [
      "(700/1272) Data: 0.011s | Batch: 0.276s | Total: 0:03:13 | ETA: 0:02:36 | Loss: 0.1817 | top1:  91.9669\n"
     ]
    },
    {
     "name": "stderr",
     "output_type": "stream",
     "text": [
      " 63%|█████████████████████████████████████████████████▋                             | 800/1272 [03:39<02:05,  3.76it/s]"
     ]
    },
    {
     "name": "stdout",
     "output_type": "stream",
     "text": [
      "(800/1272) Data: 0.010s | Batch: 0.275s | Total: 0:03:39 | ETA: 0:02:07 | Loss: 0.1818 | top1:  91.9640\n"
     ]
    },
    {
     "name": "stderr",
     "output_type": "stream",
     "text": [
      " 71%|███████████████████████████████████████████████████████▉                       | 900/1272 [04:06<01:40,  3.70it/s]"
     ]
    },
    {
     "name": "stdout",
     "output_type": "stream",
     "text": [
      "(900/1272) Data: 0.009s | Batch: 0.274s | Total: 0:04:06 | ETA: 0:01:41 | Loss: 0.1818 | top1:  91.9633\n"
     ]
    },
    {
     "name": "stderr",
     "output_type": "stream",
     "text": [
      " 79%|█████████████████████████████████████████████████████████████▎                | 1000/1272 [04:33<01:10,  3.86it/s]"
     ]
    },
    {
     "name": "stdout",
     "output_type": "stream",
     "text": [
      "(1000/1272) Data: 0.008s | Batch: 0.273s | Total: 0:04:33 | ETA: 0:01:13 | Loss: 0.1819 | top1:  91.9580\n"
     ]
    },
    {
     "name": "stderr",
     "output_type": "stream",
     "text": [
      " 86%|███████████████████████████████████████████████████████████████████▍          | 1100/1272 [05:00<00:45,  3.81it/s]"
     ]
    },
    {
     "name": "stdout",
     "output_type": "stream",
     "text": [
      "(1100/1272) Data: 0.007s | Batch: 0.273s | Total: 0:05:00 | ETA: 0:00:47 | Loss: 0.1821 | top1:  91.9466\n"
     ]
    },
    {
     "name": "stderr",
     "output_type": "stream",
     "text": [
      " 94%|█████████████████████████████████████████████████████████████████████████▌    | 1200/1272 [05:26<00:18,  3.84it/s]"
     ]
    },
    {
     "name": "stdout",
     "output_type": "stream",
     "text": [
      "(1200/1272) Data: 0.007s | Batch: 0.272s | Total: 0:05:26 | ETA: 0:00:20 | Loss: 0.1823 | top1:  91.9343\n"
     ]
    },
    {
     "name": "stderr",
     "output_type": "stream",
     "text": [
      "100%|██████████████████████████████████████████████████████████████████████████████| 1272/1272 [05:46<00:00,  3.67it/s]\n",
      "100%|████████████████████████████████████████████████████████████████████████████████| 156/156 [00:20<00:00,  7.50it/s]\n"
     ]
    },
    {
     "name": "stdout",
     "output_type": "stream",
     "text": [
      "=> saving checkpoint 'checkpoints\\checkpoint.pth.tar'\n"
     ]
    },
    {
     "name": "stderr",
     "output_type": "stream",
     "text": [
      "  0%|                                                                                         | 0/1272 [00:00<?, ?it/s]"
     ]
    },
    {
     "name": "stdout",
     "output_type": "stream",
     "text": [
      "\n",
      "Epoch: [18 | 60] LR: 0.100000\n"
     ]
    },
    {
     "name": "stderr",
     "output_type": "stream",
     "text": [
      "  8%|██████▏                                                                        | 100/1272 [00:32<05:15,  3.72it/s]"
     ]
    },
    {
     "name": "stdout",
     "output_type": "stream",
     "text": [
      "(100/1272) Data: 0.066s | Batch: 0.325s | Total: 0:00:32 | ETA: 0:05:12 | Loss: 0.1769 | top1:  92.1543\n"
     ]
    },
    {
     "name": "stderr",
     "output_type": "stream",
     "text": [
      " 16%|████████████▍                                                                  | 200/1272 [00:59<04:51,  3.68it/s]"
     ]
    },
    {
     "name": "stdout",
     "output_type": "stream",
     "text": [
      "(200/1272) Data: 0.034s | Batch: 0.296s | Total: 0:00:59 | ETA: 0:04:52 | Loss: 0.1786 | top1:  92.0735\n"
     ]
    },
    {
     "name": "stderr",
     "output_type": "stream",
     "text": [
      " 24%|██████████████████▋                                                            | 300/1272 [01:25<04:15,  3.81it/s]"
     ]
    },
    {
     "name": "stdout",
     "output_type": "stream",
     "text": [
      "(300/1272) Data: 0.023s | Batch: 0.286s | Total: 0:01:25 | ETA: 0:04:18 | Loss: 0.1793 | top1:  92.0557\n"
     ]
    },
    {
     "name": "stderr",
     "output_type": "stream",
     "text": [
      " 31%|████████████████████████▊                                                      | 400/1272 [01:52<04:05,  3.55it/s]"
     ]
    },
    {
     "name": "stdout",
     "output_type": "stream",
     "text": [
      "(400/1272) Data: 0.017s | Batch: 0.282s | Total: 0:01:52 | ETA: 0:03:57 | Loss: 0.1798 | top1:  92.0316\n"
     ]
    },
    {
     "name": "stderr",
     "output_type": "stream",
     "text": [
      " 39%|███████████████████████████████                                                | 500/1272 [02:19<03:29,  3.69it/s]"
     ]
    },
    {
     "name": "stdout",
     "output_type": "stream",
     "text": [
      "(500/1272) Data: 0.014s | Batch: 0.279s | Total: 0:02:19 | ETA: 0:03:27 | Loss: 0.1803 | top1:  92.0048\n"
     ]
    },
    {
     "name": "stderr",
     "output_type": "stream",
     "text": [
      " 47%|█████████████████████████████████████▎                                         | 600/1272 [02:46<02:57,  3.78it/s]"
     ]
    },
    {
     "name": "stdout",
     "output_type": "stream",
     "text": [
      "(600/1272) Data: 0.012s | Batch: 0.277s | Total: 0:02:46 | ETA: 0:03:00 | Loss: 0.1805 | top1:  91.9948\n"
     ]
    },
    {
     "name": "stderr",
     "output_type": "stream",
     "text": [
      " 55%|███████████████████████████████████████████▍                                   | 700/1272 [03:13<02:29,  3.83it/s]"
     ]
    },
    {
     "name": "stdout",
     "output_type": "stream",
     "text": [
      "(700/1272) Data: 0.010s | Batch: 0.276s | Total: 0:03:13 | ETA: 0:02:34 | Loss: 0.1808 | top1:  91.9902\n"
     ]
    },
    {
     "name": "stderr",
     "output_type": "stream",
     "text": [
      " 63%|█████████████████████████████████████████████████▋                             | 800/1272 [03:39<02:03,  3.81it/s]"
     ]
    },
    {
     "name": "stdout",
     "output_type": "stream",
     "text": [
      "(800/1272) Data: 0.009s | Batch: 0.275s | Total: 0:03:39 | ETA: 0:02:06 | Loss: 0.1808 | top1:  91.9962\n"
     ]
    },
    {
     "name": "stderr",
     "output_type": "stream",
     "text": [
      " 71%|███████████████████████████████████████████████████████▉                       | 900/1272 [04:06<01:39,  3.72it/s]"
     ]
    },
    {
     "name": "stdout",
     "output_type": "stream",
     "text": [
      "(900/1272) Data: 0.008s | Batch: 0.274s | Total: 0:04:06 | ETA: 0:01:40 | Loss: 0.1809 | top1:  91.9967\n"
     ]
    },
    {
     "name": "stderr",
     "output_type": "stream",
     "text": [
      " 79%|█████████████████████████████████████████████████████████████▎                | 1000/1272 [04:33<01:13,  3.71it/s]"
     ]
    },
    {
     "name": "stdout",
     "output_type": "stream",
     "text": [
      "(1000/1272) Data: 0.007s | Batch: 0.274s | Total: 0:04:33 | ETA: 0:01:14 | Loss: 0.1811 | top1:  91.9861\n"
     ]
    },
    {
     "name": "stderr",
     "output_type": "stream",
     "text": [
      " 86%|███████████████████████████████████████████████████████████████████▍          | 1100/1272 [05:00<00:45,  3.78it/s]"
     ]
    },
    {
     "name": "stdout",
     "output_type": "stream",
     "text": [
      "(1100/1272) Data: 0.007s | Batch: 0.273s | Total: 0:05:00 | ETA: 0:00:47 | Loss: 0.1813 | top1:  91.9762\n"
     ]
    },
    {
     "name": "stderr",
     "output_type": "stream",
     "text": [
      " 94%|█████████████████████████████████████████████████████████████████████████▌    | 1200/1272 [05:27<00:19,  3.68it/s]"
     ]
    },
    {
     "name": "stdout",
     "output_type": "stream",
     "text": [
      "(1200/1272) Data: 0.006s | Batch: 0.273s | Total: 0:05:27 | ETA: 0:00:20 | Loss: 0.1814 | top1:  91.9705\n"
     ]
    },
    {
     "name": "stderr",
     "output_type": "stream",
     "text": [
      "100%|██████████████████████████████████████████████████████████████████████████████| 1272/1272 [05:47<00:00,  3.66it/s]\n",
      "100%|████████████████████████████████████████████████████████████████████████████████| 156/156 [00:21<00:00,  7.39it/s]\n"
     ]
    },
    {
     "name": "stdout",
     "output_type": "stream",
     "text": [
      "=> saving checkpoint 'checkpoints\\checkpoint.pth.tar'\n"
     ]
    },
    {
     "name": "stderr",
     "output_type": "stream",
     "text": [
      "  0%|                                                                                         | 0/1272 [00:00<?, ?it/s]"
     ]
    },
    {
     "name": "stdout",
     "output_type": "stream",
     "text": [
      "\n",
      "Epoch: [19 | 60] LR: 0.100000\n"
     ]
    },
    {
     "name": "stderr",
     "output_type": "stream",
     "text": [
      "  8%|██████▏                                                                        | 100/1272 [00:33<05:12,  3.75it/s]"
     ]
    },
    {
     "name": "stdout",
     "output_type": "stream",
     "text": [
      "(100/1272) Data: 0.073s | Batch: 0.331s | Total: 0:00:33 | ETA: 0:05:12 | Loss: 0.1780 | top1:  92.1105\n"
     ]
    },
    {
     "name": "stderr",
     "output_type": "stream",
     "text": [
      " 16%|████████████▍                                                                  | 200/1272 [00:59<04:51,  3.68it/s]"
     ]
    },
    {
     "name": "stdout",
     "output_type": "stream",
     "text": [
      "(200/1272) Data: 0.037s | Batch: 0.299s | Total: 0:00:59 | ETA: 0:04:48 | Loss: 0.1785 | top1:  92.1001\n"
     ]
    },
    {
     "name": "stderr",
     "output_type": "stream",
     "text": [
      " 24%|██████████████████▋                                                            | 300/1272 [01:26<04:16,  3.79it/s]"
     ]
    },
    {
     "name": "stdout",
     "output_type": "stream",
     "text": [
      "(300/1272) Data: 0.025s | Batch: 0.289s | Total: 0:01:26 | ETA: 0:04:20 | Loss: 0.1786 | top1:  92.0937\n"
     ]
    },
    {
     "name": "stderr",
     "output_type": "stream",
     "text": [
      " 31%|████████████████████████▊                                                      | 400/1272 [01:53<03:55,  3.70it/s]"
     ]
    },
    {
     "name": "stdout",
     "output_type": "stream",
     "text": [
      "(400/1272) Data: 0.019s | Batch: 0.283s | Total: 0:01:53 | ETA: 0:03:55 | Loss: 0.1789 | top1:  92.0780\n"
     ]
    },
    {
     "name": "stderr",
     "output_type": "stream",
     "text": [
      " 39%|███████████████████████████████                                                | 500/1272 [02:20<03:29,  3.68it/s]"
     ]
    },
    {
     "name": "stdout",
     "output_type": "stream",
     "text": [
      "(500/1272) Data: 0.015s | Batch: 0.280s | Total: 0:02:20 | ETA: 0:03:27 | Loss: 0.1791 | top1:  92.0753\n"
     ]
    },
    {
     "name": "stderr",
     "output_type": "stream",
     "text": [
      " 47%|█████████████████████████████████████▎                                         | 600/1272 [02:46<02:59,  3.75it/s]"
     ]
    },
    {
     "name": "stdout",
     "output_type": "stream",
     "text": [
      "(600/1272) Data: 0.013s | Batch: 0.278s | Total: 0:02:46 | ETA: 0:03:00 | Loss: 0.1794 | top1:  92.0664\n"
     ]
    },
    {
     "name": "stderr",
     "output_type": "stream",
     "text": [
      " 55%|███████████████████████████████████████████▍                                   | 700/1272 [03:13<02:34,  3.69it/s]"
     ]
    },
    {
     "name": "stdout",
     "output_type": "stream",
     "text": [
      "(700/1272) Data: 0.011s | Batch: 0.277s | Total: 0:03:13 | ETA: 0:02:35 | Loss: 0.1796 | top1:  92.0525\n"
     ]
    },
    {
     "name": "stderr",
     "output_type": "stream",
     "text": [
      " 63%|█████████████████████████████████████████████████▋                             | 800/1272 [03:40<02:07,  3.70it/s]"
     ]
    },
    {
     "name": "stdout",
     "output_type": "stream",
     "text": [
      "(800/1272) Data: 0.010s | Batch: 0.276s | Total: 0:03:40 | ETA: 0:02:08 | Loss: 0.1797 | top1:  92.0497\n"
     ]
    },
    {
     "name": "stderr",
     "output_type": "stream",
     "text": [
      " 71%|███████████████████████████████████████████████████████▉                       | 900/1272 [04:07<01:41,  3.65it/s]"
     ]
    },
    {
     "name": "stdout",
     "output_type": "stream",
     "text": [
      "(900/1272) Data: 0.009s | Batch: 0.275s | Total: 0:04:07 | ETA: 0:01:41 | Loss: 0.1801 | top1:  92.0350\n"
     ]
    },
    {
     "name": "stderr",
     "output_type": "stream",
     "text": [
      " 79%|█████████████████████████████████████████████████████████████▎                | 1000/1272 [04:33<01:14,  3.68it/s]"
     ]
    },
    {
     "name": "stdout",
     "output_type": "stream",
     "text": [
      "(1000/1272) Data: 0.008s | Batch: 0.274s | Total: 0:04:33 | ETA: 0:01:14 | Loss: 0.1802 | top1:  92.0314\n"
     ]
    },
    {
     "name": "stderr",
     "output_type": "stream",
     "text": [
      " 86%|███████████████████████████████████████████████████████████████████▍          | 1100/1272 [05:00<00:45,  3.78it/s]"
     ]
    },
    {
     "name": "stdout",
     "output_type": "stream",
     "text": [
      "(1100/1272) Data: 0.007s | Batch: 0.274s | Total: 0:05:00 | ETA: 0:00:47 | Loss: 0.1803 | top1:  92.0270\n"
     ]
    },
    {
     "name": "stderr",
     "output_type": "stream",
     "text": [
      " 94%|█████████████████████████████████████████████████████████████████████████▌    | 1200/1272 [05:27<00:19,  3.75it/s]"
     ]
    },
    {
     "name": "stdout",
     "output_type": "stream",
     "text": [
      "(1200/1272) Data: 0.007s | Batch: 0.273s | Total: 0:05:27 | ETA: 0:00:20 | Loss: 0.1804 | top1:  92.0191\n"
     ]
    },
    {
     "name": "stderr",
     "output_type": "stream",
     "text": [
      "100%|██████████████████████████████████████████████████████████████████████████████| 1272/1272 [05:47<00:00,  3.66it/s]\n",
      "100%|████████████████████████████████████████████████████████████████████████████████| 156/156 [00:21<00:00,  7.41it/s]\n"
     ]
    },
    {
     "name": "stdout",
     "output_type": "stream",
     "text": [
      "=> saving checkpoint 'checkpoints\\checkpoint.pth.tar'\n"
     ]
    },
    {
     "name": "stderr",
     "output_type": "stream",
     "text": [
      "  0%|                                                                                         | 0/1272 [00:00<?, ?it/s]"
     ]
    },
    {
     "name": "stdout",
     "output_type": "stream",
     "text": [
      "=> saving best model 'checkpoints\\model_best.pth.tar'\n",
      "\n",
      "Epoch: [20 | 60] LR: 0.100000\n"
     ]
    },
    {
     "name": "stderr",
     "output_type": "stream",
     "text": [
      "  8%|██████▏                                                                        | 100/1272 [00:32<05:14,  3.73it/s]"
     ]
    },
    {
     "name": "stdout",
     "output_type": "stream",
     "text": [
      "(100/1272) Data: 0.068s | Batch: 0.327s | Total: 0:00:32 | ETA: 0:05:13 | Loss: 0.1775 | top1:  92.1383\n"
     ]
    },
    {
     "name": "stderr",
     "output_type": "stream",
     "text": [
      " 16%|████████████▍                                                                  | 200/1272 [00:59<04:47,  3.73it/s]"
     ]
    },
    {
     "name": "stdout",
     "output_type": "stream",
     "text": [
      "(200/1272) Data: 0.034s | Batch: 0.296s | Total: 0:00:59 | ETA: 0:04:53 | Loss: 0.1780 | top1:  92.1261\n"
     ]
    },
    {
     "name": "stderr",
     "output_type": "stream",
     "text": [
      " 24%|██████████████████▋                                                            | 300/1272 [01:26<04:25,  3.66it/s]"
     ]
    },
    {
     "name": "stdout",
     "output_type": "stream",
     "text": [
      "(300/1272) Data: 0.023s | Batch: 0.287s | Total: 0:01:26 | ETA: 0:04:26 | Loss: 0.1782 | top1:  92.1057\n"
     ]
    },
    {
     "name": "stderr",
     "output_type": "stream",
     "text": [
      " 31%|████████████████████████▊                                                      | 400/1272 [01:53<03:50,  3.79it/s]"
     ]
    },
    {
     "name": "stdout",
     "output_type": "stream",
     "text": [
      "(400/1272) Data: 0.017s | Batch: 0.283s | Total: 0:01:53 | ETA: 0:03:51 | Loss: 0.1782 | top1:  92.0993\n"
     ]
    },
    {
     "name": "stderr",
     "output_type": "stream",
     "text": [
      " 39%|███████████████████████████████                                                | 500/1272 [02:19<03:27,  3.73it/s]"
     ]
    },
    {
     "name": "stdout",
     "output_type": "stream",
     "text": [
      "(500/1272) Data: 0.014s | Batch: 0.279s | Total: 0:02:19 | ETA: 0:03:26 | Loss: 0.1785 | top1:  92.0888\n"
     ]
    },
    {
     "name": "stderr",
     "output_type": "stream",
     "text": [
      " 47%|█████████████████████████████████████▎                                         | 600/1272 [02:46<03:00,  3.73it/s]"
     ]
    },
    {
     "name": "stdout",
     "output_type": "stream",
     "text": [
      "(600/1272) Data: 0.012s | Batch: 0.277s | Total: 0:02:46 | ETA: 0:03:01 | Loss: 0.1789 | top1:  92.0750\n"
     ]
    },
    {
     "name": "stderr",
     "output_type": "stream",
     "text": [
      " 55%|███████████████████████████████████████████▍                                   | 700/1272 [03:13<02:35,  3.67it/s]"
     ]
    },
    {
     "name": "stdout",
     "output_type": "stream",
     "text": [
      "(700/1272) Data: 0.010s | Batch: 0.276s | Total: 0:03:13 | ETA: 0:02:36 | Loss: 0.1790 | top1:  92.0713\n"
     ]
    },
    {
     "name": "stderr",
     "output_type": "stream",
     "text": [
      " 63%|█████████████████████████████████████████████████▋                             | 800/1272 [03:39<02:09,  3.64it/s]"
     ]
    },
    {
     "name": "stdout",
     "output_type": "stream",
     "text": [
      "(800/1272) Data: 0.009s | Batch: 0.275s | Total: 0:03:39 | ETA: 0:02:08 | Loss: 0.1793 | top1:  92.0601\n"
     ]
    },
    {
     "name": "stderr",
     "output_type": "stream",
     "text": [
      " 71%|███████████████████████████████████████████████████████▉                       | 900/1272 [04:06<01:36,  3.85it/s]"
     ]
    },
    {
     "name": "stdout",
     "output_type": "stream",
     "text": [
      "(900/1272) Data: 0.008s | Batch: 0.274s | Total: 0:04:06 | ETA: 0:01:39 | Loss: 0.1795 | top1:  92.0546\n"
     ]
    },
    {
     "name": "stderr",
     "output_type": "stream",
     "text": [
      " 79%|█████████████████████████████████████████████████████████████▎                | 1000/1272 [04:33<01:13,  3.71it/s]"
     ]
    },
    {
     "name": "stdout",
     "output_type": "stream",
     "text": [
      "(1000/1272) Data: 0.007s | Batch: 0.273s | Total: 0:04:33 | ETA: 0:01:15 | Loss: 0.1796 | top1:  92.0501\n"
     ]
    },
    {
     "name": "stderr",
     "output_type": "stream",
     "text": [
      " 86%|███████████████████████████████████████████████████████████████████▍          | 1100/1272 [05:00<00:46,  3.67it/s]"
     ]
    },
    {
     "name": "stdout",
     "output_type": "stream",
     "text": [
      "(1100/1272) Data: 0.007s | Batch: 0.273s | Total: 0:05:00 | ETA: 0:00:47 | Loss: 0.1796 | top1:  92.0538\n"
     ]
    },
    {
     "name": "stderr",
     "output_type": "stream",
     "text": [
      " 94%|█████████████████████████████████████████████████████████████████████████▌    | 1200/1272 [05:27<00:19,  3.74it/s]"
     ]
    },
    {
     "name": "stdout",
     "output_type": "stream",
     "text": [
      "(1200/1272) Data: 0.006s | Batch: 0.273s | Total: 0:05:27 | ETA: 0:00:20 | Loss: 0.1796 | top1:  92.0521\n"
     ]
    },
    {
     "name": "stderr",
     "output_type": "stream",
     "text": [
      "100%|██████████████████████████████████████████████████████████████████████████████| 1272/1272 [05:46<00:00,  3.67it/s]\n",
      "100%|████████████████████████████████████████████████████████████████████████████████| 156/156 [00:21<00:00,  7.27it/s]\n"
     ]
    },
    {
     "name": "stdout",
     "output_type": "stream",
     "text": [
      "=> saving checkpoint 'checkpoints\\checkpoint.pth.tar'\n"
     ]
    },
    {
     "name": "stderr",
     "output_type": "stream",
     "text": [
      "  0%|                                                                                         | 0/1272 [00:00<?, ?it/s]"
     ]
    },
    {
     "name": "stdout",
     "output_type": "stream",
     "text": [
      "\n",
      "Epoch: [21 | 60] LR: 0.100000\n"
     ]
    },
    {
     "name": "stderr",
     "output_type": "stream",
     "text": [
      "  8%|██████▏                                                                        | 100/1272 [00:32<05:12,  3.75it/s]"
     ]
    },
    {
     "name": "stdout",
     "output_type": "stream",
     "text": [
      "(100/1272) Data: 0.071s | Batch: 0.330s | Total: 0:00:32 | ETA: 0:05:13 | Loss: 0.1752 | top1:  92.2613\n"
     ]
    },
    {
     "name": "stderr",
     "output_type": "stream",
     "text": [
      " 16%|████████████▍                                                                  | 200/1272 [00:59<04:45,  3.75it/s]"
     ]
    },
    {
     "name": "stdout",
     "output_type": "stream",
     "text": [
      "(200/1272) Data: 0.036s | Batch: 0.298s | Total: 0:00:59 | ETA: 0:04:48 | Loss: 0.1756 | top1:  92.2463\n"
     ]
    },
    {
     "name": "stderr",
     "output_type": "stream",
     "text": [
      " 24%|██████████████████▋                                                            | 300/1272 [01:26<04:18,  3.76it/s]"
     ]
    },
    {
     "name": "stdout",
     "output_type": "stream",
     "text": [
      "(300/1272) Data: 0.024s | Batch: 0.288s | Total: 0:01:26 | ETA: 0:04:18 | Loss: 0.1758 | top1:  92.2201\n"
     ]
    },
    {
     "name": "stderr",
     "output_type": "stream",
     "text": [
      " 31%|████████████████████████▊                                                      | 400/1272 [01:53<03:54,  3.72it/s]"
     ]
    },
    {
     "name": "stdout",
     "output_type": "stream",
     "text": [
      "(400/1272) Data: 0.018s | Batch: 0.283s | Total: 0:01:53 | ETA: 0:03:51 | Loss: 0.1759 | top1:  92.2188\n"
     ]
    },
    {
     "name": "stderr",
     "output_type": "stream",
     "text": [
      " 39%|███████████████████████████████                                                | 500/1272 [02:19<03:29,  3.68it/s]"
     ]
    },
    {
     "name": "stdout",
     "output_type": "stream",
     "text": [
      "(500/1272) Data: 0.015s | Batch: 0.280s | Total: 0:02:19 | ETA: 0:03:29 | Loss: 0.1765 | top1:  92.2003\n"
     ]
    },
    {
     "name": "stderr",
     "output_type": "stream",
     "text": [
      " 47%|█████████████████████████████████████▎                                         | 600/1272 [02:46<02:58,  3.76it/s]"
     ]
    },
    {
     "name": "stdout",
     "output_type": "stream",
     "text": [
      "(600/1272) Data: 0.012s | Batch: 0.278s | Total: 0:02:46 | ETA: 0:02:57 | Loss: 0.1769 | top1:  92.1798\n"
     ]
    },
    {
     "name": "stderr",
     "output_type": "stream",
     "text": [
      " 55%|███████████████████████████████████████████▍                                   | 700/1272 [03:13<02:34,  3.69it/s]"
     ]
    },
    {
     "name": "stdout",
     "output_type": "stream",
     "text": [
      "(700/1272) Data: 0.011s | Batch: 0.277s | Total: 0:03:13 | ETA: 0:02:36 | Loss: 0.1773 | top1:  92.1591\n"
     ]
    },
    {
     "name": "stderr",
     "output_type": "stream",
     "text": [
      " 63%|█████████████████████████████████████████████████▋                             | 800/1272 [03:40<02:05,  3.76it/s]"
     ]
    },
    {
     "name": "stdout",
     "output_type": "stream",
     "text": [
      "(800/1272) Data: 0.010s | Batch: 0.276s | Total: 0:03:40 | ETA: 0:02:09 | Loss: 0.1776 | top1:  92.1455\n"
     ]
    },
    {
     "name": "stderr",
     "output_type": "stream",
     "text": [
      " 71%|███████████████████████████████████████████████████████▉                       | 900/1272 [04:07<01:38,  3.79it/s]"
     ]
    },
    {
     "name": "stdout",
     "output_type": "stream",
     "text": [
      "(900/1272) Data: 0.009s | Batch: 0.275s | Total: 0:04:07 | ETA: 0:01:39 | Loss: 0.1779 | top1:  92.1340\n"
     ]
    },
    {
     "name": "stderr",
     "output_type": "stream",
     "text": [
      " 79%|█████████████████████████████████████████████████████████████▎                | 1000/1272 [04:34<01:12,  3.73it/s]"
     ]
    },
    {
     "name": "stdout",
     "output_type": "stream",
     "text": [
      "(1000/1272) Data: 0.008s | Batch: 0.274s | Total: 0:04:34 | ETA: 0:01:14 | Loss: 0.1781 | top1:  92.1224\n"
     ]
    },
    {
     "name": "stderr",
     "output_type": "stream",
     "text": [
      " 86%|███████████████████████████████████████████████████████████████████▍          | 1100/1272 [05:00<00:45,  3.78it/s]"
     ]
    },
    {
     "name": "stdout",
     "output_type": "stream",
     "text": [
      "(1100/1272) Data: 0.007s | Batch: 0.273s | Total: 0:05:00 | ETA: 0:00:47 | Loss: 0.1784 | top1:  92.1089\n"
     ]
    },
    {
     "name": "stderr",
     "output_type": "stream",
     "text": [
      " 94%|█████████████████████████████████████████████████████████████████████████▌    | 1200/1272 [05:27<00:19,  3.70it/s]"
     ]
    },
    {
     "name": "stdout",
     "output_type": "stream",
     "text": [
      "(1200/1272) Data: 0.007s | Batch: 0.273s | Total: 0:05:27 | ETA: 0:00:20 | Loss: 0.1784 | top1:  92.1070\n"
     ]
    },
    {
     "name": "stderr",
     "output_type": "stream",
     "text": [
      "100%|██████████████████████████████████████████████████████████████████████████████| 1272/1272 [05:47<00:00,  3.66it/s]\n",
      "100%|████████████████████████████████████████████████████████████████████████████████| 156/156 [00:20<00:00,  7.49it/s]\n"
     ]
    },
    {
     "name": "stdout",
     "output_type": "stream",
     "text": [
      "=> saving checkpoint 'checkpoints\\checkpoint.pth.tar'\n"
     ]
    },
    {
     "name": "stderr",
     "output_type": "stream",
     "text": [
      "  0%|                                                                                         | 0/1272 [00:00<?, ?it/s]"
     ]
    },
    {
     "name": "stdout",
     "output_type": "stream",
     "text": [
      "\n",
      "Epoch: [22 | 60] LR: 0.100000\n"
     ]
    },
    {
     "name": "stderr",
     "output_type": "stream",
     "text": [
      "  8%|██████▏                                                                        | 100/1272 [00:32<05:10,  3.77it/s]"
     ]
    },
    {
     "name": "stdout",
     "output_type": "stream",
     "text": [
      "(100/1272) Data: 0.072s | Batch: 0.330s | Total: 0:00:32 | ETA: 0:05:16 | Loss: 0.1744 | top1:  92.2293\n"
     ]
    },
    {
     "name": "stderr",
     "output_type": "stream",
     "text": [
      " 16%|████████████▍                                                                  | 200/1272 [00:59<04:51,  3.68it/s]"
     ]
    },
    {
     "name": "stdout",
     "output_type": "stream",
     "text": [
      "(200/1272) Data: 0.036s | Batch: 0.298s | Total: 0:00:59 | ETA: 0:04:53 | Loss: 0.1748 | top1:  92.2289\n"
     ]
    },
    {
     "name": "stderr",
     "output_type": "stream",
     "text": [
      " 24%|██████████████████▋                                                            | 300/1272 [01:26<04:23,  3.69it/s]"
     ]
    },
    {
     "name": "stdout",
     "output_type": "stream",
     "text": [
      "(300/1272) Data: 0.024s | Batch: 0.288s | Total: 0:01:26 | ETA: 0:04:20 | Loss: 0.1752 | top1:  92.2199\n"
     ]
    },
    {
     "name": "stderr",
     "output_type": "stream",
     "text": [
      " 31%|████████████████████████▊                                                      | 400/1272 [01:53<03:56,  3.69it/s]"
     ]
    },
    {
     "name": "stdout",
     "output_type": "stream",
     "text": [
      "(400/1272) Data: 0.018s | Batch: 0.283s | Total: 0:01:53 | ETA: 0:03:55 | Loss: 0.1753 | top1:  92.2294\n"
     ]
    },
    {
     "name": "stderr",
     "output_type": "stream",
     "text": [
      " 39%|███████████████████████████████                                                | 500/1272 [02:19<03:23,  3.79it/s]"
     ]
    },
    {
     "name": "stdout",
     "output_type": "stream",
     "text": [
      "(500/1272) Data: 0.015s | Batch: 0.280s | Total: 0:02:19 | ETA: 0:03:31 | Loss: 0.1756 | top1:  92.2221\n"
     ]
    },
    {
     "name": "stderr",
     "output_type": "stream",
     "text": [
      " 47%|█████████████████████████████████████▎                                         | 600/1272 [02:46<02:55,  3.83it/s]"
     ]
    },
    {
     "name": "stdout",
     "output_type": "stream",
     "text": [
      "(600/1272) Data: 0.013s | Batch: 0.278s | Total: 0:02:46 | ETA: 0:02:59 | Loss: 0.1760 | top1:  92.2095\n"
     ]
    },
    {
     "name": "stderr",
     "output_type": "stream",
     "text": [
      " 55%|███████████████████████████████████████████▍                                   | 700/1272 [03:13<02:32,  3.74it/s]"
     ]
    },
    {
     "name": "stdout",
     "output_type": "stream",
     "text": [
      "(700/1272) Data: 0.011s | Batch: 0.277s | Total: 0:03:13 | ETA: 0:02:34 | Loss: 0.1764 | top1:  92.1999\n"
     ]
    },
    {
     "name": "stderr",
     "output_type": "stream",
     "text": [
      " 63%|█████████████████████████████████████████████████▋                             | 800/1272 [03:40<02:06,  3.74it/s]"
     ]
    },
    {
     "name": "stdout",
     "output_type": "stream",
     "text": [
      "(800/1272) Data: 0.010s | Batch: 0.276s | Total: 0:03:40 | ETA: 0:02:07 | Loss: 0.1766 | top1:  92.1862\n"
     ]
    },
    {
     "name": "stderr",
     "output_type": "stream",
     "text": [
      " 71%|███████████████████████████████████████████████████████▉                       | 900/1272 [04:07<01:41,  3.65it/s]"
     ]
    },
    {
     "name": "stdout",
     "output_type": "stream",
     "text": [
      "(900/1272) Data: 0.009s | Batch: 0.275s | Total: 0:04:07 | ETA: 0:01:42 | Loss: 0.1768 | top1:  92.1808\n"
     ]
    },
    {
     "name": "stderr",
     "output_type": "stream",
     "text": [
      " 79%|█████████████████████████████████████████████████████████████▎                | 1000/1272 [04:33<01:10,  3.83it/s]"
     ]
    },
    {
     "name": "stdout",
     "output_type": "stream",
     "text": [
      "(1000/1272) Data: 0.008s | Batch: 0.274s | Total: 0:04:33 | ETA: 0:01:12 | Loss: 0.1770 | top1:  92.1707\n"
     ]
    },
    {
     "name": "stderr",
     "output_type": "stream",
     "text": [
      " 86%|███████████████████████████████████████████████████████████████████▍          | 1100/1272 [05:00<00:45,  3.82it/s]"
     ]
    },
    {
     "name": "stdout",
     "output_type": "stream",
     "text": [
      "(1100/1272) Data: 0.007s | Batch: 0.273s | Total: 0:05:00 | ETA: 0:00:46 | Loss: 0.1772 | top1:  92.1623\n"
     ]
    },
    {
     "name": "stderr",
     "output_type": "stream",
     "text": [
      " 94%|█████████████████████████████████████████████████████████████████████████▌    | 1200/1272 [05:27<00:19,  3.69it/s]"
     ]
    },
    {
     "name": "stdout",
     "output_type": "stream",
     "text": [
      "(1200/1272) Data: 0.007s | Batch: 0.273s | Total: 0:05:27 | ETA: 0:00:20 | Loss: 0.1774 | top1:  92.1540\n"
     ]
    },
    {
     "name": "stderr",
     "output_type": "stream",
     "text": [
      "100%|██████████████████████████████████████████████████████████████████████████████| 1272/1272 [05:47<00:00,  3.66it/s]\n",
      "100%|████████████████████████████████████████████████████████████████████████████████| 156/156 [00:20<00:00,  7.55it/s]\n"
     ]
    },
    {
     "name": "stdout",
     "output_type": "stream",
     "text": [
      "=> saving checkpoint 'checkpoints\\checkpoint.pth.tar'\n"
     ]
    },
    {
     "name": "stderr",
     "output_type": "stream",
     "text": [
      "  0%|                                                                                         | 0/1272 [00:00<?, ?it/s]"
     ]
    },
    {
     "name": "stdout",
     "output_type": "stream",
     "text": [
      "\n",
      "Epoch: [23 | 60] LR: 0.100000\n"
     ]
    },
    {
     "name": "stderr",
     "output_type": "stream",
     "text": [
      "  8%|██████▏                                                                        | 100/1272 [00:32<05:13,  3.74it/s]"
     ]
    },
    {
     "name": "stdout",
     "output_type": "stream",
     "text": [
      "(100/1272) Data: 0.066s | Batch: 0.324s | Total: 0:00:32 | ETA: 0:05:06 | Loss: 0.1744 | top1:  92.2584\n"
     ]
    },
    {
     "name": "stderr",
     "output_type": "stream",
     "text": [
      " 16%|████████████▍                                                                  | 200/1272 [00:58<04:50,  3.69it/s]"
     ]
    },
    {
     "name": "stdout",
     "output_type": "stream",
     "text": [
      "(200/1272) Data: 0.033s | Batch: 0.295s | Total: 0:00:58 | ETA: 0:04:43 | Loss: 0.1747 | top1:  92.2564\n"
     ]
    },
    {
     "name": "stderr",
     "output_type": "stream",
     "text": [
      " 24%|██████████████████▋                                                            | 300/1272 [01:25<04:19,  3.75it/s]"
     ]
    },
    {
     "name": "stdout",
     "output_type": "stream",
     "text": [
      "(300/1272) Data: 0.022s | Batch: 0.285s | Total: 0:01:25 | ETA: 0:04:16 | Loss: 0.1752 | top1:  92.2469\n"
     ]
    },
    {
     "name": "stderr",
     "output_type": "stream",
     "text": [
      " 31%|████████████████████████▊                                                      | 400/1272 [01:52<03:52,  3.74it/s]"
     ]
    },
    {
     "name": "stdout",
     "output_type": "stream",
     "text": [
      "(400/1272) Data: 0.017s | Batch: 0.281s | Total: 0:01:52 | ETA: 0:03:55 | Loss: 0.1752 | top1:  92.2452\n"
     ]
    },
    {
     "name": "stderr",
     "output_type": "stream",
     "text": [
      " 39%|███████████████████████████████                                                | 500/1272 [02:18<03:22,  3.81it/s]"
     ]
    },
    {
     "name": "stdout",
     "output_type": "stream",
     "text": [
      "(500/1272) Data: 0.014s | Batch: 0.278s | Total: 0:02:18 | ETA: 0:03:26 | Loss: 0.1756 | top1:  92.2246\n"
     ]
    },
    {
     "name": "stderr",
     "output_type": "stream",
     "text": [
      " 47%|█████████████████████████████████████▎                                         | 600/1272 [02:45<03:00,  3.72it/s]"
     ]
    },
    {
     "name": "stdout",
     "output_type": "stream",
     "text": [
      "(600/1272) Data: 0.012s | Batch: 0.276s | Total: 0:02:45 | ETA: 0:03:01 | Loss: 0.1757 | top1:  92.2262\n"
     ]
    },
    {
     "name": "stderr",
     "output_type": "stream",
     "text": [
      " 55%|███████████████████████████████████████████▍                                   | 700/1272 [03:12<02:28,  3.85it/s]"
     ]
    },
    {
     "name": "stdout",
     "output_type": "stream",
     "text": [
      "(700/1272) Data: 0.010s | Batch: 0.275s | Total: 0:03:12 | ETA: 0:02:33 | Loss: 0.1759 | top1:  92.2152\n"
     ]
    },
    {
     "name": "stderr",
     "output_type": "stream",
     "text": [
      " 63%|█████████████████████████████████████████████████▋                             | 800/1272 [03:38<02:02,  3.85it/s]"
     ]
    },
    {
     "name": "stdout",
     "output_type": "stream",
     "text": [
      "(800/1272) Data: 0.009s | Batch: 0.274s | Total: 0:03:38 | ETA: 0:02:04 | Loss: 0.1760 | top1:  92.2123\n"
     ]
    },
    {
     "name": "stderr",
     "output_type": "stream",
     "text": [
      " 71%|███████████████████████████████████████████████████████▉                       | 900/1272 [04:05<01:40,  3.71it/s]"
     ]
    },
    {
     "name": "stdout",
     "output_type": "stream",
     "text": [
      "(900/1272) Data: 0.008s | Batch: 0.273s | Total: 0:04:05 | ETA: 0:01:38 | Loss: 0.1762 | top1:  92.2006\n"
     ]
    },
    {
     "name": "stderr",
     "output_type": "stream",
     "text": [
      " 79%|█████████████████████████████████████████████████████████████▎                | 1000/1272 [04:32<01:10,  3.84it/s]"
     ]
    },
    {
     "name": "stdout",
     "output_type": "stream",
     "text": [
      "(1000/1272) Data: 0.007s | Batch: 0.272s | Total: 0:04:32 | ETA: 0:01:12 | Loss: 0.1764 | top1:  92.1890\n"
     ]
    },
    {
     "name": "stderr",
     "output_type": "stream",
     "text": [
      " 86%|███████████████████████████████████████████████████████████████████▍          | 1100/1272 [04:58<00:46,  3.72it/s]"
     ]
    },
    {
     "name": "stdout",
     "output_type": "stream",
     "text": [
      "(1100/1272) Data: 0.007s | Batch: 0.272s | Total: 0:04:58 | ETA: 0:00:47 | Loss: 0.1766 | top1:  92.1820\n"
     ]
    },
    {
     "name": "stderr",
     "output_type": "stream",
     "text": [
      " 94%|█████████████████████████████████████████████████████████████████████████▌    | 1200/1272 [05:25<00:19,  3.77it/s]"
     ]
    },
    {
     "name": "stdout",
     "output_type": "stream",
     "text": [
      "(1200/1272) Data: 0.006s | Batch: 0.271s | Total: 0:05:25 | ETA: 0:00:20 | Loss: 0.1767 | top1:  92.1750\n"
     ]
    },
    {
     "name": "stderr",
     "output_type": "stream",
     "text": [
      "100%|██████████████████████████████████████████████████████████████████████████████| 1272/1272 [05:45<00:00,  3.68it/s]\n",
      "100%|████████████████████████████████████████████████████████████████████████████████| 156/156 [00:21<00:00,  7.43it/s]\n"
     ]
    },
    {
     "name": "stdout",
     "output_type": "stream",
     "text": [
      "=> saving checkpoint 'checkpoints\\checkpoint.pth.tar'\n"
     ]
    },
    {
     "name": "stderr",
     "output_type": "stream",
     "text": [
      "  0%|                                                                                         | 0/1272 [00:00<?, ?it/s]"
     ]
    },
    {
     "name": "stdout",
     "output_type": "stream",
     "text": [
      "\n",
      "Epoch: [24 | 60] LR: 0.100000\n"
     ]
    },
    {
     "name": "stderr",
     "output_type": "stream",
     "text": [
      "  8%|██████▏                                                                        | 100/1272 [00:32<05:03,  3.87it/s]"
     ]
    },
    {
     "name": "stdout",
     "output_type": "stream",
     "text": [
      "(100/1272) Data: 0.069s | Batch: 0.327s | Total: 0:00:32 | ETA: 0:05:08 | Loss: 0.1715 | top1:  92.3789\n"
     ]
    },
    {
     "name": "stderr",
     "output_type": "stream",
     "text": [
      " 16%|████████████▍                                                                  | 200/1272 [00:59<04:41,  3.81it/s]"
     ]
    },
    {
     "name": "stdout",
     "output_type": "stream",
     "text": [
      "(200/1272) Data: 0.035s | Batch: 0.297s | Total: 0:00:59 | ETA: 0:04:48 | Loss: 0.1727 | top1:  92.3412\n"
     ]
    },
    {
     "name": "stderr",
     "output_type": "stream",
     "text": [
      " 24%|██████████████████▋                                                            | 300/1272 [01:26<04:18,  3.76it/s]"
     ]
    },
    {
     "name": "stdout",
     "output_type": "stream",
     "text": [
      "(300/1272) Data: 0.024s | Batch: 0.287s | Total: 0:01:26 | ETA: 0:04:24 | Loss: 0.1734 | top1:  92.3159\n"
     ]
    },
    {
     "name": "stderr",
     "output_type": "stream",
     "text": [
      " 31%|████████████████████████▊                                                      | 400/1272 [01:52<03:56,  3.68it/s]"
     ]
    },
    {
     "name": "stdout",
     "output_type": "stream",
     "text": [
      "(400/1272) Data: 0.018s | Batch: 0.282s | Total: 0:01:52 | ETA: 0:03:59 | Loss: 0.1739 | top1:  92.2915\n"
     ]
    },
    {
     "name": "stderr",
     "output_type": "stream",
     "text": [
      " 39%|███████████████████████████████                                                | 500/1272 [02:19<03:26,  3.74it/s]"
     ]
    },
    {
     "name": "stdout",
     "output_type": "stream",
     "text": [
      "(500/1272) Data: 0.014s | Batch: 0.279s | Total: 0:02:19 | ETA: 0:03:26 | Loss: 0.1742 | top1:  92.2784\n"
     ]
    },
    {
     "name": "stderr",
     "output_type": "stream",
     "text": [
      " 47%|█████████████████████████████████████▎                                         | 600/1272 [02:46<02:59,  3.74it/s]"
     ]
    },
    {
     "name": "stdout",
     "output_type": "stream",
     "text": [
      "(600/1272) Data: 0.012s | Batch: 0.277s | Total: 0:02:46 | ETA: 0:03:02 | Loss: 0.1744 | top1:  92.2705\n"
     ]
    },
    {
     "name": "stderr",
     "output_type": "stream",
     "text": [
      " 55%|███████████████████████████████████████████▍                                   | 700/1272 [03:13<02:36,  3.65it/s]"
     ]
    },
    {
     "name": "stdout",
     "output_type": "stream",
     "text": [
      "(700/1272) Data: 0.011s | Batch: 0.276s | Total: 0:03:13 | ETA: 0:02:33 | Loss: 0.1747 | top1:  92.2667\n"
     ]
    },
    {
     "name": "stderr",
     "output_type": "stream",
     "text": [
      " 63%|█████████████████████████████████████████████████▋                             | 800/1272 [03:39<02:07,  3.69it/s]"
     ]
    },
    {
     "name": "stdout",
     "output_type": "stream",
     "text": [
      "(800/1272) Data: 0.009s | Batch: 0.275s | Total: 0:03:39 | ETA: 0:02:08 | Loss: 0.1750 | top1:  92.2546\n"
     ]
    },
    {
     "name": "stderr",
     "output_type": "stream",
     "text": [
      " 71%|███████████████████████████████████████████████████████▉                       | 900/1272 [04:06<01:38,  3.80it/s]"
     ]
    },
    {
     "name": "stdout",
     "output_type": "stream",
     "text": [
      "(900/1272) Data: 0.008s | Batch: 0.274s | Total: 0:04:06 | ETA: 0:01:39 | Loss: 0.1751 | top1:  92.2512\n"
     ]
    },
    {
     "name": "stderr",
     "output_type": "stream",
     "text": [
      " 79%|█████████████████████████████████████████████████████████████▎                | 1000/1272 [04:33<01:13,  3.69it/s]"
     ]
    },
    {
     "name": "stdout",
     "output_type": "stream",
     "text": [
      "(1000/1272) Data: 0.008s | Batch: 0.274s | Total: 0:04:33 | ETA: 0:01:14 | Loss: 0.1752 | top1:  92.2457\n"
     ]
    },
    {
     "name": "stderr",
     "output_type": "stream",
     "text": [
      " 86%|███████████████████████████████████████████████████████████████████▍          | 1100/1272 [05:00<00:46,  3.74it/s]"
     ]
    },
    {
     "name": "stdout",
     "output_type": "stream",
     "text": [
      "(1100/1272) Data: 0.007s | Batch: 0.273s | Total: 0:05:00 | ETA: 0:00:47 | Loss: 0.1754 | top1:  92.2349\n"
     ]
    },
    {
     "name": "stderr",
     "output_type": "stream",
     "text": [
      " 94%|█████████████████████████████████████████████████████████████████████████▌    | 1200/1272 [05:27<00:19,  3.69it/s]"
     ]
    },
    {
     "name": "stdout",
     "output_type": "stream",
     "text": [
      "(1200/1272) Data: 0.006s | Batch: 0.273s | Total: 0:05:27 | ETA: 0:00:20 | Loss: 0.1757 | top1:  92.2224\n"
     ]
    },
    {
     "name": "stderr",
     "output_type": "stream",
     "text": [
      "100%|██████████████████████████████████████████████████████████████████████████████| 1272/1272 [05:47<00:00,  3.66it/s]\n",
      "100%|████████████████████████████████████████████████████████████████████████████████| 156/156 [00:21<00:00,  7.37it/s]\n"
     ]
    },
    {
     "name": "stdout",
     "output_type": "stream",
     "text": [
      "=> saving checkpoint 'checkpoints\\checkpoint.pth.tar'\n"
     ]
    },
    {
     "name": "stderr",
     "output_type": "stream",
     "text": [
      "  0%|                                                                                         | 0/1272 [00:00<?, ?it/s]"
     ]
    },
    {
     "name": "stdout",
     "output_type": "stream",
     "text": [
      "\n",
      "Epoch: [25 | 60] LR: 0.100000\n"
     ]
    },
    {
     "name": "stderr",
     "output_type": "stream",
     "text": [
      "  8%|██████▏                                                                        | 100/1272 [00:33<05:21,  3.65it/s]"
     ]
    },
    {
     "name": "stdout",
     "output_type": "stream",
     "text": [
      "(100/1272) Data: 0.069s | Batch: 0.334s | Total: 0:00:33 | ETA: 0:05:17 | Loss: 0.1717 | top1:  92.4059\n"
     ]
    },
    {
     "name": "stderr",
     "output_type": "stream",
     "text": [
      " 16%|████████████▍                                                                  | 200/1272 [01:00<04:48,  3.72it/s]"
     ]
    },
    {
     "name": "stdout",
     "output_type": "stream",
     "text": [
      "(200/1272) Data: 0.035s | Batch: 0.304s | Total: 0:01:00 | ETA: 0:04:48 | Loss: 0.1720 | top1:  92.3908\n"
     ]
    },
    {
     "name": "stderr",
     "output_type": "stream",
     "text": [
      " 24%|██████████████████▋                                                            | 300/1272 [01:28<04:24,  3.67it/s]"
     ]
    },
    {
     "name": "stdout",
     "output_type": "stream",
     "text": [
      "(300/1272) Data: 0.024s | Batch: 0.294s | Total: 0:01:28 | ETA: 0:04:20 | Loss: 0.1724 | top1:  92.3733\n"
     ]
    },
    {
     "name": "stderr",
     "output_type": "stream",
     "text": [
      " 31%|████████████████████████▊                                                      | 400/1272 [01:55<04:11,  3.47it/s]"
     ]
    },
    {
     "name": "stdout",
     "output_type": "stream",
     "text": [
      "(400/1272) Data: 0.018s | Batch: 0.289s | Total: 0:01:55 | ETA: 0:04:00 | Loss: 0.1729 | top1:  92.3530\n"
     ]
    },
    {
     "name": "stderr",
     "output_type": "stream",
     "text": [
      " 39%|███████████████████████████████                                                | 500/1272 [02:23<03:28,  3.70it/s]"
     ]
    },
    {
     "name": "stdout",
     "output_type": "stream",
     "text": [
      "(500/1272) Data: 0.014s | Batch: 0.286s | Total: 0:02:23 | ETA: 0:03:32 | Loss: 0.1732 | top1:  92.3395\n"
     ]
    },
    {
     "name": "stderr",
     "output_type": "stream",
     "text": [
      " 47%|█████████████████████████████████████▎                                         | 600/1272 [02:50<03:09,  3.55it/s]"
     ]
    },
    {
     "name": "stdout",
     "output_type": "stream",
     "text": [
      "(600/1272) Data: 0.012s | Batch: 0.284s | Total: 0:02:50 | ETA: 0:03:05 | Loss: 0.1734 | top1:  92.3315\n"
     ]
    },
    {
     "name": "stderr",
     "output_type": "stream",
     "text": [
      " 55%|███████████████████████████████████████████▍                                   | 700/1272 [03:18<02:37,  3.62it/s]"
     ]
    },
    {
     "name": "stdout",
     "output_type": "stream",
     "text": [
      "(700/1272) Data: 0.011s | Batch: 0.283s | Total: 0:03:18 | ETA: 0:02:40 | Loss: 0.1737 | top1:  92.3120\n"
     ]
    },
    {
     "name": "stderr",
     "output_type": "stream",
     "text": [
      " 63%|█████████████████████████████████████████████████▋                             | 800/1272 [03:45<02:08,  3.67it/s]"
     ]
    },
    {
     "name": "stdout",
     "output_type": "stream",
     "text": [
      "(800/1272) Data: 0.009s | Batch: 0.282s | Total: 0:03:45 | ETA: 0:02:10 | Loss: 0.1741 | top1:  92.2954\n"
     ]
    },
    {
     "name": "stderr",
     "output_type": "stream",
     "text": [
      " 71%|███████████████████████████████████████████████████████▉                       | 900/1272 [04:13<01:42,  3.62it/s]"
     ]
    },
    {
     "name": "stdout",
     "output_type": "stream",
     "text": [
      "(900/1272) Data: 0.008s | Batch: 0.281s | Total: 0:04:13 | ETA: 0:01:42 | Loss: 0.1744 | top1:  92.2834\n"
     ]
    },
    {
     "name": "stderr",
     "output_type": "stream",
     "text": [
      " 79%|█████████████████████████████████████████████████████████████▎                | 1000/1272 [04:40<01:13,  3.69it/s]"
     ]
    },
    {
     "name": "stdout",
     "output_type": "stream",
     "text": [
      "(1000/1272) Data: 0.008s | Batch: 0.281s | Total: 0:04:40 | ETA: 0:01:14 | Loss: 0.1745 | top1:  92.2796\n"
     ]
    },
    {
     "name": "stderr",
     "output_type": "stream",
     "text": [
      " 86%|███████████████████████████████████████████████████████████████████▍          | 1100/1272 [05:08<00:47,  3.65it/s]"
     ]
    },
    {
     "name": "stdout",
     "output_type": "stream",
     "text": [
      "(1100/1272) Data: 0.007s | Batch: 0.280s | Total: 0:05:08 | ETA: 0:00:50 | Loss: 0.1747 | top1:  92.2722\n"
     ]
    },
    {
     "name": "stderr",
     "output_type": "stream",
     "text": [
      " 94%|█████████████████████████████████████████████████████████████████████████▌    | 1200/1272 [05:35<00:20,  3.60it/s]"
     ]
    },
    {
     "name": "stdout",
     "output_type": "stream",
     "text": [
      "(1200/1272) Data: 0.006s | Batch: 0.280s | Total: 0:05:35 | ETA: 0:00:20 | Loss: 0.1749 | top1:  92.2656\n"
     ]
    },
    {
     "name": "stderr",
     "output_type": "stream",
     "text": [
      "100%|██████████████████████████████████████████████████████████████████████████████| 1272/1272 [05:56<00:00,  3.57it/s]\n",
      "100%|████████████████████████████████████████████████████████████████████████████████| 156/156 [00:21<00:00,  7.36it/s]\n"
     ]
    },
    {
     "name": "stdout",
     "output_type": "stream",
     "text": [
      "=> saving checkpoint 'checkpoints\\checkpoint.pth.tar'\n"
     ]
    },
    {
     "name": "stderr",
     "output_type": "stream",
     "text": [
      "  0%|                                                                                         | 0/1272 [00:00<?, ?it/s]"
     ]
    },
    {
     "name": "stdout",
     "output_type": "stream",
     "text": [
      "\n",
      "Epoch: [26 | 60] LR: 0.100000\n"
     ]
    },
    {
     "name": "stderr",
     "output_type": "stream",
     "text": [
      "  8%|██████▏                                                                        | 100/1272 [00:33<05:21,  3.64it/s]"
     ]
    },
    {
     "name": "stdout",
     "output_type": "stream",
     "text": [
      "(100/1272) Data: 0.070s | Batch: 0.334s | Total: 0:00:33 | ETA: 0:05:23 | Loss: 0.1699 | top1:  92.5135\n"
     ]
    },
    {
     "name": "stderr",
     "output_type": "stream",
     "text": [
      " 16%|████████████▍                                                                  | 200/1272 [01:00<04:52,  3.66it/s]"
     ]
    },
    {
     "name": "stdout",
     "output_type": "stream",
     "text": [
      "(200/1272) Data: 0.035s | Batch: 0.303s | Total: 0:01:00 | ETA: 0:04:55 | Loss: 0.1707 | top1:  92.4503\n"
     ]
    },
    {
     "name": "stderr",
     "output_type": "stream",
     "text": [
      " 24%|██████████████████▋                                                            | 300/1272 [01:28<04:21,  3.71it/s]"
     ]
    },
    {
     "name": "stdout",
     "output_type": "stream",
     "text": [
      "(300/1272) Data: 0.024s | Batch: 0.293s | Total: 0:01:28 | ETA: 0:04:24 | Loss: 0.1714 | top1:  92.4245\n"
     ]
    },
    {
     "name": "stderr",
     "output_type": "stream",
     "text": [
      " 31%|████████████████████████▊                                                      | 400/1272 [01:55<04:01,  3.62it/s]"
     ]
    },
    {
     "name": "stdout",
     "output_type": "stream",
     "text": [
      "(400/1272) Data: 0.018s | Batch: 0.289s | Total: 0:01:55 | ETA: 0:04:00 | Loss: 0.1719 | top1:  92.4097\n"
     ]
    },
    {
     "name": "stderr",
     "output_type": "stream",
     "text": [
      " 39%|███████████████████████████████                                                | 500/1272 [02:22<03:29,  3.68it/s]"
     ]
    },
    {
     "name": "stdout",
     "output_type": "stream",
     "text": [
      "(500/1272) Data: 0.015s | Batch: 0.286s | Total: 0:02:22 | ETA: 0:03:30 | Loss: 0.1724 | top1:  92.3859\n"
     ]
    },
    {
     "name": "stderr",
     "output_type": "stream",
     "text": [
      " 47%|█████████████████████████████████████▎                                         | 600/1272 [02:50<03:01,  3.70it/s]"
     ]
    },
    {
     "name": "stdout",
     "output_type": "stream",
     "text": [
      "(600/1272) Data: 0.012s | Batch: 0.285s | Total: 0:02:50 | ETA: 0:03:02 | Loss: 0.1727 | top1:  92.3695\n"
     ]
    },
    {
     "name": "stderr",
     "output_type": "stream",
     "text": [
      " 55%|███████████████████████████████████████████▍                                   | 700/1272 [03:18<02:38,  3.61it/s]"
     ]
    },
    {
     "name": "stdout",
     "output_type": "stream",
     "text": [
      "(700/1272) Data: 0.011s | Batch: 0.283s | Total: 0:03:18 | ETA: 0:02:35 | Loss: 0.1731 | top1:  92.3475\n"
     ]
    },
    {
     "name": "stderr",
     "output_type": "stream",
     "text": [
      " 63%|█████████████████████████████████████████████████▋                             | 800/1272 [03:45<02:04,  3.80it/s]"
     ]
    },
    {
     "name": "stdout",
     "output_type": "stream",
     "text": [
      "(800/1272) Data: 0.009s | Batch: 0.282s | Total: 0:03:45 | ETA: 0:02:09 | Loss: 0.1734 | top1:  92.3314\n"
     ]
    },
    {
     "name": "stderr",
     "output_type": "stream",
     "text": [
      " 71%|███████████████████████████████████████████████████████▉                       | 900/1272 [04:12<01:43,  3.58it/s]"
     ]
    },
    {
     "name": "stdout",
     "output_type": "stream",
     "text": [
      "(900/1272) Data: 0.008s | Batch: 0.281s | Total: 0:04:12 | ETA: 0:01:43 | Loss: 0.1735 | top1:  92.3242\n"
     ]
    },
    {
     "name": "stderr",
     "output_type": "stream",
     "text": [
      " 79%|█████████████████████████████████████████████████████████████▎                | 1000/1272 [04:40<01:15,  3.61it/s]"
     ]
    },
    {
     "name": "stdout",
     "output_type": "stream",
     "text": [
      "(1000/1272) Data: 0.008s | Batch: 0.280s | Total: 0:04:40 | ETA: 0:01:18 | Loss: 0.1738 | top1:  92.3112\n"
     ]
    },
    {
     "name": "stderr",
     "output_type": "stream",
     "text": [
      " 86%|███████████████████████████████████████████████████████████████████▍          | 1100/1272 [05:07<00:48,  3.53it/s]"
     ]
    },
    {
     "name": "stdout",
     "output_type": "stream",
     "text": [
      "(1100/1272) Data: 0.007s | Batch: 0.280s | Total: 0:05:07 | ETA: 0:00:49 | Loss: 0.1741 | top1:  92.3000\n"
     ]
    },
    {
     "name": "stderr",
     "output_type": "stream",
     "text": [
      " 94%|█████████████████████████████████████████████████████████████████████████▌    | 1200/1272 [05:35<00:19,  3.72it/s]"
     ]
    },
    {
     "name": "stdout",
     "output_type": "stream",
     "text": [
      "(1200/1272) Data: 0.007s | Batch: 0.279s | Total: 0:05:35 | ETA: 0:00:20 | Loss: 0.1743 | top1:  92.2914\n"
     ]
    },
    {
     "name": "stderr",
     "output_type": "stream",
     "text": [
      "100%|██████████████████████████████████████████████████████████████████████████████| 1272/1272 [05:55<00:00,  3.58it/s]\n",
      "100%|████████████████████████████████████████████████████████████████████████████████| 156/156 [00:21<00:00,  7.40it/s]\n"
     ]
    },
    {
     "name": "stdout",
     "output_type": "stream",
     "text": [
      "=> saving checkpoint 'checkpoints\\checkpoint.pth.tar'\n"
     ]
    },
    {
     "name": "stderr",
     "output_type": "stream",
     "text": [
      "  0%|                                                                                         | 0/1272 [00:00<?, ?it/s]"
     ]
    },
    {
     "name": "stdout",
     "output_type": "stream",
     "text": [
      "\n",
      "Epoch: [27 | 60] LR: 0.100000\n"
     ]
    },
    {
     "name": "stderr",
     "output_type": "stream",
     "text": [
      "  8%|██████▏                                                                        | 100/1272 [00:32<05:18,  3.68it/s]"
     ]
    },
    {
     "name": "stdout",
     "output_type": "stream",
     "text": [
      "(100/1272) Data: 0.071s | Batch: 0.329s | Total: 0:00:32 | ETA: 0:05:17 | Loss: 0.1706 | top1:  92.4430\n"
     ]
    },
    {
     "name": "stderr",
     "output_type": "stream",
     "text": [
      " 16%|████████████▍                                                                  | 200/1272 [00:59<04:48,  3.71it/s]"
     ]
    },
    {
     "name": "stdout",
     "output_type": "stream",
     "text": [
      "(200/1272) Data: 0.036s | Batch: 0.298s | Total: 0:00:59 | ETA: 0:04:47 | Loss: 0.1703 | top1:  92.4723\n"
     ]
    },
    {
     "name": "stderr",
     "output_type": "stream",
     "text": [
      " 24%|██████████████████▋                                                            | 300/1272 [01:26<04:21,  3.72it/s]"
     ]
    },
    {
     "name": "stdout",
     "output_type": "stream",
     "text": [
      "(300/1272) Data: 0.024s | Batch: 0.288s | Total: 0:01:26 | ETA: 0:04:25 | Loss: 0.1709 | top1:  92.4480\n"
     ]
    },
    {
     "name": "stderr",
     "output_type": "stream",
     "text": [
      " 31%|████████████████████████▊                                                      | 400/1272 [01:53<03:57,  3.67it/s]"
     ]
    },
    {
     "name": "stdout",
     "output_type": "stream",
     "text": [
      "(400/1272) Data: 0.018s | Batch: 0.283s | Total: 0:01:53 | ETA: 0:03:52 | Loss: 0.1711 | top1:  92.4511\n"
     ]
    },
    {
     "name": "stderr",
     "output_type": "stream",
     "text": [
      " 39%|███████████████████████████████                                                | 500/1272 [02:19<03:25,  3.76it/s]"
     ]
    },
    {
     "name": "stdout",
     "output_type": "stream",
     "text": [
      "(500/1272) Data: 0.015s | Batch: 0.280s | Total: 0:02:19 | ETA: 0:03:25 | Loss: 0.1716 | top1:  92.4282\n"
     ]
    },
    {
     "name": "stderr",
     "output_type": "stream",
     "text": [
      " 47%|█████████████████████████████████████▎                                         | 600/1272 [02:46<02:59,  3.75it/s]"
     ]
    },
    {
     "name": "stdout",
     "output_type": "stream",
     "text": [
      "(600/1272) Data: 0.012s | Batch: 0.278s | Total: 0:02:46 | ETA: 0:03:02 | Loss: 0.1719 | top1:  92.4122\n"
     ]
    },
    {
     "name": "stderr",
     "output_type": "stream",
     "text": [
      " 55%|███████████████████████████████████████████▍                                   | 700/1272 [03:13<02:28,  3.85it/s]"
     ]
    },
    {
     "name": "stdout",
     "output_type": "stream",
     "text": [
      "(700/1272) Data: 0.011s | Batch: 0.277s | Total: 0:03:13 | ETA: 0:02:34 | Loss: 0.1721 | top1:  92.3934\n"
     ]
    },
    {
     "name": "stderr",
     "output_type": "stream",
     "text": [
      " 63%|█████████████████████████████████████████████████▋                             | 800/1272 [03:40<02:02,  3.85it/s]"
     ]
    },
    {
     "name": "stdout",
     "output_type": "stream",
     "text": [
      "(800/1272) Data: 0.010s | Batch: 0.275s | Total: 0:03:40 | ETA: 0:02:05 | Loss: 0.1725 | top1:  92.3787\n"
     ]
    },
    {
     "name": "stderr",
     "output_type": "stream",
     "text": [
      " 71%|███████████████████████████████████████████████████████▉                       | 900/1272 [04:07<01:41,  3.65it/s]"
     ]
    },
    {
     "name": "stdout",
     "output_type": "stream",
     "text": [
      "(900/1272) Data: 0.009s | Batch: 0.275s | Total: 0:04:07 | ETA: 0:01:38 | Loss: 0.1727 | top1:  92.3697\n"
     ]
    },
    {
     "name": "stderr",
     "output_type": "stream",
     "text": [
      " 79%|█████████████████████████████████████████████████████████████▎                | 1000/1272 [04:34<01:13,  3.71it/s]"
     ]
    },
    {
     "name": "stdout",
     "output_type": "stream",
     "text": [
      "(1000/1272) Data: 0.008s | Batch: 0.274s | Total: 0:04:34 | ETA: 0:01:14 | Loss: 0.1729 | top1:  92.3612\n"
     ]
    },
    {
     "name": "stderr",
     "output_type": "stream",
     "text": [
      " 86%|███████████████████████████████████████████████████████████████████▍          | 1100/1272 [05:00<00:46,  3.69it/s]"
     ]
    },
    {
     "name": "stdout",
     "output_type": "stream",
     "text": [
      "(1100/1272) Data: 0.007s | Batch: 0.274s | Total: 0:05:00 | ETA: 0:00:48 | Loss: 0.1730 | top1:  92.3533\n"
     ]
    },
    {
     "name": "stderr",
     "output_type": "stream",
     "text": [
      " 94%|█████████████████████████████████████████████████████████████████████████▌    | 1200/1272 [05:27<00:19,  3.67it/s]"
     ]
    },
    {
     "name": "stdout",
     "output_type": "stream",
     "text": [
      "(1200/1272) Data: 0.007s | Batch: 0.273s | Total: 0:05:27 | ETA: 0:00:20 | Loss: 0.1732 | top1:  92.3438\n"
     ]
    },
    {
     "name": "stderr",
     "output_type": "stream",
     "text": [
      "100%|██████████████████████████████████████████████████████████████████████████████| 1272/1272 [05:47<00:00,  3.66it/s]\n",
      "100%|████████████████████████████████████████████████████████████████████████████████| 156/156 [00:20<00:00,  7.56it/s]\n"
     ]
    },
    {
     "name": "stdout",
     "output_type": "stream",
     "text": [
      "=> saving checkpoint 'checkpoints\\checkpoint.pth.tar'\n"
     ]
    },
    {
     "name": "stderr",
     "output_type": "stream",
     "text": [
      "  0%|                                                                                         | 0/1272 [00:00<?, ?it/s]"
     ]
    },
    {
     "name": "stdout",
     "output_type": "stream",
     "text": [
      "=> saving best model 'checkpoints\\model_best.pth.tar'\n",
      "\n",
      "Epoch: [28 | 60] LR: 0.100000\n"
     ]
    },
    {
     "name": "stderr",
     "output_type": "stream",
     "text": [
      "  8%|██████▏                                                                        | 100/1272 [00:32<05:08,  3.80it/s]"
     ]
    },
    {
     "name": "stdout",
     "output_type": "stream",
     "text": [
      "(100/1272) Data: 0.071s | Batch: 0.328s | Total: 0:00:32 | ETA: 0:05:13 | Loss: 0.1685 | top1:  92.5809\n"
     ]
    },
    {
     "name": "stderr",
     "output_type": "stream",
     "text": [
      " 16%|████████████▍                                                                  | 200/1272 [00:59<04:45,  3.75it/s]"
     ]
    },
    {
     "name": "stdout",
     "output_type": "stream",
     "text": [
      "(200/1272) Data: 0.036s | Batch: 0.298s | Total: 0:00:59 | ETA: 0:04:50 | Loss: 0.1689 | top1:  92.5473\n"
     ]
    },
    {
     "name": "stderr",
     "output_type": "stream",
     "text": [
      " 24%|██████████████████▋                                                            | 300/1272 [01:26<04:10,  3.87it/s]"
     ]
    },
    {
     "name": "stdout",
     "output_type": "stream",
     "text": [
      "(300/1272) Data: 0.024s | Batch: 0.287s | Total: 0:01:26 | ETA: 0:04:17 | Loss: 0.1699 | top1:  92.5113\n"
     ]
    },
    {
     "name": "stderr",
     "output_type": "stream",
     "text": [
      " 31%|████████████████████████▊                                                      | 400/1272 [01:53<03:56,  3.69it/s]"
     ]
    },
    {
     "name": "stdout",
     "output_type": "stream",
     "text": [
      "(400/1272) Data: 0.018s | Batch: 0.283s | Total: 0:01:53 | ETA: 0:03:58 | Loss: 0.1704 | top1:  92.4858\n"
     ]
    },
    {
     "name": "stderr",
     "output_type": "stream",
     "text": [
      " 39%|███████████████████████████████                                                | 500/1272 [02:19<03:29,  3.69it/s]"
     ]
    },
    {
     "name": "stdout",
     "output_type": "stream",
     "text": [
      "(500/1272) Data: 0.015s | Batch: 0.279s | Total: 0:02:19 | ETA: 0:03:28 | Loss: 0.1707 | top1:  92.4654\n"
     ]
    },
    {
     "name": "stderr",
     "output_type": "stream",
     "text": [
      " 47%|█████████████████████████████████████▎                                         | 600/1272 [02:46<03:01,  3.70it/s]"
     ]
    },
    {
     "name": "stdout",
     "output_type": "stream",
     "text": [
      "(600/1272) Data: 0.012s | Batch: 0.277s | Total: 0:02:46 | ETA: 0:03:00 | Loss: 0.1711 | top1:  92.4426\n"
     ]
    },
    {
     "name": "stderr",
     "output_type": "stream",
     "text": [
      " 55%|███████████████████████████████████████████▍                                   | 700/1272 [03:13<02:33,  3.72it/s]"
     ]
    },
    {
     "name": "stdout",
     "output_type": "stream",
     "text": [
      "(700/1272) Data: 0.011s | Batch: 0.276s | Total: 0:03:13 | ETA: 0:02:30 | Loss: 0.1714 | top1:  92.4301\n"
     ]
    },
    {
     "name": "stderr",
     "output_type": "stream",
     "text": [
      " 63%|█████████████████████████████████████████████████▋                             | 800/1272 [03:40<02:19,  3.37it/s]"
     ]
    },
    {
     "name": "stdout",
     "output_type": "stream",
     "text": [
      "(800/1272) Data: 0.010s | Batch: 0.275s | Total: 0:03:40 | ETA: 0:02:09 | Loss: 0.1717 | top1:  92.4183\n"
     ]
    },
    {
     "name": "stderr",
     "output_type": "stream",
     "text": [
      " 71%|███████████████████████████████████████████████████████▉                       | 900/1272 [04:07<01:37,  3.80it/s]"
     ]
    },
    {
     "name": "stdout",
     "output_type": "stream",
     "text": [
      "(900/1272) Data: 0.009s | Batch: 0.274s | Total: 0:04:07 | ETA: 0:01:40 | Loss: 0.1719 | top1:  92.4084\n"
     ]
    },
    {
     "name": "stderr",
     "output_type": "stream",
     "text": [
      " 79%|█████████████████████████████████████████████████████████████▎                | 1000/1272 [04:33<01:12,  3.75it/s]"
     ]
    },
    {
     "name": "stdout",
     "output_type": "stream",
     "text": [
      "(1000/1272) Data: 0.008s | Batch: 0.274s | Total: 0:04:33 | ETA: 0:01:13 | Loss: 0.1720 | top1:  92.4023\n"
     ]
    },
    {
     "name": "stderr",
     "output_type": "stream",
     "text": [
      " 86%|███████████████████████████████████████████████████████████████████▍          | 1100/1272 [05:00<00:45,  3.75it/s]"
     ]
    },
    {
     "name": "stdout",
     "output_type": "stream",
     "text": [
      "(1100/1272) Data: 0.007s | Batch: 0.273s | Total: 0:05:00 | ETA: 0:00:46 | Loss: 0.1722 | top1:  92.3909\n"
     ]
    },
    {
     "name": "stderr",
     "output_type": "stream",
     "text": [
      " 94%|█████████████████████████████████████████████████████████████████████████▌    | 1200/1272 [05:27<00:19,  3.74it/s]"
     ]
    },
    {
     "name": "stdout",
     "output_type": "stream",
     "text": [
      "(1200/1272) Data: 0.007s | Batch: 0.273s | Total: 0:05:27 | ETA: 0:00:20 | Loss: 0.1725 | top1:  92.3772\n"
     ]
    },
    {
     "name": "stderr",
     "output_type": "stream",
     "text": [
      "100%|██████████████████████████████████████████████████████████████████████████████| 1272/1272 [05:47<00:00,  3.66it/s]\n",
      "100%|████████████████████████████████████████████████████████████████████████████████| 156/156 [00:20<00:00,  7.53it/s]\n"
     ]
    },
    {
     "name": "stdout",
     "output_type": "stream",
     "text": [
      "=> saving checkpoint 'checkpoints\\checkpoint.pth.tar'\n"
     ]
    },
    {
     "name": "stderr",
     "output_type": "stream",
     "text": [
      "  0%|                                                                                         | 0/1272 [00:00<?, ?it/s]"
     ]
    },
    {
     "name": "stdout",
     "output_type": "stream",
     "text": [
      "\n",
      "Epoch: [29 | 60] LR: 0.100000\n"
     ]
    },
    {
     "name": "stderr",
     "output_type": "stream",
     "text": [
      "  8%|██████▏                                                                        | 100/1272 [00:32<05:05,  3.84it/s]"
     ]
    },
    {
     "name": "stdout",
     "output_type": "stream",
     "text": [
      "(100/1272) Data: 0.070s | Batch: 0.326s | Total: 0:00:32 | ETA: 0:05:09 | Loss: 0.1676 | top1:  92.5910\n"
     ]
    },
    {
     "name": "stderr",
     "output_type": "stream",
     "text": [
      " 16%|████████████▍                                                                  | 200/1272 [00:59<04:45,  3.75it/s]"
     ]
    },
    {
     "name": "stdout",
     "output_type": "stream",
     "text": [
      "(200/1272) Data: 0.035s | Batch: 0.296s | Total: 0:00:59 | ETA: 0:04:49 | Loss: 0.1680 | top1:  92.5862\n"
     ]
    },
    {
     "name": "stderr",
     "output_type": "stream",
     "text": [
      " 24%|██████████████████▋                                                            | 300/1272 [01:25<04:21,  3.71it/s]"
     ]
    },
    {
     "name": "stdout",
     "output_type": "stream",
     "text": [
      "(300/1272) Data: 0.024s | Batch: 0.286s | Total: 0:01:25 | ETA: 0:04:17 | Loss: 0.1691 | top1:  92.5354\n"
     ]
    },
    {
     "name": "stderr",
     "output_type": "stream",
     "text": [
      " 31%|████████████████████████▊                                                      | 400/1272 [01:52<03:52,  3.75it/s]"
     ]
    },
    {
     "name": "stdout",
     "output_type": "stream",
     "text": [
      "(400/1272) Data: 0.018s | Batch: 0.281s | Total: 0:01:52 | ETA: 0:03:57 | Loss: 0.1695 | top1:  92.5147\n"
     ]
    },
    {
     "name": "stderr",
     "output_type": "stream",
     "text": [
      " 39%|███████████████████████████████                                                | 500/1272 [02:19<03:23,  3.80it/s]"
     ]
    },
    {
     "name": "stdout",
     "output_type": "stream",
     "text": [
      "(500/1272) Data: 0.015s | Batch: 0.278s | Total: 0:02:19 | ETA: 0:03:22 | Loss: 0.1699 | top1:  92.5022\n"
     ]
    },
    {
     "name": "stderr",
     "output_type": "stream",
     "text": [
      " 47%|█████████████████████████████████████▎                                         | 600/1272 [02:45<03:01,  3.70it/s]"
     ]
    },
    {
     "name": "stdout",
     "output_type": "stream",
     "text": [
      "(600/1272) Data: 0.012s | Batch: 0.276s | Total: 0:02:45 | ETA: 0:03:02 | Loss: 0.1706 | top1:  92.4741\n"
     ]
    },
    {
     "name": "stderr",
     "output_type": "stream",
     "text": [
      " 55%|███████████████████████████████████████████▍                                   | 700/1272 [03:12<02:32,  3.75it/s]"
     ]
    },
    {
     "name": "stdout",
     "output_type": "stream",
     "text": [
      "(700/1272) Data: 0.011s | Batch: 0.275s | Total: 0:03:12 | ETA: 0:02:34 | Loss: 0.1707 | top1:  92.4670\n"
     ]
    },
    {
     "name": "stderr",
     "output_type": "stream",
     "text": [
      " 63%|█████████████████████████████████████████████████▋                             | 800/1272 [03:39<02:03,  3.82it/s]"
     ]
    },
    {
     "name": "stdout",
     "output_type": "stream",
     "text": [
      "(800/1272) Data: 0.009s | Batch: 0.274s | Total: 0:03:39 | ETA: 0:02:05 | Loss: 0.1709 | top1:  92.4585\n"
     ]
    },
    {
     "name": "stderr",
     "output_type": "stream",
     "text": [
      " 71%|███████████████████████████████████████████████████████▉                       | 900/1272 [04:05<01:39,  3.74it/s]"
     ]
    },
    {
     "name": "stdout",
     "output_type": "stream",
     "text": [
      "(900/1272) Data: 0.008s | Batch: 0.273s | Total: 0:04:05 | ETA: 0:01:40 | Loss: 0.1712 | top1:  92.4448\n"
     ]
    },
    {
     "name": "stderr",
     "output_type": "stream",
     "text": [
      " 79%|█████████████████████████████████████████████████████████████▎                | 1000/1272 [04:32<01:13,  3.72it/s]"
     ]
    },
    {
     "name": "stdout",
     "output_type": "stream",
     "text": [
      "(1000/1272) Data: 0.008s | Batch: 0.273s | Total: 0:04:32 | ETA: 0:01:13 | Loss: 0.1714 | top1:  92.4360\n"
     ]
    },
    {
     "name": "stderr",
     "output_type": "stream",
     "text": [
      " 86%|███████████████████████████████████████████████████████████████████▍          | 1100/1272 [04:59<00:45,  3.78it/s]"
     ]
    },
    {
     "name": "stdout",
     "output_type": "stream",
     "text": [
      "(1100/1272) Data: 0.007s | Batch: 0.272s | Total: 0:04:59 | ETA: 0:00:47 | Loss: 0.1716 | top1:  92.4233\n"
     ]
    },
    {
     "name": "stderr",
     "output_type": "stream",
     "text": [
      " 94%|█████████████████████████████████████████████████████████████████████████▌    | 1200/1272 [05:26<00:19,  3.66it/s]"
     ]
    },
    {
     "name": "stdout",
     "output_type": "stream",
     "text": [
      "(1200/1272) Data: 0.007s | Batch: 0.272s | Total: 0:05:26 | ETA: 0:00:21 | Loss: 0.1718 | top1:  92.4109\n"
     ]
    },
    {
     "name": "stderr",
     "output_type": "stream",
     "text": [
      "100%|██████████████████████████████████████████████████████████████████████████████| 1272/1272 [05:46<00:00,  3.68it/s]\n",
      "100%|████████████████████████████████████████████████████████████████████████████████| 156/156 [00:21<00:00,  7.29it/s]\n"
     ]
    },
    {
     "name": "stdout",
     "output_type": "stream",
     "text": [
      "=> saving checkpoint 'checkpoints\\checkpoint.pth.tar'\n"
     ]
    },
    {
     "name": "stderr",
     "output_type": "stream",
     "text": [
      "  0%|                                                                                         | 0/1272 [00:00<?, ?it/s]"
     ]
    },
    {
     "name": "stdout",
     "output_type": "stream",
     "text": [
      "\n",
      "Epoch: [30 | 60] LR: 0.100000\n"
     ]
    },
    {
     "name": "stderr",
     "output_type": "stream",
     "text": [
      "  8%|██████▏                                                                        | 100/1272 [00:33<05:14,  3.72it/s]"
     ]
    },
    {
     "name": "stdout",
     "output_type": "stream",
     "text": [
      "(100/1272) Data: 0.073s | Batch: 0.331s | Total: 0:00:33 | ETA: 0:05:10 | Loss: 0.1658 | top1:  92.6510\n"
     ]
    },
    {
     "name": "stderr",
     "output_type": "stream",
     "text": [
      " 16%|████████████▍                                                                  | 200/1272 [00:59<04:39,  3.84it/s]"
     ]
    },
    {
     "name": "stdout",
     "output_type": "stream",
     "text": [
      "(200/1272) Data: 0.037s | Batch: 0.298s | Total: 0:00:59 | ETA: 0:04:43 | Loss: 0.1664 | top1:  92.6185\n"
     ]
    },
    {
     "name": "stderr",
     "output_type": "stream",
     "text": [
      " 24%|██████████████████▋                                                            | 300/1272 [01:26<04:25,  3.66it/s]"
     ]
    },
    {
     "name": "stdout",
     "output_type": "stream",
     "text": [
      "(300/1272) Data: 0.025s | Batch: 0.288s | Total: 0:01:26 | ETA: 0:04:28 | Loss: 0.1673 | top1:  92.5875\n"
     ]
    },
    {
     "name": "stderr",
     "output_type": "stream",
     "text": [
      " 31%|████████████████████████▊                                                      | 400/1272 [01:53<04:04,  3.57it/s]"
     ]
    },
    {
     "name": "stdout",
     "output_type": "stream",
     "text": [
      "(400/1272) Data: 0.019s | Batch: 0.283s | Total: 0:01:53 | ETA: 0:03:49 | Loss: 0.1681 | top1:  92.5561\n"
     ]
    },
    {
     "name": "stderr",
     "output_type": "stream",
     "text": [
      " 39%|███████████████████████████████                                                | 500/1272 [02:20<03:23,  3.80it/s]"
     ]
    },
    {
     "name": "stdout",
     "output_type": "stream",
     "text": [
      "(500/1272) Data: 0.015s | Batch: 0.280s | Total: 0:02:20 | ETA: 0:03:25 | Loss: 0.1687 | top1:  92.5310\n"
     ]
    },
    {
     "name": "stderr",
     "output_type": "stream",
     "text": [
      " 47%|█████████████████████████████████████▎                                         | 600/1272 [02:46<02:58,  3.77it/s]"
     ]
    },
    {
     "name": "stdout",
     "output_type": "stream",
     "text": [
      "(600/1272) Data: 0.013s | Batch: 0.278s | Total: 0:02:46 | ETA: 0:03:02 | Loss: 0.1691 | top1:  92.5120\n"
     ]
    },
    {
     "name": "stderr",
     "output_type": "stream",
     "text": [
      " 55%|███████████████████████████████████████████▍                                   | 700/1272 [03:13<02:29,  3.82it/s]"
     ]
    },
    {
     "name": "stdout",
     "output_type": "stream",
     "text": [
      "(700/1272) Data: 0.011s | Batch: 0.277s | Total: 0:03:13 | ETA: 0:02:33 | Loss: 0.1695 | top1:  92.4975\n"
     ]
    },
    {
     "name": "stderr",
     "output_type": "stream",
     "text": [
      " 63%|█████████████████████████████████████████████████▋                             | 800/1272 [03:40<02:07,  3.70it/s]"
     ]
    },
    {
     "name": "stdout",
     "output_type": "stream",
     "text": [
      "(800/1272) Data: 0.010s | Batch: 0.275s | Total: 0:03:40 | ETA: 0:02:10 | Loss: 0.1699 | top1:  92.4799\n"
     ]
    },
    {
     "name": "stderr",
     "output_type": "stream",
     "text": [
      " 71%|███████████████████████████████████████████████████████▉                       | 900/1272 [04:07<01:40,  3.69it/s]"
     ]
    },
    {
     "name": "stdout",
     "output_type": "stream",
     "text": [
      "(900/1272) Data: 0.009s | Batch: 0.275s | Total: 0:04:07 | ETA: 0:01:41 | Loss: 0.1702 | top1:  92.4683\n"
     ]
    },
    {
     "name": "stderr",
     "output_type": "stream",
     "text": [
      " 79%|█████████████████████████████████████████████████████████████▎                | 1000/1272 [04:33<01:13,  3.68it/s]"
     ]
    },
    {
     "name": "stdout",
     "output_type": "stream",
     "text": [
      "(1000/1272) Data: 0.008s | Batch: 0.274s | Total: 0:04:33 | ETA: 0:01:13 | Loss: 0.1705 | top1:  92.4587\n"
     ]
    },
    {
     "name": "stderr",
     "output_type": "stream",
     "text": [
      " 86%|███████████████████████████████████████████████████████████████████▍          | 1100/1272 [05:00<00:47,  3.65it/s]"
     ]
    },
    {
     "name": "stdout",
     "output_type": "stream",
     "text": [
      "(1100/1272) Data: 0.007s | Batch: 0.273s | Total: 0:05:00 | ETA: 0:00:48 | Loss: 0.1707 | top1:  92.4527\n"
     ]
    },
    {
     "name": "stderr",
     "output_type": "stream",
     "text": [
      " 94%|█████████████████████████████████████████████████████████████████████████▌    | 1200/1272 [05:27<00:20,  3.59it/s]"
     ]
    },
    {
     "name": "stdout",
     "output_type": "stream",
     "text": [
      "(1200/1272) Data: 0.007s | Batch: 0.273s | Total: 0:05:27 | ETA: 0:00:20 | Loss: 0.1710 | top1:  92.4410\n"
     ]
    },
    {
     "name": "stderr",
     "output_type": "stream",
     "text": [
      "100%|██████████████████████████████████████████████████████████████████████████████| 1272/1272 [05:47<00:00,  3.66it/s]\n",
      "100%|████████████████████████████████████████████████████████████████████████████████| 156/156 [00:20<00:00,  7.44it/s]\n"
     ]
    },
    {
     "name": "stdout",
     "output_type": "stream",
     "text": [
      "=> saving checkpoint 'checkpoints\\checkpoint.pth.tar'\n"
     ]
    },
    {
     "name": "stderr",
     "output_type": "stream",
     "text": [
      "  0%|                                                                                         | 0/1272 [00:00<?, ?it/s]"
     ]
    },
    {
     "name": "stdout",
     "output_type": "stream",
     "text": [
      "\n",
      "Epoch: [31 | 60] LR: 0.010000\n"
     ]
    },
    {
     "name": "stderr",
     "output_type": "stream",
     "text": [
      "  8%|██████▏                                                                        | 100/1272 [00:32<05:17,  3.69it/s]"
     ]
    },
    {
     "name": "stdout",
     "output_type": "stream",
     "text": [
      "(100/1272) Data: 0.069s | Batch: 0.327s | Total: 0:00:32 | ETA: 0:05:12 | Loss: 0.1592 | top1:  92.9879\n"
     ]
    },
    {
     "name": "stderr",
     "output_type": "stream",
     "text": [
      " 16%|████████████▍                                                                  | 200/1272 [00:59<04:45,  3.76it/s]"
     ]
    },
    {
     "name": "stdout",
     "output_type": "stream",
     "text": [
      "(200/1272) Data: 0.035s | Batch: 0.296s | Total: 0:00:59 | ETA: 0:04:49 | Loss: 0.1571 | top1:  93.0805\n"
     ]
    },
    {
     "name": "stderr",
     "output_type": "stream",
     "text": [
      " 24%|██████████████████▋                                                            | 300/1272 [01:26<04:16,  3.79it/s]"
     ]
    },
    {
     "name": "stdout",
     "output_type": "stream",
     "text": [
      "(300/1272) Data: 0.024s | Batch: 0.287s | Total: 0:01:26 | ETA: 0:04:24 | Loss: 0.1557 | top1:  93.1426\n"
     ]
    },
    {
     "name": "stderr",
     "output_type": "stream",
     "text": [
      " 31%|████████████████████████▊                                                      | 400/1272 [01:52<03:55,  3.70it/s]"
     ]
    },
    {
     "name": "stdout",
     "output_type": "stream",
     "text": [
      "(400/1272) Data: 0.018s | Batch: 0.282s | Total: 0:01:52 | ETA: 0:03:53 | Loss: 0.1545 | top1:  93.1955\n"
     ]
    },
    {
     "name": "stderr",
     "output_type": "stream",
     "text": [
      " 39%|███████████████████████████████                                                | 500/1272 [02:19<03:31,  3.65it/s]"
     ]
    },
    {
     "name": "stdout",
     "output_type": "stream",
     "text": [
      "(500/1272) Data: 0.014s | Batch: 0.279s | Total: 0:02:19 | ETA: 0:03:31 | Loss: 0.1538 | top1:  93.2273\n"
     ]
    },
    {
     "name": "stderr",
     "output_type": "stream",
     "text": [
      " 47%|█████████████████████████████████████▎                                         | 600/1272 [02:46<02:59,  3.74it/s]"
     ]
    },
    {
     "name": "stdout",
     "output_type": "stream",
     "text": [
      "(600/1272) Data: 0.012s | Batch: 0.278s | Total: 0:02:46 | ETA: 0:03:01 | Loss: 0.1530 | top1:  93.2643\n"
     ]
    },
    {
     "name": "stderr",
     "output_type": "stream",
     "text": [
      " 55%|███████████████████████████████████████████▍                                   | 700/1272 [03:13<02:33,  3.74it/s]"
     ]
    },
    {
     "name": "stdout",
     "output_type": "stream",
     "text": [
      "(700/1272) Data: 0.011s | Batch: 0.276s | Total: 0:03:13 | ETA: 0:02:35 | Loss: 0.1525 | top1:  93.2838\n"
     ]
    },
    {
     "name": "stderr",
     "output_type": "stream",
     "text": [
      " 63%|█████████████████████████████████████████████████▋                             | 800/1272 [03:40<02:07,  3.70it/s]"
     ]
    },
    {
     "name": "stdout",
     "output_type": "stream",
     "text": [
      "(800/1272) Data: 0.009s | Batch: 0.275s | Total: 0:03:40 | ETA: 0:02:08 | Loss: 0.1521 | top1:  93.3041\n"
     ]
    },
    {
     "name": "stderr",
     "output_type": "stream",
     "text": [
      " 71%|███████████████████████████████████████████████████████▉                       | 900/1272 [04:07<01:43,  3.59it/s]"
     ]
    },
    {
     "name": "stdout",
     "output_type": "stream",
     "text": [
      "(900/1272) Data: 0.008s | Batch: 0.275s | Total: 0:04:07 | ETA: 0:01:41 | Loss: 0.1517 | top1:  93.3206\n"
     ]
    },
    {
     "name": "stderr",
     "output_type": "stream",
     "text": [
      " 79%|█████████████████████████████████████████████████████████████▎                | 1000/1272 [04:33<01:12,  3.75it/s]"
     ]
    },
    {
     "name": "stdout",
     "output_type": "stream",
     "text": [
      "(1000/1272) Data: 0.008s | Batch: 0.274s | Total: 0:04:33 | ETA: 0:01:13 | Loss: 0.1513 | top1:  93.3389\n"
     ]
    },
    {
     "name": "stderr",
     "output_type": "stream",
     "text": [
      " 86%|███████████████████████████████████████████████████████████████████▍          | 1100/1272 [05:00<00:46,  3.72it/s]"
     ]
    },
    {
     "name": "stdout",
     "output_type": "stream",
     "text": [
      "(1100/1272) Data: 0.007s | Batch: 0.273s | Total: 0:05:00 | ETA: 0:00:47 | Loss: 0.1509 | top1:  93.3554\n"
     ]
    },
    {
     "name": "stderr",
     "output_type": "stream",
     "text": [
      " 94%|█████████████████████████████████████████████████████████████████████████▌    | 1200/1272 [05:27<00:19,  3.75it/s]"
     ]
    },
    {
     "name": "stdout",
     "output_type": "stream",
     "text": [
      "(1200/1272) Data: 0.006s | Batch: 0.273s | Total: 0:05:27 | ETA: 0:00:20 | Loss: 0.1507 | top1:  93.3656\n"
     ]
    },
    {
     "name": "stderr",
     "output_type": "stream",
     "text": [
      "100%|██████████████████████████████████████████████████████████████████████████████| 1272/1272 [05:47<00:00,  3.66it/s]\n",
      "100%|████████████████████████████████████████████████████████████████████████████████| 156/156 [00:20<00:00,  7.44it/s]\n"
     ]
    },
    {
     "name": "stdout",
     "output_type": "stream",
     "text": [
      "=> saving checkpoint 'checkpoints\\checkpoint.pth.tar'\n"
     ]
    },
    {
     "name": "stderr",
     "output_type": "stream",
     "text": [
      "  0%|                                                                                         | 0/1272 [00:00<?, ?it/s]"
     ]
    },
    {
     "name": "stdout",
     "output_type": "stream",
     "text": [
      "=> saving best model 'checkpoints\\model_best.pth.tar'\n",
      "\n",
      "Epoch: [32 | 60] LR: 0.001000\n"
     ]
    },
    {
     "name": "stderr",
     "output_type": "stream",
     "text": [
      "  8%|██████▏                                                                        | 100/1272 [00:32<05:05,  3.84it/s]"
     ]
    },
    {
     "name": "stdout",
     "output_type": "stream",
     "text": [
      "(100/1272) Data: 0.070s | Batch: 0.327s | Total: 0:00:32 | ETA: 0:05:12 | Loss: 0.1435 | top1:  93.6641\n"
     ]
    },
    {
     "name": "stderr",
     "output_type": "stream",
     "text": [
      " 16%|████████████▍                                                                  | 200/1272 [00:59<04:47,  3.72it/s]"
     ]
    },
    {
     "name": "stdout",
     "output_type": "stream",
     "text": [
      "(200/1272) Data: 0.035s | Batch: 0.297s | Total: 0:00:59 | ETA: 0:04:49 | Loss: 0.1430 | top1:  93.6922\n"
     ]
    },
    {
     "name": "stderr",
     "output_type": "stream",
     "text": [
      " 24%|██████████████████▋                                                            | 300/1272 [01:25<04:22,  3.71it/s]"
     ]
    },
    {
     "name": "stdout",
     "output_type": "stream",
     "text": [
      "(300/1272) Data: 0.024s | Batch: 0.287s | Total: 0:01:25 | ETA: 0:04:23 | Loss: 0.1426 | top1:  93.7168\n"
     ]
    },
    {
     "name": "stderr",
     "output_type": "stream",
     "text": [
      " 31%|████████████████████████▊                                                      | 400/1272 [01:52<03:55,  3.71it/s]"
     ]
    },
    {
     "name": "stdout",
     "output_type": "stream",
     "text": [
      "(400/1272) Data: 0.018s | Batch: 0.282s | Total: 0:01:52 | ETA: 0:03:56 | Loss: 0.1423 | top1:  93.7354\n"
     ]
    },
    {
     "name": "stderr",
     "output_type": "stream",
     "text": [
      " 39%|███████████████████████████████                                                | 500/1272 [02:19<03:18,  3.88it/s]"
     ]
    },
    {
     "name": "stdout",
     "output_type": "stream",
     "text": [
      "(500/1272) Data: 0.015s | Batch: 0.279s | Total: 0:02:19 | ETA: 0:03:23 | Loss: 0.1425 | top1:  93.7296\n"
     ]
    },
    {
     "name": "stderr",
     "output_type": "stream",
     "text": [
      " 47%|█████████████████████████████████████▎                                         | 600/1272 [02:46<02:58,  3.77it/s]"
     ]
    },
    {
     "name": "stdout",
     "output_type": "stream",
     "text": [
      "(600/1272) Data: 0.012s | Batch: 0.277s | Total: 0:02:46 | ETA: 0:02:59 | Loss: 0.1423 | top1:  93.7443\n"
     ]
    },
    {
     "name": "stderr",
     "output_type": "stream",
     "text": [
      " 55%|███████████████████████████████████████████▍                                   | 700/1272 [03:12<02:32,  3.75it/s]"
     ]
    },
    {
     "name": "stdout",
     "output_type": "stream",
     "text": [
      "(700/1272) Data: 0.011s | Batch: 0.276s | Total: 0:03:12 | ETA: 0:02:36 | Loss: 0.1422 | top1:  93.7487\n"
     ]
    },
    {
     "name": "stderr",
     "output_type": "stream",
     "text": [
      " 63%|█████████████████████████████████████████████████▋                             | 800/1272 [03:39<02:01,  3.87it/s]"
     ]
    },
    {
     "name": "stdout",
     "output_type": "stream",
     "text": [
      "(800/1272) Data: 0.009s | Batch: 0.274s | Total: 0:03:39 | ETA: 0:02:04 | Loss: 0.1423 | top1:  93.7463\n"
     ]
    },
    {
     "name": "stderr",
     "output_type": "stream",
     "text": [
      " 71%|███████████████████████████████████████████████████████▉                       | 900/1272 [04:06<01:39,  3.73it/s]"
     ]
    },
    {
     "name": "stdout",
     "output_type": "stream",
     "text": [
      "(900/1272) Data: 0.008s | Batch: 0.274s | Total: 0:04:06 | ETA: 0:01:40 | Loss: 0.1422 | top1:  93.7585\n"
     ]
    },
    {
     "name": "stderr",
     "output_type": "stream",
     "text": [
      " 79%|█████████████████████████████████████████████████████████████▎                | 1000/1272 [04:32<01:12,  3.76it/s]"
     ]
    },
    {
     "name": "stdout",
     "output_type": "stream",
     "text": [
      "(1000/1272) Data: 0.008s | Batch: 0.273s | Total: 0:04:32 | ETA: 0:01:12 | Loss: 0.1421 | top1:  93.7634\n"
     ]
    },
    {
     "name": "stderr",
     "output_type": "stream",
     "text": [
      " 86%|███████████████████████████████████████████████████████████████████▍          | 1100/1272 [04:59<00:45,  3.76it/s]"
     ]
    },
    {
     "name": "stdout",
     "output_type": "stream",
     "text": [
      "(1100/1272) Data: 0.007s | Batch: 0.272s | Total: 0:04:59 | ETA: 0:00:47 | Loss: 0.1420 | top1:  93.7680\n"
     ]
    },
    {
     "name": "stderr",
     "output_type": "stream",
     "text": [
      " 94%|█████████████████████████████████████████████████████████████████████████▌    | 1200/1272 [05:26<00:19,  3.73it/s]"
     ]
    },
    {
     "name": "stdout",
     "output_type": "stream",
     "text": [
      "(1200/1272) Data: 0.006s | Batch: 0.272s | Total: 0:05:26 | ETA: 0:00:20 | Loss: 0.1420 | top1:  93.7691\n"
     ]
    },
    {
     "name": "stderr",
     "output_type": "stream",
     "text": [
      "100%|██████████████████████████████████████████████████████████████████████████████| 1272/1272 [05:46<00:00,  3.67it/s]\n",
      "100%|████████████████████████████████████████████████████████████████████████████████| 156/156 [00:20<00:00,  7.52it/s]\n"
     ]
    },
    {
     "name": "stdout",
     "output_type": "stream",
     "text": [
      "=> saving checkpoint 'checkpoints\\checkpoint.pth.tar'\n"
     ]
    },
    {
     "name": "stderr",
     "output_type": "stream",
     "text": [
      "  0%|                                                                                         | 0/1272 [00:00<?, ?it/s]"
     ]
    },
    {
     "name": "stdout",
     "output_type": "stream",
     "text": [
      "\n",
      "Epoch: [33 | 60] LR: 0.000100\n"
     ]
    },
    {
     "name": "stderr",
     "output_type": "stream",
     "text": [
      "  8%|██████▏                                                                        | 100/1272 [00:32<05:14,  3.72it/s]"
     ]
    },
    {
     "name": "stdout",
     "output_type": "stream",
     "text": [
      "(100/1272) Data: 0.070s | Batch: 0.328s | Total: 0:00:32 | ETA: 0:05:15 | Loss: 0.1405 | top1:  93.8281\n"
     ]
    },
    {
     "name": "stderr",
     "output_type": "stream",
     "text": [
      " 16%|████████████▍                                                                  | 200/1272 [00:59<04:42,  3.80it/s]"
     ]
    },
    {
     "name": "stdout",
     "output_type": "stream",
     "text": [
      "(200/1272) Data: 0.035s | Batch: 0.297s | Total: 0:00:59 | ETA: 0:04:43 | Loss: 0.1407 | top1:  93.8058\n"
     ]
    },
    {
     "name": "stderr",
     "output_type": "stream",
     "text": [
      " 24%|██████████████████▋                                                            | 300/1272 [01:26<04:22,  3.70it/s]"
     ]
    },
    {
     "name": "stdout",
     "output_type": "stream",
     "text": [
      "(300/1272) Data: 0.024s | Batch: 0.287s | Total: 0:01:26 | ETA: 0:04:21 | Loss: 0.1408 | top1:  93.8008\n"
     ]
    },
    {
     "name": "stderr",
     "output_type": "stream",
     "text": [
      " 31%|████████████████████████▊                                                      | 400/1272 [01:52<03:51,  3.77it/s]"
     ]
    },
    {
     "name": "stdout",
     "output_type": "stream",
     "text": [
      "(400/1272) Data: 0.018s | Batch: 0.282s | Total: 0:01:52 | ETA: 0:03:55 | Loss: 0.1408 | top1:  93.8031\n"
     ]
    },
    {
     "name": "stderr",
     "output_type": "stream",
     "text": [
      " 39%|███████████████████████████████                                                | 500/1272 [02:19<03:28,  3.71it/s]"
     ]
    },
    {
     "name": "stdout",
     "output_type": "stream",
     "text": [
      "(500/1272) Data: 0.015s | Batch: 0.280s | Total: 0:02:19 | ETA: 0:03:28 | Loss: 0.1411 | top1:  93.7920\n"
     ]
    },
    {
     "name": "stderr",
     "output_type": "stream",
     "text": [
      " 47%|█████████████████████████████████████▎                                         | 600/1272 [02:46<02:55,  3.83it/s]"
     ]
    },
    {
     "name": "stdout",
     "output_type": "stream",
     "text": [
      "(600/1272) Data: 0.012s | Batch: 0.277s | Total: 0:02:46 | ETA: 0:02:58 | Loss: 0.1410 | top1:  93.7951\n"
     ]
    },
    {
     "name": "stderr",
     "output_type": "stream",
     "text": [
      " 55%|███████████████████████████████████████████▍                                   | 700/1272 [03:13<02:30,  3.80it/s]"
     ]
    },
    {
     "name": "stdout",
     "output_type": "stream",
     "text": [
      "(700/1272) Data: 0.011s | Batch: 0.276s | Total: 0:03:13 | ETA: 0:02:33 | Loss: 0.1410 | top1:  93.7944\n"
     ]
    },
    {
     "name": "stderr",
     "output_type": "stream",
     "text": [
      " 63%|█████████████████████████████████████████████████▋                             | 800/1272 [03:39<02:07,  3.69it/s]"
     ]
    },
    {
     "name": "stdout",
     "output_type": "stream",
     "text": [
      "(800/1272) Data: 0.009s | Batch: 0.275s | Total: 0:03:39 | ETA: 0:02:07 | Loss: 0.1410 | top1:  93.7957\n"
     ]
    },
    {
     "name": "stderr",
     "output_type": "stream",
     "text": [
      " 71%|███████████████████████████████████████████████████████▉                       | 900/1272 [04:06<01:39,  3.74it/s]"
     ]
    },
    {
     "name": "stdout",
     "output_type": "stream",
     "text": [
      "(900/1272) Data: 0.008s | Batch: 0.274s | Total: 0:04:06 | ETA: 0:01:41 | Loss: 0.1409 | top1:  93.8017\n"
     ]
    },
    {
     "name": "stderr",
     "output_type": "stream",
     "text": [
      " 79%|█████████████████████████████████████████████████████████████▎                | 1000/1272 [04:33<01:13,  3.70it/s]"
     ]
    },
    {
     "name": "stdout",
     "output_type": "stream",
     "text": [
      "(1000/1272) Data: 0.008s | Batch: 0.273s | Total: 0:04:33 | ETA: 0:01:14 | Loss: 0.1409 | top1:  93.8056\n"
     ]
    },
    {
     "name": "stderr",
     "output_type": "stream",
     "text": [
      " 86%|███████████████████████████████████████████████████████████████████▍          | 1100/1272 [05:00<00:46,  3.71it/s]"
     ]
    },
    {
     "name": "stdout",
     "output_type": "stream",
     "text": [
      "(1100/1272) Data: 0.007s | Batch: 0.273s | Total: 0:05:00 | ETA: 0:00:47 | Loss: 0.1409 | top1:  93.8071\n"
     ]
    },
    {
     "name": "stderr",
     "output_type": "stream",
     "text": [
      " 94%|█████████████████████████████████████████████████████████████████████████▌    | 1200/1272 [05:26<00:19,  3.74it/s]"
     ]
    },
    {
     "name": "stdout",
     "output_type": "stream",
     "text": [
      "(1200/1272) Data: 0.007s | Batch: 0.272s | Total: 0:05:26 | ETA: 0:00:20 | Loss: 0.1409 | top1:  93.8045\n"
     ]
    },
    {
     "name": "stderr",
     "output_type": "stream",
     "text": [
      "100%|██████████████████████████████████████████████████████████████████████████████| 1272/1272 [05:46<00:00,  3.67it/s]\n",
      "100%|████████████████████████████████████████████████████████████████████████████████| 156/156 [00:20<00:00,  7.52it/s]\n"
     ]
    },
    {
     "name": "stdout",
     "output_type": "stream",
     "text": [
      "=> saving checkpoint 'checkpoints\\checkpoint.pth.tar'\n"
     ]
    },
    {
     "name": "stderr",
     "output_type": "stream",
     "text": [
      "  0%|                                                                                         | 0/1272 [00:00<?, ?it/s]"
     ]
    },
    {
     "name": "stdout",
     "output_type": "stream",
     "text": [
      "\n",
      "Epoch: [34 | 60] LR: 0.000010\n"
     ]
    },
    {
     "name": "stderr",
     "output_type": "stream",
     "text": [
      "  8%|██████▏                                                                        | 100/1272 [00:32<05:10,  3.77it/s]"
     ]
    },
    {
     "name": "stdout",
     "output_type": "stream",
     "text": [
      "(100/1272) Data: 0.070s | Batch: 0.326s | Total: 0:00:32 | ETA: 0:05:11 | Loss: 0.1408 | top1:  93.8072\n"
     ]
    },
    {
     "name": "stderr",
     "output_type": "stream",
     "text": [
      " 16%|████████████▍                                                                  | 200/1272 [00:59<04:42,  3.80it/s]"
     ]
    },
    {
     "name": "stdout",
     "output_type": "stream",
     "text": [
      "(200/1272) Data: 0.035s | Batch: 0.295s | Total: 0:00:59 | ETA: 0:04:42 | Loss: 0.1409 | top1:  93.8170\n"
     ]
    },
    {
     "name": "stderr",
     "output_type": "stream",
     "text": [
      " 24%|██████████████████▋                                                            | 300/1272 [01:25<04:19,  3.75it/s]"
     ]
    },
    {
     "name": "stdout",
     "output_type": "stream",
     "text": [
      "(300/1272) Data: 0.024s | Batch: 0.286s | Total: 0:01:25 | ETA: 0:04:24 | Loss: 0.1407 | top1:  93.8193\n"
     ]
    },
    {
     "name": "stderr",
     "output_type": "stream",
     "text": [
      " 31%|████████████████████████▊                                                      | 400/1272 [01:52<03:52,  3.75it/s]"
     ]
    },
    {
     "name": "stdout",
     "output_type": "stream",
     "text": [
      "(400/1272) Data: 0.018s | Batch: 0.282s | Total: 0:01:52 | ETA: 0:03:54 | Loss: 0.1407 | top1:  93.8236\n"
     ]
    },
    {
     "name": "stderr",
     "output_type": "stream",
     "text": [
      " 39%|███████████████████████████████                                                | 500/1272 [02:19<03:25,  3.76it/s]"
     ]
    },
    {
     "name": "stdout",
     "output_type": "stream",
     "text": [
      "(500/1272) Data: 0.015s | Batch: 0.279s | Total: 0:02:19 | ETA: 0:03:29 | Loss: 0.1407 | top1:  93.8191\n"
     ]
    },
    {
     "name": "stderr",
     "output_type": "stream",
     "text": [
      " 47%|█████████████████████████████████████▎                                         | 600/1272 [02:46<03:01,  3.70it/s]"
     ]
    },
    {
     "name": "stdout",
     "output_type": "stream",
     "text": [
      "(600/1272) Data: 0.012s | Batch: 0.277s | Total: 0:02:46 | ETA: 0:02:58 | Loss: 0.1408 | top1:  93.8229\n"
     ]
    },
    {
     "name": "stderr",
     "output_type": "stream",
     "text": [
      " 55%|███████████████████████████████████████████▍                                   | 700/1272 [03:12<02:33,  3.73it/s]"
     ]
    },
    {
     "name": "stdout",
     "output_type": "stream",
     "text": [
      "(700/1272) Data: 0.011s | Batch: 0.276s | Total: 0:03:12 | ETA: 0:02:36 | Loss: 0.1408 | top1:  93.8174\n"
     ]
    },
    {
     "name": "stderr",
     "output_type": "stream",
     "text": [
      " 63%|█████████████████████████████████████████████████▋                             | 800/1272 [03:39<02:04,  3.79it/s]"
     ]
    },
    {
     "name": "stdout",
     "output_type": "stream",
     "text": [
      "(800/1272) Data: 0.009s | Batch: 0.275s | Total: 0:03:39 | ETA: 0:02:07 | Loss: 0.1408 | top1:  93.8208\n"
     ]
    },
    {
     "name": "stderr",
     "output_type": "stream",
     "text": [
      " 71%|███████████████████████████████████████████████████████▉                       | 900/1272 [04:06<01:37,  3.81it/s]"
     ]
    },
    {
     "name": "stdout",
     "output_type": "stream",
     "text": [
      "(900/1272) Data: 0.008s | Batch: 0.274s | Total: 0:04:06 | ETA: 0:01:40 | Loss: 0.1408 | top1:  93.8178\n"
     ]
    },
    {
     "name": "stderr",
     "output_type": "stream",
     "text": [
      " 79%|█████████████████████████████████████████████████████████████▎                | 1000/1272 [04:33<01:11,  3.78it/s]"
     ]
    },
    {
     "name": "stdout",
     "output_type": "stream",
     "text": [
      "(1000/1272) Data: 0.008s | Batch: 0.273s | Total: 0:04:33 | ETA: 0:01:13 | Loss: 0.1408 | top1:  93.8173\n"
     ]
    },
    {
     "name": "stderr",
     "output_type": "stream",
     "text": [
      " 86%|███████████████████████████████████████████████████████████████████▍          | 1100/1272 [04:59<00:46,  3.73it/s]"
     ]
    },
    {
     "name": "stdout",
     "output_type": "stream",
     "text": [
      "(1100/1272) Data: 0.007s | Batch: 0.273s | Total: 0:04:59 | ETA: 0:00:47 | Loss: 0.1407 | top1:  93.8176\n"
     ]
    },
    {
     "name": "stderr",
     "output_type": "stream",
     "text": [
      " 94%|█████████████████████████████████████████████████████████████████████████▌    | 1200/1272 [05:26<00:19,  3.70it/s]"
     ]
    },
    {
     "name": "stdout",
     "output_type": "stream",
     "text": [
      "(1200/1272) Data: 0.006s | Batch: 0.272s | Total: 0:05:26 | ETA: 0:00:20 | Loss: 0.1407 | top1:  93.8204\n"
     ]
    },
    {
     "name": "stderr",
     "output_type": "stream",
     "text": [
      "100%|██████████████████████████████████████████████████████████████████████████████| 1272/1272 [05:46<00:00,  3.67it/s]\n",
      "100%|████████████████████████████████████████████████████████████████████████████████| 156/156 [00:20<00:00,  7.62it/s]\n"
     ]
    },
    {
     "name": "stdout",
     "output_type": "stream",
     "text": [
      "=> saving checkpoint 'checkpoints\\checkpoint.pth.tar'\n"
     ]
    },
    {
     "name": "stderr",
     "output_type": "stream",
     "text": [
      "  0%|                                                                                         | 0/1272 [00:00<?, ?it/s]"
     ]
    },
    {
     "name": "stdout",
     "output_type": "stream",
     "text": [
      "\n",
      "Epoch: [35 | 60] LR: 0.000001\n"
     ]
    },
    {
     "name": "stderr",
     "output_type": "stream",
     "text": [
      "  8%|██████▏                                                                        | 100/1272 [00:32<05:13,  3.74it/s]"
     ]
    },
    {
     "name": "stdout",
     "output_type": "stream",
     "text": [
      "(100/1272) Data: 0.068s | Batch: 0.326s | Total: 0:00:32 | ETA: 0:05:17 | Loss: 0.1414 | top1:  93.7684\n"
     ]
    },
    {
     "name": "stderr",
     "output_type": "stream",
     "text": [
      " 16%|████████████▍                                                                  | 200/1272 [00:59<04:47,  3.73it/s]"
     ]
    },
    {
     "name": "stdout",
     "output_type": "stream",
     "text": [
      "(200/1272) Data: 0.034s | Batch: 0.295s | Total: 0:00:59 | ETA: 0:04:43 | Loss: 0.1411 | top1:  93.7998\n"
     ]
    },
    {
     "name": "stderr",
     "output_type": "stream",
     "text": [
      " 24%|██████████████████▋                                                            | 300/1272 [01:25<04:19,  3.75it/s]"
     ]
    },
    {
     "name": "stdout",
     "output_type": "stream",
     "text": [
      "(300/1272) Data: 0.023s | Batch: 0.286s | Total: 0:01:25 | ETA: 0:04:15 | Loss: 0.1409 | top1:  93.8152\n"
     ]
    },
    {
     "name": "stderr",
     "output_type": "stream",
     "text": [
      " 31%|████████████████████████▊                                                      | 400/1272 [01:52<03:52,  3.75it/s]"
     ]
    },
    {
     "name": "stdout",
     "output_type": "stream",
     "text": [
      "(400/1272) Data: 0.018s | Batch: 0.281s | Total: 0:01:52 | ETA: 0:03:50 | Loss: 0.1409 | top1:  93.8078\n"
     ]
    },
    {
     "name": "stderr",
     "output_type": "stream",
     "text": [
      " 39%|███████████████████████████████                                                | 500/1272 [02:19<03:24,  3.77it/s]"
     ]
    },
    {
     "name": "stdout",
     "output_type": "stream",
     "text": [
      "(500/1272) Data: 0.014s | Batch: 0.279s | Total: 0:02:19 | ETA: 0:03:28 | Loss: 0.1409 | top1:  93.8110\n"
     ]
    },
    {
     "name": "stderr",
     "output_type": "stream",
     "text": [
      " 47%|█████████████████████████████████████▎                                         | 600/1272 [02:45<02:57,  3.79it/s]"
     ]
    },
    {
     "name": "stdout",
     "output_type": "stream",
     "text": [
      "(600/1272) Data: 0.012s | Batch: 0.277s | Total: 0:02:45 | ETA: 0:02:57 | Loss: 0.1409 | top1:  93.8090\n"
     ]
    },
    {
     "name": "stderr",
     "output_type": "stream",
     "text": [
      " 55%|███████████████████████████████████████████▍                                   | 700/1272 [03:12<02:29,  3.82it/s]"
     ]
    },
    {
     "name": "stdout",
     "output_type": "stream",
     "text": [
      "(700/1272) Data: 0.010s | Batch: 0.275s | Total: 0:03:12 | ETA: 0:02:31 | Loss: 0.1409 | top1:  93.8136\n"
     ]
    },
    {
     "name": "stderr",
     "output_type": "stream",
     "text": [
      " 63%|█████████████████████████████████████████████████▋                             | 800/1272 [03:39<02:07,  3.70it/s]"
     ]
    },
    {
     "name": "stdout",
     "output_type": "stream",
     "text": [
      "(800/1272) Data: 0.009s | Batch: 0.274s | Total: 0:03:39 | ETA: 0:02:07 | Loss: 0.1407 | top1:  93.8190\n"
     ]
    },
    {
     "name": "stderr",
     "output_type": "stream",
     "text": [
      " 71%|███████████████████████████████████████████████████████▉                       | 900/1272 [04:05<01:38,  3.79it/s]"
     ]
    },
    {
     "name": "stdout",
     "output_type": "stream",
     "text": [
      "(900/1272) Data: 0.008s | Batch: 0.273s | Total: 0:04:05 | ETA: 0:01:40 | Loss: 0.1407 | top1:  93.8177\n"
     ]
    },
    {
     "name": "stderr",
     "output_type": "stream",
     "text": [
      " 79%|█████████████████████████████████████████████████████████████▎                | 1000/1272 [04:32<01:13,  3.71it/s]"
     ]
    },
    {
     "name": "stdout",
     "output_type": "stream",
     "text": [
      "(1000/1272) Data: 0.007s | Batch: 0.273s | Total: 0:04:32 | ETA: 0:01:13 | Loss: 0.1408 | top1:  93.8182\n"
     ]
    },
    {
     "name": "stderr",
     "output_type": "stream",
     "text": [
      " 86%|███████████████████████████████████████████████████████████████████▍          | 1100/1272 [04:59<00:46,  3.69it/s]"
     ]
    },
    {
     "name": "stdout",
     "output_type": "stream",
     "text": [
      "(1100/1272) Data: 0.007s | Batch: 0.272s | Total: 0:04:59 | ETA: 0:00:46 | Loss: 0.1408 | top1:  93.8162\n"
     ]
    },
    {
     "name": "stderr",
     "output_type": "stream",
     "text": [
      " 94%|█████████████████████████████████████████████████████████████████████████▌    | 1200/1272 [05:26<00:19,  3.68it/s]"
     ]
    },
    {
     "name": "stdout",
     "output_type": "stream",
     "text": [
      "(1200/1272) Data: 0.006s | Batch: 0.272s | Total: 0:05:26 | ETA: 0:00:20 | Loss: 0.1408 | top1:  93.8132\n"
     ]
    },
    {
     "name": "stderr",
     "output_type": "stream",
     "text": [
      "100%|██████████████████████████████████████████████████████████████████████████████| 1272/1272 [05:46<00:00,  3.67it/s]\n",
      "100%|████████████████████████████████████████████████████████████████████████████████| 156/156 [00:20<00:00,  7.52it/s]\n"
     ]
    },
    {
     "name": "stdout",
     "output_type": "stream",
     "text": [
      "=> saving checkpoint 'checkpoints\\checkpoint.pth.tar'\n"
     ]
    },
    {
     "name": "stderr",
     "output_type": "stream",
     "text": [
      "  0%|                                                                                         | 0/1272 [00:00<?, ?it/s]"
     ]
    },
    {
     "name": "stdout",
     "output_type": "stream",
     "text": [
      "\n",
      "Epoch: [36 | 60] LR: 0.000000\n"
     ]
    },
    {
     "name": "stderr",
     "output_type": "stream",
     "text": [
      "  8%|██████▏                                                                        | 100/1272 [00:32<05:09,  3.79it/s]"
     ]
    },
    {
     "name": "stdout",
     "output_type": "stream",
     "text": [
      "(100/1272) Data: 0.071s | Batch: 0.329s | Total: 0:00:32 | ETA: 0:05:13 | Loss: 0.1413 | top1:  93.8139\n"
     ]
    },
    {
     "name": "stderr",
     "output_type": "stream",
     "text": [
      " 16%|████████████▍                                                                  | 200/1272 [00:59<04:38,  3.85it/s]"
     ]
    },
    {
     "name": "stdout",
     "output_type": "stream",
     "text": [
      "(200/1272) Data: 0.036s | Batch: 0.297s | Total: 0:00:59 | ETA: 0:04:44 | Loss: 0.1408 | top1:  93.8314\n"
     ]
    },
    {
     "name": "stderr",
     "output_type": "stream",
     "text": [
      " 24%|██████████████████▋                                                            | 300/1272 [01:26<04:17,  3.77it/s]"
     ]
    },
    {
     "name": "stdout",
     "output_type": "stream",
     "text": [
      "(300/1272) Data: 0.024s | Batch: 0.287s | Total: 0:01:26 | ETA: 0:04:23 | Loss: 0.1406 | top1:  93.8340\n"
     ]
    },
    {
     "name": "stderr",
     "output_type": "stream",
     "text": [
      " 31%|████████████████████████▊                                                      | 400/1272 [01:52<03:51,  3.77it/s]"
     ]
    },
    {
     "name": "stdout",
     "output_type": "stream",
     "text": [
      "(400/1272) Data: 0.018s | Batch: 0.282s | Total: 0:01:52 | ETA: 0:03:57 | Loss: 0.1405 | top1:  93.8357\n"
     ]
    },
    {
     "name": "stderr",
     "output_type": "stream",
     "text": [
      " 39%|███████████████████████████████                                                | 500/1272 [02:19<03:29,  3.68it/s]"
     ]
    },
    {
     "name": "stdout",
     "output_type": "stream",
     "text": [
      "(500/1272) Data: 0.015s | Batch: 0.279s | Total: 0:02:19 | ETA: 0:03:31 | Loss: 0.1405 | top1:  93.8333\n"
     ]
    },
    {
     "name": "stderr",
     "output_type": "stream",
     "text": [
      " 47%|█████████████████████████████████████▎                                         | 600/1272 [02:46<03:01,  3.71it/s]"
     ]
    },
    {
     "name": "stdout",
     "output_type": "stream",
     "text": [
      "(600/1272) Data: 0.012s | Batch: 0.277s | Total: 0:02:46 | ETA: 0:03:05 | Loss: 0.1405 | top1:  93.8307\n"
     ]
    },
    {
     "name": "stderr",
     "output_type": "stream",
     "text": [
      " 55%|███████████████████████████████████████████▍                                   | 700/1272 [03:13<02:35,  3.68it/s]"
     ]
    },
    {
     "name": "stdout",
     "output_type": "stream",
     "text": [
      "(700/1272) Data: 0.011s | Batch: 0.276s | Total: 0:03:13 | ETA: 0:02:36 | Loss: 0.1406 | top1:  93.8266\n"
     ]
    },
    {
     "name": "stderr",
     "output_type": "stream",
     "text": [
      " 63%|█████████████████████████████████████████████████▋                             | 800/1272 [03:39<02:07,  3.69it/s]"
     ]
    },
    {
     "name": "stdout",
     "output_type": "stream",
     "text": [
      "(800/1272) Data: 0.010s | Batch: 0.275s | Total: 0:03:39 | ETA: 0:02:08 | Loss: 0.1407 | top1:  93.8219\n"
     ]
    },
    {
     "name": "stderr",
     "output_type": "stream",
     "text": [
      " 71%|███████████████████████████████████████████████████████▉                       | 900/1272 [04:06<01:38,  3.79it/s]"
     ]
    },
    {
     "name": "stdout",
     "output_type": "stream",
     "text": [
      "(900/1272) Data: 0.009s | Batch: 0.274s | Total: 0:04:06 | ETA: 0:01:40 | Loss: 0.1407 | top1:  93.8259\n"
     ]
    },
    {
     "name": "stderr",
     "output_type": "stream",
     "text": [
      " 79%|█████████████████████████████████████████████████████████████▎                | 1000/1272 [04:33<01:13,  3.71it/s]"
     ]
    },
    {
     "name": "stdout",
     "output_type": "stream",
     "text": [
      "(1000/1272) Data: 0.008s | Batch: 0.273s | Total: 0:04:33 | ETA: 0:01:14 | Loss: 0.1408 | top1:  93.8183\n"
     ]
    },
    {
     "name": "stderr",
     "output_type": "stream",
     "text": [
      " 86%|███████████████████████████████████████████████████████████████████▍          | 1100/1272 [05:00<00:45,  3.80it/s]"
     ]
    },
    {
     "name": "stdout",
     "output_type": "stream",
     "text": [
      "(1100/1272) Data: 0.007s | Batch: 0.273s | Total: 0:05:00 | ETA: 0:00:47 | Loss: 0.1408 | top1:  93.8203\n"
     ]
    },
    {
     "name": "stderr",
     "output_type": "stream",
     "text": [
      " 94%|█████████████████████████████████████████████████████████████████████████▌    | 1200/1272 [05:26<00:19,  3.76it/s]"
     ]
    },
    {
     "name": "stdout",
     "output_type": "stream",
     "text": [
      "(1200/1272) Data: 0.007s | Batch: 0.272s | Total: 0:05:26 | ETA: 0:00:20 | Loss: 0.1407 | top1:  93.8204\n"
     ]
    },
    {
     "name": "stderr",
     "output_type": "stream",
     "text": [
      "100%|██████████████████████████████████████████████████████████████████████████████| 1272/1272 [05:46<00:00,  3.67it/s]\n",
      "100%|████████████████████████████████████████████████████████████████████████████████| 156/156 [00:20<00:00,  7.44it/s]\n"
     ]
    },
    {
     "name": "stdout",
     "output_type": "stream",
     "text": [
      "=> saving checkpoint 'checkpoints\\checkpoint.pth.tar'\n"
     ]
    },
    {
     "name": "stderr",
     "output_type": "stream",
     "text": [
      "  0%|                                                                                         | 0/1272 [00:00<?, ?it/s]"
     ]
    },
    {
     "name": "stdout",
     "output_type": "stream",
     "text": [
      "\n",
      "Epoch: [37 | 60] LR: 0.000000\n"
     ]
    },
    {
     "name": "stderr",
     "output_type": "stream",
     "text": [
      "  8%|██████▏                                                                        | 100/1272 [00:32<05:08,  3.79it/s]"
     ]
    },
    {
     "name": "stdout",
     "output_type": "stream",
     "text": [
      "(100/1272) Data: 0.071s | Batch: 0.328s | Total: 0:00:32 | ETA: 0:05:10 | Loss: 0.1403 | top1:  93.8484\n"
     ]
    },
    {
     "name": "stderr",
     "output_type": "stream",
     "text": [
      " 16%|████████████▍                                                                  | 200/1272 [00:59<04:50,  3.69it/s]"
     ]
    },
    {
     "name": "stdout",
     "output_type": "stream",
     "text": [
      "(200/1272) Data: 0.036s | Batch: 0.297s | Total: 0:00:59 | ETA: 0:04:46 | Loss: 0.1403 | top1:  93.8383\n"
     ]
    },
    {
     "name": "stderr",
     "output_type": "stream",
     "text": [
      " 24%|██████████████████▋                                                            | 300/1272 [01:26<04:26,  3.65it/s]"
     ]
    },
    {
     "name": "stdout",
     "output_type": "stream",
     "text": [
      "(300/1272) Data: 0.024s | Batch: 0.287s | Total: 0:01:26 | ETA: 0:04:23 | Loss: 0.1403 | top1:  93.8484\n"
     ]
    },
    {
     "name": "stderr",
     "output_type": "stream",
     "text": [
      " 31%|████████████████████████▊                                                      | 400/1272 [01:52<03:46,  3.84it/s]"
     ]
    },
    {
     "name": "stdout",
     "output_type": "stream",
     "text": [
      "(400/1272) Data: 0.018s | Batch: 0.282s | Total: 0:01:52 | ETA: 0:03:55 | Loss: 0.1405 | top1:  93.8399\n"
     ]
    },
    {
     "name": "stderr",
     "output_type": "stream",
     "text": [
      " 39%|███████████████████████████████                                                | 500/1272 [02:19<03:21,  3.82it/s]"
     ]
    },
    {
     "name": "stdout",
     "output_type": "stream",
     "text": [
      "(500/1272) Data: 0.015s | Batch: 0.280s | Total: 0:02:19 | ETA: 0:03:26 | Loss: 0.1405 | top1:  93.8392\n"
     ]
    },
    {
     "name": "stderr",
     "output_type": "stream",
     "text": [
      " 47%|█████████████████████████████████████▎                                         | 600/1272 [02:46<02:58,  3.76it/s]"
     ]
    },
    {
     "name": "stdout",
     "output_type": "stream",
     "text": [
      "(600/1272) Data: 0.012s | Batch: 0.278s | Total: 0:02:46 | ETA: 0:02:59 | Loss: 0.1404 | top1:  93.8420\n"
     ]
    },
    {
     "name": "stderr",
     "output_type": "stream",
     "text": [
      " 55%|███████████████████████████████████████████▍                                   | 700/1272 [03:13<02:34,  3.70it/s]"
     ]
    },
    {
     "name": "stdout",
     "output_type": "stream",
     "text": [
      "(700/1272) Data: 0.011s | Batch: 0.276s | Total: 0:03:13 | ETA: 0:02:37 | Loss: 0.1404 | top1:  93.8420\n"
     ]
    },
    {
     "name": "stderr",
     "output_type": "stream",
     "text": [
      " 63%|█████████████████████████████████████████████████▋                             | 800/1272 [03:40<02:03,  3.82it/s]"
     ]
    },
    {
     "name": "stdout",
     "output_type": "stream",
     "text": [
      "(800/1272) Data: 0.010s | Batch: 0.275s | Total: 0:03:40 | ETA: 0:02:07 | Loss: 0.1404 | top1:  93.8449\n"
     ]
    },
    {
     "name": "stderr",
     "output_type": "stream",
     "text": [
      " 71%|███████████████████████████████████████████████████████▉                       | 900/1272 [04:07<01:40,  3.69it/s]"
     ]
    },
    {
     "name": "stdout",
     "output_type": "stream",
     "text": [
      "(900/1272) Data: 0.009s | Batch: 0.274s | Total: 0:04:07 | ETA: 0:01:42 | Loss: 0.1403 | top1:  93.8455\n"
     ]
    },
    {
     "name": "stderr",
     "output_type": "stream",
     "text": [
      " 79%|█████████████████████████████████████████████████████████████▎                | 1000/1272 [04:33<01:13,  3.71it/s]"
     ]
    },
    {
     "name": "stdout",
     "output_type": "stream",
     "text": [
      "(1000/1272) Data: 0.008s | Batch: 0.274s | Total: 0:04:33 | ETA: 0:01:14 | Loss: 0.1404 | top1:  93.8455\n"
     ]
    },
    {
     "name": "stderr",
     "output_type": "stream",
     "text": [
      " 86%|███████████████████████████████████████████████████████████████████▍          | 1100/1272 [05:00<00:45,  3.79it/s]"
     ]
    },
    {
     "name": "stdout",
     "output_type": "stream",
     "text": [
      "(1100/1272) Data: 0.007s | Batch: 0.273s | Total: 0:05:00 | ETA: 0:00:46 | Loss: 0.1404 | top1:  93.8440\n"
     ]
    },
    {
     "name": "stderr",
     "output_type": "stream",
     "text": [
      " 94%|█████████████████████████████████████████████████████████████████████████▌    | 1200/1272 [05:27<00:19,  3.67it/s]"
     ]
    },
    {
     "name": "stdout",
     "output_type": "stream",
     "text": [
      "(1200/1272) Data: 0.007s | Batch: 0.273s | Total: 0:05:27 | ETA: 0:00:20 | Loss: 0.1404 | top1:  93.8437\n"
     ]
    },
    {
     "name": "stderr",
     "output_type": "stream",
     "text": [
      "100%|██████████████████████████████████████████████████████████████████████████████| 1272/1272 [05:47<00:00,  3.66it/s]\n",
      "100%|████████████████████████████████████████████████████████████████████████████████| 156/156 [00:20<00:00,  7.54it/s]\n"
     ]
    },
    {
     "name": "stdout",
     "output_type": "stream",
     "text": [
      "=> saving checkpoint 'checkpoints\\checkpoint.pth.tar'\n"
     ]
    },
    {
     "name": "stderr",
     "output_type": "stream",
     "text": [
      "  0%|                                                                                         | 0/1272 [00:00<?, ?it/s]"
     ]
    },
    {
     "name": "stdout",
     "output_type": "stream",
     "text": [
      "\n",
      "Epoch: [38 | 60] LR: 0.000000\n"
     ]
    },
    {
     "name": "stderr",
     "output_type": "stream",
     "text": [
      "  8%|██████▏                                                                        | 100/1272 [00:32<05:07,  3.81it/s]"
     ]
    },
    {
     "name": "stdout",
     "output_type": "stream",
     "text": [
      "(100/1272) Data: 0.071s | Batch: 0.329s | Total: 0:00:32 | ETA: 0:05:07 | Loss: 0.1406 | top1:  93.8355\n"
     ]
    },
    {
     "name": "stderr",
     "output_type": "stream",
     "text": [
      " 16%|████████████▍                                                                  | 200/1272 [00:59<04:44,  3.77it/s]"
     ]
    },
    {
     "name": "stdout",
     "output_type": "stream",
     "text": [
      "(200/1272) Data: 0.036s | Batch: 0.297s | Total: 0:00:59 | ETA: 0:04:46 | Loss: 0.1406 | top1:  93.8301\n"
     ]
    },
    {
     "name": "stderr",
     "output_type": "stream",
     "text": [
      " 24%|██████████████████▋                                                            | 300/1272 [01:26<04:22,  3.70it/s]"
     ]
    },
    {
     "name": "stdout",
     "output_type": "stream",
     "text": [
      "(300/1272) Data: 0.024s | Batch: 0.288s | Total: 0:01:26 | ETA: 0:04:22 | Loss: 0.1408 | top1:  93.8051\n"
     ]
    },
    {
     "name": "stderr",
     "output_type": "stream",
     "text": [
      " 31%|████████████████████████▊                                                      | 400/1272 [01:52<03:53,  3.73it/s]"
     ]
    },
    {
     "name": "stdout",
     "output_type": "stream",
     "text": [
      "(400/1272) Data: 0.018s | Batch: 0.282s | Total: 0:01:52 | ETA: 0:03:55 | Loss: 0.1408 | top1:  93.8145\n"
     ]
    },
    {
     "name": "stderr",
     "output_type": "stream",
     "text": [
      " 39%|███████████████████████████████                                                | 500/1272 [02:19<03:26,  3.75it/s]"
     ]
    },
    {
     "name": "stdout",
     "output_type": "stream",
     "text": [
      "(500/1272) Data: 0.015s | Batch: 0.279s | Total: 0:02:19 | ETA: 0:03:29 | Loss: 0.1407 | top1:  93.8189\n"
     ]
    },
    {
     "name": "stderr",
     "output_type": "stream",
     "text": [
      " 47%|█████████████████████████████████████▎                                         | 600/1272 [02:46<03:06,  3.61it/s]"
     ]
    },
    {
     "name": "stdout",
     "output_type": "stream",
     "text": [
      "(600/1272) Data: 0.012s | Batch: 0.277s | Total: 0:02:46 | ETA: 0:03:04 | Loss: 0.1408 | top1:  93.8126\n"
     ]
    },
    {
     "name": "stderr",
     "output_type": "stream",
     "text": [
      " 55%|███████████████████████████████████████████▍                                   | 700/1272 [03:13<02:32,  3.74it/s]"
     ]
    },
    {
     "name": "stdout",
     "output_type": "stream",
     "text": [
      "(700/1272) Data: 0.011s | Batch: 0.276s | Total: 0:03:13 | ETA: 0:02:35 | Loss: 0.1410 | top1:  93.8071\n"
     ]
    },
    {
     "name": "stderr",
     "output_type": "stream",
     "text": [
      " 63%|█████████████████████████████████████████████████▋                             | 800/1272 [03:39<02:08,  3.68it/s]"
     ]
    },
    {
     "name": "stdout",
     "output_type": "stream",
     "text": [
      "(800/1272) Data: 0.010s | Batch: 0.275s | Total: 0:03:39 | ETA: 0:02:08 | Loss: 0.1410 | top1:  93.8058\n"
     ]
    },
    {
     "name": "stderr",
     "output_type": "stream",
     "text": [
      " 71%|███████████████████████████████████████████████████████▉                       | 900/1272 [04:06<01:40,  3.71it/s]"
     ]
    },
    {
     "name": "stdout",
     "output_type": "stream",
     "text": [
      "(900/1272) Data: 0.009s | Batch: 0.274s | Total: 0:04:06 | ETA: 0:01:41 | Loss: 0.1409 | top1:  93.8089\n"
     ]
    },
    {
     "name": "stderr",
     "output_type": "stream",
     "text": [
      " 79%|█████████████████████████████████████████████████████████████▎                | 1000/1272 [04:33<01:11,  3.83it/s]"
     ]
    },
    {
     "name": "stdout",
     "output_type": "stream",
     "text": [
      "(1000/1272) Data: 0.008s | Batch: 0.273s | Total: 0:04:33 | ETA: 0:01:14 | Loss: 0.1409 | top1:  93.8140\n"
     ]
    },
    {
     "name": "stderr",
     "output_type": "stream",
     "text": [
      " 86%|███████████████████████████████████████████████████████████████████▍          | 1100/1272 [05:00<00:45,  3.74it/s]"
     ]
    },
    {
     "name": "stdout",
     "output_type": "stream",
     "text": [
      "(1100/1272) Data: 0.007s | Batch: 0.273s | Total: 0:05:00 | ETA: 0:00:47 | Loss: 0.1408 | top1:  93.8183\n"
     ]
    },
    {
     "name": "stderr",
     "output_type": "stream",
     "text": [
      " 94%|█████████████████████████████████████████████████████████████████████████▌    | 1200/1272 [05:26<00:19,  3.71it/s]"
     ]
    },
    {
     "name": "stdout",
     "output_type": "stream",
     "text": [
      "(1200/1272) Data: 0.007s | Batch: 0.272s | Total: 0:05:26 | ETA: 0:00:20 | Loss: 0.1407 | top1:  93.8192\n"
     ]
    },
    {
     "name": "stderr",
     "output_type": "stream",
     "text": [
      "100%|██████████████████████████████████████████████████████████████████████████████| 1272/1272 [05:46<00:00,  3.67it/s]\n",
      "100%|████████████████████████████████████████████████████████████████████████████████| 156/156 [00:20<00:00,  7.54it/s]\n"
     ]
    },
    {
     "name": "stdout",
     "output_type": "stream",
     "text": [
      "=> saving checkpoint 'checkpoints\\checkpoint.pth.tar'\n"
     ]
    },
    {
     "name": "stderr",
     "output_type": "stream",
     "text": [
      "  0%|                                                                                         | 0/1272 [00:00<?, ?it/s]"
     ]
    },
    {
     "name": "stdout",
     "output_type": "stream",
     "text": [
      "\n",
      "Epoch: [39 | 60] LR: 0.000000\n"
     ]
    },
    {
     "name": "stderr",
     "output_type": "stream",
     "text": [
      "  8%|██████▏                                                                        | 100/1272 [00:32<05:10,  3.78it/s]"
     ]
    },
    {
     "name": "stdout",
     "output_type": "stream",
     "text": [
      "(100/1272) Data: 0.068s | Batch: 0.325s | Total: 0:00:32 | ETA: 0:05:07 | Loss: 0.1410 | top1:  93.7918\n"
     ]
    },
    {
     "name": "stderr",
     "output_type": "stream",
     "text": [
      " 16%|████████████▍                                                                  | 200/1272 [00:59<04:43,  3.78it/s]"
     ]
    },
    {
     "name": "stdout",
     "output_type": "stream",
     "text": [
      "(200/1272) Data: 0.034s | Batch: 0.295s | Total: 0:00:59 | ETA: 0:04:46 | Loss: 0.1407 | top1:  93.8218\n"
     ]
    },
    {
     "name": "stderr",
     "output_type": "stream",
     "text": [
      " 24%|██████████████████▋                                                            | 300/1272 [01:25<04:22,  3.71it/s]"
     ]
    },
    {
     "name": "stdout",
     "output_type": "stream",
     "text": [
      "(300/1272) Data: 0.023s | Batch: 0.286s | Total: 0:01:25 | ETA: 0:04:20 | Loss: 0.1406 | top1:  93.8404\n"
     ]
    },
    {
     "name": "stderr",
     "output_type": "stream",
     "text": [
      " 31%|████████████████████████▊                                                      | 400/1272 [01:52<03:53,  3.73it/s]"
     ]
    },
    {
     "name": "stdout",
     "output_type": "stream",
     "text": [
      "(400/1272) Data: 0.018s | Batch: 0.281s | Total: 0:01:52 | ETA: 0:03:52 | Loss: 0.1406 | top1:  93.8392\n"
     ]
    },
    {
     "name": "stderr",
     "output_type": "stream",
     "text": [
      " 39%|███████████████████████████████                                                | 500/1272 [02:19<03:26,  3.73it/s]"
     ]
    },
    {
     "name": "stdout",
     "output_type": "stream",
     "text": [
      "(500/1272) Data: 0.014s | Batch: 0.278s | Total: 0:02:19 | ETA: 0:03:27 | Loss: 0.1407 | top1:  93.8316\n"
     ]
    },
    {
     "name": "stderr",
     "output_type": "stream",
     "text": [
      " 47%|█████████████████████████████████████▎                                         | 600/1272 [02:45<03:03,  3.66it/s]"
     ]
    },
    {
     "name": "stdout",
     "output_type": "stream",
     "text": [
      "(600/1272) Data: 0.012s | Batch: 0.277s | Total: 0:02:45 | ETA: 0:03:02 | Loss: 0.1408 | top1:  93.8252\n"
     ]
    },
    {
     "name": "stderr",
     "output_type": "stream",
     "text": [
      " 55%|███████████████████████████████████████████▍                                   | 700/1272 [03:12<02:32,  3.75it/s]"
     ]
    },
    {
     "name": "stdout",
     "output_type": "stream",
     "text": [
      "(700/1272) Data: 0.010s | Batch: 0.275s | Total: 0:03:12 | ETA: 0:02:31 | Loss: 0.1407 | top1:  93.8289\n"
     ]
    },
    {
     "name": "stderr",
     "output_type": "stream",
     "text": [
      " 63%|█████████████████████████████████████████████████▋                             | 800/1272 [03:39<02:06,  3.72it/s]"
     ]
    },
    {
     "name": "stdout",
     "output_type": "stream",
     "text": [
      "(800/1272) Data: 0.009s | Batch: 0.274s | Total: 0:03:39 | ETA: 0:02:07 | Loss: 0.1407 | top1:  93.8279\n"
     ]
    },
    {
     "name": "stderr",
     "output_type": "stream",
     "text": [
      " 71%|███████████████████████████████████████████████████████▉                       | 900/1272 [04:06<01:43,  3.61it/s]"
     ]
    },
    {
     "name": "stdout",
     "output_type": "stream",
     "text": [
      "(900/1272) Data: 0.008s | Batch: 0.274s | Total: 0:04:06 | ETA: 0:01:39 | Loss: 0.1407 | top1:  93.8243\n"
     ]
    },
    {
     "name": "stderr",
     "output_type": "stream",
     "text": [
      " 79%|█████████████████████████████████████████████████████████████▎                | 1000/1272 [04:33<01:12,  3.77it/s]"
     ]
    },
    {
     "name": "stdout",
     "output_type": "stream",
     "text": [
      "(1000/1272) Data: 0.007s | Batch: 0.273s | Total: 0:04:33 | ETA: 0:01:14 | Loss: 0.1407 | top1:  93.8223\n"
     ]
    },
    {
     "name": "stderr",
     "output_type": "stream",
     "text": [
      " 86%|███████████████████████████████████████████████████████████████████▍          | 1100/1272 [04:59<00:45,  3.78it/s]"
     ]
    },
    {
     "name": "stdout",
     "output_type": "stream",
     "text": [
      "(1100/1272) Data: 0.007s | Batch: 0.273s | Total: 0:04:59 | ETA: 0:00:47 | Loss: 0.1408 | top1:  93.8200\n"
     ]
    },
    {
     "name": "stderr",
     "output_type": "stream",
     "text": [
      " 94%|█████████████████████████████████████████████████████████████████████████▌    | 1200/1272 [05:26<00:19,  3.71it/s]"
     ]
    },
    {
     "name": "stdout",
     "output_type": "stream",
     "text": [
      "(1200/1272) Data: 0.006s | Batch: 0.272s | Total: 0:05:26 | ETA: 0:00:20 | Loss: 0.1408 | top1:  93.8190\n"
     ]
    },
    {
     "name": "stderr",
     "output_type": "stream",
     "text": [
      "100%|██████████████████████████████████████████████████████████████████████████████| 1272/1272 [05:46<00:00,  3.67it/s]\n",
      "100%|████████████████████████████████████████████████████████████████████████████████| 156/156 [00:20<00:00,  7.46it/s]\n"
     ]
    },
    {
     "name": "stdout",
     "output_type": "stream",
     "text": [
      "=> saving checkpoint 'checkpoints\\checkpoint.pth.tar'\n"
     ]
    },
    {
     "name": "stderr",
     "output_type": "stream",
     "text": [
      "  0%|                                                                                         | 0/1272 [00:00<?, ?it/s]"
     ]
    },
    {
     "name": "stdout",
     "output_type": "stream",
     "text": [
      "\n",
      "Epoch: [40 | 60] LR: 0.000000\n"
     ]
    },
    {
     "name": "stderr",
     "output_type": "stream",
     "text": [
      "  8%|██████▏                                                                        | 100/1272 [00:32<05:09,  3.79it/s]"
     ]
    },
    {
     "name": "stdout",
     "output_type": "stream",
     "text": [
      "(100/1272) Data: 0.069s | Batch: 0.326s | Total: 0:00:32 | ETA: 0:05:13 | Loss: 0.1402 | top1:  93.8695\n"
     ]
    },
    {
     "name": "stderr",
     "output_type": "stream",
     "text": [
      " 16%|████████████▍                                                                  | 200/1272 [00:59<04:55,  3.63it/s]"
     ]
    },
    {
     "name": "stdout",
     "output_type": "stream",
     "text": [
      "(200/1272) Data: 0.035s | Batch: 0.296s | Total: 0:00:59 | ETA: 0:04:47 | Loss: 0.1406 | top1:  93.8448\n"
     ]
    },
    {
     "name": "stderr",
     "output_type": "stream",
     "text": [
      " 24%|██████████████████▋                                                            | 300/1272 [01:26<04:23,  3.69it/s]"
     ]
    },
    {
     "name": "stdout",
     "output_type": "stream",
     "text": [
      "(300/1272) Data: 0.024s | Batch: 0.287s | Total: 0:01:26 | ETA: 0:04:20 | Loss: 0.1409 | top1:  93.8207\n"
     ]
    },
    {
     "name": "stderr",
     "output_type": "stream",
     "text": [
      " 31%|████████████████████████▊                                                      | 400/1272 [01:52<03:52,  3.75it/s]"
     ]
    },
    {
     "name": "stdout",
     "output_type": "stream",
     "text": [
      "(400/1272) Data: 0.018s | Batch: 0.282s | Total: 0:01:52 | ETA: 0:03:51 | Loss: 0.1411 | top1:  93.8154\n"
     ]
    },
    {
     "name": "stderr",
     "output_type": "stream",
     "text": [
      " 39%|███████████████████████████████                                                | 500/1272 [02:19<03:23,  3.80it/s]"
     ]
    },
    {
     "name": "stdout",
     "output_type": "stream",
     "text": [
      "(500/1272) Data: 0.014s | Batch: 0.279s | Total: 0:02:19 | ETA: 0:03:25 | Loss: 0.1410 | top1:  93.8156\n"
     ]
    },
    {
     "name": "stderr",
     "output_type": "stream",
     "text": [
      " 47%|█████████████████████████████████████▎                                         | 600/1272 [02:46<02:55,  3.83it/s]"
     ]
    },
    {
     "name": "stdout",
     "output_type": "stream",
     "text": [
      "(600/1272) Data: 0.012s | Batch: 0.277s | Total: 0:02:46 | ETA: 0:02:59 | Loss: 0.1410 | top1:  93.8186\n"
     ]
    },
    {
     "name": "stderr",
     "output_type": "stream",
     "text": [
      " 55%|███████████████████████████████████████████▍                                   | 700/1272 [03:13<02:30,  3.79it/s]"
     ]
    },
    {
     "name": "stdout",
     "output_type": "stream",
     "text": [
      "(700/1272) Data: 0.011s | Batch: 0.276s | Total: 0:03:13 | ETA: 0:02:33 | Loss: 0.1409 | top1:  93.8187\n"
     ]
    },
    {
     "name": "stderr",
     "output_type": "stream",
     "text": [
      " 63%|█████████████████████████████████████████████████▋                             | 800/1272 [03:40<02:05,  3.75it/s]"
     ]
    },
    {
     "name": "stdout",
     "output_type": "stream",
     "text": [
      "(800/1272) Data: 0.009s | Batch: 0.275s | Total: 0:03:40 | ETA: 0:02:08 | Loss: 0.1407 | top1:  93.8269\n"
     ]
    },
    {
     "name": "stderr",
     "output_type": "stream",
     "text": [
      " 71%|███████████████████████████████████████████████████████▉                       | 900/1272 [04:06<01:41,  3.68it/s]"
     ]
    },
    {
     "name": "stdout",
     "output_type": "stream",
     "text": [
      "(900/1272) Data: 0.008s | Batch: 0.274s | Total: 0:04:06 | ETA: 0:01:42 | Loss: 0.1407 | top1:  93.8247\n"
     ]
    },
    {
     "name": "stderr",
     "output_type": "stream",
     "text": [
      " 79%|█████████████████████████████████████████████████████████████▎                | 1000/1272 [04:33<01:12,  3.78it/s]"
     ]
    },
    {
     "name": "stdout",
     "output_type": "stream",
     "text": [
      "(1000/1272) Data: 0.008s | Batch: 0.274s | Total: 0:04:33 | ETA: 0:01:12 | Loss: 0.1408 | top1:  93.8243\n"
     ]
    },
    {
     "name": "stderr",
     "output_type": "stream",
     "text": [
      " 86%|███████████████████████████████████████████████████████████████████▍          | 1100/1272 [05:00<00:44,  3.85it/s]"
     ]
    },
    {
     "name": "stdout",
     "output_type": "stream",
     "text": [
      "(1100/1272) Data: 0.007s | Batch: 0.273s | Total: 0:05:00 | ETA: 0:00:46 | Loss: 0.1407 | top1:  93.8226\n"
     ]
    },
    {
     "name": "stderr",
     "output_type": "stream",
     "text": [
      " 94%|█████████████████████████████████████████████████████████████████████████▌    | 1200/1272 [05:27<00:19,  3.77it/s]"
     ]
    },
    {
     "name": "stdout",
     "output_type": "stream",
     "text": [
      "(1200/1272) Data: 0.006s | Batch: 0.273s | Total: 0:05:27 | ETA: 0:00:20 | Loss: 0.1407 | top1:  93.8244\n"
     ]
    },
    {
     "name": "stderr",
     "output_type": "stream",
     "text": [
      "100%|██████████████████████████████████████████████████████████████████████████████| 1272/1272 [05:47<00:00,  3.66it/s]\n",
      "100%|████████████████████████████████████████████████████████████████████████████████| 156/156 [00:21<00:00,  7.40it/s]\n"
     ]
    },
    {
     "name": "stdout",
     "output_type": "stream",
     "text": [
      "=> saving checkpoint 'checkpoints\\checkpoint.pth.tar'\n"
     ]
    },
    {
     "name": "stderr",
     "output_type": "stream",
     "text": [
      "  0%|                                                                                         | 0/1272 [00:00<?, ?it/s]"
     ]
    },
    {
     "name": "stdout",
     "output_type": "stream",
     "text": [
      "\n",
      "Epoch: [41 | 60] LR: 0.000000\n"
     ]
    },
    {
     "name": "stderr",
     "output_type": "stream",
     "text": [
      "  8%|██████▏                                                                        | 100/1272 [00:32<05:03,  3.86it/s]"
     ]
    },
    {
     "name": "stdout",
     "output_type": "stream",
     "text": [
      "(100/1272) Data: 0.071s | Batch: 0.327s | Total: 0:00:32 | ETA: 0:05:03 | Loss: 0.1406 | top1:  93.8475\n"
     ]
    },
    {
     "name": "stderr",
     "output_type": "stream",
     "text": [
      " 16%|████████████▍                                                                  | 200/1272 [00:59<04:45,  3.76it/s]"
     ]
    },
    {
     "name": "stdout",
     "output_type": "stream",
     "text": [
      "(200/1272) Data: 0.036s | Batch: 0.296s | Total: 0:00:59 | ETA: 0:04:46 | Loss: 0.1410 | top1:  93.8200\n"
     ]
    },
    {
     "name": "stderr",
     "output_type": "stream",
     "text": [
      " 24%|██████████████████▋                                                            | 300/1272 [01:25<04:14,  3.81it/s]"
     ]
    },
    {
     "name": "stdout",
     "output_type": "stream",
     "text": [
      "(300/1272) Data: 0.024s | Batch: 0.286s | Total: 0:01:25 | ETA: 0:04:17 | Loss: 0.1407 | top1:  93.8432\n"
     ]
    },
    {
     "name": "stderr",
     "output_type": "stream",
     "text": [
      " 31%|████████████████████████▊                                                      | 400/1272 [01:52<03:45,  3.87it/s]"
     ]
    },
    {
     "name": "stdout",
     "output_type": "stream",
     "text": [
      "(400/1272) Data: 0.018s | Batch: 0.281s | Total: 0:01:52 | ETA: 0:03:51 | Loss: 0.1407 | top1:  93.8420\n"
     ]
    },
    {
     "name": "stderr",
     "output_type": "stream",
     "text": [
      " 39%|███████████████████████████████                                                | 500/1272 [02:19<03:22,  3.82it/s]"
     ]
    },
    {
     "name": "stdout",
     "output_type": "stream",
     "text": [
      "(500/1272) Data: 0.015s | Batch: 0.278s | Total: 0:02:19 | ETA: 0:03:26 | Loss: 0.1408 | top1:  93.8288\n"
     ]
    },
    {
     "name": "stderr",
     "output_type": "stream",
     "text": [
      " 47%|█████████████████████████████████████▎                                         | 600/1272 [02:45<02:57,  3.79it/s]"
     ]
    },
    {
     "name": "stdout",
     "output_type": "stream",
     "text": [
      "(600/1272) Data: 0.012s | Batch: 0.276s | Total: 0:02:45 | ETA: 0:02:58 | Loss: 0.1408 | top1:  93.8288\n"
     ]
    },
    {
     "name": "stderr",
     "output_type": "stream",
     "text": [
      " 55%|███████████████████████████████████████████▍                                   | 700/1272 [03:12<02:33,  3.72it/s]"
     ]
    },
    {
     "name": "stdout",
     "output_type": "stream",
     "text": [
      "(700/1272) Data: 0.011s | Batch: 0.275s | Total: 0:03:12 | ETA: 0:02:36 | Loss: 0.1407 | top1:  93.8321\n"
     ]
    },
    {
     "name": "stderr",
     "output_type": "stream",
     "text": [
      " 63%|█████████████████████████████████████████████████▋                             | 800/1272 [03:39<02:07,  3.71it/s]"
     ]
    },
    {
     "name": "stdout",
     "output_type": "stream",
     "text": [
      "(800/1272) Data: 0.010s | Batch: 0.274s | Total: 0:03:39 | ETA: 0:02:08 | Loss: 0.1407 | top1:  93.8351\n"
     ]
    },
    {
     "name": "stderr",
     "output_type": "stream",
     "text": [
      " 71%|███████████████████████████████████████████████████████▉                       | 900/1272 [04:05<01:40,  3.70it/s]"
     ]
    },
    {
     "name": "stdout",
     "output_type": "stream",
     "text": [
      "(900/1272) Data: 0.009s | Batch: 0.273s | Total: 0:04:05 | ETA: 0:01:41 | Loss: 0.1407 | top1:  93.8303\n"
     ]
    },
    {
     "name": "stderr",
     "output_type": "stream",
     "text": [
      " 79%|█████████████████████████████████████████████████████████████▎                | 1000/1272 [04:32<01:11,  3.80it/s]"
     ]
    },
    {
     "name": "stdout",
     "output_type": "stream",
     "text": [
      "(1000/1272) Data: 0.008s | Batch: 0.273s | Total: 0:04:32 | ETA: 0:01:12 | Loss: 0.1408 | top1:  93.8269\n"
     ]
    },
    {
     "name": "stderr",
     "output_type": "stream",
     "text": [
      " 86%|███████████████████████████████████████████████████████████████████▍          | 1100/1272 [04:59<00:46,  3.73it/s]"
     ]
    },
    {
     "name": "stdout",
     "output_type": "stream",
     "text": [
      "(1100/1272) Data: 0.007s | Batch: 0.272s | Total: 0:04:59 | ETA: 0:00:47 | Loss: 0.1408 | top1:  93.8249\n"
     ]
    },
    {
     "name": "stderr",
     "output_type": "stream",
     "text": [
      " 94%|█████████████████████████████████████████████████████████████████████████▌    | 1200/1272 [05:26<00:19,  3.70it/s]"
     ]
    },
    {
     "name": "stdout",
     "output_type": "stream",
     "text": [
      "(1200/1272) Data: 0.007s | Batch: 0.272s | Total: 0:05:26 | ETA: 0:00:20 | Loss: 0.1408 | top1:  93.8254\n"
     ]
    },
    {
     "name": "stderr",
     "output_type": "stream",
     "text": [
      "100%|██████████████████████████████████████████████████████████████████████████████| 1272/1272 [05:46<00:00,  3.68it/s]\n",
      "100%|████████████████████████████████████████████████████████████████████████████████| 156/156 [00:20<00:00,  7.45it/s]\n"
     ]
    },
    {
     "name": "stdout",
     "output_type": "stream",
     "text": [
      "=> saving checkpoint 'checkpoints\\checkpoint.pth.tar'\n"
     ]
    },
    {
     "name": "stderr",
     "output_type": "stream",
     "text": [
      "  0%|                                                                                         | 0/1272 [00:00<?, ?it/s]"
     ]
    },
    {
     "name": "stdout",
     "output_type": "stream",
     "text": [
      "\n",
      "Epoch: [42 | 60] LR: 0.000000\n"
     ]
    },
    {
     "name": "stderr",
     "output_type": "stream",
     "text": [
      "  8%|██████▏                                                                        | 100/1272 [00:32<05:01,  3.89it/s]"
     ]
    },
    {
     "name": "stdout",
     "output_type": "stream",
     "text": [
      "(100/1272) Data: 0.071s | Batch: 0.327s | Total: 0:00:32 | ETA: 0:05:07 | Loss: 0.1404 | top1:  93.8668\n"
     ]
    },
    {
     "name": "stderr",
     "output_type": "stream",
     "text": [
      " 16%|████████████▍                                                                  | 200/1272 [00:59<04:42,  3.79it/s]"
     ]
    },
    {
     "name": "stdout",
     "output_type": "stream",
     "text": [
      "(200/1272) Data: 0.036s | Batch: 0.297s | Total: 0:00:59 | ETA: 0:04:42 | Loss: 0.1410 | top1:  93.8102\n"
     ]
    },
    {
     "name": "stderr",
     "output_type": "stream",
     "text": [
      " 24%|██████████████████▋                                                            | 300/1272 [01:26<04:20,  3.73it/s]"
     ]
    },
    {
     "name": "stdout",
     "output_type": "stream",
     "text": [
      "(300/1272) Data: 0.024s | Batch: 0.287s | Total: 0:01:26 | ETA: 0:04:24 | Loss: 0.1408 | top1:  93.8148\n"
     ]
    },
    {
     "name": "stderr",
     "output_type": "stream",
     "text": [
      " 31%|████████████████████████▊                                                      | 400/1272 [01:52<03:50,  3.78it/s]"
     ]
    },
    {
     "name": "stdout",
     "output_type": "stream",
     "text": [
      "(400/1272) Data: 0.018s | Batch: 0.282s | Total: 0:01:52 | ETA: 0:03:54 | Loss: 0.1409 | top1:  93.8087\n"
     ]
    },
    {
     "name": "stderr",
     "output_type": "stream",
     "text": [
      " 39%|███████████████████████████████                                                | 500/1272 [02:19<03:21,  3.82it/s]"
     ]
    },
    {
     "name": "stdout",
     "output_type": "stream",
     "text": [
      "(500/1272) Data: 0.015s | Batch: 0.279s | Total: 0:02:19 | ETA: 0:03:24 | Loss: 0.1407 | top1:  93.8161\n"
     ]
    },
    {
     "name": "stderr",
     "output_type": "stream",
     "text": [
      " 47%|█████████████████████████████████████▎                                         | 600/1272 [02:46<02:58,  3.76it/s]"
     ]
    },
    {
     "name": "stdout",
     "output_type": "stream",
     "text": [
      "(600/1272) Data: 0.012s | Batch: 0.277s | Total: 0:02:46 | ETA: 0:03:02 | Loss: 0.1406 | top1:  93.8213\n"
     ]
    },
    {
     "name": "stderr",
     "output_type": "stream",
     "text": [
      " 55%|███████████████████████████████████████████▍                                   | 700/1272 [03:13<02:36,  3.65it/s]"
     ]
    },
    {
     "name": "stdout",
     "output_type": "stream",
     "text": [
      "(700/1272) Data: 0.011s | Batch: 0.276s | Total: 0:03:13 | ETA: 0:02:36 | Loss: 0.1405 | top1:  93.8275\n"
     ]
    },
    {
     "name": "stderr",
     "output_type": "stream",
     "text": [
      " 63%|█████████████████████████████████████████████████▋                             | 800/1272 [03:39<02:05,  3.77it/s]"
     ]
    },
    {
     "name": "stdout",
     "output_type": "stream",
     "text": [
      "(800/1272) Data: 0.010s | Batch: 0.275s | Total: 0:03:39 | ETA: 0:02:07 | Loss: 0.1407 | top1:  93.8220\n"
     ]
    },
    {
     "name": "stderr",
     "output_type": "stream",
     "text": [
      " 71%|███████████████████████████████████████████████████████▉                       | 900/1272 [04:06<01:39,  3.73it/s]"
     ]
    },
    {
     "name": "stdout",
     "output_type": "stream",
     "text": [
      "(900/1272) Data: 0.009s | Batch: 0.274s | Total: 0:04:06 | ETA: 0:01:41 | Loss: 0.1406 | top1:  93.8277\n"
     ]
    },
    {
     "name": "stderr",
     "output_type": "stream",
     "text": [
      " 79%|█████████████████████████████████████████████████████████████▎                | 1000/1272 [04:33<01:11,  3.80it/s]"
     ]
    },
    {
     "name": "stdout",
     "output_type": "stream",
     "text": [
      "(1000/1272) Data: 0.008s | Batch: 0.273s | Total: 0:04:33 | ETA: 0:01:12 | Loss: 0.1406 | top1:  93.8254\n"
     ]
    },
    {
     "name": "stderr",
     "output_type": "stream",
     "text": [
      " 86%|███████████████████████████████████████████████████████████████████▍          | 1100/1272 [04:59<00:44,  3.85it/s]"
     ]
    },
    {
     "name": "stdout",
     "output_type": "stream",
     "text": [
      "(1100/1272) Data: 0.007s | Batch: 0.273s | Total: 0:04:59 | ETA: 0:00:46 | Loss: 0.1407 | top1:  93.8225\n"
     ]
    },
    {
     "name": "stderr",
     "output_type": "stream",
     "text": [
      " 94%|█████████████████████████████████████████████████████████████████████████▌    | 1200/1272 [05:26<00:19,  3.70it/s]"
     ]
    },
    {
     "name": "stdout",
     "output_type": "stream",
     "text": [
      "(1200/1272) Data: 0.007s | Batch: 0.272s | Total: 0:05:26 | ETA: 0:00:20 | Loss: 0.1407 | top1:  93.8208\n"
     ]
    },
    {
     "name": "stderr",
     "output_type": "stream",
     "text": [
      "100%|██████████████████████████████████████████████████████████████████████████████| 1272/1272 [05:46<00:00,  3.67it/s]\n",
      "100%|████████████████████████████████████████████████████████████████████████████████| 156/156 [00:21<00:00,  7.41it/s]\n"
     ]
    },
    {
     "name": "stdout",
     "output_type": "stream",
     "text": [
      "=> saving checkpoint 'checkpoints\\checkpoint.pth.tar'\n"
     ]
    },
    {
     "name": "stderr",
     "output_type": "stream",
     "text": [
      "  0%|                                                                                         | 0/1272 [00:00<?, ?it/s]"
     ]
    },
    {
     "name": "stdout",
     "output_type": "stream",
     "text": [
      "\n",
      "Epoch: [43 | 60] LR: 0.000000\n"
     ]
    },
    {
     "name": "stderr",
     "output_type": "stream",
     "text": [
      "  8%|██████▏                                                                        | 100/1272 [00:32<05:08,  3.80it/s]"
     ]
    },
    {
     "name": "stdout",
     "output_type": "stream",
     "text": [
      "(100/1272) Data: 0.071s | Batch: 0.328s | Total: 0:00:32 | ETA: 0:05:06 | Loss: 0.1410 | top1:  93.8240\n"
     ]
    },
    {
     "name": "stderr",
     "output_type": "stream",
     "text": [
      " 16%|████████████▍                                                                  | 200/1272 [00:59<04:44,  3.77it/s]"
     ]
    },
    {
     "name": "stdout",
     "output_type": "stream",
     "text": [
      "(200/1272) Data: 0.036s | Batch: 0.297s | Total: 0:00:59 | ETA: 0:04:46 | Loss: 0.1410 | top1:  93.8135\n"
     ]
    },
    {
     "name": "stderr",
     "output_type": "stream",
     "text": [
      " 24%|██████████████████▋                                                            | 300/1272 [01:25<04:12,  3.85it/s]"
     ]
    },
    {
     "name": "stdout",
     "output_type": "stream",
     "text": [
      "(300/1272) Data: 0.024s | Batch: 0.286s | Total: 0:01:25 | ETA: 0:04:16 | Loss: 0.1408 | top1:  93.8202\n"
     ]
    },
    {
     "name": "stderr",
     "output_type": "stream",
     "text": [
      " 31%|████████████████████████▊                                                      | 400/1272 [01:52<03:51,  3.76it/s]"
     ]
    },
    {
     "name": "stdout",
     "output_type": "stream",
     "text": [
      "(400/1272) Data: 0.018s | Batch: 0.282s | Total: 0:01:52 | ETA: 0:03:56 | Loss: 0.1410 | top1:  93.8145\n"
     ]
    },
    {
     "name": "stderr",
     "output_type": "stream",
     "text": [
      " 39%|███████████████████████████████                                                | 500/1272 [02:19<03:21,  3.83it/s]"
     ]
    },
    {
     "name": "stdout",
     "output_type": "stream",
     "text": [
      "(500/1272) Data: 0.015s | Batch: 0.279s | Total: 0:02:19 | ETA: 0:03:26 | Loss: 0.1409 | top1:  93.8181\n"
     ]
    },
    {
     "name": "stderr",
     "output_type": "stream",
     "text": [
      " 47%|█████████████████████████████████████▎                                         | 600/1272 [02:46<02:56,  3.81it/s]"
     ]
    },
    {
     "name": "stdout",
     "output_type": "stream",
     "text": [
      "(600/1272) Data: 0.013s | Batch: 0.277s | Total: 0:02:46 | ETA: 0:03:00 | Loss: 0.1411 | top1:  93.8092\n"
     ]
    },
    {
     "name": "stderr",
     "output_type": "stream",
     "text": [
      " 55%|███████████████████████████████████████████▍                                   | 700/1272 [03:12<02:34,  3.70it/s]"
     ]
    },
    {
     "name": "stdout",
     "output_type": "stream",
     "text": [
      "(700/1272) Data: 0.011s | Batch: 0.276s | Total: 0:03:12 | ETA: 0:02:35 | Loss: 0.1408 | top1:  93.8148\n"
     ]
    },
    {
     "name": "stderr",
     "output_type": "stream",
     "text": [
      " 63%|█████████████████████████████████████████████████▋                             | 800/1272 [03:39<02:07,  3.71it/s]"
     ]
    },
    {
     "name": "stdout",
     "output_type": "stream",
     "text": [
      "(800/1272) Data: 0.010s | Batch: 0.275s | Total: 0:03:39 | ETA: 0:02:08 | Loss: 0.1408 | top1:  93.8156\n"
     ]
    },
    {
     "name": "stderr",
     "output_type": "stream",
     "text": [
      " 71%|███████████████████████████████████████████████████████▉                       | 900/1272 [04:06<01:39,  3.75it/s]"
     ]
    },
    {
     "name": "stdout",
     "output_type": "stream",
     "text": [
      "(900/1272) Data: 0.009s | Batch: 0.274s | Total: 0:04:06 | ETA: 0:01:40 | Loss: 0.1408 | top1:  93.8145\n"
     ]
    },
    {
     "name": "stderr",
     "output_type": "stream",
     "text": [
      " 79%|█████████████████████████████████████████████████████████████▎                | 1000/1272 [04:33<01:14,  3.67it/s]"
     ]
    },
    {
     "name": "stdout",
     "output_type": "stream",
     "text": [
      "(1000/1272) Data: 0.008s | Batch: 0.273s | Total: 0:04:33 | ETA: 0:01:13 | Loss: 0.1409 | top1:  93.8167\n"
     ]
    },
    {
     "name": "stderr",
     "output_type": "stream",
     "text": [
      " 86%|███████████████████████████████████████████████████████████████████▍          | 1100/1272 [04:59<00:45,  3.77it/s]"
     ]
    },
    {
     "name": "stdout",
     "output_type": "stream",
     "text": [
      "(1100/1272) Data: 0.007s | Batch: 0.273s | Total: 0:04:59 | ETA: 0:00:47 | Loss: 0.1409 | top1:  93.8139\n"
     ]
    },
    {
     "name": "stderr",
     "output_type": "stream",
     "text": [
      " 94%|█████████████████████████████████████████████████████████████████████████▌    | 1200/1272 [05:26<00:19,  3.71it/s]"
     ]
    },
    {
     "name": "stdout",
     "output_type": "stream",
     "text": [
      "(1200/1272) Data: 0.007s | Batch: 0.272s | Total: 0:05:26 | ETA: 0:00:20 | Loss: 0.1409 | top1:  93.8141\n"
     ]
    },
    {
     "name": "stderr",
     "output_type": "stream",
     "text": [
      "100%|██████████████████████████████████████████████████████████████████████████████| 1272/1272 [05:46<00:00,  3.67it/s]\n",
      "100%|████████████████████████████████████████████████████████████████████████████████| 156/156 [00:20<00:00,  7.50it/s]\n"
     ]
    },
    {
     "name": "stdout",
     "output_type": "stream",
     "text": [
      "=> saving checkpoint 'checkpoints\\checkpoint.pth.tar'\n"
     ]
    },
    {
     "name": "stderr",
     "output_type": "stream",
     "text": [
      "  0%|                                                                                         | 0/1272 [00:00<?, ?it/s]"
     ]
    },
    {
     "name": "stdout",
     "output_type": "stream",
     "text": [
      "\n",
      "Epoch: [44 | 60] LR: 0.000000\n"
     ]
    },
    {
     "name": "stderr",
     "output_type": "stream",
     "text": [
      "  8%|██████▏                                                                        | 100/1272 [00:32<05:08,  3.80it/s]"
     ]
    },
    {
     "name": "stdout",
     "output_type": "stream",
     "text": [
      "(100/1272) Data: 0.070s | Batch: 0.327s | Total: 0:00:32 | ETA: 0:05:08 | Loss: 0.1401 | top1:  93.8359\n"
     ]
    },
    {
     "name": "stderr",
     "output_type": "stream",
     "text": [
      " 16%|████████████▍                                                                  | 200/1272 [00:59<04:42,  3.79it/s]"
     ]
    },
    {
     "name": "stdout",
     "output_type": "stream",
     "text": [
      "(200/1272) Data: 0.035s | Batch: 0.296s | Total: 0:00:59 | ETA: 0:04:46 | Loss: 0.1409 | top1:  93.8044\n"
     ]
    },
    {
     "name": "stderr",
     "output_type": "stream",
     "text": [
      " 24%|██████████████████▋                                                            | 300/1272 [01:25<04:16,  3.79it/s]"
     ]
    },
    {
     "name": "stdout",
     "output_type": "stream",
     "text": [
      "(300/1272) Data: 0.024s | Batch: 0.286s | Total: 0:01:25 | ETA: 0:04:18 | Loss: 0.1409 | top1:  93.8046\n"
     ]
    },
    {
     "name": "stderr",
     "output_type": "stream",
     "text": [
      " 31%|████████████████████████▊                                                      | 400/1272 [01:52<03:49,  3.80it/s]"
     ]
    },
    {
     "name": "stdout",
     "output_type": "stream",
     "text": [
      "(400/1272) Data: 0.018s | Batch: 0.281s | Total: 0:01:52 | ETA: 0:03:52 | Loss: 0.1408 | top1:  93.8073\n"
     ]
    },
    {
     "name": "stderr",
     "output_type": "stream",
     "text": [
      " 39%|███████████████████████████████                                                | 500/1272 [02:19<03:29,  3.68it/s]"
     ]
    },
    {
     "name": "stdout",
     "output_type": "stream",
     "text": [
      "(500/1272) Data: 0.015s | Batch: 0.278s | Total: 0:02:19 | ETA: 0:03:26 | Loss: 0.1407 | top1:  93.8191\n"
     ]
    },
    {
     "name": "stderr",
     "output_type": "stream",
     "text": [
      " 47%|█████████████████████████████████████▎                                         | 600/1272 [02:45<02:57,  3.79it/s]"
     ]
    },
    {
     "name": "stdout",
     "output_type": "stream",
     "text": [
      "(600/1272) Data: 0.012s | Batch: 0.276s | Total: 0:02:45 | ETA: 0:03:02 | Loss: 0.1408 | top1:  93.8117\n"
     ]
    },
    {
     "name": "stderr",
     "output_type": "stream",
     "text": [
      " 55%|███████████████████████████████████████████▍                                   | 700/1272 [03:12<02:31,  3.79it/s]"
     ]
    },
    {
     "name": "stdout",
     "output_type": "stream",
     "text": [
      "(700/1272) Data: 0.011s | Batch: 0.275s | Total: 0:03:12 | ETA: 0:02:34 | Loss: 0.1408 | top1:  93.8124\n"
     ]
    },
    {
     "name": "stderr",
     "output_type": "stream",
     "text": [
      " 63%|█████████████████████████████████████████████████▋                             | 800/1272 [03:39<02:07,  3.69it/s]"
     ]
    },
    {
     "name": "stdout",
     "output_type": "stream",
     "text": [
      "(800/1272) Data: 0.009s | Batch: 0.274s | Total: 0:03:39 | ETA: 0:02:07 | Loss: 0.1408 | top1:  93.8200\n"
     ]
    },
    {
     "name": "stderr",
     "output_type": "stream",
     "text": [
      " 71%|███████████████████████████████████████████████████████▉                       | 900/1272 [04:05<01:37,  3.81it/s]"
     ]
    },
    {
     "name": "stdout",
     "output_type": "stream",
     "text": [
      "(900/1272) Data: 0.008s | Batch: 0.273s | Total: 0:04:05 | ETA: 0:01:38 | Loss: 0.1407 | top1:  93.8229\n"
     ]
    },
    {
     "name": "stderr",
     "output_type": "stream",
     "text": [
      " 79%|█████████████████████████████████████████████████████████████▎                | 1000/1272 [04:32<01:12,  3.75it/s]"
     ]
    },
    {
     "name": "stdout",
     "output_type": "stream",
     "text": [
      "(1000/1272) Data: 0.008s | Batch: 0.273s | Total: 0:04:32 | ETA: 0:01:13 | Loss: 0.1407 | top1:  93.8195\n"
     ]
    },
    {
     "name": "stderr",
     "output_type": "stream",
     "text": [
      " 86%|███████████████████████████████████████████████████████████████████▍          | 1100/1272 [04:59<00:46,  3.70it/s]"
     ]
    },
    {
     "name": "stdout",
     "output_type": "stream",
     "text": [
      "(1100/1272) Data: 0.007s | Batch: 0.272s | Total: 0:04:59 | ETA: 0:00:47 | Loss: 0.1408 | top1:  93.8145\n"
     ]
    },
    {
     "name": "stderr",
     "output_type": "stream",
     "text": [
      " 94%|█████████████████████████████████████████████████████████████████████████▌    | 1200/1272 [05:26<00:19,  3.75it/s]"
     ]
    },
    {
     "name": "stdout",
     "output_type": "stream",
     "text": [
      "(1200/1272) Data: 0.006s | Batch: 0.272s | Total: 0:05:26 | ETA: 0:00:20 | Loss: 0.1408 | top1:  93.8161\n"
     ]
    },
    {
     "name": "stderr",
     "output_type": "stream",
     "text": [
      "100%|██████████████████████████████████████████████████████████████████████████████| 1272/1272 [05:46<00:00,  3.68it/s]\n",
      "100%|████████████████████████████████████████████████████████████████████████████████| 156/156 [00:20<00:00,  7.52it/s]\n"
     ]
    },
    {
     "name": "stdout",
     "output_type": "stream",
     "text": [
      "=> saving checkpoint 'checkpoints\\checkpoint.pth.tar'\n"
     ]
    },
    {
     "name": "stderr",
     "output_type": "stream",
     "text": [
      "  0%|                                                                                         | 0/1272 [00:00<?, ?it/s]"
     ]
    },
    {
     "name": "stdout",
     "output_type": "stream",
     "text": [
      "\n",
      "Epoch: [45 | 60] LR: 0.000000\n"
     ]
    },
    {
     "name": "stderr",
     "output_type": "stream",
     "text": [
      "  8%|██████▏                                                                        | 100/1272 [00:32<05:08,  3.80it/s]"
     ]
    },
    {
     "name": "stdout",
     "output_type": "stream",
     "text": [
      "(100/1272) Data: 0.069s | Batch: 0.327s | Total: 0:00:32 | ETA: 0:05:11 | Loss: 0.1410 | top1:  93.8240\n"
     ]
    },
    {
     "name": "stderr",
     "output_type": "stream",
     "text": [
      " 16%|████████████▍                                                                  | 200/1272 [00:59<04:42,  3.80it/s]"
     ]
    },
    {
     "name": "stdout",
     "output_type": "stream",
     "text": [
      "(200/1272) Data: 0.035s | Batch: 0.296s | Total: 0:00:59 | ETA: 0:04:49 | Loss: 0.1406 | top1:  93.8369\n"
     ]
    },
    {
     "name": "stderr",
     "output_type": "stream",
     "text": [
      " 24%|██████████████████▋                                                            | 300/1272 [01:25<04:15,  3.81it/s]"
     ]
    },
    {
     "name": "stdout",
     "output_type": "stream",
     "text": [
      "(300/1272) Data: 0.024s | Batch: 0.286s | Total: 0:01:25 | ETA: 0:04:19 | Loss: 0.1409 | top1:  93.8175\n"
     ]
    },
    {
     "name": "stderr",
     "output_type": "stream",
     "text": [
      " 31%|████████████████████████▊                                                      | 400/1272 [01:52<03:50,  3.78it/s]"
     ]
    },
    {
     "name": "stdout",
     "output_type": "stream",
     "text": [
      "(400/1272) Data: 0.018s | Batch: 0.282s | Total: 0:01:52 | ETA: 0:03:55 | Loss: 0.1408 | top1:  93.8156\n"
     ]
    },
    {
     "name": "stderr",
     "output_type": "stream",
     "text": [
      " 39%|███████████████████████████████                                                | 500/1272 [02:19<03:26,  3.75it/s]"
     ]
    },
    {
     "name": "stdout",
     "output_type": "stream",
     "text": [
      "(500/1272) Data: 0.014s | Batch: 0.279s | Total: 0:02:19 | ETA: 0:03:27 | Loss: 0.1406 | top1:  93.8268\n"
     ]
    },
    {
     "name": "stderr",
     "output_type": "stream",
     "text": [
      " 47%|█████████████████████████████████████▎                                         | 600/1272 [02:46<03:04,  3.64it/s]"
     ]
    },
    {
     "name": "stdout",
     "output_type": "stream",
     "text": [
      "(600/1272) Data: 0.012s | Batch: 0.277s | Total: 0:02:46 | ETA: 0:03:03 | Loss: 0.1408 | top1:  93.8201\n"
     ]
    },
    {
     "name": "stderr",
     "output_type": "stream",
     "text": [
      " 55%|███████████████████████████████████████████▍                                   | 700/1272 [03:13<02:31,  3.78it/s]"
     ]
    },
    {
     "name": "stdout",
     "output_type": "stream",
     "text": [
      "(700/1272) Data: 0.011s | Batch: 0.276s | Total: 0:03:13 | ETA: 0:02:35 | Loss: 0.1409 | top1:  93.8164\n"
     ]
    },
    {
     "name": "stderr",
     "output_type": "stream",
     "text": [
      " 63%|█████████████████████████████████████████████████▋                             | 800/1272 [03:39<02:08,  3.67it/s]"
     ]
    },
    {
     "name": "stdout",
     "output_type": "stream",
     "text": [
      "(800/1272) Data: 0.009s | Batch: 0.275s | Total: 0:03:39 | ETA: 0:02:07 | Loss: 0.1409 | top1:  93.8172\n"
     ]
    },
    {
     "name": "stderr",
     "output_type": "stream",
     "text": [
      " 71%|███████████████████████████████████████████████████████▉                       | 900/1272 [04:06<01:38,  3.78it/s]"
     ]
    },
    {
     "name": "stdout",
     "output_type": "stream",
     "text": [
      "(900/1272) Data: 0.008s | Batch: 0.274s | Total: 0:04:06 | ETA: 0:01:42 | Loss: 0.1408 | top1:  93.8210\n"
     ]
    },
    {
     "name": "stderr",
     "output_type": "stream",
     "text": [
      " 79%|█████████████████████████████████████████████████████████████▎                | 1000/1272 [04:33<01:12,  3.75it/s]"
     ]
    },
    {
     "name": "stdout",
     "output_type": "stream",
     "text": [
      "(1000/1272) Data: 0.008s | Batch: 0.273s | Total: 0:04:33 | ETA: 0:01:13 | Loss: 0.1408 | top1:  93.8192\n"
     ]
    },
    {
     "name": "stderr",
     "output_type": "stream",
     "text": [
      " 86%|███████████████████████████████████████████████████████████████████▍          | 1100/1272 [05:00<00:45,  3.80it/s]"
     ]
    },
    {
     "name": "stdout",
     "output_type": "stream",
     "text": [
      "(1100/1272) Data: 0.007s | Batch: 0.273s | Total: 0:05:00 | ETA: 0:00:47 | Loss: 0.1407 | top1:  93.8166\n"
     ]
    },
    {
     "name": "stderr",
     "output_type": "stream",
     "text": [
      " 94%|█████████████████████████████████████████████████████████████████████████▌    | 1200/1272 [05:26<00:18,  3.80it/s]"
     ]
    },
    {
     "name": "stdout",
     "output_type": "stream",
     "text": [
      "(1200/1272) Data: 0.006s | Batch: 0.272s | Total: 0:05:26 | ETA: 0:00:20 | Loss: 0.1408 | top1:  93.8183\n"
     ]
    },
    {
     "name": "stderr",
     "output_type": "stream",
     "text": [
      "100%|██████████████████████████████████████████████████████████████████████████████| 1272/1272 [05:46<00:00,  3.67it/s]\n",
      "100%|████████████████████████████████████████████████████████████████████████████████| 156/156 [00:21<00:00,  7.42it/s]\n"
     ]
    },
    {
     "name": "stdout",
     "output_type": "stream",
     "text": [
      "=> saving checkpoint 'checkpoints\\checkpoint.pth.tar'\n"
     ]
    },
    {
     "name": "stderr",
     "output_type": "stream",
     "text": [
      "  0%|                                                                                         | 0/1272 [00:00<?, ?it/s]"
     ]
    },
    {
     "name": "stdout",
     "output_type": "stream",
     "text": [
      "\n",
      "Epoch: [46 | 60] LR: 0.000000\n"
     ]
    },
    {
     "name": "stderr",
     "output_type": "stream",
     "text": [
      "  8%|██████▏                                                                        | 100/1272 [00:32<05:14,  3.73it/s]"
     ]
    },
    {
     "name": "stdout",
     "output_type": "stream",
     "text": [
      "(100/1272) Data: 0.070s | Batch: 0.328s | Total: 0:00:32 | ETA: 0:05:09 | Loss: 0.1416 | top1:  93.7566\n"
     ]
    },
    {
     "name": "stderr",
     "output_type": "stream",
     "text": [
      " 16%|████████████▍                                                                  | 200/1272 [00:59<04:41,  3.81it/s]"
     ]
    },
    {
     "name": "stdout",
     "output_type": "stream",
     "text": [
      "(200/1272) Data: 0.035s | Batch: 0.297s | Total: 0:00:59 | ETA: 0:04:45 | Loss: 0.1410 | top1:  93.8010\n"
     ]
    },
    {
     "name": "stderr",
     "output_type": "stream",
     "text": [
      " 24%|██████████████████▋                                                            | 300/1272 [01:26<04:21,  3.71it/s]"
     ]
    },
    {
     "name": "stdout",
     "output_type": "stream",
     "text": [
      "(300/1272) Data: 0.024s | Batch: 0.287s | Total: 0:01:26 | ETA: 0:04:22 | Loss: 0.1410 | top1:  93.8033\n"
     ]
    },
    {
     "name": "stderr",
     "output_type": "stream",
     "text": [
      " 31%|████████████████████████▊                                                      | 400/1272 [01:52<03:49,  3.79it/s]"
     ]
    },
    {
     "name": "stdout",
     "output_type": "stream",
     "text": [
      "(400/1272) Data: 0.018s | Batch: 0.282s | Total: 0:01:52 | ETA: 0:03:50 | Loss: 0.1410 | top1:  93.8065\n"
     ]
    },
    {
     "name": "stderr",
     "output_type": "stream",
     "text": [
      " 39%|███████████████████████████████                                                | 500/1272 [02:19<03:28,  3.71it/s]"
     ]
    },
    {
     "name": "stdout",
     "output_type": "stream",
     "text": [
      "(500/1272) Data: 0.015s | Batch: 0.279s | Total: 0:02:19 | ETA: 0:03:27 | Loss: 0.1409 | top1:  93.8121\n"
     ]
    },
    {
     "name": "stderr",
     "output_type": "stream",
     "text": [
      " 47%|█████████████████████████████████████▎                                         | 600/1272 [02:46<03:00,  3.73it/s]"
     ]
    },
    {
     "name": "stdout",
     "output_type": "stream",
     "text": [
      "(600/1272) Data: 0.012s | Batch: 0.277s | Total: 0:02:46 | ETA: 0:03:03 | Loss: 0.1406 | top1:  93.8270\n"
     ]
    },
    {
     "name": "stderr",
     "output_type": "stream",
     "text": [
      " 55%|███████████████████████████████████████████▍                                   | 700/1272 [03:13<02:36,  3.66it/s]"
     ]
    },
    {
     "name": "stdout",
     "output_type": "stream",
     "text": [
      "(700/1272) Data: 0.011s | Batch: 0.276s | Total: 0:03:13 | ETA: 0:02:36 | Loss: 0.1406 | top1:  93.8221\n"
     ]
    },
    {
     "name": "stderr",
     "output_type": "stream",
     "text": [
      " 63%|█████████████████████████████████████████████████▋                             | 800/1272 [03:40<02:07,  3.69it/s]"
     ]
    },
    {
     "name": "stdout",
     "output_type": "stream",
     "text": [
      "(800/1272) Data: 0.009s | Batch: 0.275s | Total: 0:03:40 | ETA: 0:02:10 | Loss: 0.1407 | top1:  93.8174\n"
     ]
    },
    {
     "name": "stderr",
     "output_type": "stream",
     "text": [
      " 71%|███████████████████████████████████████████████████████▉                       | 900/1272 [04:06<01:41,  3.67it/s]"
     ]
    },
    {
     "name": "stdout",
     "output_type": "stream",
     "text": [
      "(900/1272) Data: 0.008s | Batch: 0.274s | Total: 0:04:06 | ETA: 0:01:41 | Loss: 0.1407 | top1:  93.8175\n"
     ]
    },
    {
     "name": "stderr",
     "output_type": "stream",
     "text": [
      " 79%|█████████████████████████████████████████████████████████████▎                | 1000/1272 [04:34<01:14,  3.67it/s]"
     ]
    },
    {
     "name": "stdout",
     "output_type": "stream",
     "text": [
      "(1000/1272) Data: 0.008s | Batch: 0.274s | Total: 0:04:34 | ETA: 0:01:17 | Loss: 0.1407 | top1:  93.8191\n"
     ]
    },
    {
     "name": "stderr",
     "output_type": "stream",
     "text": [
      " 86%|███████████████████████████████████████████████████████████████████▍          | 1100/1272 [05:01<00:47,  3.61it/s]"
     ]
    },
    {
     "name": "stdout",
     "output_type": "stream",
     "text": [
      "(1100/1272) Data: 0.007s | Batch: 0.274s | Total: 0:05:01 | ETA: 0:00:47 | Loss: 0.1407 | top1:  93.8251\n"
     ]
    },
    {
     "name": "stderr",
     "output_type": "stream",
     "text": [
      " 94%|█████████████████████████████████████████████████████████████████████████▌    | 1200/1272 [05:28<00:19,  3.62it/s]"
     ]
    },
    {
     "name": "stdout",
     "output_type": "stream",
     "text": [
      "(1200/1272) Data: 0.007s | Batch: 0.274s | Total: 0:05:28 | ETA: 0:00:20 | Loss: 0.1407 | top1:  93.8257\n"
     ]
    },
    {
     "name": "stderr",
     "output_type": "stream",
     "text": [
      "100%|██████████████████████████████████████████████████████████████████████████████| 1272/1272 [05:49<00:00,  3.64it/s]\n",
      "100%|████████████████████████████████████████████████████████████████████████████████| 156/156 [00:21<00:00,  7.36it/s]\n"
     ]
    },
    {
     "name": "stdout",
     "output_type": "stream",
     "text": [
      "=> saving checkpoint 'checkpoints\\checkpoint.pth.tar'\n"
     ]
    },
    {
     "name": "stderr",
     "output_type": "stream",
     "text": [
      "  0%|                                                                                         | 0/1272 [00:00<?, ?it/s]"
     ]
    },
    {
     "name": "stdout",
     "output_type": "stream",
     "text": [
      "\n",
      "Epoch: [47 | 60] LR: 0.000000\n"
     ]
    },
    {
     "name": "stderr",
     "output_type": "stream",
     "text": [
      "  8%|██████▏                                                                        | 100/1272 [00:33<05:17,  3.69it/s]"
     ]
    },
    {
     "name": "stdout",
     "output_type": "stream",
     "text": [
      "(100/1272) Data: 0.069s | Batch: 0.331s | Total: 0:00:33 | ETA: 0:05:16 | Loss: 0.1408 | top1:  93.8088\n"
     ]
    },
    {
     "name": "stderr",
     "output_type": "stream",
     "text": [
      " 16%|████████████▍                                                                  | 200/1272 [00:59<04:43,  3.79it/s]"
     ]
    },
    {
     "name": "stdout",
     "output_type": "stream",
     "text": [
      "(200/1272) Data: 0.035s | Batch: 0.299s | Total: 0:00:59 | ETA: 0:04:47 | Loss: 0.1408 | top1:  93.8256\n"
     ]
    },
    {
     "name": "stderr",
     "output_type": "stream",
     "text": [
      " 24%|██████████████████▋                                                            | 300/1272 [01:26<04:18,  3.76it/s]"
     ]
    },
    {
     "name": "stdout",
     "output_type": "stream",
     "text": [
      "(300/1272) Data: 0.024s | Batch: 0.289s | Total: 0:01:26 | ETA: 0:04:26 | Loss: 0.1409 | top1:  93.8111\n"
     ]
    },
    {
     "name": "stderr",
     "output_type": "stream",
     "text": [
      " 31%|████████████████████████▊                                                      | 400/1272 [01:53<03:58,  3.66it/s]"
     ]
    },
    {
     "name": "stdout",
     "output_type": "stream",
     "text": [
      "(400/1272) Data: 0.018s | Batch: 0.285s | Total: 0:01:53 | ETA: 0:04:00 | Loss: 0.1409 | top1:  93.8201\n"
     ]
    },
    {
     "name": "stderr",
     "output_type": "stream",
     "text": [
      " 39%|███████████████████████████████                                                | 500/1272 [02:20<03:26,  3.74it/s]"
     ]
    },
    {
     "name": "stdout",
     "output_type": "stream",
     "text": [
      "(500/1272) Data: 0.014s | Batch: 0.281s | Total: 0:02:20 | ETA: 0:03:28 | Loss: 0.1409 | top1:  93.8199\n"
     ]
    },
    {
     "name": "stderr",
     "output_type": "stream",
     "text": [
      " 47%|█████████████████████████████████████▎                                         | 600/1272 [02:47<03:01,  3.71it/s]"
     ]
    },
    {
     "name": "stdout",
     "output_type": "stream",
     "text": [
      "(600/1272) Data: 0.012s | Batch: 0.279s | Total: 0:02:47 | ETA: 0:03:03 | Loss: 0.1409 | top1:  93.8143\n"
     ]
    },
    {
     "name": "stderr",
     "output_type": "stream",
     "text": [
      " 55%|███████████████████████████████████████████▍                                   | 700/1272 [03:14<02:33,  3.71it/s]"
     ]
    },
    {
     "name": "stdout",
     "output_type": "stream",
     "text": [
      "(700/1272) Data: 0.011s | Batch: 0.278s | Total: 0:03:14 | ETA: 0:02:34 | Loss: 0.1408 | top1:  93.8179\n"
     ]
    },
    {
     "name": "stderr",
     "output_type": "stream",
     "text": [
      " 63%|█████████████████████████████████████████████████▋                             | 800/1272 [03:41<02:08,  3.69it/s]"
     ]
    },
    {
     "name": "stdout",
     "output_type": "stream",
     "text": [
      "(800/1272) Data: 0.009s | Batch: 0.277s | Total: 0:03:41 | ETA: 0:02:10 | Loss: 0.1408 | top1:  93.8166\n"
     ]
    },
    {
     "name": "stderr",
     "output_type": "stream",
     "text": [
      " 71%|███████████████████████████████████████████████████████▉                       | 900/1272 [04:08<01:38,  3.79it/s]"
     ]
    },
    {
     "name": "stdout",
     "output_type": "stream",
     "text": [
      "(900/1272) Data: 0.008s | Batch: 0.276s | Total: 0:04:08 | ETA: 0:01:41 | Loss: 0.1407 | top1:  93.8235\n"
     ]
    },
    {
     "name": "stderr",
     "output_type": "stream",
     "text": [
      " 79%|█████████████████████████████████████████████████████████████▎                | 1000/1272 [04:35<01:12,  3.73it/s]"
     ]
    },
    {
     "name": "stdout",
     "output_type": "stream",
     "text": [
      "(1000/1272) Data: 0.008s | Batch: 0.275s | Total: 0:04:35 | ETA: 0:01:15 | Loss: 0.1407 | top1:  93.8241\n"
     ]
    },
    {
     "name": "stderr",
     "output_type": "stream",
     "text": [
      " 86%|███████████████████████████████████████████████████████████████████▍          | 1100/1272 [05:01<00:46,  3.69it/s]"
     ]
    },
    {
     "name": "stdout",
     "output_type": "stream",
     "text": [
      "(1100/1272) Data: 0.007s | Batch: 0.274s | Total: 0:05:01 | ETA: 0:00:47 | Loss: 0.1407 | top1:  93.8258\n"
     ]
    },
    {
     "name": "stderr",
     "output_type": "stream",
     "text": [
      " 94%|█████████████████████████████████████████████████████████████████████████▌    | 1200/1272 [05:28<00:19,  3.75it/s]"
     ]
    },
    {
     "name": "stdout",
     "output_type": "stream",
     "text": [
      "(1200/1272) Data: 0.006s | Batch: 0.274s | Total: 0:05:28 | ETA: 0:00:20 | Loss: 0.1406 | top1:  93.8304\n"
     ]
    },
    {
     "name": "stderr",
     "output_type": "stream",
     "text": [
      "100%|██████████████████████████████████████████████████████████████████████████████| 1272/1272 [05:49<00:00,  3.64it/s]\n",
      "100%|████████████████████████████████████████████████████████████████████████████████| 156/156 [00:20<00:00,  7.44it/s]\n"
     ]
    },
    {
     "name": "stdout",
     "output_type": "stream",
     "text": [
      "=> saving checkpoint 'checkpoints\\checkpoint.pth.tar'\n"
     ]
    },
    {
     "name": "stderr",
     "output_type": "stream",
     "text": [
      "  0%|                                                                                         | 0/1272 [00:00<?, ?it/s]"
     ]
    },
    {
     "name": "stdout",
     "output_type": "stream",
     "text": [
      "\n",
      "Epoch: [48 | 60] LR: 0.000000\n"
     ]
    },
    {
     "name": "stderr",
     "output_type": "stream",
     "text": [
      "  8%|██████▏                                                                        | 100/1272 [00:32<05:19,  3.66it/s]"
     ]
    },
    {
     "name": "stdout",
     "output_type": "stream",
     "text": [
      "(100/1272) Data: 0.070s | Batch: 0.328s | Total: 0:00:32 | ETA: 0:05:31 | Loss: 0.1410 | top1:  93.8197\n"
     ]
    },
    {
     "name": "stderr",
     "output_type": "stream",
     "text": [
      " 16%|████████████▍                                                                  | 200/1272 [00:59<04:43,  3.78it/s]"
     ]
    },
    {
     "name": "stdout",
     "output_type": "stream",
     "text": [
      "(200/1272) Data: 0.035s | Batch: 0.298s | Total: 0:00:59 | ETA: 0:04:45 | Loss: 0.1409 | top1:  93.8265\n"
     ]
    },
    {
     "name": "stderr",
     "output_type": "stream",
     "text": [
      " 24%|██████████████████▋                                                            | 300/1272 [01:26<04:23,  3.68it/s]"
     ]
    },
    {
     "name": "stdout",
     "output_type": "stream",
     "text": [
      "(300/1272) Data: 0.024s | Batch: 0.288s | Total: 0:01:26 | ETA: 0:04:26 | Loss: 0.1409 | top1:  93.8234\n"
     ]
    },
    {
     "name": "stderr",
     "output_type": "stream",
     "text": [
      " 31%|████████████████████████▊                                                      | 400/1272 [01:53<03:53,  3.74it/s]"
     ]
    },
    {
     "name": "stdout",
     "output_type": "stream",
     "text": [
      "(400/1272) Data: 0.018s | Batch: 0.283s | Total: 0:01:53 | ETA: 0:03:56 | Loss: 0.1407 | top1:  93.8312\n"
     ]
    },
    {
     "name": "stderr",
     "output_type": "stream",
     "text": [
      " 39%|███████████████████████████████                                                | 500/1272 [02:20<03:31,  3.64it/s]"
     ]
    },
    {
     "name": "stdout",
     "output_type": "stream",
     "text": [
      "(500/1272) Data: 0.015s | Batch: 0.280s | Total: 0:02:20 | ETA: 0:03:28 | Loss: 0.1406 | top1:  93.8315\n"
     ]
    },
    {
     "name": "stderr",
     "output_type": "stream",
     "text": [
      " 47%|█████████████████████████████████████▎                                         | 600/1272 [02:47<02:57,  3.78it/s]"
     ]
    },
    {
     "name": "stdout",
     "output_type": "stream",
     "text": [
      "(600/1272) Data: 0.012s | Batch: 0.279s | Total: 0:02:47 | ETA: 0:03:00 | Loss: 0.1406 | top1:  93.8347\n"
     ]
    },
    {
     "name": "stderr",
     "output_type": "stream",
     "text": [
      " 55%|███████████████████████████████████████████▍                                   | 700/1272 [03:14<02:30,  3.79it/s]"
     ]
    },
    {
     "name": "stdout",
     "output_type": "stream",
     "text": [
      "(700/1272) Data: 0.011s | Batch: 0.277s | Total: 0:03:14 | ETA: 0:02:34 | Loss: 0.1406 | top1:  93.8338\n"
     ]
    },
    {
     "name": "stderr",
     "output_type": "stream",
     "text": [
      " 63%|█████████████████████████████████████████████████▋                             | 800/1272 [03:40<02:07,  3.72it/s]"
     ]
    },
    {
     "name": "stdout",
     "output_type": "stream",
     "text": [
      "(800/1272) Data: 0.009s | Batch: 0.276s | Total: 0:03:40 | ETA: 0:02:11 | Loss: 0.1406 | top1:  93.8374\n"
     ]
    },
    {
     "name": "stderr",
     "output_type": "stream",
     "text": [
      " 71%|███████████████████████████████████████████████████████▉                       | 900/1272 [04:07<01:41,  3.68it/s]"
     ]
    },
    {
     "name": "stdout",
     "output_type": "stream",
     "text": [
      "(900/1272) Data: 0.008s | Batch: 0.275s | Total: 0:04:07 | ETA: 0:01:42 | Loss: 0.1406 | top1:  93.8313\n"
     ]
    },
    {
     "name": "stderr",
     "output_type": "stream",
     "text": [
      " 79%|█████████████████████████████████████████████████████████████▎                | 1000/1272 [04:34<01:14,  3.66it/s]"
     ]
    },
    {
     "name": "stdout",
     "output_type": "stream",
     "text": [
      "(1000/1272) Data: 0.008s | Batch: 0.275s | Total: 0:04:34 | ETA: 0:01:14 | Loss: 0.1407 | top1:  93.8317\n"
     ]
    },
    {
     "name": "stderr",
     "output_type": "stream",
     "text": [
      " 86%|███████████████████████████████████████████████████████████████████▍          | 1100/1272 [05:01<00:46,  3.69it/s]"
     ]
    },
    {
     "name": "stdout",
     "output_type": "stream",
     "text": [
      "(1100/1272) Data: 0.007s | Batch: 0.274s | Total: 0:05:01 | ETA: 0:00:48 | Loss: 0.1406 | top1:  93.8333\n"
     ]
    },
    {
     "name": "stderr",
     "output_type": "stream",
     "text": [
      " 94%|█████████████████████████████████████████████████████████████████████████▌    | 1200/1272 [05:28<00:19,  3.78it/s]"
     ]
    },
    {
     "name": "stdout",
     "output_type": "stream",
     "text": [
      "(1200/1272) Data: 0.006s | Batch: 0.274s | Total: 0:05:28 | ETA: 0:00:20 | Loss: 0.1406 | top1:  93.8327\n"
     ]
    },
    {
     "name": "stderr",
     "output_type": "stream",
     "text": [
      "100%|██████████████████████████████████████████████████████████████████████████████| 1272/1272 [05:48<00:00,  3.65it/s]\n",
      "100%|████████████████████████████████████████████████████████████████████████████████| 156/156 [00:21<00:00,  7.31it/s]\n"
     ]
    },
    {
     "name": "stdout",
     "output_type": "stream",
     "text": [
      "=> saving checkpoint 'checkpoints\\checkpoint.pth.tar'\n"
     ]
    },
    {
     "name": "stderr",
     "output_type": "stream",
     "text": [
      "  0%|                                                                                         | 0/1272 [00:00<?, ?it/s]"
     ]
    },
    {
     "name": "stdout",
     "output_type": "stream",
     "text": [
      "\n",
      "Epoch: [49 | 60] LR: 0.000000\n"
     ]
    },
    {
     "name": "stderr",
     "output_type": "stream",
     "text": [
      "  8%|██████▏                                                                        | 100/1272 [00:33<05:12,  3.75it/s]"
     ]
    },
    {
     "name": "stdout",
     "output_type": "stream",
     "text": [
      "(100/1272) Data: 0.075s | Batch: 0.335s | Total: 0:00:33 | ETA: 0:05:14 | Loss: 0.1408 | top1:  93.8023\n"
     ]
    },
    {
     "name": "stderr",
     "output_type": "stream",
     "text": [
      " 16%|████████████▍                                                                  | 200/1272 [01:00<04:45,  3.75it/s]"
     ]
    },
    {
     "name": "stdout",
     "output_type": "stream",
     "text": [
      "(200/1272) Data: 0.038s | Batch: 0.302s | Total: 0:01:00 | ETA: 0:04:48 | Loss: 0.1414 | top1:  93.7643\n"
     ]
    },
    {
     "name": "stderr",
     "output_type": "stream",
     "text": [
      " 24%|██████████████████▋                                                            | 300/1272 [01:27<04:23,  3.69it/s]"
     ]
    },
    {
     "name": "stdout",
     "output_type": "stream",
     "text": [
      "(300/1272) Data: 0.026s | Batch: 0.291s | Total: 0:01:27 | ETA: 0:04:19 | Loss: 0.1416 | top1:  93.7583\n"
     ]
    },
    {
     "name": "stderr",
     "output_type": "stream",
     "text": [
      " 31%|████████████████████████▊                                                      | 400/1272 [01:54<03:52,  3.75it/s]"
     ]
    },
    {
     "name": "stdout",
     "output_type": "stream",
     "text": [
      "(400/1272) Data: 0.019s | Batch: 0.286s | Total: 0:01:54 | ETA: 0:03:52 | Loss: 0.1412 | top1:  93.7805\n"
     ]
    },
    {
     "name": "stderr",
     "output_type": "stream",
     "text": [
      " 39%|███████████████████████████████                                                | 500/1272 [02:21<03:29,  3.69it/s]"
     ]
    },
    {
     "name": "stdout",
     "output_type": "stream",
     "text": [
      "(500/1272) Data: 0.016s | Batch: 0.282s | Total: 0:02:21 | ETA: 0:03:29 | Loss: 0.1410 | top1:  93.7916\n"
     ]
    },
    {
     "name": "stderr",
     "output_type": "stream",
     "text": [
      " 47%|█████████████████████████████████████▎                                         | 600/1272 [02:48<02:57,  3.78it/s]"
     ]
    },
    {
     "name": "stdout",
     "output_type": "stream",
     "text": [
      "(600/1272) Data: 0.013s | Batch: 0.280s | Total: 0:02:48 | ETA: 0:03:00 | Loss: 0.1411 | top1:  93.7891\n"
     ]
    },
    {
     "name": "stderr",
     "output_type": "stream",
     "text": [
      " 55%|███████████████████████████████████████████▍                                   | 700/1272 [03:15<02:36,  3.65it/s]"
     ]
    },
    {
     "name": "stdout",
     "output_type": "stream",
     "text": [
      "(700/1272) Data: 0.011s | Batch: 0.279s | Total: 0:03:15 | ETA: 0:02:37 | Loss: 0.1409 | top1:  93.8047\n"
     ]
    },
    {
     "name": "stderr",
     "output_type": "stream",
     "text": [
      " 63%|█████████████████████████████████████████████████▋                             | 800/1272 [03:42<02:07,  3.70it/s]"
     ]
    },
    {
     "name": "stdout",
     "output_type": "stream",
     "text": [
      "(800/1272) Data: 0.010s | Batch: 0.278s | Total: 0:03:42 | ETA: 0:02:07 | Loss: 0.1408 | top1:  93.8061\n"
     ]
    },
    {
     "name": "stderr",
     "output_type": "stream",
     "text": [
      " 71%|███████████████████████████████████████████████████████▉                       | 900/1272 [04:09<01:42,  3.63it/s]"
     ]
    },
    {
     "name": "stdout",
     "output_type": "stream",
     "text": [
      "(900/1272) Data: 0.009s | Batch: 0.277s | Total: 0:04:09 | ETA: 0:01:42 | Loss: 0.1409 | top1:  93.8058\n"
     ]
    },
    {
     "name": "stderr",
     "output_type": "stream",
     "text": [
      " 79%|█████████████████████████████████████████████████████████████▎                | 1000/1272 [04:36<01:11,  3.81it/s]"
     ]
    },
    {
     "name": "stdout",
     "output_type": "stream",
     "text": [
      "(1000/1272) Data: 0.008s | Batch: 0.276s | Total: 0:04:36 | ETA: 0:01:15 | Loss: 0.1408 | top1:  93.8076\n"
     ]
    },
    {
     "name": "stderr",
     "output_type": "stream",
     "text": [
      " 86%|███████████████████████████████████████████████████████████████████▍          | 1100/1272 [05:03<00:46,  3.66it/s]"
     ]
    },
    {
     "name": "stdout",
     "output_type": "stream",
     "text": [
      "(1100/1272) Data: 0.008s | Batch: 0.275s | Total: 0:05:03 | ETA: 0:00:48 | Loss: 0.1408 | top1:  93.8104\n"
     ]
    },
    {
     "name": "stderr",
     "output_type": "stream",
     "text": [
      " 94%|█████████████████████████████████████████████████████████████████████████▌    | 1200/1272 [05:29<00:19,  3.75it/s]"
     ]
    },
    {
     "name": "stdout",
     "output_type": "stream",
     "text": [
      "(1200/1272) Data: 0.007s | Batch: 0.275s | Total: 0:05:29 | ETA: 0:00:20 | Loss: 0.1408 | top1:  93.8131\n"
     ]
    },
    {
     "name": "stderr",
     "output_type": "stream",
     "text": [
      "100%|██████████████████████████████████████████████████████████████████████████████| 1272/1272 [05:50<00:00,  3.63it/s]\n",
      "100%|████████████████████████████████████████████████████████████████████████████████| 156/156 [00:20<00:00,  7.44it/s]\n"
     ]
    },
    {
     "name": "stdout",
     "output_type": "stream",
     "text": [
      "=> saving checkpoint 'checkpoints\\checkpoint.pth.tar'\n"
     ]
    },
    {
     "name": "stderr",
     "output_type": "stream",
     "text": [
      "  0%|                                                                                         | 0/1272 [00:00<?, ?it/s]"
     ]
    },
    {
     "name": "stdout",
     "output_type": "stream",
     "text": [
      "\n",
      "Epoch: [50 | 60] LR: 0.000000\n"
     ]
    },
    {
     "name": "stderr",
     "output_type": "stream",
     "text": [
      "  8%|██████▏                                                                        | 100/1272 [00:32<05:05,  3.84it/s]"
     ]
    },
    {
     "name": "stdout",
     "output_type": "stream",
     "text": [
      "(100/1272) Data: 0.069s | Batch: 0.327s | Total: 0:00:32 | ETA: 0:05:13 | Loss: 0.1407 | top1:  93.8332\n"
     ]
    },
    {
     "name": "stderr",
     "output_type": "stream",
     "text": [
      " 16%|████████████▍                                                                  | 200/1272 [00:59<04:46,  3.74it/s]"
     ]
    },
    {
     "name": "stdout",
     "output_type": "stream",
     "text": [
      "(200/1272) Data: 0.035s | Batch: 0.298s | Total: 0:00:59 | ETA: 0:04:50 | Loss: 0.1405 | top1:  93.8382\n"
     ]
    },
    {
     "name": "stderr",
     "output_type": "stream",
     "text": [
      " 24%|██████████████████▋                                                            | 300/1272 [01:26<04:26,  3.65it/s]"
     ]
    },
    {
     "name": "stdout",
     "output_type": "stream",
     "text": [
      "(300/1272) Data: 0.024s | Batch: 0.288s | Total: 0:01:26 | ETA: 0:04:23 | Loss: 0.1406 | top1:  93.8333\n"
     ]
    },
    {
     "name": "stderr",
     "output_type": "stream",
     "text": [
      " 31%|████████████████████████▊                                                      | 400/1272 [01:53<03:50,  3.79it/s]"
     ]
    },
    {
     "name": "stdout",
     "output_type": "stream",
     "text": [
      "(400/1272) Data: 0.018s | Batch: 0.283s | Total: 0:01:53 | ETA: 0:03:55 | Loss: 0.1408 | top1:  93.8242\n"
     ]
    },
    {
     "name": "stderr",
     "output_type": "stream",
     "text": [
      " 39%|███████████████████████████████                                                | 500/1272 [02:20<03:30,  3.67it/s]"
     ]
    },
    {
     "name": "stdout",
     "output_type": "stream",
     "text": [
      "(500/1272) Data: 0.014s | Batch: 0.281s | Total: 0:02:20 | ETA: 0:03:32 | Loss: 0.1408 | top1:  93.8263\n"
     ]
    },
    {
     "name": "stderr",
     "output_type": "stream",
     "text": [
      " 47%|█████████████████████████████████████▎                                         | 600/1272 [02:47<02:59,  3.75it/s]"
     ]
    },
    {
     "name": "stdout",
     "output_type": "stream",
     "text": [
      "(600/1272) Data: 0.012s | Batch: 0.279s | Total: 0:02:47 | ETA: 0:03:04 | Loss: 0.1408 | top1:  93.8196\n"
     ]
    },
    {
     "name": "stderr",
     "output_type": "stream",
     "text": [
      " 55%|███████████████████████████████████████████▍                                   | 700/1272 [03:14<02:35,  3.68it/s]"
     ]
    },
    {
     "name": "stdout",
     "output_type": "stream",
     "text": [
      "(700/1272) Data: 0.010s | Batch: 0.278s | Total: 0:03:14 | ETA: 0:02:34 | Loss: 0.1408 | top1:  93.8208\n"
     ]
    },
    {
     "name": "stderr",
     "output_type": "stream",
     "text": [
      " 63%|█████████████████████████████████████████████████▋                             | 800/1272 [03:41<02:08,  3.66it/s]"
     ]
    },
    {
     "name": "stdout",
     "output_type": "stream",
     "text": [
      "(800/1272) Data: 0.009s | Batch: 0.276s | Total: 0:03:41 | ETA: 0:02:10 | Loss: 0.1408 | top1:  93.8215\n"
     ]
    },
    {
     "name": "stderr",
     "output_type": "stream",
     "text": [
      " 71%|███████████████████████████████████████████████████████▉                       | 900/1272 [04:07<01:37,  3.81it/s]"
     ]
    },
    {
     "name": "stdout",
     "output_type": "stream",
     "text": [
      "(900/1272) Data: 0.008s | Batch: 0.275s | Total: 0:04:07 | ETA: 0:01:39 | Loss: 0.1408 | top1:  93.8194\n"
     ]
    },
    {
     "name": "stderr",
     "output_type": "stream",
     "text": [
      " 79%|█████████████████████████████████████████████████████████████▎                | 1000/1272 [04:34<01:12,  3.74it/s]"
     ]
    },
    {
     "name": "stdout",
     "output_type": "stream",
     "text": [
      "(1000/1272) Data: 0.008s | Batch: 0.275s | Total: 0:04:34 | ETA: 0:01:13 | Loss: 0.1409 | top1:  93.8182\n"
     ]
    },
    {
     "name": "stderr",
     "output_type": "stream",
     "text": [
      " 86%|███████████████████████████████████████████████████████████████████▍          | 1100/1272 [05:01<00:46,  3.71it/s]"
     ]
    },
    {
     "name": "stdout",
     "output_type": "stream",
     "text": [
      "(1100/1272) Data: 0.007s | Batch: 0.274s | Total: 0:05:01 | ETA: 0:00:47 | Loss: 0.1409 | top1:  93.8187\n"
     ]
    },
    {
     "name": "stderr",
     "output_type": "stream",
     "text": [
      " 94%|█████████████████████████████████████████████████████████████████████████▌    | 1200/1272 [05:28<00:18,  3.79it/s]"
     ]
    },
    {
     "name": "stdout",
     "output_type": "stream",
     "text": [
      "(1200/1272) Data: 0.006s | Batch: 0.274s | Total: 0:05:28 | ETA: 0:00:20 | Loss: 0.1408 | top1:  93.8221\n"
     ]
    },
    {
     "name": "stderr",
     "output_type": "stream",
     "text": [
      "100%|██████████████████████████████████████████████████████████████████████████████| 1272/1272 [05:48<00:00,  3.65it/s]\n",
      "100%|████████████████████████████████████████████████████████████████████████████████| 156/156 [00:21<00:00,  7.42it/s]\n"
     ]
    },
    {
     "name": "stdout",
     "output_type": "stream",
     "text": [
      "=> saving checkpoint 'checkpoints\\checkpoint.pth.tar'\n"
     ]
    },
    {
     "name": "stderr",
     "output_type": "stream",
     "text": [
      "  0%|                                                                                         | 0/1272 [00:00<?, ?it/s]"
     ]
    },
    {
     "name": "stdout",
     "output_type": "stream",
     "text": [
      "\n",
      "Epoch: [51 | 60] LR: 0.000000\n"
     ]
    },
    {
     "name": "stderr",
     "output_type": "stream",
     "text": [
      "  8%|██████▏                                                                        | 100/1272 [00:32<05:21,  3.64it/s]"
     ]
    },
    {
     "name": "stdout",
     "output_type": "stream",
     "text": [
      "(100/1272) Data: 0.069s | Batch: 0.328s | Total: 0:00:32 | ETA: 0:05:17 | Loss: 0.1408 | top1:  93.8354\n"
     ]
    },
    {
     "name": "stderr",
     "output_type": "stream",
     "text": [
      " 16%|████████████▍                                                                  | 200/1272 [00:59<04:47,  3.72it/s]"
     ]
    },
    {
     "name": "stdout",
     "output_type": "stream",
     "text": [
      "(200/1272) Data: 0.035s | Batch: 0.298s | Total: 0:00:59 | ETA: 0:04:47 | Loss: 0.1410 | top1:  93.8235\n"
     ]
    },
    {
     "name": "stderr",
     "output_type": "stream",
     "text": [
      " 24%|██████████████████▋                                                            | 300/1272 [01:26<04:18,  3.76it/s]"
     ]
    },
    {
     "name": "stdout",
     "output_type": "stream",
     "text": [
      "(300/1272) Data: 0.023s | Batch: 0.288s | Total: 0:01:26 | ETA: 0:04:22 | Loss: 0.1408 | top1:  93.8266\n"
     ]
    },
    {
     "name": "stderr",
     "output_type": "stream",
     "text": [
      " 31%|████████████████████████▊                                                      | 400/1272 [01:53<03:59,  3.64it/s]"
     ]
    },
    {
     "name": "stdout",
     "output_type": "stream",
     "text": [
      "(400/1272) Data: 0.018s | Batch: 0.283s | Total: 0:01:53 | ETA: 0:03:59 | Loss: 0.1410 | top1:  93.8169\n"
     ]
    },
    {
     "name": "stderr",
     "output_type": "stream",
     "text": [
      " 39%|███████████████████████████████                                                | 500/1272 [02:20<03:20,  3.86it/s]"
     ]
    },
    {
     "name": "stdout",
     "output_type": "stream",
     "text": [
      "(500/1272) Data: 0.014s | Batch: 0.280s | Total: 0:02:20 | ETA: 0:03:24 | Loss: 0.1409 | top1:  93.8261\n"
     ]
    },
    {
     "name": "stderr",
     "output_type": "stream",
     "text": [
      " 47%|█████████████████████████████████████▎                                         | 600/1272 [02:47<03:00,  3.71it/s]"
     ]
    },
    {
     "name": "stdout",
     "output_type": "stream",
     "text": [
      "(600/1272) Data: 0.012s | Batch: 0.279s | Total: 0:02:47 | ETA: 0:03:01 | Loss: 0.1410 | top1:  93.8196\n"
     ]
    },
    {
     "name": "stderr",
     "output_type": "stream",
     "text": [
      " 55%|███████████████████████████████████████████▍                                   | 700/1272 [03:14<02:33,  3.72it/s]"
     ]
    },
    {
     "name": "stdout",
     "output_type": "stream",
     "text": [
      "(700/1272) Data: 0.010s | Batch: 0.277s | Total: 0:03:14 | ETA: 0:02:36 | Loss: 0.1409 | top1:  93.8258\n"
     ]
    },
    {
     "name": "stderr",
     "output_type": "stream",
     "text": [
      " 63%|█████████████████████████████████████████████████▋                             | 800/1272 [03:41<02:10,  3.62it/s]"
     ]
    },
    {
     "name": "stdout",
     "output_type": "stream",
     "text": [
      "(800/1272) Data: 0.009s | Batch: 0.276s | Total: 0:03:41 | ETA: 0:02:18 | Loss: 0.1409 | top1:  93.8207\n"
     ]
    },
    {
     "name": "stderr",
     "output_type": "stream",
     "text": [
      " 71%|███████████████████████████████████████████████████████▉                       | 900/1272 [04:08<01:42,  3.63it/s]"
     ]
    },
    {
     "name": "stdout",
     "output_type": "stream",
     "text": [
      "(900/1272) Data: 0.008s | Batch: 0.276s | Total: 0:04:08 | ETA: 0:01:40 | Loss: 0.1409 | top1:  93.8164\n"
     ]
    },
    {
     "name": "stderr",
     "output_type": "stream",
     "text": [
      " 79%|█████████████████████████████████████████████████████████████▎                | 1000/1272 [04:34<01:11,  3.83it/s]"
     ]
    },
    {
     "name": "stdout",
     "output_type": "stream",
     "text": [
      "(1000/1272) Data: 0.008s | Batch: 0.275s | Total: 0:04:34 | ETA: 0:01:13 | Loss: 0.1409 | top1:  93.8196\n"
     ]
    },
    {
     "name": "stderr",
     "output_type": "stream",
     "text": [
      " 86%|███████████████████████████████████████████████████████████████████▍          | 1100/1272 [05:01<00:47,  3.65it/s]"
     ]
    },
    {
     "name": "stdout",
     "output_type": "stream",
     "text": [
      "(1100/1272) Data: 0.007s | Batch: 0.274s | Total: 0:05:01 | ETA: 0:00:47 | Loss: 0.1409 | top1:  93.8210\n"
     ]
    },
    {
     "name": "stderr",
     "output_type": "stream",
     "text": [
      " 94%|█████████████████████████████████████████████████████████████████████████▌    | 1200/1272 [05:28<00:19,  3.70it/s]"
     ]
    },
    {
     "name": "stdout",
     "output_type": "stream",
     "text": [
      "(1200/1272) Data: 0.006s | Batch: 0.274s | Total: 0:05:28 | ETA: 0:00:20 | Loss: 0.1408 | top1:  93.8234\n"
     ]
    },
    {
     "name": "stderr",
     "output_type": "stream",
     "text": [
      "100%|██████████████████████████████████████████████████████████████████████████████| 1272/1272 [05:48<00:00,  3.64it/s]\n",
      "100%|████████████████████████████████████████████████████████████████████████████████| 156/156 [00:21<00:00,  7.40it/s]\n"
     ]
    },
    {
     "name": "stdout",
     "output_type": "stream",
     "text": [
      "=> saving checkpoint 'checkpoints\\checkpoint.pth.tar'\n"
     ]
    },
    {
     "name": "stderr",
     "output_type": "stream",
     "text": [
      "  0%|                                                                                         | 0/1272 [00:00<?, ?it/s]"
     ]
    },
    {
     "name": "stdout",
     "output_type": "stream",
     "text": [
      "\n",
      "Epoch: [52 | 60] LR: 0.000000\n"
     ]
    },
    {
     "name": "stderr",
     "output_type": "stream",
     "text": [
      "  8%|██████▏                                                                        | 100/1272 [00:32<05:07,  3.81it/s]"
     ]
    },
    {
     "name": "stdout",
     "output_type": "stream",
     "text": [
      "(100/1272) Data: 0.068s | Batch: 0.327s | Total: 0:00:32 | ETA: 0:05:12 | Loss: 0.1413 | top1:  93.8045\n"
     ]
    },
    {
     "name": "stderr",
     "output_type": "stream",
     "text": [
      " 16%|████████████▍                                                                  | 200/1272 [00:59<04:50,  3.69it/s]"
     ]
    },
    {
     "name": "stdout",
     "output_type": "stream",
     "text": [
      "(200/1272) Data: 0.035s | Batch: 0.298s | Total: 0:00:59 | ETA: 0:04:51 | Loss: 0.1415 | top1:  93.7849\n"
     ]
    },
    {
     "name": "stderr",
     "output_type": "stream",
     "text": [
      " 24%|██████████████████▋                                                            | 300/1272 [01:26<04:21,  3.72it/s]"
     ]
    },
    {
     "name": "stdout",
     "output_type": "stream",
     "text": [
      "(300/1272) Data: 0.023s | Batch: 0.288s | Total: 0:01:26 | ETA: 0:04:26 | Loss: 0.1413 | top1:  93.7948\n"
     ]
    },
    {
     "name": "stderr",
     "output_type": "stream",
     "text": [
      " 31%|████████████████████████▊                                                      | 400/1272 [01:53<03:49,  3.79it/s]"
     ]
    },
    {
     "name": "stdout",
     "output_type": "stream",
     "text": [
      "(400/1272) Data: 0.018s | Batch: 0.283s | Total: 0:01:53 | ETA: 0:03:51 | Loss: 0.1409 | top1:  93.8010\n"
     ]
    },
    {
     "name": "stderr",
     "output_type": "stream",
     "text": [
      " 39%|███████████████████████████████                                                | 500/1272 [02:20<03:35,  3.59it/s]"
     ]
    },
    {
     "name": "stdout",
     "output_type": "stream",
     "text": [
      "(500/1272) Data: 0.014s | Batch: 0.280s | Total: 0:02:20 | ETA: 0:03:26 | Loss: 0.1408 | top1:  93.8100\n"
     ]
    },
    {
     "name": "stderr",
     "output_type": "stream",
     "text": [
      " 47%|█████████████████████████████████████▎                                         | 600/1272 [02:47<03:02,  3.69it/s]"
     ]
    },
    {
     "name": "stdout",
     "output_type": "stream",
     "text": [
      "(600/1272) Data: 0.012s | Batch: 0.278s | Total: 0:02:47 | ETA: 0:02:57 | Loss: 0.1409 | top1:  93.8118\n"
     ]
    },
    {
     "name": "stderr",
     "output_type": "stream",
     "text": [
      " 55%|███████████████████████████████████████████▍                                   | 700/1272 [03:13<02:37,  3.62it/s]"
     ]
    },
    {
     "name": "stdout",
     "output_type": "stream",
     "text": [
      "(700/1272) Data: 0.010s | Batch: 0.277s | Total: 0:03:13 | ETA: 0:02:33 | Loss: 0.1408 | top1:  93.8121\n"
     ]
    },
    {
     "name": "stderr",
     "output_type": "stream",
     "text": [
      " 63%|█████████████████████████████████████████████████▋                             | 800/1272 [03:40<02:10,  3.61it/s]"
     ]
    },
    {
     "name": "stdout",
     "output_type": "stream",
     "text": [
      "(800/1272) Data: 0.009s | Batch: 0.276s | Total: 0:03:40 | ETA: 0:02:10 | Loss: 0.1409 | top1:  93.8069\n"
     ]
    },
    {
     "name": "stderr",
     "output_type": "stream",
     "text": [
      " 71%|███████████████████████████████████████████████████████▉                       | 900/1272 [04:07<01:40,  3.69it/s]"
     ]
    },
    {
     "name": "stdout",
     "output_type": "stream",
     "text": [
      "(900/1272) Data: 0.008s | Batch: 0.275s | Total: 0:04:07 | ETA: 0:01:40 | Loss: 0.1408 | top1:  93.8080\n"
     ]
    },
    {
     "name": "stderr",
     "output_type": "stream",
     "text": [
      " 79%|█████████████████████████████████████████████████████████████▎                | 1000/1272 [04:34<01:14,  3.65it/s]"
     ]
    },
    {
     "name": "stdout",
     "output_type": "stream",
     "text": [
      "(1000/1272) Data: 0.008s | Batch: 0.274s | Total: 0:04:34 | ETA: 0:01:16 | Loss: 0.1408 | top1:  93.8118\n"
     ]
    },
    {
     "name": "stderr",
     "output_type": "stream",
     "text": [
      " 86%|███████████████████████████████████████████████████████████████████▍          | 1100/1272 [05:01<00:46,  3.68it/s]"
     ]
    },
    {
     "name": "stdout",
     "output_type": "stream",
     "text": [
      "(1100/1272) Data: 0.007s | Batch: 0.274s | Total: 0:05:01 | ETA: 0:00:48 | Loss: 0.1408 | top1:  93.8166\n"
     ]
    },
    {
     "name": "stderr",
     "output_type": "stream",
     "text": [
      " 94%|█████████████████████████████████████████████████████████████████████████▌    | 1200/1272 [05:28<00:18,  3.79it/s]"
     ]
    },
    {
     "name": "stdout",
     "output_type": "stream",
     "text": [
      "(1200/1272) Data: 0.006s | Batch: 0.273s | Total: 0:05:28 | ETA: 0:00:20 | Loss: 0.1408 | top1:  93.8148\n"
     ]
    },
    {
     "name": "stderr",
     "output_type": "stream",
     "text": [
      "100%|██████████████████████████████████████████████████████████████████████████████| 1272/1272 [05:48<00:00,  3.65it/s]\n",
      "100%|████████████████████████████████████████████████████████████████████████████████| 156/156 [00:20<00:00,  7.58it/s]\n"
     ]
    },
    {
     "name": "stdout",
     "output_type": "stream",
     "text": [
      "=> saving checkpoint 'checkpoints\\checkpoint.pth.tar'\n"
     ]
    },
    {
     "name": "stderr",
     "output_type": "stream",
     "text": [
      "  0%|                                                                                         | 0/1272 [00:00<?, ?it/s]"
     ]
    },
    {
     "name": "stdout",
     "output_type": "stream",
     "text": [
      "\n",
      "Epoch: [53 | 60] LR: 0.000000\n"
     ]
    },
    {
     "name": "stderr",
     "output_type": "stream",
     "text": [
      "  8%|██████▏                                                                        | 100/1272 [00:32<05:13,  3.74it/s]"
     ]
    },
    {
     "name": "stdout",
     "output_type": "stream",
     "text": [
      "(100/1272) Data: 0.067s | Batch: 0.325s | Total: 0:00:32 | ETA: 0:05:12 | Loss: 0.1405 | top1:  93.8287\n"
     ]
    },
    {
     "name": "stderr",
     "output_type": "stream",
     "text": [
      " 16%|████████████▍                                                                  | 200/1272 [00:59<04:42,  3.80it/s]"
     ]
    },
    {
     "name": "stdout",
     "output_type": "stream",
     "text": [
      "(200/1272) Data: 0.034s | Batch: 0.295s | Total: 0:00:59 | ETA: 0:04:45 | Loss: 0.1407 | top1:  93.8274\n"
     ]
    },
    {
     "name": "stderr",
     "output_type": "stream",
     "text": [
      " 24%|██████████████████▋                                                            | 300/1272 [01:25<04:16,  3.78it/s]"
     ]
    },
    {
     "name": "stdout",
     "output_type": "stream",
     "text": [
      "(300/1272) Data: 0.023s | Batch: 0.286s | Total: 0:01:25 | ETA: 0:04:22 | Loss: 0.1408 | top1:  93.8167\n"
     ]
    },
    {
     "name": "stderr",
     "output_type": "stream",
     "text": [
      " 31%|████████████████████████▊                                                      | 400/1272 [01:52<03:56,  3.69it/s]"
     ]
    },
    {
     "name": "stdout",
     "output_type": "stream",
     "text": [
      "(400/1272) Data: 0.017s | Batch: 0.281s | Total: 0:01:52 | ETA: 0:03:55 | Loss: 0.1407 | top1:  93.8248\n"
     ]
    },
    {
     "name": "stderr",
     "output_type": "stream",
     "text": [
      " 39%|███████████████████████████████                                                | 500/1272 [02:19<03:27,  3.73it/s]"
     ]
    },
    {
     "name": "stdout",
     "output_type": "stream",
     "text": [
      "(500/1272) Data: 0.014s | Batch: 0.279s | Total: 0:02:19 | ETA: 0:03:28 | Loss: 0.1408 | top1:  93.8108\n"
     ]
    },
    {
     "name": "stderr",
     "output_type": "stream",
     "text": [
      " 47%|█████████████████████████████████████▎                                         | 600/1272 [02:46<02:56,  3.81it/s]"
     ]
    },
    {
     "name": "stdout",
     "output_type": "stream",
     "text": [
      "(600/1272) Data: 0.012s | Batch: 0.277s | Total: 0:02:46 | ETA: 0:03:00 | Loss: 0.1407 | top1:  93.8159\n"
     ]
    },
    {
     "name": "stderr",
     "output_type": "stream",
     "text": [
      " 55%|███████████████████████████████████████████▍                                   | 700/1272 [03:13<02:33,  3.72it/s]"
     ]
    },
    {
     "name": "stdout",
     "output_type": "stream",
     "text": [
      "(700/1272) Data: 0.010s | Batch: 0.276s | Total: 0:03:13 | ETA: 0:02:37 | Loss: 0.1408 | top1:  93.8172\n"
     ]
    },
    {
     "name": "stderr",
     "output_type": "stream",
     "text": [
      " 63%|█████████████████████████████████████████████████▋                             | 800/1272 [03:40<02:04,  3.79it/s]"
     ]
    },
    {
     "name": "stdout",
     "output_type": "stream",
     "text": [
      "(800/1272) Data: 0.009s | Batch: 0.275s | Total: 0:03:40 | ETA: 0:02:07 | Loss: 0.1406 | top1:  93.8226\n"
     ]
    },
    {
     "name": "stderr",
     "output_type": "stream",
     "text": [
      " 71%|███████████████████████████████████████████████████████▉                       | 900/1272 [04:06<01:40,  3.70it/s]"
     ]
    },
    {
     "name": "stdout",
     "output_type": "stream",
     "text": [
      "(900/1272) Data: 0.008s | Batch: 0.274s | Total: 0:04:06 | ETA: 0:01:42 | Loss: 0.1406 | top1:  93.8262\n"
     ]
    },
    {
     "name": "stderr",
     "output_type": "stream",
     "text": [
      " 79%|█████████████████████████████████████████████████████████████▎                | 1000/1272 [04:33<01:13,  3.71it/s]"
     ]
    },
    {
     "name": "stdout",
     "output_type": "stream",
     "text": [
      "(1000/1272) Data: 0.007s | Batch: 0.274s | Total: 0:04:33 | ETA: 0:01:14 | Loss: 0.1406 | top1:  93.8225\n"
     ]
    },
    {
     "name": "stderr",
     "output_type": "stream",
     "text": [
      " 86%|███████████████████████████████████████████████████████████████████▍          | 1100/1272 [05:00<00:46,  3.68it/s]"
     ]
    },
    {
     "name": "stdout",
     "output_type": "stream",
     "text": [
      "(1100/1272) Data: 0.007s | Batch: 0.273s | Total: 0:05:00 | ETA: 0:00:47 | Loss: 0.1406 | top1:  93.8273\n"
     ]
    },
    {
     "name": "stderr",
     "output_type": "stream",
     "text": [
      " 94%|█████████████████████████████████████████████████████████████████████████▌    | 1200/1272 [05:27<00:19,  3.68it/s]"
     ]
    },
    {
     "name": "stdout",
     "output_type": "stream",
     "text": [
      "(1200/1272) Data: 0.006s | Batch: 0.273s | Total: 0:05:27 | ETA: 0:00:20 | Loss: 0.1406 | top1:  93.8237\n"
     ]
    },
    {
     "name": "stderr",
     "output_type": "stream",
     "text": [
      "100%|██████████████████████████████████████████████████████████████████████████████| 1272/1272 [05:47<00:00,  3.66it/s]\n",
      "100%|████████████████████████████████████████████████████████████████████████████████| 156/156 [00:20<00:00,  7.53it/s]\n"
     ]
    },
    {
     "name": "stdout",
     "output_type": "stream",
     "text": [
      "=> saving checkpoint 'checkpoints\\checkpoint.pth.tar'\n"
     ]
    },
    {
     "name": "stderr",
     "output_type": "stream",
     "text": [
      "  0%|                                                                                         | 0/1272 [00:00<?, ?it/s]"
     ]
    },
    {
     "name": "stdout",
     "output_type": "stream",
     "text": [
      "\n",
      "Epoch: [54 | 60] LR: 0.000000\n"
     ]
    },
    {
     "name": "stderr",
     "output_type": "stream",
     "text": [
      "  8%|██████▏                                                                        | 100/1272 [00:32<05:10,  3.77it/s]"
     ]
    },
    {
     "name": "stdout",
     "output_type": "stream",
     "text": [
      "(100/1272) Data: 0.069s | Batch: 0.328s | Total: 0:00:32 | ETA: 0:05:08 | Loss: 0.1408 | top1:  93.8406\n"
     ]
    },
    {
     "name": "stderr",
     "output_type": "stream",
     "text": [
      " 16%|████████████▍                                                                  | 200/1272 [00:59<04:48,  3.72it/s]"
     ]
    },
    {
     "name": "stdout",
     "output_type": "stream",
     "text": [
      "(200/1272) Data: 0.035s | Batch: 0.298s | Total: 0:00:59 | ETA: 0:04:53 | Loss: 0.1406 | top1:  93.8427\n"
     ]
    },
    {
     "name": "stderr",
     "output_type": "stream",
     "text": [
      " 24%|██████████████████▋                                                            | 300/1272 [01:26<04:18,  3.75it/s]"
     ]
    },
    {
     "name": "stdout",
     "output_type": "stream",
     "text": [
      "(300/1272) Data: 0.024s | Batch: 0.288s | Total: 0:01:26 | ETA: 0:04:20 | Loss: 0.1406 | top1:  93.8421\n"
     ]
    },
    {
     "name": "stderr",
     "output_type": "stream",
     "text": [
      " 31%|████████████████████████▊                                                      | 400/1272 [01:53<03:59,  3.63it/s]"
     ]
    },
    {
     "name": "stdout",
     "output_type": "stream",
     "text": [
      "(400/1272) Data: 0.018s | Batch: 0.283s | Total: 0:01:53 | ETA: 0:03:58 | Loss: 0.1407 | top1:  93.8340\n"
     ]
    },
    {
     "name": "stderr",
     "output_type": "stream",
     "text": [
      " 39%|███████████████████████████████                                                | 500/1272 [02:20<03:25,  3.75it/s]"
     ]
    },
    {
     "name": "stdout",
     "output_type": "stream",
     "text": [
      "(500/1272) Data: 0.014s | Batch: 0.281s | Total: 0:02:20 | ETA: 0:03:27 | Loss: 0.1406 | top1:  93.8458\n"
     ]
    },
    {
     "name": "stderr",
     "output_type": "stream",
     "text": [
      " 47%|█████████████████████████████████████▎                                         | 600/1272 [02:47<02:57,  3.79it/s]"
     ]
    },
    {
     "name": "stdout",
     "output_type": "stream",
     "text": [
      "(600/1272) Data: 0.012s | Batch: 0.278s | Total: 0:02:47 | ETA: 0:02:59 | Loss: 0.1407 | top1:  93.8428\n"
     ]
    },
    {
     "name": "stderr",
     "output_type": "stream",
     "text": [
      " 55%|███████████████████████████████████████████▍                                   | 700/1272 [03:14<02:30,  3.80it/s]"
     ]
    },
    {
     "name": "stdout",
     "output_type": "stream",
     "text": [
      "(700/1272) Data: 0.011s | Batch: 0.277s | Total: 0:03:14 | ETA: 0:02:42 | Loss: 0.1408 | top1:  93.8313\n"
     ]
    },
    {
     "name": "stderr",
     "output_type": "stream",
     "text": [
      " 63%|█████████████████████████████████████████████████▋                             | 800/1272 [03:40<02:08,  3.69it/s]"
     ]
    },
    {
     "name": "stdout",
     "output_type": "stream",
     "text": [
      "(800/1272) Data: 0.009s | Batch: 0.276s | Total: 0:03:40 | ETA: 0:02:08 | Loss: 0.1408 | top1:  93.8297\n"
     ]
    },
    {
     "name": "stderr",
     "output_type": "stream",
     "text": [
      " 71%|███████████████████████████████████████████████████████▉                       | 900/1272 [04:07<01:40,  3.71it/s]"
     ]
    },
    {
     "name": "stdout",
     "output_type": "stream",
     "text": [
      "(900/1272) Data: 0.008s | Batch: 0.275s | Total: 0:04:07 | ETA: 0:01:41 | Loss: 0.1408 | top1:  93.8278\n"
     ]
    },
    {
     "name": "stderr",
     "output_type": "stream",
     "text": [
      " 79%|█████████████████████████████████████████████████████████████▎                | 1000/1272 [04:34<01:12,  3.76it/s]"
     ]
    },
    {
     "name": "stdout",
     "output_type": "stream",
     "text": [
      "(1000/1272) Data: 0.008s | Batch: 0.275s | Total: 0:04:34 | ETA: 0:01:14 | Loss: 0.1408 | top1:  93.8263\n"
     ]
    },
    {
     "name": "stderr",
     "output_type": "stream",
     "text": [
      " 86%|███████████████████████████████████████████████████████████████████▍          | 1100/1272 [05:01<00:45,  3.75it/s]"
     ]
    },
    {
     "name": "stdout",
     "output_type": "stream",
     "text": [
      "(1100/1272) Data: 0.007s | Batch: 0.274s | Total: 0:05:01 | ETA: 0:00:47 | Loss: 0.1408 | top1:  93.8284\n"
     ]
    },
    {
     "name": "stderr",
     "output_type": "stream",
     "text": [
      " 94%|█████████████████████████████████████████████████████████████████████████▌    | 1200/1272 [05:28<00:19,  3.78it/s]"
     ]
    },
    {
     "name": "stdout",
     "output_type": "stream",
     "text": [
      "(1200/1272) Data: 0.006s | Batch: 0.274s | Total: 0:05:28 | ETA: 0:00:20 | Loss: 0.1407 | top1:  93.8295\n"
     ]
    },
    {
     "name": "stderr",
     "output_type": "stream",
     "text": [
      "100%|██████████████████████████████████████████████████████████████████████████████| 1272/1272 [05:48<00:00,  3.65it/s]\n",
      "100%|████████████████████████████████████████████████████████████████████████████████| 156/156 [00:21<00:00,  7.39it/s]\n"
     ]
    },
    {
     "name": "stdout",
     "output_type": "stream",
     "text": [
      "=> saving checkpoint 'checkpoints\\checkpoint.pth.tar'\n"
     ]
    },
    {
     "name": "stderr",
     "output_type": "stream",
     "text": [
      "  0%|                                                                                         | 0/1272 [00:00<?, ?it/s]"
     ]
    },
    {
     "name": "stdout",
     "output_type": "stream",
     "text": [
      "\n",
      "Epoch: [55 | 60] LR: 0.000000\n"
     ]
    },
    {
     "name": "stderr",
     "output_type": "stream",
     "text": [
      "  8%|██████▏                                                                        | 100/1272 [00:33<05:09,  3.78it/s]"
     ]
    },
    {
     "name": "stdout",
     "output_type": "stream",
     "text": [
      "(100/1272) Data: 0.073s | Batch: 0.332s | Total: 0:00:33 | ETA: 0:05:13 | Loss: 0.1408 | top1:  93.8170\n"
     ]
    },
    {
     "name": "stderr",
     "output_type": "stream",
     "text": [
      " 16%|████████████▍                                                                  | 200/1272 [01:00<04:55,  3.62it/s]"
     ]
    },
    {
     "name": "stdout",
     "output_type": "stream",
     "text": [
      "(200/1272) Data: 0.037s | Batch: 0.300s | Total: 0:01:00 | ETA: 0:04:51 | Loss: 0.1411 | top1:  93.7864\n"
     ]
    },
    {
     "name": "stderr",
     "output_type": "stream",
     "text": [
      " 24%|██████████████████▋                                                            | 300/1272 [01:26<04:19,  3.74it/s]"
     ]
    },
    {
     "name": "stdout",
     "output_type": "stream",
     "text": [
      "(300/1272) Data: 0.025s | Batch: 0.290s | Total: 0:01:26 | ETA: 0:04:23 | Loss: 0.1407 | top1:  93.8107\n"
     ]
    },
    {
     "name": "stderr",
     "output_type": "stream",
     "text": [
      " 31%|████████████████████████▊                                                      | 400/1272 [01:53<03:48,  3.82it/s]"
     ]
    },
    {
     "name": "stdout",
     "output_type": "stream",
     "text": [
      "(400/1272) Data: 0.019s | Batch: 0.284s | Total: 0:01:53 | ETA: 0:03:56 | Loss: 0.1407 | top1:  93.8194\n"
     ]
    },
    {
     "name": "stderr",
     "output_type": "stream",
     "text": [
      " 39%|███████████████████████████████                                                | 500/1272 [02:20<03:23,  3.80it/s]"
     ]
    },
    {
     "name": "stdout",
     "output_type": "stream",
     "text": [
      "(500/1272) Data: 0.015s | Batch: 0.281s | Total: 0:02:20 | ETA: 0:03:24 | Loss: 0.1407 | top1:  93.8224\n"
     ]
    },
    {
     "name": "stderr",
     "output_type": "stream",
     "text": [
      " 47%|█████████████████████████████████████▎                                         | 600/1272 [02:47<03:00,  3.73it/s]"
     ]
    },
    {
     "name": "stdout",
     "output_type": "stream",
     "text": [
      "(600/1272) Data: 0.013s | Batch: 0.279s | Total: 0:02:47 | ETA: 0:03:03 | Loss: 0.1407 | top1:  93.8243\n"
     ]
    },
    {
     "name": "stderr",
     "output_type": "stream",
     "text": [
      " 55%|███████████████████████████████████████████▍                                   | 700/1272 [03:14<02:33,  3.73it/s]"
     ]
    },
    {
     "name": "stdout",
     "output_type": "stream",
     "text": [
      "(700/1272) Data: 0.011s | Batch: 0.278s | Total: 0:03:14 | ETA: 0:02:36 | Loss: 0.1407 | top1:  93.8254\n"
     ]
    },
    {
     "name": "stderr",
     "output_type": "stream",
     "text": [
      " 63%|█████████████████████████████████████████████████▋                             | 800/1272 [03:41<02:06,  3.72it/s]"
     ]
    },
    {
     "name": "stdout",
     "output_type": "stream",
     "text": [
      "(800/1272) Data: 0.010s | Batch: 0.277s | Total: 0:03:41 | ETA: 0:02:08 | Loss: 0.1406 | top1:  93.8330\n"
     ]
    },
    {
     "name": "stderr",
     "output_type": "stream",
     "text": [
      " 71%|███████████████████████████████████████████████████████▉                       | 900/1272 [04:08<01:41,  3.66it/s]"
     ]
    },
    {
     "name": "stdout",
     "output_type": "stream",
     "text": [
      "(900/1272) Data: 0.009s | Batch: 0.276s | Total: 0:04:08 | ETA: 0:01:44 | Loss: 0.1407 | top1:  93.8289\n"
     ]
    },
    {
     "name": "stderr",
     "output_type": "stream",
     "text": [
      " 79%|█████████████████████████████████████████████████████████████▎                | 1000/1272 [04:34<01:11,  3.79it/s]"
     ]
    },
    {
     "name": "stdout",
     "output_type": "stream",
     "text": [
      "(1000/1272) Data: 0.008s | Batch: 0.275s | Total: 0:04:34 | ETA: 0:01:13 | Loss: 0.1407 | top1:  93.8287\n"
     ]
    },
    {
     "name": "stderr",
     "output_type": "stream",
     "text": [
      " 86%|███████████████████████████████████████████████████████████████████▍          | 1100/1272 [05:01<00:46,  3.73it/s]"
     ]
    },
    {
     "name": "stdout",
     "output_type": "stream",
     "text": [
      "(1100/1272) Data: 0.007s | Batch: 0.274s | Total: 0:05:01 | ETA: 0:00:48 | Loss: 0.1407 | top1:  93.8295\n"
     ]
    },
    {
     "name": "stderr",
     "output_type": "stream",
     "text": [
      " 94%|█████████████████████████████████████████████████████████████████████████▌    | 1200/1272 [05:28<00:19,  3.63it/s]"
     ]
    },
    {
     "name": "stdout",
     "output_type": "stream",
     "text": [
      "(1200/1272) Data: 0.007s | Batch: 0.274s | Total: 0:05:28 | ETA: 0:00:20 | Loss: 0.1408 | top1:  93.8255\n"
     ]
    },
    {
     "name": "stderr",
     "output_type": "stream",
     "text": [
      "100%|██████████████████████████████████████████████████████████████████████████████| 1272/1272 [05:48<00:00,  3.65it/s]\n",
      "100%|████████████████████████████████████████████████████████████████████████████████| 156/156 [00:20<00:00,  7.47it/s]\n"
     ]
    },
    {
     "name": "stdout",
     "output_type": "stream",
     "text": [
      "=> saving checkpoint 'checkpoints\\checkpoint.pth.tar'\n"
     ]
    },
    {
     "name": "stderr",
     "output_type": "stream",
     "text": [
      "  0%|                                                                                         | 0/1272 [00:00<?, ?it/s]"
     ]
    },
    {
     "name": "stdout",
     "output_type": "stream",
     "text": [
      "\n",
      "Epoch: [56 | 60] LR: 0.000000\n"
     ]
    },
    {
     "name": "stderr",
     "output_type": "stream",
     "text": [
      "  8%|██████▏                                                                        | 100/1272 [00:32<05:04,  3.84it/s]"
     ]
    },
    {
     "name": "stdout",
     "output_type": "stream",
     "text": [
      "(100/1272) Data: 0.071s | Batch: 0.328s | Total: 0:00:32 | ETA: 0:05:09 | Loss: 0.1406 | top1:  93.8438\n"
     ]
    },
    {
     "name": "stderr",
     "output_type": "stream",
     "text": [
      " 16%|████████████▍                                                                  | 200/1272 [00:59<04:41,  3.81it/s]"
     ]
    },
    {
     "name": "stdout",
     "output_type": "stream",
     "text": [
      "(200/1272) Data: 0.036s | Batch: 0.298s | Total: 0:00:59 | ETA: 0:04:52 | Loss: 0.1409 | top1:  93.8117\n"
     ]
    },
    {
     "name": "stderr",
     "output_type": "stream",
     "text": [
      " 24%|██████████████████▋                                                            | 300/1272 [01:29<05:41,  2.84it/s]"
     ]
    },
    {
     "name": "stdout",
     "output_type": "stream",
     "text": [
      "(300/1272) Data: 0.024s | Batch: 0.299s | Total: 0:01:29 | ETA: 0:05:45 | Loss: 0.1408 | top1:  93.8209\n"
     ]
    },
    {
     "name": "stderr",
     "output_type": "stream",
     "text": [
      " 31%|████████████████████████▊                                                      | 400/1272 [01:58<03:59,  3.64it/s]"
     ]
    },
    {
     "name": "stdout",
     "output_type": "stream",
     "text": [
      "(400/1272) Data: 0.018s | Batch: 0.296s | Total: 0:01:58 | ETA: 0:03:58 | Loss: 0.1406 | top1:  93.8330\n"
     ]
    },
    {
     "name": "stderr",
     "output_type": "stream",
     "text": [
      " 39%|███████████████████████████████                                                | 500/1272 [02:25<03:30,  3.67it/s]"
     ]
    },
    {
     "name": "stdout",
     "output_type": "stream",
     "text": [
      "(500/1272) Data: 0.015s | Batch: 0.291s | Total: 0:02:25 | ETA: 0:03:30 | Loss: 0.1407 | top1:  93.8284\n"
     ]
    },
    {
     "name": "stderr",
     "output_type": "stream",
     "text": [
      " 47%|█████████████████████████████████████▎                                         | 600/1272 [02:53<03:03,  3.66it/s]"
     ]
    },
    {
     "name": "stdout",
     "output_type": "stream",
     "text": [
      "(600/1272) Data: 0.013s | Batch: 0.289s | Total: 0:02:53 | ETA: 0:03:08 | Loss: 0.1407 | top1:  93.8283\n"
     ]
    },
    {
     "name": "stderr",
     "output_type": "stream",
     "text": [
      " 55%|███████████████████████████████████████████▍                                   | 700/1272 [03:20<02:34,  3.70it/s]"
     ]
    },
    {
     "name": "stdout",
     "output_type": "stream",
     "text": [
      "(700/1272) Data: 0.011s | Batch: 0.287s | Total: 0:03:20 | ETA: 0:02:38 | Loss: 0.1406 | top1:  93.8315\n"
     ]
    },
    {
     "name": "stderr",
     "output_type": "stream",
     "text": [
      " 63%|█████████████████████████████████████████████████▋                             | 800/1272 [03:48<02:07,  3.69it/s]"
     ]
    },
    {
     "name": "stdout",
     "output_type": "stream",
     "text": [
      "(800/1272) Data: 0.010s | Batch: 0.286s | Total: 0:03:48 | ETA: 0:02:09 | Loss: 0.1406 | top1:  93.8292\n"
     ]
    },
    {
     "name": "stderr",
     "output_type": "stream",
     "text": [
      " 71%|███████████████████████████████████████████████████████▉                       | 900/1272 [04:16<01:47,  3.47it/s]"
     ]
    },
    {
     "name": "stdout",
     "output_type": "stream",
     "text": [
      "(900/1272) Data: 0.009s | Batch: 0.285s | Total: 0:04:16 | ETA: 0:01:43 | Loss: 0.1407 | top1:  93.8300\n"
     ]
    },
    {
     "name": "stderr",
     "output_type": "stream",
     "text": [
      " 79%|█████████████████████████████████████████████████████████████▎                | 1000/1272 [04:45<01:20,  3.38it/s]"
     ]
    },
    {
     "name": "stdout",
     "output_type": "stream",
     "text": [
      "(1000/1272) Data: 0.008s | Batch: 0.285s | Total: 0:04:45 | ETA: 0:01:20 | Loss: 0.1406 | top1:  93.8335\n"
     ]
    },
    {
     "name": "stderr",
     "output_type": "stream",
     "text": [
      " 86%|███████████████████████████████████████████████████████████████████▍          | 1100/1272 [05:16<00:52,  3.27it/s]"
     ]
    },
    {
     "name": "stdout",
     "output_type": "stream",
     "text": [
      "(1100/1272) Data: 0.007s | Batch: 0.288s | Total: 0:05:16 | ETA: 0:00:55 | Loss: 0.1407 | top1:  93.8281\n"
     ]
    },
    {
     "name": "stderr",
     "output_type": "stream",
     "text": [
      " 94%|█████████████████████████████████████████████████████████████████████████▌    | 1200/1272 [05:47<00:21,  3.29it/s]"
     ]
    },
    {
     "name": "stdout",
     "output_type": "stream",
     "text": [
      "(1200/1272) Data: 0.007s | Batch: 0.289s | Total: 0:05:47 | ETA: 0:00:23 | Loss: 0.1407 | top1:  93.8270\n"
     ]
    },
    {
     "name": "stderr",
     "output_type": "stream",
     "text": [
      "100%|██████████████████████████████████████████████████████████████████████████████| 1272/1272 [06:09<00:00,  3.45it/s]\n",
      "100%|████████████████████████████████████████████████████████████████████████████████| 156/156 [00:22<00:00,  7.03it/s]\n"
     ]
    },
    {
     "name": "stdout",
     "output_type": "stream",
     "text": [
      "=> saving checkpoint 'checkpoints\\checkpoint.pth.tar'\n"
     ]
    },
    {
     "name": "stderr",
     "output_type": "stream",
     "text": [
      "  0%|                                                                                         | 0/1272 [00:00<?, ?it/s]"
     ]
    },
    {
     "name": "stdout",
     "output_type": "stream",
     "text": [
      "\n",
      "Epoch: [57 | 60] LR: 0.000000\n"
     ]
    },
    {
     "name": "stderr",
     "output_type": "stream",
     "text": [
      "  8%|██████▏                                                                        | 100/1272 [00:34<05:35,  3.49it/s]"
     ]
    },
    {
     "name": "stdout",
     "output_type": "stream",
     "text": [
      "(100/1272) Data: 0.073s | Batch: 0.344s | Total: 0:00:34 | ETA: 0:05:30 | Loss: 0.1407 | top1:  93.8217\n"
     ]
    },
    {
     "name": "stderr",
     "output_type": "stream",
     "text": [
      " 16%|████████████▍                                                                  | 200/1272 [01:02<04:59,  3.58it/s]"
     ]
    },
    {
     "name": "stdout",
     "output_type": "stream",
     "text": [
      "(200/1272) Data: 0.037s | Batch: 0.313s | Total: 0:01:02 | ETA: 0:04:59 | Loss: 0.1409 | top1:  93.8226\n"
     ]
    },
    {
     "name": "stderr",
     "output_type": "stream",
     "text": [
      " 24%|██████████████████▋                                                            | 300/1272 [01:30<04:33,  3.55it/s]"
     ]
    },
    {
     "name": "stdout",
     "output_type": "stream",
     "text": [
      "(300/1272) Data: 0.025s | Batch: 0.302s | Total: 0:01:30 | ETA: 0:04:31 | Loss: 0.1407 | top1:  93.8322\n"
     ]
    },
    {
     "name": "stderr",
     "output_type": "stream",
     "text": [
      " 31%|████████████████████████▊                                                      | 400/1272 [01:58<04:02,  3.59it/s]"
     ]
    },
    {
     "name": "stdout",
     "output_type": "stream",
     "text": [
      "(400/1272) Data: 0.019s | Batch: 0.297s | Total: 0:01:58 | ETA: 0:04:05 | Loss: 0.1405 | top1:  93.8306\n"
     ]
    },
    {
     "name": "stderr",
     "output_type": "stream",
     "text": [
      " 39%|███████████████████████████████                                                | 500/1272 [02:26<03:35,  3.58it/s]"
     ]
    },
    {
     "name": "stdout",
     "output_type": "stream",
     "text": [
      "(500/1272) Data: 0.015s | Batch: 0.293s | Total: 0:02:26 | ETA: 0:03:34 | Loss: 0.1407 | top1:  93.8215\n"
     ]
    },
    {
     "name": "stderr",
     "output_type": "stream",
     "text": [
      " 47%|█████████████████████████████████████▎                                         | 600/1272 [02:54<03:06,  3.60it/s]"
     ]
    },
    {
     "name": "stdout",
     "output_type": "stream",
     "text": [
      "(600/1272) Data: 0.013s | Batch: 0.291s | Total: 0:02:54 | ETA: 0:03:08 | Loss: 0.1406 | top1:  93.8262\n"
     ]
    },
    {
     "name": "stderr",
     "output_type": "stream",
     "text": [
      " 55%|███████████████████████████████████████████▍                                   | 700/1272 [03:22<02:40,  3.56it/s]"
     ]
    },
    {
     "name": "stdout",
     "output_type": "stream",
     "text": [
      "(700/1272) Data: 0.011s | Batch: 0.289s | Total: 0:03:22 | ETA: 0:02:42 | Loss: 0.1406 | top1:  93.8245\n"
     ]
    },
    {
     "name": "stderr",
     "output_type": "stream",
     "text": [
      " 63%|█████████████████████████████████████████████████▋                             | 800/1272 [03:50<02:12,  3.57it/s]"
     ]
    },
    {
     "name": "stdout",
     "output_type": "stream",
     "text": [
      "(800/1272) Data: 0.010s | Batch: 0.288s | Total: 0:03:50 | ETA: 0:02:16 | Loss: 0.1406 | top1:  93.8210\n"
     ]
    },
    {
     "name": "stderr",
     "output_type": "stream",
     "text": [
      " 71%|███████████████████████████████████████████████████████▉                       | 900/1272 [04:18<01:42,  3.65it/s]"
     ]
    },
    {
     "name": "stdout",
     "output_type": "stream",
     "text": [
      "(900/1272) Data: 0.009s | Batch: 0.287s | Total: 0:04:18 | ETA: 0:01:43 | Loss: 0.1407 | top1:  93.8221\n"
     ]
    },
    {
     "name": "stderr",
     "output_type": "stream",
     "text": [
      " 79%|█████████████████████████████████████████████████████████████▎                | 1000/1272 [04:46<01:19,  3.40it/s]"
     ]
    },
    {
     "name": "stdout",
     "output_type": "stream",
     "text": [
      "(1000/1272) Data: 0.008s | Batch: 0.287s | Total: 0:04:46 | ETA: 0:01:24 | Loss: 0.1406 | top1:  93.8236\n"
     ]
    },
    {
     "name": "stderr",
     "output_type": "stream",
     "text": [
      " 86%|███████████████████████████████████████████████████████████████████▍          | 1100/1272 [05:14<00:50,  3.43it/s]"
     ]
    },
    {
     "name": "stdout",
     "output_type": "stream",
     "text": [
      "(1100/1272) Data: 0.007s | Batch: 0.286s | Total: 0:05:14 | ETA: 0:00:50 | Loss: 0.1406 | top1:  93.8212\n"
     ]
    },
    {
     "name": "stderr",
     "output_type": "stream",
     "text": [
      " 94%|█████████████████████████████████████████████████████████████████████████▌    | 1200/1272 [05:43<00:21,  3.36it/s]"
     ]
    },
    {
     "name": "stdout",
     "output_type": "stream",
     "text": [
      "(1200/1272) Data: 0.007s | Batch: 0.286s | Total: 0:05:43 | ETA: 0:00:22 | Loss: 0.1406 | top1:  93.8232\n"
     ]
    },
    {
     "name": "stderr",
     "output_type": "stream",
     "text": [
      "100%|██████████████████████████████████████████████████████████████████████████████| 1272/1272 [06:04<00:00,  3.49it/s]\n",
      "100%|████████████████████████████████████████████████████████████████████████████████| 156/156 [00:21<00:00,  7.20it/s]\n"
     ]
    },
    {
     "name": "stdout",
     "output_type": "stream",
     "text": [
      "=> saving checkpoint 'checkpoints\\checkpoint.pth.tar'\n"
     ]
    },
    {
     "name": "stderr",
     "output_type": "stream",
     "text": [
      "  0%|                                                                                         | 0/1272 [00:00<?, ?it/s]"
     ]
    },
    {
     "name": "stdout",
     "output_type": "stream",
     "text": [
      "\n",
      "Epoch: [58 | 60] LR: 0.000000\n"
     ]
    },
    {
     "name": "stderr",
     "output_type": "stream",
     "text": [
      "  8%|██████▏                                                                        | 100/1272 [00:34<05:59,  3.26it/s]"
     ]
    },
    {
     "name": "stdout",
     "output_type": "stream",
     "text": [
      "(100/1272) Data: 0.071s | Batch: 0.342s | Total: 0:00:34 | ETA: 0:05:28 | Loss: 0.1404 | top1:  93.8270\n"
     ]
    },
    {
     "name": "stderr",
     "output_type": "stream",
     "text": [
      " 16%|████████████▍                                                                  | 200/1272 [01:02<05:01,  3.56it/s]"
     ]
    },
    {
     "name": "stdout",
     "output_type": "stream",
     "text": [
      "(200/1272) Data: 0.036s | Batch: 0.310s | Total: 0:01:02 | ETA: 0:05:00 | Loss: 0.1408 | top1:  93.8229\n"
     ]
    },
    {
     "name": "stderr",
     "output_type": "stream",
     "text": [
      " 24%|██████████████████▋                                                            | 300/1272 [01:30<04:33,  3.55it/s]"
     ]
    },
    {
     "name": "stdout",
     "output_type": "stream",
     "text": [
      "(300/1272) Data: 0.024s | Batch: 0.301s | Total: 0:01:30 | ETA: 0:04:41 | Loss: 0.1411 | top1:  93.8242\n"
     ]
    },
    {
     "name": "stderr",
     "output_type": "stream",
     "text": [
      " 31%|████████████████████████▊                                                      | 400/1272 [01:58<03:54,  3.72it/s]"
     ]
    },
    {
     "name": "stdout",
     "output_type": "stream",
     "text": [
      "(400/1272) Data: 0.018s | Batch: 0.295s | Total: 0:01:58 | ETA: 0:04:05 | Loss: 0.1409 | top1:  93.8236\n"
     ]
    },
    {
     "name": "stderr",
     "output_type": "stream",
     "text": [
      " 39%|███████████████████████████████                                                | 500/1272 [02:27<03:49,  3.37it/s]"
     ]
    },
    {
     "name": "stdout",
     "output_type": "stream",
     "text": [
      "(500/1272) Data: 0.015s | Batch: 0.294s | Total: 0:02:27 | ETA: 0:03:58 | Loss: 0.1408 | top1:  93.8262\n"
     ]
    },
    {
     "name": "stderr",
     "output_type": "stream",
     "text": [
      " 47%|█████████████████████████████████████▎                                         | 600/1272 [02:57<03:11,  3.51it/s]"
     ]
    },
    {
     "name": "stdout",
     "output_type": "stream",
     "text": [
      "(600/1272) Data: 0.013s | Batch: 0.295s | Total: 0:02:57 | ETA: 0:03:20 | Loss: 0.1410 | top1:  93.8154\n"
     ]
    },
    {
     "name": "stderr",
     "output_type": "stream",
     "text": [
      " 55%|███████████████████████████████████████████▍                                   | 700/1272 [03:27<02:46,  3.43it/s]"
     ]
    },
    {
     "name": "stdout",
     "output_type": "stream",
     "text": [
      "(700/1272) Data: 0.011s | Batch: 0.296s | Total: 0:03:27 | ETA: 0:02:50 | Loss: 0.1410 | top1:  93.8141\n"
     ]
    },
    {
     "name": "stderr",
     "output_type": "stream",
     "text": [
      " 63%|█████████████████████████████████████████████████▋                             | 800/1272 [03:57<02:12,  3.58it/s]"
     ]
    },
    {
     "name": "stdout",
     "output_type": "stream",
     "text": [
      "(800/1272) Data: 0.010s | Batch: 0.297s | Total: 0:03:57 | ETA: 0:02:15 | Loss: 0.1409 | top1:  93.8250\n"
     ]
    },
    {
     "name": "stderr",
     "output_type": "stream",
     "text": [
      " 71%|███████████████████████████████████████████████████████▉                       | 900/1272 [04:28<02:02,  3.04it/s]"
     ]
    },
    {
     "name": "stdout",
     "output_type": "stream",
     "text": [
      "(900/1272) Data: 0.009s | Batch: 0.298s | Total: 0:04:28 | ETA: 0:02:00 | Loss: 0.1408 | top1:  93.8254\n"
     ]
    },
    {
     "name": "stderr",
     "output_type": "stream",
     "text": [
      " 79%|█████████████████████████████████████████████████████████████▎                | 1000/1272 [04:59<01:21,  3.34it/s]"
     ]
    },
    {
     "name": "stdout",
     "output_type": "stream",
     "text": [
      "(1000/1272) Data: 0.008s | Batch: 0.299s | Total: 0:04:59 | ETA: 0:01:26 | Loss: 0.1407 | top1:  93.8233\n"
     ]
    },
    {
     "name": "stderr",
     "output_type": "stream",
     "text": [
      " 86%|███████████████████████████████████████████████████████████████████▍          | 1100/1272 [05:29<00:53,  3.22it/s]"
     ]
    },
    {
     "name": "stdout",
     "output_type": "stream",
     "text": [
      "(1100/1272) Data: 0.007s | Batch: 0.300s | Total: 0:05:29 | ETA: 0:00:54 | Loss: 0.1407 | top1:  93.8217\n"
     ]
    },
    {
     "name": "stderr",
     "output_type": "stream",
     "text": [
      " 94%|█████████████████████████████████████████████████████████████████████████▌    | 1200/1272 [05:59<00:23,  3.08it/s]"
     ]
    },
    {
     "name": "stdout",
     "output_type": "stream",
     "text": [
      "(1200/1272) Data: 0.007s | Batch: 0.300s | Total: 0:05:59 | ETA: 0:00:25 | Loss: 0.1407 | top1:  93.8219\n"
     ]
    },
    {
     "name": "stderr",
     "output_type": "stream",
     "text": [
      "100%|██████████████████████████████████████████████████████████████████████████████| 1272/1272 [06:22<00:00,  3.32it/s]\n",
      "100%|████████████████████████████████████████████████████████████████████████████████| 156/156 [00:27<00:00,  5.71it/s]\n"
     ]
    },
    {
     "name": "stdout",
     "output_type": "stream",
     "text": [
      "=> saving checkpoint 'checkpoints\\checkpoint.pth.tar'\n"
     ]
    },
    {
     "name": "stderr",
     "output_type": "stream",
     "text": [
      "  0%|                                                                                         | 0/1272 [00:00<?, ?it/s]"
     ]
    },
    {
     "name": "stdout",
     "output_type": "stream",
     "text": [
      "\n",
      "Epoch: [59 | 60] LR: 0.000000\n"
     ]
    },
    {
     "name": "stderr",
     "output_type": "stream",
     "text": [
      "  8%|██████▏                                                                        | 100/1272 [00:36<05:35,  3.49it/s]"
     ]
    },
    {
     "name": "stdout",
     "output_type": "stream",
     "text": [
      "(100/1272) Data: 0.080s | Batch: 0.367s | Total: 0:00:36 | ETA: 0:05:35 | Loss: 0.1404 | top1:  93.8256\n"
     ]
    },
    {
     "name": "stderr",
     "output_type": "stream",
     "text": [
      " 16%|████████████▍                                                                  | 200/1272 [01:08<05:28,  3.27it/s]"
     ]
    },
    {
     "name": "stdout",
     "output_type": "stream",
     "text": [
      "(200/1272) Data: 0.041s | Batch: 0.341s | Total: 0:01:08 | ETA: 0:05:29 | Loss: 0.1404 | top1:  93.8077\n"
     ]
    },
    {
     "name": "stderr",
     "output_type": "stream",
     "text": [
      " 24%|██████████████████▋                                                            | 300/1272 [01:38<05:01,  3.23it/s]"
     ]
    },
    {
     "name": "stdout",
     "output_type": "stream",
     "text": [
      "(300/1272) Data: 0.027s | Batch: 0.328s | Total: 0:01:38 | ETA: 0:05:13 | Loss: 0.1405 | top1:  93.8224\n"
     ]
    },
    {
     "name": "stderr",
     "output_type": "stream",
     "text": [
      " 31%|████████████████████████▊                                                      | 400/1272 [02:09<04:22,  3.32it/s]"
     ]
    },
    {
     "name": "stdout",
     "output_type": "stream",
     "text": [
      "(400/1272) Data: 0.021s | Batch: 0.323s | Total: 0:02:09 | ETA: 0:04:26 | Loss: 0.1406 | top1:  93.8211\n"
     ]
    },
    {
     "name": "stderr",
     "output_type": "stream",
     "text": [
      " 39%|███████████████████████████████                                                | 500/1272 [02:39<03:51,  3.33it/s]"
     ]
    },
    {
     "name": "stdout",
     "output_type": "stream",
     "text": [
      "(500/1272) Data: 0.017s | Batch: 0.319s | Total: 0:02:39 | ETA: 0:03:53 | Loss: 0.1407 | top1:  93.8154\n"
     ]
    },
    {
     "name": "stderr",
     "output_type": "stream",
     "text": [
      " 47%|█████████████████████████████████████▎                                         | 600/1272 [03:10<03:17,  3.41it/s]"
     ]
    },
    {
     "name": "stdout",
     "output_type": "stream",
     "text": [
      "(600/1272) Data: 0.014s | Batch: 0.317s | Total: 0:03:10 | ETA: 0:03:22 | Loss: 0.1408 | top1:  93.8132\n"
     ]
    },
    {
     "name": "stderr",
     "output_type": "stream",
     "text": [
      " 55%|███████████████████████████████████████████▍                                   | 700/1272 [03:41<03:20,  2.85it/s]"
     ]
    },
    {
     "name": "stdout",
     "output_type": "stream",
     "text": [
      "(700/1272) Data: 0.012s | Batch: 0.317s | Total: 0:03:41 | ETA: 0:03:05 | Loss: 0.1407 | top1:  93.8222\n"
     ]
    },
    {
     "name": "stderr",
     "output_type": "stream",
     "text": [
      " 63%|█████████████████████████████████████████████████▋                             | 800/1272 [04:16<02:19,  3.38it/s]"
     ]
    },
    {
     "name": "stdout",
     "output_type": "stream",
     "text": [
      "(800/1272) Data: 0.011s | Batch: 0.321s | Total: 0:04:16 | ETA: 0:02:15 | Loss: 0.1407 | top1:  93.8212\n"
     ]
    },
    {
     "name": "stderr",
     "output_type": "stream",
     "text": [
      " 71%|███████████████████████████████████████████████████████▉                       | 900/1272 [04:49<01:51,  3.33it/s]"
     ]
    },
    {
     "name": "stdout",
     "output_type": "stream",
     "text": [
      "(900/1272) Data: 0.010s | Batch: 0.322s | Total: 0:04:49 | ETA: 0:01:51 | Loss: 0.1407 | top1:  93.8207\n"
     ]
    },
    {
     "name": "stderr",
     "output_type": "stream",
     "text": [
      " 79%|█████████████████████████████████████████████████████████████▎                | 1000/1272 [05:19<01:38,  2.75it/s]"
     ]
    },
    {
     "name": "stdout",
     "output_type": "stream",
     "text": [
      "(1000/1272) Data: 0.009s | Batch: 0.320s | Total: 0:05:19 | ETA: 0:01:27 | Loss: 0.1408 | top1:  93.8174\n"
     ]
    },
    {
     "name": "stderr",
     "output_type": "stream",
     "text": [
      " 86%|███████████████████████████████████████████████████████████████████▍          | 1100/1272 [05:50<00:49,  3.46it/s]"
     ]
    },
    {
     "name": "stdout",
     "output_type": "stream",
     "text": [
      "(1100/1272) Data: 0.008s | Batch: 0.319s | Total: 0:05:50 | ETA: 0:00:51 | Loss: 0.1407 | top1:  93.8225\n"
     ]
    },
    {
     "name": "stderr",
     "output_type": "stream",
     "text": [
      " 94%|█████████████████████████████████████████████████████████████████████████▌    | 1200/1272 [06:20<00:22,  3.18it/s]"
     ]
    },
    {
     "name": "stdout",
     "output_type": "stream",
     "text": [
      "(1200/1272) Data: 0.007s | Batch: 0.317s | Total: 0:06:20 | ETA: 0:00:23 | Loss: 0.1408 | top1:  93.8207\n"
     ]
    },
    {
     "name": "stderr",
     "output_type": "stream",
     "text": [
      "100%|██████████████████████████████████████████████████████████████████████████████| 1272/1272 [06:43<00:00,  3.15it/s]\n",
      "100%|████████████████████████████████████████████████████████████████████████████████| 156/156 [00:24<00:00,  6.45it/s]\n"
     ]
    },
    {
     "name": "stdout",
     "output_type": "stream",
     "text": [
      "=> saving checkpoint 'checkpoints\\checkpoint.pth.tar'\n"
     ]
    },
    {
     "name": "stderr",
     "output_type": "stream",
     "text": [
      "  0%|                                                                                         | 0/1272 [00:00<?, ?it/s]"
     ]
    },
    {
     "name": "stdout",
     "output_type": "stream",
     "text": [
      "\n",
      "Epoch: [60 | 60] LR: 0.000000\n"
     ]
    },
    {
     "name": "stderr",
     "output_type": "stream",
     "text": [
      "  8%|██████▏                                                                        | 100/1272 [00:40<07:08,  2.74it/s]"
     ]
    },
    {
     "name": "stdout",
     "output_type": "stream",
     "text": [
      "(100/1272) Data: 0.080s | Batch: 0.408s | Total: 0:00:40 | ETA: 0:07:11 | Loss: 0.1407 | top1:  93.8080\n"
     ]
    },
    {
     "name": "stderr",
     "output_type": "stream",
     "text": [
      " 16%|████████████▍                                                                  | 200/1272 [01:13<05:46,  3.09it/s]"
     ]
    },
    {
     "name": "stdout",
     "output_type": "stream",
     "text": [
      "(200/1272) Data: 0.040s | Batch: 0.368s | Total: 0:01:13 | ETA: 0:06:23 | Loss: 0.1405 | top1:  93.8355\n"
     ]
    },
    {
     "name": "stderr",
     "output_type": "stream",
     "text": [
      " 24%|██████████████████▋                                                            | 300/1272 [01:44<04:37,  3.51it/s]"
     ]
    },
    {
     "name": "stdout",
     "output_type": "stream",
     "text": [
      "(300/1272) Data: 0.027s | Batch: 0.349s | Total: 0:01:44 | ETA: 0:04:38 | Loss: 0.1406 | top1:  93.8331\n"
     ]
    },
    {
     "name": "stderr",
     "output_type": "stream",
     "text": [
      " 31%|████████████████████████▊                                                      | 400/1272 [02:20<05:31,  2.63it/s]"
     ]
    },
    {
     "name": "stdout",
     "output_type": "stream",
     "text": [
      "(400/1272) Data: 0.021s | Batch: 0.350s | Total: 0:02:20 | ETA: 0:05:16 | Loss: 0.1408 | top1:  93.8190\n"
     ]
    },
    {
     "name": "stderr",
     "output_type": "stream",
     "text": [
      " 39%|███████████████████████████████                                                | 500/1272 [02:58<04:47,  2.68it/s]"
     ]
    },
    {
     "name": "stdout",
     "output_type": "stream",
     "text": [
      "(500/1272) Data: 0.017s | Batch: 0.356s | Total: 0:02:58 | ETA: 0:04:48 | Loss: 0.1407 | top1:  93.8175\n"
     ]
    },
    {
     "name": "stderr",
     "output_type": "stream",
     "text": [
      " 47%|█████████████████████████████████████▎                                         | 600/1272 [03:34<03:59,  2.81it/s]"
     ]
    },
    {
     "name": "stdout",
     "output_type": "stream",
     "text": [
      "(600/1272) Data: 0.014s | Batch: 0.358s | Total: 0:03:34 | ETA: 0:03:57 | Loss: 0.1406 | top1:  93.8246\n"
     ]
    },
    {
     "name": "stderr",
     "output_type": "stream",
     "text": [
      " 55%|███████████████████████████████████████████▍                                   | 700/1272 [04:12<03:31,  2.71it/s]"
     ]
    },
    {
     "name": "stdout",
     "output_type": "stream",
     "text": [
      "(700/1272) Data: 0.012s | Batch: 0.361s | Total: 0:04:12 | ETA: 0:03:38 | Loss: 0.1408 | top1:  93.8141\n"
     ]
    },
    {
     "name": "stderr",
     "output_type": "stream",
     "text": [
      " 63%|█████████████████████████████████████████████████▋                             | 800/1272 [04:49<03:01,  2.60it/s]"
     ]
    },
    {
     "name": "stdout",
     "output_type": "stream",
     "text": [
      "(800/1272) Data: 0.011s | Batch: 0.362s | Total: 0:04:49 | ETA: 0:02:55 | Loss: 0.1407 | top1:  93.8202\n"
     ]
    },
    {
     "name": "stderr",
     "output_type": "stream",
     "text": [
      " 71%|███████████████████████████████████████████████████████▉                       | 900/1272 [05:27<02:19,  2.66it/s]"
     ]
    },
    {
     "name": "stdout",
     "output_type": "stream",
     "text": [
      "(900/1272) Data: 0.010s | Batch: 0.364s | Total: 0:05:27 | ETA: 0:02:20 | Loss: 0.1406 | top1:  93.8288\n"
     ]
    },
    {
     "name": "stderr",
     "output_type": "stream",
     "text": [
      " 79%|█████████████████████████████████████████████████████████████▎                | 1000/1272 [06:04<01:44,  2.60it/s]"
     ]
    },
    {
     "name": "stdout",
     "output_type": "stream",
     "text": [
      "(1000/1272) Data: 0.009s | Batch: 0.365s | Total: 0:06:04 | ETA: 0:01:45 | Loss: 0.1407 | top1:  93.8225\n"
     ]
    },
    {
     "name": "stderr",
     "output_type": "stream",
     "text": [
      " 86%|███████████████████████████████████████████████████████████████████▍          | 1100/1272 [06:41<01:03,  2.71it/s]"
     ]
    },
    {
     "name": "stdout",
     "output_type": "stream",
     "text": [
      "(1100/1272) Data: 0.008s | Batch: 0.365s | Total: 0:06:41 | ETA: 0:01:04 | Loss: 0.1407 | top1:  93.8205\n"
     ]
    },
    {
     "name": "stderr",
     "output_type": "stream",
     "text": [
      " 94%|█████████████████████████████████████████████████████████████████████████▌    | 1200/1272 [07:16<00:26,  2.74it/s]"
     ]
    },
    {
     "name": "stdout",
     "output_type": "stream",
     "text": [
      "(1200/1272) Data: 0.007s | Batch: 0.364s | Total: 0:07:16 | ETA: 0:00:26 | Loss: 0.1407 | top1:  93.8167\n"
     ]
    },
    {
     "name": "stderr",
     "output_type": "stream",
     "text": [
      "100%|██████████████████████████████████████████████████████████████████████████████| 1272/1272 [07:43<00:00,  2.74it/s]\n",
      "100%|████████████████████████████████████████████████████████████████████████████████| 156/156 [00:25<00:00,  6.10it/s]\n"
     ]
    },
    {
     "name": "stdout",
     "output_type": "stream",
     "text": [
      "=> saving checkpoint 'checkpoints\\checkpoint.pth.tar'\n"
     ]
    },
    {
     "name": "stderr",
     "output_type": "stream",
     "text": [
      "The PostScript backend does not support transparency; partially transparent artists will be rendered opaque.\n",
      "The PostScript backend does not support transparency; partially transparent artists will be rendered opaque.\n"
     ]
    },
    {
     "name": "stdout",
     "output_type": "stream",
     "text": [
      "Best accuracy:\n",
      "91.88931393526624\n",
      "total time: 22436.15186047554\n"
     ]
    },
    {
     "data": {
      "image/png": "[encoded data removed]",
      "text/plain": [
       "<Figure size 432x288 with 1 Axes>"
      ]
     },
     "metadata": {
      "needs_background": "light"
     },
     "output_type": "display_data"
    }
   ],
   "source": [
    "# config.epoch = 1\n",
    "start_time = time.time()\n",
    "model = create_model(device)\n",
    "dataloaders, attribute_names  = load_dataloaders()\n",
    "criterion = nn.CrossEntropyLoss().to(device)\n",
    "# print(criterion)\n",
    "optimizer = torch.optim.SGD(model.parameters(), config.lr,\n",
    "                            momentum=config.momentum,\n",
    "                            weight_decay=config.weight_decay)\n",
    "# print(optimizer)\n",
    "if config.evaluate:\n",
    "    best_prec1, _, _ = resume_checkpoint(model, optimizer, config.ckp_logger_fname, config.bestmodel_fname)\n",
    "    test_loss, prec1, top1 = validate(dataloaders['test'], model, criterion)\n",
    "    print(f\"=> Best test accuracy: {prec1}, Model val acc: {best_prec1}\")\n",
    "    print_attribute_acc(top1, attribute_names)\n",
    "else:\n",
    "    best_prec1, start_epoch, logger = resume_checkpoint(model, optimizer, config.ckp_logger_fname, config.ckp_resume)\n",
    "    run_name, run_time = get_run_name_time(model, criterion, optimizer)\n",
    "    trainer(dataloaders, model, criterion, optimizer, logger, start_epoch, best_prec1, run_name)\n",
    "end_time = time.time()\n",
    "time_taken = time.strftime(\"%H:%M:%S\", time.gmtime(end_time - start_time))\n",
    "print(f\"total time taken: {time_taken}\")"
   ]
  },
  {
   "cell_type": "code",
   "execution_count": 19,
   "metadata": {},
   "outputs": [],
   "source": [
    "# reset_gpu_cache(model,optimizer,criterion, device)"
   ]
  },
  {
   "cell_type": "code",
   "execution_count": 20,
   "metadata": {},
   "outputs": [
    {
     "name": "stdout",
     "output_type": "stream",
     "text": [
      "=> creating model 'FaceAttrResNet'\n",
      "Dataset sizes: {'test': 19962}\n",
      "Class Labels: 40\n",
      "=> resuming model: checkpoints\\checkpoint.pth.tar\n",
      "=> loading checkpoint 'checkpoints\\checkpoint.pth.tar'\n"
     ]
    },
    {
     "name": "stderr",
     "output_type": "stream",
     "text": [
      "  0%|                                                                                          | 0/156 [00:00<?, ?it/s]"
     ]
    },
    {
     "name": "stdout",
     "output_type": "stream",
     "text": [
      "=> loaded checkpoint 'checkpoints\\checkpoint.pth.tar' (epoch 60)\n"
     ]
    },
    {
     "name": "stderr",
     "output_type": "stream",
     "text": [
      "100%|████████████████████████████████████████████████████████████████████████████████| 156/156 [00:26<00:00,  5.86it/s]"
     ]
    },
    {
     "name": "stdout",
     "output_type": "stream",
     "text": [
      "=> Best test accuracy: 91.46991782437324, Model val acc: 91.88931393526624\n",
      "5_o_Clock_Shadow: 94.76505358273371\n",
      "Arched_Eyebrows: 84.35026546623888\n",
      "Attractive: 82.76725778827183\n",
      "Bags_Under_Eyes: 85.52750221606355\n",
      "Bald: 99.0632201212822\n",
      "Bangs: 95.9673379107499\n",
      "Big_Lips: 72.29235544864956\n",
      "Big_Nose: 84.44544635035449\n",
      "Black_Hair: 89.89580201390821\n",
      "Blond_Hair: 96.02244260967787\n",
      "Blurry: 96.29295658011819\n",
      "Brown_Hair: 89.52008816063876\n",
      "Bushy_Eyebrows: 92.63600838770789\n",
      "Chubby: 95.73189057301525\n",
      "Double_Chin: 96.27291851083832\n",
      "Eyeglasses: 99.64933373409478\n",
      "Goatee: 97.53531707421224\n",
      "Gray_Hair: 98.13645923516277\n",
      "Heavy_Makeup: 91.78439032865447\n",
      "High_Cheekbones: 87.61647126335693\n",
      "Male: 98.29676385743264\n",
      "Mouth_Slightly_Open: 94.05370200558184\n",
      "Mustache: 96.99428915549896\n",
      "Narrow_Eyes: 87.47620478221977\n",
      "No_Beard: 96.23785188424779\n",
      "Oval_Face: 76.21480810564609\n",
      "Pale_Skin: 97.16962224488124\n",
      "Pointy_Nose: 77.40206391074928\n",
      "Receding_Hairline: 93.71806431533268\n",
      "Rosy_Cheeks: 95.18585309264726\n",
      "Sideburns: 97.83588815010116\n",
      "Smiling: 92.95661754816452\n",
      "Straight_Hair: 83.73409475409284\n",
      "Wavy_Hair: 84.40537020873718\n",
      "Wearing_Earrings: 90.57208696141198\n",
      "Wearing_Hat: 99.17342951913812\n",
      "Wearing_Lipstick: 94.22903514770715\n",
      "Wearing_Necklace: 87.60144270910384\n",
      "Wearing_Necktie: 96.97425104264876\n",
      "Young: 88.29275622385535\n"
     ]
    },
    {
     "name": "stderr",
     "output_type": "stream",
     "text": [
      "\n"
     ]
    }
   ],
   "source": [
    "if not config.evaluate:\n",
    "    config.evaluate = True\n",
    "    model = create_model(device)\n",
    "    dataloaders, attribute_names = load_dataloaders()\n",
    "    criterion = nn.CrossEntropyLoss().to(device)\n",
    "    best_prec1, _, _ = resume_checkpoint(model, optimizer, config.ckp_logger_fname, config.bestmodel_fname)# config.bestmodel_fname config.checkpoint_fname\n",
    "\n",
    "    test_loss, prec1, top1 = validate(dataloaders['test'], model, criterion)\n",
    "    print(f\"=> Best test accuracy: {prec1}, Model val acc: {best_prec1}\")\n",
    "    print_attribute_acc(top1, attribute_names)"
   ]
  },
  {
   "cell_type": "code",
   "execution_count": 22,
   "metadata": {},
   "outputs": [
    {
     "data": {
      "application/javascript": [
       "IPython.notebook.set_autosave_interval(120000)"
      ]
     },
     "metadata": {},
     "output_type": "display_data"
    },
    {
     "name": "stdout",
     "output_type": "stream",
     "text": [
      "Autosaving every 120 seconds\n"
     ]
    }
   ],
   "source": [
    "# Wait for notebook to save\n",
    "%autosave 1\n",
    "time.sleep(150)\n",
    "%autosave 120"
   ]
  },
  {
   "cell_type": "code",
   "execution_count": 44,
   "metadata": {},
   "outputs": [
    {
     "name": "stderr",
     "output_type": "stream",
     "text": [
      "[NbConvertApp] Converting notebook ai6126-project1-colab-v0.4.ipynb to html\n",
      "[NbConvertApp] Writing 858977 bytes to ai6126-project1-colab-v0.4.html\n"
     ]
    },
    {
     "name": "stdout",
     "output_type": "stream",
     "text": [
      "        1 file(s) moved.\n"
     ]
    }
   ],
   "source": [
    "def backup_everything(run_time, run_name, title):\n",
    "    # backup checkpoints\n",
    "    run_dir = os.path.join(config.BACKUP_DIR, run_name, run_time)\n",
    "    create_dir_ifne(run_dir)\n",
    "    fromDirectory = config.CHECKPOINT_DIR\n",
    "    toDirectory = run_dir\n",
    "    copy_tree(fromDirectory, toDirectory)\n",
    "    # backup notebook html\n",
    "    nb_name = title + '.ipynb'\n",
    "    html_name = title + '.html'\n",
    "    save_name = os.path.join(run_dir, html_name)\n",
    "    !jupyter nbconvert --to html $nb_name\n",
    "    !move $html_name $save_name\n",
    "    \n",
    "backup_everything(run_time, run_name, title)"
   ]
  },
  {
   "cell_type": "code",
   "execution_count": 24,
   "metadata": {},
   "outputs": [
    {
     "data": {
      "text/plain": [
       "0"
      ]
     },
     "execution_count": 24,
     "metadata": {},
     "output_type": "execute_result"
    }
   ],
   "source": [
    "if config.auto_hibernate:\n",
    "    os.system('shutdown -h')"
   ]
  }
 ],
 "metadata": {
  "colab": {
   "authorship_tag": "ABX9TyOYWQroywTLOsSvW/4lPmBg",
   "collapsed_sections": [],
   "name": "ai6126-project1-colab-v0.1.ipynb",
   "provenance": [],
   "toc_visible": true
  },
  "kernelspec": {
   "display_name": "Python 3",
   "language": "python",
   "name": "python3"
  },
  "language_info": {
   "codemirror_mode": {
    "name": "ipython",
    "version": 3
   },
   "file_extension": ".py",
   "mimetype": "text/x-python",
   "name": "python",
   "nbconvert_exporter": "python",
   "pygments_lexer": "ipython3",
   "version": "3.8.5"
  }
 },
 "nbformat": 4,
 "nbformat_minor": 4
}
