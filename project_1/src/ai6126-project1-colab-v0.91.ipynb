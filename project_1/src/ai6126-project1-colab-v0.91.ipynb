{
 "cells": [
  {
   "cell_type": "markdown",
   "metadata": {
    "id": "UVAZt6s-Fu41"
   },
   "source": [
    "# AI6126 ACV Project 1\n"
   ]
  },
  {
   "cell_type": "code",
   "execution_count": 1,
   "metadata": {
    "executionInfo": {
     "elapsed": 1038,
     "status": "ok",
     "timestamp": 1601175331072,
     "user": {
      "displayName": "Jia Hui Ong",
      "photoUrl": "https://lh3.googleusercontent.com/a-/AOh14GiKvHQmYQfzydylrU8HXZxYxJP3L6kGAQ94P-sS=s64",
      "userId": "05957301376516334331"
     },
     "user_tz": -480
    },
    "id": "jzjCg15BeR43"
   },
   "outputs": [
    {
     "name": "stdout",
     "output_type": "stream",
     "text": [
      "ai6126-project1-colab-v0.91\n",
      "albuv2\n"
     ]
    }
   ],
   "source": [
    "nb_ver = 0.91\n",
    "title = f'ai6126-project1-colab-v{nb_ver}'\n",
    "print(title)\n",
    "comments = \"albuv2\"\n",
    "print(comments)"
   ]
  },
  {
   "cell_type": "markdown",
   "metadata": {},
   "source": [
    "## Versioning & References"
   ]
  },
  {
   "cell_type": "markdown",
   "metadata": {
    "id": "4c2s81g4d5PE"
   },
   "source": [
    "### Changelogs\n",
    "+ V0.1 - Setup codes to download and unzip celeba to gDrive\n",
    "+ V0.2 - Added training loop \n",
    "+ V0.3 - Added seeding + save/ load checkpoint\n",
    "+ V0.4 - Added time taken + save output\n",
    "+ V0.5 - Added RandomErasing to transforms\n",
    "+ V0.6 - Added get_criterion (BinaryFocalLoss) - NOT WORKING YET\n",
    "+ V0.7 - Added FaceAttrMobileNetV2 & FaceAttrResNeXt\n",
    "+ V0.8 - Added Albumentations\n",
    "+ V0.9 - Updated Optimizer\n",
    "+ V0.91 - Added ModelTimer() + Added more augmentations"
   ]
  },
  {
   "cell_type": "markdown",
   "metadata": {},
   "source": [
    "### References\n",
    "+ [PyTorch Transfer Learning](https://pytorch.org/tutorials/beginner/transfer_learning_tutorial.html)"
   ]
  },
  {
   "cell_type": "markdown",
   "metadata": {},
   "source": [
    "### Dependencies"
   ]
  },
  {
   "cell_type": "code",
   "execution_count": 2,
   "metadata": {},
   "outputs": [],
   "source": [
    "# conda install pytorch torchvision cudatoolkit=10.2 -c pytorch\n",
    "# conda install matplotlib\n",
    "# conda install pandas\n",
    "# conda install tqdm\n",
    "# conda install -c conda-forge jupyterlab\n",
    "# conda install -c conda-forge tensorboard\n",
    "# conda install -c conda-forge protobuf # for tensorboard\n",
    "# conda install nb_conda_kernels # auto add kernels\n",
    "\n",
    "# conda install -c conda-forge imgaug\n",
    "# conda install albumentations -c conda-forge"
   ]
  },
  {
   "cell_type": "markdown",
   "metadata": {
    "id": "UmjjrIheF0u5"
   },
   "source": [
    "## Setup/ Configuration"
   ]
  },
  {
   "cell_type": "markdown",
   "metadata": {},
   "source": [
    "### Colab"
   ]
  },
  {
   "cell_type": "code",
   "execution_count": 3,
   "metadata": {
    "colab": {
     "base_uri": "https://localhost:8080/",
     "height": 282
    },
    "executionInfo": {
     "elapsed": 4455,
     "status": "error",
     "timestamp": 1601175336681,
     "user": {
      "displayName": "Jia Hui Ong",
      "photoUrl": "https://lh3.googleusercontent.com/a-/AOh14GiKvHQmYQfzydylrU8HXZxYxJP3L6kGAQ94P-sS=s64",
      "userId": "05957301376516334331"
     },
     "user_tz": -480
    },
    "id": "7mTWwwivDNy3",
    "outputId": "9f87be63-e615-42bf-b306-8a2ec7e2458d"
   },
   "outputs": [],
   "source": [
    "# you can choose to mount your Google Drive (optional)\n",
    "import sys, os\n",
    "if 'google.colab' in sys.modules:\n",
    "    from google.colab import drive\n",
    "    drive.mount('/content/drive')\n",
    "    file_name = f'ai6126-project1-colab-v{nb_ver}.ipynb'\n",
    "    print(file_name)\n",
    "    import subprocess\n",
    "    path_to_file = subprocess.check_output('find . -type f -name ' + str(file_name), shell=True).decode(\"utf-8\")\n",
    "    print(path_to_file)\n",
    "    path_to_file = path_to_file.replace(file_name,\"\").replace('\\n',\"\")\n",
    "    os.chdir(path_to_file)\n",
    "    !pwd"
   ]
  },
  {
   "cell_type": "code",
   "execution_count": 4,
   "metadata": {
    "colab": {
     "base_uri": "https://localhost:8080/",
     "height": 170
    },
    "executionInfo": {
     "elapsed": 4089,
     "status": "ok",
     "timestamp": 1601174827944,
     "user": {
      "displayName": "Jia Hui Ong",
      "photoUrl": "https://lh3.googleusercontent.com/a-/AOh14GiKvHQmYQfzydylrU8HXZxYxJP3L6kGAQ94P-sS=s64",
      "userId": "05957301376516334331"
     },
     "user_tz": -480
    },
    "id": "x6grHtmwDexI",
    "outputId": "60e6ef2d-3b03-486f-e7cc-a87eaa29da82"
   },
   "outputs": [
    {
     "name": "stdout",
     "output_type": "stream",
     "text": [
      "nvcc: NVIDIA (R) Cuda compiler driver\n",
      "Copyright (c) 2005-2019 NVIDIA Corporation\n",
      "Built on Sun_Jul_28_19:12:52_Pacific_Daylight_Time_2019\n",
      "Cuda compilation tools, release 10.1, V10.1.243\n"
     ]
    },
    {
     "name": "stderr",
     "output_type": "stream",
     "text": [
      "'gcc' is not recognized as an internal or external command,\n",
      "operable program or batch file.\n"
     ]
    }
   ],
   "source": [
    "# check nvcc version\n",
    "!nvcc -V\n",
    "# check GCC version\n",
    "!gcc --version"
   ]
  },
  {
   "cell_type": "markdown",
   "metadata": {},
   "source": [
    "### Download Dataset"
   ]
  },
  {
   "cell_type": "code",
   "execution_count": 5,
   "metadata": {},
   "outputs": [
    {
     "name": "stdout",
     "output_type": "stream",
     "text": [
      "download celeba dataset: False\n"
     ]
    }
   ],
   "source": [
    "import os, glob\n",
    "local_download_path = '../data/celeba/img_align_celeba'\n",
    "download_dataset = True\n",
    "if os.path.exists(local_download_path):\n",
    "    images = glob.glob(local_download_path + '/*.jpg')\n",
    "    if len(images) == 202599:\n",
    "        download_dataset = False\n",
    "print(f\"download celeba dataset: {download_dataset}\")\n",
    "\n",
    "if download_dataset:\n",
    "    # create dataset root and enter it\n",
    "    !mkdir -p data/celeba\n",
    "    %cd data/celeba\n",
    "\n",
    "    # we have prepared a backup of `img_align_celeba.zip` of Celeb-A dataset in the Dropbox\n",
    "    # download it directly, or manually download the original file from Google Drive above\n",
    "    !wget https://www.dropbox.com/s/8kzo40fqx7nodat/img_align_celeba.zip\n",
    "\n",
    "    # unzip the downloaded file\n",
    "    !unzip -qq img_align_celeba.zip\n",
    "    !rm -f img_align_celeba.zip\n",
    "\n",
    "    # change the directory back to the root\n",
    "    %cd ../..\n",
    "    !ls"
   ]
  },
  {
   "cell_type": "markdown",
   "metadata": {},
   "source": [
    "## Implementation"
   ]
  },
  {
   "cell_type": "markdown",
   "metadata": {},
   "source": [
    "### Imports"
   ]
  },
  {
   "cell_type": "code",
   "execution_count": 6,
   "metadata": {
    "id": "tEkTpN_qDN5u"
   },
   "outputs": [],
   "source": [
    "import sys, os\n",
    "import time\n",
    "import random\n",
    "import numpy as np\n",
    "import copy\n",
    "from datetime import datetime\n",
    "from distutils.dir_util import copy_tree #for recursive filecopying\n",
    "\n",
    "import torch\n",
    "import torch.nn as nn\n",
    "import torch.optim as optim\n",
    "from torch.optim import lr_scheduler\n",
    "import torchvision\n",
    "from torchvision import datasets, models, transforms\n",
    "from torch.utils.tensorboard import SummaryWriter\n",
    "\n",
    "import albumentations as A\n",
    "from albumentations.pytorch import ToTensorV2\n",
    "import cv2\n",
    "\n",
    "from tqdm import tqdm\n",
    "import matplotlib.pyplot as plt\n",
    "\n",
    "import config\n",
    "from celeba_dataset import CelebaDataset\n",
    "import models\n",
    "import losses\n",
    "from utils import Logger, AverageMeter, Bar, savefig, adjust_learning_rate, accuracy, reset_gpu_cache, print_attribute_acc, create_dir_ifne, ModelTimer"
   ]
  },
  {
   "cell_type": "code",
   "execution_count": 7,
   "metadata": {
    "id": "DCjPfxzUDN3Y"
   },
   "outputs": [
    {
     "name": "stdout",
     "output_type": "stream",
     "text": [
      "1.6.0 True\n",
      "cuda:0\n",
      "disable_tqdm: False\n"
     ]
    }
   ],
   "source": [
    "# set the backend of matplotlib to the 'inline' backend\n",
    "%matplotlib inline\n",
    "\n",
    "# check PyTorch version and cuda status\n",
    "print(torch.__version__, torch.cuda.is_available())\n",
    "\n",
    "# define device\n",
    "device = torch.device(\"cuda:\"+config.gpu_id if torch.cuda.is_available() else \"cpu\")\n",
    "print(device)\n",
    "\n",
    "if 'ipykernel' in sys.modules:\n",
    "    config.disable_tqdm = False\n",
    "print(f\"disable_tqdm: {config.disable_tqdm}\")"
   ]
  },
  {
   "cell_type": "markdown",
   "metadata": {},
   "source": [
    "### Seeding"
   ]
  },
  {
   "cell_type": "code",
   "execution_count": 8,
   "metadata": {
    "colab": {
     "base_uri": "https://localhost:8080/",
     "height": 68
    },
    "executionInfo": {
     "elapsed": 4483,
     "status": "ok",
     "timestamp": 1601174828368,
     "user": {
      "displayName": "Jia Hui Ong",
      "photoUrl": "https://lh3.googleusercontent.com/a-/AOh14GiKvHQmYQfzydylrU8HXZxYxJP3L6kGAQ94P-sS=s64",
      "userId": "05957301376516334331"
     },
     "user_tz": -480
    },
    "id": "9Te1EuMyDN7-",
    "outputId": "e1a9321b-0c11-476e-dea5-57b3fa33f732"
   },
   "outputs": [],
   "source": [
    "# set random seed for reproducibility\n",
    "def seed_everything(seed=None):\n",
    "    if seed is None:\n",
    "        seed = random.randint(1, 10000) # create random seed\n",
    "        print(f'random seed used: {seed}')\n",
    "    os.environ['PYTHONHASHSEED'] = str(seed)\n",
    "    random.seed(seed)\n",
    "    np.random.seed(seed)\n",
    "    if 'torch' in sys.modules:\n",
    "        torch.manual_seed(seed)\n",
    "        torch.cuda.manual_seed_all(seed)\n",
    "        torch.backends.cudnn.deterministic = True\n",
    "        torch.backends.cudnn.benchmark = True\n",
    "    \n",
    "seed_everything(seed=config.manual_seed)"
   ]
  },
  {
   "cell_type": "markdown",
   "metadata": {
    "colab": {
     "base_uri": "https://localhost:8080/",
     "height": 34
    },
    "executionInfo": {
     "elapsed": 7867,
     "status": "ok",
     "timestamp": 1601174831763,
     "user": {
      "displayName": "Jia Hui Ong",
      "photoUrl": "https://lh3.googleusercontent.com/a-/AOh14GiKvHQmYQfzydylrU8HXZxYxJP3L6kGAQ94P-sS=s64",
      "userId": "05957301376516334331"
     },
     "user_tz": -480
    },
    "id": "UeTJbZQ5b_ea",
    "outputId": "de5f0be8-65fe-4648-e719-ff92f2642235",
    "pycharm": {
     "is_executing": true
    }
   },
   "source": [
    "### Data Transform"
   ]
  },
  {
   "cell_type": "code",
   "execution_count": 9,
   "metadata": {},
   "outputs": [],
   "source": [
    "# attribute_names = ['5_o_Clock_Shadow', 'Arched_Eyebrows', 'Attractive', 'Bags_Under_Eyes', 'Bald', \n",
    "#                    'Bangs', 'Big_Lips', 'Big_Nose', 'Black_Hair', 'Blond_Hair', 'Blurry', 'Brown_Hair', \n",
    "#                    'Bushy_Eyebrows', 'Chubby', 'Double_Chin', 'Eyeglasses', 'Goatee', 'Gray_Hair',\n",
    "#                    'Heavy_Makeup', 'High_Cheekbones', 'Male', 'Mouth_Slightly_Open', 'Mustache', \n",
    "#                    'Narrow_Eyes', 'No_Beard', 'Oval_Face', 'Pale_Skin', 'Pointy_Nose', 'Receding_Hairline',\n",
    "#                    'Rosy_Cheeks', 'Sideburns', 'Smiling', 'Straight_Hair', 'Wavy_Hair', 'Wearing_Earrings', \n",
    "#                    'Wearing_Hat', 'Wearing_Lipstick', 'Wearing_Necklace', 'Wearing_Necktie', 'Young']\n",
    "# print(attribute_names)"
   ]
  },
  {
   "cell_type": "code",
   "execution_count": 10,
   "metadata": {
    "pycharm": {
     "is_executing": true
    }
   },
   "outputs": [],
   "source": [
    "# Data augmentation and normalization for training\n",
    "# Just normalization for validation and testing\n",
    "\n",
    "def load_dataloaders(print_info=True, albu_transforms = True):\n",
    "    if config.evaluate:\n",
    "        phases = ['test']\n",
    "    else:\n",
    "        phases = ['train', 'val']\n",
    "\n",
    "    attribute_names = ['5_o_Clock_Shadow', 'Arched_Eyebrows', 'Attractive', 'Bags_Under_Eyes', 'Bald', \n",
    "                       'Bangs', 'Big_Lips', 'Big_Nose', 'Black_Hair', 'Blond_Hair', 'Blurry', 'Brown_Hair', \n",
    "                       'Bushy_Eyebrows', 'Chubby', 'Double_Chin', 'Eyeglasses', 'Goatee', 'Gray_Hair',\n",
    "                       'Heavy_Makeup', 'High_Cheekbones', 'Male', 'Mouth_Slightly_Open', 'Mustache', \n",
    "                       'Narrow_Eyes', 'No_Beard', 'Oval_Face', 'Pale_Skin', 'Pointy_Nose', 'Receding_Hairline',\n",
    "                       'Rosy_Cheeks', 'Sideburns', 'Smiling', 'Straight_Hair', 'Wavy_Hair', 'Wearing_Earrings', \n",
    "                       'Wearing_Hat', 'Wearing_Lipstick', 'Wearing_Necklace', 'Wearing_Necktie', 'Young']\n",
    "    \n",
    "    attributes_list = {\n",
    "        'train': config.TRAIN_ATTRIBUTE_LIST,\n",
    "        'val': config.VAL_ATTRIBUTE_LIST,\n",
    "        'test': config.TEST_ATTRIBUTE_LIST\n",
    "    }\n",
    "\n",
    "    batch_sizes = {\n",
    "        'train': config.train_batch,\n",
    "        'val': config.test_batch,\n",
    "        'test': config.test_batch\n",
    "    }\n",
    "\n",
    "    if not albu_transforms:\n",
    "        normalize = transforms.Normalize(mean=[0.485, 0.456, 0.406], \n",
    "                                         std=[0.229, 0.224, 0.225])\n",
    "        data_transforms = {\n",
    "            'train': transforms.Compose([\n",
    "                transforms.Resize(128), #new\n",
    "                transforms.CenterCrop(128), #new\n",
    "                transforms.RandomHorizontalFlip(p=0.5),\n",
    "                transforms.RandomRotation(degrees=10), #new\n",
    "                transforms.ToTensor(),\n",
    "                normalize,\n",
    "                transforms.RandomErasing()\n",
    "            ]),\n",
    "            'val': transforms.Compose([\n",
    "                transforms.Resize(128), #new\n",
    "                transforms.ToTensor(),\n",
    "                normalize\n",
    "            ]),\n",
    "            'test': transforms.Compose([\n",
    "                transforms.Resize(128), #new\n",
    "                transforms.ToTensor(),\n",
    "                normalize\n",
    "            ])\n",
    "        }\n",
    "    else:\n",
    "        normalize_A = A.Normalize(mean=(0.485, 0.456, 0.406), \n",
    "                                  std=(0.229, 0.224, 0.225))\n",
    "        data_transforms = {\n",
    "            'train': A.Compose(\n",
    "            [\n",
    "                A.SmallestMaxSize(max_size=160),\n",
    "                #A.RandomCrop(width=148, height=148),\n",
    "                A.HorizontalFlip(p=0.5),\n",
    "                A.ShiftScaleRotate(shift_limit=0.05, scale_limit=0.05, \n",
    "                                  rotate_limit=15, p=0.5),\n",
    "                A.FancyPCA(p=0.5), #http://papers.nips.cc/paper/4824-imagenet-classification-with-deep-convolutional-neural-networks.pdf\n",
    "                A.GaussNoise(var_limit=(10.0, 80.0), p=0.5),\n",
    "                A.GaussianBlur(p=0.2),\n",
    "                A.RandomBrightnessContrast(p=0.5),\n",
    "                A.CoarseDropout(),\n",
    "                normalize_A,\n",
    "                ToTensorV2(),\n",
    "                \n",
    "            ]),\n",
    "            'val': A.Compose([\n",
    "                    A.SmallestMaxSize(max_size=160),\n",
    "                    #A.CenterCrop(height=148, width=148),\n",
    "                    normalize_A,\n",
    "                    ToTensorV2(),\n",
    "            ]\n",
    "            ),\n",
    "            'test': A.Compose([\n",
    "                A.SmallestMaxSize(max_size=160),\n",
    "                #A.CenterCrop(height=148, width=148),\n",
    "                normalize_A,\n",
    "                ToTensorV2(),\n",
    "            ])\n",
    "        }\n",
    "\n",
    "    image_datasets = {x: CelebaDataset(config.IMG_DIR, attributes_list[x], \n",
    "                                       data_transforms[x]) \n",
    "                      for x in phases}\n",
    "    dataloaders = {x: torch.utils.data.DataLoader(image_datasets[x], \n",
    "                                                  batch_size=batch_sizes[x],\n",
    "                                                  pin_memory=True, shuffle=(x == 'train'), \n",
    "                                                  num_workers=config.dl_workers) \n",
    "                   for x in phases}\n",
    "    if print_info:\n",
    "        dataset_sizes = {x: len(image_datasets[x]) for x in phases}\n",
    "        print(f\"Dataset sizes: {dataset_sizes}\")\n",
    "        \n",
    "    if config.evaluate:\n",
    "        class_names = image_datasets['test'].targets\n",
    "    else:\n",
    "        class_names = image_datasets['train'].targets\n",
    "    print(f\"Class Labels: {len(class_names[0])}\")\n",
    "    assert len(attribute_names) == len(class_names[0])\n",
    "    return dataloaders, attribute_names"
   ]
  },
  {
   "cell_type": "markdown",
   "metadata": {
    "id": "qtfDq7Z2F6Nh",
    "pycharm": {
     "is_executing": true
    }
   },
   "source": [
    "### Model Architecture Initialization"
   ]
  },
  {
   "cell_type": "code",
   "execution_count": 11,
   "metadata": {
    "pycharm": {
     "is_executing": true
    }
   },
   "outputs": [
    {
     "name": "stdout",
     "output_type": "stream",
     "text": [
      "Available Models: ['FaceAttrMobileNetV2', 'FaceAttrResNeXt', 'FaceAttrResNet']\n"
     ]
    }
   ],
   "source": [
    "model_names = sorted(name for name in models.__dict__\n",
    "                     if callable(models.__dict__[name])) # and name.islower() and not name.startswith(\"__\"))\n",
    "print(f\"Available Models: {model_names}\")"
   ]
  },
  {
   "cell_type": "code",
   "execution_count": 12,
   "metadata": {},
   "outputs": [
    {
     "name": "stdout",
     "output_type": "stream",
     "text": [
      "=> creating model 'FaceAttrResNet'\n"
     ]
    }
   ],
   "source": [
    "def create_model(device):\n",
    "    print(\"=> creating model '{}'\".format(config.arch))\n",
    "    if config.arch.startswith('FaceAttrResNet'):\n",
    "        model = models.__dict__[config.arch](resnet_layers = config.pt_layers)\n",
    "    elif config.arch.startswith('FaceAttrResNeXt'):\n",
    "        model = models.__dict__[config.arch](resnet_layers = config.pt_layers)\n",
    "    elif config.arch.startswith('FaceAttrMobileNetV2'):\n",
    "        model = models.__dict__[config.arch]()\n",
    "    #print(model)\n",
    "    model = model.to(device)\n",
    "    return model\n",
    "#print(model)\n",
    "model = create_model(device)"
   ]
  },
  {
   "cell_type": "markdown",
   "metadata": {},
   "source": [
    "### Criterion & Optimizer"
   ]
  },
  {
   "cell_type": "code",
   "execution_count": 13,
   "metadata": {
    "pycharm": {
     "is_executing": true
    }
   },
   "outputs": [],
   "source": [
    "def get_criterion():\n",
    "    criterion = nn.CrossEntropyLoss().to(device)\n",
    "    if config.criterion == 'BinaryFocalLoss':\n",
    "        criterion = losses.BinaryFocalLoss().to(device)\n",
    "    elif config.criterion == 'FocalLoss':\n",
    "        criterion = losses.FocalLoss(alpha=0.25, gamma=5, reduction='mean').to(device)\n",
    "    return criterion\n",
    "\n",
    "criterion = get_criterion()"
   ]
  },
  {
   "cell_type": "code",
   "execution_count": 14,
   "metadata": {},
   "outputs": [],
   "source": [
    "def get_optimizer(model):\n",
    "    optimizer = torch.optim.SGD(model.parameters(), config.lr,\n",
    "                            momentum=config.momentum,\n",
    "                            weight_decay=config.weight_decay)\n",
    "    if config.optimizer == 'Adam':\n",
    "        optimizer = torch.optim.Adam(model.parameters(), config.lr,\n",
    "                            weight_decay=config.weight_decay)\n",
    "    elif config.optimizer == 'AdamW':\n",
    "        optimizer = torch.optim.AdamW(model.parameters(), config.lr,\n",
    "                            weight_decay=config.weight_decay)\n",
    "    return optimizer\n",
    "\n",
    "optimizer = get_optimizer(model)"
   ]
  },
  {
   "cell_type": "markdown",
   "metadata": {},
   "source": [
    "### Resume Checkpoint if any"
   ]
  },
  {
   "cell_type": "code",
   "execution_count": 15,
   "metadata": {},
   "outputs": [
    {
     "name": "stdout",
     "output_type": "stream",
     "text": [
      "=> Model trained time: 00:00:00\n"
     ]
    }
   ],
   "source": [
    "def resume_checkpoint(model, optimizer, ckp_logger_fname, ckp_resume=None):\n",
    "    if not os.path.isdir(config.CHECKPOINT_DIR):\n",
    "        try: \n",
    "            os.makedirs(config.CHECKPOINT_DIR)\n",
    "        except OSError:\n",
    "            raise\n",
    "            \n",
    "    start_epoch = 0\n",
    "    best_prec1 = 0\n",
    "    lr = config.lr\n",
    "\n",
    "    if ckp_resume and os.path.isfile(ckp_resume): \n",
    "        print(f\"=> resuming model: {ckp_resume}\")\n",
    "        optimizer, start_epoch, best_prec1, lr, total_train_time = model.load_ckp(optimizer, ckp_resume)\n",
    "        model_timer = ModelTimer(total_train_time)\n",
    "        if config.scheduler == 'Manual':\n",
    "            lr = config.lr # self adjust from original\n",
    "        config.checkpoint = os.path.dirname(ckp_resume)\n",
    "        logger = Logger(ckp_logger_fname, title=model.name, resume=True)\n",
    "    else:\n",
    "        model_timer = ModelTimer()\n",
    "        logger = Logger(ckp_logger_fname, title=model.name)\n",
    "        logger.set_names(['Learning Rate', 'Train Loss', 'Valid Loss', 'Train Acc.', 'Valid Acc.'])\n",
    "        \n",
    "        \n",
    "    return best_prec1, model_timer, lr, start_epoch, logger\n",
    "\n",
    "best_prec1, mt, lr, start_epoch, logger = resume_checkpoint(model, optimizer, config.ckp_logger_fname, config.ckp_resume)\n",
    "print(f\"=> Model trained time: {mt}\")"
   ]
  },
  {
   "cell_type": "markdown",
   "metadata": {},
   "source": [
    "## Train & Validate Function"
   ]
  },
  {
   "cell_type": "code",
   "execution_count": 16,
   "metadata": {},
   "outputs": [],
   "source": [
    "def train(train_loader, model, criterion, optimizer):\n",
    "    bar = Bar('Processing', max=len(train_loader))\n",
    "\n",
    "    batch_time = AverageMeter()\n",
    "    data_time = AverageMeter()\n",
    "    losses = [AverageMeter() for _ in range(40)]\n",
    "    top1 = [AverageMeter() for _ in range(40)]\n",
    "\n",
    "    # switch to train mode\n",
    "    model.train()\n",
    "\n",
    "    end = time.time()\n",
    "    for i, (X, y) in enumerate(tqdm(train_loader, disable=config.disable_tqdm)):\n",
    "        # measure data loading time\n",
    "        data_time.update(time.time() - end)\n",
    "\n",
    "        # Overlapping transfer if pinned memory\n",
    "        X = X.to(device, non_blocking=True)\n",
    "        y = y.to(device, non_blocking=True)\n",
    "    \n",
    "        # compute output\n",
    "        output = model(X)\n",
    "        # measure accuracy and record loss\n",
    "        loss = []\n",
    "        prec1 = []\n",
    "        for j in range(len(output)): \n",
    "            # output[j]: [N,C] y[:,j]:[N]\n",
    "            # CE Criterion: [] scalar\n",
    "#             print(\"output s: \", output[j].shape)\n",
    "#             print(\"output y: \", y[:, j].shape)\n",
    "            crit = criterion(output[j], y[:, j])\n",
    "#             print(crit.detach())\n",
    "            loss.append(crit)\n",
    "            prec1.append(accuracy(output[j], y[:, j], topk=(1,)))\n",
    "            losses[j].update(loss[j].detach().item(), X.size(0))\n",
    "            top1[j].update(prec1[j][0].item(), X.size(0))\n",
    "            \n",
    "        losses_avg = [losses[k].avg for k in range(len(losses))]\n",
    "        top1_avg = [top1[k].avg for k in range(len(top1))]\n",
    "        loss_avg = sum(losses_avg) / len(losses_avg)\n",
    "        prec1_avg = sum(top1_avg) / len(top1_avg)\n",
    "\n",
    "        # compute gradient and do optimizer step\n",
    "        optimizer.zero_grad()\n",
    "        loss_sum = sum(loss)\n",
    "        loss_sum.backward()\n",
    "        optimizer.step()\n",
    "\n",
    "        # measure elapsed time\n",
    "        batch_time.update(time.time() - end)\n",
    "        end = time.time()\n",
    "\n",
    "        # plot progress\n",
    "        print_line = '({batch}/{size}) Data: {data:.3f}s | Batch: {bt:.3f}s | Total: {total:} | ETA: {eta:} | Loss: {loss:.4f} | top1: {top1: .4f}'.format(\n",
    "                        batch=i + 1,\n",
    "                        size=len(train_loader),\n",
    "                        data=data_time.avg,\n",
    "                        bt=batch_time.avg,\n",
    "                        total=bar.elapsed_td,\n",
    "                        eta=bar.eta_td,\n",
    "                        loss=loss_avg,\n",
    "                        top1=prec1_avg,\n",
    "                        )\n",
    "        if not config.disable_tqdm and (i+1)% 100 == 0:\n",
    "            print(print_line)\n",
    "        bar.suffix  = print_line\n",
    "        bar.next()\n",
    "    bar.finish()\n",
    "    return (loss_avg, prec1_avg)"
   ]
  },
  {
   "cell_type": "code",
   "execution_count": 17,
   "metadata": {},
   "outputs": [],
   "source": [
    "def validate(val_loader, model, criterion):\n",
    "    bar = Bar('Processing', max=len(val_loader))\n",
    "\n",
    "    batch_time = AverageMeter()\n",
    "    data_time = AverageMeter()\n",
    "    losses = [AverageMeter() for _ in range(40)]\n",
    "    top1 = [AverageMeter() for _ in range(40)]\n",
    "\n",
    "    # switch to evaluate mode\n",
    "    model.eval()\n",
    "\n",
    "    with torch.no_grad():\n",
    "        end = time.time()\n",
    "        for i, (X, y) in enumerate(tqdm(val_loader, disable=config.disable_tqdm)):\n",
    "            # measure data loading time\n",
    "            data_time.update(time.time() - end)\n",
    "\n",
    "            # Overlapping transfer if pinned memory\n",
    "            X = X.to(device, non_blocking=True)\n",
    "            y = y.to(device, non_blocking=True)\n",
    "\n",
    "            # compute output\n",
    "            output = model(X)\n",
    "            # measure accuracy and record loss\n",
    "            loss = []\n",
    "            prec1 = []\n",
    "            for j in range(len(output)):\n",
    "                loss.append(criterion(output[j], y[:, j]))\n",
    "                prec1.append(accuracy(output[j], y[:, j], topk=(1,)))\n",
    "                \n",
    "                losses[j].update(loss[j].detach().item(), X.size(0))\n",
    "                top1[j].update(prec1[j][0].item(), X.size(0))\n",
    "            losses_avg = [losses[k].avg for k in range(len(losses))]\n",
    "            top1_avg = [top1[k].avg for k in range(len(top1))]\n",
    "            loss_avg = sum(losses_avg) / len(losses_avg)\n",
    "            prec1_avg = sum(top1_avg) / len(top1_avg)\n",
    "\n",
    "            # measure elapsed time\n",
    "            batch_time.update(time.time() - end)\n",
    "            end = time.time()\n",
    "            \n",
    "            # plot progress\n",
    "            print_line = '({batch}/{size}) Data: {data:.3f}s | Batch: {bt:.3f}s | Total: {total:} | ETA: {eta:} | Loss: {loss:.4f} | top1: {top1: .4f}'.format(\n",
    "                            batch=i + 1,\n",
    "                            size=len(val_loader),\n",
    "                            data=data_time.avg,\n",
    "                            bt=batch_time.avg,\n",
    "                            total=bar.elapsed_td,\n",
    "                            eta=bar.eta_td,\n",
    "                            loss=loss_avg,\n",
    "                            top1=prec1_avg,\n",
    "                            )\n",
    "\n",
    "            bar.suffix  = print_line\n",
    "            bar.next()  \n",
    "\n",
    "    if not config.disable_tqdm:\n",
    "        print(print_line)        \n",
    "    bar.finish()\n",
    "    return (loss_avg, prec1_avg, top1)"
   ]
  },
  {
   "cell_type": "markdown",
   "metadata": {},
   "source": [
    "## Main Function"
   ]
  },
  {
   "cell_type": "code",
   "execution_count": 18,
   "metadata": {},
   "outputs": [],
   "source": [
    "def trainer(dataloaders, model, criterion, optimizer, logger, start_epoch, best_prec1, run_name, model_timer):\n",
    "    # visualization\n",
    "    writer = SummaryWriter(os.path.join(config.tensorboard_dir, run_name))\n",
    "    \n",
    "    for epoch in range(start_epoch, config.epochs):\n",
    "        model_timer.start_epoch_timer()\n",
    "        lr = adjust_learning_rate(optimizer, config.lr_decay, epoch, gamma=config.gamma, step=config.step,\n",
    "                                 total_epochs=config.epochs, turning_point=config.turning_point,\n",
    "                                 schedule=config.schedule)\n",
    "\n",
    "        print('\\nEpoch: [%d | %d] LR: %.16f' % (epoch + 1, config.epochs, lr))\n",
    "\n",
    "        # train for one epoch\n",
    "        train_loss, train_acc = train(dataloaders['train'], model, criterion, optimizer)\n",
    "\n",
    "        # evaluate on validation set\n",
    "        val_loss, prec1, _ = validate(dataloaders['val'], model, criterion)\n",
    "\n",
    "        # append logger file\n",
    "        logger.append([lr, train_loss, val_loss, train_acc, prec1])\n",
    "\n",
    "        # tensorboardX\n",
    "        writer.add_scalar('learning rate', lr, epoch + 1)\n",
    "        writer.add_scalars('loss', {'train loss': train_loss, 'validation loss': val_loss}, epoch + 1)\n",
    "        writer.add_scalars('accuracy', {'train accuracy': train_acc, 'validation accuracy': prec1}, epoch + 1)\n",
    "        #for name, param in model.named_parameters():\n",
    "        #    writer.add_histogram(name, param.clone().cpu().data.numpy(), epoch + 1)\n",
    "\n",
    "        is_best = prec1 > best_prec1\n",
    "        best_prec1 = max(prec1, best_prec1)\n",
    "        model_timer.stop_epoch_timer()\n",
    "        model.save_ckp({\n",
    "            'epoch': epoch + 1,\n",
    "            'arch': model.name,\n",
    "            'state_dict': model.state_dict(),\n",
    "            'best_prec1': best_prec1,\n",
    "            'optimizer' : optimizer.state_dict(),\n",
    "            'lr': lr,\n",
    "            'total_time': model_timer.total_time\n",
    "        }, is_best, config.checkpoint_fname,config.bestmodel_fname)\n",
    "\n",
    "    logger.close()\n",
    "    logger.plot()\n",
    "    savefig(config.train_plotfig)\n",
    "    writer.close()\n",
    "\n",
    "    print('Best accuracy:')\n",
    "    print(best_prec1)\n",
    "    return model_timer"
   ]
  },
  {
   "cell_type": "code",
   "execution_count": 19,
   "metadata": {},
   "outputs": [],
   "source": [
    "def get_run_name_time(model, criterion, optimizer, comments):\n",
    "    try:\n",
    "        if criterion.name:\n",
    "            p_criterion = criterion.name\n",
    "    except:\n",
    "        p_criterion = 'CE'\n",
    "\n",
    "    p_optimizer = f'{str(optimizer).split(\"(\")[0].strip()}'\n",
    "    p_scheduler = f'{config.lr_decay}_lr{config.lr}_wd{config.weight_decay}'\n",
    "    if config.lr_decay == 'step':\n",
    "        p_scheduler += f'_g{config.gamma}_sp{config.step}'\n",
    "    elif config.lr_decay == 'linear2exp':\n",
    "        p_scheduler += f'_g{config.gamma}_tp{config.turning_point}'\n",
    "    elif config.lr_decay == 'schedule':\n",
    "        p_scheduler += f'_g{config.gamma}_sch{config.schedule}'\n",
    "\n",
    "    run_name = f'{model.name}_{config.manual_seed}_s{start_epoch}e{config.epochs}_' \\\n",
    "                + f'tb{config.train_batch}_vb{config.test_batch}_' \\\n",
    "                + f'{p_criterion}_{p_optimizer}_' \\\n",
    "                + f'{comments}_' \\\n",
    "                + f'{p_scheduler}'\n",
    "    \n",
    "    run_time = datetime.now().strftime(\"%Y%m%d_%H%M%S\")\n",
    "    print(run_name, run_time)\n",
    "    return run_name, run_time"
   ]
  },
  {
   "cell_type": "markdown",
   "metadata": {},
   "source": [
    "## Training Loop"
   ]
  },
  {
   "cell_type": "code",
   "execution_count": 20,
   "metadata": {
    "id": "PWCHnDeVD4WT",
    "pycharm": {
     "is_executing": true
    }
   },
   "outputs": [
    {
     "name": "stdout",
     "output_type": "stream",
     "text": [
      "=> creating model 'FaceAttrResNet'\n"
     ]
    },
    {
     "name": "stderr",
     "output_type": "stream",
     "text": [
      "  0%|                                                                                          | 0/636 [00:00<?, ?it/s]"
     ]
    },
    {
     "name": "stdout",
     "output_type": "stream",
     "text": [
      "Dataset sizes: {'train': 162770, 'val': 19867}\n",
      "Class Labels: 40\n",
      "=> Training model: True\n",
      "FaceAttrResNet18_42_s0e50_tb256_vb128_FL_AdamW_albuv2_step_lr0.01_wd0.0001_g0.1_sp30 20201007_093338\n",
      "\n",
      "Epoch: [1 | 50] LR: 0.0100000000000000\n"
     ]
    },
    {
     "name": "stderr",
     "output_type": "stream",
     "text": [
      " 16%|████████████▌                                                                   | 100/636 [01:25<07:09,  1.25it/s]"
     ]
    },
    {
     "name": "stdout",
     "output_type": "stream",
     "text": [
      "(100/636) Data: 0.381s | Batch: 0.854s | Total: 0:01:25 | ETA: 0:07:41 | Loss: 0.0132 | top1:  78.3752\n"
     ]
    },
    {
     "name": "stderr",
     "output_type": "stream",
     "text": [
      " 31%|█████████████████████████▏                                                      | 200/636 [02:33<03:43,  1.95it/s]"
     ]
    },
    {
     "name": "stdout",
     "output_type": "stream",
     "text": [
      "(200/636) Data: 0.318s | Batch: 0.768s | Total: 0:02:33 | ETA: 0:04:11 | Loss: 0.0115 | top1:  79.1866\n"
     ]
    },
    {
     "name": "stderr",
     "output_type": "stream",
     "text": [
      " 47%|█████████████████████████████████████▋                                          | 300/636 [03:42<03:35,  1.56it/s]"
     ]
    },
    {
     "name": "stdout",
     "output_type": "stream",
     "text": [
      "(300/636) Data: 0.302s | Batch: 0.743s | Total: 0:03:42 | ETA: 0:03:32 | Loss: 0.0102 | top1:  79.5560\n"
     ]
    },
    {
     "name": "stderr",
     "output_type": "stream",
     "text": [
      " 63%|██████████████████████████████████████████████████▎                             | 400/636 [04:50<01:59,  1.98it/s]"
     ]
    },
    {
     "name": "stdout",
     "output_type": "stream",
     "text": [
      "(400/636) Data: 0.287s | Batch: 0.726s | Total: 0:04:50 | ETA: 0:02:21 | Loss: 0.0094 | top1:  79.7726\n"
     ]
    },
    {
     "name": "stderr",
     "output_type": "stream",
     "text": [
      " 79%|██████████████████████████████████████████████████████████████▉                 | 500/636 [05:58<01:32,  1.47it/s]"
     ]
    },
    {
     "name": "stdout",
     "output_type": "stream",
     "text": [
      "(500/636) Data: 0.280s | Batch: 0.717s | Total: 0:05:58 | ETA: 0:01:32 | Loss: 0.0089 | top1:  79.9156\n"
     ]
    },
    {
     "name": "stderr",
     "output_type": "stream",
     "text": [
      " 94%|███████████████████████████████████████████████████████████████████████████▍    | 600/636 [07:04<00:18,  1.92it/s]"
     ]
    },
    {
     "name": "stdout",
     "output_type": "stream",
     "text": [
      "(600/636) Data: 0.269s | Batch: 0.708s | Total: 0:07:04 | ETA: 0:00:24 | Loss: 0.0084 | top1:  79.9816\n"
     ]
    },
    {
     "name": "stderr",
     "output_type": "stream",
     "text": [
      "100%|████████████████████████████████████████████████████████████████████████████████| 636/636 [07:30<00:00,  1.41it/s]\n",
      "100%|████████████████████████████████████████████████████████████████████████████████| 156/156 [00:25<00:00,  6.23it/s]\n"
     ]
    },
    {
     "name": "stdout",
     "output_type": "stream",
     "text": [
      "(156/156) Data: 0.050s | Batch: 0.157s | Total: 0:00:24 | ETA: 0:00:01 | Loss: 0.0042 | top1:  80.7370\n",
      "=> saving checkpoint 'checkpoints\\checkpoint.pth.tar'\n",
      "=> saving best model 'checkpoints\\model_best.pth.tar'\n"
     ]
    },
    {
     "name": "stderr",
     "output_type": "stream",
     "text": [
      "  0%|                                                                                          | 0/636 [00:00<?, ?it/s]"
     ]
    },
    {
     "name": "stdout",
     "output_type": "stream",
     "text": [
      "\n",
      "Epoch: [2 | 50] LR: 0.0100000000000000\n"
     ]
    },
    {
     "name": "stderr",
     "output_type": "stream",
     "text": [
      " 16%|████████████▌                                                                   | 100/636 [01:01<04:18,  2.07it/s]"
     ]
    },
    {
     "name": "stdout",
     "output_type": "stream",
     "text": [
      "(100/636) Data: 0.121s | Batch: 0.617s | Total: 0:01:01 | ETA: 0:04:20 | Loss: 0.0049 | top1:  80.3880\n"
     ]
    },
    {
     "name": "stderr",
     "output_type": "stream",
     "text": [
      " 31%|█████████████████████████▏                                                      | 200/636 [01:49<03:27,  2.10it/s]"
     ]
    },
    {
     "name": "stdout",
     "output_type": "stream",
     "text": [
      "(200/636) Data: 0.062s | Batch: 0.548s | Total: 0:01:49 | ETA: 0:03:30 | Loss: 0.0049 | top1:  80.4278\n"
     ]
    },
    {
     "name": "stderr",
     "output_type": "stream",
     "text": [
      " 47%|█████████████████████████████████████▋                                          | 300/636 [02:38<02:40,  2.09it/s]"
     ]
    },
    {
     "name": "stdout",
     "output_type": "stream",
     "text": [
      "(300/636) Data: 0.042s | Batch: 0.527s | Total: 0:02:38 | ETA: 0:02:43 | Loss: 0.0047 | top1:  80.4585\n"
     ]
    },
    {
     "name": "stderr",
     "output_type": "stream",
     "text": [
      " 63%|██████████████████████████████████████████████████▎                             | 400/636 [03:26<01:53,  2.07it/s]"
     ]
    },
    {
     "name": "stdout",
     "output_type": "stream",
     "text": [
      "(400/636) Data: 0.032s | Batch: 0.516s | Total: 0:03:26 | ETA: 0:01:55 | Loss: 0.0046 | top1:  80.4569\n"
     ]
    },
    {
     "name": "stderr",
     "output_type": "stream",
     "text": [
      " 79%|██████████████████████████████████████████████████████████████▉                 | 500/636 [04:15<01:05,  2.08it/s]"
     ]
    },
    {
     "name": "stdout",
     "output_type": "stream",
     "text": [
      "(500/636) Data: 0.026s | Batch: 0.510s | Total: 0:04:15 | ETA: 0:01:07 | Loss: 0.0045 | top1:  80.4528\n"
     ]
    },
    {
     "name": "stderr",
     "output_type": "stream",
     "text": [
      " 94%|███████████████████████████████████████████████████████████████████████████▍    | 600/636 [05:03<00:17,  2.06it/s]"
     ]
    },
    {
     "name": "stdout",
     "output_type": "stream",
     "text": [
      "(600/636) Data: 0.022s | Batch: 0.506s | Total: 0:05:03 | ETA: 0:00:18 | Loss: 0.0044 | top1:  80.4708\n"
     ]
    },
    {
     "name": "stderr",
     "output_type": "stream",
     "text": [
      "100%|████████████████████████████████████████████████████████████████████████████████| 636/636 [05:21<00:00,  1.98it/s]\n",
      "100%|████████████████████████████████████████████████████████████████████████████████| 156/156 [00:22<00:00,  6.83it/s]\n"
     ]
    },
    {
     "name": "stdout",
     "output_type": "stream",
     "text": [
      "(156/156) Data: 0.050s | Batch: 0.143s | Total: 0:00:22 | ETA: 0:00:01 | Loss: 0.0036 | top1:  80.6643\n",
      "=> saving checkpoint 'checkpoints\\checkpoint.pth.tar'\n"
     ]
    },
    {
     "name": "stderr",
     "output_type": "stream",
     "text": [
      "  0%|                                                                                          | 0/636 [00:00<?, ?it/s]"
     ]
    },
    {
     "name": "stdout",
     "output_type": "stream",
     "text": [
      "\n",
      "Epoch: [3 | 50] LR: 0.0100000000000000\n"
     ]
    },
    {
     "name": "stderr",
     "output_type": "stream",
     "text": [
      " 16%|████████████▌                                                                   | 100/636 [01:01<04:17,  2.08it/s]"
     ]
    },
    {
     "name": "stdout",
     "output_type": "stream",
     "text": [
      "(100/636) Data: 0.123s | Batch: 0.614s | Total: 0:01:01 | ETA: 0:04:18 | Loss: 0.0041 | top1:  80.4623\n"
     ]
    },
    {
     "name": "stderr",
     "output_type": "stream",
     "text": [
      " 31%|█████████████████████████▏                                                      | 200/636 [01:49<03:32,  2.06it/s]"
     ]
    },
    {
     "name": "stdout",
     "output_type": "stream",
     "text": [
      "(200/636) Data: 0.063s | Batch: 0.548s | Total: 0:01:49 | ETA: 0:03:35 | Loss: 0.0040 | top1:  80.5112\n"
     ]
    },
    {
     "name": "stderr",
     "output_type": "stream",
     "text": [
      " 47%|█████████████████████████████████████▋                                          | 300/636 [02:37<02:46,  2.02it/s]"
     ]
    },
    {
     "name": "stdout",
     "output_type": "stream",
     "text": [
      "(300/636) Data: 0.043s | Batch: 0.526s | Total: 0:02:37 | ETA: 0:02:43 | Loss: 0.0041 | top1:  80.4996\n"
     ]
    },
    {
     "name": "stderr",
     "output_type": "stream",
     "text": [
      " 63%|██████████████████████████████████████████████████▎                             | 400/636 [03:26<01:54,  2.06it/s]"
     ]
    },
    {
     "name": "stdout",
     "output_type": "stream",
     "text": [
      "(400/636) Data: 0.032s | Batch: 0.516s | Total: 0:03:26 | ETA: 0:01:56 | Loss: 0.0040 | top1:  80.5018\n"
     ]
    },
    {
     "name": "stderr",
     "output_type": "stream",
     "text": [
      " 79%|██████████████████████████████████████████████████████████████▉                 | 500/636 [04:14<01:05,  2.09it/s]"
     ]
    },
    {
     "name": "stdout",
     "output_type": "stream",
     "text": [
      "(500/636) Data: 0.026s | Batch: 0.509s | Total: 0:04:14 | ETA: 0:01:06 | Loss: 0.0040 | top1:  80.5002\n"
     ]
    },
    {
     "name": "stderr",
     "output_type": "stream",
     "text": [
      " 94%|███████████████████████████████████████████████████████████████████████████▍    | 600/636 [05:02<00:17,  2.11it/s]"
     ]
    },
    {
     "name": "stdout",
     "output_type": "stream",
     "text": [
      "(600/636) Data: 0.022s | Batch: 0.504s | Total: 0:05:02 | ETA: 0:00:18 | Loss: 0.0040 | top1:  80.5076\n"
     ]
    },
    {
     "name": "stderr",
     "output_type": "stream",
     "text": [
      "100%|████████████████████████████████████████████████████████████████████████████████| 636/636 [05:20<00:00,  1.98it/s]\n",
      "100%|████████████████████████████████████████████████████████████████████████████████| 156/156 [00:22<00:00,  6.83it/s]\n"
     ]
    },
    {
     "name": "stdout",
     "output_type": "stream",
     "text": [
      "(156/156) Data: 0.049s | Batch: 0.143s | Total: 0:00:22 | ETA: 0:00:01 | Loss: 0.0036 | top1:  80.8172\n",
      "=> saving checkpoint 'checkpoints\\checkpoint.pth.tar'\n",
      "=> saving best model 'checkpoints\\model_best.pth.tar'\n"
     ]
    },
    {
     "name": "stderr",
     "output_type": "stream",
     "text": [
      "  0%|                                                                                          | 0/636 [00:00<?, ?it/s]"
     ]
    },
    {
     "name": "stdout",
     "output_type": "stream",
     "text": [
      "\n",
      "Epoch: [4 | 50] LR: 0.0100000000000000\n"
     ]
    },
    {
     "name": "stderr",
     "output_type": "stream",
     "text": [
      " 16%|████████████▌                                                                   | 100/636 [01:01<04:28,  2.00it/s]"
     ]
    },
    {
     "name": "stdout",
     "output_type": "stream",
     "text": [
      "(100/636) Data: 0.121s | Batch: 0.615s | Total: 0:01:01 | ETA: 0:04:23 | Loss: 0.0039 | top1:  80.5396\n"
     ]
    },
    {
     "name": "stderr",
     "output_type": "stream",
     "text": [
      " 31%|█████████████████████████▏                                                      | 200/636 [01:49<03:30,  2.07it/s]"
     ]
    },
    {
     "name": "stdout",
     "output_type": "stream",
     "text": [
      "(200/636) Data: 0.061s | Batch: 0.548s | Total: 0:01:49 | ETA: 0:03:30 | Loss: 0.0038 | top1:  80.5908\n"
     ]
    },
    {
     "name": "stderr",
     "output_type": "stream",
     "text": [
      " 47%|█████████████████████████████████████▋                                          | 300/636 [02:37<02:42,  2.07it/s]"
     ]
    },
    {
     "name": "stdout",
     "output_type": "stream",
     "text": [
      "(300/636) Data: 0.042s | Batch: 0.526s | Total: 0:02:37 | ETA: 0:02:43 | Loss: 0.0038 | top1:  80.6053\n"
     ]
    },
    {
     "name": "stderr",
     "output_type": "stream",
     "text": [
      " 63%|██████████████████████████████████████████████████▎                             | 400/636 [03:26<01:52,  2.10it/s]"
     ]
    },
    {
     "name": "stdout",
     "output_type": "stream",
     "text": [
      "(400/636) Data: 0.032s | Batch: 0.515s | Total: 0:03:26 | ETA: 0:01:54 | Loss: 0.0038 | top1:  80.6201\n"
     ]
    },
    {
     "name": "stderr",
     "output_type": "stream",
     "text": [
      " 79%|██████████████████████████████████████████████████████████████▉                 | 500/636 [04:14<01:05,  2.07it/s]"
     ]
    },
    {
     "name": "stdout",
     "output_type": "stream",
     "text": [
      "(500/636) Data: 0.026s | Batch: 0.509s | Total: 0:04:14 | ETA: 0:01:07 | Loss: 0.0038 | top1:  80.5797\n"
     ]
    },
    {
     "name": "stderr",
     "output_type": "stream",
     "text": [
      " 94%|███████████████████████████████████████████████████████████████████████████▍    | 600/636 [05:09<00:18,  1.95it/s]"
     ]
    },
    {
     "name": "stdout",
     "output_type": "stream",
     "text": [
      "(600/636) Data: 0.022s | Batch: 0.516s | Total: 0:05:09 | ETA: 0:00:20 | Loss: 0.0038 | top1:  80.5795\n"
     ]
    },
    {
     "name": "stderr",
     "output_type": "stream",
     "text": [
      "100%|████████████████████████████████████████████████████████████████████████████████| 636/636 [05:28<00:00,  1.94it/s]\n",
      "100%|████████████████████████████████████████████████████████████████████████████████| 156/156 [00:22<00:00,  6.97it/s]\n"
     ]
    },
    {
     "name": "stdout",
     "output_type": "stream",
     "text": [
      "(156/156) Data: 0.048s | Batch: 0.140s | Total: 0:00:21 | ETA: 0:00:01 | Loss: 0.0036 | top1:  80.7930\n",
      "=> saving checkpoint 'checkpoints\\checkpoint.pth.tar'\n"
     ]
    },
    {
     "name": "stderr",
     "output_type": "stream",
     "text": [
      "  0%|                                                                                          | 0/636 [00:00<?, ?it/s]"
     ]
    },
    {
     "name": "stdout",
     "output_type": "stream",
     "text": [
      "\n",
      "Epoch: [5 | 50] LR: 0.0100000000000000\n"
     ]
    },
    {
     "name": "stderr",
     "output_type": "stream",
     "text": [
      " 16%|████████████▌                                                                   | 100/636 [01:01<04:22,  2.04it/s]"
     ]
    },
    {
     "name": "stdout",
     "output_type": "stream",
     "text": [
      "(100/636) Data: 0.120s | Batch: 0.612s | Total: 0:01:01 | ETA: 0:04:19 | Loss: 0.0038 | top1:  80.5763\n"
     ]
    },
    {
     "name": "stderr",
     "output_type": "stream",
     "text": [
      " 31%|█████████████████████████▏                                                      | 200/636 [01:49<03:31,  2.07it/s]"
     ]
    },
    {
     "name": "stdout",
     "output_type": "stream",
     "text": [
      "(200/636) Data: 0.061s | Batch: 0.547s | Total: 0:01:49 | ETA: 0:03:32 | Loss: 0.0038 | top1:  80.6144\n"
     ]
    },
    {
     "name": "stderr",
     "output_type": "stream",
     "text": [
      " 47%|█████████████████████████████████████▋                                          | 300/636 [02:37<02:43,  2.06it/s]"
     ]
    },
    {
     "name": "stdout",
     "output_type": "stream",
     "text": [
      "(300/636) Data: 0.041s | Batch: 0.526s | Total: 0:02:37 | ETA: 0:02:44 | Loss: 0.0038 | top1:  80.6719\n"
     ]
    },
    {
     "name": "stderr",
     "output_type": "stream",
     "text": [
      " 63%|██████████████████████████████████████████████████▎                             | 400/636 [03:26<01:56,  2.02it/s]"
     ]
    },
    {
     "name": "stdout",
     "output_type": "stream",
     "text": [
      "(400/636) Data: 0.031s | Batch: 0.515s | Total: 0:03:26 | ETA: 0:01:56 | Loss: 0.0038 | top1:  80.7175\n"
     ]
    },
    {
     "name": "stderr",
     "output_type": "stream",
     "text": [
      " 79%|██████████████████████████████████████████████████████████████▉                 | 500/636 [04:14<01:05,  2.06it/s]"
     ]
    },
    {
     "name": "stdout",
     "output_type": "stream",
     "text": [
      "(500/636) Data: 0.025s | Batch: 0.508s | Total: 0:04:14 | ETA: 0:01:07 | Loss: 0.0038 | top1:  80.7336\n"
     ]
    },
    {
     "name": "stderr",
     "output_type": "stream",
     "text": [
      " 94%|███████████████████████████████████████████████████████████████████████████▍    | 600/636 [05:02<00:17,  2.08it/s]"
     ]
    },
    {
     "name": "stdout",
     "output_type": "stream",
     "text": [
      "(600/636) Data: 0.021s | Batch: 0.504s | Total: 0:05:02 | ETA: 0:00:18 | Loss: 0.0038 | top1:  80.7326\n"
     ]
    },
    {
     "name": "stderr",
     "output_type": "stream",
     "text": [
      "100%|████████████████████████████████████████████████████████████████████████████████| 636/636 [05:20<00:00,  1.98it/s]\n",
      "100%|████████████████████████████████████████████████████████████████████████████████| 156/156 [00:22<00:00,  6.81it/s]\n"
     ]
    },
    {
     "name": "stdout",
     "output_type": "stream",
     "text": [
      "(156/156) Data: 0.051s | Batch: 0.144s | Total: 0:00:22 | ETA: 0:00:01 | Loss: 0.0036 | top1:  80.8926\n",
      "=> saving checkpoint 'checkpoints\\checkpoint.pth.tar'\n",
      "=> saving best model 'checkpoints\\model_best.pth.tar'\n"
     ]
    },
    {
     "name": "stderr",
     "output_type": "stream",
     "text": [
      "  0%|                                                                                          | 0/636 [00:00<?, ?it/s]"
     ]
    },
    {
     "name": "stdout",
     "output_type": "stream",
     "text": [
      "\n",
      "Epoch: [6 | 50] LR: 0.0100000000000000\n"
     ]
    },
    {
     "name": "stderr",
     "output_type": "stream",
     "text": [
      " 16%|████████████▌                                                                   | 100/636 [01:01<04:17,  2.08it/s]"
     ]
    },
    {
     "name": "stdout",
     "output_type": "stream",
     "text": [
      "(100/636) Data: 0.120s | Batch: 0.614s | Total: 0:01:01 | ETA: 0:04:19 | Loss: 0.0037 | top1:  80.8382\n"
     ]
    },
    {
     "name": "stderr",
     "output_type": "stream",
     "text": [
      " 31%|█████████████████████████▏                                                      | 200/636 [01:49<03:30,  2.07it/s]"
     ]
    },
    {
     "name": "stdout",
     "output_type": "stream",
     "text": [
      "(200/636) Data: 0.061s | Batch: 0.548s | Total: 0:01:49 | ETA: 0:03:31 | Loss: 0.0037 | top1:  80.9728\n"
     ]
    },
    {
     "name": "stderr",
     "output_type": "stream",
     "text": [
      " 47%|█████████████████████████████████████▋                                          | 300/636 [02:37<02:41,  2.08it/s]"
     ]
    },
    {
     "name": "stdout",
     "output_type": "stream",
     "text": [
      "(300/636) Data: 0.041s | Batch: 0.526s | Total: 0:02:37 | ETA: 0:02:44 | Loss: 0.0036 | top1:  81.1824\n"
     ]
    },
    {
     "name": "stderr",
     "output_type": "stream",
     "text": [
      " 63%|██████████████████████████████████████████████████▎                             | 400/636 [03:26<01:54,  2.05it/s]"
     ]
    },
    {
     "name": "stdout",
     "output_type": "stream",
     "text": [
      "(400/636) Data: 0.031s | Batch: 0.515s | Total: 0:03:26 | ETA: 0:01:55 | Loss: 0.0036 | top1:  81.3907\n"
     ]
    },
    {
     "name": "stderr",
     "output_type": "stream",
     "text": [
      " 79%|██████████████████████████████████████████████████████████████▉                 | 500/636 [04:14<01:05,  2.06it/s]"
     ]
    },
    {
     "name": "stdout",
     "output_type": "stream",
     "text": [
      "(500/636) Data: 0.025s | Batch: 0.509s | Total: 0:04:14 | ETA: 0:01:06 | Loss: 0.0036 | top1:  81.5644\n"
     ]
    },
    {
     "name": "stderr",
     "output_type": "stream",
     "text": [
      " 94%|███████████████████████████████████████████████████████████████████████████▍    | 600/636 [05:02<00:17,  2.08it/s]"
     ]
    },
    {
     "name": "stdout",
     "output_type": "stream",
     "text": [
      "(600/636) Data: 0.021s | Batch: 0.504s | Total: 0:05:02 | ETA: 0:00:18 | Loss: 0.0036 | top1:  81.7420\n"
     ]
    },
    {
     "name": "stderr",
     "output_type": "stream",
     "text": [
      "100%|████████████████████████████████████████████████████████████████████████████████| 636/636 [05:20<00:00,  1.98it/s]\n",
      "100%|████████████████████████████████████████████████████████████████████████████████| 156/156 [00:22<00:00,  6.94it/s]\n"
     ]
    },
    {
     "name": "stdout",
     "output_type": "stream",
     "text": [
      "(156/156) Data: 0.049s | Batch: 0.141s | Total: 0:00:22 | ETA: 0:00:01 | Loss: 0.0033 | top1:  82.5044\n",
      "=> saving checkpoint 'checkpoints\\checkpoint.pth.tar'\n",
      "=> saving best model 'checkpoints\\model_best.pth.tar'\n"
     ]
    },
    {
     "name": "stderr",
     "output_type": "stream",
     "text": [
      "  0%|                                                                                          | 0/636 [00:00<?, ?it/s]"
     ]
    },
    {
     "name": "stdout",
     "output_type": "stream",
     "text": [
      "\n",
      "Epoch: [7 | 50] LR: 0.0100000000000000\n"
     ]
    },
    {
     "name": "stderr",
     "output_type": "stream",
     "text": [
      " 16%|████████████▌                                                                   | 100/636 [01:01<04:17,  2.08it/s]"
     ]
    },
    {
     "name": "stdout",
     "output_type": "stream",
     "text": [
      "(100/636) Data: 0.119s | Batch: 0.610s | Total: 0:01:01 | ETA: 0:04:21 | Loss: 0.0033 | top1:  83.0471\n"
     ]
    },
    {
     "name": "stderr",
     "output_type": "stream",
     "text": [
      " 31%|█████████████████████████▏                                                      | 200/636 [01:49<03:28,  2.09it/s]"
     ]
    },
    {
     "name": "stdout",
     "output_type": "stream",
     "text": [
      "(200/636) Data: 0.061s | Batch: 0.547s | Total: 0:01:49 | ETA: 0:03:31 | Loss: 0.0032 | top1:  83.2640\n"
     ]
    },
    {
     "name": "stderr",
     "output_type": "stream",
     "text": [
      " 47%|█████████████████████████████████████▋                                          | 300/636 [02:37<02:41,  2.09it/s]"
     ]
    },
    {
     "name": "stdout",
     "output_type": "stream",
     "text": [
      "(300/636) Data: 0.041s | Batch: 0.525s | Total: 0:02:37 | ETA: 0:02:43 | Loss: 0.0032 | top1:  83.3078\n"
     ]
    },
    {
     "name": "stderr",
     "output_type": "stream",
     "text": [
      " 63%|██████████████████████████████████████████████████▎                             | 400/636 [03:25<01:53,  2.08it/s]"
     ]
    },
    {
     "name": "stdout",
     "output_type": "stream",
     "text": [
      "(400/636) Data: 0.031s | Batch: 0.514s | Total: 0:03:25 | ETA: 0:01:54 | Loss: 0.0032 | top1:  83.3914\n"
     ]
    },
    {
     "name": "stderr",
     "output_type": "stream",
     "text": [
      " 79%|██████████████████████████████████████████████████████████████▉                 | 500/636 [04:14<01:05,  2.08it/s]"
     ]
    },
    {
     "name": "stdout",
     "output_type": "stream",
     "text": [
      "(500/636) Data: 0.025s | Batch: 0.508s | Total: 0:04:14 | ETA: 0:01:07 | Loss: 0.0032 | top1:  83.4848\n"
     ]
    },
    {
     "name": "stderr",
     "output_type": "stream",
     "text": [
      " 94%|███████████████████████████████████████████████████████████████████████████▍    | 600/636 [05:02<00:17,  2.10it/s]"
     ]
    },
    {
     "name": "stdout",
     "output_type": "stream",
     "text": [
      "(600/636) Data: 0.021s | Batch: 0.504s | Total: 0:05:02 | ETA: 0:00:18 | Loss: 0.0032 | top1:  83.5555\n"
     ]
    },
    {
     "name": "stderr",
     "output_type": "stream",
     "text": [
      "100%|████████████████████████████████████████████████████████████████████████████████| 636/636 [05:20<00:00,  1.99it/s]\n",
      "100%|████████████████████████████████████████████████████████████████████████████████| 156/156 [00:22<00:00,  6.97it/s]\n"
     ]
    },
    {
     "name": "stdout",
     "output_type": "stream",
     "text": [
      "(156/156) Data: 0.049s | Batch: 0.140s | Total: 0:00:21 | ETA: 0:00:01 | Loss: 0.0032 | top1:  84.0655\n",
      "=> saving checkpoint 'checkpoints\\checkpoint.pth.tar'\n",
      "=> saving best model 'checkpoints\\model_best.pth.tar'\n"
     ]
    },
    {
     "name": "stderr",
     "output_type": "stream",
     "text": [
      "  0%|                                                                                          | 0/636 [00:00<?, ?it/s]"
     ]
    },
    {
     "name": "stdout",
     "output_type": "stream",
     "text": [
      "\n",
      "Epoch: [8 | 50] LR: 0.0100000000000000\n"
     ]
    },
    {
     "name": "stderr",
     "output_type": "stream",
     "text": [
      " 16%|████████████▌                                                                   | 100/636 [01:01<04:20,  2.06it/s]"
     ]
    },
    {
     "name": "stdout",
     "output_type": "stream",
     "text": [
      "(100/636) Data: 0.120s | Batch: 0.613s | Total: 0:01:01 | ETA: 0:04:20 | Loss: 0.0030 | top1:  84.3961\n"
     ]
    },
    {
     "name": "stderr",
     "output_type": "stream",
     "text": [
      " 31%|█████████████████████████▏                                                      | 200/636 [01:49<03:32,  2.05it/s]"
     ]
    },
    {
     "name": "stdout",
     "output_type": "stream",
     "text": [
      "(200/636) Data: 0.061s | Batch: 0.547s | Total: 0:01:49 | ETA: 0:03:30 | Loss: 0.0030 | top1:  84.5028\n"
     ]
    },
    {
     "name": "stderr",
     "output_type": "stream",
     "text": [
      " 47%|█████████████████████████████████████▋                                          | 300/636 [02:37<02:41,  2.08it/s]"
     ]
    },
    {
     "name": "stdout",
     "output_type": "stream",
     "text": [
      "(300/636) Data: 0.041s | Batch: 0.526s | Total: 0:02:37 | ETA: 0:02:43 | Loss: 0.0031 | top1:  84.3934\n"
     ]
    },
    {
     "name": "stderr",
     "output_type": "stream",
     "text": [
      " 63%|██████████████████████████████████████████████████▎                             | 400/636 [03:25<01:53,  2.07it/s]"
     ]
    },
    {
     "name": "stdout",
     "output_type": "stream",
     "text": [
      "(400/636) Data: 0.031s | Batch: 0.515s | Total: 0:03:25 | ETA: 0:01:55 | Loss: 0.0031 | top1:  84.4837\n"
     ]
    },
    {
     "name": "stderr",
     "output_type": "stream",
     "text": [
      " 79%|██████████████████████████████████████████████████████████████▉                 | 500/636 [04:14<01:05,  2.08it/s]"
     ]
    },
    {
     "name": "stdout",
     "output_type": "stream",
     "text": [
      "(500/636) Data: 0.025s | Batch: 0.508s | Total: 0:04:14 | ETA: 0:01:06 | Loss: 0.0030 | top1:  84.7001\n"
     ]
    },
    {
     "name": "stderr",
     "output_type": "stream",
     "text": [
      " 94%|███████████████████████████████████████████████████████████████████████████▍    | 600/636 [05:02<00:17,  2.08it/s]"
     ]
    },
    {
     "name": "stdout",
     "output_type": "stream",
     "text": [
      "(600/636) Data: 0.021s | Batch: 0.504s | Total: 0:05:02 | ETA: 0:00:18 | Loss: 0.0030 | top1:  84.9020\n"
     ]
    },
    {
     "name": "stderr",
     "output_type": "stream",
     "text": [
      "100%|████████████████████████████████████████████████████████████████████████████████| 636/636 [05:20<00:00,  1.99it/s]\n",
      "100%|████████████████████████████████████████████████████████████████████████████████| 156/156 [00:22<00:00,  6.96it/s]\n"
     ]
    },
    {
     "name": "stdout",
     "output_type": "stream",
     "text": [
      "(156/156) Data: 0.049s | Batch: 0.141s | Total: 0:00:21 | ETA: 0:00:01 | Loss: 0.0026 | top1:  86.4842\n",
      "=> saving checkpoint 'checkpoints\\checkpoint.pth.tar'\n",
      "=> saving best model 'checkpoints\\model_best.pth.tar'\n"
     ]
    },
    {
     "name": "stderr",
     "output_type": "stream",
     "text": [
      "  0%|                                                                                          | 0/636 [00:00<?, ?it/s]"
     ]
    },
    {
     "name": "stdout",
     "output_type": "stream",
     "text": [
      "\n",
      "Epoch: [9 | 50] LR: 0.0100000000000000\n"
     ]
    },
    {
     "name": "stderr",
     "output_type": "stream",
     "text": [
      " 16%|████████████▌                                                                   | 100/636 [01:01<04:17,  2.08it/s]"
     ]
    },
    {
     "name": "stdout",
     "output_type": "stream",
     "text": [
      "(100/636) Data: 0.122s | Batch: 0.611s | Total: 0:01:01 | ETA: 0:04:18 | Loss: 0.0029 | top1:  85.8622\n"
     ]
    },
    {
     "name": "stderr",
     "output_type": "stream",
     "text": [
      " 31%|█████████████████████████▏                                                      | 200/636 [01:49<03:28,  2.09it/s]"
     ]
    },
    {
     "name": "stdout",
     "output_type": "stream",
     "text": [
      "(200/636) Data: 0.062s | Batch: 0.545s | Total: 0:01:49 | ETA: 0:03:30 | Loss: 0.0028 | top1:  86.1570\n"
     ]
    },
    {
     "name": "stderr",
     "output_type": "stream",
     "text": [
      " 47%|█████████████████████████████████████▋                                          | 300/636 [02:37<02:56,  1.90it/s]"
     ]
    },
    {
     "name": "stdout",
     "output_type": "stream",
     "text": [
      "(300/636) Data: 0.042s | Batch: 0.524s | Total: 0:02:37 | ETA: 0:02:48 | Loss: 0.0027 | top1:  86.3475\n"
     ]
    },
    {
     "name": "stderr",
     "output_type": "stream",
     "text": [
      " 63%|██████████████████████████████████████████████████▎                             | 400/636 [03:25<01:56,  2.03it/s]"
     ]
    },
    {
     "name": "stdout",
     "output_type": "stream",
     "text": [
      "(400/636) Data: 0.032s | Batch: 0.514s | Total: 0:03:25 | ETA: 0:01:56 | Loss: 0.0027 | top1:  86.4774\n"
     ]
    },
    {
     "name": "stderr",
     "output_type": "stream",
     "text": [
      " 79%|██████████████████████████████████████████████████████████████▉                 | 500/636 [04:13<01:05,  2.09it/s]"
     ]
    },
    {
     "name": "stdout",
     "output_type": "stream",
     "text": [
      "(500/636) Data: 0.026s | Batch: 0.508s | Total: 0:04:13 | ETA: 0:01:06 | Loss: 0.0027 | top1:  86.5909\n"
     ]
    },
    {
     "name": "stderr",
     "output_type": "stream",
     "text": [
      " 94%|███████████████████████████████████████████████████████████████████████████▍    | 600/636 [05:02<00:17,  2.09it/s]"
     ]
    },
    {
     "name": "stdout",
     "output_type": "stream",
     "text": [
      "(600/636) Data: 0.022s | Batch: 0.503s | Total: 0:05:02 | ETA: 0:00:18 | Loss: 0.0027 | top1:  86.7141\n"
     ]
    },
    {
     "name": "stderr",
     "output_type": "stream",
     "text": [
      "100%|████████████████████████████████████████████████████████████████████████████████| 636/636 [05:20<00:00,  1.99it/s]\n",
      "100%|████████████████████████████████████████████████████████████████████████████████| 156/156 [00:22<00:00,  6.98it/s]\n"
     ]
    },
    {
     "name": "stdout",
     "output_type": "stream",
     "text": [
      "(156/156) Data: 0.048s | Batch: 0.140s | Total: 0:00:21 | ETA: 0:00:01 | Loss: 0.0026 | top1:  87.5758\n",
      "=> saving checkpoint 'checkpoints\\checkpoint.pth.tar'\n",
      "=> saving best model 'checkpoints\\model_best.pth.tar'\n"
     ]
    },
    {
     "name": "stderr",
     "output_type": "stream",
     "text": [
      "  0%|                                                                                          | 0/636 [00:00<?, ?it/s]"
     ]
    },
    {
     "name": "stdout",
     "output_type": "stream",
     "text": [
      "\n",
      "Epoch: [10 | 50] LR: 0.0100000000000000\n"
     ]
    },
    {
     "name": "stderr",
     "output_type": "stream",
     "text": [
      " 16%|████████████▌                                                                   | 100/636 [01:00<04:18,  2.08it/s]"
     ]
    },
    {
     "name": "stdout",
     "output_type": "stream",
     "text": [
      "(100/636) Data: 0.121s | Batch: 0.608s | Total: 0:01:00 | ETA: 0:04:18 | Loss: 0.0027 | top1:  86.6117\n"
     ]
    },
    {
     "name": "stderr",
     "output_type": "stream",
     "text": [
      " 31%|█████████████████████████▏                                                      | 200/636 [01:48<03:27,  2.10it/s]"
     ]
    },
    {
     "name": "stdout",
     "output_type": "stream",
     "text": [
      "(200/636) Data: 0.061s | Batch: 0.544s | Total: 0:01:48 | ETA: 0:03:31 | Loss: 0.0034 | top1:  84.9680\n"
     ]
    },
    {
     "name": "stderr",
     "output_type": "stream",
     "text": [
      " 47%|█████████████████████████████████████▋                                          | 300/636 [02:36<02:45,  2.03it/s]"
     ]
    },
    {
     "name": "stdout",
     "output_type": "stream",
     "text": [
      "(300/636) Data: 0.042s | Batch: 0.523s | Total: 0:02:36 | ETA: 0:02:45 | Loss: 0.0035 | top1:  83.4686\n"
     ]
    },
    {
     "name": "stderr",
     "output_type": "stream",
     "text": [
      " 63%|██████████████████████████████████████████████████▎                             | 400/636 [03:25<01:54,  2.06it/s]"
     ]
    },
    {
     "name": "stdout",
     "output_type": "stream",
     "text": [
      "(400/636) Data: 0.032s | Batch: 0.513s | Total: 0:03:25 | ETA: 0:01:56 | Loss: 0.0036 | top1:  82.7163\n"
     ]
    },
    {
     "name": "stderr",
     "output_type": "stream",
     "text": [
      " 79%|██████████████████████████████████████████████████████████████▉                 | 500/636 [04:13<01:04,  2.10it/s]"
     ]
    },
    {
     "name": "stdout",
     "output_type": "stream",
     "text": [
      "(500/636) Data: 0.026s | Batch: 0.508s | Total: 0:04:13 | ETA: 0:01:07 | Loss: 0.0036 | top1:  82.2705\n"
     ]
    },
    {
     "name": "stderr",
     "output_type": "stream",
     "text": [
      " 94%|███████████████████████████████████████████████████████████████████████████▍    | 600/636 [05:02<00:17,  2.07it/s]"
     ]
    },
    {
     "name": "stdout",
     "output_type": "stream",
     "text": [
      "(600/636) Data: 0.022s | Batch: 0.504s | Total: 0:05:02 | ETA: 0:00:18 | Loss: 0.0036 | top1:  82.0062\n"
     ]
    },
    {
     "name": "stderr",
     "output_type": "stream",
     "text": [
      "100%|████████████████████████████████████████████████████████████████████████████████| 636/636 [05:20<00:00,  1.98it/s]\n",
      "100%|████████████████████████████████████████████████████████████████████████████████| 156/156 [00:22<00:00,  6.88it/s]\n"
     ]
    },
    {
     "name": "stdout",
     "output_type": "stream",
     "text": [
      "(156/156) Data: 0.051s | Batch: 0.142s | Total: 0:00:22 | ETA: 0:00:01 | Loss: 0.0035 | top1:  81.8796\n",
      "=> saving checkpoint 'checkpoints\\checkpoint.pth.tar'\n"
     ]
    },
    {
     "name": "stderr",
     "output_type": "stream",
     "text": [
      "  0%|                                                                                          | 0/636 [00:00<?, ?it/s]"
     ]
    },
    {
     "name": "stdout",
     "output_type": "stream",
     "text": [
      "\n",
      "Epoch: [11 | 50] LR: 0.0100000000000000\n"
     ]
    },
    {
     "name": "stderr",
     "output_type": "stream",
     "text": [
      " 16%|████████████▌                                                                   | 100/636 [01:00<04:15,  2.10it/s]"
     ]
    },
    {
     "name": "stdout",
     "output_type": "stream",
     "text": [
      "(100/636) Data: 0.124s | Batch: 0.609s | Total: 0:01:00 | ETA: 0:04:17 | Loss: 0.0035 | top1:  81.5154\n"
     ]
    },
    {
     "name": "stderr",
     "output_type": "stream",
     "text": [
      " 31%|█████████████████████████▏                                                      | 200/636 [01:49<03:32,  2.05it/s]"
     ]
    },
    {
     "name": "stdout",
     "output_type": "stream",
     "text": [
      "(200/636) Data: 0.063s | Batch: 0.545s | Total: 0:01:49 | ETA: 0:03:30 | Loss: 0.0035 | top1:  81.7167\n"
     ]
    },
    {
     "name": "stderr",
     "output_type": "stream",
     "text": [
      " 47%|█████████████████████████████████████▋                                          | 300/636 [02:37<02:42,  2.07it/s]"
     ]
    },
    {
     "name": "stdout",
     "output_type": "stream",
     "text": [
      "(300/636) Data: 0.042s | Batch: 0.524s | Total: 0:02:37 | ETA: 0:02:44 | Loss: 0.0035 | top1:  81.8518\n"
     ]
    },
    {
     "name": "stderr",
     "output_type": "stream",
     "text": [
      " 63%|██████████████████████████████████████████████████▎                             | 400/636 [03:25<01:53,  2.08it/s]"
     ]
    },
    {
     "name": "stdout",
     "output_type": "stream",
     "text": [
      "(400/636) Data: 0.032s | Batch: 0.513s | Total: 0:03:25 | ETA: 0:01:54 | Loss: 0.0034 | top1:  81.9702\n"
     ]
    },
    {
     "name": "stderr",
     "output_type": "stream",
     "text": [
      " 79%|██████████████████████████████████████████████████████████████▉                 | 500/636 [04:13<01:05,  2.08it/s]"
     ]
    },
    {
     "name": "stdout",
     "output_type": "stream",
     "text": [
      "(500/636) Data: 0.026s | Batch: 0.507s | Total: 0:04:13 | ETA: 0:01:07 | Loss: 0.0034 | top1:  82.1279\n"
     ]
    },
    {
     "name": "stderr",
     "output_type": "stream",
     "text": [
      " 94%|███████████████████████████████████████████████████████████████████████████▍    | 600/636 [05:01<00:17,  2.07it/s]"
     ]
    },
    {
     "name": "stdout",
     "output_type": "stream",
     "text": [
      "(600/636) Data: 0.022s | Batch: 0.503s | Total: 0:05:01 | ETA: 0:00:18 | Loss: 0.0034 | top1:  82.2588\n"
     ]
    },
    {
     "name": "stderr",
     "output_type": "stream",
     "text": [
      "100%|████████████████████████████████████████████████████████████████████████████████| 636/636 [05:19<00:00,  1.99it/s]\n",
      "100%|████████████████████████████████████████████████████████████████████████████████| 156/156 [00:22<00:00,  6.94it/s]\n"
     ]
    },
    {
     "name": "stdout",
     "output_type": "stream",
     "text": [
      "(156/156) Data: 0.049s | Batch: 0.141s | Total: 0:00:21 | ETA: 0:00:01 | Loss: 0.0036 | top1:  80.8145\n",
      "=> saving checkpoint 'checkpoints\\checkpoint.pth.tar'\n"
     ]
    },
    {
     "name": "stderr",
     "output_type": "stream",
     "text": [
      "  0%|                                                                                          | 0/636 [00:00<?, ?it/s]"
     ]
    },
    {
     "name": "stdout",
     "output_type": "stream",
     "text": [
      "\n",
      "Epoch: [12 | 50] LR: 0.0100000000000000\n"
     ]
    },
    {
     "name": "stderr",
     "output_type": "stream",
     "text": [
      " 16%|████████████▌                                                                   | 100/636 [01:01<04:16,  2.09it/s]"
     ]
    },
    {
     "name": "stdout",
     "output_type": "stream",
     "text": [
      "(100/636) Data: 0.120s | Batch: 0.613s | Total: 0:01:01 | ETA: 0:04:19 | Loss: 0.0035 | top1:  81.8613\n"
     ]
    },
    {
     "name": "stderr",
     "output_type": "stream",
     "text": [
      " 31%|█████████████████████████▏                                                      | 200/636 [01:49<03:31,  2.06it/s]"
     ]
    },
    {
     "name": "stdout",
     "output_type": "stream",
     "text": [
      "(200/636) Data: 0.061s | Batch: 0.547s | Total: 0:01:49 | ETA: 0:03:32 | Loss: 0.0033 | top1:  82.3333\n"
     ]
    },
    {
     "name": "stderr",
     "output_type": "stream",
     "text": [
      " 47%|█████████████████████████████████████▋                                          | 300/636 [02:37<02:41,  2.08it/s]"
     ]
    },
    {
     "name": "stdout",
     "output_type": "stream",
     "text": [
      "(300/636) Data: 0.041s | Batch: 0.525s | Total: 0:02:37 | ETA: 0:02:43 | Loss: 0.0033 | top1:  82.6070\n"
     ]
    },
    {
     "name": "stderr",
     "output_type": "stream",
     "text": [
      " 63%|██████████████████████████████████████████████████▎                             | 400/636 [03:25<01:53,  2.08it/s]"
     ]
    },
    {
     "name": "stdout",
     "output_type": "stream",
     "text": [
      "(400/636) Data: 0.031s | Batch: 0.514s | Total: 0:03:25 | ETA: 0:01:55 | Loss: 0.0032 | top1:  82.8088\n"
     ]
    },
    {
     "name": "stderr",
     "output_type": "stream",
     "text": [
      " 79%|██████████████████████████████████████████████████████████████▉                 | 500/636 [04:14<01:05,  2.07it/s]"
     ]
    },
    {
     "name": "stdout",
     "output_type": "stream",
     "text": [
      "(500/636) Data: 0.025s | Batch: 0.508s | Total: 0:04:14 | ETA: 0:01:07 | Loss: 0.0032 | top1:  82.9881\n"
     ]
    },
    {
     "name": "stderr",
     "output_type": "stream",
     "text": [
      " 94%|███████████████████████████████████████████████████████████████████████████▍    | 600/636 [05:02<00:17,  2.06it/s]"
     ]
    },
    {
     "name": "stdout",
     "output_type": "stream",
     "text": [
      "(600/636) Data: 0.021s | Batch: 0.505s | Total: 0:05:02 | ETA: 0:00:18 | Loss: 0.0032 | top1:  83.1620\n"
     ]
    },
    {
     "name": "stderr",
     "output_type": "stream",
     "text": [
      "100%|████████████████████████████████████████████████████████████████████████████████| 636/636 [05:20<00:00,  1.98it/s]\n",
      "100%|████████████████████████████████████████████████████████████████████████████████| 156/156 [00:22<00:00,  6.95it/s]\n"
     ]
    },
    {
     "name": "stdout",
     "output_type": "stream",
     "text": [
      "(156/156) Data: 0.049s | Batch: 0.141s | Total: 0:00:21 | ETA: 0:00:01 | Loss: 0.0028 | top1:  85.1243\n",
      "=> saving checkpoint 'checkpoints\\checkpoint.pth.tar'\n"
     ]
    },
    {
     "name": "stderr",
     "output_type": "stream",
     "text": [
      "  0%|                                                                                          | 0/636 [00:00<?, ?it/s]"
     ]
    },
    {
     "name": "stdout",
     "output_type": "stream",
     "text": [
      "\n",
      "Epoch: [13 | 50] LR: 0.0100000000000000\n"
     ]
    },
    {
     "name": "stderr",
     "output_type": "stream",
     "text": [
      " 16%|████████████▌                                                                   | 100/636 [01:01<04:17,  2.08it/s]"
     ]
    },
    {
     "name": "stdout",
     "output_type": "stream",
     "text": [
      "(100/636) Data: 0.124s | Batch: 0.612s | Total: 0:01:01 | ETA: 0:04:16 | Loss: 0.0029 | top1:  84.4613\n"
     ]
    },
    {
     "name": "stderr",
     "output_type": "stream",
     "text": [
      " 31%|█████████████████████████▏                                                      | 200/636 [01:49<03:29,  2.08it/s]"
     ]
    },
    {
     "name": "stdout",
     "output_type": "stream",
     "text": [
      "(200/636) Data: 0.063s | Batch: 0.547s | Total: 0:01:49 | ETA: 0:03:31 | Loss: 0.0029 | top1:  84.6339\n"
     ]
    },
    {
     "name": "stderr",
     "output_type": "stream",
     "text": [
      " 47%|█████████████████████████████████████▋                                          | 300/636 [02:37<02:42,  2.07it/s]"
     ]
    },
    {
     "name": "stdout",
     "output_type": "stream",
     "text": [
      "(300/636) Data: 0.042s | Batch: 0.524s | Total: 0:02:37 | ETA: 0:02:43 | Loss: 0.0029 | top1:  84.8144\n"
     ]
    },
    {
     "name": "stderr",
     "output_type": "stream",
     "text": [
      " 63%|██████████████████████████████████████████████████▎                             | 400/636 [03:25<01:53,  2.08it/s]"
     ]
    },
    {
     "name": "stdout",
     "output_type": "stream",
     "text": [
      "(400/636) Data: 0.032s | Batch: 0.514s | Total: 0:03:25 | ETA: 0:01:55 | Loss: 0.0028 | top1:  84.9593\n"
     ]
    },
    {
     "name": "stderr",
     "output_type": "stream",
     "text": [
      " 79%|██████████████████████████████████████████████████████████████▉                 | 500/636 [04:13<01:04,  2.09it/s]"
     ]
    },
    {
     "name": "stdout",
     "output_type": "stream",
     "text": [
      "(500/636) Data: 0.026s | Batch: 0.507s | Total: 0:04:13 | ETA: 0:01:06 | Loss: 0.0028 | top1:  85.0857\n"
     ]
    },
    {
     "name": "stderr",
     "output_type": "stream",
     "text": [
      " 94%|███████████████████████████████████████████████████████████████████████████▍    | 600/636 [05:01<00:17,  2.10it/s]"
     ]
    },
    {
     "name": "stdout",
     "output_type": "stream",
     "text": [
      "(600/636) Data: 0.022s | Batch: 0.502s | Total: 0:05:01 | ETA: 0:00:18 | Loss: 0.0028 | top1:  85.1980\n"
     ]
    },
    {
     "name": "stderr",
     "output_type": "stream",
     "text": [
      "100%|████████████████████████████████████████████████████████████████████████████████| 636/636 [05:19<00:00,  1.99it/s]\n",
      "100%|████████████████████████████████████████████████████████████████████████████████| 156/156 [00:22<00:00,  6.98it/s]\n"
     ]
    },
    {
     "name": "stdout",
     "output_type": "stream",
     "text": [
      "(156/156) Data: 0.049s | Batch: 0.140s | Total: 0:00:21 | ETA: 0:00:01 | Loss: 0.0026 | top1:  86.5847\n",
      "=> saving checkpoint 'checkpoints\\checkpoint.pth.tar'\n"
     ]
    },
    {
     "name": "stderr",
     "output_type": "stream",
     "text": [
      "  0%|                                                                                          | 0/636 [00:00<?, ?it/s]"
     ]
    },
    {
     "name": "stdout",
     "output_type": "stream",
     "text": [
      "\n",
      "Epoch: [14 | 50] LR: 0.0100000000000000\n"
     ]
    },
    {
     "name": "stderr",
     "output_type": "stream",
     "text": [
      " 16%|████████████▌                                                                   | 100/636 [01:00<04:14,  2.11it/s]"
     ]
    },
    {
     "name": "stdout",
     "output_type": "stream",
     "text": [
      "(100/636) Data: 0.119s | Batch: 0.606s | Total: 0:01:00 | ETA: 0:04:19 | Loss: 0.0026 | top1:  85.9972\n"
     ]
    },
    {
     "name": "stderr",
     "output_type": "stream",
     "text": [
      " 31%|█████████████████████████▏                                                      | 200/636 [01:48<03:30,  2.08it/s]"
     ]
    },
    {
     "name": "stdout",
     "output_type": "stream",
     "text": [
      "(200/636) Data: 0.060s | Batch: 0.544s | Total: 0:01:48 | ETA: 0:03:31 | Loss: 0.0027 | top1:  85.9467\n"
     ]
    },
    {
     "name": "stderr",
     "output_type": "stream",
     "text": [
      " 47%|█████████████████████████████████████▋                                          | 300/636 [02:36<02:41,  2.08it/s]"
     ]
    },
    {
     "name": "stdout",
     "output_type": "stream",
     "text": [
      "(300/636) Data: 0.041s | Batch: 0.523s | Total: 0:02:36 | ETA: 0:02:41 | Loss: 0.0026 | top1:  86.0411\n"
     ]
    },
    {
     "name": "stderr",
     "output_type": "stream",
     "text": [
      " 63%|██████████████████████████████████████████████████▎                             | 400/636 [03:24<01:53,  2.09it/s]"
     ]
    },
    {
     "name": "stdout",
     "output_type": "stream",
     "text": [
      "(400/636) Data: 0.031s | Batch: 0.512s | Total: 0:03:24 | ETA: 0:01:55 | Loss: 0.0026 | top1:  86.1108\n"
     ]
    },
    {
     "name": "stderr",
     "output_type": "stream",
     "text": [
      " 79%|██████████████████████████████████████████████████████████████▉                 | 500/636 [04:13<01:04,  2.11it/s]"
     ]
    },
    {
     "name": "stdout",
     "output_type": "stream",
     "text": [
      "(500/636) Data: 0.025s | Batch: 0.506s | Total: 0:04:13 | ETA: 0:01:06 | Loss: 0.0026 | top1:  86.1535\n"
     ]
    },
    {
     "name": "stderr",
     "output_type": "stream",
     "text": [
      " 94%|███████████████████████████████████████████████████████████████████████████▍    | 600/636 [05:01<00:17,  2.08it/s]"
     ]
    },
    {
     "name": "stdout",
     "output_type": "stream",
     "text": [
      "(600/636) Data: 0.021s | Batch: 0.502s | Total: 0:05:01 | ETA: 0:00:18 | Loss: 0.0026 | top1:  86.1106\n"
     ]
    },
    {
     "name": "stderr",
     "output_type": "stream",
     "text": [
      "100%|████████████████████████████████████████████████████████████████████████████████| 636/636 [05:19<00:00,  1.99it/s]\n",
      "100%|████████████████████████████████████████████████████████████████████████████████| 156/156 [00:22<00:00,  6.98it/s]\n"
     ]
    },
    {
     "name": "stdout",
     "output_type": "stream",
     "text": [
      "(156/156) Data: 0.049s | Batch: 0.140s | Total: 0:00:21 | ETA: 0:00:01 | Loss: 0.0035 | top1:  86.0507\n",
      "=> saving checkpoint 'checkpoints\\checkpoint.pth.tar'\n"
     ]
    },
    {
     "name": "stderr",
     "output_type": "stream",
     "text": [
      "  0%|                                                                                          | 0/636 [00:00<?, ?it/s]"
     ]
    },
    {
     "name": "stdout",
     "output_type": "stream",
     "text": [
      "\n",
      "Epoch: [15 | 50] LR: 0.0100000000000000\n"
     ]
    },
    {
     "name": "stderr",
     "output_type": "stream",
     "text": [
      " 16%|████████████▌                                                                   | 100/636 [01:01<04:15,  2.10it/s]"
     ]
    },
    {
     "name": "stdout",
     "output_type": "stream",
     "text": [
      "(100/636) Data: 0.119s | Batch: 0.610s | Total: 0:01:01 | ETA: 0:04:18 | Loss: 0.0026 | top1:  86.4464\n"
     ]
    },
    {
     "name": "stderr",
     "output_type": "stream",
     "text": [
      " 31%|█████████████████████████▏                                                      | 200/636 [01:49<03:29,  2.08it/s]"
     ]
    },
    {
     "name": "stdout",
     "output_type": "stream",
     "text": [
      "(200/636) Data: 0.060s | Batch: 0.546s | Total: 0:01:49 | ETA: 0:03:30 | Loss: 0.0026 | top1:  86.6440\n"
     ]
    },
    {
     "name": "stderr",
     "output_type": "stream",
     "text": [
      " 47%|█████████████████████████████████████▋                                          | 300/636 [02:37<02:40,  2.10it/s]"
     ]
    },
    {
     "name": "stdout",
     "output_type": "stream",
     "text": [
      "(300/636) Data: 0.041s | Batch: 0.525s | Total: 0:02:37 | ETA: 0:02:41 | Loss: 0.0026 | top1:  86.7993\n"
     ]
    },
    {
     "name": "stderr",
     "output_type": "stream",
     "text": [
      " 63%|██████████████████████████████████████████████████▎                             | 400/636 [03:25<01:53,  2.07it/s]"
     ]
    },
    {
     "name": "stdout",
     "output_type": "stream",
     "text": [
      "(400/636) Data: 0.031s | Batch: 0.514s | Total: 0:03:25 | ETA: 0:01:55 | Loss: 0.0025 | top1:  86.8841\n"
     ]
    },
    {
     "name": "stderr",
     "output_type": "stream",
     "text": [
      " 79%|██████████████████████████████████████████████████████████████▉                 | 500/636 [04:13<01:07,  2.03it/s]"
     ]
    },
    {
     "name": "stdout",
     "output_type": "stream",
     "text": [
      "(500/636) Data: 0.025s | Batch: 0.508s | Total: 0:04:13 | ETA: 0:01:06 | Loss: 0.0025 | top1:  86.9583\n"
     ]
    },
    {
     "name": "stderr",
     "output_type": "stream",
     "text": [
      " 94%|███████████████████████████████████████████████████████████████████████████▍    | 600/636 [05:01<00:17,  2.05it/s]"
     ]
    },
    {
     "name": "stdout",
     "output_type": "stream",
     "text": [
      "(600/636) Data: 0.021s | Batch: 0.503s | Total: 0:05:01 | ETA: 0:00:18 | Loss: 0.0025 | top1:  87.0354\n"
     ]
    },
    {
     "name": "stderr",
     "output_type": "stream",
     "text": [
      "100%|████████████████████████████████████████████████████████████████████████████████| 636/636 [05:20<00:00,  1.99it/s]\n",
      "100%|████████████████████████████████████████████████████████████████████████████████| 156/156 [00:22<00:00,  6.98it/s]\n"
     ]
    },
    {
     "name": "stdout",
     "output_type": "stream",
     "text": [
      "(156/156) Data: 0.049s | Batch: 0.140s | Total: 0:00:21 | ETA: 0:00:01 | Loss: 0.0169 | top1:  79.5939\n",
      "=> saving checkpoint 'checkpoints\\checkpoint.pth.tar'\n"
     ]
    },
    {
     "name": "stderr",
     "output_type": "stream",
     "text": [
      "  0%|                                                                                          | 0/636 [00:00<?, ?it/s]"
     ]
    },
    {
     "name": "stdout",
     "output_type": "stream",
     "text": [
      "\n",
      "Epoch: [16 | 50] LR: 0.0100000000000000\n"
     ]
    },
    {
     "name": "stderr",
     "output_type": "stream",
     "text": [
      " 16%|████████████▌                                                                   | 100/636 [01:01<04:20,  2.06it/s]"
     ]
    },
    {
     "name": "stdout",
     "output_type": "stream",
     "text": [
      "(100/636) Data: 0.122s | Batch: 0.612s | Total: 0:01:01 | ETA: 0:04:21 | Loss: 0.0031 | top1:  84.1342\n"
     ]
    },
    {
     "name": "stderr",
     "output_type": "stream",
     "text": [
      " 31%|█████████████████████████▏                                                      | 200/636 [01:49<03:28,  2.09it/s]"
     ]
    },
    {
     "name": "stdout",
     "output_type": "stream",
     "text": [
      "(200/636) Data: 0.062s | Batch: 0.547s | Total: 0:01:49 | ETA: 0:03:28 | Loss: 0.0029 | top1:  84.9158\n"
     ]
    },
    {
     "name": "stderr",
     "output_type": "stream",
     "text": [
      " 47%|█████████████████████████████████████▋                                          | 300/636 [02:37<02:39,  2.10it/s]"
     ]
    },
    {
     "name": "stdout",
     "output_type": "stream",
     "text": [
      "(300/636) Data: 0.042s | Batch: 0.525s | Total: 0:02:37 | ETA: 0:02:41 | Loss: 0.0028 | top1:  85.4203\n"
     ]
    },
    {
     "name": "stderr",
     "output_type": "stream",
     "text": [
      " 63%|██████████████████████████████████████████████████▎                             | 400/636 [03:25<01:53,  2.08it/s]"
     ]
    },
    {
     "name": "stdout",
     "output_type": "stream",
     "text": [
      "(400/636) Data: 0.032s | Batch: 0.514s | Total: 0:03:25 | ETA: 0:01:54 | Loss: 0.0028 | top1:  85.7535\n"
     ]
    },
    {
     "name": "stderr",
     "output_type": "stream",
     "text": [
      " 79%|██████████████████████████████████████████████████████████████▉                 | 500/636 [04:13<01:06,  2.05it/s]"
     ]
    },
    {
     "name": "stdout",
     "output_type": "stream",
     "text": [
      "(500/636) Data: 0.026s | Batch: 0.507s | Total: 0:04:13 | ETA: 0:01:07 | Loss: 0.0027 | top1:  85.9929\n"
     ]
    },
    {
     "name": "stderr",
     "output_type": "stream",
     "text": [
      " 94%|███████████████████████████████████████████████████████████████████████████▍    | 600/636 [05:04<00:19,  1.83it/s]"
     ]
    },
    {
     "name": "stdout",
     "output_type": "stream",
     "text": [
      "(600/636) Data: 0.022s | Batch: 0.508s | Total: 0:05:04 | ETA: 0:00:20 | Loss: 0.0027 | top1:  86.1545\n"
     ]
    },
    {
     "name": "stderr",
     "output_type": "stream",
     "text": [
      "100%|████████████████████████████████████████████████████████████████████████████████| 636/636 [05:23<00:00,  1.97it/s]\n",
      "100%|████████████████████████████████████████████████████████████████████████████████| 156/156 [00:23<00:00,  6.70it/s]\n"
     ]
    },
    {
     "name": "stdout",
     "output_type": "stream",
     "text": [
      "(156/156) Data: 0.050s | Batch: 0.146s | Total: 0:00:22 | ETA: 0:00:01 | Loss: 0.0023 | top1:  88.1072\n",
      "=> saving checkpoint 'checkpoints\\checkpoint.pth.tar'\n",
      "=> saving best model 'checkpoints\\model_best.pth.tar'\n"
     ]
    },
    {
     "name": "stderr",
     "output_type": "stream",
     "text": [
      "  0%|                                                                                          | 0/636 [00:00<?, ?it/s]"
     ]
    },
    {
     "name": "stdout",
     "output_type": "stream",
     "text": [
      "\n",
      "Epoch: [17 | 50] LR: 0.0100000000000000\n"
     ]
    },
    {
     "name": "stderr",
     "output_type": "stream",
     "text": [
      " 16%|████████████▌                                                                   | 100/636 [01:02<04:18,  2.08it/s]"
     ]
    },
    {
     "name": "stdout",
     "output_type": "stream",
     "text": [
      "(100/636) Data: 0.128s | Batch: 0.625s | Total: 0:01:02 | ETA: 0:04:23 | Loss: 0.0025 | top1:  87.2978\n"
     ]
    },
    {
     "name": "stderr",
     "output_type": "stream",
     "text": [
      " 31%|█████████████████████████▏                                                      | 200/636 [01:51<03:35,  2.03it/s]"
     ]
    },
    {
     "name": "stdout",
     "output_type": "stream",
     "text": [
      "(200/636) Data: 0.065s | Batch: 0.557s | Total: 0:01:51 | ETA: 0:03:35 | Loss: 0.0025 | top1:  87.3357\n"
     ]
    },
    {
     "name": "stderr",
     "output_type": "stream",
     "text": [
      " 47%|█████████████████████████████████████▋                                          | 300/636 [02:39<02:40,  2.09it/s]"
     ]
    },
    {
     "name": "stdout",
     "output_type": "stream",
     "text": [
      "(300/636) Data: 0.044s | Batch: 0.532s | Total: 0:02:39 | ETA: 0:02:43 | Loss: 0.0025 | top1:  87.3908\n"
     ]
    },
    {
     "name": "stderr",
     "output_type": "stream",
     "text": [
      " 63%|██████████████████████████████████████████████████▎                             | 400/636 [03:27<01:54,  2.06it/s]"
     ]
    },
    {
     "name": "stdout",
     "output_type": "stream",
     "text": [
      "(400/636) Data: 0.034s | Batch: 0.520s | Total: 0:03:27 | ETA: 0:01:56 | Loss: 0.0025 | top1:  87.4430\n"
     ]
    },
    {
     "name": "stderr",
     "output_type": "stream",
     "text": [
      " 79%|██████████████████████████████████████████████████████████████▉                 | 500/636 [04:16<01:06,  2.04it/s]"
     ]
    },
    {
     "name": "stdout",
     "output_type": "stream",
     "text": [
      "(500/636) Data: 0.027s | Batch: 0.512s | Total: 0:04:16 | ETA: 0:01:07 | Loss: 0.0024 | top1:  87.4949\n"
     ]
    },
    {
     "name": "stderr",
     "output_type": "stream",
     "text": [
      " 94%|███████████████████████████████████████████████████████████████████████████▍    | 600/636 [05:04<00:17,  2.08it/s]"
     ]
    },
    {
     "name": "stdout",
     "output_type": "stream",
     "text": [
      "(600/636) Data: 0.023s | Batch: 0.507s | Total: 0:05:04 | ETA: 0:00:18 | Loss: 0.0024 | top1:  87.4990\n"
     ]
    },
    {
     "name": "stderr",
     "output_type": "stream",
     "text": [
      "100%|████████████████████████████████████████████████████████████████████████████████| 636/636 [05:22<00:00,  1.97it/s]\n",
      "100%|████████████████████████████████████████████████████████████████████████████████| 156/156 [00:23<00:00,  6.75it/s]\n"
     ]
    },
    {
     "name": "stdout",
     "output_type": "stream",
     "text": [
      "(156/156) Data: 0.050s | Batch: 0.145s | Total: 0:00:22 | ETA: 0:00:01 | Loss: 0.0023 | top1:  88.4301\n",
      "=> saving checkpoint 'checkpoints\\checkpoint.pth.tar'\n",
      "=> saving best model 'checkpoints\\model_best.pth.tar'\n"
     ]
    },
    {
     "name": "stderr",
     "output_type": "stream",
     "text": [
      "  0%|                                                                                          | 0/636 [00:00<?, ?it/s]"
     ]
    },
    {
     "name": "stdout",
     "output_type": "stream",
     "text": [
      "\n",
      "Epoch: [18 | 50] LR: 0.0100000000000000\n"
     ]
    },
    {
     "name": "stderr",
     "output_type": "stream",
     "text": [
      " 16%|████████████▌                                                                   | 100/636 [01:01<04:15,  2.10it/s]"
     ]
    },
    {
     "name": "stdout",
     "output_type": "stream",
     "text": [
      "(100/636) Data: 0.123s | Batch: 0.614s | Total: 0:01:01 | ETA: 0:04:19 | Loss: 0.0024 | top1:  87.7897\n"
     ]
    },
    {
     "name": "stderr",
     "output_type": "stream",
     "text": [
      " 31%|█████████████████████████▏                                                      | 200/636 [01:49<03:28,  2.10it/s]"
     ]
    },
    {
     "name": "stdout",
     "output_type": "stream",
     "text": [
      "(200/636) Data: 0.063s | Batch: 0.547s | Total: 0:01:49 | ETA: 0:03:31 | Loss: 0.0024 | top1:  87.8201\n"
     ]
    },
    {
     "name": "stderr",
     "output_type": "stream",
     "text": [
      " 47%|█████████████████████████████████████▋                                          | 300/636 [02:37<02:43,  2.06it/s]"
     ]
    },
    {
     "name": "stdout",
     "output_type": "stream",
     "text": [
      "(300/636) Data: 0.043s | Batch: 0.526s | Total: 0:02:37 | ETA: 0:02:44 | Loss: 0.0024 | top1:  87.7817\n"
     ]
    },
    {
     "name": "stderr",
     "output_type": "stream",
     "text": [
      " 63%|██████████████████████████████████████████████████▎                             | 400/636 [03:25<01:53,  2.09it/s]"
     ]
    },
    {
     "name": "stdout",
     "output_type": "stream",
     "text": [
      "(400/636) Data: 0.032s | Batch: 0.515s | Total: 0:03:25 | ETA: 0:01:55 | Loss: 0.0024 | top1:  87.8109\n"
     ]
    },
    {
     "name": "stderr",
     "output_type": "stream",
     "text": [
      " 79%|██████████████████████████████████████████████████████████████▉                 | 500/636 [04:14<01:04,  2.10it/s]"
     ]
    },
    {
     "name": "stdout",
     "output_type": "stream",
     "text": [
      "(500/636) Data: 0.026s | Batch: 0.508s | Total: 0:04:14 | ETA: 0:01:07 | Loss: 0.0024 | top1:  87.8447\n"
     ]
    },
    {
     "name": "stderr",
     "output_type": "stream",
     "text": [
      " 94%|███████████████████████████████████████████████████████████████████████████▍    | 600/636 [05:02<00:17,  2.09it/s]"
     ]
    },
    {
     "name": "stdout",
     "output_type": "stream",
     "text": [
      "(600/636) Data: 0.022s | Batch: 0.504s | Total: 0:05:02 | ETA: 0:00:18 | Loss: 0.0024 | top1:  87.8678\n"
     ]
    },
    {
     "name": "stderr",
     "output_type": "stream",
     "text": [
      "100%|████████████████████████████████████████████████████████████████████████████████| 636/636 [05:20<00:00,  1.98it/s]\n",
      "100%|████████████████████████████████████████████████████████████████████████████████| 156/156 [00:22<00:00,  6.85it/s]\n"
     ]
    },
    {
     "name": "stdout",
     "output_type": "stream",
     "text": [
      "(156/156) Data: 0.049s | Batch: 0.143s | Total: 0:00:22 | ETA: 0:00:01 | Loss: 0.1363 | top1:  75.0120\n",
      "=> saving checkpoint 'checkpoints\\checkpoint.pth.tar'\n"
     ]
    },
    {
     "name": "stderr",
     "output_type": "stream",
     "text": [
      "  0%|                                                                                          | 0/636 [00:00<?, ?it/s]"
     ]
    },
    {
     "name": "stdout",
     "output_type": "stream",
     "text": [
      "\n",
      "Epoch: [19 | 50] LR: 0.0100000000000000\n"
     ]
    },
    {
     "name": "stderr",
     "output_type": "stream",
     "text": [
      " 16%|████████████▌                                                                   | 100/636 [01:01<04:20,  2.06it/s]"
     ]
    },
    {
     "name": "stdout",
     "output_type": "stream",
     "text": [
      "(100/636) Data: 0.123s | Batch: 0.614s | Total: 0:01:01 | ETA: 0:04:22 | Loss: 0.0032 | top1:  84.0415\n"
     ]
    },
    {
     "name": "stderr",
     "output_type": "stream",
     "text": [
      " 31%|█████████████████████████▏                                                      | 200/636 [01:49<03:28,  2.09it/s]"
     ]
    },
    {
     "name": "stdout",
     "output_type": "stream",
     "text": [
      "(200/636) Data: 0.063s | Batch: 0.549s | Total: 0:01:49 | ETA: 0:03:31 | Loss: 0.0030 | top1:  84.9825\n"
     ]
    },
    {
     "name": "stderr",
     "output_type": "stream",
     "text": [
      " 47%|█████████████████████████████████████▋                                          | 300/636 [02:37<02:42,  2.07it/s]"
     ]
    },
    {
     "name": "stdout",
     "output_type": "stream",
     "text": [
      "(300/636) Data: 0.043s | Batch: 0.526s | Total: 0:02:37 | ETA: 0:02:43 | Loss: 0.0028 | top1:  85.5451\n"
     ]
    },
    {
     "name": "stderr",
     "output_type": "stream",
     "text": [
      " 63%|██████████████████████████████████████████████████▎                             | 400/636 [03:26<01:53,  2.09it/s]"
     ]
    },
    {
     "name": "stdout",
     "output_type": "stream",
     "text": [
      "(400/636) Data: 0.033s | Batch: 0.515s | Total: 0:03:26 | ETA: 0:01:54 | Loss: 0.0028 | top1:  85.9298\n"
     ]
    },
    {
     "name": "stderr",
     "output_type": "stream",
     "text": [
      " 79%|██████████████████████████████████████████████████████████████▉                 | 500/636 [04:14<01:05,  2.06it/s]"
     ]
    },
    {
     "name": "stdout",
     "output_type": "stream",
     "text": [
      "(500/636) Data: 0.027s | Batch: 0.509s | Total: 0:04:14 | ETA: 0:01:07 | Loss: 0.0027 | top1:  86.2002\n"
     ]
    },
    {
     "name": "stderr",
     "output_type": "stream",
     "text": [
      " 94%|███████████████████████████████████████████████████████████████████████████▍    | 600/636 [05:02<00:17,  2.04it/s]"
     ]
    },
    {
     "name": "stdout",
     "output_type": "stream",
     "text": [
      "(600/636) Data: 0.023s | Batch: 0.505s | Total: 0:05:02 | ETA: 0:00:18 | Loss: 0.0027 | top1:  86.3964\n"
     ]
    },
    {
     "name": "stderr",
     "output_type": "stream",
     "text": [
      "100%|████████████████████████████████████████████████████████████████████████████████| 636/636 [05:20<00:00,  1.98it/s]\n",
      "100%|████████████████████████████████████████████████████████████████████████████████| 156/156 [00:22<00:00,  6.84it/s]\n"
     ]
    },
    {
     "name": "stdout",
     "output_type": "stream",
     "text": [
      "(156/156) Data: 0.049s | Batch: 0.143s | Total: 0:00:22 | ETA: 0:00:01 | Loss: 0.0024 | top1:  88.5096\n",
      "=> saving checkpoint 'checkpoints\\checkpoint.pth.tar'\n",
      "=> saving best model 'checkpoints\\model_best.pth.tar'\n"
     ]
    },
    {
     "name": "stderr",
     "output_type": "stream",
     "text": [
      "  0%|                                                                                          | 0/636 [00:00<?, ?it/s]"
     ]
    },
    {
     "name": "stdout",
     "output_type": "stream",
     "text": [
      "\n",
      "Epoch: [20 | 50] LR: 0.0100000000000000\n"
     ]
    },
    {
     "name": "stderr",
     "output_type": "stream",
     "text": [
      " 16%|████████████▌                                                                   | 100/636 [01:01<04:22,  2.04it/s]"
     ]
    },
    {
     "name": "stdout",
     "output_type": "stream",
     "text": [
      "(100/636) Data: 0.126s | Batch: 0.619s | Total: 0:01:01 | ETA: 0:04:25 | Loss: 0.0024 | top1:  87.7046\n"
     ]
    },
    {
     "name": "stderr",
     "output_type": "stream",
     "text": [
      " 31%|█████████████████████████▏                                                      | 200/636 [01:50<03:31,  2.07it/s]"
     ]
    },
    {
     "name": "stdout",
     "output_type": "stream",
     "text": [
      "(200/636) Data: 0.065s | Batch: 0.551s | Total: 0:01:50 | ETA: 0:03:31 | Loss: 0.0024 | top1:  87.7521\n"
     ]
    },
    {
     "name": "stderr",
     "output_type": "stream",
     "text": [
      " 47%|█████████████████████████████████████▋                                          | 300/636 [02:38<02:42,  2.07it/s]"
     ]
    },
    {
     "name": "stdout",
     "output_type": "stream",
     "text": [
      "(300/636) Data: 0.044s | Batch: 0.528s | Total: 0:02:38 | ETA: 0:02:43 | Loss: 0.0024 | top1:  87.7644\n"
     ]
    },
    {
     "name": "stderr",
     "output_type": "stream",
     "text": [
      " 63%|██████████████████████████████████████████████████▎                             | 400/636 [03:26<01:54,  2.06it/s]"
     ]
    },
    {
     "name": "stdout",
     "output_type": "stream",
     "text": [
      "(400/636) Data: 0.033s | Batch: 0.516s | Total: 0:03:26 | ETA: 0:01:54 | Loss: 0.0024 | top1:  87.8264\n"
     ]
    },
    {
     "name": "stderr",
     "output_type": "stream",
     "text": [
      " 79%|██████████████████████████████████████████████████████████████▉                 | 500/636 [04:14<01:05,  2.09it/s]"
     ]
    },
    {
     "name": "stdout",
     "output_type": "stream",
     "text": [
      "(500/636) Data: 0.027s | Batch: 0.509s | Total: 0:04:14 | ETA: 0:01:06 | Loss: 0.0024 | top1:  87.8608\n"
     ]
    },
    {
     "name": "stderr",
     "output_type": "stream",
     "text": [
      " 94%|███████████████████████████████████████████████████████████████████████████▍    | 600/636 [05:02<00:17,  2.02it/s]"
     ]
    },
    {
     "name": "stdout",
     "output_type": "stream",
     "text": [
      "(600/636) Data: 0.023s | Batch: 0.504s | Total: 0:05:02 | ETA: 0:00:18 | Loss: 0.0024 | top1:  87.8648\n"
     ]
    },
    {
     "name": "stderr",
     "output_type": "stream",
     "text": [
      "100%|████████████████████████████████████████████████████████████████████████████████| 636/636 [05:20<00:00,  1.98it/s]\n",
      "100%|████████████████████████████████████████████████████████████████████████████████| 156/156 [00:23<00:00,  6.77it/s]\n"
     ]
    },
    {
     "name": "stdout",
     "output_type": "stream",
     "text": [
      "(156/156) Data: 0.051s | Batch: 0.145s | Total: 0:00:22 | ETA: 0:00:01 | Loss: 0.0023 | top1:  88.3727\n",
      "=> saving checkpoint 'checkpoints\\checkpoint.pth.tar'\n"
     ]
    },
    {
     "name": "stderr",
     "output_type": "stream",
     "text": [
      "  0%|                                                                                          | 0/636 [00:00<?, ?it/s]"
     ]
    },
    {
     "name": "stdout",
     "output_type": "stream",
     "text": [
      "\n",
      "Epoch: [21 | 50] LR: 0.0100000000000000\n"
     ]
    },
    {
     "name": "stderr",
     "output_type": "stream",
     "text": [
      " 16%|████████████▌                                                                   | 100/636 [01:02<04:51,  1.84it/s]"
     ]
    },
    {
     "name": "stdout",
     "output_type": "stream",
     "text": [
      "(100/636) Data: 0.124s | Batch: 0.622s | Total: 0:01:02 | ETA: 0:04:52 | Loss: 0.0024 | top1:  87.9693\n"
     ]
    },
    {
     "name": "stderr",
     "output_type": "stream",
     "text": [
      " 31%|█████████████████████████▏                                                      | 200/636 [01:52<03:40,  1.98it/s]"
     ]
    },
    {
     "name": "stdout",
     "output_type": "stream",
     "text": [
      "(200/636) Data: 0.065s | Batch: 0.565s | Total: 0:01:52 | ETA: 0:03:39 | Loss: 0.0024 | top1:  87.7749\n"
     ]
    },
    {
     "name": "stderr",
     "output_type": "stream",
     "text": [
      " 47%|█████████████████████████████████████▋                                          | 300/636 [02:42<02:42,  2.06it/s]"
     ]
    },
    {
     "name": "stdout",
     "output_type": "stream",
     "text": [
      "(300/636) Data: 0.044s | Batch: 0.541s | Total: 0:02:42 | ETA: 0:02:46 | Loss: 0.0024 | top1:  87.8844\n"
     ]
    },
    {
     "name": "stderr",
     "output_type": "stream",
     "text": [
      " 63%|██████████████████████████████████████████████████▎                             | 400/636 [03:31<01:53,  2.08it/s]"
     ]
    },
    {
     "name": "stdout",
     "output_type": "stream",
     "text": [
      "(400/636) Data: 0.034s | Batch: 0.529s | Total: 0:03:31 | ETA: 0:01:56 | Loss: 0.0024 | top1:  87.9832\n"
     ]
    },
    {
     "name": "stderr",
     "output_type": "stream",
     "text": [
      " 79%|██████████████████████████████████████████████████████████████▉                 | 500/636 [04:23<01:15,  1.80it/s]"
     ]
    },
    {
     "name": "stdout",
     "output_type": "stream",
     "text": [
      "(500/636) Data: 0.028s | Batch: 0.527s | Total: 0:04:23 | ETA: 0:01:22 | Loss: 0.0024 | top1:  88.0458\n"
     ]
    },
    {
     "name": "stderr",
     "output_type": "stream",
     "text": [
      " 94%|███████████████████████████████████████████████████████████████████████████▍    | 600/636 [05:13<00:19,  1.82it/s]"
     ]
    },
    {
     "name": "stdout",
     "output_type": "stream",
     "text": [
      "(600/636) Data: 0.024s | Batch: 0.523s | Total: 0:05:13 | ETA: 0:00:21 | Loss: 0.0023 | top1:  88.0895\n"
     ]
    },
    {
     "name": "stderr",
     "output_type": "stream",
     "text": [
      "100%|████████████████████████████████████████████████████████████████████████████████| 636/636 [05:32<00:00,  1.91it/s]\n",
      "100%|████████████████████████████████████████████████████████████████████████████████| 156/156 [00:24<00:00,  6.41it/s]\n"
     ]
    },
    {
     "name": "stdout",
     "output_type": "stream",
     "text": [
      "(156/156) Data: 0.051s | Batch: 0.153s | Total: 0:00:23 | ETA: 0:00:01 | Loss: 0.0024 | top1:  88.7229\n",
      "=> saving checkpoint 'checkpoints\\checkpoint.pth.tar'\n",
      "=> saving best model 'checkpoints\\model_best.pth.tar'\n"
     ]
    },
    {
     "name": "stderr",
     "output_type": "stream",
     "text": [
      "  0%|                                                                                          | 0/636 [00:00<?, ?it/s]"
     ]
    },
    {
     "name": "stdout",
     "output_type": "stream",
     "text": [
      "\n",
      "Epoch: [22 | 50] LR: 0.0100000000000000\n"
     ]
    },
    {
     "name": "stderr",
     "output_type": "stream",
     "text": [
      " 16%|████████████▌                                                                   | 100/636 [01:07<05:05,  1.75it/s]"
     ]
    },
    {
     "name": "stdout",
     "output_type": "stream",
     "text": [
      "(100/636) Data: 0.138s | Batch: 0.680s | Total: 0:01:07 | ETA: 0:04:54 | Loss: 0.0023 | top1:  88.3210\n"
     ]
    },
    {
     "name": "stderr",
     "output_type": "stream",
     "text": [
      " 31%|█████████████████████████▏                                                      | 200/636 [02:01<03:33,  2.04it/s]"
     ]
    },
    {
     "name": "stdout",
     "output_type": "stream",
     "text": [
      "(200/636) Data: 0.073s | Batch: 0.610s | Total: 0:02:01 | ETA: 0:03:35 | Loss: 0.0023 | top1:  88.3704\n"
     ]
    },
    {
     "name": "stderr",
     "output_type": "stream",
     "text": [
      " 47%|█████████████████████████████████████▋                                          | 300/636 [02:53<02:48,  2.00it/s]"
     ]
    },
    {
     "name": "stdout",
     "output_type": "stream",
     "text": [
      "(300/636) Data: 0.051s | Batch: 0.577s | Total: 0:02:53 | ETA: 0:02:50 | Loss: 0.0023 | top1:  88.3816\n"
     ]
    },
    {
     "name": "stderr",
     "output_type": "stream",
     "text": [
      " 63%|██████████████████████████████████████████████████▎                             | 400/636 [03:43<01:56,  2.02it/s]"
     ]
    },
    {
     "name": "stdout",
     "output_type": "stream",
     "text": [
      "(400/636) Data: 0.039s | Batch: 0.559s | Total: 0:03:43 | ETA: 0:01:59 | Loss: 0.0024 | top1:  87.9250\n"
     ]
    },
    {
     "name": "stderr",
     "output_type": "stream",
     "text": [
      " 79%|██████████████████████████████████████████████████████████████▉                 | 500/636 [04:32<01:05,  2.07it/s]"
     ]
    },
    {
     "name": "stdout",
     "output_type": "stream",
     "text": [
      "(500/636) Data: 0.032s | Batch: 0.545s | Total: 0:04:32 | ETA: 0:01:07 | Loss: 0.0024 | top1:  87.8513\n"
     ]
    },
    {
     "name": "stderr",
     "output_type": "stream",
     "text": [
      " 94%|███████████████████████████████████████████████████████████████████████████▍    | 600/636 [05:20<00:17,  2.04it/s]"
     ]
    },
    {
     "name": "stdout",
     "output_type": "stream",
     "text": [
      "(600/636) Data: 0.027s | Batch: 0.535s | Total: 0:05:20 | ETA: 0:00:19 | Loss: 0.0024 | top1:  87.8676\n"
     ]
    },
    {
     "name": "stderr",
     "output_type": "stream",
     "text": [
      "100%|████████████████████████████████████████████████████████████████████████████████| 636/636 [05:38<00:00,  1.88it/s]\n",
      "100%|████████████████████████████████████████████████████████████████████████████████| 156/156 [00:22<00:00,  6.88it/s]\n"
     ]
    },
    {
     "name": "stdout",
     "output_type": "stream",
     "text": [
      "(156/156) Data: 0.049s | Batch: 0.142s | Total: 0:00:22 | ETA: 0:00:01 | Loss: 0.0023 | top1:  88.5694\n",
      "=> saving checkpoint 'checkpoints\\checkpoint.pth.tar'\n"
     ]
    },
    {
     "name": "stderr",
     "output_type": "stream",
     "text": [
      "  0%|                                                                                          | 0/636 [00:00<?, ?it/s]"
     ]
    },
    {
     "name": "stdout",
     "output_type": "stream",
     "text": [
      "\n",
      "Epoch: [23 | 50] LR: 0.0100000000000000\n"
     ]
    },
    {
     "name": "stderr",
     "output_type": "stream",
     "text": [
      " 16%|████████████▌                                                                   | 100/636 [01:01<04:21,  2.05it/s]"
     ]
    },
    {
     "name": "stdout",
     "output_type": "stream",
     "text": [
      "(100/636) Data: 0.123s | Batch: 0.618s | Total: 0:01:01 | ETA: 0:04:25 | Loss: 0.0023 | top1:  88.2731\n"
     ]
    },
    {
     "name": "stderr",
     "output_type": "stream",
     "text": [
      " 31%|█████████████████████████▏                                                      | 200/636 [01:50<03:31,  2.06it/s]"
     ]
    },
    {
     "name": "stdout",
     "output_type": "stream",
     "text": [
      "(200/636) Data: 0.062s | Batch: 0.550s | Total: 0:01:50 | ETA: 0:03:30 | Loss: 0.0023 | top1:  88.2888\n"
     ]
    },
    {
     "name": "stderr",
     "output_type": "stream",
     "text": [
      " 47%|█████████████████████████████████████▋                                          | 300/636 [02:38<02:43,  2.06it/s]"
     ]
    },
    {
     "name": "stdout",
     "output_type": "stream",
     "text": [
      "(300/636) Data: 0.042s | Batch: 0.527s | Total: 0:02:38 | ETA: 0:02:42 | Loss: 0.0023 | top1:  88.3054\n"
     ]
    },
    {
     "name": "stderr",
     "output_type": "stream",
     "text": [
      " 63%|██████████████████████████████████████████████████▎                             | 400/636 [03:26<01:53,  2.08it/s]"
     ]
    },
    {
     "name": "stdout",
     "output_type": "stream",
     "text": [
      "(400/636) Data: 0.032s | Batch: 0.515s | Total: 0:03:26 | ETA: 0:01:55 | Loss: 0.0023 | top1:  88.3208\n"
     ]
    },
    {
     "name": "stderr",
     "output_type": "stream",
     "text": [
      " 79%|██████████████████████████████████████████████████████████████▉                 | 500/636 [04:14<01:04,  2.10it/s]"
     ]
    },
    {
     "name": "stdout",
     "output_type": "stream",
     "text": [
      "(500/636) Data: 0.026s | Batch: 0.509s | Total: 0:04:14 | ETA: 0:01:06 | Loss: 0.0023 | top1:  88.3487\n"
     ]
    },
    {
     "name": "stderr",
     "output_type": "stream",
     "text": [
      " 94%|███████████████████████████████████████████████████████████████████████████▍    | 600/636 [05:02<00:17,  2.09it/s]"
     ]
    },
    {
     "name": "stdout",
     "output_type": "stream",
     "text": [
      "(600/636) Data: 0.022s | Batch: 0.504s | Total: 0:05:02 | ETA: 0:00:18 | Loss: 0.0023 | top1:  88.3798\n"
     ]
    },
    {
     "name": "stderr",
     "output_type": "stream",
     "text": [
      "100%|████████████████████████████████████████████████████████████████████████████████| 636/636 [05:20<00:00,  1.98it/s]\n",
      "100%|████████████████████████████████████████████████████████████████████████████████| 156/156 [00:22<00:00,  6.90it/s]\n"
     ]
    },
    {
     "name": "stdout",
     "output_type": "stream",
     "text": [
      "(156/156) Data: 0.049s | Batch: 0.142s | Total: 0:00:22 | ETA: 0:00:01 | Loss: 0.0025 | top1:  88.7650\n",
      "=> saving checkpoint 'checkpoints\\checkpoint.pth.tar'\n",
      "=> saving best model 'checkpoints\\model_best.pth.tar'\n"
     ]
    },
    {
     "name": "stderr",
     "output_type": "stream",
     "text": [
      "  0%|                                                                                          | 0/636 [00:00<?, ?it/s]"
     ]
    },
    {
     "name": "stdout",
     "output_type": "stream",
     "text": [
      "\n",
      "Epoch: [24 | 50] LR: 0.0100000000000000\n"
     ]
    },
    {
     "name": "stderr",
     "output_type": "stream",
     "text": [
      " 16%|████████████▌                                                                   | 100/636 [01:01<04:18,  2.08it/s]"
     ]
    },
    {
     "name": "stdout",
     "output_type": "stream",
     "text": [
      "(100/636) Data: 0.124s | Batch: 0.613s | Total: 0:01:01 | ETA: 0:04:18 | Loss: 0.0022 | top1:  88.6511\n"
     ]
    },
    {
     "name": "stderr",
     "output_type": "stream",
     "text": [
      " 31%|█████████████████████████▏                                                      | 200/636 [01:49<03:30,  2.07it/s]"
     ]
    },
    {
     "name": "stdout",
     "output_type": "stream",
     "text": [
      "(200/636) Data: 0.063s | Batch: 0.548s | Total: 0:01:49 | ETA: 0:03:34 | Loss: 0.0022 | top1:  88.6050\n"
     ]
    },
    {
     "name": "stderr",
     "output_type": "stream",
     "text": [
      " 47%|█████████████████████████████████████▋                                          | 300/636 [02:37<02:41,  2.08it/s]"
     ]
    },
    {
     "name": "stdout",
     "output_type": "stream",
     "text": [
      "(300/636) Data: 0.043s | Batch: 0.526s | Total: 0:02:37 | ETA: 0:02:44 | Loss: 0.0022 | top1:  88.6279\n"
     ]
    },
    {
     "name": "stderr",
     "output_type": "stream",
     "text": [
      " 63%|██████████████████████████████████████████████████▎                             | 400/636 [03:25<01:53,  2.08it/s]"
     ]
    },
    {
     "name": "stdout",
     "output_type": "stream",
     "text": [
      "(400/636) Data: 0.032s | Batch: 0.514s | Total: 0:03:25 | ETA: 0:01:53 | Loss: 0.0022 | top1:  88.6417\n"
     ]
    },
    {
     "name": "stderr",
     "output_type": "stream",
     "text": [
      " 79%|██████████████████████████████████████████████████████████████▉                 | 500/636 [04:13<01:04,  2.10it/s]"
     ]
    },
    {
     "name": "stdout",
     "output_type": "stream",
     "text": [
      "(500/636) Data: 0.026s | Batch: 0.508s | Total: 0:04:13 | ETA: 0:01:06 | Loss: 0.0022 | top1:  88.6550\n"
     ]
    },
    {
     "name": "stderr",
     "output_type": "stream",
     "text": [
      " 94%|███████████████████████████████████████████████████████████████████████████▍    | 600/636 [05:02<00:17,  2.10it/s]"
     ]
    },
    {
     "name": "stdout",
     "output_type": "stream",
     "text": [
      "(600/636) Data: 0.022s | Batch: 0.503s | Total: 0:05:02 | ETA: 0:00:18 | Loss: 0.0022 | top1:  88.6791\n"
     ]
    },
    {
     "name": "stderr",
     "output_type": "stream",
     "text": [
      "100%|████████████████████████████████████████████████████████████████████████████████| 636/636 [05:20<00:00,  1.98it/s]\n",
      "100%|████████████████████████████████████████████████████████████████████████████████| 156/156 [00:22<00:00,  6.90it/s]\n"
     ]
    },
    {
     "name": "stdout",
     "output_type": "stream",
     "text": [
      "(156/156) Data: 0.049s | Batch: 0.142s | Total: 0:00:22 | ETA: 0:00:01 | Loss: 0.0025 | top1:  89.1472\n",
      "=> saving checkpoint 'checkpoints\\checkpoint.pth.tar'\n",
      "=> saving best model 'checkpoints\\model_best.pth.tar'\n"
     ]
    },
    {
     "name": "stderr",
     "output_type": "stream",
     "text": [
      "  0%|                                                                                          | 0/636 [00:00<?, ?it/s]"
     ]
    },
    {
     "name": "stdout",
     "output_type": "stream",
     "text": [
      "\n",
      "Epoch: [25 | 50] LR: 0.0100000000000000\n"
     ]
    },
    {
     "name": "stderr",
     "output_type": "stream",
     "text": [
      " 16%|████████████▌                                                                   | 100/636 [01:01<04:21,  2.05it/s]"
     ]
    },
    {
     "name": "stdout",
     "output_type": "stream",
     "text": [
      "(100/636) Data: 0.120s | Batch: 0.611s | Total: 0:01:01 | ETA: 0:04:17 | Loss: 0.0022 | top1:  88.8407\n"
     ]
    },
    {
     "name": "stderr",
     "output_type": "stream",
     "text": [
      " 31%|█████████████████████████▏                                                      | 200/636 [01:49<03:28,  2.09it/s]"
     ]
    },
    {
     "name": "stdout",
     "output_type": "stream",
     "text": [
      "(200/636) Data: 0.061s | Batch: 0.547s | Total: 0:01:49 | ETA: 0:03:31 | Loss: 0.0023 | top1:  88.2383\n"
     ]
    },
    {
     "name": "stderr",
     "output_type": "stream",
     "text": [
      " 47%|█████████████████████████████████████▋                                          | 300/636 [02:37<02:41,  2.08it/s]"
     ]
    },
    {
     "name": "stdout",
     "output_type": "stream",
     "text": [
      "(300/636) Data: 0.041s | Batch: 0.526s | Total: 0:02:37 | ETA: 0:02:44 | Loss: 0.0023 | top1:  88.2727\n"
     ]
    },
    {
     "name": "stderr",
     "output_type": "stream",
     "text": [
      " 63%|██████████████████████████████████████████████████▎                             | 400/636 [03:25<01:51,  2.11it/s]"
     ]
    },
    {
     "name": "stdout",
     "output_type": "stream",
     "text": [
      "(400/636) Data: 0.031s | Batch: 0.515s | Total: 0:03:25 | ETA: 0:01:55 | Loss: 0.0023 | top1:  88.3386\n"
     ]
    },
    {
     "name": "stderr",
     "output_type": "stream",
     "text": [
      " 79%|██████████████████████████████████████████████████████████████▉                 | 500/636 [04:14<01:04,  2.09it/s]"
     ]
    },
    {
     "name": "stdout",
     "output_type": "stream",
     "text": [
      "(500/636) Data: 0.026s | Batch: 0.508s | Total: 0:04:14 | ETA: 0:01:06 | Loss: 0.0023 | top1:  88.4064\n"
     ]
    },
    {
     "name": "stderr",
     "output_type": "stream",
     "text": [
      " 94%|███████████████████████████████████████████████████████████████████████████▍    | 600/636 [05:02<00:17,  2.06it/s]"
     ]
    },
    {
     "name": "stdout",
     "output_type": "stream",
     "text": [
      "(600/636) Data: 0.022s | Batch: 0.504s | Total: 0:05:02 | ETA: 0:00:18 | Loss: 0.0023 | top1:  88.4739\n"
     ]
    },
    {
     "name": "stderr",
     "output_type": "stream",
     "text": [
      "100%|████████████████████████████████████████████████████████████████████████████████| 636/636 [05:20<00:00,  1.99it/s]\n",
      "100%|████████████████████████████████████████████████████████████████████████████████| 156/156 [00:22<00:00,  6.88it/s]\n"
     ]
    },
    {
     "name": "stdout",
     "output_type": "stream",
     "text": [
      "(156/156) Data: 0.049s | Batch: 0.142s | Total: 0:00:22 | ETA: 0:00:01 | Loss: 0.0020 | top1:  89.7269\n",
      "=> saving checkpoint 'checkpoints\\checkpoint.pth.tar'\n",
      "=> saving best model 'checkpoints\\model_best.pth.tar'\n"
     ]
    },
    {
     "name": "stderr",
     "output_type": "stream",
     "text": [
      "  0%|                                                                                          | 0/636 [00:00<?, ?it/s]"
     ]
    },
    {
     "name": "stdout",
     "output_type": "stream",
     "text": [
      "\n",
      "Epoch: [26 | 50] LR: 0.0100000000000000\n"
     ]
    },
    {
     "name": "stderr",
     "output_type": "stream",
     "text": [
      " 16%|████████████▌                                                                   | 100/636 [01:01<04:17,  2.08it/s]"
     ]
    },
    {
     "name": "stdout",
     "output_type": "stream",
     "text": [
      "(100/636) Data: 0.120s | Batch: 0.614s | Total: 0:01:01 | ETA: 0:04:20 | Loss: 0.0022 | top1:  88.8438\n"
     ]
    },
    {
     "name": "stderr",
     "output_type": "stream",
     "text": [
      " 31%|█████████████████████████▏                                                      | 200/636 [01:49<03:27,  2.10it/s]"
     ]
    },
    {
     "name": "stdout",
     "output_type": "stream",
     "text": [
      "(200/636) Data: 0.061s | Batch: 0.548s | Total: 0:01:49 | ETA: 0:03:30 | Loss: 0.0022 | top1:  88.8470\n"
     ]
    },
    {
     "name": "stderr",
     "output_type": "stream",
     "text": [
      " 47%|█████████████████████████████████████▋                                          | 300/636 [02:37<02:40,  2.10it/s]"
     ]
    },
    {
     "name": "stdout",
     "output_type": "stream",
     "text": [
      "(300/636) Data: 0.042s | Batch: 0.526s | Total: 0:02:37 | ETA: 0:02:41 | Loss: 0.0022 | top1:  88.8563\n"
     ]
    },
    {
     "name": "stderr",
     "output_type": "stream",
     "text": [
      " 63%|██████████████████████████████████████████████████▎                             | 400/636 [03:26<01:54,  2.06it/s]"
     ]
    },
    {
     "name": "stdout",
     "output_type": "stream",
     "text": [
      "(400/636) Data: 0.032s | Batch: 0.515s | Total: 0:03:26 | ETA: 0:01:55 | Loss: 0.0022 | top1:  88.8927\n"
     ]
    },
    {
     "name": "stderr",
     "output_type": "stream",
     "text": [
      " 79%|██████████████████████████████████████████████████████████████▉                 | 500/636 [04:14<01:05,  2.09it/s]"
     ]
    },
    {
     "name": "stdout",
     "output_type": "stream",
     "text": [
      "(500/636) Data: 0.026s | Batch: 0.508s | Total: 0:04:14 | ETA: 0:01:06 | Loss: 0.0022 | top1:  88.9111\n"
     ]
    },
    {
     "name": "stderr",
     "output_type": "stream",
     "text": [
      " 94%|███████████████████████████████████████████████████████████████████████████▍    | 600/636 [05:02<00:17,  2.09it/s]"
     ]
    },
    {
     "name": "stdout",
     "output_type": "stream",
     "text": [
      "(600/636) Data: 0.022s | Batch: 0.504s | Total: 0:05:02 | ETA: 0:00:18 | Loss: 0.0022 | top1:  88.9228\n"
     ]
    },
    {
     "name": "stderr",
     "output_type": "stream",
     "text": [
      "100%|████████████████████████████████████████████████████████████████████████████████| 636/636 [05:20<00:00,  1.99it/s]\n",
      "100%|████████████████████████████████████████████████████████████████████████████████| 156/156 [00:22<00:00,  6.81it/s]\n"
     ]
    },
    {
     "name": "stdout",
     "output_type": "stream",
     "text": [
      "(156/156) Data: 0.049s | Batch: 0.144s | Total: 0:00:22 | ETA: 0:00:01 | Loss: 0.0020 | top1:  89.8451\n",
      "=> saving checkpoint 'checkpoints\\checkpoint.pth.tar'\n",
      "=> saving best model 'checkpoints\\model_best.pth.tar'\n"
     ]
    },
    {
     "name": "stderr",
     "output_type": "stream",
     "text": [
      "  0%|                                                                                          | 0/636 [00:00<?, ?it/s]"
     ]
    },
    {
     "name": "stdout",
     "output_type": "stream",
     "text": [
      "\n",
      "Epoch: [27 | 50] LR: 0.0100000000000000\n"
     ]
    },
    {
     "name": "stderr",
     "output_type": "stream",
     "text": [
      " 16%|████████████▌                                                                   | 100/636 [01:02<04:15,  2.10it/s]"
     ]
    },
    {
     "name": "stdout",
     "output_type": "stream",
     "text": [
      "(100/636) Data: 0.122s | Batch: 0.623s | Total: 0:01:02 | ETA: 0:04:19 | Loss: 0.0021 | top1:  89.0631\n"
     ]
    },
    {
     "name": "stderr",
     "output_type": "stream",
     "text": [
      " 31%|█████████████████████████▏                                                      | 200/636 [01:50<03:32,  2.05it/s]"
     ]
    },
    {
     "name": "stdout",
     "output_type": "stream",
     "text": [
      "(200/636) Data: 0.062s | Batch: 0.554s | Total: 0:01:50 | ETA: 0:03:32 | Loss: 0.0021 | top1:  89.0707\n"
     ]
    },
    {
     "name": "stderr",
     "output_type": "stream",
     "text": [
      " 47%|█████████████████████████████████████▋                                          | 300/636 [02:39<02:45,  2.03it/s]"
     ]
    },
    {
     "name": "stdout",
     "output_type": "stream",
     "text": [
      "(300/636) Data: 0.042s | Batch: 0.531s | Total: 0:02:39 | ETA: 0:02:45 | Loss: 0.0021 | top1:  89.0885\n"
     ]
    },
    {
     "name": "stderr",
     "output_type": "stream",
     "text": [
      " 63%|██████████████████████████████████████████████████▎                             | 400/636 [03:27<01:54,  2.06it/s]"
     ]
    },
    {
     "name": "stdout",
     "output_type": "stream",
     "text": [
      "(400/636) Data: 0.032s | Batch: 0.519s | Total: 0:03:27 | ETA: 0:01:55 | Loss: 0.0021 | top1:  89.0978\n"
     ]
    },
    {
     "name": "stderr",
     "output_type": "stream",
     "text": [
      " 79%|██████████████████████████████████████████████████████████████▉                 | 500/636 [04:16<01:06,  2.05it/s]"
     ]
    },
    {
     "name": "stdout",
     "output_type": "stream",
     "text": [
      "(500/636) Data: 0.026s | Batch: 0.512s | Total: 0:04:16 | ETA: 0:01:07 | Loss: 0.0021 | top1:  89.1075\n"
     ]
    },
    {
     "name": "stderr",
     "output_type": "stream",
     "text": [
      " 94%|███████████████████████████████████████████████████████████████████████████▍    | 600/636 [05:04<00:17,  2.06it/s]"
     ]
    },
    {
     "name": "stdout",
     "output_type": "stream",
     "text": [
      "(600/636) Data: 0.022s | Batch: 0.508s | Total: 0:05:04 | ETA: 0:00:19 | Loss: 0.0021 | top1:  89.1210\n"
     ]
    },
    {
     "name": "stderr",
     "output_type": "stream",
     "text": [
      "100%|████████████████████████████████████████████████████████████████████████████████| 636/636 [05:22<00:00,  1.97it/s]\n",
      "100%|████████████████████████████████████████████████████████████████████████████████| 156/156 [00:22<00:00,  6.81it/s]\n"
     ]
    },
    {
     "name": "stdout",
     "output_type": "stream",
     "text": [
      "(156/156) Data: 0.049s | Batch: 0.144s | Total: 0:00:22 | ETA: 0:00:01 | Loss: 0.0020 | top1:  89.8481\n",
      "=> saving checkpoint 'checkpoints\\checkpoint.pth.tar'\n",
      "=> saving best model 'checkpoints\\model_best.pth.tar'\n"
     ]
    },
    {
     "name": "stderr",
     "output_type": "stream",
     "text": [
      "  0%|                                                                                          | 0/636 [00:00<?, ?it/s]"
     ]
    },
    {
     "name": "stdout",
     "output_type": "stream",
     "text": [
      "\n",
      "Epoch: [28 | 50] LR: 0.0100000000000000\n"
     ]
    },
    {
     "name": "stderr",
     "output_type": "stream",
     "text": [
      " 16%|████████████▌                                                                   | 100/636 [01:02<04:22,  2.05it/s]"
     ]
    },
    {
     "name": "stdout",
     "output_type": "stream",
     "text": [
      "(100/636) Data: 0.127s | Batch: 0.621s | Total: 0:01:02 | ETA: 0:04:23 | Loss: 0.0021 | top1:  89.2475\n"
     ]
    },
    {
     "name": "stderr",
     "output_type": "stream",
     "text": [
      " 31%|█████████████████████████▏                                                      | 200/636 [01:50<03:29,  2.09it/s]"
     ]
    },
    {
     "name": "stdout",
     "output_type": "stream",
     "text": [
      "(200/636) Data: 0.065s | Batch: 0.554s | Total: 0:01:50 | ETA: 0:03:33 | Loss: 0.0021 | top1:  89.2306\n"
     ]
    },
    {
     "name": "stderr",
     "output_type": "stream",
     "text": [
      " 47%|█████████████████████████████████████▋                                          | 300/636 [02:39<02:42,  2.06it/s]"
     ]
    },
    {
     "name": "stdout",
     "output_type": "stream",
     "text": [
      "(300/636) Data: 0.044s | Batch: 0.531s | Total: 0:02:39 | ETA: 0:02:43 | Loss: 0.0021 | top1:  89.2191\n"
     ]
    },
    {
     "name": "stderr",
     "output_type": "stream",
     "text": [
      " 63%|██████████████████████████████████████████████████▎                             | 400/636 [03:27<01:54,  2.06it/s]"
     ]
    },
    {
     "name": "stdout",
     "output_type": "stream",
     "text": [
      "(400/636) Data: 0.034s | Batch: 0.519s | Total: 0:03:27 | ETA: 0:01:55 | Loss: 0.0021 | top1:  89.2372\n"
     ]
    },
    {
     "name": "stderr",
     "output_type": "stream",
     "text": [
      " 79%|██████████████████████████████████████████████████████████████▉                 | 500/636 [04:16<01:05,  2.06it/s]"
     ]
    },
    {
     "name": "stdout",
     "output_type": "stream",
     "text": [
      "(500/636) Data: 0.027s | Batch: 0.513s | Total: 0:04:16 | ETA: 0:01:08 | Loss: 0.0021 | top1:  89.2545\n"
     ]
    },
    {
     "name": "stderr",
     "output_type": "stream",
     "text": [
      " 94%|███████████████████████████████████████████████████████████████████████████▍    | 600/636 [05:04<00:17,  2.05it/s]"
     ]
    },
    {
     "name": "stdout",
     "output_type": "stream",
     "text": [
      "(600/636) Data: 0.023s | Batch: 0.508s | Total: 0:05:04 | ETA: 0:00:19 | Loss: 0.0021 | top1:  89.2493\n"
     ]
    },
    {
     "name": "stderr",
     "output_type": "stream",
     "text": [
      "100%|████████████████████████████████████████████████████████████████████████████████| 636/636 [05:23<00:00,  1.97it/s]\n",
      "100%|████████████████████████████████████████████████████████████████████████████████| 156/156 [00:22<00:00,  6.82it/s]\n"
     ]
    },
    {
     "name": "stdout",
     "output_type": "stream",
     "text": [
      "(156/156) Data: 0.049s | Batch: 0.144s | Total: 0:00:22 | ETA: 0:00:01 | Loss: 0.0020 | top1:  90.0734\n",
      "=> saving checkpoint 'checkpoints\\checkpoint.pth.tar'\n",
      "=> saving best model 'checkpoints\\model_best.pth.tar'\n"
     ]
    },
    {
     "name": "stderr",
     "output_type": "stream",
     "text": [
      "  0%|                                                                                          | 0/636 [00:00<?, ?it/s]"
     ]
    },
    {
     "name": "stdout",
     "output_type": "stream",
     "text": [
      "\n",
      "Epoch: [29 | 50] LR: 0.0100000000000000\n"
     ]
    },
    {
     "name": "stderr",
     "output_type": "stream",
     "text": [
      " 16%|████████████▌                                                                   | 100/636 [01:02<04:19,  2.07it/s]"
     ]
    },
    {
     "name": "stdout",
     "output_type": "stream",
     "text": [
      "(100/636) Data: 0.123s | Batch: 0.621s | Total: 0:01:02 | ETA: 0:04:21 | Loss: 0.0021 | top1:  89.3652\n"
     ]
    },
    {
     "name": "stderr",
     "output_type": "stream",
     "text": [
      " 31%|█████████████████████████▏                                                      | 200/636 [01:50<03:30,  2.07it/s]"
     ]
    },
    {
     "name": "stdout",
     "output_type": "stream",
     "text": [
      "(200/636) Data: 0.063s | Batch: 0.552s | Total: 0:01:50 | ETA: 0:03:33 | Loss: 0.0021 | top1:  89.3086\n"
     ]
    },
    {
     "name": "stderr",
     "output_type": "stream",
     "text": [
      " 47%|█████████████████████████████████████▋                                          | 300/636 [02:38<02:42,  2.06it/s]"
     ]
    },
    {
     "name": "stdout",
     "output_type": "stream",
     "text": [
      "(300/636) Data: 0.042s | Batch: 0.530s | Total: 0:02:38 | ETA: 0:02:44 | Loss: 0.0021 | top1:  89.3295\n"
     ]
    },
    {
     "name": "stderr",
     "output_type": "stream",
     "text": [
      " 63%|██████████████████████████████████████████████████▎                             | 400/636 [03:27<01:55,  2.04it/s]"
     ]
    },
    {
     "name": "stdout",
     "output_type": "stream",
     "text": [
      "(400/636) Data: 0.032s | Batch: 0.519s | Total: 0:03:27 | ETA: 0:01:54 | Loss: 0.0021 | top1:  89.3527\n"
     ]
    },
    {
     "name": "stderr",
     "output_type": "stream",
     "text": [
      " 79%|██████████████████████████████████████████████████████████████▉                 | 500/636 [04:16<01:06,  2.05it/s]"
     ]
    },
    {
     "name": "stdout",
     "output_type": "stream",
     "text": [
      "(500/636) Data: 0.026s | Batch: 0.512s | Total: 0:04:16 | ETA: 0:01:07 | Loss: 0.0021 | top1:  89.1900\n"
     ]
    },
    {
     "name": "stderr",
     "output_type": "stream",
     "text": [
      " 94%|███████████████████████████████████████████████████████████████████████████▍    | 600/636 [05:04<00:17,  2.09it/s]"
     ]
    },
    {
     "name": "stdout",
     "output_type": "stream",
     "text": [
      "(600/636) Data: 0.022s | Batch: 0.508s | Total: 0:05:04 | ETA: 0:00:18 | Loss: 0.0021 | top1:  89.1920\n"
     ]
    },
    {
     "name": "stderr",
     "output_type": "stream",
     "text": [
      "100%|████████████████████████████████████████████████████████████████████████████████| 636/636 [05:22<00:00,  1.97it/s]\n",
      "100%|████████████████████████████████████████████████████████████████████████████████| 156/156 [00:22<00:00,  6.83it/s]\n"
     ]
    },
    {
     "name": "stdout",
     "output_type": "stream",
     "text": [
      "(156/156) Data: 0.049s | Batch: 0.143s | Total: 0:00:22 | ETA: 0:00:01 | Loss: 0.0020 | top1:  89.8227\n",
      "=> saving checkpoint 'checkpoints\\checkpoint.pth.tar'\n"
     ]
    },
    {
     "name": "stderr",
     "output_type": "stream",
     "text": [
      "  0%|                                                                                          | 0/636 [00:00<?, ?it/s]"
     ]
    },
    {
     "name": "stdout",
     "output_type": "stream",
     "text": [
      "\n",
      "Epoch: [30 | 50] LR: 0.0100000000000000\n"
     ]
    },
    {
     "name": "stderr",
     "output_type": "stream",
     "text": [
      " 16%|████████████▌                                                                   | 100/636 [01:02<04:22,  2.04it/s]"
     ]
    },
    {
     "name": "stdout",
     "output_type": "stream",
     "text": [
      "(100/636) Data: 0.122s | Batch: 0.622s | Total: 0:01:02 | ETA: 0:04:22 | Loss: 0.0021 | top1:  89.2765\n"
     ]
    },
    {
     "name": "stderr",
     "output_type": "stream",
     "text": [
      " 31%|█████████████████████████▏                                                      | 200/636 [01:50<03:31,  2.06it/s]"
     ]
    },
    {
     "name": "stdout",
     "output_type": "stream",
     "text": [
      "(200/636) Data: 0.062s | Batch: 0.554s | Total: 0:01:50 | ETA: 0:03:34 | Loss: 0.0021 | top1:  89.3492\n"
     ]
    },
    {
     "name": "stderr",
     "output_type": "stream",
     "text": [
      " 47%|█████████████████████████████████████▋                                          | 300/636 [02:40<02:45,  2.03it/s]"
     ]
    },
    {
     "name": "stdout",
     "output_type": "stream",
     "text": [
      "(300/636) Data: 0.042s | Batch: 0.534s | Total: 0:02:40 | ETA: 0:02:46 | Loss: 0.0021 | top1:  89.3186\n"
     ]
    },
    {
     "name": "stderr",
     "output_type": "stream",
     "text": [
      " 63%|██████████████████████████████████████████████████▎                             | 400/636 [03:28<01:53,  2.07it/s]"
     ]
    },
    {
     "name": "stdout",
     "output_type": "stream",
     "text": [
      "(400/636) Data: 0.032s | Batch: 0.521s | Total: 0:03:28 | ETA: 0:01:56 | Loss: 0.0021 | top1:  89.2990\n"
     ]
    },
    {
     "name": "stderr",
     "output_type": "stream",
     "text": [
      " 79%|██████████████████████████████████████████████████████████████▉                 | 500/636 [04:16<01:05,  2.06it/s]"
     ]
    },
    {
     "name": "stdout",
     "output_type": "stream",
     "text": [
      "(500/636) Data: 0.026s | Batch: 0.514s | Total: 0:04:16 | ETA: 0:01:07 | Loss: 0.0021 | top1:  89.3222\n"
     ]
    },
    {
     "name": "stderr",
     "output_type": "stream",
     "text": [
      " 94%|███████████████████████████████████████████████████████████████████████████▍    | 600/636 [05:05<00:17,  2.06it/s]"
     ]
    },
    {
     "name": "stdout",
     "output_type": "stream",
     "text": [
      "(600/636) Data: 0.022s | Batch: 0.509s | Total: 0:05:05 | ETA: 0:00:18 | Loss: 0.0021 | top1:  89.3454\n"
     ]
    },
    {
     "name": "stderr",
     "output_type": "stream",
     "text": [
      "100%|████████████████████████████████████████████████████████████████████████████████| 636/636 [05:23<00:00,  1.97it/s]\n",
      "100%|████████████████████████████████████████████████████████████████████████████████| 156/156 [00:23<00:00,  6.77it/s]\n"
     ]
    },
    {
     "name": "stdout",
     "output_type": "stream",
     "text": [
      "(156/156) Data: 0.050s | Batch: 0.145s | Total: 0:00:22 | ETA: 0:00:01 | Loss: 0.0019 | top1:  90.2358\n",
      "=> saving checkpoint 'checkpoints\\checkpoint.pth.tar'\n",
      "=> saving best model 'checkpoints\\model_best.pth.tar'\n"
     ]
    },
    {
     "name": "stderr",
     "output_type": "stream",
     "text": [
      "  0%|                                                                                          | 0/636 [00:00<?, ?it/s]"
     ]
    },
    {
     "name": "stdout",
     "output_type": "stream",
     "text": [
      "\n",
      "Epoch: [31 | 50] LR: 0.0010000000000000\n"
     ]
    },
    {
     "name": "stderr",
     "output_type": "stream",
     "text": [
      " 16%|████████████▌                                                                   | 100/636 [01:01<04:22,  2.04it/s]"
     ]
    },
    {
     "name": "stdout",
     "output_type": "stream",
     "text": [
      "(100/636) Data: 0.122s | Batch: 0.619s | Total: 0:01:01 | ETA: 0:04:24 | Loss: 0.0020 | top1:  89.6217\n"
     ]
    },
    {
     "name": "stderr",
     "output_type": "stream",
     "text": [
      " 31%|█████████████████████████▏                                                      | 200/636 [01:50<03:30,  2.08it/s]"
     ]
    },
    {
     "name": "stdout",
     "output_type": "stream",
     "text": [
      "(200/636) Data: 0.062s | Batch: 0.553s | Total: 0:01:50 | ETA: 0:03:33 | Loss: 0.0020 | top1:  89.6666\n"
     ]
    },
    {
     "name": "stderr",
     "output_type": "stream",
     "text": [
      " 47%|█████████████████████████████████████▋                                          | 300/636 [02:39<02:42,  2.06it/s]"
     ]
    },
    {
     "name": "stdout",
     "output_type": "stream",
     "text": [
      "(300/636) Data: 0.042s | Batch: 0.531s | Total: 0:02:39 | ETA: 0:02:46 | Loss: 0.0020 | top1:  89.6854\n"
     ]
    },
    {
     "name": "stderr",
     "output_type": "stream",
     "text": [
      " 63%|██████████████████████████████████████████████████▎                             | 400/636 [03:27<01:54,  2.05it/s]"
     ]
    },
    {
     "name": "stdout",
     "output_type": "stream",
     "text": [
      "(400/636) Data: 0.032s | Batch: 0.520s | Total: 0:03:27 | ETA: 0:01:56 | Loss: 0.0020 | top1:  89.7065\n"
     ]
    },
    {
     "name": "stderr",
     "output_type": "stream",
     "text": [
      " 79%|██████████████████████████████████████████████████████████████▉                 | 500/636 [04:16<01:07,  2.03it/s]"
     ]
    },
    {
     "name": "stdout",
     "output_type": "stream",
     "text": [
      "(500/636) Data: 0.026s | Batch: 0.514s | Total: 0:04:16 | ETA: 0:01:07 | Loss: 0.0020 | top1:  89.7203\n"
     ]
    },
    {
     "name": "stderr",
     "output_type": "stream",
     "text": [
      " 94%|███████████████████████████████████████████████████████████████████████████▍    | 600/636 [05:05<00:17,  2.06it/s]"
     ]
    },
    {
     "name": "stdout",
     "output_type": "stream",
     "text": [
      "(600/636) Data: 0.022s | Batch: 0.509s | Total: 0:05:05 | ETA: 0:00:19 | Loss: 0.0020 | top1:  89.7342\n"
     ]
    },
    {
     "name": "stderr",
     "output_type": "stream",
     "text": [
      "100%|████████████████████████████████████████████████████████████████████████████████| 636/636 [05:23<00:00,  1.96it/s]\n",
      "100%|████████████████████████████████████████████████████████████████████████████████| 156/156 [00:22<00:00,  6.81it/s]\n"
     ]
    },
    {
     "name": "stdout",
     "output_type": "stream",
     "text": [
      "(156/156) Data: 0.049s | Batch: 0.144s | Total: 0:00:22 | ETA: 0:00:01 | Loss: 0.0019 | top1:  90.5907\n",
      "=> saving checkpoint 'checkpoints\\checkpoint.pth.tar'\n",
      "=> saving best model 'checkpoints\\model_best.pth.tar'\n"
     ]
    },
    {
     "name": "stderr",
     "output_type": "stream",
     "text": [
      "  0%|                                                                                          | 0/636 [00:00<?, ?it/s]"
     ]
    },
    {
     "name": "stdout",
     "output_type": "stream",
     "text": [
      "\n",
      "Epoch: [32 | 50] LR: 0.0001000000000000\n"
     ]
    },
    {
     "name": "stderr",
     "output_type": "stream",
     "text": [
      " 16%|████████████▌                                                                   | 100/636 [01:02<04:19,  2.07it/s]"
     ]
    },
    {
     "name": "stdout",
     "output_type": "stream",
     "text": [
      "(100/636) Data: 0.125s | Batch: 0.621s | Total: 0:01:02 | ETA: 0:04:20 | Loss: 0.0020 | top1:  89.7756\n"
     ]
    },
    {
     "name": "stderr",
     "output_type": "stream",
     "text": [
      " 31%|█████████████████████████▏                                                      | 200/636 [01:50<03:36,  2.02it/s]"
     ]
    },
    {
     "name": "stdout",
     "output_type": "stream",
     "text": [
      "(200/636) Data: 0.064s | Batch: 0.554s | Total: 0:01:50 | ETA: 0:03:33 | Loss: 0.0020 | top1:  89.7964\n"
     ]
    },
    {
     "name": "stderr",
     "output_type": "stream",
     "text": [
      " 47%|█████████████████████████████████████▋                                          | 300/636 [02:39<02:42,  2.07it/s]"
     ]
    },
    {
     "name": "stdout",
     "output_type": "stream",
     "text": [
      "(300/636) Data: 0.043s | Batch: 0.531s | Total: 0:02:39 | ETA: 0:02:42 | Loss: 0.0020 | top1:  89.8111\n"
     ]
    },
    {
     "name": "stderr",
     "output_type": "stream",
     "text": [
      " 63%|██████████████████████████████████████████████████▎                             | 400/636 [03:27<01:53,  2.08it/s]"
     ]
    },
    {
     "name": "stdout",
     "output_type": "stream",
     "text": [
      "(400/636) Data: 0.033s | Batch: 0.519s | Total: 0:03:27 | ETA: 0:01:55 | Loss: 0.0020 | top1:  89.8106\n"
     ]
    },
    {
     "name": "stderr",
     "output_type": "stream",
     "text": [
      " 79%|██████████████████████████████████████████████████████████████▉                 | 500/636 [04:16<01:06,  2.06it/s]"
     ]
    },
    {
     "name": "stdout",
     "output_type": "stream",
     "text": [
      "(500/636) Data: 0.027s | Batch: 0.512s | Total: 0:04:16 | ETA: 0:01:07 | Loss: 0.0020 | top1:  89.8176\n"
     ]
    },
    {
     "name": "stderr",
     "output_type": "stream",
     "text": [
      " 94%|███████████████████████████████████████████████████████████████████████████▍    | 600/636 [05:04<00:17,  2.04it/s]"
     ]
    },
    {
     "name": "stdout",
     "output_type": "stream",
     "text": [
      "(600/636) Data: 0.023s | Batch: 0.508s | Total: 0:05:04 | ETA: 0:00:18 | Loss: 0.0020 | top1:  89.8234\n"
     ]
    },
    {
     "name": "stderr",
     "output_type": "stream",
     "text": [
      "100%|████████████████████████████████████████████████████████████████████████████████| 636/636 [05:22<00:00,  1.97it/s]\n",
      "100%|████████████████████████████████████████████████████████████████████████████████| 156/156 [00:22<00:00,  6.82it/s]\n"
     ]
    },
    {
     "name": "stdout",
     "output_type": "stream",
     "text": [
      "(156/156) Data: 0.049s | Batch: 0.144s | Total: 0:00:22 | ETA: 0:00:01 | Loss: 0.0019 | top1:  90.6156\n",
      "=> saving checkpoint 'checkpoints\\checkpoint.pth.tar'\n",
      "=> saving best model 'checkpoints\\model_best.pth.tar'\n"
     ]
    },
    {
     "name": "stderr",
     "output_type": "stream",
     "text": [
      "  0%|                                                                                          | 0/636 [00:00<?, ?it/s]"
     ]
    },
    {
     "name": "stdout",
     "output_type": "stream",
     "text": [
      "\n",
      "Epoch: [33 | 50] LR: 0.0000100000000000\n"
     ]
    },
    {
     "name": "stderr",
     "output_type": "stream",
     "text": [
      " 16%|████████████▌                                                                   | 100/636 [01:02<04:24,  2.02it/s]"
     ]
    },
    {
     "name": "stdout",
     "output_type": "stream",
     "text": [
      "(100/636) Data: 0.123s | Batch: 0.622s | Total: 0:01:02 | ETA: 0:04:20 | Loss: 0.0020 | top1:  89.8059\n"
     ]
    },
    {
     "name": "stderr",
     "output_type": "stream",
     "text": [
      " 31%|█████████████████████████▏                                                      | 200/636 [01:50<03:26,  2.11it/s]"
     ]
    },
    {
     "name": "stdout",
     "output_type": "stream",
     "text": [
      "(200/636) Data: 0.062s | Batch: 0.553s | Total: 0:01:50 | ETA: 0:03:33 | Loss: 0.0020 | top1:  89.8073\n"
     ]
    },
    {
     "name": "stderr",
     "output_type": "stream",
     "text": [
      " 47%|█████████████████████████████████████▋                                          | 300/636 [02:39<02:42,  2.06it/s]"
     ]
    },
    {
     "name": "stdout",
     "output_type": "stream",
     "text": [
      "(300/636) Data: 0.042s | Batch: 0.532s | Total: 0:02:39 | ETA: 0:02:44 | Loss: 0.0020 | top1:  89.8278\n"
     ]
    },
    {
     "name": "stderr",
     "output_type": "stream",
     "text": [
      " 63%|██████████████████████████████████████████████████▎                             | 400/636 [03:28<01:56,  2.02it/s]"
     ]
    },
    {
     "name": "stdout",
     "output_type": "stream",
     "text": [
      "(400/636) Data: 0.032s | Batch: 0.520s | Total: 0:03:28 | ETA: 0:01:55 | Loss: 0.0020 | top1:  89.8217\n"
     ]
    },
    {
     "name": "stderr",
     "output_type": "stream",
     "text": [
      " 79%|██████████████████████████████████████████████████████████████▉                 | 500/636 [04:16<01:06,  2.04it/s]"
     ]
    },
    {
     "name": "stdout",
     "output_type": "stream",
     "text": [
      "(500/636) Data: 0.026s | Batch: 0.513s | Total: 0:04:16 | ETA: 0:01:08 | Loss: 0.0020 | top1:  89.8126\n"
     ]
    },
    {
     "name": "stderr",
     "output_type": "stream",
     "text": [
      " 94%|███████████████████████████████████████████████████████████████████████████▍    | 600/636 [05:05<00:17,  2.02it/s]"
     ]
    },
    {
     "name": "stdout",
     "output_type": "stream",
     "text": [
      "(600/636) Data: 0.022s | Batch: 0.509s | Total: 0:05:05 | ETA: 0:00:19 | Loss: 0.0020 | top1:  89.8202\n"
     ]
    },
    {
     "name": "stderr",
     "output_type": "stream",
     "text": [
      "100%|████████████████████████████████████████████████████████████████████████████████| 636/636 [05:23<00:00,  1.97it/s]\n",
      "100%|████████████████████████████████████████████████████████████████████████████████| 156/156 [00:22<00:00,  6.85it/s]\n"
     ]
    },
    {
     "name": "stdout",
     "output_type": "stream",
     "text": [
      "(156/156) Data: 0.049s | Batch: 0.143s | Total: 0:00:22 | ETA: 0:00:01 | Loss: 0.0019 | top1:  90.6376\n",
      "=> saving checkpoint 'checkpoints\\checkpoint.pth.tar'\n",
      "=> saving best model 'checkpoints\\model_best.pth.tar'\n"
     ]
    },
    {
     "name": "stderr",
     "output_type": "stream",
     "text": [
      "  0%|                                                                                          | 0/636 [00:00<?, ?it/s]"
     ]
    },
    {
     "name": "stdout",
     "output_type": "stream",
     "text": [
      "\n",
      "Epoch: [34 | 50] LR: 0.0000010000000000\n"
     ]
    },
    {
     "name": "stderr",
     "output_type": "stream",
     "text": [
      " 16%|████████████▌                                                                   | 100/636 [01:02<04:18,  2.07it/s]"
     ]
    },
    {
     "name": "stdout",
     "output_type": "stream",
     "text": [
      "(100/636) Data: 0.125s | Batch: 0.622s | Total: 0:01:02 | ETA: 0:04:20 | Loss: 0.0020 | top1:  89.8605\n"
     ]
    },
    {
     "name": "stderr",
     "output_type": "stream",
     "text": [
      " 31%|█████████████████████████▏                                                      | 200/636 [01:50<03:30,  2.07it/s]"
     ]
    },
    {
     "name": "stdout",
     "output_type": "stream",
     "text": [
      "(200/636) Data: 0.063s | Batch: 0.554s | Total: 0:01:50 | ETA: 0:03:32 | Loss: 0.0020 | top1:  89.8330\n"
     ]
    },
    {
     "name": "stderr",
     "output_type": "stream",
     "text": [
      " 47%|█████████████████████████████████████▋                                          | 300/636 [02:39<02:41,  2.08it/s]"
     ]
    },
    {
     "name": "stdout",
     "output_type": "stream",
     "text": [
      "(300/636) Data: 0.043s | Batch: 0.531s | Total: 0:02:39 | ETA: 0:02:45 | Loss: 0.0020 | top1:  89.8284\n"
     ]
    },
    {
     "name": "stderr",
     "output_type": "stream",
     "text": [
      " 63%|██████████████████████████████████████████████████▎                             | 400/636 [03:27<01:55,  2.05it/s]"
     ]
    },
    {
     "name": "stdout",
     "output_type": "stream",
     "text": [
      "(400/636) Data: 0.033s | Batch: 0.519s | Total: 0:03:27 | ETA: 0:01:55 | Loss: 0.0020 | top1:  89.8323\n"
     ]
    },
    {
     "name": "stderr",
     "output_type": "stream",
     "text": [
      " 79%|██████████████████████████████████████████████████████████████▉                 | 500/636 [04:16<01:07,  2.03it/s]"
     ]
    },
    {
     "name": "stdout",
     "output_type": "stream",
     "text": [
      "(500/636) Data: 0.027s | Batch: 0.513s | Total: 0:04:16 | ETA: 0:01:08 | Loss: 0.0020 | top1:  89.8324\n"
     ]
    },
    {
     "name": "stderr",
     "output_type": "stream",
     "text": [
      " 94%|███████████████████████████████████████████████████████████████████████████▍    | 600/636 [05:04<00:17,  2.07it/s]"
     ]
    },
    {
     "name": "stdout",
     "output_type": "stream",
     "text": [
      "(600/636) Data: 0.023s | Batch: 0.508s | Total: 0:05:04 | ETA: 0:00:19 | Loss: 0.0020 | top1:  89.8326\n"
     ]
    },
    {
     "name": "stderr",
     "output_type": "stream",
     "text": [
      "100%|████████████████████████████████████████████████████████████████████████████████| 636/636 [05:23<00:00,  1.97it/s]\n",
      "100%|████████████████████████████████████████████████████████████████████████████████| 156/156 [00:23<00:00,  6.77it/s]\n"
     ]
    },
    {
     "name": "stdout",
     "output_type": "stream",
     "text": [
      "(156/156) Data: 0.049s | Batch: 0.145s | Total: 0:00:22 | ETA: 0:00:01 | Loss: 0.0019 | top1:  90.6277\n",
      "=> saving checkpoint 'checkpoints\\checkpoint.pth.tar'\n"
     ]
    },
    {
     "name": "stderr",
     "output_type": "stream",
     "text": [
      "  0%|                                                                                          | 0/636 [00:00<?, ?it/s]"
     ]
    },
    {
     "name": "stdout",
     "output_type": "stream",
     "text": [
      "\n",
      "Epoch: [35 | 50] LR: 0.0000001000000000\n"
     ]
    },
    {
     "name": "stderr",
     "output_type": "stream",
     "text": [
      " 16%|████████████▌                                                                   | 100/636 [01:02<04:24,  2.03it/s]"
     ]
    },
    {
     "name": "stdout",
     "output_type": "stream",
     "text": [
      "(100/636) Data: 0.126s | Batch: 0.621s | Total: 0:01:02 | ETA: 0:04:23 | Loss: 0.0020 | top1:  89.7883\n"
     ]
    },
    {
     "name": "stderr",
     "output_type": "stream",
     "text": [
      " 31%|█████████████████████████▏                                                      | 200/636 [01:50<03:32,  2.05it/s]"
     ]
    },
    {
     "name": "stdout",
     "output_type": "stream",
     "text": [
      "(200/636) Data: 0.064s | Batch: 0.554s | Total: 0:01:50 | ETA: 0:03:34 | Loss: 0.0020 | top1:  89.8240\n"
     ]
    },
    {
     "name": "stderr",
     "output_type": "stream",
     "text": [
      " 47%|█████████████████████████████████████▋                                          | 300/636 [02:39<02:45,  2.03it/s]"
     ]
    },
    {
     "name": "stdout",
     "output_type": "stream",
     "text": [
      "(300/636) Data: 0.044s | Batch: 0.531s | Total: 0:02:39 | ETA: 0:02:45 | Loss: 0.0020 | top1:  89.8256\n"
     ]
    },
    {
     "name": "stderr",
     "output_type": "stream",
     "text": [
      " 63%|██████████████████████████████████████████████████▎                             | 400/636 [03:27<01:56,  2.02it/s]"
     ]
    },
    {
     "name": "stdout",
     "output_type": "stream",
     "text": [
      "(400/636) Data: 0.034s | Batch: 0.520s | Total: 0:03:27 | ETA: 0:01:56 | Loss: 0.0020 | top1:  89.8277\n"
     ]
    },
    {
     "name": "stderr",
     "output_type": "stream",
     "text": [
      " 79%|██████████████████████████████████████████████████████████████▉                 | 500/636 [04:16<01:06,  2.04it/s]"
     ]
    },
    {
     "name": "stdout",
     "output_type": "stream",
     "text": [
      "(500/636) Data: 0.027s | Batch: 0.513s | Total: 0:04:16 | ETA: 0:01:07 | Loss: 0.0020 | top1:  89.8339\n"
     ]
    },
    {
     "name": "stderr",
     "output_type": "stream",
     "text": [
      " 94%|███████████████████████████████████████████████████████████████████████████▍    | 600/636 [05:05<00:17,  2.07it/s]"
     ]
    },
    {
     "name": "stdout",
     "output_type": "stream",
     "text": [
      "(600/636) Data: 0.023s | Batch: 0.508s | Total: 0:05:05 | ETA: 0:00:18 | Loss: 0.0020 | top1:  89.8220\n"
     ]
    },
    {
     "name": "stderr",
     "output_type": "stream",
     "text": [
      "100%|████████████████████████████████████████████████████████████████████████████████| 636/636 [05:23<00:00,  1.97it/s]\n",
      "100%|████████████████████████████████████████████████████████████████████████████████| 156/156 [00:22<00:00,  6.81it/s]\n"
     ]
    },
    {
     "name": "stdout",
     "output_type": "stream",
     "text": [
      "(156/156) Data: 0.049s | Batch: 0.144s | Total: 0:00:22 | ETA: 0:00:01 | Loss: 0.0019 | top1:  90.6357\n",
      "=> saving checkpoint 'checkpoints\\checkpoint.pth.tar'\n"
     ]
    },
    {
     "name": "stderr",
     "output_type": "stream",
     "text": [
      "  0%|                                                                                          | 0/636 [00:00<?, ?it/s]"
     ]
    },
    {
     "name": "stdout",
     "output_type": "stream",
     "text": [
      "\n",
      "Epoch: [36 | 50] LR: 0.0000000100000000\n"
     ]
    },
    {
     "name": "stderr",
     "output_type": "stream",
     "text": [
      " 16%|████████████▌                                                                   | 100/636 [01:02<04:25,  2.02it/s]"
     ]
    },
    {
     "name": "stdout",
     "output_type": "stream",
     "text": [
      "(100/636) Data: 0.126s | Batch: 0.622s | Total: 0:01:02 | ETA: 0:04:21 | Loss: 0.0020 | top1:  89.8323\n"
     ]
    },
    {
     "name": "stderr",
     "output_type": "stream",
     "text": [
      " 31%|█████████████████████████▏                                                      | 200/636 [01:50<03:31,  2.06it/s]"
     ]
    },
    {
     "name": "stdout",
     "output_type": "stream",
     "text": [
      "(200/636) Data: 0.064s | Batch: 0.554s | Total: 0:01:50 | ETA: 0:03:33 | Loss: 0.0020 | top1:  89.8181\n"
     ]
    },
    {
     "name": "stderr",
     "output_type": "stream",
     "text": [
      " 47%|█████████████████████████████████████▋                                          | 300/636 [02:39<02:42,  2.07it/s]"
     ]
    },
    {
     "name": "stdout",
     "output_type": "stream",
     "text": [
      "(300/636) Data: 0.044s | Batch: 0.531s | Total: 0:02:39 | ETA: 0:02:44 | Loss: 0.0020 | top1:  89.8408\n"
     ]
    },
    {
     "name": "stderr",
     "output_type": "stream",
     "text": [
      " 63%|██████████████████████████████████████████████████▎                             | 400/636 [03:27<01:55,  2.04it/s]"
     ]
    },
    {
     "name": "stdout",
     "output_type": "stream",
     "text": [
      "(400/636) Data: 0.033s | Batch: 0.520s | Total: 0:03:27 | ETA: 0:01:56 | Loss: 0.0020 | top1:  89.8472\n"
     ]
    },
    {
     "name": "stderr",
     "output_type": "stream",
     "text": [
      " 79%|██████████████████████████████████████████████████████████████▉                 | 500/636 [04:16<01:05,  2.06it/s]"
     ]
    },
    {
     "name": "stdout",
     "output_type": "stream",
     "text": [
      "(500/636) Data: 0.027s | Batch: 0.513s | Total: 0:04:16 | ETA: 0:01:07 | Loss: 0.0020 | top1:  89.8410\n"
     ]
    },
    {
     "name": "stderr",
     "output_type": "stream",
     "text": [
      " 94%|███████████████████████████████████████████████████████████████████████████▍    | 600/636 [05:04<00:17,  2.09it/s]"
     ]
    },
    {
     "name": "stdout",
     "output_type": "stream",
     "text": [
      "(600/636) Data: 0.023s | Batch: 0.508s | Total: 0:05:04 | ETA: 0:00:18 | Loss: 0.0020 | top1:  89.8339\n"
     ]
    },
    {
     "name": "stderr",
     "output_type": "stream",
     "text": [
      "100%|████████████████████████████████████████████████████████████████████████████████| 636/636 [05:22<00:00,  1.97it/s]\n",
      "100%|████████████████████████████████████████████████████████████████████████████████| 156/156 [00:22<00:00,  6.82it/s]\n"
     ]
    },
    {
     "name": "stdout",
     "output_type": "stream",
     "text": [
      "(156/156) Data: 0.049s | Batch: 0.143s | Total: 0:00:22 | ETA: 0:00:01 | Loss: 0.0019 | top1:  90.5966\n",
      "=> saving checkpoint 'checkpoints\\checkpoint.pth.tar'\n"
     ]
    },
    {
     "name": "stderr",
     "output_type": "stream",
     "text": [
      "  0%|                                                                                          | 0/636 [00:00<?, ?it/s]"
     ]
    },
    {
     "name": "stdout",
     "output_type": "stream",
     "text": [
      "\n",
      "Epoch: [37 | 50] LR: 0.0000000010000000\n"
     ]
    },
    {
     "name": "stderr",
     "output_type": "stream",
     "text": [
      " 16%|████████████▌                                                                   | 100/636 [01:02<04:19,  2.07it/s]"
     ]
    },
    {
     "name": "stdout",
     "output_type": "stream",
     "text": [
      "(100/636) Data: 0.127s | Batch: 0.621s | Total: 0:01:02 | ETA: 0:04:19 | Loss: 0.0020 | top1:  89.8299\n"
     ]
    },
    {
     "name": "stderr",
     "output_type": "stream",
     "text": [
      " 31%|█████████████████████████▏                                                      | 200/636 [01:50<03:32,  2.05it/s]"
     ]
    },
    {
     "name": "stdout",
     "output_type": "stream",
     "text": [
      "(200/636) Data: 0.065s | Batch: 0.554s | Total: 0:01:50 | ETA: 0:03:30 | Loss: 0.0020 | top1:  89.8413\n"
     ]
    },
    {
     "name": "stderr",
     "output_type": "stream",
     "text": [
      " 47%|█████████████████████████████████████▋                                          | 300/636 [02:38<02:41,  2.08it/s]"
     ]
    },
    {
     "name": "stdout",
     "output_type": "stream",
     "text": [
      "(300/636) Data: 0.044s | Batch: 0.529s | Total: 0:02:38 | ETA: 0:02:42 | Loss: 0.0020 | top1:  89.8328\n"
     ]
    },
    {
     "name": "stderr",
     "output_type": "stream",
     "text": [
      " 63%|██████████████████████████████████████████████████▎                             | 400/636 [03:27<01:55,  2.05it/s]"
     ]
    },
    {
     "name": "stdout",
     "output_type": "stream",
     "text": [
      "(400/636) Data: 0.033s | Batch: 0.518s | Total: 0:03:27 | ETA: 0:01:55 | Loss: 0.0020 | top1:  89.8397\n"
     ]
    },
    {
     "name": "stderr",
     "output_type": "stream",
     "text": [
      " 79%|██████████████████████████████████████████████████████████████▉                 | 500/636 [04:15<01:05,  2.07it/s]"
     ]
    },
    {
     "name": "stdout",
     "output_type": "stream",
     "text": [
      "(500/636) Data: 0.027s | Batch: 0.511s | Total: 0:04:15 | ETA: 0:01:06 | Loss: 0.0020 | top1:  89.8399\n"
     ]
    },
    {
     "name": "stderr",
     "output_type": "stream",
     "text": [
      " 94%|███████████████████████████████████████████████████████████████████████████▍    | 600/636 [05:03<00:17,  2.08it/s]"
     ]
    },
    {
     "name": "stdout",
     "output_type": "stream",
     "text": [
      "(600/636) Data: 0.023s | Batch: 0.506s | Total: 0:05:03 | ETA: 0:00:18 | Loss: 0.0020 | top1:  89.8393\n"
     ]
    },
    {
     "name": "stderr",
     "output_type": "stream",
     "text": [
      "100%|████████████████████████████████████████████████████████████████████████████████| 636/636 [05:21<00:00,  1.98it/s]\n",
      "100%|████████████████████████████████████████████████████████████████████████████████| 156/156 [00:22<00:00,  6.90it/s]\n"
     ]
    },
    {
     "name": "stdout",
     "output_type": "stream",
     "text": [
      "(156/156) Data: 0.049s | Batch: 0.142s | Total: 0:00:22 | ETA: 0:00:01 | Loss: 0.0019 | top1:  90.6187\n",
      "=> saving checkpoint 'checkpoints\\checkpoint.pth.tar'\n"
     ]
    },
    {
     "name": "stderr",
     "output_type": "stream",
     "text": [
      "  0%|                                                                                          | 0/636 [00:00<?, ?it/s]"
     ]
    },
    {
     "name": "stdout",
     "output_type": "stream",
     "text": [
      "\n",
      "Epoch: [38 | 50] LR: 0.0000000001000000\n"
     ]
    },
    {
     "name": "stderr",
     "output_type": "stream",
     "text": [
      " 16%|████████████▌                                                                   | 100/636 [01:01<04:17,  2.08it/s]"
     ]
    },
    {
     "name": "stdout",
     "output_type": "stream",
     "text": [
      "(100/636) Data: 0.122s | Batch: 0.613s | Total: 0:01:01 | ETA: 0:04:18 | Loss: 0.0020 | top1:  89.8526\n"
     ]
    },
    {
     "name": "stderr",
     "output_type": "stream",
     "text": [
      " 31%|█████████████████████████▏                                                      | 200/636 [01:49<03:28,  2.09it/s]"
     ]
    },
    {
     "name": "stdout",
     "output_type": "stream",
     "text": [
      "(200/636) Data: 0.062s | Batch: 0.547s | Total: 0:01:49 | ETA: 0:03:31 | Loss: 0.0020 | top1:  89.8403\n"
     ]
    },
    {
     "name": "stderr",
     "output_type": "stream",
     "text": [
      " 47%|█████████████████████████████████████▋                                          | 300/636 [02:37<02:43,  2.05it/s]"
     ]
    },
    {
     "name": "stdout",
     "output_type": "stream",
     "text": [
      "(300/636) Data: 0.042s | Batch: 0.525s | Total: 0:02:37 | ETA: 0:02:44 | Loss: 0.0020 | top1:  89.8469\n"
     ]
    },
    {
     "name": "stderr",
     "output_type": "stream",
     "text": [
      " 63%|██████████████████████████████████████████████████▎                             | 400/636 [03:25<01:54,  2.07it/s]"
     ]
    },
    {
     "name": "stdout",
     "output_type": "stream",
     "text": [
      "(400/636) Data: 0.032s | Batch: 0.514s | Total: 0:03:25 | ETA: 0:01:54 | Loss: 0.0020 | top1:  89.8405\n"
     ]
    },
    {
     "name": "stderr",
     "output_type": "stream",
     "text": [
      " 79%|██████████████████████████████████████████████████████████████▉                 | 500/636 [04:14<01:05,  2.07it/s]"
     ]
    },
    {
     "name": "stdout",
     "output_type": "stream",
     "text": [
      "(500/636) Data: 0.026s | Batch: 0.508s | Total: 0:04:14 | ETA: 0:01:07 | Loss: 0.0020 | top1:  89.8357\n"
     ]
    },
    {
     "name": "stderr",
     "output_type": "stream",
     "text": [
      " 94%|███████████████████████████████████████████████████████████████████████████▍    | 600/636 [05:02<00:17,  2.07it/s]"
     ]
    },
    {
     "name": "stdout",
     "output_type": "stream",
     "text": [
      "(600/636) Data: 0.022s | Batch: 0.504s | Total: 0:05:02 | ETA: 0:00:18 | Loss: 0.0020 | top1:  89.8332\n"
     ]
    },
    {
     "name": "stderr",
     "output_type": "stream",
     "text": [
      "100%|████████████████████████████████████████████████████████████████████████████████| 636/636 [05:20<00:00,  1.98it/s]\n",
      "100%|████████████████████████████████████████████████████████████████████████████████| 156/156 [00:22<00:00,  6.89it/s]\n"
     ]
    },
    {
     "name": "stdout",
     "output_type": "stream",
     "text": [
      "(156/156) Data: 0.049s | Batch: 0.142s | Total: 0:00:22 | ETA: 0:00:01 | Loss: 0.0019 | top1:  90.6197\n",
      "=> saving checkpoint 'checkpoints\\checkpoint.pth.tar'\n"
     ]
    },
    {
     "name": "stderr",
     "output_type": "stream",
     "text": [
      "  0%|                                                                                          | 0/636 [00:00<?, ?it/s]"
     ]
    },
    {
     "name": "stdout",
     "output_type": "stream",
     "text": [
      "\n",
      "Epoch: [39 | 50] LR: 0.0000000000100000\n"
     ]
    },
    {
     "name": "stderr",
     "output_type": "stream",
     "text": [
      " 16%|████████████▌                                                                   | 100/636 [01:01<04:18,  2.07it/s]"
     ]
    },
    {
     "name": "stdout",
     "output_type": "stream",
     "text": [
      "(100/636) Data: 0.124s | Batch: 0.615s | Total: 0:01:01 | ETA: 0:04:21 | Loss: 0.0020 | top1:  89.8490\n"
     ]
    },
    {
     "name": "stderr",
     "output_type": "stream",
     "text": [
      " 31%|█████████████████████████▏                                                      | 200/636 [01:49<03:28,  2.10it/s]"
     ]
    },
    {
     "name": "stdout",
     "output_type": "stream",
     "text": [
      "(200/636) Data: 0.063s | Batch: 0.549s | Total: 0:01:49 | ETA: 0:03:30 | Loss: 0.0020 | top1:  89.8506\n"
     ]
    },
    {
     "name": "stderr",
     "output_type": "stream",
     "text": [
      " 47%|█████████████████████████████████████▋                                          | 300/636 [02:37<02:40,  2.09it/s]"
     ]
    },
    {
     "name": "stdout",
     "output_type": "stream",
     "text": [
      "(300/636) Data: 0.043s | Batch: 0.526s | Total: 0:02:37 | ETA: 0:02:42 | Loss: 0.0020 | top1:  89.8358\n"
     ]
    },
    {
     "name": "stderr",
     "output_type": "stream",
     "text": [
      " 63%|██████████████████████████████████████████████████▎                             | 400/636 [03:26<01:53,  2.09it/s]"
     ]
    },
    {
     "name": "stdout",
     "output_type": "stream",
     "text": [
      "(400/636) Data: 0.033s | Batch: 0.515s | Total: 0:03:26 | ETA: 0:01:54 | Loss: 0.0020 | top1:  89.8428\n"
     ]
    },
    {
     "name": "stderr",
     "output_type": "stream",
     "text": [
      " 79%|██████████████████████████████████████████████████████████████▉                 | 500/636 [04:14<01:05,  2.08it/s]"
     ]
    },
    {
     "name": "stdout",
     "output_type": "stream",
     "text": [
      "(500/636) Data: 0.027s | Batch: 0.508s | Total: 0:04:14 | ETA: 0:01:07 | Loss: 0.0020 | top1:  89.8372\n"
     ]
    },
    {
     "name": "stderr",
     "output_type": "stream",
     "text": [
      " 94%|███████████████████████████████████████████████████████████████████████████▍    | 600/636 [05:02<00:17,  2.08it/s]"
     ]
    },
    {
     "name": "stdout",
     "output_type": "stream",
     "text": [
      "(600/636) Data: 0.022s | Batch: 0.504s | Total: 0:05:02 | ETA: 0:00:18 | Loss: 0.0020 | top1:  89.8272\n"
     ]
    },
    {
     "name": "stderr",
     "output_type": "stream",
     "text": [
      "100%|████████████████████████████████████████████████████████████████████████████████| 636/636 [05:20<00:00,  1.98it/s]\n",
      "100%|████████████████████████████████████████████████████████████████████████████████| 156/156 [00:22<00:00,  6.88it/s]\n"
     ]
    },
    {
     "name": "stdout",
     "output_type": "stream",
     "text": [
      "(156/156) Data: 0.049s | Batch: 0.142s | Total: 0:00:22 | ETA: 0:00:01 | Loss: 0.0019 | top1:  90.6255\n",
      "=> saving checkpoint 'checkpoints\\checkpoint.pth.tar'\n"
     ]
    },
    {
     "name": "stderr",
     "output_type": "stream",
     "text": [
      "  0%|                                                                                          | 0/636 [00:00<?, ?it/s]"
     ]
    },
    {
     "name": "stdout",
     "output_type": "stream",
     "text": [
      "\n",
      "Epoch: [40 | 50] LR: 0.0000000000010000\n"
     ]
    },
    {
     "name": "stderr",
     "output_type": "stream",
     "text": [
      " 16%|████████████▌                                                                   | 100/636 [01:01<04:23,  2.04it/s]"
     ]
    },
    {
     "name": "stdout",
     "output_type": "stream",
     "text": [
      "(100/636) Data: 0.122s | Batch: 0.618s | Total: 0:01:01 | ETA: 0:04:21 | Loss: 0.0020 | top1:  89.8528\n"
     ]
    },
    {
     "name": "stderr",
     "output_type": "stream",
     "text": [
      " 31%|█████████████████████████▏                                                      | 200/636 [01:49<03:28,  2.09it/s]"
     ]
    },
    {
     "name": "stdout",
     "output_type": "stream",
     "text": [
      "(200/636) Data: 0.062s | Batch: 0.550s | Total: 0:01:50 | ETA: 0:03:30 | Loss: 0.0020 | top1:  89.8496\n"
     ]
    },
    {
     "name": "stderr",
     "output_type": "stream",
     "text": [
      " 47%|█████████████████████████████████████▋                                          | 300/636 [02:38<02:44,  2.04it/s]"
     ]
    },
    {
     "name": "stdout",
     "output_type": "stream",
     "text": [
      "(300/636) Data: 0.042s | Batch: 0.528s | Total: 0:02:38 | ETA: 0:02:44 | Loss: 0.0020 | top1:  89.8404\n"
     ]
    },
    {
     "name": "stderr",
     "output_type": "stream",
     "text": [
      " 63%|██████████████████████████████████████████████████▎                             | 400/636 [03:26<01:52,  2.11it/s]"
     ]
    },
    {
     "name": "stdout",
     "output_type": "stream",
     "text": [
      "(400/636) Data: 0.032s | Batch: 0.516s | Total: 0:03:26 | ETA: 0:01:53 | Loss: 0.0020 | top1:  89.8354\n"
     ]
    },
    {
     "name": "stderr",
     "output_type": "stream",
     "text": [
      " 79%|██████████████████████████████████████████████████████████████▉                 | 500/636 [04:15<01:08,  1.99it/s]"
     ]
    },
    {
     "name": "stdout",
     "output_type": "stream",
     "text": [
      "(500/636) Data: 0.026s | Batch: 0.512s | Total: 0:04:15 | ETA: 0:01:08 | Loss: 0.0020 | top1:  89.8274\n"
     ]
    },
    {
     "name": "stderr",
     "output_type": "stream",
     "text": [
      " 94%|███████████████████████████████████████████████████████████████████████████▍    | 600/636 [05:03<00:17,  2.06it/s]"
     ]
    },
    {
     "name": "stdout",
     "output_type": "stream",
     "text": [
      "(600/636) Data: 0.022s | Batch: 0.507s | Total: 0:05:03 | ETA: 0:00:18 | Loss: 0.0020 | top1:  89.8226\n"
     ]
    },
    {
     "name": "stderr",
     "output_type": "stream",
     "text": [
      "100%|████████████████████████████████████████████████████████████████████████████████| 636/636 [05:22<00:00,  1.97it/s]\n",
      "100%|████████████████████████████████████████████████████████████████████████████████| 156/156 [00:22<00:00,  6.90it/s]\n"
     ]
    },
    {
     "name": "stdout",
     "output_type": "stream",
     "text": [
      "(156/156) Data: 0.049s | Batch: 0.142s | Total: 0:00:22 | ETA: 0:00:01 | Loss: 0.0019 | top1:  90.6298\n",
      "=> saving checkpoint 'checkpoints\\checkpoint.pth.tar'\n"
     ]
    },
    {
     "name": "stderr",
     "output_type": "stream",
     "text": [
      "  0%|                                                                                          | 0/636 [00:00<?, ?it/s]"
     ]
    },
    {
     "name": "stdout",
     "output_type": "stream",
     "text": [
      "\n",
      "Epoch: [41 | 50] LR: 0.0000000000001000\n"
     ]
    },
    {
     "name": "stderr",
     "output_type": "stream",
     "text": [
      " 16%|████████████▌                                                                   | 100/636 [01:01<04:14,  2.11it/s]"
     ]
    },
    {
     "name": "stdout",
     "output_type": "stream",
     "text": [
      "(100/636) Data: 0.117s | Batch: 0.611s | Total: 0:01:01 | ETA: 0:04:16 | Loss: 0.0020 | top1:  89.7890\n"
     ]
    },
    {
     "name": "stderr",
     "output_type": "stream",
     "text": [
      " 31%|█████████████████████████▏                                                      | 200/636 [01:49<03:30,  2.07it/s]"
     ]
    },
    {
     "name": "stdout",
     "output_type": "stream",
     "text": [
      "(200/636) Data: 0.060s | Batch: 0.546s | Total: 0:01:49 | ETA: 0:03:30 | Loss: 0.0020 | top1:  89.7924\n"
     ]
    },
    {
     "name": "stderr",
     "output_type": "stream",
     "text": [
      " 47%|█████████████████████████████████████▋                                          | 300/636 [02:37<02:39,  2.10it/s]"
     ]
    },
    {
     "name": "stdout",
     "output_type": "stream",
     "text": [
      "(300/636) Data: 0.041s | Batch: 0.525s | Total: 0:02:37 | ETA: 0:02:42 | Loss: 0.0020 | top1:  89.8072\n"
     ]
    },
    {
     "name": "stderr",
     "output_type": "stream",
     "text": [
      " 63%|██████████████████████████████████████████████████▎                             | 400/636 [03:25<01:53,  2.07it/s]"
     ]
    },
    {
     "name": "stdout",
     "output_type": "stream",
     "text": [
      "(400/636) Data: 0.031s | Batch: 0.514s | Total: 0:03:25 | ETA: 0:01:56 | Loss: 0.0020 | top1:  89.8198\n"
     ]
    },
    {
     "name": "stderr",
     "output_type": "stream",
     "text": [
      " 79%|██████████████████████████████████████████████████████████████▉                 | 500/636 [04:13<01:05,  2.08it/s]"
     ]
    },
    {
     "name": "stdout",
     "output_type": "stream",
     "text": [
      "(500/636) Data: 0.025s | Batch: 0.508s | Total: 0:04:13 | ETA: 0:01:07 | Loss: 0.0020 | top1:  89.8289\n"
     ]
    },
    {
     "name": "stderr",
     "output_type": "stream",
     "text": [
      " 94%|███████████████████████████████████████████████████████████████████████████▍    | 600/636 [05:02<00:17,  2.09it/s]"
     ]
    },
    {
     "name": "stdout",
     "output_type": "stream",
     "text": [
      "(600/636) Data: 0.021s | Batch: 0.504s | Total: 0:05:02 | ETA: 0:00:18 | Loss: 0.0020 | top1:  89.8291\n"
     ]
    },
    {
     "name": "stderr",
     "output_type": "stream",
     "text": [
      "100%|████████████████████████████████████████████████████████████████████████████████| 636/636 [05:20<00:00,  1.99it/s]\n",
      "100%|████████████████████████████████████████████████████████████████████████████████| 156/156 [00:22<00:00,  6.89it/s]\n"
     ]
    },
    {
     "name": "stdout",
     "output_type": "stream",
     "text": [
      "(156/156) Data: 0.049s | Batch: 0.142s | Total: 0:00:22 | ETA: 0:00:01 | Loss: 0.0019 | top1:  90.6136\n",
      "=> saving checkpoint 'checkpoints\\checkpoint.pth.tar'\n"
     ]
    },
    {
     "name": "stderr",
     "output_type": "stream",
     "text": [
      "  0%|                                                                                          | 0/636 [00:00<?, ?it/s]"
     ]
    },
    {
     "name": "stdout",
     "output_type": "stream",
     "text": [
      "\n",
      "Epoch: [42 | 50] LR: 0.0000000000000100\n"
     ]
    },
    {
     "name": "stderr",
     "output_type": "stream",
     "text": [
      " 16%|████████████▌                                                                   | 100/636 [01:00<04:07,  2.17it/s]"
     ]
    },
    {
     "name": "stdout",
     "output_type": "stream",
     "text": [
      "(100/636) Data: 0.122s | Batch: 0.600s | Total: 0:01:00 | ETA: 0:04:07 | Loss: 0.0020 | top1:  89.8513\n"
     ]
    },
    {
     "name": "stderr",
     "output_type": "stream",
     "text": [
      " 31%|█████████████████████████▏                                                      | 200/636 [01:46<03:34,  2.03it/s]"
     ]
    },
    {
     "name": "stdout",
     "output_type": "stream",
     "text": [
      "(200/636) Data: 0.062s | Batch: 0.535s | Total: 0:01:46 | ETA: 0:03:27 | Loss: 0.0020 | top1:  89.8071\n"
     ]
    },
    {
     "name": "stderr",
     "output_type": "stream",
     "text": [
      " 47%|█████████████████████████████████████▋                                          | 300/636 [02:33<02:37,  2.14it/s]"
     ]
    },
    {
     "name": "stdout",
     "output_type": "stream",
     "text": [
      "(300/636) Data: 0.042s | Batch: 0.511s | Total: 0:02:33 | ETA: 0:02:40 | Loss: 0.0020 | top1:  89.8278\n"
     ]
    },
    {
     "name": "stderr",
     "output_type": "stream",
     "text": [
      " 63%|██████████████████████████████████████████████████▎                             | 400/636 [03:20<01:52,  2.10it/s]"
     ]
    },
    {
     "name": "stdout",
     "output_type": "stream",
     "text": [
      "(400/636) Data: 0.032s | Batch: 0.501s | Total: 0:03:20 | ETA: 0:01:50 | Loss: 0.0020 | top1:  89.8268\n"
     ]
    },
    {
     "name": "stderr",
     "output_type": "stream",
     "text": [
      " 79%|██████████████████████████████████████████████████████████████▉                 | 500/636 [04:06<01:03,  2.15it/s]"
     ]
    },
    {
     "name": "stdout",
     "output_type": "stream",
     "text": [
      "(500/636) Data: 0.026s | Batch: 0.494s | Total: 0:04:06 | ETA: 0:01:05 | Loss: 0.0020 | top1:  89.8203\n"
     ]
    },
    {
     "name": "stderr",
     "output_type": "stream",
     "text": [
      " 94%|███████████████████████████████████████████████████████████████████████████▍    | 600/636 [04:53<00:16,  2.16it/s]"
     ]
    },
    {
     "name": "stdout",
     "output_type": "stream",
     "text": [
      "(600/636) Data: 0.022s | Batch: 0.490s | Total: 0:04:53 | ETA: 0:00:18 | Loss: 0.0020 | top1:  89.8218\n"
     ]
    },
    {
     "name": "stderr",
     "output_type": "stream",
     "text": [
      "100%|████████████████████████████████████████████████████████████████████████████████| 636/636 [05:11<00:00,  2.04it/s]\n",
      "100%|████████████████████████████████████████████████████████████████████████████████| 156/156 [00:22<00:00,  6.90it/s]\n"
     ]
    },
    {
     "name": "stdout",
     "output_type": "stream",
     "text": [
      "(156/156) Data: 0.048s | Batch: 0.142s | Total: 0:00:22 | ETA: 0:00:01 | Loss: 0.0019 | top1:  90.6230\n",
      "=> saving checkpoint 'checkpoints\\checkpoint.pth.tar'\n"
     ]
    },
    {
     "name": "stderr",
     "output_type": "stream",
     "text": [
      "  0%|                                                                                          | 0/636 [00:00<?, ?it/s]"
     ]
    },
    {
     "name": "stdout",
     "output_type": "stream",
     "text": [
      "\n",
      "Epoch: [43 | 50] LR: 0.0000000000000010\n"
     ]
    },
    {
     "name": "stderr",
     "output_type": "stream",
     "text": [
      " 16%|████████████▌                                                                   | 100/636 [01:01<04:14,  2.11it/s]"
     ]
    },
    {
     "name": "stdout",
     "output_type": "stream",
     "text": [
      "(100/636) Data: 0.124s | Batch: 0.613s | Total: 0:01:01 | ETA: 0:04:17 | Loss: 0.0020 | top1:  89.8394\n"
     ]
    },
    {
     "name": "stderr",
     "output_type": "stream",
     "text": [
      " 31%|█████████████████████████▏                                                      | 200/636 [01:53<03:55,  1.85it/s]"
     ]
    },
    {
     "name": "stdout",
     "output_type": "stream",
     "text": [
      "(200/636) Data: 0.064s | Batch: 0.568s | Total: 0:01:53 | ETA: 0:03:53 | Loss: 0.0020 | top1:  89.8402\n"
     ]
    },
    {
     "name": "stderr",
     "output_type": "stream",
     "text": [
      " 47%|█████████████████████████████████████▋                                          | 300/636 [02:43<02:41,  2.08it/s]"
     ]
    },
    {
     "name": "stdout",
     "output_type": "stream",
     "text": [
      "(300/636) Data: 0.044s | Batch: 0.545s | Total: 0:02:43 | ETA: 0:02:45 | Loss: 0.0020 | top1:  89.8326\n"
     ]
    },
    {
     "name": "stderr",
     "output_type": "stream",
     "text": [
      " 63%|██████████████████████████████████████████████████▎                             | 400/636 [03:32<01:54,  2.06it/s]"
     ]
    },
    {
     "name": "stdout",
     "output_type": "stream",
     "text": [
      "(400/636) Data: 0.033s | Batch: 0.531s | Total: 0:03:32 | ETA: 0:01:56 | Loss: 0.0020 | top1:  89.8323\n"
     ]
    },
    {
     "name": "stderr",
     "output_type": "stream",
     "text": [
      " 79%|██████████████████████████████████████████████████████████████▉                 | 500/636 [04:20<01:06,  2.04it/s]"
     ]
    },
    {
     "name": "stdout",
     "output_type": "stream",
     "text": [
      "(500/636) Data: 0.027s | Batch: 0.522s | Total: 0:04:20 | ETA: 0:01:08 | Loss: 0.0020 | top1:  89.8277\n"
     ]
    },
    {
     "name": "stderr",
     "output_type": "stream",
     "text": [
      " 94%|███████████████████████████████████████████████████████████████████████████▍    | 600/636 [05:09<00:17,  2.05it/s]"
     ]
    },
    {
     "name": "stdout",
     "output_type": "stream",
     "text": [
      "(600/636) Data: 0.023s | Batch: 0.515s | Total: 0:05:09 | ETA: 0:00:19 | Loss: 0.0020 | top1:  89.8241\n"
     ]
    },
    {
     "name": "stderr",
     "output_type": "stream",
     "text": [
      "100%|████████████████████████████████████████████████████████████████████████████████| 636/636 [05:27<00:00,  1.94it/s]\n",
      "100%|████████████████████████████████████████████████████████████████████████████████| 156/156 [00:23<00:00,  6.73it/s]\n"
     ]
    },
    {
     "name": "stdout",
     "output_type": "stream",
     "text": [
      "(156/156) Data: 0.049s | Batch: 0.146s | Total: 0:00:22 | ETA: 0:00:01 | Loss: 0.0019 | top1:  90.6375\n",
      "=> saving checkpoint 'checkpoints\\checkpoint.pth.tar'\n"
     ]
    },
    {
     "name": "stderr",
     "output_type": "stream",
     "text": [
      "  0%|                                                                                          | 0/636 [00:00<?, ?it/s]"
     ]
    },
    {
     "name": "stdout",
     "output_type": "stream",
     "text": [
      "\n",
      "Epoch: [44 | 50] LR: 0.0000000000000001\n"
     ]
    },
    {
     "name": "stderr",
     "output_type": "stream",
     "text": [
      " 16%|████████████▌                                                                   | 100/636 [01:01<04:20,  2.06it/s]"
     ]
    },
    {
     "name": "stdout",
     "output_type": "stream",
     "text": [
      "(100/636) Data: 0.123s | Batch: 0.615s | Total: 0:01:01 | ETA: 0:04:23 | Loss: 0.0020 | top1:  89.8385\n"
     ]
    },
    {
     "name": "stderr",
     "output_type": "stream",
     "text": [
      " 31%|█████████████████████████▏                                                      | 200/636 [01:50<03:29,  2.08it/s]"
     ]
    },
    {
     "name": "stdout",
     "output_type": "stream",
     "text": [
      "(200/636) Data: 0.063s | Batch: 0.550s | Total: 0:01:50 | ETA: 0:03:32 | Loss: 0.0020 | top1:  89.8484\n"
     ]
    },
    {
     "name": "stderr",
     "output_type": "stream",
     "text": [
      " 47%|█████████████████████████████████████▋                                          | 300/636 [02:38<02:39,  2.10it/s]"
     ]
    },
    {
     "name": "stdout",
     "output_type": "stream",
     "text": [
      "(300/636) Data: 0.042s | Batch: 0.528s | Total: 0:02:38 | ETA: 0:02:44 | Loss: 0.0020 | top1:  89.8426\n"
     ]
    },
    {
     "name": "stderr",
     "output_type": "stream",
     "text": [
      " 63%|██████████████████████████████████████████████████▎                             | 400/636 [03:26<01:53,  2.08it/s]"
     ]
    },
    {
     "name": "stdout",
     "output_type": "stream",
     "text": [
      "(400/636) Data: 0.032s | Batch: 0.517s | Total: 0:03:26 | ETA: 0:01:55 | Loss: 0.0020 | top1:  89.8442\n"
     ]
    },
    {
     "name": "stderr",
     "output_type": "stream",
     "text": [
      " 79%|██████████████████████████████████████████████████████████████▉                 | 500/636 [04:15<01:05,  2.08it/s]"
     ]
    },
    {
     "name": "stdout",
     "output_type": "stream",
     "text": [
      "(500/636) Data: 0.026s | Batch: 0.510s | Total: 0:04:15 | ETA: 0:01:06 | Loss: 0.0020 | top1:  89.8485\n"
     ]
    },
    {
     "name": "stderr",
     "output_type": "stream",
     "text": [
      " 94%|███████████████████████████████████████████████████████████████████████████▍    | 600/636 [05:03<00:17,  2.07it/s]"
     ]
    },
    {
     "name": "stdout",
     "output_type": "stream",
     "text": [
      "(600/636) Data: 0.022s | Batch: 0.506s | Total: 0:05:03 | ETA: 0:00:18 | Loss: 0.0020 | top1:  89.8411\n"
     ]
    },
    {
     "name": "stderr",
     "output_type": "stream",
     "text": [
      "100%|████████████████████████████████████████████████████████████████████████████████| 636/636 [05:21<00:00,  1.98it/s]\n",
      "100%|████████████████████████████████████████████████████████████████████████████████| 156/156 [00:23<00:00,  6.72it/s]\n"
     ]
    },
    {
     "name": "stdout",
     "output_type": "stream",
     "text": [
      "(156/156) Data: 0.049s | Batch: 0.146s | Total: 0:00:22 | ETA: 0:00:01 | Loss: 0.0019 | top1:  90.6141\n",
      "=> saving checkpoint 'checkpoints\\checkpoint.pth.tar'\n"
     ]
    },
    {
     "name": "stderr",
     "output_type": "stream",
     "text": [
      "  0%|                                                                                          | 0/636 [00:00<?, ?it/s]"
     ]
    },
    {
     "name": "stdout",
     "output_type": "stream",
     "text": [
      "\n",
      "Epoch: [45 | 50] LR: 0.0000000000000000\n"
     ]
    },
    {
     "name": "stderr",
     "output_type": "stream",
     "text": [
      " 16%|████████████▌                                                                   | 100/636 [01:01<04:22,  2.04it/s]"
     ]
    },
    {
     "name": "stdout",
     "output_type": "stream",
     "text": [
      "(100/636) Data: 0.119s | Batch: 0.615s | Total: 0:01:01 | ETA: 0:04:20 | Loss: 0.0020 | top1:  89.8224\n"
     ]
    },
    {
     "name": "stderr",
     "output_type": "stream",
     "text": [
      " 31%|█████████████████████████▏                                                      | 200/636 [01:50<03:33,  2.04it/s]"
     ]
    },
    {
     "name": "stdout",
     "output_type": "stream",
     "text": [
      "(200/636) Data: 0.061s | Batch: 0.550s | Total: 0:01:50 | ETA: 0:03:34 | Loss: 0.0020 | top1:  89.8415\n"
     ]
    },
    {
     "name": "stderr",
     "output_type": "stream",
     "text": [
      " 47%|█████████████████████████████████████▋                                          | 300/636 [02:38<02:41,  2.09it/s]"
     ]
    },
    {
     "name": "stdout",
     "output_type": "stream",
     "text": [
      "(300/636) Data: 0.041s | Batch: 0.528s | Total: 0:02:38 | ETA: 0:02:42 | Loss: 0.0020 | top1:  89.8354\n"
     ]
    },
    {
     "name": "stderr",
     "output_type": "stream",
     "text": [
      " 63%|██████████████████████████████████████████████████▎                             | 400/636 [03:26<01:54,  2.07it/s]"
     ]
    },
    {
     "name": "stdout",
     "output_type": "stream",
     "text": [
      "(400/636) Data: 0.032s | Batch: 0.517s | Total: 0:03:26 | ETA: 0:01:55 | Loss: 0.0020 | top1:  89.8284\n"
     ]
    },
    {
     "name": "stderr",
     "output_type": "stream",
     "text": [
      " 79%|██████████████████████████████████████████████████████████████▉                 | 500/636 [04:15<01:04,  2.09it/s]"
     ]
    },
    {
     "name": "stdout",
     "output_type": "stream",
     "text": [
      "(500/636) Data: 0.026s | Batch: 0.511s | Total: 0:04:15 | ETA: 0:01:07 | Loss: 0.0020 | top1:  89.8218\n"
     ]
    },
    {
     "name": "stderr",
     "output_type": "stream",
     "text": [
      " 94%|███████████████████████████████████████████████████████████████████████████▍    | 600/636 [05:03<00:17,  2.10it/s]"
     ]
    },
    {
     "name": "stdout",
     "output_type": "stream",
     "text": [
      "(600/636) Data: 0.022s | Batch: 0.506s | Total: 0:05:03 | ETA: 0:00:18 | Loss: 0.0020 | top1:  89.8196\n"
     ]
    },
    {
     "name": "stderr",
     "output_type": "stream",
     "text": [
      "100%|████████████████████████████████████████████████████████████████████████████████| 636/636 [05:21<00:00,  1.98it/s]\n",
      "100%|████████████████████████████████████████████████████████████████████████████████| 156/156 [00:23<00:00,  6.75it/s]\n"
     ]
    },
    {
     "name": "stdout",
     "output_type": "stream",
     "text": [
      "(156/156) Data: 0.049s | Batch: 0.145s | Total: 0:00:22 | ETA: 0:00:01 | Loss: 0.0019 | top1:  90.6044\n",
      "=> saving checkpoint 'checkpoints\\checkpoint.pth.tar'\n"
     ]
    },
    {
     "name": "stderr",
     "output_type": "stream",
     "text": [
      "  0%|                                                                                          | 0/636 [00:00<?, ?it/s]"
     ]
    },
    {
     "name": "stdout",
     "output_type": "stream",
     "text": [
      "\n",
      "Epoch: [46 | 50] LR: 0.0000000000000000\n"
     ]
    },
    {
     "name": "stderr",
     "output_type": "stream",
     "text": [
      " 16%|████████████▌                                                                   | 100/636 [01:01<04:23,  2.04it/s]"
     ]
    },
    {
     "name": "stdout",
     "output_type": "stream",
     "text": [
      "(100/636) Data: 0.120s | Batch: 0.615s | Total: 0:01:01 | ETA: 0:04:20 | Loss: 0.0020 | top1:  89.8359\n"
     ]
    },
    {
     "name": "stderr",
     "output_type": "stream",
     "text": [
      " 31%|█████████████████████████▏                                                      | 200/636 [01:49<03:36,  2.02it/s]"
     ]
    },
    {
     "name": "stdout",
     "output_type": "stream",
     "text": [
      "(200/636) Data: 0.061s | Batch: 0.550s | Total: 0:01:49 | ETA: 0:03:36 | Loss: 0.0020 | top1:  89.8445\n"
     ]
    },
    {
     "name": "stderr",
     "output_type": "stream",
     "text": [
      " 47%|█████████████████████████████████████▋                                          | 300/636 [02:38<02:41,  2.09it/s]"
     ]
    },
    {
     "name": "stdout",
     "output_type": "stream",
     "text": [
      "(300/636) Data: 0.042s | Batch: 0.528s | Total: 0:02:38 | ETA: 0:02:44 | Loss: 0.0020 | top1:  89.8202\n"
     ]
    },
    {
     "name": "stderr",
     "output_type": "stream",
     "text": [
      " 63%|██████████████████████████████████████████████████▎                             | 400/636 [03:26<01:53,  2.07it/s]"
     ]
    },
    {
     "name": "stdout",
     "output_type": "stream",
     "text": [
      "(400/636) Data: 0.032s | Batch: 0.516s | Total: 0:03:26 | ETA: 0:01:55 | Loss: 0.0020 | top1:  89.8379\n"
     ]
    },
    {
     "name": "stderr",
     "output_type": "stream",
     "text": [
      " 79%|██████████████████████████████████████████████████████████████▉                 | 500/636 [04:14<01:04,  2.09it/s]"
     ]
    },
    {
     "name": "stdout",
     "output_type": "stream",
     "text": [
      "(500/636) Data: 0.026s | Batch: 0.510s | Total: 0:04:14 | ETA: 0:01:07 | Loss: 0.0020 | top1:  89.8269\n"
     ]
    },
    {
     "name": "stderr",
     "output_type": "stream",
     "text": [
      " 94%|███████████████████████████████████████████████████████████████████████████▍    | 600/636 [05:03<00:17,  2.07it/s]"
     ]
    },
    {
     "name": "stdout",
     "output_type": "stream",
     "text": [
      "(600/636) Data: 0.022s | Batch: 0.505s | Total: 0:05:03 | ETA: 0:00:19 | Loss: 0.0020 | top1:  89.8331\n"
     ]
    },
    {
     "name": "stderr",
     "output_type": "stream",
     "text": [
      "100%|████████████████████████████████████████████████████████████████████████████████| 636/636 [05:21<00:00,  1.98it/s]\n",
      "100%|████████████████████████████████████████████████████████████████████████████████| 156/156 [00:23<00:00,  6.75it/s]\n"
     ]
    },
    {
     "name": "stdout",
     "output_type": "stream",
     "text": [
      "(156/156) Data: 0.049s | Batch: 0.145s | Total: 0:00:22 | ETA: 0:00:01 | Loss: 0.0019 | top1:  90.6255\n",
      "=> saving checkpoint 'checkpoints\\checkpoint.pth.tar'\n"
     ]
    },
    {
     "name": "stderr",
     "output_type": "stream",
     "text": [
      "  0%|                                                                                          | 0/636 [00:00<?, ?it/s]"
     ]
    },
    {
     "name": "stdout",
     "output_type": "stream",
     "text": [
      "\n",
      "Epoch: [47 | 50] LR: 0.0000000000000000\n"
     ]
    },
    {
     "name": "stderr",
     "output_type": "stream",
     "text": [
      " 16%|████████████▌                                                                   | 100/636 [01:01<04:16,  2.09it/s]"
     ]
    },
    {
     "name": "stdout",
     "output_type": "stream",
     "text": [
      "(100/636) Data: 0.119s | Batch: 0.615s | Total: 0:01:01 | ETA: 0:04:20 | Loss: 0.0020 | top1:  89.8289\n"
     ]
    },
    {
     "name": "stderr",
     "output_type": "stream",
     "text": [
      " 31%|█████████████████████████▏                                                      | 200/636 [01:49<03:29,  2.08it/s]"
     ]
    },
    {
     "name": "stdout",
     "output_type": "stream",
     "text": [
      "(200/636) Data: 0.061s | Batch: 0.550s | Total: 0:01:49 | ETA: 0:03:34 | Loss: 0.0020 | top1:  89.8507\n"
     ]
    },
    {
     "name": "stderr",
     "output_type": "stream",
     "text": [
      " 47%|█████████████████████████████████████▋                                          | 300/636 [02:38<02:41,  2.08it/s]"
     ]
    },
    {
     "name": "stdout",
     "output_type": "stream",
     "text": [
      "(300/636) Data: 0.041s | Batch: 0.528s | Total: 0:02:38 | ETA: 0:02:44 | Loss: 0.0020 | top1:  89.8491\n"
     ]
    },
    {
     "name": "stderr",
     "output_type": "stream",
     "text": [
      " 63%|██████████████████████████████████████████████████▎                             | 400/636 [03:26<01:55,  2.05it/s]"
     ]
    },
    {
     "name": "stdout",
     "output_type": "stream",
     "text": [
      "(400/636) Data: 0.032s | Batch: 0.517s | Total: 0:03:26 | ETA: 0:01:55 | Loss: 0.0020 | top1:  89.8374\n"
     ]
    },
    {
     "name": "stderr",
     "output_type": "stream",
     "text": [
      " 79%|██████████████████████████████████████████████████████████████▉                 | 500/636 [04:15<01:05,  2.08it/s]"
     ]
    },
    {
     "name": "stdout",
     "output_type": "stream",
     "text": [
      "(500/636) Data: 0.026s | Batch: 0.511s | Total: 0:04:15 | ETA: 0:01:07 | Loss: 0.0020 | top1:  89.8255\n"
     ]
    },
    {
     "name": "stderr",
     "output_type": "stream",
     "text": [
      " 94%|███████████████████████████████████████████████████████████████████████████▍    | 600/636 [05:03<00:17,  2.06it/s]"
     ]
    },
    {
     "name": "stdout",
     "output_type": "stream",
     "text": [
      "(600/636) Data: 0.022s | Batch: 0.507s | Total: 0:05:03 | ETA: 0:00:18 | Loss: 0.0020 | top1:  89.8301\n"
     ]
    },
    {
     "name": "stderr",
     "output_type": "stream",
     "text": [
      "100%|████████████████████████████████████████████████████████████████████████████████| 636/636 [05:22<00:00,  1.97it/s]\n",
      "100%|████████████████████████████████████████████████████████████████████████████████| 156/156 [00:23<00:00,  6.77it/s]\n"
     ]
    },
    {
     "name": "stdout",
     "output_type": "stream",
     "text": [
      "(156/156) Data: 0.049s | Batch: 0.145s | Total: 0:00:22 | ETA: 0:00:01 | Loss: 0.0019 | top1:  90.6273\n",
      "=> saving checkpoint 'checkpoints\\checkpoint.pth.tar'\n"
     ]
    },
    {
     "name": "stderr",
     "output_type": "stream",
     "text": [
      "  0%|                                                                                          | 0/636 [00:00<?, ?it/s]"
     ]
    },
    {
     "name": "stdout",
     "output_type": "stream",
     "text": [
      "\n",
      "Epoch: [48 | 50] LR: 0.0000000000000000\n"
     ]
    },
    {
     "name": "stderr",
     "output_type": "stream",
     "text": [
      " 16%|████████████▌                                                                   | 100/636 [01:01<04:20,  2.06it/s]"
     ]
    },
    {
     "name": "stdout",
     "output_type": "stream",
     "text": [
      "(100/636) Data: 0.123s | Batch: 0.616s | Total: 0:01:01 | ETA: 0:04:22 | Loss: 0.0020 | top1:  89.8364\n"
     ]
    },
    {
     "name": "stderr",
     "output_type": "stream",
     "text": [
      " 31%|█████████████████████████▏                                                      | 200/636 [01:50<03:29,  2.09it/s]"
     ]
    },
    {
     "name": "stdout",
     "output_type": "stream",
     "text": [
      "(200/636) Data: 0.063s | Batch: 0.550s | Total: 0:01:50 | ETA: 0:03:31 | Loss: 0.0020 | top1:  89.8441\n"
     ]
    },
    {
     "name": "stderr",
     "output_type": "stream",
     "text": [
      " 47%|█████████████████████████████████████▋                                          | 300/636 [02:38<02:40,  2.09it/s]"
     ]
    },
    {
     "name": "stdout",
     "output_type": "stream",
     "text": [
      "(300/636) Data: 0.042s | Batch: 0.528s | Total: 0:02:38 | ETA: 0:02:43 | Loss: 0.0020 | top1:  89.8465\n"
     ]
    },
    {
     "name": "stderr",
     "output_type": "stream",
     "text": [
      " 63%|██████████████████████████████████████████████████▎                             | 400/636 [03:26<01:56,  2.03it/s]"
     ]
    },
    {
     "name": "stdout",
     "output_type": "stream",
     "text": [
      "(400/636) Data: 0.033s | Batch: 0.517s | Total: 0:03:26 | ETA: 0:01:55 | Loss: 0.0020 | top1:  89.8366\n"
     ]
    },
    {
     "name": "stderr",
     "output_type": "stream",
     "text": [
      " 79%|██████████████████████████████████████████████████████████████▉                 | 500/636 [04:15<01:07,  2.02it/s]"
     ]
    },
    {
     "name": "stdout",
     "output_type": "stream",
     "text": [
      "(500/636) Data: 0.026s | Batch: 0.511s | Total: 0:04:15 | ETA: 0:01:07 | Loss: 0.0020 | top1:  89.8315\n"
     ]
    },
    {
     "name": "stderr",
     "output_type": "stream",
     "text": [
      " 94%|███████████████████████████████████████████████████████████████████████████▍    | 600/636 [05:03<00:17,  2.09it/s]"
     ]
    },
    {
     "name": "stdout",
     "output_type": "stream",
     "text": [
      "(600/636) Data: 0.022s | Batch: 0.506s | Total: 0:05:03 | ETA: 0:00:19 | Loss: 0.0020 | top1:  89.8289\n"
     ]
    },
    {
     "name": "stderr",
     "output_type": "stream",
     "text": [
      "100%|████████████████████████████████████████████████████████████████████████████████| 636/636 [05:21<00:00,  1.98it/s]\n",
      "100%|████████████████████████████████████████████████████████████████████████████████| 156/156 [00:23<00:00,  6.75it/s]\n"
     ]
    },
    {
     "name": "stdout",
     "output_type": "stream",
     "text": [
      "(156/156) Data: 0.049s | Batch: 0.145s | Total: 0:00:22 | ETA: 0:00:01 | Loss: 0.0019 | top1:  90.6165\n",
      "=> saving checkpoint 'checkpoints\\checkpoint.pth.tar'\n"
     ]
    },
    {
     "name": "stderr",
     "output_type": "stream",
     "text": [
      "  0%|                                                                                          | 0/636 [00:00<?, ?it/s]"
     ]
    },
    {
     "name": "stdout",
     "output_type": "stream",
     "text": [
      "\n",
      "Epoch: [49 | 50] LR: 0.0000000000000000\n"
     ]
    },
    {
     "name": "stderr",
     "output_type": "stream",
     "text": [
      " 16%|████████████▌                                                                   | 100/636 [01:01<04:17,  2.08it/s]"
     ]
    },
    {
     "name": "stdout",
     "output_type": "stream",
     "text": [
      "(100/636) Data: 0.122s | Batch: 0.618s | Total: 0:01:01 | ETA: 0:04:19 | Loss: 0.0020 | top1:  89.8231\n"
     ]
    },
    {
     "name": "stderr",
     "output_type": "stream",
     "text": [
      " 31%|█████████████████████████▏                                                      | 200/636 [01:50<03:29,  2.08it/s]"
     ]
    },
    {
     "name": "stdout",
     "output_type": "stream",
     "text": [
      "(200/636) Data: 0.062s | Batch: 0.552s | Total: 0:01:50 | ETA: 0:03:31 | Loss: 0.0020 | top1:  89.8267\n"
     ]
    },
    {
     "name": "stderr",
     "output_type": "stream",
     "text": [
      " 47%|█████████████████████████████████████▋                                          | 300/636 [02:38<02:42,  2.07it/s]"
     ]
    },
    {
     "name": "stdout",
     "output_type": "stream",
     "text": [
      "(300/636) Data: 0.042s | Batch: 0.529s | Total: 0:02:38 | ETA: 0:02:42 | Loss: 0.0020 | top1:  89.8269\n"
     ]
    },
    {
     "name": "stderr",
     "output_type": "stream",
     "text": [
      " 63%|██████████████████████████████████████████████████▎                             | 400/636 [03:27<01:55,  2.04it/s]"
     ]
    },
    {
     "name": "stdout",
     "output_type": "stream",
     "text": [
      "(400/636) Data: 0.032s | Batch: 0.518s | Total: 0:03:27 | ETA: 0:01:56 | Loss: 0.0020 | top1:  89.8292\n"
     ]
    },
    {
     "name": "stderr",
     "output_type": "stream",
     "text": [
      " 79%|██████████████████████████████████████████████████████████████▉                 | 500/636 [04:15<01:04,  2.11it/s]"
     ]
    },
    {
     "name": "stdout",
     "output_type": "stream",
     "text": [
      "(500/636) Data: 0.026s | Batch: 0.511s | Total: 0:04:15 | ETA: 0:01:07 | Loss: 0.0020 | top1:  89.8161\n"
     ]
    },
    {
     "name": "stderr",
     "output_type": "stream",
     "text": [
      " 94%|███████████████████████████████████████████████████████████████████████████▍    | 600/636 [05:03<00:17,  2.08it/s]"
     ]
    },
    {
     "name": "stdout",
     "output_type": "stream",
     "text": [
      "(600/636) Data: 0.022s | Batch: 0.506s | Total: 0:05:03 | ETA: 0:00:18 | Loss: 0.0020 | top1:  89.8166\n"
     ]
    },
    {
     "name": "stderr",
     "output_type": "stream",
     "text": [
      "100%|████████████████████████████████████████████████████████████████████████████████| 636/636 [05:21<00:00,  1.98it/s]\n",
      "100%|████████████████████████████████████████████████████████████████████████████████| 156/156 [00:23<00:00,  6.73it/s]\n"
     ]
    },
    {
     "name": "stdout",
     "output_type": "stream",
     "text": [
      "(156/156) Data: 0.050s | Batch: 0.145s | Total: 0:00:22 | ETA: 0:00:01 | Loss: 0.0019 | top1:  90.6145\n",
      "=> saving checkpoint 'checkpoints\\checkpoint.pth.tar'\n"
     ]
    },
    {
     "name": "stderr",
     "output_type": "stream",
     "text": [
      "  0%|                                                                                          | 0/636 [00:00<?, ?it/s]"
     ]
    },
    {
     "name": "stdout",
     "output_type": "stream",
     "text": [
      "\n",
      "Epoch: [50 | 50] LR: 0.0000000000000000\n"
     ]
    },
    {
     "name": "stderr",
     "output_type": "stream",
     "text": [
      " 16%|████████████▌                                                                   | 100/636 [01:01<04:25,  2.02it/s]"
     ]
    },
    {
     "name": "stdout",
     "output_type": "stream",
     "text": [
      "(100/636) Data: 0.122s | Batch: 0.618s | Total: 0:01:01 | ETA: 0:04:22 | Loss: 0.0020 | top1:  89.8616\n"
     ]
    },
    {
     "name": "stderr",
     "output_type": "stream",
     "text": [
      " 31%|█████████████████████████▏                                                      | 200/636 [01:50<03:34,  2.03it/s]"
     ]
    },
    {
     "name": "stdout",
     "output_type": "stream",
     "text": [
      "(200/636) Data: 0.062s | Batch: 0.551s | Total: 0:01:50 | ETA: 0:03:31 | Loss: 0.0020 | top1:  89.8462\n"
     ]
    },
    {
     "name": "stderr",
     "output_type": "stream",
     "text": [
      " 47%|█████████████████████████████████████▋                                          | 300/636 [02:38<02:39,  2.10it/s]"
     ]
    },
    {
     "name": "stdout",
     "output_type": "stream",
     "text": [
      "(300/636) Data: 0.042s | Batch: 0.528s | Total: 0:02:38 | ETA: 0:02:41 | Loss: 0.0020 | top1:  89.8445\n"
     ]
    },
    {
     "name": "stderr",
     "output_type": "stream",
     "text": [
      " 63%|██████████████████████████████████████████████████▎                             | 400/636 [03:26<01:57,  2.01it/s]"
     ]
    },
    {
     "name": "stdout",
     "output_type": "stream",
     "text": [
      "(400/636) Data: 0.032s | Batch: 0.517s | Total: 0:03:26 | ETA: 0:01:57 | Loss: 0.0020 | top1:  89.8398\n"
     ]
    },
    {
     "name": "stderr",
     "output_type": "stream",
     "text": [
      " 79%|██████████████████████████████████████████████████████████████▉                 | 500/636 [04:15<01:06,  2.06it/s]"
     ]
    },
    {
     "name": "stdout",
     "output_type": "stream",
     "text": [
      "(500/636) Data: 0.026s | Batch: 0.511s | Total: 0:04:15 | ETA: 0:01:06 | Loss: 0.0020 | top1:  89.8334\n"
     ]
    },
    {
     "name": "stderr",
     "output_type": "stream",
     "text": [
      " 94%|███████████████████████████████████████████████████████████████████████████▍    | 600/636 [05:04<00:17,  2.05it/s]"
     ]
    },
    {
     "name": "stdout",
     "output_type": "stream",
     "text": [
      "(600/636) Data: 0.022s | Batch: 0.508s | Total: 0:05:04 | ETA: 0:00:21 | Loss: 0.0020 | top1:  89.8350\n"
     ]
    },
    {
     "name": "stderr",
     "output_type": "stream",
     "text": [
      "100%|████████████████████████████████████████████████████████████████████████████████| 636/636 [05:22<00:00,  1.97it/s]\n",
      "100%|████████████████████████████████████████████████████████████████████████████████| 156/156 [00:23<00:00,  6.73it/s]\n"
     ]
    },
    {
     "name": "stdout",
     "output_type": "stream",
     "text": [
      "(156/156) Data: 0.049s | Batch: 0.146s | Total: 0:00:22 | ETA: 0:00:01 | Loss: 0.0019 | top1:  90.6294\n",
      "=> saving checkpoint 'checkpoints\\checkpoint.pth.tar'\n"
     ]
    },
    {
     "name": "stderr",
     "output_type": "stream",
     "text": [
      "The PostScript backend does not support transparency; partially transparent artists will be rendered opaque.\n",
      "The PostScript backend does not support transparency; partially transparent artists will be rendered opaque.\n"
     ]
    },
    {
     "name": "stdout",
     "output_type": "stream",
     "text": [
      "Best accuracy:\n",
      "90.63761513817981\n",
      "=> Model trained time: 04:49:36\n"
     ]
    },
    {
     "data": {
      "image/png": "[encoded data removed]",
      "text/plain": [
       "<Figure size 432x288 with 1 Axes>"
      ]
     },
     "metadata": {
      "needs_background": "light"
     },
     "output_type": "display_data"
    }
   ],
   "source": [
    "# config.epoch = 1\n",
    "model = create_model(device)\n",
    "dataloaders, attribute_names  = load_dataloaders()\n",
    "criterion = get_criterion()\n",
    "optimizer = get_optimizer(model)\n",
    "\n",
    "print(f\"=> Training model: {not config.evaluate}\")\n",
    "if config.evaluate:\n",
    "    best_prec1, mtimer, _, _, _, = resume_checkpoint(model, optimizer, config.ckp_logger_fname, config.checkpoint_fname) # checkpoint_fname bestmodel_fname\n",
    "    test_loss, prec1, top1 = validate(dataloaders['test'], model, criterion)\n",
    "    print(f\"=> Best test accuracy: {prec1}, Model val acc: {best_prec1}\")\n",
    "    print_attribute_acc(top1, attribute_names)\n",
    "else:\n",
    "    best_prec1, mtimer, lr, start_epoch, logger = resume_checkpoint(model, optimizer, config.ckp_logger_fname, config.ckp_resume)\n",
    "    run_name, run_time = get_run_name_time(model, criterion, optimizer, comments)\n",
    "    mtimer = trainer(dataloaders, model, criterion, optimizer, logger, start_epoch, best_prec1, run_name, mtimer)\n",
    "\n",
    "print(f\"=> Model trained time: {mtimer}\")"
   ]
  },
  {
   "cell_type": "markdown",
   "metadata": {},
   "source": [
    "## Testing Loop"
   ]
  },
  {
   "cell_type": "code",
   "execution_count": 21,
   "metadata": {},
   "outputs": [
    {
     "name": "stdout",
     "output_type": "stream",
     "text": [
      "=> creating model 'FaceAttrResNet'\n",
      "Dataset sizes: {'test': 19962}\n",
      "Class Labels: 40\n",
      "=> resuming model: checkpoints\\model_best.pth.tar\n",
      "=> loading checkpoint 'checkpoints\\model_best.pth.tar'\n"
     ]
    },
    {
     "name": "stderr",
     "output_type": "stream",
     "text": [
      "  0%|                                                                                          | 0/156 [00:00<?, ?it/s]"
     ]
    },
    {
     "name": "stdout",
     "output_type": "stream",
     "text": [
      "=> loaded checkpoint 'checkpoints\\model_best.pth.tar' (epoch 33)\n"
     ]
    },
    {
     "name": "stderr",
     "output_type": "stream",
     "text": [
      "100%|████████████████████████████████████████████████████████████████████████████████| 156/156 [00:26<00:00,  5.97it/s]"
     ]
    },
    {
     "name": "stdout",
     "output_type": "stream",
     "text": [
      "(156/156) Data: 0.052s | Batch: 0.165s | Total: 0:00:25 | ETA: 0:00:01 | Loss: 0.0019 | top1:  89.9999\n",
      "=> Best test accuracy: 89.99987474280431, Model val acc: 90.63761513817981\n",
      "=> Model trained time: 03:12:00\n",
      "5_o_Clock_Shadow: 93.09187454561494\n",
      "Arched_Eyebrows: 80.33263198704248\n",
      "Attractive: 80.34766055964096\n",
      "Bags_Under_Eyes: 82.72718161607885\n",
      "Bald: 98.64242056168317\n",
      "Bangs: 95.3762147859681\n",
      "Big_Lips: 69.72247268666057\n",
      "Big_Nose: 82.32642016015733\n",
      "Black_Hair: 89.00410780406479\n",
      "Blond_Hair: 95.59162405748046\n",
      "Blurry: 95.00050092352593\n",
      "Brown_Hair: 88.06231840420504\n",
      "Bushy_Eyebrows: 91.58400960528006\n",
      "Chubby: 95.09568176712878\n",
      "Double_Chin: 95.85211898869449\n",
      "Eyeglasses: 99.20849614572865\n",
      "Goatee: 96.56347058113418\n",
      "Gray_Hair: 97.9911832137739\n",
      "Heavy_Makeup: 90.00601141787928\n",
      "High_Cheekbones: 86.53942488439216\n",
      "Male: 97.37501248634001\n",
      "Mouth_Slightly_Open: 92.14006609735621\n",
      "Mustache: 96.13265200753379\n",
      "Narrow_Eyes: 85.58761644224857\n",
      "No_Beard: 94.65484416958995\n",
      "Oval_Face: 74.03065821780744\n",
      "Pale_Skin: 96.91914638423356\n",
      "Pointy_Nose: 74.4514577651762\n",
      "Receding_Hairline: 93.11191261795238\n",
      "Rosy_Cheeks: 94.67989176612689\n",
      "Sideburns: 96.91914634066323\n",
      "Smiling: 91.95471394658028\n",
      "Straight_Hair: 81.63009715254638\n",
      "Wavy_Hair: 80.95381222644558\n",
      "Wearing_Earrings: 86.57950102600948\n",
      "Wearing_Hat: 98.85282036173906\n",
      "Wearing_Lipstick: 93.79821659856731\n",
      "Wearing_Necklace: 86.1937681648538\n",
      "Wearing_Necktie: 94.62979658834085\n",
      "Young: 86.33403465592805\n"
     ]
    },
    {
     "name": "stderr",
     "output_type": "stream",
     "text": [
      "\n"
     ]
    }
   ],
   "source": [
    "if not config.evaluate:\n",
    "    config.evaluate = True\n",
    "    model = create_model(device)\n",
    "    dataloaders, attribute_names = load_dataloaders()\n",
    "    criterion = get_criterion()\n",
    "    optimizer = get_optimizer(model)\n",
    "\n",
    "    best_prec1, mtimer, _, _, _, = resume_checkpoint(model, optimizer, config.ckp_logger_fname, config.bestmodel_fname)# config.bestmodel_fname  config.checkpoint_fname\n",
    "    #print(model)\n",
    "    test_loss, prec1, top1 = validate(dataloaders['test'], model, criterion)\n",
    "    print(f\"=> Best test accuracy: {prec1}, Model val acc: {best_prec1}\")\n",
    "    print(f\"=> Model trained time: {mtimer}\")\n",
    "    print_attribute_acc(top1, attribute_names)"
   ]
  },
  {
   "cell_type": "markdown",
   "metadata": {},
   "source": [
    "## Save & Backup"
   ]
  },
  {
   "cell_type": "code",
   "execution_count": 22,
   "metadata": {},
   "outputs": [
    {
     "data": {
      "application/javascript": [
       "IPython.notebook.set_autosave_interval(1000)"
      ]
     },
     "metadata": {},
     "output_type": "display_data"
    },
    {
     "name": "stdout",
     "output_type": "stream",
     "text": [
      "Autosaving every 1 seconds\n"
     ]
    },
    {
     "data": {
      "application/javascript": [
       "IPython.notebook.set_autosave_interval(120000)"
      ]
     },
     "metadata": {},
     "output_type": "display_data"
    },
    {
     "name": "stdout",
     "output_type": "stream",
     "text": [
      "Autosaving every 120 seconds\n"
     ]
    }
   ],
   "source": [
    "# Wait for notebook to save\n",
    "%autosave 1\n",
    "time.sleep(150)\n",
    "%autosave 120"
   ]
  },
  {
   "cell_type": "code",
   "execution_count": 23,
   "metadata": {},
   "outputs": [
    {
     "name": "stderr",
     "output_type": "stream",
     "text": [
      "[NbConvertApp] Converting notebook ai6126-project1-colab-v0.91.ipynb to html\n",
      "[NbConvertApp] Writing 988718 bytes to ai6126-project1-colab-v0.91.html"
     ]
    },
    {
     "name": "stdout",
     "output_type": "stream",
     "text": [
      "        1 file(s) moved."
     ]
    },
    {
     "name": "stderr",
     "output_type": "stream",
     "text": [
      "\n"
     ]
    },
    {
     "name": "stdout",
     "output_type": "stream",
     "text": [
      "\n"
     ]
    }
   ],
   "source": [
    "def backup_everything(run_time, run_name, title):\n",
    "    # backup checkpoints\n",
    "    run_dir = os.path.join(config.BACKUP_DIR, run_name, run_time)\n",
    "    create_dir_ifne(run_dir)\n",
    "    fromDirectory = config.CHECKPOINT_DIR\n",
    "    toDirectory = run_dir\n",
    "    copy_tree(fromDirectory, toDirectory)\n",
    "    # backup notebook html\n",
    "    nb_name = title + '.ipynb'\n",
    "    html_name = title + '.html'\n",
    "    save_name = os.path.join(run_dir, html_name)\n",
    "    !jupyter nbconvert --to html $nb_name\n",
    "    !move $html_name $save_name\n",
    "    \n",
    "backup_everything(run_time, run_name, title)"
   ]
  },
  {
   "cell_type": "code",
   "execution_count": 24,
   "metadata": {},
   "outputs": [],
   "source": [
    "if config.auto_hibernate and False:\n",
    "    os.system('shutdown -h')"
   ]
  },
  {
   "cell_type": "code",
   "execution_count": null,
   "metadata": {},
   "outputs": [],
   "source": []
  }
 ],
 "metadata": {
  "colab": {
   "authorship_tag": "ABX9TyOYWQroywTLOsSvW/4lPmBg",
   "collapsed_sections": [],
   "name": "ai6126-project1-colab-v0.1.ipynb",
   "provenance": [],
   "toc_visible": true
  },
  "kernelspec": {
   "display_name": "Python 3",
   "language": "python",
   "name": "python3"
  },
  "language_info": {
   "codemirror_mode": {
    "name": "ipython",
    "version": 3
   },
   "file_extension": ".py",
   "mimetype": "text/x-python",
   "name": "python",
   "nbconvert_exporter": "python",
   "pygments_lexer": "ipython3",
   "version": "3.8.5"
  }
 },
 "nbformat": 4,
 "nbformat_minor": 4
}
