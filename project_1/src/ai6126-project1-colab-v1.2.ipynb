{
 "cells": [
  {
   "cell_type": "markdown",
   "metadata": {
    "id": "UVAZt6s-Fu41"
   },
   "source": [
    "# AI6126 ACV Project 1\n"
   ]
  },
  {
   "cell_type": "code",
   "execution_count": 1,
   "metadata": {
    "executionInfo": {
     "elapsed": 1038,
     "status": "ok",
     "timestamp": 1601175331072,
     "user": {
      "displayName": "Jia Hui Ong",
      "photoUrl": "https://lh3.googleusercontent.com/a-/AOh14GiKvHQmYQfzydylrU8HXZxYxJP3L6kGAQ94P-sS=s64",
      "userId": "05957301376516334331"
     },
     "user_tz": -480
    },
    "id": "jzjCg15BeR43"
   },
   "outputs": [
    {
     "name": "stdout",
     "output_type": "stream",
     "text": [
      "ai6126-project1-colab-v1.2\n",
      "31\n"
     ]
    }
   ],
   "source": [
    "nb_ver = 1.2\n",
    "title = f'ai6126-project1-colab-v{nb_ver}'\n",
    "print(title)\n",
    "comments = \"31\"\n",
    "print(comments)"
   ]
  },
  {
   "cell_type": "markdown",
   "metadata": {},
   "source": [
    "## Versioning & References"
   ]
  },
  {
   "cell_type": "markdown",
   "metadata": {
    "id": "4c2s81g4d5PE"
   },
   "source": [
    "### Changelogs\n",
    "+ V0.1 - Setup codes to download and unzip celeba to gDrive\n",
    "+ V0.2 - Added training loop \n",
    "+ V0.3 - Added seeding + save/ load checkpoint\n",
    "+ V0.4 - Added time taken + save output\n",
    "+ V0.5 - Added RandomErasing to transforms\n",
    "+ V0.6 - Added get_criterion (FocalLoss) \n",
    "+ V0.7 - Added FaceAttrMobileNetV2 & FaceAttrResNeXt\n",
    "+ V0.8 - Added Albumentations\n",
    "+ V0.9 - Updated Optimizer (SGD, AdamW works well)\n",
    "+ V0.91 - Added ModelTimer() + Added more augmentations\n",
    "+ V1.0 - Added ReduceLROnPlateau Scheduler\n",
    "+ V1.1 - Updated Augmentations to more closely follow Tricks paper + Added OneCycleLR Scheduler + No bias decay\n",
    "+ V1.2 - Added Early Stopping"
   ]
  },
  {
   "cell_type": "markdown",
   "metadata": {},
   "source": [
    "### ToDo:\n",
    "+ V1.1 - Train with new Augmentations\n",
    "+ V1.1 - Train with OneCycleLR \n",
    "+ V1.1 - Train with no bias decay \n",
    "+ Tune weight decay parameter"
   ]
  },
  {
   "cell_type": "markdown",
   "metadata": {},
   "source": [
    "### References\n",
    "+ [Face Attribute Prediction on CelebA benchmark with PyTorch Implementation](https://github.com/d-li14/face-attribute-prediction)\n",
    "+ [PyTorch Transfer Learning](https://pytorch.org/tutorials/beginner/transfer_learning_tutorial.html)\n",
    "+ [Albumentations](https://albumentations.ai/)\n",
    "+ [Focal Loss](https://github.com/kornia/kornia/blob/master/kornia/losses/focal.py)\n",
    "+ [Bag of Tricks](https://arxiv.org/abs/1812.01187)"
   ]
  },
  {
   "cell_type": "markdown",
   "metadata": {},
   "source": [
    "### Dependencies"
   ]
  },
  {
   "cell_type": "code",
   "execution_count": 2,
   "metadata": {},
   "outputs": [],
   "source": [
    "# conda install pytorch torchvision cudatoolkit=10.2 -c pytorch\n",
    "# conda install matplotlib\n",
    "# conda install pandas\n",
    "# conda install tqdm\n",
    "# conda install -c conda-forge jupyterlab\n",
    "# conda install -c conda-forge tensorboard\n",
    "# conda install -c conda-forge protobuf # for tensorboard\n",
    "# conda install nb_conda_kernels # auto add kernels\n",
    "\n",
    "# conda install -c conda-forge imgaug\n",
    "# conda install albumentations -c conda-forge"
   ]
  },
  {
   "cell_type": "markdown",
   "metadata": {
    "id": "UmjjrIheF0u5"
   },
   "source": [
    "## Setup/ Configuration"
   ]
  },
  {
   "cell_type": "markdown",
   "metadata": {},
   "source": [
    "### Colab"
   ]
  },
  {
   "cell_type": "code",
   "execution_count": 3,
   "metadata": {
    "colab": {
     "base_uri": "https://localhost:8080/",
     "height": 282
    },
    "executionInfo": {
     "elapsed": 4455,
     "status": "error",
     "timestamp": 1601175336681,
     "user": {
      "displayName": "Jia Hui Ong",
      "photoUrl": "https://lh3.googleusercontent.com/a-/AOh14GiKvHQmYQfzydylrU8HXZxYxJP3L6kGAQ94P-sS=s64",
      "userId": "05957301376516334331"
     },
     "user_tz": -480
    },
    "id": "7mTWwwivDNy3",
    "outputId": "9f87be63-e615-42bf-b306-8a2ec7e2458d"
   },
   "outputs": [],
   "source": [
    "# you can choose to mount your Google Drive (optional)\n",
    "import sys, os\n",
    "if 'google.colab' in sys.modules:\n",
    "    from google.colab import drive\n",
    "    drive.mount('/content/drive')\n",
    "    file_name = f'ai6126-project1-colab-v{nb_ver}.ipynb'\n",
    "    print(file_name)\n",
    "    import subprocess\n",
    "    path_to_file = subprocess.check_output('find . -type f -name ' + str(file_name), shell=True).decode(\"utf-8\")\n",
    "    print(path_to_file)\n",
    "    path_to_file = path_to_file.replace(file_name,\"\").replace('\\n',\"\")\n",
    "    os.chdir(path_to_file)\n",
    "    !pwd"
   ]
  },
  {
   "cell_type": "markdown",
   "metadata": {},
   "source": [
    "### Download Dataset (JUPYTER ONLY)"
   ]
  },
  {
   "cell_type": "code",
   "execution_count": 4,
   "metadata": {},
   "outputs": [
    {
     "name": "stdout",
     "output_type": "stream",
     "text": [
      "download celeba dataset: False\n"
     ]
    }
   ],
   "source": [
    "import os, glob\n",
    "local_download_path = '../data/celeba/img_align_celeba'\n",
    "download_dataset = True\n",
    "if os.path.exists(local_download_path):\n",
    "    images = glob.glob(local_download_path + '/*.jpg')\n",
    "    if len(images) == 202599:\n",
    "        download_dataset = False\n",
    "print(f\"download celeba dataset: {download_dataset}\")\n",
    "\n",
    "if download_dataset:\n",
    "    # create dataset root and enter it\n",
    "    !mkdir -p data/celeba\n",
    "    %cd data/celeba\n",
    "\n",
    "    # we have prepared a backup of `img_align_celeba.zip` of Celeb-A dataset in the Dropbox\n",
    "    # download it directly, or manually download the original file from Google Drive above\n",
    "    !wget https://www.dropbox.com/s/8kzo40fqx7nodat/img_align_celeba.zip\n",
    "\n",
    "    # unzip the downloaded file\n",
    "    !unzip -qq img_align_celeba.zip\n",
    "    !rm -f img_align_celeba.zip\n",
    "\n",
    "    # change the directory back to the root\n",
    "    %cd ../..\n",
    "    !ls"
   ]
  },
  {
   "cell_type": "markdown",
   "metadata": {},
   "source": [
    "## Implementation"
   ]
  },
  {
   "cell_type": "markdown",
   "metadata": {},
   "source": [
    "### Imports"
   ]
  },
  {
   "cell_type": "code",
   "execution_count": 5,
   "metadata": {
    "id": "tEkTpN_qDN5u"
   },
   "outputs": [],
   "source": [
    "import sys, os\n",
    "import shutil\n",
    "import time\n",
    "import random\n",
    "import numpy as np\n",
    "import copy\n",
    "from datetime import datetime\n",
    "from distutils.dir_util import copy_tree #for recursive filecopying\n",
    "\n",
    "import torch\n",
    "import torch.nn as nn\n",
    "import torch.optim as optim\n",
    "from torch.optim import lr_scheduler\n",
    "import torchvision\n",
    "from torchvision import datasets, models, transforms\n",
    "from torch.utils.tensorboard import SummaryWriter\n",
    "\n",
    "import albumentations as A\n",
    "from albumentations.pytorch import ToTensorV2\n",
    "import cv2\n",
    "\n",
    "from tqdm import tqdm\n",
    "import matplotlib.pyplot as plt\n",
    "\n",
    "import config\n",
    "from celeba_dataset import CelebaDataset\n",
    "import models\n",
    "import losses\n",
    "from utils import Logger, AverageMeter, Bar, ModelTimer, savefig, adjust_learning_rate, accuracy, reset_gpu_cache, print_attribute_acc, create_dir_ifne, add_weight_decay"
   ]
  },
  {
   "cell_type": "code",
   "execution_count": 6,
   "metadata": {
    "id": "DCjPfxzUDN3Y"
   },
   "outputs": [
    {
     "name": "stdout",
     "output_type": "stream",
     "text": [
      "1.6.0 True\n",
      "cuda:0\n",
      "disable_tqdm: False\n"
     ]
    }
   ],
   "source": [
    "# check PyTorch version and cuda status\n",
    "print(torch.__version__, torch.cuda.is_available())\n",
    "\n",
    "# define device\n",
    "device = torch.device(\"cuda:\"+config.gpu_id if torch.cuda.is_available() else \"cpu\")\n",
    "print(device)\n",
    "\n",
    "ISJUPYTER = False\n",
    "if 'ipykernel' in sys.modules:\n",
    "    ISJUPYTER = True\n",
    "    # set the backend of matplotlib to the 'inline' backend\n",
    "    %matplotlib inline\n",
    "    config.disable_tqdm = False\n",
    "    \n",
    "print(f\"disable_tqdm: {config.disable_tqdm}\")"
   ]
  },
  {
   "cell_type": "markdown",
   "metadata": {},
   "source": [
    "### Seeding"
   ]
  },
  {
   "cell_type": "code",
   "execution_count": 7,
   "metadata": {
    "colab": {
     "base_uri": "https://localhost:8080/",
     "height": 68
    },
    "executionInfo": {
     "elapsed": 4483,
     "status": "ok",
     "timestamp": 1601174828368,
     "user": {
      "displayName": "Jia Hui Ong",
      "photoUrl": "https://lh3.googleusercontent.com/a-/AOh14GiKvHQmYQfzydylrU8HXZxYxJP3L6kGAQ94P-sS=s64",
      "userId": "05957301376516334331"
     },
     "user_tz": -480
    },
    "id": "9Te1EuMyDN7-",
    "outputId": "e1a9321b-0c11-476e-dea5-57b3fa33f732"
   },
   "outputs": [],
   "source": [
    "# set random seed for reproducibility\n",
    "def seed_everything(seed=None):\n",
    "    if seed is None:\n",
    "        seed = random.randint(1, 10000) # create random seed\n",
    "        print(f'random seed used: {seed}')\n",
    "    os.environ['PYTHONHASHSEED'] = str(seed)\n",
    "    random.seed(seed)\n",
    "    np.random.seed(seed)\n",
    "    if 'torch' in sys.modules:\n",
    "        torch.manual_seed(seed)\n",
    "        torch.cuda.manual_seed_all(seed)\n",
    "        torch.backends.cudnn.deterministic = True\n",
    "        torch.backends.cudnn.benchmark = True\n",
    "    \n",
    "seed_everything(seed=config.manual_seed)"
   ]
  },
  {
   "cell_type": "markdown",
   "metadata": {
    "colab": {
     "base_uri": "https://localhost:8080/",
     "height": 34
    },
    "executionInfo": {
     "elapsed": 7867,
     "status": "ok",
     "timestamp": 1601174831763,
     "user": {
      "displayName": "Jia Hui Ong",
      "photoUrl": "https://lh3.googleusercontent.com/a-/AOh14GiKvHQmYQfzydylrU8HXZxYxJP3L6kGAQ94P-sS=s64",
      "userId": "05957301376516334331"
     },
     "user_tz": -480
    },
    "id": "UeTJbZQ5b_ea",
    "outputId": "de5f0be8-65fe-4648-e719-ff92f2642235",
    "pycharm": {
     "is_executing": true
    }
   },
   "source": [
    "### Data Transform"
   ]
  },
  {
   "cell_type": "code",
   "execution_count": 8,
   "metadata": {
    "pycharm": {
     "is_executing": true
    }
   },
   "outputs": [],
   "source": [
    "# Data augmentation and normalization for training\n",
    "# Just normalization for validation and testing\n",
    "def load_dataloaders(print_info=True, albu_transforms = True):\n",
    "    if config.evaluate:\n",
    "        phases = ['test']\n",
    "    else:\n",
    "        phases = ['train', 'val']\n",
    "\n",
    "    attribute_names = ['5_o_Clock_Shadow', 'Arched_Eyebrows', 'Attractive', 'Bags_Under_Eyes', 'Bald', \n",
    "                       'Bangs', 'Big_Lips', 'Big_Nose', 'Black_Hair', 'Blond_Hair', 'Blurry', 'Brown_Hair', \n",
    "                       'Bushy_Eyebrows', 'Chubby', 'Double_Chin', 'Eyeglasses', 'Goatee', 'Gray_Hair',\n",
    "                       'Heavy_Makeup', 'High_Cheekbones', 'Male', 'Mouth_Slightly_Open', 'Mustache', \n",
    "                       'Narrow_Eyes', 'No_Beard', 'Oval_Face', 'Pale_Skin', 'Pointy_Nose', 'Receding_Hairline',\n",
    "                       'Rosy_Cheeks', 'Sideburns', 'Smiling', 'Straight_Hair', 'Wavy_Hair', 'Wearing_Earrings', \n",
    "                       'Wearing_Hat', 'Wearing_Lipstick', 'Wearing_Necklace', 'Wearing_Necktie', 'Young']\n",
    "    \n",
    "    attributes_list = {\n",
    "        'train': config.TRAIN_ATTRIBUTE_LIST,\n",
    "        'val': config.VAL_ATTRIBUTE_LIST,\n",
    "        'test': config.TEST_ATTRIBUTE_LIST\n",
    "    }\n",
    "\n",
    "    batch_sizes = {\n",
    "        'train': config.train_batch,\n",
    "        'val': config.test_batch,\n",
    "        'test': config.test_batch\n",
    "    }\n",
    "\n",
    "    if not albu_transforms:\n",
    "        normalize = transforms.Normalize(mean=[0.485, 0.456, 0.406], \n",
    "                                         std=[0.229, 0.224, 0.225])\n",
    "        data_transforms = {\n",
    "            'train': transforms.Compose([\n",
    "                transforms.CenterCrop(128), #new\n",
    "                transforms.RandomHorizontalFlip(p=0.5),\n",
    "                transforms.RandomRotation(degrees=10), #new\n",
    "                transforms.ToTensor(),\n",
    "                normalize,\n",
    "                transforms.RandomErasing()\n",
    "            ]),\n",
    "            'val': transforms.Compose([\n",
    "                transforms.Resize(128), #new\n",
    "                transforms.ToTensor(),\n",
    "                normalize\n",
    "            ]),\n",
    "            'test': transforms.Compose([\n",
    "                transforms.Resize(128), #new\n",
    "                transforms.ToTensor(),\n",
    "                normalize\n",
    "            ])\n",
    "        }\n",
    "    else:\n",
    "        normalize_A = A.Normalize(mean=(0.485, 0.456, 0.406), \n",
    "                                  std=(0.229, 0.224, 0.225))\n",
    "        data_transforms = {\n",
    "            'train': A.Compose([\n",
    "                #A.RandomResizedCrop(148, 148), # cuts out too much attributes, use centercrop instead\n",
    "                A.CenterCrop(height=148, width=148),\n",
    "                A.ShiftScaleRotate(shift_limit=0.05, scale_limit=0.05, \n",
    "                                 rotate_limit=15, p=0.5), # AFFACT https://arxiv.org/pdf/1611.06158.pdf\n",
    "                A.HorizontalFlip(p=0.5),\n",
    "                A.HueSaturationValue(hue_shift_limit=14, sat_shift_limit=14, val_shift_limit=14, p=0.5),\n",
    "                A.FancyPCA(alpha=0.1, p=0.5), #http://papers.nips.cc/paper/4824-imagenet-classification-with-deep-convolutional-neural-networks.pdf\n",
    "                A.GaussNoise(var_limit=10.0, p=0.5), \n",
    "                A.GaussianBlur(p=0.1), # AFFACT https://arxiv.org/pdf/1611.06158.pdf\n",
    "                A.CoarseDropout(max_holes=1, max_height=74, max_width=74, \n",
    "                               min_height=49, min_width=49, fill_value=0, p=0.2), #https://arxiv.org/pdf/1708.04896.pdf\n",
    "                normalize_A,\n",
    "                ToTensorV2(),\n",
    "                \n",
    "            ]),\n",
    "            'val': A.Compose([\n",
    "                #Rescale an image so that minimum side is equal to max_size 178 (shortest edge of Celeba)\n",
    "                A.SmallestMaxSize(max_size=178), \n",
    "                A.CenterCrop(height=148, width=148),\n",
    "                normalize_A,\n",
    "                ToTensorV2(),\n",
    "            ]),\n",
    "            'test': A.Compose([\n",
    "                A.SmallestMaxSize(max_size=178),\n",
    "                A.CenterCrop(height=148, width=148),\n",
    "                normalize_A,\n",
    "                ToTensorV2(),\n",
    "            ])\n",
    "        }\n",
    "\n",
    "    image_datasets = {x: CelebaDataset(config.IMG_DIR, attributes_list[x], \n",
    "                                       data_transforms[x]) \n",
    "                      for x in phases}\n",
    "    dataloaders = {x: torch.utils.data.DataLoader(image_datasets[x], \n",
    "                                                  batch_size=batch_sizes[x],\n",
    "                                                  pin_memory=True, shuffle=(x == 'train'), \n",
    "                                                  num_workers=config.dl_workers) \n",
    "                   for x in phases}\n",
    "    if print_info:\n",
    "        dataset_sizes = {x: len(image_datasets[x]) for x in phases}\n",
    "        print(f\"Dataset sizes: {dataset_sizes}\")\n",
    "        \n",
    "    if config.evaluate:\n",
    "        class_names = image_datasets['test'].targets\n",
    "    else:\n",
    "        class_names = image_datasets['train'].targets\n",
    "    print(f\"Class Labels: {len(class_names[0])}\")\n",
    "    assert len(attribute_names) == len(class_names[0])\n",
    "    return dataloaders, attribute_names"
   ]
  },
  {
   "cell_type": "markdown",
   "metadata": {
    "id": "qtfDq7Z2F6Nh",
    "pycharm": {
     "is_executing": true
    }
   },
   "source": [
    "### Model Architecture Initialization"
   ]
  },
  {
   "cell_type": "code",
   "execution_count": 9,
   "metadata": {
    "pycharm": {
     "is_executing": true
    }
   },
   "outputs": [
    {
     "name": "stdout",
     "output_type": "stream",
     "text": [
      "Available Models: ['FaceAttrMobileNetV2', 'FaceAttrResNeXt', 'FaceAttrResNet']\n"
     ]
    }
   ],
   "source": [
    "model_names = sorted(name for name in models.__dict__\n",
    "                     if callable(models.__dict__[name])) # and name.islower() and not name.startswith(\"__\"))\n",
    "print(f\"Available Models: {model_names}\")"
   ]
  },
  {
   "cell_type": "code",
   "execution_count": 10,
   "metadata": {},
   "outputs": [
    {
     "name": "stdout",
     "output_type": "stream",
     "text": [
      "=> creating model 'FaceAttrResNet'\n"
     ]
    }
   ],
   "source": [
    "def create_model(device):\n",
    "    print(\"=> creating model '{}'\".format(config.arch))\n",
    "    if config.arch.startswith('FaceAttrResNet'):\n",
    "        model = models.__dict__[config.arch](resnet_layers = config.pt_layers)\n",
    "    elif config.arch.startswith('FaceAttrResNeXt'):\n",
    "        model = models.__dict__[config.arch](resnet_layers = config.pt_layers)\n",
    "    elif config.arch.startswith('FaceAttrMobileNetV2'):\n",
    "        model = models.__dict__[config.arch]()\n",
    "    #print(model)\n",
    "    model = model.to(device)\n",
    "    return model\n",
    "#print(model)\n",
    "model = create_model(device)"
   ]
  },
  {
   "cell_type": "markdown",
   "metadata": {},
   "source": [
    "### Criterion & Optimizer & Scheduler"
   ]
  },
  {
   "cell_type": "code",
   "execution_count": 11,
   "metadata": {
    "pycharm": {
     "is_executing": true
    }
   },
   "outputs": [],
   "source": [
    "def get_criterion():\n",
    "    criterion = nn.CrossEntropyLoss().to(device)\n",
    "    if config.criterion == 'BinaryFocalLoss':\n",
    "        criterion = losses.BinaryFocalLoss().to(device)\n",
    "    elif config.criterion == 'FocalLoss':\n",
    "        criterion = losses.FocalLoss(alpha=0.25, gamma=5, reduction='mean').to(device) #alpha=0.25, gamma =5\n",
    "    return criterion\n",
    "\n",
    "criterion = get_criterion()"
   ]
  },
  {
   "cell_type": "code",
   "execution_count": 12,
   "metadata": {},
   "outputs": [],
   "source": [
    "def get_optimizer(model, no_bias_bn_decay=config.no_bias_bn_decay):\n",
    "    weight_decay = config.weight_decay\n",
    "    if no_bias_bn_decay: #bag of tricks paper\n",
    "        parameters = add_weight_decay(model, weight_decay)\n",
    "        weight_decay = 0.\n",
    "    else:\n",
    "        parameters = model.parameters()\n",
    "        \n",
    "    optimizer = torch.optim.SGD(parameters, config.lr,\n",
    "                            momentum=config.momentum,\n",
    "                            weight_decay=weight_decay)\n",
    "    if config.optimizer == 'Adam':\n",
    "        optimizer = torch.optim.Adam(parameters, config.lr,\n",
    "                            weight_decay=weight_decay)\n",
    "    elif config.optimizer == 'AdamW':\n",
    "        optimizer = torch.optim.AdamW(parameters, config.lr,\n",
    "                            weight_decay=weight_decay)\n",
    "    return optimizer\n",
    "\n",
    "optimizer = get_optimizer(model)"
   ]
  },
  {
   "cell_type": "code",
   "execution_count": 13,
   "metadata": {},
   "outputs": [],
   "source": [
    "def get_scheduler(optimizer, steps_per_epoch, epochs):\n",
    "    scheduler = None # Manual\n",
    "    if config.scheduler == 'ReduceLROnPlateau':\n",
    "        scheduler = torch.optim.lr_scheduler.ReduceLROnPlateau(optimizer, 'min',\n",
    "                                                               factor=0.05,\n",
    "                                                               patience=config.patience)\n",
    "    elif config.scheduler == 'OneCycleLR': \n",
    "        scheduler = torch.optim.lr_scheduler.OneCycleLR(optimizer, max_lr=0.1, epochs=epochs,\n",
    "                                                        steps_per_epoch=int(steps_per_epoch), \n",
    "                                                        anneal_strategy='cos') #https://arxiv.org/pdf/1708.07120.pdf\n",
    "    return scheduler    "
   ]
  },
  {
   "cell_type": "markdown",
   "metadata": {},
   "source": [
    "### Resume Checkpoint if any"
   ]
  },
  {
   "cell_type": "code",
   "execution_count": 14,
   "metadata": {},
   "outputs": [],
   "source": [
    "def resume_checkpoint(model, optimizer, ckp_logger_fname, ckp_resume=None):\n",
    "    if not os.path.isdir(config.CHECKPOINT_DIR):\n",
    "        try: \n",
    "            os.makedirs(config.CHECKPOINT_DIR)\n",
    "        except OSError:\n",
    "            raise\n",
    "            \n",
    "    start_epoch = 0\n",
    "    best_prec1 = 0\n",
    "    lr = config.lr\n",
    "\n",
    "    if ckp_resume and os.path.isfile(ckp_resume): \n",
    "        print(f\"=> resuming model: {ckp_resume}\")\n",
    "        optimizer, start_epoch, best_prec1, lr, total_train_time = model.load_ckp(optimizer, ckp_resume)\n",
    "        model_timer = ModelTimer(total_train_time)\n",
    "        if config.scheduler == 'Manual':\n",
    "            lr = config.lr # self adjust from original\n",
    "        config.checkpoint = os.path.dirname(ckp_resume)\n",
    "        logger = Logger(ckp_logger_fname, title=model.name, resume=True)\n",
    "    else:\n",
    "        model_timer = ModelTimer()\n",
    "        logger = Logger(ckp_logger_fname, title=model.name)\n",
    "        logger.set_names(['Learning Rate', 'Train Loss', 'Valid Loss', 'Train Acc.', 'Valid Acc.'])\n",
    "        \n",
    "        \n",
    "    return best_prec1, model_timer, lr, start_epoch, logger\n",
    "\n",
    "# best_prec1, mt, lr, start_epoch, logger = resume_checkpoint(model, optimizer, config.ckp_logger_fname, config.ckp_resume)\n",
    "# print(f\"=> Model trained time: {mt}\")"
   ]
  },
  {
   "cell_type": "markdown",
   "metadata": {},
   "source": [
    "## Train & Validate Function"
   ]
  },
  {
   "cell_type": "code",
   "execution_count": 15,
   "metadata": {},
   "outputs": [],
   "source": [
    "def train(train_loader, model, criterion, optimizer):\n",
    "    bar = Bar('Processing', max=len(train_loader))\n",
    "\n",
    "    batch_time = AverageMeter()\n",
    "    data_time = AverageMeter()\n",
    "    losses = [AverageMeter() for _ in range(40)]\n",
    "    top1 = [AverageMeter() for _ in range(40)]\n",
    "\n",
    "    # switch to train mode\n",
    "    model.train()\n",
    "\n",
    "    end = time.time()\n",
    "    for i, (X, y) in enumerate(tqdm(train_loader, disable=config.disable_tqdm)):\n",
    "        # measure data loading time\n",
    "        data_time.update(time.time() - end)\n",
    "\n",
    "        # Overlapping transfer if pinned memory\n",
    "        X = X.to(device, non_blocking=True)\n",
    "        y = y.to(device, non_blocking=True)\n",
    "    \n",
    "        # compute output\n",
    "        output = model(X)\n",
    "        # measure accuracy and record loss\n",
    "        loss = []\n",
    "        prec1 = []\n",
    "        for j in range(len(output)): \n",
    "            crit = criterion(output[j], y[:, j])\n",
    "            loss.append(crit)\n",
    "            prec1.append(accuracy(output[j], y[:, j], topk=(1,)))\n",
    "            losses[j].update(loss[j].detach().item(), X.size(0))\n",
    "            top1[j].update(prec1[j][0].item(), X.size(0))\n",
    "            \n",
    "        losses_avg = [losses[k].avg for k in range(len(losses))]\n",
    "        top1_avg = [top1[k].avg for k in range(len(top1))]\n",
    "        loss_avg = sum(losses_avg) / len(losses_avg)\n",
    "        prec1_avg = sum(top1_avg) / len(top1_avg)\n",
    "\n",
    "        # compute gradient and do optimizer step\n",
    "        optimizer.zero_grad()\n",
    "        loss_sum = sum(loss)\n",
    "        loss_sum.backward()\n",
    "        optimizer.step()\n",
    "\n",
    "        # measure elapsed time\n",
    "        batch_time.update(time.time() - end)\n",
    "        end = time.time()\n",
    "\n",
    "        # plot progress\n",
    "        print_line = '({batch}/{size}) Data: {data:.3f}s | Batch: {bt:.3f}s | Total: {total:} | ETA: {eta:} | Loss: {loss:.4f} | top1: {top1: .4f}'.format(\n",
    "                        batch=i + 1,\n",
    "                        size=len(train_loader),\n",
    "                        data=data_time.avg,\n",
    "                        bt=batch_time.avg,\n",
    "                        total=bar.elapsed_td,\n",
    "                        eta=bar.eta_td,\n",
    "                        loss=loss_avg,\n",
    "                        top1=prec1_avg,\n",
    "                        )\n",
    "        if not config.disable_tqdm and (i+1)% 100 == 0:\n",
    "            print(print_line)\n",
    "        bar.suffix  = print_line\n",
    "        bar.next()\n",
    "    bar.finish()\n",
    "    return (loss_avg, prec1_avg)"
   ]
  },
  {
   "cell_type": "code",
   "execution_count": 16,
   "metadata": {},
   "outputs": [],
   "source": [
    "def validate(val_loader, model, criterion):\n",
    "    bar = Bar('Processing', max=len(val_loader))\n",
    "\n",
    "    batch_time = AverageMeter()\n",
    "    data_time = AverageMeter()\n",
    "    losses = [AverageMeter() for _ in range(40)]\n",
    "    top1 = [AverageMeter() for _ in range(40)]\n",
    "\n",
    "    # switch to evaluate mode\n",
    "    model.eval()\n",
    "\n",
    "    with torch.no_grad():\n",
    "        end = time.time()\n",
    "        for i, (X, y) in enumerate(tqdm(val_loader, disable=config.disable_tqdm)):\n",
    "            # measure data loading time\n",
    "            data_time.update(time.time() - end)\n",
    "\n",
    "            # Overlapping transfer if pinned memory\n",
    "            X = X.to(device, non_blocking=True)\n",
    "            y = y.to(device, non_blocking=True)\n",
    "\n",
    "            # compute output\n",
    "            output = model(X)\n",
    "            # measure accuracy and record loss\n",
    "            loss = []\n",
    "            prec1 = []\n",
    "            for j in range(len(output)):\n",
    "                loss.append(criterion(output[j], y[:, j]))\n",
    "                prec1.append(accuracy(output[j], y[:, j], topk=(1,)))\n",
    "                \n",
    "                losses[j].update(loss[j].detach().item(), X.size(0))\n",
    "                top1[j].update(prec1[j][0].item(), X.size(0))\n",
    "            losses_avg = [losses[k].avg for k in range(len(losses))]\n",
    "            top1_avg = [top1[k].avg for k in range(len(top1))]\n",
    "            loss_avg = sum(losses_avg) / len(losses_avg)\n",
    "            prec1_avg = sum(top1_avg) / len(top1_avg)\n",
    "\n",
    "            # measure elapsed time\n",
    "            batch_time.update(time.time() - end)\n",
    "            end = time.time()\n",
    "            \n",
    "            # plot progress\n",
    "            print_line = '({batch}/{size}) Data: {data:.3f}s | Batch: {bt:.3f}s | Total: {total:} | ETA: {eta:} | Loss: {loss:.4f} | top1: {top1: .4f}'.format(\n",
    "                            batch=i + 1,\n",
    "                            size=len(val_loader),\n",
    "                            data=data_time.avg,\n",
    "                            bt=batch_time.avg,\n",
    "                            total=bar.elapsed_td,\n",
    "                            eta=bar.eta_td,\n",
    "                            loss=loss_avg,\n",
    "                            top1=prec1_avg,\n",
    "                            )\n",
    "\n",
    "            bar.suffix  = print_line\n",
    "            bar.next()  \n",
    "\n",
    "    if not config.disable_tqdm:\n",
    "        print(print_line)        \n",
    "    bar.finish()\n",
    "    return (loss_avg, prec1_avg, top1)"
   ]
  },
  {
   "cell_type": "markdown",
   "metadata": {},
   "source": [
    "## Main Function"
   ]
  },
  {
   "cell_type": "code",
   "execution_count": 17,
   "metadata": {},
   "outputs": [],
   "source": [
    "def trainer(dataloaders, model, criterion, optimizer, logger, start_epoch, best_prec1, run_name, model_timer):\n",
    "    # visualization\n",
    "    writer = SummaryWriter(os.path.join(config.tensorboard_dir, run_name))\n",
    "    \n",
    "    scheduler = get_scheduler(optimizer, len(dataloaders['train']), config.epochs-start_epoch)\n",
    "    \n",
    "    stagnant_val_loss_ctr = 0\n",
    "    min_val_loss = 1.\n",
    "    \n",
    "    for epoch in range(start_epoch, config.epochs):\n",
    "        model_timer.start_epoch_timer()\n",
    "        if not scheduler:\n",
    "            lr = adjust_learning_rate(optimizer, config.lr_decay, epoch, gamma=config.gamma, step=config.step,\n",
    "                                     total_epochs=config.epochs, turning_point=config.turning_point,\n",
    "                                     schedule=config.schedule)\n",
    "        else:\n",
    "            lr = optimizer.param_groups[0]['lr']\n",
    "\n",
    "        print('\\nEpoch: [%d | %d] LR: %.16f' % (epoch + 1, config.epochs, lr))\n",
    "\n",
    "        # train for one epoch\n",
    "        train_loss, train_acc = train(dataloaders['train'], model, criterion, optimizer)\n",
    "\n",
    "        # evaluate on validation set\n",
    "        val_loss, prec1, _ = validate(dataloaders['val'], model, criterion)\n",
    "        \n",
    "        if scheduler:\n",
    "            scheduler.step(None if config.scheduler != 'ReduceLROnPlateau' else val_loss)\n",
    "            \n",
    "        # append logger file\n",
    "        logger.append([lr, train_loss, val_loss, train_acc, prec1])\n",
    "\n",
    "        # tensorboardX\n",
    "        writer.add_scalar('learning rate', lr, epoch + 1)\n",
    "        writer.add_scalars('loss', {'train loss': train_loss, 'validation loss': val_loss}, epoch + 1)\n",
    "        writer.add_scalars('accuracy', {'train accuracy': train_acc, 'validation accuracy': prec1}, epoch + 1)\n",
    "\n",
    "        is_best = prec1 > best_prec1\n",
    "        best_prec1 = max(prec1, best_prec1)\n",
    "        model_timer.stop_epoch_timer()\n",
    "        model.save_ckp({\n",
    "            'epoch': epoch + 1,\n",
    "            'arch': model.name,\n",
    "            'state_dict': model.state_dict(),\n",
    "            'best_prec1': best_prec1,\n",
    "            'optimizer' : optimizer.state_dict(),\n",
    "            'lr': lr,\n",
    "            'total_time': model_timer.total_time\n",
    "        }, is_best, config.checkpoint_fname,config.bestmodel_fname)\n",
    "        \n",
    "        if config.early_stopping:\n",
    "            if val_loss >= min_val_loss:\n",
    "                stagnant_val_loss_ctr += 1\n",
    "                if stagnant_val_loss_ctr > config.es_min and stagnant_val_loss_ctr >= config.es_patience: \n",
    "                    break\n",
    "            else:\n",
    "                stagnant_val_loss_ctr = 0\n",
    "                min_val_loss = val_loss\n",
    "\n",
    "    logger.close()\n",
    "    logger.plot()\n",
    "    save_path = None\n",
    "    if config.train_saveplot:\n",
    "        save_path = os.path.join(config.CHECKPOINT_DIR, \"losses.jpg\")\n",
    "    logger.plot_special(save_path)\n",
    "    savefig(config.train_plotfig)\n",
    "    writer.close()\n",
    "\n",
    "    print('Best accuracy:')\n",
    "    print(best_prec1)\n",
    "    return model_timer"
   ]
  },
  {
   "cell_type": "code",
   "execution_count": 18,
   "metadata": {},
   "outputs": [],
   "source": [
    "def get_run_name_time(model, criterion, optimizer, comments):\n",
    "    try:\n",
    "        if criterion.name:\n",
    "            p_criterion = criterion.name\n",
    "    except:\n",
    "        p_criterion = 'CE'\n",
    "\n",
    "    p_optimizer = f'{str(optimizer).split(\"(\")[0].strip()}'\n",
    "    p_scheduler = f'lr{config.lr}_wd{config.weight_decay}'\n",
    "    if config.scheduler == 'Manual':\n",
    "        p_scheduler += f'_{config.lr_decay}'\n",
    "        if config.lr_decay == 'step':\n",
    "            p_scheduler += f'_g{config.gamma}_sp{config.step}'\n",
    "        elif config.lr_decay == 'linear2exp':\n",
    "            p_scheduler += f'_g{config.gamma}_tp{config.turning_point}'\n",
    "        elif config.lr_decay == 'schedule':\n",
    "            p_scheduler += f'_g{config.gamma}_sch{config.schedule}'\n",
    "    else: \n",
    "        p_scheduler += f'_{config.scheduler}'\n",
    "    \n",
    "\n",
    "    run_name = f'{model.name}_{config.manual_seed}_s{start_epoch}e{config.epochs}_' \\\n",
    "                + f'tb{config.train_batch}_vb{config.test_batch}_' \\\n",
    "                + f'{p_criterion}_{p_optimizer}_' \\\n",
    "                + f'{comments}_' \\\n",
    "                + f'{p_scheduler}'\n",
    "    \n",
    "    run_time = datetime.now().strftime(\"%Y%m%d_%H%M%S\")\n",
    "    print(run_name, run_time)\n",
    "    return run_name, run_time"
   ]
  },
  {
   "cell_type": "markdown",
   "metadata": {},
   "source": [
    "## Training Loop"
   ]
  },
  {
   "cell_type": "code",
   "execution_count": 19,
   "metadata": {
    "id": "PWCHnDeVD4WT",
    "pycharm": {
     "is_executing": true
    }
   },
   "outputs": [
    {
     "name": "stdout",
     "output_type": "stream",
     "text": [
      "=> creating model 'FaceAttrResNet'\n",
      "Dataset sizes: {'train': 162770, 'val': 19867}\n",
      "Class Labels: 40\n",
      "=> Training model: True\n",
      "=> resuming model: checkpoints\\checkpoint.pth.tar\n",
      "=> loading checkpoint 'checkpoints\\checkpoint.pth.tar'\n"
     ]
    },
    {
     "name": "stderr",
     "output_type": "stream",
     "text": [
      "  0%|                                                                                          | 0/636 [00:00<?, ?it/s]"
     ]
    },
    {
     "name": "stdout",
     "output_type": "stream",
     "text": [
      "=> loaded checkpoint 'checkpoints\\checkpoint.pth.tar' (epoch 61)\n",
      "=> resuming logger\n",
      "{'Learning Rate': ['0.010000000000000', '0.010000000000000', '0.010000000000000', '0.010000000000000', '0.010000000000000', '0.010000000000000', '0.010000000000000', '0.010000000000000', '0.010000000000000', '0.010000000000000', '0.010000000000000', '0.010000000000000', '0.010000000000000', '0.010000000000000', '0.010000000000000', '0.010000000000000', '0.010000000000000', '0.010000000000000', '0.010000000000000', '0.010000000000000', '0.010000000000000', '0.010000000000000', '0.010000000000000', '0.010000000000000', '0.010000000000000', '0.010000000000000', '0.010000000000000', '0.010000000000000', '0.010000000000000', '0.010000000000000', '0.010000000000000', '0.010000000000000', '0.010000000000000', '0.010000000000000', '0.010000000000000', '0.010000000000000', '0.010000000000000', '0.010000000000000', '0.010000000000000', '0.010000000000000', '0.010000000000000', '0.010000000000000', '0.010000000000000', '0.010000000000000', '0.010000000000000', '0.010000000000000', '0.010000000000000', '0.010000000000000', '0.010000000000000', '0.010000000000000', '0.010000000000000', '0.010000000000000', '0.010000000000000', '0.010000000000000', '0.010000000000000', '0.010000000000000', '0.010000000000000', '0.010000000000000', '0.010000000000000', '0.010000000000000', '0.000500000000000'], 'Train Loss': ['0.003012423013773', '0.002234414769642', '0.002076647105722', '0.001992633507630', '0.001939771189984', '0.001901140906340', '0.001870601869173', '0.001845622483688', '0.001826601523726', '0.001810380971825', '0.001793971336348', '0.001782382001996', '0.001770324462411', '0.001760369954171', '0.001753070807941', '0.001741766756413', '0.001734469009717', '0.001728334795623', '0.001720445654621', '0.001714849765040', '0.001706733759413', '0.001701695721657', '0.001696990629311', '0.001690792984388', '0.001686157597962', '0.001679884135059', '0.001677287027065', '0.001672720659417', '0.001667656582810', '0.001664221251632', '0.001658820449105', '0.001655884294921', '0.001654052856729', '0.001648904162241', '0.001643580498304', '0.001641317795664', '0.001639311837468', '0.001634552667910', '0.001632127904268', '0.001629310119602', '0.001625218189640', '0.001621533996751', '0.001617688902710', '0.001616668435443', '0.001612646956558', '0.001613196476068', '0.001607147842948', '0.001604560963075', '0.001601470912719', '0.001599534453384', '0.001596487323341', '0.001595066112315', '0.001591110340119', '0.001588989256483', '0.001586386348519', '0.001582410579309', '0.001581104881104', '0.001578681852161', '0.001577052679371', '0.001574576776871', '0.001562075275031'], 'Valid Loss': ['0.002057084196429', '0.001911740423129', '0.001839106263469', '0.001800739535644', '0.001776926374015', '0.001755744215680', '0.001733970754617', '0.001717305001776', '0.001710234860456', '0.001702606702327', '0.001692645525176', '0.001688506796998', '0.001676486692109', '0.001670809299814', '0.001669902591329', '0.001655699328346', '0.001653340569744', '0.001654867348852', '0.001648407926050', '0.001650586429793', '0.001642770589458', '0.001639505023051', '0.001635767479864', '0.001629820831580', '0.001630440867798', '0.001621369734489', '0.001629918724210', '0.001628378832720', '0.001622200270267', '0.001623292658237', '0.001616788591289', '0.001620361089010', '0.001619260928165', '0.001613535560630', '0.001608684868173', '0.001616782906518', '0.001616276648780', '0.001612756146837', '0.001615164040988', '0.001610683496359', '0.001605859392957', '0.001610416548136', '0.001612381544209', '0.001607872891149', '0.001611954524698', '0.001607668451344', '0.001605624558627', '0.001606221600900', '0.001608148799450', '0.001605728710967', '0.001609490904574', '0.001601856563002', '0.001610298133559', '0.001600475901126', '0.001601295862793', '0.001602001586906', '0.001607385343411', '0.001608276934518', '0.001611078994596', '0.001606484995945', '0.001600965917980'], 'Train Acc.': ['85.384253856457150', '88.535556306889958', '89.347898876171215', '89.758109602916733', '90.042345026877172', '90.225625115919726', '90.383409105856231', '90.509968053409153', '90.602137986935659', '90.683479757414986', '90.760321312281150', '90.823692941076843', '90.875883147988517', '90.929071697113926', '90.970172636340664', '91.022562512222407', '91.056828653753072', '91.091785956744431', '91.133163359985915', '91.158198686011374', '91.198547030382912', '91.219588990776032', '91.234717700302255', '91.269767157211362', '91.303833630475054', '91.324107637362630', '91.338837010050284', '91.355301960301077', '91.385805124040388', '91.395527432305727', '91.409995699605560', '91.434094121299864', '91.442772010275448', '91.464136511935166', '91.490231615525758', '91.505191374542818', '91.509123302784786', '91.532423051434648', '91.543604472252284', '91.544449223544547', '91.570897586264962', '91.589067396063271', '91.600724949982919', '91.608419856895082', '91.642593844800970', '91.636941697353322', '91.651394606635563', '91.668074584705948', '91.680868710930753', '91.691758309798061', '91.706241937318481', '91.702386803394688', '91.727760030251147', '91.736652946366689', '91.746958899552197', '91.767140751127585', '91.769644284340643', '91.781685814679065', '91.783621060778657', '91.792037846124117', '91.858573447898522'], 'Valid Acc.': ['89.632808171642552', '90.270674986082525', '90.693235010099173', '90.844113351143406', '90.944279455700581', '91.021543260037575', '91.179342625906429', '91.264659986209395', '91.277243667566466', '91.350984041578130', '91.374893036211247', '91.430261234846597', '91.471535709847871', '91.464237174770830', '91.494563847257297', '91.590451499707385', '91.564780790041269', '91.580510391893569', '91.601650976226239', '91.553707150183598', '91.629083402595938', '91.649217292189277', '91.659787585114032', '91.711506515898861', '91.685458295231413', '91.760582873783704', '91.711506516186887', '91.684829111416519', '91.762722099568407', '91.797704734452807', '91.767126388048638', '91.757940300749311', '91.789021993711870', '91.807268332014189', '91.832309858383866', '91.804122411979705', '91.814189357088395', '91.821739566198332', '91.806639147901677', '91.843257661637892', '91.872074291904951', '91.818971156157119', '91.805758290380354', '91.854205464008700', '91.820607034413740', '91.829038101534607', '91.867418330159865', '91.833064879195987', '91.857477221597222', '91.812301804712519', '91.857980568424466', '91.889817282611958', '91.863014040757989', '91.902023454311802', '91.882267073492429', '91.881763726645985', '91.860371468165226', '91.885035483946467', '91.839734230381367', '91.881008705613056', '91.918130565725292']}\n",
      "FaceAttrResNet34_42_s61e80_tb256_vb128_FL_SGD_31_lr0.01_wd1e-05_ReduceLROnPlateau 20201014_192209\n",
      "\n",
      "Epoch: [62 | 80] LR: 0.0005000000000000\n"
     ]
    },
    {
     "name": "stderr",
     "output_type": "stream",
     "text": [
      " 16%|████████████▌                                                                   | 100/636 [03:20<15:33,  1.74s/it]"
     ]
    },
    {
     "name": "stdout",
     "output_type": "stream",
     "text": [
      "(100/636) Data: 1.469s | Batch: 2.002s | Total: 0:03:20 | ETA: 0:15:54 | Loss: 0.0016 | top1:  91.8422\n"
     ]
    },
    {
     "name": "stderr",
     "output_type": "stream",
     "text": [
      " 31%|█████████████████████████▏                                                      | 200/636 [06:32<07:10,  1.01it/s]"
     ]
    },
    {
     "name": "stdout",
     "output_type": "stream",
     "text": [
      "(200/636) Data: 1.422s | Batch: 1.961s | Total: 0:06:32 | ETA: 0:12:10 | Loss: 0.0016 | top1:  91.8508\n"
     ]
    },
    {
     "name": "stderr",
     "output_type": "stream",
     "text": [
      " 47%|█████████████████████████████████████▋                                          | 300/636 [09:44<11:44,  2.10s/it]"
     ]
    },
    {
     "name": "stdout",
     "output_type": "stream",
     "text": [
      "(300/636) Data: 1.391s | Batch: 1.948s | Total: 0:09:44 | ETA: 0:10:56 | Loss: 0.0016 | top1:  91.8642\n"
     ]
    },
    {
     "name": "stderr",
     "output_type": "stream",
     "text": [
      " 63%|██████████████████████████████████████████████████▎                             | 400/636 [12:38<04:13,  1.07s/it]"
     ]
    },
    {
     "name": "stdout",
     "output_type": "stream",
     "text": [
      "(400/636) Data: 1.334s | Batch: 1.897s | Total: 0:12:38 | ETA: 0:06:17 | Loss: 0.0016 | top1:  91.8603\n"
     ]
    },
    {
     "name": "stderr",
     "output_type": "stream",
     "text": [
      " 79%|██████████████████████████████████████████████████████████████▉                 | 500/636 [15:39<04:10,  1.84s/it]"
     ]
    },
    {
     "name": "stdout",
     "output_type": "stream",
     "text": [
      "(500/636) Data: 1.325s | Batch: 1.878s | Total: 0:15:39 | ETA: 0:04:23 | Loss: 0.0016 | top1:  91.8581\n"
     ]
    },
    {
     "name": "stderr",
     "output_type": "stream",
     "text": [
      " 94%|███████████████████████████████████████████████████████████████████████████▍    | 600/636 [18:30<00:38,  1.08s/it]"
     ]
    },
    {
     "name": "stdout",
     "output_type": "stream",
     "text": [
      "(600/636) Data: 1.312s | Batch: 1.851s | Total: 0:18:30 | ETA: 0:00:56 | Loss: 0.0016 | top1:  91.8652\n"
     ]
    },
    {
     "name": "stderr",
     "output_type": "stream",
     "text": [
      "100%|████████████████████████████████████████████████████████████████████████████████| 636/636 [19:33<00:00,  1.84s/it]\n",
      "100%|████████████████████████████████████████████████████████████████████████████████| 156/156 [00:28<00:00,  5.39it/s]\n"
     ]
    },
    {
     "name": "stdout",
     "output_type": "stream",
     "text": [
      "(156/156) Data: 0.047s | Batch: 0.182s | Total: 0:00:28 | ETA: 0:00:01 | Loss: 0.0016 | top1:  91.8975\n",
      "=> saving checkpoint 'checkpoints\\checkpoint.pth.tar'\n"
     ]
    },
    {
     "name": "stderr",
     "output_type": "stream",
     "text": [
      "  0%|                                                                                          | 0/636 [00:00<?, ?it/s]"
     ]
    },
    {
     "name": "stdout",
     "output_type": "stream",
     "text": [
      "\n",
      "Epoch: [63 | 80] LR: 0.0005000000000000\n"
     ]
    },
    {
     "name": "stderr",
     "output_type": "stream",
     "text": [
      " 16%|████████████▌                                                                   | 100/636 [01:22<06:16,  1.42it/s]"
     ]
    },
    {
     "name": "stdout",
     "output_type": "stream",
     "text": [
      "(100/636) Data: 0.122s | Batch: 0.825s | Total: 0:01:22 | ETA: 0:06:18 | Loss: 0.0016 | top1:  91.8096\n"
     ]
    },
    {
     "name": "stderr",
     "output_type": "stream",
     "text": [
      " 31%|█████████████████████████▏                                                      | 200/636 [02:32<05:06,  1.42it/s]"
     ]
    },
    {
     "name": "stdout",
     "output_type": "stream",
     "text": [
      "(200/636) Data: 0.062s | Batch: 0.764s | Total: 0:02:32 | ETA: 0:05:08 | Loss: 0.0016 | top1:  91.8569\n"
     ]
    },
    {
     "name": "stderr",
     "output_type": "stream",
     "text": [
      " 47%|█████████████████████████████████████▋                                          | 300/636 [03:43<03:55,  1.42it/s]"
     ]
    },
    {
     "name": "stdout",
     "output_type": "stream",
     "text": [
      "(300/636) Data: 0.042s | Batch: 0.744s | Total: 0:03:43 | ETA: 0:03:57 | Loss: 0.0016 | top1:  91.8609\n"
     ]
    },
    {
     "name": "stderr",
     "output_type": "stream",
     "text": [
      " 63%|██████████████████████████████████████████████████▎                             | 400/636 [04:53<02:45,  1.42it/s]"
     ]
    },
    {
     "name": "stdout",
     "output_type": "stream",
     "text": [
      "(400/636) Data: 0.032s | Batch: 0.734s | Total: 0:04:53 | ETA: 0:02:47 | Loss: 0.0016 | top1:  91.8707\n"
     ]
    },
    {
     "name": "stderr",
     "output_type": "stream",
     "text": [
      " 79%|██████████████████████████████████████████████████████████████▉                 | 500/636 [06:03<01:35,  1.42it/s]"
     ]
    },
    {
     "name": "stdout",
     "output_type": "stream",
     "text": [
      "(500/636) Data: 0.026s | Batch: 0.728s | Total: 0:06:03 | ETA: 0:01:37 | Loss: 0.0016 | top1:  91.8759\n"
     ]
    },
    {
     "name": "stderr",
     "output_type": "stream",
     "text": [
      " 94%|███████████████████████████████████████████████████████████████████████████▍    | 600/636 [07:14<00:25,  1.43it/s]"
     ]
    },
    {
     "name": "stdout",
     "output_type": "stream",
     "text": [
      "(600/636) Data: 0.022s | Batch: 0.724s | Total: 0:07:14 | ETA: 0:00:27 | Loss: 0.0016 | top1:  91.8739\n"
     ]
    },
    {
     "name": "stderr",
     "output_type": "stream",
     "text": [
      "100%|████████████████████████████████████████████████████████████████████████████████| 636/636 [07:40<00:00,  1.38it/s]\n",
      "100%|████████████████████████████████████████████████████████████████████████████████| 156/156 [00:28<00:00,  5.49it/s]\n"
     ]
    },
    {
     "name": "stdout",
     "output_type": "stream",
     "text": [
      "(156/156) Data: 0.047s | Batch: 0.179s | Total: 0:00:27 | ETA: 0:00:01 | Loss: 0.0016 | top1:  91.9118\n",
      "=> saving checkpoint 'checkpoints\\checkpoint.pth.tar'\n"
     ]
    },
    {
     "name": "stderr",
     "output_type": "stream",
     "text": [
      "  0%|                                                                                          | 0/636 [00:00<?, ?it/s]"
     ]
    },
    {
     "name": "stdout",
     "output_type": "stream",
     "text": [
      "\n",
      "Epoch: [64 | 80] LR: 0.0005000000000000\n"
     ]
    },
    {
     "name": "stderr",
     "output_type": "stream",
     "text": [
      " 16%|████████████▌                                                                   | 100/636 [01:22<06:16,  1.42it/s]"
     ]
    },
    {
     "name": "stdout",
     "output_type": "stream",
     "text": [
      "(100/636) Data: 0.120s | Batch: 0.823s | Total: 0:01:22 | ETA: 0:06:18 | Loss: 0.0016 | top1:  91.8668\n"
     ]
    },
    {
     "name": "stderr",
     "output_type": "stream",
     "text": [
      " 31%|█████████████████████████▏                                                      | 200/636 [02:32<05:05,  1.43it/s]"
     ]
    },
    {
     "name": "stdout",
     "output_type": "stream",
     "text": [
      "(200/636) Data: 0.061s | Batch: 0.763s | Total: 0:02:32 | ETA: 0:05:07 | Loss: 0.0016 | top1:  91.8896\n"
     ]
    },
    {
     "name": "stderr",
     "output_type": "stream",
     "text": [
      " 47%|█████████████████████████████████████▋                                          | 300/636 [03:42<03:56,  1.42it/s]"
     ]
    },
    {
     "name": "stdout",
     "output_type": "stream",
     "text": [
      "(300/636) Data: 0.041s | Batch: 0.743s | Total: 0:03:42 | ETA: 0:03:57 | Loss: 0.0016 | top1:  91.8853\n"
     ]
    },
    {
     "name": "stderr",
     "output_type": "stream",
     "text": [
      " 63%|██████████████████████████████████████████████████▎                             | 400/636 [04:53<02:45,  1.42it/s]"
     ]
    },
    {
     "name": "stdout",
     "output_type": "stream",
     "text": [
      "(400/636) Data: 0.031s | Batch: 0.733s | Total: 0:04:53 | ETA: 0:02:47 | Loss: 0.0016 | top1:  91.8835\n"
     ]
    },
    {
     "name": "stderr",
     "output_type": "stream",
     "text": [
      " 79%|██████████████████████████████████████████████████████████████▉                 | 500/636 [06:03<01:35,  1.42it/s]"
     ]
    },
    {
     "name": "stdout",
     "output_type": "stream",
     "text": [
      "(500/636) Data: 0.025s | Batch: 0.727s | Total: 0:06:03 | ETA: 0:01:37 | Loss: 0.0016 | top1:  91.8852\n"
     ]
    },
    {
     "name": "stderr",
     "output_type": "stream",
     "text": [
      " 94%|███████████████████████████████████████████████████████████████████████████▍    | 600/636 [07:13<00:25,  1.42it/s]"
     ]
    },
    {
     "name": "stdout",
     "output_type": "stream",
     "text": [
      "(600/636) Data: 0.021s | Batch: 0.723s | Total: 0:07:13 | ETA: 0:00:27 | Loss: 0.0016 | top1:  91.8876\n"
     ]
    },
    {
     "name": "stderr",
     "output_type": "stream",
     "text": [
      "100%|████████████████████████████████████████████████████████████████████████████████| 636/636 [07:39<00:00,  1.38it/s]\n",
      "100%|████████████████████████████████████████████████████████████████████████████████| 156/156 [00:28<00:00,  5.49it/s]\n"
     ]
    },
    {
     "name": "stdout",
     "output_type": "stream",
     "text": [
      "(156/156) Data: 0.047s | Batch: 0.179s | Total: 0:00:27 | ETA: 0:00:01 | Loss: 0.0016 | top1:  91.8969\n",
      "=> saving checkpoint 'checkpoints\\checkpoint.pth.tar'\n"
     ]
    },
    {
     "name": "stderr",
     "output_type": "stream",
     "text": [
      "  0%|                                                                                          | 0/636 [00:00<?, ?it/s]"
     ]
    },
    {
     "name": "stdout",
     "output_type": "stream",
     "text": [
      "\n",
      "Epoch: [65 | 80] LR: 0.0005000000000000\n"
     ]
    },
    {
     "name": "stderr",
     "output_type": "stream",
     "text": [
      " 16%|████████████▌                                                                   | 100/636 [01:22<06:16,  1.42it/s]"
     ]
    },
    {
     "name": "stdout",
     "output_type": "stream",
     "text": [
      "(100/636) Data: 0.121s | Batch: 0.824s | Total: 0:01:22 | ETA: 0:06:18 | Loss: 0.0016 | top1:  91.8153\n"
     ]
    },
    {
     "name": "stderr",
     "output_type": "stream",
     "text": [
      " 31%|█████████████████████████▏                                                      | 200/636 [02:32<05:06,  1.42it/s]"
     ]
    },
    {
     "name": "stdout",
     "output_type": "stream",
     "text": [
      "(200/636) Data: 0.061s | Batch: 0.764s | Total: 0:02:32 | ETA: 0:05:07 | Loss: 0.0016 | top1:  91.8586\n"
     ]
    },
    {
     "name": "stderr",
     "output_type": "stream",
     "text": [
      " 47%|█████████████████████████████████████▋                                          | 300/636 [03:43<03:56,  1.42it/s]"
     ]
    },
    {
     "name": "stdout",
     "output_type": "stream",
     "text": [
      "(300/636) Data: 0.041s | Batch: 0.743s | Total: 0:03:43 | ETA: 0:03:58 | Loss: 0.0016 | top1:  91.8657\n"
     ]
    },
    {
     "name": "stderr",
     "output_type": "stream",
     "text": [
      " 63%|██████████████████████████████████████████████████▎                             | 400/636 [04:53<02:45,  1.42it/s]"
     ]
    },
    {
     "name": "stdout",
     "output_type": "stream",
     "text": [
      "(400/636) Data: 0.031s | Batch: 0.733s | Total: 0:04:53 | ETA: 0:02:47 | Loss: 0.0016 | top1:  91.8736\n"
     ]
    },
    {
     "name": "stderr",
     "output_type": "stream",
     "text": [
      " 79%|██████████████████████████████████████████████████████████████▉                 | 500/636 [06:03<01:35,  1.43it/s]"
     ]
    },
    {
     "name": "stdout",
     "output_type": "stream",
     "text": [
      "(500/636) Data: 0.025s | Batch: 0.727s | Total: 0:06:03 | ETA: 0:01:37 | Loss: 0.0016 | top1:  91.8837\n"
     ]
    },
    {
     "name": "stderr",
     "output_type": "stream",
     "text": [
      " 94%|███████████████████████████████████████████████████████████████████████████▍    | 600/636 [07:13<00:25,  1.42it/s]"
     ]
    },
    {
     "name": "stdout",
     "output_type": "stream",
     "text": [
      "(600/636) Data: 0.022s | Batch: 0.723s | Total: 0:07:13 | ETA: 0:00:27 | Loss: 0.0016 | top1:  91.8832\n"
     ]
    },
    {
     "name": "stderr",
     "output_type": "stream",
     "text": [
      "100%|████████████████████████████████████████████████████████████████████████████████| 636/636 [07:39<00:00,  1.38it/s]\n",
      "100%|████████████████████████████████████████████████████████████████████████████████| 156/156 [00:28<00:00,  5.49it/s]\n"
     ]
    },
    {
     "name": "stdout",
     "output_type": "stream",
     "text": [
      "(156/156) Data: 0.048s | Batch: 0.179s | Total: 0:00:27 | ETA: 0:00:01 | Loss: 0.0016 | top1:  91.9035\n",
      "=> saving checkpoint 'checkpoints\\checkpoint.pth.tar'\n"
     ]
    },
    {
     "name": "stderr",
     "output_type": "stream",
     "text": [
      "  0%|                                                                                          | 0/636 [00:00<?, ?it/s]"
     ]
    },
    {
     "name": "stdout",
     "output_type": "stream",
     "text": [
      "\n",
      "Epoch: [66 | 80] LR: 0.0005000000000000\n"
     ]
    },
    {
     "name": "stderr",
     "output_type": "stream",
     "text": [
      " 16%|████████████▌                                                                   | 100/636 [01:22<06:16,  1.42it/s]"
     ]
    },
    {
     "name": "stdout",
     "output_type": "stream",
     "text": [
      "(100/636) Data: 0.120s | Batch: 0.822s | Total: 0:01:22 | ETA: 0:06:17 | Loss: 0.0016 | top1:  91.9073\n"
     ]
    },
    {
     "name": "stderr",
     "output_type": "stream",
     "text": [
      " 31%|█████████████████████████▏                                                      | 200/636 [02:32<05:06,  1.42it/s]"
     ]
    },
    {
     "name": "stdout",
     "output_type": "stream",
     "text": [
      "(200/636) Data: 0.061s | Batch: 0.763s | Total: 0:02:32 | ETA: 0:05:08 | Loss: 0.0016 | top1:  91.8965\n"
     ]
    },
    {
     "name": "stderr",
     "output_type": "stream",
     "text": [
      " 47%|█████████████████████████████████████▋                                          | 300/636 [03:42<03:56,  1.42it/s]"
     ]
    },
    {
     "name": "stdout",
     "output_type": "stream",
     "text": [
      "(300/636) Data: 0.041s | Batch: 0.743s | Total: 0:03:42 | ETA: 0:03:58 | Loss: 0.0016 | top1:  91.8818\n"
     ]
    },
    {
     "name": "stderr",
     "output_type": "stream",
     "text": [
      " 63%|██████████████████████████████████████████████████▎                             | 400/636 [04:53<02:45,  1.42it/s]"
     ]
    },
    {
     "name": "stdout",
     "output_type": "stream",
     "text": [
      "(400/636) Data: 0.031s | Batch: 0.733s | Total: 0:04:53 | ETA: 0:02:47 | Loss: 0.0016 | top1:  91.8884\n"
     ]
    },
    {
     "name": "stderr",
     "output_type": "stream",
     "text": [
      " 79%|██████████████████████████████████████████████████████████████▉                 | 500/636 [06:03<01:35,  1.42it/s]"
     ]
    },
    {
     "name": "stdout",
     "output_type": "stream",
     "text": [
      "(500/636) Data: 0.025s | Batch: 0.727s | Total: 0:06:03 | ETA: 0:01:37 | Loss: 0.0016 | top1:  91.8845\n"
     ]
    },
    {
     "name": "stderr",
     "output_type": "stream",
     "text": [
      " 94%|███████████████████████████████████████████████████████████████████████████▍    | 600/636 [07:13<00:25,  1.43it/s]"
     ]
    },
    {
     "name": "stdout",
     "output_type": "stream",
     "text": [
      "(600/636) Data: 0.021s | Batch: 0.723s | Total: 0:07:13 | ETA: 0:00:27 | Loss: 0.0016 | top1:  91.8834\n"
     ]
    },
    {
     "name": "stderr",
     "output_type": "stream",
     "text": [
      "100%|████████████████████████████████████████████████████████████████████████████████| 636/636 [07:39<00:00,  1.38it/s]\n",
      "100%|████████████████████████████████████████████████████████████████████████████████| 156/156 [00:28<00:00,  5.47it/s]\n"
     ]
    },
    {
     "name": "stdout",
     "output_type": "stream",
     "text": [
      "(156/156) Data: 0.048s | Batch: 0.180s | Total: 0:00:28 | ETA: 0:00:01 | Loss: 0.0016 | top1:  91.8991\n",
      "=> saving checkpoint 'checkpoints\\checkpoint.pth.tar'\n"
     ]
    },
    {
     "name": "stderr",
     "output_type": "stream",
     "text": [
      "  0%|                                                                                          | 0/636 [00:00<?, ?it/s]"
     ]
    },
    {
     "name": "stdout",
     "output_type": "stream",
     "text": [
      "\n",
      "Epoch: [67 | 80] LR: 0.0005000000000000\n"
     ]
    },
    {
     "name": "stderr",
     "output_type": "stream",
     "text": [
      " 16%|████████████▌                                                                   | 100/636 [01:22<06:16,  1.42it/s]"
     ]
    },
    {
     "name": "stdout",
     "output_type": "stream",
     "text": [
      "(100/636) Data: 0.120s | Batch: 0.824s | Total: 0:01:22 | ETA: 0:06:18 | Loss: 0.0016 | top1:  91.9260\n"
     ]
    },
    {
     "name": "stderr",
     "output_type": "stream",
     "text": [
      " 31%|█████████████████████████▏                                                      | 200/636 [02:32<05:05,  1.43it/s]"
     ]
    },
    {
     "name": "stdout",
     "output_type": "stream",
     "text": [
      "(200/636) Data: 0.061s | Batch: 0.763s | Total: 0:02:32 | ETA: 0:05:07 | Loss: 0.0016 | top1:  91.9303\n"
     ]
    },
    {
     "name": "stderr",
     "output_type": "stream",
     "text": [
      " 47%|█████████████████████████████████████▋                                          | 300/636 [03:42<03:56,  1.42it/s]"
     ]
    },
    {
     "name": "stdout",
     "output_type": "stream",
     "text": [
      "(300/636) Data: 0.041s | Batch: 0.743s | Total: 0:03:42 | ETA: 0:03:57 | Loss: 0.0016 | top1:  91.9073\n"
     ]
    },
    {
     "name": "stderr",
     "output_type": "stream",
     "text": [
      " 63%|██████████████████████████████████████████████████▎                             | 400/636 [04:53<02:46,  1.42it/s]"
     ]
    },
    {
     "name": "stdout",
     "output_type": "stream",
     "text": [
      "(400/636) Data: 0.031s | Batch: 0.733s | Total: 0:04:53 | ETA: 0:02:47 | Loss: 0.0016 | top1:  91.8979\n"
     ]
    },
    {
     "name": "stderr",
     "output_type": "stream",
     "text": [
      " 79%|██████████████████████████████████████████████████████████████▉                 | 500/636 [06:03<01:35,  1.42it/s]"
     ]
    },
    {
     "name": "stdout",
     "output_type": "stream",
     "text": [
      "(500/636) Data: 0.025s | Batch: 0.727s | Total: 0:06:03 | ETA: 0:01:37 | Loss: 0.0016 | top1:  91.8941\n"
     ]
    },
    {
     "name": "stderr",
     "output_type": "stream",
     "text": [
      " 94%|███████████████████████████████████████████████████████████████████████████▍    | 600/636 [07:13<00:25,  1.42it/s]"
     ]
    },
    {
     "name": "stdout",
     "output_type": "stream",
     "text": [
      "(600/636) Data: 0.021s | Batch: 0.723s | Total: 0:07:13 | ETA: 0:00:26 | Loss: 0.0016 | top1:  91.8921\n"
     ]
    },
    {
     "name": "stderr",
     "output_type": "stream",
     "text": [
      "100%|████████████████████████████████████████████████████████████████████████████████| 636/636 [07:39<00:00,  1.38it/s]\n",
      "100%|████████████████████████████████████████████████████████████████████████████████| 156/156 [00:28<00:00,  5.48it/s]\n"
     ]
    },
    {
     "name": "stdout",
     "output_type": "stream",
     "text": [
      "(156/156) Data: 0.047s | Batch: 0.179s | Total: 0:00:27 | ETA: 0:00:01 | Loss: 0.0016 | top1:  91.9030\n",
      "=> saving checkpoint 'checkpoints\\checkpoint.pth.tar'\n"
     ]
    },
    {
     "name": "stderr",
     "output_type": "stream",
     "text": [
      "  0%|                                                                                          | 0/636 [00:00<?, ?it/s]"
     ]
    },
    {
     "name": "stdout",
     "output_type": "stream",
     "text": [
      "\n",
      "Epoch: [68 | 80] LR: 0.0005000000000000\n"
     ]
    },
    {
     "name": "stderr",
     "output_type": "stream",
     "text": [
      " 16%|████████████▌                                                                   | 100/636 [01:22<06:16,  1.42it/s]"
     ]
    },
    {
     "name": "stdout",
     "output_type": "stream",
     "text": [
      "(100/636) Data: 0.121s | Batch: 0.823s | Total: 0:01:22 | ETA: 0:06:18 | Loss: 0.0016 | top1:  91.8956\n"
     ]
    },
    {
     "name": "stderr",
     "output_type": "stream",
     "text": [
      " 31%|█████████████████████████▏                                                      | 200/636 [02:32<05:06,  1.42it/s]"
     ]
    },
    {
     "name": "stdout",
     "output_type": "stream",
     "text": [
      "(200/636) Data: 0.061s | Batch: 0.763s | Total: 0:02:32 | ETA: 0:05:07 | Loss: 0.0016 | top1:  91.8633\n"
     ]
    },
    {
     "name": "stderr",
     "output_type": "stream",
     "text": [
      " 47%|█████████████████████████████████████▋                                          | 300/636 [03:42<03:56,  1.42it/s]"
     ]
    },
    {
     "name": "stdout",
     "output_type": "stream",
     "text": [
      "(300/636) Data: 0.041s | Batch: 0.743s | Total: 0:03:42 | ETA: 0:03:57 | Loss: 0.0016 | top1:  91.8720\n"
     ]
    },
    {
     "name": "stderr",
     "output_type": "stream",
     "text": [
      " 63%|██████████████████████████████████████████████████▎                             | 400/636 [04:53<02:46,  1.42it/s]"
     ]
    },
    {
     "name": "stdout",
     "output_type": "stream",
     "text": [
      "(400/636) Data: 0.032s | Batch: 0.733s | Total: 0:04:53 | ETA: 0:02:47 | Loss: 0.0016 | top1:  91.8851\n"
     ]
    },
    {
     "name": "stderr",
     "output_type": "stream",
     "text": [
      " 79%|██████████████████████████████████████████████████████████████▉                 | 500/636 [06:03<01:35,  1.43it/s]"
     ]
    },
    {
     "name": "stdout",
     "output_type": "stream",
     "text": [
      "(500/636) Data: 0.026s | Batch: 0.727s | Total: 0:06:03 | ETA: 0:01:37 | Loss: 0.0016 | top1:  91.8846\n"
     ]
    },
    {
     "name": "stderr",
     "output_type": "stream",
     "text": [
      " 94%|███████████████████████████████████████████████████████████████████████████▍    | 600/636 [07:13<00:25,  1.42it/s]"
     ]
    },
    {
     "name": "stdout",
     "output_type": "stream",
     "text": [
      "(600/636) Data: 0.022s | Batch: 0.723s | Total: 0:07:13 | ETA: 0:00:27 | Loss: 0.0016 | top1:  91.8845\n"
     ]
    },
    {
     "name": "stderr",
     "output_type": "stream",
     "text": [
      "100%|████████████████████████████████████████████████████████████████████████████████| 636/636 [07:39<00:00,  1.38it/s]\n",
      "100%|████████████████████████████████████████████████████████████████████████████████| 156/156 [00:28<00:00,  5.50it/s]\n"
     ]
    },
    {
     "name": "stdout",
     "output_type": "stream",
     "text": [
      "(156/156) Data: 0.047s | Batch: 0.179s | Total: 0:00:27 | ETA: 0:00:01 | Loss: 0.0016 | top1:  91.9132\n",
      "=> saving checkpoint 'checkpoints\\checkpoint.pth.tar'\n"
     ]
    },
    {
     "name": "stderr",
     "output_type": "stream",
     "text": [
      "  0%|                                                                                          | 0/636 [00:00<?, ?it/s]"
     ]
    },
    {
     "name": "stdout",
     "output_type": "stream",
     "text": [
      "\n",
      "Epoch: [69 | 80] LR: 0.0005000000000000\n"
     ]
    },
    {
     "name": "stderr",
     "output_type": "stream",
     "text": [
      " 16%|████████████▌                                                                   | 100/636 [01:22<06:15,  1.43it/s]"
     ]
    },
    {
     "name": "stdout",
     "output_type": "stream",
     "text": [
      "(100/636) Data: 0.124s | Batch: 0.826s | Total: 0:01:22 | ETA: 0:06:17 | Loss: 0.0015 | top1:  91.9299\n"
     ]
    },
    {
     "name": "stderr",
     "output_type": "stream",
     "text": [
      " 31%|█████████████████████████▏                                                      | 200/636 [02:32<05:06,  1.42it/s]"
     ]
    },
    {
     "name": "stdout",
     "output_type": "stream",
     "text": [
      "(200/636) Data: 0.063s | Batch: 0.764s | Total: 0:02:32 | ETA: 0:05:07 | Loss: 0.0016 | top1:  91.9076\n"
     ]
    },
    {
     "name": "stderr",
     "output_type": "stream",
     "text": [
      " 47%|█████████████████████████████████████▋                                          | 300/636 [03:43<03:56,  1.42it/s]"
     ]
    },
    {
     "name": "stdout",
     "output_type": "stream",
     "text": [
      "(300/636) Data: 0.042s | Batch: 0.744s | Total: 0:03:43 | ETA: 0:03:57 | Loss: 0.0016 | top1:  91.8981\n"
     ]
    },
    {
     "name": "stderr",
     "output_type": "stream",
     "text": [
      " 63%|██████████████████████████████████████████████████▎                             | 400/636 [04:53<02:46,  1.42it/s]"
     ]
    },
    {
     "name": "stdout",
     "output_type": "stream",
     "text": [
      "(400/636) Data: 0.032s | Batch: 0.734s | Total: 0:04:53 | ETA: 0:02:47 | Loss: 0.0016 | top1:  91.8981\n"
     ]
    },
    {
     "name": "stderr",
     "output_type": "stream",
     "text": [
      " 79%|██████████████████████████████████████████████████████████████▉                 | 500/636 [06:03<01:35,  1.42it/s]"
     ]
    },
    {
     "name": "stdout",
     "output_type": "stream",
     "text": [
      "(500/636) Data: 0.026s | Batch: 0.727s | Total: 0:06:03 | ETA: 0:01:37 | Loss: 0.0016 | top1:  91.8943\n"
     ]
    },
    {
     "name": "stderr",
     "output_type": "stream",
     "text": [
      " 94%|███████████████████████████████████████████████████████████████████████████▍    | 600/636 [07:13<00:25,  1.42it/s]"
     ]
    },
    {
     "name": "stdout",
     "output_type": "stream",
     "text": [
      "(600/636) Data: 0.022s | Batch: 0.723s | Total: 0:07:13 | ETA: 0:00:27 | Loss: 0.0016 | top1:  91.8928\n"
     ]
    },
    {
     "name": "stderr",
     "output_type": "stream",
     "text": [
      "100%|████████████████████████████████████████████████████████████████████████████████| 636/636 [07:39<00:00,  1.38it/s]\n",
      "100%|████████████████████████████████████████████████████████████████████████████████| 156/156 [00:28<00:00,  5.47it/s]\n"
     ]
    },
    {
     "name": "stdout",
     "output_type": "stream",
     "text": [
      "(156/156) Data: 0.048s | Batch: 0.180s | Total: 0:00:28 | ETA: 0:00:01 | Loss: 0.0016 | top1:  91.9219\n",
      "=> saving checkpoint 'checkpoints\\checkpoint.pth.tar'\n"
     ]
    },
    {
     "name": "stderr",
     "output_type": "stream",
     "text": [
      "  0%|                                                                                          | 0/636 [00:00<?, ?it/s]"
     ]
    },
    {
     "name": "stdout",
     "output_type": "stream",
     "text": [
      "=> saving best model 'checkpoints\\model_best.pth.tar'\n",
      "\n",
      "Epoch: [70 | 80] LR: 0.0005000000000000\n"
     ]
    },
    {
     "name": "stderr",
     "output_type": "stream",
     "text": [
      " 16%|████████████▌                                                                   | 100/636 [01:22<06:17,  1.42it/s]"
     ]
    },
    {
     "name": "stdout",
     "output_type": "stream",
     "text": [
      "(100/636) Data: 0.125s | Batch: 0.829s | Total: 0:01:22 | ETA: 0:06:19 | Loss: 0.0016 | top1:  91.8924\n"
     ]
    },
    {
     "name": "stderr",
     "output_type": "stream",
     "text": [
      " 31%|█████████████████████████▏                                                      | 200/636 [02:33<05:06,  1.42it/s]"
     ]
    },
    {
     "name": "stdout",
     "output_type": "stream",
     "text": [
      "(200/636) Data: 0.063s | Batch: 0.766s | Total: 0:02:33 | ETA: 0:05:07 | Loss: 0.0016 | top1:  91.8993\n"
     ]
    },
    {
     "name": "stderr",
     "output_type": "stream",
     "text": [
      " 47%|█████████████████████████████████████▋                                          | 300/636 [03:43<04:10,  1.34it/s]"
     ]
    },
    {
     "name": "stdout",
     "output_type": "stream",
     "text": [
      "(300/636) Data: 0.043s | Batch: 0.746s | Total: 0:03:43 | ETA: 0:04:09 | Loss: 0.0016 | top1:  91.9039\n"
     ]
    },
    {
     "name": "stderr",
     "output_type": "stream",
     "text": [
      " 63%|██████████████████████████████████████████████████▎                             | 400/636 [04:55<02:46,  1.42it/s]"
     ]
    },
    {
     "name": "stdout",
     "output_type": "stream",
     "text": [
      "(400/636) Data: 0.032s | Batch: 0.738s | Total: 0:04:55 | ETA: 0:02:48 | Loss: 0.0016 | top1:  91.8985\n"
     ]
    },
    {
     "name": "stderr",
     "output_type": "stream",
     "text": [
      " 79%|██████████████████████████████████████████████████████████████▉                 | 500/636 [06:05<01:35,  1.42it/s]"
     ]
    },
    {
     "name": "stdout",
     "output_type": "stream",
     "text": [
      "(500/636) Data: 0.026s | Batch: 0.731s | Total: 0:06:05 | ETA: 0:01:37 | Loss: 0.0016 | top1:  91.9077\n"
     ]
    },
    {
     "name": "stderr",
     "output_type": "stream",
     "text": [
      " 94%|███████████████████████████████████████████████████████████████████████████▍    | 600/636 [07:15<00:25,  1.42it/s]"
     ]
    },
    {
     "name": "stdout",
     "output_type": "stream",
     "text": [
      "(600/636) Data: 0.022s | Batch: 0.726s | Total: 0:07:15 | ETA: 0:00:27 | Loss: 0.0016 | top1:  91.8976\n"
     ]
    },
    {
     "name": "stderr",
     "output_type": "stream",
     "text": [
      "100%|████████████████████████████████████████████████████████████████████████████████| 636/636 [07:41<00:00,  1.38it/s]\n",
      "100%|████████████████████████████████████████████████████████████████████████████████| 156/156 [00:28<00:00,  5.48it/s]\n"
     ]
    },
    {
     "name": "stdout",
     "output_type": "stream",
     "text": [
      "(156/156) Data: 0.048s | Batch: 0.179s | Total: 0:00:27 | ETA: 0:00:01 | Loss: 0.0016 | top1:  91.9039\n",
      "=> saving checkpoint 'checkpoints\\checkpoint.pth.tar'\n"
     ]
    },
    {
     "name": "stderr",
     "output_type": "stream",
     "text": [
      "  0%|                                                                                          | 0/636 [00:00<?, ?it/s]"
     ]
    },
    {
     "name": "stdout",
     "output_type": "stream",
     "text": [
      "\n",
      "Epoch: [71 | 80] LR: 0.0005000000000000\n"
     ]
    },
    {
     "name": "stderr",
     "output_type": "stream",
     "text": [
      " 16%|████████████▌                                                                   | 100/636 [01:22<06:16,  1.42it/s]"
     ]
    },
    {
     "name": "stdout",
     "output_type": "stream",
     "text": [
      "(100/636) Data: 0.123s | Batch: 0.823s | Total: 0:01:22 | ETA: 0:06:18 | Loss: 0.0016 | top1:  91.9196\n"
     ]
    },
    {
     "name": "stderr",
     "output_type": "stream",
     "text": [
      " 31%|█████████████████████████▏                                                      | 200/636 [02:32<05:06,  1.42it/s]"
     ]
    },
    {
     "name": "stdout",
     "output_type": "stream",
     "text": [
      "(200/636) Data: 0.062s | Batch: 0.763s | Total: 0:02:32 | ETA: 0:05:08 | Loss: 0.0016 | top1:  91.9134\n"
     ]
    },
    {
     "name": "stderr",
     "output_type": "stream",
     "text": [
      " 47%|█████████████████████████████████████▋                                          | 300/636 [03:42<03:55,  1.42it/s]"
     ]
    },
    {
     "name": "stdout",
     "output_type": "stream",
     "text": [
      "(300/636) Data: 0.042s | Batch: 0.743s | Total: 0:03:42 | ETA: 0:03:57 | Loss: 0.0016 | top1:  91.8964\n"
     ]
    },
    {
     "name": "stderr",
     "output_type": "stream",
     "text": [
      " 63%|██████████████████████████████████████████████████▎                             | 400/636 [04:53<02:46,  1.42it/s]"
     ]
    },
    {
     "name": "stdout",
     "output_type": "stream",
     "text": [
      "(400/636) Data: 0.032s | Batch: 0.733s | Total: 0:04:53 | ETA: 0:02:47 | Loss: 0.0016 | top1:  91.9026\n"
     ]
    },
    {
     "name": "stderr",
     "output_type": "stream",
     "text": [
      " 79%|██████████████████████████████████████████████████████████████▉                 | 500/636 [06:03<01:35,  1.42it/s]"
     ]
    },
    {
     "name": "stdout",
     "output_type": "stream",
     "text": [
      "(500/636) Data: 0.026s | Batch: 0.727s | Total: 0:06:03 | ETA: 0:01:37 | Loss: 0.0016 | top1:  91.9051\n"
     ]
    },
    {
     "name": "stderr",
     "output_type": "stream",
     "text": [
      " 94%|███████████████████████████████████████████████████████████████████████████▍    | 600/636 [07:13<00:25,  1.42it/s]"
     ]
    },
    {
     "name": "stdout",
     "output_type": "stream",
     "text": [
      "(600/636) Data: 0.022s | Batch: 0.723s | Total: 0:07:13 | ETA: 0:00:27 | Loss: 0.0016 | top1:  91.9039\n"
     ]
    },
    {
     "name": "stderr",
     "output_type": "stream",
     "text": [
      "100%|████████████████████████████████████████████████████████████████████████████████| 636/636 [07:39<00:00,  1.38it/s]\n",
      "100%|████████████████████████████████████████████████████████████████████████████████| 156/156 [00:28<00:00,  5.49it/s]\n"
     ]
    },
    {
     "name": "stdout",
     "output_type": "stream",
     "text": [
      "(156/156) Data: 0.047s | Batch: 0.179s | Total: 0:00:27 | ETA: 0:00:01 | Loss: 0.0016 | top1:  91.9100\n",
      "=> saving checkpoint 'checkpoints\\checkpoint.pth.tar'\n"
     ]
    },
    {
     "name": "stderr",
     "output_type": "stream",
     "text": [
      "  0%|                                                                                          | 0/636 [00:00<?, ?it/s]"
     ]
    },
    {
     "name": "stdout",
     "output_type": "stream",
     "text": [
      "\n",
      "Epoch: [72 | 80] LR: 0.0005000000000000\n"
     ]
    },
    {
     "name": "stderr",
     "output_type": "stream",
     "text": [
      " 16%|████████████▌                                                                   | 100/636 [01:22<06:16,  1.42it/s]"
     ]
    },
    {
     "name": "stdout",
     "output_type": "stream",
     "text": [
      "(100/636) Data: 0.120s | Batch: 0.823s | Total: 0:01:22 | ETA: 0:06:17 | Loss: 0.0016 | top1:  91.8986\n"
     ]
    },
    {
     "name": "stderr",
     "output_type": "stream",
     "text": [
      " 31%|█████████████████████████▏                                                      | 200/636 [02:32<05:06,  1.42it/s]"
     ]
    },
    {
     "name": "stdout",
     "output_type": "stream",
     "text": [
      "(200/636) Data: 0.061s | Batch: 0.763s | Total: 0:02:32 | ETA: 0:05:08 | Loss: 0.0016 | top1:  91.9033\n"
     ]
    },
    {
     "name": "stderr",
     "output_type": "stream",
     "text": [
      " 47%|█████████████████████████████████████▋                                          | 300/636 [03:42<03:55,  1.43it/s]"
     ]
    },
    {
     "name": "stdout",
     "output_type": "stream",
     "text": [
      "(300/636) Data: 0.041s | Batch: 0.743s | Total: 0:03:42 | ETA: 0:03:58 | Loss: 0.0016 | top1:  91.8831\n"
     ]
    },
    {
     "name": "stderr",
     "output_type": "stream",
     "text": [
      " 63%|██████████████████████████████████████████████████▎                             | 400/636 [04:53<02:45,  1.42it/s]"
     ]
    },
    {
     "name": "stdout",
     "output_type": "stream",
     "text": [
      "(400/636) Data: 0.031s | Batch: 0.733s | Total: 0:04:53 | ETA: 0:02:47 | Loss: 0.0016 | top1:  91.8812\n"
     ]
    },
    {
     "name": "stderr",
     "output_type": "stream",
     "text": [
      " 79%|██████████████████████████████████████████████████████████████▉                 | 500/636 [06:03<01:35,  1.42it/s]"
     ]
    },
    {
     "name": "stdout",
     "output_type": "stream",
     "text": [
      "(500/636) Data: 0.025s | Batch: 0.727s | Total: 0:06:03 | ETA: 0:01:37 | Loss: 0.0016 | top1:  91.8891\n"
     ]
    },
    {
     "name": "stderr",
     "output_type": "stream",
     "text": [
      " 94%|███████████████████████████████████████████████████████████████████████████▍    | 600/636 [07:13<00:25,  1.42it/s]"
     ]
    },
    {
     "name": "stdout",
     "output_type": "stream",
     "text": [
      "(600/636) Data: 0.021s | Batch: 0.723s | Total: 0:07:13 | ETA: 0:00:27 | Loss: 0.0016 | top1:  91.8872\n"
     ]
    },
    {
     "name": "stderr",
     "output_type": "stream",
     "text": [
      "100%|████████████████████████████████████████████████████████████████████████████████| 636/636 [07:39<00:00,  1.38it/s]\n",
      "100%|████████████████████████████████████████████████████████████████████████████████| 156/156 [00:28<00:00,  5.49it/s]\n"
     ]
    },
    {
     "name": "stdout",
     "output_type": "stream",
     "text": [
      "(156/156) Data: 0.047s | Batch: 0.179s | Total: 0:00:27 | ETA: 0:00:01 | Loss: 0.0016 | top1:  91.9078\n",
      "=> saving checkpoint 'checkpoints\\checkpoint.pth.tar'\n"
     ]
    },
    {
     "name": "stderr",
     "output_type": "stream",
     "text": [
      "  0%|                                                                                          | 0/636 [00:00<?, ?it/s]"
     ]
    },
    {
     "name": "stdout",
     "output_type": "stream",
     "text": [
      "\n",
      "Epoch: [73 | 80] LR: 0.0005000000000000\n"
     ]
    },
    {
     "name": "stderr",
     "output_type": "stream",
     "text": [
      " 16%|████████████▌                                                                   | 100/636 [01:22<06:16,  1.42it/s]"
     ]
    },
    {
     "name": "stdout",
     "output_type": "stream",
     "text": [
      "(100/636) Data: 0.121s | Batch: 0.824s | Total: 0:01:22 | ETA: 0:06:18 | Loss: 0.0016 | top1:  91.8775\n"
     ]
    },
    {
     "name": "stderr",
     "output_type": "stream",
     "text": [
      " 31%|█████████████████████████▏                                                      | 200/636 [02:32<05:06,  1.42it/s]"
     ]
    },
    {
     "name": "stdout",
     "output_type": "stream",
     "text": [
      "(200/636) Data: 0.061s | Batch: 0.763s | Total: 0:02:32 | ETA: 0:05:08 | Loss: 0.0016 | top1:  91.9122\n"
     ]
    },
    {
     "name": "stderr",
     "output_type": "stream",
     "text": [
      " 47%|█████████████████████████████████████▋                                          | 300/636 [03:42<03:56,  1.42it/s]"
     ]
    },
    {
     "name": "stdout",
     "output_type": "stream",
     "text": [
      "(300/636) Data: 0.041s | Batch: 0.743s | Total: 0:03:42 | ETA: 0:03:57 | Loss: 0.0016 | top1:  91.9003\n"
     ]
    },
    {
     "name": "stderr",
     "output_type": "stream",
     "text": [
      " 63%|██████████████████████████████████████████████████▎                             | 400/636 [04:53<02:47,  1.41it/s]"
     ]
    },
    {
     "name": "stdout",
     "output_type": "stream",
     "text": [
      "(400/636) Data: 0.031s | Batch: 0.733s | Total: 0:04:53 | ETA: 0:02:49 | Loss: 0.0016 | top1:  91.8958\n"
     ]
    },
    {
     "name": "stderr",
     "output_type": "stream",
     "text": [
      " 79%|██████████████████████████████████████████████████████████████▉                 | 500/636 [06:03<01:35,  1.42it/s]"
     ]
    },
    {
     "name": "stdout",
     "output_type": "stream",
     "text": [
      "(500/636) Data: 0.025s | Batch: 0.727s | Total: 0:06:03 | ETA: 0:01:37 | Loss: 0.0016 | top1:  91.8970\n"
     ]
    },
    {
     "name": "stderr",
     "output_type": "stream",
     "text": [
      " 94%|███████████████████████████████████████████████████████████████████████████▍    | 600/636 [07:13<00:25,  1.42it/s]"
     ]
    },
    {
     "name": "stdout",
     "output_type": "stream",
     "text": [
      "(600/636) Data: 0.021s | Batch: 0.723s | Total: 0:07:13 | ETA: 0:00:26 | Loss: 0.0016 | top1:  91.9019\n"
     ]
    },
    {
     "name": "stderr",
     "output_type": "stream",
     "text": [
      "100%|████████████████████████████████████████████████████████████████████████████████| 636/636 [07:40<00:00,  1.38it/s]\n",
      "100%|████████████████████████████████████████████████████████████████████████████████| 156/156 [00:28<00:00,  5.50it/s]\n"
     ]
    },
    {
     "name": "stdout",
     "output_type": "stream",
     "text": [
      "(156/156) Data: 0.047s | Batch: 0.179s | Total: 0:00:27 | ETA: 0:00:01 | Loss: 0.0016 | top1:  91.9123\n",
      "=> saving checkpoint 'checkpoints\\checkpoint.pth.tar'\n"
     ]
    },
    {
     "name": "stderr",
     "output_type": "stream",
     "text": [
      "  0%|                                                                                          | 0/636 [00:00<?, ?it/s]"
     ]
    },
    {
     "name": "stdout",
     "output_type": "stream",
     "text": [
      "\n",
      "Epoch: [74 | 80] LR: 0.0005000000000000\n"
     ]
    },
    {
     "name": "stderr",
     "output_type": "stream",
     "text": [
      " 16%|████████████▌                                                                   | 100/636 [01:22<06:16,  1.42it/s]"
     ]
    },
    {
     "name": "stdout",
     "output_type": "stream",
     "text": [
      "(100/636) Data: 0.120s | Batch: 0.822s | Total: 0:01:22 | ETA: 0:06:18 | Loss: 0.0016 | top1:  91.8599\n"
     ]
    },
    {
     "name": "stderr",
     "output_type": "stream",
     "text": [
      " 31%|█████████████████████████▏                                                      | 200/636 [02:32<05:07,  1.42it/s]"
     ]
    },
    {
     "name": "stdout",
     "output_type": "stream",
     "text": [
      "(200/636) Data: 0.061s | Batch: 0.762s | Total: 0:02:32 | ETA: 0:05:08 | Loss: 0.0016 | top1:  91.8735\n"
     ]
    },
    {
     "name": "stderr",
     "output_type": "stream",
     "text": [
      " 47%|█████████████████████████████████████▋                                          | 300/636 [03:42<03:56,  1.42it/s]"
     ]
    },
    {
     "name": "stdout",
     "output_type": "stream",
     "text": [
      "(300/636) Data: 0.041s | Batch: 0.742s | Total: 0:03:42 | ETA: 0:03:57 | Loss: 0.0016 | top1:  91.8862\n"
     ]
    },
    {
     "name": "stderr",
     "output_type": "stream",
     "text": [
      " 63%|██████████████████████████████████████████████████▎                             | 400/636 [04:52<02:45,  1.43it/s]"
     ]
    },
    {
     "name": "stdout",
     "output_type": "stream",
     "text": [
      "(400/636) Data: 0.031s | Batch: 0.733s | Total: 0:04:53 | ETA: 0:02:47 | Loss: 0.0016 | top1:  91.8913\n"
     ]
    },
    {
     "name": "stderr",
     "output_type": "stream",
     "text": [
      " 79%|██████████████████████████████████████████████████████████████▉                 | 500/636 [06:03<01:35,  1.42it/s]"
     ]
    },
    {
     "name": "stdout",
     "output_type": "stream",
     "text": [
      "(500/636) Data: 0.025s | Batch: 0.727s | Total: 0:06:03 | ETA: 0:01:37 | Loss: 0.0016 | top1:  91.8874\n"
     ]
    },
    {
     "name": "stderr",
     "output_type": "stream",
     "text": [
      " 94%|███████████████████████████████████████████████████████████████████████████▍    | 600/636 [07:13<00:25,  1.42it/s]"
     ]
    },
    {
     "name": "stdout",
     "output_type": "stream",
     "text": [
      "(600/636) Data: 0.021s | Batch: 0.723s | Total: 0:07:13 | ETA: 0:00:27 | Loss: 0.0016 | top1:  91.8904\n"
     ]
    },
    {
     "name": "stderr",
     "output_type": "stream",
     "text": [
      "100%|████████████████████████████████████████████████████████████████████████████████| 636/636 [07:39<00:00,  1.38it/s]\n",
      "100%|████████████████████████████████████████████████████████████████████████████████| 156/156 [00:28<00:00,  5.52it/s]\n"
     ]
    },
    {
     "name": "stdout",
     "output_type": "stream",
     "text": [
      "(156/156) Data: 0.047s | Batch: 0.178s | Total: 0:00:27 | ETA: 0:00:01 | Loss: 0.0016 | top1:  91.9054\n",
      "=> saving checkpoint 'checkpoints\\checkpoint.pth.tar'\n"
     ]
    },
    {
     "name": "stderr",
     "output_type": "stream",
     "text": [
      "  0%|                                                                                          | 0/636 [00:00<?, ?it/s]"
     ]
    },
    {
     "name": "stdout",
     "output_type": "stream",
     "text": [
      "\n",
      "Epoch: [75 | 80] LR: 0.0000250000000000\n"
     ]
    },
    {
     "name": "stderr",
     "output_type": "stream",
     "text": [
      " 16%|████████████▌                                                                   | 100/636 [01:22<06:18,  1.42it/s]"
     ]
    },
    {
     "name": "stdout",
     "output_type": "stream",
     "text": [
      "(100/636) Data: 0.119s | Batch: 0.823s | Total: 0:01:22 | ETA: 0:06:18 | Loss: 0.0016 | top1:  91.8757\n"
     ]
    },
    {
     "name": "stderr",
     "output_type": "stream",
     "text": [
      " 31%|█████████████████████████▏                                                      | 200/636 [02:32<05:05,  1.43it/s]"
     ]
    },
    {
     "name": "stdout",
     "output_type": "stream",
     "text": [
      "(200/636) Data: 0.060s | Batch: 0.763s | Total: 0:02:32 | ETA: 0:05:08 | Loss: 0.0016 | top1:  91.8793\n"
     ]
    },
    {
     "name": "stderr",
     "output_type": "stream",
     "text": [
      " 47%|█████████████████████████████████████▋                                          | 300/636 [03:42<03:55,  1.43it/s]"
     ]
    },
    {
     "name": "stdout",
     "output_type": "stream",
     "text": [
      "(300/636) Data: 0.041s | Batch: 0.743s | Total: 0:03:42 | ETA: 0:03:57 | Loss: 0.0016 | top1:  91.8944\n"
     ]
    },
    {
     "name": "stderr",
     "output_type": "stream",
     "text": [
      " 63%|██████████████████████████████████████████████████▎                             | 400/636 [04:53<02:45,  1.42it/s]"
     ]
    },
    {
     "name": "stdout",
     "output_type": "stream",
     "text": [
      "(400/636) Data: 0.031s | Batch: 0.733s | Total: 0:04:53 | ETA: 0:02:47 | Loss: 0.0016 | top1:  91.8969\n"
     ]
    },
    {
     "name": "stderr",
     "output_type": "stream",
     "text": [
      " 79%|██████████████████████████████████████████████████████████████▉                 | 500/636 [06:03<01:36,  1.42it/s]"
     ]
    },
    {
     "name": "stdout",
     "output_type": "stream",
     "text": [
      "(500/636) Data: 0.025s | Batch: 0.727s | Total: 0:06:03 | ETA: 0:01:37 | Loss: 0.0016 | top1:  91.9017\n"
     ]
    },
    {
     "name": "stderr",
     "output_type": "stream",
     "text": [
      " 94%|███████████████████████████████████████████████████████████████████████████▍    | 600/636 [07:13<00:25,  1.42it/s]"
     ]
    },
    {
     "name": "stdout",
     "output_type": "stream",
     "text": [
      "(600/636) Data: 0.021s | Batch: 0.723s | Total: 0:07:13 | ETA: 0:00:27 | Loss: 0.0016 | top1:  91.9069\n"
     ]
    },
    {
     "name": "stderr",
     "output_type": "stream",
     "text": [
      "100%|████████████████████████████████████████████████████████████████████████████████| 636/636 [07:39<00:00,  1.38it/s]\n",
      "100%|████████████████████████████████████████████████████████████████████████████████| 156/156 [00:28<00:00,  5.50it/s]\n"
     ]
    },
    {
     "name": "stdout",
     "output_type": "stream",
     "text": [
      "(156/156) Data: 0.047s | Batch: 0.179s | Total: 0:00:27 | ETA: 0:00:01 | Loss: 0.0016 | top1:  91.9091\n",
      "=> saving checkpoint 'checkpoints\\checkpoint.pth.tar'\n"
     ]
    },
    {
     "name": "stderr",
     "output_type": "stream",
     "text": [
      "  0%|                                                                                          | 0/636 [00:00<?, ?it/s]"
     ]
    },
    {
     "name": "stdout",
     "output_type": "stream",
     "text": [
      "\n",
      "Epoch: [76 | 80] LR: 0.0000250000000000\n"
     ]
    },
    {
     "name": "stderr",
     "output_type": "stream",
     "text": [
      " 16%|████████████▌                                                                   | 100/636 [01:22<06:17,  1.42it/s]"
     ]
    },
    {
     "name": "stdout",
     "output_type": "stream",
     "text": [
      "(100/636) Data: 0.124s | Batch: 0.827s | Total: 0:01:22 | ETA: 0:06:17 | Loss: 0.0016 | top1:  91.9053\n"
     ]
    },
    {
     "name": "stderr",
     "output_type": "stream",
     "text": [
      " 31%|█████████████████████████▏                                                      | 200/636 [02:32<05:06,  1.42it/s]"
     ]
    },
    {
     "name": "stdout",
     "output_type": "stream",
     "text": [
      "(200/636) Data: 0.063s | Batch: 0.765s | Total: 0:02:32 | ETA: 0:05:08 | Loss: 0.0016 | top1:  91.8860\n"
     ]
    },
    {
     "name": "stderr",
     "output_type": "stream",
     "text": [
      " 47%|█████████████████████████████████████▋                                          | 300/636 [03:43<03:56,  1.42it/s]"
     ]
    },
    {
     "name": "stdout",
     "output_type": "stream",
     "text": [
      "(300/636) Data: 0.043s | Batch: 0.744s | Total: 0:03:43 | ETA: 0:03:58 | Loss: 0.0016 | top1:  91.8844\n"
     ]
    },
    {
     "name": "stderr",
     "output_type": "stream",
     "text": [
      " 63%|██████████████████████████████████████████████████▎                             | 400/636 [04:53<02:46,  1.42it/s]"
     ]
    },
    {
     "name": "stdout",
     "output_type": "stream",
     "text": [
      "(400/636) Data: 0.032s | Batch: 0.734s | Total: 0:04:53 | ETA: 0:02:48 | Loss: 0.0016 | top1:  91.8939\n"
     ]
    },
    {
     "name": "stderr",
     "output_type": "stream",
     "text": [
      " 79%|██████████████████████████████████████████████████████████████▉                 | 500/636 [06:03<01:36,  1.41it/s]"
     ]
    },
    {
     "name": "stdout",
     "output_type": "stream",
     "text": [
      "(500/636) Data: 0.026s | Batch: 0.728s | Total: 0:06:03 | ETA: 0:01:38 | Loss: 0.0016 | top1:  91.8883\n"
     ]
    },
    {
     "name": "stderr",
     "output_type": "stream",
     "text": [
      " 94%|███████████████████████████████████████████████████████████████████████████▍    | 600/636 [07:14<00:25,  1.42it/s]"
     ]
    },
    {
     "name": "stdout",
     "output_type": "stream",
     "text": [
      "(600/636) Data: 0.022s | Batch: 0.724s | Total: 0:07:14 | ETA: 0:00:27 | Loss: 0.0016 | top1:  91.8999\n"
     ]
    },
    {
     "name": "stderr",
     "output_type": "stream",
     "text": [
      "100%|████████████████████████████████████████████████████████████████████████████████| 636/636 [07:40<00:00,  1.38it/s]\n",
      "100%|████████████████████████████████████████████████████████████████████████████████| 156/156 [00:28<00:00,  5.49it/s]\n"
     ]
    },
    {
     "name": "stdout",
     "output_type": "stream",
     "text": [
      "(156/156) Data: 0.047s | Batch: 0.179s | Total: 0:00:27 | ETA: 0:00:01 | Loss: 0.0016 | top1:  91.9115\n",
      "=> saving checkpoint 'checkpoints\\checkpoint.pth.tar'\n"
     ]
    },
    {
     "name": "stderr",
     "output_type": "stream",
     "text": [
      "  0%|                                                                                          | 0/636 [00:00<?, ?it/s]"
     ]
    },
    {
     "name": "stdout",
     "output_type": "stream",
     "text": [
      "\n",
      "Epoch: [77 | 80] LR: 0.0000250000000000\n"
     ]
    },
    {
     "name": "stderr",
     "output_type": "stream",
     "text": [
      " 16%|████████████▌                                                                   | 100/636 [01:23<06:17,  1.42it/s]"
     ]
    },
    {
     "name": "stdout",
     "output_type": "stream",
     "text": [
      "(100/636) Data: 0.120s | Batch: 0.839s | Total: 0:01:23 | ETA: 0:06:19 | Loss: 0.0016 | top1:  91.9117\n"
     ]
    },
    {
     "name": "stderr",
     "output_type": "stream",
     "text": [
      " 31%|█████████████████████████▏                                                      | 200/636 [02:33<05:07,  1.42it/s]"
     ]
    },
    {
     "name": "stdout",
     "output_type": "stream",
     "text": [
      "(200/636) Data: 0.061s | Batch: 0.770s | Total: 0:02:33 | ETA: 0:05:08 | Loss: 0.0016 | top1:  91.9099\n"
     ]
    },
    {
     "name": "stderr",
     "output_type": "stream",
     "text": [
      " 47%|█████████████████████████████████████▋                                          | 300/636 [03:44<03:58,  1.41it/s]"
     ]
    },
    {
     "name": "stdout",
     "output_type": "stream",
     "text": [
      "(300/636) Data: 0.041s | Batch: 0.749s | Total: 0:03:44 | ETA: 0:04:02 | Loss: 0.0016 | top1:  91.9155\n"
     ]
    },
    {
     "name": "stderr",
     "output_type": "stream",
     "text": [
      " 63%|██████████████████████████████████████████████████▎                             | 400/636 [04:59<02:52,  1.37it/s]"
     ]
    },
    {
     "name": "stdout",
     "output_type": "stream",
     "text": [
      "(400/636) Data: 0.031s | Batch: 0.749s | Total: 0:04:59 | ETA: 0:02:56 | Loss: 0.0016 | top1:  91.9147\n"
     ]
    },
    {
     "name": "stderr",
     "output_type": "stream",
     "text": [
      " 79%|██████████████████████████████████████████████████████████████▉                 | 500/636 [06:12<01:41,  1.34it/s]"
     ]
    },
    {
     "name": "stdout",
     "output_type": "stream",
     "text": [
      "(500/636) Data: 0.025s | Batch: 0.744s | Total: 0:06:12 | ETA: 0:01:43 | Loss: 0.0016 | top1:  91.9164\n"
     ]
    },
    {
     "name": "stderr",
     "output_type": "stream",
     "text": [
      " 94%|███████████████████████████████████████████████████████████████████████████▍    | 600/636 [07:25<00:26,  1.36it/s]"
     ]
    },
    {
     "name": "stdout",
     "output_type": "stream",
     "text": [
      "(600/636) Data: 0.021s | Batch: 0.742s | Total: 0:07:25 | ETA: 0:00:27 | Loss: 0.0016 | top1:  91.9122\n"
     ]
    },
    {
     "name": "stderr",
     "output_type": "stream",
     "text": [
      "100%|████████████████████████████████████████████████████████████████████████████████| 636/636 [07:53<00:00,  1.34it/s]\n",
      "100%|████████████████████████████████████████████████████████████████████████████████| 156/156 [00:31<00:00,  4.97it/s]\n"
     ]
    },
    {
     "name": "stdout",
     "output_type": "stream",
     "text": [
      "(156/156) Data: 0.053s | Batch: 0.197s | Total: 0:00:30 | ETA: 0:00:01 | Loss: 0.0016 | top1:  91.9132\n",
      "=> saving checkpoint 'checkpoints\\checkpoint.pth.tar'\n"
     ]
    },
    {
     "name": "stderr",
     "output_type": "stream",
     "text": [
      "  0%|                                                                                          | 0/636 [00:00<?, ?it/s]"
     ]
    },
    {
     "name": "stdout",
     "output_type": "stream",
     "text": [
      "\n",
      "Epoch: [78 | 80] LR: 0.0000250000000000\n"
     ]
    },
    {
     "name": "stderr",
     "output_type": "stream",
     "text": [
      " 16%|████████████▌                                                                   | 100/636 [01:25<06:25,  1.39it/s]"
     ]
    },
    {
     "name": "stdout",
     "output_type": "stream",
     "text": [
      "(100/636) Data: 0.133s | Batch: 0.858s | Total: 0:01:25 | ETA: 0:06:31 | Loss: 0.0016 | top1:  91.8913\n"
     ]
    },
    {
     "name": "stderr",
     "output_type": "stream",
     "text": [
      " 31%|█████████████████████████▏                                                      | 200/636 [02:38<05:10,  1.41it/s]"
     ]
    },
    {
     "name": "stdout",
     "output_type": "stream",
     "text": [
      "(200/636) Data: 0.067s | Batch: 0.791s | Total: 0:02:38 | ETA: 0:05:12 | Loss: 0.0016 | top1:  91.9085\n"
     ]
    },
    {
     "name": "stderr",
     "output_type": "stream",
     "text": [
      " 47%|█████████████████████████████████████▋                                          | 300/636 [03:51<04:09,  1.34it/s]"
     ]
    },
    {
     "name": "stdout",
     "output_type": "stream",
     "text": [
      "(300/636) Data: 0.045s | Batch: 0.772s | Total: 0:03:51 | ETA: 0:04:08 | Loss: 0.0016 | top1:  91.9076\n"
     ]
    },
    {
     "name": "stderr",
     "output_type": "stream",
     "text": [
      " 63%|██████████████████████████████████████████████████▎                             | 400/636 [05:05<02:55,  1.34it/s]"
     ]
    },
    {
     "name": "stdout",
     "output_type": "stream",
     "text": [
      "(400/636) Data: 0.034s | Batch: 0.763s | Total: 0:05:05 | ETA: 0:02:58 | Loss: 0.0016 | top1:  91.8992\n"
     ]
    },
    {
     "name": "stderr",
     "output_type": "stream",
     "text": [
      " 79%|██████████████████████████████████████████████████████████████▉                 | 500/636 [06:19<01:47,  1.27it/s]"
     ]
    },
    {
     "name": "stdout",
     "output_type": "stream",
     "text": [
      "(500/636) Data: 0.028s | Batch: 0.758s | Total: 0:06:19 | ETA: 0:01:46 | Loss: 0.0016 | top1:  91.8921\n"
     ]
    },
    {
     "name": "stderr",
     "output_type": "stream",
     "text": [
      " 94%|███████████████████████████████████████████████████████████████████████████▍    | 600/636 [07:34<00:28,  1.28it/s]"
     ]
    },
    {
     "name": "stdout",
     "output_type": "stream",
     "text": [
      "(600/636) Data: 0.023s | Batch: 0.758s | Total: 0:07:34 | ETA: 0:00:29 | Loss: 0.0016 | top1:  91.9009\n"
     ]
    },
    {
     "name": "stderr",
     "output_type": "stream",
     "text": [
      "100%|████████████████████████████████████████████████████████████████████████████████| 636/636 [08:03<00:00,  1.32it/s]\n",
      "100%|████████████████████████████████████████████████████████████████████████████████| 156/156 [00:31<00:00,  4.90it/s]\n"
     ]
    },
    {
     "name": "stdout",
     "output_type": "stream",
     "text": [
      "(156/156) Data: 0.054s | Batch: 0.201s | Total: 0:00:31 | ETA: 0:00:01 | Loss: 0.0016 | top1:  91.9135\n",
      "=> saving checkpoint 'checkpoints\\checkpoint.pth.tar'\n"
     ]
    },
    {
     "name": "stderr",
     "output_type": "stream",
     "text": [
      "  0%|                                                                                          | 0/636 [00:00<?, ?it/s]"
     ]
    },
    {
     "name": "stdout",
     "output_type": "stream",
     "text": [
      "\n",
      "Epoch: [79 | 80] LR: 0.0000250000000000\n"
     ]
    },
    {
     "name": "stderr",
     "output_type": "stream",
     "text": [
      " 16%|████████████▌                                                                   | 100/636 [01:23<06:17,  1.42it/s]"
     ]
    },
    {
     "name": "stdout",
     "output_type": "stream",
     "text": [
      "(100/636) Data: 0.124s | Batch: 0.833s | Total: 0:01:23 | ETA: 0:06:19 | Loss: 0.0016 | top1:  91.8527\n"
     ]
    },
    {
     "name": "stderr",
     "output_type": "stream",
     "text": [
      " 31%|█████████████████████████▏                                                      | 200/636 [02:33<05:07,  1.42it/s]"
     ]
    },
    {
     "name": "stdout",
     "output_type": "stream",
     "text": [
      "(200/636) Data: 0.063s | Batch: 0.769s | Total: 0:02:33 | ETA: 0:05:09 | Loss: 0.0016 | top1:  91.8743\n"
     ]
    },
    {
     "name": "stderr",
     "output_type": "stream",
     "text": [
      " 47%|█████████████████████████████████████▋                                          | 300/636 [03:44<04:01,  1.39it/s]"
     ]
    },
    {
     "name": "stdout",
     "output_type": "stream",
     "text": [
      "(300/636) Data: 0.042s | Batch: 0.749s | Total: 0:03:44 | ETA: 0:04:02 | Loss: 0.0016 | top1:  91.8743\n"
     ]
    },
    {
     "name": "stderr",
     "output_type": "stream",
     "text": [
      " 63%|██████████████████████████████████████████████████▎                             | 400/636 [04:55<02:46,  1.42it/s]"
     ]
    },
    {
     "name": "stdout",
     "output_type": "stream",
     "text": [
      "(400/636) Data: 0.032s | Batch: 0.738s | Total: 0:04:55 | ETA: 0:02:48 | Loss: 0.0016 | top1:  91.8891\n"
     ]
    },
    {
     "name": "stderr",
     "output_type": "stream",
     "text": [
      " 79%|██████████████████████████████████████████████████████████████▉                 | 500/636 [06:05<01:35,  1.42it/s]"
     ]
    },
    {
     "name": "stdout",
     "output_type": "stream",
     "text": [
      "(500/636) Data: 0.026s | Batch: 0.732s | Total: 0:06:05 | ETA: 0:01:37 | Loss: 0.0016 | top1:  91.9039\n"
     ]
    },
    {
     "name": "stderr",
     "output_type": "stream",
     "text": [
      " 94%|███████████████████████████████████████████████████████████████████████████▍    | 600/636 [07:16<00:25,  1.42it/s]"
     ]
    },
    {
     "name": "stdout",
     "output_type": "stream",
     "text": [
      "(600/636) Data: 0.022s | Batch: 0.727s | Total: 0:07:16 | ETA: 0:00:27 | Loss: 0.0016 | top1:  91.9031\n"
     ]
    },
    {
     "name": "stderr",
     "output_type": "stream",
     "text": [
      "100%|████████████████████████████████████████████████████████████████████████████████| 636/636 [07:42<00:00,  1.37it/s]\n",
      "100%|████████████████████████████████████████████████████████████████████████████████| 156/156 [00:30<00:00,  5.17it/s]\n"
     ]
    },
    {
     "name": "stdout",
     "output_type": "stream",
     "text": [
      "(156/156) Data: 0.050s | Batch: 0.190s | Total: 0:00:29 | ETA: 0:00:01 | Loss: 0.0016 | top1:  91.9048\n",
      "=> saving checkpoint 'checkpoints\\checkpoint.pth.tar'\n"
     ]
    },
    {
     "name": "stderr",
     "output_type": "stream",
     "text": [
      "  0%|                                                                                          | 0/636 [00:00<?, ?it/s]"
     ]
    },
    {
     "name": "stdout",
     "output_type": "stream",
     "text": [
      "\n",
      "Epoch: [80 | 80] LR: 0.0000250000000000\n"
     ]
    },
    {
     "name": "stderr",
     "output_type": "stream",
     "text": [
      " 16%|████████████▌                                                                   | 100/636 [01:23<06:18,  1.42it/s]"
     ]
    },
    {
     "name": "stdout",
     "output_type": "stream",
     "text": [
      "(100/636) Data: 0.125s | Batch: 0.834s | Total: 0:01:23 | ETA: 0:06:19 | Loss: 0.0016 | top1:  91.8987\n"
     ]
    },
    {
     "name": "stderr",
     "output_type": "stream",
     "text": [
      " 31%|█████████████████████████▏                                                      | 200/636 [02:33<05:07,  1.42it/s]"
     ]
    },
    {
     "name": "stdout",
     "output_type": "stream",
     "text": [
      "(200/636) Data: 0.063s | Batch: 0.769s | Total: 0:02:33 | ETA: 0:05:08 | Loss: 0.0016 | top1:  91.9215\n"
     ]
    },
    {
     "name": "stderr",
     "output_type": "stream",
     "text": [
      " 47%|█████████████████████████████████████▋                                          | 300/636 [03:44<03:56,  1.42it/s]"
     ]
    },
    {
     "name": "stdout",
     "output_type": "stream",
     "text": [
      "(300/636) Data: 0.043s | Batch: 0.748s | Total: 0:03:44 | ETA: 0:03:58 | Loss: 0.0016 | top1:  91.9041\n"
     ]
    },
    {
     "name": "stderr",
     "output_type": "stream",
     "text": [
      " 63%|██████████████████████████████████████████████████▎                             | 400/636 [04:54<02:46,  1.42it/s]"
     ]
    },
    {
     "name": "stdout",
     "output_type": "stream",
     "text": [
      "(400/636) Data: 0.033s | Batch: 0.737s | Total: 0:04:54 | ETA: 0:02:48 | Loss: 0.0016 | top1:  91.8994\n"
     ]
    },
    {
     "name": "stderr",
     "output_type": "stream",
     "text": [
      " 79%|██████████████████████████████████████████████████████████████▉                 | 500/636 [06:05<01:35,  1.42it/s]"
     ]
    },
    {
     "name": "stdout",
     "output_type": "stream",
     "text": [
      "(500/636) Data: 0.026s | Batch: 0.731s | Total: 0:06:05 | ETA: 0:01:37 | Loss: 0.0016 | top1:  91.8956\n"
     ]
    },
    {
     "name": "stderr",
     "output_type": "stream",
     "text": [
      " 94%|███████████████████████████████████████████████████████████████████████████▍    | 600/636 [07:15<00:25,  1.42it/s]"
     ]
    },
    {
     "name": "stdout",
     "output_type": "stream",
     "text": [
      "(600/636) Data: 0.022s | Batch: 0.727s | Total: 0:07:15 | ETA: 0:00:27 | Loss: 0.0016 | top1:  91.8973\n"
     ]
    },
    {
     "name": "stderr",
     "output_type": "stream",
     "text": [
      "100%|████████████████████████████████████████████████████████████████████████████████| 636/636 [07:42<00:00,  1.38it/s]\n",
      "100%|████████████████████████████████████████████████████████████████████████████████| 156/156 [00:29<00:00,  5.37it/s]\n"
     ]
    },
    {
     "name": "stdout",
     "output_type": "stream",
     "text": [
      "(156/156) Data: 0.049s | Batch: 0.183s | Total: 0:00:28 | ETA: 0:00:01 | Loss: 0.0016 | top1:  91.9043\n",
      "=> saving checkpoint 'checkpoints\\checkpoint.pth.tar'\n"
     ]
    },
    {
     "data": {
      "image/png": "[encoded data removed]",
      "text/plain": [
       "<Figure size 432x288 with 1 Axes>"
      ]
     },
     "metadata": {
      "needs_background": "light"
     },
     "output_type": "display_data"
    },
    {
     "data": {
      "image/png": "[encoded data removed]",
      "text/plain": [
       "<Figure size 1440x360 with 3 Axes>"
      ]
     },
     "metadata": {
      "needs_background": "light"
     },
     "output_type": "display_data"
    },
    {
     "name": "stdout",
     "output_type": "stream",
     "text": [
      "Best accuracy:\n",
      "91.92190567013145\n",
      "=> Model trained time: 11:19:15\n"
     ]
    },
    {
     "data": {
      "text/plain": [
       "<Figure size 432x288 with 0 Axes>"
      ]
     },
     "metadata": {},
     "output_type": "display_data"
    }
   ],
   "source": [
    "# config.epoch = 1\n",
    "model = create_model(device)\n",
    "dataloaders, attribute_names = load_dataloaders()\n",
    "criterion = get_criterion()\n",
    "optimizer = get_optimizer(model)\n",
    "\n",
    "print(f\"=> Training model: {not config.evaluate}\")\n",
    "if config.evaluate:\n",
    "    best_prec1, mtimer, _, _, logger, = resume_checkpoint(model, optimizer, config.ckp_logger_fname, config.checkpoint_fname) # checkpoint_fname bestmodel_fname\n",
    "    #logger.plot_special()\n",
    "    test_loss, prec1, top1 = validate(dataloaders['test'], model, criterion)\n",
    "    print(f\"=> Best test accuracy: {prec1}, Model val acc: {best_prec1}\")\n",
    "    print_attribute_acc(top1, attribute_names)\n",
    "else:\n",
    "    best_prec1, mtimer, lr, start_epoch, logger = resume_checkpoint(model, optimizer, config.ckp_logger_fname, config.ckp_resume)\n",
    "    run_name, run_time = get_run_name_time(model, criterion, optimizer, comments)\n",
    "    mtimer = trainer(dataloaders, model, criterion, optimizer, logger, start_epoch, best_prec1, run_name, mtimer)\n",
    "\n",
    "print(f\"=> Model trained time: {mtimer}\")"
   ]
  },
  {
   "cell_type": "markdown",
   "metadata": {},
   "source": [
    "## Testing Loop"
   ]
  },
  {
   "cell_type": "code",
   "execution_count": 20,
   "metadata": {},
   "outputs": [
    {
     "name": "stdout",
     "output_type": "stream",
     "text": [
      "=> creating model 'FaceAttrResNet'\n",
      "Dataset sizes: {'test': 19962}\n",
      "Class Labels: 40\n",
      "=> resuming model: checkpoints\\model_best.pth.tar\n",
      "=> loading checkpoint 'checkpoints\\model_best.pth.tar'\n"
     ]
    },
    {
     "name": "stderr",
     "output_type": "stream",
     "text": [
      "  0%|                                                                                          | 0/156 [00:00<?, ?it/s]"
     ]
    },
    {
     "name": "stdout",
     "output_type": "stream",
     "text": [
      "=> loaded checkpoint 'checkpoints\\model_best.pth.tar' (epoch 69)\n",
      "=> resuming logger\n",
      "{'Learning Rate': ['0.010000000000000', '0.010000000000000', '0.010000000000000', '0.010000000000000', '0.010000000000000', '0.010000000000000', '0.010000000000000', '0.010000000000000', '0.010000000000000', '0.010000000000000', '0.010000000000000', '0.010000000000000', '0.010000000000000', '0.010000000000000', '0.010000000000000', '0.010000000000000', '0.010000000000000', '0.010000000000000', '0.010000000000000', '0.010000000000000', '0.010000000000000', '0.010000000000000', '0.010000000000000', '0.010000000000000', '0.010000000000000', '0.010000000000000', '0.010000000000000', '0.010000000000000', '0.010000000000000', '0.010000000000000', '0.010000000000000', '0.010000000000000', '0.010000000000000', '0.010000000000000', '0.010000000000000', '0.010000000000000', '0.010000000000000', '0.010000000000000', '0.010000000000000', '0.010000000000000', '0.010000000000000', '0.010000000000000', '0.010000000000000', '0.010000000000000', '0.010000000000000', '0.010000000000000', '0.010000000000000', '0.010000000000000', '0.010000000000000', '0.010000000000000', '0.010000000000000', '0.010000000000000', '0.010000000000000', '0.010000000000000', '0.010000000000000', '0.010000000000000', '0.010000000000000', '0.010000000000000', '0.010000000000000', '0.010000000000000', '0.000500000000000', '0.000500000000000', '0.000500000000000', '0.000500000000000', '0.000500000000000', '0.000500000000000', '0.000500000000000', '0.000500000000000', '0.000500000000000', '0.000500000000000', '0.000500000000000', '0.000500000000000', '0.000500000000000', '0.000500000000000', '0.000025000000000', '0.000025000000000', '0.000025000000000', '0.000025000000000', '0.000025000000000', '0.000025000000000'], 'Train Loss': ['0.003012423013773', '0.002234414769642', '0.002076647105722', '0.001992633507630', '0.001939771189984', '0.001901140906340', '0.001870601869173', '0.001845622483688', '0.001826601523726', '0.001810380971825', '0.001793971336348', '0.001782382001996', '0.001770324462411', '0.001760369954171', '0.001753070807941', '0.001741766756413', '0.001734469009717', '0.001728334795623', '0.001720445654621', '0.001714849765040', '0.001706733759413', '0.001701695721657', '0.001696990629311', '0.001690792984388', '0.001686157597962', '0.001679884135059', '0.001677287027065', '0.001672720659417', '0.001667656582810', '0.001664221251632', '0.001658820449105', '0.001655884294921', '0.001654052856729', '0.001648904162241', '0.001643580498304', '0.001641317795664', '0.001639311837468', '0.001634552667910', '0.001632127904268', '0.001629310119602', '0.001625218189640', '0.001621533996751', '0.001617688902710', '0.001616668435443', '0.001612646956558', '0.001613196476068', '0.001607147842948', '0.001604560963075', '0.001601470912719', '0.001599534453384', '0.001596487323341', '0.001595066112315', '0.001591110340119', '0.001588989256483', '0.001586386348519', '0.001582410579309', '0.001581104881104', '0.001578681852161', '0.001577052679371', '0.001574576776871', '0.001562075275031', '0.001561184932357', '0.001559389463389', '0.001558135114998', '0.001557132656359', '0.001558098110453', '0.001556793230093', '0.001556360657103', '0.001554786898432', '0.001556461283263', '0.001556071509357', '0.001554961938074', '0.001554843861217', '0.001554780539654', '0.001553213512376', '0.001554986335127', '0.001552788181923', '0.001554010450529', '0.001553822181180', '0.001554099929303'], 'Valid Loss': ['0.002057084196429', '0.001911740423129', '0.001839106263469', '0.001800739535644', '0.001776926374015', '0.001755744215680', '0.001733970754617', '0.001717305001776', '0.001710234860456', '0.001702606702327', '0.001692645525176', '0.001688506796998', '0.001676486692109', '0.001670809299814', '0.001669902591329', '0.001655699328346', '0.001653340569744', '0.001654867348852', '0.001648407926050', '0.001650586429793', '0.001642770589458', '0.001639505023051', '0.001635767479864', '0.001629820831580', '0.001630440867798', '0.001621369734489', '0.001629918724210', '0.001628378832720', '0.001622200270267', '0.001623292658237', '0.001616788591289', '0.001620361089010', '0.001619260928165', '0.001613535560630', '0.001608684868173', '0.001616782906518', '0.001616276648780', '0.001612756146837', '0.001615164040988', '0.001610683496359', '0.001605859392957', '0.001610416548136', '0.001612381544209', '0.001607872891149', '0.001611954524698', '0.001607668451344', '0.001605624558627', '0.001606221600900', '0.001608148799450', '0.001605728710967', '0.001609490904574', '0.001601856563002', '0.001610298133559', '0.001600475901126', '0.001601295862793', '0.001602001586906', '0.001607385343411', '0.001608276934518', '0.001611078994596', '0.001606484995945', '0.001600965917980', '0.001603837688638', '0.001600918100582', '0.001601682785999', '0.001600955925041', '0.001601673313679', '0.001602163210082', '0.001599406867682', '0.001599919749050', '0.001600454896639', '0.001601548219841', '0.001602099295267', '0.001602301690090', '0.001601092013029', '0.001601252164509', '0.001600338635140', '0.001600933816826', '0.001603039396536', '0.001602228525405', '0.001600364992337'], 'Train Acc.': ['85.384253856457150', '88.535556306889958', '89.347898876171215', '89.758109602916733', '90.042345026877172', '90.225625115919726', '90.383409105856231', '90.509968053409153', '90.602137986935659', '90.683479757414986', '90.760321312281150', '90.823692941076843', '90.875883147988517', '90.929071697113926', '90.970172636340664', '91.022562512222407', '91.056828653753072', '91.091785956744431', '91.133163359985915', '91.158198686011374', '91.198547030382912', '91.219588990776032', '91.234717700302255', '91.269767157211362', '91.303833630475054', '91.324107637362630', '91.338837010050284', '91.355301960301077', '91.385805124040388', '91.395527432305727', '91.409995699605560', '91.434094121299864', '91.442772010275448', '91.464136511935166', '91.490231615525758', '91.505191374542818', '91.509123302784786', '91.532423051434648', '91.543604472252284', '91.544449223544547', '91.570897586264962', '91.589067396063271', '91.600724949982919', '91.608419856895082', '91.642593844800970', '91.636941697353322', '91.651394606635563', '91.668074584705948', '91.680868710930753', '91.691758309798061', '91.706241937318481', '91.702386803394688', '91.727760030251147', '91.736652946366689', '91.746958899552197', '91.767140751127585', '91.769644284340643', '91.781685814679065', '91.783621060778657', '91.792037846124117', '91.858573447898522', '91.864916754685879', '91.878678503175337', '91.884960374013644', '91.879738281502171', '91.882825460326771', '91.891457271804427', '91.890505007498717', '91.893116053701732', '91.893914726793099', '91.899459361051555', '91.889045893048120', '91.899367205001184', '91.894006880992009', '91.904973275396245', '91.901287092239443', '91.908106530500021', '91.896648646464428', '91.907108189399494', '91.901502119613809'], 'Valid Acc.': ['89.632808171642552', '90.270674986082525', '90.693235010099173', '90.844113351143406', '90.944279455700581', '91.021543260037575', '91.179342625906429', '91.264659986209395', '91.277243667566466', '91.350984041578130', '91.374893036211247', '91.430261234846597', '91.471535709847871', '91.464237174770830', '91.494563847257297', '91.590451499707385', '91.564780790041269', '91.580510391893569', '91.601650976226239', '91.553707150183598', '91.629083402595938', '91.649217292189277', '91.659787585114032', '91.711506515898861', '91.685458295231413', '91.760582873783704', '91.711506516186887', '91.684829111416519', '91.762722099568407', '91.797704734452807', '91.767126388048638', '91.757940300749311', '91.789021993711870', '91.807268332014189', '91.832309858383866', '91.804122411979705', '91.814189357088395', '91.821739566198332', '91.806639147901677', '91.843257661637892', '91.872074291904951', '91.818971156157119', '91.805758290380354', '91.854205464008700', '91.820607034413740', '91.829038101534607', '91.867418330159865', '91.833064879195987', '91.857477221597222', '91.812301804712519', '91.857980568424466', '91.889817282611958', '91.863014040757989', '91.902023454311802', '91.882267073492429', '91.881763726645985', '91.860371468165226', '91.885035483946467', '91.839734230381367', '91.881008705613056', '91.918130565725292', '91.897493328239079', '91.911838724869185', '91.896864144020981', '91.903533495715166', '91.899129206870114', '91.903030147831871', '91.913222930052967', '91.921905670131451', '91.903911005717958', '91.909951172906091', '91.907811946794979', '91.912342072464455', '91.905421047611043', '91.909070315010382', '91.911461214866364', '91.913222929908983', '91.913474603797823', '91.904791863383338', '91.904288516277660']}\n"
     ]
    },
    {
     "name": "stderr",
     "output_type": "stream",
     "text": [
      "100%|████████████████████████████████████████████████████████████████████████████████| 156/156 [00:30<00:00,  5.11it/s]"
     ]
    },
    {
     "name": "stdout",
     "output_type": "stream",
     "text": [
      "(156/156) Data: 0.050s | Batch: 0.192s | Total: 0:00:30 | ETA: 0:00:01 | Loss: 0.0017 | top1:  91.4667\n",
      "=> Best test accuracy: 91.46666163662465, Model val acc: 91.92190567013145\n",
      "=> Model trained time: 09:48:50\n",
      "5_o_Clock_Shadow: 94.84019634788397\n",
      "Arched_Eyebrows: 84.01462775458674\n",
      "Attractive: 82.89249573426571\n",
      "Bags_Under_Eyes: 85.31209294149362\n",
      "Bald: 98.9780583107905\n",
      "Bangs: 96.18775670340419\n",
      "Big_Lips: 71.64612762493978\n",
      "Big_Nose: 84.74100787681898\n",
      "Black_Hair: 90.41178237353975\n",
      "Blond_Hair: 96.07253779052148\n",
      "Blurry: 96.39815646294733\n",
      "Brown_Hair: 89.09928864461006\n",
      "Bushy_Eyebrows: 92.60094176111737\n",
      "Chubby: 95.7869952627705\n",
      "Double_Chin: 96.43823260762221\n",
      "Eyeglasses: 99.67438132451659\n",
      "Goatee: 97.46017429988927\n",
      "Gray_Hair: 98.15649731055778\n",
      "Heavy_Makeup: 92.09998997408431\n",
      "High_Cheekbones: 87.90702334970501\n",
      "Male: 98.49714457774948\n",
      "Mouth_Slightly_Open: 94.01362585173426\n",
      "Mustache: 96.96924152150683\n",
      "Narrow_Eyes: 87.656547445487\n",
      "No_Beard: 96.30798513742884\n",
      "Oval_Face: 75.94429415737314\n",
      "Pale_Skin: 97.08446043744712\n",
      "Pointy_Nose: 77.80783486946731\n",
      "Receding_Hairline: 94.12884478907752\n",
      "Rosy_Cheeks: 95.1307483937193\n",
      "Sideburns: 97.80082156708097\n",
      "Smiling: 93.21711248855125\n",
      "Straight_Hair: 84.63580800316255\n",
      "Wavy_Hair: 84.65083656658834\n",
      "Wearing_Earrings: 90.38673479534822\n",
      "Wearing_Hat: 99.1383628925476\n",
      "Wearing_Lipstick: 94.28413984969269\n",
      "Wearing_Necklace: 86.41919643813725\n",
      "Wearing_Necktie: 95.05059610131198\n",
      "Young: 88.82376512550971\n"
     ]
    },
    {
     "name": "stderr",
     "output_type": "stream",
     "text": [
      "\n"
     ]
    }
   ],
   "source": [
    "if not config.evaluate:\n",
    "    config.evaluate = True\n",
    "    model = create_model(device)\n",
    "    dataloaders, attribute_names = load_dataloaders()\n",
    "    criterion = get_criterion()\n",
    "    optimizer = get_optimizer(model)\n",
    "    \n",
    "    best_prec1, mtimer, _, _, _, = resume_checkpoint(model, optimizer, config.ckp_logger_fname, config.bestmodel_fname)# config.bestmodel_fname  config.checkpoint_fname\n",
    "    #print(model)\n",
    "    test_loss, prec1, top1 = validate(dataloaders['test'], model, criterion)\n",
    "    print(f\"=> Best test accuracy: {prec1}, Model val acc: {best_prec1}\")\n",
    "    print(f\"=> Model trained time: {mtimer}\")\n",
    "    print_attribute_acc(top1, attribute_names)"
   ]
  },
  {
   "cell_type": "markdown",
   "metadata": {},
   "source": [
    "## Save & Backup"
   ]
  },
  {
   "cell_type": "code",
   "execution_count": 21,
   "metadata": {},
   "outputs": [
    {
     "data": {
      "application/javascript": [
       "IPython.notebook.set_autosave_interval(1000)"
      ]
     },
     "metadata": {},
     "output_type": "display_data"
    },
    {
     "name": "stdout",
     "output_type": "stream",
     "text": [
      "Autosaving every 1 seconds\n"
     ]
    },
    {
     "data": {
      "application/javascript": [
       "IPython.notebook.set_autosave_interval(120000)"
      ]
     },
     "metadata": {},
     "output_type": "display_data"
    },
    {
     "name": "stdout",
     "output_type": "stream",
     "text": [
      "Autosaving every 120 seconds\n"
     ]
    }
   ],
   "source": [
    "if ISJUPYTER:\n",
    "    # Wait for notebook to save\n",
    "    %autosave 1\n",
    "    time.sleep(150)\n",
    "    %autosave 120"
   ]
  },
  {
   "cell_type": "code",
   "execution_count": 22,
   "metadata": {},
   "outputs": [
    {
     "name": "stdout",
     "output_type": "stream",
     "text": [
      "=> backing up checkpoints... \n",
      "=> backing up notebook... \n"
     ]
    },
    {
     "name": "stderr",
     "output_type": "stream",
     "text": [
      "[NbConvertApp] Converting notebook ai6126-project1-colab-v1.2.ipynb to html\n",
      "[NbConvertApp] Writing 1070667 bytes to ai6126-project1-colab-v1.2.html\n"
     ]
    }
   ],
   "source": [
    "def backup_everything(run_time, run_name, title, backup_nb=ISJUPYTER):\n",
    "    # backup checkpoints\n",
    "    print(f\"=> backing up checkpoints... \")\n",
    "    run_dir = os.path.join(config.BACKUP_DIR, run_name, run_time)\n",
    "    create_dir_ifne(run_dir)\n",
    "    fromDirectory = config.CHECKPOINT_DIR\n",
    "    toDirectory = run_dir\n",
    "    copy_tree(fromDirectory, toDirectory)\n",
    "    \n",
    "    if backup_nb:\n",
    "        print(f\"=> backing up notebook... \")\n",
    "        # backup notebook html\n",
    "        nb_name = title + '.ipynb'\n",
    "        html_name = title + '.html'\n",
    "        save_name = os.path.join(run_dir, html_name)\n",
    "        !jupyter nbconvert --to html $nb_name\n",
    "        shutil.move(html_name, save_name)\n",
    "    \n",
    "backup_everything(run_time, run_name, title, backup_nb=ISJUPYTER)"
   ]
  },
  {
   "cell_type": "code",
   "execution_count": 23,
   "metadata": {},
   "outputs": [],
   "source": [
    "if config.auto_hibernate and False:\n",
    "    os.system('shutdown -h')"
   ]
  },
  {
   "cell_type": "code",
   "execution_count": null,
   "metadata": {},
   "outputs": [],
   "source": []
  },
  {
   "cell_type": "code",
   "execution_count": null,
   "metadata": {},
   "outputs": [],
   "source": []
  }
 ],
 "metadata": {
  "colab": {
   "authorship_tag": "ABX9TyOYWQroywTLOsSvW/4lPmBg",
   "collapsed_sections": [],
   "name": "ai6126-project1-colab-v0.1.ipynb",
   "provenance": [],
   "toc_visible": true
  },
  "kernelspec": {
   "display_name": "Python 3",
   "language": "python",
   "name": "python3"
  },
  "language_info": {
   "codemirror_mode": {
    "name": "ipython",
    "version": 3
   },
   "file_extension": ".py",
   "mimetype": "text/x-python",
   "name": "python",
   "nbconvert_exporter": "python",
   "pygments_lexer": "ipython3",
   "version": "3.8.5"
  }
 },
 "nbformat": 4,
 "nbformat_minor": 4
}
