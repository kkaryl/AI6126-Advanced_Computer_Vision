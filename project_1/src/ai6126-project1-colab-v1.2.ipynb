{
 "cells": [
  {
   "cell_type": "markdown",
   "metadata": {
    "id": "UVAZt6s-Fu41"
   },
   "source": [
    "# AI6126 ACV Project 1\n"
   ]
  },
  {
   "cell_type": "code",
   "execution_count": null,
   "metadata": {
    "executionInfo": {
     "elapsed": 1038,
     "status": "ok",
     "timestamp": 1601175331072,
     "user": {
      "displayName": "Jia Hui Ong",
      "photoUrl": "https://lh3.googleusercontent.com/a-/AOh14GiKvHQmYQfzydylrU8HXZxYxJP3L6kGAQ94P-sS=s64",
      "userId": "05957301376516334331"
     },
     "user_tz": -480
    },
    "id": "jzjCg15BeR43"
   },
   "outputs": [],
   "source": [
    "nb_ver = 1.2\n",
    "title = f'ai6126-project1-colab-v{nb_ver}'\n",
    "print(title)\n",
    "comments = \"\"\n",
    "print(comments)"
   ]
  },
  {
   "cell_type": "markdown",
   "metadata": {},
   "source": [
    "## Versioning & References"
   ]
  },
  {
   "cell_type": "markdown",
   "metadata": {
    "id": "4c2s81g4d5PE"
   },
   "source": [
    "### Changelogs\n",
    "+ V0.1 - Setup codes to download and unzip celeba to gDrive\n",
    "+ V0.2 - Added training loop \n",
    "+ V0.3 - Added seeding + save/ load checkpoint\n",
    "+ V0.4 - Added time taken + save output\n",
    "+ V0.5 - Added RandomErasing to transforms\n",
    "+ V0.6 - Added get_criterion (FocalLoss) \n",
    "+ V0.7 - Added FaceAttrMobileNetV2 & FaceAttrResNeXt\n",
    "+ V0.8 - Added Albumentations\n",
    "+ V0.9 - Updated Optimizer (SGD, AdamW works well)\n",
    "+ V0.91 - Added ModelTimer() + Added more augmentations\n",
    "+ V1.0 - Added ReduceLROnPlateau Scheduler\n",
    "+ V1.1 - Updated Augmentations to more closely follow Tricks paper + Added OneCycleLR Scheduler + No bias decay\n",
    "+ V1.2 - Added Early Stopping"
   ]
  },
  {
   "cell_type": "markdown",
   "metadata": {},
   "source": [
    "### ToDo:\n",
    "+ V1.1 - Train with new Augmentations\n",
    "+ V1.1 - Train with OneCycleLR \n",
    "+ V1.1 - Train with no bias decay \n",
    "+ Tune weight decay parameter"
   ]
  },
  {
   "cell_type": "markdown",
   "metadata": {},
   "source": [
    "### References\n",
    "+ [Face Attribute Prediction on CelebA benchmark with PyTorch Implementation](https://github.com/d-li14/face-attribute-prediction)\n",
    "+ [PyTorch Transfer Learning](https://pytorch.org/tutorials/beginner/transfer_learning_tutorial.html)\n",
    "+ [Albumentations](https://albumentations.ai/)\n",
    "+ [Focal Loss](https://github.com/kornia/kornia/blob/master/kornia/losses/focal.py)\n",
    "+ [Bag of Tricks](https://arxiv.org/abs/1812.01187)"
   ]
  },
  {
   "cell_type": "markdown",
   "metadata": {},
   "source": [
    "### Dependencies"
   ]
  },
  {
   "cell_type": "code",
   "execution_count": null,
   "metadata": {},
   "outputs": [],
   "source": [
    "# conda install pytorch torchvision cudatoolkit=10.2 -c pytorch\n",
    "# conda install matplotlib\n",
    "# conda install pandas\n",
    "# conda install tqdm\n",
    "# conda install -c conda-forge jupyterlab\n",
    "# conda install -c conda-forge tensorboard\n",
    "# conda install -c conda-forge protobuf # for tensorboard\n",
    "# conda install nb_conda_kernels # auto add kernels\n",
    "\n",
    "# conda install -c conda-forge imgaug\n",
    "# conda install albumentations -c conda-forge"
   ]
  },
  {
   "cell_type": "markdown",
   "metadata": {
    "id": "UmjjrIheF0u5"
   },
   "source": [
    "## Setup/ Configuration"
   ]
  },
  {
   "cell_type": "markdown",
   "metadata": {},
   "source": [
    "### Colab"
   ]
  },
  {
   "cell_type": "code",
   "execution_count": null,
   "metadata": {
    "colab": {
     "base_uri": "https://localhost:8080/",
     "height": 282
    },
    "executionInfo": {
     "elapsed": 4455,
     "status": "error",
     "timestamp": 1601175336681,
     "user": {
      "displayName": "Jia Hui Ong",
      "photoUrl": "https://lh3.googleusercontent.com/a-/AOh14GiKvHQmYQfzydylrU8HXZxYxJP3L6kGAQ94P-sS=s64",
      "userId": "05957301376516334331"
     },
     "user_tz": -480
    },
    "id": "7mTWwwivDNy3",
    "outputId": "9f87be63-e615-42bf-b306-8a2ec7e2458d"
   },
   "outputs": [],
   "source": [
    "# you can choose to mount your Google Drive (optional)\n",
    "import sys, os\n",
    "if 'google.colab' in sys.modules:\n",
    "    from google.colab import drive\n",
    "    drive.mount('/content/drive')\n",
    "    file_name = f'ai6126-project1-colab-v{nb_ver}.ipynb'\n",
    "    print(file_name)\n",
    "    import subprocess\n",
    "    path_to_file = subprocess.check_output('find . -type f -name ' + str(file_name), shell=True).decode(\"utf-8\")\n",
    "    print(path_to_file)\n",
    "    path_to_file = path_to_file.replace(file_name,\"\").replace('\\n',\"\")\n",
    "    os.chdir(path_to_file)\n",
    "    !pwd"
   ]
  },
  {
   "cell_type": "markdown",
   "metadata": {},
   "source": [
    "### Download Dataset (JUPYTER ONLY)"
   ]
  },
  {
   "cell_type": "code",
   "execution_count": 4,
   "metadata": {},
   "outputs": [
    {
     "name": "stdout",
     "output_type": "stream",
     "text": [
      "download celeba dataset: False\n"
     ]
    }
   ],
   "source": [
    "import os, glob\n",
    "local_download_path = '../data/celeba/img_align_celeba'\n",
    "download_dataset = True\n",
    "if os.path.exists(local_download_path):\n",
    "    images = glob.glob(local_download_path + '/*.jpg')\n",
    "    if len(images) == 202599:\n",
    "        download_dataset = False\n",
    "print(f\"download celeba dataset: {download_dataset}\")\n",
    "\n",
    "if download_dataset:\n",
    "    # create dataset root and enter it\n",
    "    !mkdir -p data/celeba\n",
    "    %cd data/celeba\n",
    "\n",
    "    # we have prepared a backup of `img_align_celeba.zip` of Celeb-A dataset in the Dropbox\n",
    "    # download it directly, or manually download the original file from Google Drive above\n",
    "    !wget https://www.dropbox.com/s/8kzo40fqx7nodat/img_align_celeba.zip\n",
    "\n",
    "    # unzip the downloaded file\n",
    "    !unzip -qq img_align_celeba.zip\n",
    "    !rm -f img_align_celeba.zip\n",
    "\n",
    "    # change the directory back to the root\n",
    "    %cd ../..\n",
    "    !ls"
   ]
  },
  {
   "cell_type": "markdown",
   "metadata": {},
   "source": [
    "## Implementation"
   ]
  },
  {
   "cell_type": "markdown",
   "metadata": {},
   "source": [
    "### Imports"
   ]
  },
  {
   "cell_type": "code",
   "execution_count": 5,
   "metadata": {
    "id": "tEkTpN_qDN5u"
   },
   "outputs": [],
   "source": [
    "import sys, os\n",
    "import shutil\n",
    "import time\n",
    "import random\n",
    "import numpy as np\n",
    "import copy\n",
    "from datetime import datetime\n",
    "from distutils.dir_util import copy_tree #for recursive filecopying\n",
    "\n",
    "import torch\n",
    "import torch.nn as nn\n",
    "import torch.optim as optim\n",
    "from torch.optim import lr_scheduler\n",
    "import torchvision\n",
    "from torchvision import datasets, models, transforms\n",
    "from torch.utils.tensorboard import SummaryWriter\n",
    "\n",
    "import albumentations as A\n",
    "from albumentations.pytorch import ToTensorV2\n",
    "import cv2\n",
    "\n",
    "from tqdm import tqdm\n",
    "import matplotlib.pyplot as plt\n",
    "\n",
    "import config\n",
    "from celeba_dataset import CelebaDataset\n",
    "import models\n",
    "import losses\n",
    "from utils import Logger, AverageMeter, Bar, ModelTimer, savefig, adjust_learning_rate, accuracy, reset_gpu_cache, print_attribute_acc, create_dir_ifne, add_weight_decay"
   ]
  },
  {
   "cell_type": "code",
   "execution_count": 6,
   "metadata": {
    "id": "DCjPfxzUDN3Y"
   },
   "outputs": [
    {
     "name": "stdout",
     "output_type": "stream",
     "text": [
      "1.6.0 True\n",
      "cuda:0\n",
      "disable_tqdm: False\n"
     ]
    }
   ],
   "source": [
    "# check PyTorch version and cuda status\n",
    "print(torch.__version__, torch.cuda.is_available())\n",
    "\n",
    "# define device\n",
    "device = torch.device(\"cuda:\"+config.gpu_id if torch.cuda.is_available() else \"cpu\")\n",
    "print(device)\n",
    "\n",
    "ISJUPYTER = False\n",
    "if 'ipykernel' in sys.modules:\n",
    "    ISJUPYTER = True\n",
    "    # set the backend of matplotlib to the 'inline' backend\n",
    "    %matplotlib inline\n",
    "    config.disable_tqdm = False\n",
    "    \n",
    "print(f\"disable_tqdm: {config.disable_tqdm}\")"
   ]
  },
  {
   "cell_type": "markdown",
   "metadata": {},
   "source": [
    "### Seeding"
   ]
  },
  {
   "cell_type": "code",
   "execution_count": 7,
   "metadata": {
    "colab": {
     "base_uri": "https://localhost:8080/",
     "height": 68
    },
    "executionInfo": {
     "elapsed": 4483,
     "status": "ok",
     "timestamp": 1601174828368,
     "user": {
      "displayName": "Jia Hui Ong",
      "photoUrl": "https://lh3.googleusercontent.com/a-/AOh14GiKvHQmYQfzydylrU8HXZxYxJP3L6kGAQ94P-sS=s64",
      "userId": "05957301376516334331"
     },
     "user_tz": -480
    },
    "id": "9Te1EuMyDN7-",
    "outputId": "e1a9321b-0c11-476e-dea5-57b3fa33f732"
   },
   "outputs": [],
   "source": [
    "# set random seed for reproducibility\n",
    "def seed_everything(seed=None):\n",
    "    if seed is None:\n",
    "        seed = random.randint(1, 10000) # create random seed\n",
    "        print(f'random seed used: {seed}')\n",
    "    os.environ['PYTHONHASHSEED'] = str(seed)\n",
    "    random.seed(seed)\n",
    "    np.random.seed(seed)\n",
    "    if 'torch' in sys.modules:\n",
    "        torch.manual_seed(seed)\n",
    "        torch.cuda.manual_seed_all(seed)\n",
    "        torch.backends.cudnn.deterministic = True\n",
    "        torch.backends.cudnn.benchmark = True\n",
    "    \n",
    "seed_everything(seed=config.manual_seed)"
   ]
  },
  {
   "cell_type": "markdown",
   "metadata": {
    "colab": {
     "base_uri": "https://localhost:8080/",
     "height": 34
    },
    "executionInfo": {
     "elapsed": 7867,
     "status": "ok",
     "timestamp": 1601174831763,
     "user": {
      "displayName": "Jia Hui Ong",
      "photoUrl": "https://lh3.googleusercontent.com/a-/AOh14GiKvHQmYQfzydylrU8HXZxYxJP3L6kGAQ94P-sS=s64",
      "userId": "05957301376516334331"
     },
     "user_tz": -480
    },
    "id": "UeTJbZQ5b_ea",
    "outputId": "de5f0be8-65fe-4648-e719-ff92f2642235",
    "pycharm": {
     "is_executing": true
    }
   },
   "source": [
    "### Data Transform"
   ]
  },
  {
   "cell_type": "code",
   "execution_count": 8,
   "metadata": {
    "pycharm": {
     "is_executing": true
    }
   },
   "outputs": [],
   "source": [
    "# Data augmentation and normalization for training\n",
    "# Just normalization for validation and testing\n",
    "def load_dataloaders(print_info=True, albu_transforms = True):\n",
    "    if config.evaluate:\n",
    "        phases = ['test']\n",
    "    else:\n",
    "        phases = ['train', 'val']\n",
    "\n",
    "    attribute_names = ['5_o_Clock_Shadow', 'Arched_Eyebrows', 'Attractive', 'Bags_Under_Eyes', 'Bald', \n",
    "                       'Bangs', 'Big_Lips', 'Big_Nose', 'Black_Hair', 'Blond_Hair', 'Blurry', 'Brown_Hair', \n",
    "                       'Bushy_Eyebrows', 'Chubby', 'Double_Chin', 'Eyeglasses', 'Goatee', 'Gray_Hair',\n",
    "                       'Heavy_Makeup', 'High_Cheekbones', 'Male', 'Mouth_Slightly_Open', 'Mustache', \n",
    "                       'Narrow_Eyes', 'No_Beard', 'Oval_Face', 'Pale_Skin', 'Pointy_Nose', 'Receding_Hairline',\n",
    "                       'Rosy_Cheeks', 'Sideburns', 'Smiling', 'Straight_Hair', 'Wavy_Hair', 'Wearing_Earrings', \n",
    "                       'Wearing_Hat', 'Wearing_Lipstick', 'Wearing_Necklace', 'Wearing_Necktie', 'Young']\n",
    "    \n",
    "    attributes_list = {\n",
    "        'train': config.TRAIN_ATTRIBUTE_LIST,\n",
    "        'val': config.VAL_ATTRIBUTE_LIST,\n",
    "        'test': config.TEST_ATTRIBUTE_LIST\n",
    "    }\n",
    "\n",
    "    batch_sizes = {\n",
    "        'train': config.train_batch,\n",
    "        'val': config.test_batch,\n",
    "        'test': config.test_batch\n",
    "    }\n",
    "\n",
    "    if not albu_transforms:\n",
    "        normalize = transforms.Normalize(mean=[0.485, 0.456, 0.406], \n",
    "                                         std=[0.229, 0.224, 0.225])\n",
    "        data_transforms = {\n",
    "            'train': transforms.Compose([\n",
    "                transforms.CenterCrop(128), #new\n",
    "                transforms.RandomHorizontalFlip(p=0.5),\n",
    "                transforms.RandomRotation(degrees=10), #new\n",
    "                transforms.ToTensor(),\n",
    "                normalize,\n",
    "                transforms.RandomErasing()\n",
    "            ]),\n",
    "            'val': transforms.Compose([\n",
    "                transforms.Resize(128), #new\n",
    "                transforms.ToTensor(),\n",
    "                normalize\n",
    "            ]),\n",
    "            'test': transforms.Compose([\n",
    "                transforms.Resize(128), #new\n",
    "                transforms.ToTensor(),\n",
    "                normalize\n",
    "            ])\n",
    "        }\n",
    "    else:\n",
    "        normalize_A = A.Normalize(mean=(0.485, 0.456, 0.406), \n",
    "                                  std=(0.229, 0.224, 0.225))\n",
    "        data_transforms = {\n",
    "            'train': A.Compose([\n",
    "                #A.RandomResizedCrop(148, 148), # cuts out too much attributes, use centercrop instead\n",
    "                A.CenterCrop(height=168, width=168),\n",
    "                #A.ShiftScaleRotate(shift_limit=0.05, scale_limit=0.05, \n",
    "                #                  rotate_limit=15, p=0.5), # AFFACT https://arxiv.org/pdf/1611.06158.pdf\n",
    "                A.HorizontalFlip(p=0.5),\n",
    "                A.HueSaturationValue(hue_shift_limit=14, sat_shift_limit=14, val_shift_limit=14, p=0.5),\n",
    "                A.FancyPCA(alpha=0.1, p=0.5), #http://papers.nips.cc/paper/4824-imagenet-classification-with-deep-convolutional-neural-networks.pdf\n",
    "                A.GaussNoise(var_limit=10.0, p=0.5), \n",
    "                A.GaussianBlur(p=0.1), # AFFACT https://arxiv.org/pdf/1611.06158.pdf\n",
    "                #A.CoarseDropout(max_holes=1, max_height=74, max_width=74, \n",
    "                #                min_height=49, min_width=49, fill_value=0, p=0.2), #https://arxiv.org/pdf/1708.04896.pdf\n",
    "                normalize_A,\n",
    "                ToTensorV2(),\n",
    "                \n",
    "            ]),\n",
    "            'val': A.Compose([\n",
    "                #Rescale an image so that minimum side is equal to max_size 178 (shortest edge of Celeba)\n",
    "                A.SmallestMaxSize(max_size=178), \n",
    "                A.CenterCrop(height=168, width=168),\n",
    "                normalize_A,\n",
    "                ToTensorV2(),\n",
    "            ]),\n",
    "            'test': A.Compose([\n",
    "                A.SmallestMaxSize(max_size=178),\n",
    "                A.CenterCrop(height=168, width=168),\n",
    "                normalize_A,\n",
    "                ToTensorV2(),\n",
    "            ])\n",
    "        }\n",
    "\n",
    "    image_datasets = {x: CelebaDataset(config.IMG_DIR, attributes_list[x], \n",
    "                                       data_transforms[x]) \n",
    "                      for x in phases}\n",
    "    dataloaders = {x: torch.utils.data.DataLoader(image_datasets[x], \n",
    "                                                  batch_size=batch_sizes[x],\n",
    "                                                  pin_memory=True, shuffle=(x == 'train'), \n",
    "                                                  num_workers=config.dl_workers) \n",
    "                   for x in phases}\n",
    "    if print_info:\n",
    "        dataset_sizes = {x: len(image_datasets[x]) for x in phases}\n",
    "        print(f\"Dataset sizes: {dataset_sizes}\")\n",
    "        \n",
    "    if config.evaluate:\n",
    "        class_names = image_datasets['test'].targets\n",
    "    else:\n",
    "        class_names = image_datasets['train'].targets\n",
    "    print(f\"Class Labels: {len(class_names[0])}\")\n",
    "    assert len(attribute_names) == len(class_names[0])\n",
    "    return dataloaders, attribute_names"
   ]
  },
  {
   "cell_type": "markdown",
   "metadata": {
    "id": "qtfDq7Z2F6Nh",
    "pycharm": {
     "is_executing": true
    }
   },
   "source": [
    "### Model Architecture Initialization"
   ]
  },
  {
   "cell_type": "code",
   "execution_count": 9,
   "metadata": {
    "pycharm": {
     "is_executing": true
    }
   },
   "outputs": [
    {
     "name": "stdout",
     "output_type": "stream",
     "text": [
      "Available Models: ['FaceAttrMobileNetV2', 'FaceAttrResNeXt', 'FaceAttrResNet']\n"
     ]
    }
   ],
   "source": [
    "model_names = sorted(name for name in models.__dict__\n",
    "                     if callable(models.__dict__[name])) # and name.islower() and not name.startswith(\"__\"))\n",
    "print(f\"Available Models: {model_names}\")"
   ]
  },
  {
   "cell_type": "code",
   "execution_count": 10,
   "metadata": {},
   "outputs": [
    {
     "name": "stdout",
     "output_type": "stream",
     "text": [
      "=> creating model 'FaceAttrResNet'\n"
     ]
    }
   ],
   "source": [
    "def create_model(device):\n",
    "    print(\"=> creating model '{}'\".format(config.arch))\n",
    "    if config.arch.startswith('FaceAttrResNet'):\n",
    "        model = models.__dict__[config.arch](resnet_layers = config.pt_layers)\n",
    "    elif config.arch.startswith('FaceAttrResNeXt'):\n",
    "        model = models.__dict__[config.arch](resnet_layers = config.pt_layers)\n",
    "    elif config.arch.startswith('FaceAttrMobileNetV2'):\n",
    "        model = models.__dict__[config.arch]()\n",
    "    #print(model)\n",
    "    model = model.to(device)\n",
    "    return model\n",
    "#print(model)\n",
    "model = create_model(device)"
   ]
  },
  {
   "cell_type": "markdown",
   "metadata": {},
   "source": [
    "### Criterion & Optimizer & Scheduler"
   ]
  },
  {
   "cell_type": "code",
   "execution_count": 11,
   "metadata": {
    "pycharm": {
     "is_executing": true
    }
   },
   "outputs": [],
   "source": [
    "def get_criterion():\n",
    "    criterion = nn.CrossEntropyLoss().to(device)\n",
    "    if config.criterion == 'BinaryFocalLoss':\n",
    "        criterion = losses.BinaryFocalLoss().to(device)\n",
    "    elif config.criterion == 'FocalLoss':\n",
    "        criterion = losses.FocalLoss(alpha=0.25, gamma=5, reduction='mean').to(device)\n",
    "    return criterion\n",
    "\n",
    "criterion = get_criterion()"
   ]
  },
  {
   "cell_type": "code",
   "execution_count": 12,
   "metadata": {},
   "outputs": [],
   "source": [
    "def get_optimizer(model, no_bias_bn_decay=True):\n",
    "    weight_decay = config.weight_decay\n",
    "    if no_bias_bn_decay: #bag of tricks paper\n",
    "        parameters = add_weight_decay(model, weight_decay)\n",
    "        weight_decay = 0.\n",
    "    else:\n",
    "        parameters = model.parameters()\n",
    "        \n",
    "    optimizer = torch.optim.SGD(parameters, config.lr,\n",
    "                            momentum=config.momentum,\n",
    "                            weight_decay=weight_decay)\n",
    "    if config.optimizer == 'Adam':\n",
    "        optimizer = torch.optim.Adam(parameters, config.lr,\n",
    "                            weight_decay=weight_decay)\n",
    "    elif config.optimizer == 'AdamW':\n",
    "        optimizer = torch.optim.AdamW(parameters, config.lr,\n",
    "                            weight_decay=weight_decay)\n",
    "    return optimizer\n",
    "\n",
    "optimizer = get_optimizer(model)"
   ]
  },
  {
   "cell_type": "code",
   "execution_count": 13,
   "metadata": {},
   "outputs": [],
   "source": [
    "def get_scheduler(optimizer, steps_per_epoch, epochs):\n",
    "    scheduler = None # Manual\n",
    "    if config.scheduler == 'ReduceLROnPlateau':\n",
    "        scheduler = torch.optim.lr_scheduler.ReduceLROnPlateau(optimizer, 'min',\n",
    "                                                               factor=0.1,\n",
    "                                                               patience=config.patience)\n",
    "    elif config.scheduler == 'OneCycleLR': \n",
    "        scheduler = torch.optim.lr_scheduler.OneCycleLR(optimizer, max_lr=0.1, epochs=epochs,\n",
    "                                                        steps_per_epoch=int(steps_per_epoch), \n",
    "                                                        anneal_strategy='cos') #https://arxiv.org/pdf/1708.07120.pdf\n",
    "    return scheduler    "
   ]
  },
  {
   "cell_type": "markdown",
   "metadata": {},
   "source": [
    "### Resume Checkpoint if any"
   ]
  },
  {
   "cell_type": "code",
   "execution_count": 14,
   "metadata": {},
   "outputs": [],
   "source": [
    "def resume_checkpoint(model, optimizer, ckp_logger_fname, ckp_resume=None):\n",
    "    if not os.path.isdir(config.CHECKPOINT_DIR):\n",
    "        try: \n",
    "            os.makedirs(config.CHECKPOINT_DIR)\n",
    "        except OSError:\n",
    "            raise\n",
    "            \n",
    "    start_epoch = 0\n",
    "    best_prec1 = 0\n",
    "    lr = config.lr\n",
    "\n",
    "    if ckp_resume and os.path.isfile(ckp_resume): \n",
    "        print(f\"=> resuming model: {ckp_resume}\")\n",
    "        optimizer, start_epoch, best_prec1, lr, total_train_time = model.load_ckp(optimizer, ckp_resume)\n",
    "        model_timer = ModelTimer(total_train_time)\n",
    "        if config.scheduler == 'Manual':\n",
    "            lr = config.lr # self adjust from original\n",
    "        config.checkpoint = os.path.dirname(ckp_resume)\n",
    "        logger = Logger(ckp_logger_fname, title=model.name, resume=True)\n",
    "    else:\n",
    "        model_timer = ModelTimer()\n",
    "        logger = Logger(ckp_logger_fname, title=model.name)\n",
    "        logger.set_names(['Learning Rate', 'Train Loss', 'Valid Loss', 'Train Acc.', 'Valid Acc.'])\n",
    "        \n",
    "        \n",
    "    return best_prec1, model_timer, lr, start_epoch, logger\n",
    "\n",
    "# best_prec1, mt, lr, start_epoch, logger = resume_checkpoint(model, optimizer, config.ckp_logger_fname, config.ckp_resume)\n",
    "# print(f\"=> Model trained time: {mt}\")"
   ]
  },
  {
   "cell_type": "markdown",
   "metadata": {},
   "source": [
    "## Train & Validate Function"
   ]
  },
  {
   "cell_type": "code",
   "execution_count": 15,
   "metadata": {},
   "outputs": [],
   "source": [
    "def train(train_loader, model, criterion, optimizer):\n",
    "    bar = Bar('Processing', max=len(train_loader))\n",
    "\n",
    "    batch_time = AverageMeter()\n",
    "    data_time = AverageMeter()\n",
    "    losses = [AverageMeter() for _ in range(40)]\n",
    "    top1 = [AverageMeter() for _ in range(40)]\n",
    "\n",
    "    # switch to train mode\n",
    "    model.train()\n",
    "\n",
    "    end = time.time()\n",
    "    for i, (X, y) in enumerate(tqdm(train_loader, disable=config.disable_tqdm)):\n",
    "        # measure data loading time\n",
    "        data_time.update(time.time() - end)\n",
    "\n",
    "        # Overlapping transfer if pinned memory\n",
    "        X = X.to(device, non_blocking=True)\n",
    "        y = y.to(device, non_blocking=True)\n",
    "    \n",
    "        # compute output\n",
    "        output = model(X)\n",
    "        # measure accuracy and record loss\n",
    "        loss = []\n",
    "        prec1 = []\n",
    "        for j in range(len(output)): \n",
    "            crit = criterion(output[j], y[:, j])\n",
    "            loss.append(crit)\n",
    "            prec1.append(accuracy(output[j], y[:, j], topk=(1,)))\n",
    "            losses[j].update(loss[j].detach().item(), X.size(0))\n",
    "            top1[j].update(prec1[j][0].item(), X.size(0))\n",
    "            \n",
    "        losses_avg = [losses[k].avg for k in range(len(losses))]\n",
    "        top1_avg = [top1[k].avg for k in range(len(top1))]\n",
    "        loss_avg = sum(losses_avg) / len(losses_avg)\n",
    "        prec1_avg = sum(top1_avg) / len(top1_avg)\n",
    "\n",
    "        # compute gradient and do optimizer step\n",
    "        optimizer.zero_grad()\n",
    "        loss_sum = sum(loss)\n",
    "        loss_sum.backward()\n",
    "        optimizer.step()\n",
    "\n",
    "        # measure elapsed time\n",
    "        batch_time.update(time.time() - end)\n",
    "        end = time.time()\n",
    "\n",
    "        # plot progress\n",
    "        print_line = '({batch}/{size}) Data: {data:.3f}s | Batch: {bt:.3f}s | Total: {total:} | ETA: {eta:} | Loss: {loss:.4f} | top1: {top1: .4f}'.format(\n",
    "                        batch=i + 1,\n",
    "                        size=len(train_loader),\n",
    "                        data=data_time.avg,\n",
    "                        bt=batch_time.avg,\n",
    "                        total=bar.elapsed_td,\n",
    "                        eta=bar.eta_td,\n",
    "                        loss=loss_avg,\n",
    "                        top1=prec1_avg,\n",
    "                        )\n",
    "        if not config.disable_tqdm and (i+1)% 100 == 0:\n",
    "            print(print_line)\n",
    "        bar.suffix  = print_line\n",
    "        bar.next()\n",
    "    bar.finish()\n",
    "    return (loss_avg, prec1_avg)"
   ]
  },
  {
   "cell_type": "code",
   "execution_count": 16,
   "metadata": {},
   "outputs": [],
   "source": [
    "def validate(val_loader, model, criterion):\n",
    "    bar = Bar('Processing', max=len(val_loader))\n",
    "\n",
    "    batch_time = AverageMeter()\n",
    "    data_time = AverageMeter()\n",
    "    losses = [AverageMeter() for _ in range(40)]\n",
    "    top1 = [AverageMeter() for _ in range(40)]\n",
    "\n",
    "    # switch to evaluate mode\n",
    "    model.eval()\n",
    "\n",
    "    with torch.no_grad():\n",
    "        end = time.time()\n",
    "        for i, (X, y) in enumerate(tqdm(val_loader, disable=config.disable_tqdm)):\n",
    "            # measure data loading time\n",
    "            data_time.update(time.time() - end)\n",
    "\n",
    "            # Overlapping transfer if pinned memory\n",
    "            X = X.to(device, non_blocking=True)\n",
    "            y = y.to(device, non_blocking=True)\n",
    "\n",
    "            # compute output\n",
    "            output = model(X)\n",
    "            # measure accuracy and record loss\n",
    "            loss = []\n",
    "            prec1 = []\n",
    "            for j in range(len(output)):\n",
    "                loss.append(criterion(output[j], y[:, j]))\n",
    "                prec1.append(accuracy(output[j], y[:, j], topk=(1,)))\n",
    "                \n",
    "                losses[j].update(loss[j].detach().item(), X.size(0))\n",
    "                top1[j].update(prec1[j][0].item(), X.size(0))\n",
    "            losses_avg = [losses[k].avg for k in range(len(losses))]\n",
    "            top1_avg = [top1[k].avg for k in range(len(top1))]\n",
    "            loss_avg = sum(losses_avg) / len(losses_avg)\n",
    "            prec1_avg = sum(top1_avg) / len(top1_avg)\n",
    "\n",
    "            # measure elapsed time\n",
    "            batch_time.update(time.time() - end)\n",
    "            end = time.time()\n",
    "            \n",
    "            # plot progress\n",
    "            print_line = '({batch}/{size}) Data: {data:.3f}s | Batch: {bt:.3f}s | Total: {total:} | ETA: {eta:} | Loss: {loss:.4f} | top1: {top1: .4f}'.format(\n",
    "                            batch=i + 1,\n",
    "                            size=len(val_loader),\n",
    "                            data=data_time.avg,\n",
    "                            bt=batch_time.avg,\n",
    "                            total=bar.elapsed_td,\n",
    "                            eta=bar.eta_td,\n",
    "                            loss=loss_avg,\n",
    "                            top1=prec1_avg,\n",
    "                            )\n",
    "\n",
    "            bar.suffix  = print_line\n",
    "            bar.next()  \n",
    "\n",
    "    if not config.disable_tqdm:\n",
    "        print(print_line)        \n",
    "    bar.finish()\n",
    "    return (loss_avg, prec1_avg, top1)"
   ]
  },
  {
   "cell_type": "markdown",
   "metadata": {},
   "source": [
    "## Main Function"
   ]
  },
  {
   "cell_type": "code",
   "execution_count": 17,
   "metadata": {},
   "outputs": [],
   "source": [
    "def trainer(dataloaders, model, criterion, optimizer, logger, start_epoch, best_prec1, run_name, model_timer):\n",
    "    # visualization\n",
    "    writer = SummaryWriter(os.path.join(config.tensorboard_dir, run_name))\n",
    "    \n",
    "    scheduler = get_scheduler(optimizer, len(dataloaders['train']), config.epochs-start_epoch)\n",
    "    \n",
    "    stagnant_val_loss_ctr = 0\n",
    "    min_val_loss = 1.\n",
    "    \n",
    "    for epoch in range(start_epoch, config.epochs):\n",
    "        model_timer.start_epoch_timer()\n",
    "        if not scheduler:\n",
    "            lr = adjust_learning_rate(optimizer, config.lr_decay, epoch, gamma=config.gamma, step=config.step,\n",
    "                                     total_epochs=config.epochs, turning_point=config.turning_point,\n",
    "                                     schedule=config.schedule)\n",
    "        else:\n",
    "            lr = optimizer.param_groups[0]['lr']\n",
    "\n",
    "        print('\\nEpoch: [%d | %d] LR: %.16f' % (epoch + 1, config.epochs, lr))\n",
    "\n",
    "        # train for one epoch\n",
    "        train_loss, train_acc = train(dataloaders['train'], model, criterion, optimizer)\n",
    "\n",
    "        # evaluate on validation set\n",
    "        val_loss, prec1, _ = validate(dataloaders['val'], model, criterion)\n",
    "        \n",
    "        if scheduler:\n",
    "            scheduler.step(None if config.scheduler != 'ReduceLROnPlateau' else val_loss)\n",
    "            \n",
    "        # append logger file\n",
    "        logger.append([lr, train_loss, val_loss, train_acc, prec1])\n",
    "\n",
    "        # tensorboardX\n",
    "        writer.add_scalar('learning rate', lr, epoch + 1)\n",
    "        writer.add_scalars('loss', {'train loss': train_loss, 'validation loss': val_loss}, epoch + 1)\n",
    "        writer.add_scalars('accuracy', {'train accuracy': train_acc, 'validation accuracy': prec1}, epoch + 1)\n",
    "\n",
    "        is_best = prec1 > best_prec1\n",
    "        best_prec1 = max(prec1, best_prec1)\n",
    "        model_timer.stop_epoch_timer()\n",
    "        model.save_ckp({\n",
    "            'epoch': epoch + 1,\n",
    "            'arch': model.name,\n",
    "            'state_dict': model.state_dict(),\n",
    "            'best_prec1': best_prec1,\n",
    "            'optimizer' : optimizer.state_dict(),\n",
    "            'lr': lr,\n",
    "            'total_time': model_timer.total_time\n",
    "        }, is_best, config.checkpoint_fname,config.bestmodel_fname)\n",
    "        \n",
    "        if config.early_stopping:\n",
    "            if val_loss >= min_val_loss:\n",
    "                stagnant_val_loss_ctr += 1\n",
    "                if stagnant_val_loss_ctr > config.es_min and stagnant_val_loss_ctr >= config.es_patience: \n",
    "                    break\n",
    "            else:\n",
    "                min_val_loss = val_loss\n",
    "\n",
    "    logger.close()\n",
    "    logger.plot()\n",
    "    save_path = None\n",
    "    if config.train_saveplot:\n",
    "        save_path = os.path.join(config.CHECKPOINT_DIR, \"losses.jpg\")\n",
    "    logger.plot_special(save_path)\n",
    "    savefig(config.train_plotfig)\n",
    "    writer.close()\n",
    "\n",
    "    print('Best accuracy:')\n",
    "    print(best_prec1)\n",
    "    return model_timer"
   ]
  },
  {
   "cell_type": "code",
   "execution_count": 18,
   "metadata": {},
   "outputs": [],
   "source": [
    "def get_run_name_time(model, criterion, optimizer, comments):\n",
    "    try:\n",
    "        if criterion.name:\n",
    "            p_criterion = criterion.name\n",
    "    except:\n",
    "        p_criterion = 'CE'\n",
    "\n",
    "    p_optimizer = f'{str(optimizer).split(\"(\")[0].strip()}'\n",
    "    p_scheduler = f'{config.lr_decay}_lr{config.lr}_wd{config.weight_decay}'\n",
    "    if config.scheduler == 'Manual':\n",
    "        if config.lr_decay == 'step':\n",
    "            p_scheduler += f'_g{config.gamma}_sp{config.step}'\n",
    "        elif config.lr_decay == 'linear2exp':\n",
    "            p_scheduler += f'_g{config.gamma}_tp{config.turning_point}'\n",
    "        elif config.lr_decay == 'schedule':\n",
    "            p_scheduler += f'_g{config.gamma}_sch{config.schedule}'\n",
    "    else: \n",
    "        p_scheduler += f'_{config.scheduler}'\n",
    "    \n",
    "\n",
    "    run_name = f'{model.name}_{config.manual_seed}_s{start_epoch}e{config.epochs}_' \\\n",
    "                + f'tb{config.train_batch}_vb{config.test_batch}_' \\\n",
    "                + f'{p_criterion}_{p_optimizer}_' \\\n",
    "                + f'{comments}_' \\\n",
    "                + f'{p_scheduler}'\n",
    "    \n",
    "    run_time = datetime.now().strftime(\"%Y%m%d_%H%M%S\")\n",
    "    print(run_name, run_time)\n",
    "    return run_name, run_time"
   ]
  },
  {
   "cell_type": "markdown",
   "metadata": {},
   "source": [
    "## Training Loop"
   ]
  },
  {
   "cell_type": "code",
   "execution_count": 19,
   "metadata": {
    "id": "PWCHnDeVD4WT",
    "pycharm": {
     "is_executing": true
    }
   },
   "outputs": [
    {
     "name": "stdout",
     "output_type": "stream",
     "text": [
      "=> creating model 'FaceAttrResNet'\n"
     ]
    },
    {
     "name": "stderr",
     "output_type": "stream",
     "text": [
      "  0%|                                                                                          | 0/636 [00:00<?, ?it/s]"
     ]
    },
    {
     "name": "stdout",
     "output_type": "stream",
     "text": [
      "Dataset sizes: {'train': 162770, 'val': 19867}\n",
      "Class Labels: 40\n",
      "=> Training model: True\n",
      "FaceAttrResNet18_42_s0e50_tb256_vb128_CE_SGD_AUFLNB_step_lr0.01_wd0.0001_g0.1_sp30 20201011_170037\n",
      "\n",
      "Epoch: [1 | 50] LR: 0.0100000000000000\n"
     ]
    },
    {
     "name": "stderr",
     "output_type": "stream",
     "text": [
      " 16%|████████████▌                                                                   | 100/636 [01:06<04:15,  2.10it/s]"
     ]
    },
    {
     "name": "stdout",
     "output_type": "stream",
     "text": [
      "(100/636) Data: 0.120s | Batch: 0.660s | Total: 0:01:06 | ETA: 0:04:14 | Loss: 0.2738 | top1:  87.9736\n"
     ]
    },
    {
     "name": "stderr",
     "output_type": "stream",
     "text": [
      " 31%|█████████████████████████▏                                                      | 200/636 [01:54<03:35,  2.02it/s]"
     ]
    },
    {
     "name": "stdout",
     "output_type": "stream",
     "text": [
      "(200/636) Data: 0.061s | Batch: 0.571s | Total: 0:01:54 | ETA: 0:03:33 | Loss: 0.2466 | top1:  89.1312\n"
     ]
    },
    {
     "name": "stderr",
     "output_type": "stream",
     "text": [
      " 47%|█████████████████████████████████████▋                                          | 300/636 [02:45<02:49,  1.98it/s]"
     ]
    },
    {
     "name": "stdout",
     "output_type": "stream",
     "text": [
      "(300/636) Data: 0.041s | Batch: 0.551s | Total: 0:02:45 | ETA: 0:02:53 | Loss: 0.2347 | top1:  89.6322\n"
     ]
    },
    {
     "name": "stderr",
     "output_type": "stream",
     "text": [
      " 63%|██████████████████████████████████████████████████▎                             | 400/636 [03:38<02:05,  1.88it/s]"
     ]
    },
    {
     "name": "stdout",
     "output_type": "stream",
     "text": [
      "(400/636) Data: 0.031s | Batch: 0.546s | Total: 0:03:38 | ETA: 0:02:08 | Loss: 0.2275 | top1:  89.9415\n"
     ]
    },
    {
     "name": "stderr",
     "output_type": "stream",
     "text": [
      " 79%|██████████████████████████████████████████████████████████████▉                 | 500/636 [04:32<01:15,  1.80it/s]"
     ]
    },
    {
     "name": "stdout",
     "output_type": "stream",
     "text": [
      "(500/636) Data: 0.025s | Batch: 0.545s | Total: 0:04:32 | ETA: 0:01:16 | Loss: 0.2226 | top1:  90.1566\n"
     ]
    },
    {
     "name": "stderr",
     "output_type": "stream",
     "text": [
      " 94%|███████████████████████████████████████████████████████████████████████████▍    | 600/636 [05:26<00:20,  1.75it/s]"
     ]
    },
    {
     "name": "stdout",
     "output_type": "stream",
     "text": [
      "(600/636) Data: 0.021s | Batch: 0.545s | Total: 0:05:26 | ETA: 0:00:21 | Loss: 0.2191 | top1:  90.3097\n"
     ]
    },
    {
     "name": "stderr",
     "output_type": "stream",
     "text": [
      "100%|████████████████████████████████████████████████████████████████████████████████| 636/636 [05:50<00:00,  1.81it/s]\n",
      "100%|████████████████████████████████████████████████████████████████████████████████| 156/156 [00:22<00:00,  6.90it/s]\n"
     ]
    },
    {
     "name": "stdout",
     "output_type": "stream",
     "text": [
      "(156/156) Data: 0.051s | Batch: 0.142s | Total: 0:00:22 | ETA: 0:00:01 | Loss: 0.1944 | top1:  91.4518\n",
      "=> saving checkpoint 'checkpoints\\checkpoint.pth.tar'\n",
      "=> saving best model 'checkpoints\\model_best.pth.tar'\n",
      "\n",
      "Epoch: [2 | 50] LR: 0.0100000000000000"
     ]
    },
    {
     "name": "stderr",
     "output_type": "stream",
     "text": [
      "  0%|                                                                                          | 0/636 [00:00<?, ?it/s]"
     ]
    },
    {
     "name": "stdout",
     "output_type": "stream",
     "text": [
      "\n"
     ]
    },
    {
     "name": "stderr",
     "output_type": "stream",
     "text": [
      " 16%|████████████▌                                                                   | 100/636 [01:03<04:55,  1.81it/s]"
     ]
    },
    {
     "name": "stdout",
     "output_type": "stream",
     "text": [
      "(100/636) Data: 0.113s | Batch: 0.633s | Total: 0:01:03 | ETA: 0:04:56 | Loss: 0.1966 | top1:  91.2875\n"
     ]
    },
    {
     "name": "stderr",
     "output_type": "stream",
     "text": [
      " 31%|█████████████████████████▏                                                      | 200/636 [01:56<03:56,  1.84it/s]"
     ]
    },
    {
     "name": "stdout",
     "output_type": "stream",
     "text": [
      "(200/636) Data: 0.057s | Batch: 0.583s | Total: 0:01:56 | ETA: 0:03:56 | Loss: 0.1957 | top1:  91.3371\n"
     ]
    },
    {
     "name": "stderr",
     "output_type": "stream",
     "text": [
      " 47%|█████████████████████████████████████▋                                          | 300/636 [02:53<03:14,  1.73it/s]"
     ]
    },
    {
     "name": "stdout",
     "output_type": "stream",
     "text": [
      "(300/636) Data: 0.039s | Batch: 0.577s | Total: 0:02:53 | ETA: 0:03:18 | Loss: 0.1954 | top1:  91.3517\n"
     ]
    },
    {
     "name": "stderr",
     "output_type": "stream",
     "text": [
      " 63%|██████████████████████████████████████████████████▎                             | 400/636 [03:50<02:09,  1.83it/s]"
     ]
    },
    {
     "name": "stdout",
     "output_type": "stream",
     "text": [
      "(400/636) Data: 0.029s | Batch: 0.577s | Total: 0:03:50 | ETA: 0:02:12 | Loss: 0.1950 | top1:  91.3730\n"
     ]
    },
    {
     "name": "stderr",
     "output_type": "stream",
     "text": [
      " 79%|██████████████████████████████████████████████████████████████▉                 | 500/636 [04:49<01:27,  1.55it/s]"
     ]
    },
    {
     "name": "stdout",
     "output_type": "stream",
     "text": [
      "(500/636) Data: 0.024s | Batch: 0.579s | Total: 0:04:49 | ETA: 0:01:30 | Loss: 0.1946 | top1:  91.3934\n"
     ]
    },
    {
     "name": "stderr",
     "output_type": "stream",
     "text": [
      " 94%|███████████████████████████████████████████████████████████████████████████▍    | 600/636 [05:46<00:19,  1.80it/s]"
     ]
    },
    {
     "name": "stdout",
     "output_type": "stream",
     "text": [
      "(600/636) Data: 0.020s | Batch: 0.578s | Total: 0:05:46 | ETA: 0:00:21 | Loss: 0.1940 | top1:  91.4167\n"
     ]
    },
    {
     "name": "stderr",
     "output_type": "stream",
     "text": [
      "100%|████████████████████████████████████████████████████████████████████████████████| 636/636 [06:08<00:00,  1.72it/s]\n",
      "100%|████████████████████████████████████████████████████████████████████████████████| 156/156 [00:21<00:00,  7.33it/s]\n"
     ]
    },
    {
     "name": "stdout",
     "output_type": "stream",
     "text": [
      "(156/156) Data: 0.043s | Batch: 0.133s | Total: 0:00:20 | ETA: 0:00:01 | Loss: 0.1904 | top1:  91.6647\n",
      "=> saving checkpoint 'checkpoints\\checkpoint.pth.tar'\n",
      "=> saving best model 'checkpoints\\model_best.pth.tar'\n"
     ]
    },
    {
     "name": "stderr",
     "output_type": "stream",
     "text": [
      "  0%|                                                                                          | 0/636 [00:00<?, ?it/s]"
     ]
    },
    {
     "name": "stdout",
     "output_type": "stream",
     "text": [
      "\n",
      "Epoch: [3 | 50] LR: 0.0100000000000000\n"
     ]
    },
    {
     "name": "stderr",
     "output_type": "stream",
     "text": [
      " 16%|████████████▌                                                                   | 100/636 [01:05<05:26,  1.64it/s]"
     ]
    },
    {
     "name": "stdout",
     "output_type": "stream",
     "text": [
      "(100/636) Data: 0.121s | Batch: 0.659s | Total: 0:01:05 | ETA: 0:05:24 | Loss: 0.1871 | top1:  91.7011\n"
     ]
    },
    {
     "name": "stderr",
     "output_type": "stream",
     "text": [
      " 31%|█████████████████████████▏                                                      | 200/636 [02:03<04:18,  1.69it/s]"
     ]
    },
    {
     "name": "stdout",
     "output_type": "stream",
     "text": [
      "(200/636) Data: 0.062s | Batch: 0.620s | Total: 0:02:03 | ETA: 0:04:09 | Loss: 0.1874 | top1:  91.6907\n"
     ]
    },
    {
     "name": "stderr",
     "output_type": "stream",
     "text": [
      " 47%|█████████████████████████████████████▋                                          | 300/636 [03:01<03:00,  1.87it/s]"
     ]
    },
    {
     "name": "stdout",
     "output_type": "stream",
     "text": [
      "(300/636) Data: 0.042s | Batch: 0.605s | Total: 0:03:01 | ETA: 0:03:03 | Loss: 0.1875 | top1:  91.6939\n"
     ]
    },
    {
     "name": "stderr",
     "output_type": "stream",
     "text": [
      " 63%|██████████████████████████████████████████████████▎                             | 400/636 [03:58<02:11,  1.79it/s]"
     ]
    },
    {
     "name": "stdout",
     "output_type": "stream",
     "text": [
      "(400/636) Data: 0.032s | Batch: 0.596s | Total: 0:03:58 | ETA: 0:02:16 | Loss: 0.1875 | top1:  91.6992\n"
     ]
    },
    {
     "name": "stderr",
     "output_type": "stream",
     "text": [
      " 79%|██████████████████████████████████████████████████████████████▉                 | 500/636 [04:54<01:15,  1.81it/s]"
     ]
    },
    {
     "name": "stdout",
     "output_type": "stream",
     "text": [
      "(500/636) Data: 0.026s | Batch: 0.589s | Total: 0:04:54 | ETA: 0:01:17 | Loss: 0.1875 | top1:  91.6938\n"
     ]
    },
    {
     "name": "stderr",
     "output_type": "stream",
     "text": [
      " 94%|███████████████████████████████████████████████████████████████████████████▍    | 600/636 [05:50<00:19,  1.87it/s]"
     ]
    },
    {
     "name": "stdout",
     "output_type": "stream",
     "text": [
      "(600/636) Data: 0.022s | Batch: 0.583s | Total: 0:05:50 | ETA: 0:00:21 | Loss: 0.1874 | top1:  91.6969\n"
     ]
    },
    {
     "name": "stderr",
     "output_type": "stream",
     "text": [
      "100%|████████████████████████████████████████████████████████████████████████████████| 636/636 [06:10<00:00,  1.72it/s]\n",
      "100%|████████████████████████████████████████████████████████████████████████████████| 156/156 [00:21<00:00,  7.24it/s]\n"
     ]
    },
    {
     "name": "stdout",
     "output_type": "stream",
     "text": [
      "(156/156) Data: 0.043s | Batch: 0.135s | Total: 0:00:20 | ETA: 0:00:01 | Loss: 0.1894 | top1:  91.7371\n",
      "=> saving checkpoint 'checkpoints\\checkpoint.pth.tar'\n",
      "=> saving best model 'checkpoints\\model_best.pth.tar'\n"
     ]
    },
    {
     "name": "stderr",
     "output_type": "stream",
     "text": [
      "  0%|                                                                                          | 0/636 [00:00<?, ?it/s]"
     ]
    },
    {
     "name": "stdout",
     "output_type": "stream",
     "text": [
      "\n",
      "Epoch: [4 | 50] LR: 0.0100000000000000\n"
     ]
    },
    {
     "name": "stderr",
     "output_type": "stream",
     "text": [
      " 16%|████████████▌                                                                   | 100/636 [01:06<05:13,  1.71it/s]"
     ]
    },
    {
     "name": "stdout",
     "output_type": "stream",
     "text": [
      "(100/636) Data: 0.118s | Batch: 0.662s | Total: 0:01:06 | ETA: 0:05:14 | Loss: 0.1821 | top1:  91.9467\n"
     ]
    },
    {
     "name": "stderr",
     "output_type": "stream",
     "text": [
      " 31%|█████████████████████████▏                                                      | 200/636 [02:04<03:45,  1.93it/s]"
     ]
    },
    {
     "name": "stdout",
     "output_type": "stream",
     "text": [
      "(200/636) Data: 0.060s | Batch: 0.622s | Total: 0:02:04 | ETA: 0:03:53 | Loss: 0.1830 | top1:  91.8991\n"
     ]
    },
    {
     "name": "stderr",
     "output_type": "stream",
     "text": [
      " 47%|█████████████████████████████████████▋                                          | 300/636 [03:00<03:02,  1.84it/s]"
     ]
    },
    {
     "name": "stdout",
     "output_type": "stream",
     "text": [
      "(300/636) Data: 0.041s | Batch: 0.601s | Total: 0:03:00 | ETA: 0:03:01 | Loss: 0.1830 | top1:  91.9029\n"
     ]
    },
    {
     "name": "stderr",
     "output_type": "stream",
     "text": [
      " 63%|██████████████████████████████████████████████████▎                             | 400/636 [03:54<02:09,  1.82it/s]"
     ]
    },
    {
     "name": "stdout",
     "output_type": "stream",
     "text": [
      "(400/636) Data: 0.031s | Batch: 0.587s | Total: 0:03:54 | ETA: 0:02:10 | Loss: 0.1829 | top1:  91.9083\n"
     ]
    },
    {
     "name": "stderr",
     "output_type": "stream",
     "text": [
      " 79%|██████████████████████████████████████████████████████████████▉                 | 500/636 [04:49<01:12,  1.87it/s]"
     ]
    },
    {
     "name": "stdout",
     "output_type": "stream",
     "text": [
      "(500/636) Data: 0.025s | Batch: 0.578s | Total: 0:04:49 | ETA: 0:01:15 | Loss: 0.1831 | top1:  91.8994\n"
     ]
    },
    {
     "name": "stderr",
     "output_type": "stream",
     "text": [
      " 94%|███████████████████████████████████████████████████████████████████████████▍    | 600/636 [05:43<00:19,  1.82it/s]"
     ]
    },
    {
     "name": "stdout",
     "output_type": "stream",
     "text": [
      "(600/636) Data: 0.021s | Batch: 0.572s | Total: 0:05:43 | ETA: 0:00:21 | Loss: 0.1830 | top1:  91.8975\n"
     ]
    },
    {
     "name": "stderr",
     "output_type": "stream",
     "text": [
      "100%|████████████████████████████████████████████████████████████████████████████████| 636/636 [06:03<00:00,  1.75it/s]\n",
      "100%|████████████████████████████████████████████████████████████████████████████████| 156/156 [00:20<00:00,  7.55it/s]\n"
     ]
    },
    {
     "name": "stdout",
     "output_type": "stream",
     "text": [
      "(156/156) Data: 0.043s | Batch: 0.129s | Total: 0:00:20 | ETA: 0:00:01 | Loss: 0.1858 | top1:  91.8702\n",
      "=> saving checkpoint 'checkpoints\\checkpoint.pth.tar'\n",
      "=> saving best model 'checkpoints\\model_best.pth.tar'\n"
     ]
    },
    {
     "name": "stderr",
     "output_type": "stream",
     "text": [
      "  0%|                                                                                          | 0/636 [00:00<?, ?it/s]"
     ]
    },
    {
     "name": "stdout",
     "output_type": "stream",
     "text": [
      "\n",
      "Epoch: [5 | 50] LR: 0.0100000000000000\n"
     ]
    },
    {
     "name": "stderr",
     "output_type": "stream",
     "text": [
      " 16%|████████████▌                                                                   | 100/636 [01:02<04:42,  1.90it/s]"
     ]
    },
    {
     "name": "stdout",
     "output_type": "stream",
     "text": [
      "(100/636) Data: 0.111s | Batch: 0.627s | Total: 0:01:02 | ETA: 0:04:40 | Loss: 0.1786 | top1:  92.1018\n"
     ]
    },
    {
     "name": "stderr",
     "output_type": "stream",
     "text": [
      " 31%|█████████████████████████▏                                                      | 200/636 [01:59<03:53,  1.87it/s]"
     ]
    },
    {
     "name": "stdout",
     "output_type": "stream",
     "text": [
      "(200/636) Data: 0.056s | Batch: 0.598s | Total: 0:01:59 | ETA: 0:03:56 | Loss: 0.1787 | top1:  92.0896\n"
     ]
    },
    {
     "name": "stderr",
     "output_type": "stream",
     "text": [
      " 47%|█████████████████████████████████████▋                                          | 300/636 [02:53<03:03,  1.83it/s]"
     ]
    },
    {
     "name": "stdout",
     "output_type": "stream",
     "text": [
      "(300/636) Data: 0.038s | Batch: 0.578s | Total: 0:02:53 | ETA: 0:03:03 | Loss: 0.1790 | top1:  92.0676\n"
     ]
    },
    {
     "name": "stderr",
     "output_type": "stream",
     "text": [
      " 63%|██████████████████████████████████████████████████▎                             | 400/636 [03:47<02:06,  1.86it/s]"
     ]
    },
    {
     "name": "stdout",
     "output_type": "stream",
     "text": [
      "(400/636) Data: 0.029s | Batch: 0.569s | Total: 0:03:47 | ETA: 0:02:08 | Loss: 0.1792 | top1:  92.0597\n"
     ]
    },
    {
     "name": "stderr",
     "output_type": "stream",
     "text": [
      " 79%|██████████████████████████████████████████████████████████████▉                 | 500/636 [04:41<01:12,  1.88it/s]"
     ]
    },
    {
     "name": "stdout",
     "output_type": "stream",
     "text": [
      "(500/636) Data: 0.024s | Batch: 0.563s | Total: 0:04:41 | ETA: 0:01:15 | Loss: 0.1793 | top1:  92.0569\n"
     ]
    },
    {
     "name": "stderr",
     "output_type": "stream",
     "text": [
      " 94%|███████████████████████████████████████████████████████████████████████████▍    | 600/636 [05:35<00:19,  1.89it/s]"
     ]
    },
    {
     "name": "stdout",
     "output_type": "stream",
     "text": [
      "(600/636) Data: 0.020s | Batch: 0.559s | Total: 0:05:35 | ETA: 0:00:20 | Loss: 0.1794 | top1:  92.0529\n"
     ]
    },
    {
     "name": "stderr",
     "output_type": "stream",
     "text": [
      "100%|████████████████████████████████████████████████████████████████████████████████| 636/636 [05:55<00:00,  1.79it/s]\n",
      "100%|████████████████████████████████████████████████████████████████████████████████| 156/156 [00:21<00:00,  7.20it/s]\n"
     ]
    },
    {
     "name": "stdout",
     "output_type": "stream",
     "text": [
      "(156/156) Data: 0.043s | Batch: 0.135s | Total: 0:00:21 | ETA: 0:00:01 | Loss: 0.1904 | top1:  91.6025\n",
      "=> saving checkpoint 'checkpoints\\checkpoint.pth.tar'\n"
     ]
    },
    {
     "name": "stderr",
     "output_type": "stream",
     "text": [
      "  0%|                                                                                          | 0/636 [00:00<?, ?it/s]"
     ]
    },
    {
     "name": "stdout",
     "output_type": "stream",
     "text": [
      "\n",
      "Epoch: [6 | 50] LR: 0.0100000000000000\n"
     ]
    },
    {
     "name": "stderr",
     "output_type": "stream",
     "text": [
      " 16%|████████████▌                                                                   | 100/636 [01:05<04:53,  1.82it/s]"
     ]
    },
    {
     "name": "stdout",
     "output_type": "stream",
     "text": [
      "(100/636) Data: 0.116s | Batch: 0.651s | Total: 0:01:05 | ETA: 0:04:49 | Loss: 0.1738 | top1:  92.2949\n"
     ]
    },
    {
     "name": "stderr",
     "output_type": "stream",
     "text": [
      " 31%|█████████████████████████▏                                                      | 200/636 [02:01<04:09,  1.75it/s]"
     ]
    },
    {
     "name": "stdout",
     "output_type": "stream",
     "text": [
      "(200/636) Data: 0.059s | Batch: 0.607s | Total: 0:02:01 | ETA: 0:04:25 | Loss: 0.1746 | top1:  92.2551\n"
     ]
    },
    {
     "name": "stderr",
     "output_type": "stream",
     "text": [
      " 47%|█████████████████████████████████████▋                                          | 300/636 [02:58<03:26,  1.63it/s]"
     ]
    },
    {
     "name": "stdout",
     "output_type": "stream",
     "text": [
      "(300/636) Data: 0.040s | Batch: 0.596s | Total: 0:02:58 | ETA: 0:03:22 | Loss: 0.1753 | top1:  92.2417\n"
     ]
    },
    {
     "name": "stderr",
     "output_type": "stream",
     "text": [
      " 63%|██████████████████████████████████████████████████▎                             | 400/636 [03:56<02:28,  1.59it/s]"
     ]
    },
    {
     "name": "stdout",
     "output_type": "stream",
     "text": [
      "(400/636) Data: 0.030s | Batch: 0.591s | Total: 0:03:56 | ETA: 0:02:21 | Loss: 0.1755 | top1:  92.2382\n"
     ]
    },
    {
     "name": "stderr",
     "output_type": "stream",
     "text": [
      " 79%|██████████████████████████████████████████████████████████████▉                 | 500/636 [04:53<01:27,  1.56it/s]"
     ]
    },
    {
     "name": "stdout",
     "output_type": "stream",
     "text": [
      "(500/636) Data: 0.024s | Batch: 0.588s | Total: 0:04:53 | ETA: 0:01:29 | Loss: 0.1756 | top1:  92.2286\n"
     ]
    },
    {
     "name": "stderr",
     "output_type": "stream",
     "text": [
      " 94%|███████████████████████████████████████████████████████████████████████████▍    | 600/636 [05:52<00:19,  1.86it/s]"
     ]
    },
    {
     "name": "stdout",
     "output_type": "stream",
     "text": [
      "(600/636) Data: 0.021s | Batch: 0.588s | Total: 0:05:52 | ETA: 0:00:20 | Loss: 0.1758 | top1:  92.2270\n"
     ]
    },
    {
     "name": "stderr",
     "output_type": "stream",
     "text": [
      "100%|████████████████████████████████████████████████████████████████████████████████| 636/636 [06:13<00:00,  1.70it/s]\n",
      "100%|████████████████████████████████████████████████████████████████████████████████| 156/156 [00:23<00:00,  6.76it/s]\n"
     ]
    },
    {
     "name": "stdout",
     "output_type": "stream",
     "text": [
      "(156/156) Data: 0.047s | Batch: 0.143s | Total: 0:00:22 | ETA: 0:00:01 | Loss: 0.1870 | top1:  91.8602\n",
      "=> saving checkpoint 'checkpoints\\checkpoint.pth.tar'\n"
     ]
    },
    {
     "name": "stderr",
     "output_type": "stream",
     "text": [
      "  0%|                                                                                          | 0/636 [00:00<?, ?it/s]"
     ]
    },
    {
     "name": "stdout",
     "output_type": "stream",
     "text": [
      "\n",
      "Epoch: [7 | 50] LR: 0.0100000000000000\n"
     ]
    },
    {
     "name": "stderr",
     "output_type": "stream",
     "text": [
      " 16%|████████████▌                                                                   | 100/636 [01:22<07:04,  1.26it/s]"
     ]
    },
    {
     "name": "stdout",
     "output_type": "stream",
     "text": [
      "(100/636) Data: 0.118s | Batch: 0.830s | Total: 0:01:22 | ETA: 0:07:13 | Loss: 0.1711 | top1:  92.4077\n"
     ]
    },
    {
     "name": "stderr",
     "output_type": "stream",
     "text": [
      " 31%|█████████████████████████▏                                                      | 200/636 [02:36<05:21,  1.36it/s]"
     ]
    },
    {
     "name": "stdout",
     "output_type": "stream",
     "text": [
      "(200/636) Data: 0.060s | Batch: 0.783s | Total: 0:02:36 | ETA: 0:05:13 | Loss: 0.1712 | top1:  92.4162\n"
     ]
    },
    {
     "name": "stderr",
     "output_type": "stream",
     "text": [
      " 47%|█████████████████████████████████████▋                                          | 300/636 [03:49<04:04,  1.37it/s]"
     ]
    },
    {
     "name": "stdout",
     "output_type": "stream",
     "text": [
      "(300/636) Data: 0.040s | Batch: 0.766s | Total: 0:03:49 | ETA: 0:04:23 | Loss: 0.1718 | top1:  92.3899\n"
     ]
    },
    {
     "name": "stderr",
     "output_type": "stream",
     "text": [
      " 63%|██████████████████████████████████████████████████▎                             | 400/636 [05:03<02:37,  1.50it/s]"
     ]
    },
    {
     "name": "stdout",
     "output_type": "stream",
     "text": [
      "(400/636) Data: 0.031s | Batch: 0.758s | Total: 0:05:03 | ETA: 0:02:44 | Loss: 0.1724 | top1:  92.3651\n"
     ]
    },
    {
     "name": "stderr",
     "output_type": "stream",
     "text": [
      " 79%|██████████████████████████████████████████████████████████████▉                 | 500/636 [06:16<01:32,  1.48it/s]"
     ]
    },
    {
     "name": "stdout",
     "output_type": "stream",
     "text": [
      "(500/636) Data: 0.025s | Batch: 0.752s | Total: 0:06:16 | ETA: 0:01:32 | Loss: 0.1726 | top1:  92.3593\n"
     ]
    },
    {
     "name": "stderr",
     "output_type": "stream",
     "text": [
      " 94%|███████████████████████████████████████████████████████████████████████████▍    | 600/636 [07:28<00:25,  1.40it/s]"
     ]
    },
    {
     "name": "stdout",
     "output_type": "stream",
     "text": [
      "(600/636) Data: 0.021s | Batch: 0.747s | Total: 0:07:28 | ETA: 0:00:27 | Loss: 0.1727 | top1:  92.3520\n"
     ]
    },
    {
     "name": "stderr",
     "output_type": "stream",
     "text": [
      "100%|████████████████████████████████████████████████████████████████████████████████| 636/636 [07:54<00:00,  1.34it/s]\n",
      "100%|████████████████████████████████████████████████████████████████████████████████| 156/156 [00:24<00:00,  6.31it/s]\n"
     ]
    },
    {
     "name": "stdout",
     "output_type": "stream",
     "text": [
      "(156/156) Data: 0.047s | Batch: 0.155s | Total: 0:00:24 | ETA: 0:00:01 | Loss: 0.1936 | top1:  91.6223\n",
      "=> saving checkpoint 'checkpoints\\checkpoint.pth.tar'\n"
     ]
    },
    {
     "name": "stderr",
     "output_type": "stream",
     "text": [
      "  0%|                                                                                          | 0/636 [00:00<?, ?it/s]"
     ]
    },
    {
     "name": "stdout",
     "output_type": "stream",
     "text": [
      "\n",
      "Epoch: [8 | 50] LR: 0.0100000000000000\n"
     ]
    },
    {
     "name": "stderr",
     "output_type": "stream",
     "text": [
      " 16%|████████████▌                                                                   | 100/636 [01:19<06:41,  1.33it/s]"
     ]
    },
    {
     "name": "stdout",
     "output_type": "stream",
     "text": [
      "(100/636) Data: 0.122s | Batch: 0.797s | Total: 0:01:19 | ETA: 0:06:13 | Loss: 0.1669 | top1:  92.6222\n"
     ]
    },
    {
     "name": "stderr",
     "output_type": "stream",
     "text": [
      " 31%|█████████████████████████▏                                                      | 200/636 [02:30<05:23,  1.35it/s]"
     ]
    },
    {
     "name": "stdout",
     "output_type": "stream",
     "text": [
      "(200/636) Data: 0.062s | Batch: 0.750s | Total: 0:02:30 | ETA: 0:05:38 | Loss: 0.1681 | top1:  92.5689\n"
     ]
    },
    {
     "name": "stderr",
     "output_type": "stream",
     "text": [
      " 47%|█████████████████████████████████████▋                                          | 300/636 [03:39<04:15,  1.32it/s]"
     ]
    },
    {
     "name": "stdout",
     "output_type": "stream",
     "text": [
      "(300/636) Data: 0.042s | Batch: 0.733s | Total: 0:03:39 | ETA: 0:03:47 | Loss: 0.1686 | top1:  92.5577\n"
     ]
    },
    {
     "name": "stderr",
     "output_type": "stream",
     "text": [
      " 63%|██████████████████████████████████████████████████▎                             | 400/636 [04:50<02:38,  1.49it/s]"
     ]
    },
    {
     "name": "stdout",
     "output_type": "stream",
     "text": [
      "(400/636) Data: 0.032s | Batch: 0.725s | Total: 0:04:50 | ETA: 0:02:37 | Loss: 0.1689 | top1:  92.5460\n"
     ]
    },
    {
     "name": "stderr",
     "output_type": "stream",
     "text": [
      " 79%|██████████████████████████████████████████████████████████████▉                 | 500/636 [05:59<01:33,  1.45it/s]"
     ]
    },
    {
     "name": "stdout",
     "output_type": "stream",
     "text": [
      "(500/636) Data: 0.026s | Batch: 0.720s | Total: 0:05:59 | ETA: 0:01:37 | Loss: 0.1694 | top1:  92.5176\n"
     ]
    },
    {
     "name": "stderr",
     "output_type": "stream",
     "text": [
      " 94%|███████████████████████████████████████████████████████████████████████████▍    | 600/636 [07:09<00:25,  1.40it/s]"
     ]
    },
    {
     "name": "stdout",
     "output_type": "stream",
     "text": [
      "(600/636) Data: 0.022s | Batch: 0.716s | Total: 0:07:09 | ETA: 0:00:26 | Loss: 0.1697 | top1:  92.5011\n"
     ]
    },
    {
     "name": "stderr",
     "output_type": "stream",
     "text": [
      "100%|████████████████████████████████████████████████████████████████████████████████| 636/636 [07:35<00:00,  1.40it/s]\n",
      "100%|████████████████████████████████████████████████████████████████████████████████| 156/156 [00:24<00:00,  6.27it/s]\n"
     ]
    },
    {
     "name": "stdout",
     "output_type": "stream",
     "text": [
      "(156/156) Data: 0.048s | Batch: 0.155s | Total: 0:00:24 | ETA: 0:00:01 | Loss: 0.1926 | top1:  91.6136\n",
      "=> saving checkpoint 'checkpoints\\checkpoint.pth.tar'\n"
     ]
    },
    {
     "name": "stderr",
     "output_type": "stream",
     "text": [
      "  0%|                                                                                          | 0/636 [00:00<?, ?it/s]"
     ]
    },
    {
     "name": "stdout",
     "output_type": "stream",
     "text": [
      "\n",
      "Epoch: [9 | 50] LR: 0.0100000000000000\n"
     ]
    },
    {
     "name": "stderr",
     "output_type": "stream",
     "text": [
      " 16%|████████████▌                                                                   | 100/636 [01:18<06:39,  1.34it/s]"
     ]
    },
    {
     "name": "stdout",
     "output_type": "stream",
     "text": [
      "(100/636) Data: 0.117s | Batch: 0.783s | Total: 0:01:18 | ETA: 0:06:16 | Loss: 0.1650 | top1:  92.7105\n"
     ]
    },
    {
     "name": "stderr",
     "output_type": "stream",
     "text": [
      " 31%|█████████████████████████▏                                                      | 200/636 [02:27<04:48,  1.51it/s]"
     ]
    },
    {
     "name": "stdout",
     "output_type": "stream",
     "text": [
      "(200/636) Data: 0.059s | Batch: 0.737s | Total: 0:02:27 | ETA: 0:04:50 | Loss: 0.1652 | top1:  92.6921\n"
     ]
    },
    {
     "name": "stderr",
     "output_type": "stream",
     "text": [
      " 47%|█████████████████████████████████████▋                                          | 300/636 [03:36<03:44,  1.50it/s]"
     ]
    },
    {
     "name": "stdout",
     "output_type": "stream",
     "text": [
      "(300/636) Data: 0.040s | Batch: 0.722s | Total: 0:03:36 | ETA: 0:03:40 | Loss: 0.1657 | top1:  92.6739\n"
     ]
    },
    {
     "name": "stderr",
     "output_type": "stream",
     "text": [
      " 63%|██████████████████████████████████████████████████▎                             | 400/636 [04:45<02:29,  1.58it/s]"
     ]
    },
    {
     "name": "stdout",
     "output_type": "stream",
     "text": [
      "(400/636) Data: 0.030s | Batch: 0.715s | Total: 0:04:45 | ETA: 0:02:29 | Loss: 0.1660 | top1:  92.6660\n"
     ]
    },
    {
     "name": "stderr",
     "output_type": "stream",
     "text": [
      " 79%|██████████████████████████████████████████████████████████████▉                 | 500/636 [05:56<01:37,  1.39it/s]"
     ]
    },
    {
     "name": "stdout",
     "output_type": "stream",
     "text": [
      "(500/636) Data: 0.025s | Batch: 0.714s | Total: 0:05:56 | ETA: 0:01:39 | Loss: 0.1664 | top1:  92.6497\n"
     ]
    },
    {
     "name": "stderr",
     "output_type": "stream",
     "text": [
      " 94%|███████████████████████████████████████████████████████████████████████████▍    | 600/636 [07:05<00:24,  1.48it/s]"
     ]
    },
    {
     "name": "stdout",
     "output_type": "stream",
     "text": [
      "(600/636) Data: 0.021s | Batch: 0.710s | Total: 0:07:05 | ETA: 0:00:26 | Loss: 0.1666 | top1:  92.6391\n"
     ]
    },
    {
     "name": "stderr",
     "output_type": "stream",
     "text": [
      "100%|████████████████████████████████████████████████████████████████████████████████| 636/636 [07:32<00:00,  1.41it/s]\n",
      "100%|████████████████████████████████████████████████████████████████████████████████| 156/156 [00:25<00:00,  6.16it/s]\n"
     ]
    },
    {
     "name": "stdout",
     "output_type": "stream",
     "text": [
      "(156/156) Data: 0.048s | Batch: 0.158s | Total: 0:00:24 | ETA: 0:00:01 | Loss: 0.1923 | top1:  91.6699\n",
      "=> saving checkpoint 'checkpoints\\checkpoint.pth.tar'\n"
     ]
    },
    {
     "name": "stderr",
     "output_type": "stream",
     "text": [
      "  0%|                                                                                          | 0/636 [00:00<?, ?it/s]"
     ]
    },
    {
     "name": "stdout",
     "output_type": "stream",
     "text": [
      "\n",
      "Epoch: [10 | 50] LR: 0.0100000000000000\n"
     ]
    },
    {
     "name": "stderr",
     "output_type": "stream",
     "text": [
      " 16%|████████████▌                                                                   | 100/636 [01:18<05:56,  1.50it/s]"
     ]
    },
    {
     "name": "stdout",
     "output_type": "stream",
     "text": [
      "(100/636) Data: 0.119s | Batch: 0.783s | Total: 0:01:18 | ETA: 0:06:12 | Loss: 0.1615 | top1:  92.8568\n"
     ]
    },
    {
     "name": "stderr",
     "output_type": "stream",
     "text": [
      " 31%|█████████████████████████▏                                                      | 200/636 [02:27<04:59,  1.45it/s]"
     ]
    },
    {
     "name": "stdout",
     "output_type": "stream",
     "text": [
      "(200/636) Data: 0.061s | Batch: 0.736s | Total: 0:02:27 | ETA: 0:05:01 | Loss: 0.1620 | top1:  92.8391\n"
     ]
    },
    {
     "name": "stderr",
     "output_type": "stream",
     "text": [
      " 47%|█████████████████████████████████████▋                                          | 300/636 [03:36<03:41,  1.52it/s]"
     ]
    },
    {
     "name": "stdout",
     "output_type": "stream",
     "text": [
      "(300/636) Data: 0.041s | Batch: 0.721s | Total: 0:03:36 | ETA: 0:03:43 | Loss: 0.1625 | top1:  92.8199\n"
     ]
    },
    {
     "name": "stderr",
     "output_type": "stream",
     "text": [
      " 63%|██████████████████████████████████████████████████▎                             | 400/636 [04:45<02:49,  1.39it/s]"
     ]
    },
    {
     "name": "stdout",
     "output_type": "stream",
     "text": [
      "(400/636) Data: 0.031s | Batch: 0.714s | Total: 0:04:45 | ETA: 0:02:49 | Loss: 0.1630 | top1:  92.8001\n"
     ]
    },
    {
     "name": "stderr",
     "output_type": "stream",
     "text": [
      " 79%|██████████████████████████████████████████████████████████████▉                 | 500/636 [05:55<01:44,  1.31it/s]"
     ]
    },
    {
     "name": "stdout",
     "output_type": "stream",
     "text": [
      "(500/636) Data: 0.025s | Batch: 0.710s | Total: 0:05:55 | ETA: 0:01:38 | Loss: 0.1634 | top1:  92.7843\n"
     ]
    },
    {
     "name": "stderr",
     "output_type": "stream",
     "text": [
      " 94%|███████████████████████████████████████████████████████████████████████████▍    | 600/636 [06:57<00:21,  1.64it/s]"
     ]
    },
    {
     "name": "stdout",
     "output_type": "stream",
     "text": [
      "(600/636) Data: 0.021s | Batch: 0.696s | Total: 0:06:57 | ETA: 0:00:23 | Loss: 0.1636 | top1:  92.7759\n"
     ]
    },
    {
     "name": "stderr",
     "output_type": "stream",
     "text": [
      "100%|████████████████████████████████████████████████████████████████████████████████| 636/636 [07:20<00:00,  1.45it/s]\n",
      "100%|████████████████████████████████████████████████████████████████████████████████| 156/156 [00:22<00:00,  6.99it/s]\n"
     ]
    },
    {
     "name": "stdout",
     "output_type": "stream",
     "text": [
      "(156/156) Data: 0.045s | Batch: 0.139s | Total: 0:00:21 | ETA: 0:00:01 | Loss: 0.1961 | top1:  91.5541\n",
      "=> saving checkpoint 'checkpoints\\checkpoint.pth.tar'\n"
     ]
    },
    {
     "name": "stderr",
     "output_type": "stream",
     "text": [
      "  0%|                                                                                          | 0/636 [00:00<?, ?it/s]"
     ]
    },
    {
     "name": "stdout",
     "output_type": "stream",
     "text": [
      "\n",
      "Epoch: [11 | 50] LR: 0.0010000000000000\n"
     ]
    },
    {
     "name": "stderr",
     "output_type": "stream",
     "text": [
      " 16%|████████████▌                                                                   | 100/636 [01:08<05:19,  1.68it/s]"
     ]
    },
    {
     "name": "stdout",
     "output_type": "stream",
     "text": [
      "(100/636) Data: 0.108s | Batch: 0.684s | Total: 0:01:08 | ETA: 0:05:19 | Loss: 0.1516 | top1:  93.3407\n"
     ]
    },
    {
     "name": "stderr",
     "output_type": "stream",
     "text": [
      " 31%|█████████████████████████▏                                                      | 200/636 [02:08<04:15,  1.70it/s]"
     ]
    },
    {
     "name": "stdout",
     "output_type": "stream",
     "text": [
      "(200/636) Data: 0.055s | Batch: 0.642s | Total: 0:02:08 | ETA: 0:04:34 | Loss: 0.1500 | top1:  93.4195\n"
     ]
    },
    {
     "name": "stderr",
     "output_type": "stream",
     "text": [
      " 47%|█████████████████████████████████████▋                                          | 300/636 [03:09<03:18,  1.69it/s]"
     ]
    },
    {
     "name": "stdout",
     "output_type": "stream",
     "text": [
      "(300/636) Data: 0.037s | Batch: 0.630s | Total: 0:03:09 | ETA: 0:03:28 | Loss: 0.1489 | top1:  93.4621\n"
     ]
    },
    {
     "name": "stderr",
     "output_type": "stream",
     "text": [
      " 63%|██████████████████████████████████████████████████▎                             | 400/636 [04:09<02:23,  1.64it/s]"
     ]
    },
    {
     "name": "stdout",
     "output_type": "stream",
     "text": [
      "(400/636) Data: 0.028s | Batch: 0.623s | Total: 0:04:09 | ETA: 0:02:19 | Loss: 0.1485 | top1:  93.4783\n"
     ]
    },
    {
     "name": "stderr",
     "output_type": "stream",
     "text": [
      " 79%|██████████████████████████████████████████████████████████████▉                 | 500/636 [05:09<01:19,  1.71it/s]"
     ]
    },
    {
     "name": "stdout",
     "output_type": "stream",
     "text": [
      "(500/636) Data: 0.023s | Batch: 0.618s | Total: 0:05:09 | ETA: 0:01:23 | Loss: 0.1479 | top1:  93.4988\n"
     ]
    },
    {
     "name": "stderr",
     "output_type": "stream",
     "text": [
      " 94%|███████████████████████████████████████████████████████████████████████████▍    | 600/636 [06:09<00:22,  1.63it/s]"
     ]
    },
    {
     "name": "stdout",
     "output_type": "stream",
     "text": [
      "(600/636) Data: 0.019s | Batch: 0.616s | Total: 0:06:09 | ETA: 0:00:23 | Loss: 0.1475 | top1:  93.5149\n"
     ]
    },
    {
     "name": "stderr",
     "output_type": "stream",
     "text": [
      "100%|████████████████████████████████████████████████████████████████████████████████| 636/636 [06:32<00:00,  1.62it/s]\n",
      "100%|████████████████████████████████████████████████████████████████████████████████| 156/156 [00:22<00:00,  7.06it/s]\n"
     ]
    },
    {
     "name": "stdout",
     "output_type": "stream",
     "text": [
      "(156/156) Data: 0.045s | Batch: 0.138s | Total: 0:00:21 | ETA: 0:00:01 | Loss: 0.1892 | top1:  91.8300\n",
      "=> saving checkpoint 'checkpoints\\checkpoint.pth.tar'\n"
     ]
    },
    {
     "name": "stderr",
     "output_type": "stream",
     "text": [
      "  0%|                                                                                          | 0/636 [00:00<?, ?it/s]"
     ]
    },
    {
     "name": "stdout",
     "output_type": "stream",
     "text": [
      "\n",
      "Epoch: [12 | 50] LR: 0.0010000000000000\n"
     ]
    },
    {
     "name": "stderr",
     "output_type": "stream",
     "text": [
      " 16%|████████████▌                                                                   | 100/636 [01:08<05:09,  1.73it/s]"
     ]
    },
    {
     "name": "stdout",
     "output_type": "stream",
     "text": [
      "(100/636) Data: 0.115s | Batch: 0.688s | Total: 0:01:08 | ETA: 0:05:14 | Loss: 0.1431 | top1:  93.7257\n"
     ]
    },
    {
     "name": "stderr",
     "output_type": "stream",
     "text": [
      " 31%|█████████████████████████▏                                                      | 200/636 [02:09<04:25,  1.64it/s]"
     ]
    },
    {
     "name": "stdout",
     "output_type": "stream",
     "text": [
      "(200/636) Data: 0.058s | Batch: 0.647s | Total: 0:02:09 | ETA: 0:04:30 | Loss: 0.1428 | top1:  93.7505\n"
     ]
    },
    {
     "name": "stderr",
     "output_type": "stream",
     "text": [
      " 47%|█████████████████████████████████████▋                                          | 300/636 [03:10<03:25,  1.63it/s]"
     ]
    },
    {
     "name": "stdout",
     "output_type": "stream",
     "text": [
      "(300/636) Data: 0.039s | Batch: 0.635s | Total: 0:03:10 | ETA: 0:03:25 | Loss: 0.1427 | top1:  93.7572\n"
     ]
    },
    {
     "name": "stderr",
     "output_type": "stream",
     "text": [
      " 63%|██████████████████████████████████████████████████▎                             | 400/636 [04:10<02:20,  1.67it/s]"
     ]
    },
    {
     "name": "stdout",
     "output_type": "stream",
     "text": [
      "(400/636) Data: 0.030s | Batch: 0.627s | Total: 0:04:10 | ETA: 0:02:23 | Loss: 0.1425 | top1:  93.7656\n"
     ]
    },
    {
     "name": "stderr",
     "output_type": "stream",
     "text": [
      " 79%|██████████████████████████████████████████████████████████████▉                 | 500/636 [05:10<01:16,  1.77it/s]"
     ]
    },
    {
     "name": "stdout",
     "output_type": "stream",
     "text": [
      "(500/636) Data: 0.024s | Batch: 0.622s | Total: 0:05:10 | ETA: 0:01:23 | Loss: 0.1424 | top1:  93.7649\n"
     ]
    },
    {
     "name": "stderr",
     "output_type": "stream",
     "text": [
      " 94%|███████████████████████████████████████████████████████████████████████████▍    | 600/636 [06:11<00:21,  1.68it/s]"
     ]
    },
    {
     "name": "stdout",
     "output_type": "stream",
     "text": [
      "(600/636) Data: 0.020s | Batch: 0.619s | Total: 0:06:11 | ETA: 0:00:22 | Loss: 0.1424 | top1:  93.7612\n"
     ]
    },
    {
     "name": "stderr",
     "output_type": "stream",
     "text": [
      "100%|████████████████████████████████████████████████████████████████████████████████| 636/636 [06:33<00:00,  1.62it/s]\n",
      "100%|████████████████████████████████████████████████████████████████████████████████| 156/156 [00:22<00:00,  6.97it/s]\n"
     ]
    },
    {
     "name": "stdout",
     "output_type": "stream",
     "text": [
      "(156/156) Data: 0.046s | Batch: 0.140s | Total: 0:00:21 | ETA: 0:00:01 | Loss: 0.1916 | top1:  91.8376\n",
      "=> saving checkpoint 'checkpoints\\checkpoint.pth.tar'\n"
     ]
    },
    {
     "name": "stderr",
     "output_type": "stream",
     "text": [
      "  0%|                                                                                          | 0/636 [00:00<?, ?it/s]"
     ]
    },
    {
     "name": "stdout",
     "output_type": "stream",
     "text": [
      "\n",
      "Epoch: [13 | 50] LR: 0.0010000000000000\n"
     ]
    },
    {
     "name": "stderr",
     "output_type": "stream",
     "text": [
      " 16%|████████████▌                                                                   | 100/636 [01:09<05:21,  1.67it/s]"
     ]
    },
    {
     "name": "stdout",
     "output_type": "stream",
     "text": [
      "(100/636) Data: 0.115s | Batch: 0.691s | Total: 0:01:09 | ETA: 0:05:25 | Loss: 0.1389 | top1:  93.9315\n"
     ]
    },
    {
     "name": "stderr",
     "output_type": "stream",
     "text": [
      " 31%|█████████████████████████▏                                                      | 200/636 [02:09<04:27,  1.63it/s]"
     ]
    },
    {
     "name": "stdout",
     "output_type": "stream",
     "text": [
      "(200/636) Data: 0.058s | Batch: 0.647s | Total: 0:02:09 | ETA: 0:04:32 | Loss: 0.1391 | top1:  93.9142\n"
     ]
    },
    {
     "name": "stderr",
     "output_type": "stream",
     "text": [
      " 47%|█████████████████████████████████████▋                                          | 300/636 [03:09<03:16,  1.71it/s]"
     ]
    },
    {
     "name": "stdout",
     "output_type": "stream",
     "text": [
      "(300/636) Data: 0.039s | Batch: 0.631s | Total: 0:03:09 | ETA: 0:03:10 | Loss: 0.1391 | top1:  93.9140\n"
     ]
    },
    {
     "name": "stderr",
     "output_type": "stream",
     "text": [
      " 63%|██████████████████████████████████████████████████▎                             | 400/636 [04:09<02:23,  1.65it/s]"
     ]
    },
    {
     "name": "stdout",
     "output_type": "stream",
     "text": [
      "(400/636) Data: 0.030s | Batch: 0.623s | Total: 0:04:09 | ETA: 0:02:22 | Loss: 0.1392 | top1:  93.9141\n"
     ]
    },
    {
     "name": "stderr",
     "output_type": "stream",
     "text": [
      " 79%|██████████████████████████████████████████████████████████████▉                 | 500/636 [05:09<01:21,  1.66it/s]"
     ]
    },
    {
     "name": "stdout",
     "output_type": "stream",
     "text": [
      "(500/636) Data: 0.024s | Batch: 0.619s | Total: 0:05:09 | ETA: 0:01:23 | Loss: 0.1393 | top1:  93.9099\n"
     ]
    },
    {
     "name": "stderr",
     "output_type": "stream",
     "text": [
      " 94%|███████████████████████████████████████████████████████████████████████████▍    | 600/636 [06:10<00:21,  1.65it/s]"
     ]
    },
    {
     "name": "stdout",
     "output_type": "stream",
     "text": [
      "(600/636) Data: 0.020s | Batch: 0.617s | Total: 0:06:10 | ETA: 0:00:23 | Loss: 0.1394 | top1:  93.9027\n"
     ]
    },
    {
     "name": "stderr",
     "output_type": "stream",
     "text": [
      "100%|████████████████████████████████████████████████████████████████████████████████| 636/636 [06:32<00:00,  1.62it/s]\n",
      "100%|████████████████████████████████████████████████████████████████████████████████| 156/156 [00:22<00:00,  7.04it/s]\n"
     ]
    },
    {
     "name": "stdout",
     "output_type": "stream",
     "text": [
      "(156/156) Data: 0.046s | Batch: 0.138s | Total: 0:00:21 | ETA: 0:00:01 | Loss: 0.1945 | top1:  91.7800\n",
      "=> saving checkpoint 'checkpoints\\checkpoint.pth.tar'\n"
     ]
    },
    {
     "name": "stderr",
     "output_type": "stream",
     "text": [
      "  0%|                                                                                          | 0/636 [00:00<?, ?it/s]"
     ]
    },
    {
     "name": "stdout",
     "output_type": "stream",
     "text": [
      "\n",
      "Epoch: [14 | 50] LR: 0.0010000000000000\n"
     ]
    },
    {
     "name": "stderr",
     "output_type": "stream",
     "text": [
      " 16%|████████████▌                                                                   | 100/636 [01:08<05:30,  1.62it/s]"
     ]
    },
    {
     "name": "stdout",
     "output_type": "stream",
     "text": [
      "(100/636) Data: 0.111s | Batch: 0.681s | Total: 0:01:08 | ETA: 0:05:20 | Loss: 0.1366 | top1:  94.0189\n"
     ]
    },
    {
     "name": "stderr",
     "output_type": "stream",
     "text": [
      " 31%|█████████████████████████▏                                                      | 200/636 [02:08<04:24,  1.65it/s]"
     ]
    },
    {
     "name": "stdout",
     "output_type": "stream",
     "text": [
      "(200/636) Data: 0.056s | Batch: 0.642s | Total: 0:02:08 | ETA: 0:04:28 | Loss: 0.1366 | top1:  94.0278\n"
     ]
    },
    {
     "name": "stderr",
     "output_type": "stream",
     "text": [
      " 47%|█████████████████████████████████████▋                                          | 300/636 [03:08<03:24,  1.65it/s]"
     ]
    },
    {
     "name": "stdout",
     "output_type": "stream",
     "text": [
      "(300/636) Data: 0.038s | Batch: 0.629s | Total: 0:03:08 | ETA: 0:03:25 | Loss: 0.1367 | top1:  94.0296\n"
     ]
    },
    {
     "name": "stderr",
     "output_type": "stream",
     "text": [
      " 63%|██████████████████████████████████████████████████▎                             | 400/636 [04:08<02:23,  1.64it/s]"
     ]
    },
    {
     "name": "stdout",
     "output_type": "stream",
     "text": [
      "(400/636) Data: 0.029s | Batch: 0.622s | Total: 0:04:08 | ETA: 0:02:27 | Loss: 0.1370 | top1:  94.0228\n"
     ]
    },
    {
     "name": "stderr",
     "output_type": "stream",
     "text": [
      " 79%|██████████████████████████████████████████████████████████████▉                 | 500/636 [05:08<01:24,  1.62it/s]"
     ]
    },
    {
     "name": "stdout",
     "output_type": "stream",
     "text": [
      "(500/636) Data: 0.024s | Batch: 0.618s | Total: 0:05:08 | ETA: 0:01:26 | Loss: 0.1369 | top1:  94.0234\n"
     ]
    },
    {
     "name": "stderr",
     "output_type": "stream",
     "text": [
      " 94%|███████████████████████████████████████████████████████████████████████████▍    | 600/636 [06:08<00:21,  1.65it/s]"
     ]
    },
    {
     "name": "stdout",
     "output_type": "stream",
     "text": [
      "(600/636) Data: 0.020s | Batch: 0.615s | Total: 0:06:08 | ETA: 0:00:23 | Loss: 0.1370 | top1:  94.0176\n"
     ]
    },
    {
     "name": "stderr",
     "output_type": "stream",
     "text": [
      "100%|████████████████████████████████████████████████████████████████████████████████| 636/636 [06:31<00:00,  1.62it/s]\n",
      "100%|████████████████████████████████████████████████████████████████████████████████| 156/156 [00:22<00:00,  7.05it/s]\n"
     ]
    },
    {
     "name": "stdout",
     "output_type": "stream",
     "text": [
      "(156/156) Data: 0.045s | Batch: 0.138s | Total: 0:00:21 | ETA: 0:00:01 | Loss: 0.1966 | top1:  91.6783\n",
      "=> saving checkpoint 'checkpoints\\checkpoint.pth.tar'\n"
     ]
    },
    {
     "name": "stderr",
     "output_type": "stream",
     "text": [
      "  0%|                                                                                          | 0/636 [00:00<?, ?it/s]"
     ]
    },
    {
     "name": "stdout",
     "output_type": "stream",
     "text": [
      "\n",
      "Epoch: [15 | 50] LR: 0.0010000000000000\n"
     ]
    },
    {
     "name": "stderr",
     "output_type": "stream",
     "text": [
      " 16%|████████████▌                                                                   | 100/636 [01:08<05:15,  1.70it/s]"
     ]
    },
    {
     "name": "stdout",
     "output_type": "stream",
     "text": [
      "(100/636) Data: 0.118s | Batch: 0.689s | Total: 0:01:08 | ETA: 0:05:13 | Loss: 0.1339 | top1:  94.1470\n"
     ]
    },
    {
     "name": "stderr",
     "output_type": "stream",
     "text": [
      " 31%|█████████████████████████▏                                                      | 200/636 [02:05<03:45,  1.93it/s]"
     ]
    },
    {
     "name": "stdout",
     "output_type": "stream",
     "text": [
      "(200/636) Data: 0.060s | Batch: 0.625s | Total: 0:02:05 | ETA: 0:03:54 | Loss: 0.1347 | top1:  94.1097\n"
     ]
    },
    {
     "name": "stderr",
     "output_type": "stream",
     "text": [
      " 47%|█████████████████████████████████████▋                                          | 300/636 [02:58<03:02,  1.84it/s]"
     ]
    },
    {
     "name": "stdout",
     "output_type": "stream",
     "text": [
      "(300/636) Data: 0.041s | Batch: 0.596s | Total: 0:02:58 | ETA: 0:03:00 | Loss: 0.1347 | top1:  94.1077\n"
     ]
    },
    {
     "name": "stderr",
     "output_type": "stream",
     "text": [
      " 63%|██████████████████████████████████████████████████▎                             | 400/636 [03:51<02:06,  1.87it/s]"
     ]
    },
    {
     "name": "stdout",
     "output_type": "stream",
     "text": [
      "(400/636) Data: 0.031s | Batch: 0.580s | Total: 0:03:51 | ETA: 0:02:08 | Loss: 0.1349 | top1:  94.1022\n"
     ]
    },
    {
     "name": "stderr",
     "output_type": "stream",
     "text": [
      " 79%|██████████████████████████████████████████████████████████████▉                 | 500/636 [04:45<01:13,  1.86it/s]"
     ]
    },
    {
     "name": "stdout",
     "output_type": "stream",
     "text": [
      "(500/636) Data: 0.025s | Batch: 0.571s | Total: 0:04:45 | ETA: 0:01:14 | Loss: 0.1351 | top1:  94.0955\n"
     ]
    },
    {
     "name": "stderr",
     "output_type": "stream",
     "text": [
      " 94%|███████████████████████████████████████████████████████████████████████████▍    | 600/636 [05:39<00:18,  1.92it/s]"
     ]
    },
    {
     "name": "stdout",
     "output_type": "stream",
     "text": [
      "(600/636) Data: 0.021s | Batch: 0.565s | Total: 0:05:39 | ETA: 0:00:20 | Loss: 0.1350 | top1:  94.0990\n"
     ]
    },
    {
     "name": "stderr",
     "output_type": "stream",
     "text": [
      "100%|████████████████████████████████████████████████████████████████████████████████| 636/636 [05:59<00:00,  1.77it/s]\n",
      "100%|████████████████████████████████████████████████████████████████████████████████| 156/156 [00:20<00:00,  7.67it/s]\n"
     ]
    },
    {
     "name": "stdout",
     "output_type": "stream",
     "text": [
      "(156/156) Data: 0.043s | Batch: 0.127s | Total: 0:00:19 | ETA: 0:00:01 | Loss: 0.1998 | top1:  91.6076\n",
      "=> saving checkpoint 'checkpoints\\checkpoint.pth.tar'\n"
     ]
    },
    {
     "name": "stderr",
     "output_type": "stream",
     "text": [
      "  0%|                                                                                          | 0/636 [00:00<?, ?it/s]"
     ]
    },
    {
     "name": "stdout",
     "output_type": "stream",
     "text": [
      "\n",
      "Epoch: [16 | 50] LR: 0.0010000000000000\n"
     ]
    },
    {
     "name": "stderr",
     "output_type": "stream",
     "text": [
      " 16%|████████████▌                                                                   | 100/636 [01:01<04:33,  1.96it/s]"
     ]
    },
    {
     "name": "stdout",
     "output_type": "stream",
     "text": [
      "(100/636) Data: 0.108s | Batch: 0.619s | Total: 0:01:01 | ETA: 0:04:39 | Loss: 0.1320 | top1:  94.2634\n"
     ]
    },
    {
     "name": "stderr",
     "output_type": "stream",
     "text": [
      " 31%|█████████████████████████▏                                                      | 200/636 [01:54<03:57,  1.84it/s]"
     ]
    },
    {
     "name": "stdout",
     "output_type": "stream",
     "text": [
      "(200/636) Data: 0.055s | Batch: 0.574s | Total: 0:01:54 | ETA: 0:03:58 | Loss: 0.1320 | top1:  94.2514\n"
     ]
    },
    {
     "name": "stderr",
     "output_type": "stream",
     "text": [
      " 47%|█████████████████████████████████████▋                                          | 300/636 [02:48<03:04,  1.82it/s]"
     ]
    },
    {
     "name": "stdout",
     "output_type": "stream",
     "text": [
      "(300/636) Data: 0.037s | Batch: 0.561s | Total: 0:02:48 | ETA: 0:03:05 | Loss: 0.1324 | top1:  94.2345\n"
     ]
    },
    {
     "name": "stderr",
     "output_type": "stream",
     "text": [
      " 63%|██████████████████████████████████████████████████▎                             | 400/636 [03:42<02:02,  1.92it/s]"
     ]
    },
    {
     "name": "stdout",
     "output_type": "stream",
     "text": [
      "(400/636) Data: 0.028s | Batch: 0.555s | Total: 0:03:42 | ETA: 0:02:04 | Loss: 0.1326 | top1:  94.2263\n"
     ]
    },
    {
     "name": "stderr",
     "output_type": "stream",
     "text": [
      " 79%|██████████████████████████████████████████████████████████████▉                 | 500/636 [04:35<01:15,  1.80it/s]"
     ]
    },
    {
     "name": "stdout",
     "output_type": "stream",
     "text": [
      "(500/636) Data: 0.023s | Batch: 0.551s | Total: 0:04:35 | ETA: 0:01:16 | Loss: 0.1328 | top1:  94.2104\n"
     ]
    },
    {
     "name": "stderr",
     "output_type": "stream",
     "text": [
      " 94%|███████████████████████████████████████████████████████████████████████████▍    | 600/636 [05:29<00:19,  1.88it/s]"
     ]
    },
    {
     "name": "stdout",
     "output_type": "stream",
     "text": [
      "(600/636) Data: 0.019s | Batch: 0.549s | Total: 0:05:29 | ETA: 0:00:20 | Loss: 0.1329 | top1:  94.2055\n"
     ]
    },
    {
     "name": "stderr",
     "output_type": "stream",
     "text": [
      "100%|████████████████████████████████████████████████████████████████████████████████| 636/636 [05:49<00:00,  1.82it/s]\n",
      "100%|████████████████████████████████████████████████████████████████████████████████| 156/156 [00:20<00:00,  7.66it/s]\n"
     ]
    },
    {
     "name": "stdout",
     "output_type": "stream",
     "text": [
      "(156/156) Data: 0.043s | Batch: 0.127s | Total: 0:00:19 | ETA: 0:00:01 | Loss: 0.2014 | top1:  91.6500\n",
      "=> saving checkpoint 'checkpoints\\checkpoint.pth.tar'\n"
     ]
    },
    {
     "name": "stderr",
     "output_type": "stream",
     "text": [
      "  0%|                                                                                          | 0/636 [00:00<?, ?it/s]"
     ]
    },
    {
     "name": "stdout",
     "output_type": "stream",
     "text": [
      "\n",
      "Epoch: [17 | 50] LR: 0.0001000000000000\n"
     ]
    },
    {
     "name": "stderr",
     "output_type": "stream",
     "text": [
      " 16%|████████████▌                                                                   | 100/636 [01:01<04:49,  1.85it/s]"
     ]
    },
    {
     "name": "stdout",
     "output_type": "stream",
     "text": [
      "(100/636) Data: 0.105s | Batch: 0.617s | Total: 0:01:01 | ETA: 0:04:51 | Loss: 0.1290 | top1:  94.4073\n"
     ]
    },
    {
     "name": "stderr",
     "output_type": "stream",
     "text": [
      " 31%|█████████████████████████▏                                                      | 200/636 [01:55<03:59,  1.82it/s]"
     ]
    },
    {
     "name": "stdout",
     "output_type": "stream",
     "text": [
      "(200/636) Data: 0.053s | Batch: 0.576s | Total: 0:01:55 | ETA: 0:03:59 | Loss: 0.1288 | top1:  94.4023\n"
     ]
    },
    {
     "name": "stderr",
     "output_type": "stream",
     "text": [
      " 47%|█████████████████████████████████████▋                                          | 300/636 [02:49<03:04,  1.82it/s]"
     ]
    },
    {
     "name": "stdout",
     "output_type": "stream",
     "text": [
      "(300/636) Data: 0.036s | Batch: 0.566s | Total: 0:02:49 | ETA: 0:03:07 | Loss: 0.1289 | top1:  94.3946\n"
     ]
    },
    {
     "name": "stderr",
     "output_type": "stream",
     "text": [
      " 63%|██████████████████████████████████████████████████▎                             | 400/636 [03:43<02:02,  1.92it/s]"
     ]
    },
    {
     "name": "stdout",
     "output_type": "stream",
     "text": [
      "(400/636) Data: 0.027s | Batch: 0.558s | Total: 0:03:43 | ETA: 0:02:03 | Loss: 0.1289 | top1:  94.3994\n"
     ]
    },
    {
     "name": "stderr",
     "output_type": "stream",
     "text": [
      " 79%|██████████████████████████████████████████████████████████████▉                 | 500/636 [04:36<01:12,  1.86it/s]"
     ]
    },
    {
     "name": "stdout",
     "output_type": "stream",
     "text": [
      "(500/636) Data: 0.022s | Batch: 0.554s | Total: 0:04:36 | ETA: 0:01:12 | Loss: 0.1287 | top1:  94.4038\n"
     ]
    },
    {
     "name": "stderr",
     "output_type": "stream",
     "text": [
      " 94%|███████████████████████████████████████████████████████████████████████████▍    | 600/636 [05:30<00:18,  1.97it/s]"
     ]
    },
    {
     "name": "stdout",
     "output_type": "stream",
     "text": [
      "(600/636) Data: 0.019s | Batch: 0.551s | Total: 0:05:30 | ETA: 0:00:20 | Loss: 0.1288 | top1:  94.4000\n"
     ]
    },
    {
     "name": "stderr",
     "output_type": "stream",
     "text": [
      "100%|████████████████████████████████████████████████████████████████████████████████| 636/636 [05:50<00:00,  1.81it/s]\n",
      "100%|████████████████████████████████████████████████████████████████████████████████| 156/156 [00:20<00:00,  7.63it/s]\n"
     ]
    },
    {
     "name": "stdout",
     "output_type": "stream",
     "text": [
      "(156/156) Data: 0.043s | Batch: 0.127s | Total: 0:00:19 | ETA: 0:00:01 | Loss: 0.2025 | top1:  91.6064\n",
      "=> saving checkpoint 'checkpoints\\checkpoint.pth.tar'\n"
     ]
    },
    {
     "name": "stderr",
     "output_type": "stream",
     "text": [
      "  0%|                                                                                          | 0/636 [00:00<?, ?it/s]"
     ]
    },
    {
     "name": "stdout",
     "output_type": "stream",
     "text": [
      "\n",
      "Epoch: [18 | 50] LR: 0.0001000000000000\n"
     ]
    },
    {
     "name": "stderr",
     "output_type": "stream",
     "text": [
      " 16%|████████████▌                                                                   | 100/636 [01:03<04:53,  1.83it/s]"
     ]
    },
    {
     "name": "stdout",
     "output_type": "stream",
     "text": [
      "(100/636) Data: 0.113s | Batch: 0.630s | Total: 0:01:03 | ETA: 0:04:57 | Loss: 0.1278 | top1:  94.4668\n"
     ]
    },
    {
     "name": "stderr",
     "output_type": "stream",
     "text": [
      " 31%|█████████████████████████▏                                                      | 200/636 [01:56<04:01,  1.81it/s]"
     ]
    },
    {
     "name": "stdout",
     "output_type": "stream",
     "text": [
      "(200/636) Data: 0.057s | Batch: 0.583s | Total: 0:01:56 | ETA: 0:04:03 | Loss: 0.1278 | top1:  94.4576\n"
     ]
    },
    {
     "name": "stderr",
     "output_type": "stream",
     "text": [
      " 47%|█████████████████████████████████████▋                                          | 300/636 [02:49<02:55,  1.92it/s]"
     ]
    },
    {
     "name": "stdout",
     "output_type": "stream",
     "text": [
      "(300/636) Data: 0.039s | Batch: 0.566s | Total: 0:02:49 | ETA: 0:03:00 | Loss: 0.1280 | top1:  94.4407\n"
     ]
    },
    {
     "name": "stderr",
     "output_type": "stream",
     "text": [
      " 63%|██████████████████████████████████████████████████▎                             | 400/636 [03:43<02:06,  1.87it/s]"
     ]
    },
    {
     "name": "stdout",
     "output_type": "stream",
     "text": [
      "(400/636) Data: 0.030s | Batch: 0.560s | Total: 0:03:43 | ETA: 0:02:05 | Loss: 0.1278 | top1:  94.4476\n"
     ]
    },
    {
     "name": "stderr",
     "output_type": "stream",
     "text": [
      " 79%|██████████████████████████████████████████████████████████████▉                 | 500/636 [04:37<01:14,  1.82it/s]"
     ]
    },
    {
     "name": "stdout",
     "output_type": "stream",
     "text": [
      "(500/636) Data: 0.024s | Batch: 0.556s | Total: 0:04:37 | ETA: 0:01:15 | Loss: 0.1277 | top1:  94.4555\n"
     ]
    },
    {
     "name": "stderr",
     "output_type": "stream",
     "text": [
      " 94%|███████████████████████████████████████████████████████████████████████████▍    | 600/636 [05:31<00:18,  1.92it/s]"
     ]
    },
    {
     "name": "stdout",
     "output_type": "stream",
     "text": [
      "(600/636) Data: 0.020s | Batch: 0.552s | Total: 0:05:31 | ETA: 0:00:20 | Loss: 0.1279 | top1:  94.4454\n"
     ]
    },
    {
     "name": "stderr",
     "output_type": "stream",
     "text": [
      "100%|████████████████████████████████████████████████████████████████████████████████| 636/636 [05:52<00:00,  1.80it/s]\n",
      "100%|████████████████████████████████████████████████████████████████████████████████| 156/156 [00:20<00:00,  7.50it/s]\n"
     ]
    },
    {
     "name": "stdout",
     "output_type": "stream",
     "text": [
      "(156/156) Data: 0.044s | Batch: 0.130s | Total: 0:00:20 | ETA: 0:00:01 | Loss: 0.2039 | top1:  91.5905\n",
      "=> saving checkpoint 'checkpoints\\checkpoint.pth.tar'\n"
     ]
    },
    {
     "name": "stderr",
     "output_type": "stream",
     "text": [
      "  0%|                                                                                          | 0/636 [00:00<?, ?it/s]"
     ]
    },
    {
     "name": "stdout",
     "output_type": "stream",
     "text": [
      "\n",
      "Epoch: [19 | 50] LR: 0.0001000000000000\n"
     ]
    },
    {
     "name": "stderr",
     "output_type": "stream",
     "text": [
      " 16%|████████████▌                                                                   | 100/636 [01:02<04:51,  1.84it/s]"
     ]
    },
    {
     "name": "stdout",
     "output_type": "stream",
     "text": [
      "(100/636) Data: 0.109s | Batch: 0.623s | Total: 0:01:02 | ETA: 0:04:46 | Loss: 0.1277 | top1:  94.4443\n"
     ]
    },
    {
     "name": "stderr",
     "output_type": "stream",
     "text": [
      " 31%|█████████████████████████▏                                                      | 200/636 [01:56<03:56,  1.84it/s]"
     ]
    },
    {
     "name": "stdout",
     "output_type": "stream",
     "text": [
      "(200/636) Data: 0.055s | Batch: 0.581s | Total: 0:01:56 | ETA: 0:03:52 | Loss: 0.1276 | top1:  94.4472\n"
     ]
    },
    {
     "name": "stderr",
     "output_type": "stream",
     "text": [
      " 47%|█████████████████████████████████████▋                                          | 300/636 [02:50<03:02,  1.84it/s]"
     ]
    },
    {
     "name": "stdout",
     "output_type": "stream",
     "text": [
      "(300/636) Data: 0.037s | Batch: 0.567s | Total: 0:02:50 | ETA: 0:03:04 | Loss: 0.1276 | top1:  94.4513\n"
     ]
    },
    {
     "name": "stderr",
     "output_type": "stream",
     "text": [
      " 63%|██████████████████████████████████████████████████▎                             | 400/636 [03:43<02:08,  1.84it/s]"
     ]
    },
    {
     "name": "stdout",
     "output_type": "stream",
     "text": [
      "(400/636) Data: 0.028s | Batch: 0.560s | Total: 0:03:43 | ETA: 0:02:07 | Loss: 0.1275 | top1:  94.4539\n"
     ]
    },
    {
     "name": "stderr",
     "output_type": "stream",
     "text": [
      " 79%|██████████████████████████████████████████████████████████████▉                 | 500/636 [04:42<01:15,  1.81it/s]"
     ]
    },
    {
     "name": "stdout",
     "output_type": "stream",
     "text": [
      "(500/636) Data: 0.023s | Batch: 0.565s | Total: 0:04:42 | ETA: 0:01:17 | Loss: 0.1274 | top1:  94.4591\n"
     ]
    },
    {
     "name": "stderr",
     "output_type": "stream",
     "text": [
      " 94%|███████████████████████████████████████████████████████████████████████████▍    | 600/636 [05:42<00:20,  1.73it/s]"
     ]
    },
    {
     "name": "stdout",
     "output_type": "stream",
     "text": [
      "(600/636) Data: 0.019s | Batch: 0.571s | Total: 0:05:42 | ETA: 0:00:22 | Loss: 0.1275 | top1:  94.4551\n"
     ]
    },
    {
     "name": "stderr",
     "output_type": "stream",
     "text": [
      "100%|████████████████████████████████████████████████████████████████████████████████| 636/636 [06:04<00:00,  1.74it/s]\n",
      "100%|████████████████████████████████████████████████████████████████████████████████| 156/156 [00:22<00:00,  6.80it/s]\n"
     ]
    },
    {
     "name": "stdout",
     "output_type": "stream",
     "text": [
      "(156/156) Data: 0.048s | Batch: 0.143s | Total: 0:00:22 | ETA: 0:00:01 | Loss: 0.2043 | top1:  91.5985\n",
      "=> saving checkpoint 'checkpoints\\checkpoint.pth.tar'\n"
     ]
    },
    {
     "name": "stderr",
     "output_type": "stream",
     "text": [
      "  0%|                                                                                          | 0/636 [00:00<?, ?it/s]"
     ]
    },
    {
     "name": "stdout",
     "output_type": "stream",
     "text": [
      "\n",
      "Epoch: [20 | 50] LR: 0.0001000000000000\n"
     ]
    },
    {
     "name": "stderr",
     "output_type": "stream",
     "text": [
      " 16%|████████████▌                                                                   | 100/636 [01:05<05:22,  1.66it/s]"
     ]
    },
    {
     "name": "stdout",
     "output_type": "stream",
     "text": [
      "(100/636) Data: 0.117s | Batch: 0.656s | Total: 0:01:05 | ETA: 0:05:20 | Loss: 0.1273 | top1:  94.5040\n"
     ]
    },
    {
     "name": "stderr",
     "output_type": "stream",
     "text": [
      " 31%|█████████████████████████▏                                                      | 200/636 [02:02<04:03,  1.79it/s]"
     ]
    },
    {
     "name": "stdout",
     "output_type": "stream",
     "text": [
      "(200/636) Data: 0.059s | Batch: 0.615s | Total: 0:02:02 | ETA: 0:03:55 | Loss: 0.1271 | top1:  94.4931\n"
     ]
    },
    {
     "name": "stderr",
     "output_type": "stream",
     "text": [
      " 47%|█████████████████████████████████████▋                                          | 300/636 [03:01<03:24,  1.64it/s]"
     ]
    },
    {
     "name": "stdout",
     "output_type": "stream",
     "text": [
      "(300/636) Data: 0.040s | Batch: 0.605s | Total: 0:03:01 | ETA: 0:03:23 | Loss: 0.1271 | top1:  94.4849\n"
     ]
    },
    {
     "name": "stderr",
     "output_type": "stream",
     "text": [
      " 63%|██████████████████████████████████████████████████▎                             | 400/636 [04:01<02:26,  1.61it/s]"
     ]
    },
    {
     "name": "stdout",
     "output_type": "stream",
     "text": [
      "(400/636) Data: 0.031s | Batch: 0.604s | Total: 0:04:01 | ETA: 0:02:23 | Loss: 0.1270 | top1:  94.4846\n"
     ]
    },
    {
     "name": "stderr",
     "output_type": "stream",
     "text": [
      " 79%|██████████████████████████████████████████████████████████████▉                 | 500/636 [04:56<01:14,  1.82it/s]"
     ]
    },
    {
     "name": "stdout",
     "output_type": "stream",
     "text": [
      "(500/636) Data: 0.025s | Batch: 0.592s | Total: 0:04:56 | ETA: 0:01:16 | Loss: 0.1271 | top1:  94.4808\n"
     ]
    },
    {
     "name": "stderr",
     "output_type": "stream",
     "text": [
      " 94%|███████████████████████████████████████████████████████████████████████████▍    | 600/636 [05:50<00:21,  1.65it/s]"
     ]
    },
    {
     "name": "stdout",
     "output_type": "stream",
     "text": [
      "(600/636) Data: 0.021s | Batch: 0.584s | Total: 0:05:50 | ETA: 0:00:21 | Loss: 0.1271 | top1:  94.4790\n"
     ]
    },
    {
     "name": "stderr",
     "output_type": "stream",
     "text": [
      "100%|████████████████████████████████████████████████████████████████████████████████| 636/636 [06:12<00:00,  1.71it/s]\n",
      "100%|████████████████████████████████████████████████████████████████████████████████| 156/156 [00:24<00:00,  6.29it/s]\n"
     ]
    },
    {
     "name": "stdout",
     "output_type": "stream",
     "text": [
      "(156/156) Data: 0.046s | Batch: 0.155s | Total: 0:00:24 | ETA: 0:00:01 | Loss: 0.2047 | top1:  91.5884\n",
      "=> saving checkpoint 'checkpoints\\checkpoint.pth.tar'\n"
     ]
    },
    {
     "name": "stderr",
     "output_type": "stream",
     "text": [
      "  0%|                                                                                          | 0/636 [00:00<?, ?it/s]"
     ]
    },
    {
     "name": "stdout",
     "output_type": "stream",
     "text": [
      "\n",
      "Epoch: [21 | 50] LR: 0.0001000000000000\n"
     ]
    },
    {
     "name": "stderr",
     "output_type": "stream",
     "text": [
      " 16%|████████████▌                                                                   | 100/636 [01:05<04:44,  1.89it/s]"
     ]
    },
    {
     "name": "stdout",
     "output_type": "stream",
     "text": [
      "(100/636) Data: 0.113s | Batch: 0.657s | Total: 0:01:05 | ETA: 0:04:47 | Loss: 0.1274 | top1:  94.4834\n"
     ]
    },
    {
     "name": "stderr",
     "output_type": "stream",
     "text": [
      " 31%|█████████████████████████▏                                                      | 200/636 [02:00<03:57,  1.83it/s]"
     ]
    },
    {
     "name": "stdout",
     "output_type": "stream",
     "text": [
      "(200/636) Data: 0.057s | Batch: 0.603s | Total: 0:02:00 | ETA: 0:03:59 | Loss: 0.1271 | top1:  94.4833\n"
     ]
    },
    {
     "name": "stderr",
     "output_type": "stream",
     "text": [
      " 47%|█████████████████████████████████████▋                                          | 300/636 [02:54<03:04,  1.82it/s]"
     ]
    },
    {
     "name": "stdout",
     "output_type": "stream",
     "text": [
      "(300/636) Data: 0.039s | Batch: 0.580s | Total: 0:02:54 | ETA: 0:03:06 | Loss: 0.1268 | top1:  94.4956\n"
     ]
    },
    {
     "name": "stderr",
     "output_type": "stream",
     "text": [
      " 63%|██████████████████████████████████████████████████▎                             | 400/636 [03:48<02:07,  1.85it/s]"
     ]
    },
    {
     "name": "stdout",
     "output_type": "stream",
     "text": [
      "(400/636) Data: 0.029s | Batch: 0.572s | Total: 0:03:48 | ETA: 0:02:09 | Loss: 0.1268 | top1:  94.5015\n"
     ]
    },
    {
     "name": "stderr",
     "output_type": "stream",
     "text": [
      " 79%|██████████████████████████████████████████████████████████████▉                 | 500/636 [04:47<01:24,  1.61it/s]"
     ]
    },
    {
     "name": "stdout",
     "output_type": "stream",
     "text": [
      "(500/636) Data: 0.024s | Batch: 0.574s | Total: 0:04:47 | ETA: 0:01:28 | Loss: 0.1268 | top1:  94.4992\n"
     ]
    },
    {
     "name": "stderr",
     "output_type": "stream",
     "text": [
      " 94%|███████████████████████████████████████████████████████████████████████████▍    | 600/636 [05:44<00:20,  1.77it/s]"
     ]
    },
    {
     "name": "stdout",
     "output_type": "stream",
     "text": [
      "(600/636) Data: 0.020s | Batch: 0.575s | Total: 0:05:44 | ETA: 0:00:21 | Loss: 0.1268 | top1:  94.4962\n"
     ]
    },
    {
     "name": "stderr",
     "output_type": "stream",
     "text": [
      "100%|████████████████████████████████████████████████████████████████████████████████| 636/636 [06:06<00:00,  1.73it/s]\n",
      "100%|████████████████████████████████████████████████████████████████████████████████| 156/156 [00:20<00:00,  7.46it/s]\n"
     ]
    },
    {
     "name": "stdout",
     "output_type": "stream",
     "text": [
      "(156/156) Data: 0.045s | Batch: 0.130s | Total: 0:00:20 | ETA: 0:00:01 | Loss: 0.2060 | top1:  91.5613\n",
      "=> saving checkpoint 'checkpoints\\checkpoint.pth.tar'\n"
     ]
    },
    {
     "name": "stderr",
     "output_type": "stream",
     "text": [
      "  0%|                                                                                          | 0/636 [00:00<?, ?it/s]"
     ]
    },
    {
     "name": "stdout",
     "output_type": "stream",
     "text": [
      "\n",
      "Epoch: [22 | 50] LR: 0.0001000000000000\n"
     ]
    },
    {
     "name": "stderr",
     "output_type": "stream",
     "text": [
      " 16%|████████████▌                                                                   | 100/636 [01:02<04:55,  1.82it/s]"
     ]
    },
    {
     "name": "stdout",
     "output_type": "stream",
     "text": [
      "(100/636) Data: 0.106s | Batch: 0.628s | Total: 0:01:02 | ETA: 0:05:02 | Loss: 0.1259 | top1:  94.5373\n"
     ]
    },
    {
     "name": "stderr",
     "output_type": "stream",
     "text": [
      " 31%|█████████████████████████▏                                                      | 200/636 [01:56<03:55,  1.85it/s]"
     ]
    },
    {
     "name": "stdout",
     "output_type": "stream",
     "text": [
      "(200/636) Data: 0.054s | Batch: 0.583s | Total: 0:01:56 | ETA: 0:03:57 | Loss: 0.1259 | top1:  94.5437\n"
     ]
    },
    {
     "name": "stderr",
     "output_type": "stream",
     "text": [
      " 47%|█████████████████████████████████████▋                                          | 300/636 [02:51<02:55,  1.92it/s]"
     ]
    },
    {
     "name": "stdout",
     "output_type": "stream",
     "text": [
      "(300/636) Data: 0.037s | Batch: 0.570s | Total: 0:02:51 | ETA: 0:03:02 | Loss: 0.1261 | top1:  94.5314\n"
     ]
    },
    {
     "name": "stderr",
     "output_type": "stream",
     "text": [
      " 63%|██████████████████████████████████████████████████▎                             | 400/636 [03:46<02:17,  1.72it/s]"
     ]
    },
    {
     "name": "stdout",
     "output_type": "stream",
     "text": [
      "(400/636) Data: 0.028s | Batch: 0.567s | Total: 0:03:46 | ETA: 0:02:13 | Loss: 0.1262 | top1:  94.5229\n"
     ]
    },
    {
     "name": "stderr",
     "output_type": "stream",
     "text": [
      " 79%|██████████████████████████████████████████████████████████████▉                 | 500/636 [04:41<01:14,  1.83it/s]"
     ]
    },
    {
     "name": "stdout",
     "output_type": "stream",
     "text": [
      "(500/636) Data: 0.023s | Batch: 0.563s | Total: 0:04:41 | ETA: 0:01:15 | Loss: 0.1264 | top1:  94.5125\n"
     ]
    },
    {
     "name": "stderr",
     "output_type": "stream",
     "text": [
      " 94%|███████████████████████████████████████████████████████████████████████████▍    | 600/636 [05:35<00:20,  1.74it/s]"
     ]
    },
    {
     "name": "stdout",
     "output_type": "stream",
     "text": [
      "(600/636) Data: 0.019s | Batch: 0.559s | Total: 0:05:35 | ETA: 0:00:21 | Loss: 0.1263 | top1:  94.5135\n"
     ]
    },
    {
     "name": "stderr",
     "output_type": "stream",
     "text": [
      "100%|████████████████████████████████████████████████████████████████████████████████| 636/636 [05:56<00:00,  1.78it/s]\n",
      "100%|████████████████████████████████████████████████████████████████████████████████| 156/156 [00:21<00:00,  7.14it/s]\n"
     ]
    },
    {
     "name": "stdout",
     "output_type": "stream",
     "text": [
      "(156/156) Data: 0.046s | Batch: 0.136s | Total: 0:00:21 | ETA: 0:00:01 | Loss: 0.2061 | top1:  91.5790\n",
      "=> saving checkpoint 'checkpoints\\checkpoint.pth.tar'\n"
     ]
    },
    {
     "name": "stderr",
     "output_type": "stream",
     "text": [
      "  0%|                                                                                          | 0/636 [00:00<?, ?it/s]"
     ]
    },
    {
     "name": "stdout",
     "output_type": "stream",
     "text": [
      "\n",
      "Epoch: [23 | 50] LR: 0.0000100000000000\n"
     ]
    },
    {
     "name": "stderr",
     "output_type": "stream",
     "text": [
      " 16%|████████████▌                                                                   | 100/636 [01:04<04:56,  1.81it/s]"
     ]
    },
    {
     "name": "stdout",
     "output_type": "stream",
     "text": [
      "(100/636) Data: 0.111s | Batch: 0.647s | Total: 0:01:04 | ETA: 0:05:00 | Loss: 0.1257 | top1:  94.5481\n"
     ]
    },
    {
     "name": "stderr",
     "output_type": "stream",
     "text": [
      " 31%|█████████████████████████▏                                                      | 200/636 [02:00<03:56,  1.85it/s]"
     ]
    },
    {
     "name": "stdout",
     "output_type": "stream",
     "text": [
      "(200/636) Data: 0.056s | Batch: 0.601s | Total: 0:02:00 | ETA: 0:03:55 | Loss: 0.1257 | top1:  94.5444\n"
     ]
    },
    {
     "name": "stderr",
     "output_type": "stream",
     "text": [
      " 47%|█████████████████████████████████████▋                                          | 300/636 [02:58<03:11,  1.75it/s]"
     ]
    },
    {
     "name": "stdout",
     "output_type": "stream",
     "text": [
      "(300/636) Data: 0.038s | Batch: 0.594s | Total: 0:02:58 | ETA: 0:03:13 | Loss: 0.1259 | top1:  94.5352\n"
     ]
    },
    {
     "name": "stderr",
     "output_type": "stream",
     "text": [
      " 63%|██████████████████████████████████████████████████▎                             | 400/636 [04:00<02:27,  1.60it/s]"
     ]
    },
    {
     "name": "stdout",
     "output_type": "stream",
     "text": [
      "(400/636) Data: 0.029s | Batch: 0.600s | Total: 0:04:00 | ETA: 0:02:23 | Loss: 0.1260 | top1:  94.5320\n"
     ]
    },
    {
     "name": "stderr",
     "output_type": "stream",
     "text": [
      " 79%|██████████████████████████████████████████████████████████████▉                 | 500/636 [05:01<01:27,  1.55it/s]"
     ]
    },
    {
     "name": "stdout",
     "output_type": "stream",
     "text": [
      "(500/636) Data: 0.024s | Batch: 0.603s | Total: 0:05:01 | ETA: 0:01:30 | Loss: 0.1260 | top1:  94.5346\n"
     ]
    },
    {
     "name": "stderr",
     "output_type": "stream",
     "text": [
      " 94%|███████████████████████████████████████████████████████████████████████████▍    | 600/636 [06:03<00:21,  1.66it/s]"
     ]
    },
    {
     "name": "stdout",
     "output_type": "stream",
     "text": [
      "(600/636) Data: 0.020s | Batch: 0.606s | Total: 0:06:03 | ETA: 0:00:24 | Loss: 0.1259 | top1:  94.5386\n"
     ]
    },
    {
     "name": "stderr",
     "output_type": "stream",
     "text": [
      "100%|████████████████████████████████████████████████████████████████████████████████| 636/636 [06:25<00:00,  1.65it/s]\n",
      "100%|████████████████████████████████████████████████████████████████████████████████| 156/156 [00:23<00:00,  6.60it/s]\n"
     ]
    },
    {
     "name": "stdout",
     "output_type": "stream",
     "text": [
      "(156/156) Data: 0.049s | Batch: 0.148s | Total: 0:00:23 | ETA: 0:00:01 | Loss: 0.2059 | top1:  91.5672\n",
      "=> saving checkpoint 'checkpoints\\checkpoint.pth.tar'\n"
     ]
    },
    {
     "name": "stderr",
     "output_type": "stream",
     "text": [
      "  0%|                                                                                          | 0/636 [00:00<?, ?it/s]"
     ]
    },
    {
     "name": "stdout",
     "output_type": "stream",
     "text": [
      "\n",
      "Epoch: [24 | 50] LR: 0.0000100000000000\n"
     ]
    },
    {
     "name": "stderr",
     "output_type": "stream",
     "text": [
      " 16%|████████████▌                                                                   | 100/636 [01:05<04:49,  1.85it/s]"
     ]
    },
    {
     "name": "stdout",
     "output_type": "stream",
     "text": [
      "(100/636) Data: 0.122s | Batch: 0.653s | Total: 0:01:05 | ETA: 0:04:51 | Loss: 0.1256 | top1:  94.5272\n"
     ]
    },
    {
     "name": "stderr",
     "output_type": "stream",
     "text": [
      " 31%|█████████████████████████▏                                                      | 200/636 [01:59<04:00,  1.82it/s]"
     ]
    },
    {
     "name": "stdout",
     "output_type": "stream",
     "text": [
      "(200/636) Data: 0.062s | Batch: 0.599s | Total: 0:01:59 | ETA: 0:03:59 | Loss: 0.1255 | top1:  94.5470\n"
     ]
    },
    {
     "name": "stderr",
     "output_type": "stream",
     "text": [
      " 47%|█████████████████████████████████████▋                                          | 300/636 [02:54<03:23,  1.65it/s]"
     ]
    },
    {
     "name": "stdout",
     "output_type": "stream",
     "text": [
      "(300/636) Data: 0.042s | Batch: 0.583s | Total: 0:02:54 | ETA: 0:03:16 | Loss: 0.1255 | top1:  94.5422\n"
     ]
    },
    {
     "name": "stderr",
     "output_type": "stream",
     "text": [
      " 63%|██████████████████████████████████████████████████▎                             | 400/636 [03:52<02:10,  1.81it/s]"
     ]
    },
    {
     "name": "stdout",
     "output_type": "stream",
     "text": [
      "(400/636) Data: 0.032s | Batch: 0.582s | Total: 0:03:52 | ETA: 0:02:17 | Loss: 0.1257 | top1:  94.5350\n"
     ]
    },
    {
     "name": "stderr",
     "output_type": "stream",
     "text": [
      " 79%|██████████████████████████████████████████████████████████████▉                 | 500/636 [04:51<01:22,  1.65it/s]"
     ]
    },
    {
     "name": "stdout",
     "output_type": "stream",
     "text": [
      "(500/636) Data: 0.026s | Batch: 0.582s | Total: 0:04:51 | ETA: 0:01:21 | Loss: 0.1258 | top1:  94.5312\n"
     ]
    },
    {
     "name": "stderr",
     "output_type": "stream",
     "text": [
      " 94%|███████████████████████████████████████████████████████████████████████████▍    | 600/636 [05:50<00:23,  1.53it/s]"
     ]
    },
    {
     "name": "stdout",
     "output_type": "stream",
     "text": [
      "(600/636) Data: 0.022s | Batch: 0.585s | Total: 0:05:50 | ETA: 0:00:24 | Loss: 0.1258 | top1:  94.5323\n"
     ]
    },
    {
     "name": "stderr",
     "output_type": "stream",
     "text": [
      "100%|████████████████████████████████████████████████████████████████████████████████| 636/636 [06:11<00:00,  1.71it/s]\n",
      "100%|████████████████████████████████████████████████████████████████████████████████| 156/156 [00:25<00:00,  6.22it/s]\n"
     ]
    },
    {
     "name": "stdout",
     "output_type": "stream",
     "text": [
      "(156/156) Data: 0.056s | Batch: 0.157s | Total: 0:00:24 | ETA: 0:00:01 | Loss: 0.2062 | top1:  91.5629\n",
      "=> saving checkpoint 'checkpoints\\checkpoint.pth.tar'\n"
     ]
    },
    {
     "name": "stderr",
     "output_type": "stream",
     "text": [
      "  0%|                                                                                          | 0/636 [00:00<?, ?it/s]"
     ]
    },
    {
     "name": "stdout",
     "output_type": "stream",
     "text": [
      "\n",
      "Epoch: [25 | 50] LR: 0.0000100000000000\n"
     ]
    },
    {
     "name": "stderr",
     "output_type": "stream",
     "text": [
      " 16%|████████████▌                                                                   | 100/636 [01:11<05:27,  1.63it/s]"
     ]
    },
    {
     "name": "stdout",
     "output_type": "stream",
     "text": [
      "(100/636) Data: 0.149s | Batch: 0.719s | Total: 0:01:11 | ETA: 0:05:25 | Loss: 0.1259 | top1:  94.5355\n"
     ]
    },
    {
     "name": "stderr",
     "output_type": "stream",
     "text": [
      " 31%|█████████████████████████▏                                                      | 200/636 [02:15<04:43,  1.54it/s]"
     ]
    },
    {
     "name": "stdout",
     "output_type": "stream",
     "text": [
      "(200/636) Data: 0.076s | Batch: 0.679s | Total: 0:02:15 | ETA: 0:04:46 | Loss: 0.1260 | top1:  94.5305\n"
     ]
    },
    {
     "name": "stderr",
     "output_type": "stream",
     "text": [
      " 47%|█████████████████████████████████████▋                                          | 300/636 [03:17<03:09,  1.77it/s]"
     ]
    },
    {
     "name": "stdout",
     "output_type": "stream",
     "text": [
      "(300/636) Data: 0.052s | Batch: 0.660s | Total: 0:03:17 | ETA: 0:03:11 | Loss: 0.1260 | top1:  94.5242\n"
     ]
    },
    {
     "name": "stderr",
     "output_type": "stream",
     "text": [
      " 63%|██████████████████████████████████████████████████▎                             | 400/636 [04:23<02:14,  1.76it/s]"
     ]
    },
    {
     "name": "stdout",
     "output_type": "stream",
     "text": [
      "(400/636) Data: 0.039s | Batch: 0.658s | Total: 0:04:23 | ETA: 0:02:27 | Loss: 0.1259 | top1:  94.5305\n"
     ]
    },
    {
     "name": "stderr",
     "output_type": "stream",
     "text": [
      " 79%|██████████████████████████████████████████████████████████████▉                 | 500/636 [05:21<01:17,  1.76it/s]"
     ]
    },
    {
     "name": "stdout",
     "output_type": "stream",
     "text": [
      "(500/636) Data: 0.032s | Batch: 0.642s | Total: 0:05:21 | ETA: 0:01:26 | Loss: 0.1258 | top1:  94.5359\n"
     ]
    },
    {
     "name": "stderr",
     "output_type": "stream",
     "text": [
      " 94%|███████████████████████████████████████████████████████████████████████████▍    | 600/636 [06:20<00:19,  1.81it/s]"
     ]
    },
    {
     "name": "stdout",
     "output_type": "stream",
     "text": [
      "(600/636) Data: 0.027s | Batch: 0.633s | Total: 0:06:20 | ETA: 0:00:21 | Loss: 0.1258 | top1:  94.5367\n"
     ]
    },
    {
     "name": "stderr",
     "output_type": "stream",
     "text": [
      "100%|████████████████████████████████████████████████████████████████████████████████| 636/636 [06:41<00:00,  1.59it/s]\n",
      "100%|████████████████████████████████████████████████████████████████████████████████| 156/156 [00:22<00:00,  7.04it/s]\n"
     ]
    },
    {
     "name": "stdout",
     "output_type": "stream",
     "text": [
      "(156/156) Data: 0.047s | Batch: 0.138s | Total: 0:00:21 | ETA: 0:00:01 | Loss: 0.2060 | top1:  91.5806\n",
      "=> saving checkpoint 'checkpoints\\checkpoint.pth.tar'\n"
     ]
    },
    {
     "name": "stderr",
     "output_type": "stream",
     "text": [
      "  0%|                                                                                          | 0/636 [00:00<?, ?it/s]"
     ]
    },
    {
     "name": "stdout",
     "output_type": "stream",
     "text": [
      "\n",
      "Epoch: [26 | 50] LR: 0.0000100000000000\n"
     ]
    },
    {
     "name": "stderr",
     "output_type": "stream",
     "text": [
      " 16%|████████████▌                                                                   | 100/636 [01:05<04:55,  1.81it/s]"
     ]
    },
    {
     "name": "stdout",
     "output_type": "stream",
     "text": [
      "(100/636) Data: 0.119s | Batch: 0.652s | Total: 0:01:05 | ETA: 0:04:59 | Loss: 0.1259 | top1:  94.5659\n"
     ]
    },
    {
     "name": "stderr",
     "output_type": "stream",
     "text": [
      " 31%|█████████████████████████▏                                                      | 200/636 [02:00<04:00,  1.81it/s]"
     ]
    },
    {
     "name": "stdout",
     "output_type": "stream",
     "text": [
      "(200/636) Data: 0.061s | Batch: 0.601s | Total: 0:02:00 | ETA: 0:03:59 | Loss: 0.1259 | top1:  94.5498\n"
     ]
    },
    {
     "name": "stderr",
     "output_type": "stream",
     "text": [
      " 47%|█████████████████████████████████████▋                                          | 300/636 [02:57<03:28,  1.61it/s]"
     ]
    },
    {
     "name": "stdout",
     "output_type": "stream",
     "text": [
      "(300/636) Data: 0.041s | Batch: 0.590s | Total: 0:02:57 | ETA: 0:03:20 | Loss: 0.1260 | top1:  94.5402\n"
     ]
    },
    {
     "name": "stderr",
     "output_type": "stream",
     "text": [
      " 63%|██████████████████████████████████████████████████▎                             | 400/636 [03:54<02:23,  1.65it/s]"
     ]
    },
    {
     "name": "stdout",
     "output_type": "stream",
     "text": [
      "(400/636) Data: 0.031s | Batch: 0.587s | Total: 0:03:54 | ETA: 0:02:29 | Loss: 0.1258 | top1:  94.5511\n"
     ]
    },
    {
     "name": "stderr",
     "output_type": "stream",
     "text": [
      " 79%|██████████████████████████████████████████████████████████████▉                 | 500/636 [04:54<01:19,  1.72it/s]"
     ]
    },
    {
     "name": "stdout",
     "output_type": "stream",
     "text": [
      "(500/636) Data: 0.026s | Batch: 0.588s | Total: 0:04:54 | ETA: 0:01:21 | Loss: 0.1257 | top1:  94.5530\n"
     ]
    },
    {
     "name": "stderr",
     "output_type": "stream",
     "text": [
      " 94%|███████████████████████████████████████████████████████████████████████████▍    | 600/636 [05:53<00:22,  1.61it/s]"
     ]
    },
    {
     "name": "stdout",
     "output_type": "stream",
     "text": [
      "(600/636) Data: 0.022s | Batch: 0.589s | Total: 0:05:53 | ETA: 0:00:22 | Loss: 0.1257 | top1:  94.5579\n"
     ]
    },
    {
     "name": "stderr",
     "output_type": "stream",
     "text": [
      "100%|████████████████████████████████████████████████████████████████████████████████| 636/636 [06:17<00:00,  1.69it/s]\n",
      "100%|████████████████████████████████████████████████████████████████████████████████| 156/156 [00:25<00:00,  6.05it/s]\n"
     ]
    },
    {
     "name": "stdout",
     "output_type": "stream",
     "text": [
      "(156/156) Data: 0.058s | Batch: 0.161s | Total: 0:00:25 | ETA: 0:00:01 | Loss: 0.2060 | top1:  91.5774\n",
      "=> saving checkpoint 'checkpoints\\checkpoint.pth.tar'\n"
     ]
    },
    {
     "name": "stderr",
     "output_type": "stream",
     "text": [
      "  0%|                                                                                          | 0/636 [00:00<?, ?it/s]"
     ]
    },
    {
     "name": "stdout",
     "output_type": "stream",
     "text": [
      "\n",
      "Epoch: [27 | 50] LR: 0.0000100000000000\n"
     ]
    },
    {
     "name": "stderr",
     "output_type": "stream",
     "text": [
      " 16%|████████████▌                                                                   | 100/636 [01:12<05:08,  1.74it/s]"
     ]
    },
    {
     "name": "stdout",
     "output_type": "stream",
     "text": [
      "(100/636) Data: 0.142s | Batch: 0.723s | Total: 0:01:12 | ETA: 0:05:57 | Loss: 0.1255 | top1:  94.5701\n"
     ]
    },
    {
     "name": "stderr",
     "output_type": "stream",
     "text": [
      " 31%|█████████████████████████▏                                                      | 200/636 [02:14<04:27,  1.63it/s]"
     ]
    },
    {
     "name": "stdout",
     "output_type": "stream",
     "text": [
      "(200/636) Data: 0.072s | Batch: 0.671s | Total: 0:02:14 | ETA: 0:04:36 | Loss: 0.1256 | top1:  94.5534\n"
     ]
    },
    {
     "name": "stderr",
     "output_type": "stream",
     "text": [
      " 47%|█████████████████████████████████████▋                                          | 300/636 [03:15<03:19,  1.68it/s]"
     ]
    },
    {
     "name": "stdout",
     "output_type": "stream",
     "text": [
      "(300/636) Data: 0.049s | Batch: 0.652s | Total: 0:03:15 | ETA: 0:03:38 | Loss: 0.1258 | top1:  94.5434\n"
     ]
    },
    {
     "name": "stderr",
     "output_type": "stream",
     "text": [
      " 63%|██████████████████████████████████████████████████▎                             | 400/636 [04:16<02:22,  1.66it/s]"
     ]
    },
    {
     "name": "stdout",
     "output_type": "stream",
     "text": [
      "(400/636) Data: 0.037s | Batch: 0.642s | Total: 0:04:16 | ETA: 0:02:24 | Loss: 0.1258 | top1:  94.5355\n"
     ]
    },
    {
     "name": "stderr",
     "output_type": "stream",
     "text": [
      " 79%|██████████████████████████████████████████████████████████████▉                 | 500/636 [05:15<01:19,  1.70it/s]"
     ]
    },
    {
     "name": "stdout",
     "output_type": "stream",
     "text": [
      "(500/636) Data: 0.030s | Batch: 0.631s | Total: 0:05:15 | ETA: 0:01:21 | Loss: 0.1258 | top1:  94.5367\n"
     ]
    },
    {
     "name": "stderr",
     "output_type": "stream",
     "text": [
      " 94%|███████████████████████████████████████████████████████████████████████████▍    | 600/636 [06:15<00:21,  1.67it/s]"
     ]
    },
    {
     "name": "stdout",
     "output_type": "stream",
     "text": [
      "(600/636) Data: 0.026s | Batch: 0.625s | Total: 0:06:15 | ETA: 0:00:22 | Loss: 0.1257 | top1:  94.5384\n"
     ]
    },
    {
     "name": "stderr",
     "output_type": "stream",
     "text": [
      "100%|████████████████████████████████████████████████████████████████████████████████| 636/636 [06:37<00:00,  1.60it/s]\n",
      "100%|████████████████████████████████████████████████████████████████████████████████| 156/156 [00:25<00:00,  6.12it/s]\n"
     ]
    },
    {
     "name": "stdout",
     "output_type": "stream",
     "text": [
      "(156/156) Data: 0.058s | Batch: 0.159s | Total: 0:00:24 | ETA: 0:00:01 | Loss: 0.2062 | top1:  91.5511\n",
      "=> saving checkpoint 'checkpoints\\checkpoint.pth.tar'\n"
     ]
    },
    {
     "name": "stderr",
     "output_type": "stream",
     "text": [
      "  0%|                                                                                          | 0/636 [00:00<?, ?it/s]"
     ]
    },
    {
     "name": "stdout",
     "output_type": "stream",
     "text": [
      "\n",
      "Epoch: [28 | 50] LR: 0.0000100000000000\n"
     ]
    },
    {
     "name": "stderr",
     "output_type": "stream",
     "text": [
      " 16%|████████████▌                                                                   | 100/636 [01:13<05:11,  1.72it/s]"
     ]
    },
    {
     "name": "stdout",
     "output_type": "stream",
     "text": [
      "(100/636) Data: 0.147s | Batch: 0.735s | Total: 0:01:13 | ETA: 0:05:09 | Loss: 0.1260 | top1:  94.5249\n"
     ]
    },
    {
     "name": "stderr",
     "output_type": "stream",
     "text": [
      " 31%|█████████████████████████▏                                                      | 200/636 [02:10<04:12,  1.73it/s]"
     ]
    },
    {
     "name": "stdout",
     "output_type": "stream",
     "text": [
      "(200/636) Data: 0.075s | Batch: 0.653s | Total: 0:02:10 | ETA: 0:04:12 | Loss: 0.1258 | top1:  94.5323\n"
     ]
    },
    {
     "name": "stderr",
     "output_type": "stream",
     "text": [
      " 47%|█████████████████████████████████████▋                                          | 300/636 [03:08<03:19,  1.68it/s]"
     ]
    },
    {
     "name": "stdout",
     "output_type": "stream",
     "text": [
      "(300/636) Data: 0.051s | Batch: 0.629s | Total: 0:03:08 | ETA: 0:03:19 | Loss: 0.1257 | top1:  94.5460\n"
     ]
    },
    {
     "name": "stderr",
     "output_type": "stream",
     "text": [
      " 63%|██████████████████████████████████████████████████▎                             | 400/636 [04:05<02:13,  1.77it/s]"
     ]
    },
    {
     "name": "stdout",
     "output_type": "stream",
     "text": [
      "(400/636) Data: 0.039s | Batch: 0.614s | Total: 0:04:05 | ETA: 0:02:14 | Loss: 0.1256 | top1:  94.5529\n"
     ]
    },
    {
     "name": "stderr",
     "output_type": "stream",
     "text": [
      " 79%|██████████████████████████████████████████████████████████████▉                 | 500/636 [05:01<01:16,  1.78it/s]"
     ]
    },
    {
     "name": "stdout",
     "output_type": "stream",
     "text": [
      "(500/636) Data: 0.031s | Batch: 0.603s | Total: 0:05:01 | ETA: 0:01:17 | Loss: 0.1255 | top1:  94.5588\n"
     ]
    },
    {
     "name": "stderr",
     "output_type": "stream",
     "text": [
      " 94%|███████████████████████████████████████████████████████████████████████████▍    | 600/636 [05:57<00:20,  1.79it/s]"
     ]
    },
    {
     "name": "stdout",
     "output_type": "stream",
     "text": [
      "(600/636) Data: 0.026s | Batch: 0.596s | Total: 0:05:57 | ETA: 0:00:21 | Loss: 0.1256 | top1:  94.5539\n"
     ]
    },
    {
     "name": "stderr",
     "output_type": "stream",
     "text": [
      "100%|████████████████████████████████████████████████████████████████████████████████| 636/636 [06:18<00:00,  1.68it/s]\n",
      "100%|████████████████████████████████████████████████████████████████████████████████| 156/156 [00:22<00:00,  6.96it/s]\n"
     ]
    },
    {
     "name": "stdout",
     "output_type": "stream",
     "text": [
      "(156/156) Data: 0.049s | Batch: 0.140s | Total: 0:00:21 | ETA: 0:00:01 | Loss: 0.2062 | top1:  91.5679\n",
      "=> saving checkpoint 'checkpoints\\checkpoint.pth.tar'\n"
     ]
    },
    {
     "name": "stderr",
     "output_type": "stream",
     "text": [
      "  0%|                                                                                          | 0/636 [00:00<?, ?it/s]"
     ]
    },
    {
     "name": "stdout",
     "output_type": "stream",
     "text": [
      "\n",
      "Epoch: [29 | 50] LR: 0.0000010000000000\n"
     ]
    },
    {
     "name": "stderr",
     "output_type": "stream",
     "text": [
      " 16%|████████████▌                                                                   | 100/636 [01:05<04:53,  1.83it/s]"
     ]
    },
    {
     "name": "stdout",
     "output_type": "stream",
     "text": [
      "(100/636) Data: 0.121s | Batch: 0.658s | Total: 0:01:05 | ETA: 0:04:53 | Loss: 0.1258 | top1:  94.5324\n"
     ]
    },
    {
     "name": "stderr",
     "output_type": "stream",
     "text": [
      " 31%|█████████████████████████▏                                                      | 200/636 [02:00<04:01,  1.81it/s]"
     ]
    },
    {
     "name": "stdout",
     "output_type": "stream",
     "text": [
      "(200/636) Data: 0.062s | Batch: 0.604s | Total: 0:02:00 | ETA: 0:03:58 | Loss: 0.1258 | top1:  94.5446\n"
     ]
    },
    {
     "name": "stderr",
     "output_type": "stream",
     "text": [
      " 47%|█████████████████████████████████████▋                                          | 300/636 [02:56<03:04,  1.83it/s]"
     ]
    },
    {
     "name": "stdout",
     "output_type": "stream",
     "text": [
      "(300/636) Data: 0.042s | Batch: 0.589s | Total: 0:02:56 | ETA: 0:03:06 | Loss: 0.1258 | top1:  94.5394\n"
     ]
    },
    {
     "name": "stderr",
     "output_type": "stream",
     "text": [
      " 63%|██████████████████████████████████████████████████▎                             | 400/636 [03:52<02:13,  1.77it/s]"
     ]
    },
    {
     "name": "stdout",
     "output_type": "stream",
     "text": [
      "(400/636) Data: 0.032s | Batch: 0.580s | Total: 0:03:52 | ETA: 0:02:11 | Loss: 0.1256 | top1:  94.5501\n"
     ]
    },
    {
     "name": "stderr",
     "output_type": "stream",
     "text": [
      " 79%|██████████████████████████████████████████████████████████████▉                 | 500/636 [04:47<01:16,  1.77it/s]"
     ]
    },
    {
     "name": "stdout",
     "output_type": "stream",
     "text": [
      "(500/636) Data: 0.026s | Batch: 0.575s | Total: 0:04:47 | ETA: 0:01:17 | Loss: 0.1255 | top1:  94.5570\n"
     ]
    },
    {
     "name": "stderr",
     "output_type": "stream",
     "text": [
      " 94%|███████████████████████████████████████████████████████████████████████████▍    | 600/636 [05:43<00:19,  1.81it/s]"
     ]
    },
    {
     "name": "stdout",
     "output_type": "stream",
     "text": [
      "(600/636) Data: 0.022s | Batch: 0.572s | Total: 0:05:43 | ETA: 0:00:21 | Loss: 0.1254 | top1:  94.5601\n"
     ]
    },
    {
     "name": "stderr",
     "output_type": "stream",
     "text": [
      "100%|████████████████████████████████████████████████████████████████████████████████| 636/636 [06:03<00:00,  1.75it/s]\n",
      "100%|████████████████████████████████████████████████████████████████████████████████| 156/156 [00:22<00:00,  7.04it/s]\n"
     ]
    },
    {
     "name": "stdout",
     "output_type": "stream",
     "text": [
      "(156/156) Data: 0.047s | Batch: 0.138s | Total: 0:00:21 | ETA: 0:00:01 | Loss: 0.2061 | top1:  91.5779\n",
      "=> saving checkpoint 'checkpoints\\checkpoint.pth.tar'\n"
     ]
    },
    {
     "name": "stderr",
     "output_type": "stream",
     "text": [
      "  0%|                                                                                          | 0/636 [00:00<?, ?it/s]"
     ]
    },
    {
     "name": "stdout",
     "output_type": "stream",
     "text": [
      "\n",
      "Epoch: [30 | 50] LR: 0.0000010000000000\n"
     ]
    },
    {
     "name": "stderr",
     "output_type": "stream",
     "text": [
      " 16%|████████████▌                                                                   | 100/636 [01:04<04:51,  1.84it/s]"
     ]
    },
    {
     "name": "stdout",
     "output_type": "stream",
     "text": [
      "(100/636) Data: 0.120s | Batch: 0.648s | Total: 0:01:04 | ETA: 0:04:52 | Loss: 0.1260 | top1:  94.5315\n"
     ]
    },
    {
     "name": "stderr",
     "output_type": "stream",
     "text": [
      " 31%|█████████████████████████▏                                                      | 200/636 [01:59<04:00,  1.81it/s]"
     ]
    },
    {
     "name": "stdout",
     "output_type": "stream",
     "text": [
      "(200/636) Data: 0.061s | Batch: 0.599s | Total: 0:01:59 | ETA: 0:03:58 | Loss: 0.1255 | top1:  94.5494\n"
     ]
    },
    {
     "name": "stderr",
     "output_type": "stream",
     "text": [
      " 47%|█████████████████████████████████████▋                                          | 300/636 [02:55<03:04,  1.82it/s]"
     ]
    },
    {
     "name": "stdout",
     "output_type": "stream",
     "text": [
      "(300/636) Data: 0.041s | Batch: 0.584s | Total: 0:02:55 | ETA: 0:03:07 | Loss: 0.1254 | top1:  94.5637\n"
     ]
    },
    {
     "name": "stderr",
     "output_type": "stream",
     "text": [
      " 63%|██████████████████████████████████████████████████▎                             | 400/636 [03:50<02:09,  1.83it/s]"
     ]
    },
    {
     "name": "stdout",
     "output_type": "stream",
     "text": [
      "(400/636) Data: 0.031s | Batch: 0.576s | Total: 0:03:50 | ETA: 0:02:12 | Loss: 0.1255 | top1:  94.5570\n"
     ]
    },
    {
     "name": "stderr",
     "output_type": "stream",
     "text": [
      " 79%|██████████████████████████████████████████████████████████████▉                 | 500/636 [04:45<01:14,  1.83it/s]"
     ]
    },
    {
     "name": "stdout",
     "output_type": "stream",
     "text": [
      "(500/636) Data: 0.025s | Batch: 0.571s | Total: 0:04:45 | ETA: 0:01:16 | Loss: 0.1256 | top1:  94.5556\n"
     ]
    },
    {
     "name": "stderr",
     "output_type": "stream",
     "text": [
      " 94%|███████████████████████████████████████████████████████████████████████████▍    | 600/636 [05:41<00:19,  1.81it/s]"
     ]
    },
    {
     "name": "stdout",
     "output_type": "stream",
     "text": [
      "(600/636) Data: 0.021s | Batch: 0.568s | Total: 0:05:41 | ETA: 0:00:21 | Loss: 0.1256 | top1:  94.5535\n"
     ]
    },
    {
     "name": "stderr",
     "output_type": "stream",
     "text": [
      "100%|████████████████████████████████████████████████████████████████████████████████| 636/636 [06:01<00:00,  1.76it/s]\n",
      "100%|████████████████████████████████████████████████████████████████████████████████| 156/156 [00:22<00:00,  6.83it/s]\n"
     ]
    },
    {
     "name": "stdout",
     "output_type": "stream",
     "text": [
      "(156/156) Data: 0.052s | Batch: 0.143s | Total: 0:00:22 | ETA: 0:00:01 | Loss: 0.2060 | top1:  91.5711\n",
      "=> saving checkpoint 'checkpoints\\checkpoint.pth.tar'\n"
     ]
    },
    {
     "name": "stderr",
     "output_type": "stream",
     "text": [
      "  0%|                                                                                          | 0/636 [00:00<?, ?it/s]"
     ]
    },
    {
     "name": "stdout",
     "output_type": "stream",
     "text": [
      "\n",
      "Epoch: [31 | 50] LR: 0.0000010000000000\n"
     ]
    },
    {
     "name": "stderr",
     "output_type": "stream",
     "text": [
      " 16%|████████████▌                                                                   | 100/636 [01:05<04:55,  1.82it/s]"
     ]
    },
    {
     "name": "stdout",
     "output_type": "stream",
     "text": [
      "(100/636) Data: 0.118s | Batch: 0.657s | Total: 0:01:05 | ETA: 0:04:57 | Loss: 0.1259 | top1:  94.5462\n"
     ]
    },
    {
     "name": "stderr",
     "output_type": "stream",
     "text": [
      " 31%|█████████████████████████▏                                                      | 200/636 [02:00<03:58,  1.83it/s]"
     ]
    },
    {
     "name": "stdout",
     "output_type": "stream",
     "text": [
      "(200/636) Data: 0.060s | Batch: 0.603s | Total: 0:02:00 | ETA: 0:03:59 | Loss: 0.1257 | top1:  94.5521\n"
     ]
    },
    {
     "name": "stderr",
     "output_type": "stream",
     "text": [
      " 47%|█████████████████████████████████████▋                                          | 300/636 [02:55<03:08,  1.78it/s]"
     ]
    },
    {
     "name": "stdout",
     "output_type": "stream",
     "text": [
      "(300/636) Data: 0.040s | Batch: 0.586s | Total: 0:02:55 | ETA: 0:03:07 | Loss: 0.1258 | top1:  94.5459\n"
     ]
    },
    {
     "name": "stderr",
     "output_type": "stream",
     "text": [
      " 63%|██████████████████████████████████████████████████▎                             | 400/636 [03:51<02:11,  1.79it/s]"
     ]
    },
    {
     "name": "stdout",
     "output_type": "stream",
     "text": [
      "(400/636) Data: 0.031s | Batch: 0.578s | Total: 0:03:51 | ETA: 0:02:10 | Loss: 0.1257 | top1:  94.5537\n"
     ]
    },
    {
     "name": "stderr",
     "output_type": "stream",
     "text": [
      " 79%|██████████████████████████████████████████████████████████████▉                 | 500/636 [04:46<01:15,  1.80it/s]"
     ]
    },
    {
     "name": "stdout",
     "output_type": "stream",
     "text": [
      "(500/636) Data: 0.025s | Batch: 0.573s | Total: 0:04:46 | ETA: 0:01:17 | Loss: 0.1255 | top1:  94.5611\n"
     ]
    },
    {
     "name": "stderr",
     "output_type": "stream",
     "text": [
      " 94%|███████████████████████████████████████████████████████████████████████████▍    | 600/636 [05:41<00:20,  1.79it/s]"
     ]
    },
    {
     "name": "stdout",
     "output_type": "stream",
     "text": [
      "(600/636) Data: 0.021s | Batch: 0.569s | Total: 0:05:41 | ETA: 0:00:21 | Loss: 0.1255 | top1:  94.5635\n"
     ]
    },
    {
     "name": "stderr",
     "output_type": "stream",
     "text": [
      "100%|████████████████████████████████████████████████████████████████████████████████| 636/636 [06:02<00:00,  1.76it/s]\n",
      "100%|████████████████████████████████████████████████████████████████████████████████| 156/156 [00:22<00:00,  7.08it/s]\n"
     ]
    },
    {
     "name": "stdout",
     "output_type": "stream",
     "text": [
      "(156/156) Data: 0.048s | Batch: 0.137s | Total: 0:00:21 | ETA: 0:00:01 | Loss: 0.2062 | top1:  91.5603\n",
      "=> saving checkpoint 'checkpoints\\checkpoint.pth.tar'\n"
     ]
    },
    {
     "name": "stderr",
     "output_type": "stream",
     "text": [
      "  0%|                                                                                          | 0/636 [00:00<?, ?it/s]"
     ]
    },
    {
     "name": "stdout",
     "output_type": "stream",
     "text": [
      "\n",
      "Epoch: [32 | 50] LR: 0.0000010000000000\n"
     ]
    },
    {
     "name": "stderr",
     "output_type": "stream",
     "text": [
      " 16%|████████████▌                                                                   | 100/636 [01:05<04:54,  1.82it/s]"
     ]
    },
    {
     "name": "stdout",
     "output_type": "stream",
     "text": [
      "(100/636) Data: 0.120s | Batch: 0.650s | Total: 0:01:05 | ETA: 0:04:53 | Loss: 0.1260 | top1:  94.5520\n"
     ]
    },
    {
     "name": "stderr",
     "output_type": "stream",
     "text": [
      " 31%|█████████████████████████▏                                                      | 200/636 [02:00<04:00,  1.81it/s]"
     ]
    },
    {
     "name": "stdout",
     "output_type": "stream",
     "text": [
      "(200/636) Data: 0.061s | Batch: 0.601s | Total: 0:02:00 | ETA: 0:04:01 | Loss: 0.1257 | top1:  94.5596\n"
     ]
    },
    {
     "name": "stderr",
     "output_type": "stream",
     "text": [
      " 47%|█████████████████████████████████████▋                                          | 300/636 [02:55<03:06,  1.80it/s]"
     ]
    },
    {
     "name": "stdout",
     "output_type": "stream",
     "text": [
      "(300/636) Data: 0.041s | Batch: 0.585s | Total: 0:02:55 | ETA: 0:03:07 | Loss: 0.1257 | top1:  94.5539\n"
     ]
    },
    {
     "name": "stderr",
     "output_type": "stream",
     "text": [
      " 63%|██████████████████████████████████████████████████▎                             | 400/636 [03:51<02:10,  1.80it/s]"
     ]
    },
    {
     "name": "stdout",
     "output_type": "stream",
     "text": [
      "(400/636) Data: 0.032s | Batch: 0.578s | Total: 0:03:51 | ETA: 0:02:12 | Loss: 0.1257 | top1:  94.5550\n"
     ]
    },
    {
     "name": "stderr",
     "output_type": "stream",
     "text": [
      " 79%|██████████████████████████████████████████████████████████████▉                 | 500/636 [04:47<01:20,  1.68it/s]"
     ]
    },
    {
     "name": "stdout",
     "output_type": "stream",
     "text": [
      "(500/636) Data: 0.026s | Batch: 0.576s | Total: 0:04:47 | ETA: 0:01:25 | Loss: 0.1257 | top1:  94.5518\n"
     ]
    },
    {
     "name": "stderr",
     "output_type": "stream",
     "text": [
      " 94%|███████████████████████████████████████████████████████████████████████████▍    | 600/636 [05:50<00:20,  1.77it/s]"
     ]
    },
    {
     "name": "stdout",
     "output_type": "stream",
     "text": [
      "(600/636) Data: 0.022s | Batch: 0.585s | Total: 0:05:50 | ETA: 0:00:22 | Loss: 0.1257 | top1:  94.5502\n"
     ]
    },
    {
     "name": "stderr",
     "output_type": "stream",
     "text": [
      "100%|████████████████████████████████████████████████████████████████████████████████| 636/636 [06:12<00:00,  1.71it/s]\n",
      "100%|████████████████████████████████████████████████████████████████████████████████| 156/156 [00:22<00:00,  7.01it/s]\n"
     ]
    },
    {
     "name": "stdout",
     "output_type": "stream",
     "text": [
      "(156/156) Data: 0.046s | Batch: 0.139s | Total: 0:00:21 | ETA: 0:00:01 | Loss: 0.2060 | top1:  91.5903\n",
      "=> saving checkpoint 'checkpoints\\checkpoint.pth.tar'\n"
     ]
    },
    {
     "name": "stderr",
     "output_type": "stream",
     "text": [
      "  0%|                                                                                          | 0/636 [00:00<?, ?it/s]"
     ]
    },
    {
     "name": "stdout",
     "output_type": "stream",
     "text": [
      "\n",
      "Epoch: [33 | 50] LR: 0.0000010000000000\n"
     ]
    },
    {
     "name": "stderr",
     "output_type": "stream",
     "text": [
      " 16%|████████████▌                                                                   | 100/636 [01:07<05:21,  1.67it/s]"
     ]
    },
    {
     "name": "stdout",
     "output_type": "stream",
     "text": [
      "(100/636) Data: 0.115s | Batch: 0.677s | Total: 0:01:07 | ETA: 0:05:23 | Loss: 0.1258 | top1:  94.5497\n"
     ]
    },
    {
     "name": "stderr",
     "output_type": "stream",
     "text": [
      " 31%|█████████████████████████▏                                                      | 200/636 [02:06<04:16,  1.70it/s]"
     ]
    },
    {
     "name": "stdout",
     "output_type": "stream",
     "text": [
      "(200/636) Data: 0.059s | Batch: 0.630s | Total: 0:02:06 | ETA: 0:04:19 | Loss: 0.1256 | top1:  94.5556\n"
     ]
    },
    {
     "name": "stderr",
     "output_type": "stream",
     "text": [
      " 47%|█████████████████████████████████████▋                                          | 300/636 [03:04<03:18,  1.69it/s]"
     ]
    },
    {
     "name": "stdout",
     "output_type": "stream",
     "text": [
      "(300/636) Data: 0.040s | Batch: 0.616s | Total: 0:03:04 | ETA: 0:03:18 | Loss: 0.1255 | top1:  94.5621\n"
     ]
    },
    {
     "name": "stderr",
     "output_type": "stream",
     "text": [
      " 63%|██████████████████████████████████████████████████▎                             | 400/636 [04:03<02:19,  1.69it/s]"
     ]
    },
    {
     "name": "stdout",
     "output_type": "stream",
     "text": [
      "(400/636) Data: 0.030s | Batch: 0.609s | Total: 0:04:03 | ETA: 0:02:20 | Loss: 0.1255 | top1:  94.5673\n"
     ]
    },
    {
     "name": "stderr",
     "output_type": "stream",
     "text": [
      " 79%|██████████████████████████████████████████████████████████████▉                 | 500/636 [05:02<01:20,  1.69it/s]"
     ]
    },
    {
     "name": "stdout",
     "output_type": "stream",
     "text": [
      "(500/636) Data: 0.025s | Batch: 0.606s | Total: 0:05:02 | ETA: 0:01:21 | Loss: 0.1255 | top1:  94.5620\n"
     ]
    },
    {
     "name": "stderr",
     "output_type": "stream",
     "text": [
      " 94%|███████████████████████████████████████████████████████████████████████████▍    | 600/636 [06:02<00:22,  1.61it/s]"
     ]
    },
    {
     "name": "stdout",
     "output_type": "stream",
     "text": [
      "(600/636) Data: 0.021s | Batch: 0.604s | Total: 0:06:02 | ETA: 0:00:23 | Loss: 0.1255 | top1:  94.5614\n"
     ]
    },
    {
     "name": "stderr",
     "output_type": "stream",
     "text": [
      "100%|████████████████████████████████████████████████████████████████████████████████| 636/636 [06:24<00:00,  1.65it/s]\n",
      "100%|████████████████████████████████████████████████████████████████████████████████| 156/156 [00:24<00:00,  6.49it/s]\n"
     ]
    },
    {
     "name": "stdout",
     "output_type": "stream",
     "text": [
      "(156/156) Data: 0.051s | Batch: 0.150s | Total: 0:00:23 | ETA: 0:00:01 | Loss: 0.2060 | top1:  91.5670\n",
      "=> saving checkpoint 'checkpoints\\checkpoint.pth.tar'\n"
     ]
    },
    {
     "name": "stderr",
     "output_type": "stream",
     "text": [
      "  0%|                                                                                          | 0/636 [00:00<?, ?it/s]"
     ]
    },
    {
     "name": "stdout",
     "output_type": "stream",
     "text": [
      "\n",
      "Epoch: [34 | 50] LR: 0.0000010000000000\n"
     ]
    },
    {
     "name": "stderr",
     "output_type": "stream",
     "text": [
      " 16%|████████████▌                                                                   | 100/636 [01:09<05:19,  1.68it/s]"
     ]
    },
    {
     "name": "stdout",
     "output_type": "stream",
     "text": [
      "(100/636) Data: 0.119s | Batch: 0.696s | Total: 0:01:09 | ETA: 0:05:22 | Loss: 0.1255 | top1:  94.5609\n"
     ]
    },
    {
     "name": "stderr",
     "output_type": "stream",
     "text": [
      " 31%|█████████████████████████▏                                                      | 200/636 [02:09<04:21,  1.67it/s]"
     ]
    },
    {
     "name": "stdout",
     "output_type": "stream",
     "text": [
      "(200/636) Data: 0.060s | Batch: 0.648s | Total: 0:02:09 | ETA: 0:04:22 | Loss: 0.1256 | top1:  94.5619\n"
     ]
    },
    {
     "name": "stderr",
     "output_type": "stream",
     "text": [
      " 47%|█████████████████████████████████████▋                                          | 300/636 [03:09<03:14,  1.72it/s]"
     ]
    },
    {
     "name": "stdout",
     "output_type": "stream",
     "text": [
      "(300/636) Data: 0.041s | Batch: 0.630s | Total: 0:03:09 | ETA: 0:03:15 | Loss: 0.1256 | top1:  94.5583\n"
     ]
    },
    {
     "name": "stderr",
     "output_type": "stream",
     "text": [
      " 63%|██████████████████████████████████████████████████▎                             | 400/636 [04:07<02:18,  1.70it/s]"
     ]
    },
    {
     "name": "stdout",
     "output_type": "stream",
     "text": [
      "(400/636) Data: 0.031s | Batch: 0.620s | Total: 0:04:07 | ETA: 0:02:18 | Loss: 0.1255 | top1:  94.5526\n"
     ]
    },
    {
     "name": "stderr",
     "output_type": "stream",
     "text": [
      " 79%|██████████████████████████████████████████████████████████████▉                 | 500/636 [05:07<01:22,  1.64it/s]"
     ]
    },
    {
     "name": "stdout",
     "output_type": "stream",
     "text": [
      "(500/636) Data: 0.025s | Batch: 0.614s | Total: 0:05:07 | ETA: 0:01:23 | Loss: 0.1255 | top1:  94.5562\n"
     ]
    },
    {
     "name": "stderr",
     "output_type": "stream",
     "text": [
      " 94%|███████████████████████████████████████████████████████████████████████████▍    | 600/636 [06:05<00:20,  1.75it/s]"
     ]
    },
    {
     "name": "stdout",
     "output_type": "stream",
     "text": [
      "(600/636) Data: 0.021s | Batch: 0.610s | Total: 0:06:05 | ETA: 0:00:22 | Loss: 0.1255 | top1:  94.5607\n"
     ]
    },
    {
     "name": "stderr",
     "output_type": "stream",
     "text": [
      "100%|████████████████████████████████████████████████████████████████████████████████| 636/636 [06:27<00:00,  1.64it/s]\n",
      "100%|████████████████████████████████████████████████████████████████████████████████| 156/156 [00:23<00:00,  6.75it/s]\n"
     ]
    },
    {
     "name": "stdout",
     "output_type": "stream",
     "text": [
      "(156/156) Data: 0.050s | Batch: 0.144s | Total: 0:00:22 | ETA: 0:00:01 | Loss: 0.2063 | top1:  91.5692\n",
      "=> saving checkpoint 'checkpoints\\checkpoint.pth.tar'\n"
     ]
    },
    {
     "name": "stderr",
     "output_type": "stream",
     "text": [
      "  0%|                                                                                          | 0/636 [00:00<?, ?it/s]"
     ]
    },
    {
     "name": "stdout",
     "output_type": "stream",
     "text": [
      "\n",
      "Epoch: [35 | 50] LR: 0.0000001000000000\n"
     ]
    },
    {
     "name": "stderr",
     "output_type": "stream",
     "text": [
      " 16%|████████████▌                                                                   | 100/636 [01:08<04:56,  1.81it/s]"
     ]
    },
    {
     "name": "stdout",
     "output_type": "stream",
     "text": [
      "(100/636) Data: 0.123s | Batch: 0.689s | Total: 0:01:08 | ETA: 0:05:02 | Loss: 0.1259 | top1:  94.5382\n"
     ]
    },
    {
     "name": "stderr",
     "output_type": "stream",
     "text": [
      " 31%|█████████████████████████▏                                                      | 200/636 [02:06<04:06,  1.77it/s]"
     ]
    },
    {
     "name": "stdout",
     "output_type": "stream",
     "text": [
      "(200/636) Data: 0.062s | Batch: 0.632s | Total: 0:02:06 | ETA: 0:04:08 | Loss: 0.1252 | top1:  94.5827\n"
     ]
    },
    {
     "name": "stderr",
     "output_type": "stream",
     "text": [
      " 47%|█████████████████████████████████████▋                                          | 300/636 [03:06<03:10,  1.76it/s]"
     ]
    },
    {
     "name": "stdout",
     "output_type": "stream",
     "text": [
      "(300/636) Data: 0.042s | Batch: 0.621s | Total: 0:03:06 | ETA: 0:03:30 | Loss: 0.1252 | top1:  94.5843\n"
     ]
    },
    {
     "name": "stderr",
     "output_type": "stream",
     "text": [
      " 63%|██████████████████████████████████████████████████▎                             | 400/636 [04:05<02:22,  1.65it/s]"
     ]
    },
    {
     "name": "stdout",
     "output_type": "stream",
     "text": [
      "(400/636) Data: 0.032s | Batch: 0.613s | Total: 0:04:05 | ETA: 0:02:21 | Loss: 0.1254 | top1:  94.5706\n"
     ]
    },
    {
     "name": "stderr",
     "output_type": "stream",
     "text": [
      " 79%|██████████████████████████████████████████████████████████████▉                 | 500/636 [05:04<01:13,  1.85it/s]"
     ]
    },
    {
     "name": "stdout",
     "output_type": "stream",
     "text": [
      "(500/636) Data: 0.026s | Batch: 0.608s | Total: 0:05:04 | ETA: 0:01:16 | Loss: 0.1255 | top1:  94.5629\n"
     ]
    },
    {
     "name": "stderr",
     "output_type": "stream",
     "text": [
      " 94%|███████████████████████████████████████████████████████████████████████████▍    | 600/636 [05:58<00:19,  1.85it/s]"
     ]
    },
    {
     "name": "stdout",
     "output_type": "stream",
     "text": [
      "(600/636) Data: 0.022s | Batch: 0.597s | Total: 0:05:58 | ETA: 0:00:21 | Loss: 0.1256 | top1:  94.5574\n"
     ]
    },
    {
     "name": "stderr",
     "output_type": "stream",
     "text": [
      "100%|████████████████████████████████████████████████████████████████████████████████| 636/636 [06:18<00:00,  1.68it/s]\n",
      "100%|████████████████████████████████████████████████████████████████████████████████| 156/156 [00:21<00:00,  7.21it/s]\n"
     ]
    },
    {
     "name": "stdout",
     "output_type": "stream",
     "text": [
      "(156/156) Data: 0.046s | Batch: 0.135s | Total: 0:00:21 | ETA: 0:00:01 | Loss: 0.2061 | top1:  91.5750\n",
      "=> saving checkpoint 'checkpoints\\checkpoint.pth.tar'\n"
     ]
    },
    {
     "name": "stderr",
     "output_type": "stream",
     "text": [
      "  0%|                                                                                          | 0/636 [00:00<?, ?it/s]"
     ]
    },
    {
     "name": "stdout",
     "output_type": "stream",
     "text": [
      "\n",
      "Epoch: [36 | 50] LR: 0.0000001000000000\n"
     ]
    },
    {
     "name": "stderr",
     "output_type": "stream",
     "text": [
      " 16%|████████████▌                                                                   | 100/636 [01:04<04:55,  1.81it/s]"
     ]
    },
    {
     "name": "stdout",
     "output_type": "stream",
     "text": [
      "(100/636) Data: 0.119s | Batch: 0.650s | Total: 0:01:04 | ETA: 0:04:54 | Loss: 0.1248 | top1:  94.6188\n"
     ]
    },
    {
     "name": "stderr",
     "output_type": "stream",
     "text": [
      " 31%|█████████████████████████▏                                                      | 200/636 [02:00<04:01,  1.81it/s]"
     ]
    },
    {
     "name": "stdout",
     "output_type": "stream",
     "text": [
      "(200/636) Data: 0.060s | Batch: 0.600s | Total: 0:02:00 | ETA: 0:04:04 | Loss: 0.1253 | top1:  94.5813\n"
     ]
    },
    {
     "name": "stderr",
     "output_type": "stream",
     "text": [
      " 47%|█████████████████████████████████████▋                                          | 300/636 [02:55<03:06,  1.81it/s]"
     ]
    },
    {
     "name": "stdout",
     "output_type": "stream",
     "text": [
      "(300/636) Data: 0.041s | Batch: 0.585s | Total: 0:02:55 | ETA: 0:03:07 | Loss: 0.1256 | top1:  94.5733\n"
     ]
    },
    {
     "name": "stderr",
     "output_type": "stream",
     "text": [
      " 63%|██████████████████████████████████████████████████▎                             | 400/636 [03:51<02:10,  1.81it/s]"
     ]
    },
    {
     "name": "stdout",
     "output_type": "stream",
     "text": [
      "(400/636) Data: 0.031s | Batch: 0.578s | Total: 0:03:51 | ETA: 0:02:13 | Loss: 0.1255 | top1:  94.5741\n"
     ]
    },
    {
     "name": "stderr",
     "output_type": "stream",
     "text": [
      " 79%|██████████████████████████████████████████████████████████████▉                 | 500/636 [04:46<01:15,  1.79it/s]"
     ]
    },
    {
     "name": "stdout",
     "output_type": "stream",
     "text": [
      "(500/636) Data: 0.025s | Batch: 0.573s | Total: 0:04:46 | ETA: 0:01:16 | Loss: 0.1255 | top1:  94.5655\n"
     ]
    },
    {
     "name": "stderr",
     "output_type": "stream",
     "text": [
      " 94%|███████████████████████████████████████████████████████████████████████████▍    | 600/636 [05:41<00:19,  1.83it/s]"
     ]
    },
    {
     "name": "stdout",
     "output_type": "stream",
     "text": [
      "(600/636) Data: 0.021s | Batch: 0.570s | Total: 0:05:41 | ETA: 0:00:21 | Loss: 0.1255 | top1:  94.5630\n"
     ]
    },
    {
     "name": "stderr",
     "output_type": "stream",
     "text": [
      "100%|████████████████████████████████████████████████████████████████████████████████| 636/636 [06:02<00:00,  1.75it/s]\n",
      "100%|████████████████████████████████████████████████████████████████████████████████| 156/156 [00:23<00:00,  6.78it/s]\n"
     ]
    },
    {
     "name": "stdout",
     "output_type": "stream",
     "text": [
      "(156/156) Data: 0.048s | Batch: 0.144s | Total: 0:00:22 | ETA: 0:00:01 | Loss: 0.2066 | top1:  91.5799\n",
      "=> saving checkpoint 'checkpoints\\checkpoint.pth.tar'\n"
     ]
    },
    {
     "name": "stderr",
     "output_type": "stream",
     "text": [
      "  0%|                                                                                          | 0/636 [00:00<?, ?it/s]"
     ]
    },
    {
     "name": "stdout",
     "output_type": "stream",
     "text": [
      "\n",
      "Epoch: [37 | 50] LR: 0.0000001000000000\n"
     ]
    },
    {
     "name": "stderr",
     "output_type": "stream",
     "text": [
      " 16%|████████████▌                                                                   | 100/636 [01:05<04:57,  1.80it/s]"
     ]
    },
    {
     "name": "stdout",
     "output_type": "stream",
     "text": [
      "(100/636) Data: 0.120s | Batch: 0.653s | Total: 0:01:05 | ETA: 0:04:52 | Loss: 0.1259 | top1:  94.5384\n"
     ]
    },
    {
     "name": "stderr",
     "output_type": "stream",
     "text": [
      " 31%|█████████████████████████▏                                                      | 200/636 [02:00<04:00,  1.82it/s]"
     ]
    },
    {
     "name": "stdout",
     "output_type": "stream",
     "text": [
      "(200/636) Data: 0.061s | Batch: 0.601s | Total: 0:02:00 | ETA: 0:04:03 | Loss: 0.1258 | top1:  94.5520\n"
     ]
    },
    {
     "name": "stderr",
     "output_type": "stream",
     "text": [
      " 47%|█████████████████████████████████████▋                                          | 300/636 [02:55<03:05,  1.81it/s]"
     ]
    },
    {
     "name": "stdout",
     "output_type": "stream",
     "text": [
      "(300/636) Data: 0.041s | Batch: 0.585s | Total: 0:02:55 | ETA: 0:03:04 | Loss: 0.1259 | top1:  94.5495\n"
     ]
    },
    {
     "name": "stderr",
     "output_type": "stream",
     "text": [
      " 63%|██████████████████████████████████████████████████▎                             | 400/636 [03:50<02:08,  1.84it/s]"
     ]
    },
    {
     "name": "stdout",
     "output_type": "stream",
     "text": [
      "(400/636) Data: 0.031s | Batch: 0.577s | Total: 0:03:50 | ETA: 0:02:11 | Loss: 0.1255 | top1:  94.5649\n"
     ]
    },
    {
     "name": "stderr",
     "output_type": "stream",
     "text": [
      " 79%|██████████████████████████████████████████████████████████████▉                 | 500/636 [04:45<01:13,  1.84it/s]"
     ]
    },
    {
     "name": "stdout",
     "output_type": "stream",
     "text": [
      "(500/636) Data: 0.026s | Batch: 0.572s | Total: 0:04:45 | ETA: 0:01:16 | Loss: 0.1255 | top1:  94.5643\n"
     ]
    },
    {
     "name": "stderr",
     "output_type": "stream",
     "text": [
      " 94%|███████████████████████████████████████████████████████████████████████████▍    | 600/636 [05:41<00:20,  1.80it/s]"
     ]
    },
    {
     "name": "stdout",
     "output_type": "stream",
     "text": [
      "(600/636) Data: 0.022s | Batch: 0.569s | Total: 0:05:41 | ETA: 0:00:21 | Loss: 0.1256 | top1:  94.5572\n"
     ]
    },
    {
     "name": "stderr",
     "output_type": "stream",
     "text": [
      "100%|████████████████████████████████████████████████████████████████████████████████| 636/636 [06:02<00:00,  1.76it/s]\n",
      "100%|████████████████████████████████████████████████████████████████████████████████| 156/156 [00:22<00:00,  7.02it/s]\n"
     ]
    },
    {
     "name": "stdout",
     "output_type": "stream",
     "text": [
      "(156/156) Data: 0.048s | Batch: 0.139s | Total: 0:00:21 | ETA: 0:00:01 | Loss: 0.2065 | top1:  91.5460\n",
      "=> saving checkpoint 'checkpoints\\checkpoint.pth.tar'\n"
     ]
    },
    {
     "name": "stderr",
     "output_type": "stream",
     "text": [
      "  0%|                                                                                          | 0/636 [00:00<?, ?it/s]"
     ]
    },
    {
     "name": "stdout",
     "output_type": "stream",
     "text": [
      "\n",
      "Epoch: [38 | 50] LR: 0.0000001000000000\n"
     ]
    },
    {
     "name": "stderr",
     "output_type": "stream",
     "text": [
      " 16%|████████████▌                                                                   | 100/636 [01:05<04:43,  1.89it/s]"
     ]
    },
    {
     "name": "stdout",
     "output_type": "stream",
     "text": [
      "(100/636) Data: 0.120s | Batch: 0.652s | Total: 0:01:05 | ETA: 0:04:51 | Loss: 0.1252 | top1:  94.5757\n"
     ]
    },
    {
     "name": "stderr",
     "output_type": "stream",
     "text": [
      " 31%|█████████████████████████▏                                                      | 200/636 [02:00<04:00,  1.82it/s]"
     ]
    },
    {
     "name": "stdout",
     "output_type": "stream",
     "text": [
      "(200/636) Data: 0.061s | Batch: 0.600s | Total: 0:02:00 | ETA: 0:04:01 | Loss: 0.1253 | top1:  94.5636\n"
     ]
    },
    {
     "name": "stderr",
     "output_type": "stream",
     "text": [
      " 47%|█████████████████████████████████████▋                                          | 300/636 [02:55<03:02,  1.84it/s]"
     ]
    },
    {
     "name": "stdout",
     "output_type": "stream",
     "text": [
      "(300/636) Data: 0.041s | Batch: 0.584s | Total: 0:02:55 | ETA: 0:03:05 | Loss: 0.1251 | top1:  94.5759\n"
     ]
    },
    {
     "name": "stderr",
     "output_type": "stream",
     "text": [
      " 63%|██████████████████████████████████████████████████▎                             | 400/636 [03:50<02:10,  1.81it/s]"
     ]
    },
    {
     "name": "stdout",
     "output_type": "stream",
     "text": [
      "(400/636) Data: 0.032s | Batch: 0.576s | Total: 0:03:50 | ETA: 0:02:11 | Loss: 0.1253 | top1:  94.5629\n"
     ]
    },
    {
     "name": "stderr",
     "output_type": "stream",
     "text": [
      " 79%|██████████████████████████████████████████████████████████████▉                 | 500/636 [04:45<01:15,  1.81it/s]"
     ]
    },
    {
     "name": "stdout",
     "output_type": "stream",
     "text": [
      "(500/636) Data: 0.026s | Batch: 0.571s | Total: 0:04:45 | ETA: 0:01:16 | Loss: 0.1254 | top1:  94.5616\n"
     ]
    },
    {
     "name": "stderr",
     "output_type": "stream",
     "text": [
      " 94%|███████████████████████████████████████████████████████████████████████████▍    | 600/636 [05:40<00:20,  1.79it/s]"
     ]
    },
    {
     "name": "stdout",
     "output_type": "stream",
     "text": [
      "(600/636) Data: 0.022s | Batch: 0.568s | Total: 0:05:40 | ETA: 0:00:21 | Loss: 0.1254 | top1:  94.5615\n"
     ]
    },
    {
     "name": "stderr",
     "output_type": "stream",
     "text": [
      "100%|████████████████████████████████████████████████████████████████████████████████| 636/636 [06:01<00:00,  1.76it/s]\n",
      "100%|████████████████████████████████████████████████████████████████████████████████| 156/156 [00:22<00:00,  6.99it/s]\n"
     ]
    },
    {
     "name": "stdout",
     "output_type": "stream",
     "text": [
      "(156/156) Data: 0.050s | Batch: 0.139s | Total: 0:00:21 | ETA: 0:00:01 | Loss: 0.2065 | top1:  91.5767\n",
      "=> saving checkpoint 'checkpoints\\checkpoint.pth.tar'\n"
     ]
    },
    {
     "name": "stderr",
     "output_type": "stream",
     "text": [
      "  0%|                                                                                          | 0/636 [00:00<?, ?it/s]"
     ]
    },
    {
     "name": "stdout",
     "output_type": "stream",
     "text": [
      "\n",
      "Epoch: [39 | 50] LR: 0.0000001000000000\n"
     ]
    },
    {
     "name": "stderr",
     "output_type": "stream",
     "text": [
      " 16%|████████████▌                                                                   | 100/636 [01:04<04:46,  1.87it/s]"
     ]
    },
    {
     "name": "stdout",
     "output_type": "stream",
     "text": [
      "(100/636) Data: 0.119s | Batch: 0.646s | Total: 0:01:04 | ETA: 0:04:53 | Loss: 0.1252 | top1:  94.5682\n"
     ]
    },
    {
     "name": "stderr",
     "output_type": "stream",
     "text": [
      " 31%|█████████████████████████▏                                                      | 200/636 [01:59<03:54,  1.86it/s]"
     ]
    },
    {
     "name": "stdout",
     "output_type": "stream",
     "text": [
      "(200/636) Data: 0.060s | Batch: 0.596s | Total: 0:01:59 | ETA: 0:03:57 | Loss: 0.1253 | top1:  94.5623\n"
     ]
    },
    {
     "name": "stderr",
     "output_type": "stream",
     "text": [
      " 47%|█████████████████████████████████████▋                                          | 300/636 [02:53<03:03,  1.83it/s]"
     ]
    },
    {
     "name": "stdout",
     "output_type": "stream",
     "text": [
      "(300/636) Data: 0.041s | Batch: 0.579s | Total: 0:02:53 | ETA: 0:03:06 | Loss: 0.1253 | top1:  94.5593\n"
     ]
    },
    {
     "name": "stderr",
     "output_type": "stream",
     "text": [
      " 63%|██████████████████████████████████████████████████▎                             | 400/636 [03:48<02:05,  1.89it/s]"
     ]
    },
    {
     "name": "stdout",
     "output_type": "stream",
     "text": [
      "(400/636) Data: 0.031s | Batch: 0.571s | Total: 0:03:48 | ETA: 0:02:11 | Loss: 0.1255 | top1:  94.5516\n"
     ]
    },
    {
     "name": "stderr",
     "output_type": "stream",
     "text": [
      " 79%|██████████████████████████████████████████████████████████████▉                 | 500/636 [04:42<01:13,  1.85it/s]"
     ]
    },
    {
     "name": "stdout",
     "output_type": "stream",
     "text": [
      "(500/636) Data: 0.025s | Batch: 0.565s | Total: 0:04:42 | ETA: 0:01:14 | Loss: 0.1256 | top1:  94.5529\n"
     ]
    },
    {
     "name": "stderr",
     "output_type": "stream",
     "text": [
      " 94%|███████████████████████████████████████████████████████████████████████████▍    | 600/636 [05:36<00:19,  1.85it/s]"
     ]
    },
    {
     "name": "stdout",
     "output_type": "stream",
     "text": [
      "(600/636) Data: 0.021s | Batch: 0.560s | Total: 0:05:36 | ETA: 0:00:20 | Loss: 0.1257 | top1:  94.5437\n"
     ]
    },
    {
     "name": "stderr",
     "output_type": "stream",
     "text": [
      "100%|████████████████████████████████████████████████████████████████████████████████| 636/636 [05:56<00:00,  1.78it/s]\n",
      "100%|████████████████████████████████████████████████████████████████████████████████| 156/156 [00:20<00:00,  7.55it/s]\n"
     ]
    },
    {
     "name": "stdout",
     "output_type": "stream",
     "text": [
      "(156/156) Data: 0.044s | Batch: 0.129s | Total: 0:00:20 | ETA: 0:00:01 | Loss: 0.2062 | top1:  91.5769\n",
      "=> saving checkpoint 'checkpoints\\checkpoint.pth.tar'\n"
     ]
    },
    {
     "name": "stderr",
     "output_type": "stream",
     "text": [
      "  0%|                                                                                          | 0/636 [00:00<?, ?it/s]"
     ]
    },
    {
     "name": "stdout",
     "output_type": "stream",
     "text": [
      "\n",
      "Epoch: [40 | 50] LR: 0.0000001000000000\n"
     ]
    },
    {
     "name": "stderr",
     "output_type": "stream",
     "text": [
      " 16%|████████████▌                                                                   | 100/636 [01:02<04:52,  1.83it/s]"
     ]
    },
    {
     "name": "stdout",
     "output_type": "stream",
     "text": [
      "(100/636) Data: 0.106s | Batch: 0.629s | Total: 0:01:02 | ETA: 0:04:57 | Loss: 0.1259 | top1:  94.5459\n"
     ]
    },
    {
     "name": "stderr",
     "output_type": "stream",
     "text": [
      " 31%|█████████████████████████▏                                                      | 200/636 [01:57<04:05,  1.78it/s]"
     ]
    },
    {
     "name": "stdout",
     "output_type": "stream",
     "text": [
      "(200/636) Data: 0.054s | Batch: 0.587s | Total: 0:01:57 | ETA: 0:04:03 | Loss: 0.1258 | top1:  94.5454\n"
     ]
    },
    {
     "name": "stderr",
     "output_type": "stream",
     "text": [
      " 47%|█████████████████████████████████████▋                                          | 300/636 [02:51<03:02,  1.84it/s]"
     ]
    },
    {
     "name": "stdout",
     "output_type": "stream",
     "text": [
      "(300/636) Data: 0.036s | Batch: 0.571s | Total: 0:02:51 | ETA: 0:02:59 | Loss: 0.1258 | top1:  94.5428\n"
     ]
    },
    {
     "name": "stderr",
     "output_type": "stream",
     "text": [
      " 63%|██████████████████████████████████████████████████▎                             | 400/636 [03:46<02:10,  1.81it/s]"
     ]
    },
    {
     "name": "stdout",
     "output_type": "stream",
     "text": [
      "(400/636) Data: 0.028s | Batch: 0.567s | Total: 0:03:46 | ETA: 0:02:11 | Loss: 0.1255 | top1:  94.5571\n"
     ]
    },
    {
     "name": "stderr",
     "output_type": "stream",
     "text": [
      " 79%|██████████████████████████████████████████████████████████████▉                 | 500/636 [04:40<01:13,  1.86it/s]"
     ]
    },
    {
     "name": "stdout",
     "output_type": "stream",
     "text": [
      "(500/636) Data: 0.022s | Batch: 0.562s | Total: 0:04:40 | ETA: 0:01:12 | Loss: 0.1255 | top1:  94.5582\n"
     ]
    },
    {
     "name": "stderr",
     "output_type": "stream",
     "text": [
      " 94%|███████████████████████████████████████████████████████████████████████████▍    | 600/636 [05:33<00:18,  1.92it/s]"
     ]
    },
    {
     "name": "stdout",
     "output_type": "stream",
     "text": [
      "(600/636) Data: 0.019s | Batch: 0.557s | Total: 0:05:33 | ETA: 0:00:19 | Loss: 0.1256 | top1:  94.5535\n"
     ]
    },
    {
     "name": "stderr",
     "output_type": "stream",
     "text": [
      "100%|████████████████████████████████████████████████████████████████████████████████| 636/636 [05:53<00:00,  1.80it/s]\n",
      "100%|████████████████████████████████████████████████████████████████████████████████| 156/156 [00:20<00:00,  7.51it/s]\n"
     ]
    },
    {
     "name": "stdout",
     "output_type": "stream",
     "text": [
      "(156/156) Data: 0.045s | Batch: 0.130s | Total: 0:00:20 | ETA: 0:00:01 | Loss: 0.2059 | top1:  91.5896\n",
      "=> saving checkpoint 'checkpoints\\checkpoint.pth.tar'\n"
     ]
    },
    {
     "name": "stderr",
     "output_type": "stream",
     "text": [
      "  0%|                                                                                          | 0/636 [00:00<?, ?it/s]"
     ]
    },
    {
     "name": "stdout",
     "output_type": "stream",
     "text": [
      "\n",
      "Epoch: [41 | 50] LR: 0.0000000100000000\n"
     ]
    },
    {
     "name": "stderr",
     "output_type": "stream",
     "text": [
      " 16%|████████████▌                                                                   | 100/636 [01:03<04:55,  1.81it/s]"
     ]
    },
    {
     "name": "stdout",
     "output_type": "stream",
     "text": [
      "(100/636) Data: 0.107s | Batch: 0.632s | Total: 0:01:03 | ETA: 0:04:54 | Loss: 0.1261 | top1:  94.5396\n"
     ]
    },
    {
     "name": "stderr",
     "output_type": "stream",
     "text": [
      " 31%|█████████████████████████▏                                                      | 200/636 [01:55<03:57,  1.84it/s]"
     ]
    },
    {
     "name": "stdout",
     "output_type": "stream",
     "text": [
      "(200/636) Data: 0.054s | Batch: 0.580s | Total: 0:01:55 | ETA: 0:03:57 | Loss: 0.1259 | top1:  94.5376\n"
     ]
    },
    {
     "name": "stderr",
     "output_type": "stream",
     "text": [
      " 47%|█████████████████████████████████████▋                                          | 300/636 [02:49<03:04,  1.83it/s]"
     ]
    },
    {
     "name": "stdout",
     "output_type": "stream",
     "text": [
      "(300/636) Data: 0.037s | Batch: 0.566s | Total: 0:02:49 | ETA: 0:03:03 | Loss: 0.1258 | top1:  94.5429\n"
     ]
    },
    {
     "name": "stderr",
     "output_type": "stream",
     "text": [
      " 63%|██████████████████████████████████████████████████▎                             | 400/636 [03:44<02:06,  1.87it/s]"
     ]
    },
    {
     "name": "stdout",
     "output_type": "stream",
     "text": [
      "(400/636) Data: 0.028s | Batch: 0.561s | Total: 0:03:44 | ETA: 0:02:06 | Loss: 0.1257 | top1:  94.5476\n"
     ]
    },
    {
     "name": "stderr",
     "output_type": "stream",
     "text": [
      " 79%|██████████████████████████████████████████████████████████████▉                 | 500/636 [04:37<01:12,  1.88it/s]"
     ]
    },
    {
     "name": "stdout",
     "output_type": "stream",
     "text": [
      "(500/636) Data: 0.023s | Batch: 0.556s | Total: 0:04:37 | ETA: 0:01:13 | Loss: 0.1255 | top1:  94.5598\n"
     ]
    },
    {
     "name": "stderr",
     "output_type": "stream",
     "text": [
      " 94%|███████████████████████████████████████████████████████████████████████████▍    | 600/636 [05:31<00:19,  1.87it/s]"
     ]
    },
    {
     "name": "stdout",
     "output_type": "stream",
     "text": [
      "(600/636) Data: 0.019s | Batch: 0.552s | Total: 0:05:31 | ETA: 0:00:20 | Loss: 0.1256 | top1:  94.5495\n"
     ]
    },
    {
     "name": "stderr",
     "output_type": "stream",
     "text": [
      "100%|████████████████████████████████████████████████████████████████████████████████| 636/636 [05:51<00:00,  1.81it/s]\n",
      "100%|████████████████████████████████████████████████████████████████████████████████| 156/156 [00:20<00:00,  7.57it/s]\n"
     ]
    },
    {
     "name": "stdout",
     "output_type": "stream",
     "text": [
      "(156/156) Data: 0.044s | Batch: 0.129s | Total: 0:00:20 | ETA: 0:00:01 | Loss: 0.2066 | top1:  91.5623\n",
      "=> saving checkpoint 'checkpoints\\checkpoint.pth.tar'\n"
     ]
    },
    {
     "name": "stderr",
     "output_type": "stream",
     "text": [
      "  0%|                                                                                          | 0/636 [00:00<?, ?it/s]"
     ]
    },
    {
     "name": "stdout",
     "output_type": "stream",
     "text": [
      "\n",
      "Epoch: [42 | 50] LR: 0.0000000100000000\n"
     ]
    },
    {
     "name": "stderr",
     "output_type": "stream",
     "text": [
      " 16%|████████████▌                                                                   | 100/636 [01:01<04:40,  1.91it/s]"
     ]
    },
    {
     "name": "stdout",
     "output_type": "stream",
     "text": [
      "(100/636) Data: 0.106s | Batch: 0.616s | Total: 0:01:01 | ETA: 0:04:42 | Loss: 0.1257 | top1:  94.5486\n"
     ]
    },
    {
     "name": "stderr",
     "output_type": "stream",
     "text": [
      " 31%|█████████████████████████▏                                                      | 200/636 [01:54<03:45,  1.93it/s]"
     ]
    },
    {
     "name": "stdout",
     "output_type": "stream",
     "text": [
      "(200/636) Data: 0.054s | Batch: 0.571s | Total: 0:01:54 | ETA: 0:03:53 | Loss: 0.1256 | top1:  94.5424\n"
     ]
    },
    {
     "name": "stderr",
     "output_type": "stream",
     "text": [
      " 47%|█████████████████████████████████████▋                                          | 300/636 [02:47<02:51,  1.96it/s]"
     ]
    },
    {
     "name": "stdout",
     "output_type": "stream",
     "text": [
      "(300/636) Data: 0.036s | Batch: 0.557s | Total: 0:02:47 | ETA: 0:02:57 | Loss: 0.1254 | top1:  94.5548\n"
     ]
    },
    {
     "name": "stderr",
     "output_type": "stream",
     "text": [
      " 63%|██████████████████████████████████████████████████▎                             | 400/636 [03:40<02:07,  1.85it/s]"
     ]
    },
    {
     "name": "stdout",
     "output_type": "stream",
     "text": [
      "(400/636) Data: 0.028s | Batch: 0.550s | Total: 0:03:40 | ETA: 0:02:09 | Loss: 0.1255 | top1:  94.5535\n"
     ]
    },
    {
     "name": "stderr",
     "output_type": "stream",
     "text": [
      " 79%|██████████████████████████████████████████████████████████████▉                 | 500/636 [04:32<01:12,  1.88it/s]"
     ]
    },
    {
     "name": "stdout",
     "output_type": "stream",
     "text": [
      "(500/636) Data: 0.022s | Batch: 0.545s | Total: 0:04:32 | ETA: 0:01:12 | Loss: 0.1254 | top1:  94.5579\n"
     ]
    },
    {
     "name": "stderr",
     "output_type": "stream",
     "text": [
      " 94%|███████████████████████████████████████████████████████████████████████████▍    | 600/636 [05:25<00:19,  1.84it/s]"
     ]
    },
    {
     "name": "stdout",
     "output_type": "stream",
     "text": [
      "(600/636) Data: 0.019s | Batch: 0.543s | Total: 0:05:25 | ETA: 0:00:21 | Loss: 0.1254 | top1:  94.5556\n"
     ]
    },
    {
     "name": "stderr",
     "output_type": "stream",
     "text": [
      "100%|████████████████████████████████████████████████████████████████████████████████| 636/636 [05:45<00:00,  1.84it/s]\n",
      "100%|████████████████████████████████████████████████████████████████████████████████| 156/156 [00:20<00:00,  7.62it/s]\n"
     ]
    },
    {
     "name": "stdout",
     "output_type": "stream",
     "text": [
      "(156/156) Data: 0.043s | Batch: 0.128s | Total: 0:00:19 | ETA: 0:00:01 | Loss: 0.2064 | top1:  91.5639\n",
      "=> saving checkpoint 'checkpoints\\checkpoint.pth.tar'\n"
     ]
    },
    {
     "name": "stderr",
     "output_type": "stream",
     "text": [
      "  0%|                                                                                          | 0/636 [00:00<?, ?it/s]"
     ]
    },
    {
     "name": "stdout",
     "output_type": "stream",
     "text": [
      "\n",
      "Epoch: [43 | 50] LR: 0.0000000100000000\n"
     ]
    },
    {
     "name": "stderr",
     "output_type": "stream",
     "text": [
      " 16%|████████████▌                                                                   | 100/636 [01:03<04:50,  1.84it/s]"
     ]
    },
    {
     "name": "stdout",
     "output_type": "stream",
     "text": [
      "(100/636) Data: 0.110s | Batch: 0.630s | Total: 0:01:03 | ETA: 0:04:46 | Loss: 0.1252 | top1:  94.5612\n"
     ]
    },
    {
     "name": "stderr",
     "output_type": "stream",
     "text": [
      " 31%|█████████████████████████▏                                                      | 200/636 [01:56<03:52,  1.88it/s]"
     ]
    },
    {
     "name": "stdout",
     "output_type": "stream",
     "text": [
      "(200/636) Data: 0.056s | Batch: 0.583s | Total: 0:01:56 | ETA: 0:03:53 | Loss: 0.1251 | top1:  94.5722\n"
     ]
    },
    {
     "name": "stderr",
     "output_type": "stream",
     "text": [
      " 47%|█████████████████████████████████████▋                                          | 300/636 [02:49<02:56,  1.91it/s]"
     ]
    },
    {
     "name": "stdout",
     "output_type": "stream",
     "text": [
      "(300/636) Data: 0.038s | Batch: 0.566s | Total: 0:02:49 | ETA: 0:03:01 | Loss: 0.1253 | top1:  94.5692\n"
     ]
    },
    {
     "name": "stderr",
     "output_type": "stream",
     "text": [
      " 63%|██████████████████████████████████████████████████▎                             | 400/636 [03:42<02:08,  1.83it/s]"
     ]
    },
    {
     "name": "stdout",
     "output_type": "stream",
     "text": [
      "(400/636) Data: 0.029s | Batch: 0.556s | Total: 0:03:42 | ETA: 0:02:09 | Loss: 0.1254 | top1:  94.5605\n"
     ]
    },
    {
     "name": "stderr",
     "output_type": "stream",
     "text": [
      " 79%|██████████████████████████████████████████████████████████████▉                 | 500/636 [04:35<01:13,  1.85it/s]"
     ]
    },
    {
     "name": "stdout",
     "output_type": "stream",
     "text": [
      "(500/636) Data: 0.023s | Batch: 0.552s | Total: 0:04:35 | ETA: 0:01:13 | Loss: 0.1254 | top1:  94.5560\n"
     ]
    },
    {
     "name": "stderr",
     "output_type": "stream",
     "text": [
      " 94%|███████████████████████████████████████████████████████████████████████████▍    | 600/636 [05:28<00:18,  1.91it/s]"
     ]
    },
    {
     "name": "stdout",
     "output_type": "stream",
     "text": [
      "(600/636) Data: 0.020s | Batch: 0.548s | Total: 0:05:28 | ETA: 0:00:20 | Loss: 0.1255 | top1:  94.5544\n"
     ]
    },
    {
     "name": "stderr",
     "output_type": "stream",
     "text": [
      "100%|████████████████████████████████████████████████████████████████████████████████| 636/636 [05:48<00:00,  1.82it/s]\n",
      "100%|████████████████████████████████████████████████████████████████████████████████| 156/156 [00:20<00:00,  7.61it/s]\n"
     ]
    },
    {
     "name": "stdout",
     "output_type": "stream",
     "text": [
      "(156/156) Data: 0.043s | Batch: 0.128s | Total: 0:00:19 | ETA: 0:00:01 | Loss: 0.2059 | top1:  91.5777\n",
      "=> saving checkpoint 'checkpoints\\checkpoint.pth.tar'\n"
     ]
    },
    {
     "name": "stderr",
     "output_type": "stream",
     "text": [
      "  0%|                                                                                          | 0/636 [00:00<?, ?it/s]"
     ]
    },
    {
     "name": "stdout",
     "output_type": "stream",
     "text": [
      "\n",
      "Epoch: [44 | 50] LR: 0.0000000100000000\n"
     ]
    },
    {
     "name": "stderr",
     "output_type": "stream",
     "text": [
      " 16%|████████████▌                                                                   | 100/636 [01:02<04:41,  1.91it/s]"
     ]
    },
    {
     "name": "stdout",
     "output_type": "stream",
     "text": [
      "(100/636) Data: 0.106s | Batch: 0.622s | Total: 0:01:02 | ETA: 0:04:42 | Loss: 0.1256 | top1:  94.5578\n"
     ]
    },
    {
     "name": "stderr",
     "output_type": "stream",
     "text": [
      " 31%|█████████████████████████▏                                                      | 200/636 [01:55<03:51,  1.88it/s]"
     ]
    },
    {
     "name": "stdout",
     "output_type": "stream",
     "text": [
      "(200/636) Data: 0.054s | Batch: 0.576s | Total: 0:01:55 | ETA: 0:03:55 | Loss: 0.1256 | top1:  94.5594\n"
     ]
    },
    {
     "name": "stderr",
     "output_type": "stream",
     "text": [
      " 47%|█████████████████████████████████████▋                                          | 300/636 [02:47<02:55,  1.91it/s]"
     ]
    },
    {
     "name": "stdout",
     "output_type": "stream",
     "text": [
      "(300/636) Data: 0.036s | Batch: 0.560s | Total: 0:02:47 | ETA: 0:02:57 | Loss: 0.1257 | top1:  94.5630\n"
     ]
    },
    {
     "name": "stderr",
     "output_type": "stream",
     "text": [
      " 63%|██████████████████████████████████████████████████▎                             | 400/636 [03:41<02:05,  1.88it/s]"
     ]
    },
    {
     "name": "stdout",
     "output_type": "stream",
     "text": [
      "(400/636) Data: 0.028s | Batch: 0.553s | Total: 0:03:41 | ETA: 0:02:07 | Loss: 0.1255 | top1:  94.5665\n"
     ]
    },
    {
     "name": "stderr",
     "output_type": "stream",
     "text": [
      " 79%|██████████████████████████████████████████████████████████████▉                 | 500/636 [04:35<01:15,  1.79it/s]"
     ]
    },
    {
     "name": "stdout",
     "output_type": "stream",
     "text": [
      "(500/636) Data: 0.022s | Batch: 0.551s | Total: 0:04:35 | ETA: 0:01:15 | Loss: 0.1255 | top1:  94.5651\n"
     ]
    },
    {
     "name": "stderr",
     "output_type": "stream",
     "text": [
      " 94%|███████████████████████████████████████████████████████████████████████████▍    | 600/636 [05:29<00:19,  1.81it/s]"
     ]
    },
    {
     "name": "stdout",
     "output_type": "stream",
     "text": [
      "(600/636) Data: 0.019s | Batch: 0.548s | Total: 0:05:29 | ETA: 0:00:21 | Loss: 0.1254 | top1:  94.5682\n"
     ]
    },
    {
     "name": "stderr",
     "output_type": "stream",
     "text": [
      "100%|████████████████████████████████████████████████████████████████████████████████| 636/636 [05:49<00:00,  1.82it/s]\n",
      "100%|████████████████████████████████████████████████████████████████████████████████| 156/156 [00:21<00:00,  7.41it/s]\n"
     ]
    },
    {
     "name": "stdout",
     "output_type": "stream",
     "text": [
      "(156/156) Data: 0.047s | Batch: 0.132s | Total: 0:00:20 | ETA: 0:00:01 | Loss: 0.2065 | top1:  91.5821\n",
      "=> saving checkpoint 'checkpoints\\checkpoint.pth.tar'\n"
     ]
    },
    {
     "name": "stderr",
     "output_type": "stream",
     "text": [
      "  0%|                                                                                          | 0/636 [00:00<?, ?it/s]"
     ]
    },
    {
     "name": "stdout",
     "output_type": "stream",
     "text": [
      "\n",
      "Epoch: [45 | 50] LR: 0.0000000100000000\n"
     ]
    },
    {
     "name": "stderr",
     "output_type": "stream",
     "text": [
      " 16%|████████████▌                                                                   | 100/636 [01:01<04:33,  1.96it/s]"
     ]
    },
    {
     "name": "stdout",
     "output_type": "stream",
     "text": [
      "(100/636) Data: 0.106s | Batch: 0.618s | Total: 0:01:01 | ETA: 0:04:45 | Loss: 0.1261 | top1:  94.5056\n"
     ]
    },
    {
     "name": "stderr",
     "output_type": "stream",
     "text": [
      " 31%|█████████████████████████▏                                                      | 200/636 [01:55<04:03,  1.79it/s]"
     ]
    },
    {
     "name": "stdout",
     "output_type": "stream",
     "text": [
      "(200/636) Data: 0.054s | Batch: 0.580s | Total: 0:01:55 | ETA: 0:04:02 | Loss: 0.1258 | top1:  94.5240\n"
     ]
    },
    {
     "name": "stderr",
     "output_type": "stream",
     "text": [
      " 47%|█████████████████████████████████████▋                                          | 300/636 [02:50<03:07,  1.79it/s]"
     ]
    },
    {
     "name": "stdout",
     "output_type": "stream",
     "text": [
      "(300/636) Data: 0.036s | Batch: 0.567s | Total: 0:02:50 | ETA: 0:03:06 | Loss: 0.1256 | top1:  94.5394\n"
     ]
    },
    {
     "name": "stderr",
     "output_type": "stream",
     "text": [
      " 63%|██████████████████████████████████████████████████▎                             | 400/636 [03:43<02:07,  1.86it/s]"
     ]
    },
    {
     "name": "stdout",
     "output_type": "stream",
     "text": [
      "(400/636) Data: 0.028s | Batch: 0.560s | Total: 0:03:43 | ETA: 0:02:06 | Loss: 0.1256 | top1:  94.5400\n"
     ]
    },
    {
     "name": "stderr",
     "output_type": "stream",
     "text": [
      " 79%|██████████████████████████████████████████████████████████████▉                 | 500/636 [04:36<01:13,  1.85it/s]"
     ]
    },
    {
     "name": "stdout",
     "output_type": "stream",
     "text": [
      "(500/636) Data: 0.023s | Batch: 0.553s | Total: 0:04:36 | ETA: 0:01:13 | Loss: 0.1256 | top1:  94.5422\n"
     ]
    },
    {
     "name": "stderr",
     "output_type": "stream",
     "text": [
      " 94%|███████████████████████████████████████████████████████████████████████████▍    | 600/636 [05:30<00:20,  1.79it/s]"
     ]
    },
    {
     "name": "stdout",
     "output_type": "stream",
     "text": [
      "(600/636) Data: 0.019s | Batch: 0.551s | Total: 0:05:30 | ETA: 0:00:21 | Loss: 0.1257 | top1:  94.5432\n"
     ]
    },
    {
     "name": "stderr",
     "output_type": "stream",
     "text": [
      "100%|████████████████████████████████████████████████████████████████████████████████| 636/636 [05:50<00:00,  1.81it/s]\n",
      "100%|████████████████████████████████████████████████████████████████████████████████| 156/156 [00:20<00:00,  7.62it/s]\n"
     ]
    },
    {
     "name": "stdout",
     "output_type": "stream",
     "text": [
      "(156/156) Data: 0.043s | Batch: 0.128s | Total: 0:00:19 | ETA: 0:00:01 | Loss: 0.2063 | top1:  91.5642\n",
      "=> saving checkpoint 'checkpoints\\checkpoint.pth.tar'\n"
     ]
    },
    {
     "name": "stderr",
     "output_type": "stream",
     "text": [
      "  0%|                                                                                          | 0/636 [00:00<?, ?it/s]"
     ]
    },
    {
     "name": "stdout",
     "output_type": "stream",
     "text": [
      "\n",
      "Epoch: [46 | 50] LR: 0.0000000100000000\n"
     ]
    },
    {
     "name": "stderr",
     "output_type": "stream",
     "text": [
      " 16%|████████████▌                                                                   | 100/636 [01:02<04:52,  1.84it/s]"
     ]
    },
    {
     "name": "stdout",
     "output_type": "stream",
     "text": [
      "(100/636) Data: 0.108s | Batch: 0.625s | Total: 0:01:02 | ETA: 0:04:46 | Loss: 0.1263 | top1:  94.5136\n"
     ]
    },
    {
     "name": "stderr",
     "output_type": "stream",
     "text": [
      " 31%|█████████████████████████▏                                                      | 200/636 [01:55<03:46,  1.93it/s]"
     ]
    },
    {
     "name": "stdout",
     "output_type": "stream",
     "text": [
      "(200/636) Data: 0.055s | Batch: 0.578s | Total: 0:01:55 | ETA: 0:03:47 | Loss: 0.1260 | top1:  94.5156\n"
     ]
    },
    {
     "name": "stderr",
     "output_type": "stream",
     "text": [
      " 47%|█████████████████████████████████████▋                                          | 300/636 [02:49<03:10,  1.77it/s]"
     ]
    },
    {
     "name": "stdout",
     "output_type": "stream",
     "text": [
      "(300/636) Data: 0.037s | Batch: 0.565s | Total: 0:02:49 | ETA: 0:03:06 | Loss: 0.1259 | top1:  94.5271\n"
     ]
    },
    {
     "name": "stderr",
     "output_type": "stream",
     "text": [
      " 63%|██████████████████████████████████████████████████▎                             | 400/636 [03:44<02:08,  1.84it/s]"
     ]
    },
    {
     "name": "stdout",
     "output_type": "stream",
     "text": [
      "(400/636) Data: 0.028s | Batch: 0.562s | Total: 0:03:44 | ETA: 0:02:09 | Loss: 0.1258 | top1:  94.5344\n"
     ]
    },
    {
     "name": "stderr",
     "output_type": "stream",
     "text": [
      " 79%|██████████████████████████████████████████████████████████████▉                 | 500/636 [04:39<01:14,  1.83it/s]"
     ]
    },
    {
     "name": "stdout",
     "output_type": "stream",
     "text": [
      "(500/636) Data: 0.023s | Batch: 0.559s | Total: 0:04:39 | ETA: 0:01:15 | Loss: 0.1258 | top1:  94.5339\n"
     ]
    },
    {
     "name": "stderr",
     "output_type": "stream",
     "text": [
      " 94%|███████████████████████████████████████████████████████████████████████████▍    | 600/636 [05:32<00:19,  1.86it/s]"
     ]
    },
    {
     "name": "stdout",
     "output_type": "stream",
     "text": [
      "(600/636) Data: 0.019s | Batch: 0.554s | Total: 0:05:32 | ETA: 0:00:20 | Loss: 0.1257 | top1:  94.5409\n"
     ]
    },
    {
     "name": "stderr",
     "output_type": "stream",
     "text": [
      "100%|████████████████████████████████████████████████████████████████████████████████| 636/636 [05:52<00:00,  1.80it/s]\n",
      "100%|████████████████████████████████████████████████████████████████████████████████| 156/156 [00:20<00:00,  7.53it/s]\n"
     ]
    },
    {
     "name": "stdout",
     "output_type": "stream",
     "text": [
      "(156/156) Data: 0.044s | Batch: 0.129s | Total: 0:00:20 | ETA: 0:00:01 | Loss: 0.2066 | top1:  91.5552\n",
      "=> saving checkpoint 'checkpoints\\checkpoint.pth.tar'\n"
     ]
    },
    {
     "name": "stderr",
     "output_type": "stream",
     "text": [
      "  0%|                                                                                          | 0/636 [00:00<?, ?it/s]"
     ]
    },
    {
     "name": "stdout",
     "output_type": "stream",
     "text": [
      "\n",
      "Epoch: [47 | 50] LR: 0.0000000100000000\n"
     ]
    },
    {
     "name": "stderr",
     "output_type": "stream",
     "text": [
      " 16%|████████████▌                                                                   | 100/636 [01:02<04:56,  1.81it/s]"
     ]
    },
    {
     "name": "stdout",
     "output_type": "stream",
     "text": [
      "(100/636) Data: 0.107s | Batch: 0.622s | Total: 0:01:02 | ETA: 0:04:54 | Loss: 0.1248 | top1:  94.5901\n"
     ]
    },
    {
     "name": "stderr",
     "output_type": "stream",
     "text": [
      " 31%|█████████████████████████▏                                                      | 200/636 [01:56<04:05,  1.78it/s]"
     ]
    },
    {
     "name": "stdout",
     "output_type": "stream",
     "text": [
      "(200/636) Data: 0.054s | Batch: 0.584s | Total: 0:01:56 | ETA: 0:04:14 | Loss: 0.1248 | top1:  94.5908\n"
     ]
    },
    {
     "name": "stderr",
     "output_type": "stream",
     "text": [
      " 47%|█████████████████████████████████████▋                                          | 300/636 [02:54<03:02,  1.84it/s]"
     ]
    },
    {
     "name": "stdout",
     "output_type": "stream",
     "text": [
      "(300/636) Data: 0.037s | Batch: 0.582s | Total: 0:02:54 | ETA: 0:03:00 | Loss: 0.1252 | top1:  94.5769\n"
     ]
    },
    {
     "name": "stderr",
     "output_type": "stream",
     "text": [
      " 63%|██████████████████████████████████████████████████▎                             | 400/636 [03:50<02:15,  1.74it/s]"
     ]
    },
    {
     "name": "stdout",
     "output_type": "stream",
     "text": [
      "(400/636) Data: 0.028s | Batch: 0.577s | Total: 0:03:50 | ETA: 0:02:17 | Loss: 0.1253 | top1:  94.5626\n"
     ]
    },
    {
     "name": "stderr",
     "output_type": "stream",
     "text": [
      " 79%|██████████████████████████████████████████████████████████████▉                 | 500/636 [04:56<01:25,  1.60it/s]"
     ]
    },
    {
     "name": "stdout",
     "output_type": "stream",
     "text": [
      "(500/636) Data: 0.023s | Batch: 0.594s | Total: 0:04:56 | ETA: 0:01:29 | Loss: 0.1255 | top1:  94.5537\n"
     ]
    },
    {
     "name": "stderr",
     "output_type": "stream",
     "text": [
      " 94%|███████████████████████████████████████████████████████████████████████████▍    | 600/636 [05:59<00:21,  1.67it/s]"
     ]
    },
    {
     "name": "stdout",
     "output_type": "stream",
     "text": [
      "(600/636) Data: 0.020s | Batch: 0.598s | Total: 0:05:59 | ETA: 0:00:23 | Loss: 0.1255 | top1:  94.5551\n"
     ]
    },
    {
     "name": "stderr",
     "output_type": "stream",
     "text": [
      "100%|████████████████████████████████████████████████████████████████████████████████| 636/636 [06:22<00:00,  1.66it/s]\n",
      "100%|████████████████████████████████████████████████████████████████████████████████| 156/156 [00:27<00:00,  5.71it/s]\n"
     ]
    },
    {
     "name": "stdout",
     "output_type": "stream",
     "text": [
      "(156/156) Data: 0.060s | Batch: 0.171s | Total: 0:00:26 | ETA: 0:00:01 | Loss: 0.2063 | top1:  91.5473\n",
      "=> saving checkpoint 'checkpoints\\checkpoint.pth.tar'\n"
     ]
    },
    {
     "name": "stderr",
     "output_type": "stream",
     "text": [
      "  0%|                                                                                          | 0/636 [00:00<?, ?it/s]"
     ]
    },
    {
     "name": "stdout",
     "output_type": "stream",
     "text": [
      "\n",
      "Epoch: [48 | 50] LR: 0.0000000100000000\n"
     ]
    },
    {
     "name": "stderr",
     "output_type": "stream",
     "text": [
      " 16%|████████████▌                                                                   | 100/636 [01:17<05:14,  1.71it/s]"
     ]
    },
    {
     "name": "stdout",
     "output_type": "stream",
     "text": [
      "(100/636) Data: 0.151s | Batch: 0.774s | Total: 0:01:17 | ETA: 0:05:34 | Loss: 0.1254 | top1:  94.5678\n"
     ]
    },
    {
     "name": "stderr",
     "output_type": "stream",
     "text": [
      " 31%|█████████████████████████▏                                                      | 200/636 [02:15<04:40,  1.55it/s]"
     ]
    },
    {
     "name": "stdout",
     "output_type": "stream",
     "text": [
      "(200/636) Data: 0.077s | Batch: 0.679s | Total: 0:02:15 | ETA: 0:04:19 | Loss: 0.1256 | top1:  94.5554\n"
     ]
    },
    {
     "name": "stderr",
     "output_type": "stream",
     "text": [
      " 47%|█████████████████████████████████████▋                                          | 300/636 [03:14<03:11,  1.76it/s]"
     ]
    },
    {
     "name": "stdout",
     "output_type": "stream",
     "text": [
      "(300/636) Data: 0.052s | Batch: 0.648s | Total: 0:03:14 | ETA: 0:03:19 | Loss: 0.1255 | top1:  94.5652\n"
     ]
    },
    {
     "name": "stderr",
     "output_type": "stream",
     "text": [
      " 63%|██████████████████████████████████████████████████▎                             | 400/636 [04:11<02:13,  1.76it/s]"
     ]
    },
    {
     "name": "stdout",
     "output_type": "stream",
     "text": [
      "(400/636) Data: 0.039s | Batch: 0.628s | Total: 0:04:11 | ETA: 0:02:17 | Loss: 0.1255 | top1:  94.5678\n"
     ]
    },
    {
     "name": "stderr",
     "output_type": "stream",
     "text": [
      " 79%|██████████████████████████████████████████████████████████████▉                 | 500/636 [05:13<01:20,  1.69it/s]"
     ]
    },
    {
     "name": "stdout",
     "output_type": "stream",
     "text": [
      "(500/636) Data: 0.032s | Batch: 0.626s | Total: 0:05:13 | ETA: 0:01:23 | Loss: 0.1255 | top1:  94.5603\n"
     ]
    },
    {
     "name": "stderr",
     "output_type": "stream",
     "text": [
      " 94%|███████████████████████████████████████████████████████████████████████████▍    | 600/636 [06:13<00:21,  1.68it/s]"
     ]
    },
    {
     "name": "stdout",
     "output_type": "stream",
     "text": [
      "(600/636) Data: 0.027s | Batch: 0.622s | Total: 0:06:13 | ETA: 0:00:23 | Loss: 0.1256 | top1:  94.5588\n"
     ]
    },
    {
     "name": "stderr",
     "output_type": "stream",
     "text": [
      "100%|████████████████████████████████████████████████████████████████████████████████| 636/636 [06:35<00:00,  1.61it/s]\n",
      "100%|████████████████████████████████████████████████████████████████████████████████| 156/156 [00:22<00:00,  7.00it/s]\n"
     ]
    },
    {
     "name": "stdout",
     "output_type": "stream",
     "text": [
      "(156/156) Data: 0.047s | Batch: 0.139s | Total: 0:00:21 | ETA: 0:00:01 | Loss: 0.2061 | top1:  91.5688\n",
      "=> saving checkpoint 'checkpoints\\checkpoint.pth.tar'\n"
     ]
    },
    {
     "name": "stderr",
     "output_type": "stream",
     "text": [
      "  0%|                                                                                          | 0/636 [00:00<?, ?it/s]"
     ]
    },
    {
     "name": "stdout",
     "output_type": "stream",
     "text": [
      "\n",
      "Epoch: [49 | 50] LR: 0.0000000100000000\n"
     ]
    },
    {
     "name": "stderr",
     "output_type": "stream",
     "text": [
      " 16%|████████████▌                                                                   | 100/636 [01:07<05:37,  1.59it/s]"
     ]
    },
    {
     "name": "stdout",
     "output_type": "stream",
     "text": [
      "(100/636) Data: 0.115s | Batch: 0.671s | Total: 0:01:07 | ETA: 0:05:20 | Loss: 0.1257 | top1:  94.5598\n"
     ]
    },
    {
     "name": "stderr",
     "output_type": "stream",
     "text": [
      " 31%|█████████████████████████▏                                                      | 200/636 [02:05<04:13,  1.72it/s]"
     ]
    },
    {
     "name": "stdout",
     "output_type": "stream",
     "text": [
      "(200/636) Data: 0.058s | Batch: 0.629s | Total: 0:02:05 | ETA: 0:04:16 | Loss: 0.1256 | top1:  94.5572\n"
     ]
    },
    {
     "name": "stderr",
     "output_type": "stream",
     "text": [
      " 47%|█████████████████████████████████████▋                                          | 300/636 [03:03<03:00,  1.86it/s]"
     ]
    },
    {
     "name": "stdout",
     "output_type": "stream",
     "text": [
      "(300/636) Data: 0.039s | Batch: 0.612s | Total: 0:03:03 | ETA: 0:03:11 | Loss: 0.1256 | top1:  94.5577\n"
     ]
    },
    {
     "name": "stderr",
     "output_type": "stream",
     "text": [
      " 63%|██████████████████████████████████████████████████▎                             | 400/636 [04:01<02:19,  1.70it/s]"
     ]
    },
    {
     "name": "stdout",
     "output_type": "stream",
     "text": [
      "(400/636) Data: 0.030s | Batch: 0.603s | Total: 0:04:01 | ETA: 0:02:20 | Loss: 0.1256 | top1:  94.5560\n"
     ]
    },
    {
     "name": "stderr",
     "output_type": "stream",
     "text": [
      " 79%|██████████████████████████████████████████████████████████████▉                 | 500/636 [04:59<01:19,  1.71it/s]"
     ]
    },
    {
     "name": "stdout",
     "output_type": "stream",
     "text": [
      "(500/636) Data: 0.024s | Batch: 0.598s | Total: 0:04:59 | ETA: 0:01:20 | Loss: 0.1257 | top1:  94.5546\n"
     ]
    },
    {
     "name": "stderr",
     "output_type": "stream",
     "text": [
      " 94%|███████████████████████████████████████████████████████████████████████████▍    | 600/636 [05:57<00:21,  1.69it/s]"
     ]
    },
    {
     "name": "stdout",
     "output_type": "stream",
     "text": [
      "(600/636) Data: 0.021s | Batch: 0.596s | Total: 0:05:57 | ETA: 0:00:22 | Loss: 0.1257 | top1:  94.5475\n"
     ]
    },
    {
     "name": "stderr",
     "output_type": "stream",
     "text": [
      "100%|████████████████████████████████████████████████████████████████████████████████| 636/636 [06:20<00:00,  1.67it/s]\n",
      "100%|████████████████████████████████████████████████████████████████████████████████| 156/156 [00:23<00:00,  6.56it/s]\n"
     ]
    },
    {
     "name": "stdout",
     "output_type": "stream",
     "text": [
      "(156/156) Data: 0.048s | Batch: 0.148s | Total: 0:00:23 | ETA: 0:00:01 | Loss: 0.2066 | top1:  91.5658\n",
      "=> saving checkpoint 'checkpoints\\checkpoint.pth.tar'\n"
     ]
    },
    {
     "name": "stderr",
     "output_type": "stream",
     "text": [
      "  0%|                                                                                          | 0/636 [00:00<?, ?it/s]"
     ]
    },
    {
     "name": "stdout",
     "output_type": "stream",
     "text": [
      "\n",
      "Epoch: [50 | 50] LR: 0.0000000100000000\n"
     ]
    },
    {
     "name": "stderr",
     "output_type": "stream",
     "text": [
      " 16%|████████████▌                                                                   | 100/636 [01:09<05:08,  1.74it/s]"
     ]
    },
    {
     "name": "stdout",
     "output_type": "stream",
     "text": [
      "(100/636) Data: 0.136s | Batch: 0.700s | Total: 0:01:09 | ETA: 0:05:16 | Loss: 0.1251 | top1:  94.5771\n"
     ]
    },
    {
     "name": "stderr",
     "output_type": "stream",
     "text": [
      " 31%|█████████████████████████▏                                                      | 200/636 [02:07<04:19,  1.68it/s]"
     ]
    },
    {
     "name": "stdout",
     "output_type": "stream",
     "text": [
      "(200/636) Data: 0.069s | Batch: 0.638s | Total: 0:02:07 | ETA: 0:04:20 | Loss: 0.1255 | top1:  94.5542\n"
     ]
    },
    {
     "name": "stderr",
     "output_type": "stream",
     "text": [
      " 47%|█████████████████████████████████████▋                                          | 300/636 [03:05<03:04,  1.82it/s]"
     ]
    },
    {
     "name": "stdout",
     "output_type": "stream",
     "text": [
      "(300/636) Data: 0.047s | Batch: 0.618s | Total: 0:03:05 | ETA: 0:03:15 | Loss: 0.1253 | top1:  94.5593\n"
     ]
    },
    {
     "name": "stderr",
     "output_type": "stream",
     "text": [
      " 63%|██████████████████████████████████████████████████▎                             | 400/636 [04:05<02:22,  1.65it/s]"
     ]
    },
    {
     "name": "stdout",
     "output_type": "stream",
     "text": [
      "(400/636) Data: 0.036s | Batch: 0.614s | Total: 0:04:05 | ETA: 0:02:25 | Loss: 0.1254 | top1:  94.5543\n"
     ]
    },
    {
     "name": "stderr",
     "output_type": "stream",
     "text": [
      " 79%|██████████████████████████████████████████████████████████████▉                 | 500/636 [05:04<01:22,  1.65it/s]"
     ]
    },
    {
     "name": "stdout",
     "output_type": "stream",
     "text": [
      "(500/636) Data: 0.029s | Batch: 0.609s | Total: 0:05:04 | ETA: 0:01:23 | Loss: 0.1254 | top1:  94.5557\n"
     ]
    },
    {
     "name": "stderr",
     "output_type": "stream",
     "text": [
      " 94%|███████████████████████████████████████████████████████████████████████████▍    | 600/636 [06:04<00:21,  1.67it/s]"
     ]
    },
    {
     "name": "stdout",
     "output_type": "stream",
     "text": [
      "(600/636) Data: 0.024s | Batch: 0.607s | Total: 0:06:04 | ETA: 0:00:23 | Loss: 0.1255 | top1:  94.5507\n"
     ]
    },
    {
     "name": "stderr",
     "output_type": "stream",
     "text": [
      "100%|████████████████████████████████████████████████████████████████████████████████| 636/636 [06:26<00:00,  1.65it/s]\n",
      "100%|████████████████████████████████████████████████████████████████████████████████| 156/156 [00:24<00:00,  6.40it/s]\n"
     ]
    },
    {
     "name": "stdout",
     "output_type": "stream",
     "text": [
      "(156/156) Data: 0.053s | Batch: 0.152s | Total: 0:00:23 | ETA: 0:00:01 | Loss: 0.2064 | top1:  91.5615\n",
      "=> saving checkpoint 'checkpoints\\checkpoint.pth.tar'\n"
     ]
    },
    {
     "data": {
      "image/png": "[encoded data removed]",
      "text/plain": [
       "<Figure size 432x288 with 1 Axes>"
      ]
     },
     "metadata": {
      "needs_background": "light"
     },
     "output_type": "display_data"
    },
    {
     "data": {
      "image/png": "[encoded data removed]",
      "text/plain": [
       "<Figure size 1440x360 with 3 Axes>"
      ]
     },
     "metadata": {
      "needs_background": "light"
     },
     "output_type": "display_data"
    },
    {
     "name": "stdout",
     "output_type": "stream",
     "text": [
      "Best accuracy:\n",
      "91.87018673975948\n",
      "=> Model trained time: 05:32:14\n"
     ]
    },
    {
     "data": {
      "text/plain": [
       "<Figure size 432x288 with 0 Axes>"
      ]
     },
     "metadata": {},
     "output_type": "display_data"
    }
   ],
   "source": [
    "# config.epoch = 1\n",
    "model = create_model(device)\n",
    "dataloaders, attribute_names = load_dataloaders()\n",
    "criterion = get_criterion()\n",
    "optimizer = get_optimizer(model)\n",
    "\n",
    "print(f\"=> Training model: {not config.evaluate}\")\n",
    "if config.evaluate:\n",
    "    best_prec1, mtimer, _, _, logger, = resume_checkpoint(model, optimizer, config.ckp_logger_fname, config.checkpoint_fname) # checkpoint_fname bestmodel_fname\n",
    "    #logger.plot_special()\n",
    "    test_loss, prec1, top1 = validate(dataloaders['test'], model, criterion)\n",
    "    print(f\"=> Best test accuracy: {prec1}, Model val acc: {best_prec1}\")\n",
    "    print_attribute_acc(top1, attribute_names)\n",
    "else:\n",
    "    best_prec1, mtimer, lr, start_epoch, logger = resume_checkpoint(model, optimizer, config.ckp_logger_fname, config.ckp_resume)\n",
    "    run_name, run_time = get_run_name_time(model, criterion, optimizer, comments)\n",
    "    mtimer = trainer(dataloaders, model, criterion, optimizer, logger, start_epoch, best_prec1, run_name, mtimer)\n",
    "\n",
    "print(f\"=> Model trained time: {mtimer}\")"
   ]
  },
  {
   "cell_type": "markdown",
   "metadata": {},
   "source": [
    "## Testing Loop"
   ]
  },
  {
   "cell_type": "code",
   "execution_count": 20,
   "metadata": {},
   "outputs": [
    {
     "name": "stdout",
     "output_type": "stream",
     "text": [
      "=> creating model 'FaceAttrResNet'\n",
      "Dataset sizes: {'test': 19962}\n",
      "Class Labels: 40\n",
      "=> resuming model: checkpoints\\model_best.pth.tar\n",
      "=> loading checkpoint 'checkpoints\\model_best.pth.tar'\n"
     ]
    },
    {
     "name": "stderr",
     "output_type": "stream",
     "text": [
      "  0%|                                                                                          | 0/156 [00:00<?, ?it/s]"
     ]
    },
    {
     "name": "stdout",
     "output_type": "stream",
     "text": [
      "=> loaded checkpoint 'checkpoints\\model_best.pth.tar' (epoch 4)\n",
      "=> resuming logger\n",
      "{'Learning Rate': ['0.010000000000000', '0.010000000000000', '0.010000000000000', '0.010000000000000', '0.010000000000000', '0.010000000000000', '0.010000000000000', '0.010000000000000', '0.010000000000000', '0.010000000000000', '0.001000000000000', '0.001000000000000', '0.001000000000000', '0.001000000000000', '0.001000000000000', '0.001000000000000', '0.000100000000000', '0.000100000000000', '0.000100000000000', '0.000100000000000', '0.000100000000000', '0.000100000000000', '0.000010000000000', '0.000010000000000', '0.000010000000000', '0.000010000000000', '0.000010000000000', '0.000010000000000', '0.000001000000000', '0.000001000000000', '0.000001000000000', '0.000001000000000', '0.000001000000000', '0.000001000000000', '0.000000100000000', '0.000000100000000', '0.000000100000000', '0.000000100000000', '0.000000100000000', '0.000000100000000', '0.000000010000000', '0.000000010000000', '0.000000010000000', '0.000000010000000', '0.000000010000000', '0.000000010000000', '0.000000010000000', '0.000000010000000', '0.000000010000000', '0.000000010000000'], 'Train Loss': ['0.218069048447641', '0.193932047007438', '0.187372126568135', '0.183019732268376', '0.179329873379900', '0.175880605095420', '0.172749735715722', '0.169659123995656', '0.166640266748920', '0.163646163768905', '0.147383335451096', '0.142408030314880', '0.139467928283229', '0.137137462326429', '0.135055884554947', '0.132867682935444', '0.128725337806635', '0.127968492500529', '0.127482358916602', '0.127122592132088', '0.126859177140311', '0.126358961984137', '0.125872494148700', '0.125800524171826', '0.125828916152807', '0.125695616424086', '0.125699915407920', '0.125546392506744', '0.125523330582538', '0.125546882052000', '0.125410136162159', '0.125686456786270', '0.125547480668398', '0.125482260123955', '0.125530333030897', '0.125536113716313', '0.125645672099497', '0.125424607665308', '0.125693779515518', '0.125511484824820', '0.125576384876655', '0.125410319763539', '0.125416741920392', '0.125487650608807', '0.125693661568024', '0.125679542349676', '0.125554890247305', '0.125579361897729', '0.125693915758843', '0.125561007700944'], 'Valid Loss': ['0.194381182454559', '0.190424789231185', '0.189421217684242', '0.185790903842754', '0.190424057868579', '0.186961470335309', '0.193574348841091', '0.192602330420564', '0.192253804418508', '0.196056402323988', '0.189153075158931', '0.191580414080316', '0.194505360141185', '0.196577654606519', '0.199831299737862', '0.201428495422412', '0.202506620266955', '0.203907396331459', '0.204315873622898', '0.204698731734973', '0.206014969525791', '0.206086500187613', '0.205935381141489', '0.206229873113948', '0.205963555292112', '0.205997164977599', '0.206233260981091', '0.206182814363459', '0.206121481486456', '0.205988136893733', '0.206184128368845', '0.206035471656155', '0.206041410844090', '0.206306511759231', '0.206100645602535', '0.206644577214673', '0.206518210141361', '0.206529818130817', '0.206207174650099', '0.205927755523712', '0.206554368326296', '0.206421389352088', '0.205916613783837', '0.206536136035103', '0.206333449943236', '0.206552120229914', '0.206311022103748', '0.206103884943325', '0.206556544862281', '0.206431580552778'], 'Train Acc.': ['90.354825828745831', '91.420562757417173', '91.699898630929525', '91.893899367931766', '92.055676722340522', '92.220894514445817', '92.354948701194701', '92.499892487537380', '92.637310315766271', '92.771548811592723', '93.520627266099396', '93.759660870851491', '93.899520797621690', '94.012963076933275', '94.099588376248107', '94.205719727632570', '94.401932174514798', '94.441650795601177', '94.453876635907733', '94.479403452853603', '94.493933157473521', '94.513546723329824', '94.541300609345143', '94.532991337470037', '94.535771334264311', '94.559977268597009', '94.539856853193328', '94.554831970755274', '94.553741477049485', '94.557381581407640', '94.567027093280672', '94.550208884837588', '94.560007987655467', '94.558426000392714', '94.554401916358159', '94.560699146432697', '94.553326780974572', '94.559716164931757', '94.546676292227232', '94.557719481933958', '94.549210542471513', '94.556828654760821', '94.553511090309968', '94.561405664868047', '94.543435522551604', '94.544940714183710', '94.554463353607900', '94.559240032286738', '94.546875959978635', '94.551959821484616'], 'Valid Acc.': ['91.451779330372602', '91.664695221160770', '91.737051389681454', '91.870186739759475', '91.602531834525223', '91.860245631398385', '91.622288214518932', '91.613605474344439', '91.669854530453094', '91.554084660330446', '91.830044795909160', '91.837595004683095', '91.779961743313748', '91.678285597122795', '91.607565307079540', '91.649972313750226', '91.606432775563746', '91.590451499966605', '91.598505056450989', '91.588438111006312', '91.561257359264715', '91.579000349894940', '91.567171689302000', '91.562893237598161', '91.580636228487577', '91.577364471302261', '91.551064577264441', '91.567926710267713', '91.577867818676751', '91.571072630638170', '91.560250664486944', '91.590325663228583', '91.567045852525581', '91.569185078415899', '91.574973571897559', '91.579881207637044', '91.546031104412435', '91.576735287228175', '91.576861124081418', '91.589570642416490', '91.562264053562473', '91.563899932375946', '91.577741981785167', '91.582146270265383', '91.564151605823156', '91.555217191971010', '91.547289472599047', '91.568807567971419', '91.565787484454191', '91.561509032673555']}\n"
     ]
    },
    {
     "name": "stderr",
     "output_type": "stream",
     "text": [
      "100%|████████████████████████████████████████████████████████████████████████████████| 156/156 [00:24<00:00,  6.32it/s]"
     ]
    },
    {
     "name": "stdout",
     "output_type": "stream",
     "text": [
      "(156/156) Data: 0.052s | Batch: 0.154s | Total: 0:00:24 | ETA: 0:00:01 | Loss: 0.1935 | top1:  91.3650\n",
      "=> Best test accuracy: 91.36496842377365, Model val acc: 91.87018673975948\n",
      "=> Model trained time: 00:25:39\n",
      "5_o_Clock_Shadow: 93.84831177329578\n",
      "Arched_Eyebrows: 84.21500851847392\n",
      "Attractive: 82.65704839041591\n",
      "Bags_Under_Eyes: 85.41729285260526\n",
      "Bald: 99.13335337446324\n",
      "Bangs: 95.88217610637335\n",
      "Big_Lips: 71.80142269167008\n",
      "Big_Nose: 84.42540824361942\n",
      "Black_Hair: 89.57018334759749\n",
      "Blond_Hair: 96.04749020315724\n",
      "Blurry: 96.34305176401936\n",
      "Brown_Hair: 88.57829875772146\n",
      "Bushy_Eyebrows: 91.98978055788298\n",
      "Chubby: 95.79701430811193\n",
      "Double_Chin: 96.56347055667365\n",
      "Eyeglasses: 99.71445746919146\n",
      "Goatee: 97.7056406890805\n",
      "Gray_Hair: 98.27672574458244\n",
      "Heavy_Makeup: 91.54894297868954\n",
      "High_Cheekbones: 87.62649033698084\n",
      "Male: 98.25668771275775\n",
      "Mouth_Slightly_Open: 94.04869248443991\n",
      "Mustache: 97.02434626400513\n",
      "Narrow_Eyes: 87.76675683417022\n",
      "No_Beard: 96.3630898363568\n",
      "Oval_Face: 75.61867545360721\n",
      "Pale_Skin: 96.87907023955867\n",
      "Pointy_Nose: 77.4872257090107\n",
      "Receding_Hairline: 94.14387333721547\n",
      "Rosy_Cheeks: 94.95541526382426\n",
      "Sideburns: 97.5753932502272\n",
      "Smiling: 93.16701730770764\n",
      "Straight_Hair: 83.90441835978838\n",
      "Wavy_Hair: 84.60575090077153\n",
      "Wearing_Earrings: 90.9027151519222\n",
      "Wearing_Hat: 99.09327722978836\n",
      "Wearing_Lipstick: 93.79320708048294\n",
      "Wearing_Necklace: 86.79491029446427\n",
      "Wearing_Necktie: 95.98737598308735\n",
      "Young: 89.0892695931535\n"
     ]
    },
    {
     "name": "stderr",
     "output_type": "stream",
     "text": [
      "\n"
     ]
    }
   ],
   "source": [
    "if not config.evaluate:\n",
    "    config.evaluate = True\n",
    "    model = create_model(device)\n",
    "    dataloaders, attribute_names = load_dataloaders()\n",
    "    criterion = get_criterion()\n",
    "    optimizer = get_optimizer(model)\n",
    "    \n",
    "    best_prec1, mtimer, _, _, _, = resume_checkpoint(model, optimizer, config.ckp_logger_fname, config.bestmodel_fname)# config.bestmodel_fname  config.checkpoint_fname\n",
    "    #print(model)\n",
    "    test_loss, prec1, top1 = validate(dataloaders['test'], model, criterion)\n",
    "    print(f\"=> Best test accuracy: {prec1}, Model val acc: {best_prec1}\")\n",
    "    print(f\"=> Model trained time: {mtimer}\")\n",
    "    print_attribute_acc(top1, attribute_names)"
   ]
  },
  {
   "cell_type": "markdown",
   "metadata": {},
   "source": [
    "## Save & Backup"
   ]
  },
  {
   "cell_type": "code",
   "execution_count": 21,
   "metadata": {},
   "outputs": [
    {
     "data": {
      "application/javascript": [
       "IPython.notebook.set_autosave_interval(1000)"
      ]
     },
     "metadata": {},
     "output_type": "display_data"
    },
    {
     "name": "stdout",
     "output_type": "stream",
     "text": [
      "Autosaving every 1 seconds\n"
     ]
    },
    {
     "data": {
      "application/javascript": [
       "IPython.notebook.set_autosave_interval(120000)"
      ]
     },
     "metadata": {},
     "output_type": "display_data"
    },
    {
     "name": "stdout",
     "output_type": "stream",
     "text": [
      "Autosaving every 120 seconds\n"
     ]
    }
   ],
   "source": [
    "if ISJUPYTER:\n",
    "    # Wait for notebook to save\n",
    "    %autosave 1\n",
    "    time.sleep(150)\n",
    "    %autosave 120"
   ]
  },
  {
   "cell_type": "code",
   "execution_count": 22,
   "metadata": {},
   "outputs": [
    {
     "name": "stdout",
     "output_type": "stream",
     "text": [
      "=> backing up checkpoints... \n",
      "=> backing up notebook... \n"
     ]
    },
    {
     "name": "stderr",
     "output_type": "stream",
     "text": [
      "[NbConvertApp] Converting notebook ai6126-project1-colab-v1.1.ipynb to html\n",
      "[NbConvertApp] Writing 688923 bytes to ai6126-project1-colab-v1.1.html\n"
     ]
    }
   ],
   "source": [
    "def backup_everything(run_time, run_name, title, backup_nb=ISJUPYTER):\n",
    "    # backup checkpoints\n",
    "    print(f\"=> backing up checkpoints... \")\n",
    "    run_dir = os.path.join(config.BACKUP_DIR, run_name, run_time)\n",
    "    create_dir_ifne(run_dir)\n",
    "    fromDirectory = config.CHECKPOINT_DIR\n",
    "    toDirectory = run_dir\n",
    "    copy_tree(fromDirectory, toDirectory)\n",
    "    \n",
    "    if backup_nb:\n",
    "        print(f\"=> backing up notebook... \")\n",
    "        # backup notebook html\n",
    "        nb_name = title + '.ipynb'\n",
    "        html_name = title + '.html'\n",
    "        save_name = os.path.join(run_dir, html_name)\n",
    "        !jupyter nbconvert --to html $nb_name\n",
    "        shutil.move(html_name, save_name)\n",
    "    \n",
    "backup_everything(run_time, run_name, title, backup_nb=ISJUPYTER)"
   ]
  },
  {
   "cell_type": "code",
   "execution_count": 23,
   "metadata": {},
   "outputs": [],
   "source": [
    "if config.auto_hibernate and False:\n",
    "    os.system('shutdown -h')"
   ]
  },
  {
   "cell_type": "code",
   "execution_count": null,
   "metadata": {},
   "outputs": [],
   "source": []
  }
 ],
 "metadata": {
  "colab": {
   "authorship_tag": "ABX9TyOYWQroywTLOsSvW/4lPmBg",
   "collapsed_sections": [],
   "name": "ai6126-project1-colab-v0.1.ipynb",
   "provenance": [],
   "toc_visible": true
  },
  "kernelspec": {
   "display_name": "Python 3",
   "language": "python",
   "name": "python3"
  },
  "language_info": {
   "codemirror_mode": {
    "name": "ipython",
    "version": 3
   },
   "file_extension": ".py",
   "mimetype": "text/x-python",
   "name": "python",
   "nbconvert_exporter": "python",
   "pygments_lexer": "ipython3",
   "version": "3.8.5"
  }
 },
 "nbformat": 4,
 "nbformat_minor": 4
}
