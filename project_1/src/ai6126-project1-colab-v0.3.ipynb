{
 "cells": [
  {
   "cell_type": "markdown",
   "metadata": {
    "id": "UVAZt6s-Fu41"
   },
   "source": [
    "# AI6126 ACV Project 1\n"
   ]
  },
  {
   "cell_type": "code",
   "execution_count": 1,
   "metadata": {
    "executionInfo": {
     "elapsed": 1038,
     "status": "ok",
     "timestamp": 1601175331072,
     "user": {
      "displayName": "Jia Hui Ong",
      "photoUrl": "https://lh3.googleusercontent.com/a-/AOh14GiKvHQmYQfzydylrU8HXZxYxJP3L6kGAQ94P-sS=s64",
      "userId": "05957301376516334331"
     },
     "user_tz": -480
    },
    "id": "jzjCg15BeR43"
   },
   "outputs": [
    {
     "name": "stdout",
     "output_type": "stream",
     "text": [
      "ai6126-project1-colab-v0.3\n"
     ]
    }
   ],
   "source": [
    "nb_ver = 0.3\n",
    "title = f'ai6126-project1-colab-v{nb_ver}'\n",
    "print(title)"
   ]
  },
  {
   "cell_type": "markdown",
   "metadata": {},
   "source": [
    "## Versioning & References"
   ]
  },
  {
   "cell_type": "markdown",
   "metadata": {
    "id": "4c2s81g4d5PE"
   },
   "source": [
    "### Changelogs\n",
    "+ V0.1 - Setup codes to download and unzip celeba to gDrive\n",
    "+ V0.2 - Added training loop \n",
    "+ V0.3 - Added seeding + save/ load checkpoint\n",
    "+ V0.4 - Added time taken + save output"
   ]
  },
  {
   "cell_type": "markdown",
   "metadata": {},
   "source": [
    "### References\n",
    "+ [PyTorch Transfer Learning](https://pytorch.org/tutorials/beginner/transfer_learning_tutorial.html)\n",
    "+ [TWD fast.ai](https://towardsdatascience.com/real-time-multi-facial-attribute-detection-using-transfer-learning-and-haar-cascades-with-fastai-47ff59e36df0)"
   ]
  },
  {
   "cell_type": "markdown",
   "metadata": {
    "id": "UmjjrIheF0u5"
   },
   "source": [
    "## Setup/ Configuration"
   ]
  },
  {
   "cell_type": "markdown",
   "metadata": {},
   "source": [
    "### Colab"
   ]
  },
  {
   "cell_type": "code",
   "execution_count": 2,
   "metadata": {
    "colab": {
     "base_uri": "https://localhost:8080/",
     "height": 282
    },
    "executionInfo": {
     "elapsed": 4455,
     "status": "error",
     "timestamp": 1601175336681,
     "user": {
      "displayName": "Jia Hui Ong",
      "photoUrl": "https://lh3.googleusercontent.com/a-/AOh14GiKvHQmYQfzydylrU8HXZxYxJP3L6kGAQ94P-sS=s64",
      "userId": "05957301376516334331"
     },
     "user_tz": -480
    },
    "id": "7mTWwwivDNy3",
    "outputId": "9f87be63-e615-42bf-b306-8a2ec7e2458d"
   },
   "outputs": [],
   "source": [
    "# you can choose to mount your Google Drive (optional)\n",
    "import sys, os\n",
    "if 'google.colab' in sys.modules:\n",
    "    from google.colab import drive\n",
    "    drive.mount('/content/drive')\n",
    "    file_name = f'ai6126-project1-colab-v{nb_ver}.ipynb'\n",
    "    print(file_name)\n",
    "    import subprocess\n",
    "    path_to_file = subprocess.check_output('find . -type f -name ' + str(file_name), shell=True).decode(\"utf-8\")\n",
    "    print(path_to_file)\n",
    "    path_to_file = path_to_file.replace(file_name,\"\").replace('\\n',\"\")\n",
    "    os.chdir(path_to_file)\n",
    "    !pwd"
   ]
  },
  {
   "cell_type": "code",
   "execution_count": 3,
   "metadata": {
    "colab": {
     "base_uri": "https://localhost:8080/",
     "height": 170
    },
    "executionInfo": {
     "elapsed": 4089,
     "status": "ok",
     "timestamp": 1601174827944,
     "user": {
      "displayName": "Jia Hui Ong",
      "photoUrl": "https://lh3.googleusercontent.com/a-/AOh14GiKvHQmYQfzydylrU8HXZxYxJP3L6kGAQ94P-sS=s64",
      "userId": "05957301376516334331"
     },
     "user_tz": -480
    },
    "id": "x6grHtmwDexI",
    "outputId": "60e6ef2d-3b03-486f-e7cc-a87eaa29da82"
   },
   "outputs": [
    {
     "name": "stdout",
     "output_type": "stream",
     "text": [
      "nvcc: NVIDIA (R) Cuda compiler driver\n",
      "Copyright (c) 2005-2019 NVIDIA Corporation\n",
      "Built on Sun_Jul_28_19:12:52_Pacific_Daylight_Time_2019\n",
      "Cuda compilation tools, release 10.1, V10.1.243\n"
     ]
    },
    {
     "name": "stderr",
     "output_type": "stream",
     "text": [
      "'gcc' is not recognized as an internal or external command,\n",
      "operable program or batch file.\n"
     ]
    }
   ],
   "source": [
    "# check nvcc version\n",
    "!nvcc -V\n",
    "# check GCC version\n",
    "!gcc --version"
   ]
  },
  {
   "cell_type": "markdown",
   "metadata": {},
   "source": [
    "### Download Dataset"
   ]
  },
  {
   "cell_type": "code",
   "execution_count": 4,
   "metadata": {},
   "outputs": [
    {
     "name": "stdout",
     "output_type": "stream",
     "text": [
      "download celeba dataset: False\n"
     ]
    }
   ],
   "source": [
    "import os, glob\n",
    "local_download_path = '../data/celeba/img_align_celeba'\n",
    "download_dataset = True\n",
    "if os.path.exists(local_download_path):\n",
    "    images = glob.glob(local_download_path + '/*.jpg')\n",
    "    if len(images) == 202599:\n",
    "        download_dataset = False\n",
    "print(f\"download celeba dataset: {download_dataset}\")\n",
    "\n",
    "if download_dataset:\n",
    "    # create dataset root and enter it\n",
    "    !mkdir -p data/celeba\n",
    "    %cd data/celeba\n",
    "\n",
    "    # we have prepared a backup of `img_align_celeba.zip` of Celeb-A dataset in the Dropbox\n",
    "    # download it directly, or manually download the original file from Google Drive above\n",
    "    !wget https://www.dropbox.com/s/8kzo40fqx7nodat/img_align_celeba.zip\n",
    "\n",
    "    # unzip the downloaded file\n",
    "    !unzip -qq img_align_celeba.zip\n",
    "    !rm -f img_align_celeba.zip\n",
    "\n",
    "    # change the directory back to the root\n",
    "    %cd ../..\n",
    "    !ls"
   ]
  },
  {
   "cell_type": "markdown",
   "metadata": {},
   "source": [
    "## Implementation"
   ]
  },
  {
   "cell_type": "markdown",
   "metadata": {},
   "source": [
    "### Imports"
   ]
  },
  {
   "cell_type": "code",
   "execution_count": 5,
   "metadata": {
    "id": "tEkTpN_qDN5u"
   },
   "outputs": [],
   "source": [
    "import os\n",
    "import time\n",
    "import random\n",
    "import numpy as np\n",
    "import copy\n",
    "\n",
    "import torch\n",
    "import torch.nn as nn\n",
    "import torch.optim as optim\n",
    "from torch.optim import lr_scheduler\n",
    "import torchvision\n",
    "from torchvision import datasets, models, transforms\n",
    "from torch.utils.tensorboard import SummaryWriter\n",
    "\n",
    "from tqdm import tqdm\n",
    "import matplotlib.pyplot as plt\n",
    "# from torchsummary import summary \n",
    "\n",
    "import config\n",
    "from celeba_dataset import CelebaDataset\n",
    "import models\n",
    "from utils import Logger, AverageMeter, Bar, savefig, adjust_learning_rate, accuracy, reset_gpu_cache, print_attribute_acc"
   ]
  },
  {
   "cell_type": "code",
   "execution_count": 6,
   "metadata": {
    "id": "DCjPfxzUDN3Y"
   },
   "outputs": [
    {
     "name": "stdout",
     "output_type": "stream",
     "text": [
      "1.6.0 True\n",
      "cuda:0\n",
      "disable_tqdm: False\n"
     ]
    }
   ],
   "source": [
    "# set the backend of matplotlib to the 'inline' backend\n",
    "%matplotlib inline\n",
    "\n",
    "# check PyTorch version and cuda status\n",
    "print(torch.__version__, torch.cuda.is_available())\n",
    "\n",
    "# define device\n",
    "device = torch.device(\"cuda:\"+config.gpu_id if torch.cuda.is_available() else \"cpu\")\n",
    "print(device)\n",
    "\n",
    "if 'ipykernel' in sys.modules:\n",
    "    config.disable_tqdm = False\n",
    "print(f\"disable_tqdm: {config.disable_tqdm}\")"
   ]
  },
  {
   "cell_type": "markdown",
   "metadata": {},
   "source": [
    "### Seeding"
   ]
  },
  {
   "cell_type": "code",
   "execution_count": 7,
   "metadata": {
    "colab": {
     "base_uri": "https://localhost:8080/",
     "height": 68
    },
    "executionInfo": {
     "elapsed": 4483,
     "status": "ok",
     "timestamp": 1601174828368,
     "user": {
      "displayName": "Jia Hui Ong",
      "photoUrl": "https://lh3.googleusercontent.com/a-/AOh14GiKvHQmYQfzydylrU8HXZxYxJP3L6kGAQ94P-sS=s64",
      "userId": "05957301376516334331"
     },
     "user_tz": -480
    },
    "id": "9Te1EuMyDN7-",
    "outputId": "e1a9321b-0c11-476e-dea5-57b3fa33f732"
   },
   "outputs": [],
   "source": [
    "# set random seed for reproducibility\n",
    "def seed_everything(seed=None):\n",
    "    if seed is None:\n",
    "        seed = random.randint(1, 10000) # create random seed\n",
    "        print(f'random seed used: {seed}')\n",
    "    os.environ['PYTHONHASHSEED'] = str(seed)\n",
    "    random.seed(seed)\n",
    "    np.random.seed(seed)\n",
    "    if 'torch' in sys.modules:\n",
    "        torch.manual_seed(seed)\n",
    "        torch.cuda.manual_seed_all(seed)\n",
    "        torch.backends.cudnn.deterministic = True\n",
    "        torch.backends.cudnn.benchmark = True\n",
    "    \n",
    "seed_everything(seed=config.manual_seed)"
   ]
  },
  {
   "cell_type": "markdown",
   "metadata": {
    "colab": {
     "base_uri": "https://localhost:8080/",
     "height": 34
    },
    "executionInfo": {
     "elapsed": 7867,
     "status": "ok",
     "timestamp": 1601174831763,
     "user": {
      "displayName": "Jia Hui Ong",
      "photoUrl": "https://lh3.googleusercontent.com/a-/AOh14GiKvHQmYQfzydylrU8HXZxYxJP3L6kGAQ94P-sS=s64",
      "userId": "05957301376516334331"
     },
     "user_tz": -480
    },
    "id": "UeTJbZQ5b_ea",
    "outputId": "de5f0be8-65fe-4648-e719-ff92f2642235",
    "pycharm": {
     "is_executing": true
    }
   },
   "source": [
    "### Data Transform"
   ]
  },
  {
   "cell_type": "code",
   "execution_count": 8,
   "metadata": {},
   "outputs": [
    {
     "name": "stdout",
     "output_type": "stream",
     "text": [
      "\n"
     ]
    }
   ],
   "source": [
    "attribute_names = ['5_o_Clock_Shadow', 'Arched_Eyebrows', 'Attractive', 'Bags_Under_Eyes', 'Bald', \n",
    "                   'Bangs', 'Big_Lips', 'Big_Nose', 'Black_Hair', 'Blond_Hair', 'Blurry', 'Brown_Hair', \n",
    "                   'Bushy_Eyebrows', 'Chubby', 'Double_Chin', 'Eyeglasses', 'Goatee', 'Gray_Hair',\n",
    "                   'Heavy_Makeup', 'High_Cheekbones', 'Male', 'Mouth_Slightly_Open', 'Mustache', \n",
    "                   'Narrow_Eyes', 'No_Beard', 'Oval_Face', 'Pale_Skin', 'Pointy_Nose', 'Receding_Hairline',\n",
    "                   'Rosy_Cheeks', 'Sideburns', 'Smiling', 'Straight_Hair', 'Wavy_Hair', 'Wearing_Earrings', \n",
    "                   'Wearing_Hat', 'Wearing_Lipstick', 'Wearing_Necklace', 'Wearing_Necktie', 'Young']\n",
    "print()"
   ]
  },
  {
   "cell_type": "code",
   "execution_count": 9,
   "metadata": {
    "pycharm": {
     "is_executing": true
    }
   },
   "outputs": [],
   "source": [
    "# Data augmentation and normalization for training\n",
    "# Just normalization for validation and testing\n",
    "\n",
    "def load_dataloaders(print_info=True):\n",
    "    normalize = transforms.Normalize(mean=[0.485, 0.456, 0.406],\n",
    "                                     std=[0.229, 0.224, 0.225])\n",
    "    if config.evaluate:\n",
    "        phases = ['test']\n",
    "    else:\n",
    "        phases = ['train', 'val']\n",
    "\n",
    "    attribute_names = ['5_o_Clock_Shadow', 'Arched_Eyebrows', 'Attractive', 'Bags_Under_Eyes', 'Bald', \n",
    "                       'Bangs', 'Big_Lips', 'Big_Nose', 'Black_Hair', 'Blond_Hair', 'Blurry', 'Brown_Hair', \n",
    "                       'Bushy_Eyebrows', 'Chubby', 'Double_Chin', 'Eyeglasses', 'Goatee', 'Gray_Hair',\n",
    "                       'Heavy_Makeup', 'High_Cheekbones', 'Male', 'Mouth_Slightly_Open', 'Mustache', \n",
    "                       'Narrow_Eyes', 'No_Beard', 'Oval_Face', 'Pale_Skin', 'Pointy_Nose', 'Receding_Hairline',\n",
    "                       'Rosy_Cheeks', 'Sideburns', 'Smiling', 'Straight_Hair', 'Wavy_Hair', 'Wearing_Earrings', \n",
    "                       'Wearing_Hat', 'Wearing_Lipstick', 'Wearing_Necklace', 'Wearing_Necktie', 'Young']\n",
    "    \n",
    "    attributes_list = {\n",
    "        'train': config.TRAIN_ATTRIBUTE_LIST,\n",
    "        'val': config.VAL_ATTRIBUTE_LIST,\n",
    "        'test': config.TEST_ATTRIBUTE_LIST\n",
    "    }\n",
    "\n",
    "    batch_sizes = {\n",
    "        'train': config.train_batch,\n",
    "        'val': config.test_batch,\n",
    "        'test': config.test_batch\n",
    "    }\n",
    "\n",
    "    data_transforms = {\n",
    "        'train': transforms.Compose([\n",
    "            transforms.RandomHorizontalFlip(p=0.5),\n",
    "            transforms.ToTensor(),\n",
    "            normalize,\n",
    "            transforms.RandomErasing()\n",
    "        ]),\n",
    "        'val': transforms.Compose([\n",
    "            transforms.ToTensor(),\n",
    "            normalize\n",
    "        ]),\n",
    "        'test': transforms.Compose([\n",
    "            transforms.ToTensor(),\n",
    "            normalize\n",
    "        ])\n",
    "    }\n",
    "\n",
    "    image_datasets = {x: CelebaDataset(config.IMG_DIR, attributes_list[x], \n",
    "                                       data_transforms[x]) \n",
    "                      for x in phases}\n",
    "    dataloaders = {x: torch.utils.data.DataLoader(image_datasets[x], \n",
    "                                                  batch_size=batch_sizes[x],\n",
    "                                                  pin_memory=True, shuffle=(x == 'train'), \n",
    "                                                  num_workers=config.dl_workers) \n",
    "                   for x in phases}\n",
    "    if print_info:\n",
    "        dataset_sizes = {x: len(image_datasets[x]) for x in phases}\n",
    "        print(f\"Dataset sizes: {dataset_sizes}\")\n",
    "        \n",
    "    if config.evaluate:\n",
    "        class_names = image_datasets['test'].targets\n",
    "    else:\n",
    "        class_names = image_datasets['train'].targets\n",
    "    print(f\"Class Labels: {len(class_names[0])}\")\n",
    "    assert len(attribute_names) == len(class_names[0])\n",
    "    return dataloaders, attribute_names"
   ]
  },
  {
   "cell_type": "markdown",
   "metadata": {
    "id": "qtfDq7Z2F6Nh",
    "pycharm": {
     "is_executing": true
    }
   },
   "source": [
    "### Model Architecture Initialization"
   ]
  },
  {
   "cell_type": "code",
   "execution_count": 10,
   "metadata": {
    "pycharm": {
     "is_executing": true
    }
   },
   "outputs": [
    {
     "name": "stdout",
     "output_type": "stream",
     "text": [
      "Available Models: ['FaceAttrResNet']\n"
     ]
    }
   ],
   "source": [
    "model_names = sorted(name for name in models.__dict__\n",
    "                     if callable(models.__dict__[name])) # and name.islower() and not name.startswith(\"__\"))\n",
    "print(f\"Available Models: {model_names}\")"
   ]
  },
  {
   "cell_type": "code",
   "execution_count": 11,
   "metadata": {},
   "outputs": [],
   "source": [
    "def create_model(device):\n",
    "    print(\"=> creating model '{}'\".format(config.arch))\n",
    "    if config.arch.startswith('FaceAttrResNet'):\n",
    "        model = models.__dict__[config.arch](resnet_layers = config.pt_layers)\n",
    "    model = model.to(device)\n",
    "    return model\n",
    "#print(model)"
   ]
  },
  {
   "cell_type": "markdown",
   "metadata": {},
   "source": [
    "### Criterion & Optimizer"
   ]
  },
  {
   "cell_type": "code",
   "execution_count": 12,
   "metadata": {
    "pycharm": {
     "is_executing": true
    }
   },
   "outputs": [],
   "source": [
    "# criterion = nn.CrossEntropyLoss().to(device)\n",
    "\n",
    "# optimizer = torch.optim.SGD(model.parameters(), config.lr,\n",
    "#                             momentum=config.momentum,\n",
    "#                             weight_decay=config.weight_decay)"
   ]
  },
  {
   "cell_type": "markdown",
   "metadata": {},
   "source": [
    "### Resume Checkpoint if any"
   ]
  },
  {
   "cell_type": "code",
   "execution_count": 13,
   "metadata": {},
   "outputs": [],
   "source": [
    "def resume_checkpoint(model, optimizer, ckp_logger_fname, ckp_resume=None):\n",
    "    if not os.path.isdir(config.CHECKPOINT_DIR):\n",
    "        try: \n",
    "            os.makedirs(config.CHECKPOINT_DIR)\n",
    "        except OSError:\n",
    "            raise\n",
    "            \n",
    "    start_epoch = 0\n",
    "    best_prec1 = 0\n",
    "    if ckp_resume and os.path.isfile(ckp_resume): \n",
    "        print(f\"=> resuming model: {ckp_resume}\")\n",
    "        optimizer, start_epoch, best_prec1 = model.load_ckp(optimizer, ckp_resume)\n",
    "        # print(f\"=> loading checkpoint '{config.resume}'\")\n",
    "        # checkpoint = torch.load(config.resume)\n",
    "        # start_epoch = checkpoint['epoch']\n",
    "        # best_prec1 = checkpoint['best_prec1']\n",
    "        # model.load_state_dict(checkpoint['state_dict'])\n",
    "        # optimizer.load_state_dict(checkpoint['optimizer'])\n",
    "        # print(f\"=> loaded checkpoint '{config.resume}' (epoch {start_epoch})\")\n",
    "        config.checkpoint = os.path.dirname(ckp_resume)\n",
    "        logger = Logger(ckp_logger_fname, title=model.name, resume=True)\n",
    "    else:\n",
    "        logger = Logger(ckp_logger_fname, title=model.name)\n",
    "        logger.set_names(['Learning Rate', 'Train Loss', 'Valid Loss', 'Train Acc.', 'Valid Acc.'])\n",
    "        \n",
    "        \n",
    "    return best_prec1, start_epoch, logger"
   ]
  },
  {
   "cell_type": "markdown",
   "metadata": {},
   "source": [
    "## Train & Validate Function"
   ]
  },
  {
   "cell_type": "code",
   "execution_count": 14,
   "metadata": {},
   "outputs": [],
   "source": [
    "def train(train_loader, model, criterion, optimizer):\n",
    "    bar = Bar('Processing', max=len(train_loader))\n",
    "\n",
    "    batch_time = AverageMeter()\n",
    "    data_time = AverageMeter()\n",
    "    losses = [AverageMeter() for _ in range(40)]\n",
    "    top1 = [AverageMeter() for _ in range(40)]\n",
    "\n",
    "    # switch to train mode\n",
    "    model.train()\n",
    "\n",
    "    end = time.time()\n",
    "    for i, (X, y) in enumerate(tqdm(train_loader, disable=config.disable_tqdm)):\n",
    "        # measure data loading time\n",
    "        data_time.update(time.time() - end)\n",
    "\n",
    "        # Overlapping transfer if pinned memory\n",
    "        X = X.to(device, non_blocking=True)\n",
    "        y = y.to(device, non_blocking=True)\n",
    "    \n",
    "        # compute output\n",
    "        output = model(X)\n",
    "        # measure accuracy and record loss\n",
    "        loss = []\n",
    "        prec1 = []\n",
    "        for j in range(len(output)):\n",
    "            loss.append(criterion(output[j], y[:, j]))\n",
    "            prec1.append(accuracy(output[j], y[:, j], topk=(1,)))\n",
    "\n",
    "            losses[j].update(loss[j].detach().item(), X.size(0))\n",
    "            top1[j].update(prec1[j][0].item(), X.size(0))\n",
    "            \n",
    "        losses_avg = [losses[k].avg for k in range(len(losses))]\n",
    "        top1_avg = [top1[k].avg for k in range(len(top1))]\n",
    "        loss_avg = sum(losses_avg) / len(losses_avg)\n",
    "        prec1_avg = sum(top1_avg) / len(top1_avg)\n",
    "\n",
    "        # compute gradient and do SGD step\n",
    "        optimizer.zero_grad()\n",
    "        loss_sum = sum(loss)\n",
    "        loss_sum.backward()\n",
    "        optimizer.step()\n",
    "\n",
    "        # measure elapsed time\n",
    "        batch_time.update(time.time() - end)\n",
    "        end = time.time()\n",
    "\n",
    "        # plot progress\n",
    "        print_line = '({batch}/{size}) Data: {data:.3f}s | Batch: {bt:.3f}s | Total: {total:} | ETA: {eta:} | Loss: {loss:.4f} | top1: {top1: .4f}'.format(\n",
    "                        batch=i + 1,\n",
    "                        size=len(train_loader),\n",
    "                        data=data_time.avg,\n",
    "                        bt=batch_time.avg,\n",
    "                        total=bar.elapsed_td,\n",
    "                        eta=bar.eta_td,\n",
    "                        loss=loss_avg,\n",
    "                        top1=prec1_avg,\n",
    "                        )\n",
    "        if not config.disable_tqdm and (i+1)% 100 == 0:\n",
    "            print(print_line)\n",
    "        bar.suffix  = print_line\n",
    "        bar.next()\n",
    "    bar.finish()\n",
    "    return (loss_avg, prec1_avg)"
   ]
  },
  {
   "cell_type": "code",
   "execution_count": 15,
   "metadata": {},
   "outputs": [],
   "source": [
    "def validate(val_loader, model, criterion):\n",
    "    bar = Bar('Processing', max=len(val_loader))\n",
    "\n",
    "    batch_time = AverageMeter()\n",
    "    data_time = AverageMeter()\n",
    "    losses = [AverageMeter() for _ in range(40)]\n",
    "    top1 = [AverageMeter() for _ in range(40)]\n",
    "\n",
    "    # switch to evaluate mode\n",
    "    model.eval()\n",
    "\n",
    "    with torch.no_grad():\n",
    "        end = time.time()\n",
    "        for i, (X, y) in enumerate(tqdm(val_loader, disable=config.disable_tqdm)):\n",
    "            # measure data loading time\n",
    "            data_time.update(time.time() - end)\n",
    "\n",
    "            # Overlapping transfer if pinned memory\n",
    "            X = X.to(device, non_blocking=True)\n",
    "            y = y.to(device, non_blocking=True)\n",
    "\n",
    "            # compute output\n",
    "            output = model(X)\n",
    "            # measure accuracy and record loss\n",
    "            loss = []\n",
    "            prec1 = []\n",
    "            for j in range(len(output)):\n",
    "                loss.append(criterion(output[j], y[:, j]))\n",
    "                prec1.append(accuracy(output[j], y[:, j], topk=(1,)))\n",
    "\n",
    "                losses[j].update(loss[j].detach().item(), X.size(0))\n",
    "                top1[j].update(prec1[j][0].item(), X.size(0))\n",
    "            losses_avg = [losses[k].avg for k in range(len(losses))]\n",
    "            top1_avg = [top1[k].avg for k in range(len(top1))]\n",
    "            loss_avg = sum(losses_avg) / len(losses_avg)\n",
    "            prec1_avg = sum(top1_avg) / len(top1_avg)\n",
    "\n",
    "            # measure elapsed time\n",
    "            batch_time.update(time.time() - end)\n",
    "            end = time.time()\n",
    "\n",
    "        # plot progress\n",
    "        print_line = '({batch}/{size}) Data: {data:.3f}s | Batch: {bt:.3f}s | Total: {total:} | ETA: {eta:} | Loss: {loss:.4f} | top1: {top1: .4f}'.format(\n",
    "                        batch=i + 1,\n",
    "                        size=len(val_loader),\n",
    "                        data=data_time.avg,\n",
    "                        bt=batch_time.avg,\n",
    "                        total=bar.elapsed_td,\n",
    "                        eta=bar.eta_td,\n",
    "                        loss=loss_avg,\n",
    "                        top1=prec1_avg,\n",
    "                        )\n",
    "        if not config.disable_tqdm and (i+1)% 100 == 0:\n",
    "            print(print_line)\n",
    "        bar.suffix  = print_line\n",
    "        bar.next()  \n",
    "    bar.finish()\n",
    "    return (loss_avg, prec1_avg, top1)"
   ]
  },
  {
   "cell_type": "markdown",
   "metadata": {},
   "source": [
    "## Main Function"
   ]
  },
  {
   "cell_type": "code",
   "execution_count": 16,
   "metadata": {},
   "outputs": [],
   "source": [
    "def trainer(dataloaders, model, criterion, optimizer, logger, start_epoch, best_prec1, run_name):\n",
    "    # visualization\n",
    "    writer = SummaryWriter(os.path.join(config.tensorboard_dir, run_name))\n",
    "\n",
    "    for epoch in range(start_epoch, config.epochs):\n",
    "        lr = adjust_learning_rate(optimizer, config.lr_decay, epoch, gamma=config.gamma, step=config.step,\n",
    "                                 total_epochs=config.epochs, turning_point=config.turning_point,\n",
    "                                 schedule=config.schedule)\n",
    "\n",
    "        print('\\nEpoch: [%d | %d] LR: %f' % (epoch + 1, config.epochs, lr))\n",
    "\n",
    "        # train for one epoch\n",
    "        train_loss, train_acc = train(dataloaders['train'], model, criterion, optimizer)\n",
    "\n",
    "        # evaluate on validation set\n",
    "        val_loss, prec1, _ = validate(dataloaders['val'], model, criterion)\n",
    "\n",
    "        # append logger file\n",
    "        logger.append([lr, train_loss, val_loss, train_acc, prec1])\n",
    "\n",
    "        # tensorboardX\n",
    "        writer.add_scalar('learning rate', lr, epoch + 1)\n",
    "        writer.add_scalars('loss', {'train loss': train_loss, 'validation loss': val_loss}, epoch + 1)\n",
    "        writer.add_scalars('accuracy', {'train accuracy': train_acc, 'validation accuracy': prec1}, epoch + 1)\n",
    "        #for name, param in model.named_parameters():\n",
    "        #    writer.add_histogram(name, param.clone().cpu().data.numpy(), epoch + 1)\n",
    "\n",
    "        is_best = prec1 > best_prec1\n",
    "        best_prec1 = max(prec1, best_prec1)\n",
    "\n",
    "        model.save_ckp({\n",
    "            'epoch': epoch + 1,\n",
    "            'arch': model.name,\n",
    "            'state_dict': model.state_dict(),\n",
    "            'best_prec1': best_prec1,\n",
    "            'optimizer' : optimizer.state_dict()\n",
    "        }, is_best, config.checkpoint_fname,config.bestmodel_fname)\n",
    "\n",
    "    logger.close()\n",
    "    logger.plot()\n",
    "    savefig(config.train_plotfig)\n",
    "    writer.close()\n",
    "\n",
    "    print('Best accuracy:')\n",
    "    print(best_prec1)"
   ]
  },
  {
   "cell_type": "code",
   "execution_count": 17,
   "metadata": {},
   "outputs": [],
   "source": [
    "def get_run_name(model, criterion, optimizer):\n",
    "    if str(criterion) == 'CrossEntropyLoss()':\n",
    "        p_criterion = 'CE'\n",
    "\n",
    "    p_optimizer = f'{str(optimizer).split(\"(\")[0].strip()}_'\n",
    "    p_scheduler = f'{config.lr_decay}_lr{config.lr}_wd{config.weight_decay}'\n",
    "    if config.lr_decay == 'step':\n",
    "        p_scheduler += f'_g{config.gamma}_sp{config.step}'\n",
    "    elif config.lr_decay == 'linear2exp':\n",
    "        p_scheduler += f'_g{config.gamma}_tp{config.turning_point}'\n",
    "    elif config.lr_decay == 'schedule':\n",
    "        p_scheduler += f'_g{config.gamma}_sch{config.schedule}'\n",
    "\n",
    "    run_name = f'{model.name}_{config.manual_seed}_s{start_epoch}e{config.epochs}_' \\\n",
    "                + f'tb{config.train_batch}_vb{config.test_batch}_' \\\n",
    "                + f'{p_criterion}_{p_optimizer}_' \\\n",
    "                + f'{p_scheduler}'\n",
    "    print(run_name)\n",
    "    return run_name"
   ]
  },
  {
   "cell_type": "code",
   "execution_count": 18,
   "metadata": {
    "id": "PWCHnDeVD4WT",
    "pycharm": {
     "is_executing": true
    }
   },
   "outputs": [
    {
     "name": "stdout",
     "output_type": "stream",
     "text": [
      "=> creating model 'FaceAttrResNet'\n"
     ]
    },
    {
     "name": "stderr",
     "output_type": "stream",
     "text": [
      "  0%|                                                                                         | 0/1272 [00:00<?, ?it/s]"
     ]
    },
    {
     "name": "stdout",
     "output_type": "stream",
     "text": [
      "Dataset sizes: {'train': 162770, 'val': 19867}\n",
      "Class Labels: 40\n",
      "FaceAttrResNet18_42_s0e60_tb128_vb128_CE_SGD__step_lr0.1_wd0.0001_g0.1_sp30\n",
      "\n",
      "Epoch: [1 | 60] LR: 0.100000\n"
     ]
    },
    {
     "name": "stderr",
     "output_type": "stream",
     "text": [
      "  8%|██████▏                                                                        | 100/1272 [01:42<19:32,  1.00s/it]"
     ]
    },
    {
     "name": "stdout",
     "output_type": "stream",
     "text": [
      "(100/1272) Data: 0.680s | Batch: 1.021s | Total: 0:01:42 | ETA: 0:22:24 | Loss: 0.7363 | top1:  79.0629\n"
     ]
    },
    {
     "name": "stderr",
     "output_type": "stream",
     "text": [
      " 16%|████████████▍                                                                  | 200/1272 [03:05<07:41,  2.32it/s]"
     ]
    },
    {
     "name": "stdout",
     "output_type": "stream",
     "text": [
      "(200/1272) Data: 0.611s | Batch: 0.928s | Total: 0:03:05 | ETA: 0:12:34 | Loss: 0.6890 | top1:  79.5824\n"
     ]
    },
    {
     "name": "stderr",
     "output_type": "stream",
     "text": [
      " 24%|██████████████████▋                                                            | 300/1272 [04:21<11:36,  1.40it/s]"
     ]
    },
    {
     "name": "stdout",
     "output_type": "stream",
     "text": [
      "(300/1272) Data: 0.558s | Batch: 0.871s | Total: 0:04:21 | ETA: 0:10:47 | Loss: 0.6988 | top1:  79.8800\n"
     ]
    },
    {
     "name": "stderr",
     "output_type": "stream",
     "text": [
      " 31%|████████████████████████▊                                                      | 400/1272 [05:34<06:57,  2.09it/s]"
     ]
    },
    {
     "name": "stdout",
     "output_type": "stream",
     "text": [
      "(400/1272) Data: 0.531s | Batch: 0.837s | Total: 0:05:34 | ETA: 0:10:21 | Loss: 0.6749 | top1:  79.9768\n"
     ]
    },
    {
     "name": "stderr",
     "output_type": "stream",
     "text": [
      " 39%|███████████████████████████████                                                | 500/1272 [06:42<06:40,  1.93it/s]"
     ]
    },
    {
     "name": "stdout",
     "output_type": "stream",
     "text": [
      "(500/1272) Data: 0.499s | Batch: 0.806s | Total: 0:06:42 | ETA: 0:06:24 | Loss: 0.6492 | top1:  80.0544\n"
     ]
    },
    {
     "name": "stderr",
     "output_type": "stream",
     "text": [
      " 47%|█████████████████████████████████████▎                                         | 600/1272 [07:44<04:31,  2.48it/s]"
     ]
    },
    {
     "name": "stdout",
     "output_type": "stream",
     "text": [
      "(600/1272) Data: 0.467s | Batch: 0.775s | Total: 0:07:44 | ETA: 0:06:49 | Loss: 0.6248 | top1:  80.1272\n"
     ]
    },
    {
     "name": "stderr",
     "output_type": "stream",
     "text": [
      " 55%|███████████████████████████████████████████▍                                   | 700/1272 [08:47<06:33,  1.45it/s]"
     ]
    },
    {
     "name": "stdout",
     "output_type": "stream",
     "text": [
      "(700/1272) Data: 0.448s | Batch: 0.753s | Total: 0:08:47 | ETA: 0:07:05 | Loss: 0.6040 | top1:  80.1645\n"
     ]
    },
    {
     "name": "stderr",
     "output_type": "stream",
     "text": [
      " 63%|█████████████████████████████████████████████████▋                             | 800/1272 [09:44<03:21,  2.34it/s]"
     ]
    },
    {
     "name": "stdout",
     "output_type": "stream",
     "text": [
      "(800/1272) Data: 0.424s | Batch: 0.730s | Total: 0:09:44 | ETA: 0:04:36 | Loss: 0.5888 | top1:  80.1943\n"
     ]
    },
    {
     "name": "stderr",
     "output_type": "stream",
     "text": [
      " 71%|███████████████████████████████████████████████████████▉                       | 900/1272 [10:41<03:39,  1.70it/s]"
     ]
    },
    {
     "name": "stdout",
     "output_type": "stream",
     "text": [
      "(900/1272) Data: 0.407s | Batch: 0.713s | Total: 0:10:41 | ETA: 0:04:01 | Loss: 0.5752 | top1:  80.2096\n"
     ]
    },
    {
     "name": "stderr",
     "output_type": "stream",
     "text": [
      " 79%|█████████████████████████████████████████████████████████████▎                | 1000/1272 [11:39<04:45,  1.05s/it]"
     ]
    },
    {
     "name": "stdout",
     "output_type": "stream",
     "text": [
      "(1000/1272) Data: 0.395s | Batch: 0.700s | Total: 0:11:39 | ETA: 0:02:35 | Loss: 0.5631 | top1:  80.2372\n"
     ]
    },
    {
     "name": "stderr",
     "output_type": "stream",
     "text": [
      " 86%|███████████████████████████████████████████████████████████████████▍          | 1100/1272 [12:31<01:25,  2.01it/s]"
     ]
    },
    {
     "name": "stdout",
     "output_type": "stream",
     "text": [
      "(1100/1272) Data: 0.378s | Batch: 0.684s | Total: 0:12:31 | ETA: 0:01:35 | Loss: 0.5525 | top1:  80.2613\n"
     ]
    },
    {
     "name": "stderr",
     "output_type": "stream",
     "text": [
      " 94%|█████████████████████████████████████████████████████████████████████████▌    | 1200/1272 [13:29<00:57,  1.25it/s]"
     ]
    },
    {
     "name": "stdout",
     "output_type": "stream",
     "text": [
      "(1200/1272) Data: 0.368s | Batch: 0.674s | Total: 0:13:29 | ETA: 0:00:32 | Loss: 0.5422 | top1:  80.3999\n"
     ]
    },
    {
     "name": "stderr",
     "output_type": "stream",
     "text": [
      "100%|██████████████████████████████████████████████████████████████████████████████| 1272/1272 [14:07<00:00,  1.50it/s]\n",
      "100%|████████████████████████████████████████████████████████████████████████████████| 156/156 [00:26<00:00,  5.93it/s]\n"
     ]
    },
    {
     "name": "stdout",
     "output_type": "stream",
     "text": [
      "=> saving checkpoint 'checkpoints\\checkpoint.pth.tar'\n"
     ]
    },
    {
     "name": "stderr",
     "output_type": "stream",
     "text": [
      "  0%|                                                                                         | 0/1272 [00:00<?, ?it/s]"
     ]
    },
    {
     "name": "stdout",
     "output_type": "stream",
     "text": [
      "=> saving best model 'checkpoints\\model_best.pth.tar'\n",
      "\n",
      "Epoch: [2 | 60] LR: 0.100000\n"
     ]
    },
    {
     "name": "stderr",
     "output_type": "stream",
     "text": [
      "  8%|██████▏                                                                        | 100/1272 [00:42<06:35,  2.96it/s]"
     ]
    },
    {
     "name": "stdout",
     "output_type": "stream",
     "text": [
      "(100/1272) Data: 0.087s | Batch: 0.421s | Total: 0:00:42 | ETA: 0:06:36 | Loss: 0.4102 | top1:  82.5148\n"
     ]
    },
    {
     "name": "stderr",
     "output_type": "stream",
     "text": [
      " 16%|████████████▍                                                                  | 200/1272 [01:15<05:58,  2.99it/s]"
     ]
    },
    {
     "name": "stdout",
     "output_type": "stream",
     "text": [
      "(200/1272) Data: 0.044s | Batch: 0.379s | Total: 0:01:15 | ETA: 0:06:01 | Loss: 0.4037 | top1:  82.7897\n"
     ]
    },
    {
     "name": "stderr",
     "output_type": "stream",
     "text": [
      " 24%|██████████████████▋                                                            | 300/1272 [01:49<05:27,  2.97it/s]"
     ]
    },
    {
     "name": "stdout",
     "output_type": "stream",
     "text": [
      "(300/1272) Data: 0.030s | Batch: 0.365s | Total: 0:01:49 | ETA: 0:05:27 | Loss: 0.3989 | top1:  82.9201\n"
     ]
    },
    {
     "name": "stderr",
     "output_type": "stream",
     "text": [
      " 31%|████████████████████████▊                                                      | 400/1272 [02:23<04:53,  2.97it/s]"
     ]
    },
    {
     "name": "stdout",
     "output_type": "stream",
     "text": [
      "(400/1272) Data: 0.023s | Batch: 0.358s | Total: 0:02:23 | ETA: 0:04:54 | Loss: 0.3926 | top1:  83.1618\n"
     ]
    },
    {
     "name": "stderr",
     "output_type": "stream",
     "text": [
      " 39%|███████████████████████████████                                                | 500/1272 [02:56<04:26,  2.89it/s]"
     ]
    },
    {
     "name": "stdout",
     "output_type": "stream",
     "text": [
      "(500/1272) Data: 0.018s | Batch: 0.354s | Total: 0:02:56 | ETA: 0:04:23 | Loss: 0.3868 | top1:  83.3601\n"
     ]
    },
    {
     "name": "stderr",
     "output_type": "stream",
     "text": [
      " 47%|█████████████████████████████████████▎                                         | 600/1272 [03:30<03:46,  2.96it/s]"
     ]
    },
    {
     "name": "stdout",
     "output_type": "stream",
     "text": [
      "(600/1272) Data: 0.016s | Batch: 0.351s | Total: 0:03:30 | ETA: 0:03:47 | Loss: 0.3812 | top1:  83.5620\n"
     ]
    },
    {
     "name": "stderr",
     "output_type": "stream",
     "text": [
      " 55%|███████████████████████████████████████████▍                                   | 700/1272 [04:04<03:13,  2.96it/s]"
     ]
    },
    {
     "name": "stdout",
     "output_type": "stream",
     "text": [
      "(700/1272) Data: 0.014s | Batch: 0.349s | Total: 0:04:04 | ETA: 0:03:14 | Loss: 0.3757 | top1:  83.8067\n"
     ]
    },
    {
     "name": "stderr",
     "output_type": "stream",
     "text": [
      " 63%|█████████████████████████████████████████████████▋                             | 800/1272 [04:37<02:39,  2.97it/s]"
     ]
    },
    {
     "name": "stdout",
     "output_type": "stream",
     "text": [
      "(800/1272) Data: 0.012s | Batch: 0.347s | Total: 0:04:37 | ETA: 0:02:40 | Loss: 0.3703 | top1:  84.0393\n"
     ]
    },
    {
     "name": "stderr",
     "output_type": "stream",
     "text": [
      " 71%|███████████████████████████████████████████████████████▉                       | 900/1272 [05:11<02:05,  2.97it/s]"
     ]
    },
    {
     "name": "stdout",
     "output_type": "stream",
     "text": [
      "(900/1272) Data: 0.011s | Batch: 0.346s | Total: 0:05:11 | ETA: 0:02:06 | Loss: 0.3653 | top1:  84.2477\n"
     ]
    },
    {
     "name": "stderr",
     "output_type": "stream",
     "text": [
      " 79%|█████████████████████████████████████████████████████████████▎                | 1000/1272 [05:45<01:31,  2.98it/s]"
     ]
    },
    {
     "name": "stdout",
     "output_type": "stream",
     "text": [
      "(1000/1272) Data: 0.010s | Batch: 0.345s | Total: 0:05:45 | ETA: 0:01:32 | Loss: 0.3608 | top1:  84.4400\n"
     ]
    },
    {
     "name": "stderr",
     "output_type": "stream",
     "text": [
      " 86%|███████████████████████████████████████████████████████████████████▍          | 1100/1272 [06:19<00:58,  2.96it/s]"
     ]
    },
    {
     "name": "stdout",
     "output_type": "stream",
     "text": [
      "(1100/1272) Data: 0.009s | Batch: 0.345s | Total: 0:06:19 | ETA: 0:00:59 | Loss: 0.3568 | top1:  84.6091\n"
     ]
    },
    {
     "name": "stderr",
     "output_type": "stream",
     "text": [
      " 94%|█████████████████████████████████████████████████████████████████████████▌    | 1200/1272 [06:52<00:24,  2.95it/s]"
     ]
    },
    {
     "name": "stdout",
     "output_type": "stream",
     "text": [
      "(1200/1272) Data: 0.008s | Batch: 0.344s | Total: 0:06:52 | ETA: 0:00:25 | Loss: 0.3531 | top1:  84.7657\n"
     ]
    },
    {
     "name": "stderr",
     "output_type": "stream",
     "text": [
      "100%|██████████████████████████████████████████████████████████████████████████████| 1272/1272 [07:17<00:00,  2.91it/s]\n",
      "100%|████████████████████████████████████████████████████████████████████████████████| 156/156 [00:24<00:00,  6.31it/s]\n"
     ]
    },
    {
     "name": "stdout",
     "output_type": "stream",
     "text": [
      "=> saving checkpoint 'checkpoints\\checkpoint.pth.tar'\n"
     ]
    },
    {
     "name": "stderr",
     "output_type": "stream",
     "text": [
      "  0%|                                                                                         | 0/1272 [00:00<?, ?it/s]"
     ]
    },
    {
     "name": "stdout",
     "output_type": "stream",
     "text": [
      "=> saving best model 'checkpoints\\model_best.pth.tar'\n",
      "\n",
      "Epoch: [3 | 60] LR: 0.100000\n"
     ]
    },
    {
     "name": "stderr",
     "output_type": "stream",
     "text": [
      "  8%|██████▏                                                                        | 100/1272 [00:41<06:36,  2.95it/s]"
     ]
    },
    {
     "name": "stdout",
     "output_type": "stream",
     "text": [
      "(100/1272) Data: 0.084s | Batch: 0.417s | Total: 0:00:41 | ETA: 0:06:35 | Loss: 0.3063 | top1:  86.6574\n"
     ]
    },
    {
     "name": "stderr",
     "output_type": "stream",
     "text": [
      " 16%|████████████▍                                                                  | 200/1272 [01:15<05:59,  2.98it/s]"
     ]
    },
    {
     "name": "stdout",
     "output_type": "stream",
     "text": [
      "(200/1272) Data: 0.043s | Batch: 0.376s | Total: 0:01:15 | ETA: 0:06:01 | Loss: 0.3174 | top1:  86.2536\n"
     ]
    },
    {
     "name": "stderr",
     "output_type": "stream",
     "text": [
      " 24%|██████████████████▋                                                            | 300/1272 [01:48<05:28,  2.96it/s]"
     ]
    },
    {
     "name": "stdout",
     "output_type": "stream",
     "text": [
      "(300/1272) Data: 0.029s | Batch: 0.363s | Total: 0:01:48 | ETA: 0:05:27 | Loss: 0.3136 | top1:  86.3801\n"
     ]
    },
    {
     "name": "stderr",
     "output_type": "stream",
     "text": [
      " 31%|████████████████████████▊                                                      | 400/1272 [02:22<04:52,  2.98it/s]"
     ]
    },
    {
     "name": "stdout",
     "output_type": "stream",
     "text": [
      "(400/1272) Data: 0.022s | Batch: 0.356s | Total: 0:02:22 | ETA: 0:04:52 | Loss: 0.3104 | top1:  86.4950\n"
     ]
    },
    {
     "name": "stderr",
     "output_type": "stream",
     "text": [
      " 39%|███████████████████████████████                                                | 500/1272 [02:55<04:18,  2.98it/s]"
     ]
    },
    {
     "name": "stdout",
     "output_type": "stream",
     "text": [
      "(500/1272) Data: 0.018s | Batch: 0.352s | Total: 0:02:55 | ETA: 0:04:20 | Loss: 0.3085 | top1:  86.5567\n"
     ]
    },
    {
     "name": "stderr",
     "output_type": "stream",
     "text": [
      " 47%|█████████████████████████████████████▎                                         | 600/1272 [03:29<03:46,  2.97it/s]"
     ]
    },
    {
     "name": "stdout",
     "output_type": "stream",
     "text": [
      "(600/1272) Data: 0.015s | Batch: 0.349s | Total: 0:03:29 | ETA: 0:03:46 | Loss: 0.3061 | top1:  86.6629\n"
     ]
    },
    {
     "name": "stderr",
     "output_type": "stream",
     "text": [
      " 55%|███████████████████████████████████████████▍                                   | 700/1272 [04:02<03:10,  3.00it/s]"
     ]
    },
    {
     "name": "stdout",
     "output_type": "stream",
     "text": [
      "(700/1272) Data: 0.013s | Batch: 0.347s | Total: 0:04:03 | ETA: 0:03:11 | Loss: 0.3040 | top1:  86.7439\n"
     ]
    },
    {
     "name": "stderr",
     "output_type": "stream",
     "text": [
      " 63%|█████████████████████████████████████████████████▋                             | 800/1272 [04:36<02:39,  2.96it/s]"
     ]
    },
    {
     "name": "stdout",
     "output_type": "stream",
     "text": [
      "(800/1272) Data: 0.012s | Batch: 0.346s | Total: 0:04:36 | ETA: 0:02:40 | Loss: 0.3016 | top1:  86.8386\n"
     ]
    },
    {
     "name": "stderr",
     "output_type": "stream",
     "text": [
      " 71%|███████████████████████████████████████████████████████▉                       | 900/1272 [05:10<02:05,  2.96it/s]"
     ]
    },
    {
     "name": "stdout",
     "output_type": "stream",
     "text": [
      "(900/1272) Data: 0.011s | Batch: 0.345s | Total: 0:05:10 | ETA: 0:02:06 | Loss: 0.2993 | top1:  86.9249\n"
     ]
    },
    {
     "name": "stderr",
     "output_type": "stream",
     "text": [
      " 79%|█████████████████████████████████████████████████████████████▎                | 1000/1272 [05:43<01:31,  2.98it/s]"
     ]
    },
    {
     "name": "stdout",
     "output_type": "stream",
     "text": [
      "(1000/1272) Data: 0.010s | Batch: 0.344s | Total: 0:05:43 | ETA: 0:01:32 | Loss: 0.2971 | top1:  87.0170\n"
     ]
    },
    {
     "name": "stderr",
     "output_type": "stream",
     "text": [
      " 86%|███████████████████████████████████████████████████████████████████▍          | 1100/1272 [06:17<00:57,  2.99it/s]"
     ]
    },
    {
     "name": "stdout",
     "output_type": "stream",
     "text": [
      "(1100/1272) Data: 0.009s | Batch: 0.343s | Total: 0:06:17 | ETA: 0:00:59 | Loss: 0.2951 | top1:  87.0990\n"
     ]
    },
    {
     "name": "stderr",
     "output_type": "stream",
     "text": [
      " 94%|█████████████████████████████████████████████████████████████████████████▌    | 1200/1272 [06:50<00:24,  2.97it/s]"
     ]
    },
    {
     "name": "stdout",
     "output_type": "stream",
     "text": [
      "(1200/1272) Data: 0.008s | Batch: 0.342s | Total: 0:06:50 | ETA: 0:00:25 | Loss: 0.2933 | top1:  87.1663\n"
     ]
    },
    {
     "name": "stderr",
     "output_type": "stream",
     "text": [
      "100%|██████████████████████████████████████████████████████████████████████████████| 1272/1272 [07:15<00:00,  2.92it/s]\n",
      "100%|████████████████████████████████████████████████████████████████████████████████| 156/156 [00:24<00:00,  6.31it/s]\n"
     ]
    },
    {
     "name": "stdout",
     "output_type": "stream",
     "text": [
      "=> saving checkpoint 'checkpoints\\checkpoint.pth.tar'\n"
     ]
    },
    {
     "name": "stderr",
     "output_type": "stream",
     "text": [
      "  0%|                                                                                         | 0/1272 [00:00<?, ?it/s]"
     ]
    },
    {
     "name": "stdout",
     "output_type": "stream",
     "text": [
      "\n",
      "Epoch: [4 | 60] LR: 0.100000\n"
     ]
    },
    {
     "name": "stderr",
     "output_type": "stream",
     "text": [
      "  8%|██████▏                                                                        | 100/1272 [00:41<06:36,  2.96it/s]"
     ]
    },
    {
     "name": "stdout",
     "output_type": "stream",
     "text": [
      "(100/1272) Data: 0.082s | Batch: 0.417s | Total: 0:00:41 | ETA: 0:06:36 | Loss: 0.2693 | top1:  88.1352\n"
     ]
    },
    {
     "name": "stderr",
     "output_type": "stream",
     "text": [
      " 16%|████████████▍                                                                  | 200/1272 [01:15<05:59,  2.98it/s]"
     ]
    },
    {
     "name": "stdout",
     "output_type": "stream",
     "text": [
      "(200/1272) Data: 0.042s | Batch: 0.377s | Total: 0:01:15 | ETA: 0:06:00 | Loss: 0.2671 | top1:  88.2087\n"
     ]
    },
    {
     "name": "stderr",
     "output_type": "stream",
     "text": [
      " 24%|██████████████████▋                                                            | 300/1272 [01:49<05:28,  2.96it/s]"
     ]
    },
    {
     "name": "stdout",
     "output_type": "stream",
     "text": [
      "(300/1272) Data: 0.028s | Batch: 0.364s | Total: 0:01:49 | ETA: 0:05:30 | Loss: 0.2662 | top1:  88.2464\n"
     ]
    },
    {
     "name": "stderr",
     "output_type": "stream",
     "text": [
      " 31%|████████████████████████▊                                                      | 400/1272 [02:22<04:52,  2.98it/s]"
     ]
    },
    {
     "name": "stdout",
     "output_type": "stream",
     "text": [
      "(400/1272) Data: 0.021s | Batch: 0.357s | Total: 0:02:22 | ETA: 0:04:54 | Loss: 0.2651 | top1:  88.2940\n"
     ]
    },
    {
     "name": "stderr",
     "output_type": "stream",
     "text": [
      " 39%|███████████████████████████████                                                | 500/1272 [02:56<04:19,  2.98it/s]"
     ]
    },
    {
     "name": "stdout",
     "output_type": "stream",
     "text": [
      "(500/1272) Data: 0.017s | Batch: 0.353s | Total: 0:02:56 | ETA: 0:04:21 | Loss: 0.2636 | top1:  88.3611\n"
     ]
    },
    {
     "name": "stderr",
     "output_type": "stream",
     "text": [
      " 47%|█████████████████████████████████████▎                                         | 600/1272 [03:30<03:46,  2.96it/s]"
     ]
    },
    {
     "name": "stdout",
     "output_type": "stream",
     "text": [
      "(600/1272) Data: 0.015s | Batch: 0.350s | Total: 0:03:30 | ETA: 0:03:47 | Loss: 0.2625 | top1:  88.4101\n"
     ]
    },
    {
     "name": "stderr",
     "output_type": "stream",
     "text": [
      " 55%|███████████████████████████████████████████▍                                   | 700/1272 [04:03<03:13,  2.96it/s]"
     ]
    },
    {
     "name": "stdout",
     "output_type": "stream",
     "text": [
      "(700/1272) Data: 0.013s | Batch: 0.349s | Total: 0:04:03 | ETA: 0:03:14 | Loss: 0.2614 | top1:  88.4595\n"
     ]
    },
    {
     "name": "stderr",
     "output_type": "stream",
     "text": [
      " 63%|█████████████████████████████████████████████████▋                             | 800/1272 [04:37<02:39,  2.96it/s]"
     ]
    },
    {
     "name": "stdout",
     "output_type": "stream",
     "text": [
      "(800/1272) Data: 0.011s | Batch: 0.347s | Total: 0:04:37 | ETA: 0:02:40 | Loss: 0.2606 | top1:  88.4961\n"
     ]
    },
    {
     "name": "stderr",
     "output_type": "stream",
     "text": [
      " 71%|███████████████████████████████████████████████████████▉                       | 900/1272 [05:11<02:06,  2.95it/s]"
     ]
    },
    {
     "name": "stdout",
     "output_type": "stream",
     "text": [
      "(900/1272) Data: 0.010s | Batch: 0.346s | Total: 0:05:11 | ETA: 0:02:07 | Loss: 0.2596 | top1:  88.5387\n"
     ]
    },
    {
     "name": "stderr",
     "output_type": "stream",
     "text": [
      " 79%|█████████████████████████████████████████████████████████████▎                | 1000/1272 [05:45<01:32,  2.95it/s]"
     ]
    },
    {
     "name": "stdout",
     "output_type": "stream",
     "text": [
      "(1000/1272) Data: 0.009s | Batch: 0.345s | Total: 0:05:45 | ETA: 0:01:33 | Loss: 0.2589 | top1:  88.5710\n"
     ]
    },
    {
     "name": "stderr",
     "output_type": "stream",
     "text": [
      " 86%|███████████████████████████████████████████████████████████████████▍          | 1100/1272 [06:19<00:57,  2.97it/s]"
     ]
    },
    {
     "name": "stdout",
     "output_type": "stream",
     "text": [
      "(1100/1272) Data: 0.009s | Batch: 0.345s | Total: 0:06:19 | ETA: 0:00:59 | Loss: 0.2585 | top1:  88.5875\n"
     ]
    },
    {
     "name": "stderr",
     "output_type": "stream",
     "text": [
      " 94%|█████████████████████████████████████████████████████████████████████████▌    | 1200/1272 [06:52<00:24,  2.96it/s]"
     ]
    },
    {
     "name": "stdout",
     "output_type": "stream",
     "text": [
      "(1200/1272) Data: 0.008s | Batch: 0.344s | Total: 0:06:52 | ETA: 0:00:25 | Loss: 0.2578 | top1:  88.6181\n"
     ]
    },
    {
     "name": "stderr",
     "output_type": "stream",
     "text": [
      "100%|██████████████████████████████████████████████████████████████████████████████| 1272/1272 [07:17<00:00,  2.91it/s]\n",
      "100%|████████████████████████████████████████████████████████████████████████████████| 156/156 [00:24<00:00,  6.30it/s]\n"
     ]
    },
    {
     "name": "stdout",
     "output_type": "stream",
     "text": [
      "=> saving checkpoint 'checkpoints\\checkpoint.pth.tar'\n"
     ]
    },
    {
     "name": "stderr",
     "output_type": "stream",
     "text": [
      "  0%|                                                                                         | 0/1272 [00:00<?, ?it/s]"
     ]
    },
    {
     "name": "stdout",
     "output_type": "stream",
     "text": [
      "=> saving best model 'checkpoints\\model_best.pth.tar'\n",
      "\n",
      "Epoch: [5 | 60] LR: 0.100000\n"
     ]
    },
    {
     "name": "stderr",
     "output_type": "stream",
     "text": [
      "  8%|██████▏                                                                        | 100/1272 [00:41<06:35,  2.97it/s]"
     ]
    },
    {
     "name": "stdout",
     "output_type": "stream",
     "text": [
      "(100/1272) Data: 0.083s | Batch: 0.418s | Total: 0:00:41 | ETA: 0:06:35 | Loss: 0.2480 | top1:  89.0637\n"
     ]
    },
    {
     "name": "stderr",
     "output_type": "stream",
     "text": [
      " 16%|████████████▍                                                                  | 200/1272 [01:15<06:00,  2.97it/s]"
     ]
    },
    {
     "name": "stdout",
     "output_type": "stream",
     "text": [
      "(200/1272) Data: 0.042s | Batch: 0.377s | Total: 0:01:15 | ETA: 0:06:01 | Loss: 0.2472 | top1:  89.0792\n"
     ]
    },
    {
     "name": "stderr",
     "output_type": "stream",
     "text": [
      " 24%|██████████████████▋                                                            | 300/1272 [01:48<05:30,  2.94it/s]"
     ]
    },
    {
     "name": "stdout",
     "output_type": "stream",
     "text": [
      "(300/1272) Data: 0.029s | Batch: 0.363s | Total: 0:01:48 | ETA: 0:05:28 | Loss: 0.2462 | top1:  89.1212\n"
     ]
    },
    {
     "name": "stderr",
     "output_type": "stream",
     "text": [
      " 31%|████████████████████████▊                                                      | 400/1272 [02:22<04:52,  2.98it/s]"
     ]
    },
    {
     "name": "stdout",
     "output_type": "stream",
     "text": [
      "(400/1272) Data: 0.022s | Batch: 0.356s | Total: 0:02:22 | ETA: 0:04:53 | Loss: 0.2460 | top1:  89.1246\n"
     ]
    },
    {
     "name": "stderr",
     "output_type": "stream",
     "text": [
      " 39%|███████████████████████████████                                                | 500/1272 [02:56<04:19,  2.98it/s]"
     ]
    },
    {
     "name": "stdout",
     "output_type": "stream",
     "text": [
      "(500/1272) Data: 0.018s | Batch: 0.352s | Total: 0:02:56 | ETA: 0:04:20 | Loss: 0.2455 | top1:  89.1493\n"
     ]
    },
    {
     "name": "stderr",
     "output_type": "stream",
     "text": [
      " 47%|█████████████████████████████████████▎                                         | 600/1272 [03:29<03:48,  2.94it/s]"
     ]
    },
    {
     "name": "stdout",
     "output_type": "stream",
     "text": [
      "(600/1272) Data: 0.015s | Batch: 0.350s | Total: 0:03:29 | ETA: 0:03:50 | Loss: 0.2449 | top1:  89.1663\n"
     ]
    },
    {
     "name": "stderr",
     "output_type": "stream",
     "text": [
      " 55%|███████████████████████████████████████████▍                                   | 700/1272 [04:03<03:11,  2.98it/s]"
     ]
    },
    {
     "name": "stdout",
     "output_type": "stream",
     "text": [
      "(700/1272) Data: 0.013s | Batch: 0.348s | Total: 0:04:03 | ETA: 0:03:13 | Loss: 0.2443 | top1:  89.2005\n"
     ]
    },
    {
     "name": "stderr",
     "output_type": "stream",
     "text": [
      " 63%|█████████████████████████████████████████████████▋                             | 800/1272 [04:36<02:38,  2.97it/s]"
     ]
    },
    {
     "name": "stdout",
     "output_type": "stream",
     "text": [
      "(800/1272) Data: 0.012s | Batch: 0.346s | Total: 0:04:36 | ETA: 0:02:39 | Loss: 0.2439 | top1:  89.2204\n"
     ]
    },
    {
     "name": "stderr",
     "output_type": "stream",
     "text": [
      " 71%|███████████████████████████████████████████████████████▉                       | 900/1272 [05:10<02:05,  2.97it/s]"
     ]
    },
    {
     "name": "stdout",
     "output_type": "stream",
     "text": [
      "(900/1272) Data: 0.010s | Batch: 0.345s | Total: 0:05:10 | ETA: 0:02:06 | Loss: 0.2434 | top1:  89.2447\n"
     ]
    },
    {
     "name": "stderr",
     "output_type": "stream",
     "text": [
      " 79%|█████████████████████████████████████████████████████████████▎                | 1000/1272 [05:44<01:37,  2.79it/s]"
     ]
    },
    {
     "name": "stdout",
     "output_type": "stream",
     "text": [
      "(1000/1272) Data: 0.010s | Batch: 0.344s | Total: 0:05:44 | ETA: 0:01:36 | Loss: 0.2431 | top1:  89.2627\n"
     ]
    },
    {
     "name": "stderr",
     "output_type": "stream",
     "text": [
      " 86%|███████████████████████████████████████████████████████████████████▍          | 1100/1272 [06:18<00:58,  2.95it/s]"
     ]
    },
    {
     "name": "stdout",
     "output_type": "stream",
     "text": [
      "(1100/1272) Data: 0.009s | Batch: 0.344s | Total: 0:06:18 | ETA: 0:00:59 | Loss: 0.2427 | top1:  89.2778\n"
     ]
    },
    {
     "name": "stderr",
     "output_type": "stream",
     "text": [
      " 94%|█████████████████████████████████████████████████████████████████████████▌    | 1200/1272 [06:51<00:24,  2.91it/s]"
     ]
    },
    {
     "name": "stdout",
     "output_type": "stream",
     "text": [
      "(1200/1272) Data: 0.008s | Batch: 0.343s | Total: 0:06:51 | ETA: 0:00:25 | Loss: 0.2423 | top1:  89.2933\n"
     ]
    },
    {
     "name": "stderr",
     "output_type": "stream",
     "text": [
      "100%|██████████████████████████████████████████████████████████████████████████████| 1272/1272 [07:16<00:00,  2.91it/s]\n",
      "100%|████████████████████████████████████████████████████████████████████████████████| 156/156 [00:24<00:00,  6.27it/s]\n"
     ]
    },
    {
     "name": "stdout",
     "output_type": "stream",
     "text": [
      "=> saving checkpoint 'checkpoints\\checkpoint.pth.tar'\n"
     ]
    },
    {
     "name": "stderr",
     "output_type": "stream",
     "text": [
      "  0%|                                                                                         | 0/1272 [00:00<?, ?it/s]"
     ]
    },
    {
     "name": "stdout",
     "output_type": "stream",
     "text": [
      "=> saving best model 'checkpoints\\model_best.pth.tar'\n",
      "\n",
      "Epoch: [6 | 60] LR: 0.100000\n"
     ]
    },
    {
     "name": "stderr",
     "output_type": "stream",
     "text": [
      "  8%|██████▏                                                                        | 100/1272 [00:42<06:33,  2.98it/s]"
     ]
    },
    {
     "name": "stdout",
     "output_type": "stream",
     "text": [
      "(100/1272) Data: 0.091s | Batch: 0.425s | Total: 0:00:42 | ETA: 0:06:34 | Loss: 0.2348 | top1:  89.6100\n"
     ]
    },
    {
     "name": "stderr",
     "output_type": "stream",
     "text": [
      " 16%|████████████▍                                                                  | 200/1272 [01:16<06:02,  2.96it/s]"
     ]
    },
    {
     "name": "stdout",
     "output_type": "stream",
     "text": [
      "(200/1272) Data: 0.046s | Batch: 0.381s | Total: 0:01:16 | ETA: 0:06:02 | Loss: 0.2349 | top1:  89.6223\n"
     ]
    },
    {
     "name": "stderr",
     "output_type": "stream",
     "text": [
      " 24%|██████████████████▋                                                            | 300/1272 [01:49<05:27,  2.97it/s]"
     ]
    },
    {
     "name": "stdout",
     "output_type": "stream",
     "text": [
      "(300/1272) Data: 0.031s | Batch: 0.366s | Total: 0:01:49 | ETA: 0:05:29 | Loss: 0.2347 | top1:  89.6183\n"
     ]
    },
    {
     "name": "stderr",
     "output_type": "stream",
     "text": [
      " 31%|████████████████████████▊                                                      | 400/1272 [02:23<04:52,  2.98it/s]"
     ]
    },
    {
     "name": "stdout",
     "output_type": "stream",
     "text": [
      "(400/1272) Data: 0.024s | Batch: 0.359s | Total: 0:02:23 | ETA: 0:04:55 | Loss: 0.2344 | top1:  89.6260\n"
     ]
    },
    {
     "name": "stderr",
     "output_type": "stream",
     "text": [
      " 39%|███████████████████████████████                                                | 500/1272 [02:57<04:20,  2.97it/s]"
     ]
    },
    {
     "name": "stdout",
     "output_type": "stream",
     "text": [
      "(500/1272) Data: 0.019s | Batch: 0.355s | Total: 0:02:57 | ETA: 0:04:22 | Loss: 0.2341 | top1:  89.6314\n"
     ]
    },
    {
     "name": "stderr",
     "output_type": "stream",
     "text": [
      " 47%|█████████████████████████████████████▎                                         | 600/1272 [03:31<03:47,  2.96it/s]"
     ]
    },
    {
     "name": "stdout",
     "output_type": "stream",
     "text": [
      "(600/1272) Data: 0.016s | Batch: 0.352s | Total: 0:03:31 | ETA: 0:03:48 | Loss: 0.2338 | top1:  89.6525\n"
     ]
    },
    {
     "name": "stderr",
     "output_type": "stream",
     "text": [
      " 55%|███████████████████████████████████████████▍                                   | 700/1272 [04:04<03:12,  2.97it/s]"
     ]
    },
    {
     "name": "stdout",
     "output_type": "stream",
     "text": [
      "(700/1272) Data: 0.014s | Batch: 0.350s | Total: 0:04:04 | ETA: 0:03:14 | Loss: 0.2335 | top1:  89.6686\n"
     ]
    },
    {
     "name": "stderr",
     "output_type": "stream",
     "text": [
      " 63%|█████████████████████████████████████████████████▋                             | 800/1272 [04:38<02:39,  2.97it/s]"
     ]
    },
    {
     "name": "stdout",
     "output_type": "stream",
     "text": [
      "(800/1272) Data: 0.013s | Batch: 0.348s | Total: 0:04:38 | ETA: 0:02:40 | Loss: 0.2333 | top1:  89.6800\n"
     ]
    },
    {
     "name": "stderr",
     "output_type": "stream",
     "text": [
      " 71%|███████████████████████████████████████████████████████▉                       | 900/1272 [05:12<02:06,  2.94it/s]"
     ]
    },
    {
     "name": "stdout",
     "output_type": "stream",
     "text": [
      "(900/1272) Data: 0.011s | Batch: 0.347s | Total: 0:05:12 | ETA: 0:02:07 | Loss: 0.2330 | top1:  89.6870\n"
     ]
    },
    {
     "name": "stderr",
     "output_type": "stream",
     "text": [
      " 79%|█████████████████████████████████████████████████████████████▎                | 1000/1272 [05:46<01:31,  2.97it/s]"
     ]
    },
    {
     "name": "stdout",
     "output_type": "stream",
     "text": [
      "(1000/1272) Data: 0.010s | Batch: 0.346s | Total: 0:05:46 | ETA: 0:01:32 | Loss: 0.2326 | top1:  89.7054\n"
     ]
    },
    {
     "name": "stderr",
     "output_type": "stream",
     "text": [
      " 86%|███████████████████████████████████████████████████████████████████▍          | 1100/1272 [06:19<00:58,  2.95it/s]"
     ]
    },
    {
     "name": "stdout",
     "output_type": "stream",
     "text": [
      "(1100/1272) Data: 0.010s | Batch: 0.345s | Total: 0:06:19 | ETA: 0:00:59 | Loss: 0.2322 | top1:  89.7178\n"
     ]
    },
    {
     "name": "stderr",
     "output_type": "stream",
     "text": [
      " 94%|█████████████████████████████████████████████████████████████████████████▌    | 1200/1272 [06:53<00:25,  2.86it/s]"
     ]
    },
    {
     "name": "stdout",
     "output_type": "stream",
     "text": [
      "(1200/1272) Data: 0.009s | Batch: 0.345s | Total: 0:06:53 | ETA: 0:00:26 | Loss: 0.2320 | top1:  89.7263\n"
     ]
    },
    {
     "name": "stderr",
     "output_type": "stream",
     "text": [
      "100%|██████████████████████████████████████████████████████████████████████████████| 1272/1272 [07:19<00:00,  2.89it/s]\n",
      "100%|████████████████████████████████████████████████████████████████████████████████| 156/156 [00:25<00:00,  6.12it/s]\n"
     ]
    },
    {
     "name": "stdout",
     "output_type": "stream",
     "text": [
      "=> saving checkpoint 'checkpoints\\checkpoint.pth.tar'\n"
     ]
    },
    {
     "name": "stderr",
     "output_type": "stream",
     "text": [
      "  0%|                                                                                         | 0/1272 [00:00<?, ?it/s]"
     ]
    },
    {
     "name": "stdout",
     "output_type": "stream",
     "text": [
      "=> saving best model 'checkpoints\\model_best.pth.tar'\n",
      "\n",
      "Epoch: [7 | 60] LR: 0.100000\n"
     ]
    },
    {
     "name": "stderr",
     "output_type": "stream",
     "text": [
      "  8%|██████▏                                                                        | 100/1272 [00:41<06:31,  3.00it/s]"
     ]
    },
    {
     "name": "stdout",
     "output_type": "stream",
     "text": [
      "(100/1272) Data: 0.083s | Batch: 0.417s | Total: 0:00:41 | ETA: 0:06:32 | Loss: 0.2266 | top1:  89.9344\n"
     ]
    },
    {
     "name": "stderr",
     "output_type": "stream",
     "text": [
      " 16%|████████████▍                                                                  | 200/1272 [01:15<06:00,  2.97it/s]"
     ]
    },
    {
     "name": "stdout",
     "output_type": "stream",
     "text": [
      "(200/1272) Data: 0.042s | Batch: 0.376s | Total: 0:01:15 | ETA: 0:06:01 | Loss: 0.2263 | top1:  89.9639\n"
     ]
    },
    {
     "name": "stderr",
     "output_type": "stream",
     "text": [
      " 24%|██████████████████▋                                                            | 300/1272 [01:48<05:28,  2.96it/s]"
     ]
    },
    {
     "name": "stdout",
     "output_type": "stream",
     "text": [
      "(300/1272) Data: 0.029s | Batch: 0.363s | Total: 0:01:48 | ETA: 0:05:28 | Loss: 0.2260 | top1:  89.9853\n"
     ]
    },
    {
     "name": "stderr",
     "output_type": "stream",
     "text": [
      " 31%|████████████████████████▊                                                      | 400/1272 [02:22<04:53,  2.97it/s]"
     ]
    },
    {
     "name": "stdout",
     "output_type": "stream",
     "text": [
      "(400/1272) Data: 0.022s | Batch: 0.356s | Total: 0:02:22 | ETA: 0:04:53 | Loss: 0.2259 | top1:  89.9990\n"
     ]
    },
    {
     "name": "stderr",
     "output_type": "stream",
     "text": [
      " 39%|███████████████████████████████                                                | 500/1272 [02:56<04:19,  2.97it/s]"
     ]
    },
    {
     "name": "stdout",
     "output_type": "stream",
     "text": [
      "(500/1272) Data: 0.018s | Batch: 0.352s | Total: 0:02:56 | ETA: 0:04:21 | Loss: 0.2257 | top1:  90.0026\n"
     ]
    },
    {
     "name": "stderr",
     "output_type": "stream",
     "text": [
      " 47%|█████████████████████████████████████▎                                         | 600/1272 [03:29<03:44,  2.99it/s]"
     ]
    },
    {
     "name": "stdout",
     "output_type": "stream",
     "text": [
      "(600/1272) Data: 0.015s | Batch: 0.350s | Total: 0:03:29 | ETA: 0:03:46 | Loss: 0.2255 | top1:  90.0107\n"
     ]
    },
    {
     "name": "stderr",
     "output_type": "stream",
     "text": [
      " 55%|███████████████████████████████████████████▍                                   | 700/1272 [04:03<03:12,  2.98it/s]"
     ]
    },
    {
     "name": "stdout",
     "output_type": "stream",
     "text": [
      "(700/1272) Data: 0.013s | Batch: 0.348s | Total: 0:04:03 | ETA: 0:03:14 | Loss: 0.2254 | top1:  90.0130\n"
     ]
    },
    {
     "name": "stderr",
     "output_type": "stream",
     "text": [
      " 63%|█████████████████████████████████████████████████▋                             | 800/1272 [04:36<02:38,  2.97it/s]"
     ]
    },
    {
     "name": "stdout",
     "output_type": "stream",
     "text": [
      "(800/1272) Data: 0.012s | Batch: 0.346s | Total: 0:04:36 | ETA: 0:02:39 | Loss: 0.2253 | top1:  90.0204\n"
     ]
    },
    {
     "name": "stderr",
     "output_type": "stream",
     "text": [
      " 71%|███████████████████████████████████████████████████████▉                       | 900/1272 [05:10<02:04,  2.99it/s]"
     ]
    },
    {
     "name": "stdout",
     "output_type": "stream",
     "text": [
      "(900/1272) Data: 0.010s | Batch: 0.345s | Total: 0:05:10 | ETA: 0:02:06 | Loss: 0.2251 | top1:  90.0235\n"
     ]
    },
    {
     "name": "stderr",
     "output_type": "stream",
     "text": [
      " 79%|█████████████████████████████████████████████████████████████▎                | 1000/1272 [05:44<01:31,  2.97it/s]"
     ]
    },
    {
     "name": "stdout",
     "output_type": "stream",
     "text": [
      "(1000/1272) Data: 0.010s | Batch: 0.344s | Total: 0:05:44 | ETA: 0:01:32 | Loss: 0.2251 | top1:  90.0269\n"
     ]
    },
    {
     "name": "stderr",
     "output_type": "stream",
     "text": [
      " 86%|███████████████████████████████████████████████████████████████████▍          | 1100/1272 [06:17<00:57,  2.98it/s]"
     ]
    },
    {
     "name": "stdout",
     "output_type": "stream",
     "text": [
      "(1100/1272) Data: 0.009s | Batch: 0.344s | Total: 0:06:17 | ETA: 0:00:59 | Loss: 0.2249 | top1:  90.0346\n"
     ]
    },
    {
     "name": "stderr",
     "output_type": "stream",
     "text": [
      " 94%|█████████████████████████████████████████████████████████████████████████▌    | 1200/1272 [06:51<00:24,  2.97it/s]"
     ]
    },
    {
     "name": "stdout",
     "output_type": "stream",
     "text": [
      "(1200/1272) Data: 0.008s | Batch: 0.343s | Total: 0:06:51 | ETA: 0:00:25 | Loss: 0.2248 | top1:  90.0392\n"
     ]
    },
    {
     "name": "stderr",
     "output_type": "stream",
     "text": [
      "100%|██████████████████████████████████████████████████████████████████████████████| 1272/1272 [07:16<00:00,  2.92it/s]\n",
      "100%|████████████████████████████████████████████████████████████████████████████████| 156/156 [00:25<00:00,  6.24it/s]\n"
     ]
    },
    {
     "name": "stdout",
     "output_type": "stream",
     "text": [
      "=> saving checkpoint 'checkpoints\\checkpoint.pth.tar'\n"
     ]
    },
    {
     "name": "stderr",
     "output_type": "stream",
     "text": [
      "  0%|                                                                                         | 0/1272 [00:00<?, ?it/s]"
     ]
    },
    {
     "name": "stdout",
     "output_type": "stream",
     "text": [
      "\n",
      "Epoch: [8 | 60] LR: 0.100000\n"
     ]
    },
    {
     "name": "stderr",
     "output_type": "stream",
     "text": [
      "  8%|██████▏                                                                        | 100/1272 [00:41<06:34,  2.97it/s]"
     ]
    },
    {
     "name": "stdout",
     "output_type": "stream",
     "text": [
      "(100/1272) Data: 0.083s | Batch: 0.419s | Total: 0:00:41 | ETA: 0:06:35 | Loss: 0.2213 | top1:  90.2270\n"
     ]
    },
    {
     "name": "stderr",
     "output_type": "stream",
     "text": [
      " 16%|████████████▍                                                                  | 200/1272 [01:15<06:01,  2.97it/s]"
     ]
    },
    {
     "name": "stdout",
     "output_type": "stream",
     "text": [
      "(200/1272) Data: 0.042s | Batch: 0.378s | Total: 0:01:15 | ETA: 0:06:02 | Loss: 0.2215 | top1:  90.2075\n"
     ]
    },
    {
     "name": "stderr",
     "output_type": "stream",
     "text": [
      " 24%|██████████████████▋                                                            | 300/1272 [01:49<05:27,  2.96it/s]"
     ]
    },
    {
     "name": "stdout",
     "output_type": "stream",
     "text": [
      "(300/1272) Data: 0.029s | Batch: 0.364s | Total: 0:01:49 | ETA: 0:05:28 | Loss: 0.2210 | top1:  90.2404\n"
     ]
    },
    {
     "name": "stderr",
     "output_type": "stream",
     "text": [
      " 31%|████████████████████████▊                                                      | 400/1272 [02:23<04:54,  2.96it/s]"
     ]
    },
    {
     "name": "stdout",
     "output_type": "stream",
     "text": [
      "(400/1272) Data: 0.022s | Batch: 0.358s | Total: 0:02:23 | ETA: 0:04:55 | Loss: 0.2207 | top1:  90.2447\n"
     ]
    },
    {
     "name": "stderr",
     "output_type": "stream",
     "text": [
      " 39%|███████████████████████████████                                                | 500/1272 [02:56<04:22,  2.94it/s]"
     ]
    },
    {
     "name": "stdout",
     "output_type": "stream",
     "text": [
      "(500/1272) Data: 0.018s | Batch: 0.354s | Total: 0:02:56 | ETA: 0:04:23 | Loss: 0.2206 | top1:  90.2500\n"
     ]
    },
    {
     "name": "stderr",
     "output_type": "stream",
     "text": [
      " 47%|█████████████████████████████████████▎                                         | 600/1272 [03:30<03:47,  2.95it/s]"
     ]
    },
    {
     "name": "stdout",
     "output_type": "stream",
     "text": [
      "(600/1272) Data: 0.015s | Batch: 0.351s | Total: 0:03:30 | ETA: 0:03:48 | Loss: 0.2208 | top1:  90.2419\n"
     ]
    },
    {
     "name": "stderr",
     "output_type": "stream",
     "text": [
      " 55%|███████████████████████████████████████████▍                                   | 700/1272 [04:04<03:14,  2.95it/s]"
     ]
    },
    {
     "name": "stdout",
     "output_type": "stream",
     "text": [
      "(700/1272) Data: 0.013s | Batch: 0.349s | Total: 0:04:04 | ETA: 0:03:14 | Loss: 0.2205 | top1:  90.2554\n"
     ]
    },
    {
     "name": "stderr",
     "output_type": "stream",
     "text": [
      " 63%|█████████████████████████████████████████████████▋                             | 800/1272 [04:38<02:38,  2.97it/s]"
     ]
    },
    {
     "name": "stdout",
     "output_type": "stream",
     "text": [
      "(800/1272) Data: 0.012s | Batch: 0.348s | Total: 0:04:38 | ETA: 0:02:40 | Loss: 0.2203 | top1:  90.2597\n"
     ]
    },
    {
     "name": "stderr",
     "output_type": "stream",
     "text": [
      " 71%|███████████████████████████████████████████████████████▉                       | 900/1272 [05:11<02:05,  2.97it/s]"
     ]
    },
    {
     "name": "stdout",
     "output_type": "stream",
     "text": [
      "(900/1272) Data: 0.010s | Batch: 0.347s | Total: 0:05:11 | ETA: 0:02:06 | Loss: 0.2202 | top1:  90.2692\n"
     ]
    },
    {
     "name": "stderr",
     "output_type": "stream",
     "text": [
      " 79%|█████████████████████████████████████████████████████████████▎                | 1000/1272 [05:45<01:33,  2.92it/s]"
     ]
    },
    {
     "name": "stdout",
     "output_type": "stream",
     "text": [
      "(1000/1272) Data: 0.010s | Batch: 0.346s | Total: 0:05:45 | ETA: 0:01:33 | Loss: 0.2202 | top1:  90.2750\n"
     ]
    },
    {
     "name": "stderr",
     "output_type": "stream",
     "text": [
      " 86%|███████████████████████████████████████████████████████████████████▍          | 1100/1272 [06:19<00:58,  2.95it/s]"
     ]
    },
    {
     "name": "stdout",
     "output_type": "stream",
     "text": [
      "(1100/1272) Data: 0.009s | Batch: 0.345s | Total: 0:06:19 | ETA: 0:00:59 | Loss: 0.2200 | top1:  90.2756\n"
     ]
    },
    {
     "name": "stderr",
     "output_type": "stream",
     "text": [
      " 94%|█████████████████████████████████████████████████████████████████████████▌    | 1200/1272 [06:53<00:24,  2.97it/s]"
     ]
    },
    {
     "name": "stdout",
     "output_type": "stream",
     "text": [
      "(1200/1272) Data: 0.008s | Batch: 0.344s | Total: 0:06:53 | ETA: 0:00:25 | Loss: 0.2199 | top1:  90.2745\n"
     ]
    },
    {
     "name": "stderr",
     "output_type": "stream",
     "text": [
      "100%|██████████████████████████████████████████████████████████████████████████████| 1272/1272 [07:18<00:00,  2.90it/s]\n",
      "100%|████████████████████████████████████████████████████████████████████████████████| 156/156 [00:24<00:00,  6.31it/s]\n"
     ]
    },
    {
     "name": "stdout",
     "output_type": "stream",
     "text": [
      "=> saving checkpoint 'checkpoints\\checkpoint.pth.tar'\n"
     ]
    },
    {
     "name": "stderr",
     "output_type": "stream",
     "text": [
      "  0%|                                                                                         | 0/1272 [00:00<?, ?it/s]"
     ]
    },
    {
     "name": "stdout",
     "output_type": "stream",
     "text": [
      "\n",
      "Epoch: [9 | 60] LR: 0.100000\n"
     ]
    },
    {
     "name": "stderr",
     "output_type": "stream",
     "text": [
      "  8%|██████▏                                                                        | 100/1272 [00:41<06:35,  2.96it/s]"
     ]
    },
    {
     "name": "stdout",
     "output_type": "stream",
     "text": [
      "(100/1272) Data: 0.083s | Batch: 0.417s | Total: 0:00:41 | ETA: 0:06:36 | Loss: 0.2161 | top1:  90.4637\n"
     ]
    },
    {
     "name": "stderr",
     "output_type": "stream",
     "text": [
      " 16%|████████████▍                                                                  | 200/1272 [01:15<05:58,  2.99it/s]"
     ]
    },
    {
     "name": "stdout",
     "output_type": "stream",
     "text": [
      "(200/1272) Data: 0.042s | Batch: 0.376s | Total: 0:01:15 | ETA: 0:06:01 | Loss: 0.2152 | top1:  90.5099\n"
     ]
    },
    {
     "name": "stderr",
     "output_type": "stream",
     "text": [
      " 24%|██████████████████▋                                                            | 300/1272 [01:48<05:26,  2.97it/s]"
     ]
    },
    {
     "name": "stdout",
     "output_type": "stream",
     "text": [
      "(300/1272) Data: 0.028s | Batch: 0.363s | Total: 0:01:48 | ETA: 0:05:27 | Loss: 0.2155 | top1:  90.4830\n"
     ]
    },
    {
     "name": "stderr",
     "output_type": "stream",
     "text": [
      " 31%|████████████████████████▊                                                      | 400/1272 [02:22<04:57,  2.93it/s]"
     ]
    },
    {
     "name": "stdout",
     "output_type": "stream",
     "text": [
      "(400/1272) Data: 0.022s | Batch: 0.356s | Total: 0:02:22 | ETA: 0:04:55 | Loss: 0.2159 | top1:  90.4607\n"
     ]
    },
    {
     "name": "stderr",
     "output_type": "stream",
     "text": [
      " 39%|███████████████████████████████                                                | 500/1272 [02:56<04:18,  2.99it/s]"
     ]
    },
    {
     "name": "stdout",
     "output_type": "stream",
     "text": [
      "(500/1272) Data: 0.018s | Batch: 0.352s | Total: 0:02:56 | ETA: 0:04:21 | Loss: 0.2160 | top1:  90.4512\n"
     ]
    },
    {
     "name": "stderr",
     "output_type": "stream",
     "text": [
      " 47%|█████████████████████████████████████▎                                         | 600/1272 [03:29<03:46,  2.97it/s]"
     ]
    },
    {
     "name": "stdout",
     "output_type": "stream",
     "text": [
      "(600/1272) Data: 0.015s | Batch: 0.349s | Total: 0:03:29 | ETA: 0:03:48 | Loss: 0.2161 | top1:  90.4460\n"
     ]
    },
    {
     "name": "stderr",
     "output_type": "stream",
     "text": [
      " 55%|███████████████████████████████████████████▍                                   | 700/1272 [04:03<03:12,  2.98it/s]"
     ]
    },
    {
     "name": "stdout",
     "output_type": "stream",
     "text": [
      "(700/1272) Data: 0.013s | Batch: 0.348s | Total: 0:04:03 | ETA: 0:03:13 | Loss: 0.2162 | top1:  90.4434\n"
     ]
    },
    {
     "name": "stderr",
     "output_type": "stream",
     "text": [
      " 63%|█████████████████████████████████████████████████▋                             | 800/1272 [04:36<02:39,  2.97it/s]"
     ]
    },
    {
     "name": "stdout",
     "output_type": "stream",
     "text": [
      "(800/1272) Data: 0.012s | Batch: 0.346s | Total: 0:04:36 | ETA: 0:02:39 | Loss: 0.2161 | top1:  90.4422\n"
     ]
    },
    {
     "name": "stderr",
     "output_type": "stream",
     "text": [
      " 71%|███████████████████████████████████████████████████████▉                       | 900/1272 [05:10<02:05,  2.97it/s]"
     ]
    },
    {
     "name": "stdout",
     "output_type": "stream",
     "text": [
      "(900/1272) Data: 0.010s | Batch: 0.345s | Total: 0:05:10 | ETA: 0:02:06 | Loss: 0.2161 | top1:  90.4378\n"
     ]
    },
    {
     "name": "stderr",
     "output_type": "stream",
     "text": [
      " 79%|█████████████████████████████████████████████████████████████▎                | 1000/1272 [05:44<01:31,  2.96it/s]"
     ]
    },
    {
     "name": "stdout",
     "output_type": "stream",
     "text": [
      "(1000/1272) Data: 0.009s | Batch: 0.344s | Total: 0:05:44 | ETA: 0:01:33 | Loss: 0.2162 | top1:  90.4309\n"
     ]
    },
    {
     "name": "stderr",
     "output_type": "stream",
     "text": [
      " 86%|███████████████████████████████████████████████████████████████████▍          | 1100/1272 [06:17<00:57,  2.98it/s]"
     ]
    },
    {
     "name": "stdout",
     "output_type": "stream",
     "text": [
      "(1100/1272) Data: 0.009s | Batch: 0.343s | Total: 0:06:17 | ETA: 0:00:59 | Loss: 0.2161 | top1:  90.4345\n"
     ]
    },
    {
     "name": "stderr",
     "output_type": "stream",
     "text": [
      " 94%|█████████████████████████████████████████████████████████████████████████▌    | 1200/1272 [06:51<00:24,  2.97it/s]"
     ]
    },
    {
     "name": "stdout",
     "output_type": "stream",
     "text": [
      "(1200/1272) Data: 0.008s | Batch: 0.343s | Total: 0:06:51 | ETA: 0:00:25 | Loss: 0.2161 | top1:  90.4363\n"
     ]
    },
    {
     "name": "stderr",
     "output_type": "stream",
     "text": [
      "100%|██████████████████████████████████████████████████████████████████████████████| 1272/1272 [07:16<00:00,  2.92it/s]\n",
      "100%|████████████████████████████████████████████████████████████████████████████████| 156/156 [00:24<00:00,  6.29it/s]\n"
     ]
    },
    {
     "name": "stdout",
     "output_type": "stream",
     "text": [
      "=> saving checkpoint 'checkpoints\\checkpoint.pth.tar'\n"
     ]
    },
    {
     "name": "stderr",
     "output_type": "stream",
     "text": [
      "  0%|                                                                                         | 0/1272 [00:00<?, ?it/s]"
     ]
    },
    {
     "name": "stdout",
     "output_type": "stream",
     "text": [
      "=> saving best model 'checkpoints\\model_best.pth.tar'\n",
      "\n",
      "Epoch: [10 | 60] LR: 0.100000\n"
     ]
    },
    {
     "name": "stderr",
     "output_type": "stream",
     "text": [
      "  8%|██████▏                                                                        | 100/1272 [00:41<06:35,  2.97it/s]"
     ]
    },
    {
     "name": "stdout",
     "output_type": "stream",
     "text": [
      "(100/1272) Data: 0.082s | Batch: 0.418s | Total: 0:00:41 | ETA: 0:06:36 | Loss: 0.2122 | top1:  90.5957\n"
     ]
    },
    {
     "name": "stderr",
     "output_type": "stream",
     "text": [
      " 16%|████████████▍                                                                  | 200/1272 [01:15<06:00,  2.97it/s]"
     ]
    },
    {
     "name": "stdout",
     "output_type": "stream",
     "text": [
      "(200/1272) Data: 0.042s | Batch: 0.378s | Total: 0:01:15 | ETA: 0:06:03 | Loss: 0.2130 | top1:  90.5736\n"
     ]
    },
    {
     "name": "stderr",
     "output_type": "stream",
     "text": [
      " 24%|██████████████████▋                                                            | 300/1272 [01:49<05:28,  2.96it/s]"
     ]
    },
    {
     "name": "stdout",
     "output_type": "stream",
     "text": [
      "(300/1272) Data: 0.028s | Batch: 0.364s | Total: 0:01:49 | ETA: 0:05:29 | Loss: 0.2131 | top1:  90.5521\n"
     ]
    },
    {
     "name": "stderr",
     "output_type": "stream",
     "text": [
      " 31%|████████████████████████▊                                                      | 400/1272 [02:23<04:55,  2.96it/s]"
     ]
    },
    {
     "name": "stdout",
     "output_type": "stream",
     "text": [
      "(400/1272) Data: 0.022s | Batch: 0.358s | Total: 0:02:23 | ETA: 0:04:55 | Loss: 0.2130 | top1:  90.5625\n"
     ]
    },
    {
     "name": "stderr",
     "output_type": "stream",
     "text": [
      " 39%|███████████████████████████████                                                | 500/1272 [02:56<04:20,  2.96it/s]"
     ]
    },
    {
     "name": "stdout",
     "output_type": "stream",
     "text": [
      "(500/1272) Data: 0.018s | Batch: 0.354s | Total: 0:02:56 | ETA: 0:04:21 | Loss: 0.2133 | top1:  90.5518\n"
     ]
    },
    {
     "name": "stderr",
     "output_type": "stream",
     "text": [
      " 47%|█████████████████████████████████████▎                                         | 600/1272 [03:30<03:47,  2.96it/s]"
     ]
    },
    {
     "name": "stdout",
     "output_type": "stream",
     "text": [
      "(600/1272) Data: 0.015s | Batch: 0.351s | Total: 0:03:30 | ETA: 0:03:48 | Loss: 0.2134 | top1:  90.5438\n"
     ]
    },
    {
     "name": "stderr",
     "output_type": "stream",
     "text": [
      " 55%|███████████████████████████████████████████▍                                   | 700/1272 [04:04<03:13,  2.96it/s]"
     ]
    },
    {
     "name": "stdout",
     "output_type": "stream",
     "text": [
      "(700/1272) Data: 0.013s | Batch: 0.349s | Total: 0:04:04 | ETA: 0:03:14 | Loss: 0.2133 | top1:  90.5488\n"
     ]
    },
    {
     "name": "stderr",
     "output_type": "stream",
     "text": [
      " 63%|█████████████████████████████████████████████████▋                             | 800/1272 [04:38<02:38,  2.97it/s]"
     ]
    },
    {
     "name": "stdout",
     "output_type": "stream",
     "text": [
      "(800/1272) Data: 0.011s | Batch: 0.348s | Total: 0:04:38 | ETA: 0:02:40 | Loss: 0.2132 | top1:  90.5601\n"
     ]
    },
    {
     "name": "stderr",
     "output_type": "stream",
     "text": [
      " 71%|███████████████████████████████████████████████████████▉                       | 900/1272 [05:11<02:05,  2.96it/s]"
     ]
    },
    {
     "name": "stdout",
     "output_type": "stream",
     "text": [
      "(900/1272) Data: 0.010s | Batch: 0.346s | Total: 0:05:11 | ETA: 0:02:07 | Loss: 0.2131 | top1:  90.5615\n"
     ]
    },
    {
     "name": "stderr",
     "output_type": "stream",
     "text": [
      " 79%|█████████████████████████████████████████████████████████████▎                | 1000/1272 [05:45<01:32,  2.96it/s]"
     ]
    },
    {
     "name": "stdout",
     "output_type": "stream",
     "text": [
      "(1000/1272) Data: 0.009s | Batch: 0.346s | Total: 0:05:45 | ETA: 0:01:33 | Loss: 0.2131 | top1:  90.5660\n"
     ]
    },
    {
     "name": "stderr",
     "output_type": "stream",
     "text": [
      " 86%|███████████████████████████████████████████████████████████████████▍          | 1100/1272 [06:19<00:58,  2.96it/s]"
     ]
    },
    {
     "name": "stdout",
     "output_type": "stream",
     "text": [
      "(1100/1272) Data: 0.009s | Batch: 0.345s | Total: 0:06:19 | ETA: 0:00:59 | Loss: 0.2131 | top1:  90.5738\n"
     ]
    },
    {
     "name": "stderr",
     "output_type": "stream",
     "text": [
      " 94%|█████████████████████████████████████████████████████████████████████████▌    | 1200/1272 [06:52<00:24,  2.96it/s]"
     ]
    },
    {
     "name": "stdout",
     "output_type": "stream",
     "text": [
      "(1200/1272) Data: 0.008s | Batch: 0.344s | Total: 0:06:52 | ETA: 0:00:25 | Loss: 0.2131 | top1:  90.5779\n"
     ]
    },
    {
     "name": "stderr",
     "output_type": "stream",
     "text": [
      "100%|██████████████████████████████████████████████████████████████████████████████| 1272/1272 [07:17<00:00,  2.90it/s]\n",
      "100%|████████████████████████████████████████████████████████████████████████████████| 156/156 [00:24<00:00,  6.29it/s]\n"
     ]
    },
    {
     "name": "stdout",
     "output_type": "stream",
     "text": [
      "=> saving checkpoint 'checkpoints\\checkpoint.pth.tar'\n"
     ]
    },
    {
     "name": "stderr",
     "output_type": "stream",
     "text": [
      "  0%|                                                                                         | 0/1272 [00:00<?, ?it/s]"
     ]
    },
    {
     "name": "stdout",
     "output_type": "stream",
     "text": [
      "=> saving best model 'checkpoints\\model_best.pth.tar'\n",
      "\n",
      "Epoch: [11 | 60] LR: 0.100000\n"
     ]
    },
    {
     "name": "stderr",
     "output_type": "stream",
     "text": [
      "  8%|██████▏                                                                        | 100/1272 [00:41<06:33,  2.98it/s]"
     ]
    },
    {
     "name": "stdout",
     "output_type": "stream",
     "text": [
      "(100/1272) Data: 0.083s | Batch: 0.417s | Total: 0:00:41 | ETA: 0:06:32 | Loss: 0.2100 | top1:  90.6980\n"
     ]
    },
    {
     "name": "stderr",
     "output_type": "stream",
     "text": [
      " 16%|████████████▍                                                                  | 200/1272 [01:15<05:59,  2.98it/s]"
     ]
    },
    {
     "name": "stdout",
     "output_type": "stream",
     "text": [
      "(200/1272) Data: 0.042s | Batch: 0.376s | Total: 0:01:15 | ETA: 0:06:00 | Loss: 0.2104 | top1:  90.6801\n"
     ]
    },
    {
     "name": "stderr",
     "output_type": "stream",
     "text": [
      " 24%|██████████████████▋                                                            | 300/1272 [01:48<05:26,  2.98it/s]"
     ]
    },
    {
     "name": "stdout",
     "output_type": "stream",
     "text": [
      "(300/1272) Data: 0.029s | Batch: 0.363s | Total: 0:01:48 | ETA: 0:05:27 | Loss: 0.2105 | top1:  90.6747\n"
     ]
    },
    {
     "name": "stderr",
     "output_type": "stream",
     "text": [
      " 31%|████████████████████████▊                                                      | 400/1272 [02:22<04:53,  2.97it/s]"
     ]
    },
    {
     "name": "stdout",
     "output_type": "stream",
     "text": [
      "(400/1272) Data: 0.022s | Batch: 0.356s | Total: 0:02:22 | ETA: 0:04:53 | Loss: 0.2100 | top1:  90.7093\n"
     ]
    },
    {
     "name": "stderr",
     "output_type": "stream",
     "text": [
      " 39%|███████████████████████████████                                                | 500/1272 [02:56<04:22,  2.94it/s]"
     ]
    },
    {
     "name": "stdout",
     "output_type": "stream",
     "text": [
      "(500/1272) Data: 0.018s | Batch: 0.352s | Total: 0:02:56 | ETA: 0:04:21 | Loss: 0.2100 | top1:  90.7185\n"
     ]
    },
    {
     "name": "stderr",
     "output_type": "stream",
     "text": [
      " 47%|█████████████████████████████████████▎                                         | 600/1272 [03:29<03:45,  2.98it/s]"
     ]
    },
    {
     "name": "stdout",
     "output_type": "stream",
     "text": [
      "(600/1272) Data: 0.015s | Batch: 0.349s | Total: 0:03:29 | ETA: 0:03:46 | Loss: 0.2104 | top1:  90.7007\n"
     ]
    },
    {
     "name": "stderr",
     "output_type": "stream",
     "text": [
      " 55%|███████████████████████████████████████████▍                                   | 700/1272 [04:03<03:12,  2.96it/s]"
     ]
    },
    {
     "name": "stdout",
     "output_type": "stream",
     "text": [
      "(700/1272) Data: 0.013s | Batch: 0.348s | Total: 0:04:03 | ETA: 0:03:14 | Loss: 0.2105 | top1:  90.6905\n"
     ]
    },
    {
     "name": "stderr",
     "output_type": "stream",
     "text": [
      " 63%|█████████████████████████████████████████████████▋                             | 800/1272 [04:36<02:38,  2.98it/s]"
     ]
    },
    {
     "name": "stdout",
     "output_type": "stream",
     "text": [
      "(800/1272) Data: 0.012s | Batch: 0.346s | Total: 0:04:36 | ETA: 0:02:40 | Loss: 0.2104 | top1:  90.6959\n"
     ]
    },
    {
     "name": "stderr",
     "output_type": "stream",
     "text": [
      " 71%|███████████████████████████████████████████████████████▉                       | 900/1272 [05:10<02:04,  2.98it/s]"
     ]
    },
    {
     "name": "stdout",
     "output_type": "stream",
     "text": [
      "(900/1272) Data: 0.010s | Batch: 0.345s | Total: 0:05:10 | ETA: 0:02:06 | Loss: 0.2105 | top1:  90.6871\n"
     ]
    },
    {
     "name": "stderr",
     "output_type": "stream",
     "text": [
      " 79%|█████████████████████████████████████████████████████████████▎                | 1000/1272 [05:44<01:32,  2.95it/s]"
     ]
    },
    {
     "name": "stdout",
     "output_type": "stream",
     "text": [
      "(1000/1272) Data: 0.010s | Batch: 0.344s | Total: 0:05:44 | ETA: 0:01:33 | Loss: 0.2106 | top1:  90.6861\n"
     ]
    },
    {
     "name": "stderr",
     "output_type": "stream",
     "text": [
      " 86%|███████████████████████████████████████████████████████████████████▍          | 1100/1272 [06:17<00:58,  2.95it/s]"
     ]
    },
    {
     "name": "stdout",
     "output_type": "stream",
     "text": [
      "(1100/1272) Data: 0.009s | Batch: 0.343s | Total: 0:06:17 | ETA: 0:00:59 | Loss: 0.2106 | top1:  90.6818\n"
     ]
    },
    {
     "name": "stderr",
     "output_type": "stream",
     "text": [
      " 94%|█████████████████████████████████████████████████████████████████████████▌    | 1200/1272 [06:51<00:24,  2.98it/s]"
     ]
    },
    {
     "name": "stdout",
     "output_type": "stream",
     "text": [
      "(1200/1272) Data: 0.008s | Batch: 0.343s | Total: 0:06:51 | ETA: 0:00:25 | Loss: 0.2108 | top1:  90.6771\n"
     ]
    },
    {
     "name": "stderr",
     "output_type": "stream",
     "text": [
      "100%|██████████████████████████████████████████████████████████████████████████████| 1272/1272 [07:16<00:00,  2.92it/s]\n",
      "100%|████████████████████████████████████████████████████████████████████████████████| 156/156 [00:24<00:00,  6.27it/s]\n"
     ]
    },
    {
     "name": "stdout",
     "output_type": "stream",
     "text": [
      "=> saving checkpoint 'checkpoints\\checkpoint.pth.tar'\n"
     ]
    },
    {
     "name": "stderr",
     "output_type": "stream",
     "text": [
      "  0%|                                                                                         | 0/1272 [00:00<?, ?it/s]"
     ]
    },
    {
     "name": "stdout",
     "output_type": "stream",
     "text": [
      "\n",
      "Epoch: [12 | 60] LR: 0.100000\n"
     ]
    },
    {
     "name": "stderr",
     "output_type": "stream",
     "text": [
      "  8%|██████▏                                                                        | 100/1272 [00:41<06:36,  2.96it/s]"
     ]
    },
    {
     "name": "stdout",
     "output_type": "stream",
     "text": [
      "(100/1272) Data: 0.082s | Batch: 0.417s | Total: 0:00:41 | ETA: 0:06:36 | Loss: 0.2079 | top1:  90.8068\n"
     ]
    },
    {
     "name": "stderr",
     "output_type": "stream",
     "text": [
      " 16%|████████████▍                                                                  | 200/1272 [01:15<06:01,  2.97it/s]"
     ]
    },
    {
     "name": "stdout",
     "output_type": "stream",
     "text": [
      "(200/1272) Data: 0.041s | Batch: 0.377s | Total: 0:01:15 | ETA: 0:06:03 | Loss: 0.2075 | top1:  90.8311\n"
     ]
    },
    {
     "name": "stderr",
     "output_type": "stream",
     "text": [
      " 24%|██████████████████▋                                                            | 300/1272 [01:49<05:29,  2.95it/s]"
     ]
    },
    {
     "name": "stdout",
     "output_type": "stream",
     "text": [
      "(300/1272) Data: 0.028s | Batch: 0.364s | Total: 0:01:49 | ETA: 0:05:29 | Loss: 0.2075 | top1:  90.8139\n"
     ]
    },
    {
     "name": "stderr",
     "output_type": "stream",
     "text": [
      " 31%|████████████████████████▊                                                      | 400/1272 [02:22<04:53,  2.97it/s]"
     ]
    },
    {
     "name": "stdout",
     "output_type": "stream",
     "text": [
      "(400/1272) Data: 0.021s | Batch: 0.357s | Total: 0:02:22 | ETA: 0:04:54 | Loss: 0.2076 | top1:  90.8132\n"
     ]
    },
    {
     "name": "stderr",
     "output_type": "stream",
     "text": [
      " 39%|███████████████████████████████                                                | 500/1272 [02:56<04:20,  2.96it/s]"
     ]
    },
    {
     "name": "stdout",
     "output_type": "stream",
     "text": [
      "(500/1272) Data: 0.017s | Batch: 0.353s | Total: 0:02:56 | ETA: 0:04:22 | Loss: 0.2077 | top1:  90.8136\n"
     ]
    },
    {
     "name": "stderr",
     "output_type": "stream",
     "text": [
      " 47%|█████████████████████████████████████▎                                         | 600/1272 [03:30<03:46,  2.96it/s]"
     ]
    },
    {
     "name": "stdout",
     "output_type": "stream",
     "text": [
      "(600/1272) Data: 0.015s | Batch: 0.351s | Total: 0:03:30 | ETA: 0:03:47 | Loss: 0.2079 | top1:  90.8086\n"
     ]
    },
    {
     "name": "stderr",
     "output_type": "stream",
     "text": [
      " 55%|███████████████████████████████████████████▍                                   | 700/1272 [04:04<03:13,  2.96it/s]"
     ]
    },
    {
     "name": "stdout",
     "output_type": "stream",
     "text": [
      "(700/1272) Data: 0.013s | Batch: 0.349s | Total: 0:04:04 | ETA: 0:03:15 | Loss: 0.2079 | top1:  90.8071\n"
     ]
    },
    {
     "name": "stderr",
     "output_type": "stream",
     "text": [
      " 63%|█████████████████████████████████████████████████▋                             | 800/1272 [04:38<02:38,  2.97it/s]"
     ]
    },
    {
     "name": "stdout",
     "output_type": "stream",
     "text": [
      "(800/1272) Data: 0.011s | Batch: 0.348s | Total: 0:04:38 | ETA: 0:02:40 | Loss: 0.2081 | top1:  90.7976\n"
     ]
    },
    {
     "name": "stderr",
     "output_type": "stream",
     "text": [
      " 71%|███████████████████████████████████████████████████████▉                       | 900/1272 [05:11<02:06,  2.95it/s]"
     ]
    },
    {
     "name": "stdout",
     "output_type": "stream",
     "text": [
      "(900/1272) Data: 0.010s | Batch: 0.346s | Total: 0:05:11 | ETA: 0:02:07 | Loss: 0.2081 | top1:  90.7969\n"
     ]
    },
    {
     "name": "stderr",
     "output_type": "stream",
     "text": [
      " 79%|█████████████████████████████████████████████████████████████▎                | 1000/1272 [05:45<01:31,  2.96it/s]"
     ]
    },
    {
     "name": "stdout",
     "output_type": "stream",
     "text": [
      "(1000/1272) Data: 0.009s | Batch: 0.346s | Total: 0:05:45 | ETA: 0:01:33 | Loss: 0.2083 | top1:  90.7903\n"
     ]
    },
    {
     "name": "stderr",
     "output_type": "stream",
     "text": [
      " 86%|███████████████████████████████████████████████████████████████████▍          | 1100/1272 [06:19<00:57,  2.97it/s]"
     ]
    },
    {
     "name": "stdout",
     "output_type": "stream",
     "text": [
      "(1100/1272) Data: 0.009s | Batch: 0.345s | Total: 0:06:19 | ETA: 0:00:59 | Loss: 0.2084 | top1:  90.7887\n"
     ]
    },
    {
     "name": "stderr",
     "output_type": "stream",
     "text": [
      " 94%|█████████████████████████████████████████████████████████████████████████▌    | 1200/1272 [06:53<00:24,  2.96it/s]"
     ]
    },
    {
     "name": "stdout",
     "output_type": "stream",
     "text": [
      "(1200/1272) Data: 0.008s | Batch: 0.344s | Total: 0:06:53 | ETA: 0:00:25 | Loss: 0.2084 | top1:  90.7860\n"
     ]
    },
    {
     "name": "stderr",
     "output_type": "stream",
     "text": [
      "100%|██████████████████████████████████████████████████████████████████████████████| 1272/1272 [07:18<00:00,  2.90it/s]\n",
      "100%|████████████████████████████████████████████████████████████████████████████████| 156/156 [00:24<00:00,  6.25it/s]\n"
     ]
    },
    {
     "name": "stdout",
     "output_type": "stream",
     "text": [
      "=> saving checkpoint 'checkpoints\\checkpoint.pth.tar'\n"
     ]
    },
    {
     "name": "stderr",
     "output_type": "stream",
     "text": [
      "  0%|                                                                                         | 0/1272 [00:00<?, ?it/s]"
     ]
    },
    {
     "name": "stdout",
     "output_type": "stream",
     "text": [
      "\n",
      "Epoch: [13 | 60] LR: 0.100000\n"
     ]
    },
    {
     "name": "stderr",
     "output_type": "stream",
     "text": [
      "  8%|██████▏                                                                        | 100/1272 [00:41<06:36,  2.96it/s]"
     ]
    },
    {
     "name": "stdout",
     "output_type": "stream",
     "text": [
      "(100/1272) Data: 0.082s | Batch: 0.416s | Total: 0:00:41 | ETA: 0:06:35 | Loss: 0.2048 | top1:  90.9908\n"
     ]
    },
    {
     "name": "stderr",
     "output_type": "stream",
     "text": [
      " 16%|████████████▍                                                                  | 200/1272 [01:15<05:59,  2.98it/s]"
     ]
    },
    {
     "name": "stdout",
     "output_type": "stream",
     "text": [
      "(200/1272) Data: 0.042s | Batch: 0.376s | Total: 0:01:15 | ETA: 0:06:01 | Loss: 0.2058 | top1:  90.9071\n"
     ]
    },
    {
     "name": "stderr",
     "output_type": "stream",
     "text": [
      " 24%|██████████████████▋                                                            | 300/1272 [01:48<05:26,  2.98it/s]"
     ]
    },
    {
     "name": "stdout",
     "output_type": "stream",
     "text": [
      "(300/1272) Data: 0.028s | Batch: 0.363s | Total: 0:01:48 | ETA: 0:05:28 | Loss: 0.2063 | top1:  90.8779\n"
     ]
    },
    {
     "name": "stderr",
     "output_type": "stream",
     "text": [
      " 31%|████████████████████████▊                                                      | 400/1272 [02:22<04:53,  2.97it/s]"
     ]
    },
    {
     "name": "stdout",
     "output_type": "stream",
     "text": [
      "(400/1272) Data: 0.022s | Batch: 0.356s | Total: 0:02:22 | ETA: 0:04:55 | Loss: 0.2062 | top1:  90.8876\n"
     ]
    },
    {
     "name": "stderr",
     "output_type": "stream",
     "text": [
      " 39%|███████████████████████████████                                                | 500/1272 [02:56<04:19,  2.98it/s]"
     ]
    },
    {
     "name": "stdout",
     "output_type": "stream",
     "text": [
      "(500/1272) Data: 0.018s | Batch: 0.352s | Total: 0:02:56 | ETA: 0:04:21 | Loss: 0.2067 | top1:  90.8608\n"
     ]
    },
    {
     "name": "stderr",
     "output_type": "stream",
     "text": [
      " 47%|█████████████████████████████████████▎                                         | 600/1272 [03:29<03:45,  2.98it/s]"
     ]
    },
    {
     "name": "stdout",
     "output_type": "stream",
     "text": [
      "(600/1272) Data: 0.015s | Batch: 0.350s | Total: 0:03:29 | ETA: 0:03:47 | Loss: 0.2070 | top1:  90.8427\n"
     ]
    },
    {
     "name": "stderr",
     "output_type": "stream",
     "text": [
      " 55%|███████████████████████████████████████████▍                                   | 700/1272 [04:03<03:11,  2.98it/s]"
     ]
    },
    {
     "name": "stdout",
     "output_type": "stream",
     "text": [
      "(700/1272) Data: 0.013s | Batch: 0.348s | Total: 0:04:03 | ETA: 0:03:13 | Loss: 0.2070 | top1:  90.8468\n"
     ]
    },
    {
     "name": "stderr",
     "output_type": "stream",
     "text": [
      " 63%|█████████████████████████████████████████████████▋                             | 800/1272 [04:36<02:38,  2.97it/s]"
     ]
    },
    {
     "name": "stdout",
     "output_type": "stream",
     "text": [
      "(800/1272) Data: 0.011s | Batch: 0.346s | Total: 0:04:36 | ETA: 0:02:39 | Loss: 0.2071 | top1:  90.8437\n"
     ]
    },
    {
     "name": "stderr",
     "output_type": "stream",
     "text": [
      " 71%|███████████████████████████████████████████████████████▉                       | 900/1272 [05:10<02:04,  2.98it/s]"
     ]
    },
    {
     "name": "stdout",
     "output_type": "stream",
     "text": [
      "(900/1272) Data: 0.010s | Batch: 0.345s | Total: 0:05:10 | ETA: 0:02:06 | Loss: 0.2070 | top1:  90.8424\n"
     ]
    },
    {
     "name": "stderr",
     "output_type": "stream",
     "text": [
      " 79%|█████████████████████████████████████████████████████████████▎                | 1000/1272 [05:44<01:31,  2.99it/s]"
     ]
    },
    {
     "name": "stdout",
     "output_type": "stream",
     "text": [
      "(1000/1272) Data: 0.009s | Batch: 0.344s | Total: 0:05:44 | ETA: 0:01:32 | Loss: 0.2071 | top1:  90.8382\n"
     ]
    },
    {
     "name": "stderr",
     "output_type": "stream",
     "text": [
      " 86%|███████████████████████████████████████████████████████████████████▍          | 1100/1272 [06:17<00:57,  3.00it/s]"
     ]
    },
    {
     "name": "stdout",
     "output_type": "stream",
     "text": [
      "(1100/1272) Data: 0.009s | Batch: 0.343s | Total: 0:06:17 | ETA: 0:00:58 | Loss: 0.2072 | top1:  90.8300\n"
     ]
    },
    {
     "name": "stderr",
     "output_type": "stream",
     "text": [
      " 94%|█████████████████████████████████████████████████████████████████████████▌    | 1200/1272 [06:51<00:24,  2.98it/s]"
     ]
    },
    {
     "name": "stdout",
     "output_type": "stream",
     "text": [
      "(1200/1272) Data: 0.008s | Batch: 0.343s | Total: 0:06:51 | ETA: 0:00:25 | Loss: 0.2072 | top1:  90.8319\n"
     ]
    },
    {
     "name": "stderr",
     "output_type": "stream",
     "text": [
      "100%|██████████████████████████████████████████████████████████████████████████████| 1272/1272 [07:16<00:00,  2.92it/s]\n",
      "100%|████████████████████████████████████████████████████████████████████████████████| 156/156 [00:24<00:00,  6.27it/s]\n"
     ]
    },
    {
     "name": "stdout",
     "output_type": "stream",
     "text": [
      "=> saving checkpoint 'checkpoints\\checkpoint.pth.tar'\n"
     ]
    },
    {
     "name": "stderr",
     "output_type": "stream",
     "text": [
      "  0%|                                                                                         | 0/1272 [00:00<?, ?it/s]"
     ]
    },
    {
     "name": "stdout",
     "output_type": "stream",
     "text": [
      "\n",
      "Epoch: [14 | 60] LR: 0.100000\n"
     ]
    },
    {
     "name": "stderr",
     "output_type": "stream",
     "text": [
      "  8%|██████▏                                                                        | 100/1272 [00:41<06:36,  2.95it/s]"
     ]
    },
    {
     "name": "stdout",
     "output_type": "stream",
     "text": [
      "(100/1272) Data: 0.083s | Batch: 0.418s | Total: 0:00:41 | ETA: 0:06:37 | Loss: 0.2044 | top1:  90.9582\n"
     ]
    },
    {
     "name": "stderr",
     "output_type": "stream",
     "text": [
      " 16%|████████████▍                                                                  | 200/1272 [01:15<06:00,  2.97it/s]"
     ]
    },
    {
     "name": "stdout",
     "output_type": "stream",
     "text": [
      "(200/1272) Data: 0.042s | Batch: 0.378s | Total: 0:01:15 | ETA: 0:06:02 | Loss: 0.2047 | top1:  90.9463\n"
     ]
    },
    {
     "name": "stderr",
     "output_type": "stream",
     "text": [
      " 24%|██████████████████▋                                                            | 300/1272 [01:49<05:27,  2.97it/s]"
     ]
    },
    {
     "name": "stdout",
     "output_type": "stream",
     "text": [
      "(300/1272) Data: 0.029s | Batch: 0.364s | Total: 0:01:49 | ETA: 0:05:28 | Loss: 0.2046 | top1:  90.9514\n"
     ]
    },
    {
     "name": "stderr",
     "output_type": "stream",
     "text": [
      " 31%|████████████████████████▊                                                      | 400/1272 [02:22<04:54,  2.96it/s]"
     ]
    },
    {
     "name": "stdout",
     "output_type": "stream",
     "text": [
      "(400/1272) Data: 0.022s | Batch: 0.357s | Total: 0:02:22 | ETA: 0:04:55 | Loss: 0.2047 | top1:  90.9419\n"
     ]
    },
    {
     "name": "stderr",
     "output_type": "stream",
     "text": [
      " 39%|███████████████████████████████                                                | 500/1272 [02:56<04:18,  2.99it/s]"
     ]
    },
    {
     "name": "stdout",
     "output_type": "stream",
     "text": [
      "(500/1272) Data: 0.018s | Batch: 0.353s | Total: 0:02:56 | ETA: 0:04:22 | Loss: 0.2049 | top1:  90.9305\n"
     ]
    },
    {
     "name": "stderr",
     "output_type": "stream",
     "text": [
      " 47%|█████████████████████████████████████▎                                         | 600/1272 [03:30<03:47,  2.96it/s]"
     ]
    },
    {
     "name": "stdout",
     "output_type": "stream",
     "text": [
      "(600/1272) Data: 0.015s | Batch: 0.351s | Total: 0:03:30 | ETA: 0:03:47 | Loss: 0.2050 | top1:  90.9291\n"
     ]
    },
    {
     "name": "stderr",
     "output_type": "stream",
     "text": [
      " 55%|███████████████████████████████████████████▍                                   | 700/1272 [04:04<03:13,  2.95it/s]"
     ]
    },
    {
     "name": "stdout",
     "output_type": "stream",
     "text": [
      "(700/1272) Data: 0.013s | Batch: 0.349s | Total: 0:04:04 | ETA: 0:03:14 | Loss: 0.2051 | top1:  90.9245\n"
     ]
    },
    {
     "name": "stderr",
     "output_type": "stream",
     "text": [
      " 63%|█████████████████████████████████████████████████▋                             | 800/1272 [04:37<02:39,  2.96it/s]"
     ]
    },
    {
     "name": "stdout",
     "output_type": "stream",
     "text": [
      "(800/1272) Data: 0.012s | Batch: 0.347s | Total: 0:04:37 | ETA: 0:02:40 | Loss: 0.2051 | top1:  90.9196\n"
     ]
    },
    {
     "name": "stderr",
     "output_type": "stream",
     "text": [
      " 71%|███████████████████████████████████████████████████████▉                       | 900/1272 [05:11<02:05,  2.96it/s]"
     ]
    },
    {
     "name": "stdout",
     "output_type": "stream",
     "text": [
      "(900/1272) Data: 0.010s | Batch: 0.346s | Total: 0:05:11 | ETA: 0:02:07 | Loss: 0.2052 | top1:  90.9145\n"
     ]
    },
    {
     "name": "stderr",
     "output_type": "stream",
     "text": [
      " 79%|█████████████████████████████████████████████████████████████▎                | 1000/1272 [05:45<01:32,  2.96it/s]"
     ]
    },
    {
     "name": "stdout",
     "output_type": "stream",
     "text": [
      "(1000/1272) Data: 0.010s | Batch: 0.345s | Total: 0:05:45 | ETA: 0:01:33 | Loss: 0.2053 | top1:  90.9115\n"
     ]
    },
    {
     "name": "stderr",
     "output_type": "stream",
     "text": [
      " 86%|███████████████████████████████████████████████████████████████████▍          | 1100/1272 [06:19<00:58,  2.96it/s]"
     ]
    },
    {
     "name": "stdout",
     "output_type": "stream",
     "text": [
      "(1100/1272) Data: 0.009s | Batch: 0.345s | Total: 0:06:19 | ETA: 0:00:59 | Loss: 0.2052 | top1:  90.9129\n"
     ]
    },
    {
     "name": "stderr",
     "output_type": "stream",
     "text": [
      " 94%|█████████████████████████████████████████████████████████████████████████▌    | 1200/1272 [06:53<00:24,  2.96it/s]"
     ]
    },
    {
     "name": "stdout",
     "output_type": "stream",
     "text": [
      "(1200/1272) Data: 0.008s | Batch: 0.344s | Total: 0:06:53 | ETA: 0:00:25 | Loss: 0.2053 | top1:  90.9102\n"
     ]
    },
    {
     "name": "stderr",
     "output_type": "stream",
     "text": [
      "100%|██████████████████████████████████████████████████████████████████████████████| 1272/1272 [07:18<00:00,  2.90it/s]\n",
      "100%|████████████████████████████████████████████████████████████████████████████████| 156/156 [00:24<00:00,  6.30it/s]\n"
     ]
    },
    {
     "name": "stdout",
     "output_type": "stream",
     "text": [
      "=> saving checkpoint 'checkpoints\\checkpoint.pth.tar'\n"
     ]
    },
    {
     "name": "stderr",
     "output_type": "stream",
     "text": [
      "  0%|                                                                                         | 0/1272 [00:00<?, ?it/s]"
     ]
    },
    {
     "name": "stdout",
     "output_type": "stream",
     "text": [
      "\n",
      "Epoch: [15 | 60] LR: 0.100000\n"
     ]
    },
    {
     "name": "stderr",
     "output_type": "stream",
     "text": [
      "  8%|██████▏                                                                        | 100/1272 [00:41<06:39,  2.93it/s]"
     ]
    },
    {
     "name": "stdout",
     "output_type": "stream",
     "text": [
      "(100/1272) Data: 0.082s | Batch: 0.415s | Total: 0:00:41 | ETA: 0:06:40 | Loss: 0.2039 | top1:  90.9771\n"
     ]
    },
    {
     "name": "stderr",
     "output_type": "stream",
     "text": [
      " 16%|████████████▍                                                                  | 200/1272 [01:15<05:59,  2.98it/s]"
     ]
    },
    {
     "name": "stdout",
     "output_type": "stream",
     "text": [
      "(200/1272) Data: 0.042s | Batch: 0.375s | Total: 0:01:15 | ETA: 0:06:01 | Loss: 0.2035 | top1:  91.0073\n"
     ]
    },
    {
     "name": "stderr",
     "output_type": "stream",
     "text": [
      " 24%|██████████████████▋                                                            | 300/1272 [01:48<05:25,  2.99it/s]"
     ]
    },
    {
     "name": "stdout",
     "output_type": "stream",
     "text": [
      "(300/1272) Data: 0.028s | Batch: 0.362s | Total: 0:01:48 | ETA: 0:05:27 | Loss: 0.2037 | top1:  90.9979\n"
     ]
    },
    {
     "name": "stderr",
     "output_type": "stream",
     "text": [
      " 31%|████████████████████████▊                                                      | 400/1272 [02:22<04:54,  2.96it/s]"
     ]
    },
    {
     "name": "stdout",
     "output_type": "stream",
     "text": [
      "(400/1272) Data: 0.022s | Batch: 0.356s | Total: 0:02:22 | ETA: 0:04:55 | Loss: 0.2038 | top1:  90.9854\n"
     ]
    },
    {
     "name": "stderr",
     "output_type": "stream",
     "text": [
      " 39%|███████████████████████████████                                                | 500/1272 [02:55<04:19,  2.97it/s]"
     ]
    },
    {
     "name": "stdout",
     "output_type": "stream",
     "text": [
      "(500/1272) Data: 0.018s | Batch: 0.352s | Total: 0:02:55 | ETA: 0:04:20 | Loss: 0.2036 | top1:  90.9969\n"
     ]
    },
    {
     "name": "stderr",
     "output_type": "stream",
     "text": [
      " 47%|█████████████████████████████████████▎                                         | 600/1272 [03:29<03:47,  2.96it/s]"
     ]
    },
    {
     "name": "stdout",
     "output_type": "stream",
     "text": [
      "(600/1272) Data: 0.015s | Batch: 0.349s | Total: 0:03:29 | ETA: 0:03:47 | Loss: 0.2037 | top1:  90.9952\n"
     ]
    },
    {
     "name": "stderr",
     "output_type": "stream",
     "text": [
      " 55%|███████████████████████████████████████████▍                                   | 700/1272 [04:03<03:11,  2.99it/s]"
     ]
    },
    {
     "name": "stdout",
     "output_type": "stream",
     "text": [
      "(700/1272) Data: 0.013s | Batch: 0.347s | Total: 0:04:03 | ETA: 0:03:13 | Loss: 0.2039 | top1:  90.9852\n"
     ]
    },
    {
     "name": "stderr",
     "output_type": "stream",
     "text": [
      " 63%|█████████████████████████████████████████████████▋                             | 800/1272 [04:36<02:38,  2.98it/s]"
     ]
    },
    {
     "name": "stdout",
     "output_type": "stream",
     "text": [
      "(800/1272) Data: 0.011s | Batch: 0.346s | Total: 0:04:36 | ETA: 0:02:39 | Loss: 0.2042 | top1:  90.9711\n"
     ]
    },
    {
     "name": "stderr",
     "output_type": "stream",
     "text": [
      " 71%|███████████████████████████████████████████████████████▉                       | 900/1272 [05:10<02:05,  2.96it/s]"
     ]
    },
    {
     "name": "stdout",
     "output_type": "stream",
     "text": [
      "(900/1272) Data: 0.010s | Batch: 0.345s | Total: 0:05:10 | ETA: 0:02:06 | Loss: 0.2041 | top1:  90.9732\n"
     ]
    },
    {
     "name": "stderr",
     "output_type": "stream",
     "text": [
      " 79%|█████████████████████████████████████████████████████████████▎                | 1000/1272 [05:43<01:31,  2.98it/s]"
     ]
    },
    {
     "name": "stdout",
     "output_type": "stream",
     "text": [
      "(1000/1272) Data: 0.009s | Batch: 0.344s | Total: 0:05:43 | ETA: 0:01:32 | Loss: 0.2042 | top1:  90.9703\n"
     ]
    },
    {
     "name": "stderr",
     "output_type": "stream",
     "text": [
      " 86%|███████████████████████████████████████████████████████████████████▍          | 1100/1272 [06:17<00:58,  2.95it/s]"
     ]
    },
    {
     "name": "stdout",
     "output_type": "stream",
     "text": [
      "(1100/1272) Data: 0.009s | Batch: 0.343s | Total: 0:06:17 | ETA: 0:00:59 | Loss: 0.2042 | top1:  90.9702\n"
     ]
    },
    {
     "name": "stderr",
     "output_type": "stream",
     "text": [
      " 94%|█████████████████████████████████████████████████████████████████████████▌    | 1200/1272 [06:51<00:24,  2.99it/s]"
     ]
    },
    {
     "name": "stdout",
     "output_type": "stream",
     "text": [
      "(1200/1272) Data: 0.008s | Batch: 0.343s | Total: 0:06:51 | ETA: 0:00:25 | Loss: 0.2043 | top1:  90.9642\n"
     ]
    },
    {
     "name": "stderr",
     "output_type": "stream",
     "text": [
      "100%|██████████████████████████████████████████████████████████████████████████████| 1272/1272 [07:16<00:00,  2.91it/s]\n",
      "100%|████████████████████████████████████████████████████████████████████████████████| 156/156 [00:27<00:00,  5.69it/s]\n"
     ]
    },
    {
     "name": "stdout",
     "output_type": "stream",
     "text": [
      "=> saving checkpoint 'checkpoints\\checkpoint.pth.tar'\n"
     ]
    },
    {
     "name": "stderr",
     "output_type": "stream",
     "text": [
      "  0%|                                                                                         | 0/1272 [00:00<?, ?it/s]"
     ]
    },
    {
     "name": "stdout",
     "output_type": "stream",
     "text": [
      "\n",
      "Epoch: [16 | 60] LR: 0.100000\n"
     ]
    },
    {
     "name": "stderr",
     "output_type": "stream",
     "text": [
      "  8%|██████▏                                                                        | 100/1272 [00:42<06:36,  2.96it/s]"
     ]
    },
    {
     "name": "stdout",
     "output_type": "stream",
     "text": [
      "(100/1272) Data: 0.084s | Batch: 0.421s | Total: 0:00:42 | ETA: 0:06:37 | Loss: 0.2011 | top1:  91.1303\n"
     ]
    },
    {
     "name": "stderr",
     "output_type": "stream",
     "text": [
      " 16%|████████████▍                                                                  | 200/1272 [01:15<06:00,  2.98it/s]"
     ]
    },
    {
     "name": "stdout",
     "output_type": "stream",
     "text": [
      "(200/1272) Data: 0.043s | Batch: 0.380s | Total: 0:01:15 | ETA: 0:06:03 | Loss: 0.2016 | top1:  91.0827\n"
     ]
    },
    {
     "name": "stderr",
     "output_type": "stream",
     "text": [
      " 24%|██████████████████▋                                                            | 300/1272 [01:49<05:27,  2.97it/s]"
     ]
    },
    {
     "name": "stdout",
     "output_type": "stream",
     "text": [
      "(300/1272) Data: 0.029s | Batch: 0.366s | Total: 0:01:49 | ETA: 0:05:28 | Loss: 0.2018 | top1:  91.0770\n"
     ]
    },
    {
     "name": "stderr",
     "output_type": "stream",
     "text": [
      " 31%|████████████████████████▊                                                      | 400/1272 [02:23<04:53,  2.97it/s]"
     ]
    },
    {
     "name": "stdout",
     "output_type": "stream",
     "text": [
      "(400/1272) Data: 0.022s | Batch: 0.359s | Total: 0:02:23 | ETA: 0:04:54 | Loss: 0.2018 | top1:  91.0839\n"
     ]
    },
    {
     "name": "stderr",
     "output_type": "stream",
     "text": [
      " 39%|███████████████████████████████                                                | 500/1272 [02:57<04:22,  2.94it/s]"
     ]
    },
    {
     "name": "stdout",
     "output_type": "stream",
     "text": [
      "(500/1272) Data: 0.018s | Batch: 0.355s | Total: 0:02:57 | ETA: 0:04:22 | Loss: 0.2023 | top1:  91.0588\n"
     ]
    },
    {
     "name": "stderr",
     "output_type": "stream",
     "text": [
      " 47%|█████████████████████████████████████▎                                         | 600/1272 [03:31<03:45,  2.98it/s]"
     ]
    },
    {
     "name": "stdout",
     "output_type": "stream",
     "text": [
      "(600/1272) Data: 0.015s | Batch: 0.352s | Total: 0:03:31 | ETA: 0:03:48 | Loss: 0.2025 | top1:  91.0466\n"
     ]
    },
    {
     "name": "stderr",
     "output_type": "stream",
     "text": [
      " 55%|███████████████████████████████████████████▍                                   | 700/1272 [04:04<03:12,  2.97it/s]"
     ]
    },
    {
     "name": "stdout",
     "output_type": "stream",
     "text": [
      "(700/1272) Data: 0.013s | Batch: 0.350s | Total: 0:04:04 | ETA: 0:03:14 | Loss: 0.2026 | top1:  91.0409\n"
     ]
    },
    {
     "name": "stderr",
     "output_type": "stream",
     "text": [
      " 63%|█████████████████████████████████████████████████▋                             | 800/1272 [04:38<02:39,  2.95it/s]"
     ]
    },
    {
     "name": "stdout",
     "output_type": "stream",
     "text": [
      "(800/1272) Data: 0.012s | Batch: 0.348s | Total: 0:04:38 | ETA: 0:02:40 | Loss: 0.2027 | top1:  91.0339\n"
     ]
    },
    {
     "name": "stderr",
     "output_type": "stream",
     "text": [
      " 71%|███████████████████████████████████████████████████████▉                       | 900/1272 [05:12<02:05,  2.97it/s]"
     ]
    },
    {
     "name": "stdout",
     "output_type": "stream",
     "text": [
      "(900/1272) Data: 0.011s | Batch: 0.347s | Total: 0:05:12 | ETA: 0:02:06 | Loss: 0.2029 | top1:  91.0314\n"
     ]
    },
    {
     "name": "stderr",
     "output_type": "stream",
     "text": [
      " 79%|█████████████████████████████████████████████████████████████▎                | 1000/1272 [05:46<01:31,  2.96it/s]"
     ]
    },
    {
     "name": "stdout",
     "output_type": "stream",
     "text": [
      "(1000/1272) Data: 0.010s | Batch: 0.346s | Total: 0:05:46 | ETA: 0:01:33 | Loss: 0.2029 | top1:  91.0252\n"
     ]
    },
    {
     "name": "stderr",
     "output_type": "stream",
     "text": [
      " 86%|███████████████████████████████████████████████████████████████████▍          | 1100/1272 [06:19<00:57,  2.97it/s]"
     ]
    },
    {
     "name": "stdout",
     "output_type": "stream",
     "text": [
      "(1100/1272) Data: 0.009s | Batch: 0.345s | Total: 0:06:19 | ETA: 0:00:59 | Loss: 0.2029 | top1:  91.0202\n"
     ]
    },
    {
     "name": "stderr",
     "output_type": "stream",
     "text": [
      " 94%|█████████████████████████████████████████████████████████████████████████▌    | 1200/1272 [06:53<00:24,  2.97it/s]"
     ]
    },
    {
     "name": "stdout",
     "output_type": "stream",
     "text": [
      "(1200/1272) Data: 0.008s | Batch: 0.345s | Total: 0:06:53 | ETA: 0:00:25 | Loss: 0.2030 | top1:  91.0211\n"
     ]
    },
    {
     "name": "stderr",
     "output_type": "stream",
     "text": [
      "100%|██████████████████████████████████████████████████████████████████████████████| 1272/1272 [07:18<00:00,  2.90it/s]\n",
      "100%|████████████████████████████████████████████████████████████████████████████████| 156/156 [00:24<00:00,  6.25it/s]\n"
     ]
    },
    {
     "name": "stdout",
     "output_type": "stream",
     "text": [
      "=> saving checkpoint 'checkpoints\\checkpoint.pth.tar'\n"
     ]
    },
    {
     "name": "stderr",
     "output_type": "stream",
     "text": [
      "  0%|                                                                                         | 0/1272 [00:00<?, ?it/s]"
     ]
    },
    {
     "name": "stdout",
     "output_type": "stream",
     "text": [
      "=> saving best model 'checkpoints\\model_best.pth.tar'\n",
      "\n",
      "Epoch: [17 | 60] LR: 0.100000\n"
     ]
    },
    {
     "name": "stderr",
     "output_type": "stream",
     "text": [
      "  8%|██████▏                                                                        | 100/1272 [00:41<06:31,  2.99it/s]"
     ]
    },
    {
     "name": "stdout",
     "output_type": "stream",
     "text": [
      "(100/1272) Data: 0.085s | Batch: 0.418s | Total: 0:00:41 | ETA: 0:06:33 | Loss: 0.2010 | top1:  91.1424\n"
     ]
    },
    {
     "name": "stderr",
     "output_type": "stream",
     "text": [
      " 16%|████████████▍                                                                  | 200/1272 [01:15<05:59,  2.98it/s]"
     ]
    },
    {
     "name": "stdout",
     "output_type": "stream",
     "text": [
      "(200/1272) Data: 0.043s | Batch: 0.377s | Total: 0:01:15 | ETA: 0:06:01 | Loss: 0.2009 | top1:  91.1371\n"
     ]
    },
    {
     "name": "stderr",
     "output_type": "stream",
     "text": [
      " 24%|██████████████████▋                                                            | 300/1272 [01:48<05:26,  2.98it/s]"
     ]
    },
    {
     "name": "stdout",
     "output_type": "stream",
     "text": [
      "(300/1272) Data: 0.029s | Batch: 0.363s | Total: 0:01:49 | ETA: 0:05:27 | Loss: 0.2010 | top1:  91.1262\n"
     ]
    },
    {
     "name": "stderr",
     "output_type": "stream",
     "text": [
      " 31%|████████████████████████▊                                                      | 400/1272 [02:22<04:53,  2.97it/s]"
     ]
    },
    {
     "name": "stdout",
     "output_type": "stream",
     "text": [
      "(400/1272) Data: 0.022s | Batch: 0.357s | Total: 0:02:22 | ETA: 0:04:54 | Loss: 0.2014 | top1:  91.1095\n"
     ]
    },
    {
     "name": "stderr",
     "output_type": "stream",
     "text": [
      " 39%|███████████████████████████████                                                | 500/1272 [02:56<04:20,  2.97it/s]"
     ]
    },
    {
     "name": "stdout",
     "output_type": "stream",
     "text": [
      "(500/1272) Data: 0.018s | Batch: 0.352s | Total: 0:02:56 | ETA: 0:04:19 | Loss: 0.2014 | top1:  91.0998\n"
     ]
    },
    {
     "name": "stderr",
     "output_type": "stream",
     "text": [
      " 47%|█████████████████████████████████████▎                                         | 600/1272 [03:29<03:47,  2.96it/s]"
     ]
    },
    {
     "name": "stdout",
     "output_type": "stream",
     "text": [
      "(600/1272) Data: 0.015s | Batch: 0.350s | Total: 0:03:29 | ETA: 0:03:47 | Loss: 0.2014 | top1:  91.0898\n"
     ]
    },
    {
     "name": "stderr",
     "output_type": "stream",
     "text": [
      " 55%|███████████████████████████████████████████▍                                   | 700/1272 [04:03<03:12,  2.97it/s]"
     ]
    },
    {
     "name": "stdout",
     "output_type": "stream",
     "text": [
      "(700/1272) Data: 0.013s | Batch: 0.348s | Total: 0:04:03 | ETA: 0:03:13 | Loss: 0.2015 | top1:  91.0937\n"
     ]
    },
    {
     "name": "stderr",
     "output_type": "stream",
     "text": [
      " 63%|█████████████████████████████████████████████████▋                             | 800/1272 [04:37<02:39,  2.96it/s]"
     ]
    },
    {
     "name": "stdout",
     "output_type": "stream",
     "text": [
      "(800/1272) Data: 0.012s | Batch: 0.346s | Total: 0:04:37 | ETA: 0:02:40 | Loss: 0.2016 | top1:  91.0894\n"
     ]
    },
    {
     "name": "stderr",
     "output_type": "stream",
     "text": [
      " 71%|███████████████████████████████████████████████████████▉                       | 900/1272 [05:10<02:04,  2.98it/s]"
     ]
    },
    {
     "name": "stdout",
     "output_type": "stream",
     "text": [
      "(900/1272) Data: 0.011s | Batch: 0.345s | Total: 0:05:10 | ETA: 0:02:06 | Loss: 0.2015 | top1:  91.1000\n"
     ]
    },
    {
     "name": "stderr",
     "output_type": "stream",
     "text": [
      " 79%|█████████████████████████████████████████████████████████████▎                | 1000/1272 [05:44<01:31,  2.96it/s]"
     ]
    },
    {
     "name": "stdout",
     "output_type": "stream",
     "text": [
      "(1000/1272) Data: 0.010s | Batch: 0.344s | Total: 0:05:44 | ETA: 0:01:32 | Loss: 0.2014 | top1:  91.1020\n"
     ]
    },
    {
     "name": "stderr",
     "output_type": "stream",
     "text": [
      " 86%|███████████████████████████████████████████████████████████████████▍          | 1100/1272 [06:17<00:57,  2.98it/s]"
     ]
    },
    {
     "name": "stdout",
     "output_type": "stream",
     "text": [
      "(1100/1272) Data: 0.009s | Batch: 0.344s | Total: 0:06:17 | ETA: 0:00:59 | Loss: 0.2016 | top1:  91.0901\n"
     ]
    },
    {
     "name": "stderr",
     "output_type": "stream",
     "text": [
      " 94%|█████████████████████████████████████████████████████████████████████████▌    | 1200/1272 [06:51<00:24,  2.98it/s]"
     ]
    },
    {
     "name": "stdout",
     "output_type": "stream",
     "text": [
      "(1200/1272) Data: 0.008s | Batch: 0.343s | Total: 0:06:51 | ETA: 0:00:25 | Loss: 0.2017 | top1:  91.0822\n"
     ]
    },
    {
     "name": "stderr",
     "output_type": "stream",
     "text": [
      "100%|██████████████████████████████████████████████████████████████████████████████| 1272/1272 [07:16<00:00,  2.91it/s]\n",
      "100%|████████████████████████████████████████████████████████████████████████████████| 156/156 [00:24<00:00,  6.28it/s]\n"
     ]
    },
    {
     "name": "stdout",
     "output_type": "stream",
     "text": [
      "=> saving checkpoint 'checkpoints\\checkpoint.pth.tar'\n"
     ]
    },
    {
     "name": "stderr",
     "output_type": "stream",
     "text": [
      "  0%|                                                                                         | 0/1272 [00:00<?, ?it/s]"
     ]
    },
    {
     "name": "stdout",
     "output_type": "stream",
     "text": [
      "\n",
      "Epoch: [18 | 60] LR: 0.100000\n"
     ]
    },
    {
     "name": "stderr",
     "output_type": "stream",
     "text": [
      "  8%|██████▏                                                                        | 100/1272 [00:41<06:35,  2.96it/s]"
     ]
    },
    {
     "name": "stdout",
     "output_type": "stream",
     "text": [
      "(100/1272) Data: 0.084s | Batch: 0.419s | Total: 0:00:41 | ETA: 0:06:34 | Loss: 0.1983 | top1:  91.2113\n"
     ]
    },
    {
     "name": "stderr",
     "output_type": "stream",
     "text": [
      " 16%|████████████▍                                                                  | 200/1272 [01:15<06:02,  2.96it/s]"
     ]
    },
    {
     "name": "stdout",
     "output_type": "stream",
     "text": [
      "(200/1272) Data: 0.043s | Batch: 0.378s | Total: 0:01:15 | ETA: 0:06:02 | Loss: 0.1998 | top1:  91.1501\n"
     ]
    },
    {
     "name": "stderr",
     "output_type": "stream",
     "text": [
      " 24%|██████████████████▋                                                            | 300/1272 [01:49<05:28,  2.96it/s]"
     ]
    },
    {
     "name": "stdout",
     "output_type": "stream",
     "text": [
      "(300/1272) Data: 0.029s | Batch: 0.365s | Total: 0:01:49 | ETA: 0:05:29 | Loss: 0.1999 | top1:  91.1436\n"
     ]
    },
    {
     "name": "stderr",
     "output_type": "stream",
     "text": [
      " 31%|████████████████████████▊                                                      | 400/1272 [02:23<04:52,  2.98it/s]"
     ]
    },
    {
     "name": "stdout",
     "output_type": "stream",
     "text": [
      "(400/1272) Data: 0.022s | Batch: 0.358s | Total: 0:02:23 | ETA: 0:04:55 | Loss: 0.2000 | top1:  91.1396\n"
     ]
    },
    {
     "name": "stderr",
     "output_type": "stream",
     "text": [
      " 39%|███████████████████████████████                                                | 500/1272 [02:56<04:20,  2.96it/s]"
     ]
    },
    {
     "name": "stdout",
     "output_type": "stream",
     "text": [
      "(500/1272) Data: 0.018s | Batch: 0.354s | Total: 0:02:56 | ETA: 0:04:21 | Loss: 0.2003 | top1:  91.1333\n"
     ]
    },
    {
     "name": "stderr",
     "output_type": "stream",
     "text": [
      " 47%|█████████████████████████████████████▎                                         | 600/1272 [03:30<03:47,  2.96it/s]"
     ]
    },
    {
     "name": "stdout",
     "output_type": "stream",
     "text": [
      "(600/1272) Data: 0.015s | Batch: 0.351s | Total: 0:03:30 | ETA: 0:03:48 | Loss: 0.2004 | top1:  91.1321\n"
     ]
    },
    {
     "name": "stderr",
     "output_type": "stream",
     "text": [
      " 55%|███████████████████████████████████████████▍                                   | 700/1272 [04:04<03:12,  2.97it/s]"
     ]
    },
    {
     "name": "stdout",
     "output_type": "stream",
     "text": [
      "(700/1272) Data: 0.013s | Batch: 0.349s | Total: 0:04:04 | ETA: 0:03:14 | Loss: 0.2007 | top1:  91.1243\n"
     ]
    },
    {
     "name": "stderr",
     "output_type": "stream",
     "text": [
      " 63%|█████████████████████████████████████████████████▋                             | 800/1272 [04:38<02:38,  2.97it/s]"
     ]
    },
    {
     "name": "stdout",
     "output_type": "stream",
     "text": [
      "(800/1272) Data: 0.012s | Batch: 0.348s | Total: 0:04:38 | ETA: 0:02:40 | Loss: 0.2007 | top1:  91.1300\n"
     ]
    },
    {
     "name": "stderr",
     "output_type": "stream",
     "text": [
      " 71%|███████████████████████████████████████████████████████▉                       | 900/1272 [05:11<02:04,  2.98it/s]"
     ]
    },
    {
     "name": "stdout",
     "output_type": "stream",
     "text": [
      "(900/1272) Data: 0.011s | Batch: 0.346s | Total: 0:05:11 | ETA: 0:02:06 | Loss: 0.2007 | top1:  91.1269\n"
     ]
    },
    {
     "name": "stderr",
     "output_type": "stream",
     "text": [
      " 79%|█████████████████████████████████████████████████████████████▎                | 1000/1272 [05:45<01:31,  2.98it/s]"
     ]
    },
    {
     "name": "stdout",
     "output_type": "stream",
     "text": [
      "(1000/1272) Data: 0.010s | Batch: 0.346s | Total: 0:05:45 | ETA: 0:01:33 | Loss: 0.2009 | top1:  91.1220\n"
     ]
    },
    {
     "name": "stderr",
     "output_type": "stream",
     "text": [
      " 86%|███████████████████████████████████████████████████████████████████▍          | 1100/1272 [06:19<00:57,  2.98it/s]"
     ]
    },
    {
     "name": "stdout",
     "output_type": "stream",
     "text": [
      "(1100/1272) Data: 0.009s | Batch: 0.345s | Total: 0:06:19 | ETA: 0:00:59 | Loss: 0.2010 | top1:  91.1138\n"
     ]
    },
    {
     "name": "stderr",
     "output_type": "stream",
     "text": [
      " 94%|█████████████████████████████████████████████████████████████████████████▌    | 1200/1272 [06:53<00:24,  2.94it/s]"
     ]
    },
    {
     "name": "stdout",
     "output_type": "stream",
     "text": [
      "(1200/1272) Data: 0.008s | Batch: 0.344s | Total: 0:06:53 | ETA: 0:00:25 | Loss: 0.2010 | top1:  91.1132\n"
     ]
    },
    {
     "name": "stderr",
     "output_type": "stream",
     "text": [
      "100%|██████████████████████████████████████████████████████████████████████████████| 1272/1272 [07:18<00:00,  2.90it/s]\n",
      "100%|████████████████████████████████████████████████████████████████████████████████| 156/156 [00:24<00:00,  6.28it/s]\n"
     ]
    },
    {
     "name": "stdout",
     "output_type": "stream",
     "text": [
      "=> saving checkpoint 'checkpoints\\checkpoint.pth.tar'\n"
     ]
    },
    {
     "name": "stderr",
     "output_type": "stream",
     "text": [
      "  0%|                                                                                         | 0/1272 [00:00<?, ?it/s]"
     ]
    },
    {
     "name": "stdout",
     "output_type": "stream",
     "text": [
      "\n",
      "Epoch: [19 | 60] LR: 0.100000\n"
     ]
    },
    {
     "name": "stderr",
     "output_type": "stream",
     "text": [
      "  8%|██████▏                                                                        | 100/1272 [00:41<06:33,  2.98it/s]"
     ]
    },
    {
     "name": "stdout",
     "output_type": "stream",
     "text": [
      "(100/1272) Data: 0.082s | Batch: 0.415s | Total: 0:00:41 | ETA: 0:06:35 | Loss: 0.1980 | top1:  91.2607\n"
     ]
    },
    {
     "name": "stderr",
     "output_type": "stream",
     "text": [
      " 16%|████████████▍                                                                  | 200/1272 [01:14<05:57,  2.99it/s]"
     ]
    },
    {
     "name": "stdout",
     "output_type": "stream",
     "text": [
      "(200/1272) Data: 0.042s | Batch: 0.375s | Total: 0:01:14 | ETA: 0:06:00 | Loss: 0.1989 | top1:  91.2120\n"
     ]
    },
    {
     "name": "stderr",
     "output_type": "stream",
     "text": [
      " 24%|██████████████████▋                                                            | 300/1272 [01:48<05:27,  2.97it/s]"
     ]
    },
    {
     "name": "stdout",
     "output_type": "stream",
     "text": [
      "(300/1272) Data: 0.028s | Batch: 0.362s | Total: 0:01:48 | ETA: 0:05:28 | Loss: 0.1988 | top1:  91.2245\n"
     ]
    },
    {
     "name": "stderr",
     "output_type": "stream",
     "text": [
      " 31%|████████████████████████▊                                                      | 400/1272 [02:22<04:52,  2.98it/s]"
     ]
    },
    {
     "name": "stdout",
     "output_type": "stream",
     "text": [
      "(400/1272) Data: 0.022s | Batch: 0.355s | Total: 0:02:22 | ETA: 0:04:54 | Loss: 0.1990 | top1:  91.2159\n"
     ]
    },
    {
     "name": "stderr",
     "output_type": "stream",
     "text": [
      " 39%|███████████████████████████████                                                | 500/1272 [02:55<04:18,  2.99it/s]"
     ]
    },
    {
     "name": "stdout",
     "output_type": "stream",
     "text": [
      "(500/1272) Data: 0.018s | Batch: 0.351s | Total: 0:02:55 | ETA: 0:04:19 | Loss: 0.1990 | top1:  91.2170\n"
     ]
    },
    {
     "name": "stderr",
     "output_type": "stream",
     "text": [
      " 47%|█████████████████████████████████████▎                                         | 600/1272 [03:29<03:46,  2.97it/s]"
     ]
    },
    {
     "name": "stdout",
     "output_type": "stream",
     "text": [
      "(600/1272) Data: 0.015s | Batch: 0.349s | Total: 0:03:29 | ETA: 0:03:47 | Loss: 0.1991 | top1:  91.2136\n"
     ]
    },
    {
     "name": "stderr",
     "output_type": "stream",
     "text": [
      " 55%|███████████████████████████████████████████▍                                   | 700/1272 [04:02<03:12,  2.97it/s]"
     ]
    },
    {
     "name": "stdout",
     "output_type": "stream",
     "text": [
      "(700/1272) Data: 0.013s | Batch: 0.347s | Total: 0:04:02 | ETA: 0:03:13 | Loss: 0.1993 | top1:  91.1991\n"
     ]
    },
    {
     "name": "stderr",
     "output_type": "stream",
     "text": [
      " 63%|█████████████████████████████████████████████████▋                             | 800/1272 [04:36<02:38,  2.98it/s]"
     ]
    },
    {
     "name": "stdout",
     "output_type": "stream",
     "text": [
      "(800/1272) Data: 0.011s | Batch: 0.345s | Total: 0:04:36 | ETA: 0:02:39 | Loss: 0.1995 | top1:  91.1952\n"
     ]
    },
    {
     "name": "stderr",
     "output_type": "stream",
     "text": [
      " 71%|███████████████████████████████████████████████████████▉                       | 900/1272 [05:09<02:05,  2.97it/s]"
     ]
    },
    {
     "name": "stdout",
     "output_type": "stream",
     "text": [
      "(900/1272) Data: 0.010s | Batch: 0.344s | Total: 0:05:09 | ETA: 0:02:06 | Loss: 0.1997 | top1:  91.1844\n"
     ]
    },
    {
     "name": "stderr",
     "output_type": "stream",
     "text": [
      " 79%|█████████████████████████████████████████████████████████████▎                | 1000/1272 [05:43<01:31,  2.98it/s]"
     ]
    },
    {
     "name": "stdout",
     "output_type": "stream",
     "text": [
      "(1000/1272) Data: 0.009s | Batch: 0.344s | Total: 0:05:43 | ETA: 0:01:32 | Loss: 0.1998 | top1:  91.1781\n"
     ]
    },
    {
     "name": "stderr",
     "output_type": "stream",
     "text": [
      " 86%|███████████████████████████████████████████████████████████████████▍          | 1100/1272 [06:17<00:57,  2.97it/s]"
     ]
    },
    {
     "name": "stdout",
     "output_type": "stream",
     "text": [
      "(1100/1272) Data: 0.009s | Batch: 0.343s | Total: 0:06:17 | ETA: 0:00:59 | Loss: 0.1998 | top1:  91.1775\n"
     ]
    },
    {
     "name": "stderr",
     "output_type": "stream",
     "text": [
      " 94%|█████████████████████████████████████████████████████████████████████████▌    | 1200/1272 [06:50<00:24,  2.97it/s]"
     ]
    },
    {
     "name": "stdout",
     "output_type": "stream",
     "text": [
      "(1200/1272) Data: 0.008s | Batch: 0.342s | Total: 0:06:50 | ETA: 0:00:25 | Loss: 0.1999 | top1:  91.1770\n"
     ]
    },
    {
     "name": "stderr",
     "output_type": "stream",
     "text": [
      "100%|██████████████████████████████████████████████████████████████████████████████| 1272/1272 [07:15<00:00,  2.92it/s]\n",
      "100%|████████████████████████████████████████████████████████████████████████████████| 156/156 [00:24<00:00,  6.26it/s]\n"
     ]
    },
    {
     "name": "stdout",
     "output_type": "stream",
     "text": [
      "=> saving checkpoint 'checkpoints\\checkpoint.pth.tar'\n"
     ]
    },
    {
     "name": "stderr",
     "output_type": "stream",
     "text": [
      "  0%|                                                                                         | 0/1272 [00:00<?, ?it/s]"
     ]
    },
    {
     "name": "stdout",
     "output_type": "stream",
     "text": [
      "\n",
      "Epoch: [20 | 60] LR: 0.100000\n"
     ]
    },
    {
     "name": "stderr",
     "output_type": "stream",
     "text": [
      "  8%|██████▏                                                                        | 100/1272 [00:41<06:33,  2.98it/s]"
     ]
    },
    {
     "name": "stdout",
     "output_type": "stream",
     "text": [
      "(100/1272) Data: 0.082s | Batch: 0.418s | Total: 0:00:41 | ETA: 0:06:34 | Loss: 0.1987 | top1:  91.2326\n"
     ]
    },
    {
     "name": "stderr",
     "output_type": "stream",
     "text": [
      " 16%|████████████▍                                                                  | 200/1272 [01:15<05:59,  2.98it/s]"
     ]
    },
    {
     "name": "stdout",
     "output_type": "stream",
     "text": [
      "(200/1272) Data: 0.042s | Batch: 0.377s | Total: 0:01:15 | ETA: 0:06:01 | Loss: 0.1988 | top1:  91.2338\n"
     ]
    },
    {
     "name": "stderr",
     "output_type": "stream",
     "text": [
      " 24%|██████████████████▋                                                            | 300/1272 [01:49<05:26,  2.98it/s]"
     ]
    },
    {
     "name": "stdout",
     "output_type": "stream",
     "text": [
      "(300/1272) Data: 0.028s | Batch: 0.364s | Total: 0:01:49 | ETA: 0:05:28 | Loss: 0.1990 | top1:  91.2174\n"
     ]
    },
    {
     "name": "stderr",
     "output_type": "stream",
     "text": [
      " 31%|████████████████████████▊                                                      | 400/1272 [02:22<04:53,  2.97it/s]"
     ]
    },
    {
     "name": "stdout",
     "output_type": "stream",
     "text": [
      "(400/1272) Data: 0.022s | Batch: 0.357s | Total: 0:02:22 | ETA: 0:04:55 | Loss: 0.1986 | top1:  91.2292\n"
     ]
    },
    {
     "name": "stderr",
     "output_type": "stream",
     "text": [
      " 39%|███████████████████████████████                                                | 500/1272 [02:56<04:20,  2.96it/s]"
     ]
    },
    {
     "name": "stdout",
     "output_type": "stream",
     "text": [
      "(500/1272) Data: 0.017s | Batch: 0.353s | Total: 0:02:56 | ETA: 0:04:20 | Loss: 0.1988 | top1:  91.2332\n"
     ]
    },
    {
     "name": "stderr",
     "output_type": "stream",
     "text": [
      " 47%|█████████████████████████████████████▎                                         | 600/1272 [03:30<03:47,  2.96it/s]"
     ]
    },
    {
     "name": "stdout",
     "output_type": "stream",
     "text": [
      "(600/1272) Data: 0.015s | Batch: 0.351s | Total: 0:03:30 | ETA: 0:03:48 | Loss: 0.1989 | top1:  91.2256\n"
     ]
    },
    {
     "name": "stderr",
     "output_type": "stream",
     "text": [
      " 55%|███████████████████████████████████████████▍                                   | 700/1272 [04:04<03:13,  2.96it/s]"
     ]
    },
    {
     "name": "stdout",
     "output_type": "stream",
     "text": [
      "(700/1272) Data: 0.013s | Batch: 0.349s | Total: 0:04:04 | ETA: 0:03:14 | Loss: 0.1990 | top1:  91.2171\n"
     ]
    },
    {
     "name": "stderr",
     "output_type": "stream",
     "text": [
      " 63%|█████████████████████████████████████████████████▋                             | 800/1272 [04:38<02:39,  2.96it/s]"
     ]
    },
    {
     "name": "stdout",
     "output_type": "stream",
     "text": [
      "(800/1272) Data: 0.011s | Batch: 0.348s | Total: 0:04:38 | ETA: 0:02:40 | Loss: 0.1992 | top1:  91.2119\n"
     ]
    },
    {
     "name": "stderr",
     "output_type": "stream",
     "text": [
      " 71%|███████████████████████████████████████████████████████▉                       | 900/1272 [05:11<02:06,  2.95it/s]"
     ]
    },
    {
     "name": "stdout",
     "output_type": "stream",
     "text": [
      "(900/1272) Data: 0.010s | Batch: 0.346s | Total: 0:05:11 | ETA: 0:02:07 | Loss: 0.1992 | top1:  91.2105\n"
     ]
    },
    {
     "name": "stderr",
     "output_type": "stream",
     "text": [
      " 79%|█████████████████████████████████████████████████████████████▎                | 1000/1272 [05:45<01:32,  2.94it/s]"
     ]
    },
    {
     "name": "stdout",
     "output_type": "stream",
     "text": [
      "(1000/1272) Data: 0.009s | Batch: 0.346s | Total: 0:05:45 | ETA: 0:01:33 | Loss: 0.1993 | top1:  91.2064\n"
     ]
    },
    {
     "name": "stderr",
     "output_type": "stream",
     "text": [
      " 86%|███████████████████████████████████████████████████████████████████▍          | 1100/1272 [06:19<00:58,  2.96it/s]"
     ]
    },
    {
     "name": "stdout",
     "output_type": "stream",
     "text": [
      "(1100/1272) Data: 0.009s | Batch: 0.345s | Total: 0:06:19 | ETA: 0:00:59 | Loss: 0.1992 | top1:  91.2056\n"
     ]
    },
    {
     "name": "stderr",
     "output_type": "stream",
     "text": [
      " 94%|█████████████████████████████████████████████████████████████████████████▌    | 1200/1272 [06:53<00:24,  2.96it/s]"
     ]
    },
    {
     "name": "stdout",
     "output_type": "stream",
     "text": [
      "(1200/1272) Data: 0.008s | Batch: 0.344s | Total: 0:06:53 | ETA: 0:00:25 | Loss: 0.1992 | top1:  91.2052\n"
     ]
    },
    {
     "name": "stderr",
     "output_type": "stream",
     "text": [
      "100%|██████████████████████████████████████████████████████████████████████████████| 1272/1272 [07:18<00:00,  2.90it/s]\n",
      "100%|████████████████████████████████████████████████████████████████████████████████| 156/156 [00:24<00:00,  6.25it/s]\n"
     ]
    },
    {
     "name": "stdout",
     "output_type": "stream",
     "text": [
      "=> saving checkpoint 'checkpoints\\checkpoint.pth.tar'\n"
     ]
    },
    {
     "name": "stderr",
     "output_type": "stream",
     "text": [
      "  0%|                                                                                         | 0/1272 [00:00<?, ?it/s]"
     ]
    },
    {
     "name": "stdout",
     "output_type": "stream",
     "text": [
      "\n",
      "Epoch: [21 | 60] LR: 0.100000\n"
     ]
    },
    {
     "name": "stderr",
     "output_type": "stream",
     "text": [
      "  8%|██████▏                                                                        | 100/1272 [00:41<06:34,  2.97it/s]"
     ]
    },
    {
     "name": "stdout",
     "output_type": "stream",
     "text": [
      "(100/1272) Data: 0.083s | Batch: 0.417s | Total: 0:00:41 | ETA: 0:06:33 | Loss: 0.1965 | top1:  91.3277\n"
     ]
    },
    {
     "name": "stderr",
     "output_type": "stream",
     "text": [
      " 16%|████████████▍                                                                  | 200/1272 [01:15<06:01,  2.97it/s]"
     ]
    },
    {
     "name": "stdout",
     "output_type": "stream",
     "text": [
      "(200/1272) Data: 0.042s | Batch: 0.377s | Total: 0:01:15 | ETA: 0:06:02 | Loss: 0.1970 | top1:  91.3067\n"
     ]
    },
    {
     "name": "stderr",
     "output_type": "stream",
     "text": [
      " 24%|██████████████████▋                                                            | 300/1272 [01:48<05:26,  2.98it/s]"
     ]
    },
    {
     "name": "stdout",
     "output_type": "stream",
     "text": [
      "(300/1272) Data: 0.029s | Batch: 0.363s | Total: 0:01:48 | ETA: 0:05:27 | Loss: 0.1974 | top1:  91.2816\n"
     ]
    },
    {
     "name": "stderr",
     "output_type": "stream",
     "text": [
      " 31%|████████████████████████▊                                                      | 400/1272 [02:22<04:53,  2.97it/s]"
     ]
    },
    {
     "name": "stdout",
     "output_type": "stream",
     "text": [
      "(400/1272) Data: 0.022s | Batch: 0.356s | Total: 0:02:22 | ETA: 0:04:54 | Loss: 0.1972 | top1:  91.2946\n"
     ]
    },
    {
     "name": "stderr",
     "output_type": "stream",
     "text": [
      " 39%|███████████████████████████████                                                | 500/1272 [02:56<04:19,  2.98it/s]"
     ]
    },
    {
     "name": "stdout",
     "output_type": "stream",
     "text": [
      "(500/1272) Data: 0.018s | Batch: 0.352s | Total: 0:02:56 | ETA: 0:04:19 | Loss: 0.1976 | top1:  91.2772\n"
     ]
    },
    {
     "name": "stderr",
     "output_type": "stream",
     "text": [
      " 47%|█████████████████████████████████████▎                                         | 600/1272 [03:29<03:46,  2.97it/s]"
     ]
    },
    {
     "name": "stdout",
     "output_type": "stream",
     "text": [
      "(600/1272) Data: 0.015s | Batch: 0.349s | Total: 0:03:29 | ETA: 0:03:46 | Loss: 0.1977 | top1:  91.2775\n"
     ]
    },
    {
     "name": "stderr",
     "output_type": "stream",
     "text": [
      " 55%|███████████████████████████████████████████▍                                   | 700/1272 [04:03<03:12,  2.98it/s]"
     ]
    },
    {
     "name": "stdout",
     "output_type": "stream",
     "text": [
      "(700/1272) Data: 0.013s | Batch: 0.347s | Total: 0:04:03 | ETA: 0:03:13 | Loss: 0.1978 | top1:  91.2735\n"
     ]
    },
    {
     "name": "stderr",
     "output_type": "stream",
     "text": [
      " 63%|█████████████████████████████████████████████████▋                             | 800/1272 [04:36<02:37,  3.00it/s]"
     ]
    },
    {
     "name": "stdout",
     "output_type": "stream",
     "text": [
      "(800/1272) Data: 0.012s | Batch: 0.346s | Total: 0:04:36 | ETA: 0:02:39 | Loss: 0.1980 | top1:  91.2585\n"
     ]
    },
    {
     "name": "stderr",
     "output_type": "stream",
     "text": [
      " 71%|███████████████████████████████████████████████████████▉                       | 900/1272 [05:10<02:05,  2.96it/s]"
     ]
    },
    {
     "name": "stdout",
     "output_type": "stream",
     "text": [
      "(900/1272) Data: 0.010s | Batch: 0.345s | Total: 0:05:10 | ETA: 0:02:06 | Loss: 0.1982 | top1:  91.2510\n"
     ]
    },
    {
     "name": "stderr",
     "output_type": "stream",
     "text": [
      " 79%|█████████████████████████████████████████████████████████████▎                | 1000/1272 [05:43<01:31,  2.99it/s]"
     ]
    },
    {
     "name": "stdout",
     "output_type": "stream",
     "text": [
      "(1000/1272) Data: 0.010s | Batch: 0.344s | Total: 0:05:43 | ETA: 0:01:32 | Loss: 0.1984 | top1:  91.2399\n"
     ]
    },
    {
     "name": "stderr",
     "output_type": "stream",
     "text": [
      " 86%|███████████████████████████████████████████████████████████████████▍          | 1100/1272 [06:17<00:57,  2.98it/s]"
     ]
    },
    {
     "name": "stdout",
     "output_type": "stream",
     "text": [
      "(1100/1272) Data: 0.009s | Batch: 0.343s | Total: 0:06:17 | ETA: 0:00:59 | Loss: 0.1986 | top1:  91.2362\n"
     ]
    },
    {
     "name": "stderr",
     "output_type": "stream",
     "text": [
      " 94%|█████████████████████████████████████████████████████████████████████████▌    | 1200/1272 [06:51<00:24,  2.98it/s]"
     ]
    },
    {
     "name": "stdout",
     "output_type": "stream",
     "text": [
      "(1200/1272) Data: 0.008s | Batch: 0.343s | Total: 0:06:51 | ETA: 0:00:25 | Loss: 0.1986 | top1:  91.2343\n"
     ]
    },
    {
     "name": "stderr",
     "output_type": "stream",
     "text": [
      "100%|██████████████████████████████████████████████████████████████████████████████| 1272/1272 [07:15<00:00,  2.92it/s]\n",
      "100%|████████████████████████████████████████████████████████████████████████████████| 156/156 [00:24<00:00,  6.27it/s]\n"
     ]
    },
    {
     "name": "stdout",
     "output_type": "stream",
     "text": [
      "=> saving checkpoint 'checkpoints\\checkpoint.pth.tar'\n"
     ]
    },
    {
     "name": "stderr",
     "output_type": "stream",
     "text": [
      "  0%|                                                                                         | 0/1272 [00:00<?, ?it/s]"
     ]
    },
    {
     "name": "stdout",
     "output_type": "stream",
     "text": [
      "\n",
      "Epoch: [22 | 60] LR: 0.100000\n"
     ]
    },
    {
     "name": "stderr",
     "output_type": "stream",
     "text": [
      "  8%|██████▏                                                                        | 100/1272 [00:41<06:36,  2.96it/s]"
     ]
    },
    {
     "name": "stdout",
     "output_type": "stream",
     "text": [
      "(100/1272) Data: 0.084s | Batch: 0.417s | Total: 0:00:41 | ETA: 0:06:36 | Loss: 0.1970 | top1:  91.2615\n"
     ]
    },
    {
     "name": "stderr",
     "output_type": "stream",
     "text": [
      " 16%|████████████▍                                                                  | 200/1272 [01:15<06:01,  2.96it/s]"
     ]
    },
    {
     "name": "stdout",
     "output_type": "stream",
     "text": [
      "(200/1272) Data: 0.042s | Batch: 0.377s | Total: 0:01:15 | ETA: 0:06:01 | Loss: 0.1969 | top1:  91.2776\n"
     ]
    },
    {
     "name": "stderr",
     "output_type": "stream",
     "text": [
      " 24%|██████████████████▋                                                            | 300/1272 [01:49<05:28,  2.96it/s]"
     ]
    },
    {
     "name": "stdout",
     "output_type": "stream",
     "text": [
      "(300/1272) Data: 0.029s | Batch: 0.364s | Total: 0:01:49 | ETA: 0:05:28 | Loss: 0.1971 | top1:  91.2856\n"
     ]
    },
    {
     "name": "stderr",
     "output_type": "stream",
     "text": [
      " 31%|████████████████████████▊                                                      | 400/1272 [02:22<04:53,  2.97it/s]"
     ]
    },
    {
     "name": "stdout",
     "output_type": "stream",
     "text": [
      "(400/1272) Data: 0.022s | Batch: 0.357s | Total: 0:02:22 | ETA: 0:04:55 | Loss: 0.1970 | top1:  91.2991\n"
     ]
    },
    {
     "name": "stderr",
     "output_type": "stream",
     "text": [
      " 39%|███████████████████████████████                                                | 500/1272 [02:56<04:21,  2.96it/s]"
     ]
    },
    {
     "name": "stdout",
     "output_type": "stream",
     "text": [
      "(500/1272) Data: 0.018s | Batch: 0.354s | Total: 0:02:56 | ETA: 0:04:22 | Loss: 0.1971 | top1:  91.2927\n"
     ]
    },
    {
     "name": "stderr",
     "output_type": "stream",
     "text": [
      " 47%|█████████████████████████████████████▎                                         | 600/1272 [03:30<03:49,  2.93it/s]"
     ]
    },
    {
     "name": "stdout",
     "output_type": "stream",
     "text": [
      "(600/1272) Data: 0.015s | Batch: 0.351s | Total: 0:03:30 | ETA: 0:03:49 | Loss: 0.1972 | top1:  91.2934\n"
     ]
    },
    {
     "name": "stderr",
     "output_type": "stream",
     "text": [
      " 55%|███████████████████████████████████████████▍                                   | 700/1272 [04:04<03:13,  2.96it/s]"
     ]
    },
    {
     "name": "stdout",
     "output_type": "stream",
     "text": [
      "(700/1272) Data: 0.013s | Batch: 0.349s | Total: 0:04:04 | ETA: 0:03:14 | Loss: 0.1973 | top1:  91.2874\n"
     ]
    },
    {
     "name": "stderr",
     "output_type": "stream",
     "text": [
      " 63%|█████████████████████████████████████████████████▋                             | 800/1272 [04:38<02:39,  2.97it/s]"
     ]
    },
    {
     "name": "stdout",
     "output_type": "stream",
     "text": [
      "(800/1272) Data: 0.012s | Batch: 0.348s | Total: 0:04:38 | ETA: 0:02:40 | Loss: 0.1976 | top1:  91.2782\n"
     ]
    },
    {
     "name": "stderr",
     "output_type": "stream",
     "text": [
      " 71%|███████████████████████████████████████████████████████▉                       | 900/1272 [05:11<02:05,  2.97it/s]"
     ]
    },
    {
     "name": "stdout",
     "output_type": "stream",
     "text": [
      "(900/1272) Data: 0.011s | Batch: 0.347s | Total: 0:05:11 | ETA: 0:02:06 | Loss: 0.1977 | top1:  91.2703\n"
     ]
    },
    {
     "name": "stderr",
     "output_type": "stream",
     "text": [
      " 79%|█████████████████████████████████████████████████████████████▎                | 1000/1272 [05:45<01:31,  2.96it/s]"
     ]
    },
    {
     "name": "stdout",
     "output_type": "stream",
     "text": [
      "(1000/1272) Data: 0.010s | Batch: 0.346s | Total: 0:05:45 | ETA: 0:01:33 | Loss: 0.1978 | top1:  91.2633\n"
     ]
    },
    {
     "name": "stderr",
     "output_type": "stream",
     "text": [
      " 86%|███████████████████████████████████████████████████████████████████▍          | 1100/1272 [06:19<00:57,  2.99it/s]"
     ]
    },
    {
     "name": "stdout",
     "output_type": "stream",
     "text": [
      "(1100/1272) Data: 0.009s | Batch: 0.345s | Total: 0:06:19 | ETA: 0:00:59 | Loss: 0.1978 | top1:  91.2612\n"
     ]
    },
    {
     "name": "stderr",
     "output_type": "stream",
     "text": [
      " 94%|█████████████████████████████████████████████████████████████████████████▌    | 1200/1272 [06:53<00:24,  2.96it/s]"
     ]
    },
    {
     "name": "stdout",
     "output_type": "stream",
     "text": [
      "(1200/1272) Data: 0.008s | Batch: 0.344s | Total: 0:06:53 | ETA: 0:00:25 | Loss: 0.1980 | top1:  91.2547\n"
     ]
    },
    {
     "name": "stderr",
     "output_type": "stream",
     "text": [
      "100%|██████████████████████████████████████████████████████████████████████████████| 1272/1272 [07:18<00:00,  2.90it/s]\n",
      "100%|████████████████████████████████████████████████████████████████████████████████| 156/156 [00:24<00:00,  6.26it/s]\n"
     ]
    },
    {
     "name": "stdout",
     "output_type": "stream",
     "text": [
      "=> saving checkpoint 'checkpoints\\checkpoint.pth.tar'\n"
     ]
    },
    {
     "name": "stderr",
     "output_type": "stream",
     "text": [
      "  0%|                                                                                         | 0/1272 [00:00<?, ?it/s]"
     ]
    },
    {
     "name": "stdout",
     "output_type": "stream",
     "text": [
      "\n",
      "Epoch: [23 | 60] LR: 0.100000\n"
     ]
    },
    {
     "name": "stderr",
     "output_type": "stream",
     "text": [
      "  8%|██████▏                                                                        | 100/1272 [00:41<06:30,  3.00it/s]"
     ]
    },
    {
     "name": "stdout",
     "output_type": "stream",
     "text": [
      "(100/1272) Data: 0.083s | Batch: 0.415s | Total: 0:00:41 | ETA: 0:06:33 | Loss: 0.1962 | top1:  91.3277\n"
     ]
    },
    {
     "name": "stderr",
     "output_type": "stream",
     "text": [
      " 16%|████████████▍                                                                  | 200/1272 [01:14<05:58,  2.99it/s]"
     ]
    },
    {
     "name": "stdout",
     "output_type": "stream",
     "text": [
      "(200/1272) Data: 0.042s | Batch: 0.375s | Total: 0:01:14 | ETA: 0:06:00 | Loss: 0.1964 | top1:  91.3240\n"
     ]
    },
    {
     "name": "stderr",
     "output_type": "stream",
     "text": [
      " 24%|██████████████████▋                                                            | 300/1272 [01:48<05:28,  2.96it/s]"
     ]
    },
    {
     "name": "stdout",
     "output_type": "stream",
     "text": [
      "(300/1272) Data: 0.028s | Batch: 0.362s | Total: 0:01:48 | ETA: 0:05:27 | Loss: 0.1969 | top1:  91.3027\n"
     ]
    },
    {
     "name": "stderr",
     "output_type": "stream",
     "text": [
      " 31%|████████████████████████▊                                                      | 400/1272 [02:22<04:53,  2.97it/s]"
     ]
    },
    {
     "name": "stdout",
     "output_type": "stream",
     "text": [
      "(400/1272) Data: 0.022s | Batch: 0.355s | Total: 0:02:22 | ETA: 0:04:54 | Loss: 0.1965 | top1:  91.3237\n"
     ]
    },
    {
     "name": "stderr",
     "output_type": "stream",
     "text": [
      " 39%|███████████████████████████████                                                | 500/1272 [02:55<04:19,  2.97it/s]"
     ]
    },
    {
     "name": "stdout",
     "output_type": "stream",
     "text": [
      "(500/1272) Data: 0.018s | Batch: 0.351s | Total: 0:02:55 | ETA: 0:04:21 | Loss: 0.1966 | top1:  91.3168\n"
     ]
    },
    {
     "name": "stderr",
     "output_type": "stream",
     "text": [
      " 47%|█████████████████████████████████████▎                                         | 600/1272 [03:29<03:45,  2.98it/s]"
     ]
    },
    {
     "name": "stdout",
     "output_type": "stream",
     "text": [
      "(600/1272) Data: 0.015s | Batch: 0.349s | Total: 0:03:29 | ETA: 0:03:46 | Loss: 0.1967 | top1:  91.3176\n"
     ]
    },
    {
     "name": "stderr",
     "output_type": "stream",
     "text": [
      " 55%|███████████████████████████████████████████▍                                   | 700/1272 [04:02<03:12,  2.97it/s]"
     ]
    },
    {
     "name": "stdout",
     "output_type": "stream",
     "text": [
      "(700/1272) Data: 0.013s | Batch: 0.347s | Total: 0:04:02 | ETA: 0:03:13 | Loss: 0.1969 | top1:  91.3073\n"
     ]
    },
    {
     "name": "stderr",
     "output_type": "stream",
     "text": [
      " 63%|█████████████████████████████████████████████████▋                             | 800/1272 [04:36<02:37,  2.99it/s]"
     ]
    },
    {
     "name": "stdout",
     "output_type": "stream",
     "text": [
      "(800/1272) Data: 0.012s | Batch: 0.346s | Total: 0:04:36 | ETA: 0:02:39 | Loss: 0.1969 | top1:  91.3029\n"
     ]
    },
    {
     "name": "stderr",
     "output_type": "stream",
     "text": [
      " 71%|███████████████████████████████████████████████████████▉                       | 900/1272 [05:10<02:04,  2.98it/s]"
     ]
    },
    {
     "name": "stdout",
     "output_type": "stream",
     "text": [
      "(900/1272) Data: 0.010s | Batch: 0.345s | Total: 0:05:10 | ETA: 0:02:06 | Loss: 0.1970 | top1:  91.3006\n"
     ]
    },
    {
     "name": "stderr",
     "output_type": "stream",
     "text": [
      " 79%|█████████████████████████████████████████████████████████████▎                | 1000/1272 [05:43<01:31,  2.97it/s]"
     ]
    },
    {
     "name": "stdout",
     "output_type": "stream",
     "text": [
      "(1000/1272) Data: 0.009s | Batch: 0.344s | Total: 0:05:43 | ETA: 0:01:32 | Loss: 0.1971 | top1:  91.2920\n"
     ]
    },
    {
     "name": "stderr",
     "output_type": "stream",
     "text": [
      " 86%|███████████████████████████████████████████████████████████████████▍          | 1100/1272 [06:17<00:57,  2.98it/s]"
     ]
    },
    {
     "name": "stdout",
     "output_type": "stream",
     "text": [
      "(1100/1272) Data: 0.009s | Batch: 0.343s | Total: 0:06:17 | ETA: 0:00:59 | Loss: 0.1972 | top1:  91.2842\n"
     ]
    },
    {
     "name": "stderr",
     "output_type": "stream",
     "text": [
      " 94%|█████████████████████████████████████████████████████████████████████████▌    | 1200/1272 [06:51<00:24,  2.92it/s]"
     ]
    },
    {
     "name": "stdout",
     "output_type": "stream",
     "text": [
      "(1200/1272) Data: 0.008s | Batch: 0.343s | Total: 0:06:51 | ETA: 0:00:25 | Loss: 0.1973 | top1:  91.2817\n"
     ]
    },
    {
     "name": "stderr",
     "output_type": "stream",
     "text": [
      "100%|██████████████████████████████████████████████████████████████████████████████| 1272/1272 [07:15<00:00,  2.92it/s]\n",
      "100%|████████████████████████████████████████████████████████████████████████████████| 156/156 [00:24<00:00,  6.25it/s]\n"
     ]
    },
    {
     "name": "stdout",
     "output_type": "stream",
     "text": [
      "=> saving checkpoint 'checkpoints\\checkpoint.pth.tar'\n"
     ]
    },
    {
     "name": "stderr",
     "output_type": "stream",
     "text": [
      "  0%|                                                                                         | 0/1272 [00:00<?, ?it/s]"
     ]
    },
    {
     "name": "stdout",
     "output_type": "stream",
     "text": [
      "\n",
      "Epoch: [24 | 60] LR: 0.100000\n"
     ]
    },
    {
     "name": "stderr",
     "output_type": "stream",
     "text": [
      "  8%|██████▏                                                                        | 100/1272 [00:41<06:35,  2.96it/s]"
     ]
    },
    {
     "name": "stdout",
     "output_type": "stream",
     "text": [
      "(100/1272) Data: 0.082s | Batch: 0.417s | Total: 0:00:41 | ETA: 0:06:38 | Loss: 0.1950 | top1:  91.3266\n"
     ]
    },
    {
     "name": "stderr",
     "output_type": "stream",
     "text": [
      " 16%|████████████▍                                                                  | 200/1272 [01:15<06:01,  2.96it/s]"
     ]
    },
    {
     "name": "stdout",
     "output_type": "stream",
     "text": [
      "(200/1272) Data: 0.042s | Batch: 0.377s | Total: 0:01:15 | ETA: 0:06:01 | Loss: 0.1955 | top1:  91.3401\n"
     ]
    },
    {
     "name": "stderr",
     "output_type": "stream",
     "text": [
      " 24%|██████████████████▋                                                            | 300/1272 [01:49<05:29,  2.95it/s]"
     ]
    },
    {
     "name": "stdout",
     "output_type": "stream",
     "text": [
      "(300/1272) Data: 0.028s | Batch: 0.364s | Total: 0:01:49 | ETA: 0:05:29 | Loss: 0.1956 | top1:  91.3352\n"
     ]
    },
    {
     "name": "stderr",
     "output_type": "stream",
     "text": [
      " 31%|████████████████████████▊                                                      | 400/1272 [02:22<04:54,  2.96it/s]"
     ]
    },
    {
     "name": "stdout",
     "output_type": "stream",
     "text": [
      "(400/1272) Data: 0.022s | Batch: 0.357s | Total: 0:02:22 | ETA: 0:04:56 | Loss: 0.1960 | top1:  91.3173\n"
     ]
    },
    {
     "name": "stderr",
     "output_type": "stream",
     "text": [
      " 39%|███████████████████████████████                                                | 500/1272 [02:56<04:22,  2.95it/s]"
     ]
    },
    {
     "name": "stdout",
     "output_type": "stream",
     "text": [
      "(500/1272) Data: 0.018s | Batch: 0.353s | Total: 0:02:56 | ETA: 0:04:20 | Loss: 0.1962 | top1:  91.3107\n"
     ]
    },
    {
     "name": "stderr",
     "output_type": "stream",
     "text": [
      " 47%|█████████████████████████████████████▎                                         | 600/1272 [03:30<03:47,  2.96it/s]"
     ]
    },
    {
     "name": "stdout",
     "output_type": "stream",
     "text": [
      "(600/1272) Data: 0.015s | Batch: 0.351s | Total: 0:03:30 | ETA: 0:03:48 | Loss: 0.1962 | top1:  91.3110\n"
     ]
    },
    {
     "name": "stderr",
     "output_type": "stream",
     "text": [
      " 55%|███████████████████████████████████████████▍                                   | 700/1272 [04:04<03:13,  2.96it/s]"
     ]
    },
    {
     "name": "stdout",
     "output_type": "stream",
     "text": [
      "(700/1272) Data: 0.013s | Batch: 0.349s | Total: 0:04:04 | ETA: 0:03:14 | Loss: 0.1962 | top1:  91.3111\n"
     ]
    },
    {
     "name": "stderr",
     "output_type": "stream",
     "text": [
      " 63%|█████████████████████████████████████████████████▋                             | 800/1272 [04:38<02:39,  2.96it/s]"
     ]
    },
    {
     "name": "stdout",
     "output_type": "stream",
     "text": [
      "(800/1272) Data: 0.011s | Batch: 0.348s | Total: 0:04:38 | ETA: 0:02:40 | Loss: 0.1963 | top1:  91.3138\n"
     ]
    },
    {
     "name": "stderr",
     "output_type": "stream",
     "text": [
      " 71%|███████████████████████████████████████████████████████▉                       | 900/1272 [05:11<02:07,  2.92it/s]"
     ]
    },
    {
     "name": "stdout",
     "output_type": "stream",
     "text": [
      "(900/1272) Data: 0.010s | Batch: 0.347s | Total: 0:05:11 | ETA: 0:02:06 | Loss: 0.1963 | top1:  91.3174\n"
     ]
    },
    {
     "name": "stderr",
     "output_type": "stream",
     "text": [
      " 79%|█████████████████████████████████████████████████████████████▎                | 1000/1272 [05:45<01:32,  2.96it/s]"
     ]
    },
    {
     "name": "stdout",
     "output_type": "stream",
     "text": [
      "(1000/1272) Data: 0.009s | Batch: 0.346s | Total: 0:05:45 | ETA: 0:01:33 | Loss: 0.1963 | top1:  91.3191\n"
     ]
    },
    {
     "name": "stderr",
     "output_type": "stream",
     "text": [
      " 86%|███████████████████████████████████████████████████████████████████▍          | 1100/1272 [06:19<00:57,  2.97it/s]"
     ]
    },
    {
     "name": "stdout",
     "output_type": "stream",
     "text": [
      "(1100/1272) Data: 0.009s | Batch: 0.345s | Total: 0:06:19 | ETA: 0:00:59 | Loss: 0.1964 | top1:  91.3108\n"
     ]
    },
    {
     "name": "stderr",
     "output_type": "stream",
     "text": [
      " 94%|█████████████████████████████████████████████████████████████████████████▌    | 1200/1272 [06:53<00:24,  2.97it/s]"
     ]
    },
    {
     "name": "stdout",
     "output_type": "stream",
     "text": [
      "(1200/1272) Data: 0.008s | Batch: 0.344s | Total: 0:06:53 | ETA: 0:00:25 | Loss: 0.1965 | top1:  91.3046\n"
     ]
    },
    {
     "name": "stderr",
     "output_type": "stream",
     "text": [
      "100%|██████████████████████████████████████████████████████████████████████████████| 1272/1272 [07:18<00:00,  2.90it/s]\n",
      "100%|████████████████████████████████████████████████████████████████████████████████| 156/156 [00:24<00:00,  6.29it/s]\n"
     ]
    },
    {
     "name": "stdout",
     "output_type": "stream",
     "text": [
      "=> saving checkpoint 'checkpoints\\checkpoint.pth.tar'\n"
     ]
    },
    {
     "name": "stderr",
     "output_type": "stream",
     "text": [
      "  0%|                                                                                         | 0/1272 [00:00<?, ?it/s]"
     ]
    },
    {
     "name": "stdout",
     "output_type": "stream",
     "text": [
      "\n",
      "Epoch: [25 | 60] LR: 0.100000\n"
     ]
    },
    {
     "name": "stderr",
     "output_type": "stream",
     "text": [
      "  8%|██████▏                                                                        | 100/1272 [00:41<06:35,  2.97it/s]"
     ]
    },
    {
     "name": "stdout",
     "output_type": "stream",
     "text": [
      "(100/1272) Data: 0.083s | Batch: 0.416s | Total: 0:00:41 | ETA: 0:06:34 | Loss: 0.1945 | top1:  91.4045\n"
     ]
    },
    {
     "name": "stderr",
     "output_type": "stream",
     "text": [
      " 16%|████████████▍                                                                  | 200/1272 [01:15<06:01,  2.97it/s]"
     ]
    },
    {
     "name": "stdout",
     "output_type": "stream",
     "text": [
      "(200/1272) Data: 0.042s | Batch: 0.376s | Total: 0:01:15 | ETA: 0:06:00 | Loss: 0.1944 | top1:  91.4080\n"
     ]
    },
    {
     "name": "stderr",
     "output_type": "stream",
     "text": [
      " 24%|██████████████████▋                                                            | 300/1272 [01:48<05:26,  2.97it/s]"
     ]
    },
    {
     "name": "stdout",
     "output_type": "stream",
     "text": [
      "(300/1272) Data: 0.028s | Batch: 0.363s | Total: 0:01:48 | ETA: 0:05:29 | Loss: 0.1949 | top1:  91.3818\n"
     ]
    },
    {
     "name": "stderr",
     "output_type": "stream",
     "text": [
      " 31%|████████████████████████▊                                                      | 400/1272 [02:22<04:52,  2.98it/s]"
     ]
    },
    {
     "name": "stdout",
     "output_type": "stream",
     "text": [
      "(400/1272) Data: 0.022s | Batch: 0.356s | Total: 0:02:22 | ETA: 0:04:54 | Loss: 0.1950 | top1:  91.3748\n"
     ]
    },
    {
     "name": "stderr",
     "output_type": "stream",
     "text": [
      " 39%|███████████████████████████████                                                | 500/1272 [02:56<04:20,  2.96it/s]"
     ]
    },
    {
     "name": "stdout",
     "output_type": "stream",
     "text": [
      "(500/1272) Data: 0.018s | Batch: 0.352s | Total: 0:02:56 | ETA: 0:04:21 | Loss: 0.1951 | top1:  91.3705\n"
     ]
    },
    {
     "name": "stderr",
     "output_type": "stream",
     "text": [
      " 47%|█████████████████████████████████████▎                                         | 600/1272 [03:29<03:45,  2.97it/s]"
     ]
    },
    {
     "name": "stdout",
     "output_type": "stream",
     "text": [
      "(600/1272) Data: 0.015s | Batch: 0.349s | Total: 0:03:29 | ETA: 0:03:47 | Loss: 0.1954 | top1:  91.3632\n"
     ]
    },
    {
     "name": "stderr",
     "output_type": "stream",
     "text": [
      " 55%|███████████████████████████████████████████▍                                   | 700/1272 [04:03<03:13,  2.96it/s]"
     ]
    },
    {
     "name": "stdout",
     "output_type": "stream",
     "text": [
      "(700/1272) Data: 0.013s | Batch: 0.347s | Total: 0:04:03 | ETA: 0:03:13 | Loss: 0.1956 | top1:  91.3531\n"
     ]
    },
    {
     "name": "stderr",
     "output_type": "stream",
     "text": [
      " 63%|█████████████████████████████████████████████████▋                             | 800/1272 [04:36<02:38,  2.99it/s]"
     ]
    },
    {
     "name": "stdout",
     "output_type": "stream",
     "text": [
      "(800/1272) Data: 0.011s | Batch: 0.346s | Total: 0:04:36 | ETA: 0:02:39 | Loss: 0.1958 | top1:  91.3479\n"
     ]
    },
    {
     "name": "stderr",
     "output_type": "stream",
     "text": [
      " 71%|███████████████████████████████████████████████████████▉                       | 900/1272 [05:10<02:05,  2.96it/s]"
     ]
    },
    {
     "name": "stdout",
     "output_type": "stream",
     "text": [
      "(900/1272) Data: 0.010s | Batch: 0.345s | Total: 0:05:10 | ETA: 0:02:06 | Loss: 0.1960 | top1:  91.3387\n"
     ]
    },
    {
     "name": "stderr",
     "output_type": "stream",
     "text": [
      " 79%|█████████████████████████████████████████████████████████████▎                | 1000/1272 [05:44<01:31,  2.98it/s]"
     ]
    },
    {
     "name": "stdout",
     "output_type": "stream",
     "text": [
      "(1000/1272) Data: 0.009s | Batch: 0.344s | Total: 0:05:44 | ETA: 0:01:32 | Loss: 0.1961 | top1:  91.3392\n"
     ]
    },
    {
     "name": "stderr",
     "output_type": "stream",
     "text": [
      " 86%|███████████████████████████████████████████████████████████████████▍          | 1100/1272 [06:17<00:57,  2.98it/s]"
     ]
    },
    {
     "name": "stdout",
     "output_type": "stream",
     "text": [
      "(1100/1272) Data: 0.009s | Batch: 0.343s | Total: 0:06:17 | ETA: 0:00:59 | Loss: 0.1962 | top1:  91.3337\n"
     ]
    },
    {
     "name": "stderr",
     "output_type": "stream",
     "text": [
      " 94%|█████████████████████████████████████████████████████████████████████████▌    | 1200/1272 [06:51<00:24,  2.97it/s]"
     ]
    },
    {
     "name": "stdout",
     "output_type": "stream",
     "text": [
      "(1200/1272) Data: 0.008s | Batch: 0.343s | Total: 0:06:51 | ETA: 0:00:25 | Loss: 0.1962 | top1:  91.3308\n"
     ]
    },
    {
     "name": "stderr",
     "output_type": "stream",
     "text": [
      "100%|██████████████████████████████████████████████████████████████████████████████| 1272/1272 [07:16<00:00,  2.92it/s]\n",
      "100%|████████████████████████████████████████████████████████████████████████████████| 156/156 [00:25<00:00,  6.22it/s]\n"
     ]
    },
    {
     "name": "stdout",
     "output_type": "stream",
     "text": [
      "=> saving checkpoint 'checkpoints\\checkpoint.pth.tar'\n"
     ]
    },
    {
     "name": "stderr",
     "output_type": "stream",
     "text": [
      "  0%|                                                                                         | 0/1272 [00:00<?, ?it/s]"
     ]
    },
    {
     "name": "stdout",
     "output_type": "stream",
     "text": [
      "\n",
      "Epoch: [26 | 60] LR: 0.100000\n"
     ]
    },
    {
     "name": "stderr",
     "output_type": "stream",
     "text": [
      "  8%|██████▏                                                                        | 100/1272 [00:41<06:36,  2.95it/s]"
     ]
    },
    {
     "name": "stdout",
     "output_type": "stream",
     "text": [
      "(100/1272) Data: 0.082s | Batch: 0.417s | Total: 0:00:41 | ETA: 0:06:37 | Loss: 0.1934 | top1:  91.4867\n"
     ]
    },
    {
     "name": "stderr",
     "output_type": "stream",
     "text": [
      " 16%|████████████▍                                                                  | 200/1272 [01:15<06:00,  2.97it/s]"
     ]
    },
    {
     "name": "stdout",
     "output_type": "stream",
     "text": [
      "(200/1272) Data: 0.042s | Batch: 0.377s | Total: 0:01:15 | ETA: 0:06:02 | Loss: 0.1939 | top1:  91.4414\n"
     ]
    },
    {
     "name": "stderr",
     "output_type": "stream",
     "text": [
      " 24%|██████████████████▋                                                            | 300/1272 [01:49<05:29,  2.95it/s]"
     ]
    },
    {
     "name": "stdout",
     "output_type": "stream",
     "text": [
      "(300/1272) Data: 0.028s | Batch: 0.364s | Total: 0:01:49 | ETA: 0:05:29 | Loss: 0.1942 | top1:  91.4112\n"
     ]
    },
    {
     "name": "stderr",
     "output_type": "stream",
     "text": [
      " 31%|████████████████████████▊                                                      | 400/1272 [02:22<04:53,  2.97it/s]"
     ]
    },
    {
     "name": "stdout",
     "output_type": "stream",
     "text": [
      "(400/1272) Data: 0.021s | Batch: 0.357s | Total: 0:02:22 | ETA: 0:04:54 | Loss: 0.1945 | top1:  91.4056\n"
     ]
    },
    {
     "name": "stderr",
     "output_type": "stream",
     "text": [
      " 39%|███████████████████████████████                                                | 500/1272 [02:56<04:20,  2.96it/s]"
     ]
    },
    {
     "name": "stdout",
     "output_type": "stream",
     "text": [
      "(500/1272) Data: 0.017s | Batch: 0.353s | Total: 0:02:56 | ETA: 0:04:22 | Loss: 0.1947 | top1:  91.3943\n"
     ]
    },
    {
     "name": "stderr",
     "output_type": "stream",
     "text": [
      " 47%|█████████████████████████████████████▎                                         | 600/1272 [03:30<03:47,  2.95it/s]"
     ]
    },
    {
     "name": "stdout",
     "output_type": "stream",
     "text": [
      "(600/1272) Data: 0.015s | Batch: 0.351s | Total: 0:03:30 | ETA: 0:03:48 | Loss: 0.1951 | top1:  91.3773\n"
     ]
    },
    {
     "name": "stderr",
     "output_type": "stream",
     "text": [
      " 55%|███████████████████████████████████████████▍                                   | 700/1272 [04:04<03:13,  2.95it/s]"
     ]
    },
    {
     "name": "stdout",
     "output_type": "stream",
     "text": [
      "(700/1272) Data: 0.013s | Batch: 0.349s | Total: 0:04:04 | ETA: 0:03:15 | Loss: 0.1954 | top1:  91.3606\n"
     ]
    },
    {
     "name": "stderr",
     "output_type": "stream",
     "text": [
      " 63%|█████████████████████████████████████████████████▋                             | 800/1272 [04:38<02:39,  2.96it/s]"
     ]
    },
    {
     "name": "stdout",
     "output_type": "stream",
     "text": [
      "(800/1272) Data: 0.011s | Batch: 0.348s | Total: 0:04:38 | ETA: 0:02:40 | Loss: 0.1955 | top1:  91.3547\n"
     ]
    },
    {
     "name": "stderr",
     "output_type": "stream",
     "text": [
      " 71%|███████████████████████████████████████████████████████▉                       | 900/1272 [05:11<02:05,  2.95it/s]"
     ]
    },
    {
     "name": "stdout",
     "output_type": "stream",
     "text": [
      "(900/1272) Data: 0.010s | Batch: 0.346s | Total: 0:05:11 | ETA: 0:02:07 | Loss: 0.1955 | top1:  91.3523\n"
     ]
    },
    {
     "name": "stderr",
     "output_type": "stream",
     "text": [
      " 79%|█████████████████████████████████████████████████████████████▎                | 1000/1272 [05:45<01:32,  2.96it/s]"
     ]
    },
    {
     "name": "stdout",
     "output_type": "stream",
     "text": [
      "(1000/1272) Data: 0.009s | Batch: 0.346s | Total: 0:05:45 | ETA: 0:01:33 | Loss: 0.1957 | top1:  91.3448\n"
     ]
    },
    {
     "name": "stderr",
     "output_type": "stream",
     "text": [
      " 86%|███████████████████████████████████████████████████████████████████▍          | 1100/1272 [06:19<00:58,  2.95it/s]"
     ]
    },
    {
     "name": "stdout",
     "output_type": "stream",
     "text": [
      "(1100/1272) Data: 0.009s | Batch: 0.345s | Total: 0:06:19 | ETA: 0:00:59 | Loss: 0.1957 | top1:  91.3429\n"
     ]
    },
    {
     "name": "stderr",
     "output_type": "stream",
     "text": [
      " 94%|█████████████████████████████████████████████████████████████████████████▌    | 1200/1272 [06:53<00:24,  2.97it/s]"
     ]
    },
    {
     "name": "stdout",
     "output_type": "stream",
     "text": [
      "(1200/1272) Data: 0.008s | Batch: 0.344s | Total: 0:06:53 | ETA: 0:00:25 | Loss: 0.1958 | top1:  91.3398\n"
     ]
    },
    {
     "name": "stderr",
     "output_type": "stream",
     "text": [
      "100%|██████████████████████████████████████████████████████████████████████████████| 1272/1272 [07:18<00:00,  2.90it/s]\n",
      "100%|████████████████████████████████████████████████████████████████████████████████| 156/156 [00:25<00:00,  6.22it/s]\n"
     ]
    },
    {
     "name": "stdout",
     "output_type": "stream",
     "text": [
      "=> saving checkpoint 'checkpoints\\checkpoint.pth.tar'\n",
      "=> saving best model 'checkpoints\\model_best.pth.tar'\n"
     ]
    },
    {
     "name": "stderr",
     "output_type": "stream",
     "text": [
      "  0%|                                                                                         | 0/1272 [00:00<?, ?it/s]"
     ]
    },
    {
     "name": "stdout",
     "output_type": "stream",
     "text": [
      "\n",
      "Epoch: [27 | 60] LR: 0.100000\n"
     ]
    },
    {
     "name": "stderr",
     "output_type": "stream",
     "text": [
      "  8%|██████▏                                                                        | 100/1272 [00:41<06:36,  2.96it/s]"
     ]
    },
    {
     "name": "stdout",
     "output_type": "stream",
     "text": [
      "(100/1272) Data: 0.083s | Batch: 0.418s | Total: 0:00:41 | ETA: 0:06:35 | Loss: 0.1939 | top1:  91.3937\n"
     ]
    },
    {
     "name": "stderr",
     "output_type": "stream",
     "text": [
      " 16%|████████████▍                                                                  | 200/1272 [01:15<05:58,  2.99it/s]"
     ]
    },
    {
     "name": "stdout",
     "output_type": "stream",
     "text": [
      "(200/1272) Data: 0.042s | Batch: 0.377s | Total: 0:01:15 | ETA: 0:06:01 | Loss: 0.1935 | top1:  91.4115\n"
     ]
    },
    {
     "name": "stderr",
     "output_type": "stream",
     "text": [
      " 24%|██████████████████▋                                                            | 300/1272 [01:48<05:27,  2.97it/s]"
     ]
    },
    {
     "name": "stdout",
     "output_type": "stream",
     "text": [
      "(300/1272) Data: 0.028s | Batch: 0.363s | Total: 0:01:48 | ETA: 0:05:28 | Loss: 0.1937 | top1:  91.4191\n"
     ]
    },
    {
     "name": "stderr",
     "output_type": "stream",
     "text": [
      " 31%|████████████████████████▊                                                      | 400/1272 [02:22<04:54,  2.96it/s]"
     ]
    },
    {
     "name": "stdout",
     "output_type": "stream",
     "text": [
      "(400/1272) Data: 0.022s | Batch: 0.357s | Total: 0:02:22 | ETA: 0:04:55 | Loss: 0.1938 | top1:  91.4123\n"
     ]
    },
    {
     "name": "stderr",
     "output_type": "stream",
     "text": [
      " 39%|███████████████████████████████                                                | 500/1272 [02:56<04:19,  2.97it/s]"
     ]
    },
    {
     "name": "stdout",
     "output_type": "stream",
     "text": [
      "(500/1272) Data: 0.018s | Batch: 0.352s | Total: 0:02:56 | ETA: 0:04:20 | Loss: 0.1940 | top1:  91.4124\n"
     ]
    },
    {
     "name": "stderr",
     "output_type": "stream",
     "text": [
      " 47%|█████████████████████████████████████▎                                         | 600/1272 [03:29<03:45,  2.98it/s]"
     ]
    },
    {
     "name": "stdout",
     "output_type": "stream",
     "text": [
      "(600/1272) Data: 0.015s | Batch: 0.350s | Total: 0:03:29 | ETA: 0:03:47 | Loss: 0.1943 | top1:  91.4051\n"
     ]
    },
    {
     "name": "stderr",
     "output_type": "stream",
     "text": [
      " 55%|███████████████████████████████████████████▍                                   | 700/1272 [04:03<03:11,  2.99it/s]"
     ]
    },
    {
     "name": "stdout",
     "output_type": "stream",
     "text": [
      "(700/1272) Data: 0.013s | Batch: 0.348s | Total: 0:04:03 | ETA: 0:03:13 | Loss: 0.1944 | top1:  91.3972\n"
     ]
    },
    {
     "name": "stderr",
     "output_type": "stream",
     "text": [
      " 63%|█████████████████████████████████████████████████▋                             | 800/1272 [04:37<02:38,  2.98it/s]"
     ]
    },
    {
     "name": "stdout",
     "output_type": "stream",
     "text": [
      "(800/1272) Data: 0.011s | Batch: 0.346s | Total: 0:04:37 | ETA: 0:02:39 | Loss: 0.1946 | top1:  91.3916\n"
     ]
    },
    {
     "name": "stderr",
     "output_type": "stream",
     "text": [
      " 71%|███████████████████████████████████████████████████████▉                       | 900/1272 [05:10<02:05,  2.96it/s]"
     ]
    },
    {
     "name": "stdout",
     "output_type": "stream",
     "text": [
      "(900/1272) Data: 0.010s | Batch: 0.345s | Total: 0:05:10 | ETA: 0:02:06 | Loss: 0.1947 | top1:  91.3895\n"
     ]
    },
    {
     "name": "stderr",
     "output_type": "stream",
     "text": [
      " 79%|█████████████████████████████████████████████████████████████▎                | 1000/1272 [05:44<01:31,  2.97it/s]"
     ]
    },
    {
     "name": "stdout",
     "output_type": "stream",
     "text": [
      "(1000/1272) Data: 0.009s | Batch: 0.344s | Total: 0:05:44 | ETA: 0:01:32 | Loss: 0.1948 | top1:  91.3867\n"
     ]
    },
    {
     "name": "stderr",
     "output_type": "stream",
     "text": [
      " 86%|███████████████████████████████████████████████████████████████████▍          | 1100/1272 [06:17<00:58,  2.96it/s]"
     ]
    },
    {
     "name": "stdout",
     "output_type": "stream",
     "text": [
      "(1100/1272) Data: 0.009s | Batch: 0.344s | Total: 0:06:17 | ETA: 0:00:59 | Loss: 0.1948 | top1:  91.3855\n"
     ]
    },
    {
     "name": "stderr",
     "output_type": "stream",
     "text": [
      " 94%|█████████████████████████████████████████████████████████████████████████▌    | 1200/1272 [06:51<00:24,  2.97it/s]"
     ]
    },
    {
     "name": "stdout",
     "output_type": "stream",
     "text": [
      "(1200/1272) Data: 0.008s | Batch: 0.343s | Total: 0:06:51 | ETA: 0:00:25 | Loss: 0.1949 | top1:  91.3857\n"
     ]
    },
    {
     "name": "stderr",
     "output_type": "stream",
     "text": [
      "100%|██████████████████████████████████████████████████████████████████████████████| 1272/1272 [07:16<00:00,  2.91it/s]\n",
      "100%|████████████████████████████████████████████████████████████████████████████████| 156/156 [00:24<00:00,  6.25it/s]\n"
     ]
    },
    {
     "name": "stdout",
     "output_type": "stream",
     "text": [
      "=> saving checkpoint 'checkpoints\\checkpoint.pth.tar'\n"
     ]
    },
    {
     "name": "stderr",
     "output_type": "stream",
     "text": [
      "  0%|                                                                                         | 0/1272 [00:00<?, ?it/s]"
     ]
    },
    {
     "name": "stdout",
     "output_type": "stream",
     "text": [
      "\n",
      "Epoch: [28 | 60] LR: 0.100000\n"
     ]
    },
    {
     "name": "stderr",
     "output_type": "stream",
     "text": [
      "  8%|██████▏                                                                        | 100/1272 [00:41<06:35,  2.96it/s]"
     ]
    },
    {
     "name": "stdout",
     "output_type": "stream",
     "text": [
      "(100/1272) Data: 0.083s | Batch: 0.419s | Total: 0:00:41 | ETA: 0:06:37 | Loss: 0.1926 | top1:  91.5012\n"
     ]
    },
    {
     "name": "stderr",
     "output_type": "stream",
     "text": [
      " 16%|████████████▍                                                                  | 200/1272 [01:15<06:00,  2.97it/s]"
     ]
    },
    {
     "name": "stdout",
     "output_type": "stream",
     "text": [
      "(200/1272) Data: 0.042s | Batch: 0.378s | Total: 0:01:15 | ETA: 0:06:02 | Loss: 0.1928 | top1:  91.4938\n"
     ]
    },
    {
     "name": "stderr",
     "output_type": "stream",
     "text": [
      " 24%|██████████████████▋                                                            | 300/1272 [01:49<05:29,  2.95it/s]"
     ]
    },
    {
     "name": "stdout",
     "output_type": "stream",
     "text": [
      "(300/1272) Data: 0.029s | Batch: 0.364s | Total: 0:01:49 | ETA: 0:05:28 | Loss: 0.1934 | top1:  91.4769\n"
     ]
    },
    {
     "name": "stderr",
     "output_type": "stream",
     "text": [
      " 31%|████████████████████████▊                                                      | 400/1272 [02:23<04:52,  2.98it/s]"
     ]
    },
    {
     "name": "stdout",
     "output_type": "stream",
     "text": [
      "(400/1272) Data: 0.022s | Batch: 0.358s | Total: 0:02:23 | ETA: 0:04:55 | Loss: 0.1934 | top1:  91.4680\n"
     ]
    },
    {
     "name": "stderr",
     "output_type": "stream",
     "text": [
      " 39%|███████████████████████████████                                                | 500/1272 [02:56<04:20,  2.96it/s]"
     ]
    },
    {
     "name": "stdout",
     "output_type": "stream",
     "text": [
      "(500/1272) Data: 0.018s | Batch: 0.354s | Total: 0:02:56 | ETA: 0:04:22 | Loss: 0.1937 | top1:  91.4461\n"
     ]
    },
    {
     "name": "stderr",
     "output_type": "stream",
     "text": [
      " 47%|█████████████████████████████████████▎                                         | 600/1272 [03:30<03:47,  2.96it/s]"
     ]
    },
    {
     "name": "stdout",
     "output_type": "stream",
     "text": [
      "(600/1272) Data: 0.015s | Batch: 0.351s | Total: 0:03:30 | ETA: 0:03:49 | Loss: 0.1938 | top1:  91.4401\n"
     ]
    },
    {
     "name": "stderr",
     "output_type": "stream",
     "text": [
      " 55%|███████████████████████████████████████████▍                                   | 700/1272 [04:04<03:14,  2.95it/s]"
     ]
    },
    {
     "name": "stdout",
     "output_type": "stream",
     "text": [
      "(700/1272) Data: 0.013s | Batch: 0.349s | Total: 0:04:04 | ETA: 0:03:14 | Loss: 0.1939 | top1:  91.4364\n"
     ]
    },
    {
     "name": "stderr",
     "output_type": "stream",
     "text": [
      " 63%|█████████████████████████████████████████████████▋                             | 800/1272 [04:38<02:38,  2.98it/s]"
     ]
    },
    {
     "name": "stdout",
     "output_type": "stream",
     "text": [
      "(800/1272) Data: 0.012s | Batch: 0.348s | Total: 0:04:38 | ETA: 0:02:40 | Loss: 0.1942 | top1:  91.4221\n"
     ]
    },
    {
     "name": "stderr",
     "output_type": "stream",
     "text": [
      " 71%|███████████████████████████████████████████████████████▉                       | 900/1272 [05:12<02:05,  2.97it/s]"
     ]
    },
    {
     "name": "stdout",
     "output_type": "stream",
     "text": [
      "(900/1272) Data: 0.010s | Batch: 0.347s | Total: 0:05:12 | ETA: 0:02:06 | Loss: 0.1942 | top1:  91.4204\n"
     ]
    },
    {
     "name": "stderr",
     "output_type": "stream",
     "text": [
      " 79%|█████████████████████████████████████████████████████████████▎                | 1000/1272 [05:45<01:32,  2.96it/s]"
     ]
    },
    {
     "name": "stdout",
     "output_type": "stream",
     "text": [
      "(1000/1272) Data: 0.010s | Batch: 0.346s | Total: 0:05:45 | ETA: 0:01:33 | Loss: 0.1942 | top1:  91.4197\n"
     ]
    },
    {
     "name": "stderr",
     "output_type": "stream",
     "text": [
      " 86%|███████████████████████████████████████████████████████████████████▍          | 1100/1272 [06:19<00:58,  2.96it/s]"
     ]
    },
    {
     "name": "stdout",
     "output_type": "stream",
     "text": [
      "(1100/1272) Data: 0.009s | Batch: 0.345s | Total: 0:06:19 | ETA: 0:00:59 | Loss: 0.1944 | top1:  91.4133\n"
     ]
    },
    {
     "name": "stderr",
     "output_type": "stream",
     "text": [
      " 94%|█████████████████████████████████████████████████████████████████████████▌    | 1200/1272 [06:53<00:24,  2.96it/s]"
     ]
    },
    {
     "name": "stdout",
     "output_type": "stream",
     "text": [
      "(1200/1272) Data: 0.008s | Batch: 0.345s | Total: 0:06:53 | ETA: 0:00:25 | Loss: 0.1947 | top1:  91.3993\n"
     ]
    },
    {
     "name": "stderr",
     "output_type": "stream",
     "text": [
      "100%|██████████████████████████████████████████████████████████████████████████████| 1272/1272 [07:18<00:00,  2.90it/s]\n",
      "100%|████████████████████████████████████████████████████████████████████████████████| 156/156 [00:24<00:00,  6.29it/s]\n"
     ]
    },
    {
     "name": "stdout",
     "output_type": "stream",
     "text": [
      "=> saving checkpoint 'checkpoints\\checkpoint.pth.tar'\n"
     ]
    },
    {
     "name": "stderr",
     "output_type": "stream",
     "text": [
      "  0%|                                                                                         | 0/1272 [00:00<?, ?it/s]"
     ]
    },
    {
     "name": "stdout",
     "output_type": "stream",
     "text": [
      "\n",
      "Epoch: [29 | 60] LR: 0.100000\n"
     ]
    },
    {
     "name": "stderr",
     "output_type": "stream",
     "text": [
      "  8%|██████▏                                                                        | 100/1272 [00:41<06:32,  2.99it/s]"
     ]
    },
    {
     "name": "stdout",
     "output_type": "stream",
     "text": [
      "(100/1272) Data: 0.083s | Batch: 0.416s | Total: 0:00:41 | ETA: 0:06:33 | Loss: 0.1919 | top1:  91.5158\n"
     ]
    },
    {
     "name": "stderr",
     "output_type": "stream",
     "text": [
      " 16%|████████████▍                                                                  | 200/1272 [01:15<06:00,  2.97it/s]"
     ]
    },
    {
     "name": "stdout",
     "output_type": "stream",
     "text": [
      "(200/1272) Data: 0.042s | Batch: 0.375s | Total: 0:01:15 | ETA: 0:06:01 | Loss: 0.1922 | top1:  91.5209\n"
     ]
    },
    {
     "name": "stderr",
     "output_type": "stream",
     "text": [
      " 24%|██████████████████▋                                                            | 300/1272 [01:48<05:24,  2.99it/s]"
     ]
    },
    {
     "name": "stdout",
     "output_type": "stream",
     "text": [
      "(300/1272) Data: 0.028s | Batch: 0.362s | Total: 0:01:48 | ETA: 0:05:25 | Loss: 0.1927 | top1:  91.4751\n"
     ]
    },
    {
     "name": "stderr",
     "output_type": "stream",
     "text": [
      " 31%|████████████████████████▊                                                      | 400/1272 [02:22<04:52,  2.98it/s]"
     ]
    },
    {
     "name": "stdout",
     "output_type": "stream",
     "text": [
      "(400/1272) Data: 0.022s | Batch: 0.355s | Total: 0:02:22 | ETA: 0:04:53 | Loss: 0.1929 | top1:  91.4594\n"
     ]
    },
    {
     "name": "stderr",
     "output_type": "stream",
     "text": [
      " 39%|███████████████████████████████                                                | 500/1272 [02:55<04:19,  2.97it/s]"
     ]
    },
    {
     "name": "stdout",
     "output_type": "stream",
     "text": [
      "(500/1272) Data: 0.018s | Batch: 0.351s | Total: 0:02:55 | ETA: 0:04:20 | Loss: 0.1932 | top1:  91.4521\n"
     ]
    },
    {
     "name": "stderr",
     "output_type": "stream",
     "text": [
      " 47%|█████████████████████████████████████▎                                         | 600/1272 [03:29<03:48,  2.93it/s]"
     ]
    },
    {
     "name": "stdout",
     "output_type": "stream",
     "text": [
      "(600/1272) Data: 0.015s | Batch: 0.350s | Total: 0:03:29 | ETA: 0:03:51 | Loss: 0.1935 | top1:  91.4459\n"
     ]
    },
    {
     "name": "stderr",
     "output_type": "stream",
     "text": [
      " 55%|███████████████████████████████████████████▍                                   | 700/1272 [04:03<03:18,  2.88it/s]"
     ]
    },
    {
     "name": "stdout",
     "output_type": "stream",
     "text": [
      "(700/1272) Data: 0.013s | Batch: 0.349s | Total: 0:04:03 | ETA: 0:03:22 | Loss: 0.1935 | top1:  91.4465\n"
     ]
    },
    {
     "name": "stderr",
     "output_type": "stream",
     "text": [
      " 63%|█████████████████████████████████████████████████▋                             | 800/1272 [04:39<03:01,  2.61it/s]"
     ]
    },
    {
     "name": "stdout",
     "output_type": "stream",
     "text": [
      "(800/1272) Data: 0.012s | Batch: 0.350s | Total: 0:04:39 | ETA: 0:02:58 | Loss: 0.1936 | top1:  91.4456\n"
     ]
    },
    {
     "name": "stderr",
     "output_type": "stream",
     "text": [
      " 71%|███████████████████████████████████████████████████████▋                       | 897/1272 [05:16<02:12,  2.83it/s]\n"
     ]
    },
    {
     "ename": "KeyboardInterrupt",
     "evalue": "",
     "output_type": "error",
     "traceback": [
      "\u001b[1;31m---------------------------------------------------------------------------\u001b[0m",
      "\u001b[1;31mKeyboardInterrupt\u001b[0m                         Traceback (most recent call last)",
      "\u001b[1;32m<ipython-input-18-bd94264c300e>\u001b[0m in \u001b[0;36m<module>\u001b[1;34m\u001b[0m\n\u001b[0;32m     17\u001b[0m     \u001b[0mbest_prec1\u001b[0m\u001b[1;33m,\u001b[0m \u001b[0mstart_epoch\u001b[0m\u001b[1;33m,\u001b[0m \u001b[0mlogger\u001b[0m \u001b[1;33m=\u001b[0m \u001b[0mresume_checkpoint\u001b[0m\u001b[1;33m(\u001b[0m\u001b[0mmodel\u001b[0m\u001b[1;33m,\u001b[0m \u001b[0moptimizer\u001b[0m\u001b[1;33m,\u001b[0m \u001b[0mconfig\u001b[0m\u001b[1;33m.\u001b[0m\u001b[0mckp_logger_fname\u001b[0m\u001b[1;33m,\u001b[0m \u001b[0mconfig\u001b[0m\u001b[1;33m.\u001b[0m\u001b[0mckp_resume\u001b[0m\u001b[1;33m)\u001b[0m\u001b[1;33m\u001b[0m\u001b[1;33m\u001b[0m\u001b[0m\n\u001b[0;32m     18\u001b[0m     \u001b[0mrun_name\u001b[0m \u001b[1;33m=\u001b[0m \u001b[0mget_run_name\u001b[0m\u001b[1;33m(\u001b[0m\u001b[0mmodel\u001b[0m\u001b[1;33m,\u001b[0m \u001b[0mcriterion\u001b[0m\u001b[1;33m,\u001b[0m \u001b[0moptimizer\u001b[0m\u001b[1;33m)\u001b[0m\u001b[1;33m\u001b[0m\u001b[1;33m\u001b[0m\u001b[0m\n\u001b[1;32m---> 19\u001b[1;33m     \u001b[0mtrainer\u001b[0m\u001b[1;33m(\u001b[0m\u001b[0mdataloaders\u001b[0m\u001b[1;33m,\u001b[0m \u001b[0mmodel\u001b[0m\u001b[1;33m,\u001b[0m \u001b[0mcriterion\u001b[0m\u001b[1;33m,\u001b[0m \u001b[0moptimizer\u001b[0m\u001b[1;33m,\u001b[0m \u001b[0mlogger\u001b[0m\u001b[1;33m,\u001b[0m \u001b[0mstart_epoch\u001b[0m\u001b[1;33m,\u001b[0m \u001b[0mbest_prec1\u001b[0m\u001b[1;33m,\u001b[0m \u001b[0mrun_name\u001b[0m\u001b[1;33m)\u001b[0m\u001b[1;33m\u001b[0m\u001b[1;33m\u001b[0m\u001b[0m\n\u001b[0m\u001b[0;32m     20\u001b[0m \u001b[0mend_time\u001b[0m \u001b[1;33m=\u001b[0m \u001b[0mtime\u001b[0m\u001b[1;33m.\u001b[0m\u001b[0mtime\u001b[0m\u001b[1;33m(\u001b[0m\u001b[1;33m)\u001b[0m\u001b[1;33m\u001b[0m\u001b[1;33m\u001b[0m\u001b[0m\n\u001b[0;32m     21\u001b[0m \u001b[0mtime_taken\u001b[0m \u001b[1;33m=\u001b[0m \u001b[0mtime\u001b[0m\u001b[1;33m.\u001b[0m\u001b[0mstrftime\u001b[0m\u001b[1;33m(\u001b[0m\u001b[1;34m\"%H:%M:%S\"\u001b[0m\u001b[1;33m,\u001b[0m \u001b[0mtime\u001b[0m\u001b[1;33m.\u001b[0m\u001b[0mgmtime\u001b[0m\u001b[1;33m(\u001b[0m\u001b[0mend_time\u001b[0m \u001b[1;33m-\u001b[0m \u001b[0mstart_time\u001b[0m\u001b[1;33m)\u001b[0m\u001b[1;33m)\u001b[0m\u001b[1;33m\u001b[0m\u001b[1;33m\u001b[0m\u001b[0m\n",
      "\u001b[1;32m<ipython-input-16-fa145ed55ab1>\u001b[0m in \u001b[0;36mtrainer\u001b[1;34m(dataloaders, model, criterion, optimizer, logger, start_epoch, best_prec1, run_name)\u001b[0m\n\u001b[0;32m     11\u001b[0m \u001b[1;33m\u001b[0m\u001b[0m\n\u001b[0;32m     12\u001b[0m         \u001b[1;31m# train for one epoch\u001b[0m\u001b[1;33m\u001b[0m\u001b[1;33m\u001b[0m\u001b[1;33m\u001b[0m\u001b[0m\n\u001b[1;32m---> 13\u001b[1;33m         \u001b[0mtrain_loss\u001b[0m\u001b[1;33m,\u001b[0m \u001b[0mtrain_acc\u001b[0m \u001b[1;33m=\u001b[0m \u001b[0mtrain\u001b[0m\u001b[1;33m(\u001b[0m\u001b[0mdataloaders\u001b[0m\u001b[1;33m[\u001b[0m\u001b[1;34m'train'\u001b[0m\u001b[1;33m]\u001b[0m\u001b[1;33m,\u001b[0m \u001b[0mmodel\u001b[0m\u001b[1;33m,\u001b[0m \u001b[0mcriterion\u001b[0m\u001b[1;33m,\u001b[0m \u001b[0moptimizer\u001b[0m\u001b[1;33m)\u001b[0m\u001b[1;33m\u001b[0m\u001b[1;33m\u001b[0m\u001b[0m\n\u001b[0m\u001b[0;32m     14\u001b[0m \u001b[1;33m\u001b[0m\u001b[0m\n\u001b[0;32m     15\u001b[0m         \u001b[1;31m# evaluate on validation set\u001b[0m\u001b[1;33m\u001b[0m\u001b[1;33m\u001b[0m\u001b[1;33m\u001b[0m\u001b[0m\n",
      "\u001b[1;32m<ipython-input-14-6ebbc9b90e37>\u001b[0m in \u001b[0;36mtrain\u001b[1;34m(train_loader, model, criterion, optimizer)\u001b[0m\n\u001b[0;32m     28\u001b[0m             \u001b[0mprec1\u001b[0m\u001b[1;33m.\u001b[0m\u001b[0mappend\u001b[0m\u001b[1;33m(\u001b[0m\u001b[0maccuracy\u001b[0m\u001b[1;33m(\u001b[0m\u001b[0moutput\u001b[0m\u001b[1;33m[\u001b[0m\u001b[0mj\u001b[0m\u001b[1;33m]\u001b[0m\u001b[1;33m,\u001b[0m \u001b[0my\u001b[0m\u001b[1;33m[\u001b[0m\u001b[1;33m:\u001b[0m\u001b[1;33m,\u001b[0m \u001b[0mj\u001b[0m\u001b[1;33m]\u001b[0m\u001b[1;33m,\u001b[0m \u001b[0mtopk\u001b[0m\u001b[1;33m=\u001b[0m\u001b[1;33m(\u001b[0m\u001b[1;36m1\u001b[0m\u001b[1;33m,\u001b[0m\u001b[1;33m)\u001b[0m\u001b[1;33m)\u001b[0m\u001b[1;33m)\u001b[0m\u001b[1;33m\u001b[0m\u001b[1;33m\u001b[0m\u001b[0m\n\u001b[0;32m     29\u001b[0m \u001b[1;33m\u001b[0m\u001b[0m\n\u001b[1;32m---> 30\u001b[1;33m             \u001b[0mlosses\u001b[0m\u001b[1;33m[\u001b[0m\u001b[0mj\u001b[0m\u001b[1;33m]\u001b[0m\u001b[1;33m.\u001b[0m\u001b[0mupdate\u001b[0m\u001b[1;33m(\u001b[0m\u001b[0mloss\u001b[0m\u001b[1;33m[\u001b[0m\u001b[0mj\u001b[0m\u001b[1;33m]\u001b[0m\u001b[1;33m.\u001b[0m\u001b[0mdetach\u001b[0m\u001b[1;33m(\u001b[0m\u001b[1;33m)\u001b[0m\u001b[1;33m.\u001b[0m\u001b[0mitem\u001b[0m\u001b[1;33m(\u001b[0m\u001b[1;33m)\u001b[0m\u001b[1;33m,\u001b[0m \u001b[0mX\u001b[0m\u001b[1;33m.\u001b[0m\u001b[0msize\u001b[0m\u001b[1;33m(\u001b[0m\u001b[1;36m0\u001b[0m\u001b[1;33m)\u001b[0m\u001b[1;33m)\u001b[0m\u001b[1;33m\u001b[0m\u001b[1;33m\u001b[0m\u001b[0m\n\u001b[0m\u001b[0;32m     31\u001b[0m             \u001b[0mtop1\u001b[0m\u001b[1;33m[\u001b[0m\u001b[0mj\u001b[0m\u001b[1;33m]\u001b[0m\u001b[1;33m.\u001b[0m\u001b[0mupdate\u001b[0m\u001b[1;33m(\u001b[0m\u001b[0mprec1\u001b[0m\u001b[1;33m[\u001b[0m\u001b[0mj\u001b[0m\u001b[1;33m]\u001b[0m\u001b[1;33m[\u001b[0m\u001b[1;36m0\u001b[0m\u001b[1;33m]\u001b[0m\u001b[1;33m.\u001b[0m\u001b[0mitem\u001b[0m\u001b[1;33m(\u001b[0m\u001b[1;33m)\u001b[0m\u001b[1;33m,\u001b[0m \u001b[0mX\u001b[0m\u001b[1;33m.\u001b[0m\u001b[0msize\u001b[0m\u001b[1;33m(\u001b[0m\u001b[1;36m0\u001b[0m\u001b[1;33m)\u001b[0m\u001b[1;33m)\u001b[0m\u001b[1;33m\u001b[0m\u001b[1;33m\u001b[0m\u001b[0m\n\u001b[0;32m     32\u001b[0m \u001b[1;33m\u001b[0m\u001b[0m\n",
      "\u001b[1;31mKeyboardInterrupt\u001b[0m: "
     ]
    }
   ],
   "source": [
    "# config.epoch = 1\n",
    "start_time = time.time()\n",
    "model = create_model(device)\n",
    "dataloaders, attribute_names  = load_dataloaders()\n",
    "criterion = nn.CrossEntropyLoss().to(device)\n",
    "# print(criterion)\n",
    "optimizer = torch.optim.SGD(model.parameters(), config.lr,\n",
    "                            momentum=config.momentum,\n",
    "                            weight_decay=config.weight_decay)\n",
    "# print(optimizer)\n",
    "if config.evaluate:\n",
    "    best_prec1, _, _ = resume_checkpoint(model, optimizer, config.ckp_logger_fname, config.bestmodel_fname)\n",
    "    test_loss, prec1, top1 = validate(dataloaders['test'], model, criterion)\n",
    "    print(f\"=> Best test accuracy: {prec1}, Model val acc: {best_prec1}\")\n",
    "    print_attribute_acc(top1, attribute_names)\n",
    "else:\n",
    "    best_prec1, start_epoch, logger = resume_checkpoint(model, optimizer, config.ckp_logger_fname, config.ckp_resume)\n",
    "    run_name = get_run_name(model, criterion, optimizer)\n",
    "    trainer(dataloaders, model, criterion, optimizer, logger, start_epoch, best_prec1, run_name)\n",
    "end_time = time.time()\n",
    "time_taken = time.strftime(\"%H:%M:%S\", time.gmtime(end_time - start_time))\n",
    "print(f\"total time taken: {time_taken}\")"
   ]
  },
  {
   "cell_type": "code",
   "execution_count": null,
   "metadata": {},
   "outputs": [],
   "source": [
    "# reset_gpu_cache(model,optimizer,criterion, device)"
   ]
  },
  {
   "cell_type": "code",
   "execution_count": null,
   "metadata": {},
   "outputs": [],
   "source": [
    "config.evaluate = True\n",
    "model = create_model(device)\n",
    "dataloaders, attribute_names = load_dataloaders()\n",
    "criterion = nn.CrossEntropyLoss().to(device)\n",
    "best_prec1, start_epoch, logger = resume_checkpoint(model, optimizer, config.ckp_logger_fname, config.checkpoint_fname)# config.bestmodel_fname)\n",
    "\n",
    "test_loss, prec1, top1 = validate(dataloaders['test'], model, criterion)\n",
    "print(f\"=> Best test accuracy: {prec1}, Model val acc: {best_prec1}\")\n",
    "print_attribute_acc(top1, attribute_names)"
   ]
  },
  {
   "cell_type": "code",
   "execution_count": null,
   "metadata": {},
   "outputs": [],
   "source": [
    "%autosave 1"
   ]
  },
  {
   "cell_type": "code",
   "execution_count": null,
   "metadata": {},
   "outputs": [],
   "source": [
    "# %autosave 120\n",
    "time.sleep(150)\n",
    "%autosave 120"
   ]
  },
  {
   "cell_type": "code",
   "execution_count": null,
   "metadata": {},
   "outputs": [],
   "source": [
    "from datetime import datetime\n",
    "currentDT = datetime.now().strftime(\"%Y%m%d_%H%M%S\")\n",
    "print (currentDT)\n",
    "nb_name = title + '.ipynb'\n",
    "html_name = title + '.html'\n",
    "save_name = currentDT + '_' + html_name\n",
    "!jupyter nbconvert --to html $nb_name\n",
    "!move $html_name $save_name"
   ]
  },
  {
   "cell_type": "code",
   "execution_count": null,
   "metadata": {},
   "outputs": [],
   "source": [
    "os.system('shutdown -h')"
   ]
  }
 ],
 "metadata": {
  "colab": {
   "authorship_tag": "ABX9TyOYWQroywTLOsSvW/4lPmBg",
   "collapsed_sections": [],
   "name": "ai6126-project1-colab-v0.1.ipynb",
   "provenance": [],
   "toc_visible": true
  },
  "kernelspec": {
   "display_name": "Python 3",
   "language": "python",
   "name": "python3"
  },
  "language_info": {
   "codemirror_mode": {
    "name": "ipython",
    "version": 3
   },
   "file_extension": ".py",
   "mimetype": "text/x-python",
   "name": "python",
   "nbconvert_exporter": "python",
   "pygments_lexer": "ipython3",
   "version": "3.8.5"
  }
 },
 "nbformat": 4,
 "nbformat_minor": 4
}
