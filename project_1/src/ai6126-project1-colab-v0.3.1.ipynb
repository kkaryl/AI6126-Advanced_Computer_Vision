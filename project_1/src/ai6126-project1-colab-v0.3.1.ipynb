{
 "cells": [
  {
   "cell_type": "markdown",
   "metadata": {
    "id": "UVAZt6s-Fu41"
   },
   "source": [
    "# AI6126 ACV Project 1\n"
   ]
  },
  {
   "cell_type": "code",
   "execution_count": 1,
   "metadata": {
    "executionInfo": {
     "elapsed": 1038,
     "status": "ok",
     "timestamp": 1601175331072,
     "user": {
      "displayName": "Jia Hui Ong",
      "photoUrl": "https://lh3.googleusercontent.com/a-/AOh14GiKvHQmYQfzydylrU8HXZxYxJP3L6kGAQ94P-sS=s64",
      "userId": "05957301376516334331"
     },
     "user_tz": -480
    },
    "id": "jzjCg15BeR43"
   },
   "outputs": [
    {
     "name": "stdout",
     "output_type": "stream",
     "text": [
      "ai6126-project1-colab-v0.3\n"
     ]
    }
   ],
   "source": [
    "nb_ver = 0.3\n",
    "title = f'ai6126-project1-colab-v{nb_ver}'\n",
    "print(title)"
   ]
  },
  {
   "cell_type": "markdown",
   "metadata": {},
   "source": [
    "## Versioning & References"
   ]
  },
  {
   "cell_type": "markdown",
   "metadata": {
    "id": "4c2s81g4d5PE"
   },
   "source": [
    "### Changelogs\n",
    "+ V0.1 - Setup codes to download and unzip celeba to gDrive\n",
    "+ V0.2 - Added training loop \n",
    "+ V0.3 - Added seeding + save/ load checkpoint\n",
    "+ V0.4 - Added time taken + save output"
   ]
  },
  {
   "cell_type": "markdown",
   "metadata": {},
   "source": [
    "### References\n",
    "+ [PyTorch Transfer Learning](https://pytorch.org/tutorials/beginner/transfer_learning_tutorial.html)\n",
    "+ [TWD fast.ai](https://towardsdatascience.com/real-time-multi-facial-attribute-detection-using-transfer-learning-and-haar-cascades-with-fastai-47ff59e36df0)"
   ]
  },
  {
   "cell_type": "markdown",
   "metadata": {
    "id": "UmjjrIheF0u5"
   },
   "source": [
    "## Setup/ Configuration"
   ]
  },
  {
   "cell_type": "markdown",
   "metadata": {},
   "source": [
    "### Colab"
   ]
  },
  {
   "cell_type": "code",
   "execution_count": 2,
   "metadata": {
    "colab": {
     "base_uri": "https://localhost:8080/",
     "height": 282
    },
    "executionInfo": {
     "elapsed": 4455,
     "status": "error",
     "timestamp": 1601175336681,
     "user": {
      "displayName": "Jia Hui Ong",
      "photoUrl": "https://lh3.googleusercontent.com/a-/AOh14GiKvHQmYQfzydylrU8HXZxYxJP3L6kGAQ94P-sS=s64",
      "userId": "05957301376516334331"
     },
     "user_tz": -480
    },
    "id": "7mTWwwivDNy3",
    "outputId": "9f87be63-e615-42bf-b306-8a2ec7e2458d"
   },
   "outputs": [],
   "source": [
    "# you can choose to mount your Google Drive (optional)\n",
    "import sys, os\n",
    "if 'google.colab' in sys.modules:\n",
    "    from google.colab import drive\n",
    "    drive.mount('/content/drive')\n",
    "    file_name = f'ai6126-project1-colab-v{nb_ver}.ipynb'\n",
    "    print(file_name)\n",
    "    import subprocess\n",
    "    path_to_file = subprocess.check_output('find . -type f -name ' + str(file_name), shell=True).decode(\"utf-8\")\n",
    "    print(path_to_file)\n",
    "    path_to_file = path_to_file.replace(file_name,\"\").replace('\\n',\"\")\n",
    "    os.chdir(path_to_file)\n",
    "    !pwd"
   ]
  },
  {
   "cell_type": "code",
   "execution_count": 3,
   "metadata": {
    "colab": {
     "base_uri": "https://localhost:8080/",
     "height": 170
    },
    "executionInfo": {
     "elapsed": 4089,
     "status": "ok",
     "timestamp": 1601174827944,
     "user": {
      "displayName": "Jia Hui Ong",
      "photoUrl": "https://lh3.googleusercontent.com/a-/AOh14GiKvHQmYQfzydylrU8HXZxYxJP3L6kGAQ94P-sS=s64",
      "userId": "05957301376516334331"
     },
     "user_tz": -480
    },
    "id": "x6grHtmwDexI",
    "outputId": "60e6ef2d-3b03-486f-e7cc-a87eaa29da82"
   },
   "outputs": [
    {
     "name": "stdout",
     "output_type": "stream",
     "text": [
      "nvcc: NVIDIA (R) Cuda compiler driver\n",
      "Copyright (c) 2005-2019 NVIDIA Corporation\n",
      "Built on Wed_Oct_23_19:32:27_Pacific_Daylight_Time_2019\n",
      "Cuda compilation tools, release 10.2, V10.2.89\n"
     ]
    },
    {
     "name": "stderr",
     "output_type": "stream",
     "text": [
      "'gcc' is not recognized as an internal or external command,\n",
      "operable program or batch file.\n"
     ]
    }
   ],
   "source": [
    "# check nvcc version\n",
    "!nvcc -V\n",
    "# check GCC version\n",
    "!gcc --version"
   ]
  },
  {
   "cell_type": "markdown",
   "metadata": {},
   "source": [
    "### Download Dataset"
   ]
  },
  {
   "cell_type": "code",
   "execution_count": 4,
   "metadata": {},
   "outputs": [
    {
     "name": "stdout",
     "output_type": "stream",
     "text": [
      "download celeba dataset: False\n"
     ]
    }
   ],
   "source": [
    "import os, glob\n",
    "local_download_path = '../data/celeba/img_align_celeba'\n",
    "download_dataset = True\n",
    "if os.path.exists(local_download_path):\n",
    "    images = glob.glob(local_download_path + '/*.jpg')\n",
    "    if len(images) == 202599:\n",
    "        download_dataset = False\n",
    "print(f\"download celeba dataset: {download_dataset}\")\n",
    "\n",
    "if download_dataset:\n",
    "    # create dataset root and enter it\n",
    "    !mkdir -p data/celeba\n",
    "    %cd data/celeba\n",
    "\n",
    "    # we have prepared a backup of `img_align_celeba.zip` of Celeb-A dataset in the Dropbox\n",
    "    # download it directly, or manually download the original file from Google Drive above\n",
    "    !wget https://www.dropbox.com/s/8kzo40fqx7nodat/img_align_celeba.zip\n",
    "\n",
    "    # unzip the downloaded file\n",
    "    !unzip -qq img_align_celeba.zip\n",
    "    !rm -f img_align_celeba.zip\n",
    "\n",
    "    # change the directory back to the root\n",
    "    %cd ../..\n",
    "    !ls"
   ]
  },
  {
   "cell_type": "markdown",
   "metadata": {},
   "source": [
    "## Implementation"
   ]
  },
  {
   "cell_type": "markdown",
   "metadata": {},
   "source": [
    "### Imports"
   ]
  },
  {
   "cell_type": "code",
   "execution_count": 5,
   "metadata": {
    "id": "tEkTpN_qDN5u"
   },
   "outputs": [],
   "source": [
    "import os\n",
    "import time\n",
    "import random\n",
    "import numpy as np\n",
    "import copy\n",
    "\n",
    "import torch\n",
    "import torch.nn as nn\n",
    "import torch.optim as optim\n",
    "from torch.optim import lr_scheduler\n",
    "import torchvision\n",
    "from torchvision import datasets, models, transforms\n",
    "from torch.utils.tensorboard import SummaryWriter\n",
    "\n",
    "from tqdm import tqdm\n",
    "import matplotlib.pyplot as plt\n",
    "# from torchsummary import summary \n",
    "\n",
    "import config\n",
    "from celeba_dataset import CelebaDataset\n",
    "import models\n",
    "from utils import Logger, AverageMeter, Bar, savefig, adjust_learning_rate, accuracy, reset_gpu_cache, print_attribute_acc"
   ]
  },
  {
   "cell_type": "code",
   "execution_count": 6,
   "metadata": {
    "id": "DCjPfxzUDN3Y"
   },
   "outputs": [
    {
     "name": "stdout",
     "output_type": "stream",
     "text": [
      "1.6.0 True\n",
      "cuda:0\n",
      "disable_tqdm: False\n"
     ]
    }
   ],
   "source": [
    "# set the backend of matplotlib to the 'inline' backend\n",
    "%matplotlib inline\n",
    "\n",
    "# check PyTorch version and cuda status\n",
    "print(torch.__version__, torch.cuda.is_available())\n",
    "\n",
    "# define device\n",
    "device = torch.device(\"cuda:\"+config.gpu_id if torch.cuda.is_available() else \"cpu\")\n",
    "print(device)\n",
    "\n",
    "if 'ipykernel' in sys.modules:\n",
    "    config.disable_tqdm = False\n",
    "print(f\"disable_tqdm: {config.disable_tqdm}\")"
   ]
  },
  {
   "cell_type": "markdown",
   "metadata": {
    "collapsed": "true"
   },
   "source": [
    "### Seeding"
   ]
  },
  {
   "cell_type": "code",
   "execution_count": 7,
   "metadata": {
    "colab": {
     "base_uri": "https://localhost:8080/",
     "height": 68
    },
    "executionInfo": {
     "elapsed": 4483,
     "status": "ok",
     "timestamp": 1601174828368,
     "user": {
      "displayName": "Jia Hui Ong",
      "photoUrl": "https://lh3.googleusercontent.com/a-/AOh14GiKvHQmYQfzydylrU8HXZxYxJP3L6kGAQ94P-sS=s64",
      "userId": "05957301376516334331"
     },
     "user_tz": -480
    },
    "id": "9Te1EuMyDN7-",
    "outputId": "e1a9321b-0c11-476e-dea5-57b3fa33f732"
   },
   "outputs": [],
   "source": [
    "# set random seed for reproducibility\n",
    "def seed_everything(seed=None):\n",
    "    if seed is None:\n",
    "        seed = random.randint(1, 10000) # create random seed\n",
    "        print(f'random seed used: {seed}')\n",
    "    os.environ['PYTHONHASHSEED'] = str(seed)\n",
    "    random.seed(seed)\n",
    "    np.random.seed(seed)\n",
    "    if 'torch' in sys.modules:\n",
    "        torch.manual_seed(seed)\n",
    "        torch.cuda.manual_seed_all(seed)\n",
    "        torch.backends.cudnn.deterministic = True\n",
    "        torch.backends.cudnn.benchmark = True\n",
    "    \n",
    "seed_everything(seed=config.manual_seed)"
   ]
  },
  {
   "cell_type": "markdown",
   "metadata": {
    "colab": {
     "base_uri": "https://localhost:8080/",
     "height": 34
    },
    "executionInfo": {
     "elapsed": 7867,
     "status": "ok",
     "timestamp": 1601174831763,
     "user": {
      "displayName": "Jia Hui Ong",
      "photoUrl": "https://lh3.googleusercontent.com/a-/AOh14GiKvHQmYQfzydylrU8HXZxYxJP3L6kGAQ94P-sS=s64",
      "userId": "05957301376516334331"
     },
     "user_tz": -480
    },
    "id": "UeTJbZQ5b_ea",
    "outputId": "de5f0be8-65fe-4648-e719-ff92f2642235",
    "pycharm": {
     "is_executing": true
    }
   },
   "source": [
    "### Data Transform"
   ]
  },
  {
   "cell_type": "code",
   "execution_count": 8,
   "metadata": {},
   "outputs": [
    {
     "name": "stdout",
     "output_type": "stream",
     "text": [
      "\n"
     ]
    }
   ],
   "source": [
    "attribute_names = ['5_o_Clock_Shadow', 'Arched_Eyebrows', 'Attractive', 'Bags_Under_Eyes', 'Bald', \n",
    "                   'Bangs', 'Big_Lips', 'Big_Nose', 'Black_Hair', 'Blond_Hair', 'Blurry', 'Brown_Hair', \n",
    "                   'Bushy_Eyebrows', 'Chubby', 'Double_Chin', 'Eyeglasses', 'Goatee', 'Gray_Hair',\n",
    "                   'Heavy_Makeup', 'High_Cheekbones', 'Male', 'Mouth_Slightly_Open', 'Mustache', \n",
    "                   'Narrow_Eyes', 'No_Beard', 'Oval_Face', 'Pale_Skin', 'Pointy_Nose', 'Receding_Hairline',\n",
    "                   'Rosy_Cheeks', 'Sideburns', 'Smiling', 'Straight_Hair', 'Wavy_Hair', 'Wearing_Earrings', \n",
    "                   'Wearing_Hat', 'Wearing_Lipstick', 'Wearing_Necklace', 'Wearing_Necktie', 'Young']\n",
    "print()"
   ]
  },
  {
   "cell_type": "code",
   "execution_count": 9,
   "metadata": {
    "pycharm": {
     "is_executing": true
    }
   },
   "outputs": [],
   "source": [
    "# Data augmentation and normalization for training\n",
    "# Just normalization for validation and testing\n",
    "\n",
    "def load_dataloaders(print_info=True):\n",
    "    normalize = transforms.Normalize(mean=[0.485, 0.456, 0.406],\n",
    "                                     std=[0.229, 0.224, 0.225])\n",
    "    if config.evaluate:\n",
    "        phases = ['test']\n",
    "    else:\n",
    "        phases = ['train', 'val']\n",
    "\n",
    "    attribute_names = ['5_o_Clock_Shadow', 'Arched_Eyebrows', 'Attractive', 'Bags_Under_Eyes', 'Bald', \n",
    "                       'Bangs', 'Big_Lips', 'Big_Nose', 'Black_Hair', 'Blond_Hair', 'Blurry', 'Brown_Hair', \n",
    "                       'Bushy_Eyebrows', 'Chubby', 'Double_Chin', 'Eyeglasses', 'Goatee', 'Gray_Hair',\n",
    "                       'Heavy_Makeup', 'High_Cheekbones', 'Male', 'Mouth_Slightly_Open', 'Mustache', \n",
    "                       'Narrow_Eyes', 'No_Beard', 'Oval_Face', 'Pale_Skin', 'Pointy_Nose', 'Receding_Hairline',\n",
    "                       'Rosy_Cheeks', 'Sideburns', 'Smiling', 'Straight_Hair', 'Wavy_Hair', 'Wearing_Earrings', \n",
    "                       'Wearing_Hat', 'Wearing_Lipstick', 'Wearing_Necklace', 'Wearing_Necktie', 'Young']\n",
    "    \n",
    "    attributes_list = {\n",
    "        'train': config.TRAIN_ATTRIBUTE_LIST,\n",
    "        'val': config.VAL_ATTRIBUTE_LIST,\n",
    "        'test': config.TEST_ATTRIBUTE_LIST\n",
    "    }\n",
    "\n",
    "    batch_sizes = {\n",
    "        'train': config.train_batch,\n",
    "        'val': config.test_batch,\n",
    "        'test': config.test_batch\n",
    "    }\n",
    "\n",
    "    data_transforms = {\n",
    "        'train': transforms.Compose([\n",
    "            transforms.RandomHorizontalFlip(p=0.5),\n",
    "            transforms.ToTensor(),\n",
    "            normalize\n",
    "        ]),\n",
    "        'val': transforms.Compose([\n",
    "            transforms.ToTensor(),\n",
    "            normalize\n",
    "        ]),\n",
    "        'test': transforms.Compose([\n",
    "            transforms.ToTensor(),\n",
    "            normalize\n",
    "        ])\n",
    "    }\n",
    "\n",
    "    image_datasets = {x: CelebaDataset(config.IMG_DIR, attributes_list[x], \n",
    "                                       data_transforms[x]) \n",
    "                      for x in phases}\n",
    "    dataloaders = {x: torch.utils.data.DataLoader(image_datasets[x], \n",
    "                                                  batch_size=batch_sizes[x],\n",
    "                                                  pin_memory=True, shuffle=(x == 'train'), \n",
    "                                                  num_workers=config.dl_workers) \n",
    "                   for x in phases}\n",
    "    if print_info:\n",
    "        dataset_sizes = {x: len(image_datasets[x]) for x in phases}\n",
    "        print(f\"Dataset sizes: {dataset_sizes}\")\n",
    "        \n",
    "    if config.evaluate:\n",
    "        class_names = image_datasets['test'].targets\n",
    "    else:\n",
    "        class_names = image_datasets['train'].targets\n",
    "    print(f\"Class Labels: {len(class_names[0])}\")\n",
    "    assert len(attribute_names) == len(class_names[0])\n",
    "    return dataloaders, attribute_names"
   ]
  },
  {
   "cell_type": "markdown",
   "metadata": {
    "id": "qtfDq7Z2F6Nh",
    "pycharm": {
     "is_executing": true
    }
   },
   "source": [
    "### Model Architecture Initialization"
   ]
  },
  {
   "cell_type": "code",
   "execution_count": 10,
   "metadata": {
    "pycharm": {
     "is_executing": true
    }
   },
   "outputs": [
    {
     "name": "stdout",
     "output_type": "stream",
     "text": [
      "Available Models: ['FaceAttrResNet']\n"
     ]
    }
   ],
   "source": [
    "model_names = sorted(name for name in models.__dict__\n",
    "                     if callable(models.__dict__[name])) # and name.islower() and not name.startswith(\"__\"))\n",
    "print(f\"Available Models: {model_names}\")"
   ]
  },
  {
   "cell_type": "code",
   "execution_count": 11,
   "metadata": {},
   "outputs": [],
   "source": [
    "def create_model(device):\n",
    "    print(\"=> creating model '{}'\".format(config.arch))\n",
    "    if config.arch.startswith('FaceAttrResNet'):\n",
    "        model = models.__dict__[config.arch](resnet_layers = config.pt_layers)\n",
    "    model = model.to(device)\n",
    "    return model\n",
    "#print(model)"
   ]
  },
  {
   "cell_type": "markdown",
   "metadata": {},
   "source": [
    "### Criterion & Optimizer"
   ]
  },
  {
   "cell_type": "code",
   "execution_count": 12,
   "metadata": {
    "pycharm": {
     "is_executing": true
    }
   },
   "outputs": [],
   "source": [
    "# criterion = nn.CrossEntropyLoss().to(device)\n",
    "\n",
    "# optimizer = torch.optim.SGD(model.parameters(), config.lr,\n",
    "#                             momentum=config.momentum,\n",
    "#                             weight_decay=config.weight_decay)"
   ]
  },
  {
   "cell_type": "markdown",
   "metadata": {},
   "source": [
    "### Resume Checkpoint if any"
   ]
  },
  {
   "cell_type": "code",
   "execution_count": 13,
   "metadata": {},
   "outputs": [],
   "source": [
    "def resume_checkpoint(model, optimizer, ckp_logger_fname, ckp_resume=None):\n",
    "    if not os.path.isdir(config.CHECKPOINT_DIR):\n",
    "        try: \n",
    "            os.makedirs(config.CHECKPOINT_DIR)\n",
    "        except OSError:\n",
    "            raise\n",
    "            \n",
    "    start_epoch = 0\n",
    "    best_prec1 = 0\n",
    "    if ckp_resume and os.path.isfile(ckp_resume): \n",
    "        print(f\"=> resuming model: {ckp_resume}\")\n",
    "        optimizer, start_epoch, best_prec1 = model.load_ckp(optimizer, ckp_resume)\n",
    "        # print(f\"=> loading checkpoint '{config.resume}'\")\n",
    "        # checkpoint = torch.load(config.resume)\n",
    "        # start_epoch = checkpoint['epoch']\n",
    "        # best_prec1 = checkpoint['best_prec1']\n",
    "        # model.load_state_dict(checkpoint['state_dict'])\n",
    "        # optimizer.load_state_dict(checkpoint['optimizer'])\n",
    "        # print(f\"=> loaded checkpoint '{config.resume}' (epoch {start_epoch})\")\n",
    "        config.checkpoint = os.path.dirname(ckp_resume)\n",
    "        logger = Logger(ckp_logger_fname, title=model.name, resume=True)\n",
    "    else:\n",
    "        logger = Logger(ckp_logger_fname, title=model.name)\n",
    "        logger.set_names(['Learning Rate', 'Train Loss', 'Valid Loss', 'Train Acc.', 'Valid Acc.'])\n",
    "        \n",
    "        \n",
    "    return best_prec1, start_epoch, logger"
   ]
  },
  {
   "cell_type": "markdown",
   "metadata": {},
   "source": [
    "## Train & Validate Function"
   ]
  },
  {
   "cell_type": "code",
   "execution_count": 14,
   "metadata": {},
   "outputs": [],
   "source": [
    "def train(train_loader, model, criterion, optimizer):\n",
    "    bar = Bar('Processing', max=len(train_loader))\n",
    "\n",
    "    batch_time = AverageMeter()\n",
    "    data_time = AverageMeter()\n",
    "    losses = [AverageMeter() for _ in range(40)]\n",
    "    top1 = [AverageMeter() for _ in range(40)]\n",
    "\n",
    "    # switch to train mode\n",
    "    model.train()\n",
    "\n",
    "    end = time.time()\n",
    "    for i, (X, y) in enumerate(tqdm(train_loader, disable=config.disable_tqdm)):\n",
    "        # measure data loading time\n",
    "        data_time.update(time.time() - end)\n",
    "\n",
    "        # Overlapping transfer if pinned memory\n",
    "        X = X.to(device, non_blocking=True)\n",
    "        y = y.to(device, non_blocking=True)\n",
    "    \n",
    "        # compute output\n",
    "        output = model(X)\n",
    "        # measure accuracy and record loss\n",
    "        loss = []\n",
    "        prec1 = []\n",
    "        for j in range(len(output)):\n",
    "            loss.append(criterion(output[j], y[:, j]))\n",
    "            prec1.append(accuracy(output[j], y[:, j], topk=(1,)))\n",
    "\n",
    "            losses[j].update(loss[j].detach().item(), X.size(0))\n",
    "            top1[j].update(prec1[j][0].item(), X.size(0))\n",
    "            \n",
    "        losses_avg = [losses[k].avg for k in range(len(losses))]\n",
    "        top1_avg = [top1[k].avg for k in range(len(top1))]\n",
    "        loss_avg = sum(losses_avg) / len(losses_avg)\n",
    "        prec1_avg = sum(top1_avg) / len(top1_avg)\n",
    "\n",
    "        # compute gradient and do SGD step\n",
    "        optimizer.zero_grad()\n",
    "        loss_sum = sum(loss)\n",
    "        loss_sum.backward()\n",
    "        optimizer.step()\n",
    "\n",
    "        # measure elapsed time\n",
    "        batch_time.update(time.time() - end)\n",
    "        end = time.time()\n",
    "\n",
    "        # plot progress\n",
    "        print_line = '({batch}/{size}) Data: {data:.3f}s | Batch: {bt:.3f}s | Total: {total:} | ETA: {eta:} | Loss: {loss:.4f} | top1: {top1: .4f}'.format(\n",
    "                        batch=i + 1,\n",
    "                        size=len(train_loader),\n",
    "                        data=data_time.avg,\n",
    "                        bt=batch_time.avg,\n",
    "                        total=bar.elapsed_td,\n",
    "                        eta=bar.eta_td,\n",
    "                        loss=loss_avg,\n",
    "                        top1=prec1_avg,\n",
    "                        )\n",
    "        if not config.disable_tqdm and (i+1)% 100 == 0:\n",
    "            print(print_line)\n",
    "        bar.suffix  = print_line\n",
    "        bar.next()\n",
    "    bar.finish()\n",
    "    return (loss_avg, prec1_avg)"
   ]
  },
  {
   "cell_type": "code",
   "execution_count": 15,
   "metadata": {},
   "outputs": [],
   "source": [
    "def validate(val_loader, model, criterion):\n",
    "    bar = Bar('Processing', max=len(val_loader))\n",
    "\n",
    "    batch_time = AverageMeter()\n",
    "    data_time = AverageMeter()\n",
    "    losses = [AverageMeter() for _ in range(40)]\n",
    "    top1 = [AverageMeter() for _ in range(40)]\n",
    "\n",
    "    # switch to evaluate mode\n",
    "    model.eval()\n",
    "\n",
    "    with torch.no_grad():\n",
    "        end = time.time()\n",
    "        for i, (X, y) in enumerate(tqdm(val_loader, disable=config.disable_tqdm)):\n",
    "            # measure data loading time\n",
    "            data_time.update(time.time() - end)\n",
    "\n",
    "            # Overlapping transfer if pinned memory\n",
    "            X = X.to(device, non_blocking=True)\n",
    "            y = y.to(device, non_blocking=True)\n",
    "\n",
    "            # compute output\n",
    "            output = model(X)\n",
    "            # measure accuracy and record loss\n",
    "            loss = []\n",
    "            prec1 = []\n",
    "            for j in range(len(output)):\n",
    "                loss.append(criterion(output[j], y[:, j]))\n",
    "                prec1.append(accuracy(output[j], y[:, j], topk=(1,)))\n",
    "\n",
    "                losses[j].update(loss[j].detach().item(), X.size(0))\n",
    "                top1[j].update(prec1[j][0].item(), X.size(0))\n",
    "            losses_avg = [losses[k].avg for k in range(len(losses))]\n",
    "            top1_avg = [top1[k].avg for k in range(len(top1))]\n",
    "            loss_avg = sum(losses_avg) / len(losses_avg)\n",
    "            prec1_avg = sum(top1_avg) / len(top1_avg)\n",
    "\n",
    "            # measure elapsed time\n",
    "            batch_time.update(time.time() - end)\n",
    "            end = time.time()\n",
    "\n",
    "        # plot progress\n",
    "        print_line = '({batch}/{size}) Data: {data:.3f}s | Batch: {bt:.3f}s | Total: {total:} | ETA: {eta:} | Loss: {loss:.4f} | top1: {top1: .4f}'.format(\n",
    "                        batch=i + 1,\n",
    "                        size=len(val_loader),\n",
    "                        data=data_time.avg,\n",
    "                        bt=batch_time.avg,\n",
    "                        total=bar.elapsed_td,\n",
    "                        eta=bar.eta_td,\n",
    "                        loss=loss_avg,\n",
    "                        top1=prec1_avg,\n",
    "                        )\n",
    "        if not config.disable_tqdm and (i+1)% 100 == 0:\n",
    "            print(print_line)\n",
    "        bar.suffix  = print_line\n",
    "        bar.next()  \n",
    "    bar.finish()\n",
    "    return (loss_avg, prec1_avg, top1)"
   ]
  },
  {
   "cell_type": "markdown",
   "metadata": {},
   "source": [
    "## Main Function"
   ]
  },
  {
   "cell_type": "code",
   "execution_count": 16,
   "metadata": {},
   "outputs": [],
   "source": [
    "def trainer(dataloaders, model, criterion, optimizer, logger, start_epoch, best_prec1, run_name):\n",
    "    # visualization\n",
    "    writer = SummaryWriter(os.path.join(config.tensorboard_dir, run_name))\n",
    "\n",
    "    for epoch in range(start_epoch, config.epochs):\n",
    "        lr = adjust_learning_rate(optimizer, config.lr_decay, epoch, gamma=config.gamma, step=config.step,\n",
    "                                 total_epochs=config.epochs, turning_point=config.turning_point,\n",
    "                                 schedule=config.schedule)\n",
    "\n",
    "        print('\\nEpoch: [%d | %d] LR: %f' % (epoch + 1, config.epochs, lr))\n",
    "\n",
    "        # train for one epoch\n",
    "        train_loss, train_acc = train(dataloaders['train'], model, criterion, optimizer)\n",
    "\n",
    "        # evaluate on validation set\n",
    "        val_loss, prec1, _ = validate(dataloaders['val'], model, criterion)\n",
    "\n",
    "        # append logger file\n",
    "        logger.append([lr, train_loss, val_loss, train_acc, prec1])\n",
    "\n",
    "        # tensorboardX\n",
    "        writer.add_scalar('learning rate', lr, epoch + 1)\n",
    "        writer.add_scalars('loss', {'train loss': train_loss, 'validation loss': val_loss}, epoch + 1)\n",
    "        writer.add_scalars('accuracy', {'train accuracy': train_acc, 'validation accuracy': prec1}, epoch + 1)\n",
    "        #for name, param in model.named_parameters():\n",
    "        #    writer.add_histogram(name, param.clone().cpu().data.numpy(), epoch + 1)\n",
    "\n",
    "        is_best = prec1 > best_prec1\n",
    "        best_prec1 = max(prec1, best_prec1)\n",
    "\n",
    "        model.save_ckp({\n",
    "            'epoch': epoch + 1,\n",
    "            'arch': model.name,\n",
    "            'state_dict': model.state_dict(),\n",
    "            'best_prec1': best_prec1,\n",
    "            'optimizer' : optimizer.state_dict()\n",
    "        }, is_best, config.checkpoint_fname,config.bestmodel_fname)\n",
    "\n",
    "    logger.close()\n",
    "    logger.plot()\n",
    "    savefig(config.train_plotfig)\n",
    "    writer.close()\n",
    "\n",
    "    print('Best accuracy:')\n",
    "    print(best_prec1)"
   ]
  },
  {
   "cell_type": "code",
   "execution_count": 17,
   "metadata": {},
   "outputs": [],
   "source": [
    "def get_run_name(model, criterion, optimizer):\n",
    "    if str(criterion) == 'CrossEntropyLoss()':\n",
    "        p_criterion = 'CE'\n",
    "\n",
    "    p_optimizer = f'{str(optimizer).split(\"(\")[0].strip()}_'\n",
    "    p_scheduler = f'{config.lr_decay}_lr{config.lr}_wd{config.weight_decay}'\n",
    "    if config.lr_decay == 'step':\n",
    "        p_scheduler += f'_g{config.gamma}_sp{config.step}'\n",
    "    elif config.lr_decay == 'linear2exp':\n",
    "        p_scheduler += f'_g{config.gamma}_tp{config.turning_point}'\n",
    "    elif config.lr_decay == 'schedule':\n",
    "        p_scheduler += f'_g{config.gamma}_sch{config.schedule}'\n",
    "\n",
    "    run_name = f'{model.name}_{config.manual_seed}_s{start_epoch}e{config.epochs}_' \\\n",
    "                + f'tb{config.train_batch}_vb{config.test_batch}_' \\\n",
    "                + f'{p_criterion}_{p_optimizer}_' \\\n",
    "                + f'{p_scheduler}'\n",
    "    print(run_name)\n",
    "    return run_name"
   ]
  },
  {
   "cell_type": "code",
   "execution_count": 18,
   "metadata": {
    "id": "PWCHnDeVD4WT",
    "pycharm": {
     "is_executing": true
    }
   },
   "outputs": [
    {
     "name": "stdout",
     "output_type": "stream",
     "text": [
      "=> creating model 'FaceAttrResNet'\n"
     ]
    },
    {
     "name": "stderr",
     "output_type": "stream",
     "text": [
      "  0%|                                                                                         | 0/1272 [00:00<?, ?it/s]"
     ]
    },
    {
     "name": "stdout",
     "output_type": "stream",
     "text": [
      "Dataset sizes: {'train': 162770, 'val': 19867}\n",
      "Class Labels: 40\n",
      "FaceAttrResNet18_42_s0e60_tb128_vb128_CE_SGD__step_lr0.1_wd0.0001_g0.1_sp30\n",
      "\n",
      "Epoch: [1 | 60] LR: 0.100000\n"
     ]
    },
    {
     "name": "stderr",
     "output_type": "stream",
     "text": [
<<<<<<< Updated upstream
      "  8%|██████▏                                                                        | 100/1272 [00:35<04:52,  4.00it/s]"
=======
      " 16%|████████████▌                                                                   | 100/636 [01:15<05:36,  1.59it/s]"
>>>>>>> Stashed changes
     ]
    },
    {
     "name": "stdout",
     "output_type": "stream",
     "text": [
<<<<<<< Updated upstream
      "(100/1272) Data: 0.072s | Batch: 0.354s | Total: 0:00:35 | ETA: 0:04:54 | Loss: 0.6895 | top1:  79.3785\n"
     ]
    },
    {
     "name": "stderr",
     "output_type": "stream",
     "text": [
      " 16%|████████████▍                                                                  | 200/1272 [01:01<04:30,  3.96it/s]"
     ]
    },
    {
     "name": "stdout",
     "output_type": "stream",
     "text": [
      "(200/1272) Data: 0.036s | Batch: 0.306s | Total: 0:01:01 | ETA: 0:04:35 | Loss: 0.6516 | top1:  79.7167\n"
     ]
    },
    {
     "name": "stderr",
     "output_type": "stream",
     "text": [
      " 24%|██████████████████▋                                                            | 300/1272 [01:26<04:10,  3.88it/s]"
     ]
    },
    {
     "name": "stdout",
     "output_type": "stream",
     "text": [
      "(300/1272) Data: 0.024s | Batch: 0.289s | Total: 0:01:26 | ETA: 0:04:10 | Loss: 0.6153 | top1:  79.9493\n"
     ]
    },
    {
     "name": "stderr",
     "output_type": "stream",
     "text": [
      " 31%|████████████████████████▊                                                      | 400/1272 [01:52<03:49,  3.79it/s]"
     ]
    },
    {
     "name": "stdout",
     "output_type": "stream",
     "text": [
      "(400/1272) Data: 0.018s | Batch: 0.281s | Total: 0:01:52 | ETA: 0:03:47 | Loss: 0.5932 | top1:  80.0231\n"
     ]
    },
    {
     "name": "stderr",
     "output_type": "stream",
     "text": [
      " 39%|███████████████████████████████                                                | 500/1272 [02:18<03:27,  3.72it/s]"
     ]
    },
    {
     "name": "stdout",
     "output_type": "stream",
     "text": [
      "(500/1272) Data: 0.015s | Batch: 0.278s | Total: 0:02:18 | ETA: 0:03:28 | Loss: 0.5702 | top1:  80.1089\n"
     ]
    },
    {
     "name": "stderr",
     "output_type": "stream",
     "text": [
      " 47%|█████████████████████████████████████▎                                         | 600/1272 [02:45<02:58,  3.77it/s]"
     ]
    },
    {
     "name": "stdout",
     "output_type": "stream",
     "text": [
      "(600/1272) Data: 0.013s | Batch: 0.276s | Total: 0:02:45 | ETA: 0:03:00 | Loss: 0.5532 | top1:  80.2375\n"
     ]
    },
    {
     "name": "stderr",
     "output_type": "stream",
     "text": [
      " 55%|███████████████████████████████████████████▍                                   | 700/1272 [03:13<02:30,  3.81it/s]"
     ]
    },
    {
     "name": "stdout",
     "output_type": "stream",
     "text": [
      "(700/1272) Data: 0.011s | Batch: 0.276s | Total: 0:03:13 | ETA: 0:02:36 | Loss: 0.5368 | top1:  80.4077\n"
     ]
    },
    {
     "name": "stderr",
     "output_type": "stream",
     "text": [
      " 63%|█████████████████████████████████████████████████▋                             | 800/1272 [03:40<02:05,  3.76it/s]"
     ]
    },
    {
     "name": "stdout",
     "output_type": "stream",
     "text": [
      "(800/1272) Data: 0.010s | Batch: 0.275s | Total: 0:03:40 | ETA: 0:02:08 | Loss: 0.5233 | top1:  80.5882\n"
     ]
    },
    {
     "name": "stderr",
     "output_type": "stream",
     "text": [
      " 71%|███████████████████████████████████████████████████████▉                       | 900/1272 [04:07<01:38,  3.77it/s]"
     ]
    },
    {
     "name": "stdout",
     "output_type": "stream",
     "text": [
      "(900/1272) Data: 0.009s | Batch: 0.275s | Total: 0:04:07 | ETA: 0:01:40 | Loss: 0.5111 | top1:  80.7796\n"
     ]
    },
    {
     "name": "stderr",
     "output_type": "stream",
     "text": [
      " 79%|█████████████████████████████████████████████████████████████▎                | 1000/1272 [04:34<01:14,  3.65it/s]"
     ]
    },
    {
     "name": "stdout",
     "output_type": "stream",
     "text": [
      "(1000/1272) Data: 0.008s | Batch: 0.275s | Total: 0:04:34 | ETA: 0:01:16 | Loss: 0.4992 | top1:  81.0129\n"
     ]
    },
    {
     "name": "stderr",
     "output_type": "stream",
     "text": [
      " 86%|███████████████████████████████████████████████████████████████████▍          | 1100/1272 [05:01<00:46,  3.67it/s]"
     ]
    },
    {
     "name": "stdout",
     "output_type": "stream",
     "text": [
      "(1100/1272) Data: 0.007s | Batch: 0.274s | Total: 0:05:01 | ETA: 0:00:48 | Loss: 0.4876 | top1:  81.2590\n"
     ]
    },
    {
     "name": "stderr",
     "output_type": "stream",
     "text": [
      " 94%|█████████████████████████████████████████████████████████████████████████▌    | 1200/1272 [05:29<00:20,  3.51it/s]"
     ]
    },
    {
     "name": "stdout",
     "output_type": "stream",
     "text": [
      "(1200/1272) Data: 0.007s | Batch: 0.274s | Total: 0:05:29 | ETA: 0:00:21 | Loss: 0.4770 | top1:  81.5133\n"
     ]
    },
    {
     "name": "stderr",
     "output_type": "stream",
     "text": [
      "100%|██████████████████████████████████████████████████████████████████████████████| 1272/1272 [05:50<00:00,  3.63it/s]\n",
      "100%|████████████████████████████████████████████████████████████████████████████████| 156/156 [00:22<00:00,  7.01it/s]\n"
     ]
    },
    {
     "name": "stdout",
     "output_type": "stream",
     "text": [
      "=> saving checkpoint 'checkpoints\\checkpoint.pth.tar'\n"
     ]
    },
    {
     "name": "stderr",
     "output_type": "stream",
     "text": [
      "  0%|                                                                                         | 0/1272 [00:00<?, ?it/s]"
     ]
    },
    {
     "name": "stdout",
     "output_type": "stream",
     "text": [
      "=> saving best model 'checkpoints\\model_best.pth.tar'\n",
      "\n",
      "Epoch: [2 | 60] LR: 0.100000\n"
     ]
    },
    {
     "name": "stderr",
     "output_type": "stream",
     "text": [
      "  8%|██████▏                                                                        | 100/1272 [00:33<05:11,  3.76it/s]"
     ]
    },
    {
     "name": "stdout",
     "output_type": "stream",
     "text": [
      "(100/1272) Data: 0.074s | Batch: 0.333s | Total: 0:00:33 | ETA: 0:05:14 | Loss: 0.3446 | top1:  85.0574\n"
     ]
    },
    {
     "name": "stderr",
     "output_type": "stream",
     "text": [
      " 16%|████████████▍                                                                  | 200/1272 [01:00<04:54,  3.65it/s]"
     ]
    },
    {
     "name": "stdout",
     "output_type": "stream",
     "text": [
      "(200/1272) Data: 0.037s | Batch: 0.301s | Total: 0:01:00 | ETA: 0:04:49 | Loss: 0.3361 | top1:  85.5020\n"
     ]
    },
    {
     "name": "stderr",
     "output_type": "stream",
     "text": [
      " 24%|██████████████████▋                                                            | 300/1272 [01:27<04:20,  3.73it/s]"
     ]
    },
    {
     "name": "stdout",
     "output_type": "stream",
     "text": [
      "(300/1272) Data: 0.025s | Batch: 0.291s | Total: 0:01:27 | ETA: 0:04:22 | Loss: 0.3278 | top1:  85.8213\n"
     ]
    },
    {
     "name": "stderr",
     "output_type": "stream",
     "text": [
      " 31%|████████████████████████▊                                                      | 400/1272 [01:54<03:53,  3.73it/s]"
     ]
    },
    {
     "name": "stdout",
     "output_type": "stream",
     "text": [
      "(400/1272) Data: 0.019s | Batch: 0.286s | Total: 0:01:54 | ETA: 0:03:51 | Loss: 0.3223 | top1:  86.0471\n"
     ]
    },
    {
     "name": "stderr",
     "output_type": "stream",
     "text": [
      " 39%|███████████████████████████████                                                | 500/1272 [02:21<03:22,  3.81it/s]"
     ]
    },
    {
     "name": "stdout",
     "output_type": "stream",
     "text": [
      "(500/1272) Data: 0.015s | Batch: 0.283s | Total: 0:02:21 | ETA: 0:03:27 | Loss: 0.3178 | top1:  86.2169\n"
     ]
    },
    {
     "name": "stderr",
     "output_type": "stream",
     "text": [
      " 47%|█████████████████████████████████████▎                                         | 600/1272 [02:48<03:01,  3.71it/s]"
     ]
    },
    {
     "name": "stdout",
     "output_type": "stream",
     "text": [
      "(600/1272) Data: 0.013s | Batch: 0.281s | Total: 0:02:48 | ETA: 0:03:03 | Loss: 0.3134 | top1:  86.3908\n"
     ]
    },
    {
     "name": "stderr",
     "output_type": "stream",
     "text": [
      " 55%|███████████████████████████████████████████▍                                   | 700/1272 [03:15<02:38,  3.60it/s]"
     ]
    },
    {
     "name": "stdout",
     "output_type": "stream",
     "text": [
      "(700/1272) Data: 0.011s | Batch: 0.280s | Total: 0:03:15 | ETA: 0:02:34 | Loss: 0.3093 | top1:  86.5568\n"
     ]
    },
    {
     "name": "stderr",
     "output_type": "stream",
     "text": [
      " 63%|█████████████████████████████████████████████████▋                             | 800/1272 [03:42<02:06,  3.74it/s]"
     ]
    },
    {
     "name": "stdout",
     "output_type": "stream",
     "text": [
      "(800/1272) Data: 0.010s | Batch: 0.279s | Total: 0:03:42 | ETA: 0:02:08 | Loss: 0.3059 | top1:  86.6863\n"
     ]
    },
    {
     "name": "stderr",
     "output_type": "stream",
     "text": [
      " 71%|███████████████████████████████████████████████████████▉                       | 900/1272 [04:09<01:38,  3.78it/s]"
     ]
    },
    {
     "name": "stdout",
     "output_type": "stream",
     "text": [
      "(900/1272) Data: 0.009s | Batch: 0.278s | Total: 0:04:09 | ETA: 0:01:41 | Loss: 0.3026 | top1:  86.8161\n"
     ]
    },
    {
     "name": "stderr",
     "output_type": "stream",
     "text": [
      " 79%|█████████████████████████████████████████████████████████████▎                | 1000/1272 [04:37<01:13,  3.71it/s]"
     ]
    },
    {
     "name": "stdout",
     "output_type": "stream",
     "text": [
      "(1000/1272) Data: 0.008s | Batch: 0.277s | Total: 0:04:37 | ETA: 0:01:16 | Loss: 0.2995 | top1:  86.9405\n"
     ]
    },
    {
     "name": "stderr",
     "output_type": "stream",
     "text": [
      " 86%|███████████████████████████████████████████████████████████████████▍          | 1100/1272 [05:04<00:46,  3.69it/s]"
     ]
    },
    {
     "name": "stdout",
     "output_type": "stream",
     "text": [
      "(1100/1272) Data: 0.007s | Batch: 0.277s | Total: 0:05:04 | ETA: 0:00:47 | Loss: 0.2964 | top1:  87.0684\n"
     ]
    },
    {
     "name": "stderr",
     "output_type": "stream",
     "text": [
      " 94%|█████████████████████████████████████████████████████████████████████████▌    | 1200/1272 [05:31<00:19,  3.70it/s]"
     ]
    },
    {
     "name": "stdout",
     "output_type": "stream",
     "text": [
      "(1200/1272) Data: 0.007s | Batch: 0.276s | Total: 0:05:31 | ETA: 0:00:20 | Loss: 0.2939 | top1:  87.1670\n"
     ]
    },
    {
     "name": "stderr",
     "output_type": "stream",
     "text": [
      "100%|██████████████████████████████████████████████████████████████████████████████| 1272/1272 [05:51<00:00,  3.62it/s]\n",
      "100%|████████████████████████████████████████████████████████████████████████████████| 156/156 [00:22<00:00,  7.06it/s]\n"
     ]
    },
    {
     "name": "stdout",
     "output_type": "stream",
     "text": [
      "=> saving checkpoint 'checkpoints\\checkpoint.pth.tar'\n"
     ]
    },
    {
     "name": "stderr",
     "output_type": "stream",
     "text": [
      "  0%|                                                                                         | 0/1272 [00:00<?, ?it/s]"
     ]
    },
    {
     "name": "stdout",
     "output_type": "stream",
     "text": [
      "=> saving best model 'checkpoints\\model_best.pth.tar'\n",
      "\n",
      "Epoch: [3 | 60] LR: 0.100000\n"
     ]
    },
    {
     "name": "stderr",
     "output_type": "stream",
     "text": [
      "  8%|██████▏                                                                        | 100/1272 [00:33<05:13,  3.74it/s]"
     ]
    },
    {
     "name": "stdout",
     "output_type": "stream",
     "text": [
      "(100/1272) Data: 0.073s | Batch: 0.332s | Total: 0:00:33 | ETA: 0:05:14 | Loss: 0.2585 | top1:  88.6285\n"
     ]
    },
    {
     "name": "stderr",
     "output_type": "stream",
     "text": [
      " 16%|████████████▍                                                                  | 200/1272 [01:00<04:52,  3.67it/s]"
     ]
    },
    {
     "name": "stdout",
     "output_type": "stream",
     "text": [
      "(200/1272) Data: 0.037s | Batch: 0.302s | Total: 0:01:00 | ETA: 0:04:56 | Loss: 0.2628 | top1:  88.4375\n"
     ]
    },
    {
     "name": "stderr",
     "output_type": "stream",
     "text": [
      " 24%|██████████████████▋                                                            | 300/1272 [01:27<04:22,  3.71it/s]"
     ]
    },
    {
     "name": "stdout",
     "output_type": "stream",
     "text": [
      "(300/1272) Data: 0.025s | Batch: 0.291s | Total: 0:01:27 | ETA: 0:04:22 | Loss: 0.2606 | top1:  88.5249\n"
     ]
    },
    {
     "name": "stderr",
     "output_type": "stream",
     "text": [
      " 31%|████████████████████████▊                                                      | 400/1272 [01:54<04:06,  3.54it/s]"
     ]
    },
    {
     "name": "stdout",
     "output_type": "stream",
     "text": [
      "(400/1272) Data: 0.019s | Batch: 0.286s | Total: 0:01:54 | ETA: 0:03:58 | Loss: 0.2584 | top1:  88.6081\n"
     ]
    },
    {
     "name": "stderr",
     "output_type": "stream",
     "text": [
      " 39%|███████████████████████████████                                                | 500/1272 [02:21<03:27,  3.72it/s]"
     ]
    },
    {
     "name": "stdout",
     "output_type": "stream",
     "text": [
      "(500/1272) Data: 0.015s | Batch: 0.283s | Total: 0:02:21 | ETA: 0:03:28 | Loss: 0.2568 | top1:  88.6761\n"
     ]
    },
    {
     "name": "stderr",
     "output_type": "stream",
     "text": [
      " 47%|█████████████████████████████████████▎                                         | 600/1272 [02:48<02:56,  3.81it/s]"
     ]
    },
    {
     "name": "stdout",
     "output_type": "stream",
     "text": [
      "(600/1272) Data: 0.013s | Batch: 0.281s | Total: 0:02:48 | ETA: 0:02:59 | Loss: 0.2549 | top1:  88.7621\n"
     ]
    },
    {
     "name": "stderr",
     "output_type": "stream",
     "text": [
      " 55%|███████████████████████████████████████████▍                                   | 700/1272 [03:15<02:32,  3.74it/s]"
     ]
    },
    {
     "name": "stdout",
     "output_type": "stream",
     "text": [
      "(700/1272) Data: 0.011s | Batch: 0.279s | Total: 0:03:15 | ETA: 0:02:33 | Loss: 0.2532 | top1:  88.8283\n"
     ]
    },
    {
     "name": "stderr",
     "output_type": "stream",
     "text": [
      " 63%|█████████████████████████████████████████████████▋                             | 800/1272 [03:42<02:09,  3.65it/s]"
     ]
    },
    {
     "name": "stdout",
     "output_type": "stream",
     "text": [
      "(800/1272) Data: 0.010s | Batch: 0.278s | Total: 0:03:42 | ETA: 0:02:09 | Loss: 0.2519 | top1:  88.8783\n"
     ]
    },
    {
     "name": "stderr",
     "output_type": "stream",
     "text": [
      " 71%|███████████████████████████████████████████████████████▉                       | 900/1272 [04:09<01:41,  3.65it/s]"
     ]
    },
    {
     "name": "stdout",
     "output_type": "stream",
     "text": [
      "(900/1272) Data: 0.009s | Batch: 0.277s | Total: 0:04:09 | ETA: 0:01:40 | Loss: 0.2505 | top1:  88.9388\n"
     ]
    },
    {
     "name": "stderr",
     "output_type": "stream",
     "text": [
      " 79%|█████████████████████████████████████████████████████████████▎                | 1000/1272 [04:36<01:12,  3.73it/s]"
     ]
    },
    {
     "name": "stdout",
     "output_type": "stream",
     "text": [
      "(1000/1272) Data: 0.008s | Batch: 0.277s | Total: 0:04:36 | ETA: 0:01:15 | Loss: 0.2491 | top1:  88.9972\n"
     ]
    },
    {
     "name": "stderr",
     "output_type": "stream",
     "text": [
      " 86%|███████████████████████████████████████████████████████████████████▍          | 1100/1272 [05:03<00:46,  3.66it/s]"
     ]
    },
    {
     "name": "stdout",
     "output_type": "stream",
     "text": [
      "(1100/1272) Data: 0.007s | Batch: 0.276s | Total: 0:05:03 | ETA: 0:00:47 | Loss: 0.2479 | top1:  89.0444\n"
     ]
    },
    {
     "name": "stderr",
     "output_type": "stream",
     "text": [
      " 94%|█████████████████████████████████████████████████████████████████████████▌    | 1200/1272 [05:30<00:19,  3.66it/s]"
     ]
    },
    {
     "name": "stdout",
     "output_type": "stream",
     "text": [
      "(1200/1272) Data: 0.007s | Batch: 0.276s | Total: 0:05:30 | ETA: 0:00:20 | Loss: 0.2468 | top1:  89.0886\n"
     ]
    },
    {
     "name": "stderr",
     "output_type": "stream",
     "text": [
      "100%|██████████████████████████████████████████████████████████████████████████████| 1272/1272 [05:51<00:00,  3.62it/s]\n",
      "100%|████████████████████████████████████████████████████████████████████████████████| 156/156 [00:21<00:00,  7.12it/s]\n"
     ]
    },
    {
     "name": "stdout",
     "output_type": "stream",
     "text": [
      "=> saving checkpoint 'checkpoints\\checkpoint.pth.tar'\n"
     ]
    },
    {
     "name": "stderr",
     "output_type": "stream",
     "text": [
      "  0%|                                                                                         | 0/1272 [00:00<?, ?it/s]"
     ]
    },
    {
     "name": "stdout",
     "output_type": "stream",
     "text": [
      "=> saving best model 'checkpoints\\model_best.pth.tar'\n",
      "\n",
      "Epoch: [4 | 60] LR: 0.100000\n"
     ]
    },
    {
     "name": "stderr",
     "output_type": "stream",
     "text": [
      "  8%|██████▏                                                                        | 100/1272 [00:33<05:17,  3.70it/s]"
     ]
    },
    {
     "name": "stdout",
     "output_type": "stream",
     "text": [
      "(100/1272) Data: 0.072s | Batch: 0.333s | Total: 0:00:33 | ETA: 0:05:15 | Loss: 0.2331 | top1:  89.6322\n"
     ]
    },
    {
     "name": "stderr",
     "output_type": "stream",
     "text": [
      " 16%|████████████▍                                                                  | 200/1272 [01:00<04:45,  3.75it/s]"
     ]
    },
    {
     "name": "stdout",
     "output_type": "stream",
     "text": [
      "(200/1272) Data: 0.036s | Batch: 0.301s | Total: 0:01:00 | ETA: 0:04:49 | Loss: 0.2312 | top1:  89.7237\n"
     ]
    },
    {
     "name": "stderr",
     "output_type": "stream",
     "text": [
      " 24%|██████████████████▋                                                            | 300/1272 [01:26<04:23,  3.69it/s]"
     ]
    },
    {
     "name": "stdout",
     "output_type": "stream",
     "text": [
      "(300/1272) Data: 0.025s | Batch: 0.290s | Total: 0:01:26 | ETA: 0:04:21 | Loss: 0.2298 | top1:  89.7958\n"
     ]
    },
    {
     "name": "stderr",
     "output_type": "stream",
     "text": [
      " 31%|████████████████████████▊                                                      | 400/1272 [01:53<03:47,  3.83it/s]"
     ]
    },
    {
     "name": "stdout",
     "output_type": "stream",
     "text": [
      "(400/1272) Data: 0.019s | Batch: 0.284s | Total: 0:01:53 | ETA: 0:03:56 | Loss: 0.2291 | top1:  89.8364\n"
     ]
    },
    {
     "name": "stderr",
     "output_type": "stream",
     "text": [
      " 39%|███████████████████████████████                                                | 500/1272 [02:20<03:26,  3.74it/s]"
     ]
    },
    {
     "name": "stdout",
     "output_type": "stream",
     "text": [
      "(500/1272) Data: 0.015s | Batch: 0.281s | Total: 0:02:20 | ETA: 0:03:28 | Loss: 0.2282 | top1:  89.8717\n"
     ]
    },
    {
     "name": "stderr",
     "output_type": "stream",
     "text": [
      " 47%|█████████████████████████████████████▎                                         | 600/1272 [02:47<03:05,  3.61it/s]"
     ]
    },
    {
     "name": "stdout",
     "output_type": "stream",
     "text": [
      "(600/1272) Data: 0.013s | Batch: 0.279s | Total: 0:02:47 | ETA: 0:03:00 | Loss: 0.2277 | top1:  89.9022\n"
     ]
    },
    {
     "name": "stderr",
     "output_type": "stream",
     "text": [
      " 55%|███████████████████████████████████████████▍                                   | 700/1272 [03:13<02:34,  3.71it/s]"
     ]
    },
    {
     "name": "stdout",
     "output_type": "stream",
     "text": [
      "(700/1272) Data: 0.011s | Batch: 0.277s | Total: 0:03:13 | ETA: 0:02:35 | Loss: 0.2274 | top1:  89.9191\n"
     ]
    },
    {
     "name": "stderr",
     "output_type": "stream",
     "text": [
      " 63%|█████████████████████████████████████████████████▋                             | 800/1272 [03:40<02:04,  3.79it/s]"
     ]
    },
    {
     "name": "stdout",
     "output_type": "stream",
     "text": [
      "(800/1272) Data: 0.010s | Batch: 0.276s | Total: 0:03:40 | ETA: 0:02:07 | Loss: 0.2271 | top1:  89.9395\n"
     ]
    },
    {
     "name": "stderr",
     "output_type": "stream",
     "text": [
      " 71%|███████████████████████████████████████████████████████▉                       | 900/1272 [04:07<01:38,  3.78it/s]"
     ]
    },
    {
     "name": "stdout",
     "output_type": "stream",
     "text": [
      "(900/1272) Data: 0.009s | Batch: 0.275s | Total: 0:04:07 | ETA: 0:01:39 | Loss: 0.2265 | top1:  89.9640\n"
     ]
    },
    {
     "name": "stderr",
     "output_type": "stream",
     "text": [
      " 79%|█████████████████████████████████████████████████████████████▎                | 1000/1272 [04:34<01:11,  3.78it/s]"
     ]
    },
    {
     "name": "stdout",
     "output_type": "stream",
     "text": [
      "(1000/1272) Data: 0.008s | Batch: 0.274s | Total: 0:04:34 | ETA: 0:01:14 | Loss: 0.2259 | top1:  89.9918\n"
     ]
    },
    {
     "name": "stderr",
     "output_type": "stream",
     "text": [
      " 86%|███████████████████████████████████████████████████████████████████▍          | 1100/1272 [05:00<00:45,  3.76it/s]"
     ]
    },
    {
     "name": "stdout",
     "output_type": "stream",
     "text": [
      "(1100/1272) Data: 0.007s | Batch: 0.273s | Total: 0:05:00 | ETA: 0:00:46 | Loss: 0.2254 | top1:  90.0138\n"
     ]
    },
    {
     "name": "stderr",
     "output_type": "stream",
     "text": [
      " 94%|█████████████████████████████████████████████████████████████████████████▌    | 1200/1272 [05:27<00:19,  3.68it/s]"
     ]
    },
    {
     "name": "stdout",
     "output_type": "stream",
     "text": [
      "(1200/1272) Data: 0.007s | Batch: 0.273s | Total: 0:05:27 | ETA: 0:00:20 | Loss: 0.2249 | top1:  90.0373\n"
     ]
    },
    {
     "name": "stderr",
     "output_type": "stream",
     "text": [
      "100%|██████████████████████████████████████████████████████████████████████████████| 1272/1272 [05:47<00:00,  3.66it/s]\n",
      "100%|████████████████████████████████████████████████████████████████████████████████| 156/156 [00:20<00:00,  7.44it/s]\n"
     ]
    },
    {
     "name": "stdout",
     "output_type": "stream",
     "text": [
      "=> saving checkpoint 'checkpoints\\checkpoint.pth.tar'\n"
     ]
    },
    {
     "name": "stderr",
     "output_type": "stream",
     "text": [
      "  0%|                                                                                         | 0/1272 [00:00<?, ?it/s]"
     ]
    },
    {
     "name": "stdout",
     "output_type": "stream",
     "text": [
      "\n",
      "Epoch: [5 | 60] LR: 0.100000\n"
     ]
    },
    {
     "name": "stderr",
     "output_type": "stream",
     "text": [
      "  8%|██████▏                                                                        | 100/1272 [00:32<05:06,  3.83it/s]"
     ]
    },
    {
     "name": "stdout",
     "output_type": "stream",
     "text": [
      "(100/1272) Data: 0.069s | Batch: 0.326s | Total: 0:00:32 | ETA: 0:05:06 | Loss: 0.2171 | top1:  90.4109\n"
     ]
    },
    {
     "name": "stderr",
     "output_type": "stream",
     "text": [
      " 16%|████████████▍                                                                  | 200/1272 [00:58<04:40,  3.82it/s]"
     ]
    },
    {
     "name": "stdout",
     "output_type": "stream",
     "text": [
      "(200/1272) Data: 0.035s | Batch: 0.295s | Total: 0:00:58 | ETA: 0:04:46 | Loss: 0.2177 | top1:  90.3692\n"
     ]
    },
    {
     "name": "stderr",
     "output_type": "stream",
     "text": [
      " 24%|██████████████████▋                                                            | 300/1272 [01:25<04:18,  3.75it/s]"
     ]
    },
    {
     "name": "stdout",
     "output_type": "stream",
     "text": [
      "(300/1272) Data: 0.023s | Batch: 0.285s | Total: 0:01:25 | ETA: 0:04:21 | Loss: 0.2170 | top1:  90.3891\n"
     ]
    },
    {
     "name": "stderr",
     "output_type": "stream",
     "text": [
      " 31%|████████████████████████▊                                                      | 400/1272 [01:52<03:56,  3.69it/s]"
     ]
    },
    {
     "name": "stdout",
     "output_type": "stream",
     "text": [
      "(400/1272) Data: 0.018s | Batch: 0.280s | Total: 0:01:52 | ETA: 0:03:50 | Loss: 0.2167 | top1:  90.4063\n"
     ]
    },
    {
     "name": "stderr",
     "output_type": "stream",
     "text": [
      " 39%|███████████████████████████████                                                | 500/1272 [02:18<03:21,  3.83it/s]"
     ]
    },
    {
     "name": "stdout",
     "output_type": "stream",
     "text": [
      "(500/1272) Data: 0.014s | Batch: 0.278s | Total: 0:02:18 | ETA: 0:03:23 | Loss: 0.2163 | top1:  90.4301\n"
     ]
    },
    {
     "name": "stderr",
     "output_type": "stream",
     "text": [
      " 47%|█████████████████████████████████████▎                                         | 600/1272 [02:45<02:52,  3.89it/s]"
     ]
    },
    {
     "name": "stdout",
     "output_type": "stream",
     "text": [
      "(600/1272) Data: 0.012s | Batch: 0.276s | Total: 0:02:45 | ETA: 0:02:56 | Loss: 0.2157 | top1:  90.4507\n"
     ]
    },
    {
     "name": "stderr",
     "output_type": "stream",
     "text": [
      " 55%|███████████████████████████████████████████▍                                   | 700/1272 [03:12<02:28,  3.85it/s]"
     ]
    },
    {
     "name": "stdout",
     "output_type": "stream",
     "text": [
      "(700/1272) Data: 0.010s | Batch: 0.274s | Total: 0:03:12 | ETA: 0:02:31 | Loss: 0.2152 | top1:  90.4708\n"
     ]
    },
    {
     "name": "stderr",
     "output_type": "stream",
     "text": [
      " 63%|█████████████████████████████████████████████████▋                             | 800/1272 [03:38<02:05,  3.76it/s]"
     ]
    },
    {
     "name": "stdout",
     "output_type": "stream",
     "text": [
      "(800/1272) Data: 0.009s | Batch: 0.274s | Total: 0:03:38 | ETA: 0:02:07 | Loss: 0.2149 | top1:  90.4831\n"
     ]
    },
    {
     "name": "stderr",
     "output_type": "stream",
     "text": [
      " 71%|███████████████████████████████████████████████████████▉                       | 900/1272 [04:05<01:36,  3.84it/s]"
     ]
    },
    {
     "name": "stdout",
     "output_type": "stream",
     "text": [
      "(900/1272) Data: 0.008s | Batch: 0.273s | Total: 0:04:05 | ETA: 0:01:39 | Loss: 0.2146 | top1:  90.4976\n"
     ]
    },
    {
     "name": "stderr",
     "output_type": "stream",
     "text": [
      " 79%|█████████████████████████████████████████████████████████████▎                | 1000/1272 [04:32<01:12,  3.77it/s]"
     ]
    },
    {
     "name": "stdout",
     "output_type": "stream",
     "text": [
      "(1000/1272) Data: 0.008s | Batch: 0.272s | Total: 0:04:32 | ETA: 0:01:12 | Loss: 0.2143 | top1:  90.5112\n"
     ]
    },
    {
     "name": "stderr",
     "output_type": "stream",
     "text": [
      " 86%|███████████████████████████████████████████████████████████████████▍          | 1100/1272 [04:58<00:47,  3.65it/s]"
     ]
    },
    {
     "name": "stdout",
     "output_type": "stream",
     "text": [
      "(1100/1272) Data: 0.007s | Batch: 0.272s | Total: 0:04:58 | ETA: 0:00:46 | Loss: 0.2141 | top1:  90.5214\n"
     ]
    },
    {
     "name": "stderr",
     "output_type": "stream",
     "text": [
      " 94%|█████████████████████████████████████████████████████████████████████████▌    | 1200/1272 [05:25<00:19,  3.73it/s]"
     ]
    },
    {
     "name": "stdout",
     "output_type": "stream",
     "text": [
      "(1200/1272) Data: 0.006s | Batch: 0.271s | Total: 0:05:25 | ETA: 0:00:20 | Loss: 0.2139 | top1:  90.5328\n"
     ]
    },
    {
     "name": "stderr",
     "output_type": "stream",
     "text": [
      "100%|██████████████████████████████████████████████████████████████████████████████| 1272/1272 [05:45<00:00,  3.68it/s]\n",
      "100%|████████████████████████████████████████████████████████████████████████████████| 156/156 [00:20<00:00,  7.43it/s]\n"
     ]
    },
    {
     "name": "stdout",
     "output_type": "stream",
     "text": [
      "=> saving checkpoint 'checkpoints\\checkpoint.pth.tar'\n"
     ]
    },
    {
     "name": "stderr",
     "output_type": "stream",
     "text": [
      "  0%|                                                                                         | 0/1272 [00:00<?, ?it/s]"
     ]
    },
    {
     "name": "stdout",
     "output_type": "stream",
     "text": [
      "=> saving best model 'checkpoints\\model_best.pth.tar'\n",
      "\n",
      "Epoch: [6 | 60] LR: 0.100000\n"
     ]
    },
    {
     "name": "stderr",
     "output_type": "stream",
     "text": [
      "  8%|██████▏                                                                        | 100/1272 [00:32<05:14,  3.73it/s]"
     ]
    },
    {
     "name": "stdout",
     "output_type": "stream",
     "text": [
      "(100/1272) Data: 0.066s | Batch: 0.325s | Total: 0:00:32 | ETA: 0:05:08 | Loss: 0.2075 | top1:  90.8555\n"
     ]
    },
    {
     "name": "stderr",
     "output_type": "stream",
     "text": [
      " 16%|████████████▍                                                                  | 200/1272 [00:59<04:46,  3.74it/s]"
     ]
    },
    {
     "name": "stdout",
     "output_type": "stream",
     "text": [
      "(200/1272) Data: 0.033s | Batch: 0.295s | Total: 0:00:59 | ETA: 0:04:44 | Loss: 0.2081 | top1:  90.8183\n"
     ]
    },
    {
     "name": "stderr",
     "output_type": "stream",
     "text": [
      " 24%|██████████████████▋                                                            | 300/1272 [01:25<04:23,  3.69it/s]"
     ]
    },
    {
     "name": "stdout",
     "output_type": "stream",
     "text": [
      "(300/1272) Data: 0.023s | Batch: 0.286s | Total: 0:01:25 | ETA: 0:04:19 | Loss: 0.2080 | top1:  90.8072\n"
     ]
    },
    {
     "name": "stderr",
     "output_type": "stream",
     "text": [
      " 31%|████████████████████████▊                                                      | 400/1272 [01:52<03:51,  3.76it/s]"
     ]
    },
    {
     "name": "stdout",
     "output_type": "stream",
     "text": [
      "(400/1272) Data: 0.017s | Batch: 0.281s | Total: 0:01:52 | ETA: 0:03:55 | Loss: 0.2079 | top1:  90.8056\n"
     ]
    },
    {
     "name": "stderr",
     "output_type": "stream",
     "text": [
      " 39%|███████████████████████████████                                                | 500/1272 [02:19<03:24,  3.78it/s]"
     ]
    },
    {
     "name": "stdout",
     "output_type": "stream",
     "text": [
      "(500/1272) Data: 0.014s | Batch: 0.279s | Total: 0:02:19 | ETA: 0:03:23 | Loss: 0.2078 | top1:  90.8071\n"
     ]
    },
    {
     "name": "stderr",
     "output_type": "stream",
     "text": [
      " 47%|█████████████████████████████████████▎                                         | 600/1272 [02:45<02:59,  3.74it/s]"
     ]
    },
    {
     "name": "stdout",
     "output_type": "stream",
     "text": [
      "(600/1272) Data: 0.012s | Batch: 0.277s | Total: 0:02:45 | ETA: 0:03:01 | Loss: 0.2077 | top1:  90.8191\n"
     ]
    },
    {
     "name": "stderr",
     "output_type": "stream",
     "text": [
      " 55%|███████████████████████████████████████████▍                                   | 700/1272 [03:12<02:33,  3.74it/s]"
     ]
    },
    {
     "name": "stdout",
     "output_type": "stream",
     "text": [
      "(700/1272) Data: 0.010s | Batch: 0.275s | Total: 0:03:12 | ETA: 0:02:33 | Loss: 0.2075 | top1:  90.8245\n"
     ]
    },
    {
     "name": "stderr",
     "output_type": "stream",
     "text": [
      " 63%|█████████████████████████████████████████████████▋                             | 800/1272 [03:39<02:04,  3.79it/s]"
     ]
    },
    {
     "name": "stdout",
     "output_type": "stream",
     "text": [
      "(800/1272) Data: 0.009s | Batch: 0.274s | Total: 0:03:39 | ETA: 0:02:07 | Loss: 0.2073 | top1:  90.8337\n"
     ]
    },
    {
     "name": "stderr",
     "output_type": "stream",
     "text": [
      " 71%|███████████████████████████████████████████████████████▉                       | 900/1272 [04:06<01:39,  3.75it/s]"
     ]
    },
    {
     "name": "stdout",
     "output_type": "stream",
     "text": [
      "(900/1272) Data: 0.008s | Batch: 0.274s | Total: 0:04:06 | ETA: 0:01:41 | Loss: 0.2072 | top1:  90.8350\n"
     ]
    },
    {
     "name": "stderr",
     "output_type": "stream",
     "text": [
      " 79%|█████████████████████████████████████████████████████████████▎                | 1000/1272 [04:33<01:12,  3.73it/s]"
     ]
    },
    {
     "name": "stdout",
     "output_type": "stream",
     "text": [
      "(1000/1272) Data: 0.007s | Batch: 0.273s | Total: 0:04:33 | ETA: 0:01:14 | Loss: 0.2069 | top1:  90.8488\n"
     ]
    },
    {
     "name": "stderr",
     "output_type": "stream",
     "text": [
      " 86%|███████████████████████████████████████████████████████████████████▍          | 1100/1272 [04:59<00:44,  3.87it/s]"
     ]
    },
    {
     "name": "stdout",
     "output_type": "stream",
     "text": [
      "(1100/1272) Data: 0.007s | Batch: 0.273s | Total: 0:04:59 | ETA: 0:00:46 | Loss: 0.2067 | top1:  90.8560\n"
     ]
    },
    {
     "name": "stderr",
     "output_type": "stream",
     "text": [
      " 94%|█████████████████████████████████████████████████████████████████████████▌    | 1200/1272 [05:26<00:19,  3.66it/s]"
     ]
    },
    {
     "name": "stdout",
     "output_type": "stream",
     "text": [
      "(1200/1272) Data: 0.006s | Batch: 0.272s | Total: 0:05:26 | ETA: 0:00:20 | Loss: 0.2066 | top1:  90.8592\n"
     ]
    },
    {
     "name": "stderr",
     "output_type": "stream",
     "text": [
      "100%|██████████████████████████████████████████████████████████████████████████████| 1272/1272 [05:46<00:00,  3.67it/s]\n",
      "100%|████████████████████████████████████████████████████████████████████████████████| 156/156 [00:20<00:00,  7.47it/s]\n"
     ]
    },
    {
     "name": "stdout",
     "output_type": "stream",
     "text": [
      "=> saving checkpoint 'checkpoints\\checkpoint.pth.tar'\n"
     ]
    },
    {
     "name": "stderr",
     "output_type": "stream",
     "text": [
      "  0%|                                                                                         | 0/1272 [00:00<?, ?it/s]"
     ]
    },
    {
     "name": "stdout",
     "output_type": "stream",
     "text": [
      "\n",
      "Epoch: [7 | 60] LR: 0.100000\n"
     ]
    },
    {
     "name": "stderr",
     "output_type": "stream",
     "text": [
      "  8%|██████▏                                                                        | 100/1272 [00:32<05:11,  3.76it/s]"
     ]
    },
    {
     "name": "stdout",
     "output_type": "stream",
     "text": [
      "(100/1272) Data: 0.070s | Batch: 0.327s | Total: 0:00:32 | ETA: 0:05:07 | Loss: 0.2020 | top1:  91.0221\n"
     ]
    },
    {
     "name": "stderr",
     "output_type": "stream",
     "text": [
      " 16%|████████████▍                                                                  | 200/1272 [00:59<04:46,  3.75it/s]"
     ]
    },
    {
     "name": "stdout",
     "output_type": "stream",
     "text": [
      "(200/1272) Data: 0.035s | Batch: 0.296s | Total: 0:00:59 | ETA: 0:04:50 | Loss: 0.2016 | top1:  91.0798\n"
     ]
    },
    {
     "name": "stderr",
     "output_type": "stream",
     "text": [
      " 24%|██████████████████▋                                                            | 300/1272 [01:25<04:21,  3.72it/s]"
     ]
    },
    {
     "name": "stdout",
     "output_type": "stream",
     "text": [
      "(300/1272) Data: 0.024s | Batch: 0.286s | Total: 0:01:25 | ETA: 0:04:20 | Loss: 0.2016 | top1:  91.0827\n"
     ]
    },
    {
     "name": "stderr",
     "output_type": "stream",
     "text": [
      " 31%|████████████████████████▊                                                      | 400/1272 [01:52<03:57,  3.66it/s]"
     ]
    },
    {
     "name": "stdout",
     "output_type": "stream",
     "text": [
      "(400/1272) Data: 0.018s | Batch: 0.282s | Total: 0:01:52 | ETA: 0:04:00 | Loss: 0.2016 | top1:  91.0838\n"
     ]
    },
    {
     "name": "stderr",
     "output_type": "stream",
     "text": [
      " 39%|███████████████████████████████                                                | 500/1272 [02:19<03:29,  3.68it/s]"
     ]
    },
    {
     "name": "stdout",
     "output_type": "stream",
     "text": [
      "(500/1272) Data: 0.015s | Batch: 0.279s | Total: 0:02:19 | ETA: 0:03:28 | Loss: 0.2017 | top1:  91.0803\n"
     ]
    },
    {
     "name": "stderr",
     "output_type": "stream",
     "text": [
      " 47%|█████████████████████████████████████▎                                         | 600/1272 [02:46<03:04,  3.64it/s]"
     ]
    },
    {
     "name": "stdout",
     "output_type": "stream",
     "text": [
      "(600/1272) Data: 0.012s | Batch: 0.277s | Total: 0:02:46 | ETA: 0:03:01 | Loss: 0.2015 | top1:  91.0888\n"
     ]
    },
    {
     "name": "stderr",
     "output_type": "stream",
     "text": [
      " 55%|███████████████████████████████████████████▍                                   | 700/1272 [03:13<02:36,  3.66it/s]"
     ]
    },
    {
     "name": "stdout",
     "output_type": "stream",
     "text": [
      "(700/1272) Data: 0.011s | Batch: 0.276s | Total: 0:03:13 | ETA: 0:02:35 | Loss: 0.2015 | top1:  91.0861\n"
     ]
    },
    {
     "name": "stderr",
     "output_type": "stream",
     "text": [
      " 63%|█████████████████████████████████████████████████▋                             | 800/1272 [03:39<02:06,  3.73it/s]"
     ]
    },
    {
     "name": "stdout",
     "output_type": "stream",
     "text": [
      "(800/1272) Data: 0.009s | Batch: 0.275s | Total: 0:03:39 | ETA: 0:02:09 | Loss: 0.2015 | top1:  91.0825\n"
     ]
    },
    {
     "name": "stderr",
     "output_type": "stream",
     "text": [
      " 71%|███████████████████████████████████████████████████████▉                       | 900/1272 [04:06<01:39,  3.74it/s]"
     ]
    },
    {
     "name": "stdout",
     "output_type": "stream",
     "text": [
      "(900/1272) Data: 0.008s | Batch: 0.274s | Total: 0:04:06 | ETA: 0:01:40 | Loss: 0.2015 | top1:  91.0913\n"
     ]
    },
    {
     "name": "stderr",
     "output_type": "stream",
     "text": [
      " 79%|█████████████████████████████████████████████████████████████▎                | 1000/1272 [04:33<01:12,  3.74it/s]"
     ]
    },
    {
     "name": "stdout",
     "output_type": "stream",
     "text": [
      "(1000/1272) Data: 0.008s | Batch: 0.273s | Total: 0:04:33 | ETA: 0:01:13 | Loss: 0.2014 | top1:  91.0882\n"
     ]
    },
    {
     "name": "stderr",
     "output_type": "stream",
     "text": [
      " 86%|███████████████████████████████████████████████████████████████████▍          | 1100/1272 [05:00<00:44,  3.83it/s]"
     ]
    },
    {
     "name": "stdout",
     "output_type": "stream",
     "text": [
      "(1100/1272) Data: 0.007s | Batch: 0.273s | Total: 0:05:00 | ETA: 0:00:47 | Loss: 0.2014 | top1:  91.0885\n"
     ]
    },
    {
     "name": "stderr",
     "output_type": "stream",
     "text": [
      " 94%|█████████████████████████████████████████████████████████████████████████▌    | 1200/1272 [05:26<00:19,  3.68it/s]"
     ]
    },
    {
     "name": "stdout",
     "output_type": "stream",
     "text": [
      "(1200/1272) Data: 0.007s | Batch: 0.272s | Total: 0:05:26 | ETA: 0:00:20 | Loss: 0.2014 | top1:  91.0930\n"
     ]
    },
    {
     "name": "stderr",
     "output_type": "stream",
     "text": [
      "100%|██████████████████████████████████████████████████████████████████████████████| 1272/1272 [05:47<00:00,  3.67it/s]\n",
      "100%|████████████████████████████████████████████████████████████████████████████████| 156/156 [00:20<00:00,  7.47it/s]\n"
     ]
    },
    {
     "name": "stdout",
     "output_type": "stream",
     "text": [
      "=> saving checkpoint 'checkpoints\\checkpoint.pth.tar'\n"
     ]
    },
    {
     "name": "stderr",
     "output_type": "stream",
     "text": [
      "  0%|                                                                                         | 0/1272 [00:00<?, ?it/s]"
     ]
    },
    {
     "name": "stdout",
     "output_type": "stream",
     "text": [
      "=> saving best model 'checkpoints\\model_best.pth.tar'\n",
      "\n",
      "Epoch: [8 | 60] LR: 0.100000\n"
     ]
    },
    {
     "name": "stderr",
     "output_type": "stream",
     "text": [
      "  8%|██████▏                                                                        | 100/1272 [00:32<05:15,  3.71it/s]"
     ]
    },
    {
     "name": "stdout",
     "output_type": "stream",
     "text": [
      "(100/1272) Data: 0.070s | Batch: 0.327s | Total: 0:00:32 | ETA: 0:05:10 | Loss: 0.1976 | top1:  91.2400\n"
     ]
    },
    {
     "name": "stderr",
     "output_type": "stream",
     "text": [
      " 16%|████████████▍                                                                  | 200/1272 [00:59<04:46,  3.74it/s]"
     ]
    },
    {
     "name": "stdout",
     "output_type": "stream",
     "text": [
      "(200/1272) Data: 0.035s | Batch: 0.296s | Total: 0:00:59 | ETA: 0:04:48 | Loss: 0.1982 | top1:  91.2266\n"
     ]
    },
    {
     "name": "stderr",
     "output_type": "stream",
     "text": [
      " 24%|██████████████████▋                                                            | 300/1272 [01:25<04:09,  3.89it/s]"
     ]
    },
    {
     "name": "stdout",
     "output_type": "stream",
     "text": [
      "(300/1272) Data: 0.024s | Batch: 0.286s | Total: 0:01:25 | ETA: 0:04:15 | Loss: 0.1980 | top1:  91.2310\n"
     ]
    },
    {
     "name": "stderr",
     "output_type": "stream",
     "text": [
      " 31%|████████████████████████▊                                                      | 400/1272 [01:52<03:52,  3.75it/s]"
     ]
    },
    {
     "name": "stdout",
     "output_type": "stream",
     "text": [
      "(400/1272) Data: 0.018s | Batch: 0.281s | Total: 0:01:52 | ETA: 0:03:52 | Loss: 0.1980 | top1:  91.2214\n"
     ]
    },
    {
     "name": "stderr",
     "output_type": "stream",
     "text": [
      " 39%|███████████████████████████████                                                | 500/1272 [02:19<03:25,  3.76it/s]"
     ]
    },
    {
     "name": "stdout",
     "output_type": "stream",
     "text": [
      "(500/1272) Data: 0.015s | Batch: 0.278s | Total: 0:02:19 | ETA: 0:03:26 | Loss: 0.1980 | top1:  91.2260\n"
     ]
    },
    {
     "name": "stderr",
     "output_type": "stream",
     "text": [
      " 47%|█████████████████████████████████████▎                                         | 600/1272 [02:45<03:01,  3.71it/s]"
     ]
    },
    {
     "name": "stdout",
     "output_type": "stream",
     "text": [
      "(600/1272) Data: 0.012s | Batch: 0.276s | Total: 0:02:45 | ETA: 0:03:03 | Loss: 0.1981 | top1:  91.2270\n"
     ]
    },
    {
     "name": "stderr",
     "output_type": "stream",
     "text": [
      " 55%|███████████████████████████████████████████▍                                   | 700/1272 [03:12<02:31,  3.79it/s]"
     ]
    },
    {
     "name": "stdout",
     "output_type": "stream",
     "text": [
      "(700/1272) Data: 0.011s | Batch: 0.275s | Total: 0:03:12 | ETA: 0:02:31 | Loss: 0.1978 | top1:  91.2413\n"
     ]
    },
    {
     "name": "stderr",
     "output_type": "stream",
     "text": [
      " 63%|█████████████████████████████████████████████████▋                             | 800/1272 [03:39<02:04,  3.80it/s]"
     ]
    },
    {
     "name": "stdout",
     "output_type": "stream",
     "text": [
      "(800/1272) Data: 0.009s | Batch: 0.274s | Total: 0:03:39 | ETA: 0:02:06 | Loss: 0.1978 | top1:  91.2455\n"
     ]
    },
    {
     "name": "stderr",
     "output_type": "stream",
     "text": [
      " 71%|███████████████████████████████████████████████████████▉                       | 900/1272 [04:05<01:37,  3.82it/s]"
     ]
    },
    {
     "name": "stdout",
     "output_type": "stream",
     "text": [
      "(900/1272) Data: 0.008s | Batch: 0.273s | Total: 0:04:05 | ETA: 0:01:39 | Loss: 0.1976 | top1:  91.2503\n"
     ]
    },
    {
     "name": "stderr",
     "output_type": "stream",
     "text": [
      " 79%|█████████████████████████████████████████████████████████████▎                | 1000/1272 [04:32<01:12,  3.74it/s]"
     ]
    },
    {
     "name": "stdout",
     "output_type": "stream",
     "text": [
      "(1000/1272) Data: 0.008s | Batch: 0.273s | Total: 0:04:32 | ETA: 0:01:14 | Loss: 0.1977 | top1:  91.2438\n"
     ]
    },
    {
     "name": "stderr",
     "output_type": "stream",
     "text": [
      " 86%|███████████████████████████████████████████████████████████████████▍          | 1100/1272 [04:59<00:45,  3.79it/s]"
     ]
    },
    {
     "name": "stdout",
     "output_type": "stream",
     "text": [
      "(1100/1272) Data: 0.007s | Batch: 0.272s | Total: 0:04:59 | ETA: 0:00:46 | Loss: 0.1977 | top1:  91.2469\n"
     ]
    },
    {
     "name": "stderr",
     "output_type": "stream",
     "text": [
      " 94%|█████████████████████████████████████████████████████████████████████████▌    | 1200/1272 [05:26<00:19,  3.71it/s]"
     ]
    },
    {
     "name": "stdout",
     "output_type": "stream",
     "text": [
      "(1200/1272) Data: 0.006s | Batch: 0.272s | Total: 0:05:26 | ETA: 0:00:20 | Loss: 0.1977 | top1:  91.2466\n"
     ]
    },
    {
     "name": "stderr",
     "output_type": "stream",
     "text": [
      "100%|██████████████████████████████████████████████████████████████████████████████| 1272/1272 [05:46<00:00,  3.68it/s]\n",
      "100%|████████████████████████████████████████████████████████████████████████████████| 156/156 [00:21<00:00,  7.38it/s]\n"
     ]
    },
    {
     "name": "stdout",
     "output_type": "stream",
     "text": [
      "=> saving checkpoint 'checkpoints\\checkpoint.pth.tar'\n"
     ]
    },
    {
     "name": "stderr",
     "output_type": "stream",
     "text": [
      "  0%|                                                                                         | 0/1272 [00:00<?, ?it/s]"
     ]
    },
    {
     "name": "stdout",
     "output_type": "stream",
     "text": [
      "\n",
      "Epoch: [9 | 60] LR: 0.100000\n"
     ]
    },
    {
     "name": "stderr",
     "output_type": "stream",
     "text": [
      "  8%|██████▏                                                                        | 100/1272 [00:32<05:11,  3.76it/s]"
     ]
    },
    {
     "name": "stdout",
     "output_type": "stream",
     "text": [
      "(100/1272) Data: 0.072s | Batch: 0.329s | Total: 0:00:32 | ETA: 0:05:12 | Loss: 0.1936 | top1:  91.4453\n"
     ]
    },
    {
     "name": "stderr",
     "output_type": "stream",
     "text": [
      " 16%|████████████▍                                                                  | 200/1272 [00:59<04:42,  3.79it/s]"
     ]
    },
    {
     "name": "stdout",
     "output_type": "stream",
     "text": [
      "(200/1272) Data: 0.036s | Batch: 0.297s | Total: 0:00:59 | ETA: 0:04:43 | Loss: 0.1932 | top1:  91.4592\n"
     ]
    },
    {
     "name": "stderr",
     "output_type": "stream",
     "text": [
      " 24%|██████████████████▋                                                            | 300/1272 [01:26<04:22,  3.70it/s]"
     ]
    },
    {
     "name": "stdout",
     "output_type": "stream",
     "text": [
      "(300/1272) Data: 0.024s | Batch: 0.287s | Total: 0:01:26 | ETA: 0:04:23 | Loss: 0.1937 | top1:  91.4358\n"
     ]
    },
    {
     "name": "stderr",
     "output_type": "stream",
     "text": [
      " 31%|████████████████████████▊                                                      | 400/1272 [01:52<03:54,  3.72it/s]"
     ]
    },
    {
     "name": "stdout",
     "output_type": "stream",
     "text": [
      "(400/1272) Data: 0.019s | Batch: 0.282s | Total: 0:01:52 | ETA: 0:03:56 | Loss: 0.1943 | top1:  91.4231\n"
     ]
    },
    {
     "name": "stderr",
     "output_type": "stream",
     "text": [
      " 39%|███████████████████████████████                                                | 500/1272 [02:19<03:29,  3.69it/s]"
     ]
    },
    {
     "name": "stdout",
     "output_type": "stream",
     "text": [
      "(500/1272) Data: 0.015s | Batch: 0.279s | Total: 0:02:19 | ETA: 0:03:29 | Loss: 0.1943 | top1:  91.4113\n"
     ]
    },
    {
     "name": "stderr",
     "output_type": "stream",
     "text": [
      " 47%|█████████████████████████████████████▎                                         | 600/1272 [02:46<02:59,  3.73it/s]"
     ]
    },
    {
     "name": "stdout",
     "output_type": "stream",
     "text": [
      "(600/1272) Data: 0.013s | Batch: 0.277s | Total: 0:02:46 | ETA: 0:02:58 | Loss: 0.1945 | top1:  91.4020\n"
     ]
    },
    {
     "name": "stderr",
     "output_type": "stream",
     "text": [
      " 55%|███████████████████████████████████████████▍                                   | 700/1272 [03:13<02:31,  3.77it/s]"
     ]
    },
    {
     "name": "stdout",
     "output_type": "stream",
     "text": [
      "(700/1272) Data: 0.011s | Batch: 0.276s | Total: 0:03:13 | ETA: 0:02:34 | Loss: 0.1946 | top1:  91.3943\n"
     ]
    },
    {
     "name": "stderr",
     "output_type": "stream",
     "text": [
      " 63%|█████████████████████████████████████████████████▋                             | 800/1272 [03:39<02:04,  3.79it/s]"
     ]
    },
    {
     "name": "stdout",
     "output_type": "stream",
     "text": [
      "(800/1272) Data: 0.010s | Batch: 0.275s | Total: 0:03:39 | ETA: 0:02:07 | Loss: 0.1945 | top1:  91.3987\n"
     ]
    },
    {
     "name": "stderr",
     "output_type": "stream",
     "text": [
      " 71%|███████████████████████████████████████████████████████▉                       | 900/1272 [04:06<01:37,  3.81it/s]"
     ]
    },
    {
     "name": "stdout",
     "output_type": "stream",
     "text": [
      "(900/1272) Data: 0.009s | Batch: 0.274s | Total: 0:04:06 | ETA: 0:01:40 | Loss: 0.1946 | top1:  91.3938\n"
     ]
    },
    {
     "name": "stderr",
     "output_type": "stream",
     "text": [
      " 79%|█████████████████████████████████████████████████████████████▎                | 1000/1272 [04:33<01:12,  3.73it/s]"
     ]
    },
    {
     "name": "stdout",
     "output_type": "stream",
     "text": [
      "(1000/1272) Data: 0.008s | Batch: 0.273s | Total: 0:04:33 | ETA: 0:01:13 | Loss: 0.1947 | top1:  91.3865\n"
     ]
    },
    {
     "name": "stderr",
     "output_type": "stream",
     "text": [
      " 86%|███████████████████████████████████████████████████████████████████▍          | 1100/1272 [05:00<00:46,  3.68it/s]"
     ]
    },
    {
     "name": "stdout",
     "output_type": "stream",
     "text": [
      "(1100/1272) Data: 0.007s | Batch: 0.273s | Total: 0:05:00 | ETA: 0:00:48 | Loss: 0.1947 | top1:  91.3860\n"
     ]
    },
    {
     "name": "stderr",
     "output_type": "stream",
     "text": [
      " 94%|█████████████████████████████████████████████████████████████████████████▌    | 1200/1272 [05:26<00:19,  3.79it/s]"
     ]
    },
    {
     "name": "stdout",
     "output_type": "stream",
     "text": [
      "(1200/1272) Data: 0.007s | Batch: 0.272s | Total: 0:05:26 | ETA: 0:00:20 | Loss: 0.1947 | top1:  91.3839\n"
     ]
    },
    {
     "name": "stderr",
     "output_type": "stream",
     "text": [
      "100%|██████████████████████████████████████████████████████████████████████████████| 1272/1272 [05:46<00:00,  3.67it/s]\n",
      "100%|████████████████████████████████████████████████████████████████████████████████| 156/156 [00:20<00:00,  7.46it/s]\n"
     ]
    },
    {
     "name": "stdout",
     "output_type": "stream",
     "text": [
      "=> saving checkpoint 'checkpoints\\checkpoint.pth.tar'\n"
     ]
    },
    {
     "name": "stderr",
     "output_type": "stream",
     "text": [
      "  0%|                                                                                         | 0/1272 [00:00<?, ?it/s]"
     ]
    },
    {
     "name": "stdout",
     "output_type": "stream",
     "text": [
      "\n",
      "Epoch: [10 | 60] LR: 0.100000\n"
     ]
    },
    {
     "name": "stderr",
     "output_type": "stream",
     "text": [
      "  8%|██████▏                                                                        | 100/1272 [00:32<05:12,  3.75it/s]"
     ]
    },
    {
     "name": "stdout",
     "output_type": "stream",
     "text": [
      "(100/1272) Data: 0.071s | Batch: 0.329s | Total: 0:00:32 | ETA: 0:05:16 | Loss: 0.1908 | top1:  91.5477\n"
     ]
    },
    {
     "name": "stderr",
     "output_type": "stream",
     "text": [
      " 16%|████████████▍                                                                  | 200/1272 [00:59<04:49,  3.70it/s]"
     ]
    },
    {
     "name": "stdout",
     "output_type": "stream",
     "text": [
      "(200/1272) Data: 0.036s | Batch: 0.298s | Total: 0:00:59 | ETA: 0:04:46 | Loss: 0.1915 | top1:  91.5205\n"
     ]
    },
    {
     "name": "stderr",
     "output_type": "stream",
     "text": [
      " 24%|██████████████████▋                                                            | 300/1272 [01:26<04:20,  3.73it/s]"
     ]
    },
    {
     "name": "stdout",
     "output_type": "stream",
     "text": [
      "(300/1272) Data: 0.024s | Batch: 0.287s | Total: 0:01:26 | ETA: 0:04:16 | Loss: 0.1920 | top1:  91.4933\n"
     ]
    },
    {
     "name": "stderr",
     "output_type": "stream",
     "text": [
      " 31%|████████████████████████▊                                                      | 400/1272 [01:52<03:50,  3.78it/s]"
     ]
    },
    {
     "name": "stdout",
     "output_type": "stream",
     "text": [
      "(400/1272) Data: 0.018s | Batch: 0.282s | Total: 0:01:52 | ETA: 0:03:57 | Loss: 0.1921 | top1:  91.4950\n"
     ]
    },
    {
     "name": "stderr",
     "output_type": "stream",
     "text": [
      " 39%|███████████████████████████████                                                | 500/1272 [02:19<03:29,  3.69it/s]"
     ]
    },
    {
     "name": "stdout",
     "output_type": "stream",
     "text": [
      "(500/1272) Data: 0.015s | Batch: 0.280s | Total: 0:02:19 | ETA: 0:03:27 | Loss: 0.1924 | top1:  91.4845\n"
     ]
    },
    {
     "name": "stderr",
     "output_type": "stream",
     "text": [
      " 47%|█████████████████████████████████████▎                                         | 600/1272 [02:46<02:59,  3.75it/s]"
     ]
    },
    {
     "name": "stdout",
     "output_type": "stream",
     "text": [
      "(600/1272) Data: 0.013s | Batch: 0.278s | Total: 0:02:46 | ETA: 0:02:57 | Loss: 0.1926 | top1:  91.4735\n"
     ]
    },
    {
     "name": "stderr",
     "output_type": "stream",
     "text": [
      " 55%|███████████████████████████████████████████▍                                   | 700/1272 [03:13<02:36,  3.67it/s]"
     ]
    },
    {
     "name": "stdout",
     "output_type": "stream",
     "text": [
      "(700/1272) Data: 0.011s | Batch: 0.277s | Total: 0:03:13 | ETA: 0:02:37 | Loss: 0.1925 | top1:  91.4836\n"
     ]
    },
    {
     "name": "stderr",
     "output_type": "stream",
     "text": [
      " 63%|█████████████████████████████████████████████████▋                             | 800/1272 [03:40<02:07,  3.70it/s]"
     ]
    },
    {
     "name": "stdout",
     "output_type": "stream",
     "text": [
      "(800/1272) Data: 0.010s | Batch: 0.276s | Total: 0:03:40 | ETA: 0:02:09 | Loss: 0.1923 | top1:  91.5007\n"
     ]
    },
    {
     "name": "stderr",
     "output_type": "stream",
     "text": [
      " 71%|███████████████████████████████████████████████████████▉                       | 900/1272 [04:07<01:39,  3.74it/s]"
     ]
    },
    {
     "name": "stdout",
     "output_type": "stream",
     "text": [
      "(900/1272) Data: 0.009s | Batch: 0.275s | Total: 0:04:07 | ETA: 0:01:41 | Loss: 0.1924 | top1:  91.4921\n"
     ]
    },
    {
     "name": "stderr",
     "output_type": "stream",
     "text": [
      " 79%|█████████████████████████████████████████████████████████████▎                | 1000/1272 [04:34<01:10,  3.86it/s]"
     ]
    },
    {
     "name": "stdout",
     "output_type": "stream",
     "text": [
      "(1000/1272) Data: 0.008s | Batch: 0.274s | Total: 0:04:34 | ETA: 0:01:12 | Loss: 0.1923 | top1:  91.4948\n"
     ]
    },
    {
     "name": "stderr",
     "output_type": "stream",
     "text": [
      " 86%|███████████████████████████████████████████████████████████████████▍          | 1100/1272 [05:00<00:45,  3.77it/s]"
     ]
    },
    {
     "name": "stdout",
     "output_type": "stream",
     "text": [
      "(1100/1272) Data: 0.007s | Batch: 0.274s | Total: 0:05:00 | ETA: 0:00:47 | Loss: 0.1924 | top1:  91.4944\n"
     ]
    },
    {
     "name": "stderr",
     "output_type": "stream",
     "text": [
      " 94%|█████████████████████████████████████████████████████████████████████████▌    | 1200/1272 [05:27<00:18,  3.81it/s]"
     ]
    },
    {
     "name": "stdout",
     "output_type": "stream",
     "text": [
      "(1200/1272) Data: 0.007s | Batch: 0.273s | Total: 0:05:27 | ETA: 0:00:20 | Loss: 0.1924 | top1:  91.4927\n"
     ]
    },
    {
     "name": "stderr",
     "output_type": "stream",
     "text": [
      "100%|██████████████████████████████████████████████████████████████████████████████| 1272/1272 [05:47<00:00,  3.66it/s]\n",
      "100%|████████████████████████████████████████████████████████████████████████████████| 156/156 [00:20<00:00,  7.47it/s]\n"
     ]
    },
    {
     "name": "stdout",
     "output_type": "stream",
     "text": [
      "=> saving checkpoint 'checkpoints\\checkpoint.pth.tar'\n"
     ]
    },
    {
     "name": "stderr",
     "output_type": "stream",
     "text": [
      "  0%|                                                                                         | 0/1272 [00:00<?, ?it/s]"
     ]
    },
    {
     "name": "stdout",
     "output_type": "stream",
     "text": [
      "=> saving best model 'checkpoints\\model_best.pth.tar'\n",
      "\n",
      "Epoch: [11 | 60] LR: 0.100000\n"
     ]
    },
    {
     "name": "stderr",
     "output_type": "stream",
     "text": [
      "  8%|██████▏                                                                        | 100/1272 [00:32<05:09,  3.79it/s]"
     ]
    },
    {
     "name": "stdout",
     "output_type": "stream",
     "text": [
      "(100/1272) Data: 0.072s | Batch: 0.328s | Total: 0:00:32 | ETA: 0:05:10 | Loss: 0.1882 | top1:  91.6678\n"
     ]
    },
    {
     "name": "stderr",
     "output_type": "stream",
     "text": [
      " 16%|████████████▍                                                                  | 200/1272 [00:59<04:42,  3.80it/s]"
     ]
    },
    {
     "name": "stdout",
     "output_type": "stream",
     "text": [
      "(200/1272) Data: 0.036s | Batch: 0.298s | Total: 0:00:59 | ETA: 0:04:46 | Loss: 0.1894 | top1:  91.6218\n"
     ]
    },
    {
     "name": "stderr",
     "output_type": "stream",
     "text": [
      " 24%|██████████████████▋                                                            | 300/1272 [01:26<04:16,  3.79it/s]"
     ]
    },
    {
     "name": "stdout",
     "output_type": "stream",
     "text": [
      "(300/1272) Data: 0.025s | Batch: 0.288s | Total: 0:01:26 | ETA: 0:04:21 | Loss: 0.1896 | top1:  91.6085\n"
     ]
    },
    {
     "name": "stderr",
     "output_type": "stream",
     "text": [
      " 31%|████████████████████████▊                                                      | 400/1272 [01:52<03:52,  3.75it/s]"
     ]
    },
    {
     "name": "stdout",
     "output_type": "stream",
     "text": [
      "(400/1272) Data: 0.019s | Batch: 0.282s | Total: 0:01:52 | ETA: 0:03:55 | Loss: 0.1894 | top1:  91.6272\n"
     ]
    },
    {
     "name": "stderr",
     "output_type": "stream",
     "text": [
      " 39%|███████████████████████████████                                                | 500/1272 [02:19<03:32,  3.63it/s]"
     ]
    },
    {
     "name": "stdout",
     "output_type": "stream",
     "text": [
      "(500/1272) Data: 0.015s | Batch: 0.279s | Total: 0:02:19 | ETA: 0:03:28 | Loss: 0.1896 | top1:  91.6217\n"
     ]
    },
    {
     "name": "stderr",
     "output_type": "stream",
     "text": [
      " 47%|█████████████████████████████████████▎                                         | 600/1272 [02:46<02:59,  3.75it/s]"
     ]
    },
    {
     "name": "stdout",
     "output_type": "stream",
     "text": [
      "(600/1272) Data: 0.013s | Batch: 0.277s | Total: 0:02:46 | ETA: 0:03:01 | Loss: 0.1900 | top1:  91.6026\n"
     ]
    },
    {
     "name": "stderr",
     "output_type": "stream",
     "text": [
      " 55%|███████████████████████████████████████████▍                                   | 700/1272 [03:13<02:29,  3.84it/s]"
     ]
    },
    {
     "name": "stdout",
     "output_type": "stream",
     "text": [
      "(700/1272) Data: 0.011s | Batch: 0.276s | Total: 0:03:13 | ETA: 0:02:33 | Loss: 0.1903 | top1:  91.5886\n"
     ]
    },
    {
     "name": "stderr",
     "output_type": "stream",
     "text": [
      " 63%|█████████████████████████████████████████████████▋                             | 800/1272 [03:39<02:04,  3.79it/s]"
     ]
    },
    {
     "name": "stdout",
     "output_type": "stream",
     "text": [
      "(800/1272) Data: 0.010s | Batch: 0.275s | Total: 0:03:39 | ETA: 0:02:05 | Loss: 0.1901 | top1:  91.5946\n"
     ]
    },
    {
     "name": "stderr",
     "output_type": "stream",
     "text": [
      " 71%|███████████████████████████████████████████████████████▉                       | 900/1272 [04:06<01:40,  3.72it/s]"
     ]
    },
    {
     "name": "stdout",
     "output_type": "stream",
     "text": [
      "(900/1272) Data: 0.009s | Batch: 0.274s | Total: 0:04:06 | ETA: 0:01:40 | Loss: 0.1902 | top1:  91.5869\n"
     ]
    },
    {
     "name": "stderr",
     "output_type": "stream",
     "text": [
      " 79%|█████████████████████████████████████████████████████████████▎                | 1000/1272 [04:33<01:13,  3.71it/s]"
     ]
    },
    {
     "name": "stdout",
     "output_type": "stream",
     "text": [
      "(1000/1272) Data: 0.008s | Batch: 0.273s | Total: 0:04:33 | ETA: 0:01:13 | Loss: 0.1903 | top1:  91.5839\n"
     ]
    },
    {
     "name": "stderr",
     "output_type": "stream",
     "text": [
      " 86%|███████████████████████████████████████████████████████████████████▍          | 1100/1272 [05:00<00:45,  3.78it/s]"
     ]
    },
    {
     "name": "stdout",
     "output_type": "stream",
     "text": [
      "(1100/1272) Data: 0.007s | Batch: 0.273s | Total: 0:05:00 | ETA: 0:00:46 | Loss: 0.1904 | top1:  91.5808\n"
     ]
    },
    {
     "name": "stderr",
     "output_type": "stream",
     "text": [
      " 94%|█████████████████████████████████████████████████████████████████████████▌    | 1200/1272 [05:26<00:19,  3.75it/s]"
     ]
    },
    {
     "name": "stdout",
     "output_type": "stream",
     "text": [
      "(1200/1272) Data: 0.007s | Batch: 0.272s | Total: 0:05:26 | ETA: 0:00:20 | Loss: 0.1905 | top1:  91.5767\n"
     ]
    },
    {
     "name": "stderr",
     "output_type": "stream",
     "text": [
      "100%|██████████████████████████████████████████████████████████████████████████████| 1272/1272 [05:46<00:00,  3.67it/s]\n",
      "100%|████████████████████████████████████████████████████████████████████████████████| 156/156 [00:20<00:00,  7.52it/s]\n"
     ]
    },
    {
     "name": "stdout",
     "output_type": "stream",
     "text": [
      "=> saving checkpoint 'checkpoints\\checkpoint.pth.tar'\n"
     ]
    },
    {
     "name": "stderr",
     "output_type": "stream",
     "text": [
      "  0%|                                                                                         | 0/1272 [00:00<?, ?it/s]"
     ]
    },
    {
     "name": "stdout",
     "output_type": "stream",
     "text": [
      "=> saving best model 'checkpoints\\model_best.pth.tar'\n",
      "\n",
      "Epoch: [12 | 60] LR: 0.100000\n"
     ]
    },
    {
     "name": "stderr",
     "output_type": "stream",
     "text": [
      "  8%|██████▏                                                                        | 100/1272 [00:32<05:07,  3.81it/s]"
     ]
    },
    {
     "name": "stdout",
     "output_type": "stream",
     "text": [
      "(100/1272) Data: 0.066s | Batch: 0.325s | Total: 0:00:32 | ETA: 0:05:11 | Loss: 0.1869 | top1:  91.6973\n"
     ]
    },
    {
     "name": "stderr",
     "output_type": "stream",
     "text": [
      " 16%|████████████▍                                                                  | 200/1272 [00:59<04:42,  3.79it/s]"
     ]
    },
    {
     "name": "stdout",
     "output_type": "stream",
     "text": [
      "(200/1272) Data: 0.033s | Batch: 0.295s | Total: 0:00:59 | ETA: 0:04:45 | Loss: 0.1870 | top1:  91.7082\n"
     ]
    },
    {
     "name": "stderr",
     "output_type": "stream",
     "text": [
      " 24%|██████████████████▋                                                            | 300/1272 [01:25<04:23,  3.69it/s]"
     ]
    },
    {
     "name": "stdout",
     "output_type": "stream",
     "text": [
      "(300/1272) Data: 0.023s | Batch: 0.286s | Total: 0:01:25 | ETA: 0:04:21 | Loss: 0.1876 | top1:  91.6836\n"
     ]
    },
    {
     "name": "stderr",
     "output_type": "stream",
     "text": [
      " 31%|████████████████████████▊                                                      | 400/1272 [01:52<03:54,  3.71it/s]"
     ]
    },
    {
     "name": "stdout",
     "output_type": "stream",
     "text": [
      "(400/1272) Data: 0.017s | Batch: 0.281s | Total: 0:01:52 | ETA: 0:03:52 | Loss: 0.1877 | top1:  91.6854\n"
     ]
    },
    {
     "name": "stderr",
     "output_type": "stream",
     "text": [
      " 39%|███████████████████████████████                                                | 500/1272 [02:19<03:27,  3.73it/s]"
     ]
    },
    {
     "name": "stdout",
     "output_type": "stream",
     "text": [
      "(500/1272) Data: 0.014s | Batch: 0.279s | Total: 0:02:19 | ETA: 0:03:29 | Loss: 0.1878 | top1:  91.6887\n"
     ]
    },
    {
     "name": "stderr",
     "output_type": "stream",
     "text": [
      " 47%|█████████████████████████████████████▎                                         | 600/1272 [02:46<03:04,  3.65it/s]"
     ]
    },
    {
     "name": "stdout",
     "output_type": "stream",
     "text": [
      "(600/1272) Data: 0.012s | Batch: 0.277s | Total: 0:02:46 | ETA: 0:03:03 | Loss: 0.1881 | top1:  91.6719\n"
     ]
    },
    {
     "name": "stderr",
     "output_type": "stream",
     "text": [
      " 55%|███████████████████████████████████████████▍                                   | 700/1272 [03:13<02:35,  3.68it/s]"
     ]
    },
    {
     "name": "stdout",
     "output_type": "stream",
     "text": [
      "(700/1272) Data: 0.010s | Batch: 0.276s | Total: 0:03:13 | ETA: 0:02:35 | Loss: 0.1881 | top1:  91.6799\n"
     ]
    },
    {
     "name": "stderr",
     "output_type": "stream",
     "text": [
      " 63%|█████████████████████████████████████████████████▋                             | 800/1272 [03:39<02:05,  3.76it/s]"
     ]
    },
    {
     "name": "stdout",
     "output_type": "stream",
     "text": [
      "(800/1272) Data: 0.009s | Batch: 0.275s | Total: 0:03:39 | ETA: 0:02:05 | Loss: 0.1883 | top1:  91.6755\n"
     ]
    },
    {
     "name": "stderr",
     "output_type": "stream",
     "text": [
      " 71%|███████████████████████████████████████████████████████▉                       | 900/1272 [04:06<01:40,  3.72it/s]"
     ]
    },
    {
     "name": "stdout",
     "output_type": "stream",
     "text": [
      "(900/1272) Data: 0.008s | Batch: 0.274s | Total: 0:04:06 | ETA: 0:01:41 | Loss: 0.1883 | top1:  91.6712\n"
     ]
    },
    {
     "name": "stderr",
     "output_type": "stream",
     "text": [
      " 79%|█████████████████████████████████████████████████████████████▎                | 1000/1272 [04:33<01:12,  3.77it/s]"
     ]
    },
    {
     "name": "stdout",
     "output_type": "stream",
     "text": [
      "(1000/1272) Data: 0.007s | Batch: 0.273s | Total: 0:04:33 | ETA: 0:01:13 | Loss: 0.1885 | top1:  91.6650\n"
     ]
    },
    {
     "name": "stderr",
     "output_type": "stream",
     "text": [
      " 86%|███████████████████████████████████████████████████████████████████▍          | 1100/1272 [05:00<00:46,  3.67it/s]"
     ]
    },
    {
     "name": "stdout",
     "output_type": "stream",
     "text": [
      "(1100/1272) Data: 0.007s | Batch: 0.273s | Total: 0:05:00 | ETA: 0:00:48 | Loss: 0.1886 | top1:  91.6627\n"
     ]
    },
    {
     "name": "stderr",
     "output_type": "stream",
     "text": [
      " 94%|█████████████████████████████████████████████████████████████████████████▌    | 1200/1272 [05:26<00:19,  3.77it/s]"
     ]
    },
    {
     "name": "stdout",
     "output_type": "stream",
     "text": [
      "(1200/1272) Data: 0.006s | Batch: 0.272s | Total: 0:05:26 | ETA: 0:00:20 | Loss: 0.1887 | top1:  91.6580\n"
     ]
    },
    {
     "name": "stderr",
     "output_type": "stream",
     "text": [
      "100%|██████████████████████████████████████████████████████████████████████████████| 1272/1272 [05:46<00:00,  3.67it/s]\n",
      "100%|████████████████████████████████████████████████████████████████████████████████| 156/156 [00:20<00:00,  7.50it/s]\n"
     ]
    },
    {
     "name": "stdout",
     "output_type": "stream",
     "text": [
      "=> saving checkpoint 'checkpoints\\checkpoint.pth.tar'\n"
     ]
    },
    {
     "name": "stderr",
     "output_type": "stream",
     "text": [
      "  0%|                                                                                         | 0/1272 [00:00<?, ?it/s]"
     ]
    },
    {
     "name": "stdout",
     "output_type": "stream",
     "text": [
      "\n",
      "Epoch: [13 | 60] LR: 0.100000\n"
     ]
    },
    {
     "name": "stderr",
     "output_type": "stream",
     "text": [
      "  8%|██████▏                                                                        | 100/1272 [00:32<05:10,  3.77it/s]"
     ]
    },
    {
     "name": "stdout",
     "output_type": "stream",
     "text": [
      "(100/1272) Data: 0.068s | Batch: 0.325s | Total: 0:00:32 | ETA: 0:05:11 | Loss: 0.1852 | top1:  91.8137\n"
     ]
    },
    {
     "name": "stderr",
     "output_type": "stream",
     "text": [
      " 16%|████████████▍                                                                  | 200/1272 [00:59<04:52,  3.66it/s]"
     ]
    },
    {
     "name": "stdout",
     "output_type": "stream",
     "text": [
      "(200/1272) Data: 0.034s | Batch: 0.296s | Total: 0:00:59 | ETA: 0:04:50 | Loss: 0.1856 | top1:  91.7783\n"
     ]
    },
    {
     "name": "stderr",
     "output_type": "stream",
     "text": [
      " 24%|██████████████████▋                                                            | 300/1272 [01:25<04:17,  3.77it/s]"
     ]
    },
    {
     "name": "stdout",
     "output_type": "stream",
     "text": [
      "(300/1272) Data: 0.023s | Batch: 0.287s | Total: 0:01:25 | ETA: 0:04:18 | Loss: 0.1858 | top1:  91.7658\n"
     ]
    },
    {
     "name": "stderr",
     "output_type": "stream",
     "text": [
      " 31%|████████████████████████▊                                                      | 400/1272 [01:52<03:49,  3.80it/s]"
     ]
    },
    {
     "name": "stdout",
     "output_type": "stream",
     "text": [
      "(400/1272) Data: 0.018s | Batch: 0.282s | Total: 0:01:52 | ETA: 0:03:52 | Loss: 0.1858 | top1:  91.7739\n"
     ]
    },
    {
     "name": "stderr",
     "output_type": "stream",
     "text": [
      " 39%|███████████████████████████████                                                | 500/1272 [02:19<03:31,  3.65it/s]"
     ]
    },
    {
     "name": "stdout",
     "output_type": "stream",
     "text": [
      "(500/1272) Data: 0.014s | Batch: 0.279s | Total: 0:02:19 | ETA: 0:03:26 | Loss: 0.1863 | top1:  91.7500\n"
     ]
    },
    {
     "name": "stderr",
     "output_type": "stream",
     "text": [
      " 47%|█████████████████████████████████████▎                                         | 600/1272 [02:46<03:00,  3.71it/s]"
     ]
    },
    {
     "name": "stdout",
     "output_type": "stream",
     "text": [
      "(600/1272) Data: 0.012s | Batch: 0.277s | Total: 0:02:46 | ETA: 0:03:00 | Loss: 0.1866 | top1:  91.7338\n"
     ]
    },
    {
     "name": "stderr",
     "output_type": "stream",
     "text": [
      " 55%|███████████████████████████████████████████▍                                   | 700/1272 [03:13<02:34,  3.70it/s]"
     ]
    },
    {
     "name": "stdout",
     "output_type": "stream",
     "text": [
      "(700/1272) Data: 0.010s | Batch: 0.276s | Total: 0:03:13 | ETA: 0:02:33 | Loss: 0.1868 | top1:  91.7296\n"
     ]
    },
    {
     "name": "stderr",
     "output_type": "stream",
     "text": [
      " 63%|█████████████████████████████████████████████████▋                             | 800/1272 [03:39<02:09,  3.65it/s]"
     ]
    },
    {
     "name": "stdout",
     "output_type": "stream",
     "text": [
      "(800/1272) Data: 0.009s | Batch: 0.275s | Total: 0:03:39 | ETA: 0:02:11 | Loss: 0.1868 | top1:  91.7260\n"
     ]
    },
    {
     "name": "stderr",
     "output_type": "stream",
     "text": [
      " 71%|███████████████████████████████████████████████████████▉                       | 900/1272 [04:06<01:41,  3.67it/s]"
     ]
    },
    {
     "name": "stdout",
     "output_type": "stream",
     "text": [
      "(900/1272) Data: 0.008s | Batch: 0.274s | Total: 0:04:06 | ETA: 0:01:41 | Loss: 0.1870 | top1:  91.7181\n"
     ]
    },
    {
     "name": "stderr",
     "output_type": "stream",
     "text": [
      " 79%|█████████████████████████████████████████████████████████████▎                | 1000/1272 [04:33<01:13,  3.71it/s]"
     ]
    },
    {
     "name": "stdout",
     "output_type": "stream",
     "text": [
      "(1000/1272) Data: 0.007s | Batch: 0.274s | Total: 0:04:33 | ETA: 0:01:14 | Loss: 0.1871 | top1:  91.7143\n"
     ]
    },
    {
     "name": "stderr",
     "output_type": "stream",
     "text": [
      " 86%|███████████████████████████████████████████████████████████████████▍          | 1100/1272 [05:00<00:46,  3.72it/s]"
     ]
    },
    {
     "name": "stdout",
     "output_type": "stream",
     "text": [
      "(1100/1272) Data: 0.007s | Batch: 0.273s | Total: 0:05:00 | ETA: 0:00:47 | Loss: 0.1873 | top1:  91.7041\n"
     ]
    },
    {
     "name": "stderr",
     "output_type": "stream",
     "text": [
      " 94%|█████████████████████████████████████████████████████████████████████████▌    | 1200/1272 [05:26<00:19,  3.66it/s]"
     ]
    },
    {
     "name": "stdout",
     "output_type": "stream",
     "text": [
      "(1200/1272) Data: 0.006s | Batch: 0.272s | Total: 0:05:26 | ETA: 0:00:20 | Loss: 0.1873 | top1:  91.7009\n"
     ]
    },
    {
     "name": "stderr",
     "output_type": "stream",
     "text": [
      "100%|██████████████████████████████████████████████████████████████████████████████| 1272/1272 [05:46<00:00,  3.67it/s]\n",
      "100%|████████████████████████████████████████████████████████████████████████████████| 156/156 [00:20<00:00,  7.48it/s]\n"
     ]
    },
    {
     "name": "stdout",
     "output_type": "stream",
     "text": [
      "=> saving checkpoint 'checkpoints\\checkpoint.pth.tar'\n"
     ]
    },
    {
     "name": "stderr",
     "output_type": "stream",
     "text": [
      "  0%|                                                                                         | 0/1272 [00:00<?, ?it/s]"
     ]
    },
    {
     "name": "stdout",
     "output_type": "stream",
     "text": [
      "\n",
      "Epoch: [14 | 60] LR: 0.100000\n"
     ]
    },
    {
     "name": "stderr",
     "output_type": "stream",
     "text": [
      "  8%|██████▏                                                                        | 100/1272 [00:32<05:04,  3.85it/s]"
     ]
    },
    {
     "name": "stdout",
     "output_type": "stream",
     "text": [
      "(100/1272) Data: 0.070s | Batch: 0.327s | Total: 0:00:32 | ETA: 0:05:12 | Loss: 0.1846 | top1:  91.7764\n"
     ]
    },
    {
     "name": "stderr",
     "output_type": "stream",
     "text": [
      " 16%|████████████▍                                                                  | 200/1272 [00:59<04:50,  3.69it/s]"
     ]
    },
    {
     "name": "stdout",
     "output_type": "stream",
     "text": [
      "(200/1272) Data: 0.036s | Batch: 0.297s | Total: 0:00:59 | ETA: 0:04:47 | Loss: 0.1847 | top1:  91.7928\n"
     ]
    },
    {
     "name": "stderr",
     "output_type": "stream",
     "text": [
      " 24%|██████████████████▋                                                            | 300/1272 [01:26<04:24,  3.68it/s]"
     ]
    },
    {
     "name": "stdout",
     "output_type": "stream",
     "text": [
      "(300/1272) Data: 0.024s | Batch: 0.287s | Total: 0:01:26 | ETA: 0:04:25 | Loss: 0.1848 | top1:  91.7958\n"
     ]
    },
    {
     "name": "stderr",
     "output_type": "stream",
     "text": [
      " 31%|████████████████████████▊                                                      | 400/1272 [01:52<03:58,  3.65it/s]"
     ]
    },
    {
     "name": "stdout",
     "output_type": "stream",
     "text": [
      "(400/1272) Data: 0.018s | Batch: 0.282s | Total: 0:01:52 | ETA: 0:03:53 | Loss: 0.1849 | top1:  91.7957\n"
     ]
    },
    {
     "name": "stderr",
     "output_type": "stream",
     "text": [
      " 39%|███████████████████████████████                                                | 500/1272 [02:19<03:24,  3.77it/s]"
     ]
    },
    {
     "name": "stdout",
     "output_type": "stream",
     "text": [
      "(500/1272) Data: 0.015s | Batch: 0.279s | Total: 0:02:19 | ETA: 0:03:28 | Loss: 0.1851 | top1:  91.7926\n"
     ]
    },
    {
     "name": "stderr",
     "output_type": "stream",
     "text": [
      " 47%|█████████████████████████████████████▎                                         | 600/1272 [02:46<03:05,  3.63it/s]"
     ]
    },
    {
     "name": "stdout",
     "output_type": "stream",
     "text": [
      "(600/1272) Data: 0.012s | Batch: 0.277s | Total: 0:02:46 | ETA: 0:02:59 | Loss: 0.1854 | top1:  91.7826\n"
     ]
    },
    {
     "name": "stderr",
     "output_type": "stream",
     "text": [
      " 55%|███████████████████████████████████████████▍                                   | 700/1272 [03:12<02:33,  3.72it/s]"
     ]
    },
    {
     "name": "stdout",
     "output_type": "stream",
     "text": [
      "(700/1272) Data: 0.011s | Batch: 0.276s | Total: 0:03:12 | ETA: 0:02:34 | Loss: 0.1855 | top1:  91.7757\n"
     ]
    },
    {
     "name": "stderr",
     "output_type": "stream",
     "text": [
      " 63%|█████████████████████████████████████████████████▋                             | 800/1272 [03:39<02:03,  3.81it/s]"
     ]
    },
    {
     "name": "stdout",
     "output_type": "stream",
     "text": [
      "(800/1272) Data: 0.009s | Batch: 0.275s | Total: 0:03:39 | ETA: 0:02:06 | Loss: 0.1856 | top1:  91.7686\n"
     ]
    },
    {
     "name": "stderr",
     "output_type": "stream",
     "text": [
      " 71%|███████████████████████████████████████████████████████▉                       | 900/1272 [04:06<01:36,  3.86it/s]"
     ]
    },
    {
     "name": "stdout",
     "output_type": "stream",
     "text": [
      "(900/1272) Data: 0.008s | Batch: 0.274s | Total: 0:04:06 | ETA: 0:01:38 | Loss: 0.1858 | top1:  91.7624\n"
     ]
    },
    {
     "name": "stderr",
     "output_type": "stream",
     "text": [
      " 79%|█████████████████████████████████████████████████████████████▎                | 1000/1272 [04:33<01:14,  3.67it/s]"
     ]
    },
    {
     "name": "stdout",
     "output_type": "stream",
     "text": [
      "(1000/1272) Data: 0.008s | Batch: 0.273s | Total: 0:04:33 | ETA: 0:01:14 | Loss: 0.1859 | top1:  91.7602\n"
     ]
    },
    {
     "name": "stderr",
     "output_type": "stream",
     "text": [
      " 86%|███████████████████████████████████████████████████████████████████▍          | 1100/1272 [04:59<00:46,  3.73it/s]"
     ]
    },
    {
     "name": "stdout",
     "output_type": "stream",
     "text": [
      "(1100/1272) Data: 0.007s | Batch: 0.273s | Total: 0:04:59 | ETA: 0:00:46 | Loss: 0.1859 | top1:  91.7570\n"
     ]
    },
    {
     "name": "stderr",
     "output_type": "stream",
     "text": [
      " 94%|█████████████████████████████████████████████████████████████████████████▌    | 1200/1272 [05:26<00:18,  3.81it/s]"
     ]
    },
    {
     "name": "stdout",
     "output_type": "stream",
     "text": [
      "(1200/1272) Data: 0.007s | Batch: 0.272s | Total: 0:05:26 | ETA: 0:00:20 | Loss: 0.1860 | top1:  91.7536\n"
     ]
    },
    {
     "name": "stderr",
     "output_type": "stream",
     "text": [
      "100%|██████████████████████████████████████████████████████████████████████████████| 1272/1272 [05:46<00:00,  3.67it/s]\n",
      "100%|████████████████████████████████████████████████████████████████████████████████| 156/156 [00:20<00:00,  7.54it/s]\n"
     ]
    },
    {
     "name": "stdout",
     "output_type": "stream",
     "text": [
      "=> saving checkpoint 'checkpoints\\checkpoint.pth.tar'\n"
     ]
    },
    {
     "name": "stderr",
     "output_type": "stream",
     "text": [
      "  0%|                                                                                         | 0/1272 [00:00<?, ?it/s]"
     ]
    },
    {
     "name": "stdout",
     "output_type": "stream",
     "text": [
      "=> saving best model 'checkpoints\\model_best.pth.tar'\n",
      "\n",
      "Epoch: [15 | 60] LR: 0.100000\n"
     ]
    },
    {
     "name": "stderr",
     "output_type": "stream",
     "text": [
      "  8%|██████▏                                                                        | 100/1272 [00:32<05:16,  3.71it/s]"
     ]
    },
    {
     "name": "stdout",
     "output_type": "stream",
     "text": [
      "(100/1272) Data: 0.071s | Batch: 0.329s | Total: 0:00:32 | ETA: 0:05:13 | Loss: 0.1831 | top1:  91.8672\n"
     ]
    },
    {
     "name": "stderr",
     "output_type": "stream",
     "text": [
      " 16%|████████████▍                                                                  | 200/1272 [00:59<04:48,  3.71it/s]"
     ]
    },
    {
     "name": "stdout",
     "output_type": "stream",
     "text": [
      "(200/1272) Data: 0.036s | Batch: 0.298s | Total: 0:00:59 | ETA: 0:04:39 | Loss: 0.1829 | top1:  91.8921\n"
     ]
    },
    {
     "name": "stderr",
     "output_type": "stream",
     "text": [
      " 24%|██████████████████▋                                                            | 300/1272 [01:26<04:13,  3.84it/s]"
     ]
    },
    {
     "name": "stdout",
     "output_type": "stream",
     "text": [
      "(300/1272) Data: 0.024s | Batch: 0.287s | Total: 0:01:26 | ETA: 0:04:17 | Loss: 0.1830 | top1:  91.8733\n"
     ]
    },
    {
     "name": "stderr",
     "output_type": "stream",
     "text": [
      " 31%|████████████████████████▊                                                      | 400/1272 [01:53<03:55,  3.70it/s]"
     ]
    },
    {
     "name": "stdout",
     "output_type": "stream",
     "text": [
      "(400/1272) Data: 0.018s | Batch: 0.283s | Total: 0:01:53 | ETA: 0:03:57 | Loss: 0.1837 | top1:  91.8539\n"
     ]
    },
    {
     "name": "stderr",
     "output_type": "stream",
     "text": [
      " 39%|███████████████████████████████                                                | 500/1272 [02:19<03:23,  3.80it/s]"
     ]
    },
    {
     "name": "stdout",
     "output_type": "stream",
     "text": [
      "(500/1272) Data: 0.015s | Batch: 0.280s | Total: 0:02:19 | ETA: 0:03:30 | Loss: 0.1836 | top1:  91.8625\n"
     ]
    },
    {
     "name": "stderr",
     "output_type": "stream",
     "text": [
      " 47%|█████████████████████████████████████▎                                         | 600/1272 [02:46<02:59,  3.73it/s]"
     ]
    },
    {
     "name": "stdout",
     "output_type": "stream",
     "text": [
      "(600/1272) Data: 0.012s | Batch: 0.278s | Total: 0:02:46 | ETA: 0:03:02 | Loss: 0.1837 | top1:  91.8571\n"
     ]
    },
    {
     "name": "stderr",
     "output_type": "stream",
     "text": [
      " 55%|███████████████████████████████████████████▍                                   | 700/1272 [03:13<02:35,  3.68it/s]"
     ]
    },
    {
     "name": "stdout",
     "output_type": "stream",
     "text": [
      "(700/1272) Data: 0.011s | Batch: 0.276s | Total: 0:03:13 | ETA: 0:02:34 | Loss: 0.1840 | top1:  91.8482\n"
     ]
    },
    {
     "name": "stderr",
     "output_type": "stream",
     "text": [
      " 63%|█████████████████████████████████████████████████▋                             | 800/1272 [03:40<02:05,  3.77it/s]"
     ]
    },
    {
     "name": "stdout",
     "output_type": "stream",
     "text": [
      "(800/1272) Data: 0.009s | Batch: 0.275s | Total: 0:03:40 | ETA: 0:02:07 | Loss: 0.1843 | top1:  91.8356\n"
     ]
    },
    {
     "name": "stderr",
     "output_type": "stream",
     "text": [
      " 71%|███████████████████████████████████████████████████████▉                       | 900/1272 [04:07<01:41,  3.66it/s]"
     ]
    },
    {
     "name": "stdout",
     "output_type": "stream",
     "text": [
      "(900/1272) Data: 0.009s | Batch: 0.275s | Total: 0:04:07 | ETA: 0:01:41 | Loss: 0.1844 | top1:  91.8325\n"
     ]
    },
    {
     "name": "stderr",
     "output_type": "stream",
     "text": [
      " 79%|█████████████████████████████████████████████████████████████▎                | 1000/1272 [04:33<01:12,  3.76it/s]"
     ]
    },
    {
     "name": "stdout",
     "output_type": "stream",
     "text": [
      "(1000/1272) Data: 0.008s | Batch: 0.274s | Total: 0:04:33 | ETA: 0:01:13 | Loss: 0.1846 | top1:  91.8285\n"
     ]
    },
    {
     "name": "stderr",
     "output_type": "stream",
     "text": [
      " 86%|███████████████████████████████████████████████████████████████████▍          | 1100/1272 [05:00<00:44,  3.83it/s]"
     ]
    },
    {
     "name": "stdout",
     "output_type": "stream",
     "text": [
      "(1100/1272) Data: 0.007s | Batch: 0.273s | Total: 0:05:00 | ETA: 0:00:46 | Loss: 0.1847 | top1:  91.8242\n"
     ]
    },
    {
     "name": "stderr",
     "output_type": "stream",
     "text": [
      " 94%|█████████████████████████████████████████████████████████████████████████▌    | 1200/1272 [05:27<00:19,  3.69it/s]"
     ]
    },
    {
     "name": "stdout",
     "output_type": "stream",
     "text": [
      "(1200/1272) Data: 0.007s | Batch: 0.273s | Total: 0:05:27 | ETA: 0:00:20 | Loss: 0.1848 | top1:  91.8180\n"
     ]
    },
    {
     "name": "stderr",
     "output_type": "stream",
     "text": [
      "100%|██████████████████████████████████████████████████████████████████████████████| 1272/1272 [05:47<00:00,  3.66it/s]\n",
      "100%|████████████████████████████████████████████████████████████████████████████████| 156/156 [00:20<00:00,  7.54it/s]\n"
     ]
    },
    {
     "name": "stdout",
     "output_type": "stream",
     "text": [
      "=> saving checkpoint 'checkpoints\\checkpoint.pth.tar'\n"
     ]
    },
    {
     "name": "stderr",
     "output_type": "stream",
     "text": [
      "  0%|                                                                                         | 0/1272 [00:00<?, ?it/s]"
     ]
    },
    {
     "name": "stdout",
     "output_type": "stream",
     "text": [
      "\n",
      "Epoch: [16 | 60] LR: 0.100000\n"
     ]
    },
    {
     "name": "stderr",
     "output_type": "stream",
     "text": [
      "  8%|██████▏                                                                        | 100/1272 [00:32<05:14,  3.73it/s]"
     ]
    },
    {
     "name": "stdout",
     "output_type": "stream",
     "text": [
      "(100/1272) Data: 0.071s | Batch: 0.327s | Total: 0:00:32 | ETA: 0:05:08 | Loss: 0.1810 | top1:  92.0244\n"
     ]
    },
    {
     "name": "stderr",
     "output_type": "stream",
     "text": [
      " 16%|████████████▍                                                                  | 200/1272 [00:59<04:49,  3.71it/s]"
     ]
    },
    {
     "name": "stdout",
     "output_type": "stream",
     "text": [
      "(200/1272) Data: 0.036s | Batch: 0.297s | Total: 0:00:59 | ETA: 0:04:48 | Loss: 0.1813 | top1:  91.9916\n"
     ]
    },
    {
     "name": "stderr",
     "output_type": "stream",
     "text": [
      " 24%|██████████████████▋                                                            | 300/1272 [01:26<04:18,  3.77it/s]"
     ]
    },
    {
     "name": "stdout",
     "output_type": "stream",
     "text": [
      "(300/1272) Data: 0.024s | Batch: 0.287s | Total: 0:01:26 | ETA: 0:04:20 | Loss: 0.1817 | top1:  91.9866\n"
     ]
    },
    {
     "name": "stderr",
     "output_type": "stream",
     "text": [
      " 31%|████████████████████████▊                                                      | 400/1272 [01:52<03:49,  3.80it/s]"
     ]
    },
    {
     "name": "stdout",
     "output_type": "stream",
     "text": [
      "(400/1272) Data: 0.018s | Batch: 0.282s | Total: 0:01:52 | ETA: 0:03:57 | Loss: 0.1818 | top1:  91.9824\n"
     ]
    },
    {
     "name": "stderr",
     "output_type": "stream",
     "text": [
      " 39%|███████████████████████████████                                                | 500/1272 [02:19<03:25,  3.75it/s]"
     ]
    },
    {
     "name": "stdout",
     "output_type": "stream",
     "text": [
      "(500/1272) Data: 0.015s | Batch: 0.280s | Total: 0:02:19 | ETA: 0:03:29 | Loss: 0.1824 | top1:  91.9513\n"
     ]
    },
    {
     "name": "stderr",
     "output_type": "stream",
     "text": [
      " 47%|█████████████████████████████████████▎                                         | 600/1272 [02:46<02:57,  3.79it/s]"
     ]
    },
    {
     "name": "stdout",
     "output_type": "stream",
     "text": [
      "(600/1272) Data: 0.013s | Batch: 0.278s | Total: 0:02:46 | ETA: 0:03:00 | Loss: 0.1825 | top1:  91.9449\n"
     ]
    },
    {
     "name": "stderr",
     "output_type": "stream",
     "text": [
      " 55%|███████████████████████████████████████████▍                                   | 700/1272 [03:13<02:32,  3.75it/s]"
     ]
    },
    {
     "name": "stdout",
     "output_type": "stream",
     "text": [
      "(700/1272) Data: 0.011s | Batch: 0.276s | Total: 0:03:13 | ETA: 0:02:36 | Loss: 0.1826 | top1:  91.9342\n"
     ]
    },
    {
     "name": "stderr",
     "output_type": "stream",
     "text": [
      " 63%|█████████████████████████████████████████████████▋                             | 800/1272 [03:40<02:08,  3.67it/s]"
     ]
    },
    {
     "name": "stdout",
     "output_type": "stream",
     "text": [
      "(800/1272) Data: 0.010s | Batch: 0.275s | Total: 0:03:40 | ETA: 0:02:08 | Loss: 0.1828 | top1:  91.9258\n"
     ]
    },
    {
     "name": "stderr",
     "output_type": "stream",
     "text": [
      " 71%|███████████████████████████████████████████████████████▉                       | 900/1272 [04:07<01:41,  3.65it/s]"
     ]
    },
    {
     "name": "stdout",
     "output_type": "stream",
     "text": [
      "(900/1272) Data: 0.009s | Batch: 0.275s | Total: 0:04:07 | ETA: 0:01:41 | Loss: 0.1829 | top1:  91.9199\n"
     ]
    },
    {
     "name": "stderr",
     "output_type": "stream",
     "text": [
      " 79%|█████████████████████████████████████████████████████████████▎                | 1000/1272 [04:33<01:14,  3.67it/s]"
     ]
    },
    {
     "name": "stdout",
     "output_type": "stream",
     "text": [
      "(1000/1272) Data: 0.008s | Batch: 0.274s | Total: 0:04:33 | ETA: 0:01:15 | Loss: 0.1830 | top1:  91.9121\n"
     ]
    },
    {
     "name": "stderr",
     "output_type": "stream",
     "text": [
      " 86%|███████████████████████████████████████████████████████████████████▍          | 1100/1272 [05:00<00:46,  3.68it/s]"
     ]
    },
    {
     "name": "stdout",
     "output_type": "stream",
     "text": [
      "(1100/1272) Data: 0.007s | Batch: 0.273s | Total: 0:05:00 | ETA: 0:00:47 | Loss: 0.1831 | top1:  91.9049\n"
     ]
    },
    {
     "name": "stderr",
     "output_type": "stream",
     "text": [
      " 94%|█████████████████████████████████████████████████████████████████████████▌    | 1200/1272 [05:27<00:18,  3.82it/s]"
     ]
    },
    {
     "name": "stdout",
     "output_type": "stream",
     "text": [
      "(1200/1272) Data: 0.007s | Batch: 0.273s | Total: 0:05:27 | ETA: 0:00:20 | Loss: 0.1833 | top1:  91.8986\n"
     ]
    },
    {
     "name": "stderr",
     "output_type": "stream",
     "text": [
      "100%|██████████████████████████████████████████████████████████████████████████████| 1272/1272 [05:47<00:00,  3.66it/s]\n",
      "100%|████████████████████████████████████████████████████████████████████████████████| 156/156 [00:20<00:00,  7.54it/s]\n"
     ]
    },
    {
     "name": "stdout",
     "output_type": "stream",
     "text": [
      "=> saving checkpoint 'checkpoints\\checkpoint.pth.tar'\n"
     ]
    },
    {
     "name": "stderr",
     "output_type": "stream",
     "text": [
      "  0%|                                                                                         | 0/1272 [00:00<?, ?it/s]"
     ]
    },
    {
     "name": "stdout",
     "output_type": "stream",
     "text": [
      "\n",
      "Epoch: [17 | 60] LR: 0.100000\n"
     ]
    },
    {
     "name": "stderr",
     "output_type": "stream",
     "text": [
      "  8%|██████▏                                                                        | 100/1272 [00:32<05:06,  3.82it/s]"
     ]
    },
    {
     "name": "stdout",
     "output_type": "stream",
     "text": [
      "(100/1272) Data: 0.071s | Batch: 0.329s | Total: 0:00:32 | ETA: 0:05:08 | Loss: 0.1809 | top1:  92.0355\n"
     ]
    },
    {
     "name": "stderr",
     "output_type": "stream",
     "text": [
      " 16%|████████████▍                                                                  | 200/1272 [00:59<04:46,  3.74it/s]"
     ]
    },
    {
     "name": "stdout",
     "output_type": "stream",
     "text": [
      "(200/1272) Data: 0.036s | Batch: 0.297s | Total: 0:00:59 | ETA: 0:04:47 | Loss: 0.1807 | top1:  92.0305\n"
     ]
    },
    {
     "name": "stderr",
     "output_type": "stream",
     "text": [
      " 24%|██████████████████▋                                                            | 300/1272 [01:26<04:21,  3.71it/s]"
     ]
    },
    {
     "name": "stdout",
     "output_type": "stream",
     "text": [
      "(300/1272) Data: 0.024s | Batch: 0.287s | Total: 0:01:26 | ETA: 0:04:26 | Loss: 0.1807 | top1:  92.0204\n"
     ]
    },
    {
     "name": "stderr",
     "output_type": "stream",
     "text": [
      " 31%|████████████████████████▊                                                      | 400/1272 [01:52<03:50,  3.78it/s]"
     ]
    },
    {
     "name": "stdout",
     "output_type": "stream",
     "text": [
      "(400/1272) Data: 0.018s | Batch: 0.282s | Total: 0:01:52 | ETA: 0:03:50 | Loss: 0.1810 | top1:  91.9972\n"
     ]
    },
    {
     "name": "stderr",
     "output_type": "stream",
     "text": [
      " 39%|███████████████████████████████                                                | 500/1272 [02:19<03:22,  3.82it/s]"
     ]
    },
    {
     "name": "stdout",
     "output_type": "stream",
     "text": [
      "(500/1272) Data: 0.015s | Batch: 0.279s | Total: 0:02:19 | ETA: 0:03:27 | Loss: 0.1811 | top1:  91.9868\n"
     ]
    },
    {
     "name": "stderr",
     "output_type": "stream",
     "text": [
      " 47%|█████████████████████████████████████▎                                         | 600/1272 [02:46<02:59,  3.74it/s]"
     ]
    },
    {
     "name": "stdout",
     "output_type": "stream",
     "text": [
      "(600/1272) Data: 0.012s | Batch: 0.277s | Total: 0:02:46 | ETA: 0:02:57 | Loss: 0.1815 | top1:  91.9717\n"
     ]
    },
    {
     "name": "stderr",
     "output_type": "stream",
     "text": [
      " 55%|███████████████████████████████████████████▍                                   | 700/1272 [03:13<02:33,  3.71it/s]"
     ]
    },
    {
     "name": "stdout",
     "output_type": "stream",
     "text": [
      "(700/1272) Data: 0.011s | Batch: 0.276s | Total: 0:03:13 | ETA: 0:02:36 | Loss: 0.1817 | top1:  91.9669\n"
     ]
    },
    {
     "name": "stderr",
     "output_type": "stream",
     "text": [
      " 63%|█████████████████████████████████████████████████▋                             | 800/1272 [03:39<02:05,  3.76it/s]"
     ]
    },
    {
     "name": "stdout",
     "output_type": "stream",
     "text": [
      "(800/1272) Data: 0.010s | Batch: 0.275s | Total: 0:03:39 | ETA: 0:02:07 | Loss: 0.1818 | top1:  91.9640\n"
     ]
    },
    {
     "name": "stderr",
     "output_type": "stream",
     "text": [
      " 71%|███████████████████████████████████████████████████████▉                       | 900/1272 [04:06<01:40,  3.70it/s]"
     ]
    },
    {
     "name": "stdout",
     "output_type": "stream",
     "text": [
      "(900/1272) Data: 0.009s | Batch: 0.274s | Total: 0:04:06 | ETA: 0:01:41 | Loss: 0.1818 | top1:  91.9633\n"
     ]
    },
    {
     "name": "stderr",
     "output_type": "stream",
     "text": [
      " 79%|█████████████████████████████████████████████████████████████▎                | 1000/1272 [04:33<01:10,  3.86it/s]"
     ]
    },
    {
     "name": "stdout",
     "output_type": "stream",
     "text": [
      "(1000/1272) Data: 0.008s | Batch: 0.273s | Total: 0:04:33 | ETA: 0:01:13 | Loss: 0.1819 | top1:  91.9580\n"
     ]
    },
    {
     "name": "stderr",
     "output_type": "stream",
     "text": [
      " 86%|███████████████████████████████████████████████████████████████████▍          | 1100/1272 [05:00<00:45,  3.81it/s]"
     ]
    },
    {
     "name": "stdout",
     "output_type": "stream",
     "text": [
      "(1100/1272) Data: 0.007s | Batch: 0.273s | Total: 0:05:00 | ETA: 0:00:47 | Loss: 0.1821 | top1:  91.9466\n"
     ]
    },
    {
     "name": "stderr",
     "output_type": "stream",
     "text": [
      " 94%|█████████████████████████████████████████████████████████████████████████▌    | 1200/1272 [05:26<00:18,  3.84it/s]"
     ]
    },
    {
     "name": "stdout",
     "output_type": "stream",
     "text": [
      "(1200/1272) Data: 0.007s | Batch: 0.272s | Total: 0:05:26 | ETA: 0:00:20 | Loss: 0.1823 | top1:  91.9343\n"
     ]
    },
    {
     "name": "stderr",
     "output_type": "stream",
     "text": [
      "100%|██████████████████████████████████████████████████████████████████████████████| 1272/1272 [05:46<00:00,  3.67it/s]\n",
      "100%|████████████████████████████████████████████████████████████████████████████████| 156/156 [00:20<00:00,  7.50it/s]\n"
     ]
    },
    {
     "name": "stdout",
     "output_type": "stream",
     "text": [
      "=> saving checkpoint 'checkpoints\\checkpoint.pth.tar'\n"
     ]
    },
    {
     "name": "stderr",
     "output_type": "stream",
     "text": [
      "  0%|                                                                                         | 0/1272 [00:00<?, ?it/s]"
     ]
    },
    {
     "name": "stdout",
     "output_type": "stream",
     "text": [
      "\n",
      "Epoch: [18 | 60] LR: 0.100000\n"
     ]
    },
    {
     "name": "stderr",
     "output_type": "stream",
     "text": [
      "  8%|██████▏                                                                        | 100/1272 [00:32<05:15,  3.72it/s]"
     ]
    },
    {
     "name": "stdout",
     "output_type": "stream",
     "text": [
      "(100/1272) Data: 0.066s | Batch: 0.325s | Total: 0:00:32 | ETA: 0:05:12 | Loss: 0.1769 | top1:  92.1543\n"
     ]
    },
    {
     "name": "stderr",
     "output_type": "stream",
     "text": [
      " 16%|████████████▍                                                                  | 200/1272 [00:59<04:51,  3.68it/s]"
     ]
    },
    {
     "name": "stdout",
     "output_type": "stream",
     "text": [
      "(200/1272) Data: 0.034s | Batch: 0.296s | Total: 0:00:59 | ETA: 0:04:52 | Loss: 0.1786 | top1:  92.0735\n"
     ]
    },
    {
     "name": "stderr",
     "output_type": "stream",
     "text": [
      " 24%|██████████████████▋                                                            | 300/1272 [01:25<04:15,  3.81it/s]"
     ]
    },
    {
     "name": "stdout",
     "output_type": "stream",
     "text": [
      "(300/1272) Data: 0.023s | Batch: 0.286s | Total: 0:01:25 | ETA: 0:04:18 | Loss: 0.1793 | top1:  92.0557\n"
     ]
    },
    {
     "name": "stderr",
     "output_type": "stream",
     "text": [
      " 31%|████████████████████████▊                                                      | 400/1272 [01:52<04:05,  3.55it/s]"
     ]
    },
    {
     "name": "stdout",
     "output_type": "stream",
     "text": [
      "(400/1272) Data: 0.017s | Batch: 0.282s | Total: 0:01:52 | ETA: 0:03:57 | Loss: 0.1798 | top1:  92.0316\n"
     ]
    },
    {
     "name": "stderr",
     "output_type": "stream",
     "text": [
      " 39%|███████████████████████████████                                                | 500/1272 [02:19<03:29,  3.69it/s]"
     ]
    },
    {
     "name": "stdout",
     "output_type": "stream",
     "text": [
      "(500/1272) Data: 0.014s | Batch: 0.279s | Total: 0:02:19 | ETA: 0:03:27 | Loss: 0.1803 | top1:  92.0048\n"
     ]
    },
    {
     "name": "stderr",
     "output_type": "stream",
     "text": [
      " 47%|█████████████████████████████████████▎                                         | 600/1272 [02:46<02:57,  3.78it/s]"
     ]
    },
    {
     "name": "stdout",
     "output_type": "stream",
     "text": [
      "(600/1272) Data: 0.012s | Batch: 0.277s | Total: 0:02:46 | ETA: 0:03:00 | Loss: 0.1805 | top1:  91.9948\n"
     ]
    },
    {
     "name": "stderr",
     "output_type": "stream",
     "text": [
      " 55%|███████████████████████████████████████████▍                                   | 700/1272 [03:13<02:29,  3.83it/s]"
     ]
    },
    {
     "name": "stdout",
     "output_type": "stream",
     "text": [
      "(700/1272) Data: 0.010s | Batch: 0.276s | Total: 0:03:13 | ETA: 0:02:34 | Loss: 0.1808 | top1:  91.9902\n"
     ]
    },
    {
     "name": "stderr",
     "output_type": "stream",
     "text": [
      " 63%|█████████████████████████████████████████████████▋                             | 800/1272 [03:39<02:03,  3.81it/s]"
     ]
    },
    {
     "name": "stdout",
     "output_type": "stream",
     "text": [
      "(800/1272) Data: 0.009s | Batch: 0.275s | Total: 0:03:39 | ETA: 0:02:06 | Loss: 0.1808 | top1:  91.9962\n"
     ]
    },
    {
     "name": "stderr",
     "output_type": "stream",
     "text": [
      " 71%|███████████████████████████████████████████████████████▉                       | 900/1272 [04:06<01:39,  3.72it/s]"
     ]
    },
    {
     "name": "stdout",
     "output_type": "stream",
     "text": [
      "(900/1272) Data: 0.008s | Batch: 0.274s | Total: 0:04:06 | ETA: 0:01:40 | Loss: 0.1809 | top1:  91.9967\n"
     ]
    },
    {
     "name": "stderr",
     "output_type": "stream",
     "text": [
      " 79%|█████████████████████████████████████████████████████████████▎                | 1000/1272 [04:33<01:13,  3.71it/s]"
     ]
    },
    {
     "name": "stdout",
     "output_type": "stream",
     "text": [
      "(1000/1272) Data: 0.007s | Batch: 0.274s | Total: 0:04:33 | ETA: 0:01:14 | Loss: 0.1811 | top1:  91.9861\n"
     ]
    },
    {
     "name": "stderr",
     "output_type": "stream",
     "text": [
      " 86%|███████████████████████████████████████████████████████████████████▍          | 1100/1272 [05:00<00:45,  3.78it/s]"
     ]
    },
    {
     "name": "stdout",
     "output_type": "stream",
     "text": [
      "(1100/1272) Data: 0.007s | Batch: 0.273s | Total: 0:05:00 | ETA: 0:00:47 | Loss: 0.1813 | top1:  91.9762\n"
     ]
    },
    {
     "name": "stderr",
     "output_type": "stream",
     "text": [
      " 94%|█████████████████████████████████████████████████████████████████████████▌    | 1200/1272 [05:27<00:19,  3.68it/s]"
     ]
    },
    {
     "name": "stdout",
     "output_type": "stream",
     "text": [
      "(1200/1272) Data: 0.006s | Batch: 0.273s | Total: 0:05:27 | ETA: 0:00:20 | Loss: 0.1814 | top1:  91.9705\n"
     ]
    },
    {
     "name": "stderr",
     "output_type": "stream",
     "text": [
      "100%|██████████████████████████████████████████████████████████████████████████████| 1272/1272 [05:47<00:00,  3.66it/s]\n",
      "100%|████████████████████████████████████████████████████████████████████████████████| 156/156 [00:21<00:00,  7.39it/s]\n"
     ]
    },
    {
     "name": "stdout",
     "output_type": "stream",
     "text": [
      "=> saving checkpoint 'checkpoints\\checkpoint.pth.tar'\n"
     ]
    },
    {
     "name": "stderr",
     "output_type": "stream",
     "text": [
      "  0%|                                                                                         | 0/1272 [00:00<?, ?it/s]"
     ]
    },
    {
     "name": "stdout",
     "output_type": "stream",
     "text": [
      "\n",
      "Epoch: [19 | 60] LR: 0.100000\n"
     ]
    },
    {
     "name": "stderr",
     "output_type": "stream",
     "text": [
      "  8%|██████▏                                                                        | 100/1272 [00:33<05:12,  3.75it/s]"
     ]
    },
    {
     "name": "stdout",
     "output_type": "stream",
     "text": [
      "(100/1272) Data: 0.073s | Batch: 0.331s | Total: 0:00:33 | ETA: 0:05:12 | Loss: 0.1780 | top1:  92.1105\n"
     ]
    },
    {
     "name": "stderr",
     "output_type": "stream",
     "text": [
      " 16%|████████████▍                                                                  | 200/1272 [00:59<04:51,  3.68it/s]"
     ]
    },
    {
     "name": "stdout",
     "output_type": "stream",
     "text": [
      "(200/1272) Data: 0.037s | Batch: 0.299s | Total: 0:00:59 | ETA: 0:04:48 | Loss: 0.1785 | top1:  92.1001\n"
     ]
    },
    {
     "name": "stderr",
     "output_type": "stream",
     "text": [
      " 24%|██████████████████▋                                                            | 300/1272 [01:26<04:16,  3.79it/s]"
     ]
    },
    {
     "name": "stdout",
     "output_type": "stream",
     "text": [
      "(300/1272) Data: 0.025s | Batch: 0.289s | Total: 0:01:26 | ETA: 0:04:20 | Loss: 0.1786 | top1:  92.0937\n"
     ]
    },
    {
     "name": "stderr",
     "output_type": "stream",
     "text": [
      " 31%|████████████████████████▊                                                      | 400/1272 [01:53<03:55,  3.70it/s]"
     ]
    },
    {
     "name": "stdout",
     "output_type": "stream",
     "text": [
      "(400/1272) Data: 0.019s | Batch: 0.283s | Total: 0:01:53 | ETA: 0:03:55 | Loss: 0.1789 | top1:  92.0780\n"
     ]
    },
    {
     "name": "stderr",
     "output_type": "stream",
     "text": [
      " 39%|███████████████████████████████                                                | 500/1272 [02:20<03:29,  3.68it/s]"
     ]
    },
    {
     "name": "stdout",
     "output_type": "stream",
     "text": [
      "(500/1272) Data: 0.015s | Batch: 0.280s | Total: 0:02:20 | ETA: 0:03:27 | Loss: 0.1791 | top1:  92.0753\n"
     ]
    },
    {
     "name": "stderr",
     "output_type": "stream",
     "text": [
      " 47%|█████████████████████████████████████▎                                         | 600/1272 [02:46<02:59,  3.75it/s]"
     ]
    },
    {
     "name": "stdout",
     "output_type": "stream",
     "text": [
      "(600/1272) Data: 0.013s | Batch: 0.278s | Total: 0:02:46 | ETA: 0:03:00 | Loss: 0.1794 | top1:  92.0664\n"
     ]
    },
    {
     "name": "stderr",
     "output_type": "stream",
     "text": [
      " 55%|███████████████████████████████████████████▍                                   | 700/1272 [03:13<02:34,  3.69it/s]"
     ]
    },
    {
     "name": "stdout",
     "output_type": "stream",
     "text": [
      "(700/1272) Data: 0.011s | Batch: 0.277s | Total: 0:03:13 | ETA: 0:02:35 | Loss: 0.1796 | top1:  92.0525\n"
     ]
    },
    {
     "name": "stderr",
     "output_type": "stream",
     "text": [
      " 63%|█████████████████████████████████████████████████▋                             | 800/1272 [03:40<02:07,  3.70it/s]"
     ]
    },
    {
     "name": "stdout",
     "output_type": "stream",
     "text": [
      "(800/1272) Data: 0.010s | Batch: 0.276s | Total: 0:03:40 | ETA: 0:02:08 | Loss: 0.1797 | top1:  92.0497\n"
     ]
    },
    {
     "name": "stderr",
     "output_type": "stream",
     "text": [
      " 71%|███████████████████████████████████████████████████████▉                       | 900/1272 [04:07<01:41,  3.65it/s]"
     ]
    },
    {
     "name": "stdout",
     "output_type": "stream",
     "text": [
      "(900/1272) Data: 0.009s | Batch: 0.275s | Total: 0:04:07 | ETA: 0:01:41 | Loss: 0.1801 | top1:  92.0350\n"
     ]
    },
    {
     "name": "stderr",
     "output_type": "stream",
     "text": [
      " 79%|█████████████████████████████████████████████████████████████▎                | 1000/1272 [04:33<01:14,  3.68it/s]"
     ]
    },
    {
     "name": "stdout",
     "output_type": "stream",
     "text": [
      "(1000/1272) Data: 0.008s | Batch: 0.274s | Total: 0:04:33 | ETA: 0:01:14 | Loss: 0.1802 | top1:  92.0314\n"
     ]
    },
    {
     "name": "stderr",
     "output_type": "stream",
     "text": [
      " 86%|███████████████████████████████████████████████████████████████████▍          | 1100/1272 [05:00<00:45,  3.78it/s]"
     ]
    },
    {
     "name": "stdout",
     "output_type": "stream",
     "text": [
      "(1100/1272) Data: 0.007s | Batch: 0.274s | Total: 0:05:00 | ETA: 0:00:47 | Loss: 0.1803 | top1:  92.0270\n"
     ]
    },
    {
     "name": "stderr",
     "output_type": "stream",
     "text": [
      " 94%|█████████████████████████████████████████████████████████████████████████▌    | 1200/1272 [05:27<00:19,  3.75it/s]"
     ]
    },
    {
     "name": "stdout",
     "output_type": "stream",
     "text": [
      "(1200/1272) Data: 0.007s | Batch: 0.273s | Total: 0:05:27 | ETA: 0:00:20 | Loss: 0.1804 | top1:  92.0191\n"
     ]
    },
    {
     "name": "stderr",
     "output_type": "stream",
     "text": [
      "100%|██████████████████████████████████████████████████████████████████████████████| 1272/1272 [05:47<00:00,  3.66it/s]\n",
      "100%|████████████████████████████████████████████████████████████████████████████████| 156/156 [00:21<00:00,  7.41it/s]\n"
     ]
    },
    {
     "name": "stdout",
     "output_type": "stream",
     "text": [
      "=> saving checkpoint 'checkpoints\\checkpoint.pth.tar'\n"
     ]
    },
    {
     "name": "stderr",
     "output_type": "stream",
     "text": [
      "  0%|                                                                                         | 0/1272 [00:00<?, ?it/s]"
     ]
    },
    {
     "name": "stdout",
     "output_type": "stream",
     "text": [
      "=> saving best model 'checkpoints\\model_best.pth.tar'\n",
      "\n",
      "Epoch: [20 | 60] LR: 0.100000\n"
     ]
    },
    {
     "name": "stderr",
     "output_type": "stream",
     "text": [
      "  8%|██████▏                                                                        | 100/1272 [00:32<05:14,  3.73it/s]"
     ]
    },
    {
     "name": "stdout",
     "output_type": "stream",
     "text": [
      "(100/1272) Data: 0.068s | Batch: 0.327s | Total: 0:00:32 | ETA: 0:05:13 | Loss: 0.1775 | top1:  92.1383\n"
     ]
    },
    {
     "name": "stderr",
     "output_type": "stream",
     "text": [
      " 16%|████████████▍                                                                  | 200/1272 [00:59<04:47,  3.73it/s]"
     ]
    },
    {
     "name": "stdout",
     "output_type": "stream",
     "text": [
      "(200/1272) Data: 0.034s | Batch: 0.296s | Total: 0:00:59 | ETA: 0:04:53 | Loss: 0.1780 | top1:  92.1261\n"
     ]
    },
    {
     "name": "stderr",
     "output_type": "stream",
     "text": [
      " 24%|██████████████████▋                                                            | 300/1272 [01:26<04:25,  3.66it/s]"
     ]
    },
    {
     "name": "stdout",
     "output_type": "stream",
     "text": [
      "(300/1272) Data: 0.023s | Batch: 0.287s | Total: 0:01:26 | ETA: 0:04:26 | Loss: 0.1782 | top1:  92.1057\n"
     ]
    },
    {
     "name": "stderr",
     "output_type": "stream",
     "text": [
      " 31%|████████████████████████▊                                                      | 400/1272 [01:53<03:50,  3.79it/s]"
     ]
    },
    {
     "name": "stdout",
     "output_type": "stream",
     "text": [
      "(400/1272) Data: 0.017s | Batch: 0.283s | Total: 0:01:53 | ETA: 0:03:51 | Loss: 0.1782 | top1:  92.0993\n"
     ]
    },
    {
     "name": "stderr",
     "output_type": "stream",
     "text": [
      " 39%|███████████████████████████████                                                | 500/1272 [02:19<03:27,  3.73it/s]"
     ]
    },
    {
     "name": "stdout",
     "output_type": "stream",
     "text": [
      "(500/1272) Data: 0.014s | Batch: 0.279s | Total: 0:02:19 | ETA: 0:03:26 | Loss: 0.1785 | top1:  92.0888\n"
     ]
    },
    {
     "name": "stderr",
     "output_type": "stream",
     "text": [
      " 47%|█████████████████████████████████████▎                                         | 600/1272 [02:46<03:00,  3.73it/s]"
     ]
    },
    {
     "name": "stdout",
     "output_type": "stream",
     "text": [
      "(600/1272) Data: 0.012s | Batch: 0.277s | Total: 0:02:46 | ETA: 0:03:01 | Loss: 0.1789 | top1:  92.0750\n"
     ]
    },
    {
     "name": "stderr",
     "output_type": "stream",
     "text": [
      " 55%|███████████████████████████████████████████▍                                   | 700/1272 [03:13<02:35,  3.67it/s]"
     ]
    },
    {
     "name": "stdout",
     "output_type": "stream",
     "text": [
      "(700/1272) Data: 0.010s | Batch: 0.276s | Total: 0:03:13 | ETA: 0:02:36 | Loss: 0.1790 | top1:  92.0713\n"
     ]
    },
    {
     "name": "stderr",
     "output_type": "stream",
     "text": [
      " 63%|█████████████████████████████████████████████████▋                             | 800/1272 [03:39<02:09,  3.64it/s]"
     ]
    },
    {
     "name": "stdout",
     "output_type": "stream",
     "text": [
      "(800/1272) Data: 0.009s | Batch: 0.275s | Total: 0:03:39 | ETA: 0:02:08 | Loss: 0.1793 | top1:  92.0601\n"
     ]
    },
    {
     "name": "stderr",
     "output_type": "stream",
     "text": [
      " 71%|███████████████████████████████████████████████████████▉                       | 900/1272 [04:06<01:36,  3.85it/s]"
     ]
    },
    {
     "name": "stdout",
     "output_type": "stream",
     "text": [
      "(900/1272) Data: 0.008s | Batch: 0.274s | Total: 0:04:06 | ETA: 0:01:39 | Loss: 0.1795 | top1:  92.0546\n"
     ]
    },
    {
     "name": "stderr",
     "output_type": "stream",
     "text": [
      " 79%|█████████████████████████████████████████████████████████████▎                | 1000/1272 [04:33<01:13,  3.71it/s]"
     ]
    },
    {
     "name": "stdout",
     "output_type": "stream",
     "text": [
      "(1000/1272) Data: 0.007s | Batch: 0.273s | Total: 0:04:33 | ETA: 0:01:15 | Loss: 0.1796 | top1:  92.0501\n"
     ]
    },
    {
     "name": "stderr",
     "output_type": "stream",
     "text": [
      " 86%|███████████████████████████████████████████████████████████████████▍          | 1100/1272 [05:00<00:46,  3.67it/s]"
     ]
    },
    {
     "name": "stdout",
     "output_type": "stream",
     "text": [
      "(1100/1272) Data: 0.007s | Batch: 0.273s | Total: 0:05:00 | ETA: 0:00:47 | Loss: 0.1796 | top1:  92.0538\n"
     ]
    },
    {
     "name": "stderr",
     "output_type": "stream",
     "text": [
      " 94%|█████████████████████████████████████████████████████████████████████████▌    | 1200/1272 [05:27<00:19,  3.74it/s]"
     ]
    },
    {
     "name": "stdout",
     "output_type": "stream",
     "text": [
      "(1200/1272) Data: 0.006s | Batch: 0.273s | Total: 0:05:27 | ETA: 0:00:20 | Loss: 0.1796 | top1:  92.0521\n"
     ]
    },
    {
     "name": "stderr",
     "output_type": "stream",
     "text": [
      "100%|██████████████████████████████████████████████████████████████████████████████| 1272/1272 [05:46<00:00,  3.67it/s]\n",
      "100%|████████████████████████████████████████████████████████████████████████████████| 156/156 [00:21<00:00,  7.27it/s]\n"
     ]
    },
    {
     "name": "stdout",
     "output_type": "stream",
     "text": [
      "=> saving checkpoint 'checkpoints\\checkpoint.pth.tar'\n"
     ]
    },
    {
     "name": "stderr",
     "output_type": "stream",
     "text": [
      "  0%|                                                                                         | 0/1272 [00:00<?, ?it/s]"
     ]
    },
    {
     "name": "stdout",
     "output_type": "stream",
     "text": [
      "\n",
      "Epoch: [21 | 60] LR: 0.100000\n"
     ]
    },
    {
     "name": "stderr",
     "output_type": "stream",
     "text": [
      "  8%|██████▏                                                                        | 100/1272 [00:32<05:12,  3.75it/s]"
     ]
    },
    {
     "name": "stdout",
     "output_type": "stream",
     "text": [
      "(100/1272) Data: 0.071s | Batch: 0.330s | Total: 0:00:32 | ETA: 0:05:13 | Loss: 0.1752 | top1:  92.2613\n"
     ]
    },
    {
     "name": "stderr",
     "output_type": "stream",
     "text": [
      " 16%|████████████▍                                                                  | 200/1272 [00:59<04:45,  3.75it/s]"
     ]
    },
    {
     "name": "stdout",
     "output_type": "stream",
     "text": [
      "(200/1272) Data: 0.036s | Batch: 0.298s | Total: 0:00:59 | ETA: 0:04:48 | Loss: 0.1756 | top1:  92.2463\n"
     ]
    },
    {
     "name": "stderr",
     "output_type": "stream",
     "text": [
      " 24%|██████████████████▋                                                            | 300/1272 [01:26<04:18,  3.76it/s]"
     ]
    },
    {
     "name": "stdout",
     "output_type": "stream",
     "text": [
      "(300/1272) Data: 0.024s | Batch: 0.288s | Total: 0:01:26 | ETA: 0:04:18 | Loss: 0.1758 | top1:  92.2201\n"
     ]
    },
    {
     "name": "stderr",
     "output_type": "stream",
     "text": [
      " 31%|████████████████████████▊                                                      | 400/1272 [01:53<03:54,  3.72it/s]"
     ]
    },
    {
     "name": "stdout",
     "output_type": "stream",
     "text": [
      "(400/1272) Data: 0.018s | Batch: 0.283s | Total: 0:01:53 | ETA: 0:03:51 | Loss: 0.1759 | top1:  92.2188\n"
     ]
    },
    {
     "name": "stderr",
     "output_type": "stream",
     "text": [
      " 39%|███████████████████████████████                                                | 500/1272 [02:19<03:29,  3.68it/s]"
     ]
    },
    {
     "name": "stdout",
     "output_type": "stream",
     "text": [
      "(500/1272) Data: 0.015s | Batch: 0.280s | Total: 0:02:19 | ETA: 0:03:29 | Loss: 0.1765 | top1:  92.2003\n"
     ]
    },
    {
     "name": "stderr",
     "output_type": "stream",
     "text": [
      " 47%|█████████████████████████████████████▎                                         | 600/1272 [02:46<02:58,  3.76it/s]"
     ]
    },
    {
     "name": "stdout",
     "output_type": "stream",
     "text": [
      "(600/1272) Data: 0.012s | Batch: 0.278s | Total: 0:02:46 | ETA: 0:02:57 | Loss: 0.1769 | top1:  92.1798\n"
     ]
    },
    {
     "name": "stderr",
     "output_type": "stream",
     "text": [
      " 55%|███████████████████████████████████████████▍                                   | 700/1272 [03:13<02:34,  3.69it/s]"
     ]
    },
    {
     "name": "stdout",
     "output_type": "stream",
     "text": [
      "(700/1272) Data: 0.011s | Batch: 0.277s | Total: 0:03:13 | ETA: 0:02:36 | Loss: 0.1773 | top1:  92.1591\n"
     ]
    },
    {
     "name": "stderr",
     "output_type": "stream",
     "text": [
      " 63%|█████████████████████████████████████████████████▋                             | 800/1272 [03:40<02:05,  3.76it/s]"
     ]
    },
    {
     "name": "stdout",
     "output_type": "stream",
     "text": [
      "(800/1272) Data: 0.010s | Batch: 0.276s | Total: 0:03:40 | ETA: 0:02:09 | Loss: 0.1776 | top1:  92.1455\n"
     ]
    },
    {
     "name": "stderr",
     "output_type": "stream",
     "text": [
      " 71%|███████████████████████████████████████████████████████▉                       | 900/1272 [04:07<01:38,  3.79it/s]"
     ]
    },
    {
     "name": "stdout",
     "output_type": "stream",
     "text": [
      "(900/1272) Data: 0.009s | Batch: 0.275s | Total: 0:04:07 | ETA: 0:01:39 | Loss: 0.1779 | top1:  92.1340\n"
     ]
    },
    {
     "name": "stderr",
     "output_type": "stream",
     "text": [
      " 79%|█████████████████████████████████████████████████████████████▎                | 1000/1272 [04:34<01:12,  3.73it/s]"
     ]
    },
    {
     "name": "stdout",
     "output_type": "stream",
     "text": [
      "(1000/1272) Data: 0.008s | Batch: 0.274s | Total: 0:04:34 | ETA: 0:01:14 | Loss: 0.1781 | top1:  92.1224\n"
     ]
    },
    {
     "name": "stderr",
     "output_type": "stream",
     "text": [
      " 86%|███████████████████████████████████████████████████████████████████▍          | 1100/1272 [05:00<00:45,  3.78it/s]"
     ]
    },
    {
     "name": "stdout",
     "output_type": "stream",
     "text": [
      "(1100/1272) Data: 0.007s | Batch: 0.273s | Total: 0:05:00 | ETA: 0:00:47 | Loss: 0.1784 | top1:  92.1089\n"
     ]
    },
    {
     "name": "stderr",
     "output_type": "stream",
     "text": [
      " 94%|█████████████████████████████████████████████████████████████████████████▌    | 1200/1272 [05:27<00:19,  3.70it/s]"
     ]
    },
    {
     "name": "stdout",
     "output_type": "stream",
     "text": [
      "(1200/1272) Data: 0.007s | Batch: 0.273s | Total: 0:05:27 | ETA: 0:00:20 | Loss: 0.1784 | top1:  92.1070\n"
     ]
    },
    {
     "name": "stderr",
     "output_type": "stream",
     "text": [
      "100%|██████████████████████████████████████████████████████████████████████████████| 1272/1272 [05:47<00:00,  3.66it/s]\n",
      "100%|████████████████████████████████████████████████████████████████████████████████| 156/156 [00:20<00:00,  7.49it/s]\n"
     ]
    },
    {
     "name": "stdout",
     "output_type": "stream",
     "text": [
      "=> saving checkpoint 'checkpoints\\checkpoint.pth.tar'\n"
     ]
    },
    {
     "name": "stderr",
     "output_type": "stream",
     "text": [
      "  0%|                                                                                         | 0/1272 [00:00<?, ?it/s]"
     ]
    },
    {
     "name": "stdout",
     "output_type": "stream",
     "text": [
      "\n",
      "Epoch: [22 | 60] LR: 0.100000\n"
     ]
    },
    {
     "name": "stderr",
     "output_type": "stream",
     "text": [
      "  8%|██████▏                                                                        | 100/1272 [00:32<05:10,  3.77it/s]"
     ]
    },
    {
     "name": "stdout",
     "output_type": "stream",
     "text": [
      "(100/1272) Data: 0.072s | Batch: 0.330s | Total: 0:00:32 | ETA: 0:05:16 | Loss: 0.1744 | top1:  92.2293\n"
     ]
    },
    {
     "name": "stderr",
     "output_type": "stream",
     "text": [
      " 16%|████████████▍                                                                  | 200/1272 [00:59<04:51,  3.68it/s]"
     ]
    },
    {
     "name": "stdout",
     "output_type": "stream",
     "text": [
      "(200/1272) Data: 0.036s | Batch: 0.298s | Total: 0:00:59 | ETA: 0:04:53 | Loss: 0.1748 | top1:  92.2289\n"
     ]
    },
    {
     "name": "stderr",
     "output_type": "stream",
     "text": [
      " 24%|██████████████████▋                                                            | 300/1272 [01:26<04:23,  3.69it/s]"
     ]
    },
    {
     "name": "stdout",
     "output_type": "stream",
     "text": [
      "(300/1272) Data: 0.024s | Batch: 0.288s | Total: 0:01:26 | ETA: 0:04:20 | Loss: 0.1752 | top1:  92.2199\n"
     ]
    },
    {
     "name": "stderr",
     "output_type": "stream",
     "text": [
      " 31%|████████████████████████▊                                                      | 400/1272 [01:53<03:56,  3.69it/s]"
     ]
    },
    {
     "name": "stdout",
     "output_type": "stream",
     "text": [
      "(400/1272) Data: 0.018s | Batch: 0.283s | Total: 0:01:53 | ETA: 0:03:55 | Loss: 0.1753 | top1:  92.2294\n"
     ]
    },
    {
     "name": "stderr",
     "output_type": "stream",
     "text": [
      " 39%|███████████████████████████████                                                | 500/1272 [02:19<03:23,  3.79it/s]"
     ]
    },
    {
     "name": "stdout",
     "output_type": "stream",
     "text": [
      "(500/1272) Data: 0.015s | Batch: 0.280s | Total: 0:02:19 | ETA: 0:03:31 | Loss: 0.1756 | top1:  92.2221\n"
     ]
    },
    {
     "name": "stderr",
     "output_type": "stream",
     "text": [
      " 47%|█████████████████████████████████████▎                                         | 600/1272 [02:46<02:55,  3.83it/s]"
     ]
    },
    {
     "name": "stdout",
     "output_type": "stream",
     "text": [
      "(600/1272) Data: 0.013s | Batch: 0.278s | Total: 0:02:46 | ETA: 0:02:59 | Loss: 0.1760 | top1:  92.2095\n"
     ]
    },
    {
     "name": "stderr",
     "output_type": "stream",
     "text": [
      " 55%|███████████████████████████████████████████▍                                   | 700/1272 [03:13<02:32,  3.74it/s]"
     ]
    },
    {
     "name": "stdout",
     "output_type": "stream",
     "text": [
      "(700/1272) Data: 0.011s | Batch: 0.277s | Total: 0:03:13 | ETA: 0:02:34 | Loss: 0.1764 | top1:  92.1999\n"
     ]
    },
    {
     "name": "stderr",
     "output_type": "stream",
     "text": [
      " 63%|█████████████████████████████████████████████████▋                             | 800/1272 [03:40<02:06,  3.74it/s]"
     ]
    },
    {
     "name": "stdout",
     "output_type": "stream",
     "text": [
      "(800/1272) Data: 0.010s | Batch: 0.276s | Total: 0:03:40 | ETA: 0:02:07 | Loss: 0.1766 | top1:  92.1862\n"
     ]
    },
    {
     "name": "stderr",
     "output_type": "stream",
     "text": [
      " 71%|███████████████████████████████████████████████████████▉                       | 900/1272 [04:07<01:41,  3.65it/s]"
     ]
    },
    {
     "name": "stdout",
     "output_type": "stream",
     "text": [
      "(900/1272) Data: 0.009s | Batch: 0.275s | Total: 0:04:07 | ETA: 0:01:42 | Loss: 0.1768 | top1:  92.1808\n"
     ]
    },
    {
     "name": "stderr",
     "output_type": "stream",
     "text": [
      " 79%|█████████████████████████████████████████████████████████████▎                | 1000/1272 [04:33<01:10,  3.83it/s]"
     ]
    },
    {
     "name": "stdout",
     "output_type": "stream",
     "text": [
      "(1000/1272) Data: 0.008s | Batch: 0.274s | Total: 0:04:33 | ETA: 0:01:12 | Loss: 0.1770 | top1:  92.1707\n"
     ]
    },
    {
     "name": "stderr",
     "output_type": "stream",
     "text": [
      " 86%|███████████████████████████████████████████████████████████████████▍          | 1100/1272 [05:00<00:45,  3.82it/s]"
     ]
    },
    {
     "name": "stdout",
     "output_type": "stream",
     "text": [
      "(1100/1272) Data: 0.007s | Batch: 0.273s | Total: 0:05:00 | ETA: 0:00:46 | Loss: 0.1772 | top1:  92.1623\n"
     ]
    },
    {
     "name": "stderr",
     "output_type": "stream",
     "text": [
      " 94%|█████████████████████████████████████████████████████████████████████████▌    | 1200/1272 [05:27<00:19,  3.69it/s]"
     ]
    },
    {
     "name": "stdout",
     "output_type": "stream",
     "text": [
      "(1200/1272) Data: 0.007s | Batch: 0.273s | Total: 0:05:27 | ETA: 0:00:20 | Loss: 0.1774 | top1:  92.1540\n"
     ]
    },
    {
     "name": "stderr",
     "output_type": "stream",
     "text": [
      "100%|██████████████████████████████████████████████████████████████████████████████| 1272/1272 [05:47<00:00,  3.66it/s]\n",
      "100%|████████████████████████████████████████████████████████████████████████████████| 156/156 [00:20<00:00,  7.55it/s]\n"
     ]
    },
    {
     "name": "stdout",
     "output_type": "stream",
     "text": [
      "=> saving checkpoint 'checkpoints\\checkpoint.pth.tar'\n"
     ]
    },
    {
     "name": "stderr",
     "output_type": "stream",
     "text": [
      "  0%|                                                                                         | 0/1272 [00:00<?, ?it/s]"
     ]
    },
    {
     "name": "stdout",
     "output_type": "stream",
     "text": [
      "\n",
      "Epoch: [23 | 60] LR: 0.100000\n"
     ]
    },
    {
     "name": "stderr",
     "output_type": "stream",
     "text": [
      "  8%|██████▏                                                                        | 100/1272 [00:32<05:13,  3.74it/s]"
     ]
    },
    {
     "name": "stdout",
     "output_type": "stream",
     "text": [
      "(100/1272) Data: 0.066s | Batch: 0.324s | Total: 0:00:32 | ETA: 0:05:06 | Loss: 0.1744 | top1:  92.2584\n"
     ]
    },
    {
     "name": "stderr",
     "output_type": "stream",
     "text": [
      " 16%|████████████▍                                                                  | 200/1272 [00:58<04:50,  3.69it/s]"
     ]
    },
    {
     "name": "stdout",
     "output_type": "stream",
     "text": [
      "(200/1272) Data: 0.033s | Batch: 0.295s | Total: 0:00:58 | ETA: 0:04:43 | Loss: 0.1747 | top1:  92.2564\n"
     ]
    },
    {
     "name": "stderr",
     "output_type": "stream",
     "text": [
      " 24%|██████████████████▋                                                            | 300/1272 [01:25<04:19,  3.75it/s]"
     ]
    },
    {
     "name": "stdout",
     "output_type": "stream",
     "text": [
      "(300/1272) Data: 0.022s | Batch: 0.285s | Total: 0:01:25 | ETA: 0:04:16 | Loss: 0.1752 | top1:  92.2469\n"
     ]
    },
    {
     "name": "stderr",
     "output_type": "stream",
     "text": [
      " 31%|████████████████████████▊                                                      | 400/1272 [01:52<03:52,  3.74it/s]"
     ]
    },
    {
     "name": "stdout",
     "output_type": "stream",
     "text": [
      "(400/1272) Data: 0.017s | Batch: 0.281s | Total: 0:01:52 | ETA: 0:03:55 | Loss: 0.1752 | top1:  92.2452\n"
     ]
    },
    {
     "name": "stderr",
     "output_type": "stream",
     "text": [
      " 39%|███████████████████████████████                                                | 500/1272 [02:18<03:22,  3.81it/s]"
     ]
    },
    {
     "name": "stdout",
     "output_type": "stream",
     "text": [
      "(500/1272) Data: 0.014s | Batch: 0.278s | Total: 0:02:18 | ETA: 0:03:26 | Loss: 0.1756 | top1:  92.2246\n"
     ]
    },
    {
     "name": "stderr",
     "output_type": "stream",
     "text": [
      " 47%|█████████████████████████████████████▎                                         | 600/1272 [02:45<03:00,  3.72it/s]"
     ]
    },
    {
     "name": "stdout",
     "output_type": "stream",
     "text": [
      "(600/1272) Data: 0.012s | Batch: 0.276s | Total: 0:02:45 | ETA: 0:03:01 | Loss: 0.1757 | top1:  92.2262\n"
     ]
    },
    {
     "name": "stderr",
     "output_type": "stream",
     "text": [
      " 55%|███████████████████████████████████████████▍                                   | 700/1272 [03:12<02:28,  3.85it/s]"
     ]
    },
    {
     "name": "stdout",
     "output_type": "stream",
     "text": [
      "(700/1272) Data: 0.010s | Batch: 0.275s | Total: 0:03:12 | ETA: 0:02:33 | Loss: 0.1759 | top1:  92.2152\n"
     ]
    },
    {
     "name": "stderr",
     "output_type": "stream",
     "text": [
      " 63%|█████████████████████████████████████████████████▋                             | 800/1272 [03:38<02:02,  3.85it/s]"
     ]
    },
    {
     "name": "stdout",
     "output_type": "stream",
     "text": [
      "(800/1272) Data: 0.009s | Batch: 0.274s | Total: 0:03:38 | ETA: 0:02:04 | Loss: 0.1760 | top1:  92.2123\n"
     ]
    },
    {
     "name": "stderr",
     "output_type": "stream",
     "text": [
      " 71%|███████████████████████████████████████████████████████▉                       | 900/1272 [04:05<01:40,  3.71it/s]"
     ]
    },
    {
     "name": "stdout",
     "output_type": "stream",
     "text": [
      "(900/1272) Data: 0.008s | Batch: 0.273s | Total: 0:04:05 | ETA: 0:01:38 | Loss: 0.1762 | top1:  92.2006\n"
     ]
    },
    {
     "name": "stderr",
     "output_type": "stream",
     "text": [
      " 79%|█████████████████████████████████████████████████████████████▎                | 1000/1272 [04:32<01:10,  3.84it/s]"
     ]
    },
    {
     "name": "stdout",
     "output_type": "stream",
     "text": [
      "(1000/1272) Data: 0.007s | Batch: 0.272s | Total: 0:04:32 | ETA: 0:01:12 | Loss: 0.1764 | top1:  92.1890\n"
     ]
    },
    {
     "name": "stderr",
     "output_type": "stream",
     "text": [
      " 86%|███████████████████████████████████████████████████████████████████▍          | 1100/1272 [04:58<00:46,  3.72it/s]"
     ]
    },
    {
     "name": "stdout",
     "output_type": "stream",
     "text": [
      "(1100/1272) Data: 0.007s | Batch: 0.272s | Total: 0:04:58 | ETA: 0:00:47 | Loss: 0.1766 | top1:  92.1820\n"
     ]
    },
    {
     "name": "stderr",
     "output_type": "stream",
     "text": [
      " 94%|█████████████████████████████████████████████████████████████████████████▌    | 1200/1272 [05:25<00:19,  3.77it/s]"
     ]
    },
    {
     "name": "stdout",
     "output_type": "stream",
     "text": [
      "(1200/1272) Data: 0.006s | Batch: 0.271s | Total: 0:05:25 | ETA: 0:00:20 | Loss: 0.1767 | top1:  92.1750\n"
     ]
    },
    {
     "name": "stderr",
     "output_type": "stream",
     "text": [
      "100%|██████████████████████████████████████████████████████████████████████████████| 1272/1272 [05:45<00:00,  3.68it/s]\n",
      "100%|████████████████████████████████████████████████████████████████████████████████| 156/156 [00:21<00:00,  7.43it/s]\n"
     ]
    },
    {
     "name": "stdout",
     "output_type": "stream",
     "text": [
      "=> saving checkpoint 'checkpoints\\checkpoint.pth.tar'\n"
     ]
    },
    {
     "name": "stderr",
     "output_type": "stream",
     "text": [
      "  0%|                                                                                         | 0/1272 [00:00<?, ?it/s]"
     ]
    },
    {
     "name": "stdout",
     "output_type": "stream",
     "text": [
      "\n",
      "Epoch: [24 | 60] LR: 0.100000\n"
     ]
    },
    {
     "name": "stderr",
     "output_type": "stream",
     "text": [
      "  8%|██████▏                                                                        | 100/1272 [00:32<05:03,  3.87it/s]"
     ]
    },
    {
     "name": "stdout",
     "output_type": "stream",
     "text": [
      "(100/1272) Data: 0.069s | Batch: 0.327s | Total: 0:00:32 | ETA: 0:05:08 | Loss: 0.1715 | top1:  92.3789\n"
     ]
    },
    {
     "name": "stderr",
     "output_type": "stream",
     "text": [
      " 16%|████████████▍                                                                  | 200/1272 [00:59<04:41,  3.81it/s]"
     ]
    },
    {
     "name": "stdout",
     "output_type": "stream",
     "text": [
      "(200/1272) Data: 0.035s | Batch: 0.297s | Total: 0:00:59 | ETA: 0:04:48 | Loss: 0.1727 | top1:  92.3412\n"
     ]
    },
    {
     "name": "stderr",
     "output_type": "stream",
     "text": [
      " 24%|██████████████████▋                                                            | 300/1272 [01:26<04:18,  3.76it/s]"
     ]
    },
    {
     "name": "stdout",
     "output_type": "stream",
     "text": [
      "(300/1272) Data: 0.024s | Batch: 0.287s | Total: 0:01:26 | ETA: 0:04:24 | Loss: 0.1734 | top1:  92.3159\n"
     ]
    },
    {
     "name": "stderr",
     "output_type": "stream",
     "text": [
      " 31%|████████████████████████▊                                                      | 400/1272 [01:52<03:56,  3.68it/s]"
     ]
    },
    {
     "name": "stdout",
     "output_type": "stream",
     "text": [
      "(400/1272) Data: 0.018s | Batch: 0.282s | Total: 0:01:52 | ETA: 0:03:59 | Loss: 0.1739 | top1:  92.2915\n"
     ]
    },
    {
     "name": "stderr",
     "output_type": "stream",
     "text": [
      " 39%|███████████████████████████████                                                | 500/1272 [02:19<03:26,  3.74it/s]"
     ]
    },
    {
     "name": "stdout",
     "output_type": "stream",
     "text": [
      "(500/1272) Data: 0.014s | Batch: 0.279s | Total: 0:02:19 | ETA: 0:03:26 | Loss: 0.1742 | top1:  92.2784\n"
     ]
    },
    {
     "name": "stderr",
     "output_type": "stream",
     "text": [
      " 47%|█████████████████████████████████████▎                                         | 600/1272 [02:46<02:59,  3.74it/s]"
     ]
    },
    {
     "name": "stdout",
     "output_type": "stream",
     "text": [
      "(600/1272) Data: 0.012s | Batch: 0.277s | Total: 0:02:46 | ETA: 0:03:02 | Loss: 0.1744 | top1:  92.2705\n"
     ]
    },
    {
     "name": "stderr",
     "output_type": "stream",
     "text": [
      " 55%|███████████████████████████████████████████▍                                   | 700/1272 [03:13<02:36,  3.65it/s]"
     ]
    },
    {
     "name": "stdout",
     "output_type": "stream",
     "text": [
      "(700/1272) Data: 0.011s | Batch: 0.276s | Total: 0:03:13 | ETA: 0:02:33 | Loss: 0.1747 | top1:  92.2667\n"
     ]
    },
    {
     "name": "stderr",
     "output_type": "stream",
     "text": [
      " 63%|█████████████████████████████████████████████████▋                             | 800/1272 [03:39<02:07,  3.69it/s]"
     ]
    },
    {
     "name": "stdout",
     "output_type": "stream",
     "text": [
      "(800/1272) Data: 0.009s | Batch: 0.275s | Total: 0:03:39 | ETA: 0:02:08 | Loss: 0.1750 | top1:  92.2546\n"
     ]
    },
    {
     "name": "stderr",
     "output_type": "stream",
     "text": [
      " 71%|███████████████████████████████████████████████████████▉                       | 900/1272 [04:06<01:38,  3.80it/s]"
     ]
    },
    {
     "name": "stdout",
     "output_type": "stream",
     "text": [
      "(900/1272) Data: 0.008s | Batch: 0.274s | Total: 0:04:06 | ETA: 0:01:39 | Loss: 0.1751 | top1:  92.2512\n"
     ]
    },
    {
     "name": "stderr",
     "output_type": "stream",
     "text": [
      " 79%|█████████████████████████████████████████████████████████████▎                | 1000/1272 [04:33<01:13,  3.69it/s]"
     ]
    },
    {
     "name": "stdout",
     "output_type": "stream",
     "text": [
      "(1000/1272) Data: 0.008s | Batch: 0.274s | Total: 0:04:33 | ETA: 0:01:14 | Loss: 0.1752 | top1:  92.2457\n"
     ]
    },
    {
     "name": "stderr",
     "output_type": "stream",
     "text": [
      " 86%|███████████████████████████████████████████████████████████████████▍          | 1100/1272 [05:00<00:46,  3.74it/s]"
     ]
    },
    {
     "name": "stdout",
     "output_type": "stream",
     "text": [
      "(1100/1272) Data: 0.007s | Batch: 0.273s | Total: 0:05:00 | ETA: 0:00:47 | Loss: 0.1754 | top1:  92.2349\n"
     ]
    },
    {
     "name": "stderr",
     "output_type": "stream",
     "text": [
      " 94%|█████████████████████████████████████████████████████████████████████████▌    | 1200/1272 [05:27<00:19,  3.69it/s]"
     ]
    },
    {
     "name": "stdout",
     "output_type": "stream",
     "text": [
      "(1200/1272) Data: 0.006s | Batch: 0.273s | Total: 0:05:27 | ETA: 0:00:20 | Loss: 0.1757 | top1:  92.2224\n"
     ]
    },
    {
     "name": "stderr",
     "output_type": "stream",
     "text": [
      "100%|██████████████████████████████████████████████████████████████████████████████| 1272/1272 [05:47<00:00,  3.66it/s]\n",
      "100%|████████████████████████████████████████████████████████████████████████████████| 156/156 [00:21<00:00,  7.37it/s]\n"
     ]
    },
    {
     "name": "stdout",
     "output_type": "stream",
     "text": [
      "=> saving checkpoint 'checkpoints\\checkpoint.pth.tar'\n"
     ]
    },
    {
     "name": "stderr",
     "output_type": "stream",
     "text": [
      "  0%|                                                                                         | 0/1272 [00:00<?, ?it/s]"
     ]
    },
    {
     "name": "stdout",
     "output_type": "stream",
     "text": [
      "\n",
      "Epoch: [25 | 60] LR: 0.100000\n"
     ]
    },
    {
     "name": "stderr",
     "output_type": "stream",
     "text": [
      "  8%|██████▏                                                                        | 100/1272 [00:33<05:21,  3.65it/s]"
     ]
    },
    {
     "name": "stdout",
     "output_type": "stream",
     "text": [
      "(100/1272) Data: 0.069s | Batch: 0.334s | Total: 0:00:33 | ETA: 0:05:17 | Loss: 0.1717 | top1:  92.4059\n"
     ]
    },
    {
     "name": "stderr",
     "output_type": "stream",
     "text": [
      " 16%|████████████▍                                                                  | 200/1272 [01:00<04:48,  3.72it/s]"
     ]
    },
    {
     "name": "stdout",
     "output_type": "stream",
     "text": [
      "(200/1272) Data: 0.035s | Batch: 0.304s | Total: 0:01:00 | ETA: 0:04:48 | Loss: 0.1720 | top1:  92.3908\n"
     ]
    },
    {
     "name": "stderr",
     "output_type": "stream",
     "text": [
      " 24%|██████████████████▋                                                            | 300/1272 [01:28<04:24,  3.67it/s]"
     ]
    },
    {
     "name": "stdout",
     "output_type": "stream",
     "text": [
      "(300/1272) Data: 0.024s | Batch: 0.294s | Total: 0:01:28 | ETA: 0:04:20 | Loss: 0.1724 | top1:  92.3733\n"
     ]
    },
    {
     "name": "stderr",
     "output_type": "stream",
     "text": [
      " 31%|████████████████████████▊                                                      | 400/1272 [01:55<04:11,  3.47it/s]"
     ]
    },
    {
     "name": "stdout",
     "output_type": "stream",
     "text": [
      "(400/1272) Data: 0.018s | Batch: 0.289s | Total: 0:01:55 | ETA: 0:04:00 | Loss: 0.1729 | top1:  92.3530\n"
     ]
    },
    {
     "name": "stderr",
     "output_type": "stream",
     "text": [
      " 39%|███████████████████████████████                                                | 500/1272 [02:23<03:28,  3.70it/s]"
     ]
    },
    {
     "name": "stdout",
     "output_type": "stream",
     "text": [
      "(500/1272) Data: 0.014s | Batch: 0.286s | Total: 0:02:23 | ETA: 0:03:32 | Loss: 0.1732 | top1:  92.3395\n"
     ]
    },
    {
     "name": "stderr",
     "output_type": "stream",
     "text": [
      " 47%|█████████████████████████████████████▎                                         | 600/1272 [02:50<03:09,  3.55it/s]"
     ]
    },
    {
     "name": "stdout",
     "output_type": "stream",
     "text": [
      "(600/1272) Data: 0.012s | Batch: 0.284s | Total: 0:02:50 | ETA: 0:03:05 | Loss: 0.1734 | top1:  92.3315\n"
     ]
    },
    {
     "name": "stderr",
     "output_type": "stream",
     "text": [
      " 55%|███████████████████████████████████████████▍                                   | 700/1272 [03:18<02:37,  3.62it/s]"
     ]
    },
    {
     "name": "stdout",
     "output_type": "stream",
     "text": [
      "(700/1272) Data: 0.011s | Batch: 0.283s | Total: 0:03:18 | ETA: 0:02:40 | Loss: 0.1737 | top1:  92.3120\n"
     ]
    },
    {
     "name": "stderr",
     "output_type": "stream",
     "text": [
      " 63%|█████████████████████████████████████████████████▋                             | 800/1272 [03:45<02:08,  3.67it/s]"
     ]
    },
    {
     "name": "stdout",
     "output_type": "stream",
     "text": [
      "(800/1272) Data: 0.009s | Batch: 0.282s | Total: 0:03:45 | ETA: 0:02:10 | Loss: 0.1741 | top1:  92.2954\n"
     ]
    },
    {
     "name": "stderr",
     "output_type": "stream",
     "text": [
      " 71%|███████████████████████████████████████████████████████▉                       | 900/1272 [04:13<01:42,  3.62it/s]"
     ]
    },
    {
     "name": "stdout",
     "output_type": "stream",
     "text": [
      "(900/1272) Data: 0.008s | Batch: 0.281s | Total: 0:04:13 | ETA: 0:01:42 | Loss: 0.1744 | top1:  92.2834\n"
     ]
    },
    {
     "name": "stderr",
     "output_type": "stream",
     "text": [
      " 79%|█████████████████████████████████████████████████████████████▎                | 1000/1272 [04:40<01:13,  3.69it/s]"
     ]
    },
    {
     "name": "stdout",
     "output_type": "stream",
     "text": [
      "(1000/1272) Data: 0.008s | Batch: 0.281s | Total: 0:04:40 | ETA: 0:01:14 | Loss: 0.1745 | top1:  92.2796\n"
     ]
    },
    {
     "name": "stderr",
     "output_type": "stream",
     "text": [
      " 86%|███████████████████████████████████████████████████████████████████▍          | 1100/1272 [05:08<00:47,  3.65it/s]"
     ]
    },
    {
     "name": "stdout",
     "output_type": "stream",
     "text": [
      "(1100/1272) Data: 0.007s | Batch: 0.280s | Total: 0:05:08 | ETA: 0:00:50 | Loss: 0.1747 | top1:  92.2722\n"
     ]
    },
    {
     "name": "stderr",
     "output_type": "stream",
     "text": [
      " 94%|█████████████████████████████████████████████████████████████████████████▌    | 1200/1272 [05:35<00:20,  3.60it/s]"
     ]
    },
    {
     "name": "stdout",
     "output_type": "stream",
     "text": [
      "(1200/1272) Data: 0.006s | Batch: 0.280s | Total: 0:05:35 | ETA: 0:00:20 | Loss: 0.1749 | top1:  92.2656\n"
     ]
    },
    {
     "name": "stderr",
     "output_type": "stream",
     "text": [
      "100%|██████████████████████████████████████████████████████████████████████████████| 1272/1272 [05:56<00:00,  3.57it/s]\n",
      "100%|████████████████████████████████████████████████████████████████████████████████| 156/156 [00:21<00:00,  7.36it/s]\n"
     ]
    },
    {
     "name": "stdout",
     "output_type": "stream",
     "text": [
      "=> saving checkpoint 'checkpoints\\checkpoint.pth.tar'\n"
     ]
    },
    {
     "name": "stderr",
     "output_type": "stream",
     "text": [
      "  0%|                                                                                         | 0/1272 [00:00<?, ?it/s]"
     ]
    },
    {
     "name": "stdout",
     "output_type": "stream",
     "text": [
      "\n",
      "Epoch: [26 | 60] LR: 0.100000\n"
     ]
    },
    {
     "name": "stderr",
     "output_type": "stream",
     "text": [
      "  8%|██████▏                                                                        | 100/1272 [00:33<05:21,  3.64it/s]"
     ]
    },
    {
     "name": "stdout",
     "output_type": "stream",
     "text": [
      "(100/1272) Data: 0.070s | Batch: 0.334s | Total: 0:00:33 | ETA: 0:05:23 | Loss: 0.1699 | top1:  92.5135\n"
     ]
    },
    {
     "name": "stderr",
     "output_type": "stream",
     "text": [
      " 16%|████████████▍                                                                  | 200/1272 [01:00<04:52,  3.66it/s]"
     ]
    },
    {
     "name": "stdout",
     "output_type": "stream",
     "text": [
      "(200/1272) Data: 0.035s | Batch: 0.303s | Total: 0:01:00 | ETA: 0:04:55 | Loss: 0.1707 | top1:  92.4503\n"
     ]
    },
    {
     "name": "stderr",
     "output_type": "stream",
     "text": [
      " 24%|██████████████████▋                                                            | 300/1272 [01:28<04:21,  3.71it/s]"
     ]
    },
    {
     "name": "stdout",
     "output_type": "stream",
     "text": [
      "(300/1272) Data: 0.024s | Batch: 0.293s | Total: 0:01:28 | ETA: 0:04:24 | Loss: 0.1714 | top1:  92.4245\n"
     ]
    },
    {
     "name": "stderr",
     "output_type": "stream",
     "text": [
      " 31%|████████████████████████▊                                                      | 400/1272 [01:55<04:01,  3.62it/s]"
     ]
    },
    {
     "name": "stdout",
     "output_type": "stream",
     "text": [
      "(400/1272) Data: 0.018s | Batch: 0.289s | Total: 0:01:55 | ETA: 0:04:00 | Loss: 0.1719 | top1:  92.4097\n"
     ]
    },
    {
     "name": "stderr",
     "output_type": "stream",
     "text": [
      " 39%|███████████████████████████████                                                | 500/1272 [02:22<03:29,  3.68it/s]"
     ]
    },
    {
     "name": "stdout",
     "output_type": "stream",
     "text": [
      "(500/1272) Data: 0.015s | Batch: 0.286s | Total: 0:02:22 | ETA: 0:03:30 | Loss: 0.1724 | top1:  92.3859\n"
     ]
    },
    {
     "name": "stderr",
     "output_type": "stream",
     "text": [
      " 47%|█████████████████████████████████████▎                                         | 600/1272 [02:50<03:01,  3.70it/s]"
     ]
    },
    {
     "name": "stdout",
     "output_type": "stream",
     "text": [
      "(600/1272) Data: 0.012s | Batch: 0.285s | Total: 0:02:50 | ETA: 0:03:02 | Loss: 0.1727 | top1:  92.3695\n"
     ]
    },
    {
     "name": "stderr",
     "output_type": "stream",
     "text": [
      " 55%|███████████████████████████████████████████▍                                   | 700/1272 [03:18<02:38,  3.61it/s]"
     ]
    },
    {
     "name": "stdout",
     "output_type": "stream",
     "text": [
      "(700/1272) Data: 0.011s | Batch: 0.283s | Total: 0:03:18 | ETA: 0:02:35 | Loss: 0.1731 | top1:  92.3475\n"
     ]
    },
    {
     "name": "stderr",
     "output_type": "stream",
     "text": [
      " 63%|█████████████████████████████████████████████████▋                             | 800/1272 [03:45<02:04,  3.80it/s]"
     ]
    },
    {
     "name": "stdout",
     "output_type": "stream",
     "text": [
      "(800/1272) Data: 0.009s | Batch: 0.282s | Total: 0:03:45 | ETA: 0:02:09 | Loss: 0.1734 | top1:  92.3314\n"
     ]
    },
    {
     "name": "stderr",
     "output_type": "stream",
     "text": [
      " 71%|███████████████████████████████████████████████████████▉                       | 900/1272 [04:12<01:43,  3.58it/s]"
     ]
    },
    {
     "name": "stdout",
     "output_type": "stream",
     "text": [
      "(900/1272) Data: 0.008s | Batch: 0.281s | Total: 0:04:12 | ETA: 0:01:43 | Loss: 0.1735 | top1:  92.3242\n"
     ]
    },
    {
     "name": "stderr",
     "output_type": "stream",
     "text": [
      " 79%|█████████████████████████████████████████████████████████████▎                | 1000/1272 [04:40<01:15,  3.61it/s]"
     ]
    },
    {
     "name": "stdout",
     "output_type": "stream",
     "text": [
      "(1000/1272) Data: 0.008s | Batch: 0.280s | Total: 0:04:40 | ETA: 0:01:18 | Loss: 0.1738 | top1:  92.3112\n"
     ]
    },
    {
     "name": "stderr",
     "output_type": "stream",
     "text": [
      " 86%|███████████████████████████████████████████████████████████████████▍          | 1100/1272 [05:07<00:48,  3.53it/s]"
     ]
    },
    {
     "name": "stdout",
     "output_type": "stream",
     "text": [
      "(1100/1272) Data: 0.007s | Batch: 0.280s | Total: 0:05:07 | ETA: 0:00:49 | Loss: 0.1741 | top1:  92.3000\n"
     ]
    },
    {
     "name": "stderr",
     "output_type": "stream",
     "text": [
      " 94%|█████████████████████████████████████████████████████████████████████████▌    | 1200/1272 [05:35<00:19,  3.72it/s]"
     ]
    },
    {
     "name": "stdout",
     "output_type": "stream",
     "text": [
      "(1200/1272) Data: 0.007s | Batch: 0.279s | Total: 0:05:35 | ETA: 0:00:20 | Loss: 0.1743 | top1:  92.2914\n"
     ]
    },
    {
     "name": "stderr",
     "output_type": "stream",
     "text": [
      "100%|██████████████████████████████████████████████████████████████████████████████| 1272/1272 [05:55<00:00,  3.58it/s]\n",
      "100%|████████████████████████████████████████████████████████████████████████████████| 156/156 [00:21<00:00,  7.40it/s]\n"
     ]
    },
    {
     "name": "stdout",
     "output_type": "stream",
     "text": [
      "=> saving checkpoint 'checkpoints\\checkpoint.pth.tar'\n"
     ]
    },
    {
     "name": "stderr",
     "output_type": "stream",
     "text": [
      "  0%|                                                                                         | 0/1272 [00:00<?, ?it/s]"
     ]
    },
    {
     "name": "stdout",
     "output_type": "stream",
     "text": [
      "\n",
      "Epoch: [27 | 60] LR: 0.100000\n"
     ]
    },
    {
     "name": "stderr",
     "output_type": "stream",
     "text": [
      "  8%|██████▏                                                                        | 100/1272 [00:32<05:18,  3.68it/s]"
     ]
    },
    {
     "name": "stdout",
     "output_type": "stream",
     "text": [
      "(100/1272) Data: 0.071s | Batch: 0.329s | Total: 0:00:32 | ETA: 0:05:17 | Loss: 0.1706 | top1:  92.4430\n"
     ]
    },
    {
     "name": "stderr",
     "output_type": "stream",
     "text": [
      " 16%|████████████▍                                                                  | 200/1272 [00:59<04:48,  3.71it/s]"
     ]
    },
    {
     "name": "stdout",
     "output_type": "stream",
     "text": [
      "(200/1272) Data: 0.036s | Batch: 0.298s | Total: 0:00:59 | ETA: 0:04:47 | Loss: 0.1703 | top1:  92.4723\n"
     ]
    },
    {
     "name": "stderr",
     "output_type": "stream",
     "text": [
      " 24%|██████████████████▋                                                            | 300/1272 [01:26<04:21,  3.72it/s]"
     ]
    },
    {
     "name": "stdout",
     "output_type": "stream",
     "text": [
      "(300/1272) Data: 0.024s | Batch: 0.288s | Total: 0:01:26 | ETA: 0:04:25 | Loss: 0.1709 | top1:  92.4480\n"
     ]
    },
    {
     "name": "stderr",
     "output_type": "stream",
     "text": [
      " 31%|████████████████████████▊                                                      | 400/1272 [01:53<03:57,  3.67it/s]"
     ]
    },
    {
     "name": "stdout",
     "output_type": "stream",
     "text": [
      "(400/1272) Data: 0.018s | Batch: 0.283s | Total: 0:01:53 | ETA: 0:03:52 | Loss: 0.1711 | top1:  92.4511\n"
     ]
    },
    {
     "name": "stderr",
     "output_type": "stream",
     "text": [
      " 39%|███████████████████████████████                                                | 500/1272 [02:19<03:25,  3.76it/s]"
     ]
    },
    {
     "name": "stdout",
     "output_type": "stream",
     "text": [
      "(500/1272) Data: 0.015s | Batch: 0.280s | Total: 0:02:19 | ETA: 0:03:25 | Loss: 0.1716 | top1:  92.4282\n"
     ]
    },
    {
     "name": "stderr",
     "output_type": "stream",
     "text": [
      " 47%|█████████████████████████████████████▎                                         | 600/1272 [02:46<02:59,  3.75it/s]"
     ]
    },
    {
     "name": "stdout",
     "output_type": "stream",
     "text": [
      "(600/1272) Data: 0.012s | Batch: 0.278s | Total: 0:02:46 | ETA: 0:03:02 | Loss: 0.1719 | top1:  92.4122\n"
     ]
    },
    {
     "name": "stderr",
     "output_type": "stream",
     "text": [
      " 55%|███████████████████████████████████████████▍                                   | 700/1272 [03:13<02:28,  3.85it/s]"
     ]
    },
    {
     "name": "stdout",
     "output_type": "stream",
     "text": [
      "(700/1272) Data: 0.011s | Batch: 0.277s | Total: 0:03:13 | ETA: 0:02:34 | Loss: 0.1721 | top1:  92.3934\n"
     ]
    },
    {
     "name": "stderr",
     "output_type": "stream",
     "text": [
      " 63%|█████████████████████████████████████████████████▋                             | 800/1272 [03:40<02:02,  3.85it/s]"
     ]
    },
    {
     "name": "stdout",
     "output_type": "stream",
     "text": [
      "(800/1272) Data: 0.010s | Batch: 0.275s | Total: 0:03:40 | ETA: 0:02:05 | Loss: 0.1725 | top1:  92.3787\n"
     ]
    },
    {
     "name": "stderr",
     "output_type": "stream",
     "text": [
      " 71%|███████████████████████████████████████████████████████▉                       | 900/1272 [04:07<01:41,  3.65it/s]"
     ]
    },
    {
     "name": "stdout",
     "output_type": "stream",
     "text": [
      "(900/1272) Data: 0.009s | Batch: 0.275s | Total: 0:04:07 | ETA: 0:01:38 | Loss: 0.1727 | top1:  92.3697\n"
     ]
    },
    {
     "name": "stderr",
     "output_type": "stream",
     "text": [
      " 79%|█████████████████████████████████████████████████████████████▎                | 1000/1272 [04:34<01:13,  3.71it/s]"
     ]
    },
    {
     "name": "stdout",
     "output_type": "stream",
     "text": [
      "(1000/1272) Data: 0.008s | Batch: 0.274s | Total: 0:04:34 | ETA: 0:01:14 | Loss: 0.1729 | top1:  92.3612\n"
     ]
    },
    {
     "name": "stderr",
     "output_type": "stream",
     "text": [
      " 86%|███████████████████████████████████████████████████████████████████▍          | 1100/1272 [05:00<00:46,  3.69it/s]"
     ]
    },
    {
     "name": "stdout",
     "output_type": "stream",
     "text": [
      "(1100/1272) Data: 0.007s | Batch: 0.274s | Total: 0:05:00 | ETA: 0:00:48 | Loss: 0.1730 | top1:  92.3533\n"
     ]
    },
    {
     "name": "stderr",
     "output_type": "stream",
     "text": [
      " 94%|█████████████████████████████████████████████████████████████████████████▌    | 1200/1272 [05:27<00:19,  3.67it/s]"
     ]
    },
    {
     "name": "stdout",
     "output_type": "stream",
     "text": [
      "(1200/1272) Data: 0.007s | Batch: 0.273s | Total: 0:05:27 | ETA: 0:00:20 | Loss: 0.1732 | top1:  92.3438\n"
     ]
    },
    {
     "name": "stderr",
     "output_type": "stream",
     "text": [
      "100%|██████████████████████████████████████████████████████████████████████████████| 1272/1272 [05:47<00:00,  3.66it/s]\n",
      "100%|████████████████████████████████████████████████████████████████████████████████| 156/156 [00:20<00:00,  7.56it/s]\n"
     ]
    },
    {
     "name": "stdout",
     "output_type": "stream",
     "text": [
      "=> saving checkpoint 'checkpoints\\checkpoint.pth.tar'\n"
     ]
    },
    {
     "name": "stderr",
     "output_type": "stream",
     "text": [
      "  0%|                                                                                         | 0/1272 [00:00<?, ?it/s]"
     ]
    },
    {
     "name": "stdout",
     "output_type": "stream",
     "text": [
      "=> saving best model 'checkpoints\\model_best.pth.tar'\n",
      "\n",
      "Epoch: [28 | 60] LR: 0.100000\n"
     ]
    },
    {
     "name": "stderr",
     "output_type": "stream",
     "text": [
      "  8%|██████▏                                                                        | 100/1272 [00:32<05:08,  3.80it/s]"
     ]
    },
    {
     "name": "stdout",
     "output_type": "stream",
     "text": [
      "(100/1272) Data: 0.071s | Batch: 0.328s | Total: 0:00:32 | ETA: 0:05:13 | Loss: 0.1685 | top1:  92.5809\n"
     ]
    },
    {
     "name": "stderr",
     "output_type": "stream",
     "text": [
      " 16%|████████████▍                                                                  | 200/1272 [00:59<04:45,  3.75it/s]"
     ]
    },
    {
     "name": "stdout",
     "output_type": "stream",
     "text": [
      "(200/1272) Data: 0.036s | Batch: 0.298s | Total: 0:00:59 | ETA: 0:04:50 | Loss: 0.1689 | top1:  92.5473\n"
     ]
    },
    {
     "name": "stderr",
     "output_type": "stream",
     "text": [
      " 24%|██████████████████▋                                                            | 300/1272 [01:26<04:10,  3.87it/s]"
     ]
    },
    {
     "name": "stdout",
     "output_type": "stream",
     "text": [
      "(300/1272) Data: 0.024s | Batch: 0.287s | Total: 0:01:26 | ETA: 0:04:17 | Loss: 0.1699 | top1:  92.5113\n"
     ]
    },
    {
     "name": "stderr",
     "output_type": "stream",
     "text": [
      " 31%|████████████████████████▊                                                      | 400/1272 [01:53<03:56,  3.69it/s]"
     ]
    },
    {
     "name": "stdout",
     "output_type": "stream",
     "text": [
      "(400/1272) Data: 0.018s | Batch: 0.283s | Total: 0:01:53 | ETA: 0:03:58 | Loss: 0.1704 | top1:  92.4858\n"
     ]
    },
    {
     "name": "stderr",
     "output_type": "stream",
     "text": [
      " 39%|███████████████████████████████                                                | 500/1272 [02:19<03:29,  3.69it/s]"
     ]
    },
    {
     "name": "stdout",
     "output_type": "stream",
     "text": [
      "(500/1272) Data: 0.015s | Batch: 0.279s | Total: 0:02:19 | ETA: 0:03:28 | Loss: 0.1707 | top1:  92.4654\n"
     ]
    },
    {
     "name": "stderr",
     "output_type": "stream",
     "text": [
      " 47%|█████████████████████████████████████▎                                         | 600/1272 [02:46<03:01,  3.70it/s]"
     ]
    },
    {
     "name": "stdout",
     "output_type": "stream",
     "text": [
      "(600/1272) Data: 0.012s | Batch: 0.277s | Total: 0:02:46 | ETA: 0:03:00 | Loss: 0.1711 | top1:  92.4426\n"
     ]
    },
    {
     "name": "stderr",
     "output_type": "stream",
     "text": [
      " 55%|███████████████████████████████████████████▍                                   | 700/1272 [03:13<02:33,  3.72it/s]"
     ]
    },
    {
     "name": "stdout",
     "output_type": "stream",
     "text": [
      "(700/1272) Data: 0.011s | Batch: 0.276s | Total: 0:03:13 | ETA: 0:02:30 | Loss: 0.1714 | top1:  92.4301\n"
     ]
    },
    {
     "name": "stderr",
     "output_type": "stream",
     "text": [
      " 63%|█████████████████████████████████████████████████▋                             | 800/1272 [03:40<02:19,  3.37it/s]"
     ]
    },
    {
     "name": "stdout",
     "output_type": "stream",
     "text": [
      "(800/1272) Data: 0.010s | Batch: 0.275s | Total: 0:03:40 | ETA: 0:02:09 | Loss: 0.1717 | top1:  92.4183\n"
     ]
    },
    {
     "name": "stderr",
     "output_type": "stream",
     "text": [
      " 71%|███████████████████████████████████████████████████████▉                       | 900/1272 [04:07<01:37,  3.80it/s]"
     ]
    },
    {
     "name": "stdout",
     "output_type": "stream",
     "text": [
      "(900/1272) Data: 0.009s | Batch: 0.274s | Total: 0:04:07 | ETA: 0:01:40 | Loss: 0.1719 | top1:  92.4084\n"
     ]
    },
    {
     "name": "stderr",
     "output_type": "stream",
     "text": [
      " 79%|█████████████████████████████████████████████████████████████▎                | 1000/1272 [04:33<01:12,  3.75it/s]"
     ]
    },
    {
     "name": "stdout",
     "output_type": "stream",
     "text": [
      "(1000/1272) Data: 0.008s | Batch: 0.274s | Total: 0:04:33 | ETA: 0:01:13 | Loss: 0.1720 | top1:  92.4023\n"
     ]
    },
    {
     "name": "stderr",
     "output_type": "stream",
     "text": [
      " 86%|███████████████████████████████████████████████████████████████████▍          | 1100/1272 [05:00<00:45,  3.75it/s]"
     ]
    },
    {
     "name": "stdout",
     "output_type": "stream",
     "text": [
      "(1100/1272) Data: 0.007s | Batch: 0.273s | Total: 0:05:00 | ETA: 0:00:46 | Loss: 0.1722 | top1:  92.3909\n"
     ]
    },
    {
     "name": "stderr",
     "output_type": "stream",
     "text": [
      " 94%|█████████████████████████████████████████████████████████████████████████▌    | 1200/1272 [05:27<00:19,  3.74it/s]"
     ]
    },
    {
     "name": "stdout",
     "output_type": "stream",
     "text": [
      "(1200/1272) Data: 0.007s | Batch: 0.273s | Total: 0:05:27 | ETA: 0:00:20 | Loss: 0.1725 | top1:  92.3772\n"
     ]
    },
    {
     "name": "stderr",
     "output_type": "stream",
     "text": [
      "100%|██████████████████████████████████████████████████████████████████████████████| 1272/1272 [05:47<00:00,  3.66it/s]\n",
      "100%|████████████████████████████████████████████████████████████████████████████████| 156/156 [00:20<00:00,  7.53it/s]\n"
     ]
    },
    {
     "name": "stdout",
     "output_type": "stream",
     "text": [
      "=> saving checkpoint 'checkpoints\\checkpoint.pth.tar'\n"
     ]
    },
    {
     "name": "stderr",
     "output_type": "stream",
     "text": [
      "  0%|                                                                                         | 0/1272 [00:00<?, ?it/s]"
     ]
    },
    {
     "name": "stdout",
     "output_type": "stream",
     "text": [
      "\n",
      "Epoch: [29 | 60] LR: 0.100000\n"
     ]
    },
    {
     "name": "stderr",
     "output_type": "stream",
     "text": [
      "  8%|██████▏                                                                        | 100/1272 [00:32<05:05,  3.84it/s]"
     ]
    },
    {
     "name": "stdout",
     "output_type": "stream",
     "text": [
      "(100/1272) Data: 0.070s | Batch: 0.326s | Total: 0:00:32 | ETA: 0:05:09 | Loss: 0.1676 | top1:  92.5910\n"
     ]
    },
    {
     "name": "stderr",
     "output_type": "stream",
     "text": [
      " 16%|████████████▍                                                                  | 200/1272 [00:59<04:45,  3.75it/s]"
     ]
    },
    {
     "name": "stdout",
     "output_type": "stream",
     "text": [
      "(200/1272) Data: 0.035s | Batch: 0.296s | Total: 0:00:59 | ETA: 0:04:49 | Loss: 0.1680 | top1:  92.5862\n"
     ]
    },
    {
     "name": "stderr",
     "output_type": "stream",
     "text": [
      " 24%|██████████████████▋                                                            | 300/1272 [01:25<04:21,  3.71it/s]"
     ]
    },
    {
     "name": "stdout",
     "output_type": "stream",
     "text": [
      "(300/1272) Data: 0.024s | Batch: 0.286s | Total: 0:01:25 | ETA: 0:04:17 | Loss: 0.1691 | top1:  92.5354\n"
     ]
    },
    {
     "name": "stderr",
     "output_type": "stream",
     "text": [
      " 31%|████████████████████████▊                                                      | 400/1272 [01:52<03:52,  3.75it/s]"
     ]
    },
    {
     "name": "stdout",
     "output_type": "stream",
     "text": [
      "(400/1272) Data: 0.018s | Batch: 0.281s | Total: 0:01:52 | ETA: 0:03:57 | Loss: 0.1695 | top1:  92.5147\n"
     ]
    },
    {
     "name": "stderr",
     "output_type": "stream",
     "text": [
      " 39%|███████████████████████████████                                                | 500/1272 [02:19<03:23,  3.80it/s]"
     ]
    },
    {
     "name": "stdout",
     "output_type": "stream",
     "text": [
      "(500/1272) Data: 0.015s | Batch: 0.278s | Total: 0:02:19 | ETA: 0:03:22 | Loss: 0.1699 | top1:  92.5022\n"
     ]
    },
    {
     "name": "stderr",
     "output_type": "stream",
     "text": [
      " 47%|█████████████████████████████████████▎                                         | 600/1272 [02:45<03:01,  3.70it/s]"
     ]
    },
    {
     "name": "stdout",
     "output_type": "stream",
     "text": [
      "(600/1272) Data: 0.012s | Batch: 0.276s | Total: 0:02:45 | ETA: 0:03:02 | Loss: 0.1706 | top1:  92.4741\n"
     ]
    },
    {
     "name": "stderr",
     "output_type": "stream",
     "text": [
      " 55%|███████████████████████████████████████████▍                                   | 700/1272 [03:12<02:32,  3.75it/s]"
     ]
    },
    {
     "name": "stdout",
     "output_type": "stream",
     "text": [
      "(700/1272) Data: 0.011s | Batch: 0.275s | Total: 0:03:12 | ETA: 0:02:34 | Loss: 0.1707 | top1:  92.4670\n"
     ]
    },
    {
     "name": "stderr",
     "output_type": "stream",
     "text": [
      " 63%|█████████████████████████████████████████████████▋                             | 800/1272 [03:39<02:03,  3.82it/s]"
     ]
    },
    {
     "name": "stdout",
     "output_type": "stream",
     "text": [
      "(800/1272) Data: 0.009s | Batch: 0.274s | Total: 0:03:39 | ETA: 0:02:05 | Loss: 0.1709 | top1:  92.4585\n"
     ]
    },
    {
     "name": "stderr",
     "output_type": "stream",
     "text": [
      " 71%|███████████████████████████████████████████████████████▉                       | 900/1272 [04:05<01:39,  3.74it/s]"
     ]
    },
    {
     "name": "stdout",
     "output_type": "stream",
     "text": [
      "(900/1272) Data: 0.008s | Batch: 0.273s | Total: 0:04:05 | ETA: 0:01:40 | Loss: 0.1712 | top1:  92.4448\n"
     ]
    },
    {
     "name": "stderr",
     "output_type": "stream",
     "text": [
      " 79%|█████████████████████████████████████████████████████████████▎                | 1000/1272 [04:32<01:13,  3.72it/s]"
     ]
    },
    {
     "name": "stdout",
     "output_type": "stream",
     "text": [
      "(1000/1272) Data: 0.008s | Batch: 0.273s | Total: 0:04:32 | ETA: 0:01:13 | Loss: 0.1714 | top1:  92.4360\n"
     ]
    },
    {
     "name": "stderr",
     "output_type": "stream",
     "text": [
      " 86%|███████████████████████████████████████████████████████████████████▍          | 1100/1272 [04:59<00:45,  3.78it/s]"
     ]
    },
    {
     "name": "stdout",
     "output_type": "stream",
     "text": [
      "(1100/1272) Data: 0.007s | Batch: 0.272s | Total: 0:04:59 | ETA: 0:00:47 | Loss: 0.1716 | top1:  92.4233\n"
     ]
    },
    {
     "name": "stderr",
     "output_type": "stream",
     "text": [
      " 94%|█████████████████████████████████████████████████████████████████████████▌    | 1200/1272 [05:26<00:19,  3.66it/s]"
     ]
    },
    {
     "name": "stdout",
     "output_type": "stream",
     "text": [
      "(1200/1272) Data: 0.007s | Batch: 0.272s | Total: 0:05:26 | ETA: 0:00:21 | Loss: 0.1718 | top1:  92.4109\n"
     ]
    },
    {
     "name": "stderr",
     "output_type": "stream",
     "text": [
      "100%|██████████████████████████████████████████████████████████████████████████████| 1272/1272 [05:46<00:00,  3.68it/s]\n",
      "100%|████████████████████████████████████████████████████████████████████████████████| 156/156 [00:21<00:00,  7.29it/s]\n"
     ]
    },
    {
     "name": "stdout",
     "output_type": "stream",
     "text": [
      "=> saving checkpoint 'checkpoints\\checkpoint.pth.tar'\n"
     ]
    },
    {
     "name": "stderr",
     "output_type": "stream",
     "text": [
      "  0%|                                                                                         | 0/1272 [00:00<?, ?it/s]"
     ]
    },
    {
     "name": "stdout",
     "output_type": "stream",
     "text": [
      "\n",
      "Epoch: [30 | 60] LR: 0.100000\n"
     ]
    },
    {
     "name": "stderr",
     "output_type": "stream",
     "text": [
      "  8%|██████▏                                                                        | 100/1272 [00:33<05:14,  3.72it/s]"
     ]
    },
    {
     "name": "stdout",
     "output_type": "stream",
     "text": [
      "(100/1272) Data: 0.073s | Batch: 0.331s | Total: 0:00:33 | ETA: 0:05:10 | Loss: 0.1658 | top1:  92.6510\n"
     ]
    },
    {
     "name": "stderr",
     "output_type": "stream",
     "text": [
      " 16%|████████████▍                                                                  | 200/1272 [00:59<04:39,  3.84it/s]"
     ]
    },
    {
     "name": "stdout",
     "output_type": "stream",
     "text": [
      "(200/1272) Data: 0.037s | Batch: 0.298s | Total: 0:00:59 | ETA: 0:04:43 | Loss: 0.1664 | top1:  92.6185\n"
     ]
    },
    {
     "name": "stderr",
     "output_type": "stream",
     "text": [
      " 24%|██████████████████▋                                                            | 300/1272 [01:26<04:25,  3.66it/s]"
     ]
    },
    {
     "name": "stdout",
     "output_type": "stream",
     "text": [
      "(300/1272) Data: 0.025s | Batch: 0.288s | Total: 0:01:26 | ETA: 0:04:28 | Loss: 0.1673 | top1:  92.5875\n"
     ]
    },
    {
     "name": "stderr",
     "output_type": "stream",
     "text": [
      " 31%|████████████████████████▊                                                      | 400/1272 [01:53<04:04,  3.57it/s]"
     ]
    },
    {
     "name": "stdout",
     "output_type": "stream",
     "text": [
      "(400/1272) Data: 0.019s | Batch: 0.283s | Total: 0:01:53 | ETA: 0:03:49 | Loss: 0.1681 | top1:  92.5561\n"
     ]
    },
    {
     "name": "stderr",
     "output_type": "stream",
     "text": [
      " 39%|███████████████████████████████                                                | 500/1272 [02:20<03:23,  3.80it/s]"
     ]
    },
    {
     "name": "stdout",
     "output_type": "stream",
     "text": [
      "(500/1272) Data: 0.015s | Batch: 0.280s | Total: 0:02:20 | ETA: 0:03:25 | Loss: 0.1687 | top1:  92.5310\n"
     ]
    },
    {
     "name": "stderr",
     "output_type": "stream",
     "text": [
      " 47%|█████████████████████████████████████▎                                         | 600/1272 [02:46<02:58,  3.77it/s]"
     ]
    },
    {
     "name": "stdout",
     "output_type": "stream",
     "text": [
      "(600/1272) Data: 0.013s | Batch: 0.278s | Total: 0:02:46 | ETA: 0:03:02 | Loss: 0.1691 | top1:  92.5120\n"
     ]
    },
    {
     "name": "stderr",
     "output_type": "stream",
     "text": [
      " 55%|███████████████████████████████████████████▍                                   | 700/1272 [03:13<02:29,  3.82it/s]"
     ]
    },
    {
     "name": "stdout",
     "output_type": "stream",
     "text": [
      "(700/1272) Data: 0.011s | Batch: 0.277s | Total: 0:03:13 | ETA: 0:02:33 | Loss: 0.1695 | top1:  92.4975\n"
     ]
    },
    {
     "name": "stderr",
     "output_type": "stream",
     "text": [
      " 63%|█████████████████████████████████████████████████▋                             | 800/1272 [03:40<02:07,  3.70it/s]"
     ]
    },
    {
     "name": "stdout",
     "output_type": "stream",
     "text": [
      "(800/1272) Data: 0.010s | Batch: 0.275s | Total: 0:03:40 | ETA: 0:02:10 | Loss: 0.1699 | top1:  92.4799\n"
     ]
    },
    {
     "name": "stderr",
     "output_type": "stream",
     "text": [
      " 71%|███████████████████████████████████████████████████████▉                       | 900/1272 [04:07<01:40,  3.69it/s]"
     ]
    },
    {
     "name": "stdout",
     "output_type": "stream",
     "text": [
      "(900/1272) Data: 0.009s | Batch: 0.275s | Total: 0:04:07 | ETA: 0:01:41 | Loss: 0.1702 | top1:  92.4683\n"
     ]
    },
    {
     "name": "stderr",
     "output_type": "stream",
     "text": [
      " 79%|█████████████████████████████████████████████████████████████▎                | 1000/1272 [04:33<01:13,  3.68it/s]"
     ]
    },
    {
     "name": "stdout",
     "output_type": "stream",
     "text": [
      "(1000/1272) Data: 0.008s | Batch: 0.274s | Total: 0:04:33 | ETA: 0:01:13 | Loss: 0.1705 | top1:  92.4587\n"
     ]
    },
    {
     "name": "stderr",
     "output_type": "stream",
     "text": [
      " 86%|███████████████████████████████████████████████████████████████████▍          | 1100/1272 [05:00<00:47,  3.65it/s]"
     ]
    },
    {
     "name": "stdout",
     "output_type": "stream",
     "text": [
      "(1100/1272) Data: 0.007s | Batch: 0.273s | Total: 0:05:00 | ETA: 0:00:48 | Loss: 0.1707 | top1:  92.4527\n"
     ]
    },
    {
     "name": "stderr",
     "output_type": "stream",
     "text": [
      " 94%|█████████████████████████████████████████████████████████████████████████▌    | 1200/1272 [05:27<00:20,  3.59it/s]"
     ]
    },
    {
     "name": "stdout",
     "output_type": "stream",
     "text": [
      "(1200/1272) Data: 0.007s | Batch: 0.273s | Total: 0:05:27 | ETA: 0:00:20 | Loss: 0.1710 | top1:  92.4410\n"
     ]
    },
    {
     "name": "stderr",
     "output_type": "stream",
     "text": [
      "100%|██████████████████████████████████████████████████████████████████████████████| 1272/1272 [05:47<00:00,  3.66it/s]\n",
      "100%|████████████████████████████████████████████████████████████████████████████████| 156/156 [00:20<00:00,  7.44it/s]\n"
     ]
    },
    {
     "name": "stdout",
     "output_type": "stream",
     "text": [
      "=> saving checkpoint 'checkpoints\\checkpoint.pth.tar'\n"
     ]
    },
    {
     "name": "stderr",
     "output_type": "stream",
     "text": [
      "  0%|                                                                                         | 0/1272 [00:00<?, ?it/s]"
     ]
    },
    {
     "name": "stdout",
     "output_type": "stream",
     "text": [
      "\n",
      "Epoch: [31 | 60] LR: 0.010000\n"
     ]
    },
    {
     "name": "stderr",
     "output_type": "stream",
     "text": [
      "  8%|██████▏                                                                        | 100/1272 [00:32<05:17,  3.69it/s]"
     ]
    },
    {
     "name": "stdout",
     "output_type": "stream",
     "text": [
      "(100/1272) Data: 0.069s | Batch: 0.327s | Total: 0:00:32 | ETA: 0:05:12 | Loss: 0.1592 | top1:  92.9879\n"
     ]
    },
    {
     "name": "stderr",
     "output_type": "stream",
     "text": [
      " 16%|████████████▍                                                                  | 200/1272 [00:59<04:45,  3.76it/s]"
     ]
    },
    {
     "name": "stdout",
     "output_type": "stream",
     "text": [
      "(200/1272) Data: 0.035s | Batch: 0.296s | Total: 0:00:59 | ETA: 0:04:49 | Loss: 0.1571 | top1:  93.0805\n"
     ]
    },
    {
     "name": "stderr",
     "output_type": "stream",
     "text": [
      " 24%|██████████████████▋                                                            | 300/1272 [01:26<04:16,  3.79it/s]"
     ]
    },
    {
     "name": "stdout",
     "output_type": "stream",
     "text": [
      "(300/1272) Data: 0.024s | Batch: 0.287s | Total: 0:01:26 | ETA: 0:04:24 | Loss: 0.1557 | top1:  93.1426\n"
     ]
    },
    {
     "name": "stderr",
     "output_type": "stream",
     "text": [
      " 31%|████████████████████████▊                                                      | 400/1272 [01:52<03:55,  3.70it/s]"
     ]
    },
    {
     "name": "stdout",
     "output_type": "stream",
     "text": [
      "(400/1272) Data: 0.018s | Batch: 0.282s | Total: 0:01:52 | ETA: 0:03:53 | Loss: 0.1545 | top1:  93.1955\n"
     ]
    },
    {
     "name": "stderr",
     "output_type": "stream",
     "text": [
      " 39%|███████████████████████████████                                                | 500/1272 [02:19<03:31,  3.65it/s]"
     ]
    },
    {
     "name": "stdout",
     "output_type": "stream",
     "text": [
      "(500/1272) Data: 0.014s | Batch: 0.279s | Total: 0:02:19 | ETA: 0:03:31 | Loss: 0.1538 | top1:  93.2273\n"
     ]
    },
    {
     "name": "stderr",
     "output_type": "stream",
     "text": [
      " 47%|█████████████████████████████████████▎                                         | 600/1272 [02:46<02:59,  3.74it/s]"
     ]
    },
    {
     "name": "stdout",
     "output_type": "stream",
     "text": [
      "(600/1272) Data: 0.012s | Batch: 0.278s | Total: 0:02:46 | ETA: 0:03:01 | Loss: 0.1530 | top1:  93.2643\n"
     ]
    },
    {
     "name": "stderr",
     "output_type": "stream",
     "text": [
      " 55%|███████████████████████████████████████████▍                                   | 700/1272 [03:13<02:33,  3.74it/s]"
     ]
    },
    {
     "name": "stdout",
     "output_type": "stream",
     "text": [
      "(700/1272) Data: 0.011s | Batch: 0.276s | Total: 0:03:13 | ETA: 0:02:35 | Loss: 0.1525 | top1:  93.2838\n"
     ]
    },
    {
     "name": "stderr",
     "output_type": "stream",
     "text": [
      " 63%|█████████████████████████████████████████████████▋                             | 800/1272 [03:40<02:07,  3.70it/s]"
     ]
    },
    {
     "name": "stdout",
     "output_type": "stream",
     "text": [
      "(800/1272) Data: 0.009s | Batch: 0.275s | Total: 0:03:40 | ETA: 0:02:08 | Loss: 0.1521 | top1:  93.3041\n"
     ]
    },
    {
     "name": "stderr",
     "output_type": "stream",
     "text": [
      " 71%|███████████████████████████████████████████████████████▉                       | 900/1272 [04:07<01:43,  3.59it/s]"
     ]
    },
    {
     "name": "stdout",
     "output_type": "stream",
     "text": [
      "(900/1272) Data: 0.008s | Batch: 0.275s | Total: 0:04:07 | ETA: 0:01:41 | Loss: 0.1517 | top1:  93.3206\n"
     ]
    },
    {
     "name": "stderr",
     "output_type": "stream",
     "text": [
      " 79%|█████████████████████████████████████████████████████████████▎                | 1000/1272 [04:33<01:12,  3.75it/s]"
     ]
    },
    {
     "name": "stdout",
     "output_type": "stream",
     "text": [
      "(1000/1272) Data: 0.008s | Batch: 0.274s | Total: 0:04:33 | ETA: 0:01:13 | Loss: 0.1513 | top1:  93.3389\n"
     ]
    },
    {
     "name": "stderr",
     "output_type": "stream",
     "text": [
      " 86%|███████████████████████████████████████████████████████████████████▍          | 1100/1272 [05:00<00:46,  3.72it/s]"
     ]
    },
    {
     "name": "stdout",
     "output_type": "stream",
     "text": [
      "(1100/1272) Data: 0.007s | Batch: 0.273s | Total: 0:05:00 | ETA: 0:00:47 | Loss: 0.1509 | top1:  93.3554\n"
     ]
    },
    {
     "name": "stderr",
     "output_type": "stream",
     "text": [
      " 94%|█████████████████████████████████████████████████████████████████████████▌    | 1200/1272 [05:27<00:19,  3.75it/s]"
     ]
    },
    {
     "name": "stdout",
     "output_type": "stream",
     "text": [
      "(1200/1272) Data: 0.006s | Batch: 0.273s | Total: 0:05:27 | ETA: 0:00:20 | Loss: 0.1507 | top1:  93.3656\n"
     ]
    },
    {
     "name": "stderr",
     "output_type": "stream",
     "text": [
      "100%|██████████████████████████████████████████████████████████████████████████████| 1272/1272 [05:47<00:00,  3.66it/s]\n",
      "100%|████████████████████████████████████████████████████████████████████████████████| 156/156 [00:20<00:00,  7.44it/s]\n"
     ]
    },
    {
     "name": "stdout",
     "output_type": "stream",
     "text": [
      "=> saving checkpoint 'checkpoints\\checkpoint.pth.tar'\n"
     ]
    },
    {
     "name": "stderr",
     "output_type": "stream",
     "text": [
      "  0%|                                                                                         | 0/1272 [00:00<?, ?it/s]"
     ]
    },
    {
     "name": "stdout",
     "output_type": "stream",
     "text": [
      "=> saving best model 'checkpoints\\model_best.pth.tar'\n",
      "\n",
      "Epoch: [32 | 60] LR: 0.001000\n"
     ]
    },
    {
     "name": "stderr",
     "output_type": "stream",
     "text": [
      "  8%|██████▏                                                                        | 100/1272 [00:32<05:05,  3.84it/s]"
     ]
    },
    {
     "name": "stdout",
     "output_type": "stream",
     "text": [
      "(100/1272) Data: 0.070s | Batch: 0.327s | Total: 0:00:32 | ETA: 0:05:12 | Loss: 0.1435 | top1:  93.6641\n"
     ]
    },
    {
     "name": "stderr",
     "output_type": "stream",
     "text": [
      " 16%|████████████▍                                                                  | 200/1272 [00:59<04:47,  3.72it/s]"
     ]
    },
    {
     "name": "stdout",
     "output_type": "stream",
     "text": [
      "(200/1272) Data: 0.035s | Batch: 0.297s | Total: 0:00:59 | ETA: 0:04:49 | Loss: 0.1430 | top1:  93.6922\n"
     ]
    },
    {
     "name": "stderr",
     "output_type": "stream",
     "text": [
      " 24%|██████████████████▋                                                            | 300/1272 [01:25<04:22,  3.71it/s]"
     ]
    },
    {
     "name": "stdout",
     "output_type": "stream",
     "text": [
      "(300/1272) Data: 0.024s | Batch: 0.287s | Total: 0:01:25 | ETA: 0:04:23 | Loss: 0.1426 | top1:  93.7168\n"
     ]
    },
    {
     "name": "stderr",
     "output_type": "stream",
     "text": [
      " 31%|████████████████████████▊                                                      | 400/1272 [01:52<03:55,  3.71it/s]"
     ]
    },
    {
     "name": "stdout",
     "output_type": "stream",
     "text": [
      "(400/1272) Data: 0.018s | Batch: 0.282s | Total: 0:01:52 | ETA: 0:03:56 | Loss: 0.1423 | top1:  93.7354\n"
     ]
    },
    {
     "name": "stderr",
     "output_type": "stream",
     "text": [
      " 39%|███████████████████████████████                                                | 500/1272 [02:19<03:18,  3.88it/s]"
     ]
    },
    {
     "name": "stdout",
     "output_type": "stream",
     "text": [
      "(500/1272) Data: 0.015s | Batch: 0.279s | Total: 0:02:19 | ETA: 0:03:23 | Loss: 0.1425 | top1:  93.7296\n"
     ]
    },
    {
     "name": "stderr",
     "output_type": "stream",
     "text": [
      " 47%|█████████████████████████████████████▎                                         | 600/1272 [02:46<02:58,  3.77it/s]"
     ]
    },
    {
     "name": "stdout",
     "output_type": "stream",
     "text": [
      "(600/1272) Data: 0.012s | Batch: 0.277s | Total: 0:02:46 | ETA: 0:02:59 | Loss: 0.1423 | top1:  93.7443\n"
     ]
    },
    {
     "name": "stderr",
     "output_type": "stream",
     "text": [
      " 55%|███████████████████████████████████████████▍                                   | 700/1272 [03:12<02:32,  3.75it/s]"
     ]
    },
    {
     "name": "stdout",
     "output_type": "stream",
     "text": [
      "(700/1272) Data: 0.011s | Batch: 0.276s | Total: 0:03:12 | ETA: 0:02:36 | Loss: 0.1422 | top1:  93.7487\n"
     ]
    },
    {
     "name": "stderr",
     "output_type": "stream",
     "text": [
      " 63%|█████████████████████████████████████████████████▋                             | 800/1272 [03:39<02:01,  3.87it/s]"
     ]
    },
    {
     "name": "stdout",
     "output_type": "stream",
     "text": [
      "(800/1272) Data: 0.009s | Batch: 0.274s | Total: 0:03:39 | ETA: 0:02:04 | Loss: 0.1423 | top1:  93.7463\n"
     ]
    },
    {
     "name": "stderr",
     "output_type": "stream",
     "text": [
      " 71%|███████████████████████████████████████████████████████▉                       | 900/1272 [04:06<01:39,  3.73it/s]"
     ]
    },
    {
     "name": "stdout",
     "output_type": "stream",
     "text": [
      "(900/1272) Data: 0.008s | Batch: 0.274s | Total: 0:04:06 | ETA: 0:01:40 | Loss: 0.1422 | top1:  93.7585\n"
     ]
    },
    {
     "name": "stderr",
     "output_type": "stream",
     "text": [
      " 79%|█████████████████████████████████████████████████████████████▎                | 1000/1272 [04:32<01:12,  3.76it/s]"
     ]
    },
    {
     "name": "stdout",
     "output_type": "stream",
     "text": [
      "(1000/1272) Data: 0.008s | Batch: 0.273s | Total: 0:04:32 | ETA: 0:01:12 | Loss: 0.1421 | top1:  93.7634\n"
     ]
    },
    {
     "name": "stderr",
     "output_type": "stream",
     "text": [
      " 86%|███████████████████████████████████████████████████████████████████▍          | 1100/1272 [04:59<00:45,  3.76it/s]"
     ]
    },
    {
     "name": "stdout",
     "output_type": "stream",
     "text": [
      "(1100/1272) Data: 0.007s | Batch: 0.272s | Total: 0:04:59 | ETA: 0:00:47 | Loss: 0.1420 | top1:  93.7680\n"
     ]
    },
    {
     "name": "stderr",
     "output_type": "stream",
     "text": [
      " 94%|█████████████████████████████████████████████████████████████████████████▌    | 1200/1272 [05:26<00:19,  3.73it/s]"
     ]
    },
    {
     "name": "stdout",
     "output_type": "stream",
     "text": [
      "(1200/1272) Data: 0.006s | Batch: 0.272s | Total: 0:05:26 | ETA: 0:00:20 | Loss: 0.1420 | top1:  93.7691\n"
     ]
    },
    {
     "name": "stderr",
     "output_type": "stream",
     "text": [
      "100%|██████████████████████████████████████████████████████████████████████████████| 1272/1272 [05:46<00:00,  3.67it/s]\n",
      "100%|████████████████████████████████████████████████████████████████████████████████| 156/156 [00:20<00:00,  7.52it/s]\n"
     ]
    },
    {
     "name": "stdout",
     "output_type": "stream",
     "text": [
      "=> saving checkpoint 'checkpoints\\checkpoint.pth.tar'\n"
     ]
    },
    {
     "name": "stderr",
     "output_type": "stream",
     "text": [
      "  0%|                                                                                         | 0/1272 [00:00<?, ?it/s]"
     ]
    },
    {
     "name": "stdout",
     "output_type": "stream",
     "text": [
      "\n",
      "Epoch: [33 | 60] LR: 0.000100\n"
     ]
    },
    {
     "name": "stderr",
     "output_type": "stream",
     "text": [
      "  8%|██████▏                                                                        | 100/1272 [00:32<05:14,  3.72it/s]"
     ]
    },
    {
     "name": "stdout",
     "output_type": "stream",
     "text": [
      "(100/1272) Data: 0.070s | Batch: 0.328s | Total: 0:00:32 | ETA: 0:05:15 | Loss: 0.1405 | top1:  93.8281\n"
     ]
    },
    {
     "name": "stderr",
     "output_type": "stream",
     "text": [
      " 16%|████████████▍                                                                  | 200/1272 [00:59<04:42,  3.80it/s]"
     ]
    },
    {
     "name": "stdout",
     "output_type": "stream",
     "text": [
      "(200/1272) Data: 0.035s | Batch: 0.297s | Total: 0:00:59 | ETA: 0:04:43 | Loss: 0.1407 | top1:  93.8058\n"
     ]
    },
    {
     "name": "stderr",
     "output_type": "stream",
     "text": [
      " 24%|██████████████████▋                                                            | 300/1272 [01:26<04:22,  3.70it/s]"
     ]
    },
    {
     "name": "stdout",
     "output_type": "stream",
     "text": [
      "(300/1272) Data: 0.024s | Batch: 0.287s | Total: 0:01:26 | ETA: 0:04:21 | Loss: 0.1408 | top1:  93.8008\n"
     ]
    },
    {
     "name": "stderr",
     "output_type": "stream",
     "text": [
      " 31%|████████████████████████▊                                                      | 400/1272 [01:52<03:51,  3.77it/s]"
     ]
    },
    {
     "name": "stdout",
     "output_type": "stream",
     "text": [
      "(400/1272) Data: 0.018s | Batch: 0.282s | Total: 0:01:52 | ETA: 0:03:55 | Loss: 0.1408 | top1:  93.8031\n"
     ]
    },
    {
     "name": "stderr",
     "output_type": "stream",
     "text": [
      " 39%|███████████████████████████████                                                | 500/1272 [02:19<03:28,  3.71it/s]"
     ]
    },
    {
     "name": "stdout",
     "output_type": "stream",
     "text": [
      "(500/1272) Data: 0.015s | Batch: 0.280s | Total: 0:02:19 | ETA: 0:03:28 | Loss: 0.1411 | top1:  93.7920\n"
     ]
    },
    {
     "name": "stderr",
     "output_type": "stream",
     "text": [
      " 47%|█████████████████████████████████████▎                                         | 600/1272 [02:46<02:55,  3.83it/s]"
     ]
    },
    {
     "name": "stdout",
     "output_type": "stream",
     "text": [
      "(600/1272) Data: 0.012s | Batch: 0.277s | Total: 0:02:46 | ETA: 0:02:58 | Loss: 0.1410 | top1:  93.7951\n"
     ]
    },
    {
     "name": "stderr",
     "output_type": "stream",
     "text": [
      " 55%|███████████████████████████████████████████▍                                   | 700/1272 [03:13<02:30,  3.80it/s]"
     ]
    },
    {
     "name": "stdout",
     "output_type": "stream",
     "text": [
      "(700/1272) Data: 0.011s | Batch: 0.276s | Total: 0:03:13 | ETA: 0:02:33 | Loss: 0.1410 | top1:  93.7944\n"
     ]
    },
    {
     "name": "stderr",
     "output_type": "stream",
     "text": [
      " 63%|█████████████████████████████████████████████████▋                             | 800/1272 [03:39<02:07,  3.69it/s]"
     ]
    },
    {
     "name": "stdout",
     "output_type": "stream",
     "text": [
      "(800/1272) Data: 0.009s | Batch: 0.275s | Total: 0:03:39 | ETA: 0:02:07 | Loss: 0.1410 | top1:  93.7957\n"
     ]
    },
    {
     "name": "stderr",
     "output_type": "stream",
     "text": [
      " 71%|███████████████████████████████████████████████████████▉                       | 900/1272 [04:06<01:39,  3.74it/s]"
     ]
    },
    {
     "name": "stdout",
     "output_type": "stream",
     "text": [
      "(900/1272) Data: 0.008s | Batch: 0.274s | Total: 0:04:06 | ETA: 0:01:41 | Loss: 0.1409 | top1:  93.8017\n"
     ]
    },
    {
     "name": "stderr",
     "output_type": "stream",
     "text": [
      " 79%|█████████████████████████████████████████████████████████████▎                | 1000/1272 [04:33<01:13,  3.70it/s]"
     ]
    },
    {
     "name": "stdout",
     "output_type": "stream",
     "text": [
      "(1000/1272) Data: 0.008s | Batch: 0.273s | Total: 0:04:33 | ETA: 0:01:14 | Loss: 0.1409 | top1:  93.8056\n"
     ]
    },
    {
     "name": "stderr",
     "output_type": "stream",
     "text": [
      " 86%|███████████████████████████████████████████████████████████████████▍          | 1100/1272 [05:00<00:46,  3.71it/s]"
     ]
    },
    {
     "name": "stdout",
     "output_type": "stream",
     "text": [
      "(1100/1272) Data: 0.007s | Batch: 0.273s | Total: 0:05:00 | ETA: 0:00:47 | Loss: 0.1409 | top1:  93.8071\n"
     ]
    },
    {
     "name": "stderr",
     "output_type": "stream",
     "text": [
      " 94%|█████████████████████████████████████████████████████████████████████████▌    | 1200/1272 [05:26<00:19,  3.74it/s]"
     ]
    },
    {
     "name": "stdout",
     "output_type": "stream",
     "text": [
      "(1200/1272) Data: 0.007s | Batch: 0.272s | Total: 0:05:26 | ETA: 0:00:20 | Loss: 0.1409 | top1:  93.8045\n"
     ]
    },
    {
     "name": "stderr",
     "output_type": "stream",
     "text": [
      "100%|██████████████████████████████████████████████████████████████████████████████| 1272/1272 [05:46<00:00,  3.67it/s]\n",
      "100%|████████████████████████████████████████████████████████████████████████████████| 156/156 [00:20<00:00,  7.52it/s]\n"
     ]
    },
    {
     "name": "stdout",
     "output_type": "stream",
     "text": [
      "=> saving checkpoint 'checkpoints\\checkpoint.pth.tar'\n"
     ]
    },
    {
     "name": "stderr",
     "output_type": "stream",
     "text": [
      "  0%|                                                                                         | 0/1272 [00:00<?, ?it/s]"
     ]
    },
    {
     "name": "stdout",
     "output_type": "stream",
     "text": [
      "\n",
      "Epoch: [34 | 60] LR: 0.000010\n"
     ]
    },
    {
     "name": "stderr",
     "output_type": "stream",
     "text": [
      "  8%|██████▏                                                                        | 100/1272 [00:32<05:10,  3.77it/s]"
     ]
    },
    {
     "name": "stdout",
     "output_type": "stream",
     "text": [
      "(100/1272) Data: 0.070s | Batch: 0.326s | Total: 0:00:32 | ETA: 0:05:11 | Loss: 0.1408 | top1:  93.8072\n"
     ]
    },
    {
     "name": "stderr",
     "output_type": "stream",
     "text": [
      " 16%|████████████▍                                                                  | 200/1272 [00:59<04:42,  3.80it/s]"
     ]
    },
    {
     "name": "stdout",
     "output_type": "stream",
     "text": [
      "(200/1272) Data: 0.035s | Batch: 0.295s | Total: 0:00:59 | ETA: 0:04:42 | Loss: 0.1409 | top1:  93.8170\n"
     ]
    },
    {
     "name": "stderr",
     "output_type": "stream",
     "text": [
      " 24%|██████████████████▋                                                            | 300/1272 [01:25<04:19,  3.75it/s]"
     ]
    },
    {
     "name": "stdout",
     "output_type": "stream",
     "text": [
      "(300/1272) Data: 0.024s | Batch: 0.286s | Total: 0:01:25 | ETA: 0:04:24 | Loss: 0.1407 | top1:  93.8193\n"
     ]
    },
    {
     "name": "stderr",
     "output_type": "stream",
     "text": [
      " 31%|████████████████████████▊                                                      | 400/1272 [01:52<03:52,  3.75it/s]"
     ]
    },
    {
     "name": "stdout",
     "output_type": "stream",
     "text": [
      "(400/1272) Data: 0.018s | Batch: 0.282s | Total: 0:01:52 | ETA: 0:03:54 | Loss: 0.1407 | top1:  93.8236\n"
     ]
    },
    {
     "name": "stderr",
     "output_type": "stream",
     "text": [
      " 39%|███████████████████████████████                                                | 500/1272 [02:19<03:25,  3.76it/s]"
     ]
    },
    {
     "name": "stdout",
     "output_type": "stream",
     "text": [
      "(500/1272) Data: 0.015s | Batch: 0.279s | Total: 0:02:19 | ETA: 0:03:29 | Loss: 0.1407 | top1:  93.8191\n"
     ]
    },
    {
     "name": "stderr",
     "output_type": "stream",
     "text": [
      " 47%|█████████████████████████████████████▎                                         | 600/1272 [02:46<03:01,  3.70it/s]"
     ]
    },
    {
     "name": "stdout",
     "output_type": "stream",
     "text": [
      "(600/1272) Data: 0.012s | Batch: 0.277s | Total: 0:02:46 | ETA: 0:02:58 | Loss: 0.1408 | top1:  93.8229\n"
     ]
    },
    {
     "name": "stderr",
     "output_type": "stream",
     "text": [
      " 55%|███████████████████████████████████████████▍                                   | 700/1272 [03:12<02:33,  3.73it/s]"
     ]
    },
    {
     "name": "stdout",
     "output_type": "stream",
     "text": [
      "(700/1272) Data: 0.011s | Batch: 0.276s | Total: 0:03:12 | ETA: 0:02:36 | Loss: 0.1408 | top1:  93.8174\n"
     ]
    },
    {
     "name": "stderr",
     "output_type": "stream",
     "text": [
      " 63%|█████████████████████████████████████████████████▋                             | 800/1272 [03:39<02:04,  3.79it/s]"
     ]
    },
    {
     "name": "stdout",
     "output_type": "stream",
     "text": [
      "(800/1272) Data: 0.009s | Batch: 0.275s | Total: 0:03:39 | ETA: 0:02:07 | Loss: 0.1408 | top1:  93.8208\n"
     ]
    },
    {
     "name": "stderr",
     "output_type": "stream",
     "text": [
      " 71%|███████████████████████████████████████████████████████▉                       | 900/1272 [04:06<01:37,  3.81it/s]"
     ]
    },
    {
     "name": "stdout",
     "output_type": "stream",
     "text": [
      "(900/1272) Data: 0.008s | Batch: 0.274s | Total: 0:04:06 | ETA: 0:01:40 | Loss: 0.1408 | top1:  93.8178\n"
     ]
    },
    {
     "name": "stderr",
     "output_type": "stream",
     "text": [
      " 79%|█████████████████████████████████████████████████████████████▎                | 1000/1272 [04:33<01:11,  3.78it/s]"
     ]
    },
    {
     "name": "stdout",
     "output_type": "stream",
     "text": [
      "(1000/1272) Data: 0.008s | Batch: 0.273s | Total: 0:04:33 | ETA: 0:01:13 | Loss: 0.1408 | top1:  93.8173\n"
     ]
    },
    {
     "name": "stderr",
     "output_type": "stream",
     "text": [
      " 86%|███████████████████████████████████████████████████████████████████▍          | 1100/1272 [04:59<00:46,  3.73it/s]"
     ]
    },
    {
     "name": "stdout",
     "output_type": "stream",
     "text": [
      "(1100/1272) Data: 0.007s | Batch: 0.273s | Total: 0:04:59 | ETA: 0:00:47 | Loss: 0.1407 | top1:  93.8176\n"
     ]
    },
    {
     "name": "stderr",
     "output_type": "stream",
     "text": [
      " 94%|█████████████████████████████████████████████████████████████████████████▌    | 1200/1272 [05:26<00:19,  3.70it/s]"
     ]
    },
    {
     "name": "stdout",
     "output_type": "stream",
     "text": [
      "(1200/1272) Data: 0.006s | Batch: 0.272s | Total: 0:05:26 | ETA: 0:00:20 | Loss: 0.1407 | top1:  93.8204\n"
     ]
    },
    {
     "name": "stderr",
     "output_type": "stream",
     "text": [
      "100%|██████████████████████████████████████████████████████████████████████████████| 1272/1272 [05:46<00:00,  3.67it/s]\n",
      "100%|████████████████████████████████████████████████████████████████████████████████| 156/156 [00:20<00:00,  7.62it/s]\n"
     ]
    },
    {
     "name": "stdout",
     "output_type": "stream",
     "text": [
      "=> saving checkpoint 'checkpoints\\checkpoint.pth.tar'\n"
     ]
    },
    {
     "name": "stderr",
     "output_type": "stream",
     "text": [
      "  0%|                                                                                         | 0/1272 [00:00<?, ?it/s]"
     ]
    },
    {
     "name": "stdout",
     "output_type": "stream",
     "text": [
      "\n",
      "Epoch: [35 | 60] LR: 0.000001\n"
     ]
    },
    {
     "name": "stderr",
     "output_type": "stream",
     "text": [
      "  8%|██████▏                                                                        | 100/1272 [00:32<05:13,  3.74it/s]"
     ]
    },
    {
     "name": "stdout",
     "output_type": "stream",
     "text": [
      "(100/1272) Data: 0.068s | Batch: 0.326s | Total: 0:00:32 | ETA: 0:05:17 | Loss: 0.1414 | top1:  93.7684\n"
     ]
    },
    {
     "name": "stderr",
     "output_type": "stream",
     "text": [
      " 16%|████████████▍                                                                  | 200/1272 [00:59<04:47,  3.73it/s]"
     ]
    },
    {
     "name": "stdout",
     "output_type": "stream",
     "text": [
      "(200/1272) Data: 0.034s | Batch: 0.295s | Total: 0:00:59 | ETA: 0:04:43 | Loss: 0.1411 | top1:  93.7998\n"
     ]
    },
    {
     "name": "stderr",
     "output_type": "stream",
     "text": [
      " 24%|██████████████████▋                                                            | 300/1272 [01:25<04:19,  3.75it/s]"
     ]
    },
    {
     "name": "stdout",
     "output_type": "stream",
     "text": [
      "(300/1272) Data: 0.023s | Batch: 0.286s | Total: 0:01:25 | ETA: 0:04:15 | Loss: 0.1409 | top1:  93.8152\n"
     ]
    },
    {
     "name": "stderr",
     "output_type": "stream",
     "text": [
      " 31%|████████████████████████▊                                                      | 400/1272 [01:52<03:52,  3.75it/s]"
     ]
    },
    {
     "name": "stdout",
     "output_type": "stream",
     "text": [
      "(400/1272) Data: 0.018s | Batch: 0.281s | Total: 0:01:52 | ETA: 0:03:50 | Loss: 0.1409 | top1:  93.8078\n"
     ]
    },
    {
     "name": "stderr",
     "output_type": "stream",
     "text": [
      " 39%|███████████████████████████████                                                | 500/1272 [02:19<03:24,  3.77it/s]"
     ]
    },
    {
     "name": "stdout",
     "output_type": "stream",
     "text": [
      "(500/1272) Data: 0.014s | Batch: 0.279s | Total: 0:02:19 | ETA: 0:03:28 | Loss: 0.1409 | top1:  93.8110\n"
     ]
    },
    {
     "name": "stderr",
     "output_type": "stream",
     "text": [
      " 47%|█████████████████████████████████████▎                                         | 600/1272 [02:45<02:57,  3.79it/s]"
     ]
    },
    {
     "name": "stdout",
     "output_type": "stream",
     "text": [
      "(600/1272) Data: 0.012s | Batch: 0.277s | Total: 0:02:45 | ETA: 0:02:57 | Loss: 0.1409 | top1:  93.8090\n"
     ]
    },
    {
     "name": "stderr",
     "output_type": "stream",
     "text": [
      " 55%|███████████████████████████████████████████▍                                   | 700/1272 [03:12<02:29,  3.82it/s]"
     ]
    },
    {
     "name": "stdout",
     "output_type": "stream",
     "text": [
      "(700/1272) Data: 0.010s | Batch: 0.275s | Total: 0:03:12 | ETA: 0:02:31 | Loss: 0.1409 | top1:  93.8136\n"
     ]
    },
    {
     "name": "stderr",
     "output_type": "stream",
     "text": [
      " 63%|█████████████████████████████████████████████████▋                             | 800/1272 [03:39<02:07,  3.70it/s]"
     ]
    },
    {
     "name": "stdout",
     "output_type": "stream",
     "text": [
      "(800/1272) Data: 0.009s | Batch: 0.274s | Total: 0:03:39 | ETA: 0:02:07 | Loss: 0.1407 | top1:  93.8190\n"
     ]
    },
    {
     "name": "stderr",
     "output_type": "stream",
     "text": [
      " 71%|███████████████████████████████████████████████████████▉                       | 900/1272 [04:05<01:38,  3.79it/s]"
     ]
    },
    {
     "name": "stdout",
     "output_type": "stream",
     "text": [
      "(900/1272) Data: 0.008s | Batch: 0.273s | Total: 0:04:05 | ETA: 0:01:40 | Loss: 0.1407 | top1:  93.8177\n"
     ]
    },
    {
     "name": "stderr",
     "output_type": "stream",
     "text": [
      " 79%|█████████████████████████████████████████████████████████████▎                | 1000/1272 [04:32<01:13,  3.71it/s]"
     ]
    },
    {
     "name": "stdout",
     "output_type": "stream",
     "text": [
      "(1000/1272) Data: 0.007s | Batch: 0.273s | Total: 0:04:32 | ETA: 0:01:13 | Loss: 0.1408 | top1:  93.8182\n"
     ]
    },
    {
     "name": "stderr",
     "output_type": "stream",
     "text": [
      " 86%|███████████████████████████████████████████████████████████████████▍          | 1100/1272 [04:59<00:46,  3.69it/s]"
     ]
    },
    {
     "name": "stdout",
     "output_type": "stream",
     "text": [
      "(1100/1272) Data: 0.007s | Batch: 0.272s | Total: 0:04:59 | ETA: 0:00:46 | Loss: 0.1408 | top1:  93.8162\n"
     ]
    },
    {
     "name": "stderr",
     "output_type": "stream",
     "text": [
      " 94%|█████████████████████████████████████████████████████████████████████████▌    | 1200/1272 [05:26<00:19,  3.68it/s]"
     ]
    },
    {
     "name": "stdout",
     "output_type": "stream",
     "text": [
      "(1200/1272) Data: 0.006s | Batch: 0.272s | Total: 0:05:26 | ETA: 0:00:20 | Loss: 0.1408 | top1:  93.8132\n"
     ]
    },
    {
     "name": "stderr",
     "output_type": "stream",
     "text": [
      "100%|██████████████████████████████████████████████████████████████████████████████| 1272/1272 [05:46<00:00,  3.67it/s]\n",
      "100%|████████████████████████████████████████████████████████████████████████████████| 156/156 [00:20<00:00,  7.52it/s]\n"
     ]
    },
    {
     "name": "stdout",
     "output_type": "stream",
     "text": [
      "=> saving checkpoint 'checkpoints\\checkpoint.pth.tar'\n"
     ]
    },
    {
     "name": "stderr",
     "output_type": "stream",
     "text": [
      "  0%|                                                                                         | 0/1272 [00:00<?, ?it/s]"
     ]
    },
    {
     "name": "stdout",
     "output_type": "stream",
     "text": [
      "\n",
      "Epoch: [36 | 60] LR: 0.000000\n"
     ]
    },
    {
     "name": "stderr",
     "output_type": "stream",
     "text": [
      "  8%|██████▏                                                                        | 100/1272 [00:32<05:09,  3.79it/s]"
     ]
    },
    {
     "name": "stdout",
     "output_type": "stream",
     "text": [
      "(100/1272) Data: 0.071s | Batch: 0.329s | Total: 0:00:32 | ETA: 0:05:13 | Loss: 0.1413 | top1:  93.8139\n"
     ]
    },
    {
     "name": "stderr",
     "output_type": "stream",
     "text": [
      " 16%|████████████▍                                                                  | 200/1272 [00:59<04:38,  3.85it/s]"
     ]
    },
    {
     "name": "stdout",
     "output_type": "stream",
     "text": [
      "(200/1272) Data: 0.036s | Batch: 0.297s | Total: 0:00:59 | ETA: 0:04:44 | Loss: 0.1408 | top1:  93.8314\n"
     ]
    },
    {
     "name": "stderr",
     "output_type": "stream",
     "text": [
      " 24%|██████████████████▋                                                            | 300/1272 [01:26<04:17,  3.77it/s]"
     ]
    },
    {
     "name": "stdout",
     "output_type": "stream",
     "text": [
      "(300/1272) Data: 0.024s | Batch: 0.287s | Total: 0:01:26 | ETA: 0:04:23 | Loss: 0.1406 | top1:  93.8340\n"
     ]
    },
    {
     "name": "stderr",
     "output_type": "stream",
     "text": [
      " 31%|████████████████████████▊                                                      | 400/1272 [01:52<03:51,  3.77it/s]"
     ]
    },
    {
     "name": "stdout",
     "output_type": "stream",
     "text": [
      "(400/1272) Data: 0.018s | Batch: 0.282s | Total: 0:01:52 | ETA: 0:03:57 | Loss: 0.1405 | top1:  93.8357\n"
     ]
    },
    {
     "name": "stderr",
     "output_type": "stream",
     "text": [
      " 39%|███████████████████████████████                                                | 500/1272 [02:19<03:29,  3.68it/s]"
     ]
    },
    {
     "name": "stdout",
     "output_type": "stream",
     "text": [
      "(500/1272) Data: 0.015s | Batch: 0.279s | Total: 0:02:19 | ETA: 0:03:31 | Loss: 0.1405 | top1:  93.8333\n"
     ]
    },
    {
     "name": "stderr",
     "output_type": "stream",
     "text": [
      " 47%|█████████████████████████████████████▎                                         | 600/1272 [02:46<03:01,  3.71it/s]"
     ]
    },
    {
     "name": "stdout",
     "output_type": "stream",
     "text": [
      "(600/1272) Data: 0.012s | Batch: 0.277s | Total: 0:02:46 | ETA: 0:03:05 | Loss: 0.1405 | top1:  93.8307\n"
     ]
    },
    {
     "name": "stderr",
     "output_type": "stream",
     "text": [
      " 55%|███████████████████████████████████████████▍                                   | 700/1272 [03:13<02:35,  3.68it/s]"
     ]
    },
    {
     "name": "stdout",
     "output_type": "stream",
     "text": [
      "(700/1272) Data: 0.011s | Batch: 0.276s | Total: 0:03:13 | ETA: 0:02:36 | Loss: 0.1406 | top1:  93.8266\n"
     ]
    },
    {
     "name": "stderr",
     "output_type": "stream",
     "text": [
      " 63%|█████████████████████████████████████████████████▋                             | 800/1272 [03:39<02:07,  3.69it/s]"
     ]
    },
    {
     "name": "stdout",
     "output_type": "stream",
     "text": [
      "(800/1272) Data: 0.010s | Batch: 0.275s | Total: 0:03:39 | ETA: 0:02:08 | Loss: 0.1407 | top1:  93.8219\n"
     ]
    },
    {
     "name": "stderr",
     "output_type": "stream",
     "text": [
      " 71%|███████████████████████████████████████████████████████▉                       | 900/1272 [04:06<01:38,  3.79it/s]"
     ]
    },
    {
     "name": "stdout",
     "output_type": "stream",
     "text": [
      "(900/1272) Data: 0.009s | Batch: 0.274s | Total: 0:04:06 | ETA: 0:01:40 | Loss: 0.1407 | top1:  93.8259\n"
     ]
    },
    {
     "name": "stderr",
     "output_type": "stream",
     "text": [
      " 79%|█████████████████████████████████████████████████████████████▎                | 1000/1272 [04:33<01:13,  3.71it/s]"
     ]
    },
    {
     "name": "stdout",
     "output_type": "stream",
     "text": [
      "(1000/1272) Data: 0.008s | Batch: 0.273s | Total: 0:04:33 | ETA: 0:01:14 | Loss: 0.1408 | top1:  93.8183\n"
     ]
    },
    {
     "name": "stderr",
     "output_type": "stream",
     "text": [
      " 86%|███████████████████████████████████████████████████████████████████▍          | 1100/1272 [05:00<00:45,  3.80it/s]"
     ]
    },
    {
     "name": "stdout",
     "output_type": "stream",
     "text": [
      "(1100/1272) Data: 0.007s | Batch: 0.273s | Total: 0:05:00 | ETA: 0:00:47 | Loss: 0.1408 | top1:  93.8203\n"
     ]
    },
    {
     "name": "stderr",
     "output_type": "stream",
     "text": [
      " 94%|█████████████████████████████████████████████████████████████████████████▌    | 1200/1272 [05:26<00:19,  3.76it/s]"
     ]
    },
    {
     "name": "stdout",
     "output_type": "stream",
     "text": [
      "(1200/1272) Data: 0.007s | Batch: 0.272s | Total: 0:05:26 | ETA: 0:00:20 | Loss: 0.1407 | top1:  93.8204\n"
     ]
    },
    {
     "name": "stderr",
     "output_type": "stream",
     "text": [
      "100%|██████████████████████████████████████████████████████████████████████████████| 1272/1272 [05:46<00:00,  3.67it/s]\n",
      "100%|████████████████████████████████████████████████████████████████████████████████| 156/156 [00:20<00:00,  7.44it/s]\n"
     ]
    },
    {
     "name": "stdout",
     "output_type": "stream",
     "text": [
      "=> saving checkpoint 'checkpoints\\checkpoint.pth.tar'\n"
     ]
    },
    {
     "name": "stderr",
     "output_type": "stream",
     "text": [
      "  0%|                                                                                         | 0/1272 [00:00<?, ?it/s]"
     ]
    },
    {
     "name": "stdout",
     "output_type": "stream",
     "text": [
      "\n",
      "Epoch: [37 | 60] LR: 0.000000\n"
     ]
    },
    {
     "name": "stderr",
     "output_type": "stream",
     "text": [
      "  8%|██████▏                                                                        | 100/1272 [00:32<05:08,  3.79it/s]"
     ]
    },
    {
     "name": "stdout",
     "output_type": "stream",
     "text": [
      "(100/1272) Data: 0.071s | Batch: 0.328s | Total: 0:00:32 | ETA: 0:05:10 | Loss: 0.1403 | top1:  93.8484\n"
     ]
    },
    {
     "name": "stderr",
     "output_type": "stream",
     "text": [
      " 16%|████████████▍                                                                  | 200/1272 [00:59<04:50,  3.69it/s]"
     ]
    },
    {
     "name": "stdout",
     "output_type": "stream",
     "text": [
      "(200/1272) Data: 0.036s | Batch: 0.297s | Total: 0:00:59 | ETA: 0:04:46 | Loss: 0.1403 | top1:  93.8383\n"
     ]
    },
    {
     "name": "stderr",
     "output_type": "stream",
     "text": [
      " 24%|██████████████████▋                                                            | 300/1272 [01:26<04:26,  3.65it/s]"
     ]
    },
    {
     "name": "stdout",
     "output_type": "stream",
     "text": [
      "(300/1272) Data: 0.024s | Batch: 0.287s | Total: 0:01:26 | ETA: 0:04:23 | Loss: 0.1403 | top1:  93.8484\n"
     ]
    },
    {
     "name": "stderr",
     "output_type": "stream",
     "text": [
      " 31%|████████████████████████▊                                                      | 400/1272 [01:52<03:46,  3.84it/s]"
     ]
    },
    {
     "name": "stdout",
     "output_type": "stream",
     "text": [
      "(400/1272) Data: 0.018s | Batch: 0.282s | Total: 0:01:52 | ETA: 0:03:55 | Loss: 0.1405 | top1:  93.8399\n"
     ]
    },
    {
     "name": "stderr",
     "output_type": "stream",
     "text": [
      " 39%|███████████████████████████████                                                | 500/1272 [02:19<03:21,  3.82it/s]"
     ]
    },
    {
     "name": "stdout",
     "output_type": "stream",
     "text": [
      "(500/1272) Data: 0.015s | Batch: 0.280s | Total: 0:02:19 | ETA: 0:03:26 | Loss: 0.1405 | top1:  93.8392\n"
     ]
    },
    {
     "name": "stderr",
     "output_type": "stream",
     "text": [
      " 47%|█████████████████████████████████████▎                                         | 600/1272 [02:46<02:58,  3.76it/s]"
     ]
    },
    {
     "name": "stdout",
     "output_type": "stream",
     "text": [
      "(600/1272) Data: 0.012s | Batch: 0.278s | Total: 0:02:46 | ETA: 0:02:59 | Loss: 0.1404 | top1:  93.8420\n"
     ]
    },
    {
     "name": "stderr",
     "output_type": "stream",
     "text": [
      " 55%|███████████████████████████████████████████▍                                   | 700/1272 [03:13<02:34,  3.70it/s]"
     ]
    },
    {
     "name": "stdout",
     "output_type": "stream",
     "text": [
      "(700/1272) Data: 0.011s | Batch: 0.276s | Total: 0:03:13 | ETA: 0:02:37 | Loss: 0.1404 | top1:  93.8420\n"
     ]
    },
    {
     "name": "stderr",
     "output_type": "stream",
     "text": [
      " 63%|█████████████████████████████████████████████████▋                             | 800/1272 [03:40<02:03,  3.82it/s]"
     ]
    },
    {
     "name": "stdout",
     "output_type": "stream",
     "text": [
      "(800/1272) Data: 0.010s | Batch: 0.275s | Total: 0:03:40 | ETA: 0:02:07 | Loss: 0.1404 | top1:  93.8449\n"
     ]
    },
    {
     "name": "stderr",
     "output_type": "stream",
     "text": [
      " 71%|███████████████████████████████████████████████████████▉                       | 900/1272 [04:07<01:40,  3.69it/s]"
     ]
    },
    {
     "name": "stdout",
     "output_type": "stream",
     "text": [
      "(900/1272) Data: 0.009s | Batch: 0.274s | Total: 0:04:07 | ETA: 0:01:42 | Loss: 0.1403 | top1:  93.8455\n"
     ]
    },
    {
     "name": "stderr",
     "output_type": "stream",
     "text": [
      " 79%|█████████████████████████████████████████████████████████████▎                | 1000/1272 [04:33<01:13,  3.71it/s]"
     ]
    },
    {
     "name": "stdout",
     "output_type": "stream",
     "text": [
      "(1000/1272) Data: 0.008s | Batch: 0.274s | Total: 0:04:33 | ETA: 0:01:14 | Loss: 0.1404 | top1:  93.8455\n"
     ]
    },
    {
     "name": "stderr",
     "output_type": "stream",
     "text": [
      " 86%|███████████████████████████████████████████████████████████████████▍          | 1100/1272 [05:00<00:45,  3.79it/s]"
     ]
    },
    {
     "name": "stdout",
     "output_type": "stream",
     "text": [
      "(1100/1272) Data: 0.007s | Batch: 0.273s | Total: 0:05:00 | ETA: 0:00:46 | Loss: 0.1404 | top1:  93.8440\n"
     ]
    },
    {
     "name": "stderr",
     "output_type": "stream",
     "text": [
      " 94%|█████████████████████████████████████████████████████████████████████████▌    | 1200/1272 [05:27<00:19,  3.67it/s]"
     ]
    },
    {
     "name": "stdout",
     "output_type": "stream",
     "text": [
      "(1200/1272) Data: 0.007s | Batch: 0.273s | Total: 0:05:27 | ETA: 0:00:20 | Loss: 0.1404 | top1:  93.8437\n"
     ]
    },
    {
     "name": "stderr",
     "output_type": "stream",
     "text": [
      "100%|██████████████████████████████████████████████████████████████████████████████| 1272/1272 [05:47<00:00,  3.66it/s]\n",
      "100%|████████████████████████████████████████████████████████████████████████████████| 156/156 [00:20<00:00,  7.54it/s]\n"
     ]
    },
    {
     "name": "stdout",
     "output_type": "stream",
     "text": [
      "=> saving checkpoint 'checkpoints\\checkpoint.pth.tar'\n"
     ]
    },
    {
     "name": "stderr",
     "output_type": "stream",
     "text": [
      "  0%|                                                                                         | 0/1272 [00:00<?, ?it/s]"
     ]
    },
    {
     "name": "stdout",
     "output_type": "stream",
     "text": [
      "\n",
      "Epoch: [38 | 60] LR: 0.000000\n"
     ]
    },
    {
     "name": "stderr",
     "output_type": "stream",
     "text": [
      "  8%|██████▏                                                                        | 100/1272 [00:32<05:07,  3.81it/s]"
     ]
    },
    {
     "name": "stdout",
     "output_type": "stream",
     "text": [
      "(100/1272) Data: 0.071s | Batch: 0.329s | Total: 0:00:32 | ETA: 0:05:07 | Loss: 0.1406 | top1:  93.8355\n"
     ]
    },
    {
     "name": "stderr",
     "output_type": "stream",
     "text": [
      " 16%|████████████▍                                                                  | 200/1272 [00:59<04:44,  3.77it/s]"
     ]
    },
    {
     "name": "stdout",
     "output_type": "stream",
     "text": [
      "(200/1272) Data: 0.036s | Batch: 0.297s | Total: 0:00:59 | ETA: 0:04:46 | Loss: 0.1406 | top1:  93.8301\n"
     ]
    },
    {
     "name": "stderr",
     "output_type": "stream",
     "text": [
      " 24%|██████████████████▋                                                            | 300/1272 [01:26<04:22,  3.70it/s]"
     ]
    },
    {
     "name": "stdout",
     "output_type": "stream",
     "text": [
      "(300/1272) Data: 0.024s | Batch: 0.288s | Total: 0:01:26 | ETA: 0:04:22 | Loss: 0.1408 | top1:  93.8051\n"
     ]
    },
    {
     "name": "stderr",
     "output_type": "stream",
     "text": [
      " 31%|████████████████████████▊                                                      | 400/1272 [01:52<03:53,  3.73it/s]"
     ]
    },
    {
     "name": "stdout",
     "output_type": "stream",
     "text": [
      "(400/1272) Data: 0.018s | Batch: 0.282s | Total: 0:01:52 | ETA: 0:03:55 | Loss: 0.1408 | top1:  93.8145\n"
     ]
    },
    {
     "name": "stderr",
     "output_type": "stream",
     "text": [
      " 39%|███████████████████████████████                                                | 500/1272 [02:19<03:26,  3.75it/s]"
     ]
    },
    {
     "name": "stdout",
     "output_type": "stream",
     "text": [
      "(500/1272) Data: 0.015s | Batch: 0.279s | Total: 0:02:19 | ETA: 0:03:29 | Loss: 0.1407 | top1:  93.8189\n"
     ]
    },
    {
     "name": "stderr",
     "output_type": "stream",
     "text": [
      " 47%|█████████████████████████████████████▎                                         | 600/1272 [02:46<03:06,  3.61it/s]"
     ]
    },
    {
     "name": "stdout",
     "output_type": "stream",
     "text": [
      "(600/1272) Data: 0.012s | Batch: 0.277s | Total: 0:02:46 | ETA: 0:03:04 | Loss: 0.1408 | top1:  93.8126\n"
     ]
    },
    {
     "name": "stderr",
     "output_type": "stream",
     "text": [
      " 55%|███████████████████████████████████████████▍                                   | 700/1272 [03:13<02:32,  3.74it/s]"
     ]
    },
    {
     "name": "stdout",
     "output_type": "stream",
     "text": [
      "(700/1272) Data: 0.011s | Batch: 0.276s | Total: 0:03:13 | ETA: 0:02:35 | Loss: 0.1410 | top1:  93.8071\n"
     ]
    },
    {
     "name": "stderr",
     "output_type": "stream",
     "text": [
      " 63%|█████████████████████████████████████████████████▋                             | 800/1272 [03:39<02:08,  3.68it/s]"
     ]
    },
    {
     "name": "stdout",
     "output_type": "stream",
     "text": [
      "(800/1272) Data: 0.010s | Batch: 0.275s | Total: 0:03:39 | ETA: 0:02:08 | Loss: 0.1410 | top1:  93.8058\n"
     ]
    },
    {
     "name": "stderr",
     "output_type": "stream",
     "text": [
      " 71%|███████████████████████████████████████████████████████▉                       | 900/1272 [04:06<01:40,  3.71it/s]"
     ]
    },
    {
     "name": "stdout",
     "output_type": "stream",
     "text": [
      "(900/1272) Data: 0.009s | Batch: 0.274s | Total: 0:04:06 | ETA: 0:01:41 | Loss: 0.1409 | top1:  93.8089\n"
     ]
    },
    {
     "name": "stderr",
     "output_type": "stream",
     "text": [
      " 79%|█████████████████████████████████████████████████████████████▎                | 1000/1272 [04:33<01:11,  3.83it/s]"
     ]
    },
    {
     "name": "stdout",
     "output_type": "stream",
     "text": [
      "(1000/1272) Data: 0.008s | Batch: 0.273s | Total: 0:04:33 | ETA: 0:01:14 | Loss: 0.1409 | top1:  93.8140\n"
     ]
    },
    {
     "name": "stderr",
     "output_type": "stream",
     "text": [
      " 86%|███████████████████████████████████████████████████████████████████▍          | 1100/1272 [05:00<00:45,  3.74it/s]"
     ]
    },
    {
     "name": "stdout",
     "output_type": "stream",
     "text": [
      "(1100/1272) Data: 0.007s | Batch: 0.273s | Total: 0:05:00 | ETA: 0:00:47 | Loss: 0.1408 | top1:  93.8183\n"
     ]
    },
    {
     "name": "stderr",
     "output_type": "stream",
     "text": [
      " 94%|█████████████████████████████████████████████████████████████████████████▌    | 1200/1272 [05:26<00:19,  3.71it/s]"
     ]
    },
    {
     "name": "stdout",
     "output_type": "stream",
     "text": [
      "(1200/1272) Data: 0.007s | Batch: 0.272s | Total: 0:05:26 | ETA: 0:00:20 | Loss: 0.1407 | top1:  93.8192\n"
     ]
    },
    {
     "name": "stderr",
     "output_type": "stream",
     "text": [
      "100%|██████████████████████████████████████████████████████████████████████████████| 1272/1272 [05:46<00:00,  3.67it/s]\n",
      "100%|████████████████████████████████████████████████████████████████████████████████| 156/156 [00:20<00:00,  7.54it/s]\n"
     ]
    },
    {
     "name": "stdout",
     "output_type": "stream",
     "text": [
      "=> saving checkpoint 'checkpoints\\checkpoint.pth.tar'\n"
     ]
    },
    {
     "name": "stderr",
     "output_type": "stream",
     "text": [
      "  0%|                                                                                         | 0/1272 [00:00<?, ?it/s]"
     ]
    },
    {
     "name": "stdout",
     "output_type": "stream",
     "text": [
      "\n",
      "Epoch: [39 | 60] LR: 0.000000\n"
     ]
    },
    {
     "name": "stderr",
     "output_type": "stream",
     "text": [
      "  8%|██████▏                                                                        | 100/1272 [00:32<05:10,  3.78it/s]"
     ]
    },
    {
     "name": "stdout",
     "output_type": "stream",
     "text": [
      "(100/1272) Data: 0.068s | Batch: 0.325s | Total: 0:00:32 | ETA: 0:05:07 | Loss: 0.1410 | top1:  93.7918\n"
     ]
    },
    {
     "name": "stderr",
     "output_type": "stream",
     "text": [
      " 16%|████████████▍                                                                  | 200/1272 [00:59<04:43,  3.78it/s]"
     ]
    },
    {
     "name": "stdout",
     "output_type": "stream",
     "text": [
      "(200/1272) Data: 0.034s | Batch: 0.295s | Total: 0:00:59 | ETA: 0:04:46 | Loss: 0.1407 | top1:  93.8218\n"
     ]
    },
    {
     "name": "stderr",
     "output_type": "stream",
     "text": [
      " 24%|██████████████████▋                                                            | 300/1272 [01:25<04:22,  3.71it/s]"
     ]
    },
    {
     "name": "stdout",
     "output_type": "stream",
     "text": [
      "(300/1272) Data: 0.023s | Batch: 0.286s | Total: 0:01:25 | ETA: 0:04:20 | Loss: 0.1406 | top1:  93.8404\n"
     ]
    },
    {
     "name": "stderr",
     "output_type": "stream",
     "text": [
      " 31%|████████████████████████▊                                                      | 400/1272 [01:52<03:53,  3.73it/s]"
     ]
    },
    {
     "name": "stdout",
     "output_type": "stream",
     "text": [
      "(400/1272) Data: 0.018s | Batch: 0.281s | Total: 0:01:52 | ETA: 0:03:52 | Loss: 0.1406 | top1:  93.8392\n"
     ]
    },
    {
     "name": "stderr",
     "output_type": "stream",
     "text": [
      " 39%|███████████████████████████████                                                | 500/1272 [02:19<03:26,  3.73it/s]"
     ]
    },
    {
     "name": "stdout",
     "output_type": "stream",
     "text": [
      "(500/1272) Data: 0.014s | Batch: 0.278s | Total: 0:02:19 | ETA: 0:03:27 | Loss: 0.1407 | top1:  93.8316\n"
     ]
    },
    {
     "name": "stderr",
     "output_type": "stream",
     "text": [
      " 47%|█████████████████████████████████████▎                                         | 600/1272 [02:45<03:03,  3.66it/s]"
     ]
    },
    {
     "name": "stdout",
     "output_type": "stream",
     "text": [
      "(600/1272) Data: 0.012s | Batch: 0.277s | Total: 0:02:45 | ETA: 0:03:02 | Loss: 0.1408 | top1:  93.8252\n"
     ]
    },
    {
     "name": "stderr",
     "output_type": "stream",
     "text": [
      " 55%|███████████████████████████████████████████▍                                   | 700/1272 [03:12<02:32,  3.75it/s]"
     ]
    },
    {
     "name": "stdout",
     "output_type": "stream",
     "text": [
      "(700/1272) Data: 0.010s | Batch: 0.275s | Total: 0:03:12 | ETA: 0:02:31 | Loss: 0.1407 | top1:  93.8289\n"
     ]
    },
    {
     "name": "stderr",
     "output_type": "stream",
     "text": [
      " 63%|█████████████████████████████████████████████████▋                             | 800/1272 [03:39<02:06,  3.72it/s]"
     ]
    },
    {
     "name": "stdout",
     "output_type": "stream",
     "text": [
      "(800/1272) Data: 0.009s | Batch: 0.274s | Total: 0:03:39 | ETA: 0:02:07 | Loss: 0.1407 | top1:  93.8279\n"
     ]
    },
    {
     "name": "stderr",
     "output_type": "stream",
     "text": [
      " 71%|███████████████████████████████████████████████████████▉                       | 900/1272 [04:06<01:43,  3.61it/s]"
     ]
    },
    {
     "name": "stdout",
     "output_type": "stream",
     "text": [
      "(900/1272) Data: 0.008s | Batch: 0.274s | Total: 0:04:06 | ETA: 0:01:39 | Loss: 0.1407 | top1:  93.8243\n"
     ]
    },
    {
     "name": "stderr",
     "output_type": "stream",
     "text": [
      " 79%|█████████████████████████████████████████████████████████████▎                | 1000/1272 [04:33<01:12,  3.77it/s]"
     ]
    },
    {
     "name": "stdout",
     "output_type": "stream",
     "text": [
      "(1000/1272) Data: 0.007s | Batch: 0.273s | Total: 0:04:33 | ETA: 0:01:14 | Loss: 0.1407 | top1:  93.8223\n"
     ]
    },
    {
     "name": "stderr",
     "output_type": "stream",
     "text": [
      " 86%|███████████████████████████████████████████████████████████████████▍          | 1100/1272 [04:59<00:45,  3.78it/s]"
     ]
    },
    {
     "name": "stdout",
     "output_type": "stream",
     "text": [
      "(1100/1272) Data: 0.007s | Batch: 0.273s | Total: 0:04:59 | ETA: 0:00:47 | Loss: 0.1408 | top1:  93.8200\n"
     ]
    },
    {
     "name": "stderr",
     "output_type": "stream",
     "text": [
      " 94%|█████████████████████████████████████████████████████████████████████████▌    | 1200/1272 [05:26<00:19,  3.71it/s]"
     ]
    },
    {
     "name": "stdout",
     "output_type": "stream",
     "text": [
      "(1200/1272) Data: 0.006s | Batch: 0.272s | Total: 0:05:26 | ETA: 0:00:20 | Loss: 0.1408 | top1:  93.8190\n"
     ]
    },
    {
     "name": "stderr",
     "output_type": "stream",
     "text": [
      "100%|██████████████████████████████████████████████████████████████████████████████| 1272/1272 [05:46<00:00,  3.67it/s]\n",
      "100%|████████████████████████████████████████████████████████████████████████████████| 156/156 [00:20<00:00,  7.46it/s]\n"
     ]
    },
    {
     "name": "stdout",
     "output_type": "stream",
     "text": [
      "=> saving checkpoint 'checkpoints\\checkpoint.pth.tar'\n"
     ]
    },
    {
     "name": "stderr",
     "output_type": "stream",
     "text": [
      "  0%|                                                                                         | 0/1272 [00:00<?, ?it/s]"
     ]
    },
    {
     "name": "stdout",
     "output_type": "stream",
     "text": [
      "\n",
      "Epoch: [40 | 60] LR: 0.000000\n"
     ]
    },
    {
     "name": "stderr",
     "output_type": "stream",
     "text": [
      "  8%|██████▏                                                                        | 100/1272 [00:32<05:09,  3.79it/s]"
     ]
    },
    {
     "name": "stdout",
     "output_type": "stream",
     "text": [
      "(100/1272) Data: 0.069s | Batch: 0.326s | Total: 0:00:32 | ETA: 0:05:13 | Loss: 0.1402 | top1:  93.8695\n"
     ]
    },
    {
     "name": "stderr",
     "output_type": "stream",
     "text": [
      " 16%|████████████▍                                                                  | 200/1272 [00:59<04:55,  3.63it/s]"
     ]
    },
    {
     "name": "stdout",
     "output_type": "stream",
     "text": [
      "(200/1272) Data: 0.035s | Batch: 0.296s | Total: 0:00:59 | ETA: 0:04:47 | Loss: 0.1406 | top1:  93.8448\n"
     ]
    },
    {
     "name": "stderr",
     "output_type": "stream",
     "text": [
      " 24%|██████████████████▋                                                            | 300/1272 [01:26<04:23,  3.69it/s]"
     ]
    },
    {
     "name": "stdout",
     "output_type": "stream",
     "text": [
      "(300/1272) Data: 0.024s | Batch: 0.287s | Total: 0:01:26 | ETA: 0:04:20 | Loss: 0.1409 | top1:  93.8207\n"
     ]
    },
    {
     "name": "stderr",
     "output_type": "stream",
     "text": [
      " 31%|████████████████████████▊                                                      | 400/1272 [01:52<03:52,  3.75it/s]"
     ]
    },
    {
     "name": "stdout",
     "output_type": "stream",
     "text": [
      "(400/1272) Data: 0.018s | Batch: 0.282s | Total: 0:01:52 | ETA: 0:03:51 | Loss: 0.1411 | top1:  93.8154\n"
     ]
    },
    {
     "name": "stderr",
     "output_type": "stream",
     "text": [
      " 39%|███████████████████████████████                                                | 500/1272 [02:19<03:23,  3.80it/s]"
     ]
    },
    {
     "name": "stdout",
     "output_type": "stream",
     "text": [
      "(500/1272) Data: 0.014s | Batch: 0.279s | Total: 0:02:19 | ETA: 0:03:25 | Loss: 0.1410 | top1:  93.8156\n"
     ]
    },
    {
     "name": "stderr",
     "output_type": "stream",
     "text": [
      " 47%|█████████████████████████████████████▎                                         | 600/1272 [02:46<02:55,  3.83it/s]"
     ]
    },
    {
     "name": "stdout",
     "output_type": "stream",
     "text": [
      "(600/1272) Data: 0.012s | Batch: 0.277s | Total: 0:02:46 | ETA: 0:02:59 | Loss: 0.1410 | top1:  93.8186\n"
     ]
    },
    {
     "name": "stderr",
     "output_type": "stream",
     "text": [
      " 55%|███████████████████████████████████████████▍                                   | 700/1272 [03:13<02:30,  3.79it/s]"
     ]
    },
    {
     "name": "stdout",
     "output_type": "stream",
     "text": [
      "(700/1272) Data: 0.011s | Batch: 0.276s | Total: 0:03:13 | ETA: 0:02:33 | Loss: 0.1409 | top1:  93.8187\n"
     ]
    },
    {
     "name": "stderr",
     "output_type": "stream",
     "text": [
      " 63%|█████████████████████████████████████████████████▋                             | 800/1272 [03:40<02:05,  3.75it/s]"
     ]
    },
    {
     "name": "stdout",
     "output_type": "stream",
     "text": [
      "(800/1272) Data: 0.009s | Batch: 0.275s | Total: 0:03:40 | ETA: 0:02:08 | Loss: 0.1407 | top1:  93.8269\n"
     ]
    },
    {
     "name": "stderr",
     "output_type": "stream",
     "text": [
      " 71%|███████████████████████████████████████████████████████▉                       | 900/1272 [04:06<01:41,  3.68it/s]"
     ]
    },
    {
     "name": "stdout",
     "output_type": "stream",
     "text": [
      "(900/1272) Data: 0.008s | Batch: 0.274s | Total: 0:04:06 | ETA: 0:01:42 | Loss: 0.1407 | top1:  93.8247\n"
     ]
    },
    {
     "name": "stderr",
     "output_type": "stream",
     "text": [
      " 79%|█████████████████████████████████████████████████████████████▎                | 1000/1272 [04:33<01:12,  3.78it/s]"
     ]
    },
    {
     "name": "stdout",
     "output_type": "stream",
     "text": [
      "(1000/1272) Data: 0.008s | Batch: 0.274s | Total: 0:04:33 | ETA: 0:01:12 | Loss: 0.1408 | top1:  93.8243\n"
     ]
    },
    {
     "name": "stderr",
     "output_type": "stream",
     "text": [
      " 86%|███████████████████████████████████████████████████████████████████▍          | 1100/1272 [05:00<00:44,  3.85it/s]"
     ]
    },
    {
     "name": "stdout",
     "output_type": "stream",
     "text": [
      "(1100/1272) Data: 0.007s | Batch: 0.273s | Total: 0:05:00 | ETA: 0:00:46 | Loss: 0.1407 | top1:  93.8226\n"
     ]
    },
    {
     "name": "stderr",
     "output_type": "stream",
     "text": [
      " 94%|█████████████████████████████████████████████████████████████████████████▌    | 1200/1272 [05:27<00:19,  3.77it/s]"
     ]
    },
    {
     "name": "stdout",
     "output_type": "stream",
     "text": [
      "(1200/1272) Data: 0.006s | Batch: 0.273s | Total: 0:05:27 | ETA: 0:00:20 | Loss: 0.1407 | top1:  93.8244\n"
     ]
    },
    {
     "name": "stderr",
     "output_type": "stream",
     "text": [
      "100%|██████████████████████████████████████████████████████████████████████████████| 1272/1272 [05:47<00:00,  3.66it/s]\n",
      "100%|████████████████████████████████████████████████████████████████████████████████| 156/156 [00:21<00:00,  7.40it/s]\n"
     ]
    },
    {
     "name": "stdout",
     "output_type": "stream",
     "text": [
      "=> saving checkpoint 'checkpoints\\checkpoint.pth.tar'\n"
     ]
    },
    {
     "name": "stderr",
     "output_type": "stream",
     "text": [
      "  0%|                                                                                         | 0/1272 [00:00<?, ?it/s]"
     ]
    },
    {
     "name": "stdout",
     "output_type": "stream",
     "text": [
      "\n",
      "Epoch: [41 | 60] LR: 0.000000\n"
     ]
    },
    {
     "name": "stderr",
     "output_type": "stream",
     "text": [
      "  8%|██████▏                                                                        | 100/1272 [00:32<05:03,  3.86it/s]"
     ]
    },
    {
     "name": "stdout",
     "output_type": "stream",
     "text": [
      "(100/1272) Data: 0.071s | Batch: 0.327s | Total: 0:00:32 | ETA: 0:05:03 | Loss: 0.1406 | top1:  93.8475\n"
     ]
    },
    {
     "name": "stderr",
     "output_type": "stream",
     "text": [
      " 16%|████████████▍                                                                  | 200/1272 [00:59<04:45,  3.76it/s]"
     ]
    },
    {
     "name": "stdout",
     "output_type": "stream",
     "text": [
      "(200/1272) Data: 0.036s | Batch: 0.296s | Total: 0:00:59 | ETA: 0:04:46 | Loss: 0.1410 | top1:  93.8200\n"
     ]
    },
    {
     "name": "stderr",
     "output_type": "stream",
     "text": [
      " 24%|██████████████████▋                                                            | 300/1272 [01:25<04:14,  3.81it/s]"
     ]
    },
    {
     "name": "stdout",
     "output_type": "stream",
     "text": [
      "(300/1272) Data: 0.024s | Batch: 0.286s | Total: 0:01:25 | ETA: 0:04:17 | Loss: 0.1407 | top1:  93.8432\n"
     ]
    },
    {
     "name": "stderr",
     "output_type": "stream",
     "text": [
      " 31%|████████████████████████▊                                                      | 400/1272 [01:52<03:45,  3.87it/s]"
     ]
    },
    {
     "name": "stdout",
     "output_type": "stream",
     "text": [
      "(400/1272) Data: 0.018s | Batch: 0.281s | Total: 0:01:52 | ETA: 0:03:51 | Loss: 0.1407 | top1:  93.8420\n"
     ]
    },
    {
     "name": "stderr",
     "output_type": "stream",
     "text": [
      " 39%|███████████████████████████████                                                | 500/1272 [02:19<03:22,  3.82it/s]"
     ]
    },
    {
     "name": "stdout",
     "output_type": "stream",
     "text": [
      "(500/1272) Data: 0.015s | Batch: 0.278s | Total: 0:02:19 | ETA: 0:03:26 | Loss: 0.1408 | top1:  93.8288\n"
     ]
    },
    {
     "name": "stderr",
     "output_type": "stream",
     "text": [
      " 47%|█████████████████████████████████████▎                                         | 600/1272 [02:45<02:57,  3.79it/s]"
     ]
    },
    {
     "name": "stdout",
     "output_type": "stream",
     "text": [
      "(600/1272) Data: 0.012s | Batch: 0.276s | Total: 0:02:45 | ETA: 0:02:58 | Loss: 0.1408 | top1:  93.8288\n"
     ]
    },
    {
     "name": "stderr",
     "output_type": "stream",
     "text": [
      " 55%|███████████████████████████████████████████▍                                   | 700/1272 [03:12<02:33,  3.72it/s]"
     ]
    },
    {
     "name": "stdout",
     "output_type": "stream",
     "text": [
      "(700/1272) Data: 0.011s | Batch: 0.275s | Total: 0:03:12 | ETA: 0:02:36 | Loss: 0.1407 | top1:  93.8321\n"
     ]
    },
    {
     "name": "stderr",
     "output_type": "stream",
     "text": [
      " 63%|█████████████████████████████████████████████████▋                             | 800/1272 [03:39<02:07,  3.71it/s]"
     ]
    },
    {
     "name": "stdout",
     "output_type": "stream",
     "text": [
      "(800/1272) Data: 0.010s | Batch: 0.274s | Total: 0:03:39 | ETA: 0:02:08 | Loss: 0.1407 | top1:  93.8351\n"
     ]
    },
    {
     "name": "stderr",
     "output_type": "stream",
     "text": [
      " 71%|███████████████████████████████████████████████████████▉                       | 900/1272 [04:05<01:40,  3.70it/s]"
     ]
    },
    {
     "name": "stdout",
     "output_type": "stream",
     "text": [
      "(900/1272) Data: 0.009s | Batch: 0.273s | Total: 0:04:05 | ETA: 0:01:41 | Loss: 0.1407 | top1:  93.8303\n"
     ]
    },
    {
     "name": "stderr",
     "output_type": "stream",
     "text": [
      " 79%|█████████████████████████████████████████████████████████████▎                | 1000/1272 [04:32<01:11,  3.80it/s]"
     ]
    },
    {
     "name": "stdout",
     "output_type": "stream",
     "text": [
      "(1000/1272) Data: 0.008s | Batch: 0.273s | Total: 0:04:32 | ETA: 0:01:12 | Loss: 0.1408 | top1:  93.8269\n"
     ]
    },
    {
     "name": "stderr",
     "output_type": "stream",
     "text": [
      " 86%|███████████████████████████████████████████████████████████████████▍          | 1100/1272 [04:59<00:46,  3.73it/s]"
     ]
    },
    {
     "name": "stdout",
     "output_type": "stream",
     "text": [
      "(1100/1272) Data: 0.007s | Batch: 0.272s | Total: 0:04:59 | ETA: 0:00:47 | Loss: 0.1408 | top1:  93.8249\n"
     ]
    },
    {
     "name": "stderr",
     "output_type": "stream",
     "text": [
      " 94%|█████████████████████████████████████████████████████████████████████████▌    | 1200/1272 [05:26<00:19,  3.70it/s]"
     ]
    },
    {
     "name": "stdout",
     "output_type": "stream",
     "text": [
      "(1200/1272) Data: 0.007s | Batch: 0.272s | Total: 0:05:26 | ETA: 0:00:20 | Loss: 0.1408 | top1:  93.8254\n"
     ]
    },
    {
     "name": "stderr",
     "output_type": "stream",
     "text": [
      "100%|██████████████████████████████████████████████████████████████████████████████| 1272/1272 [05:46<00:00,  3.68it/s]\n",
      "100%|████████████████████████████████████████████████████████████████████████████████| 156/156 [00:20<00:00,  7.45it/s]\n"
     ]
    },
    {
     "name": "stdout",
     "output_type": "stream",
     "text": [
      "=> saving checkpoint 'checkpoints\\checkpoint.pth.tar'\n"
     ]
    },
    {
     "name": "stderr",
     "output_type": "stream",
     "text": [
      "  0%|                                                                                         | 0/1272 [00:00<?, ?it/s]"
     ]
    },
    {
     "name": "stdout",
     "output_type": "stream",
     "text": [
      "\n",
      "Epoch: [42 | 60] LR: 0.000000\n"
     ]
    },
    {
     "name": "stderr",
     "output_type": "stream",
     "text": [
      "  8%|██████▏                                                                        | 100/1272 [00:32<05:01,  3.89it/s]"
     ]
    },
    {
     "name": "stdout",
     "output_type": "stream",
     "text": [
      "(100/1272) Data: 0.071s | Batch: 0.327s | Total: 0:00:32 | ETA: 0:05:07 | Loss: 0.1404 | top1:  93.8668\n"
     ]
    },
    {
     "name": "stderr",
     "output_type": "stream",
     "text": [
      " 16%|████████████▍                                                                  | 200/1272 [00:59<04:42,  3.79it/s]"
     ]
    },
    {
     "name": "stdout",
     "output_type": "stream",
     "text": [
      "(200/1272) Data: 0.036s | Batch: 0.297s | Total: 0:00:59 | ETA: 0:04:42 | Loss: 0.1410 | top1:  93.8102\n"
     ]
    },
    {
     "name": "stderr",
     "output_type": "stream",
     "text": [
      " 24%|██████████████████▋                                                            | 300/1272 [01:26<04:20,  3.73it/s]"
     ]
    },
    {
     "name": "stdout",
     "output_type": "stream",
     "text": [
      "(300/1272) Data: 0.024s | Batch: 0.287s | Total: 0:01:26 | ETA: 0:04:24 | Loss: 0.1408 | top1:  93.8148\n"
     ]
    },
    {
     "name": "stderr",
     "output_type": "stream",
     "text": [
      " 31%|████████████████████████▊                                                      | 400/1272 [01:52<03:50,  3.78it/s]"
     ]
    },
    {
     "name": "stdout",
     "output_type": "stream",
     "text": [
      "(400/1272) Data: 0.018s | Batch: 0.282s | Total: 0:01:52 | ETA: 0:03:54 | Loss: 0.1409 | top1:  93.8087\n"
     ]
    },
    {
     "name": "stderr",
     "output_type": "stream",
     "text": [
      " 39%|███████████████████████████████                                                | 500/1272 [02:19<03:21,  3.82it/s]"
     ]
    },
    {
     "name": "stdout",
     "output_type": "stream",
     "text": [
      "(500/1272) Data: 0.015s | Batch: 0.279s | Total: 0:02:19 | ETA: 0:03:24 | Loss: 0.1407 | top1:  93.8161\n"
     ]
    },
    {
     "name": "stderr",
     "output_type": "stream",
     "text": [
      " 47%|█████████████████████████████████████▎                                         | 600/1272 [02:46<02:58,  3.76it/s]"
     ]
    },
    {
     "name": "stdout",
     "output_type": "stream",
     "text": [
      "(600/1272) Data: 0.012s | Batch: 0.277s | Total: 0:02:46 | ETA: 0:03:02 | Loss: 0.1406 | top1:  93.8213\n"
     ]
    },
    {
     "name": "stderr",
     "output_type": "stream",
     "text": [
      " 55%|███████████████████████████████████████████▍                                   | 700/1272 [03:13<02:36,  3.65it/s]"
     ]
    },
    {
     "name": "stdout",
     "output_type": "stream",
     "text": [
      "(700/1272) Data: 0.011s | Batch: 0.276s | Total: 0:03:13 | ETA: 0:02:36 | Loss: 0.1405 | top1:  93.8275\n"
     ]
    },
    {
     "name": "stderr",
     "output_type": "stream",
     "text": [
      " 63%|█████████████████████████████████████████████████▋                             | 800/1272 [03:39<02:05,  3.77it/s]"
     ]
    },
    {
     "name": "stdout",
     "output_type": "stream",
     "text": [
      "(800/1272) Data: 0.010s | Batch: 0.275s | Total: 0:03:39 | ETA: 0:02:07 | Loss: 0.1407 | top1:  93.8220\n"
     ]
    },
    {
     "name": "stderr",
     "output_type": "stream",
     "text": [
      " 71%|███████████████████████████████████████████████████████▉                       | 900/1272 [04:06<01:39,  3.73it/s]"
     ]
    },
    {
     "name": "stdout",
     "output_type": "stream",
     "text": [
      "(900/1272) Data: 0.009s | Batch: 0.274s | Total: 0:04:06 | ETA: 0:01:41 | Loss: 0.1406 | top1:  93.8277\n"
     ]
    },
    {
     "name": "stderr",
     "output_type": "stream",
     "text": [
      " 79%|█████████████████████████████████████████████████████████████▎                | 1000/1272 [04:33<01:11,  3.80it/s]"
     ]
    },
    {
     "name": "stdout",
     "output_type": "stream",
     "text": [
      "(1000/1272) Data: 0.008s | Batch: 0.273s | Total: 0:04:33 | ETA: 0:01:12 | Loss: 0.1406 | top1:  93.8254\n"
     ]
    },
    {
     "name": "stderr",
     "output_type": "stream",
     "text": [
      " 86%|███████████████████████████████████████████████████████████████████▍          | 1100/1272 [04:59<00:44,  3.85it/s]"
     ]
    },
    {
     "name": "stdout",
     "output_type": "stream",
     "text": [
      "(1100/1272) Data: 0.007s | Batch: 0.273s | Total: 0:04:59 | ETA: 0:00:46 | Loss: 0.1407 | top1:  93.8225\n"
     ]
    },
    {
     "name": "stderr",
     "output_type": "stream",
     "text": [
      " 94%|█████████████████████████████████████████████████████████████████████████▌    | 1200/1272 [05:26<00:19,  3.70it/s]"
     ]
    },
    {
     "name": "stdout",
     "output_type": "stream",
     "text": [
      "(1200/1272) Data: 0.007s | Batch: 0.272s | Total: 0:05:26 | ETA: 0:00:20 | Loss: 0.1407 | top1:  93.8208\n"
     ]
    },
    {
     "name": "stderr",
     "output_type": "stream",
     "text": [
      "100%|██████████████████████████████████████████████████████████████████████████████| 1272/1272 [05:46<00:00,  3.67it/s]\n",
      "100%|████████████████████████████████████████████████████████████████████████████████| 156/156 [00:21<00:00,  7.41it/s]\n"
     ]
    },
    {
     "name": "stdout",
     "output_type": "stream",
     "text": [
      "=> saving checkpoint 'checkpoints\\checkpoint.pth.tar'\n"
     ]
    },
    {
     "name": "stderr",
     "output_type": "stream",
     "text": [
      "  0%|                                                                                         | 0/1272 [00:00<?, ?it/s]"
     ]
    },
    {
     "name": "stdout",
     "output_type": "stream",
     "text": [
      "\n",
      "Epoch: [43 | 60] LR: 0.000000\n"
     ]
    },
    {
     "name": "stderr",
     "output_type": "stream",
     "text": [
      "  8%|██████▏                                                                        | 100/1272 [00:32<05:08,  3.80it/s]"
     ]
    },
    {
     "name": "stdout",
     "output_type": "stream",
     "text": [
      "(100/1272) Data: 0.071s | Batch: 0.328s | Total: 0:00:32 | ETA: 0:05:06 | Loss: 0.1410 | top1:  93.8240\n"
     ]
    },
    {
     "name": "stderr",
     "output_type": "stream",
     "text": [
      " 16%|████████████▍                                                                  | 200/1272 [00:59<04:44,  3.77it/s]"
     ]
    },
    {
     "name": "stdout",
     "output_type": "stream",
     "text": [
      "(200/1272) Data: 0.036s | Batch: 0.297s | Total: 0:00:59 | ETA: 0:04:46 | Loss: 0.1410 | top1:  93.8135\n"
     ]
    },
    {
     "name": "stderr",
     "output_type": "stream",
     "text": [
      " 24%|██████████████████▋                                                            | 300/1272 [01:25<04:12,  3.85it/s]"
     ]
    },
    {
     "name": "stdout",
     "output_type": "stream",
     "text": [
      "(300/1272) Data: 0.024s | Batch: 0.286s | Total: 0:01:25 | ETA: 0:04:16 | Loss: 0.1408 | top1:  93.8202\n"
     ]
    },
    {
     "name": "stderr",
     "output_type": "stream",
     "text": [
      " 31%|████████████████████████▊                                                      | 400/1272 [01:52<03:51,  3.76it/s]"
     ]
    },
    {
     "name": "stdout",
     "output_type": "stream",
     "text": [
      "(400/1272) Data: 0.018s | Batch: 0.282s | Total: 0:01:52 | ETA: 0:03:56 | Loss: 0.1410 | top1:  93.8145\n"
     ]
    },
    {
     "name": "stderr",
     "output_type": "stream",
     "text": [
      " 39%|███████████████████████████████                                                | 500/1272 [02:19<03:21,  3.83it/s]"
     ]
    },
    {
     "name": "stdout",
     "output_type": "stream",
     "text": [
      "(500/1272) Data: 0.015s | Batch: 0.279s | Total: 0:02:19 | ETA: 0:03:26 | Loss: 0.1409 | top1:  93.8181\n"
     ]
    },
    {
     "name": "stderr",
     "output_type": "stream",
     "text": [
      " 47%|█████████████████████████████████████▎                                         | 600/1272 [02:46<02:56,  3.81it/s]"
     ]
    },
    {
     "name": "stdout",
     "output_type": "stream",
     "text": [
      "(600/1272) Data: 0.013s | Batch: 0.277s | Total: 0:02:46 | ETA: 0:03:00 | Loss: 0.1411 | top1:  93.8092\n"
     ]
    },
    {
     "name": "stderr",
     "output_type": "stream",
     "text": [
      " 55%|███████████████████████████████████████████▍                                   | 700/1272 [03:12<02:34,  3.70it/s]"
     ]
    },
    {
     "name": "stdout",
     "output_type": "stream",
     "text": [
      "(700/1272) Data: 0.011s | Batch: 0.276s | Total: 0:03:12 | ETA: 0:02:35 | Loss: 0.1408 | top1:  93.8148\n"
     ]
    },
    {
     "name": "stderr",
     "output_type": "stream",
     "text": [
      " 63%|█████████████████████████████████████████████████▋                             | 800/1272 [03:39<02:07,  3.71it/s]"
     ]
    },
    {
     "name": "stdout",
     "output_type": "stream",
     "text": [
      "(800/1272) Data: 0.010s | Batch: 0.275s | Total: 0:03:39 | ETA: 0:02:08 | Loss: 0.1408 | top1:  93.8156\n"
     ]
    },
    {
     "name": "stderr",
     "output_type": "stream",
     "text": [
      " 71%|███████████████████████████████████████████████████████▉                       | 900/1272 [04:06<01:39,  3.75it/s]"
     ]
    },
    {
     "name": "stdout",
     "output_type": "stream",
     "text": [
      "(900/1272) Data: 0.009s | Batch: 0.274s | Total: 0:04:06 | ETA: 0:01:40 | Loss: 0.1408 | top1:  93.8145\n"
     ]
    },
    {
     "name": "stderr",
     "output_type": "stream",
     "text": [
      " 79%|█████████████████████████████████████████████████████████████▎                | 1000/1272 [04:33<01:14,  3.67it/s]"
     ]
    },
    {
     "name": "stdout",
     "output_type": "stream",
     "text": [
      "(1000/1272) Data: 0.008s | Batch: 0.273s | Total: 0:04:33 | ETA: 0:01:13 | Loss: 0.1409 | top1:  93.8167\n"
     ]
    },
    {
     "name": "stderr",
     "output_type": "stream",
     "text": [
      " 86%|███████████████████████████████████████████████████████████████████▍          | 1100/1272 [04:59<00:45,  3.77it/s]"
     ]
    },
    {
     "name": "stdout",
     "output_type": "stream",
     "text": [
      "(1100/1272) Data: 0.007s | Batch: 0.273s | Total: 0:04:59 | ETA: 0:00:47 | Loss: 0.1409 | top1:  93.8139\n"
     ]
    },
    {
     "name": "stderr",
     "output_type": "stream",
     "text": [
      " 94%|█████████████████████████████████████████████████████████████████████████▌    | 1200/1272 [05:26<00:19,  3.71it/s]"
     ]
    },
    {
     "name": "stdout",
     "output_type": "stream",
     "text": [
      "(1200/1272) Data: 0.007s | Batch: 0.272s | Total: 0:05:26 | ETA: 0:00:20 | Loss: 0.1409 | top1:  93.8141\n"
     ]
    },
    {
     "name": "stderr",
     "output_type": "stream",
     "text": [
      "100%|██████████████████████████████████████████████████████████████████████████████| 1272/1272 [05:46<00:00,  3.67it/s]\n",
      "100%|████████████████████████████████████████████████████████████████████████████████| 156/156 [00:20<00:00,  7.50it/s]\n"
     ]
    },
    {
     "name": "stdout",
     "output_type": "stream",
     "text": [
      "=> saving checkpoint 'checkpoints\\checkpoint.pth.tar'\n"
     ]
    },
    {
     "name": "stderr",
     "output_type": "stream",
     "text": [
      "  0%|                                                                                         | 0/1272 [00:00<?, ?it/s]"
     ]
    },
    {
     "name": "stdout",
     "output_type": "stream",
     "text": [
      "\n",
      "Epoch: [44 | 60] LR: 0.000000\n"
     ]
    },
    {
     "name": "stderr",
     "output_type": "stream",
     "text": [
      "  8%|██████▏                                                                        | 100/1272 [00:32<05:08,  3.80it/s]"
     ]
    },
    {
     "name": "stdout",
     "output_type": "stream",
     "text": [
      "(100/1272) Data: 0.070s | Batch: 0.327s | Total: 0:00:32 | ETA: 0:05:08 | Loss: 0.1401 | top1:  93.8359\n"
     ]
    },
    {
     "name": "stderr",
     "output_type": "stream",
     "text": [
      " 16%|████████████▍                                                                  | 200/1272 [00:59<04:42,  3.79it/s]"
     ]
    },
    {
     "name": "stdout",
     "output_type": "stream",
     "text": [
      "(200/1272) Data: 0.035s | Batch: 0.296s | Total: 0:00:59 | ETA: 0:04:46 | Loss: 0.1409 | top1:  93.8044\n"
     ]
    },
    {
     "name": "stderr",
     "output_type": "stream",
     "text": [
      " 24%|██████████████████▋                                                            | 300/1272 [01:25<04:16,  3.79it/s]"
     ]
    },
    {
     "name": "stdout",
     "output_type": "stream",
     "text": [
      "(300/1272) Data: 0.024s | Batch: 0.286s | Total: 0:01:25 | ETA: 0:04:18 | Loss: 0.1409 | top1:  93.8046\n"
     ]
    },
    {
     "name": "stderr",
     "output_type": "stream",
     "text": [
      " 31%|████████████████████████▊                                                      | 400/1272 [01:52<03:49,  3.80it/s]"
     ]
    },
    {
     "name": "stdout",
     "output_type": "stream",
     "text": [
      "(400/1272) Data: 0.018s | Batch: 0.281s | Total: 0:01:52 | ETA: 0:03:52 | Loss: 0.1408 | top1:  93.8073\n"
     ]
    },
    {
     "name": "stderr",
     "output_type": "stream",
     "text": [
      " 39%|███████████████████████████████                                                | 500/1272 [02:19<03:29,  3.68it/s]"
     ]
    },
    {
     "name": "stdout",
     "output_type": "stream",
     "text": [
      "(500/1272) Data: 0.015s | Batch: 0.278s | Total: 0:02:19 | ETA: 0:03:26 | Loss: 0.1407 | top1:  93.8191\n"
     ]
    },
    {
     "name": "stderr",
     "output_type": "stream",
     "text": [
      " 47%|█████████████████████████████████████▎                                         | 600/1272 [02:45<02:57,  3.79it/s]"
     ]
    },
    {
     "name": "stdout",
     "output_type": "stream",
     "text": [
      "(600/1272) Data: 0.012s | Batch: 0.276s | Total: 0:02:45 | ETA: 0:03:02 | Loss: 0.1408 | top1:  93.8117\n"
     ]
    },
    {
     "name": "stderr",
     "output_type": "stream",
     "text": [
      " 55%|███████████████████████████████████████████▍                                   | 700/1272 [03:12<02:31,  3.79it/s]"
     ]
    },
    {
     "name": "stdout",
     "output_type": "stream",
     "text": [
      "(700/1272) Data: 0.011s | Batch: 0.275s | Total: 0:03:12 | ETA: 0:02:34 | Loss: 0.1408 | top1:  93.8124\n"
     ]
    },
    {
     "name": "stderr",
     "output_type": "stream",
     "text": [
      " 63%|█████████████████████████████████████████████████▋                             | 800/1272 [03:39<02:07,  3.69it/s]"
     ]
    },
    {
     "name": "stdout",
     "output_type": "stream",
     "text": [
      "(800/1272) Data: 0.009s | Batch: 0.274s | Total: 0:03:39 | ETA: 0:02:07 | Loss: 0.1408 | top1:  93.8200\n"
     ]
    },
    {
     "name": "stderr",
     "output_type": "stream",
     "text": [
      " 71%|███████████████████████████████████████████████████████▉                       | 900/1272 [04:05<01:37,  3.81it/s]"
     ]
    },
    {
     "name": "stdout",
     "output_type": "stream",
     "text": [
      "(900/1272) Data: 0.008s | Batch: 0.273s | Total: 0:04:05 | ETA: 0:01:38 | Loss: 0.1407 | top1:  93.8229\n"
     ]
    },
    {
     "name": "stderr",
     "output_type": "stream",
     "text": [
      " 79%|█████████████████████████████████████████████████████████████▎                | 1000/1272 [04:32<01:12,  3.75it/s]"
     ]
    },
    {
     "name": "stdout",
     "output_type": "stream",
     "text": [
      "(1000/1272) Data: 0.008s | Batch: 0.273s | Total: 0:04:32 | ETA: 0:01:13 | Loss: 0.1407 | top1:  93.8195\n"
     ]
    },
    {
     "name": "stderr",
     "output_type": "stream",
     "text": [
      " 86%|███████████████████████████████████████████████████████████████████▍          | 1100/1272 [04:59<00:46,  3.70it/s]"
     ]
    },
    {
     "name": "stdout",
     "output_type": "stream",
     "text": [
      "(1100/1272) Data: 0.007s | Batch: 0.272s | Total: 0:04:59 | ETA: 0:00:47 | Loss: 0.1408 | top1:  93.8145\n"
     ]
    },
    {
     "name": "stderr",
     "output_type": "stream",
     "text": [
      " 94%|█████████████████████████████████████████████████████████████████████████▌    | 1200/1272 [05:26<00:19,  3.75it/s]"
     ]
    },
    {
     "name": "stdout",
     "output_type": "stream",
     "text": [
      "(1200/1272) Data: 0.006s | Batch: 0.272s | Total: 0:05:26 | ETA: 0:00:20 | Loss: 0.1408 | top1:  93.8161\n"
     ]
    },
    {
     "name": "stderr",
     "output_type": "stream",
     "text": [
      "100%|██████████████████████████████████████████████████████████████████████████████| 1272/1272 [05:46<00:00,  3.68it/s]\n",
      "100%|████████████████████████████████████████████████████████████████████████████████| 156/156 [00:20<00:00,  7.52it/s]\n"
     ]
    },
    {
     "name": "stdout",
     "output_type": "stream",
     "text": [
      "=> saving checkpoint 'checkpoints\\checkpoint.pth.tar'\n"
     ]
    },
    {
     "name": "stderr",
     "output_type": "stream",
     "text": [
      "  0%|                                                                                         | 0/1272 [00:00<?, ?it/s]"
     ]
    },
    {
     "name": "stdout",
     "output_type": "stream",
     "text": [
      "\n",
      "Epoch: [45 | 60] LR: 0.000000\n"
     ]
    },
    {
     "name": "stderr",
     "output_type": "stream",
     "text": [
      "  8%|██████▏                                                                        | 100/1272 [00:32<05:08,  3.80it/s]"
     ]
    },
    {
     "name": "stdout",
     "output_type": "stream",
     "text": [
      "(100/1272) Data: 0.069s | Batch: 0.327s | Total: 0:00:32 | ETA: 0:05:11 | Loss: 0.1410 | top1:  93.8240\n"
     ]
    },
    {
     "name": "stderr",
     "output_type": "stream",
     "text": [
      " 16%|████████████▍                                                                  | 200/1272 [00:59<04:42,  3.80it/s]"
     ]
    },
    {
     "name": "stdout",
     "output_type": "stream",
     "text": [
      "(200/1272) Data: 0.035s | Batch: 0.296s | Total: 0:00:59 | ETA: 0:04:49 | Loss: 0.1406 | top1:  93.8369\n"
     ]
    },
    {
     "name": "stderr",
     "output_type": "stream",
     "text": [
      " 24%|██████████████████▋                                                            | 300/1272 [01:25<04:15,  3.81it/s]"
     ]
    },
    {
     "name": "stdout",
     "output_type": "stream",
     "text": [
      "(300/1272) Data: 0.024s | Batch: 0.286s | Total: 0:01:25 | ETA: 0:04:19 | Loss: 0.1409 | top1:  93.8175\n"
     ]
    },
    {
     "name": "stderr",
     "output_type": "stream",
     "text": [
      " 31%|████████████████████████▊                                                      | 400/1272 [01:52<03:50,  3.78it/s]"
     ]
    },
    {
     "name": "stdout",
     "output_type": "stream",
     "text": [
      "(400/1272) Data: 0.018s | Batch: 0.282s | Total: 0:01:52 | ETA: 0:03:55 | Loss: 0.1408 | top1:  93.8156\n"
     ]
    },
    {
     "name": "stderr",
     "output_type": "stream",
     "text": [
      " 39%|███████████████████████████████                                                | 500/1272 [02:19<03:26,  3.75it/s]"
     ]
    },
    {
     "name": "stdout",
     "output_type": "stream",
     "text": [
      "(500/1272) Data: 0.014s | Batch: 0.279s | Total: 0:02:19 | ETA: 0:03:27 | Loss: 0.1406 | top1:  93.8268\n"
     ]
    },
    {
     "name": "stderr",
     "output_type": "stream",
     "text": [
      " 47%|█████████████████████████████████████▎                                         | 600/1272 [02:46<03:04,  3.64it/s]"
     ]
    },
    {
     "name": "stdout",
     "output_type": "stream",
     "text": [
      "(600/1272) Data: 0.012s | Batch: 0.277s | Total: 0:02:46 | ETA: 0:03:03 | Loss: 0.1408 | top1:  93.8201\n"
     ]
    },
    {
     "name": "stderr",
     "output_type": "stream",
     "text": [
      " 55%|███████████████████████████████████████████▍                                   | 700/1272 [03:13<02:31,  3.78it/s]"
     ]
    },
    {
     "name": "stdout",
     "output_type": "stream",
     "text": [
      "(700/1272) Data: 0.011s | Batch: 0.276s | Total: 0:03:13 | ETA: 0:02:35 | Loss: 0.1409 | top1:  93.8164\n"
     ]
    },
    {
     "name": "stderr",
     "output_type": "stream",
     "text": [
      " 63%|█████████████████████████████████████████████████▋                             | 800/1272 [03:39<02:08,  3.67it/s]"
     ]
    },
    {
     "name": "stdout",
     "output_type": "stream",
     "text": [
      "(800/1272) Data: 0.009s | Batch: 0.275s | Total: 0:03:39 | ETA: 0:02:07 | Loss: 0.1409 | top1:  93.8172\n"
     ]
    },
    {
     "name": "stderr",
     "output_type": "stream",
     "text": [
      " 71%|███████████████████████████████████████████████████████▉                       | 900/1272 [04:06<01:38,  3.78it/s]"
     ]
    },
    {
     "name": "stdout",
     "output_type": "stream",
     "text": [
      "(900/1272) Data: 0.008s | Batch: 0.274s | Total: 0:04:06 | ETA: 0:01:42 | Loss: 0.1408 | top1:  93.8210\n"
     ]
    },
    {
     "name": "stderr",
     "output_type": "stream",
     "text": [
      " 79%|█████████████████████████████████████████████████████████████▎                | 1000/1272 [04:33<01:12,  3.75it/s]"
     ]
    },
    {
     "name": "stdout",
     "output_type": "stream",
     "text": [
      "(1000/1272) Data: 0.008s | Batch: 0.273s | Total: 0:04:33 | ETA: 0:01:13 | Loss: 0.1408 | top1:  93.8192\n"
     ]
    },
    {
     "name": "stderr",
     "output_type": "stream",
     "text": [
      " 86%|███████████████████████████████████████████████████████████████████▍          | 1100/1272 [05:00<00:45,  3.80it/s]"
     ]
    },
    {
     "name": "stdout",
     "output_type": "stream",
     "text": [
      "(1100/1272) Data: 0.007s | Batch: 0.273s | Total: 0:05:00 | ETA: 0:00:47 | Loss: 0.1407 | top1:  93.8166\n"
     ]
    },
    {
     "name": "stderr",
     "output_type": "stream",
     "text": [
      " 94%|█████████████████████████████████████████████████████████████████████████▌    | 1200/1272 [05:26<00:18,  3.80it/s]"
     ]
    },
    {
     "name": "stdout",
     "output_type": "stream",
     "text": [
      "(1200/1272) Data: 0.006s | Batch: 0.272s | Total: 0:05:26 | ETA: 0:00:20 | Loss: 0.1408 | top1:  93.8183\n"
     ]
    },
    {
     "name": "stderr",
     "output_type": "stream",
     "text": [
      "100%|██████████████████████████████████████████████████████████████████████████████| 1272/1272 [05:46<00:00,  3.67it/s]\n",
      "100%|████████████████████████████████████████████████████████████████████████████████| 156/156 [00:21<00:00,  7.42it/s]\n"
     ]
    },
    {
     "name": "stdout",
     "output_type": "stream",
     "text": [
      "=> saving checkpoint 'checkpoints\\checkpoint.pth.tar'\n"
     ]
    },
    {
     "name": "stderr",
     "output_type": "stream",
     "text": [
      "  0%|                                                                                         | 0/1272 [00:00<?, ?it/s]"
     ]
    },
    {
     "name": "stdout",
     "output_type": "stream",
     "text": [
      "\n",
      "Epoch: [46 | 60] LR: 0.000000\n"
     ]
    },
    {
     "name": "stderr",
     "output_type": "stream",
     "text": [
      "  8%|██████▏                                                                        | 100/1272 [00:32<05:14,  3.73it/s]"
     ]
    },
    {
     "name": "stdout",
     "output_type": "stream",
     "text": [
      "(100/1272) Data: 0.070s | Batch: 0.328s | Total: 0:00:32 | ETA: 0:05:09 | Loss: 0.1416 | top1:  93.7566\n"
     ]
    },
    {
     "name": "stderr",
     "output_type": "stream",
     "text": [
      " 16%|████████████▍                                                                  | 200/1272 [00:59<04:41,  3.81it/s]"
     ]
    },
    {
     "name": "stdout",
     "output_type": "stream",
     "text": [
      "(200/1272) Data: 0.035s | Batch: 0.297s | Total: 0:00:59 | ETA: 0:04:45 | Loss: 0.1410 | top1:  93.8010\n"
     ]
    },
    {
     "name": "stderr",
     "output_type": "stream",
     "text": [
      " 24%|██████████████████▋                                                            | 300/1272 [01:26<04:21,  3.71it/s]"
     ]
    },
    {
     "name": "stdout",
     "output_type": "stream",
     "text": [
      "(300/1272) Data: 0.024s | Batch: 0.287s | Total: 0:01:26 | ETA: 0:04:22 | Loss: 0.1410 | top1:  93.8033\n"
     ]
    },
    {
     "name": "stderr",
     "output_type": "stream",
     "text": [
      " 31%|████████████████████████▊                                                      | 400/1272 [01:52<03:49,  3.79it/s]"
     ]
    },
    {
     "name": "stdout",
     "output_type": "stream",
     "text": [
      "(400/1272) Data: 0.018s | Batch: 0.282s | Total: 0:01:52 | ETA: 0:03:50 | Loss: 0.1410 | top1:  93.8065\n"
     ]
    },
    {
     "name": "stderr",
     "output_type": "stream",
     "text": [
      " 39%|███████████████████████████████                                                | 500/1272 [02:19<03:28,  3.71it/s]"
     ]
    },
    {
     "name": "stdout",
     "output_type": "stream",
     "text": [
      "(500/1272) Data: 0.015s | Batch: 0.279s | Total: 0:02:19 | ETA: 0:03:27 | Loss: 0.1409 | top1:  93.8121\n"
     ]
    },
    {
     "name": "stderr",
     "output_type": "stream",
     "text": [
      " 47%|█████████████████████████████████████▎                                         | 600/1272 [02:46<03:00,  3.73it/s]"
     ]
    },
    {
     "name": "stdout",
     "output_type": "stream",
     "text": [
      "(600/1272) Data: 0.012s | Batch: 0.277s | Total: 0:02:46 | ETA: 0:03:03 | Loss: 0.1406 | top1:  93.8270\n"
     ]
    },
    {
     "name": "stderr",
     "output_type": "stream",
     "text": [
      " 55%|███████████████████████████████████████████▍                                   | 700/1272 [03:13<02:36,  3.66it/s]"
     ]
    },
    {
     "name": "stdout",
     "output_type": "stream",
     "text": [
      "(700/1272) Data: 0.011s | Batch: 0.276s | Total: 0:03:13 | ETA: 0:02:36 | Loss: 0.1406 | top1:  93.8221\n"
     ]
    },
    {
     "name": "stderr",
     "output_type": "stream",
     "text": [
      " 63%|█████████████████████████████████████████████████▋                             | 800/1272 [03:40<02:07,  3.69it/s]"
     ]
    },
    {
     "name": "stdout",
     "output_type": "stream",
     "text": [
      "(800/1272) Data: 0.009s | Batch: 0.275s | Total: 0:03:40 | ETA: 0:02:10 | Loss: 0.1407 | top1:  93.8174\n"
     ]
    },
    {
     "name": "stderr",
     "output_type": "stream",
     "text": [
      " 71%|███████████████████████████████████████████████████████▉                       | 900/1272 [04:06<01:41,  3.67it/s]"
     ]
    },
    {
     "name": "stdout",
     "output_type": "stream",
     "text": [
      "(900/1272) Data: 0.008s | Batch: 0.274s | Total: 0:04:06 | ETA: 0:01:41 | Loss: 0.1407 | top1:  93.8175\n"
     ]
    },
    {
     "name": "stderr",
     "output_type": "stream",
     "text": [
      " 79%|█████████████████████████████████████████████████████████████▎                | 1000/1272 [04:34<01:14,  3.67it/s]"
     ]
    },
    {
     "name": "stdout",
     "output_type": "stream",
     "text": [
      "(1000/1272) Data: 0.008s | Batch: 0.274s | Total: 0:04:34 | ETA: 0:01:17 | Loss: 0.1407 | top1:  93.8191\n"
     ]
    },
    {
     "name": "stderr",
     "output_type": "stream",
     "text": [
      " 86%|███████████████████████████████████████████████████████████████████▍          | 1100/1272 [05:01<00:47,  3.61it/s]"
     ]
    },
    {
     "name": "stdout",
     "output_type": "stream",
     "text": [
      "(1100/1272) Data: 0.007s | Batch: 0.274s | Total: 0:05:01 | ETA: 0:00:47 | Loss: 0.1407 | top1:  93.8251\n"
     ]
    },
    {
     "name": "stderr",
     "output_type": "stream",
     "text": [
      " 94%|█████████████████████████████████████████████████████████████████████████▌    | 1200/1272 [05:28<00:19,  3.62it/s]"
     ]
    },
    {
     "name": "stdout",
     "output_type": "stream",
     "text": [
      "(1200/1272) Data: 0.007s | Batch: 0.274s | Total: 0:05:28 | ETA: 0:00:20 | Loss: 0.1407 | top1:  93.8257\n"
     ]
    },
    {
     "name": "stderr",
     "output_type": "stream",
     "text": [
      "100%|██████████████████████████████████████████████████████████████████████████████| 1272/1272 [05:49<00:00,  3.64it/s]\n",
      "100%|████████████████████████████████████████████████████████████████████████████████| 156/156 [00:21<00:00,  7.36it/s]\n"
     ]
    },
    {
     "name": "stdout",
     "output_type": "stream",
     "text": [
      "=> saving checkpoint 'checkpoints\\checkpoint.pth.tar'\n"
     ]
    },
    {
     "name": "stderr",
     "output_type": "stream",
     "text": [
      "  0%|                                                                                         | 0/1272 [00:00<?, ?it/s]"
     ]
    },
    {
     "name": "stdout",
     "output_type": "stream",
     "text": [
      "\n",
      "Epoch: [47 | 60] LR: 0.000000\n"
     ]
    },
    {
     "name": "stderr",
     "output_type": "stream",
     "text": [
      "  8%|██████▏                                                                        | 100/1272 [00:33<05:17,  3.69it/s]"
     ]
    },
    {
     "name": "stdout",
     "output_type": "stream",
     "text": [
      "(100/1272) Data: 0.069s | Batch: 0.331s | Total: 0:00:33 | ETA: 0:05:16 | Loss: 0.1408 | top1:  93.8088\n"
     ]
    },
    {
     "name": "stderr",
     "output_type": "stream",
     "text": [
      " 16%|████████████▍                                                                  | 200/1272 [00:59<04:43,  3.79it/s]"
     ]
    },
    {
     "name": "stdout",
     "output_type": "stream",
     "text": [
      "(200/1272) Data: 0.035s | Batch: 0.299s | Total: 0:00:59 | ETA: 0:04:47 | Loss: 0.1408 | top1:  93.8256\n"
     ]
    },
    {
     "name": "stderr",
     "output_type": "stream",
     "text": [
      " 24%|██████████████████▋                                                            | 300/1272 [01:26<04:18,  3.76it/s]"
     ]
    },
    {
     "name": "stdout",
     "output_type": "stream",
     "text": [
      "(300/1272) Data: 0.024s | Batch: 0.289s | Total: 0:01:26 | ETA: 0:04:26 | Loss: 0.1409 | top1:  93.8111\n"
     ]
    },
    {
     "name": "stderr",
     "output_type": "stream",
     "text": [
      " 31%|████████████████████████▊                                                      | 400/1272 [01:53<03:58,  3.66it/s]"
     ]
    },
    {
     "name": "stdout",
     "output_type": "stream",
     "text": [
      "(400/1272) Data: 0.018s | Batch: 0.285s | Total: 0:01:53 | ETA: 0:04:00 | Loss: 0.1409 | top1:  93.8201\n"
     ]
    },
    {
     "name": "stderr",
     "output_type": "stream",
     "text": [
      " 39%|███████████████████████████████                                                | 500/1272 [02:20<03:26,  3.74it/s]"
     ]
    },
    {
     "name": "stdout",
     "output_type": "stream",
     "text": [
      "(500/1272) Data: 0.014s | Batch: 0.281s | Total: 0:02:20 | ETA: 0:03:28 | Loss: 0.1409 | top1:  93.8199\n"
     ]
    },
    {
     "name": "stderr",
     "output_type": "stream",
     "text": [
      " 47%|█████████████████████████████████████▎                                         | 600/1272 [02:47<03:01,  3.71it/s]"
     ]
    },
    {
     "name": "stdout",
     "output_type": "stream",
     "text": [
      "(600/1272) Data: 0.012s | Batch: 0.279s | Total: 0:02:47 | ETA: 0:03:03 | Loss: 0.1409 | top1:  93.8143\n"
     ]
    },
    {
     "name": "stderr",
     "output_type": "stream",
     "text": [
      " 55%|███████████████████████████████████████████▍                                   | 700/1272 [03:14<02:33,  3.71it/s]"
     ]
    },
    {
     "name": "stdout",
     "output_type": "stream",
     "text": [
      "(700/1272) Data: 0.011s | Batch: 0.278s | Total: 0:03:14 | ETA: 0:02:34 | Loss: 0.1408 | top1:  93.8179\n"
     ]
    },
    {
     "name": "stderr",
     "output_type": "stream",
     "text": [
      " 63%|█████████████████████████████████████████████████▋                             | 800/1272 [03:41<02:08,  3.69it/s]"
     ]
    },
    {
     "name": "stdout",
     "output_type": "stream",
     "text": [
      "(800/1272) Data: 0.009s | Batch: 0.277s | Total: 0:03:41 | ETA: 0:02:10 | Loss: 0.1408 | top1:  93.8166\n"
     ]
    },
    {
     "name": "stderr",
     "output_type": "stream",
     "text": [
      " 71%|███████████████████████████████████████████████████████▉                       | 900/1272 [04:08<01:38,  3.79it/s]"
     ]
    },
    {
     "name": "stdout",
     "output_type": "stream",
     "text": [
      "(900/1272) Data: 0.008s | Batch: 0.276s | Total: 0:04:08 | ETA: 0:01:41 | Loss: 0.1407 | top1:  93.8235\n"
     ]
    },
    {
     "name": "stderr",
     "output_type": "stream",
     "text": [
      " 79%|█████████████████████████████████████████████████████████████▎                | 1000/1272 [04:35<01:12,  3.73it/s]"
     ]
    },
    {
     "name": "stdout",
     "output_type": "stream",
     "text": [
      "(1000/1272) Data: 0.008s | Batch: 0.275s | Total: 0:04:35 | ETA: 0:01:15 | Loss: 0.1407 | top1:  93.8241\n"
     ]
    },
    {
     "name": "stderr",
     "output_type": "stream",
     "text": [
      " 86%|███████████████████████████████████████████████████████████████████▍          | 1100/1272 [05:01<00:46,  3.69it/s]"
     ]
    },
    {
     "name": "stdout",
     "output_type": "stream",
     "text": [
      "(1100/1272) Data: 0.007s | Batch: 0.274s | Total: 0:05:01 | ETA: 0:00:47 | Loss: 0.1407 | top1:  93.8258\n"
     ]
    },
    {
     "name": "stderr",
     "output_type": "stream",
     "text": [
      " 94%|█████████████████████████████████████████████████████████████████████████▌    | 1200/1272 [05:28<00:19,  3.75it/s]"
     ]
    },
    {
     "name": "stdout",
     "output_type": "stream",
     "text": [
      "(1200/1272) Data: 0.006s | Batch: 0.274s | Total: 0:05:28 | ETA: 0:00:20 | Loss: 0.1406 | top1:  93.8304\n"
     ]
    },
    {
     "name": "stderr",
     "output_type": "stream",
     "text": [
      "100%|██████████████████████████████████████████████████████████████████████████████| 1272/1272 [05:49<00:00,  3.64it/s]\n",
      "100%|████████████████████████████████████████████████████████████████████████████████| 156/156 [00:20<00:00,  7.44it/s]\n"
     ]
    },
    {
     "name": "stdout",
     "output_type": "stream",
     "text": [
      "=> saving checkpoint 'checkpoints\\checkpoint.pth.tar'\n"
     ]
    },
    {
     "name": "stderr",
     "output_type": "stream",
     "text": [
      "  0%|                                                                                         | 0/1272 [00:00<?, ?it/s]"
     ]
    },
    {
     "name": "stdout",
     "output_type": "stream",
     "text": [
      "\n",
      "Epoch: [48 | 60] LR: 0.000000\n"
     ]
    },
    {
     "name": "stderr",
     "output_type": "stream",
     "text": [
      "  8%|██████▏                                                                        | 100/1272 [00:32<05:19,  3.66it/s]"
     ]
    },
    {
     "name": "stdout",
     "output_type": "stream",
     "text": [
      "(100/1272) Data: 0.070s | Batch: 0.328s | Total: 0:00:32 | ETA: 0:05:31 | Loss: 0.1410 | top1:  93.8197\n"
     ]
    },
    {
     "name": "stderr",
     "output_type": "stream",
     "text": [
      " 16%|████████████▍                                                                  | 200/1272 [00:59<04:43,  3.78it/s]"
     ]
    },
    {
     "name": "stdout",
     "output_type": "stream",
     "text": [
      "(200/1272) Data: 0.035s | Batch: 0.298s | Total: 0:00:59 | ETA: 0:04:45 | Loss: 0.1409 | top1:  93.8265\n"
     ]
    },
    {
     "name": "stderr",
     "output_type": "stream",
     "text": [
      " 24%|██████████████████▋                                                            | 300/1272 [01:26<04:23,  3.68it/s]"
     ]
    },
    {
     "name": "stdout",
     "output_type": "stream",
     "text": [
      "(300/1272) Data: 0.024s | Batch: 0.288s | Total: 0:01:26 | ETA: 0:04:26 | Loss: 0.1409 | top1:  93.8234\n"
     ]
    },
    {
     "name": "stderr",
     "output_type": "stream",
     "text": [
      " 31%|████████████████████████▊                                                      | 400/1272 [01:53<03:53,  3.74it/s]"
     ]
    },
    {
     "name": "stdout",
     "output_type": "stream",
     "text": [
      "(400/1272) Data: 0.018s | Batch: 0.283s | Total: 0:01:53 | ETA: 0:03:56 | Loss: 0.1407 | top1:  93.8312\n"
     ]
    },
    {
     "name": "stderr",
     "output_type": "stream",
     "text": [
      " 39%|███████████████████████████████                                                | 500/1272 [02:20<03:31,  3.64it/s]"
     ]
    },
    {
     "name": "stdout",
     "output_type": "stream",
     "text": [
      "(500/1272) Data: 0.015s | Batch: 0.280s | Total: 0:02:20 | ETA: 0:03:28 | Loss: 0.1406 | top1:  93.8315\n"
     ]
    },
    {
     "name": "stderr",
     "output_type": "stream",
     "text": [
      " 47%|█████████████████████████████████████▎                                         | 600/1272 [02:47<02:57,  3.78it/s]"
     ]
    },
    {
     "name": "stdout",
     "output_type": "stream",
     "text": [
      "(600/1272) Data: 0.012s | Batch: 0.279s | Total: 0:02:47 | ETA: 0:03:00 | Loss: 0.1406 | top1:  93.8347\n"
     ]
    },
    {
     "name": "stderr",
     "output_type": "stream",
     "text": [
      " 55%|███████████████████████████████████████████▍                                   | 700/1272 [03:14<02:30,  3.79it/s]"
     ]
    },
    {
     "name": "stdout",
     "output_type": "stream",
     "text": [
      "(700/1272) Data: 0.011s | Batch: 0.277s | Total: 0:03:14 | ETA: 0:02:34 | Loss: 0.1406 | top1:  93.8338\n"
     ]
    },
    {
     "name": "stderr",
     "output_type": "stream",
     "text": [
      " 63%|█████████████████████████████████████████████████▋                             | 800/1272 [03:40<02:07,  3.72it/s]"
     ]
    },
    {
     "name": "stdout",
     "output_type": "stream",
     "text": [
      "(800/1272) Data: 0.009s | Batch: 0.276s | Total: 0:03:40 | ETA: 0:02:11 | Loss: 0.1406 | top1:  93.8374\n"
     ]
    },
    {
     "name": "stderr",
     "output_type": "stream",
     "text": [
      " 71%|███████████████████████████████████████████████████████▉                       | 900/1272 [04:07<01:41,  3.68it/s]"
     ]
    },
    {
     "name": "stdout",
     "output_type": "stream",
     "text": [
      "(900/1272) Data: 0.008s | Batch: 0.275s | Total: 0:04:07 | ETA: 0:01:42 | Loss: 0.1406 | top1:  93.8313\n"
     ]
    },
    {
     "name": "stderr",
     "output_type": "stream",
     "text": [
      " 79%|█████████████████████████████████████████████████████████████▎                | 1000/1272 [04:34<01:14,  3.66it/s]"
     ]
    },
    {
     "name": "stdout",
     "output_type": "stream",
     "text": [
      "(1000/1272) Data: 0.008s | Batch: 0.275s | Total: 0:04:34 | ETA: 0:01:14 | Loss: 0.1407 | top1:  93.8317\n"
     ]
    },
    {
     "name": "stderr",
     "output_type": "stream",
     "text": [
      " 86%|███████████████████████████████████████████████████████████████████▍          | 1100/1272 [05:01<00:46,  3.69it/s]"
     ]
    },
    {
     "name": "stdout",
     "output_type": "stream",
     "text": [
      "(1100/1272) Data: 0.007s | Batch: 0.274s | Total: 0:05:01 | ETA: 0:00:48 | Loss: 0.1406 | top1:  93.8333\n"
     ]
    },
    {
     "name": "stderr",
     "output_type": "stream",
     "text": [
      " 94%|█████████████████████████████████████████████████████████████████████████▌    | 1200/1272 [05:28<00:19,  3.78it/s]"
     ]
    },
    {
     "name": "stdout",
     "output_type": "stream",
     "text": [
      "(1200/1272) Data: 0.006s | Batch: 0.274s | Total: 0:05:28 | ETA: 0:00:20 | Loss: 0.1406 | top1:  93.8327\n"
     ]
    },
    {
     "name": "stderr",
     "output_type": "stream",
     "text": [
      "100%|██████████████████████████████████████████████████████████████████████████████| 1272/1272 [05:48<00:00,  3.65it/s]\n",
      "100%|████████████████████████████████████████████████████████████████████████████████| 156/156 [00:21<00:00,  7.31it/s]\n"
     ]
    },
    {
     "name": "stdout",
     "output_type": "stream",
     "text": [
      "=> saving checkpoint 'checkpoints\\checkpoint.pth.tar'\n"
     ]
    },
    {
     "name": "stderr",
     "output_type": "stream",
     "text": [
      "  0%|                                                                                         | 0/1272 [00:00<?, ?it/s]"
     ]
    },
    {
     "name": "stdout",
     "output_type": "stream",
     "text": [
      "\n",
      "Epoch: [49 | 60] LR: 0.000000\n"
     ]
    },
    {
     "name": "stderr",
     "output_type": "stream",
     "text": [
      "  8%|██████▏                                                                        | 100/1272 [00:33<05:12,  3.75it/s]"
     ]
    },
    {
     "name": "stdout",
     "output_type": "stream",
     "text": [
      "(100/1272) Data: 0.075s | Batch: 0.335s | Total: 0:00:33 | ETA: 0:05:14 | Loss: 0.1408 | top1:  93.8023\n"
     ]
    },
    {
     "name": "stderr",
     "output_type": "stream",
     "text": [
      " 16%|████████████▍                                                                  | 200/1272 [01:00<04:45,  3.75it/s]"
     ]
    },
    {
     "name": "stdout",
     "output_type": "stream",
     "text": [
      "(200/1272) Data: 0.038s | Batch: 0.302s | Total: 0:01:00 | ETA: 0:04:48 | Loss: 0.1414 | top1:  93.7643\n"
     ]
    },
    {
     "name": "stderr",
     "output_type": "stream",
     "text": [
      " 24%|██████████████████▋                                                            | 300/1272 [01:27<04:23,  3.69it/s]"
     ]
    },
    {
     "name": "stdout",
     "output_type": "stream",
     "text": [
      "(300/1272) Data: 0.026s | Batch: 0.291s | Total: 0:01:27 | ETA: 0:04:19 | Loss: 0.1416 | top1:  93.7583\n"
     ]
    },
    {
     "name": "stderr",
     "output_type": "stream",
     "text": [
      " 31%|████████████████████████▊                                                      | 400/1272 [01:54<03:52,  3.75it/s]"
     ]
    },
    {
     "name": "stdout",
     "output_type": "stream",
     "text": [
      "(400/1272) Data: 0.019s | Batch: 0.286s | Total: 0:01:54 | ETA: 0:03:52 | Loss: 0.1412 | top1:  93.7805\n"
     ]
    },
    {
     "name": "stderr",
     "output_type": "stream",
     "text": [
      " 39%|███████████████████████████████                                                | 500/1272 [02:21<03:29,  3.69it/s]"
     ]
    },
    {
     "name": "stdout",
     "output_type": "stream",
     "text": [
      "(500/1272) Data: 0.016s | Batch: 0.282s | Total: 0:02:21 | ETA: 0:03:29 | Loss: 0.1410 | top1:  93.7916\n"
     ]
    },
    {
     "name": "stderr",
     "output_type": "stream",
     "text": [
      " 47%|█████████████████████████████████████▎                                         | 600/1272 [02:48<02:57,  3.78it/s]"
     ]
    },
    {
     "name": "stdout",
     "output_type": "stream",
     "text": [
      "(600/1272) Data: 0.013s | Batch: 0.280s | Total: 0:02:48 | ETA: 0:03:00 | Loss: 0.1411 | top1:  93.7891\n"
     ]
    },
    {
     "name": "stderr",
     "output_type": "stream",
     "text": [
      " 55%|███████████████████████████████████████████▍                                   | 700/1272 [03:15<02:36,  3.65it/s]"
     ]
    },
    {
     "name": "stdout",
     "output_type": "stream",
     "text": [
      "(700/1272) Data: 0.011s | Batch: 0.279s | Total: 0:03:15 | ETA: 0:02:37 | Loss: 0.1409 | top1:  93.8047\n"
     ]
    },
    {
     "name": "stderr",
     "output_type": "stream",
     "text": [
      " 63%|█████████████████████████████████████████████████▋                             | 800/1272 [03:42<02:07,  3.70it/s]"
     ]
    },
    {
     "name": "stdout",
     "output_type": "stream",
     "text": [
      "(800/1272) Data: 0.010s | Batch: 0.278s | Total: 0:03:42 | ETA: 0:02:07 | Loss: 0.1408 | top1:  93.8061\n"
     ]
    },
    {
     "name": "stderr",
     "output_type": "stream",
     "text": [
      " 71%|███████████████████████████████████████████████████████▉                       | 900/1272 [04:09<01:42,  3.63it/s]"
     ]
    },
    {
     "name": "stdout",
     "output_type": "stream",
     "text": [
      "(900/1272) Data: 0.009s | Batch: 0.277s | Total: 0:04:09 | ETA: 0:01:42 | Loss: 0.1409 | top1:  93.8058\n"
     ]
    },
    {
     "name": "stderr",
     "output_type": "stream",
     "text": [
      " 79%|█████████████████████████████████████████████████████████████▎                | 1000/1272 [04:36<01:11,  3.81it/s]"
     ]
    },
    {
     "name": "stdout",
     "output_type": "stream",
     "text": [
      "(1000/1272) Data: 0.008s | Batch: 0.276s | Total: 0:04:36 | ETA: 0:01:15 | Loss: 0.1408 | top1:  93.8076\n"
     ]
    },
    {
     "name": "stderr",
     "output_type": "stream",
     "text": [
      " 86%|███████████████████████████████████████████████████████████████████▍          | 1100/1272 [05:03<00:46,  3.66it/s]"
     ]
    },
    {
     "name": "stdout",
     "output_type": "stream",
     "text": [
      "(1100/1272) Data: 0.008s | Batch: 0.275s | Total: 0:05:03 | ETA: 0:00:48 | Loss: 0.1408 | top1:  93.8104\n"
     ]
    },
    {
     "name": "stderr",
     "output_type": "stream",
     "text": [
      " 94%|█████████████████████████████████████████████████████████████████████████▌    | 1200/1272 [05:29<00:19,  3.75it/s]"
     ]
    },
    {
     "name": "stdout",
     "output_type": "stream",
     "text": [
      "(1200/1272) Data: 0.007s | Batch: 0.275s | Total: 0:05:29 | ETA: 0:00:20 | Loss: 0.1408 | top1:  93.8131\n"
     ]
    },
    {
     "name": "stderr",
     "output_type": "stream",
     "text": [
      "100%|██████████████████████████████████████████████████████████████████████████████| 1272/1272 [05:50<00:00,  3.63it/s]\n",
      "100%|████████████████████████████████████████████████████████████████████████████████| 156/156 [00:20<00:00,  7.44it/s]\n"
     ]
    },
    {
     "name": "stdout",
     "output_type": "stream",
     "text": [
      "=> saving checkpoint 'checkpoints\\checkpoint.pth.tar'\n"
     ]
    },
    {
     "name": "stderr",
     "output_type": "stream",
     "text": [
      "  0%|                                                                                         | 0/1272 [00:00<?, ?it/s]"
     ]
    },
    {
     "name": "stdout",
     "output_type": "stream",
     "text": [
      "\n",
      "Epoch: [50 | 60] LR: 0.000000\n"
     ]
    },
    {
     "name": "stderr",
     "output_type": "stream",
     "text": [
      "  8%|██████▏                                                                        | 100/1272 [00:32<05:05,  3.84it/s]"
     ]
    },
    {
     "name": "stdout",
     "output_type": "stream",
     "text": [
      "(100/1272) Data: 0.069s | Batch: 0.327s | Total: 0:00:32 | ETA: 0:05:13 | Loss: 0.1407 | top1:  93.8332\n"
     ]
    },
    {
     "name": "stderr",
     "output_type": "stream",
     "text": [
      " 16%|████████████▍                                                                  | 200/1272 [00:59<04:46,  3.74it/s]"
     ]
    },
    {
     "name": "stdout",
     "output_type": "stream",
     "text": [
      "(200/1272) Data: 0.035s | Batch: 0.298s | Total: 0:00:59 | ETA: 0:04:50 | Loss: 0.1405 | top1:  93.8382\n"
     ]
    },
    {
     "name": "stderr",
     "output_type": "stream",
     "text": [
      " 24%|██████████████████▋                                                            | 300/1272 [01:26<04:26,  3.65it/s]"
     ]
    },
    {
     "name": "stdout",
     "output_type": "stream",
     "text": [
      "(300/1272) Data: 0.024s | Batch: 0.288s | Total: 0:01:26 | ETA: 0:04:23 | Loss: 0.1406 | top1:  93.8333\n"
     ]
    },
    {
     "name": "stderr",
     "output_type": "stream",
     "text": [
      " 31%|████████████████████████▊                                                      | 400/1272 [01:53<03:50,  3.79it/s]"
     ]
    },
    {
     "name": "stdout",
     "output_type": "stream",
     "text": [
      "(400/1272) Data: 0.018s | Batch: 0.283s | Total: 0:01:53 | ETA: 0:03:55 | Loss: 0.1408 | top1:  93.8242\n"
     ]
    },
    {
     "name": "stderr",
     "output_type": "stream",
     "text": [
      " 39%|███████████████████████████████                                                | 500/1272 [02:20<03:30,  3.67it/s]"
     ]
    },
    {
     "name": "stdout",
     "output_type": "stream",
     "text": [
      "(500/1272) Data: 0.014s | Batch: 0.281s | Total: 0:02:20 | ETA: 0:03:32 | Loss: 0.1408 | top1:  93.8263\n"
     ]
    },
    {
     "name": "stderr",
     "output_type": "stream",
     "text": [
      " 47%|█████████████████████████████████████▎                                         | 600/1272 [02:47<02:59,  3.75it/s]"
     ]
    },
    {
     "name": "stdout",
     "output_type": "stream",
     "text": [
      "(600/1272) Data: 0.012s | Batch: 0.279s | Total: 0:02:47 | ETA: 0:03:04 | Loss: 0.1408 | top1:  93.8196\n"
     ]
    },
    {
     "name": "stderr",
     "output_type": "stream",
     "text": [
      " 55%|███████████████████████████████████████████▍                                   | 700/1272 [03:14<02:35,  3.68it/s]"
     ]
    },
    {
     "name": "stdout",
     "output_type": "stream",
     "text": [
      "(700/1272) Data: 0.010s | Batch: 0.278s | Total: 0:03:14 | ETA: 0:02:34 | Loss: 0.1408 | top1:  93.8208\n"
     ]
    },
    {
     "name": "stderr",
     "output_type": "stream",
     "text": [
      " 63%|█████████████████████████████████████████████████▋                             | 800/1272 [03:41<02:08,  3.66it/s]"
     ]
    },
    {
     "name": "stdout",
     "output_type": "stream",
     "text": [
      "(800/1272) Data: 0.009s | Batch: 0.276s | Total: 0:03:41 | ETA: 0:02:10 | Loss: 0.1408 | top1:  93.8215\n"
     ]
    },
    {
     "name": "stderr",
     "output_type": "stream",
     "text": [
      " 71%|███████████████████████████████████████████████████████▉                       | 900/1272 [04:07<01:37,  3.81it/s]"
     ]
    },
    {
     "name": "stdout",
     "output_type": "stream",
     "text": [
      "(900/1272) Data: 0.008s | Batch: 0.275s | Total: 0:04:07 | ETA: 0:01:39 | Loss: 0.1408 | top1:  93.8194\n"
     ]
    },
    {
     "name": "stderr",
     "output_type": "stream",
     "text": [
      " 79%|█████████████████████████████████████████████████████████████▎                | 1000/1272 [04:34<01:12,  3.74it/s]"
     ]
    },
    {
     "name": "stdout",
     "output_type": "stream",
     "text": [
      "(1000/1272) Data: 0.008s | Batch: 0.275s | Total: 0:04:34 | ETA: 0:01:13 | Loss: 0.1409 | top1:  93.8182\n"
     ]
    },
    {
     "name": "stderr",
     "output_type": "stream",
     "text": [
      " 86%|███████████████████████████████████████████████████████████████████▍          | 1100/1272 [05:01<00:46,  3.71it/s]"
     ]
    },
    {
     "name": "stdout",
     "output_type": "stream",
     "text": [
      "(1100/1272) Data: 0.007s | Batch: 0.274s | Total: 0:05:01 | ETA: 0:00:47 | Loss: 0.1409 | top1:  93.8187\n"
     ]
    },
    {
     "name": "stderr",
     "output_type": "stream",
     "text": [
      " 94%|█████████████████████████████████████████████████████████████████████████▌    | 1200/1272 [05:28<00:18,  3.79it/s]"
     ]
    },
    {
     "name": "stdout",
     "output_type": "stream",
     "text": [
      "(1200/1272) Data: 0.006s | Batch: 0.274s | Total: 0:05:28 | ETA: 0:00:20 | Loss: 0.1408 | top1:  93.8221\n"
     ]
    },
    {
     "name": "stderr",
     "output_type": "stream",
     "text": [
      "100%|██████████████████████████████████████████████████████████████████████████████| 1272/1272 [05:48<00:00,  3.65it/s]\n",
      "100%|████████████████████████████████████████████████████████████████████████████████| 156/156 [00:21<00:00,  7.42it/s]\n"
     ]
    },
    {
     "name": "stdout",
     "output_type": "stream",
     "text": [
      "=> saving checkpoint 'checkpoints\\checkpoint.pth.tar'\n"
     ]
    },
    {
     "name": "stderr",
     "output_type": "stream",
     "text": [
      "  0%|                                                                                         | 0/1272 [00:00<?, ?it/s]"
     ]
    },
    {
     "name": "stdout",
     "output_type": "stream",
     "text": [
      "\n",
      "Epoch: [51 | 60] LR: 0.000000\n"
     ]
    },
    {
     "name": "stderr",
     "output_type": "stream",
     "text": [
      "  8%|██████▏                                                                        | 100/1272 [00:32<05:21,  3.64it/s]"
     ]
    },
    {
     "name": "stdout",
     "output_type": "stream",
     "text": [
      "(100/1272) Data: 0.069s | Batch: 0.328s | Total: 0:00:32 | ETA: 0:05:17 | Loss: 0.1408 | top1:  93.8354\n"
     ]
    },
    {
     "name": "stderr",
     "output_type": "stream",
     "text": [
      " 16%|████████████▍                                                                  | 200/1272 [00:59<04:47,  3.72it/s]"
     ]
    },
    {
     "name": "stdout",
     "output_type": "stream",
     "text": [
      "(200/1272) Data: 0.035s | Batch: 0.298s | Total: 0:00:59 | ETA: 0:04:47 | Loss: 0.1410 | top1:  93.8235\n"
     ]
    },
    {
     "name": "stderr",
     "output_type": "stream",
     "text": [
      " 24%|██████████████████▋                                                            | 300/1272 [01:26<04:18,  3.76it/s]"
     ]
    },
    {
     "name": "stdout",
     "output_type": "stream",
     "text": [
      "(300/1272) Data: 0.023s | Batch: 0.288s | Total: 0:01:26 | ETA: 0:04:22 | Loss: 0.1408 | top1:  93.8266\n"
     ]
    },
    {
     "name": "stderr",
     "output_type": "stream",
     "text": [
      " 31%|████████████████████████▊                                                      | 400/1272 [01:53<03:59,  3.64it/s]"
     ]
    },
    {
     "name": "stdout",
     "output_type": "stream",
     "text": [
      "(400/1272) Data: 0.018s | Batch: 0.283s | Total: 0:01:53 | ETA: 0:03:59 | Loss: 0.1410 | top1:  93.8169\n"
     ]
    },
    {
     "name": "stderr",
     "output_type": "stream",
     "text": [
      " 39%|███████████████████████████████                                                | 500/1272 [02:20<03:20,  3.86it/s]"
     ]
    },
    {
     "name": "stdout",
     "output_type": "stream",
     "text": [
      "(500/1272) Data: 0.014s | Batch: 0.280s | Total: 0:02:20 | ETA: 0:03:24 | Loss: 0.1409 | top1:  93.8261\n"
     ]
    },
    {
     "name": "stderr",
     "output_type": "stream",
     "text": [
      " 47%|█████████████████████████████████████▎                                         | 600/1272 [02:47<03:00,  3.71it/s]"
     ]
    },
    {
     "name": "stdout",
     "output_type": "stream",
     "text": [
      "(600/1272) Data: 0.012s | Batch: 0.279s | Total: 0:02:47 | ETA: 0:03:01 | Loss: 0.1410 | top1:  93.8196\n"
     ]
    },
    {
     "name": "stderr",
     "output_type": "stream",
     "text": [
      " 55%|███████████████████████████████████████████▍                                   | 700/1272 [03:14<02:33,  3.72it/s]"
     ]
    },
    {
     "name": "stdout",
     "output_type": "stream",
     "text": [
      "(700/1272) Data: 0.010s | Batch: 0.277s | Total: 0:03:14 | ETA: 0:02:36 | Loss: 0.1409 | top1:  93.8258\n"
     ]
    },
    {
     "name": "stderr",
     "output_type": "stream",
     "text": [
      " 63%|█████████████████████████████████████████████████▋                             | 800/1272 [03:41<02:10,  3.62it/s]"
     ]
    },
    {
     "name": "stdout",
     "output_type": "stream",
     "text": [
      "(800/1272) Data: 0.009s | Batch: 0.276s | Total: 0:03:41 | ETA: 0:02:18 | Loss: 0.1409 | top1:  93.8207\n"
     ]
    },
    {
     "name": "stderr",
     "output_type": "stream",
     "text": [
      " 71%|███████████████████████████████████████████████████████▉                       | 900/1272 [04:08<01:42,  3.63it/s]"
     ]
    },
    {
     "name": "stdout",
     "output_type": "stream",
     "text": [
      "(900/1272) Data: 0.008s | Batch: 0.276s | Total: 0:04:08 | ETA: 0:01:40 | Loss: 0.1409 | top1:  93.8164\n"
     ]
    },
    {
     "name": "stderr",
     "output_type": "stream",
     "text": [
      " 79%|█████████████████████████████████████████████████████████████▎                | 1000/1272 [04:34<01:11,  3.83it/s]"
     ]
    },
    {
     "name": "stdout",
     "output_type": "stream",
     "text": [
      "(1000/1272) Data: 0.008s | Batch: 0.275s | Total: 0:04:34 | ETA: 0:01:13 | Loss: 0.1409 | top1:  93.8196\n"
     ]
    },
    {
     "name": "stderr",
     "output_type": "stream",
     "text": [
      " 86%|███████████████████████████████████████████████████████████████████▍          | 1100/1272 [05:01<00:47,  3.65it/s]"
     ]
    },
    {
     "name": "stdout",
     "output_type": "stream",
     "text": [
      "(1100/1272) Data: 0.007s | Batch: 0.274s | Total: 0:05:01 | ETA: 0:00:47 | Loss: 0.1409 | top1:  93.8210\n"
     ]
    },
    {
     "name": "stderr",
     "output_type": "stream",
     "text": [
      " 94%|█████████████████████████████████████████████████████████████████████████▌    | 1200/1272 [05:28<00:19,  3.70it/s]"
     ]
    },
    {
     "name": "stdout",
     "output_type": "stream",
     "text": [
      "(1200/1272) Data: 0.006s | Batch: 0.274s | Total: 0:05:28 | ETA: 0:00:20 | Loss: 0.1408 | top1:  93.8234\n"
     ]
    },
    {
     "name": "stderr",
     "output_type": "stream",
     "text": [
      "100%|██████████████████████████████████████████████████████████████████████████████| 1272/1272 [05:48<00:00,  3.64it/s]\n",
      "100%|████████████████████████████████████████████████████████████████████████████████| 156/156 [00:21<00:00,  7.40it/s]\n"
     ]
    },
    {
     "name": "stdout",
     "output_type": "stream",
     "text": [
      "=> saving checkpoint 'checkpoints\\checkpoint.pth.tar'\n"
     ]
    },
    {
     "name": "stderr",
     "output_type": "stream",
     "text": [
      "  0%|                                                                                         | 0/1272 [00:00<?, ?it/s]"
     ]
    },
    {
     "name": "stdout",
     "output_type": "stream",
     "text": [
      "\n",
      "Epoch: [52 | 60] LR: 0.000000\n"
     ]
    },
    {
     "name": "stderr",
     "output_type": "stream",
     "text": [
      "  8%|██████▏                                                                        | 100/1272 [00:32<05:07,  3.81it/s]"
     ]
    },
    {
     "name": "stdout",
     "output_type": "stream",
     "text": [
      "(100/1272) Data: 0.068s | Batch: 0.327s | Total: 0:00:32 | ETA: 0:05:12 | Loss: 0.1413 | top1:  93.8045\n"
     ]
    },
    {
     "name": "stderr",
     "output_type": "stream",
     "text": [
      " 16%|████████████▍                                                                  | 200/1272 [00:59<04:50,  3.69it/s]"
     ]
    },
    {
     "name": "stdout",
     "output_type": "stream",
     "text": [
      "(200/1272) Data: 0.035s | Batch: 0.298s | Total: 0:00:59 | ETA: 0:04:51 | Loss: 0.1415 | top1:  93.7849\n"
     ]
    },
    {
     "name": "stderr",
     "output_type": "stream",
     "text": [
      " 24%|██████████████████▋                                                            | 300/1272 [01:26<04:21,  3.72it/s]"
     ]
    },
    {
     "name": "stdout",
     "output_type": "stream",
     "text": [
      "(300/1272) Data: 0.023s | Batch: 0.288s | Total: 0:01:26 | ETA: 0:04:26 | Loss: 0.1413 | top1:  93.7948\n"
     ]
    },
    {
     "name": "stderr",
     "output_type": "stream",
     "text": [
      " 31%|████████████████████████▊                                                      | 400/1272 [01:53<03:49,  3.79it/s]"
     ]
    },
    {
     "name": "stdout",
     "output_type": "stream",
     "text": [
      "(400/1272) Data: 0.018s | Batch: 0.283s | Total: 0:01:53 | ETA: 0:03:51 | Loss: 0.1409 | top1:  93.8010\n"
     ]
    },
    {
     "name": "stderr",
     "output_type": "stream",
     "text": [
      " 39%|███████████████████████████████                                                | 500/1272 [02:20<03:35,  3.59it/s]"
     ]
    },
    {
     "name": "stdout",
     "output_type": "stream",
     "text": [
      "(500/1272) Data: 0.014s | Batch: 0.280s | Total: 0:02:20 | ETA: 0:03:26 | Loss: 0.1408 | top1:  93.8100\n"
     ]
    },
    {
     "name": "stderr",
     "output_type": "stream",
     "text": [
      " 47%|█████████████████████████████████████▎                                         | 600/1272 [02:47<03:02,  3.69it/s]"
     ]
    },
    {
     "name": "stdout",
     "output_type": "stream",
     "text": [
      "(600/1272) Data: 0.012s | Batch: 0.278s | Total: 0:02:47 | ETA: 0:02:57 | Loss: 0.1409 | top1:  93.8118\n"
     ]
    },
    {
     "name": "stderr",
     "output_type": "stream",
     "text": [
      " 55%|███████████████████████████████████████████▍                                   | 700/1272 [03:13<02:37,  3.62it/s]"
     ]
    },
    {
     "name": "stdout",
     "output_type": "stream",
     "text": [
      "(700/1272) Data: 0.010s | Batch: 0.277s | Total: 0:03:13 | ETA: 0:02:33 | Loss: 0.1408 | top1:  93.8121\n"
     ]
    },
    {
     "name": "stderr",
     "output_type": "stream",
     "text": [
      " 63%|█████████████████████████████████████████████████▋                             | 800/1272 [03:40<02:10,  3.61it/s]"
     ]
    },
    {
     "name": "stdout",
     "output_type": "stream",
     "text": [
      "(800/1272) Data: 0.009s | Batch: 0.276s | Total: 0:03:40 | ETA: 0:02:10 | Loss: 0.1409 | top1:  93.8069\n"
     ]
    },
    {
     "name": "stderr",
     "output_type": "stream",
     "text": [
      " 71%|███████████████████████████████████████████████████████▉                       | 900/1272 [04:07<01:40,  3.69it/s]"
     ]
    },
    {
     "name": "stdout",
     "output_type": "stream",
     "text": [
      "(900/1272) Data: 0.008s | Batch: 0.275s | Total: 0:04:07 | ETA: 0:01:40 | Loss: 0.1408 | top1:  93.8080\n"
     ]
    },
    {
     "name": "stderr",
     "output_type": "stream",
     "text": [
      " 79%|█████████████████████████████████████████████████████████████▎                | 1000/1272 [04:34<01:14,  3.65it/s]"
     ]
    },
    {
     "name": "stdout",
     "output_type": "stream",
     "text": [
      "(1000/1272) Data: 0.008s | Batch: 0.274s | Total: 0:04:34 | ETA: 0:01:16 | Loss: 0.1408 | top1:  93.8118\n"
     ]
    },
    {
     "name": "stderr",
     "output_type": "stream",
     "text": [
      " 86%|███████████████████████████████████████████████████████████████████▍          | 1100/1272 [05:01<00:46,  3.68it/s]"
     ]
    },
    {
     "name": "stdout",
     "output_type": "stream",
     "text": [
      "(1100/1272) Data: 0.007s | Batch: 0.274s | Total: 0:05:01 | ETA: 0:00:48 | Loss: 0.1408 | top1:  93.8166\n"
     ]
    },
    {
     "name": "stderr",
     "output_type": "stream",
     "text": [
      " 94%|█████████████████████████████████████████████████████████████████████████▌    | 1200/1272 [05:28<00:18,  3.79it/s]"
     ]
    },
    {
     "name": "stdout",
     "output_type": "stream",
     "text": [
      "(1200/1272) Data: 0.006s | Batch: 0.273s | Total: 0:05:28 | ETA: 0:00:20 | Loss: 0.1408 | top1:  93.8148\n"
     ]
    },
    {
     "name": "stderr",
     "output_type": "stream",
     "text": [
      "100%|██████████████████████████████████████████████████████████████████████████████| 1272/1272 [05:48<00:00,  3.65it/s]\n",
      "100%|████████████████████████████████████████████████████████████████████████████████| 156/156 [00:20<00:00,  7.58it/s]\n"
     ]
    },
    {
     "name": "stdout",
     "output_type": "stream",
     "text": [
      "=> saving checkpoint 'checkpoints\\checkpoint.pth.tar'\n"
     ]
    },
    {
     "name": "stderr",
     "output_type": "stream",
     "text": [
      "  0%|                                                                                         | 0/1272 [00:00<?, ?it/s]"
     ]
    },
    {
     "name": "stdout",
     "output_type": "stream",
     "text": [
      "\n",
      "Epoch: [53 | 60] LR: 0.000000\n"
     ]
    },
    {
     "name": "stderr",
     "output_type": "stream",
     "text": [
      "  8%|██████▏                                                                        | 100/1272 [00:32<05:13,  3.74it/s]"
     ]
    },
    {
     "name": "stdout",
     "output_type": "stream",
     "text": [
      "(100/1272) Data: 0.067s | Batch: 0.325s | Total: 0:00:32 | ETA: 0:05:12 | Loss: 0.1405 | top1:  93.8287\n"
     ]
    },
    {
     "name": "stderr",
     "output_type": "stream",
     "text": [
      " 16%|████████████▍                                                                  | 200/1272 [00:59<04:42,  3.80it/s]"
     ]
    },
    {
     "name": "stdout",
     "output_type": "stream",
     "text": [
      "(200/1272) Data: 0.034s | Batch: 0.295s | Total: 0:00:59 | ETA: 0:04:45 | Loss: 0.1407 | top1:  93.8274\n"
     ]
    },
    {
     "name": "stderr",
     "output_type": "stream",
     "text": [
      " 24%|██████████████████▋                                                            | 300/1272 [01:25<04:16,  3.78it/s]"
     ]
    },
    {
     "name": "stdout",
     "output_type": "stream",
     "text": [
      "(300/1272) Data: 0.023s | Batch: 0.286s | Total: 0:01:25 | ETA: 0:04:22 | Loss: 0.1408 | top1:  93.8167\n"
     ]
    },
    {
     "name": "stderr",
     "output_type": "stream",
     "text": [
      " 31%|████████████████████████▊                                                      | 400/1272 [01:52<03:56,  3.69it/s]"
     ]
    },
    {
     "name": "stdout",
     "output_type": "stream",
     "text": [
      "(400/1272) Data: 0.017s | Batch: 0.281s | Total: 0:01:52 | ETA: 0:03:55 | Loss: 0.1407 | top1:  93.8248\n"
     ]
    },
    {
     "name": "stderr",
     "output_type": "stream",
     "text": [
      " 39%|███████████████████████████████                                                | 500/1272 [02:19<03:27,  3.73it/s]"
     ]
    },
    {
     "name": "stdout",
     "output_type": "stream",
     "text": [
      "(500/1272) Data: 0.014s | Batch: 0.279s | Total: 0:02:19 | ETA: 0:03:28 | Loss: 0.1408 | top1:  93.8108\n"
     ]
    },
    {
     "name": "stderr",
     "output_type": "stream",
     "text": [
      " 47%|█████████████████████████████████████▎                                         | 600/1272 [02:46<02:56,  3.81it/s]"
     ]
    },
    {
     "name": "stdout",
     "output_type": "stream",
     "text": [
      "(600/1272) Data: 0.012s | Batch: 0.277s | Total: 0:02:46 | ETA: 0:03:00 | Loss: 0.1407 | top1:  93.8159\n"
     ]
    },
    {
     "name": "stderr",
     "output_type": "stream",
     "text": [
      " 55%|███████████████████████████████████████████▍                                   | 700/1272 [03:13<02:33,  3.72it/s]"
     ]
    },
    {
     "name": "stdout",
     "output_type": "stream",
     "text": [
      "(700/1272) Data: 0.010s | Batch: 0.276s | Total: 0:03:13 | ETA: 0:02:37 | Loss: 0.1408 | top1:  93.8172\n"
     ]
    },
    {
     "name": "stderr",
     "output_type": "stream",
     "text": [
      " 63%|█████████████████████████████████████████████████▋                             | 800/1272 [03:40<02:04,  3.79it/s]"
     ]
    },
    {
     "name": "stdout",
     "output_type": "stream",
     "text": [
      "(800/1272) Data: 0.009s | Batch: 0.275s | Total: 0:03:40 | ETA: 0:02:07 | Loss: 0.1406 | top1:  93.8226\n"
     ]
    },
    {
     "name": "stderr",
     "output_type": "stream",
     "text": [
      " 71%|███████████████████████████████████████████████████████▉                       | 900/1272 [04:06<01:40,  3.70it/s]"
     ]
    },
    {
     "name": "stdout",
     "output_type": "stream",
     "text": [
      "(900/1272) Data: 0.008s | Batch: 0.274s | Total: 0:04:06 | ETA: 0:01:42 | Loss: 0.1406 | top1:  93.8262\n"
     ]
    },
    {
     "name": "stderr",
     "output_type": "stream",
     "text": [
      " 79%|█████████████████████████████████████████████████████████████▎                | 1000/1272 [04:33<01:13,  3.71it/s]"
     ]
    },
    {
     "name": "stdout",
     "output_type": "stream",
     "text": [
      "(1000/1272) Data: 0.007s | Batch: 0.274s | Total: 0:04:33 | ETA: 0:01:14 | Loss: 0.1406 | top1:  93.8225\n"
     ]
    },
    {
     "name": "stderr",
     "output_type": "stream",
     "text": [
      " 86%|███████████████████████████████████████████████████████████████████▍          | 1100/1272 [05:00<00:46,  3.68it/s]"
     ]
    },
    {
     "name": "stdout",
     "output_type": "stream",
     "text": [
      "(1100/1272) Data: 0.007s | Batch: 0.273s | Total: 0:05:00 | ETA: 0:00:47 | Loss: 0.1406 | top1:  93.8273\n"
     ]
    },
    {
     "name": "stderr",
     "output_type": "stream",
     "text": [
      " 94%|█████████████████████████████████████████████████████████████████████████▌    | 1200/1272 [05:27<00:19,  3.68it/s]"
     ]
    },
    {
     "name": "stdout",
     "output_type": "stream",
     "text": [
      "(1200/1272) Data: 0.006s | Batch: 0.273s | Total: 0:05:27 | ETA: 0:00:20 | Loss: 0.1406 | top1:  93.8237\n"
     ]
    },
    {
     "name": "stderr",
     "output_type": "stream",
     "text": [
      "100%|██████████████████████████████████████████████████████████████████████████████| 1272/1272 [05:47<00:00,  3.66it/s]\n",
      "100%|████████████████████████████████████████████████████████████████████████████████| 156/156 [00:20<00:00,  7.53it/s]\n"
     ]
    },
    {
     "name": "stdout",
     "output_type": "stream",
     "text": [
      "=> saving checkpoint 'checkpoints\\checkpoint.pth.tar'\n"
     ]
    },
    {
     "name": "stderr",
     "output_type": "stream",
     "text": [
      "  0%|                                                                                         | 0/1272 [00:00<?, ?it/s]"
     ]
    },
    {
     "name": "stdout",
     "output_type": "stream",
     "text": [
      "\n",
      "Epoch: [54 | 60] LR: 0.000000\n"
     ]
    },
    {
     "name": "stderr",
     "output_type": "stream",
     "text": [
      "  8%|██████▏                                                                        | 100/1272 [00:32<05:10,  3.77it/s]"
     ]
    },
    {
     "name": "stdout",
     "output_type": "stream",
     "text": [
      "(100/1272) Data: 0.069s | Batch: 0.328s | Total: 0:00:32 | ETA: 0:05:08 | Loss: 0.1408 | top1:  93.8406\n"
     ]
    },
    {
     "name": "stderr",
     "output_type": "stream",
     "text": [
      " 16%|████████████▍                                                                  | 200/1272 [00:59<04:48,  3.72it/s]"
     ]
    },
    {
     "name": "stdout",
     "output_type": "stream",
     "text": [
      "(200/1272) Data: 0.035s | Batch: 0.298s | Total: 0:00:59 | ETA: 0:04:53 | Loss: 0.1406 | top1:  93.8427\n"
     ]
    },
    {
     "name": "stderr",
     "output_type": "stream",
     "text": [
      " 24%|██████████████████▋                                                            | 300/1272 [01:26<04:18,  3.75it/s]"
     ]
    },
    {
     "name": "stdout",
     "output_type": "stream",
     "text": [
      "(300/1272) Data: 0.024s | Batch: 0.288s | Total: 0:01:26 | ETA: 0:04:20 | Loss: 0.1406 | top1:  93.8421\n"
     ]
    },
    {
     "name": "stderr",
     "output_type": "stream",
     "text": [
      " 31%|████████████████████████▊                                                      | 400/1272 [01:53<03:59,  3.63it/s]"
     ]
    },
    {
     "name": "stdout",
     "output_type": "stream",
     "text": [
      "(400/1272) Data: 0.018s | Batch: 0.283s | Total: 0:01:53 | ETA: 0:03:58 | Loss: 0.1407 | top1:  93.8340\n"
     ]
    },
    {
     "name": "stderr",
     "output_type": "stream",
     "text": [
      " 39%|███████████████████████████████                                                | 500/1272 [02:20<03:25,  3.75it/s]"
     ]
    },
    {
     "name": "stdout",
     "output_type": "stream",
     "text": [
      "(500/1272) Data: 0.014s | Batch: 0.281s | Total: 0:02:20 | ETA: 0:03:27 | Loss: 0.1406 | top1:  93.8458\n"
     ]
    },
    {
     "name": "stderr",
     "output_type": "stream",
     "text": [
      " 47%|█████████████████████████████████████▎                                         | 600/1272 [02:47<02:57,  3.79it/s]"
     ]
    },
    {
     "name": "stdout",
     "output_type": "stream",
     "text": [
      "(600/1272) Data: 0.012s | Batch: 0.278s | Total: 0:02:47 | ETA: 0:02:59 | Loss: 0.1407 | top1:  93.8428\n"
     ]
    },
    {
     "name": "stderr",
     "output_type": "stream",
     "text": [
      " 55%|███████████████████████████████████████████▍                                   | 700/1272 [03:14<02:30,  3.80it/s]"
     ]
    },
    {
     "name": "stdout",
     "output_type": "stream",
     "text": [
      "(700/1272) Data: 0.011s | Batch: 0.277s | Total: 0:03:14 | ETA: 0:02:42 | Loss: 0.1408 | top1:  93.8313\n"
     ]
    },
    {
     "name": "stderr",
     "output_type": "stream",
     "text": [
      " 63%|█████████████████████████████████████████████████▋                             | 800/1272 [03:40<02:08,  3.69it/s]"
     ]
    },
    {
     "name": "stdout",
     "output_type": "stream",
     "text": [
      "(800/1272) Data: 0.009s | Batch: 0.276s | Total: 0:03:40 | ETA: 0:02:08 | Loss: 0.1408 | top1:  93.8297\n"
     ]
    },
    {
     "name": "stderr",
     "output_type": "stream",
     "text": [
      " 71%|███████████████████████████████████████████████████████▉                       | 900/1272 [04:07<01:40,  3.71it/s]"
     ]
    },
    {
     "name": "stdout",
     "output_type": "stream",
     "text": [
      "(900/1272) Data: 0.008s | Batch: 0.275s | Total: 0:04:07 | ETA: 0:01:41 | Loss: 0.1408 | top1:  93.8278\n"
     ]
    },
    {
     "name": "stderr",
     "output_type": "stream",
     "text": [
      " 79%|█████████████████████████████████████████████████████████████▎                | 1000/1272 [04:34<01:12,  3.76it/s]"
     ]
    },
    {
     "name": "stdout",
     "output_type": "stream",
     "text": [
      "(1000/1272) Data: 0.008s | Batch: 0.275s | Total: 0:04:34 | ETA: 0:01:14 | Loss: 0.1408 | top1:  93.8263\n"
     ]
    },
    {
     "name": "stderr",
     "output_type": "stream",
     "text": [
      " 86%|███████████████████████████████████████████████████████████████████▍          | 1100/1272 [05:01<00:45,  3.75it/s]"
     ]
    },
    {
     "name": "stdout",
     "output_type": "stream",
     "text": [
      "(1100/1272) Data: 0.007s | Batch: 0.274s | Total: 0:05:01 | ETA: 0:00:47 | Loss: 0.1408 | top1:  93.8284\n"
     ]
    },
    {
     "name": "stderr",
     "output_type": "stream",
     "text": [
      " 94%|█████████████████████████████████████████████████████████████████████████▌    | 1200/1272 [05:28<00:19,  3.78it/s]"
     ]
    },
    {
     "name": "stdout",
     "output_type": "stream",
     "text": [
      "(1200/1272) Data: 0.006s | Batch: 0.274s | Total: 0:05:28 | ETA: 0:00:20 | Loss: 0.1407 | top1:  93.8295\n"
     ]
    },
    {
     "name": "stderr",
     "output_type": "stream",
     "text": [
      "100%|██████████████████████████████████████████████████████████████████████████████| 1272/1272 [05:48<00:00,  3.65it/s]\n",
      "100%|████████████████████████████████████████████████████████████████████████████████| 156/156 [00:21<00:00,  7.39it/s]\n"
     ]
    },
    {
     "name": "stdout",
     "output_type": "stream",
     "text": [
      "=> saving checkpoint 'checkpoints\\checkpoint.pth.tar'\n"
     ]
    },
    {
     "name": "stderr",
     "output_type": "stream",
     "text": [
      "  0%|                                                                                         | 0/1272 [00:00<?, ?it/s]"
     ]
    },
    {
     "name": "stdout",
     "output_type": "stream",
     "text": [
      "\n",
      "Epoch: [55 | 60] LR: 0.000000\n"
     ]
    },
    {
     "name": "stderr",
     "output_type": "stream",
     "text": [
      "  8%|██████▏                                                                        | 100/1272 [00:33<05:09,  3.78it/s]"
     ]
    },
    {
     "name": "stdout",
     "output_type": "stream",
     "text": [
      "(100/1272) Data: 0.073s | Batch: 0.332s | Total: 0:00:33 | ETA: 0:05:13 | Loss: 0.1408 | top1:  93.8170\n"
     ]
    },
    {
     "name": "stderr",
     "output_type": "stream",
     "text": [
      " 16%|████████████▍                                                                  | 200/1272 [01:00<04:55,  3.62it/s]"
     ]
    },
    {
     "name": "stdout",
     "output_type": "stream",
     "text": [
      "(200/1272) Data: 0.037s | Batch: 0.300s | Total: 0:01:00 | ETA: 0:04:51 | Loss: 0.1411 | top1:  93.7864\n"
     ]
    },
    {
     "name": "stderr",
     "output_type": "stream",
     "text": [
      " 24%|██████████████████▋                                                            | 300/1272 [01:26<04:19,  3.74it/s]"
     ]
    },
    {
     "name": "stdout",
     "output_type": "stream",
     "text": [
      "(300/1272) Data: 0.025s | Batch: 0.290s | Total: 0:01:26 | ETA: 0:04:23 | Loss: 0.1407 | top1:  93.8107\n"
     ]
    },
    {
     "name": "stderr",
     "output_type": "stream",
     "text": [
      " 31%|████████████████████████▊                                                      | 400/1272 [01:53<03:48,  3.82it/s]"
     ]
    },
    {
     "name": "stdout",
     "output_type": "stream",
     "text": [
      "(400/1272) Data: 0.019s | Batch: 0.284s | Total: 0:01:53 | ETA: 0:03:56 | Loss: 0.1407 | top1:  93.8194\n"
     ]
    },
    {
     "name": "stderr",
     "output_type": "stream",
     "text": [
      " 39%|███████████████████████████████                                                | 500/1272 [02:20<03:23,  3.80it/s]"
     ]
    },
    {
     "name": "stdout",
     "output_type": "stream",
     "text": [
      "(500/1272) Data: 0.015s | Batch: 0.281s | Total: 0:02:20 | ETA: 0:03:24 | Loss: 0.1407 | top1:  93.8224\n"
     ]
    },
    {
     "name": "stderr",
     "output_type": "stream",
     "text": [
      " 47%|█████████████████████████████████████▎                                         | 600/1272 [02:47<03:00,  3.73it/s]"
     ]
    },
    {
     "name": "stdout",
     "output_type": "stream",
     "text": [
      "(600/1272) Data: 0.013s | Batch: 0.279s | Total: 0:02:47 | ETA: 0:03:03 | Loss: 0.1407 | top1:  93.8243\n"
     ]
    },
    {
     "name": "stderr",
     "output_type": "stream",
     "text": [
      " 55%|███████████████████████████████████████████▍                                   | 700/1272 [03:14<02:33,  3.73it/s]"
     ]
    },
    {
     "name": "stdout",
     "output_type": "stream",
     "text": [
      "(700/1272) Data: 0.011s | Batch: 0.278s | Total: 0:03:14 | ETA: 0:02:36 | Loss: 0.1407 | top1:  93.8254\n"
     ]
    },
    {
     "name": "stderr",
     "output_type": "stream",
     "text": [
      " 63%|█████████████████████████████████████████████████▋                             | 800/1272 [03:41<02:06,  3.72it/s]"
     ]
    },
    {
     "name": "stdout",
     "output_type": "stream",
     "text": [
      "(800/1272) Data: 0.010s | Batch: 0.277s | Total: 0:03:41 | ETA: 0:02:08 | Loss: 0.1406 | top1:  93.8330\n"
     ]
    },
    {
     "name": "stderr",
     "output_type": "stream",
     "text": [
      " 71%|███████████████████████████████████████████████████████▉                       | 900/1272 [04:08<01:41,  3.66it/s]"
     ]
    },
    {
     "name": "stdout",
     "output_type": "stream",
     "text": [
      "(900/1272) Data: 0.009s | Batch: 0.276s | Total: 0:04:08 | ETA: 0:01:44 | Loss: 0.1407 | top1:  93.8289\n"
     ]
    },
    {
     "name": "stderr",
     "output_type": "stream",
     "text": [
      " 79%|█████████████████████████████████████████████████████████████▎                | 1000/1272 [04:34<01:11,  3.79it/s]"
     ]
    },
    {
     "name": "stdout",
     "output_type": "stream",
     "text": [
      "(1000/1272) Data: 0.008s | Batch: 0.275s | Total: 0:04:34 | ETA: 0:01:13 | Loss: 0.1407 | top1:  93.8287\n"
     ]
    },
    {
     "name": "stderr",
     "output_type": "stream",
     "text": [
      " 86%|███████████████████████████████████████████████████████████████████▍          | 1100/1272 [05:01<00:46,  3.73it/s]"
     ]
    },
    {
     "name": "stdout",
     "output_type": "stream",
     "text": [
      "(1100/1272) Data: 0.007s | Batch: 0.274s | Total: 0:05:01 | ETA: 0:00:48 | Loss: 0.1407 | top1:  93.8295\n"
     ]
    },
    {
     "name": "stderr",
     "output_type": "stream",
     "text": [
      " 94%|█████████████████████████████████████████████████████████████████████████▌    | 1200/1272 [05:28<00:19,  3.63it/s]"
     ]
    },
    {
     "name": "stdout",
     "output_type": "stream",
     "text": [
      "(1200/1272) Data: 0.007s | Batch: 0.274s | Total: 0:05:28 | ETA: 0:00:20 | Loss: 0.1408 | top1:  93.8255\n"
     ]
    },
    {
     "name": "stderr",
     "output_type": "stream",
     "text": [
      "100%|██████████████████████████████████████████████████████████████████████████████| 1272/1272 [05:48<00:00,  3.65it/s]\n",
      "100%|████████████████████████████████████████████████████████████████████████████████| 156/156 [00:20<00:00,  7.47it/s]\n"
     ]
    },
    {
     "name": "stdout",
     "output_type": "stream",
     "text": [
      "=> saving checkpoint 'checkpoints\\checkpoint.pth.tar'\n"
     ]
    },
    {
     "name": "stderr",
     "output_type": "stream",
     "text": [
      "  0%|                                                                                         | 0/1272 [00:00<?, ?it/s]"
     ]
    },
    {
     "name": "stdout",
     "output_type": "stream",
     "text": [
      "\n",
      "Epoch: [56 | 60] LR: 0.000000\n"
     ]
    },
    {
     "name": "stderr",
     "output_type": "stream",
     "text": [
      "  8%|██████▏                                                                        | 100/1272 [00:32<05:04,  3.84it/s]"
     ]
    },
    {
     "name": "stdout",
     "output_type": "stream",
     "text": [
      "(100/1272) Data: 0.071s | Batch: 0.328s | Total: 0:00:32 | ETA: 0:05:09 | Loss: 0.1406 | top1:  93.8438\n"
     ]
    },
    {
     "name": "stderr",
     "output_type": "stream",
     "text": [
      " 16%|████████████▍                                                                  | 200/1272 [00:59<04:41,  3.81it/s]"
     ]
    },
    {
     "name": "stdout",
     "output_type": "stream",
     "text": [
      "(200/1272) Data: 0.036s | Batch: 0.298s | Total: 0:00:59 | ETA: 0:04:52 | Loss: 0.1409 | top1:  93.8117\n"
     ]
    },
    {
     "name": "stderr",
     "output_type": "stream",
     "text": [
      " 24%|██████████████████▋                                                            | 300/1272 [01:29<05:41,  2.84it/s]"
     ]
    },
    {
     "name": "stdout",
     "output_type": "stream",
     "text": [
      "(300/1272) Data: 0.024s | Batch: 0.299s | Total: 0:01:29 | ETA: 0:05:45 | Loss: 0.1408 | top1:  93.8209\n"
     ]
    },
    {
     "name": "stderr",
     "output_type": "stream",
     "text": [
      " 31%|████████████████████████▊                                                      | 400/1272 [01:58<03:59,  3.64it/s]"
     ]
    },
    {
     "name": "stdout",
     "output_type": "stream",
     "text": [
      "(400/1272) Data: 0.018s | Batch: 0.296s | Total: 0:01:58 | ETA: 0:03:58 | Loss: 0.1406 | top1:  93.8330\n"
     ]
    },
    {
     "name": "stderr",
     "output_type": "stream",
     "text": [
      " 39%|███████████████████████████████                                                | 500/1272 [02:25<03:30,  3.67it/s]"
     ]
    },
    {
     "name": "stdout",
     "output_type": "stream",
     "text": [
      "(500/1272) Data: 0.015s | Batch: 0.291s | Total: 0:02:25 | ETA: 0:03:30 | Loss: 0.1407 | top1:  93.8284\n"
     ]
    },
    {
     "name": "stderr",
     "output_type": "stream",
     "text": [
      " 47%|█████████████████████████████████████▎                                         | 600/1272 [02:53<03:03,  3.66it/s]"
     ]
    },
    {
     "name": "stdout",
     "output_type": "stream",
     "text": [
      "(600/1272) Data: 0.013s | Batch: 0.289s | Total: 0:02:53 | ETA: 0:03:08 | Loss: 0.1407 | top1:  93.8283\n"
     ]
    },
    {
     "name": "stderr",
     "output_type": "stream",
     "text": [
      " 55%|███████████████████████████████████████████▍                                   | 700/1272 [03:20<02:34,  3.70it/s]"
     ]
    },
    {
     "name": "stdout",
     "output_type": "stream",
     "text": [
      "(700/1272) Data: 0.011s | Batch: 0.287s | Total: 0:03:20 | ETA: 0:02:38 | Loss: 0.1406 | top1:  93.8315\n"
     ]
    },
    {
     "name": "stderr",
     "output_type": "stream",
     "text": [
      " 63%|█████████████████████████████████████████████████▋                             | 800/1272 [03:48<02:07,  3.69it/s]"
     ]
    },
    {
     "name": "stdout",
     "output_type": "stream",
     "text": [
      "(800/1272) Data: 0.010s | Batch: 0.286s | Total: 0:03:48 | ETA: 0:02:09 | Loss: 0.1406 | top1:  93.8292\n"
     ]
    },
    {
     "name": "stderr",
     "output_type": "stream",
     "text": [
      " 71%|███████████████████████████████████████████████████████▉                       | 900/1272 [04:16<01:47,  3.47it/s]"
     ]
    },
    {
     "name": "stdout",
     "output_type": "stream",
     "text": [
      "(900/1272) Data: 0.009s | Batch: 0.285s | Total: 0:04:16 | ETA: 0:01:43 | Loss: 0.1407 | top1:  93.8300\n"
     ]
    },
    {
     "name": "stderr",
     "output_type": "stream",
     "text": [
      " 79%|█████████████████████████████████████████████████████████████▎                | 1000/1272 [04:45<01:20,  3.38it/s]"
     ]
    },
    {
     "name": "stdout",
     "output_type": "stream",
     "text": [
      "(1000/1272) Data: 0.008s | Batch: 0.285s | Total: 0:04:45 | ETA: 0:01:20 | Loss: 0.1406 | top1:  93.8335\n"
     ]
    },
    {
     "name": "stderr",
     "output_type": "stream",
     "text": [
      " 86%|███████████████████████████████████████████████████████████████████▍          | 1100/1272 [05:16<00:52,  3.27it/s]"
     ]
    },
    {
     "name": "stdout",
     "output_type": "stream",
     "text": [
      "(1100/1272) Data: 0.007s | Batch: 0.288s | Total: 0:05:16 | ETA: 0:00:55 | Loss: 0.1407 | top1:  93.8281\n"
     ]
    },
    {
     "name": "stderr",
     "output_type": "stream",
     "text": [
      " 94%|█████████████████████████████████████████████████████████████████████████▌    | 1200/1272 [05:47<00:21,  3.29it/s]"
     ]
    },
    {
     "name": "stdout",
     "output_type": "stream",
     "text": [
      "(1200/1272) Data: 0.007s | Batch: 0.289s | Total: 0:05:47 | ETA: 0:00:23 | Loss: 0.1407 | top1:  93.8270\n"
     ]
    },
    {
     "name": "stderr",
     "output_type": "stream",
     "text": [
      "100%|██████████████████████████████████████████████████████████████████████████████| 1272/1272 [06:09<00:00,  3.45it/s]\n",
      "100%|████████████████████████████████████████████████████████████████████████████████| 156/156 [00:22<00:00,  7.03it/s]\n"
     ]
    },
    {
     "name": "stdout",
     "output_type": "stream",
     "text": [
      "=> saving checkpoint 'checkpoints\\checkpoint.pth.tar'\n"
     ]
    },
    {
     "name": "stderr",
     "output_type": "stream",
     "text": [
      "  0%|                                                                                         | 0/1272 [00:00<?, ?it/s]"
     ]
    },
    {
     "name": "stdout",
     "output_type": "stream",
     "text": [
      "\n",
      "Epoch: [57 | 60] LR: 0.000000\n"
     ]
    },
    {
     "name": "stderr",
     "output_type": "stream",
     "text": [
      "  8%|██████▏                                                                        | 100/1272 [00:34<05:35,  3.49it/s]"
     ]
    },
    {
     "name": "stdout",
     "output_type": "stream",
     "text": [
      "(100/1272) Data: 0.073s | Batch: 0.344s | Total: 0:00:34 | ETA: 0:05:30 | Loss: 0.1407 | top1:  93.8217\n"
     ]
    },
    {
     "name": "stderr",
     "output_type": "stream",
     "text": [
      " 16%|████████████▍                                                                  | 200/1272 [01:02<04:59,  3.58it/s]"
     ]
    },
    {
     "name": "stdout",
     "output_type": "stream",
     "text": [
      "(200/1272) Data: 0.037s | Batch: 0.313s | Total: 0:01:02 | ETA: 0:04:59 | Loss: 0.1409 | top1:  93.8226\n"
     ]
    },
    {
     "name": "stderr",
     "output_type": "stream",
     "text": [
      " 24%|██████████████████▋                                                            | 300/1272 [01:30<04:33,  3.55it/s]"
     ]
    },
    {
     "name": "stdout",
     "output_type": "stream",
     "text": [
      "(300/1272) Data: 0.025s | Batch: 0.302s | Total: 0:01:30 | ETA: 0:04:31 | Loss: 0.1407 | top1:  93.8322\n"
     ]
    },
    {
     "name": "stderr",
     "output_type": "stream",
     "text": [
      " 31%|████████████████████████▊                                                      | 400/1272 [01:58<04:02,  3.59it/s]"
     ]
    },
    {
     "name": "stdout",
     "output_type": "stream",
     "text": [
      "(400/1272) Data: 0.019s | Batch: 0.297s | Total: 0:01:58 | ETA: 0:04:05 | Loss: 0.1405 | top1:  93.8306\n"
     ]
    },
    {
     "name": "stderr",
     "output_type": "stream",
     "text": [
      " 39%|███████████████████████████████                                                | 500/1272 [02:26<03:35,  3.58it/s]"
     ]
    },
    {
     "name": "stdout",
     "output_type": "stream",
     "text": [
      "(500/1272) Data: 0.015s | Batch: 0.293s | Total: 0:02:26 | ETA: 0:03:34 | Loss: 0.1407 | top1:  93.8215\n"
     ]
    },
    {
     "name": "stderr",
     "output_type": "stream",
     "text": [
      " 47%|█████████████████████████████████████▎                                         | 600/1272 [02:54<03:06,  3.60it/s]"
     ]
    },
    {
     "name": "stdout",
     "output_type": "stream",
     "text": [
      "(600/1272) Data: 0.013s | Batch: 0.291s | Total: 0:02:54 | ETA: 0:03:08 | Loss: 0.1406 | top1:  93.8262\n"
     ]
    },
    {
     "name": "stderr",
     "output_type": "stream",
     "text": [
      " 55%|███████████████████████████████████████████▍                                   | 700/1272 [03:22<02:40,  3.56it/s]"
     ]
    },
    {
     "name": "stdout",
     "output_type": "stream",
     "text": [
      "(700/1272) Data: 0.011s | Batch: 0.289s | Total: 0:03:22 | ETA: 0:02:42 | Loss: 0.1406 | top1:  93.8245\n"
     ]
    },
    {
     "name": "stderr",
     "output_type": "stream",
     "text": [
      " 63%|█████████████████████████████████████████████████▋                             | 800/1272 [03:50<02:12,  3.57it/s]"
     ]
    },
    {
     "name": "stdout",
     "output_type": "stream",
     "text": [
      "(800/1272) Data: 0.010s | Batch: 0.288s | Total: 0:03:50 | ETA: 0:02:16 | Loss: 0.1406 | top1:  93.8210\n"
     ]
    },
    {
     "name": "stderr",
     "output_type": "stream",
     "text": [
      " 71%|███████████████████████████████████████████████████████▉                       | 900/1272 [04:18<01:42,  3.65it/s]"
     ]
    },
    {
     "name": "stdout",
     "output_type": "stream",
     "text": [
      "(900/1272) Data: 0.009s | Batch: 0.287s | Total: 0:04:18 | ETA: 0:01:43 | Loss: 0.1407 | top1:  93.8221\n"
     ]
    },
    {
     "name": "stderr",
     "output_type": "stream",
     "text": [
      " 79%|█████████████████████████████████████████████████████████████▎                | 1000/1272 [04:46<01:19,  3.40it/s]"
     ]
    },
    {
     "name": "stdout",
     "output_type": "stream",
     "text": [
      "(1000/1272) Data: 0.008s | Batch: 0.287s | Total: 0:04:46 | ETA: 0:01:24 | Loss: 0.1406 | top1:  93.8236\n"
     ]
    },
    {
     "name": "stderr",
     "output_type": "stream",
     "text": [
      " 86%|███████████████████████████████████████████████████████████████████▍          | 1100/1272 [05:14<00:50,  3.43it/s]"
     ]
    },
    {
     "name": "stdout",
     "output_type": "stream",
     "text": [
      "(1100/1272) Data: 0.007s | Batch: 0.286s | Total: 0:05:14 | ETA: 0:00:50 | Loss: 0.1406 | top1:  93.8212\n"
     ]
    },
    {
     "name": "stderr",
     "output_type": "stream",
     "text": [
      " 94%|█████████████████████████████████████████████████████████████████████████▌    | 1200/1272 [05:43<00:21,  3.36it/s]"
     ]
    },
    {
     "name": "stdout",
     "output_type": "stream",
     "text": [
      "(1200/1272) Data: 0.007s | Batch: 0.286s | Total: 0:05:43 | ETA: 0:00:22 | Loss: 0.1406 | top1:  93.8232\n"
     ]
    },
    {
     "name": "stderr",
     "output_type": "stream",
     "text": [
      "100%|██████████████████████████████████████████████████████████████████████████████| 1272/1272 [06:04<00:00,  3.49it/s]\n",
      "100%|████████████████████████████████████████████████████████████████████████████████| 156/156 [00:21<00:00,  7.20it/s]\n"
     ]
    },
    {
     "name": "stdout",
     "output_type": "stream",
     "text": [
      "=> saving checkpoint 'checkpoints\\checkpoint.pth.tar'\n"
     ]
    },
    {
     "name": "stderr",
     "output_type": "stream",
     "text": [
      "  0%|                                                                                         | 0/1272 [00:00<?, ?it/s]"
     ]
    },
    {
     "name": "stdout",
     "output_type": "stream",
     "text": [
      "\n",
      "Epoch: [58 | 60] LR: 0.000000\n"
     ]
    },
    {
     "name": "stderr",
     "output_type": "stream",
     "text": [
      "  8%|██████▏                                                                        | 100/1272 [00:34<05:59,  3.26it/s]"
     ]
    },
    {
     "name": "stdout",
     "output_type": "stream",
     "text": [
      "(100/1272) Data: 0.071s | Batch: 0.342s | Total: 0:00:34 | ETA: 0:05:28 | Loss: 0.1404 | top1:  93.8270\n"
     ]
    },
    {
     "name": "stderr",
     "output_type": "stream",
     "text": [
      " 16%|████████████▍                                                                  | 200/1272 [01:02<05:01,  3.56it/s]"
     ]
    },
    {
     "name": "stdout",
     "output_type": "stream",
     "text": [
      "(200/1272) Data: 0.036s | Batch: 0.310s | Total: 0:01:02 | ETA: 0:05:00 | Loss: 0.1408 | top1:  93.8229\n"
     ]
    },
    {
     "name": "stderr",
     "output_type": "stream",
     "text": [
      " 24%|██████████████████▋                                                            | 300/1272 [01:30<04:33,  3.55it/s]"
     ]
    },
    {
     "name": "stdout",
     "output_type": "stream",
     "text": [
      "(300/1272) Data: 0.024s | Batch: 0.301s | Total: 0:01:30 | ETA: 0:04:41 | Loss: 0.1411 | top1:  93.8242\n"
     ]
    },
    {
     "name": "stderr",
     "output_type": "stream",
     "text": [
      " 31%|████████████████████████▊                                                      | 400/1272 [01:58<03:54,  3.72it/s]"
     ]
    },
    {
     "name": "stdout",
     "output_type": "stream",
     "text": [
      "(400/1272) Data: 0.018s | Batch: 0.295s | Total: 0:01:58 | ETA: 0:04:05 | Loss: 0.1409 | top1:  93.8236\n"
     ]
    },
    {
     "name": "stderr",
     "output_type": "stream",
     "text": [
      " 39%|███████████████████████████████                                                | 500/1272 [02:27<03:49,  3.37it/s]"
     ]
    },
    {
     "name": "stdout",
     "output_type": "stream",
     "text": [
      "(500/1272) Data: 0.015s | Batch: 0.294s | Total: 0:02:27 | ETA: 0:03:58 | Loss: 0.1408 | top1:  93.8262\n"
     ]
    },
    {
     "name": "stderr",
     "output_type": "stream",
     "text": [
      " 47%|█████████████████████████████████████▎                                         | 600/1272 [02:57<03:11,  3.51it/s]"
     ]
    },
    {
     "name": "stdout",
     "output_type": "stream",
     "text": [
      "(600/1272) Data: 0.013s | Batch: 0.295s | Total: 0:02:57 | ETA: 0:03:20 | Loss: 0.1410 | top1:  93.8154\n"
     ]
    },
    {
     "name": "stderr",
     "output_type": "stream",
     "text": [
      " 55%|███████████████████████████████████████████▍                                   | 700/1272 [03:27<02:46,  3.43it/s]"
     ]
    },
    {
     "name": "stdout",
     "output_type": "stream",
     "text": [
      "(700/1272) Data: 0.011s | Batch: 0.296s | Total: 0:03:27 | ETA: 0:02:50 | Loss: 0.1410 | top1:  93.8141\n"
     ]
    },
    {
     "name": "stderr",
     "output_type": "stream",
     "text": [
      " 63%|█████████████████████████████████████████████████▋                             | 800/1272 [03:57<02:12,  3.58it/s]"
     ]
    },
    {
     "name": "stdout",
     "output_type": "stream",
     "text": [
      "(800/1272) Data: 0.010s | Batch: 0.297s | Total: 0:03:57 | ETA: 0:02:15 | Loss: 0.1409 | top1:  93.8250\n"
     ]
    },
    {
     "name": "stderr",
     "output_type": "stream",
     "text": [
      " 71%|███████████████████████████████████████████████████████▉                       | 900/1272 [04:28<02:02,  3.04it/s]"
     ]
    },
    {
     "name": "stdout",
     "output_type": "stream",
     "text": [
      "(900/1272) Data: 0.009s | Batch: 0.298s | Total: 0:04:28 | ETA: 0:02:00 | Loss: 0.1408 | top1:  93.8254\n"
     ]
    },
    {
     "name": "stderr",
     "output_type": "stream",
     "text": [
      " 79%|█████████████████████████████████████████████████████████████▎                | 1000/1272 [04:59<01:21,  3.34it/s]"
     ]
    },
    {
     "name": "stdout",
     "output_type": "stream",
     "text": [
      "(1000/1272) Data: 0.008s | Batch: 0.299s | Total: 0:04:59 | ETA: 0:01:26 | Loss: 0.1407 | top1:  93.8233\n"
     ]
    },
    {
     "name": "stderr",
     "output_type": "stream",
     "text": [
      " 86%|███████████████████████████████████████████████████████████████████▍          | 1100/1272 [05:29<00:53,  3.22it/s]"
     ]
    },
    {
     "name": "stdout",
     "output_type": "stream",
     "text": [
      "(1100/1272) Data: 0.007s | Batch: 0.300s | Total: 0:05:29 | ETA: 0:00:54 | Loss: 0.1407 | top1:  93.8217\n"
     ]
    },
    {
     "name": "stderr",
     "output_type": "stream",
     "text": [
      " 94%|█████████████████████████████████████████████████████████████████████████▌    | 1200/1272 [05:59<00:23,  3.08it/s]"
     ]
    },
    {
     "name": "stdout",
     "output_type": "stream",
     "text": [
      "(1200/1272) Data: 0.007s | Batch: 0.300s | Total: 0:05:59 | ETA: 0:00:25 | Loss: 0.1407 | top1:  93.8219\n"
     ]
    },
    {
     "name": "stderr",
     "output_type": "stream",
     "text": [
      "100%|██████████████████████████████████████████████████████████████████████████████| 1272/1272 [06:22<00:00,  3.32it/s]\n",
      "100%|████████████████████████████████████████████████████████████████████████████████| 156/156 [00:27<00:00,  5.71it/s]\n"
     ]
    },
    {
     "name": "stdout",
     "output_type": "stream",
     "text": [
      "=> saving checkpoint 'checkpoints\\checkpoint.pth.tar'\n"
     ]
    },
    {
     "name": "stderr",
     "output_type": "stream",
     "text": [
      "  0%|                                                                                         | 0/1272 [00:00<?, ?it/s]"
     ]
    },
    {
     "name": "stdout",
     "output_type": "stream",
     "text": [
      "\n",
      "Epoch: [59 | 60] LR: 0.000000\n"
     ]
    },
    {
     "name": "stderr",
     "output_type": "stream",
     "text": [
      "  8%|██████▏                                                                        | 100/1272 [00:36<05:35,  3.49it/s]"
     ]
    },
    {
     "name": "stdout",
     "output_type": "stream",
     "text": [
      "(100/1272) Data: 0.080s | Batch: 0.367s | Total: 0:00:36 | ETA: 0:05:35 | Loss: 0.1404 | top1:  93.8256\n"
     ]
    },
    {
     "name": "stderr",
     "output_type": "stream",
     "text": [
      " 16%|████████████▍                                                                  | 200/1272 [01:08<05:28,  3.27it/s]"
     ]
    },
    {
     "name": "stdout",
     "output_type": "stream",
     "text": [
      "(200/1272) Data: 0.041s | Batch: 0.341s | Total: 0:01:08 | ETA: 0:05:29 | Loss: 0.1404 | top1:  93.8077\n"
     ]
    },
    {
     "name": "stderr",
     "output_type": "stream",
     "text": [
      " 24%|██████████████████▋                                                            | 300/1272 [01:38<05:01,  3.23it/s]"
     ]
    },
    {
     "name": "stdout",
     "output_type": "stream",
     "text": [
      "(300/1272) Data: 0.027s | Batch: 0.328s | Total: 0:01:38 | ETA: 0:05:13 | Loss: 0.1405 | top1:  93.8224\n"
     ]
    },
    {
     "name": "stderr",
     "output_type": "stream",
     "text": [
      " 31%|████████████████████████▊                                                      | 400/1272 [02:09<04:22,  3.32it/s]"
     ]
    },
    {
     "name": "stdout",
     "output_type": "stream",
     "text": [
      "(400/1272) Data: 0.021s | Batch: 0.323s | Total: 0:02:09 | ETA: 0:04:26 | Loss: 0.1406 | top1:  93.8211\n"
     ]
    },
    {
     "name": "stderr",
     "output_type": "stream",
     "text": [
      " 39%|███████████████████████████████                                                | 500/1272 [02:39<03:51,  3.33it/s]"
     ]
    },
    {
     "name": "stdout",
     "output_type": "stream",
     "text": [
      "(500/1272) Data: 0.017s | Batch: 0.319s | Total: 0:02:39 | ETA: 0:03:53 | Loss: 0.1407 | top1:  93.8154\n"
     ]
    },
    {
     "name": "stderr",
     "output_type": "stream",
     "text": [
      " 47%|█████████████████████████████████████▎                                         | 600/1272 [03:10<03:17,  3.41it/s]"
     ]
    },
    {
     "name": "stdout",
     "output_type": "stream",
     "text": [
      "(600/1272) Data: 0.014s | Batch: 0.317s | Total: 0:03:10 | ETA: 0:03:22 | Loss: 0.1408 | top1:  93.8132\n"
     ]
    },
    {
     "name": "stderr",
     "output_type": "stream",
     "text": [
      " 55%|███████████████████████████████████████████▍                                   | 700/1272 [03:41<03:20,  2.85it/s]"
     ]
    },
    {
     "name": "stdout",
     "output_type": "stream",
     "text": [
      "(700/1272) Data: 0.012s | Batch: 0.317s | Total: 0:03:41 | ETA: 0:03:05 | Loss: 0.1407 | top1:  93.8222\n"
     ]
    },
    {
     "name": "stderr",
     "output_type": "stream",
     "text": [
      " 63%|█████████████████████████████████████████████████▋                             | 800/1272 [04:16<02:19,  3.38it/s]"
     ]
    },
    {
     "name": "stdout",
     "output_type": "stream",
     "text": [
      "(800/1272) Data: 0.011s | Batch: 0.321s | Total: 0:04:16 | ETA: 0:02:15 | Loss: 0.1407 | top1:  93.8212\n"
     ]
    },
    {
     "name": "stderr",
     "output_type": "stream",
     "text": [
      " 71%|███████████████████████████████████████████████████████▉                       | 900/1272 [04:49<01:51,  3.33it/s]"
     ]
    },
    {
     "name": "stdout",
     "output_type": "stream",
     "text": [
      "(900/1272) Data: 0.010s | Batch: 0.322s | Total: 0:04:49 | ETA: 0:01:51 | Loss: 0.1407 | top1:  93.8207\n"
     ]
    },
    {
     "name": "stderr",
     "output_type": "stream",
     "text": [
      " 79%|█████████████████████████████████████████████████████████████▎                | 1000/1272 [05:19<01:38,  2.75it/s]"
     ]
    },
    {
     "name": "stdout",
     "output_type": "stream",
     "text": [
      "(1000/1272) Data: 0.009s | Batch: 0.320s | Total: 0:05:19 | ETA: 0:01:27 | Loss: 0.1408 | top1:  93.8174\n"
     ]
    },
    {
     "name": "stderr",
     "output_type": "stream",
     "text": [
      " 86%|███████████████████████████████████████████████████████████████████▍          | 1100/1272 [05:50<00:49,  3.46it/s]"
     ]
    },
    {
     "name": "stdout",
     "output_type": "stream",
     "text": [
      "(1100/1272) Data: 0.008s | Batch: 0.319s | Total: 0:05:50 | ETA: 0:00:51 | Loss: 0.1407 | top1:  93.8225\n"
     ]
    },
    {
     "name": "stderr",
     "output_type": "stream",
     "text": [
      " 94%|█████████████████████████████████████████████████████████████████████████▌    | 1200/1272 [06:20<00:22,  3.18it/s]"
     ]
    },
    {
     "name": "stdout",
     "output_type": "stream",
     "text": [
      "(1200/1272) Data: 0.007s | Batch: 0.317s | Total: 0:06:20 | ETA: 0:00:23 | Loss: 0.1408 | top1:  93.8207\n"
     ]
    },
    {
     "name": "stderr",
     "output_type": "stream",
     "text": [
      "100%|██████████████████████████████████████████████████████████████████████████████| 1272/1272 [06:43<00:00,  3.15it/s]\n",
      "100%|████████████████████████████████████████████████████████████████████████████████| 156/156 [00:24<00:00,  6.45it/s]\n"
     ]
    },
    {
     "name": "stdout",
     "output_type": "stream",
     "text": [
      "=> saving checkpoint 'checkpoints\\checkpoint.pth.tar'\n"
     ]
    },
    {
     "name": "stderr",
     "output_type": "stream",
     "text": [
      "  0%|                                                                                         | 0/1272 [00:00<?, ?it/s]"
     ]
    },
    {
     "name": "stdout",
     "output_type": "stream",
     "text": [
      "\n",
      "Epoch: [60 | 60] LR: 0.000000\n"
     ]
    },
    {
     "name": "stderr",
     "output_type": "stream",
     "text": [
      "  8%|██████▏                                                                        | 100/1272 [00:40<07:08,  2.74it/s]"
     ]
    },
    {
     "name": "stdout",
     "output_type": "stream",
     "text": [
      "(100/1272) Data: 0.080s | Batch: 0.408s | Total: 0:00:40 | ETA: 0:07:11 | Loss: 0.1407 | top1:  93.8080\n"
     ]
    },
    {
     "name": "stderr",
     "output_type": "stream",
     "text": [
      " 16%|████████████▍                                                                  | 200/1272 [01:13<05:46,  3.09it/s]"
     ]
    },
    {
     "name": "stdout",
     "output_type": "stream",
     "text": [
      "(200/1272) Data: 0.040s | Batch: 0.368s | Total: 0:01:13 | ETA: 0:06:23 | Loss: 0.1405 | top1:  93.8355\n"
     ]
    },
    {
     "name": "stderr",
     "output_type": "stream",
     "text": [
      " 24%|██████████████████▋                                                            | 300/1272 [01:44<04:37,  3.51it/s]"
     ]
    },
    {
     "name": "stdout",
     "output_type": "stream",
     "text": [
      "(300/1272) Data: 0.027s | Batch: 0.349s | Total: 0:01:44 | ETA: 0:04:38 | Loss: 0.1406 | top1:  93.8331\n"
     ]
    },
    {
     "name": "stderr",
     "output_type": "stream",
     "text": [
      " 31%|████████████████████████▊                                                      | 400/1272 [02:20<05:31,  2.63it/s]"
     ]
    },
    {
     "name": "stdout",
     "output_type": "stream",
     "text": [
      "(400/1272) Data: 0.021s | Batch: 0.350s | Total: 0:02:20 | ETA: 0:05:16 | Loss: 0.1408 | top1:  93.8190\n"
     ]
    },
    {
     "name": "stderr",
     "output_type": "stream",
     "text": [
      " 39%|███████████████████████████████                                                | 500/1272 [02:58<04:47,  2.68it/s]"
     ]
    },
    {
     "name": "stdout",
     "output_type": "stream",
     "text": [
      "(500/1272) Data: 0.017s | Batch: 0.356s | Total: 0:02:58 | ETA: 0:04:48 | Loss: 0.1407 | top1:  93.8175\n"
     ]
    },
    {
     "name": "stderr",
     "output_type": "stream",
     "text": [
      " 47%|█████████████████████████████████████▎                                         | 600/1272 [03:34<03:59,  2.81it/s]"
     ]
    },
    {
     "name": "stdout",
     "output_type": "stream",
     "text": [
      "(600/1272) Data: 0.014s | Batch: 0.358s | Total: 0:03:34 | ETA: 0:03:57 | Loss: 0.1406 | top1:  93.8246\n"
     ]
    },
    {
     "name": "stderr",
     "output_type": "stream",
     "text": [
      " 55%|███████████████████████████████████████████▍                                   | 700/1272 [04:12<03:31,  2.71it/s]"
     ]
    },
    {
     "name": "stdout",
     "output_type": "stream",
     "text": [
      "(700/1272) Data: 0.012s | Batch: 0.361s | Total: 0:04:12 | ETA: 0:03:38 | Loss: 0.1408 | top1:  93.8141\n"
     ]
    },
    {
     "name": "stderr",
     "output_type": "stream",
     "text": [
      " 63%|█████████████████████████████████████████████████▋                             | 800/1272 [04:49<03:01,  2.60it/s]"
     ]
    },
    {
     "name": "stdout",
     "output_type": "stream",
     "text": [
      "(800/1272) Data: 0.011s | Batch: 0.362s | Total: 0:04:49 | ETA: 0:02:55 | Loss: 0.1407 | top1:  93.8202\n"
     ]
    },
    {
     "name": "stderr",
     "output_type": "stream",
     "text": [
      " 71%|███████████████████████████████████████████████████████▉                       | 900/1272 [05:27<02:19,  2.66it/s]"
     ]
    },
    {
     "name": "stdout",
     "output_type": "stream",
     "text": [
      "(900/1272) Data: 0.010s | Batch: 0.364s | Total: 0:05:27 | ETA: 0:02:20 | Loss: 0.1406 | top1:  93.8288\n"
     ]
    },
    {
     "name": "stderr",
     "output_type": "stream",
     "text": [
      " 79%|█████████████████████████████████████████████████████████████▎                | 1000/1272 [06:04<01:44,  2.60it/s]"
     ]
    },
    {
     "name": "stdout",
     "output_type": "stream",
     "text": [
      "(1000/1272) Data: 0.009s | Batch: 0.365s | Total: 0:06:04 | ETA: 0:01:45 | Loss: 0.1407 | top1:  93.8225\n"
     ]
    },
    {
     "name": "stderr",
     "output_type": "stream",
     "text": [
      " 86%|███████████████████████████████████████████████████████████████████▍          | 1100/1272 [06:41<01:03,  2.71it/s]"
     ]
    },
    {
     "name": "stdout",
     "output_type": "stream",
     "text": [
      "(1100/1272) Data: 0.008s | Batch: 0.365s | Total: 0:06:41 | ETA: 0:01:04 | Loss: 0.1407 | top1:  93.8205\n"
     ]
    },
    {
     "name": "stderr",
     "output_type": "stream",
     "text": [
      " 94%|█████████████████████████████████████████████████████████████████████████▌    | 1200/1272 [07:16<00:26,  2.74it/s]"
     ]
    },
    {
     "name": "stdout",
     "output_type": "stream",
     "text": [
      "(1200/1272) Data: 0.007s | Batch: 0.364s | Total: 0:07:16 | ETA: 0:00:26 | Loss: 0.1407 | top1:  93.8167\n"
     ]
    },
    {
     "name": "stderr",
     "output_type": "stream",
     "text": [
      "100%|██████████████████████████████████████████████████████████████████████████████| 1272/1272 [07:43<00:00,  2.74it/s]\n",
      "100%|████████████████████████████████████████████████████████████████████████████████| 156/156 [00:25<00:00,  6.10it/s]\n"
     ]
    },
    {
     "name": "stdout",
     "output_type": "stream",
     "text": [
      "=> saving checkpoint 'checkpoints\\checkpoint.pth.tar'\n"
     ]
    },
    {
     "name": "stderr",
     "output_type": "stream",
     "text": [
      "The PostScript backend does not support transparency; partially transparent artists will be rendered opaque.\n",
      "The PostScript backend does not support transparency; partially transparent artists will be rendered opaque.\n"
     ]
    },
    {
=======
      "(100/636) Data: 0.094s | Batch: 0.758s | Total: 0:01:15 | ETA: 0:05:36 | Loss: 0.6090 | top1:  79.5934\n"
     ]
    },
    {
     "name": "stderr",
     "output_type": "stream",
     "text": [
      " 31%|█████████████████████████▏                                                      | 200/636 [02:18<04:33,  1.60it/s]"
     ]
    },
    {
     "name": "stdout",
     "output_type": "stream",
     "text": [
      "(200/636) Data: 0.048s | Batch: 0.692s | Total: 0:02:18 | ETA: 0:04:34 | Loss: 0.5621 | top1:  80.0590\n"
     ]
    },
    {
     "name": "stderr",
     "output_type": "stream",
     "text": [
      " 47%|█████████████████████████████████████▋                                          | 300/636 [03:21<03:30,  1.60it/s]"
     ]
    },
    {
     "name": "stdout",
     "output_type": "stream",
     "text": [
      "(300/636) Data: 0.032s | Batch: 0.670s | Total: 0:03:21 | ETA: 0:03:31 | Loss: 0.5575 | top1:  80.0904\n"
     ]
    },
    {
     "name": "stderr",
     "output_type": "stream",
     "text": [
      " 63%|██████████████████████████████████████████████████▎                             | 400/636 [04:23<02:27,  1.60it/s]"
     ]
    },
    {
     "name": "stdout",
     "output_type": "stream",
     "text": [
      "(400/636) Data: 0.025s | Batch: 0.659s | Total: 0:04:23 | ETA: 0:02:29 | Loss: 0.5415 | top1:  80.2204\n"
     ]
    },
    {
     "name": "stderr",
     "output_type": "stream",
     "text": [
      " 79%|██████████████████████████████████████████████████████████████▉                 | 500/636 [05:26<01:25,  1.60it/s]"
     ]
    },
    {
     "name": "stdout",
     "output_type": "stream",
     "text": [
      "(500/636) Data: 0.020s | Batch: 0.653s | Total: 0:05:26 | ETA: 0:01:26 | Loss: 0.5307 | top1:  80.3491\n"
     ]
    },
    {
     "name": "stderr",
     "output_type": "stream",
     "text": [
      " 94%|███████████████████████████████████████████████████████████████████████████▍    | 600/636 [06:28<00:22,  1.60it/s]"
     ]
    },
    {
     "name": "stdout",
     "output_type": "stream",
     "text": [
      "(600/636) Data: 0.017s | Batch: 0.648s | Total: 0:06:28 | ETA: 0:00:24 | Loss: 0.5191 | top1:  80.4627\n"
     ]
    },
    {
     "name": "stderr",
     "output_type": "stream",
     "text": [
      "100%|████████████████████████████████████████████████████████████████████████████████| 636/636 [06:54<00:00,  1.54it/s]\n",
      "100%|████████████████████████████████████████████████████████████████████████████████| 156/156 [00:25<00:00,  6.09it/s]\n"
     ]
    },
    {
     "name": "stdout",
     "output_type": "stream",
     "text": [
      "=> saving checkpoint 'checkpoints\\checkpoint.pth.tar'\n"
     ]
    },
    {
     "name": "stderr",
     "output_type": "stream",
     "text": [
      "  0%|                                                                                          | 0/636 [00:00<?, ?it/s]"
     ]
    },
    {
     "name": "stdout",
     "output_type": "stream",
     "text": [
      "\n",
      "Epoch: [2 | 60] LR: 0.100000\n"
     ]
    },
    {
     "name": "stderr",
     "output_type": "stream",
     "text": [
      " 16%|████████████▌                                                                   | 100/636 [01:12<05:35,  1.60it/s]"
     ]
    },
    {
     "name": "stdout",
     "output_type": "stream",
     "text": [
      "(100/636) Data: 0.093s | Batch: 0.723s | Total: 0:01:12 | ETA: 0:05:37 | Loss: 0.4365 | top1:  82.0194\n"
     ]
    },
    {
     "name": "stderr",
     "output_type": "stream",
     "text": [
      " 31%|█████████████████████████▏                                                      | 200/636 [02:15<04:33,  1.59it/s]"
     ]
    },
    {
     "name": "stdout",
     "output_type": "stream",
     "text": [
      "(200/636) Data: 0.047s | Batch: 0.675s | Total: 0:02:15 | ETA: 0:04:35 | Loss: 0.4253 | top1:  82.4209\n"
     ]
    },
    {
     "name": "stderr",
     "output_type": "stream",
     "text": [
      " 47%|█████████████████████████████████████▋                                          | 300/636 [03:17<03:30,  1.59it/s]"
     ]
    },
    {
     "name": "stdout",
     "output_type": "stream",
     "text": [
      "(300/636) Data: 0.032s | Batch: 0.659s | Total: 0:03:17 | ETA: 0:03:32 | Loss: 0.4117 | top1:  82.8963\n"
     ]
    },
    {
     "name": "stderr",
     "output_type": "stream",
     "text": [
      " 63%|██████████████████████████████████████████████████▎                             | 400/636 [04:20<02:28,  1.59it/s]"
     ]
    },
    {
     "name": "stdout",
     "output_type": "stream",
     "text": [
      "(400/636) Data: 0.024s | Batch: 0.652s | Total: 0:04:20 | ETA: 0:02:30 | Loss: 0.3991 | top1:  83.3923\n"
     ]
    },
    {
     "name": "stderr",
     "output_type": "stream",
     "text": [
      " 79%|██████████████████████████████████████████████████████████████▉                 | 500/636 [05:23<01:25,  1.59it/s]"
     ]
    },
    {
     "name": "stdout",
     "output_type": "stream",
     "text": [
      "(500/636) Data: 0.020s | Batch: 0.647s | Total: 0:05:23 | ETA: 0:01:26 | Loss: 0.3889 | top1:  83.8306\n"
     ]
    },
    {
     "name": "stderr",
     "output_type": "stream",
     "text": [
      " 94%|███████████████████████████████████████████████████████████████████████████▍    | 600/636 [06:26<00:22,  1.59it/s]"
     ]
    },
    {
     "name": "stdout",
     "output_type": "stream",
     "text": [
      "(600/636) Data: 0.017s | Batch: 0.644s | Total: 0:06:26 | ETA: 0:00:24 | Loss: 0.3789 | top1:  84.2567\n"
     ]
    },
    {
     "name": "stderr",
     "output_type": "stream",
     "text": [
      "100%|████████████████████████████████████████████████████████████████████████████████| 636/636 [06:49<00:00,  1.55it/s]\n",
      "100%|████████████████████████████████████████████████████████████████████████████████| 156/156 [00:25<00:00,  6.24it/s]\n"
     ]
    },
    {
     "name": "stdout",
     "output_type": "stream",
     "text": [
      "=> saving checkpoint 'checkpoints\\checkpoint.pth.tar'\n"
     ]
    },
    {
     "name": "stderr",
     "output_type": "stream",
     "text": [
      "  0%|                                                                                          | 0/636 [00:00<?, ?it/s]"
     ]
    },
    {
     "name": "stdout",
     "output_type": "stream",
     "text": [
      "\n",
      "Epoch: [3 | 60] LR: 0.100000\n"
     ]
    },
    {
     "name": "stderr",
     "output_type": "stream",
     "text": [
      " 16%|████████████▌                                                                   | 100/636 [01:11<05:35,  1.60it/s]"
     ]
    },
    {
     "name": "stdout",
     "output_type": "stream",
     "text": [
      "(100/636) Data: 0.091s | Batch: 0.714s | Total: 0:01:11 | ETA: 0:05:36 | Loss: 0.3157 | top1:  86.6650\n"
     ]
    },
    {
     "name": "stderr",
     "output_type": "stream",
     "text": [
      " 31%|█████████████████████████▏                                                      | 200/636 [02:14<04:33,  1.59it/s]"
     ]
    },
    {
     "name": "stdout",
     "output_type": "stream",
     "text": [
      "(200/636) Data: 0.046s | Batch: 0.671s | Total: 0:02:14 | ETA: 0:04:35 | Loss: 0.3103 | top1:  86.8620\n"
     ]
    },
    {
     "name": "stderr",
     "output_type": "stream",
     "text": [
      " 47%|█████████████████████████████████████▋                                          | 300/636 [03:16<03:30,  1.60it/s]"
     ]
    },
    {
     "name": "stdout",
     "output_type": "stream",
     "text": [
      "(300/636) Data: 0.031s | Batch: 0.656s | Total: 0:03:16 | ETA: 0:03:32 | Loss: 0.3100 | top1:  86.8846\n"
     ]
    },
    {
     "name": "stderr",
     "output_type": "stream",
     "text": [
      " 63%|██████████████████████████████████████████████████▎                             | 400/636 [04:20<02:36,  1.51it/s]"
     ]
    },
    {
     "name": "stdout",
     "output_type": "stream",
     "text": [
      "(400/636) Data: 0.024s | Batch: 0.651s | Total: 0:04:20 | ETA: 0:02:38 | Loss: 0.3065 | top1:  86.9977\n"
     ]
    },
    {
     "name": "stderr",
     "output_type": "stream",
     "text": [
      " 79%|██████████████████████████████████████████████████████████████▉                 | 500/636 [05:24<01:25,  1.58it/s]"
     ]
    },
    {
     "name": "stdout",
     "output_type": "stream",
     "text": [
      "(500/636) Data: 0.019s | Batch: 0.649s | Total: 0:05:24 | ETA: 0:01:27 | Loss: 0.3017 | top1:  87.1567\n"
     ]
    },
    {
     "name": "stderr",
     "output_type": "stream",
     "text": [
      " 94%|███████████████████████████████████████████████████████████████████████████▍    | 600/636 [06:30<00:26,  1.34it/s]"
     ]
    },
    {
     "name": "stdout",
     "output_type": "stream",
     "text": [
      "(600/636) Data: 0.017s | Batch: 0.651s | Total: 0:06:30 | ETA: 0:00:28 | Loss: 0.2980 | top1:  87.2826\n"
     ]
    },
    {
     "name": "stderr",
     "output_type": "stream",
     "text": [
      "100%|████████████████████████████████████████████████████████████████████████████████| 636/636 [06:56<00:00,  1.53it/s]\n",
      "100%|████████████████████████████████████████████████████████████████████████████████| 156/156 [00:40<00:00,  3.84it/s]\n"
     ]
    },
    {
     "name": "stdout",
     "output_type": "stream",
     "text": [
      "=> saving checkpoint 'checkpoints\\checkpoint.pth.tar'\n"
     ]
    },
    {
     "name": "stderr",
     "output_type": "stream",
     "text": [
      "  0%|                                                                                          | 0/636 [00:00<?, ?it/s]"
     ]
    },
    {
     "name": "stdout",
     "output_type": "stream",
     "text": [
      "\n",
      "Epoch: [4 | 60] LR: 0.100000\n"
     ]
    },
    {
     "name": "stderr",
     "output_type": "stream",
     "text": [
      " 16%|████████████▌                                                                   | 100/636 [02:46<07:41,  1.16it/s]"
     ]
    },
    {
     "name": "stdout",
     "output_type": "stream",
     "text": [
      "(100/636) Data: 1.082s | Batch: 1.666s | Total: 0:02:46 | ETA: 0:07:28 | Loss: 0.2806 | top1:  87.8495\n"
     ]
    },
    {
     "name": "stderr",
     "output_type": "stream",
     "text": [
      " 31%|█████████████████████████▏                                                      | 200/636 [04:58<06:00,  1.21it/s]"
     ]
    },
    {
     "name": "stdout",
     "output_type": "stream",
     "text": [
      "(200/636) Data: 0.908s | Batch: 1.492s | Total: 0:04:58 | ETA: 0:10:16 | Loss: 0.2758 | top1:  88.0375\n"
     ]
    },
    {
     "name": "stderr",
     "output_type": "stream",
     "text": [
      " 47%|█████████████████████████████████████▋                                          | 300/636 [07:13<05:34,  1.01it/s]"
     ]
    },
    {
     "name": "stdout",
     "output_type": "stream",
     "text": [
      "(300/636) Data: 0.863s | Batch: 1.444s | Total: 0:07:13 | ETA: 0:05:23 | Loss: 0.2722 | top1:  88.1762\n"
     ]
    },
    {
     "name": "stderr",
     "output_type": "stream",
     "text": [
      " 63%|██████████████████████████████████████████████████▎                             | 400/636 [09:15<03:19,  1.18it/s]"
     ]
    },
    {
     "name": "stdout",
     "output_type": "stream",
     "text": [
      "(400/636) Data: 0.824s | Batch: 1.389s | Total: 0:09:15 | ETA: 0:04:16 | Loss: 0.2685 | top1:  88.3259\n"
     ]
    },
    {
     "name": "stderr",
     "output_type": "stream",
     "text": [
      " 79%|██████████████████████████████████████████████████████████████▉                 | 500/636 [11:10<02:36,  1.15s/it]"
     ]
    },
    {
     "name": "stdout",
     "output_type": "stream",
     "text": [
      "(500/636) Data: 0.780s | Batch: 1.341s | Total: 0:11:10 | ETA: 0:02:26 | Loss: 0.2654 | top1:  88.4707\n"
     ]
    },
    {
     "name": "stderr",
     "output_type": "stream",
     "text": [
      " 94%|███████████████████████████████████████████████████████████████████████████▍    | 600/636 [13:00<00:31,  1.15it/s]"
     ]
    },
    {
     "name": "stdout",
     "output_type": "stream",
     "text": [
      "(600/636) Data: 0.746s | Batch: 1.302s | Total: 0:13:00 | ETA: 0:00:35 | Loss: 0.2627 | top1:  88.5719\n"
     ]
    },
    {
     "name": "stderr",
     "output_type": "stream",
     "text": [
      "100%|████████████████████████████████████████████████████████████████████████████████| 636/636 [13:39<00:00,  1.29s/it]\n",
      "100%|████████████████████████████████████████████████████████████████████████████████| 156/156 [00:25<00:00,  6.02it/s]\n"
     ]
    },
    {
     "name": "stdout",
     "output_type": "stream",
     "text": [
      "=> saving checkpoint 'checkpoints\\checkpoint.pth.tar'\n"
     ]
    },
    {
     "name": "stderr",
     "output_type": "stream",
     "text": [
      "  0%|                                                                                          | 0/636 [00:00<?, ?it/s]"
     ]
    },
    {
     "name": "stdout",
     "output_type": "stream",
     "text": [
      "\n",
      "Epoch: [5 | 60] LR: 0.100000\n"
     ]
    },
    {
     "name": "stderr",
     "output_type": "stream",
     "text": [
      " 16%|████████████▌                                                                   | 100/636 [01:11<05:38,  1.58it/s]"
     ]
    },
    {
     "name": "stdout",
     "output_type": "stream",
     "text": [
      "(100/636) Data: 0.094s | Batch: 0.717s | Total: 0:01:11 | ETA: 0:05:37 | Loss: 0.2453 | top1:  89.1944\n"
     ]
    },
    {
     "name": "stderr",
     "output_type": "stream",
     "text": [
      " 31%|█████████████████████████▏                                                      | 200/636 [02:14<04:36,  1.58it/s]"
     ]
    },
    {
     "name": "stdout",
     "output_type": "stream",
     "text": [
      "(200/636) Data: 0.048s | Batch: 0.672s | Total: 0:02:14 | ETA: 0:04:35 | Loss: 0.2433 | top1:  89.2975\n"
     ]
    },
    {
     "name": "stderr",
     "output_type": "stream",
     "text": [
      " 47%|█████████████████████████████████████▋                                          | 300/636 [03:17<03:30,  1.59it/s]"
     ]
    },
    {
     "name": "stdout",
     "output_type": "stream",
     "text": [
      "(300/636) Data: 0.032s | Batch: 0.658s | Total: 0:03:17 | ETA: 0:03:32 | Loss: 0.2419 | top1:  89.3589\n"
     ]
    },
    {
     "name": "stderr",
     "output_type": "stream",
     "text": [
      " 63%|██████████████████████████████████████████████████▎                             | 400/636 [04:20<02:27,  1.59it/s]"
     ]
    },
    {
     "name": "stdout",
     "output_type": "stream",
     "text": [
      "(400/636) Data: 0.025s | Batch: 0.650s | Total: 0:04:20 | ETA: 0:02:29 | Loss: 0.2405 | top1:  89.4185\n"
     ]
    },
    {
     "name": "stderr",
     "output_type": "stream",
     "text": [
      " 79%|██████████████████████████████████████████████████████████████▉                 | 500/636 [05:23<01:25,  1.58it/s]"
     ]
    },
    {
     "name": "stdout",
     "output_type": "stream",
     "text": [
      "(500/636) Data: 0.020s | Batch: 0.646s | Total: 0:05:23 | ETA: 0:01:27 | Loss: 0.2392 | top1:  89.4685\n"
     ]
    },
    {
     "name": "stderr",
     "output_type": "stream",
     "text": [
      " 94%|███████████████████████████████████████████████████████████████████████████▍    | 600/636 [06:26<00:22,  1.59it/s]"
     ]
    },
    {
     "name": "stdout",
     "output_type": "stream",
     "text": [
      "(600/636) Data: 0.017s | Batch: 0.643s | Total: 0:06:26 | ETA: 0:00:24 | Loss: 0.2383 | top1:  89.5049\n"
     ]
    },
    {
     "name": "stderr",
     "output_type": "stream",
     "text": [
      "100%|████████████████████████████████████████████████████████████████████████████████| 636/636 [06:49<00:00,  1.55it/s]\n",
      "100%|████████████████████████████████████████████████████████████████████████████████| 156/156 [00:24<00:00,  6.26it/s]\n"
     ]
    },
    {
     "name": "stdout",
     "output_type": "stream",
     "text": [
      "=> saving checkpoint 'checkpoints\\checkpoint.pth.tar'\n"
     ]
    },
    {
     "name": "stderr",
     "output_type": "stream",
     "text": [
      "  0%|                                                                                          | 0/636 [00:00<?, ?it/s]"
     ]
    },
    {
     "name": "stdout",
     "output_type": "stream",
     "text": [
      "\n",
      "Epoch: [6 | 60] LR: 0.100000\n"
     ]
    },
    {
     "name": "stderr",
     "output_type": "stream",
     "text": [
      " 16%|████████████▌                                                                   | 100/636 [01:11<05:34,  1.60it/s]"
     ]
    },
    {
     "name": "stdout",
     "output_type": "stream",
     "text": [
      "(100/636) Data: 0.091s | Batch: 0.714s | Total: 0:01:11 | ETA: 0:05:36 | Loss: 0.2296 | top1:  89.8604\n"
     ]
    },
    {
     "name": "stderr",
     "output_type": "stream",
     "text": [
      " 31%|█████████████████████████▏                                                      | 200/636 [02:13<04:33,  1.60it/s]"
     ]
    },
    {
     "name": "stdout",
     "output_type": "stream",
     "text": [
      "(200/636) Data: 0.046s | Batch: 0.670s | Total: 0:02:13 | ETA: 0:04:34 | Loss: 0.2293 | top1:  89.8464\n"
     ]
    },
    {
     "name": "stderr",
     "output_type": "stream",
     "text": [
      " 47%|█████████████████████████████████████▋                                          | 300/636 [03:16<03:30,  1.59it/s]"
     ]
    },
    {
     "name": "stdout",
     "output_type": "stream",
     "text": [
      "(300/636) Data: 0.031s | Batch: 0.655s | Total: 0:03:16 | ETA: 0:03:32 | Loss: 0.2297 | top1:  89.8373\n"
     ]
    },
    {
     "name": "stderr",
     "output_type": "stream",
     "text": [
      " 63%|██████████████████████████████████████████████████▎                             | 400/636 [04:19<02:27,  1.60it/s]"
     ]
    },
    {
     "name": "stdout",
     "output_type": "stream",
     "text": [
      "(400/636) Data: 0.024s | Batch: 0.648s | Total: 0:04:19 | ETA: 0:02:29 | Loss: 0.2289 | top1:  89.8739\n"
     ]
    },
    {
     "name": "stderr",
     "output_type": "stream",
     "text": [
      " 79%|██████████████████████████████████████████████████████████████▉                 | 500/636 [05:21<01:25,  1.60it/s]"
     ]
    },
    {
     "name": "stdout",
     "output_type": "stream",
     "text": [
      "(500/636) Data: 0.019s | Batch: 0.644s | Total: 0:05:21 | ETA: 0:01:26 | Loss: 0.2289 | top1:  89.8774\n"
     ]
    },
    {
     "name": "stderr",
     "output_type": "stream",
     "text": [
      " 94%|███████████████████████████████████████████████████████████████████████████▍    | 600/636 [06:24<00:22,  1.60it/s]"
     ]
    },
    {
     "name": "stdout",
     "output_type": "stream",
     "text": [
      "(600/636) Data: 0.016s | Batch: 0.641s | Total: 0:06:24 | ETA: 0:00:24 | Loss: 0.2282 | top1:  89.9073\n"
     ]
    },
    {
     "name": "stderr",
     "output_type": "stream",
     "text": [
      "100%|████████████████████████████████████████████████████████████████████████████████| 636/636 [06:47<00:00,  1.56it/s]\n",
      "100%|████████████████████████████████████████████████████████████████████████████████| 156/156 [00:24<00:00,  6.27it/s]\n"
     ]
    },
    {
     "name": "stdout",
     "output_type": "stream",
     "text": [
      "=> saving checkpoint 'checkpoints\\checkpoint.pth.tar'\n"
     ]
    },
    {
     "name": "stderr",
     "output_type": "stream",
     "text": [
      "  0%|                                                                                          | 0/636 [00:00<?, ?it/s]"
     ]
    },
    {
     "name": "stdout",
     "output_type": "stream",
     "text": [
      "\n",
      "Epoch: [7 | 60] LR: 0.100000\n"
     ]
    },
    {
     "name": "stderr",
     "output_type": "stream",
     "text": [
      " 16%|████████████▌                                                                   | 100/636 [01:11<05:35,  1.60it/s]"
     ]
    },
    {
     "name": "stdout",
     "output_type": "stream",
     "text": [
      "(100/636) Data: 0.091s | Batch: 0.713s | Total: 0:01:11 | ETA: 0:05:35 | Loss: 0.2218 | top1:  90.1910\n"
     ]
    },
    {
     "name": "stderr",
     "output_type": "stream",
     "text": [
      " 31%|█████████████████████████▏                                                      | 200/636 [02:13<04:34,  1.59it/s]"
     ]
    },
    {
     "name": "stdout",
     "output_type": "stream",
     "text": [
      "(200/636) Data: 0.046s | Batch: 0.669s | Total: 0:02:13 | ETA: 0:04:34 | Loss: 0.2210 | top1:  90.2240\n"
     ]
    },
    {
     "name": "stderr",
     "output_type": "stream",
     "text": [
      " 47%|█████████████████████████████████████▋                                          | 300/636 [03:16<03:30,  1.59it/s]"
     ]
    },
    {
     "name": "stdout",
     "output_type": "stream",
     "text": [
      "(300/636) Data: 0.031s | Batch: 0.655s | Total: 0:03:16 | ETA: 0:03:32 | Loss: 0.2204 | top1:  90.2463\n"
     ]
    },
    {
     "name": "stderr",
     "output_type": "stream",
     "text": [
      " 63%|██████████████████████████████████████████████████▎                             | 400/636 [04:19<02:27,  1.59it/s]"
     ]
    },
    {
     "name": "stdout",
     "output_type": "stream",
     "text": [
      "(400/636) Data: 0.024s | Batch: 0.648s | Total: 0:04:19 | ETA: 0:02:29 | Loss: 0.2206 | top1:  90.2394\n"
     ]
    },
    {
     "name": "stderr",
     "output_type": "stream",
     "text": [
      " 79%|██████████████████████████████████████████████████████████████▉                 | 500/636 [05:21<01:25,  1.59it/s]"
     ]
    },
    {
     "name": "stdout",
     "output_type": "stream",
     "text": [
      "(500/636) Data: 0.019s | Batch: 0.644s | Total: 0:05:21 | ETA: 0:01:26 | Loss: 0.2205 | top1:  90.2421\n"
     ]
    },
    {
     "name": "stderr",
     "output_type": "stream",
     "text": [
      " 94%|███████████████████████████████████████████████████████████████████████████▍    | 600/636 [06:24<00:22,  1.59it/s]"
     ]
    },
    {
     "name": "stdout",
     "output_type": "stream",
     "text": [
      "(600/636) Data: 0.016s | Batch: 0.641s | Total: 0:06:24 | ETA: 0:00:24 | Loss: 0.2200 | top1:  90.2627\n"
     ]
    },
    {
     "name": "stderr",
     "output_type": "stream",
     "text": [
      "100%|████████████████████████████████████████████████████████████████████████████████| 636/636 [06:47<00:00,  1.56it/s]\n",
      "100%|████████████████████████████████████████████████████████████████████████████████| 156/156 [00:24<00:00,  6.27it/s]\n"
     ]
    },
    {
     "name": "stdout",
     "output_type": "stream",
     "text": [
      "=> saving checkpoint 'checkpoints\\checkpoint.pth.tar'\n"
     ]
    },
    {
     "name": "stderr",
     "output_type": "stream",
     "text": [
      "  0%|                                                                                          | 0/636 [00:00<?, ?it/s]"
     ]
    },
    {
     "name": "stdout",
     "output_type": "stream",
     "text": [
      "\n",
      "Epoch: [8 | 60] LR: 0.100000\n"
     ]
    },
    {
     "name": "stderr",
     "output_type": "stream",
     "text": [
      " 16%|████████████▌                                                                   | 100/636 [01:11<05:35,  1.60it/s]"
     ]
    },
    {
     "name": "stdout",
     "output_type": "stream",
     "text": [
      "(100/636) Data: 0.089s | Batch: 0.711s | Total: 0:01:11 | ETA: 0:05:36 | Loss: 0.2211 | top1:  90.2288\n"
     ]
    },
    {
     "name": "stderr",
     "output_type": "stream",
     "text": [
      " 31%|█████████████████████████▏                                                      | 200/636 [02:13<04:32,  1.60it/s]"
     ]
    },
    {
     "name": "stdout",
     "output_type": "stream",
     "text": [
      "(200/636) Data: 0.045s | Batch: 0.668s | Total: 0:02:13 | ETA: 0:04:34 | Loss: 0.2193 | top1:  90.2955\n"
     ]
    },
    {
     "name": "stderr",
     "output_type": "stream",
     "text": [
      " 47%|█████████████████████████████████████▋                                          | 300/636 [03:16<03:30,  1.60it/s]"
     ]
    },
    {
     "name": "stdout",
     "output_type": "stream",
     "text": [
      "(300/636) Data: 0.031s | Batch: 0.654s | Total: 0:03:16 | ETA: 0:03:31 | Loss: 0.2185 | top1:  90.3183\n"
     ]
    },
    {
     "name": "stderr",
     "output_type": "stream",
     "text": [
      " 63%|██████████████████████████████████████████████████▎                             | 400/636 [04:19<02:29,  1.58it/s]"
     ]
    },
    {
     "name": "stdout",
     "output_type": "stream",
     "text": [
      "(400/636) Data: 0.023s | Batch: 0.650s | Total: 0:04:19 | ETA: 0:02:31 | Loss: 0.2178 | top1:  90.3584\n"
     ]
    },
    {
     "name": "stderr",
     "output_type": "stream",
     "text": [
      " 79%|██████████████████████████████████████████████████████████████▉                 | 500/636 [05:22<01:25,  1.59it/s]"
     ]
    },
    {
     "name": "stdout",
     "output_type": "stream",
     "text": [
      "(500/636) Data: 0.019s | Batch: 0.646s | Total: 0:05:22 | ETA: 0:01:26 | Loss: 0.2173 | top1:  90.3727\n"
     ]
    },
    {
     "name": "stderr",
     "output_type": "stream",
     "text": [
      " 94%|███████████████████████████████████████████████████████████████████████████▍    | 600/636 [06:25<00:22,  1.60it/s]"
     ]
    },
    {
     "name": "stdout",
     "output_type": "stream",
     "text": [
      "(600/636) Data: 0.016s | Batch: 0.643s | Total: 0:06:25 | ETA: 0:00:24 | Loss: 0.2171 | top1:  90.3788\n"
     ]
    },
    {
     "name": "stderr",
     "output_type": "stream",
     "text": [
      "100%|████████████████████████████████████████████████████████████████████████████████| 636/636 [06:48<00:00,  1.56it/s]\n",
      "100%|████████████████████████████████████████████████████████████████████████████████| 156/156 [00:25<00:00,  6.21it/s]\n"
     ]
    },
    {
     "name": "stdout",
     "output_type": "stream",
     "text": [
      "=> saving checkpoint 'checkpoints\\checkpoint.pth.tar'\n"
     ]
    },
    {
     "name": "stderr",
     "output_type": "stream",
     "text": [
      "  0%|                                                                                          | 0/636 [00:00<?, ?it/s]"
     ]
    },
    {
     "name": "stdout",
     "output_type": "stream",
     "text": [
      "\n",
      "Epoch: [9 | 60] LR: 0.100000\n"
     ]
    },
    {
     "name": "stderr",
     "output_type": "stream",
     "text": [
      " 16%|████████████▌                                                                   | 100/636 [01:11<05:35,  1.60it/s]"
     ]
    },
    {
     "name": "stdout",
     "output_type": "stream",
     "text": [
      "(100/636) Data: 0.093s | Batch: 0.716s | Total: 0:01:11 | ETA: 0:05:37 | Loss: 0.2102 | top1:  90.6966\n"
     ]
    },
    {
     "name": "stderr",
     "output_type": "stream",
     "text": [
      " 31%|█████████████████████████▏                                                      | 200/636 [02:14<04:33,  1.59it/s]"
     ]
    },
    {
     "name": "stdout",
     "output_type": "stream",
     "text": [
      "(200/636) Data: 0.047s | Batch: 0.671s | Total: 0:02:14 | ETA: 0:04:35 | Loss: 0.2110 | top1:  90.6690\n"
     ]
    },
    {
     "name": "stderr",
     "output_type": "stream",
     "text": [
      " 47%|█████████████████████████████████████▋                                          | 300/636 [03:17<03:31,  1.59it/s]"
     ]
    },
    {
     "name": "stdout",
     "output_type": "stream",
     "text": [
      "(300/636) Data: 0.032s | Batch: 0.657s | Total: 0:03:17 | ETA: 0:03:33 | Loss: 0.2107 | top1:  90.6722\n"
     ]
    },
    {
     "name": "stderr",
     "output_type": "stream",
     "text": [
      " 63%|██████████████████████████████████████████████████▎                             | 400/636 [04:19<02:28,  1.59it/s]"
     ]
    },
    {
     "name": "stdout",
     "output_type": "stream",
     "text": [
      "(400/636) Data: 0.024s | Batch: 0.650s | Total: 0:04:19 | ETA: 0:02:29 | Loss: 0.2104 | top1:  90.6822\n"
     ]
    },
    {
     "name": "stderr",
     "output_type": "stream",
     "text": [
      " 79%|██████████████████████████████████████████████████████████████▉                 | 500/636 [05:22<01:25,  1.59it/s]"
     ]
    },
    {
     "name": "stdout",
     "output_type": "stream",
     "text": [
      "(500/636) Data: 0.020s | Batch: 0.645s | Total: 0:05:22 | ETA: 0:01:26 | Loss: 0.2103 | top1:  90.6872\n"
     ]
    },
    {
     "name": "stderr",
     "output_type": "stream",
     "text": [
      " 94%|███████████████████████████████████████████████████████████████████████████▍    | 600/636 [06:25<00:22,  1.60it/s]"
     ]
    },
    {
     "name": "stdout",
     "output_type": "stream",
     "text": [
      "(600/636) Data: 0.017s | Batch: 0.642s | Total: 0:06:25 | ETA: 0:00:24 | Loss: 0.2100 | top1:  90.6924\n"
     ]
    },
    {
     "name": "stderr",
     "output_type": "stream",
     "text": [
      "100%|████████████████████████████████████████████████████████████████████████████████| 636/636 [06:48<00:00,  1.56it/s]\n",
      "100%|████████████████████████████████████████████████████████████████████████████████| 156/156 [00:24<00:00,  6.28it/s]\n"
     ]
    },
    {
     "name": "stdout",
     "output_type": "stream",
     "text": [
      "=> saving checkpoint 'checkpoints\\checkpoint.pth.tar'\n"
     ]
    },
    {
     "name": "stderr",
     "output_type": "stream",
     "text": [
      "  0%|                                                                                          | 0/636 [00:00<?, ?it/s]"
     ]
    },
    {
     "name": "stdout",
     "output_type": "stream",
     "text": [
      "\n",
      "Epoch: [10 | 60] LR: 0.100000\n"
     ]
    },
    {
     "name": "stderr",
     "output_type": "stream",
     "text": [
      " 16%|████████████▌                                                                   | 100/636 [01:12<05:36,  1.59it/s]"
     ]
    },
    {
     "name": "stdout",
     "output_type": "stream",
     "text": [
      "(100/636) Data: 0.097s | Batch: 0.721s | Total: 0:01:12 | ETA: 0:05:37 | Loss: 0.2044 | top1:  90.9169\n"
     ]
    },
    {
     "name": "stderr",
     "output_type": "stream",
     "text": [
      " 31%|█████████████████████████▏                                                      | 200/636 [02:14<04:34,  1.59it/s]"
     ]
    },
    {
     "name": "stdout",
     "output_type": "stream",
     "text": [
      "(200/636) Data: 0.049s | Batch: 0.675s | Total: 0:02:14 | ETA: 0:04:37 | Loss: 0.2055 | top1:  90.8580\n"
     ]
    },
    {
     "name": "stderr",
     "output_type": "stream",
     "text": [
      " 47%|█████████████████████████████████████▋                                          | 300/636 [03:19<03:32,  1.58it/s]"
     ]
    },
    {
     "name": "stdout",
     "output_type": "stream",
     "text": [
      "(300/636) Data: 0.033s | Batch: 0.663s | Total: 0:03:19 | ETA: 0:03:35 | Loss: 0.2057 | top1:  90.8577\n"
     ]
    },
    {
     "name": "stderr",
     "output_type": "stream",
     "text": [
      " 63%|██████████████████████████████████████████████████▎                             | 400/636 [04:23<02:33,  1.53it/s]"
     ]
    },
    {
     "name": "stdout",
     "output_type": "stream",
     "text": [
      "(400/636) Data: 0.026s | Batch: 0.659s | Total: 0:04:23 | ETA: 0:02:37 | Loss: 0.2053 | top1:  90.8951\n"
     ]
    },
    {
     "name": "stderr",
     "output_type": "stream",
     "text": [
      " 79%|██████████████████████████████████████████████████████████████▉                 | 500/636 [05:28<01:28,  1.54it/s]"
     ]
    },
    {
     "name": "stdout",
     "output_type": "stream",
     "text": [
      "(500/636) Data: 0.021s | Batch: 0.656s | Total: 0:05:28 | ETA: 0:01:30 | Loss: 0.2051 | top1:  90.9042\n"
     ]
    },
    {
     "name": "stderr",
     "output_type": "stream",
     "text": [
      " 94%|███████████████████████████████████████████████████████████████████████████▍    | 600/636 [06:33<00:22,  1.57it/s]"
     ]
    },
    {
     "name": "stdout",
     "output_type": "stream",
     "text": [
      "(600/636) Data: 0.018s | Batch: 0.656s | Total: 0:06:33 | ETA: 0:00:25 | Loss: 0.2048 | top1:  90.9180\n"
     ]
    },
    {
     "name": "stderr",
     "output_type": "stream",
     "text": [
      "100%|████████████████████████████████████████████████████████████████████████████████| 636/636 [06:57<00:00,  1.52it/s]\n",
      "100%|████████████████████████████████████████████████████████████████████████████████| 156/156 [00:27<00:00,  5.70it/s]\n"
     ]
    },
    {
     "name": "stdout",
     "output_type": "stream",
     "text": [
      "=> saving checkpoint 'checkpoints\\checkpoint.pth.tar'\n"
     ]
    },
    {
     "name": "stderr",
     "output_type": "stream",
     "text": [
      "  0%|                                                                                          | 0/636 [00:00<?, ?it/s]"
     ]
    },
    {
     "name": "stdout",
     "output_type": "stream",
     "text": [
      "\n",
      "Epoch: [11 | 60] LR: 0.100000\n"
     ]
    },
    {
     "name": "stderr",
     "output_type": "stream",
     "text": [
      " 16%|████████████▌                                                                   | 100/636 [01:12<05:35,  1.60it/s]"
     ]
    },
    {
     "name": "stdout",
     "output_type": "stream",
     "text": [
      "(100/636) Data: 0.103s | Batch: 0.729s | Total: 0:01:12 | ETA: 0:05:37 | Loss: 0.2007 | top1:  91.0773\n"
     ]
    },
    {
     "name": "stderr",
     "output_type": "stream",
     "text": [
      " 31%|█████████████████████████▏                                                      | 200/636 [02:15<04:34,  1.59it/s]"
     ]
    },
    {
     "name": "stdout",
     "output_type": "stream",
     "text": [
      "(200/636) Data: 0.052s | Batch: 0.679s | Total: 0:02:15 | ETA: 0:04:35 | Loss: 0.2006 | top1:  91.1037\n"
     ]
    },
    {
     "name": "stderr",
     "output_type": "stream",
     "text": [
      " 47%|█████████████████████████████████████▋                                          | 300/636 [03:18<03:31,  1.59it/s]"
     ]
    },
    {
     "name": "stdout",
     "output_type": "stream",
     "text": [
      "(300/636) Data: 0.035s | Batch: 0.662s | Total: 0:03:18 | ETA: 0:03:32 | Loss: 0.2006 | top1:  91.1092\n"
     ]
    },
    {
     "name": "stderr",
     "output_type": "stream",
     "text": [
      " 63%|██████████████████████████████████████████████████▎                             | 400/636 [04:21<02:28,  1.59it/s]"
     ]
    },
    {
     "name": "stdout",
     "output_type": "stream",
     "text": [
      "(400/636) Data: 0.027s | Batch: 0.654s | Total: 0:04:21 | ETA: 0:02:30 | Loss: 0.2004 | top1:  91.1184\n"
     ]
    },
    {
     "name": "stderr",
     "output_type": "stream",
     "text": [
      " 79%|██████████████████████████████████████████████████████████████▉                 | 500/636 [05:24<01:25,  1.59it/s]"
     ]
    },
    {
     "name": "stdout",
     "output_type": "stream",
     "text": [
      "(500/636) Data: 0.022s | Batch: 0.649s | Total: 0:05:24 | ETA: 0:01:26 | Loss: 0.2004 | top1:  91.1224\n"
     ]
    },
    {
     "name": "stderr",
     "output_type": "stream",
     "text": [
      " 94%|███████████████████████████████████████████████████████████████████████████▍    | 600/636 [06:27<00:22,  1.59it/s]"
     ]
    },
    {
     "name": "stdout",
     "output_type": "stream",
     "text": [
      "(600/636) Data: 0.018s | Batch: 0.645s | Total: 0:06:27 | ETA: 0:00:24 | Loss: 0.2004 | top1:  91.1244\n"
     ]
    },
    {
     "name": "stderr",
     "output_type": "stream",
     "text": [
      "100%|████████████████████████████████████████████████████████████████████████████████| 636/636 [06:50<00:00,  1.55it/s]\n",
      "100%|████████████████████████████████████████████████████████████████████████████████| 156/156 [00:25<00:00,  6.09it/s]\n"
     ]
    },
    {
     "name": "stdout",
     "output_type": "stream",
     "text": [
      "=> saving checkpoint 'checkpoints\\checkpoint.pth.tar'\n"
     ]
    },
    {
     "name": "stderr",
     "output_type": "stream",
     "text": [
      "  0%|                                                                                          | 0/636 [00:00<?, ?it/s]"
     ]
    },
    {
     "name": "stdout",
     "output_type": "stream",
     "text": [
      "\n",
      "Epoch: [12 | 60] LR: 0.100000\n"
     ]
    },
    {
     "name": "stderr",
     "output_type": "stream",
     "text": [
      " 16%|████████████▌                                                                   | 100/636 [01:12<05:39,  1.58it/s]"
     ]
    },
    {
     "name": "stdout",
     "output_type": "stream",
     "text": [
      "(100/636) Data: 0.095s | Batch: 0.722s | Total: 0:01:12 | ETA: 0:05:50 | Loss: 0.1969 | top1:  91.2869\n"
     ]
    },
    {
     "name": "stderr",
     "output_type": "stream",
     "text": [
      " 31%|█████████████████████████▏                                                      | 200/636 [02:16<04:35,  1.58it/s]"
     ]
    },
    {
     "name": "stdout",
     "output_type": "stream",
     "text": [
      "(200/636) Data: 0.048s | Batch: 0.681s | Total: 0:02:16 | ETA: 0:04:36 | Loss: 0.1967 | top1:  91.2999\n"
     ]
    },
    {
     "name": "stderr",
     "output_type": "stream",
     "text": [
      " 47%|█████████████████████████████████████▋                                          | 300/636 [03:19<03:32,  1.58it/s]"
     ]
    },
    {
     "name": "stdout",
     "output_type": "stream",
     "text": [
      "(300/636) Data: 0.033s | Batch: 0.664s | Total: 0:03:19 | ETA: 0:03:33 | Loss: 0.1968 | top1:  91.2890\n"
     ]
    },
    {
     "name": "stderr",
     "output_type": "stream",
     "text": [
      " 63%|██████████████████████████████████████████████████▎                             | 400/636 [04:22<02:28,  1.59it/s]"
     ]
    },
    {
     "name": "stdout",
     "output_type": "stream",
     "text": [
      "(400/636) Data: 0.025s | Batch: 0.655s | Total: 0:04:22 | ETA: 0:02:30 | Loss: 0.1968 | top1:  91.2964\n"
     ]
    },
    {
     "name": "stderr",
     "output_type": "stream",
     "text": [
      " 79%|██████████████████████████████████████████████████████████████▉                 | 500/636 [05:25<01:25,  1.59it/s]"
     ]
    },
    {
     "name": "stdout",
     "output_type": "stream",
     "text": [
      "(500/636) Data: 0.020s | Batch: 0.650s | Total: 0:05:25 | ETA: 0:01:27 | Loss: 0.1969 | top1:  91.2938\n"
     ]
    },
    {
     "name": "stderr",
     "output_type": "stream",
     "text": [
      " 94%|███████████████████████████████████████████████████████████████████████████▍    | 600/636 [06:28<00:22,  1.59it/s]"
     ]
    },
    {
     "name": "stdout",
     "output_type": "stream",
     "text": [
      "(600/636) Data: 0.017s | Batch: 0.647s | Total: 0:06:28 | ETA: 0:00:24 | Loss: 0.1969 | top1:  91.2884\n"
     ]
    },
    {
     "name": "stderr",
     "output_type": "stream",
     "text": [
      "100%|████████████████████████████████████████████████████████████████████████████████| 636/636 [06:51<00:00,  1.55it/s]\n",
      "100%|████████████████████████████████████████████████████████████████████████████████| 156/156 [00:25<00:00,  6.17it/s]\n"
     ]
    },
    {
     "name": "stdout",
     "output_type": "stream",
     "text": [
      "=> saving checkpoint 'checkpoints\\checkpoint.pth.tar'\n"
     ]
    },
    {
     "name": "stderr",
     "output_type": "stream",
     "text": [
      "  0%|                                                                                          | 0/636 [00:00<?, ?it/s]"
     ]
    },
    {
     "name": "stdout",
     "output_type": "stream",
     "text": [
      "\n",
      "Epoch: [13 | 60] LR: 0.100000\n"
     ]
    },
    {
     "name": "stderr",
     "output_type": "stream",
     "text": [
      " 16%|████████████▌                                                                   | 100/636 [01:12<05:37,  1.59it/s]"
     ]
    },
    {
     "name": "stdout",
     "output_type": "stream",
     "text": [
      "(100/636) Data: 0.099s | Batch: 0.724s | Total: 0:01:12 | ETA: 0:05:38 | Loss: 0.1926 | top1:  91.4566\n"
     ]
    },
    {
     "name": "stderr",
     "output_type": "stream",
     "text": [
      " 31%|█████████████████████████▏                                                      | 200/636 [02:15<04:34,  1.59it/s]"
     ]
    },
    {
     "name": "stdout",
     "output_type": "stream",
     "text": [
      "(200/636) Data: 0.050s | Batch: 0.677s | Total: 0:02:15 | ETA: 0:04:35 | Loss: 0.1927 | top1:  91.4479\n"
     ]
    },
    {
     "name": "stderr",
     "output_type": "stream",
     "text": [
      " 47%|█████████████████████████████████████▋                                          | 300/636 [03:18<03:33,  1.58it/s]"
     ]
    },
    {
     "name": "stdout",
     "output_type": "stream",
     "text": [
      "(300/636) Data: 0.034s | Batch: 0.661s | Total: 0:03:18 | ETA: 0:03:33 | Loss: 0.1936 | top1:  91.4157\n"
     ]
    },
    {
     "name": "stderr",
     "output_type": "stream",
     "text": [
      " 63%|██████████████████████████████████████████████████▎                             | 400/636 [04:21<02:29,  1.58it/s]"
     ]
    },
    {
     "name": "stdout",
     "output_type": "stream",
     "text": [
      "(400/636) Data: 0.026s | Batch: 0.653s | Total: 0:04:21 | ETA: 0:02:30 | Loss: 0.1937 | top1:  91.4122\n"
     ]
    },
    {
     "name": "stderr",
     "output_type": "stream",
     "text": [
      " 79%|██████████████████████████████████████████████████████████████▉                 | 500/636 [05:24<01:25,  1.59it/s]"
     ]
    },
    {
     "name": "stdout",
     "output_type": "stream",
     "text": [
      "(500/636) Data: 0.021s | Batch: 0.649s | Total: 0:05:24 | ETA: 0:01:27 | Loss: 0.1938 | top1:  91.4126\n"
     ]
    },
    {
     "name": "stderr",
     "output_type": "stream",
     "text": [
      " 94%|███████████████████████████████████████████████████████████████████████████▍    | 600/636 [06:27<00:22,  1.59it/s]"
     ]
    },
    {
     "name": "stdout",
     "output_type": "stream",
     "text": [
      "(600/636) Data: 0.018s | Batch: 0.646s | Total: 0:06:27 | ETA: 0:00:24 | Loss: 0.1939 | top1:  91.4089\n"
     ]
    },
    {
     "name": "stderr",
     "output_type": "stream",
     "text": [
      "100%|████████████████████████████████████████████████████████████████████████████████| 636/636 [06:50<00:00,  1.55it/s]\n",
      "100%|████████████████████████████████████████████████████████████████████████████████| 156/156 [00:25<00:00,  6.17it/s]\n"
     ]
    },
    {
     "name": "stdout",
     "output_type": "stream",
     "text": [
      "=> saving checkpoint 'checkpoints\\checkpoint.pth.tar'\n"
     ]
    },
    {
     "name": "stderr",
     "output_type": "stream",
     "text": [
      "  0%|                                                                                          | 0/636 [00:00<?, ?it/s]"
     ]
    },
    {
     "name": "stdout",
     "output_type": "stream",
     "text": [
      "\n",
      "Epoch: [14 | 60] LR: 0.100000\n"
     ]
    },
    {
     "name": "stderr",
     "output_type": "stream",
     "text": [
      " 16%|████████████▌                                                                   | 100/636 [01:11<05:37,  1.59it/s]"
     ]
    },
    {
     "name": "stdout",
     "output_type": "stream",
     "text": [
      "(100/636) Data: 0.092s | Batch: 0.717s | Total: 0:01:11 | ETA: 0:05:39 | Loss: 0.1903 | top1:  91.5680\n"
     ]
    },
    {
     "name": "stderr",
     "output_type": "stream",
     "text": [
      " 31%|█████████████████████████▏                                                      | 200/636 [02:14<04:34,  1.59it/s]"
     ]
    },
    {
     "name": "stdout",
     "output_type": "stream",
     "text": [
      "(200/636) Data: 0.047s | Batch: 0.673s | Total: 0:02:14 | ETA: 0:04:35 | Loss: 0.1903 | top1:  91.5733\n"
     ]
    },
    {
     "name": "stderr",
     "output_type": "stream",
     "text": [
      " 47%|█████████████████████████████████████▋                                          | 300/636 [03:17<03:32,  1.58it/s]"
     ]
    },
    {
     "name": "stdout",
     "output_type": "stream",
     "text": [
      "(300/636) Data: 0.032s | Batch: 0.659s | Total: 0:03:17 | ETA: 0:03:33 | Loss: 0.1908 | top1:  91.5479\n"
     ]
    },
    {
     "name": "stderr",
     "output_type": "stream",
     "text": [
      " 63%|██████████████████████████████████████████████████▎                             | 400/636 [04:20<02:28,  1.59it/s]"
     ]
    },
    {
     "name": "stdout",
     "output_type": "stream",
     "text": [
      "(400/636) Data: 0.024s | Batch: 0.652s | Total: 0:04:20 | ETA: 0:02:30 | Loss: 0.1909 | top1:  91.5370\n"
     ]
    },
    {
     "name": "stderr",
     "output_type": "stream",
     "text": [
      " 79%|██████████████████████████████████████████████████████████████▉                 | 500/636 [05:23<01:25,  1.59it/s]"
     ]
    },
    {
     "name": "stdout",
     "output_type": "stream",
     "text": [
      "(500/636) Data: 0.020s | Batch: 0.648s | Total: 0:05:23 | ETA: 0:01:27 | Loss: 0.1910 | top1:  91.5313\n"
     ]
    },
    {
     "name": "stderr",
     "output_type": "stream",
     "text": [
      " 94%|███████████████████████████████████████████████████████████████████████████▍    | 600/636 [06:26<00:22,  1.59it/s]"
     ]
    },
    {
     "name": "stdout",
     "output_type": "stream",
     "text": [
      "(600/636) Data: 0.017s | Batch: 0.645s | Total: 0:06:26 | ETA: 0:00:24 | Loss: 0.1911 | top1:  91.5340\n"
     ]
    },
    {
     "name": "stderr",
     "output_type": "stream",
     "text": [
      "100%|████████████████████████████████████████████████████████████████████████████████| 636/636 [06:50<00:00,  1.55it/s]\n",
      "100%|████████████████████████████████████████████████████████████████████████████████| 156/156 [00:25<00:00,  6.18it/s]\n"
     ]
    },
    {
     "name": "stdout",
     "output_type": "stream",
     "text": [
      "=> saving checkpoint 'checkpoints\\checkpoint.pth.tar'\n"
     ]
    },
    {
     "name": "stderr",
     "output_type": "stream",
     "text": [
      "  0%|                                                                                          | 0/636 [00:00<?, ?it/s]"
     ]
    },
    {
     "name": "stdout",
     "output_type": "stream",
     "text": [
      "\n",
      "Epoch: [15 | 60] LR: 0.100000\n"
     ]
    },
    {
     "name": "stderr",
     "output_type": "stream",
     "text": [
      " 16%|████████████▌                                                                   | 100/636 [01:11<05:37,  1.59it/s]"
     ]
    },
    {
     "name": "stdout",
     "output_type": "stream",
     "text": [
      "(100/636) Data: 0.094s | Batch: 0.719s | Total: 0:01:11 | ETA: 0:05:39 | Loss: 0.1873 | top1:  91.6728\n"
     ]
    },
    {
     "name": "stderr",
     "output_type": "stream",
     "text": [
      " 31%|█████████████████████████▏                                                      | 200/636 [02:14<04:34,  1.59it/s]"
     ]
    },
    {
     "name": "stdout",
     "output_type": "stream",
     "text": [
      "(200/636) Data: 0.048s | Batch: 0.674s | Total: 0:02:14 | ETA: 0:04:36 | Loss: 0.1880 | top1:  91.6552\n"
     ]
    },
    {
     "name": "stderr",
     "output_type": "stream",
     "text": [
      " 47%|█████████████████████████████████████▋                                          | 300/636 [03:17<03:31,  1.59it/s]"
     ]
    },
    {
     "name": "stdout",
     "output_type": "stream",
     "text": [
      "(300/636) Data: 0.032s | Batch: 0.660s | Total: 0:03:17 | ETA: 0:03:33 | Loss: 0.1881 | top1:  91.6575\n"
     ]
    },
    {
     "name": "stderr",
     "output_type": "stream",
     "text": [
      " 63%|██████████████████████████████████████████████████▎                             | 400/636 [04:20<02:28,  1.59it/s]"
     ]
    },
    {
     "name": "stdout",
     "output_type": "stream",
     "text": [
      "(400/636) Data: 0.025s | Batch: 0.652s | Total: 0:04:20 | ETA: 0:02:30 | Loss: 0.1886 | top1:  91.6461\n"
     ]
    },
    {
     "name": "stderr",
     "output_type": "stream",
     "text": [
      " 79%|██████████████████████████████████████████████████████████████▉                 | 500/636 [05:23<01:25,  1.58it/s]"
     ]
    },
    {
     "name": "stdout",
     "output_type": "stream",
     "text": [
      "(500/636) Data: 0.020s | Batch: 0.648s | Total: 0:05:23 | ETA: 0:01:27 | Loss: 0.1887 | top1:  91.6394\n"
     ]
    },
    {
     "name": "stderr",
     "output_type": "stream",
     "text": [
      " 94%|███████████████████████████████████████████████████████████████████████████▍    | 600/636 [06:26<00:22,  1.59it/s]"
     ]
    },
    {
     "name": "stdout",
     "output_type": "stream",
     "text": [
      "(600/636) Data: 0.017s | Batch: 0.645s | Total: 0:06:26 | ETA: 0:00:24 | Loss: 0.1889 | top1:  91.6325\n"
     ]
    },
    {
     "name": "stderr",
     "output_type": "stream",
     "text": [
      "100%|████████████████████████████████████████████████████████████████████████████████| 636/636 [06:50<00:00,  1.55it/s]\n",
      "100%|████████████████████████████████████████████████████████████████████████████████| 156/156 [00:25<00:00,  6.17it/s]\n"
     ]
    },
    {
     "name": "stdout",
     "output_type": "stream",
     "text": [
      "=> saving checkpoint 'checkpoints\\checkpoint.pth.tar'\n"
     ]
    },
    {
     "name": "stderr",
     "output_type": "stream",
     "text": [
      "  0%|                                                                                          | 0/636 [00:00<?, ?it/s]"
     ]
    },
    {
     "name": "stdout",
     "output_type": "stream",
     "text": [
      "\n",
      "Epoch: [16 | 60] LR: 0.100000\n"
     ]
    },
    {
     "name": "stderr",
     "output_type": "stream",
     "text": [
      " 16%|████████████▌                                                                   | 100/636 [01:11<05:38,  1.58it/s]"
     ]
    },
    {
     "name": "stdout",
     "output_type": "stream",
     "text": [
      "(100/636) Data: 0.091s | Batch: 0.716s | Total: 0:01:11 | ETA: 0:05:39 | Loss: 0.1850 | top1:  91.7772\n"
     ]
    },
    {
     "name": "stderr",
     "output_type": "stream",
     "text": [
      " 31%|█████████████████████████▏                                                      | 200/636 [02:14<04:34,  1.59it/s]"
     ]
    },
    {
     "name": "stdout",
     "output_type": "stream",
     "text": [
      "(200/636) Data: 0.046s | Batch: 0.673s | Total: 0:02:14 | ETA: 0:04:36 | Loss: 0.1853 | top1:  91.7819\n"
     ]
    },
    {
     "name": "stderr",
     "output_type": "stream",
     "text": [
      " 47%|█████████████████████████████████████▋                                          | 300/636 [03:17<03:31,  1.59it/s]"
     ]
    },
    {
     "name": "stdout",
     "output_type": "stream",
     "text": [
      "(300/636) Data: 0.031s | Batch: 0.659s | Total: 0:03:17 | ETA: 0:03:33 | Loss: 0.1860 | top1:  91.7463\n"
     ]
    },
    {
     "name": "stderr",
     "output_type": "stream",
     "text": [
      " 63%|██████████████████████████████████████████████████▎                             | 400/636 [04:20<02:28,  1.59it/s]"
     ]
    },
    {
     "name": "stdout",
     "output_type": "stream",
     "text": [
      "(400/636) Data: 0.024s | Batch: 0.652s | Total: 0:04:20 | ETA: 0:02:30 | Loss: 0.1863 | top1:  91.7376\n"
     ]
    },
    {
     "name": "stderr",
     "output_type": "stream",
     "text": [
      " 79%|██████████████████████████████████████████████████████████████▉                 | 500/636 [05:23<01:25,  1.58it/s]"
     ]
    },
    {
     "name": "stdout",
     "output_type": "stream",
     "text": [
      "(500/636) Data: 0.019s | Batch: 0.647s | Total: 0:05:23 | ETA: 0:01:27 | Loss: 0.1866 | top1:  91.7279\n"
     ]
    },
    {
     "name": "stderr",
     "output_type": "stream",
     "text": [
      " 94%|███████████████████████████████████████████████████████████████████████████▍    | 600/636 [06:26<00:22,  1.58it/s]"
     ]
    },
    {
     "name": "stdout",
     "output_type": "stream",
     "text": [
      "(600/636) Data: 0.016s | Batch: 0.645s | Total: 0:06:26 | ETA: 0:00:24 | Loss: 0.1869 | top1:  91.7172\n"
     ]
    },
    {
     "name": "stderr",
     "output_type": "stream",
     "text": [
      "100%|████████████████████████████████████████████████████████████████████████████████| 636/636 [06:50<00:00,  1.55it/s]\n",
      "100%|████████████████████████████████████████████████████████████████████████████████| 156/156 [00:25<00:00,  6.19it/s]\n"
     ]
    },
    {
     "name": "stdout",
     "output_type": "stream",
     "text": [
      "=> saving checkpoint 'checkpoints\\checkpoint.pth.tar'\n"
     ]
    },
    {
     "name": "stderr",
     "output_type": "stream",
     "text": [
      "  0%|                                                                                          | 0/636 [00:00<?, ?it/s]"
     ]
    },
    {
     "name": "stdout",
     "output_type": "stream",
     "text": [
      "\n",
      "Epoch: [17 | 60] LR: 0.100000\n"
     ]
    },
    {
     "name": "stderr",
     "output_type": "stream",
     "text": [
      " 16%|████████████▌                                                                   | 100/636 [01:11<05:36,  1.59it/s]"
     ]
    },
    {
     "name": "stdout",
     "output_type": "stream",
     "text": [
      "(100/636) Data: 0.092s | Batch: 0.716s | Total: 0:01:11 | ETA: 0:05:38 | Loss: 0.1843 | top1:  91.8562\n"
     ]
    },
    {
     "name": "stderr",
     "output_type": "stream",
     "text": [
      " 31%|█████████████████████████▏                                                      | 200/636 [02:14<04:34,  1.59it/s]"
     ]
    },
    {
     "name": "stdout",
     "output_type": "stream",
     "text": [
      "(200/636) Data: 0.047s | Batch: 0.673s | Total: 0:02:14 | ETA: 0:04:36 | Loss: 0.1845 | top1:  91.8426\n"
     ]
    },
    {
     "name": "stderr",
     "output_type": "stream",
     "text": [
      " 47%|█████████████████████████████████████▋                                          | 300/636 [03:17<03:31,  1.59it/s]"
     ]
    },
    {
     "name": "stdout",
     "output_type": "stream",
     "text": [
      "(300/636) Data: 0.032s | Batch: 0.659s | Total: 0:03:17 | ETA: 0:03:33 | Loss: 0.1846 | top1:  91.8230\n"
     ]
    },
    {
     "name": "stderr",
     "output_type": "stream",
     "text": [
      " 63%|██████████████████████████████████████████████████▎                             | 400/636 [04:20<02:28,  1.58it/s]"
     ]
    },
    {
     "name": "stdout",
     "output_type": "stream",
     "text": [
      "(400/636) Data: 0.024s | Batch: 0.652s | Total: 0:04:20 | ETA: 0:02:30 | Loss: 0.1847 | top1:  91.8231\n"
     ]
    },
    {
     "name": "stderr",
     "output_type": "stream",
     "text": [
      " 79%|██████████████████████████████████████████████████████████████▉                 | 500/636 [05:24<01:27,  1.56it/s]"
     ]
    },
    {
     "name": "stdout",
     "output_type": "stream",
     "text": [
      "(500/636) Data: 0.020s | Batch: 0.649s | Total: 0:05:24 | ETA: 0:01:30 | Loss: 0.1847 | top1:  91.8252\n"
     ]
    },
    {
     "name": "stderr",
     "output_type": "stream",
     "text": [
      " 94%|███████████████████████████████████████████████████████████████████████████▍    | 600/636 [06:28<00:22,  1.59it/s]"
     ]
    },
    {
     "name": "stdout",
     "output_type": "stream",
     "text": [
      "(600/636) Data: 0.017s | Batch: 0.647s | Total: 0:06:28 | ETA: 0:00:24 | Loss: 0.1849 | top1:  91.8138\n"
     ]
    },
    {
     "name": "stderr",
     "output_type": "stream",
     "text": [
      "100%|████████████████████████████████████████████████████████████████████████████████| 636/636 [06:51<00:00,  1.55it/s]\n",
      "100%|████████████████████████████████████████████████████████████████████████████████| 156/156 [00:24<00:00,  6.29it/s]\n"
     ]
    },
    {
     "name": "stdout",
     "output_type": "stream",
     "text": [
      "=> saving checkpoint 'checkpoints\\checkpoint.pth.tar'\n"
     ]
    },
    {
     "name": "stderr",
     "output_type": "stream",
     "text": [
      "  0%|                                                                                          | 0/636 [00:00<?, ?it/s]"
     ]
    },
    {
     "name": "stdout",
     "output_type": "stream",
     "text": [
      "\n",
      "Epoch: [18 | 60] LR: 0.100000\n"
     ]
    },
    {
     "name": "stderr",
     "output_type": "stream",
     "text": [
      " 16%|████████████▌                                                                   | 100/636 [01:11<05:33,  1.61it/s]"
     ]
    },
    {
     "name": "stdout",
     "output_type": "stream",
     "text": [
      "(100/636) Data: 0.093s | Batch: 0.711s | Total: 0:01:11 | ETA: 0:05:35 | Loss: 0.1812 | top1:  91.9688\n"
     ]
    },
    {
     "name": "stderr",
     "output_type": "stream",
     "text": [
      " 31%|█████████████████████████▏                                                      | 200/636 [02:13<04:32,  1.60it/s]"
     ]
    },
    {
     "name": "stdout",
     "output_type": "stream",
     "text": [
      "(200/636) Data: 0.047s | Batch: 0.668s | Total: 0:02:13 | ETA: 0:04:33 | Loss: 0.1818 | top1:  91.9471\n"
     ]
    },
    {
     "name": "stderr",
     "output_type": "stream",
     "text": [
      " 47%|█████████████████████████████████████▋                                          | 300/636 [03:15<03:29,  1.60it/s]"
     ]
    },
    {
     "name": "stdout",
     "output_type": "stream",
     "text": [
      "(300/636) Data: 0.032s | Batch: 0.653s | Total: 0:03:15 | ETA: 0:03:31 | Loss: 0.1825 | top1:  91.9251\n"
     ]
    },
    {
     "name": "stderr",
     "output_type": "stream",
     "text": [
      " 63%|██████████████████████████████████████████████████▎                             | 400/636 [04:18<02:27,  1.60it/s]"
     ]
    },
    {
     "name": "stdout",
     "output_type": "stream",
     "text": [
      "(400/636) Data: 0.024s | Batch: 0.646s | Total: 0:04:18 | ETA: 0:02:28 | Loss: 0.1829 | top1:  91.9083\n"
     ]
    },
    {
     "name": "stderr",
     "output_type": "stream",
     "text": [
      " 79%|██████████████████████████████████████████████████████████████▉                 | 500/636 [05:20<01:24,  1.60it/s]"
     ]
    },
    {
     "name": "stdout",
     "output_type": "stream",
     "text": [
      "(500/636) Data: 0.020s | Batch: 0.642s | Total: 0:05:20 | ETA: 0:01:26 | Loss: 0.1832 | top1:  91.8921\n"
     ]
    },
    {
     "name": "stderr",
     "output_type": "stream",
     "text": [
      " 94%|███████████████████████████████████████████████████████████████████████████▍    | 600/636 [06:23<00:22,  1.60it/s]"
     ]
    },
    {
     "name": "stdout",
     "output_type": "stream",
     "text": [
      "(600/636) Data: 0.017s | Batch: 0.639s | Total: 0:06:23 | ETA: 0:00:24 | Loss: 0.1834 | top1:  91.8809\n"
     ]
    },
    {
     "name": "stderr",
     "output_type": "stream",
     "text": [
      "100%|████████████████████████████████████████████████████████████████████████████████| 636/636 [06:46<00:00,  1.56it/s]\n",
      "100%|████████████████████████████████████████████████████████████████████████████████| 156/156 [00:24<00:00,  6.36it/s]\n"
     ]
    },
    {
     "name": "stdout",
     "output_type": "stream",
     "text": [
      "=> saving checkpoint 'checkpoints\\checkpoint.pth.tar'\n"
     ]
    },
    {
     "name": "stderr",
     "output_type": "stream",
     "text": [
      "  0%|                                                                                          | 0/636 [00:00<?, ?it/s]"
     ]
    },
    {
     "name": "stdout",
     "output_type": "stream",
     "text": [
      "\n",
      "Epoch: [19 | 60] LR: 0.100000\n"
     ]
    },
    {
     "name": "stderr",
     "output_type": "stream",
     "text": [
      " 16%|████████████▌                                                                   | 100/636 [01:10<05:33,  1.61it/s]"
     ]
    },
    {
     "name": "stdout",
     "output_type": "stream",
     "text": [
      "(100/636) Data: 0.089s | Batch: 0.708s | Total: 0:01:10 | ETA: 0:05:35 | Loss: 0.1807 | top1:  92.0179\n"
     ]
    },
    {
     "name": "stderr",
     "output_type": "stream",
     "text": [
      " 31%|█████████████████████████▏                                                      | 200/636 [02:13<04:31,  1.60it/s]"
     ]
    },
    {
     "name": "stdout",
     "output_type": "stream",
     "text": [
      "(200/636) Data: 0.045s | Batch: 0.666s | Total: 0:02:13 | ETA: 0:04:33 | Loss: 0.1807 | top1:  92.0147\n"
     ]
    },
    {
     "name": "stderr",
     "output_type": "stream",
     "text": [
      " 47%|█████████████████████████████████████▋                                          | 300/636 [03:15<03:29,  1.61it/s]"
     ]
    },
    {
     "name": "stdout",
     "output_type": "stream",
     "text": [
      "(300/636) Data: 0.031s | Batch: 0.652s | Total: 0:03:15 | ETA: 0:03:30 | Loss: 0.1809 | top1:  92.0130\n"
     ]
    },
    {
     "name": "stderr",
     "output_type": "stream",
     "text": [
      " 63%|██████████████████████████████████████████████████▎                             | 400/636 [04:17<02:26,  1.61it/s]"
     ]
    },
    {
     "name": "stdout",
     "output_type": "stream",
     "text": [
      "(400/636) Data: 0.023s | Batch: 0.645s | Total: 0:04:17 | ETA: 0:02:28 | Loss: 0.1812 | top1:  91.9966\n"
     ]
    },
    {
     "name": "stderr",
     "output_type": "stream",
     "text": [
      " 79%|██████████████████████████████████████████████████████████████▉                 | 500/636 [05:20<01:24,  1.60it/s]"
     ]
    },
    {
     "name": "stdout",
     "output_type": "stream",
     "text": [
      "(500/636) Data: 0.019s | Batch: 0.641s | Total: 0:05:20 | ETA: 0:01:26 | Loss: 0.1815 | top1:  91.9762\n"
     ]
    },
    {
     "name": "stderr",
     "output_type": "stream",
     "text": [
      " 94%|███████████████████████████████████████████████████████████████████████████▍    | 600/636 [06:22<00:22,  1.60it/s]"
     ]
    },
    {
     "name": "stdout",
     "output_type": "stream",
     "text": [
      "(600/636) Data: 0.016s | Batch: 0.638s | Total: 0:06:22 | ETA: 0:00:24 | Loss: 0.1817 | top1:  91.9668\n"
     ]
    },
    {
     "name": "stderr",
     "output_type": "stream",
     "text": [
      "100%|████████████████████████████████████████████████████████████████████████████████| 636/636 [06:45<00:00,  1.57it/s]\n",
      "100%|████████████████████████████████████████████████████████████████████████████████| 156/156 [00:24<00:00,  6.35it/s]\n"
     ]
    },
    {
     "name": "stdout",
     "output_type": "stream",
     "text": [
      "=> saving checkpoint 'checkpoints\\checkpoint.pth.tar'\n"
     ]
    },
    {
     "name": "stderr",
     "output_type": "stream",
     "text": [
      "  0%|                                                                                          | 0/636 [00:00<?, ?it/s]"
     ]
    },
    {
     "name": "stdout",
     "output_type": "stream",
     "text": [
      "\n",
      "Epoch: [20 | 60] LR: 0.100000\n"
     ]
    },
    {
     "name": "stderr",
     "output_type": "stream",
     "text": [
      " 16%|████████████▌                                                                   | 100/636 [01:11<05:34,  1.60it/s]"
     ]
    },
    {
     "name": "stdout",
     "output_type": "stream",
     "text": [
      "(100/636) Data: 0.091s | Batch: 0.710s | Total: 0:01:11 | ETA: 0:05:35 | Loss: 0.1789 | top1:  92.0955\n"
     ]
    },
    {
     "name": "stderr",
     "output_type": "stream",
     "text": [
      " 31%|█████████████████████████▏                                                      | 200/636 [02:13<04:31,  1.60it/s]"
     ]
    },
    {
     "name": "stdout",
     "output_type": "stream",
     "text": [
      "(200/636) Data: 0.046s | Batch: 0.667s | Total: 0:02:13 | ETA: 0:04:33 | Loss: 0.1790 | top1:  92.0797\n"
     ]
    },
    {
     "name": "stderr",
     "output_type": "stream",
     "text": [
      " 47%|█████████████████████████████████████▋                                          | 300/636 [03:15<03:29,  1.60it/s]"
     ]
    },
    {
     "name": "stdout",
     "output_type": "stream",
     "text": [
      "(300/636) Data: 0.031s | Batch: 0.653s | Total: 0:03:15 | ETA: 0:03:31 | Loss: 0.1796 | top1:  92.0518\n"
     ]
    },
    {
     "name": "stderr",
     "output_type": "stream",
     "text": [
      " 63%|██████████████████████████████████████████████████▎                             | 400/636 [04:18<02:27,  1.60it/s]"
     ]
    },
    {
     "name": "stdout",
     "output_type": "stream",
     "text": [
      "(400/636) Data: 0.024s | Batch: 0.646s | Total: 0:04:18 | ETA: 0:02:29 | Loss: 0.1800 | top1:  92.0332\n"
     ]
    },
    {
     "name": "stderr",
     "output_type": "stream",
     "text": [
      " 79%|██████████████████████████████████████████████████████████████▉                 | 500/636 [05:20<01:24,  1.60it/s]"
     ]
    },
    {
     "name": "stdout",
     "output_type": "stream",
     "text": [
      "(500/636) Data: 0.019s | Batch: 0.641s | Total: 0:05:20 | ETA: 0:01:26 | Loss: 0.1801 | top1:  92.0210\n"
     ]
    },
    {
     "name": "stderr",
     "output_type": "stream",
     "text": [
      " 94%|███████████████████████████████████████████████████████████████████████████▍    | 600/636 [06:23<00:22,  1.60it/s]"
     ]
    },
    {
     "name": "stdout",
     "output_type": "stream",
     "text": [
      "(600/636) Data: 0.016s | Batch: 0.639s | Total: 0:06:23 | ETA: 0:00:24 | Loss: 0.1802 | top1:  92.0222\n"
     ]
    },
    {
     "name": "stderr",
     "output_type": "stream",
     "text": [
      "100%|████████████████████████████████████████████████████████████████████████████████| 636/636 [06:46<00:00,  1.57it/s]\n",
      "100%|████████████████████████████████████████████████████████████████████████████████| 156/156 [00:24<00:00,  6.36it/s]\n"
     ]
    },
    {
     "name": "stdout",
     "output_type": "stream",
     "text": [
      "=> saving checkpoint 'checkpoints\\checkpoint.pth.tar'\n"
     ]
    },
    {
     "name": "stderr",
     "output_type": "stream",
     "text": [
      "  0%|                                                                                          | 0/636 [00:00<?, ?it/s]"
     ]
    },
    {
     "name": "stdout",
     "output_type": "stream",
     "text": [
      "\n",
      "Epoch: [21 | 60] LR: 0.100000\n"
     ]
    },
    {
     "name": "stderr",
     "output_type": "stream",
     "text": [
      " 16%|████████████▌                                                                   | 100/636 [01:10<05:34,  1.60it/s]"
     ]
    },
    {
     "name": "stdout",
     "output_type": "stream",
     "text": [
      "(100/636) Data: 0.091s | Batch: 0.710s | Total: 0:01:10 | ETA: 0:05:35 | Loss: 0.1762 | top1:  92.1864\n"
     ]
    },
    {
     "name": "stderr",
     "output_type": "stream",
     "text": [
      " 31%|█████████████████████████▏                                                      | 200/636 [02:13<04:31,  1.60it/s]"
     ]
    },
    {
     "name": "stdout",
     "output_type": "stream",
     "text": [
      "(200/636) Data: 0.046s | Batch: 0.667s | Total: 0:02:13 | ETA: 0:04:33 | Loss: 0.1766 | top1:  92.1646\n"
     ]
    },
    {
     "name": "stderr",
     "output_type": "stream",
     "text": [
      " 47%|█████████████████████████████████████▋                                          | 300/636 [03:15<03:29,  1.60it/s]"
     ]
    },
    {
     "name": "stdout",
     "output_type": "stream",
     "text": [
      "(300/636) Data: 0.031s | Batch: 0.652s | Total: 0:03:15 | ETA: 0:03:31 | Loss: 0.1774 | top1:  92.1399\n"
     ]
    },
    {
     "name": "stderr",
     "output_type": "stream",
     "text": [
      " 63%|██████████████████████████████████████████████████▎                             | 400/636 [04:18<02:27,  1.60it/s]"
     ]
    },
    {
     "name": "stdout",
     "output_type": "stream",
     "text": [
      "(400/636) Data: 0.024s | Batch: 0.645s | Total: 0:04:18 | ETA: 0:02:29 | Loss: 0.1781 | top1:  92.1133\n"
     ]
    },
    {
     "name": "stderr",
     "output_type": "stream",
     "text": [
      " 79%|██████████████████████████████████████████████████████████████▉                 | 500/636 [05:20<01:24,  1.60it/s]"
     ]
    },
    {
     "name": "stdout",
     "output_type": "stream",
     "text": [
      "(500/636) Data: 0.019s | Batch: 0.641s | Total: 0:05:20 | ETA: 0:01:26 | Loss: 0.1785 | top1:  92.0940\n"
     ]
    },
    {
     "name": "stderr",
     "output_type": "stream",
     "text": [
      " 94%|███████████████████████████████████████████████████████████████████████████▍    | 600/636 [06:23<00:22,  1.60it/s]"
     ]
    },
    {
     "name": "stdout",
     "output_type": "stream",
     "text": [
      "(600/636) Data: 0.016s | Batch: 0.638s | Total: 0:06:23 | ETA: 0:00:24 | Loss: 0.1787 | top1:  92.0859\n"
     ]
    },
    {
     "name": "stderr",
     "output_type": "stream",
     "text": [
      "100%|████████████████████████████████████████████████████████████████████████████████| 636/636 [06:46<00:00,  1.57it/s]\n",
      "100%|████████████████████████████████████████████████████████████████████████████████| 156/156 [00:24<00:00,  6.36it/s]\n"
     ]
    },
    {
     "name": "stdout",
     "output_type": "stream",
     "text": [
      "=> saving checkpoint 'checkpoints\\checkpoint.pth.tar'\n"
     ]
    },
    {
     "name": "stderr",
     "output_type": "stream",
     "text": [
      "  0%|                                                                                          | 0/636 [00:00<?, ?it/s]"
     ]
    },
    {
     "name": "stdout",
     "output_type": "stream",
     "text": [
      "\n",
      "Epoch: [22 | 60] LR: 0.100000\n"
     ]
    },
    {
     "name": "stderr",
     "output_type": "stream",
     "text": [
      " 16%|████████████▌                                                                   | 100/636 [01:10<05:34,  1.60it/s]"
     ]
    },
    {
     "name": "stdout",
     "output_type": "stream",
     "text": [
      "(100/636) Data: 0.093s | Batch: 0.710s | Total: 0:01:10 | ETA: 0:05:35 | Loss: 0.1750 | top1:  92.2330\n"
     ]
    },
    {
     "name": "stderr",
     "output_type": "stream",
     "text": [
      " 31%|█████████████████████████▏                                                      | 200/636 [02:13<04:31,  1.60it/s]"
     ]
    },
    {
     "name": "stdout",
     "output_type": "stream",
     "text": [
      "(200/636) Data: 0.047s | Batch: 0.667s | Total: 0:02:13 | ETA: 0:04:33 | Loss: 0.1756 | top1:  92.2170\n"
     ]
    },
    {
     "name": "stderr",
     "output_type": "stream",
     "text": [
      " 47%|█████████████████████████████████████▋                                          | 300/636 [03:15<03:30,  1.60it/s]"
     ]
    },
    {
     "name": "stdout",
     "output_type": "stream",
     "text": [
      "(300/636) Data: 0.032s | Batch: 0.652s | Total: 0:03:15 | ETA: 0:03:31 | Loss: 0.1763 | top1:  92.2007\n"
     ]
    },
    {
     "name": "stderr",
     "output_type": "stream",
     "text": [
      " 63%|██████████████████████████████████████████████████▎                             | 400/636 [04:18<02:27,  1.60it/s]"
     ]
    },
    {
     "name": "stdout",
     "output_type": "stream",
     "text": [
      "(400/636) Data: 0.024s | Batch: 0.646s | Total: 0:04:18 | ETA: 0:02:29 | Loss: 0.1768 | top1:  92.1821\n"
     ]
    },
    {
     "name": "stderr",
     "output_type": "stream",
     "text": [
      " 79%|██████████████████████████████████████████████████████████████▉                 | 500/636 [05:20<01:24,  1.61it/s]"
     ]
    },
    {
     "name": "stdout",
     "output_type": "stream",
     "text": [
      "(500/636) Data: 0.020s | Batch: 0.642s | Total: 0:05:20 | ETA: 0:01:26 | Loss: 0.1771 | top1:  92.1682\n"
     ]
    },
    {
     "name": "stderr",
     "output_type": "stream",
     "text": [
      " 94%|███████████████████████████████████████████████████████████████████████████▍    | 600/636 [06:23<00:22,  1.60it/s]"
     ]
    },
    {
     "name": "stdout",
     "output_type": "stream",
     "text": [
      "(600/636) Data: 0.017s | Batch: 0.639s | Total: 0:06:23 | ETA: 0:00:24 | Loss: 0.1774 | top1:  92.1527\n"
     ]
    },
    {
     "name": "stderr",
     "output_type": "stream",
     "text": [
      "100%|████████████████████████████████████████████████████████████████████████████████| 636/636 [06:46<00:00,  1.56it/s]\n",
      "100%|████████████████████████████████████████████████████████████████████████████████| 156/156 [00:24<00:00,  6.35it/s]\n"
     ]
    },
    {
     "name": "stdout",
     "output_type": "stream",
     "text": [
      "=> saving checkpoint 'checkpoints\\checkpoint.pth.tar'\n"
     ]
    },
    {
     "name": "stderr",
     "output_type": "stream",
     "text": [
      "  0%|                                                                                          | 0/636 [00:00<?, ?it/s]"
     ]
    },
    {
     "name": "stdout",
     "output_type": "stream",
     "text": [
      "\n",
      "Epoch: [23 | 60] LR: 0.100000\n"
     ]
    },
    {
     "name": "stderr",
     "output_type": "stream",
     "text": [
      " 16%|████████████▌                                                                   | 100/636 [01:11<05:33,  1.61it/s]"
     ]
    },
    {
     "name": "stdout",
     "output_type": "stream",
     "text": [
      "(100/636) Data: 0.091s | Batch: 0.710s | Total: 0:01:11 | ETA: 0:05:34 | Loss: 0.1746 | top1:  92.2891\n"
     ]
    },
    {
     "name": "stderr",
     "output_type": "stream",
     "text": [
      " 31%|█████████████████████████▏                                                      | 200/636 [02:13<04:31,  1.61it/s]"
     ]
    },
    {
     "name": "stdout",
     "output_type": "stream",
     "text": [
      "(200/636) Data: 0.046s | Batch: 0.667s | Total: 0:02:13 | ETA: 0:04:33 | Loss: 0.1748 | top1:  92.2690\n"
     ]
    },
    {
     "name": "stderr",
     "output_type": "stream",
     "text": [
      " 47%|█████████████████████████████████████▋                                          | 300/636 [03:15<03:29,  1.60it/s]"
     ]
    },
    {
     "name": "stdout",
     "output_type": "stream",
     "text": [
      "(300/636) Data: 0.031s | Batch: 0.653s | Total: 0:03:15 | ETA: 0:03:31 | Loss: 0.1752 | top1:  92.2535\n"
     ]
    },
    {
     "name": "stderr",
     "output_type": "stream",
     "text": [
      " 63%|██████████████████████████████████████████████████▎                             | 400/636 [04:18<02:27,  1.61it/s]"
     ]
    },
    {
     "name": "stdout",
     "output_type": "stream",
     "text": [
      "(400/636) Data: 0.024s | Batch: 0.645s | Total: 0:04:18 | ETA: 0:02:28 | Loss: 0.1754 | top1:  92.2445\n"
     ]
    },
    {
     "name": "stderr",
     "output_type": "stream",
     "text": [
      " 79%|██████████████████████████████████████████████████████████████▉                 | 500/636 [05:20<01:25,  1.60it/s]"
     ]
    },
    {
     "name": "stdout",
     "output_type": "stream",
     "text": [
      "(500/636) Data: 0.019s | Batch: 0.641s | Total: 0:05:20 | ETA: 0:01:26 | Loss: 0.1759 | top1:  92.2217\n"
     ]
    },
    {
     "name": "stderr",
     "output_type": "stream",
     "text": [
      " 94%|███████████████████████████████████████████████████████████████████████████▍    | 600/636 [06:23<00:22,  1.60it/s]"
     ]
    },
    {
     "name": "stdout",
     "output_type": "stream",
     "text": [
      "(600/636) Data: 0.016s | Batch: 0.638s | Total: 0:06:23 | ETA: 0:00:24 | Loss: 0.1761 | top1:  92.2073\n"
     ]
    },
    {
     "name": "stderr",
     "output_type": "stream",
     "text": [
      "100%|████████████████████████████████████████████████████████████████████████████████| 636/636 [06:46<00:00,  1.57it/s]\n",
      "100%|████████████████████████████████████████████████████████████████████████████████| 156/156 [00:24<00:00,  6.33it/s]\n"
     ]
    },
    {
     "name": "stdout",
     "output_type": "stream",
     "text": [
      "=> saving checkpoint 'checkpoints\\checkpoint.pth.tar'\n"
     ]
    },
    {
     "name": "stderr",
     "output_type": "stream",
     "text": [
      "  0%|                                                                                          | 0/636 [00:00<?, ?it/s]"
     ]
    },
    {
     "name": "stdout",
     "output_type": "stream",
     "text": [
      "\n",
      "Epoch: [24 | 60] LR: 0.100000\n"
     ]
    },
    {
     "name": "stderr",
     "output_type": "stream",
     "text": [
      " 16%|████████████▌                                                                   | 100/636 [01:11<05:33,  1.61it/s]"
     ]
    },
    {
     "name": "stdout",
     "output_type": "stream",
     "text": [
      "(100/636) Data: 0.090s | Batch: 0.711s | Total: 0:01:11 | ETA: 0:05:36 | Loss: 0.1721 | top1:  92.3725\n"
     ]
    },
    {
     "name": "stderr",
     "output_type": "stream",
     "text": [
      " 31%|█████████████████████████▏                                                      | 200/636 [02:13<04:32,  1.60it/s]"
     ]
    },
    {
     "name": "stdout",
     "output_type": "stream",
     "text": [
      "(200/636) Data: 0.046s | Batch: 0.667s | Total: 0:02:13 | ETA: 0:04:34 | Loss: 0.1732 | top1:  92.3381\n"
     ]
    },
    {
     "name": "stderr",
     "output_type": "stream",
     "text": [
      " 47%|█████████████████████████████████████▋                                          | 300/636 [03:15<03:30,  1.60it/s]"
     ]
    },
    {
     "name": "stdout",
     "output_type": "stream",
     "text": [
      "(300/636) Data: 0.031s | Batch: 0.653s | Total: 0:03:15 | ETA: 0:03:31 | Loss: 0.1738 | top1:  92.3011\n"
     ]
    },
    {
     "name": "stderr",
     "output_type": "stream",
     "text": [
      " 63%|██████████████████████████████████████████████████▎                             | 400/636 [04:18<02:27,  1.60it/s]"
     ]
    },
    {
     "name": "stdout",
     "output_type": "stream",
     "text": [
      "(400/636) Data: 0.024s | Batch: 0.646s | Total: 0:04:18 | ETA: 0:02:28 | Loss: 0.1741 | top1:  92.2883\n"
     ]
    },
    {
     "name": "stderr",
     "output_type": "stream",
     "text": [
      " 79%|██████████████████████████████████████████████████████████████▉                 | 500/636 [05:20<01:24,  1.60it/s]"
     ]
    },
    {
     "name": "stdout",
     "output_type": "stream",
     "text": [
      "(500/636) Data: 0.019s | Batch: 0.642s | Total: 0:05:20 | ETA: 0:01:26 | Loss: 0.1745 | top1:  92.2754\n"
     ]
    },
    {
     "name": "stderr",
     "output_type": "stream",
     "text": [
      " 94%|███████████████████████████████████████████████████████████████████████████▍    | 600/636 [06:23<00:22,  1.60it/s]"
     ]
    },
    {
     "name": "stdout",
     "output_type": "stream",
     "text": [
      "(600/636) Data: 0.016s | Batch: 0.639s | Total: 0:06:23 | ETA: 0:00:24 | Loss: 0.1749 | top1:  92.2551\n"
     ]
    },
    {
     "name": "stderr",
     "output_type": "stream",
     "text": [
      "100%|████████████████████████████████████████████████████████████████████████████████| 636/636 [06:46<00:00,  1.56it/s]\n",
      "100%|████████████████████████████████████████████████████████████████████████████████| 156/156 [00:24<00:00,  6.33it/s]\n"
     ]
    },
    {
     "name": "stdout",
     "output_type": "stream",
     "text": [
      "=> saving checkpoint 'checkpoints\\checkpoint.pth.tar'\n"
     ]
    },
    {
     "name": "stderr",
     "output_type": "stream",
     "text": [
      "  0%|                                                                                          | 0/636 [00:00<?, ?it/s]"
     ]
    },
    {
     "name": "stdout",
     "output_type": "stream",
     "text": [
      "\n",
      "Epoch: [25 | 60] LR: 0.100000\n"
     ]
    },
    {
     "name": "stderr",
     "output_type": "stream",
     "text": [
      " 16%|████████████▌                                                                   | 100/636 [01:11<05:33,  1.61it/s]"
     ]
    },
    {
     "name": "stdout",
     "output_type": "stream",
     "text": [
      "(100/636) Data: 0.091s | Batch: 0.710s | Total: 0:01:11 | ETA: 0:05:35 | Loss: 0.1707 | top1:  92.4546\n"
     ]
    },
    {
     "name": "stderr",
     "output_type": "stream",
     "text": [
      " 31%|█████████████████████████▏                                                      | 200/636 [02:13<04:31,  1.61it/s]"
     ]
    },
    {
     "name": "stdout",
     "output_type": "stream",
     "text": [
      "(200/636) Data: 0.046s | Batch: 0.667s | Total: 0:02:13 | ETA: 0:04:33 | Loss: 0.1716 | top1:  92.4065\n"
     ]
    },
    {
     "name": "stderr",
     "output_type": "stream",
     "text": [
      " 47%|█████████████████████████████████████▋                                          | 300/636 [03:15<03:30,  1.60it/s]"
     ]
    },
    {
     "name": "stdout",
     "output_type": "stream",
     "text": [
      "(300/636) Data: 0.031s | Batch: 0.653s | Total: 0:03:15 | ETA: 0:03:31 | Loss: 0.1722 | top1:  92.3758\n"
     ]
    },
    {
     "name": "stderr",
     "output_type": "stream",
     "text": [
      " 63%|██████████████████████████████████████████████████▎                             | 400/636 [04:18<02:27,  1.60it/s]"
     ]
    },
    {
     "name": "stdout",
     "output_type": "stream",
     "text": [
      "(400/636) Data: 0.024s | Batch: 0.646s | Total: 0:04:18 | ETA: 0:02:29 | Loss: 0.1728 | top1:  92.3480\n"
     ]
    },
    {
     "name": "stderr",
     "output_type": "stream",
     "text": [
      " 79%|██████████████████████████████████████████████████████████████▉                 | 500/636 [05:20<01:24,  1.61it/s]"
     ]
    },
    {
     "name": "stdout",
     "output_type": "stream",
     "text": [
      "(500/636) Data: 0.019s | Batch: 0.641s | Total: 0:05:20 | ETA: 0:01:26 | Loss: 0.1732 | top1:  92.3335\n"
     ]
    },
    {
     "name": "stderr",
     "output_type": "stream",
     "text": [
      " 94%|███████████████████████████████████████████████████████████████████████████▍    | 600/636 [06:23<00:22,  1.60it/s]"
     ]
    },
    {
     "name": "stdout",
     "output_type": "stream",
     "text": [
      "(600/636) Data: 0.016s | Batch: 0.639s | Total: 0:06:23 | ETA: 0:00:24 | Loss: 0.1737 | top1:  92.3155\n"
     ]
    },
    {
     "name": "stderr",
     "output_type": "stream",
     "text": [
      "100%|████████████████████████████████████████████████████████████████████████████████| 636/636 [06:46<00:00,  1.57it/s]\n",
      "100%|████████████████████████████████████████████████████████████████████████████████| 156/156 [00:24<00:00,  6.34it/s]\n"
     ]
    },
    {
     "name": "stdout",
     "output_type": "stream",
     "text": [
      "=> saving checkpoint 'checkpoints\\checkpoint.pth.tar'\n"
     ]
    },
    {
     "name": "stderr",
     "output_type": "stream",
     "text": [
      "  0%|                                                                                          | 0/636 [00:00<?, ?it/s]"
     ]
    },
    {
     "name": "stdout",
     "output_type": "stream",
     "text": [
      "\n",
      "Epoch: [26 | 60] LR: 0.100000\n"
     ]
    },
    {
     "name": "stderr",
     "output_type": "stream",
     "text": [
      " 16%|████████████▌                                                                   | 100/636 [01:11<05:33,  1.61it/s]"
     ]
    },
    {
     "name": "stdout",
     "output_type": "stream",
     "text": [
      "(100/636) Data: 0.092s | Batch: 0.711s | Total: 0:01:11 | ETA: 0:05:35 | Loss: 0.1689 | top1:  92.5215\n"
     ]
    },
    {
     "name": "stderr",
     "output_type": "stream",
     "text": [
      " 31%|█████████████████████████▏                                                      | 200/636 [02:13<04:32,  1.60it/s]"
     ]
    },
    {
     "name": "stdout",
     "output_type": "stream",
     "text": [
      "(200/636) Data: 0.047s | Batch: 0.667s | Total: 0:02:13 | ETA: 0:04:33 | Loss: 0.1702 | top1:  92.4597\n"
     ]
    },
    {
     "name": "stderr",
     "output_type": "stream",
     "text": [
      " 47%|█████████████████████████████████████▋                                          | 300/636 [03:15<03:30,  1.60it/s]"
     ]
    },
    {
     "name": "stdout",
     "output_type": "stream",
     "text": [
      "(300/636) Data: 0.032s | Batch: 0.653s | Total: 0:03:15 | ETA: 0:03:31 | Loss: 0.1712 | top1:  92.4178\n"
     ]
    },
    {
     "name": "stderr",
     "output_type": "stream",
     "text": [
      " 63%|██████████████████████████████████████████████████▎                             | 400/636 [04:18<02:27,  1.60it/s]"
     ]
    },
    {
     "name": "stdout",
     "output_type": "stream",
     "text": [
      "(400/636) Data: 0.024s | Batch: 0.646s | Total: 0:04:18 | ETA: 0:02:28 | Loss: 0.1717 | top1:  92.3969\n"
     ]
    },
    {
     "name": "stderr",
     "output_type": "stream",
     "text": [
      " 79%|██████████████████████████████████████████████████████████████▉                 | 500/636 [05:20<01:25,  1.60it/s]"
     ]
    },
    {
     "name": "stdout",
     "output_type": "stream",
     "text": [
      "(500/636) Data: 0.020s | Batch: 0.641s | Total: 0:05:20 | ETA: 0:01:26 | Loss: 0.1721 | top1:  92.3829\n"
     ]
    },
    {
     "name": "stderr",
     "output_type": "stream",
     "text": [
      " 94%|███████████████████████████████████████████████████████████████████████████▍    | 600/636 [06:23<00:22,  1.60it/s]"
     ]
    },
    {
     "name": "stdout",
     "output_type": "stream",
     "text": [
      "(600/636) Data: 0.017s | Batch: 0.639s | Total: 0:06:23 | ETA: 0:00:24 | Loss: 0.1725 | top1:  92.3664\n"
     ]
    },
    {
     "name": "stderr",
     "output_type": "stream",
     "text": [
      "100%|████████████████████████████████████████████████████████████████████████████████| 636/636 [06:46<00:00,  1.56it/s]\n",
      "100%|████████████████████████████████████████████████████████████████████████████████| 156/156 [00:24<00:00,  6.30it/s]\n"
     ]
    },
    {
     "name": "stdout",
     "output_type": "stream",
     "text": [
      "=> saving checkpoint 'checkpoints\\checkpoint.pth.tar'\n"
     ]
    },
    {
     "name": "stderr",
     "output_type": "stream",
     "text": [
      "  0%|                                                                                          | 0/636 [00:00<?, ?it/s]"
     ]
    },
    {
     "name": "stdout",
     "output_type": "stream",
     "text": [
      "\n",
      "Epoch: [27 | 60] LR: 0.100000\n"
     ]
    },
    {
     "name": "stderr",
     "output_type": "stream",
     "text": [
      " 16%|████████████▌                                                                   | 100/636 [01:11<05:34,  1.60it/s]"
     ]
    },
    {
     "name": "stdout",
     "output_type": "stream",
     "text": [
      "(100/636) Data: 0.095s | Batch: 0.714s | Total: 0:01:11 | ETA: 0:05:35 | Loss: 0.1682 | top1:  92.5582\n"
     ]
    },
    {
     "name": "stderr",
     "output_type": "stream",
     "text": [
      " 31%|█████████████████████████▏                                                      | 200/636 [02:13<04:31,  1.60it/s]"
     ]
    },
    {
     "name": "stdout",
     "output_type": "stream",
     "text": [
      "(200/636) Data: 0.048s | Batch: 0.669s | Total: 0:02:13 | ETA: 0:04:34 | Loss: 0.1691 | top1:  92.5168\n"
     ]
    },
    {
     "name": "stderr",
     "output_type": "stream",
     "text": [
      " 47%|█████████████████████████████████████▋                                          | 300/636 [03:16<03:30,  1.60it/s]"
     ]
    },
    {
     "name": "stdout",
     "output_type": "stream",
     "text": [
      "(300/636) Data: 0.033s | Batch: 0.654s | Total: 0:03:16 | ETA: 0:03:31 | Loss: 0.1699 | top1:  92.4872\n"
     ]
    },
    {
     "name": "stderr",
     "output_type": "stream",
     "text": [
      " 63%|██████████████████████████████████████████████████▎                             | 400/636 [04:18<02:27,  1.60it/s]"
     ]
    },
    {
     "name": "stdout",
     "output_type": "stream",
     "text": [
      "(400/636) Data: 0.025s | Batch: 0.646s | Total: 0:04:18 | ETA: 0:02:29 | Loss: 0.1706 | top1:  92.4509\n"
     ]
    },
    {
     "name": "stderr",
     "output_type": "stream",
     "text": [
      " 79%|██████████████████████████████████████████████████████████████▉                 | 500/636 [05:21<01:25,  1.60it/s]"
     ]
    },
    {
     "name": "stdout",
     "output_type": "stream",
     "text": [
      "(500/636) Data: 0.020s | Batch: 0.642s | Total: 0:05:21 | ETA: 0:01:26 | Loss: 0.1710 | top1:  92.4383\n"
     ]
    },
    {
     "name": "stderr",
     "output_type": "stream",
     "text": [
      " 94%|███████████████████████████████████████████████████████████████████████████▍    | 600/636 [06:23<00:22,  1.60it/s]"
     ]
    },
    {
     "name": "stdout",
     "output_type": "stream",
     "text": [
      "(600/636) Data: 0.017s | Batch: 0.639s | Total: 0:06:23 | ETA: 0:00:24 | Loss: 0.1713 | top1:  92.4249\n"
     ]
    },
    {
     "name": "stderr",
     "output_type": "stream",
     "text": [
      "100%|████████████████████████████████████████████████████████████████████████████████| 636/636 [06:46<00:00,  1.56it/s]\n",
      "100%|████████████████████████████████████████████████████████████████████████████████| 156/156 [00:24<00:00,  6.31it/s]\n"
     ]
    },
    {
     "name": "stdout",
     "output_type": "stream",
     "text": [
      "=> saving checkpoint 'checkpoints\\checkpoint.pth.tar'\n"
     ]
    },
    {
     "name": "stderr",
     "output_type": "stream",
     "text": [
      "  0%|                                                                                          | 0/636 [00:00<?, ?it/s]"
     ]
    },
    {
     "name": "stdout",
     "output_type": "stream",
     "text": [
      "\n",
      "Epoch: [28 | 60] LR: 0.100000\n"
     ]
    },
    {
     "name": "stderr",
     "output_type": "stream",
     "text": [
      " 16%|████████████▌                                                                   | 100/636 [01:10<05:33,  1.61it/s]"
     ]
    },
    {
     "name": "stdout",
     "output_type": "stream",
     "text": [
      "(100/636) Data: 0.090s | Batch: 0.709s | Total: 0:01:10 | ETA: 0:05:35 | Loss: 0.1658 | top1:  92.6855\n"
     ]
    },
    {
     "name": "stderr",
     "output_type": "stream",
     "text": [
      " 31%|█████████████████████████▏                                                      | 200/636 [02:13<04:32,  1.60it/s]"
     ]
    },
    {
     "name": "stdout",
     "output_type": "stream",
     "text": [
      "(200/636) Data: 0.046s | Batch: 0.667s | Total: 0:02:13 | ETA: 0:04:33 | Loss: 0.1676 | top1:  92.6038\n"
     ]
    },
    {
     "name": "stderr",
     "output_type": "stream",
     "text": [
      " 47%|█████████████████████████████████████▋                                          | 300/636 [03:15<03:29,  1.60it/s]"
     ]
    },
    {
     "name": "stdout",
     "output_type": "stream",
     "text": [
      "(300/636) Data: 0.031s | Batch: 0.653s | Total: 0:03:15 | ETA: 0:03:31 | Loss: 0.1683 | top1:  92.5694\n"
     ]
    },
    {
     "name": "stderr",
     "output_type": "stream",
     "text": [
      " 63%|██████████████████████████████████████████████████▎                             | 400/636 [04:18<02:27,  1.60it/s]"
     ]
    },
    {
     "name": "stdout",
     "output_type": "stream",
     "text": [
      "(400/636) Data: 0.024s | Batch: 0.645s | Total: 0:04:18 | ETA: 0:02:28 | Loss: 0.1689 | top1:  92.5272\n"
     ]
    },
    {
     "name": "stderr",
     "output_type": "stream",
     "text": [
      " 79%|██████████████████████████████████████████████████████████████▉                 | 500/636 [05:20<01:24,  1.60it/s]"
     ]
    },
    {
     "name": "stdout",
     "output_type": "stream",
     "text": [
      "(500/636) Data: 0.019s | Batch: 0.641s | Total: 0:05:20 | ETA: 0:01:26 | Loss: 0.1693 | top1:  92.5096\n"
     ]
    },
    {
     "name": "stderr",
     "output_type": "stream",
     "text": [
      " 94%|███████████████████████████████████████████████████████████████████████████▍    | 600/636 [06:23<00:22,  1.61it/s]"
     ]
    },
    {
     "name": "stdout",
     "output_type": "stream",
     "text": [
      "(600/636) Data: 0.016s | Batch: 0.638s | Total: 0:06:23 | ETA: 0:00:24 | Loss: 0.1699 | top1:  92.4847\n"
     ]
    },
    {
     "name": "stderr",
     "output_type": "stream",
     "text": [
      "100%|████████████████████████████████████████████████████████████████████████████████| 636/636 [06:46<00:00,  1.57it/s]\n",
      "100%|████████████████████████████████████████████████████████████████████████████████| 156/156 [00:24<00:00,  6.36it/s]\n"
     ]
    },
    {
     "name": "stdout",
     "output_type": "stream",
     "text": [
      "=> saving checkpoint 'checkpoints\\checkpoint.pth.tar'\n"
     ]
    },
    {
     "name": "stderr",
     "output_type": "stream",
     "text": [
      "  0%|                                                                                          | 0/636 [00:00<?, ?it/s]"
     ]
    },
    {
     "name": "stdout",
     "output_type": "stream",
     "text": [
      "\n",
      "Epoch: [29 | 60] LR: 0.100000\n"
     ]
    },
    {
     "name": "stderr",
     "output_type": "stream",
     "text": [
      " 16%|████████████▌                                                                   | 100/636 [01:10<05:34,  1.60it/s]"
     ]
    },
    {
     "name": "stdout",
     "output_type": "stream",
     "text": [
      "(100/636) Data: 0.090s | Batch: 0.710s | Total: 0:01:10 | ETA: 0:05:35 | Loss: 0.1654 | top1:  92.7028\n"
     ]
    },
    {
     "name": "stderr",
     "output_type": "stream",
     "text": [
      " 31%|█████████████████████████▏                                                      | 200/636 [02:13<04:31,  1.60it/s]"
     ]
    },
    {
     "name": "stdout",
     "output_type": "stream",
     "text": [
      "(200/636) Data: 0.046s | Batch: 0.667s | Total: 0:02:13 | ETA: 0:04:34 | Loss: 0.1666 | top1:  92.6271\n"
     ]
    },
    {
     "name": "stderr",
     "output_type": "stream",
     "text": [
      " 47%|█████████████████████████████████████▋                                          | 300/636 [03:15<03:28,  1.61it/s]"
     ]
    },
    {
     "name": "stdout",
     "output_type": "stream",
     "text": [
      "(300/636) Data: 0.031s | Batch: 0.652s | Total: 0:03:15 | ETA: 0:03:31 | Loss: 0.1677 | top1:  92.5882\n"
     ]
    },
    {
     "name": "stderr",
     "output_type": "stream",
     "text": [
      " 63%|██████████████████████████████████████████████████▎                             | 400/636 [04:18<02:27,  1.60it/s]"
     ]
    },
    {
     "name": "stdout",
     "output_type": "stream",
     "text": [
      "(400/636) Data: 0.024s | Batch: 0.645s | Total: 0:04:18 | ETA: 0:02:28 | Loss: 0.1681 | top1:  92.5663\n"
     ]
    },
    {
     "name": "stderr",
     "output_type": "stream",
     "text": [
      " 79%|██████████████████████████████████████████████████████████████▉                 | 500/636 [05:20<01:25,  1.60it/s]"
     ]
    },
    {
     "name": "stdout",
     "output_type": "stream",
     "text": [
      "(500/636) Data: 0.019s | Batch: 0.641s | Total: 0:05:20 | ETA: 0:01:26 | Loss: 0.1685 | top1:  92.5463\n"
     ]
    },
    {
     "name": "stderr",
     "output_type": "stream",
     "text": [
      " 94%|███████████████████████████████████████████████████████████████████████████▍    | 600/636 [06:22<00:22,  1.60it/s]"
     ]
    },
    {
     "name": "stdout",
     "output_type": "stream",
     "text": [
      "(600/636) Data: 0.016s | Batch: 0.638s | Total: 0:06:22 | ETA: 0:00:24 | Loss: 0.1689 | top1:  92.5251\n"
     ]
    },
    {
     "name": "stderr",
     "output_type": "stream",
     "text": [
      "100%|████████████████████████████████████████████████████████████████████████████████| 636/636 [06:45<00:00,  1.57it/s]\n",
      "100%|████████████████████████████████████████████████████████████████████████████████| 156/156 [00:24<00:00,  6.35it/s]\n"
     ]
    },
    {
     "name": "stdout",
     "output_type": "stream",
     "text": [
      "=> saving checkpoint 'checkpoints\\checkpoint.pth.tar'\n"
     ]
    },
    {
     "name": "stderr",
     "output_type": "stream",
     "text": [
      "  0%|                                                                                          | 0/636 [00:00<?, ?it/s]"
     ]
    },
    {
     "name": "stdout",
     "output_type": "stream",
     "text": [
      "\n",
      "Epoch: [30 | 60] LR: 0.100000\n"
     ]
    },
    {
     "name": "stderr",
     "output_type": "stream",
     "text": [
      " 16%|████████████▌                                                                   | 100/636 [01:11<05:34,  1.60it/s]"
     ]
    },
    {
     "name": "stdout",
     "output_type": "stream",
     "text": [
      "(100/636) Data: 0.095s | Batch: 0.714s | Total: 0:01:11 | ETA: 0:05:35 | Loss: 0.1634 | top1:  92.7958\n"
     ]
    },
    {
     "name": "stderr",
     "output_type": "stream",
     "text": [
      " 31%|█████████████████████████▏                                                      | 200/636 [02:13<04:32,  1.60it/s]"
     ]
    },
    {
     "name": "stdout",
     "output_type": "stream",
     "text": [
      "(200/636) Data: 0.048s | Batch: 0.669s | Total: 0:02:13 | ETA: 0:04:33 | Loss: 0.1651 | top1:  92.7082\n"
     ]
    },
    {
     "name": "stderr",
     "output_type": "stream",
     "text": [
      " 47%|█████████████████████████████████████▋                                          | 300/636 [03:16<03:29,  1.60it/s]"
     ]
    },
    {
     "name": "stdout",
     "output_type": "stream",
     "text": [
      "(300/636) Data: 0.033s | Batch: 0.654s | Total: 0:03:16 | ETA: 0:03:31 | Loss: 0.1659 | top1:  92.6675\n"
     ]
    },
    {
     "name": "stderr",
     "output_type": "stream",
     "text": [
      " 63%|██████████████████████████████████████████████████▎                             | 400/636 [04:18<02:26,  1.61it/s]"
     ]
    },
    {
     "name": "stdout",
     "output_type": "stream",
     "text": [
      "(400/636) Data: 0.025s | Batch: 0.647s | Total: 0:04:18 | ETA: 0:02:28 | Loss: 0.1668 | top1:  92.6349\n"
     ]
    },
    {
     "name": "stderr",
     "output_type": "stream",
     "text": [
      " 79%|██████████████████████████████████████████████████████████████▉                 | 500/636 [05:21<01:24,  1.60it/s]"
     ]
    },
    {
     "name": "stdout",
     "output_type": "stream",
     "text": [
      "(500/636) Data: 0.020s | Batch: 0.642s | Total: 0:05:21 | ETA: 0:01:26 | Loss: 0.1672 | top1:  92.6205\n"
     ]
    },
    {
     "name": "stderr",
     "output_type": "stream",
     "text": [
      " 94%|███████████████████████████████████████████████████████████████████████████▍    | 600/636 [06:23<00:22,  1.60it/s]"
     ]
    },
    {
     "name": "stdout",
     "output_type": "stream",
     "text": [
      "(600/636) Data: 0.017s | Batch: 0.639s | Total: 0:06:23 | ETA: 0:00:24 | Loss: 0.1677 | top1:  92.6005\n"
     ]
    },
    {
     "name": "stderr",
     "output_type": "stream",
     "text": [
      "100%|████████████████████████████████████████████████████████████████████████████████| 636/636 [06:46<00:00,  1.56it/s]\n",
      "100%|████████████████████████████████████████████████████████████████████████████████| 156/156 [00:24<00:00,  6.34it/s]\n"
     ]
    },
    {
     "name": "stdout",
     "output_type": "stream",
     "text": [
      "=> saving checkpoint 'checkpoints\\checkpoint.pth.tar'\n"
     ]
    },
    {
     "name": "stderr",
     "output_type": "stream",
     "text": [
      "  0%|                                                                                          | 0/636 [00:00<?, ?it/s]"
     ]
    },
    {
     "name": "stdout",
     "output_type": "stream",
     "text": [
      "\n",
      "Epoch: [31 | 60] LR: 0.010000\n"
     ]
    },
    {
     "name": "stderr",
     "output_type": "stream",
     "text": [
      " 16%|████████████▌                                                                   | 100/636 [01:11<05:34,  1.60it/s]"
     ]
    },
    {
     "name": "stdout",
     "output_type": "stream",
     "text": [
      "(100/636) Data: 0.092s | Batch: 0.712s | Total: 0:01:11 | ETA: 0:05:36 | Loss: 0.1568 | top1:  93.0857\n"
     ]
    },
    {
     "name": "stderr",
     "output_type": "stream",
     "text": [
      " 31%|█████████████████████████▏                                                      | 200/636 [02:13<04:31,  1.60it/s]"
     ]
    },
    {
     "name": "stdout",
     "output_type": "stream",
     "text": [
      "(200/636) Data: 0.047s | Batch: 0.668s | Total: 0:02:13 | ETA: 0:04:33 | Loss: 0.1546 | top1:  93.1880\n"
     ]
    },
    {
     "name": "stderr",
     "output_type": "stream",
     "text": [
      " 47%|█████████████████████████████████████▋                                          | 300/636 [03:15<03:30,  1.60it/s]"
     ]
    },
    {
     "name": "stdout",
     "output_type": "stream",
     "text": [
      "(300/636) Data: 0.032s | Batch: 0.653s | Total: 0:03:15 | ETA: 0:03:31 | Loss: 0.1531 | top1:  93.2704\n"
     ]
    },
    {
     "name": "stderr",
     "output_type": "stream",
     "text": [
      " 63%|██████████████████████████████████████████████████▎                             | 400/636 [04:18<02:27,  1.60it/s]"
     ]
    },
    {
     "name": "stdout",
     "output_type": "stream",
     "text": [
      "(400/636) Data: 0.024s | Batch: 0.646s | Total: 0:04:18 | ETA: 0:02:29 | Loss: 0.1522 | top1:  93.3096\n"
     ]
    },
    {
     "name": "stderr",
     "output_type": "stream",
     "text": [
      " 79%|██████████████████████████████████████████████████████████████▉                 | 500/636 [05:20<01:25,  1.60it/s]"
     ]
    },
    {
     "name": "stdout",
     "output_type": "stream",
     "text": [
      "(500/636) Data: 0.020s | Batch: 0.642s | Total: 0:05:20 | ETA: 0:01:26 | Loss: 0.1515 | top1:  93.3447\n"
     ]
    },
    {
     "name": "stderr",
     "output_type": "stream",
     "text": [
      " 94%|███████████████████████████████████████████████████████████████████████████▍    | 600/636 [06:23<00:22,  1.60it/s]"
     ]
    },
    {
     "name": "stdout",
     "output_type": "stream",
     "text": [
      "(600/636) Data: 0.017s | Batch: 0.639s | Total: 0:06:23 | ETA: 0:00:24 | Loss: 0.1511 | top1:  93.3635\n"
     ]
    },
    {
     "name": "stderr",
     "output_type": "stream",
     "text": [
      "100%|████████████████████████████████████████████████████████████████████████████████| 636/636 [06:46<00:00,  1.56it/s]\n",
      "100%|████████████████████████████████████████████████████████████████████████████████| 156/156 [00:24<00:00,  6.33it/s]\n"
     ]
    },
    {
     "name": "stdout",
     "output_type": "stream",
     "text": [
      "=> saving checkpoint 'checkpoints\\checkpoint.pth.tar'\n"
     ]
    },
    {
     "name": "stderr",
     "output_type": "stream",
     "text": [
      "  0%|                                                                                          | 0/636 [00:00<?, ?it/s]"
     ]
    },
    {
     "name": "stdout",
     "output_type": "stream",
     "text": [
      "\n",
      "Epoch: [32 | 60] LR: 0.001000\n"
     ]
    },
    {
     "name": "stderr",
     "output_type": "stream",
     "text": [
      " 16%|████████████▌                                                                   | 100/636 [01:10<05:33,  1.61it/s]"
     ]
    },
    {
     "name": "stdout",
     "output_type": "stream",
     "text": [
      "(100/636) Data: 0.090s | Batch: 0.709s | Total: 0:01:10 | ETA: 0:05:35 | Loss: 0.1454 | top1:  93.6192\n"
     ]
    },
    {
     "name": "stderr",
     "output_type": "stream",
     "text": [
      " 31%|█████████████████████████▏                                                      | 200/636 [02:13<04:32,  1.60it/s]"
     ]
    },
    {
     "name": "stdout",
     "output_type": "stream",
     "text": [
      "(200/636) Data: 0.046s | Batch: 0.667s | Total: 0:02:13 | ETA: 0:04:33 | Loss: 0.1447 | top1:  93.6598\n"
     ]
    },
    {
     "name": "stderr",
     "output_type": "stream",
     "text": [
      " 47%|█████████████████████████████████████▋                                          | 300/636 [03:15<03:29,  1.60it/s]"
     ]
    },
    {
     "name": "stdout",
     "output_type": "stream",
     "text": [
      "(300/636) Data: 0.031s | Batch: 0.652s | Total: 0:03:15 | ETA: 0:03:31 | Loss: 0.1446 | top1:  93.6638\n"
     ]
    },
    {
     "name": "stderr",
     "output_type": "stream",
     "text": [
      " 63%|██████████████████████████████████████████████████▎                             | 400/636 [04:18<02:27,  1.60it/s]"
     ]
    },
    {
     "name": "stdout",
     "output_type": "stream",
     "text": [
      "(400/636) Data: 0.024s | Batch: 0.645s | Total: 0:04:18 | ETA: 0:02:28 | Loss: 0.1446 | top1:  93.6602\n"
     ]
    },
    {
     "name": "stderr",
     "output_type": "stream",
     "text": [
      " 79%|██████████████████████████████████████████████████████████████▉                 | 500/636 [05:20<01:25,  1.60it/s]"
     ]
    },
    {
     "name": "stdout",
     "output_type": "stream",
     "text": [
      "(500/636) Data: 0.019s | Batch: 0.641s | Total: 0:05:20 | ETA: 0:01:26 | Loss: 0.1445 | top1:  93.6656\n"
     ]
    },
    {
     "name": "stderr",
     "output_type": "stream",
     "text": [
      " 94%|███████████████████████████████████████████████████████████████████████████▍    | 600/636 [06:23<00:22,  1.60it/s]"
     ]
    },
    {
     "name": "stdout",
     "output_type": "stream",
     "text": [
      "(600/636) Data: 0.016s | Batch: 0.638s | Total: 0:06:23 | ETA: 0:00:24 | Loss: 0.1444 | top1:  93.6708\n"
     ]
    },
    {
     "name": "stderr",
     "output_type": "stream",
     "text": [
      "100%|████████████████████████████████████████████████████████████████████████████████| 636/636 [06:46<00:00,  1.57it/s]\n",
      "100%|████████████████████████████████████████████████████████████████████████████████| 156/156 [00:24<00:00,  6.36it/s]\n"
     ]
    },
    {
     "name": "stdout",
     "output_type": "stream",
     "text": [
      "=> saving checkpoint 'checkpoints\\checkpoint.pth.tar'\n"
     ]
    },
    {
     "name": "stderr",
     "output_type": "stream",
     "text": [
      "  0%|                                                                                          | 0/636 [00:00<?, ?it/s]"
     ]
    },
    {
     "name": "stdout",
     "output_type": "stream",
     "text": [
      "\n",
      "Epoch: [33 | 60] LR: 0.000100\n"
     ]
    },
    {
     "name": "stderr",
     "output_type": "stream",
     "text": [
      " 16%|████████████▌                                                                   | 100/636 [01:11<05:34,  1.60it/s]"
     ]
    },
    {
     "name": "stdout",
     "output_type": "stream",
     "text": [
      "(100/636) Data: 0.091s | Batch: 0.710s | Total: 0:01:11 | ETA: 0:05:36 | Loss: 0.1432 | top1:  93.7049\n"
     ]
    },
    {
     "name": "stderr",
     "output_type": "stream",
     "text": [
      " 31%|█████████████████████████▏                                                      | 200/636 [02:13<04:31,  1.60it/s]"
     ]
    },
    {
     "name": "stdout",
     "output_type": "stream",
     "text": [
      "(200/636) Data: 0.046s | Batch: 0.667s | Total: 0:02:13 | ETA: 0:04:33 | Loss: 0.1432 | top1:  93.7094\n"
     ]
    },
    {
     "name": "stderr",
     "output_type": "stream",
     "text": [
      " 47%|█████████████████████████████████████▋                                          | 300/636 [03:15<03:29,  1.60it/s]"
     ]
    },
    {
     "name": "stdout",
     "output_type": "stream",
     "text": [
      "(300/636) Data: 0.031s | Batch: 0.653s | Total: 0:03:15 | ETA: 0:03:31 | Loss: 0.1436 | top1:  93.7054\n"
     ]
    },
    {
     "name": "stderr",
     "output_type": "stream",
     "text": [
      " 63%|██████████████████████████████████████████████████▎                             | 400/636 [04:18<02:27,  1.61it/s]"
     ]
    },
    {
     "name": "stdout",
     "output_type": "stream",
     "text": [
      "(400/636) Data: 0.024s | Batch: 0.645s | Total: 0:04:18 | ETA: 0:02:28 | Loss: 0.1435 | top1:  93.7067\n"
     ]
    },
    {
     "name": "stderr",
     "output_type": "stream",
     "text": [
      " 79%|██████████████████████████████████████████████████████████████▉                 | 500/636 [05:20<01:25,  1.60it/s]"
     ]
    },
    {
     "name": "stdout",
     "output_type": "stream",
     "text": [
      "(500/636) Data: 0.019s | Batch: 0.641s | Total: 0:05:20 | ETA: 0:01:26 | Loss: 0.1434 | top1:  93.7088\n"
     ]
    },
    {
     "name": "stderr",
     "output_type": "stream",
     "text": [
      " 94%|███████████████████████████████████████████████████████████████████████████▍    | 600/636 [06:22<00:22,  1.61it/s]"
     ]
    },
    {
     "name": "stdout",
     "output_type": "stream",
     "text": [
      "(600/636) Data: 0.016s | Batch: 0.638s | Total: 0:06:22 | ETA: 0:00:24 | Loss: 0.1435 | top1:  93.7075\n"
     ]
    },
    {
     "name": "stderr",
     "output_type": "stream",
     "text": [
      "100%|████████████████████████████████████████████████████████████████████████████████| 636/636 [06:46<00:00,  1.57it/s]\n",
      "100%|████████████████████████████████████████████████████████████████████████████████| 156/156 [00:24<00:00,  6.33it/s]\n"
     ]
    },
    {
     "name": "stdout",
     "output_type": "stream",
     "text": [
      "=> saving checkpoint 'checkpoints\\checkpoint.pth.tar'\n"
     ]
    },
    {
     "name": "stderr",
     "output_type": "stream",
     "text": [
      "  0%|                                                                                          | 0/636 [00:00<?, ?it/s]"
     ]
    },
    {
     "name": "stdout",
     "output_type": "stream",
     "text": [
      "\n",
      "Epoch: [34 | 60] LR: 0.000010\n"
     ]
    },
    {
     "name": "stderr",
     "output_type": "stream",
     "text": [
      " 16%|████████████▌                                                                   | 100/636 [01:11<05:34,  1.60it/s]"
     ]
    },
    {
     "name": "stdout",
     "output_type": "stream",
     "text": [
      "(100/636) Data: 0.092s | Batch: 0.711s | Total: 0:01:11 | ETA: 0:05:36 | Loss: 0.1437 | top1:  93.6893\n"
     ]
    },
    {
     "name": "stderr",
     "output_type": "stream",
     "text": [
      " 31%|█████████████████████████▏                                                      | 200/636 [02:13<04:32,  1.60it/s]"
     ]
    },
    {
     "name": "stdout",
     "output_type": "stream",
     "text": [
      "(200/636) Data: 0.047s | Batch: 0.667s | Total: 0:02:13 | ETA: 0:04:33 | Loss: 0.1435 | top1:  93.7074\n"
     ]
    },
    {
     "name": "stderr",
     "output_type": "stream",
     "text": [
      " 47%|█████████████████████████████████████▋                                          | 300/636 [03:15<03:29,  1.60it/s]"
     ]
    },
    {
     "name": "stdout",
     "output_type": "stream",
     "text": [
      "(300/636) Data: 0.032s | Batch: 0.653s | Total: 0:03:15 | ETA: 0:03:31 | Loss: 0.1435 | top1:  93.7071\n"
     ]
    },
    {
     "name": "stderr",
     "output_type": "stream",
     "text": [
      " 63%|██████████████████████████████████████████████████▎                             | 400/636 [04:18<02:27,  1.60it/s]"
     ]
    },
    {
     "name": "stdout",
     "output_type": "stream",
     "text": [
      "(400/636) Data: 0.024s | Batch: 0.646s | Total: 0:04:18 | ETA: 0:02:29 | Loss: 0.1435 | top1:  93.7061\n"
     ]
    },
    {
     "name": "stderr",
     "output_type": "stream",
     "text": [
      " 79%|██████████████████████████████████████████████████████████████▉                 | 500/636 [05:20<01:24,  1.61it/s]"
     ]
    },
    {
     "name": "stdout",
     "output_type": "stream",
     "text": [
      "(500/636) Data: 0.020s | Batch: 0.642s | Total: 0:05:20 | ETA: 0:01:26 | Loss: 0.1435 | top1:  93.7020\n"
     ]
    },
    {
     "name": "stderr",
     "output_type": "stream",
     "text": [
      " 94%|███████████████████████████████████████████████████████████████████████████▍    | 600/636 [06:23<00:22,  1.61it/s]"
     ]
    },
    {
     "name": "stdout",
     "output_type": "stream",
     "text": [
      "(600/636) Data: 0.017s | Batch: 0.639s | Total: 0:06:23 | ETA: 0:00:24 | Loss: 0.1434 | top1:  93.7058\n"
     ]
    },
    {
     "name": "stderr",
     "output_type": "stream",
     "text": [
      "100%|████████████████████████████████████████████████████████████████████████████████| 636/636 [06:46<00:00,  1.57it/s]\n",
      "100%|████████████████████████████████████████████████████████████████████████████████| 156/156 [00:24<00:00,  6.33it/s]\n"
     ]
    },
    {
     "name": "stdout",
     "output_type": "stream",
     "text": [
      "=> saving checkpoint 'checkpoints\\checkpoint.pth.tar'\n"
     ]
    },
    {
     "name": "stderr",
     "output_type": "stream",
     "text": [
      "  0%|                                                                                          | 0/636 [00:00<?, ?it/s]"
     ]
    },
    {
     "name": "stdout",
     "output_type": "stream",
     "text": [
      "\n",
      "Epoch: [35 | 60] LR: 0.000001\n"
     ]
    },
    {
     "name": "stderr",
     "output_type": "stream",
     "text": [
      " 16%|████████████▌                                                                   | 100/636 [01:11<05:34,  1.60it/s]"
     ]
    },
    {
     "name": "stdout",
     "output_type": "stream",
     "text": [
      "(100/636) Data: 0.092s | Batch: 0.710s | Total: 0:01:11 | ETA: 0:05:35 | Loss: 0.1439 | top1:  93.6979\n"
     ]
    },
    {
     "name": "stderr",
     "output_type": "stream",
     "text": [
      " 31%|█████████████████████████▏                                                      | 200/636 [02:13<04:32,  1.60it/s]"
     ]
    },
    {
     "name": "stdout",
     "output_type": "stream",
     "text": [
      "(200/636) Data: 0.047s | Batch: 0.667s | Total: 0:02:13 | ETA: 0:04:34 | Loss: 0.1435 | top1:  93.7141\n"
     ]
    },
    {
     "name": "stderr",
     "output_type": "stream",
     "text": [
      " 47%|█████████████████████████████████████▋                                          | 300/636 [03:15<03:29,  1.60it/s]"
     ]
    },
    {
     "name": "stdout",
     "output_type": "stream",
     "text": [
      "(300/636) Data: 0.032s | Batch: 0.653s | Total: 0:03:15 | ETA: 0:03:31 | Loss: 0.1435 | top1:  93.7121\n"
     ]
    },
    {
     "name": "stderr",
     "output_type": "stream",
     "text": [
      " 63%|██████████████████████████████████████████████████▎                             | 400/636 [04:18<02:27,  1.60it/s]"
     ]
    },
    {
     "name": "stdout",
     "output_type": "stream",
     "text": [
      "(400/636) Data: 0.024s | Batch: 0.645s | Total: 0:04:18 | ETA: 0:02:28 | Loss: 0.1434 | top1:  93.7186\n"
     ]
    },
    {
     "name": "stderr",
     "output_type": "stream",
     "text": [
      " 79%|██████████████████████████████████████████████████████████████▉                 | 500/636 [05:20<01:24,  1.60it/s]"
     ]
    },
    {
     "name": "stdout",
     "output_type": "stream",
     "text": [
      "(500/636) Data: 0.020s | Batch: 0.641s | Total: 0:05:20 | ETA: 0:01:26 | Loss: 0.1434 | top1:  93.7184\n"
     ]
    },
    {
     "name": "stderr",
     "output_type": "stream",
     "text": [
      " 94%|███████████████████████████████████████████████████████████████████████████▍    | 600/636 [06:23<00:22,  1.60it/s]"
     ]
    },
    {
     "name": "stdout",
     "output_type": "stream",
     "text": [
      "(600/636) Data: 0.017s | Batch: 0.638s | Total: 0:06:23 | ETA: 0:00:24 | Loss: 0.1435 | top1:  93.7158\n"
     ]
    },
    {
     "name": "stderr",
     "output_type": "stream",
     "text": [
      "100%|████████████████████████████████████████████████████████████████████████████████| 636/636 [06:46<00:00,  1.57it/s]\n",
      "100%|████████████████████████████████████████████████████████████████████████████████| 156/156 [00:24<00:00,  6.36it/s]\n"
     ]
    },
    {
     "name": "stdout",
     "output_type": "stream",
     "text": [
      "=> saving checkpoint 'checkpoints\\checkpoint.pth.tar'\n"
     ]
    },
    {
     "name": "stderr",
     "output_type": "stream",
     "text": [
      "  0%|                                                                                          | 0/636 [00:00<?, ?it/s]"
     ]
    },
    {
     "name": "stdout",
     "output_type": "stream",
     "text": [
      "\n",
      "Epoch: [36 | 60] LR: 0.000000\n"
     ]
    },
    {
     "name": "stderr",
     "output_type": "stream",
     "text": [
      " 16%|████████████▌                                                                   | 100/636 [01:11<05:34,  1.60it/s]"
     ]
    },
    {
     "name": "stdout",
     "output_type": "stream",
     "text": [
      "(100/636) Data: 0.092s | Batch: 0.711s | Total: 0:01:11 | ETA: 0:05:36 | Loss: 0.1435 | top1:  93.6937\n"
     ]
    },
    {
     "name": "stderr",
     "output_type": "stream",
     "text": [
      " 31%|█████████████████████████▏                                                      | 200/636 [02:13<04:31,  1.61it/s]"
     ]
    },
    {
     "name": "stdout",
     "output_type": "stream",
     "text": [
      "(200/636) Data: 0.047s | Batch: 0.667s | Total: 0:02:13 | ETA: 0:04:33 | Loss: 0.1434 | top1:  93.7122\n"
     ]
    },
    {
     "name": "stderr",
     "output_type": "stream",
     "text": [
      " 47%|█████████████████████████████████████▋                                          | 300/636 [03:15<03:29,  1.60it/s]"
     ]
    },
    {
     "name": "stdout",
     "output_type": "stream",
     "text": [
      "(300/636) Data: 0.032s | Batch: 0.653s | Total: 0:03:15 | ETA: 0:03:31 | Loss: 0.1434 | top1:  93.7103\n"
     ]
    },
    {
     "name": "stderr",
     "output_type": "stream",
     "text": [
      " 63%|██████████████████████████████████████████████████▎                             | 400/636 [04:18<02:27,  1.60it/s]"
     ]
    },
    {
     "name": "stdout",
     "output_type": "stream",
     "text": [
      "(400/636) Data: 0.024s | Batch: 0.646s | Total: 0:04:18 | ETA: 0:02:28 | Loss: 0.1435 | top1:  93.7084\n"
     ]
    },
    {
     "name": "stderr",
     "output_type": "stream",
     "text": [
      " 79%|██████████████████████████████████████████████████████████████▉                 | 500/636 [05:20<01:25,  1.60it/s]"
     ]
    },
    {
     "name": "stdout",
     "output_type": "stream",
     "text": [
      "(500/636) Data: 0.020s | Batch: 0.642s | Total: 0:05:20 | ETA: 0:01:26 | Loss: 0.1435 | top1:  93.7081\n"
     ]
    },
    {
     "name": "stderr",
     "output_type": "stream",
     "text": [
      " 94%|███████████████████████████████████████████████████████████████████████████▍    | 600/636 [06:23<00:22,  1.60it/s]"
     ]
    },
    {
     "name": "stdout",
     "output_type": "stream",
     "text": [
      "(600/636) Data: 0.017s | Batch: 0.639s | Total: 0:06:23 | ETA: 0:00:24 | Loss: 0.1435 | top1:  93.7048\n"
     ]
    },
    {
     "name": "stderr",
     "output_type": "stream",
     "text": [
      "100%|████████████████████████████████████████████████████████████████████████████████| 636/636 [06:46<00:00,  1.56it/s]\n",
      "100%|████████████████████████████████████████████████████████████████████████████████| 156/156 [00:24<00:00,  6.35it/s]\n"
     ]
    },
    {
     "name": "stdout",
     "output_type": "stream",
     "text": [
      "=> saving checkpoint 'checkpoints\\checkpoint.pth.tar'\n"
     ]
    },
    {
     "name": "stderr",
     "output_type": "stream",
     "text": [
      "  0%|                                                                                          | 0/636 [00:00<?, ?it/s]"
     ]
    },
    {
     "name": "stdout",
     "output_type": "stream",
     "text": [
      "\n",
      "Epoch: [37 | 60] LR: 0.000000\n"
     ]
    },
    {
     "name": "stderr",
     "output_type": "stream",
     "text": [
      " 16%|████████████▌                                                                   | 100/636 [01:11<05:34,  1.60it/s]"
     ]
    },
    {
     "name": "stdout",
     "output_type": "stream",
     "text": [
      "(100/636) Data: 0.092s | Batch: 0.711s | Total: 0:01:11 | ETA: 0:05:35 | Loss: 0.1431 | top1:  93.7231\n"
     ]
    },
    {
     "name": "stderr",
     "output_type": "stream",
     "text": [
      " 31%|█████████████████████████▏                                                      | 200/636 [02:13<04:31,  1.60it/s]"
     ]
    },
    {
     "name": "stdout",
     "output_type": "stream",
     "text": [
      "(200/636) Data: 0.047s | Batch: 0.668s | Total: 0:02:13 | ETA: 0:04:33 | Loss: 0.1432 | top1:  93.7125\n"
     ]
    },
    {
     "name": "stderr",
     "output_type": "stream",
     "text": [
      " 47%|█████████████████████████████████████▋                                          | 300/636 [03:15<03:29,  1.60it/s]"
     ]
    },
    {
     "name": "stdout",
     "output_type": "stream",
     "text": [
      "(300/636) Data: 0.031s | Batch: 0.653s | Total: 0:03:15 | ETA: 0:03:31 | Loss: 0.1434 | top1:  93.7085\n"
     ]
    },
    {
     "name": "stderr",
     "output_type": "stream",
     "text": [
      " 63%|██████████████████████████████████████████████████▎                             | 400/636 [04:18<02:27,  1.60it/s]"
     ]
    },
    {
     "name": "stdout",
     "output_type": "stream",
     "text": [
      "(400/636) Data: 0.024s | Batch: 0.646s | Total: 0:04:18 | ETA: 0:02:28 | Loss: 0.1434 | top1:  93.7127\n"
     ]
    },
    {
     "name": "stderr",
     "output_type": "stream",
     "text": [
      " 79%|██████████████████████████████████████████████████████████████▉                 | 500/636 [05:20<01:24,  1.60it/s]"
     ]
    },
    {
     "name": "stdout",
     "output_type": "stream",
     "text": [
      "(500/636) Data: 0.019s | Batch: 0.642s | Total: 0:05:20 | ETA: 0:01:26 | Loss: 0.1433 | top1:  93.7199\n"
     ]
    },
    {
     "name": "stderr",
     "output_type": "stream",
     "text": [
      " 94%|███████████████████████████████████████████████████████████████████████████▍    | 600/636 [06:23<00:22,  1.60it/s]"
     ]
    },
    {
     "name": "stdout",
     "output_type": "stream",
     "text": [
      "(600/636) Data: 0.016s | Batch: 0.639s | Total: 0:06:23 | ETA: 0:00:24 | Loss: 0.1433 | top1:  93.7155\n"
     ]
    },
    {
     "name": "stderr",
     "output_type": "stream",
     "text": [
      "100%|████████████████████████████████████████████████████████████████████████████████| 636/636 [06:46<00:00,  1.57it/s]\n",
      "100%|████████████████████████████████████████████████████████████████████████████████| 156/156 [00:24<00:00,  6.38it/s]\n"
     ]
    },
    {
     "name": "stdout",
     "output_type": "stream",
     "text": [
      "=> saving checkpoint 'checkpoints\\checkpoint.pth.tar'\n"
     ]
    },
    {
     "name": "stderr",
     "output_type": "stream",
     "text": [
      "  0%|                                                                                          | 0/636 [00:00<?, ?it/s]"
     ]
    },
    {
     "name": "stdout",
     "output_type": "stream",
     "text": [
      "\n",
      "Epoch: [38 | 60] LR: 0.000000\n"
     ]
    },
    {
     "name": "stderr",
     "output_type": "stream",
     "text": [
      " 16%|████████████▌                                                                   | 100/636 [01:11<05:34,  1.60it/s]"
     ]
    },
    {
     "name": "stdout",
     "output_type": "stream",
     "text": [
      "(100/636) Data: 0.091s | Batch: 0.711s | Total: 0:01:11 | ETA: 0:05:35 | Loss: 0.1435 | top1:  93.7186\n"
     ]
    },
    {
     "name": "stderr",
     "output_type": "stream",
     "text": [
      " 31%|█████████████████████████▏                                                      | 200/636 [02:13<04:31,  1.61it/s]"
     ]
    },
    {
     "name": "stdout",
     "output_type": "stream",
     "text": [
      "(200/636) Data: 0.046s | Batch: 0.667s | Total: 0:02:13 | ETA: 0:04:33 | Loss: 0.1436 | top1:  93.6934\n"
     ]
    },
    {
     "name": "stderr",
     "output_type": "stream",
     "text": [
      " 47%|█████████████████████████████████████▋                                          | 300/636 [03:15<03:29,  1.60it/s]"
     ]
    },
    {
     "name": "stdout",
     "output_type": "stream",
     "text": [
      "(300/636) Data: 0.031s | Batch: 0.653s | Total: 0:03:15 | ETA: 0:03:31 | Loss: 0.1436 | top1:  93.7015\n"
     ]
    },
    {
     "name": "stderr",
     "output_type": "stream",
     "text": [
      " 63%|██████████████████████████████████████████████████▎                             | 400/636 [04:18<02:27,  1.60it/s]"
     ]
    },
    {
     "name": "stdout",
     "output_type": "stream",
     "text": [
      "(400/636) Data: 0.024s | Batch: 0.646s | Total: 0:04:18 | ETA: 0:02:28 | Loss: 0.1436 | top1:  93.6944\n"
     ]
    },
    {
     "name": "stderr",
     "output_type": "stream",
     "text": [
      " 79%|██████████████████████████████████████████████████████████████▉                 | 500/636 [05:20<01:25,  1.60it/s]"
     ]
    },
    {
     "name": "stdout",
     "output_type": "stream",
     "text": [
      "(500/636) Data: 0.019s | Batch: 0.642s | Total: 0:05:20 | ETA: 0:01:26 | Loss: 0.1435 | top1:  93.7005\n"
     ]
    },
    {
     "name": "stderr",
     "output_type": "stream",
     "text": [
      " 94%|███████████████████████████████████████████████████████████████████████████▍    | 600/636 [06:23<00:22,  1.60it/s]"
     ]
    },
    {
     "name": "stdout",
     "output_type": "stream",
     "text": [
      "(600/636) Data: 0.016s | Batch: 0.639s | Total: 0:06:23 | ETA: 0:00:24 | Loss: 0.1434 | top1:  93.7063\n"
     ]
    },
    {
     "name": "stderr",
     "output_type": "stream",
     "text": [
      "100%|████████████████████████████████████████████████████████████████████████████████| 636/636 [06:46<00:00,  1.57it/s]\n",
      "100%|████████████████████████████████████████████████████████████████████████████████| 156/156 [00:24<00:00,  6.36it/s]\n"
     ]
    },
    {
     "name": "stdout",
     "output_type": "stream",
     "text": [
      "=> saving checkpoint 'checkpoints\\checkpoint.pth.tar'\n"
     ]
    },
    {
     "name": "stderr",
     "output_type": "stream",
     "text": [
      "  0%|                                                                                          | 0/636 [00:00<?, ?it/s]"
     ]
    },
    {
     "name": "stdout",
     "output_type": "stream",
     "text": [
      "\n",
      "Epoch: [39 | 60] LR: 0.000000\n"
     ]
    },
    {
     "name": "stderr",
     "output_type": "stream",
     "text": [
      " 16%|████████████▌                                                                   | 100/636 [01:11<05:33,  1.61it/s]"
     ]
    },
    {
     "name": "stdout",
     "output_type": "stream",
     "text": [
      "(100/636) Data: 0.093s | Batch: 0.711s | Total: 0:01:11 | ETA: 0:05:35 | Loss: 0.1432 | top1:  93.7193\n"
     ]
    },
    {
     "name": "stderr",
     "output_type": "stream",
     "text": [
      " 31%|█████████████████████████▏                                                      | 200/636 [02:13<04:31,  1.60it/s]"
     ]
    },
    {
     "name": "stdout",
     "output_type": "stream",
     "text": [
      "(200/636) Data: 0.047s | Batch: 0.667s | Total: 0:02:13 | ETA: 0:04:33 | Loss: 0.1432 | top1:  93.7276\n"
     ]
    },
    {
     "name": "stderr",
     "output_type": "stream",
     "text": [
      " 47%|█████████████████████████████████████▋                                          | 300/636 [03:15<03:29,  1.60it/s]"
     ]
    },
    {
     "name": "stdout",
     "output_type": "stream",
     "text": [
      "(300/636) Data: 0.032s | Batch: 0.653s | Total: 0:03:15 | ETA: 0:03:31 | Loss: 0.1434 | top1:  93.7127\n"
     ]
    },
    {
     "name": "stderr",
     "output_type": "stream",
     "text": [
      " 63%|██████████████████████████████████████████████████▎                             | 400/636 [04:18<02:27,  1.60it/s]"
     ]
    },
    {
     "name": "stdout",
     "output_type": "stream",
     "text": [
      "(400/636) Data: 0.024s | Batch: 0.646s | Total: 0:04:18 | ETA: 0:02:28 | Loss: 0.1435 | top1:  93.7104\n"
     ]
    },
    {
     "name": "stderr",
     "output_type": "stream",
     "text": [
      " 79%|██████████████████████████████████████████████████████████████▉                 | 500/636 [05:20<01:24,  1.61it/s]"
     ]
    },
    {
     "name": "stdout",
     "output_type": "stream",
     "text": [
      "(500/636) Data: 0.020s | Batch: 0.641s | Total: 0:05:20 | ETA: 0:01:26 | Loss: 0.1435 | top1:  93.7072\n"
     ]
    },
    {
     "name": "stderr",
     "output_type": "stream",
     "text": [
      " 94%|███████████████████████████████████████████████████████████████████████████▍    | 600/636 [06:23<00:22,  1.60it/s]"
     ]
    },
    {
     "name": "stdout",
     "output_type": "stream",
     "text": [
      "(600/636) Data: 0.017s | Batch: 0.638s | Total: 0:06:23 | ETA: 0:00:24 | Loss: 0.1436 | top1:  93.7077\n"
     ]
    },
    {
     "name": "stderr",
     "output_type": "stream",
     "text": [
      "100%|████████████████████████████████████████████████████████████████████████████████| 636/636 [06:46<00:00,  1.57it/s]\n",
      "100%|████████████████████████████████████████████████████████████████████████████████| 156/156 [00:24<00:00,  6.36it/s]\n"
     ]
    },
    {
     "name": "stdout",
     "output_type": "stream",
     "text": [
      "=> saving checkpoint 'checkpoints\\checkpoint.pth.tar'\n"
     ]
    },
    {
     "name": "stderr",
     "output_type": "stream",
     "text": [
      "  0%|                                                                                          | 0/636 [00:00<?, ?it/s]"
     ]
    },
    {
     "name": "stdout",
     "output_type": "stream",
     "text": [
      "\n",
      "Epoch: [40 | 60] LR: 0.000000\n"
     ]
    },
    {
     "name": "stderr",
     "output_type": "stream",
     "text": [
      " 16%|████████████▌                                                                   | 100/636 [01:10<05:34,  1.60it/s]"
     ]
    },
    {
     "name": "stdout",
     "output_type": "stream",
     "text": [
      "(100/636) Data: 0.091s | Batch: 0.710s | Total: 0:01:10 | ETA: 0:05:36 | Loss: 0.1433 | top1:  93.7260\n"
     ]
    },
    {
     "name": "stderr",
     "output_type": "stream",
     "text": [
      " 31%|█████████████████████████▏                                                      | 200/636 [02:13<04:32,  1.60it/s]"
     ]
    },
    {
     "name": "stdout",
     "output_type": "stream",
     "text": [
      "(200/636) Data: 0.046s | Batch: 0.667s | Total: 0:02:13 | ETA: 0:04:33 | Loss: 0.1436 | top1:  93.7076\n"
     ]
    },
    {
     "name": "stderr",
     "output_type": "stream",
     "text": [
      " 47%|█████████████████████████████████████▋                                          | 300/636 [03:15<03:29,  1.60it/s]"
     ]
    },
    {
     "name": "stdout",
     "output_type": "stream",
     "text": [
      "(300/636) Data: 0.031s | Batch: 0.653s | Total: 0:03:15 | ETA: 0:03:31 | Loss: 0.1437 | top1:  93.7016\n"
     ]
    },
    {
     "name": "stderr",
     "output_type": "stream",
     "text": [
      " 63%|██████████████████████████████████████████████████▎                             | 400/636 [04:18<02:27,  1.60it/s]"
     ]
    },
    {
     "name": "stdout",
     "output_type": "stream",
     "text": [
      "(400/636) Data: 0.024s | Batch: 0.645s | Total: 0:04:18 | ETA: 0:02:28 | Loss: 0.1435 | top1:  93.7054\n"
     ]
    },
    {
     "name": "stderr",
     "output_type": "stream",
     "text": [
      " 79%|██████████████████████████████████████████████████████████████▉                 | 500/636 [05:20<01:24,  1.60it/s]"
     ]
    },
    {
     "name": "stdout",
     "output_type": "stream",
     "text": [
      "(500/636) Data: 0.019s | Batch: 0.641s | Total: 0:05:20 | ETA: 0:01:26 | Loss: 0.1435 | top1:  93.7080\n"
     ]
    },
    {
     "name": "stderr",
     "output_type": "stream",
     "text": [
      " 94%|███████████████████████████████████████████████████████████████████████████▍    | 600/636 [06:23<00:22,  1.60it/s]"
     ]
    },
    {
     "name": "stdout",
     "output_type": "stream",
     "text": [
      "(600/636) Data: 0.016s | Batch: 0.638s | Total: 0:06:23 | ETA: 0:00:24 | Loss: 0.1435 | top1:  93.7105\n"
     ]
    },
    {
     "name": "stderr",
     "output_type": "stream",
     "text": [
      "100%|████████████████████████████████████████████████████████████████████████████████| 636/636 [06:46<00:00,  1.57it/s]\n",
      "100%|████████████████████████████████████████████████████████████████████████████████| 156/156 [00:24<00:00,  6.37it/s]\n"
     ]
    },
    {
     "name": "stdout",
     "output_type": "stream",
     "text": [
      "=> saving checkpoint 'checkpoints\\checkpoint.pth.tar'\n"
     ]
    },
    {
     "name": "stderr",
     "output_type": "stream",
     "text": [
      "  0%|                                                                                          | 0/636 [00:00<?, ?it/s]"
     ]
    },
    {
     "name": "stdout",
     "output_type": "stream",
     "text": [
      "\n",
      "Epoch: [41 | 60] LR: 0.000000\n"
     ]
    },
    {
     "name": "stderr",
     "output_type": "stream",
     "text": [
      " 16%|████████████▌                                                                   | 100/636 [01:11<05:34,  1.60it/s]"
     ]
    },
    {
     "name": "stdout",
     "output_type": "stream",
     "text": [
      "(100/636) Data: 0.093s | Batch: 0.713s | Total: 0:01:11 | ETA: 0:05:35 | Loss: 0.1439 | top1:  93.6749\n"
     ]
    },
    {
     "name": "stderr",
     "output_type": "stream",
     "text": [
      " 31%|█████████████████████████▏                                                      | 200/636 [02:13<04:31,  1.60it/s]"
     ]
    },
    {
     "name": "stdout",
     "output_type": "stream",
     "text": [
      "(200/636) Data: 0.047s | Batch: 0.668s | Total: 0:02:13 | ETA: 0:04:33 | Loss: 0.1435 | top1:  93.7097\n"
     ]
    },
    {
     "name": "stderr",
     "output_type": "stream",
     "text": [
      " 47%|█████████████████████████████████████▋                                          | 300/636 [03:15<03:30,  1.60it/s]"
     ]
    },
    {
     "name": "stdout",
     "output_type": "stream",
     "text": [
      "(300/636) Data: 0.032s | Batch: 0.653s | Total: 0:03:15 | ETA: 0:03:31 | Loss: 0.1436 | top1:  93.7124\n"
     ]
    },
    {
     "name": "stderr",
     "output_type": "stream",
     "text": [
      " 63%|██████████████████████████████████████████████████▎                             | 400/636 [04:18<02:27,  1.60it/s]"
     ]
    },
    {
     "name": "stdout",
     "output_type": "stream",
     "text": [
      "(400/636) Data: 0.024s | Batch: 0.646s | Total: 0:04:18 | ETA: 0:02:28 | Loss: 0.1435 | top1:  93.7182\n"
     ]
    },
    {
     "name": "stderr",
     "output_type": "stream",
     "text": [
      " 79%|██████████████████████████████████████████████████████████████▉                 | 500/636 [05:20<01:24,  1.60it/s]"
     ]
    },
    {
     "name": "stdout",
     "output_type": "stream",
     "text": [
      "(500/636) Data: 0.020s | Batch: 0.642s | Total: 0:05:20 | ETA: 0:01:26 | Loss: 0.1435 | top1:  93.7135\n"
     ]
    },
    {
     "name": "stderr",
     "output_type": "stream",
     "text": [
      " 94%|███████████████████████████████████████████████████████████████████████████▍    | 600/636 [06:23<00:22,  1.60it/s]"
     ]
    },
    {
     "name": "stdout",
     "output_type": "stream",
     "text": [
      "(600/636) Data: 0.017s | Batch: 0.639s | Total: 0:06:23 | ETA: 0:00:24 | Loss: 0.1435 | top1:  93.7141\n"
     ]
    },
    {
     "name": "stderr",
     "output_type": "stream",
     "text": [
      "100%|████████████████████████████████████████████████████████████████████████████████| 636/636 [06:46<00:00,  1.57it/s]\n",
      "100%|████████████████████████████████████████████████████████████████████████████████| 156/156 [00:24<00:00,  6.33it/s]\n"
     ]
    },
    {
     "name": "stdout",
     "output_type": "stream",
     "text": [
      "=> saving checkpoint 'checkpoints\\checkpoint.pth.tar'\n"
     ]
    },
    {
     "name": "stderr",
     "output_type": "stream",
     "text": [
      "  0%|                                                                                          | 0/636 [00:00<?, ?it/s]"
     ]
    },
    {
     "name": "stdout",
     "output_type": "stream",
     "text": [
      "\n",
      "Epoch: [42 | 60] LR: 0.000000\n"
     ]
    },
    {
     "name": "stderr",
     "output_type": "stream",
     "text": [
      " 16%|████████████▌                                                                   | 100/636 [01:11<05:34,  1.60it/s]"
     ]
    },
    {
     "name": "stdout",
     "output_type": "stream",
     "text": [
      "(100/636) Data: 0.093s | Batch: 0.712s | Total: 0:01:11 | ETA: 0:05:35 | Loss: 0.1434 | top1:  93.7257\n"
     ]
    },
    {
     "name": "stderr",
     "output_type": "stream",
     "text": [
      " 31%|█████████████████████████▏                                                      | 200/636 [02:13<04:32,  1.60it/s]"
     ]
    },
    {
     "name": "stdout",
     "output_type": "stream",
     "text": [
      "(200/636) Data: 0.047s | Batch: 0.668s | Total: 0:02:13 | ETA: 0:04:34 | Loss: 0.1434 | top1:  93.7271\n"
     ]
    },
    {
     "name": "stderr",
     "output_type": "stream",
     "text": [
      " 47%|█████████████████████████████████████▋                                          | 300/636 [03:16<03:29,  1.60it/s]"
     ]
    },
    {
     "name": "stdout",
     "output_type": "stream",
     "text": [
      "(300/636) Data: 0.032s | Batch: 0.654s | Total: 0:03:16 | ETA: 0:03:31 | Loss: 0.1432 | top1:  93.7312\n"
     ]
    },
    {
     "name": "stderr",
     "output_type": "stream",
     "text": [
      " 63%|██████████████████████████████████████████████████▎                             | 400/636 [04:18<02:27,  1.60it/s]"
     ]
    },
    {
     "name": "stdout",
     "output_type": "stream",
     "text": [
      "(400/636) Data: 0.024s | Batch: 0.646s | Total: 0:04:18 | ETA: 0:02:28 | Loss: 0.1434 | top1:  93.7213\n"
     ]
    },
    {
     "name": "stderr",
     "output_type": "stream",
     "text": [
      " 79%|██████████████████████████████████████████████████████████████▉                 | 500/636 [05:20<01:25,  1.60it/s]"
     ]
    },
    {
     "name": "stdout",
     "output_type": "stream",
     "text": [
      "(500/636) Data: 0.020s | Batch: 0.642s | Total: 0:05:20 | ETA: 0:01:26 | Loss: 0.1433 | top1:  93.7184\n"
     ]
    },
    {
     "name": "stderr",
     "output_type": "stream",
     "text": [
      " 94%|███████████████████████████████████████████████████████████████████████████▍    | 600/636 [06:23<00:22,  1.60it/s]"
     ]
    },
    {
     "name": "stdout",
     "output_type": "stream",
     "text": [
      "(600/636) Data: 0.017s | Batch: 0.639s | Total: 0:06:23 | ETA: 0:00:24 | Loss: 0.1434 | top1:  93.7166\n"
     ]
    },
    {
     "name": "stderr",
     "output_type": "stream",
     "text": [
      "100%|████████████████████████████████████████████████████████████████████████████████| 636/636 [06:46<00:00,  1.56it/s]\n",
      "100%|████████████████████████████████████████████████████████████████████████████████| 156/156 [00:24<00:00,  6.36it/s]\n"
     ]
    },
    {
     "name": "stdout",
     "output_type": "stream",
     "text": [
      "=> saving checkpoint 'checkpoints\\checkpoint.pth.tar'\n"
     ]
    },
    {
     "name": "stderr",
     "output_type": "stream",
     "text": [
      "  0%|                                                                                          | 0/636 [00:00<?, ?it/s]"
     ]
    },
    {
     "name": "stdout",
     "output_type": "stream",
     "text": [
      "\n",
      "Epoch: [43 | 60] LR: 0.000000\n"
     ]
    },
    {
     "name": "stderr",
     "output_type": "stream",
     "text": [
      " 16%|████████████▌                                                                   | 100/636 [01:10<05:34,  1.60it/s]"
     ]
    },
    {
     "name": "stdout",
     "output_type": "stream",
     "text": [
      "(100/636) Data: 0.090s | Batch: 0.710s | Total: 0:01:10 | ETA: 0:05:35 | Loss: 0.1435 | top1:  93.6896\n"
     ]
    },
    {
     "name": "stderr",
     "output_type": "stream",
     "text": [
      " 31%|█████████████████████████▏                                                      | 200/636 [02:13<04:33,  1.60it/s]"
     ]
    },
    {
     "name": "stdout",
     "output_type": "stream",
     "text": [
      "(200/636) Data: 0.046s | Batch: 0.667s | Total: 0:02:13 | ETA: 0:04:33 | Loss: 0.1436 | top1:  93.6989\n"
     ]
    },
    {
     "name": "stderr",
     "output_type": "stream",
     "text": [
      " 47%|█████████████████████████████████████▋                                          | 300/636 [03:15<03:29,  1.60it/s]"
     ]
    },
    {
     "name": "stdout",
     "output_type": "stream",
     "text": [
      "(300/636) Data: 0.031s | Batch: 0.652s | Total: 0:03:15 | ETA: 0:03:31 | Loss: 0.1436 | top1:  93.6881\n"
     ]
    },
    {
     "name": "stderr",
     "output_type": "stream",
     "text": [
      " 63%|██████████████████████████████████████████████████▎                             | 400/636 [04:18<02:27,  1.60it/s]"
     ]
    },
    {
     "name": "stdout",
     "output_type": "stream",
     "text": [
      "(400/636) Data: 0.024s | Batch: 0.645s | Total: 0:04:18 | ETA: 0:02:28 | Loss: 0.1435 | top1:  93.6979\n"
     ]
    },
    {
     "name": "stderr",
     "output_type": "stream",
     "text": [
      " 79%|██████████████████████████████████████████████████████████████▉                 | 500/636 [05:20<01:24,  1.60it/s]"
     ]
    },
    {
     "name": "stdout",
     "output_type": "stream",
     "text": [
      "(500/636) Data: 0.019s | Batch: 0.641s | Total: 0:05:20 | ETA: 0:01:26 | Loss: 0.1435 | top1:  93.7035\n"
     ]
    },
    {
     "name": "stderr",
     "output_type": "stream",
     "text": [
      " 94%|███████████████████████████████████████████████████████████████████████████▍    | 600/636 [06:22<00:22,  1.60it/s]"
     ]
    },
    {
     "name": "stdout",
     "output_type": "stream",
     "text": [
      "(600/636) Data: 0.016s | Batch: 0.638s | Total: 0:06:22 | ETA: 0:00:24 | Loss: 0.1435 | top1:  93.7018\n"
     ]
    },
    {
     "name": "stderr",
     "output_type": "stream",
     "text": [
      "100%|████████████████████████████████████████████████████████████████████████████████| 636/636 [06:46<00:00,  1.57it/s]\n",
      "100%|████████████████████████████████████████████████████████████████████████████████| 156/156 [00:24<00:00,  6.36it/s]\n"
     ]
    },
    {
     "name": "stdout",
     "output_type": "stream",
     "text": [
      "=> saving checkpoint 'checkpoints\\checkpoint.pth.tar'\n"
     ]
    },
    {
     "name": "stderr",
     "output_type": "stream",
     "text": [
      "  0%|                                                                                          | 0/636 [00:00<?, ?it/s]"
     ]
    },
    {
     "name": "stdout",
     "output_type": "stream",
     "text": [
      "\n",
      "Epoch: [44 | 60] LR: 0.000000\n"
     ]
    },
    {
     "name": "stderr",
     "output_type": "stream",
     "text": [
      " 16%|████████████▌                                                                   | 100/636 [01:11<05:33,  1.61it/s]"
     ]
    },
    {
     "name": "stdout",
     "output_type": "stream",
     "text": [
      "(100/636) Data: 0.095s | Batch: 0.713s | Total: 0:01:11 | ETA: 0:05:35 | Loss: 0.1433 | top1:  93.7007\n"
     ]
    },
    {
     "name": "stderr",
     "output_type": "stream",
     "text": [
      " 31%|█████████████████████████▏                                                      | 200/636 [02:13<04:31,  1.61it/s]"
     ]
    },
    {
     "name": "stdout",
     "output_type": "stream",
     "text": [
      "(200/636) Data: 0.048s | Batch: 0.669s | Total: 0:02:13 | ETA: 0:04:33 | Loss: 0.1432 | top1:  93.7050\n"
     ]
    },
    {
     "name": "stderr",
     "output_type": "stream",
     "text": [
      " 47%|█████████████████████████████████████▋                                          | 300/636 [03:16<03:29,  1.60it/s]"
     ]
    },
    {
     "name": "stdout",
     "output_type": "stream",
     "text": [
      "(300/636) Data: 0.032s | Batch: 0.654s | Total: 0:03:16 | ETA: 0:03:31 | Loss: 0.1432 | top1:  93.7139\n"
     ]
    },
    {
     "name": "stderr",
     "output_type": "stream",
     "text": [
      " 63%|██████████████████████████████████████████████████▎                             | 400/636 [04:18<02:27,  1.60it/s]"
     ]
    },
    {
     "name": "stdout",
     "output_type": "stream",
     "text": [
      "(400/636) Data: 0.025s | Batch: 0.646s | Total: 0:04:18 | ETA: 0:02:29 | Loss: 0.1432 | top1:  93.7178\n"
     ]
    },
    {
     "name": "stderr",
     "output_type": "stream",
     "text": [
      " 79%|██████████████████████████████████████████████████████████████▉                 | 500/636 [05:21<01:24,  1.60it/s]"
     ]
    },
    {
     "name": "stdout",
     "output_type": "stream",
     "text": [
      "(500/636) Data: 0.020s | Batch: 0.642s | Total: 0:05:21 | ETA: 0:01:26 | Loss: 0.1433 | top1:  93.7159\n"
     ]
    },
    {
     "name": "stderr",
     "output_type": "stream",
     "text": [
      " 94%|███████████████████████████████████████████████████████████████████████████▍    | 600/636 [06:23<00:22,  1.60it/s]"
     ]
    },
    {
     "name": "stdout",
     "output_type": "stream",
     "text": [
      "(600/636) Data: 0.017s | Batch: 0.639s | Total: 0:06:23 | ETA: 0:00:24 | Loss: 0.1434 | top1:  93.7125\n"
     ]
    },
    {
     "name": "stderr",
     "output_type": "stream",
     "text": [
      "100%|████████████████████████████████████████████████████████████████████████████████| 636/636 [06:46<00:00,  1.56it/s]\n",
      "100%|████████████████████████████████████████████████████████████████████████████████| 156/156 [00:24<00:00,  6.34it/s]\n"
     ]
    },
    {
     "name": "stdout",
     "output_type": "stream",
     "text": [
      "=> saving checkpoint 'checkpoints\\checkpoint.pth.tar'\n"
     ]
    },
    {
     "name": "stderr",
     "output_type": "stream",
     "text": [
      "  0%|                                                                                          | 0/636 [00:00<?, ?it/s]"
     ]
    },
    {
     "name": "stdout",
     "output_type": "stream",
     "text": [
      "\n",
      "Epoch: [45 | 60] LR: 0.000000\n"
     ]
    },
    {
     "name": "stderr",
     "output_type": "stream",
     "text": [
      " 16%|████████████▌                                                                   | 100/636 [01:10<05:34,  1.60it/s]"
     ]
    },
    {
     "name": "stdout",
     "output_type": "stream",
     "text": [
      "(100/636) Data: 0.091s | Batch: 0.709s | Total: 0:01:10 | ETA: 0:05:35 | Loss: 0.1438 | top1:  93.6987\n"
     ]
    },
    {
     "name": "stderr",
     "output_type": "stream",
     "text": [
      " 31%|█████████████████████████▏                                                      | 200/636 [02:13<04:31,  1.60it/s]"
     ]
    },
    {
     "name": "stdout",
     "output_type": "stream",
     "text": [
      "(200/636) Data: 0.046s | Batch: 0.666s | Total: 0:02:13 | ETA: 0:04:33 | Loss: 0.1436 | top1:  93.7104\n"
     ]
    },
    {
     "name": "stderr",
     "output_type": "stream",
     "text": [
      " 47%|█████████████████████████████████████▋                                          | 300/636 [03:15<03:29,  1.60it/s]"
     ]
    },
    {
     "name": "stdout",
     "output_type": "stream",
     "text": [
      "(300/636) Data: 0.031s | Batch: 0.652s | Total: 0:03:15 | ETA: 0:03:31 | Loss: 0.1436 | top1:  93.7059\n"
     ]
    },
    {
     "name": "stderr",
     "output_type": "stream",
     "text": [
      " 63%|██████████████████████████████████████████████████▎                             | 400/636 [04:18<02:27,  1.60it/s]"
     ]
    },
    {
     "name": "stdout",
     "output_type": "stream",
     "text": [
      "(400/636) Data: 0.024s | Batch: 0.645s | Total: 0:04:18 | ETA: 0:02:28 | Loss: 0.1437 | top1:  93.7069\n"
     ]
    },
    {
     "name": "stderr",
     "output_type": "stream",
     "text": [
      " 79%|██████████████████████████████████████████████████████████████▉                 | 500/636 [05:20<01:24,  1.60it/s]"
     ]
    },
    {
     "name": "stdout",
     "output_type": "stream",
     "text": [
      "(500/636) Data: 0.019s | Batch: 0.641s | Total: 0:05:20 | ETA: 0:01:26 | Loss: 0.1436 | top1:  93.7123\n"
     ]
    },
    {
     "name": "stderr",
     "output_type": "stream",
     "text": [
      " 94%|███████████████████████████████████████████████████████████████████████████▍    | 600/636 [06:22<00:22,  1.61it/s]"
     ]
    },
    {
     "name": "stdout",
     "output_type": "stream",
     "text": [
      "(600/636) Data: 0.016s | Batch: 0.638s | Total: 0:06:22 | ETA: 0:00:24 | Loss: 0.1435 | top1:  93.7114\n"
     ]
    },
    {
     "name": "stderr",
     "output_type": "stream",
     "text": [
      "100%|████████████████████████████████████████████████████████████████████████████████| 636/636 [06:46<00:00,  1.57it/s]\n",
      "100%|████████████████████████████████████████████████████████████████████████████████| 156/156 [00:24<00:00,  6.35it/s]\n"
     ]
    },
    {
     "name": "stdout",
     "output_type": "stream",
     "text": [
      "=> saving checkpoint 'checkpoints\\checkpoint.pth.tar'\n"
     ]
    },
    {
     "name": "stderr",
     "output_type": "stream",
     "text": [
      "  0%|                                                                                          | 0/636 [00:00<?, ?it/s]"
     ]
    },
    {
     "name": "stdout",
     "output_type": "stream",
     "text": [
      "\n",
      "Epoch: [46 | 60] LR: 0.000000\n"
     ]
    },
    {
     "name": "stderr",
     "output_type": "stream",
     "text": [
      " 16%|████████████▌                                                                   | 100/636 [01:10<05:33,  1.61it/s]"
     ]
    },
    {
     "name": "stdout",
     "output_type": "stream",
     "text": [
      "(100/636) Data: 0.090s | Batch: 0.710s | Total: 0:01:10 | ETA: 0:05:35 | Loss: 0.1442 | top1:  93.6974\n"
     ]
    },
    {
     "name": "stderr",
     "output_type": "stream",
     "text": [
      " 31%|█████████████████████████▏                                                      | 200/636 [02:13<04:32,  1.60it/s]"
     ]
    },
    {
     "name": "stdout",
     "output_type": "stream",
     "text": [
      "(200/636) Data: 0.046s | Batch: 0.667s | Total: 0:02:13 | ETA: 0:04:33 | Loss: 0.1440 | top1:  93.7000\n"
     ]
    },
    {
     "name": "stderr",
     "output_type": "stream",
     "text": [
      " 47%|█████████████████████████████████████▋                                          | 300/636 [03:15<03:29,  1.60it/s]"
     ]
    },
    {
     "name": "stdout",
     "output_type": "stream",
     "text": [
      "(300/636) Data: 0.031s | Batch: 0.653s | Total: 0:03:15 | ETA: 0:03:31 | Loss: 0.1437 | top1:  93.7133\n"
     ]
    },
    {
     "name": "stderr",
     "output_type": "stream",
     "text": [
      " 63%|██████████████████████████████████████████████████▎                             | 400/636 [04:18<02:27,  1.60it/s]"
     ]
    },
    {
     "name": "stdout",
     "output_type": "stream",
     "text": [
      "(400/636) Data: 0.024s | Batch: 0.646s | Total: 0:04:18 | ETA: 0:02:29 | Loss: 0.1437 | top1:  93.7064\n"
     ]
    },
    {
     "name": "stderr",
     "output_type": "stream",
     "text": [
      " 79%|██████████████████████████████████████████████████████████████▉                 | 500/636 [05:20<01:25,  1.60it/s]"
     ]
    },
    {
     "name": "stdout",
     "output_type": "stream",
     "text": [
      "(500/636) Data: 0.019s | Batch: 0.642s | Total: 0:05:20 | ETA: 0:01:26 | Loss: 0.1436 | top1:  93.7089\n"
     ]
    },
    {
     "name": "stderr",
     "output_type": "stream",
     "text": [
      " 94%|███████████████████████████████████████████████████████████████████████████▍    | 600/636 [06:23<00:22,  1.60it/s]"
     ]
    },
    {
     "name": "stdout",
     "output_type": "stream",
     "text": [
      "(600/636) Data: 0.016s | Batch: 0.639s | Total: 0:06:23 | ETA: 0:00:24 | Loss: 0.1435 | top1:  93.7151\n"
     ]
    },
    {
     "name": "stderr",
     "output_type": "stream",
     "text": [
      "100%|████████████████████████████████████████████████████████████████████████████████| 636/636 [06:46<00:00,  1.56it/s]\n",
      "100%|████████████████████████████████████████████████████████████████████████████████| 156/156 [00:24<00:00,  6.36it/s]\n"
     ]
    },
    {
     "name": "stdout",
     "output_type": "stream",
     "text": [
      "=> saving checkpoint 'checkpoints\\checkpoint.pth.tar'\n"
     ]
    },
    {
     "name": "stderr",
     "output_type": "stream",
     "text": [
      "  0%|                                                                                          | 0/636 [00:00<?, ?it/s]"
     ]
    },
    {
     "name": "stdout",
     "output_type": "stream",
     "text": [
      "\n",
      "Epoch: [47 | 60] LR: 0.000000\n"
     ]
    },
    {
     "name": "stderr",
     "output_type": "stream",
     "text": [
      " 16%|████████████▌                                                                   | 100/636 [01:11<05:35,  1.60it/s]"
     ]
    },
    {
     "name": "stdout",
     "output_type": "stream",
     "text": [
      "(100/636) Data: 0.093s | Batch: 0.712s | Total: 0:01:11 | ETA: 0:05:35 | Loss: 0.1433 | top1:  93.7334\n"
     ]
    },
    {
     "name": "stderr",
     "output_type": "stream",
     "text": [
      " 31%|█████████████████████████▏                                                      | 200/636 [02:13<04:32,  1.60it/s]"
     ]
    },
    {
     "name": "stdout",
     "output_type": "stream",
     "text": [
      "(200/636) Data: 0.047s | Batch: 0.668s | Total: 0:02:13 | ETA: 0:04:33 | Loss: 0.1435 | top1:  93.7102\n"
     ]
    },
    {
     "name": "stderr",
     "output_type": "stream",
     "text": [
      " 47%|█████████████████████████████████████▋                                          | 300/636 [03:15<03:29,  1.60it/s]"
     ]
    },
    {
     "name": "stdout",
     "output_type": "stream",
     "text": [
      "(300/636) Data: 0.032s | Batch: 0.653s | Total: 0:03:15 | ETA: 0:03:31 | Loss: 0.1436 | top1:  93.7018\n"
     ]
    },
    {
     "name": "stderr",
     "output_type": "stream",
     "text": [
      " 63%|██████████████████████████████████████████████████▎                             | 400/636 [04:18<02:27,  1.60it/s]"
     ]
    },
    {
     "name": "stdout",
     "output_type": "stream",
     "text": [
      "(400/636) Data: 0.024s | Batch: 0.646s | Total: 0:04:18 | ETA: 0:02:28 | Loss: 0.1435 | top1:  93.7065\n"
     ]
    },
    {
     "name": "stderr",
     "output_type": "stream",
     "text": [
      " 79%|██████████████████████████████████████████████████████████████▉                 | 500/636 [05:20<01:24,  1.60it/s]"
     ]
    },
    {
     "name": "stdout",
     "output_type": "stream",
     "text": [
      "(500/636) Data: 0.020s | Batch: 0.642s | Total: 0:05:20 | ETA: 0:01:26 | Loss: 0.1434 | top1:  93.7069\n"
     ]
    },
    {
     "name": "stderr",
     "output_type": "stream",
     "text": [
      " 94%|███████████████████████████████████████████████████████████████████████████▍    | 600/636 [06:23<00:22,  1.60it/s]"
     ]
    },
    {
     "name": "stdout",
     "output_type": "stream",
     "text": [
      "(600/636) Data: 0.017s | Batch: 0.639s | Total: 0:06:23 | ETA: 0:00:24 | Loss: 0.1434 | top1:  93.7056\n"
     ]
    },
    {
     "name": "stderr",
     "output_type": "stream",
     "text": [
      "100%|████████████████████████████████████████████████████████████████████████████████| 636/636 [06:46<00:00,  1.56it/s]\n",
      "100%|████████████████████████████████████████████████████████████████████████████████| 156/156 [00:24<00:00,  6.33it/s]\n"
     ]
    },
    {
     "name": "stdout",
     "output_type": "stream",
     "text": [
      "=> saving checkpoint 'checkpoints\\checkpoint.pth.tar'\n"
     ]
    },
    {
     "name": "stderr",
     "output_type": "stream",
     "text": [
      "  0%|                                                                                          | 0/636 [00:00<?, ?it/s]"
     ]
    },
    {
     "name": "stdout",
     "output_type": "stream",
     "text": [
      "\n",
      "Epoch: [48 | 60] LR: 0.000000\n"
     ]
    },
    {
     "name": "stderr",
     "output_type": "stream",
     "text": [
      " 16%|████████████▌                                                                   | 100/636 [01:11<05:34,  1.60it/s]"
     ]
    },
    {
     "name": "stdout",
     "output_type": "stream",
     "text": [
      "(100/636) Data: 0.092s | Batch: 0.711s | Total: 0:01:11 | ETA: 0:05:35 | Loss: 0.1435 | top1:  93.7084\n"
     ]
    },
    {
     "name": "stderr",
     "output_type": "stream",
     "text": [
      " 31%|█████████████████████████▏                                                      | 200/636 [02:13<04:31,  1.60it/s]"
     ]
    },
    {
     "name": "stdout",
     "output_type": "stream",
     "text": [
      "(200/636) Data: 0.047s | Batch: 0.668s | Total: 0:02:13 | ETA: 0:04:34 | Loss: 0.1434 | top1:  93.7149\n"
     ]
    },
    {
     "name": "stderr",
     "output_type": "stream",
     "text": [
      " 47%|█████████████████████████████████████▋                                          | 300/636 [03:15<03:29,  1.60it/s]"
     ]
    },
    {
     "name": "stdout",
     "output_type": "stream",
     "text": [
      "(300/636) Data: 0.032s | Batch: 0.653s | Total: 0:03:15 | ETA: 0:03:31 | Loss: 0.1432 | top1:  93.7151\n"
     ]
    },
    {
     "name": "stderr",
     "output_type": "stream",
     "text": [
      " 63%|██████████████████████████████████████████████████▎                             | 400/636 [04:18<02:27,  1.60it/s]"
     ]
    },
    {
     "name": "stdout",
     "output_type": "stream",
     "text": [
      "(400/636) Data: 0.024s | Batch: 0.646s | Total: 0:04:18 | ETA: 0:02:28 | Loss: 0.1433 | top1:  93.7170\n"
     ]
    },
    {
     "name": "stderr",
     "output_type": "stream",
     "text": [
      " 79%|██████████████████████████████████████████████████████████████▉                 | 500/636 [05:20<01:24,  1.61it/s]"
     ]
    },
    {
     "name": "stdout",
     "output_type": "stream",
     "text": [
      "(500/636) Data: 0.020s | Batch: 0.642s | Total: 0:05:20 | ETA: 0:01:26 | Loss: 0.1433 | top1:  93.7173\n"
     ]
    },
    {
     "name": "stderr",
     "output_type": "stream",
     "text": [
      " 94%|███████████████████████████████████████████████████████████████████████████▍    | 600/636 [06:23<00:22,  1.60it/s]"
     ]
    },
    {
     "name": "stdout",
     "output_type": "stream",
     "text": [
      "(600/636) Data: 0.017s | Batch: 0.639s | Total: 0:06:23 | ETA: 0:00:24 | Loss: 0.1433 | top1:  93.7177\n"
     ]
    },
    {
     "name": "stderr",
     "output_type": "stream",
     "text": [
      "100%|████████████████████████████████████████████████████████████████████████████████| 636/636 [06:46<00:00,  1.57it/s]\n",
      "100%|████████████████████████████████████████████████████████████████████████████████| 156/156 [00:24<00:00,  6.32it/s]\n"
     ]
    },
    {
     "name": "stdout",
     "output_type": "stream",
     "text": [
      "=> saving checkpoint 'checkpoints\\checkpoint.pth.tar'\n"
     ]
    },
    {
     "name": "stderr",
     "output_type": "stream",
     "text": [
      "  0%|                                                                                          | 0/636 [00:00<?, ?it/s]"
     ]
    },
    {
     "name": "stdout",
     "output_type": "stream",
     "text": [
      "\n",
      "Epoch: [49 | 60] LR: 0.000000\n"
     ]
    },
    {
     "name": "stderr",
     "output_type": "stream",
     "text": [
      " 16%|████████████▌                                                                   | 100/636 [01:10<05:34,  1.60it/s]"
     ]
    },
    {
     "name": "stdout",
     "output_type": "stream",
     "text": [
      "(100/636) Data: 0.093s | Batch: 0.709s | Total: 0:01:10 | ETA: 0:05:35 | Loss: 0.1440 | top1:  93.6818\n"
     ]
    },
    {
     "name": "stderr",
     "output_type": "stream",
     "text": [
      " 31%|█████████████████████████▏                                                      | 200/636 [02:13<04:31,  1.61it/s]"
     ]
    },
    {
     "name": "stdout",
     "output_type": "stream",
     "text": [
      "(200/636) Data: 0.047s | Batch: 0.666s | Total: 0:02:13 | ETA: 0:04:33 | Loss: 0.1439 | top1:  93.6964\n"
     ]
    },
    {
     "name": "stderr",
     "output_type": "stream",
     "text": [
      " 47%|█████████████████████████████████████▋                                          | 300/636 [03:15<03:29,  1.61it/s]"
     ]
    },
    {
     "name": "stdout",
     "output_type": "stream",
     "text": [
      "(300/636) Data: 0.032s | Batch: 0.652s | Total: 0:03:15 | ETA: 0:03:30 | Loss: 0.1438 | top1:  93.7142\n"
     ]
    },
    {
     "name": "stderr",
     "output_type": "stream",
     "text": [
      " 63%|██████████████████████████████████████████████████▎                             | 400/636 [04:17<02:27,  1.61it/s]"
     ]
    },
    {
     "name": "stdout",
     "output_type": "stream",
     "text": [
      "(400/636) Data: 0.024s | Batch: 0.645s | Total: 0:04:17 | ETA: 0:02:28 | Loss: 0.1437 | top1:  93.7191\n"
     ]
    },
    {
     "name": "stderr",
     "output_type": "stream",
     "text": [
      " 79%|██████████████████████████████████████████████████████████████▉                 | 500/636 [05:20<01:24,  1.61it/s]"
     ]
    },
    {
     "name": "stdout",
     "output_type": "stream",
     "text": [
      "(500/636) Data: 0.020s | Batch: 0.641s | Total: 0:05:20 | ETA: 0:01:26 | Loss: 0.1436 | top1:  93.7178\n"
     ]
    },
    {
     "name": "stderr",
     "output_type": "stream",
     "text": [
      " 94%|███████████████████████████████████████████████████████████████████████████▍    | 600/636 [06:22<00:22,  1.60it/s]"
     ]
    },
    {
     "name": "stdout",
     "output_type": "stream",
     "text": [
      "(600/636) Data: 0.017s | Batch: 0.638s | Total: 0:06:22 | ETA: 0:00:24 | Loss: 0.1434 | top1:  93.7192\n"
     ]
    },
    {
     "name": "stderr",
     "output_type": "stream",
     "text": [
      "100%|████████████████████████████████████████████████████████████████████████████████| 636/636 [06:46<00:00,  1.57it/s]\n",
      "100%|████████████████████████████████████████████████████████████████████████████████| 156/156 [00:24<00:00,  6.34it/s]\n"
     ]
    },
    {
     "name": "stdout",
     "output_type": "stream",
     "text": [
      "=> saving checkpoint 'checkpoints\\checkpoint.pth.tar'\n"
     ]
    },
    {
     "name": "stderr",
     "output_type": "stream",
     "text": [
      "  0%|                                                                                          | 0/636 [00:00<?, ?it/s]"
     ]
    },
    {
     "name": "stdout",
     "output_type": "stream",
     "text": [
      "\n",
      "Epoch: [50 | 60] LR: 0.000000\n"
     ]
    },
    {
     "name": "stderr",
     "output_type": "stream",
     "text": [
      " 16%|████████████▌                                                                   | 100/636 [01:10<05:34,  1.60it/s]"
     ]
    },
    {
     "name": "stdout",
     "output_type": "stream",
     "text": [
      "(100/636) Data: 0.089s | Batch: 0.708s | Total: 0:01:10 | ETA: 0:05:35 | Loss: 0.1432 | top1:  93.7360\n"
     ]
    },
    {
     "name": "stderr",
     "output_type": "stream",
     "text": [
      " 31%|█████████████████████████▏                                                      | 200/636 [02:13<04:31,  1.61it/s]"
     ]
    },
    {
     "name": "stdout",
     "output_type": "stream",
     "text": [
      "(200/636) Data: 0.045s | Batch: 0.666s | Total: 0:02:13 | ETA: 0:04:33 | Loss: 0.1432 | top1:  93.7203\n"
     ]
    },
    {
     "name": "stderr",
     "output_type": "stream",
     "text": [
      " 47%|█████████████████████████████████████▋                                          | 300/636 [03:15<03:30,  1.60it/s]"
     ]
    },
    {
     "name": "stdout",
     "output_type": "stream",
     "text": [
      "(300/636) Data: 0.031s | Batch: 0.652s | Total: 0:03:15 | ETA: 0:03:31 | Loss: 0.1433 | top1:  93.7226\n"
     ]
    },
    {
     "name": "stderr",
     "output_type": "stream",
     "text": [
      " 63%|██████████████████████████████████████████████████▎                             | 400/636 [04:18<02:27,  1.60it/s]"
     ]
    },
    {
     "name": "stdout",
     "output_type": "stream",
     "text": [
      "(400/636) Data: 0.023s | Batch: 0.645s | Total: 0:04:18 | ETA: 0:02:28 | Loss: 0.1434 | top1:  93.7190\n"
     ]
    },
    {
     "name": "stderr",
     "output_type": "stream",
     "text": [
      " 79%|██████████████████████████████████████████████████████████████▉                 | 500/636 [05:20<01:25,  1.60it/s]"
     ]
    },
    {
     "name": "stdout",
     "output_type": "stream",
     "text": [
      "(500/636) Data: 0.019s | Batch: 0.641s | Total: 0:05:20 | ETA: 0:01:26 | Loss: 0.1435 | top1:  93.7103\n"
     ]
    },
    {
     "name": "stderr",
     "output_type": "stream",
     "text": [
      " 94%|███████████████████████████████████████████████████████████████████████████▍    | 600/636 [06:22<00:22,  1.60it/s]"
     ]
    },
    {
     "name": "stdout",
     "output_type": "stream",
     "text": [
      "(600/636) Data: 0.016s | Batch: 0.638s | Total: 0:06:22 | ETA: 0:00:24 | Loss: 0.1434 | top1:  93.7135\n"
     ]
    },
    {
     "name": "stderr",
     "output_type": "stream",
     "text": [
      "100%|████████████████████████████████████████████████████████████████████████████████| 636/636 [06:46<00:00,  1.57it/s]\n",
      "100%|████████████████████████████████████████████████████████████████████████████████| 156/156 [00:24<00:00,  6.36it/s]\n"
     ]
    },
    {
     "name": "stdout",
     "output_type": "stream",
     "text": [
      "=> saving checkpoint 'checkpoints\\checkpoint.pth.tar'\n"
     ]
    },
    {
     "name": "stderr",
     "output_type": "stream",
     "text": [
      "  0%|                                                                                          | 0/636 [00:00<?, ?it/s]"
     ]
    },
    {
     "name": "stdout",
     "output_type": "stream",
     "text": [
      "\n",
      "Epoch: [51 | 60] LR: 0.000000\n"
     ]
    },
    {
     "name": "stderr",
     "output_type": "stream",
     "text": [
      " 16%|████████████▌                                                                   | 100/636 [01:10<05:34,  1.60it/s]"
     ]
    },
    {
     "name": "stdout",
     "output_type": "stream",
     "text": [
      "(100/636) Data: 0.089s | Batch: 0.709s | Total: 0:01:10 | ETA: 0:05:34 | Loss: 0.1436 | top1:  93.7229\n"
     ]
    },
    {
     "name": "stderr",
     "output_type": "stream",
     "text": [
      " 31%|█████████████████████████▏                                                      | 200/636 [02:13<04:32,  1.60it/s]"
     ]
    },
    {
     "name": "stdout",
     "output_type": "stream",
     "text": [
      "(200/636) Data: 0.045s | Batch: 0.666s | Total: 0:02:13 | ETA: 0:04:33 | Loss: 0.1437 | top1:  93.7058\n"
     ]
    },
    {
     "name": "stderr",
     "output_type": "stream",
     "text": [
      " 47%|█████████████████████████████████████▋                                          | 300/636 [03:15<03:29,  1.60it/s]"
     ]
    },
    {
     "name": "stdout",
     "output_type": "stream",
     "text": [
      "(300/636) Data: 0.031s | Batch: 0.652s | Total: 0:03:15 | ETA: 0:03:31 | Loss: 0.1437 | top1:  93.7023\n"
     ]
    },
    {
     "name": "stderr",
     "output_type": "stream",
     "text": [
      " 63%|██████████████████████████████████████████████████▎                             | 400/636 [04:17<02:27,  1.60it/s]"
     ]
    },
    {
     "name": "stdout",
     "output_type": "stream",
     "text": [
      "(400/636) Data: 0.023s | Batch: 0.645s | Total: 0:04:17 | ETA: 0:02:28 | Loss: 0.1437 | top1:  93.7060\n"
     ]
    },
    {
     "name": "stderr",
     "output_type": "stream",
     "text": [
      " 79%|██████████████████████████████████████████████████████████████▉                 | 500/636 [05:20<01:24,  1.60it/s]"
     ]
    },
    {
     "name": "stdout",
     "output_type": "stream",
     "text": [
      "(500/636) Data: 0.019s | Batch: 0.641s | Total: 0:05:20 | ETA: 0:01:26 | Loss: 0.1436 | top1:  93.7029\n"
     ]
    },
    {
     "name": "stderr",
     "output_type": "stream",
     "text": [
      " 94%|███████████████████████████████████████████████████████████████████████████▍    | 600/636 [06:22<00:22,  1.60it/s]"
     ]
    },
    {
     "name": "stdout",
     "output_type": "stream",
     "text": [
      "(600/636) Data: 0.016s | Batch: 0.638s | Total: 0:06:22 | ETA: 0:00:24 | Loss: 0.1435 | top1:  93.7080\n"
     ]
    },
    {
     "name": "stderr",
     "output_type": "stream",
     "text": [
      "100%|████████████████████████████████████████████████████████████████████████████████| 636/636 [06:45<00:00,  1.57it/s]\n",
      "100%|████████████████████████████████████████████████████████████████████████████████| 156/156 [00:24<00:00,  6.33it/s]\n"
     ]
    },
    {
     "name": "stdout",
     "output_type": "stream",
     "text": [
      "=> saving checkpoint 'checkpoints\\checkpoint.pth.tar'\n"
     ]
    },
    {
     "name": "stderr",
     "output_type": "stream",
     "text": [
      "  0%|                                                                                          | 0/636 [00:00<?, ?it/s]"
     ]
    },
    {
     "name": "stdout",
     "output_type": "stream",
     "text": [
      "\n",
      "Epoch: [52 | 60] LR: 0.000000\n"
     ]
    },
    {
     "name": "stderr",
     "output_type": "stream",
     "text": [
      " 16%|████████████▌                                                                   | 100/636 [01:11<05:33,  1.61it/s]"
     ]
    },
    {
     "name": "stdout",
     "output_type": "stream",
     "text": [
      "(100/636) Data: 0.094s | Batch: 0.713s | Total: 0:01:11 | ETA: 0:05:35 | Loss: 0.1440 | top1:  93.6763\n"
     ]
    },
    {
     "name": "stderr",
     "output_type": "stream",
     "text": [
      " 31%|█████████████████████████▏                                                      | 200/636 [02:13<04:31,  1.60it/s]"
     ]
    },
    {
     "name": "stdout",
     "output_type": "stream",
     "text": [
      "(200/636) Data: 0.048s | Batch: 0.668s | Total: 0:02:13 | ETA: 0:04:33 | Loss: 0.1436 | top1:  93.6874\n"
     ]
    },
    {
     "name": "stderr",
     "output_type": "stream",
     "text": [
      " 47%|█████████████████████████████████████▋                                          | 300/636 [03:16<03:29,  1.60it/s]"
     ]
    },
    {
     "name": "stdout",
     "output_type": "stream",
     "text": [
      "(300/636) Data: 0.032s | Batch: 0.653s | Total: 0:03:16 | ETA: 0:03:31 | Loss: 0.1435 | top1:  93.6976\n"
     ]
    },
    {
     "name": "stderr",
     "output_type": "stream",
     "text": [
      " 63%|██████████████████████████████████████████████████▎                             | 400/636 [04:18<02:27,  1.60it/s]"
     ]
    },
    {
     "name": "stdout",
     "output_type": "stream",
     "text": [
      "(400/636) Data: 0.025s | Batch: 0.646s | Total: 0:04:18 | ETA: 0:02:28 | Loss: 0.1435 | top1:  93.7050\n"
     ]
    },
    {
     "name": "stderr",
     "output_type": "stream",
     "text": [
      " 79%|██████████████████████████████████████████████████████████████▉                 | 500/636 [05:20<01:25,  1.60it/s]"
     ]
    },
    {
     "name": "stdout",
     "output_type": "stream",
     "text": [
      "(500/636) Data: 0.020s | Batch: 0.642s | Total: 0:05:20 | ETA: 0:01:26 | Loss: 0.1433 | top1:  93.7183\n"
     ]
    },
    {
     "name": "stderr",
     "output_type": "stream",
     "text": [
      " 94%|███████████████████████████████████████████████████████████████████████████▍    | 600/636 [06:23<00:22,  1.60it/s]"
     ]
    },
    {
     "name": "stdout",
     "output_type": "stream",
     "text": [
      "(600/636) Data: 0.017s | Batch: 0.639s | Total: 0:06:23 | ETA: 0:00:24 | Loss: 0.1434 | top1:  93.7137\n"
     ]
    },
    {
     "name": "stderr",
     "output_type": "stream",
     "text": [
      "100%|████████████████████████████████████████████████████████████████████████████████| 636/636 [06:46<00:00,  1.57it/s]\n",
      "100%|████████████████████████████████████████████████████████████████████████████████| 156/156 [00:24<00:00,  6.34it/s]\n"
     ]
    },
    {
     "name": "stdout",
     "output_type": "stream",
     "text": [
      "=> saving checkpoint 'checkpoints\\checkpoint.pth.tar'\n"
     ]
    },
    {
     "name": "stderr",
     "output_type": "stream",
     "text": [
      "  0%|                                                                                          | 0/636 [00:00<?, ?it/s]"
     ]
    },
    {
     "name": "stdout",
     "output_type": "stream",
     "text": [
      "\n",
      "Epoch: [53 | 60] LR: 0.000000\n"
     ]
    },
    {
     "name": "stderr",
     "output_type": "stream",
     "text": [
      " 16%|████████████▌                                                                   | 100/636 [01:11<05:34,  1.60it/s]"
     ]
    },
    {
     "name": "stdout",
     "output_type": "stream",
     "text": [
      "(100/636) Data: 0.094s | Batch: 0.712s | Total: 0:01:11 | ETA: 0:05:35 | Loss: 0.1436 | top1:  93.6829\n"
     ]
    },
    {
     "name": "stderr",
     "output_type": "stream",
     "text": [
      " 31%|█████████████████████████▏                                                      | 200/636 [02:13<04:31,  1.60it/s]"
     ]
    },
    {
     "name": "stdout",
     "output_type": "stream",
     "text": [
      "(200/636) Data: 0.048s | Batch: 0.668s | Total: 0:02:13 | ETA: 0:04:33 | Loss: 0.1435 | top1:  93.7054\n"
     ]
    },
    {
     "name": "stderr",
     "output_type": "stream",
     "text": [
      " 47%|█████████████████████████████████████▋                                          | 300/636 [03:15<03:29,  1.61it/s]"
     ]
    },
    {
     "name": "stdout",
     "output_type": "stream",
     "text": [
      "(300/636) Data: 0.032s | Batch: 0.653s | Total: 0:03:15 | ETA: 0:03:31 | Loss: 0.1435 | top1:  93.7075\n"
     ]
    },
    {
     "name": "stderr",
     "output_type": "stream",
     "text": [
      " 63%|██████████████████████████████████████████████████▎                             | 400/636 [04:18<02:27,  1.60it/s]"
     ]
    },
    {
     "name": "stdout",
     "output_type": "stream",
     "text": [
      "(400/636) Data: 0.025s | Batch: 0.646s | Total: 0:04:18 | ETA: 0:02:29 | Loss: 0.1433 | top1:  93.7146\n"
     ]
    },
    {
     "name": "stderr",
     "output_type": "stream",
     "text": [
      " 79%|██████████████████████████████████████████████████████████████▉                 | 500/636 [05:20<01:24,  1.61it/s]"
     ]
    },
    {
     "name": "stdout",
     "output_type": "stream",
     "text": [
      "(500/636) Data: 0.020s | Batch: 0.642s | Total: 0:05:20 | ETA: 0:01:26 | Loss: 0.1433 | top1:  93.7131\n"
     ]
    },
    {
     "name": "stderr",
     "output_type": "stream",
     "text": [
      " 94%|███████████████████████████████████████████████████████████████████████████▍    | 600/636 [06:23<00:22,  1.60it/s]"
     ]
    },
    {
     "name": "stdout",
     "output_type": "stream",
     "text": [
      "(600/636) Data: 0.017s | Batch: 0.639s | Total: 0:06:23 | ETA: 0:00:24 | Loss: 0.1434 | top1:  93.7110\n"
     ]
    },
    {
     "name": "stderr",
     "output_type": "stream",
     "text": [
      "100%|████████████████████████████████████████████████████████████████████████████████| 636/636 [06:46<00:00,  1.57it/s]\n",
      "100%|████████████████████████████████████████████████████████████████████████████████| 156/156 [00:24<00:00,  6.38it/s]\n"
     ]
    },
    {
     "name": "stdout",
     "output_type": "stream",
     "text": [
      "=> saving checkpoint 'checkpoints\\checkpoint.pth.tar'\n"
     ]
    },
    {
     "name": "stderr",
     "output_type": "stream",
     "text": [
      "  0%|                                                                                          | 0/636 [00:00<?, ?it/s]"
     ]
    },
    {
     "name": "stdout",
     "output_type": "stream",
     "text": [
      "\n",
      "Epoch: [54 | 60] LR: 0.000000\n"
     ]
    },
    {
     "name": "stderr",
     "output_type": "stream",
     "text": [
      " 16%|████████████▌                                                                   | 100/636 [01:11<05:33,  1.61it/s]"
     ]
    },
    {
     "name": "stdout",
     "output_type": "stream",
     "text": [
      "(100/636) Data: 0.095s | Batch: 0.714s | Total: 0:01:11 | ETA: 0:05:36 | Loss: 0.1433 | top1:  93.7090\n"
     ]
    },
    {
     "name": "stderr",
     "output_type": "stream",
     "text": [
      " 31%|█████████████████████████▏                                                      | 200/636 [02:13<04:32,  1.60it/s]"
     ]
    },
    {
     "name": "stdout",
     "output_type": "stream",
     "text": [
      "(200/636) Data: 0.048s | Batch: 0.669s | Total: 0:02:13 | ETA: 0:04:33 | Loss: 0.1433 | top1:  93.7069\n"
     ]
    },
    {
     "name": "stderr",
     "output_type": "stream",
     "text": [
      " 47%|█████████████████████████████████████▋                                          | 300/636 [03:16<03:29,  1.60it/s]"
     ]
    },
    {
     "name": "stdout",
     "output_type": "stream",
     "text": [
      "(300/636) Data: 0.033s | Batch: 0.654s | Total: 0:03:16 | ETA: 0:03:31 | Loss: 0.1434 | top1:  93.7084\n"
     ]
    },
    {
     "name": "stderr",
     "output_type": "stream",
     "text": [
      " 63%|██████████████████████████████████████████████████▎                             | 400/636 [04:18<02:27,  1.60it/s]"
     ]
    },
    {
     "name": "stdout",
     "output_type": "stream",
     "text": [
      "(400/636) Data: 0.025s | Batch: 0.647s | Total: 0:04:18 | ETA: 0:02:28 | Loss: 0.1435 | top1:  93.7066\n"
     ]
    },
    {
     "name": "stderr",
     "output_type": "stream",
     "text": [
      " 79%|██████████████████████████████████████████████████████████████▉                 | 500/636 [05:21<01:24,  1.60it/s]"
     ]
    },
    {
     "name": "stdout",
     "output_type": "stream",
     "text": [
      "(500/636) Data: 0.020s | Batch: 0.642s | Total: 0:05:21 | ETA: 0:01:26 | Loss: 0.1435 | top1:  93.7068\n"
     ]
    },
    {
     "name": "stderr",
     "output_type": "stream",
     "text": [
      " 94%|███████████████████████████████████████████████████████████████████████████▍    | 600/636 [06:23<00:22,  1.60it/s]"
     ]
    },
    {
     "name": "stdout",
     "output_type": "stream",
     "text": [
      "(600/636) Data: 0.017s | Batch: 0.639s | Total: 0:06:23 | ETA: 0:00:24 | Loss: 0.1434 | top1:  93.7140\n"
     ]
    },
    {
     "name": "stderr",
     "output_type": "stream",
     "text": [
      "100%|████████████████████████████████████████████████████████████████████████████████| 636/636 [06:46<00:00,  1.56it/s]\n",
      "100%|████████████████████████████████████████████████████████████████████████████████| 156/156 [00:24<00:00,  6.35it/s]\n"
     ]
    },
    {
     "name": "stdout",
     "output_type": "stream",
     "text": [
      "=> saving checkpoint 'checkpoints\\checkpoint.pth.tar'\n"
     ]
    },
    {
     "name": "stderr",
     "output_type": "stream",
     "text": [
      "  0%|                                                                                          | 0/636 [00:00<?, ?it/s]"
     ]
    },
    {
     "name": "stdout",
     "output_type": "stream",
     "text": [
      "\n",
      "Epoch: [55 | 60] LR: 0.000000\n"
     ]
    },
    {
     "name": "stderr",
     "output_type": "stream",
     "text": [
      " 16%|████████████▌                                                                   | 100/636 [01:10<05:34,  1.60it/s]"
     ]
    },
    {
     "name": "stdout",
     "output_type": "stream",
     "text": [
      "(100/636) Data: 0.089s | Batch: 0.709s | Total: 0:01:10 | ETA: 0:05:36 | Loss: 0.1439 | top1:  93.6683\n"
     ]
    },
    {
     "name": "stderr",
     "output_type": "stream",
     "text": [
      " 31%|█████████████████████████▏                                                      | 200/636 [02:13<04:32,  1.60it/s]"
     ]
    },
    {
     "name": "stdout",
     "output_type": "stream",
     "text": [
      "(200/636) Data: 0.045s | Batch: 0.666s | Total: 0:02:13 | ETA: 0:04:33 | Loss: 0.1436 | top1:  93.7001\n"
     ]
    },
    {
     "name": "stderr",
     "output_type": "stream",
     "text": [
      " 47%|█████████████████████████████████████▋                                          | 300/636 [03:15<03:29,  1.61it/s]"
     ]
    },
    {
     "name": "stdout",
     "output_type": "stream",
     "text": [
      "(300/636) Data: 0.031s | Batch: 0.652s | Total: 0:03:15 | ETA: 0:03:31 | Loss: 0.1435 | top1:  93.7091\n"
     ]
    },
    {
     "name": "stderr",
     "output_type": "stream",
     "text": [
      " 63%|██████████████████████████████████████████████████▎                             | 400/636 [04:18<02:27,  1.60it/s]"
     ]
    },
    {
     "name": "stdout",
     "output_type": "stream",
     "text": [
      "(400/636) Data: 0.023s | Batch: 0.645s | Total: 0:04:18 | ETA: 0:02:28 | Loss: 0.1435 | top1:  93.7150\n"
     ]
    },
    {
     "name": "stderr",
     "output_type": "stream",
     "text": [
      " 79%|██████████████████████████████████████████████████████████████▉                 | 500/636 [05:20<01:24,  1.60it/s]"
     ]
    },
    {
     "name": "stdout",
     "output_type": "stream",
     "text": [
      "(500/636) Data: 0.019s | Batch: 0.641s | Total: 0:05:20 | ETA: 0:01:26 | Loss: 0.1435 | top1:  93.7161\n"
     ]
    },
    {
     "name": "stderr",
     "output_type": "stream",
     "text": [
      " 94%|███████████████████████████████████████████████████████████████████████████▍    | 600/636 [06:22<00:22,  1.60it/s]"
     ]
    },
    {
     "name": "stdout",
     "output_type": "stream",
     "text": [
      "(600/636) Data: 0.016s | Batch: 0.638s | Total: 0:06:22 | ETA: 0:00:24 | Loss: 0.1435 | top1:  93.7132\n"
     ]
    },
    {
     "name": "stderr",
     "output_type": "stream",
     "text": [
      "100%|████████████████████████████████████████████████████████████████████████████████| 636/636 [06:46<00:00,  1.57it/s]\n",
      "100%|████████████████████████████████████████████████████████████████████████████████| 156/156 [00:24<00:00,  6.36it/s]\n"
     ]
    },
    {
     "name": "stdout",
     "output_type": "stream",
     "text": [
      "=> saving checkpoint 'checkpoints\\checkpoint.pth.tar'\n"
     ]
    },
    {
     "name": "stderr",
     "output_type": "stream",
     "text": [
      "  0%|                                                                                          | 0/636 [00:00<?, ?it/s]"
     ]
    },
    {
     "name": "stdout",
     "output_type": "stream",
     "text": [
      "\n",
      "Epoch: [56 | 60] LR: 0.000000\n"
     ]
    },
    {
     "name": "stderr",
     "output_type": "stream",
     "text": [
      " 16%|████████████▌                                                                   | 100/636 [01:10<05:34,  1.60it/s]"
     ]
    },
    {
     "name": "stdout",
     "output_type": "stream",
     "text": [
      "(100/636) Data: 0.090s | Batch: 0.709s | Total: 0:01:10 | ETA: 0:05:35 | Loss: 0.1436 | top1:  93.7199\n"
     ]
    },
    {
     "name": "stderr",
     "output_type": "stream",
     "text": [
      " 31%|█████████████████████████▏                                                      | 200/636 [02:13<04:32,  1.60it/s]"
     ]
    },
    {
     "name": "stdout",
     "output_type": "stream",
     "text": [
      "(200/636) Data: 0.046s | Batch: 0.667s | Total: 0:02:13 | ETA: 0:04:34 | Loss: 0.1434 | top1:  93.7208\n"
     ]
    },
    {
     "name": "stderr",
     "output_type": "stream",
     "text": [
      " 47%|█████████████████████████████████████▋                                          | 300/636 [03:15<03:29,  1.60it/s]"
     ]
    },
    {
     "name": "stdout",
     "output_type": "stream",
     "text": [
      "(300/636) Data: 0.031s | Batch: 0.653s | Total: 0:03:15 | ETA: 0:03:31 | Loss: 0.1436 | top1:  93.7152\n"
     ]
    },
    {
     "name": "stderr",
     "output_type": "stream",
     "text": [
      " 63%|██████████████████████████████████████████████████▎                             | 400/636 [04:18<02:27,  1.60it/s]"
     ]
    },
    {
     "name": "stdout",
     "output_type": "stream",
     "text": [
      "(400/636) Data: 0.024s | Batch: 0.646s | Total: 0:04:18 | ETA: 0:02:29 | Loss: 0.1435 | top1:  93.7140\n"
     ]
    },
    {
     "name": "stderr",
     "output_type": "stream",
     "text": [
      " 79%|██████████████████████████████████████████████████████████████▉                 | 500/636 [05:20<01:25,  1.60it/s]"
     ]
    },
    {
     "name": "stdout",
     "output_type": "stream",
     "text": [
      "(500/636) Data: 0.019s | Batch: 0.641s | Total: 0:05:20 | ETA: 0:01:26 | Loss: 0.1434 | top1:  93.7100\n"
     ]
    },
    {
     "name": "stderr",
     "output_type": "stream",
     "text": [
      " 94%|███████████████████████████████████████████████████████████████████████████▍    | 600/636 [06:23<00:22,  1.60it/s]"
     ]
    },
    {
     "name": "stdout",
     "output_type": "stream",
     "text": [
      "(600/636) Data: 0.016s | Batch: 0.639s | Total: 0:06:23 | ETA: 0:00:24 | Loss: 0.1435 | top1:  93.7076\n"
     ]
    },
    {
     "name": "stderr",
     "output_type": "stream",
     "text": [
      "100%|████████████████████████████████████████████████████████████████████████████████| 636/636 [06:46<00:00,  1.57it/s]\n",
      "100%|████████████████████████████████████████████████████████████████████████████████| 156/156 [00:24<00:00,  6.33it/s]\n"
     ]
    },
    {
     "name": "stdout",
     "output_type": "stream",
     "text": [
      "=> saving checkpoint 'checkpoints\\checkpoint.pth.tar'\n"
     ]
    },
    {
     "name": "stderr",
     "output_type": "stream",
     "text": [
      "  0%|                                                                                          | 0/636 [00:00<?, ?it/s]"
     ]
    },
    {
     "name": "stdout",
     "output_type": "stream",
     "text": [
      "\n",
      "Epoch: [57 | 60] LR: 0.000000\n"
     ]
    },
    {
     "name": "stderr",
     "output_type": "stream",
     "text": [
      " 16%|████████████▌                                                                   | 100/636 [01:10<05:34,  1.60it/s]"
     ]
    },
    {
     "name": "stdout",
     "output_type": "stream",
     "text": [
      "(100/636) Data: 0.090s | Batch: 0.709s | Total: 0:01:10 | ETA: 0:05:35 | Loss: 0.1434 | top1:  93.7041\n"
     ]
    },
    {
     "name": "stderr",
     "output_type": "stream",
     "text": [
      " 31%|█████████████████████████▏                                                      | 200/636 [02:13<04:32,  1.60it/s]"
     ]
    },
    {
     "name": "stdout",
     "output_type": "stream",
     "text": [
      "(200/636) Data: 0.046s | Batch: 0.666s | Total: 0:02:13 | ETA: 0:04:33 | Loss: 0.1433 | top1:  93.7162\n"
     ]
    },
    {
     "name": "stderr",
     "output_type": "stream",
     "text": [
      " 47%|█████████████████████████████████████▋                                          | 300/636 [03:15<03:30,  1.60it/s]"
     ]
    },
    {
     "name": "stdout",
     "output_type": "stream",
     "text": [
      "(300/636) Data: 0.031s | Batch: 0.652s | Total: 0:03:15 | ETA: 0:03:31 | Loss: 0.1434 | top1:  93.7148\n"
     ]
    },
    {
     "name": "stderr",
     "output_type": "stream",
     "text": [
      " 63%|██████████████████████████████████████████████████▎                             | 400/636 [04:18<02:27,  1.60it/s]"
     ]
    },
    {
     "name": "stdout",
     "output_type": "stream",
     "text": [
      "(400/636) Data: 0.024s | Batch: 0.645s | Total: 0:04:18 | ETA: 0:02:28 | Loss: 0.1435 | top1:  93.7117\n"
     ]
    },
    {
     "name": "stderr",
     "output_type": "stream",
     "text": [
      " 79%|██████████████████████████████████████████████████████████████▉                 | 500/636 [05:20<01:24,  1.60it/s]"
     ]
    },
    {
     "name": "stdout",
     "output_type": "stream",
     "text": [
      "(500/636) Data: 0.019s | Batch: 0.641s | Total: 0:05:20 | ETA: 0:01:26 | Loss: 0.1435 | top1:  93.7124\n"
     ]
    },
    {
     "name": "stderr",
     "output_type": "stream",
     "text": [
      " 94%|███████████████████████████████████████████████████████████████████████████▍    | 600/636 [06:22<00:22,  1.60it/s]"
     ]
    },
    {
     "name": "stdout",
     "output_type": "stream",
     "text": [
      "(600/636) Data: 0.016s | Batch: 0.638s | Total: 0:06:22 | ETA: 0:00:24 | Loss: 0.1435 | top1:  93.7090\n"
     ]
    },
    {
     "name": "stderr",
     "output_type": "stream",
     "text": [
      "100%|████████████████████████████████████████████████████████████████████████████████| 636/636 [06:46<00:00,  1.57it/s]\n",
      "100%|████████████████████████████████████████████████████████████████████████████████| 156/156 [00:24<00:00,  6.36it/s]\n"
     ]
    },
    {
     "name": "stdout",
     "output_type": "stream",
     "text": [
      "=> saving checkpoint 'checkpoints\\checkpoint.pth.tar'\n"
     ]
    },
    {
     "name": "stderr",
     "output_type": "stream",
     "text": [
      "  0%|                                                                                          | 0/636 [00:00<?, ?it/s]"
     ]
    },
    {
     "name": "stdout",
     "output_type": "stream",
     "text": [
      "\n",
      "Epoch: [58 | 60] LR: 0.000000\n"
     ]
    },
    {
     "name": "stderr",
     "output_type": "stream",
     "text": [
      " 16%|████████████▌                                                                   | 100/636 [01:11<05:33,  1.61it/s]"
     ]
    },
    {
     "name": "stdout",
     "output_type": "stream",
     "text": [
      "(100/636) Data: 0.091s | Batch: 0.710s | Total: 0:01:11 | ETA: 0:05:35 | Loss: 0.1436 | top1:  93.6982\n"
     ]
    },
    {
     "name": "stderr",
     "output_type": "stream",
     "text": [
      " 31%|█████████████████████████▏                                                      | 200/636 [02:13<04:32,  1.60it/s]"
     ]
    },
    {
     "name": "stdout",
     "output_type": "stream",
     "text": [
      "(200/636) Data: 0.046s | Batch: 0.667s | Total: 0:02:13 | ETA: 0:04:33 | Loss: 0.1437 | top1:  93.7129\n"
     ]
    },
    {
     "name": "stderr",
     "output_type": "stream",
     "text": [
      " 47%|█████████████████████████████████████▋                                          | 300/636 [03:15<03:29,  1.60it/s]"
     ]
    },
    {
     "name": "stdout",
     "output_type": "stream",
     "text": [
      "(300/636) Data: 0.031s | Batch: 0.653s | Total: 0:03:15 | ETA: 0:03:31 | Loss: 0.1437 | top1:  93.7044\n"
     ]
    },
    {
     "name": "stderr",
     "output_type": "stream",
     "text": [
      " 63%|██████████████████████████████████████████████████▎                             | 400/636 [04:18<02:27,  1.60it/s]"
     ]
    },
    {
     "name": "stdout",
     "output_type": "stream",
     "text": [
      "(400/636) Data: 0.024s | Batch: 0.646s | Total: 0:04:18 | ETA: 0:02:28 | Loss: 0.1436 | top1:  93.7092\n"
     ]
    },
    {
     "name": "stderr",
     "output_type": "stream",
     "text": [
      " 79%|██████████████████████████████████████████████████████████████▉                 | 500/636 [05:20<01:24,  1.60it/s]"
     ]
    },
    {
     "name": "stdout",
     "output_type": "stream",
     "text": [
      "(500/636) Data: 0.019s | Batch: 0.641s | Total: 0:05:20 | ETA: 0:01:26 | Loss: 0.1435 | top1:  93.7127\n"
     ]
    },
    {
     "name": "stderr",
     "output_type": "stream",
     "text": [
      " 94%|███████████████████████████████████████████████████████████████████████████▍    | 600/636 [06:23<00:22,  1.60it/s]"
     ]
    },
    {
     "name": "stdout",
     "output_type": "stream",
     "text": [
      "(600/636) Data: 0.016s | Batch: 0.639s | Total: 0:06:23 | ETA: 0:00:24 | Loss: 0.1434 | top1:  93.7137\n"
     ]
    },
    {
     "name": "stderr",
     "output_type": "stream",
     "text": [
      "100%|████████████████████████████████████████████████████████████████████████████████| 636/636 [06:46<00:00,  1.57it/s]\n",
      "100%|████████████████████████████████████████████████████████████████████████████████| 156/156 [00:24<00:00,  6.35it/s]\n"
     ]
    },
    {
     "name": "stdout",
     "output_type": "stream",
     "text": [
      "=> saving checkpoint 'checkpoints\\checkpoint.pth.tar'\n"
     ]
    },
    {
     "name": "stderr",
     "output_type": "stream",
     "text": [
      "  0%|                                                                                          | 0/636 [00:00<?, ?it/s]"
     ]
    },
    {
     "name": "stdout",
     "output_type": "stream",
     "text": [
      "\n",
      "Epoch: [59 | 60] LR: 0.000000\n"
     ]
    },
    {
     "name": "stderr",
     "output_type": "stream",
     "text": [
      " 16%|████████████▌                                                                   | 100/636 [01:11<05:33,  1.60it/s]"
     ]
    },
    {
     "name": "stdout",
     "output_type": "stream",
     "text": [
      "(100/636) Data: 0.095s | Batch: 0.714s | Total: 0:01:11 | ETA: 0:05:35 | Loss: 0.1435 | top1:  93.6886\n"
     ]
    },
    {
     "name": "stderr",
     "output_type": "stream",
     "text": [
      " 31%|█████████████████████████▏                                                      | 200/636 [02:13<04:31,  1.61it/s]"
     ]
    },
    {
     "name": "stdout",
     "output_type": "stream",
     "text": [
      "(200/636) Data: 0.048s | Batch: 0.669s | Total: 0:02:13 | ETA: 0:04:33 | Loss: 0.1432 | top1:  93.7149\n"
     ]
    },
    {
     "name": "stderr",
     "output_type": "stream",
     "text": [
      " 47%|█████████████████████████████████████▋                                          | 300/636 [03:16<03:29,  1.60it/s]"
     ]
    },
    {
     "name": "stdout",
     "output_type": "stream",
     "text": [
      "(300/636) Data: 0.033s | Batch: 0.654s | Total: 0:03:16 | ETA: 0:03:30 | Loss: 0.1434 | top1:  93.7034\n"
     ]
    },
    {
     "name": "stderr",
     "output_type": "stream",
     "text": [
      " 63%|██████████████████████████████████████████████████▎                             | 400/636 [04:18<02:27,  1.60it/s]"
     ]
    },
    {
     "name": "stdout",
     "output_type": "stream",
     "text": [
      "(400/636) Data: 0.025s | Batch: 0.646s | Total: 0:04:18 | ETA: 0:02:28 | Loss: 0.1433 | top1:  93.7138\n"
     ]
    },
    {
     "name": "stderr",
     "output_type": "stream",
     "text": [
      " 79%|██████████████████████████████████████████████████████████████▉                 | 500/636 [05:20<01:24,  1.60it/s]"
     ]
    },
    {
     "name": "stdout",
     "output_type": "stream",
     "text": [
      "(500/636) Data: 0.020s | Batch: 0.642s | Total: 0:05:20 | ETA: 0:01:26 | Loss: 0.1433 | top1:  93.7072\n"
     ]
    },
    {
     "name": "stderr",
     "output_type": "stream",
     "text": [
      " 94%|███████████████████████████████████████████████████████████████████████████▍    | 600/636 [06:23<00:22,  1.61it/s]"
     ]
    },
    {
     "name": "stdout",
     "output_type": "stream",
     "text": [
      "(600/636) Data: 0.017s | Batch: 0.639s | Total: 0:06:23 | ETA: 0:00:24 | Loss: 0.1434 | top1:  93.7123\n"
     ]
    },
    {
     "name": "stderr",
     "output_type": "stream",
     "text": [
      "100%|████████████████████████████████████████████████████████████████████████████████| 636/636 [06:46<00:00,  1.57it/s]\n",
      "100%|████████████████████████████████████████████████████████████████████████████████| 156/156 [00:24<00:00,  6.37it/s]\n"
     ]
    },
    {
     "name": "stdout",
     "output_type": "stream",
     "text": [
      "=> saving checkpoint 'checkpoints\\checkpoint.pth.tar'\n"
     ]
    },
    {
     "name": "stderr",
     "output_type": "stream",
     "text": [
      "  0%|                                                                                          | 0/636 [00:00<?, ?it/s]"
     ]
    },
    {
     "name": "stdout",
     "output_type": "stream",
     "text": [
      "\n",
      "Epoch: [60 | 60] LR: 0.000000\n"
     ]
    },
    {
     "name": "stderr",
     "output_type": "stream",
     "text": [
      " 16%|████████████▌                                                                   | 100/636 [01:11<05:34,  1.60it/s]"
     ]
    },
    {
     "name": "stdout",
     "output_type": "stream",
     "text": [
      "(100/636) Data: 0.092s | Batch: 0.711s | Total: 0:01:11 | ETA: 0:05:35 | Loss: 0.1429 | top1:  93.7395\n"
     ]
    },
    {
     "name": "stderr",
     "output_type": "stream",
     "text": [
      " 31%|█████████████████████████▏                                                      | 200/636 [02:13<04:31,  1.60it/s]"
     ]
    },
    {
     "name": "stdout",
     "output_type": "stream",
     "text": [
      "(200/636) Data: 0.046s | Batch: 0.668s | Total: 0:02:13 | ETA: 0:04:33 | Loss: 0.1434 | top1:  93.7171\n"
     ]
    },
    {
     "name": "stderr",
     "output_type": "stream",
     "text": [
      " 47%|█████████████████████████████████████▋                                          | 300/636 [03:15<03:30,  1.60it/s]"
     ]
    },
    {
     "name": "stdout",
     "output_type": "stream",
     "text": [
      "(300/636) Data: 0.032s | Batch: 0.653s | Total: 0:03:15 | ETA: 0:03:31 | Loss: 0.1434 | top1:  93.7224\n"
     ]
    },
    {
     "name": "stderr",
     "output_type": "stream",
     "text": [
      " 63%|██████████████████████████████████████████████████▎                             | 400/636 [04:18<02:27,  1.60it/s]"
     ]
    },
    {
     "name": "stdout",
     "output_type": "stream",
     "text": [
      "(400/636) Data: 0.024s | Batch: 0.646s | Total: 0:04:18 | ETA: 0:02:28 | Loss: 0.1436 | top1:  93.7073\n"
     ]
    },
    {
     "name": "stderr",
     "output_type": "stream",
     "text": [
      " 79%|██████████████████████████████████████████████████████████████▉                 | 500/636 [05:20<01:24,  1.60it/s]"
     ]
    },
    {
     "name": "stdout",
     "output_type": "stream",
     "text": [
      "(500/636) Data: 0.020s | Batch: 0.642s | Total: 0:05:20 | ETA: 0:01:26 | Loss: 0.1434 | top1:  93.7188\n"
     ]
    },
    {
     "name": "stderr",
     "output_type": "stream",
     "text": [
      " 94%|███████████████████████████████████████████████████████████████████████████▍    | 600/636 [06:23<00:22,  1.60it/s]"
     ]
    },
    {
     "name": "stdout",
     "output_type": "stream",
     "text": [
      "(600/636) Data: 0.017s | Batch: 0.639s | Total: 0:06:23 | ETA: 0:00:24 | Loss: 0.1435 | top1:  93.7165\n"
     ]
    },
    {
     "name": "stderr",
     "output_type": "stream",
     "text": [
      "100%|████████████████████████████████████████████████████████████████████████████████| 636/636 [06:46<00:00,  1.57it/s]\n",
      "100%|████████████████████████████████████████████████████████████████████████████████| 156/156 [00:24<00:00,  6.36it/s]\n"
     ]
    },
    {
     "name": "stdout",
     "output_type": "stream",
     "text": [
      "=> saving checkpoint 'checkpoints\\checkpoint.pth.tar'\n"
     ]
    },
    {
     "name": "stderr",
     "output_type": "stream",
     "text": [
      "The PostScript backend does not support transparency; partially transparent artists will be rendered opaque.\n",
      "The PostScript backend does not support transparency; partially transparent artists will be rendered opaque.\n"
     ]
    },
    {
>>>>>>> Stashed changes
     "name": "stdout",
     "output_type": "stream",
     "text": [
      "Best accuracy:\n",
<<<<<<< Updated upstream
      "91.88931393526624\n",
      "total time: 22436.15186047554\n"
=======
      "91.7591986691951\n"
>>>>>>> Stashed changes
     ]
    },
    {
     "data": {
<<<<<<< Updated upstream
      "image/png": "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\n",
=======
      "image/png": "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\n",
>>>>>>> Stashed changes
      "text/plain": [
       "<Figure size 432x288 with 1 Axes>"
      ]
     },
     "metadata": {
      "needs_background": "light"
     },
     "output_type": "display_data"
    }
   ],
   "source": [
    "# config.epoch = 1\n",
<<<<<<< Updated upstream
    "start_time = time.time()\n",
    "model = create_model(device)\n",
    "dataloaders, attribute_names  = load_dataloaders()\n",
    "criterion = nn.CrossEntropyLoss().to(device)\n",
    "# print(criterion)\n",
    "optimizer = torch.optim.SGD(model.parameters(), config.lr,\n",
    "                            momentum=config.momentum,\n",
    "                            weight_decay=config.weight_decay)\n",
    "# print(optimizer)\n",
=======
    "\n",
    "model = create_model(device)\n",
    "dataloaders, attribute_names  = load_dataloaders()\n",
    "criterion = nn.CrossEntropyLoss().to(device)\n",
    "optimizer = torch.optim.SGD(model.parameters(), config.lr,\n",
    "                            momentum=config.momentum,\n",
    "                            weight_decay=config.weight_decay)\n",
>>>>>>> Stashed changes
    "if config.evaluate:\n",
    "    best_prec1, _, _ = resume_checkpoint(model, optimizer, config.ckp_logger_fname, config.bestmodel_fname)\n",
    "    test_loss, prec1, top1 = validate(dataloaders['test'], model, criterion)\n",
    "    print(f\"=> Best test accuracy: {prec1}, Model val acc: {best_prec1}\")\n",
    "    print_attribute_acc(top1, attribute_names)\n",
    "else:\n",
    "    best_prec1, start_epoch, logger = resume_checkpoint(model, optimizer, config.ckp_logger_fname, config.ckp_resume)\n",
<<<<<<< Updated upstream
    "    run_name = get_run_name(model, criterion, optimizer)\n",
    "    trainer(dataloaders, model, criterion, optimizer, logger, start_epoch, best_prec1, run_name)\n",
    "end_time = time.time()\n",
    "time_taken = time.strftime(\"%H:%M:%S\", time.gmtime(end_time - start_time))\n",
    "print(f\"total time taken: {time_taken}\")"
=======
    "    trainer(dataloaders, model, criterion, optimizer, logger, start_epoch, best_prec1)"
>>>>>>> Stashed changes
   ]
  },
  {
   "cell_type": "code",
<<<<<<< Updated upstream
   "execution_count": 19,
   "metadata": {},
   "outputs": [],
   "source": [
    "# reset_gpu_cache(model,optimizer,criterion, device)"
=======
   "execution_count": 18,
   "metadata": {},
   "outputs": [
    {
     "ename": "NameError",
     "evalue": "name 'criterion' is not defined",
     "output_type": "error",
     "traceback": [
      "\u001b[1;31m---------------------------------------------------------------------------\u001b[0m",
      "\u001b[1;31mNameError\u001b[0m                                 Traceback (most recent call last)",
      "\u001b[1;32m<ipython-input-18-06e74df887ad>\u001b[0m in \u001b[0;36m<module>\u001b[1;34m\u001b[0m\n\u001b[1;32m----> 1\u001b[1;33m \u001b[0mreset_gpu_cache\u001b[0m\u001b[1;33m(\u001b[0m\u001b[0mmodel\u001b[0m\u001b[1;33m,\u001b[0m\u001b[0moptimizer\u001b[0m\u001b[1;33m,\u001b[0m\u001b[0mcriterion\u001b[0m\u001b[1;33m,\u001b[0m \u001b[0mdevice\u001b[0m\u001b[1;33m)\u001b[0m\u001b[1;33m\u001b[0m\u001b[1;33m\u001b[0m\u001b[0m\n\u001b[0m",
      "\u001b[1;32mD:\\Karyl\\Dev\\Git\\AI6126-Advanced-Computer-Vision\\project_1\\src\\utils\\train_functions.py\u001b[0m in \u001b[0;36mreset_gpu_cache\u001b[1;34m(model, optimizer, criterio, device)\u001b[0m\n\u001b[0;32m    117\u001b[0m     \u001b[1;32mif\u001b[0m \u001b[0moptimizer\u001b[0m\u001b[1;33m:\u001b[0m\u001b[1;33m\u001b[0m\u001b[1;33m\u001b[0m\u001b[0m\n\u001b[0;32m    118\u001b[0m         \u001b[0m_wipe_memory\u001b[0m\u001b[1;33m(\u001b[0m\u001b[0moptimizer\u001b[0m\u001b[1;33m,\u001b[0m \u001b[0mis_optimizer\u001b[0m\u001b[1;33m=\u001b[0m\u001b[1;32mTrue\u001b[0m\u001b[1;33m)\u001b[0m\u001b[1;33m\u001b[0m\u001b[1;33m\u001b[0m\u001b[0m\n\u001b[1;32m--> 119\u001b[1;33m     \u001b[1;32mif\u001b[0m \u001b[0mcriterion\u001b[0m\u001b[1;33m:\u001b[0m\u001b[1;33m\u001b[0m\u001b[1;33m\u001b[0m\u001b[0m\n\u001b[0m\u001b[0;32m    120\u001b[0m         \u001b[0m_wipe_memory\u001b[0m\u001b[1;33m(\u001b[0m\u001b[0mcriterion\u001b[0m\u001b[1;33m)\u001b[0m\u001b[1;33m\u001b[0m\u001b[1;33m\u001b[0m\u001b[0m\n\u001b[0;32m    121\u001b[0m \u001b[1;33m\u001b[0m\u001b[0m\n",
      "\u001b[1;31mNameError\u001b[0m: name 'criterion' is not defined"
     ]
    }
   ],
   "source": [
    "reset_gpu_cache(model,optimizer,criterion, device)"
>>>>>>> Stashed changes
   ]
  },
  {
   "cell_type": "code",
   "execution_count": 20,
   "metadata": {},
   "outputs": [
    {
     "name": "stdout",
     "output_type": "stream",
     "text": [
      "=> creating model 'FaceAttrResNet'\n",
      "Dataset sizes: {'test': 19962}\n",
      "Class Labels: 40\n",
<<<<<<< Updated upstream
      "=> resuming model: checkpoints\\checkpoint.pth.tar\n",
      "=> loading checkpoint 'checkpoints\\checkpoint.pth.tar'\n"
=======
      "=> resuming model: checkpoints/model_best.pth.tar\n",
      "=> loading checkpoint 'checkpoints/model_best.pth.tar'\n"
>>>>>>> Stashed changes
     ]
    },
    {
     "name": "stderr",
     "output_type": "stream",
     "text": [
      "  0%|                                                                                          | 0/156 [00:00<?, ?it/s]"
     ]
    },
    {
     "name": "stdout",
     "output_type": "stream",
     "text": [
<<<<<<< Updated upstream
      "=> loaded checkpoint 'checkpoints\\checkpoint.pth.tar' (epoch 60)\n"
=======
      "=> loaded checkpoint 'checkpoints/model_best.pth.tar' (epoch 31)\n"
>>>>>>> Stashed changes
     ]
    },
    {
     "name": "stderr",
     "output_type": "stream",
     "text": [
<<<<<<< Updated upstream
      "100%|████████████████████████████████████████████████████████████████████████████████| 156/156 [00:26<00:00,  5.86it/s]"
=======
      "100%|████████████████████████████████████████████████████████████████████████████████| 156/156 [00:27<00:00,  5.73it/s]"
>>>>>>> Stashed changes
     ]
    },
    {
     "name": "stdout",
     "output_type": "stream",
     "text": [
<<<<<<< Updated upstream
      "=> Best test accuracy: 91.46991782437324, Model val acc: 91.88931393526624\n",
      "5_o_Clock_Shadow: 94.76505358273371\n",
      "Arched_Eyebrows: 84.35026546623888\n",
      "Attractive: 82.76725778827183\n",
      "Bags_Under_Eyes: 85.52750221606355\n",
      "Bald: 99.0632201212822\n",
      "Bangs: 95.9673379107499\n",
      "Big_Lips: 72.29235544864956\n",
      "Big_Nose: 84.44544635035449\n",
      "Black_Hair: 89.89580201390821\n",
      "Blond_Hair: 96.02244260967787\n",
      "Blurry: 96.29295658011819\n",
      "Brown_Hair: 89.52008816063876\n",
      "Bushy_Eyebrows: 92.63600838770789\n",
      "Chubby: 95.73189057301525\n",
      "Double_Chin: 96.27291851083832\n",
      "Eyeglasses: 99.64933373409478\n",
      "Goatee: 97.53531707421224\n",
      "Gray_Hair: 98.13645923516277\n",
      "Heavy_Makeup: 91.78439032865447\n",
      "High_Cheekbones: 87.61647126335693\n",
      "Male: 98.29676385743264\n",
      "Mouth_Slightly_Open: 94.05370200558184\n",
      "Mustache: 96.99428915549896\n",
      "Narrow_Eyes: 87.47620478221977\n",
      "No_Beard: 96.23785188424779\n",
      "Oval_Face: 76.21480810564609\n",
      "Pale_Skin: 97.16962224488124\n",
      "Pointy_Nose: 77.40206391074928\n",
      "Receding_Hairline: 93.71806431533268\n",
      "Rosy_Cheeks: 95.18585309264726\n",
      "Sideburns: 97.83588815010116\n",
      "Smiling: 92.95661754816452\n",
      "Straight_Hair: 83.73409475409284\n",
      "Wavy_Hair: 84.40537020873718\n",
      "Wearing_Earrings: 90.57208696141198\n",
      "Wearing_Hat: 99.17342951913812\n",
      "Wearing_Lipstick: 94.22903514770715\n",
      "Wearing_Necklace: 87.60144270910384\n",
      "Wearing_Necktie: 96.97425104264876\n",
      "Young: 88.29275622385535\n"
=======
      "=> Best test accuracy: 91.36559460885226, Model val acc: 31\n",
      "5_o_Clock_Shadow: 94.64482514870906\n",
      "Arched_Eyebrows: 83.82927558852298\n",
      "Attractive: 82.59192464614652\n",
      "Bags_Under_Eyes: 85.4072737820389\n",
      "Bald: 98.95301072648384\n",
      "Bangs: 95.86213803097834\n",
      "Big_Lips: 72.42260292190049\n",
      "Big_Nose: 84.57068427723857\n",
      "Black_Hair: 89.83568779689588\n",
      "Blond_Hair: 96.05249971818404\n",
      "Blurry: 96.33303272785064\n",
      "Brown_Hair: 88.71355574599919\n",
      "Bushy_Eyebrows: 92.595932243033\n",
      "Chubby: 95.65674779869227\n",
      "Double_Chin: 96.42320405336912\n",
      "Eyeglasses: 99.62929566175734\n",
      "Goatee: 97.47520285414235\n",
      "Gray_Hair: 98.27171622649807\n",
      "Heavy_Makeup: 91.52890490940966\n",
      "High_Cheekbones: 87.51628089555459\n",
      "Male: 98.23164007876562\n",
      "Mouth_Slightly_Open: 93.8232641798164\n",
      "Mustache: 96.9592224853381\n",
      "Narrow_Eyes: 87.7166616472115\n",
      "No_Beard: 96.11261393213879\n",
      "Oval_Face: 76.3901412760539\n",
      "Pale_Skin: 97.30988879481366\n",
      "Pointy_Nose: 76.86103596069593\n",
      "Receding_Hairline: 93.86334032754885\n",
      "Rosy_Cheeks: 95.1307483937193\n",
      "Sideburns: 97.805831041595\n",
      "Smiling: 93.04678887979813\n",
      "Straight_Hair: 83.30828572303734\n",
      "Wavy_Hair: 83.3683999369921\n",
      "Wearing_Earrings: 90.4318204550499\n",
      "Wearing_Hat: 98.96803928073692\n",
      "Wearing_Lipstick: 94.27412081963911\n",
      "Wearing_Necklace: 87.5563570463446\n",
      "Wearing_Necktie: 96.89409875024143\n",
      "Young: 88.2576895911497\n"
>>>>>>> Stashed changes
     ]
    },
    {
     "name": "stderr",
     "output_type": "stream",
     "text": [
      "\n"
     ]
    }
   ],
   "source": [
    "config.evaluate = True\n",
    "model = create_model(device)\n",
    "dataloaders, attribute_names = load_dataloaders()\n",
    "criterion = nn.CrossEntropyLoss().to(device)\n",
<<<<<<< Updated upstream
    "best_prec1, start_epoch, logger = resume_checkpoint(model, optimizer, config.ckp_logger_fname, config.checkpoint_fname)# config.bestmodel_fname)\n",
=======
    "logger, best_prec1, start_epoch = resume_checkpoint(model, optimizer, config.ckp_logger_fname, 'checkpoints/model_best.pth.tar')\n",
>>>>>>> Stashed changes
    "\n",
    "test_loss, prec1, top1 = validate(dataloaders['test'], model, criterion)\n",
    "print(f\"=> Best test accuracy: {prec1}, Model val acc: {best_prec1}\")\n",
    "print_attribute_acc(top1, attribute_names)"
<<<<<<< Updated upstream
   ]
  },
  {
   "cell_type": "code",
   "execution_count": 21,
   "metadata": {},
   "outputs": [
    {
     "data": {
      "application/javascript": [
       "IPython.notebook.set_autosave_interval(1000)"
      ]
     },
     "metadata": {},
     "output_type": "display_data"
    },
    {
     "name": "stdout",
     "output_type": "stream",
     "text": [
      "Autosaving every 1 seconds\n"
     ]
    }
   ],
   "source": [
    "%autosave 1"
   ]
  },
  {
   "cell_type": "code",
   "execution_count": 22,
   "metadata": {},
   "outputs": [
    {
     "data": {
      "application/javascript": [
       "IPython.notebook.set_autosave_interval(120000)"
      ]
     },
     "metadata": {},
     "output_type": "display_data"
    },
    {
     "name": "stdout",
     "output_type": "stream",
     "text": [
      "Autosaving every 120 seconds\n"
     ]
    }
   ],
   "source": [
    "# %autosave 120\n",
    "time.sleep(150)\n",
    "%autosave 120"
   ]
  },
  {
   "cell_type": "code",
   "execution_count": 23,
   "metadata": {},
   "outputs": [
    {
     "name": "stdout",
     "output_type": "stream",
     "text": [
      "20201001_181901\n"
     ]
    },
    {
     "name": "stderr",
     "output_type": "stream",
     "text": [
      "[NbConvertApp] Converting notebook ai6126-project1-colab-v0.3.ipynb to html\n",
      "[NbConvertApp] Writing 847066 bytes to ai6126-project1-colab-v0.3.html\n"
     ]
    },
    {
     "name": "stdout",
     "output_type": "stream",
     "text": [
      "        1 file(s) moved.\n"
     ]
    }
   ],
   "source": [
    "from datetime import datetime\n",
    "currentDT = datetime.now().strftime(\"%Y%m%d_%H%M%S\")\n",
    "print (currentDT)\n",
    "nb_name = title + '.ipynb'\n",
    "html_name = title + '.html'\n",
    "save_name = currentDT + '_' + html_name\n",
    "!jupyter nbconvert --to html $nb_name\n",
    "!move $html_name $save_name"
   ]
  },
  {
   "cell_type": "code",
   "execution_count": 24,
   "metadata": {},
   "outputs": [
    {
     "data": {
      "text/plain": [
       "0"
      ]
     },
     "execution_count": 24,
     "metadata": {},
     "output_type": "execute_result"
    }
   ],
   "source": [
    "os.system('shutdown -h')"
=======
>>>>>>> Stashed changes
   ]
  },
  {
   "cell_type": "code",
   "execution_count": 2,
   "metadata": {},
   "outputs": [
    {
     "data": {
      "application/javascript": [
       "jupyter.notebook.save_checkpoint();"
      ],
      "text/plain": [
       "<IPython.core.display.Javascript object>"
      ]
     },
     "metadata": {},
     "output_type": "display_data"
    }
   ],
   "source": [
    "try:\n",
    "#     from IPython.display import display, Javascript\n",
    "    display(Javascript('jupyter.notebook.save_checkpoint();'))\n",
    "except:\n",
    "    print(\"save failed\")"
   ]
  },
  {
   "cell_type": "code",
   "execution_count": null,
   "metadata": {},
   "outputs": [],
   "source": [
    "import os\n",
    "os.system(\"shutdown -h\")"
   ]
  },
  {
   "cell_type": "code",
   "execution_count": null,
   "metadata": {},
   "outputs": [],
   "source": []
  }
 ],
 "metadata": {
  "colab": {
   "authorship_tag": "ABX9TyOYWQroywTLOsSvW/4lPmBg",
   "collapsed_sections": [],
   "name": "ai6126-project1-colab-v0.1.ipynb",
   "provenance": [],
   "toc_visible": true
  },
  "kernelspec": {
   "display_name": "Python 3",
   "language": "python",
   "name": "python3"
  },
  "language_info": {
   "codemirror_mode": {
    "name": "ipython",
    "version": 3
   },
   "file_extension": ".py",
   "mimetype": "text/x-python",
   "name": "python",
   "nbconvert_exporter": "python",
   "pygments_lexer": "ipython3",
   "version": "3.8.5"
  }
 },
 "nbformat": 4,
 "nbformat_minor": 4
}
